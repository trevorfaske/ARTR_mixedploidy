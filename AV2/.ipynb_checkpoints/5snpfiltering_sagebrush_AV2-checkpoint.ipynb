{
 "cells": [
  {
   "cell_type": "markdown",
   "metadata": {},
   "source": [
    "### Filtering for only *vaseyana* diploids\n",
    "\n",
    "Uses ARTR_chr.biallelic.vcf.gz to start\n",
    "\n",
    "Sample names have been extracted to subset using:   \n",
    "- zcat ARTR_chr.vcf.gz | bcftools query -l | sort > sample_index.txt"
   ]
  },
  {
   "cell_type": "code",
   "execution_count": 1,
   "metadata": {},
   "outputs": [],
   "source": [
    "import sys\n",
    "\n",
    "#sys.path.append('/home/faske/g/anaconda3/envs/py34/lib/python3.4/site-packages')\n",
    "sys.path.append('/data/gpfs/assoc/parchmanlab/tfaske/anaconda3/envs/py36/lib/python3.6/site-packages')\n",
    "sys.path.append(\"/data/gpfs/assoc/parchmanlab/tfaske/ipynb/include_utils\")\n",
    "\n",
    "import ipyparallel as ipp\n",
    "import os, time\n",
    "import include_utils as u\n",
    "import pandas as pd\n",
    "import numpy as np\n",
    "import scipy as sp\n",
    "import random\n",
    "import numbers\n",
    "import matplotlib.pyplot as plt\n",
    "import matplotlib.patches as mpatches\n",
    "import matplotlib.cm as cm\n",
    "import matplotlib.colors as mcolors\n",
    "#import vcf\n",
    "from sklearn import preprocessing\n",
    "from subprocess import Popen, PIPE, call, check_output\n",
    "import seaborn as sns\n",
    "from IPython.display import FileLink\n",
    "import urllib.request as urllib2\n",
    "import dill\n",
    "import traceback\n",
    "from pandas import Series, DataFrame\n",
    "import gzip\n",
    "import warnings\n",
    "warnings.filterwarnings('ignore',category=pd.io.pytables.PerformanceWarning)\n",
    "%config InlineBackend.figure_format = 'retina'\n",
    "from Bio import SeqIO\n",
    "#import pysam\n",
    "from collections import OrderedDict, namedtuple, Counter\n",
    "import operator\n",
    "import multiprocessing as mp\n",
    "import shutil\n",
    "import tempfile\n",
    "#from ipyparallel import Client\n",
    "import scandir\n",
    "import glob\n",
    "from Bio.SeqIO.QualityIO import FastqGeneralIterator\n",
    "import pickle\n",
    "import re\n",
    "from itertools import chain\n",
    "#import Levenshtein as lv"
   ]
  },
  {
   "cell_type": "code",
   "execution_count": 2,
   "metadata": {},
   "outputs": [],
   "source": [
    "vcfutils = \"vcfutils.pl\"\n",
    "vcftools = \"vcftools\"\n",
    "bcftools = \"bcftools\"\n",
    "bgzip = \"bgzip\"\n",
    "tabix = \"tabix\"\n",
    "java = \"java\"\n",
    "plink = \"plink --noweb\""
   ]
  },
  {
   "cell_type": "code",
   "execution_count": 3,
   "metadata": {},
   "outputs": [],
   "source": [
    "analysis_dir = \"/data/gpfs/assoc/denovo/tfaske/sagebrush/SNPcall/AV2/filtering\""
   ]
  },
  {
   "cell_type": "code",
   "execution_count": 4,
   "metadata": {},
   "outputs": [
    {
     "name": "stdout",
     "output_type": "stream",
     "text": [
      "/data/gpfs/assoc/denovo/tfaske/sagebrush/SNPcall/AV2/filtering\n"
     ]
    }
   ],
   "source": [
    "cd $analysis_dir"
   ]
  },
  {
   "cell_type": "code",
   "execution_count": 5,
   "metadata": {
    "scrolled": true
   },
   "outputs": [
    {
     "data": {
      "text/plain": [
       "'/data/gpfs/assoc/denovo/tfaske/sagebrush/SNPcall/AV2/filtering/ARTR_chr.biallelic.recode.vcf.gz'"
      ]
     },
     "execution_count": 5,
     "metadata": {},
     "output_type": "execute_result"
    }
   ],
   "source": [
    "vcf_file = os.path.join(analysis_dir, \"ARTR_chr.biallelic.recode.vcf.gz\")\n",
    "assert os.path.exists(vcf_file)\n",
    "vcf_file"
   ]
  },
  {
   "cell_type": "markdown",
   "metadata": {},
   "source": [
    "### keep only AV2 individuals"
   ]
  },
  {
   "cell_type": "code",
   "execution_count": 6,
   "metadata": {},
   "outputs": [
    {
     "data": {
      "text/html": [
       "<div>\n",
       "<style scoped>\n",
       "    .dataframe tbody tr th:only-of-type {\n",
       "        vertical-align: middle;\n",
       "    }\n",
       "\n",
       "    .dataframe tbody tr th {\n",
       "        vertical-align: top;\n",
       "    }\n",
       "\n",
       "    .dataframe thead th {\n",
       "        text-align: right;\n",
       "    }\n",
       "</style>\n",
       "<table border=\"1\" class=\"dataframe\">\n",
       "  <thead>\n",
       "    <tr style=\"text-align: right;\">\n",
       "      <th></th>\n",
       "      <th>sample</th>\n",
       "    </tr>\n",
       "  </thead>\n",
       "  <tbody>\n",
       "    <tr>\n",
       "      <th>0</th>\n",
       "      <td>AT2_BB_1</td>\n",
       "    </tr>\n",
       "    <tr>\n",
       "      <th>1</th>\n",
       "      <td>AT2_BB_10</td>\n",
       "    </tr>\n",
       "    <tr>\n",
       "      <th>2</th>\n",
       "      <td>AT2_BB_11</td>\n",
       "    </tr>\n",
       "    <tr>\n",
       "      <th>3</th>\n",
       "      <td>AT2_BB_12</td>\n",
       "    </tr>\n",
       "    <tr>\n",
       "      <th>4</th>\n",
       "      <td>AT2_BB_13</td>\n",
       "    </tr>\n",
       "  </tbody>\n",
       "</table>\n",
       "</div>"
      ],
      "text/plain": [
       "      sample\n",
       "0   AT2_BB_1\n",
       "1  AT2_BB_10\n",
       "2  AT2_BB_11\n",
       "3  AT2_BB_12\n",
       "4  AT2_BB_13"
      ]
     },
     "execution_count": 6,
     "metadata": {},
     "output_type": "execute_result"
    }
   ],
   "source": [
    "sample_names = pd.read_csv('sample_index.txt',header=None,names=['sample'])\n",
    "sample_names.head()"
   ]
  },
  {
   "cell_type": "code",
   "execution_count": 7,
   "metadata": {},
   "outputs": [],
   "source": [
    "AV2_indv = [s for s in sample_names['sample'] if 'AV2' in s]"
   ]
  },
  {
   "cell_type": "code",
   "execution_count": 10,
   "metadata": {},
   "outputs": [
    {
     "data": {
      "text/plain": [
       "(172, 'AV2_AN_1')"
      ]
     },
     "execution_count": 10,
     "metadata": {},
     "output_type": "execute_result"
    }
   ],
   "source": [
    "len(AV2_indv), AV2_indv[0]"
   ]
  },
  {
   "cell_type": "code",
   "execution_count": 11,
   "metadata": {},
   "outputs": [],
   "source": [
    "with open(os.path.join(analysis_dir, \"AV2_indv.txt\"), \"w\") as o:\n",
    "    o.write(\"INDV\\n\")\n",
    "    for elem in AV2_indv:\n",
    "        o.write(\"%s\\n\" % elem)"
   ]
  },
  {
   "cell_type": "code",
   "execution_count": null,
   "metadata": {},
   "outputs": [
    {
     "name": "stdout",
     "output_type": "stream",
     "text": [
      "\r\n",
      "VCFtools - 0.1.16\r\n",
      "(C) Adam Auton and Anthony Marcketta 2009\r\n",
      "\r\n",
      "Parameters as interpreted:\r\n",
      "\t--gzvcf /data/gpfs/assoc/denovo/tfaske/sagebrush/SNPcall/AV2/filtering/ARTR_chr.biallelic.recode.vcf.gz\r\n",
      "\t--keep /data/gpfs/assoc/denovo/tfaske/sagebrush/SNPcall/AV2/filtering/AV2_indv.txt\r\n",
      "\t--recode-INFO-all\r\n",
      "\t--out /data/gpfs/assoc/denovo/tfaske/sagebrush/SNPcall/AV2/filtering/AV2_chr.biallelic\r\n",
      "\t--recode\r\n",
      "\t--remove-filtered-all\r\n",
      "\r\n",
      "Using zlib version: 1.2.11\r\n",
      "Warning: Expected at least 2 parts in INFO entry: ID=PV4,Number=4,Type=Float,Description=\"P-values for strand bias, baseQ bias, mapQ bias and tail distance bias\">\r\n",
      "Warning: Expected at least 2 parts in INFO entry: ID=PV4,Number=4,Type=Float,Description=\"P-values for strand bias, baseQ bias, mapQ bias and tail distance bias\">\r\n",
      "Warning: Expected at least 2 parts in INFO entry: ID=DP4,Number=4,Type=Integer,Description=\"Number of high-quality ref-forward , ref-reverse, alt-forward and alt-reverse bases\">\r\n",
      "Warning: Expected at least 2 parts in INFO entry: ID=DP4,Number=4,Type=Integer,Description=\"Number of high-quality ref-forward , ref-reverse, alt-forward and alt-reverse bases\">\r\n",
      "Keeping individuals in 'keep' list\r\n",
      "After filtering, kept 172 out of 708 Individuals\r\n",
      "Outputting VCF file...\r\n"
     ]
    }
   ],
   "source": [
    "!$vcftools --gzvcf $vcf_file \\\n",
    "--remove-filtered-all \\\n",
    "--recode \\\n",
    "--recode-INFO-all \\\n",
    "--keep {os.path.join(analysis_dir, \"AV2_indv.txt\")} \\\n",
    "--out {os.path.join(analysis_dir, \"AV2_chr.biallelic\")}"
   ]
  },
  {
   "cell_type": "code",
   "execution_count": null,
   "metadata": {},
   "outputs": [],
   "source": [
    "vcf_AT2 = \"ARTR_AV2.biallelic.recode.vcf\" \n",
    "vcf_AT2_gz = \"%s.gz\" % vcf_biallelic\n",
    "!$bgzip -c $vcf_AT2 > {vcf_AT2_gz}\n",
    "!$tabix {vcf_AT2_gz}"
   ]
  },
  {
   "cell_type": "markdown",
   "metadata": {},
   "source": [
    "## Remove by MAF, missing, and thin next"
   ]
  },
  {
   "cell_type": "code",
   "execution_count": 14,
   "metadata": {},
   "outputs": [
    {
     "name": "stdout",
     "output_type": "stream",
     "text": [
      "\n",
      "VCFtools - 0.1.16\n",
      "(C) Adam Auton and Anthony Marcketta 2009\n",
      "\n",
      "Parameters as interpreted:\n",
      "\t--gzvcf ARTR_part.biallelic.recode.vcf.gz\n",
      "\t--recode-INFO-all\n",
      "\t--maf 0.01\n",
      "\t--thin 100\n",
      "\t--max-missing 0.7\n",
      "\t--out ARTR_part_miss70_thin100_MAF1\n",
      "\t--recode\n",
      "\t--remove-filtered-all\n",
      "\n",
      "Using zlib version: 1.2.11\n",
      "Warning: Expected at least 2 parts in INFO entry: ID=PV4,Number=4,Type=Float,Description=\"P-values for strand bias, baseQ bias, mapQ bias and tail distance bias\">\n",
      "Warning: Expected at least 2 parts in INFO entry: ID=PV4,Number=4,Type=Float,Description=\"P-values for strand bias, baseQ bias, mapQ bias and tail distance bias\">\n",
      "Warning: Expected at least 2 parts in INFO entry: ID=DP4,Number=4,Type=Integer,Description=\"Number of high-quality ref-forward , ref-reverse, alt-forward and alt-reverse bases\">\n",
      "Warning: Expected at least 2 parts in INFO entry: ID=DP4,Number=4,Type=Integer,Description=\"Number of high-quality ref-forward , ref-reverse, alt-forward and alt-reverse bases\">\n",
      "After filtering, kept 708 out of 708 Individuals\n",
      "Outputting VCF file...\n",
      "After filtering, kept 231798 out of a possible 1358006 Sites\n",
      "Run Time = 442.00 seconds\n"
     ]
    }
   ],
   "source": [
    "!$vcftools \\\n",
    "--max-missing 0.7 \\\n",
    "--maf 0.01 \\\n",
    "--thin 100 \\\n",
    "--remove-filtered-all \\\n",
    "--recode \\\n",
    "--recode-INFO-all \\\n",
    "--gzvcf \\\n",
    "$vcf_biallelic_gz \\\n",
    "--out $'ARTR_part_miss70_thin100_MAF1'"
   ]
  },
  {
   "cell_type": "code",
   "execution_count": 15,
   "metadata": {},
   "outputs": [],
   "source": [
    "vcf_filtered = \"ARTR_part_miss70_thin100_MAF1.recode.vcf\"\n",
    "vcf_filtered_gz = \"%s.gz\" % vcf_filtered"
   ]
  },
  {
   "cell_type": "code",
   "execution_count": 17,
   "metadata": {},
   "outputs": [],
   "source": [
    "!$bgzip -c $vcf_filtered > {vcf_filtered_gz}\n",
    "!$tabix {vcf_filtered_gz}"
   ]
  },
  {
   "cell_type": "markdown",
   "metadata": {},
   "source": [
    "# Remove bad_indv\n"
   ]
  },
  {
   "cell_type": "code",
   "execution_count": 18,
   "metadata": {},
   "outputs": [
    {
     "name": "stdout",
     "output_type": "stream",
     "text": [
      "\n",
      "VCFtools - 0.1.16\n",
      "(C) Adam Auton and Anthony Marcketta 2009\n",
      "\n",
      "Parameters as interpreted:\n",
      "\t--gzvcf ARTR_part_miss70_thin100_MAF1.recode.vcf.gz\n",
      "\t--missing-indv\n",
      "\t--out ARTR_part_miss70_thin100_MAF1.recode.vcf.gz\n",
      "\n",
      "Using zlib version: 1.2.11\n",
      "Warning: Expected at least 2 parts in INFO entry: ID=PV4,Number=4,Type=Float,Description=\"P-values for strand bias, baseQ bias, mapQ bias and tail distance bias\">\n",
      "Warning: Expected at least 2 parts in INFO entry: ID=PV4,Number=4,Type=Float,Description=\"P-values for strand bias, baseQ bias, mapQ bias and tail distance bias\">\n",
      "Warning: Expected at least 2 parts in INFO entry: ID=DP4,Number=4,Type=Integer,Description=\"Number of high-quality ref-forward , ref-reverse, alt-forward and alt-reverse bases\">\n",
      "Warning: Expected at least 2 parts in INFO entry: ID=DP4,Number=4,Type=Integer,Description=\"Number of high-quality ref-forward , ref-reverse, alt-forward and alt-reverse bases\">\n",
      "After filtering, kept 708 out of 708 Individuals\n",
      "Outputting Individual Missingness\n",
      "After filtering, kept 231798 out of a possible 231798 Sites\n",
      "Run Time = 24.00 seconds\n"
     ]
    }
   ],
   "source": [
    "!$vcftools --gzvcf $vcf_filtered_gz --out $vcf_filtered_gz --missing-indv"
   ]
  },
  {
   "cell_type": "code",
   "execution_count": 19,
   "metadata": {},
   "outputs": [],
   "source": [
    "def get_imiss(vcf_file):\n",
    "    imiss_file = !ls {vcf_file}.imiss\n",
    "    imiss_df = pd.read_csv(imiss_file[0], sep=\"\\t\")\n",
    "    imiss_df.index = imiss_df.INDV\n",
    "    return imiss_df"
   ]
  },
  {
   "cell_type": "code",
   "execution_count": 20,
   "metadata": {},
   "outputs": [
    {
     "data": {
      "text/html": [
       "<div>\n",
       "<style scoped>\n",
       "    .dataframe tbody tr th:only-of-type {\n",
       "        vertical-align: middle;\n",
       "    }\n",
       "\n",
       "    .dataframe tbody tr th {\n",
       "        vertical-align: top;\n",
       "    }\n",
       "\n",
       "    .dataframe thead th {\n",
       "        text-align: right;\n",
       "    }\n",
       "</style>\n",
       "<table border=\"1\" class=\"dataframe\">\n",
       "  <thead>\n",
       "    <tr style=\"text-align: right;\">\n",
       "      <th></th>\n",
       "      <th>INDV</th>\n",
       "      <th>N_DATA</th>\n",
       "      <th>N_GENOTYPES_FILTERED</th>\n",
       "      <th>N_MISS</th>\n",
       "      <th>F_MISS</th>\n",
       "    </tr>\n",
       "    <tr>\n",
       "      <th>INDV</th>\n",
       "      <th></th>\n",
       "      <th></th>\n",
       "      <th></th>\n",
       "      <th></th>\n",
       "      <th></th>\n",
       "    </tr>\n",
       "  </thead>\n",
       "  <tbody>\n",
       "    <tr>\n",
       "      <th>AT2_BB_1</th>\n",
       "      <td>AT2_BB_1</td>\n",
       "      <td>231798</td>\n",
       "      <td>0</td>\n",
       "      <td>0</td>\n",
       "      <td>0</td>\n",
       "    </tr>\n",
       "    <tr>\n",
       "      <th>AT2_BB_10</th>\n",
       "      <td>AT2_BB_10</td>\n",
       "      <td>231798</td>\n",
       "      <td>0</td>\n",
       "      <td>0</td>\n",
       "      <td>0</td>\n",
       "    </tr>\n",
       "    <tr>\n",
       "      <th>AT2_BB_11</th>\n",
       "      <td>AT2_BB_11</td>\n",
       "      <td>231798</td>\n",
       "      <td>0</td>\n",
       "      <td>0</td>\n",
       "      <td>0</td>\n",
       "    </tr>\n",
       "    <tr>\n",
       "      <th>AT2_BB_12</th>\n",
       "      <td>AT2_BB_12</td>\n",
       "      <td>231798</td>\n",
       "      <td>0</td>\n",
       "      <td>0</td>\n",
       "      <td>0</td>\n",
       "    </tr>\n",
       "    <tr>\n",
       "      <th>AT2_BB_13</th>\n",
       "      <td>AT2_BB_13</td>\n",
       "      <td>231798</td>\n",
       "      <td>0</td>\n",
       "      <td>0</td>\n",
       "      <td>0</td>\n",
       "    </tr>\n",
       "  </tbody>\n",
       "</table>\n",
       "</div>"
      ],
      "text/plain": [
       "                INDV  N_DATA  N_GENOTYPES_FILTERED  N_MISS  F_MISS\n",
       "INDV                                                              \n",
       "AT2_BB_1    AT2_BB_1  231798                     0       0       0\n",
       "AT2_BB_10  AT2_BB_10  231798                     0       0       0\n",
       "AT2_BB_11  AT2_BB_11  231798                     0       0       0\n",
       "AT2_BB_12  AT2_BB_12  231798                     0       0       0\n",
       "AT2_BB_13  AT2_BB_13  231798                     0       0       0"
      ]
     },
     "execution_count": 20,
     "metadata": {},
     "output_type": "execute_result"
    }
   ],
   "source": [
    "imiss_df = get_imiss(vcf_filtered_gz)\n",
    "imiss_df.head()"
   ]
  },
  {
   "cell_type": "code",
   "execution_count": 21,
   "metadata": {},
   "outputs": [
    {
     "data": {
      "text/plain": [
       "count    708.0\n",
       "mean       0.0\n",
       "std        0.0\n",
       "min        0.0\n",
       "25%        0.0\n",
       "50%        0.0\n",
       "75%        0.0\n",
       "max        0.0\n",
       "Name: F_MISS, dtype: float64"
      ]
     },
     "execution_count": 21,
     "metadata": {},
     "output_type": "execute_result"
    }
   ],
   "source": [
    "imiss_df.F_MISS.describe()"
   ]
  },
  {
   "cell_type": "code",
   "execution_count": 22,
   "metadata": {},
   "outputs": [
    {
     "data": {
      "text/plain": [
       "(708, 0, 0, 0)"
      ]
     },
     "execution_count": 22,
     "metadata": {},
     "output_type": "execute_result"
    }
   ],
   "source": [
    "len(imiss_df),len(imiss_df[imiss_df.F_MISS >= .4]),len(imiss_df[imiss_df.F_MISS >= .5]), len(imiss_df[imiss_df.F_MISS >= .25])\n"
   ]
  },
  {
   "cell_type": "code",
   "execution_count": 23,
   "metadata": {},
   "outputs": [],
   "source": [
    "bad_indv = imiss_df.INDV[imiss_df.F_MISS >= .4]"
   ]
  },
  {
   "cell_type": "code",
   "execution_count": 24,
   "metadata": {},
   "outputs": [],
   "source": [
    "with open(os.path.join(analysis_dir, \"bad_indv.txt\"), \"w\") as o:\n",
    "    o.write(\"INDV\\n\")\n",
    "    for elem in bad_indv.index:\n",
    "        o.write(\"%s\\n\" % elem)"
   ]
  },
  {
   "cell_type": "code",
   "execution_count": 25,
   "metadata": {},
   "outputs": [
    {
     "name": "stdout",
     "output_type": "stream",
     "text": [
      "\n",
      "VCFtools - 0.1.16\n",
      "(C) Adam Auton and Anthony Marcketta 2009\n",
      "\n",
      "Parameters as interpreted:\n",
      "\t--gzvcf ARTR_part_miss70_thin100_MAF1.recode.vcf.gz\n",
      "\t--remove /data/gpfs/assoc/denovo/tfaske/sagebrush/SNPcall/vcf/vcf_part/filtering/bad_indv.txt\n",
      "\t--recode-INFO-all\n",
      "\t--out /data/gpfs/assoc/denovo/tfaske/sagebrush/SNPcall/vcf/vcf_part/filtering/snps_indv_removed\n",
      "\t--recode\n",
      "\t--remove-filtered-all\n",
      "\t--remove-indels\n",
      "\n",
      "Using zlib version: 1.2.11\n",
      "Warning: Expected at least 2 parts in INFO entry: ID=PV4,Number=4,Type=Float,Description=\"P-values for strand bias, baseQ bias, mapQ bias and tail distance bias\">\n",
      "Warning: Expected at least 2 parts in INFO entry: ID=PV4,Number=4,Type=Float,Description=\"P-values for strand bias, baseQ bias, mapQ bias and tail distance bias\">\n",
      "Warning: Expected at least 2 parts in INFO entry: ID=DP4,Number=4,Type=Integer,Description=\"Number of high-quality ref-forward , ref-reverse, alt-forward and alt-reverse bases\">\n",
      "Warning: Expected at least 2 parts in INFO entry: ID=DP4,Number=4,Type=Integer,Description=\"Number of high-quality ref-forward , ref-reverse, alt-forward and alt-reverse bases\">\n",
      "Excluding individuals in 'exclude' list\n",
      "After filtering, kept 708 out of 708 Individuals\n",
      "Outputting VCF file...\n",
      "After filtering, kept 231798 out of a possible 231798 Sites\n",
      "Run Time = 323.00 seconds\n"
     ]
    }
   ],
   "source": [
    "!$vcftools --gzvcf $vcf_filtered_gz \\\n",
    "--remove-indels  \\\n",
    "--remove-filtered-all \\\n",
    "--recode \\\n",
    "--recode-INFO-all \\\n",
    "--remove {os.path.join(analysis_dir, \"bad_indv.txt\")} \\\n",
    "--out {os.path.join(analysis_dir, \"snps_indv_removed\")}"
   ]
  },
  {
   "cell_type": "code",
   "execution_count": 26,
   "metadata": {},
   "outputs": [],
   "source": [
    "vcf_bad_remove = os.path.join(analysis_dir, \"snps_indv_removed.recode.vcf\")\n",
    "vcf_bad_remove_gz = vcf_bad_remove + \".gz\"\n",
    "!$bgzip -c {vcf_bad_remove} > {vcf_bad_remove_gz}\n",
    "!$tabix {vcf_bad_remove_gz}"
   ]
  },
  {
   "cell_type": "markdown",
   "metadata": {},
   "source": [
    "# Filter snps further \n",
    "this needs to be done after removing individuals\n"
   ]
  },
  {
   "cell_type": "code",
   "execution_count": 27,
   "metadata": {},
   "outputs": [],
   "source": [
    "def get_vcf_stats(vcf_gz):\n",
    "    \n",
    "    stats = ['depth',\n",
    "            'site-depth',\n",
    "            'site-mean-depth',\n",
    "            'site-quality',\n",
    "            'missing-site',\n",
    "            'freq',\n",
    "            'counts',\n",
    "            'hardy',\n",
    "            'het']\n",
    "    \n",
    "    for stat in stats:\n",
    "        !$vcftools --gzvcf $vcf_gz \\\n",
    "        --out $vcf_gz \\\n",
    "        {\"--%s\" % stat} "
   ]
  },
  {
   "cell_type": "code",
   "execution_count": 28,
   "metadata": {},
   "outputs": [
    {
     "name": "stdout",
     "output_type": "stream",
     "text": [
      "\n",
      "VCFtools - 0.1.16\n",
      "(C) Adam Auton and Anthony Marcketta 2009\n",
      "\n",
      "Parameters as interpreted:\n",
      "\t--gzvcf /data/gpfs/assoc/denovo/tfaske/sagebrush/SNPcall/vcf/vcf_part/filtering/snps_indv_removed.recode.vcf.gz\n",
      "\t--depth\n",
      "\t--out /data/gpfs/assoc/denovo/tfaske/sagebrush/SNPcall/vcf/vcf_part/filtering/snps_indv_removed.recode.vcf.gz\n",
      "\n",
      "Using zlib version: 1.2.11\n",
      "Warning: Expected at least 2 parts in INFO entry: ID=PV4,Number=4,Type=Float,Description=\"P-values for strand bias, baseQ bias, mapQ bias and tail distance bias\">\n",
      "Warning: Expected at least 2 parts in INFO entry: ID=PV4,Number=4,Type=Float,Description=\"P-values for strand bias, baseQ bias, mapQ bias and tail distance bias\">\n",
      "Warning: Expected at least 2 parts in INFO entry: ID=DP4,Number=4,Type=Integer,Description=\"Number of high-quality ref-forward , ref-reverse, alt-forward and alt-reverse bases\">\n",
      "Warning: Expected at least 2 parts in INFO entry: ID=DP4,Number=4,Type=Integer,Description=\"Number of high-quality ref-forward , ref-reverse, alt-forward and alt-reverse bases\">\n",
      "After filtering, kept 708 out of 708 Individuals\n",
      "Outputting Mean Depth by Individual\n",
      "After filtering, kept 231798 out of a possible 231798 Sites\n",
      "Run Time = 29.00 seconds\n",
      "\n",
      "VCFtools - 0.1.16\n",
      "(C) Adam Auton and Anthony Marcketta 2009\n",
      "\n",
      "Parameters as interpreted:\n",
      "\t--gzvcf /data/gpfs/assoc/denovo/tfaske/sagebrush/SNPcall/vcf/vcf_part/filtering/snps_indv_removed.recode.vcf.gz\n",
      "\t--out /data/gpfs/assoc/denovo/tfaske/sagebrush/SNPcall/vcf/vcf_part/filtering/snps_indv_removed.recode.vcf.gz\n",
      "\t--site-depth\n",
      "\n",
      "Using zlib version: 1.2.11\n",
      "Warning: Expected at least 2 parts in INFO entry: ID=PV4,Number=4,Type=Float,Description=\"P-values for strand bias, baseQ bias, mapQ bias and tail distance bias\">\n",
      "Warning: Expected at least 2 parts in INFO entry: ID=PV4,Number=4,Type=Float,Description=\"P-values for strand bias, baseQ bias, mapQ bias and tail distance bias\">\n",
      "Warning: Expected at least 2 parts in INFO entry: ID=DP4,Number=4,Type=Integer,Description=\"Number of high-quality ref-forward , ref-reverse, alt-forward and alt-reverse bases\">\n",
      "Warning: Expected at least 2 parts in INFO entry: ID=DP4,Number=4,Type=Integer,Description=\"Number of high-quality ref-forward , ref-reverse, alt-forward and alt-reverse bases\">\n",
      "After filtering, kept 708 out of 708 Individuals\n",
      "Outputting Depth for Each Site\n",
      "After filtering, kept 231798 out of a possible 231798 Sites\n",
      "Run Time = 32.00 seconds\n",
      "\n",
      "VCFtools - 0.1.16\n",
      "(C) Adam Auton and Anthony Marcketta 2009\n",
      "\n",
      "Parameters as interpreted:\n",
      "\t--gzvcf /data/gpfs/assoc/denovo/tfaske/sagebrush/SNPcall/vcf/vcf_part/filtering/snps_indv_removed.recode.vcf.gz\n",
      "\t--out /data/gpfs/assoc/denovo/tfaske/sagebrush/SNPcall/vcf/vcf_part/filtering/snps_indv_removed.recode.vcf.gz\n",
      "\t--site-mean-depth\n",
      "\n",
      "Using zlib version: 1.2.11\n",
      "Warning: Expected at least 2 parts in INFO entry: ID=PV4,Number=4,Type=Float,Description=\"P-values for strand bias, baseQ bias, mapQ bias and tail distance bias\">\n",
      "Warning: Expected at least 2 parts in INFO entry: ID=PV4,Number=4,Type=Float,Description=\"P-values for strand bias, baseQ bias, mapQ bias and tail distance bias\">\n",
      "Warning: Expected at least 2 parts in INFO entry: ID=DP4,Number=4,Type=Integer,Description=\"Number of high-quality ref-forward , ref-reverse, alt-forward and alt-reverse bases\">\n",
      "Warning: Expected at least 2 parts in INFO entry: ID=DP4,Number=4,Type=Integer,Description=\"Number of high-quality ref-forward , ref-reverse, alt-forward and alt-reverse bases\">\n",
      "After filtering, kept 708 out of 708 Individuals\n",
      "Outputting Depth for Each Site\n",
      "After filtering, kept 231798 out of a possible 231798 Sites\n",
      "Run Time = 31.00 seconds\n",
      "\n",
      "VCFtools - 0.1.16\n",
      "(C) Adam Auton and Anthony Marcketta 2009\n",
      "\n",
      "Parameters as interpreted:\n",
      "\t--gzvcf /data/gpfs/assoc/denovo/tfaske/sagebrush/SNPcall/vcf/vcf_part/filtering/snps_indv_removed.recode.vcf.gz\n",
      "\t--out /data/gpfs/assoc/denovo/tfaske/sagebrush/SNPcall/vcf/vcf_part/filtering/snps_indv_removed.recode.vcf.gz\n",
      "\t--site-quality\n",
      "\n",
      "Using zlib version: 1.2.11\n",
      "Warning: Expected at least 2 parts in INFO entry: ID=PV4,Number=4,Type=Float,Description=\"P-values for strand bias, baseQ bias, mapQ bias and tail distance bias\">\n",
      "Warning: Expected at least 2 parts in INFO entry: ID=PV4,Number=4,Type=Float,Description=\"P-values for strand bias, baseQ bias, mapQ bias and tail distance bias\">\n",
      "Warning: Expected at least 2 parts in INFO entry: ID=DP4,Number=4,Type=Integer,Description=\"Number of high-quality ref-forward , ref-reverse, alt-forward and alt-reverse bases\">\n",
      "Warning: Expected at least 2 parts in INFO entry: ID=DP4,Number=4,Type=Integer,Description=\"Number of high-quality ref-forward , ref-reverse, alt-forward and alt-reverse bases\">\n",
      "After filtering, kept 708 out of 708 Individuals\n",
      "Outputting Quality for Each Site\n",
      "After filtering, kept 231798 out of a possible 231798 Sites\n",
      "Run Time = 11.00 seconds\n",
      "\n",
      "VCFtools - 0.1.16\n",
      "(C) Adam Auton and Anthony Marcketta 2009\n",
      "\n",
      "Parameters as interpreted:\n",
      "\t--gzvcf /data/gpfs/assoc/denovo/tfaske/sagebrush/SNPcall/vcf/vcf_part/filtering/snps_indv_removed.recode.vcf.gz\n",
      "\t--out /data/gpfs/assoc/denovo/tfaske/sagebrush/SNPcall/vcf/vcf_part/filtering/snps_indv_removed.recode.vcf.gz\n",
      "\t--missing-site\n",
      "\n",
      "Using zlib version: 1.2.11\n",
      "Warning: Expected at least 2 parts in INFO entry: ID=PV4,Number=4,Type=Float,Description=\"P-values for strand bias, baseQ bias, mapQ bias and tail distance bias\">\n",
      "Warning: Expected at least 2 parts in INFO entry: ID=PV4,Number=4,Type=Float,Description=\"P-values for strand bias, baseQ bias, mapQ bias and tail distance bias\">\n",
      "Warning: Expected at least 2 parts in INFO entry: ID=DP4,Number=4,Type=Integer,Description=\"Number of high-quality ref-forward , ref-reverse, alt-forward and alt-reverse bases\">\n",
      "Warning: Expected at least 2 parts in INFO entry: ID=DP4,Number=4,Type=Integer,Description=\"Number of high-quality ref-forward , ref-reverse, alt-forward and alt-reverse bases\">\n",
      "After filtering, kept 708 out of 708 Individuals\n",
      "Outputting Site Missingness\n",
      "After filtering, kept 231798 out of a possible 231798 Sites\n",
      "Run Time = 29.00 seconds\n",
      "\n",
      "VCFtools - 0.1.16\n",
      "(C) Adam Auton and Anthony Marcketta 2009\n",
      "\n",
      "Parameters as interpreted:\n",
      "\t--gzvcf /data/gpfs/assoc/denovo/tfaske/sagebrush/SNPcall/vcf/vcf_part/filtering/snps_indv_removed.recode.vcf.gz\n",
      "\t--freq\n",
      "\t--out /data/gpfs/assoc/denovo/tfaske/sagebrush/SNPcall/vcf/vcf_part/filtering/snps_indv_removed.recode.vcf.gz\n",
      "\n",
      "Using zlib version: 1.2.11\n",
      "Warning: Expected at least 2 parts in INFO entry: ID=PV4,Number=4,Type=Float,Description=\"P-values for strand bias, baseQ bias, mapQ bias and tail distance bias\">\n",
      "Warning: Expected at least 2 parts in INFO entry: ID=PV4,Number=4,Type=Float,Description=\"P-values for strand bias, baseQ bias, mapQ bias and tail distance bias\">\n",
      "Warning: Expected at least 2 parts in INFO entry: ID=DP4,Number=4,Type=Integer,Description=\"Number of high-quality ref-forward , ref-reverse, alt-forward and alt-reverse bases\">\n",
      "Warning: Expected at least 2 parts in INFO entry: ID=DP4,Number=4,Type=Integer,Description=\"Number of high-quality ref-forward , ref-reverse, alt-forward and alt-reverse bases\">\n",
      "After filtering, kept 708 out of 708 Individuals\n",
      "Outputting Frequency Statistics...\n",
      "After filtering, kept 231798 out of a possible 231798 Sites\n",
      "Run Time = 29.00 seconds\n",
      "\n",
      "VCFtools - 0.1.16\n",
      "(C) Adam Auton and Anthony Marcketta 2009\n",
      "\n",
      "Parameters as interpreted:\n",
      "\t--gzvcf /data/gpfs/assoc/denovo/tfaske/sagebrush/SNPcall/vcf/vcf_part/filtering/snps_indv_removed.recode.vcf.gz\n",
      "\t--counts\n",
      "\t--out /data/gpfs/assoc/denovo/tfaske/sagebrush/SNPcall/vcf/vcf_part/filtering/snps_indv_removed.recode.vcf.gz\n",
      "\n",
      "Using zlib version: 1.2.11\n",
      "Warning: Expected at least 2 parts in INFO entry: ID=PV4,Number=4,Type=Float,Description=\"P-values for strand bias, baseQ bias, mapQ bias and tail distance bias\">\n",
      "Warning: Expected at least 2 parts in INFO entry: ID=PV4,Number=4,Type=Float,Description=\"P-values for strand bias, baseQ bias, mapQ bias and tail distance bias\">\n",
      "Warning: Expected at least 2 parts in INFO entry: ID=DP4,Number=4,Type=Integer,Description=\"Number of high-quality ref-forward , ref-reverse, alt-forward and alt-reverse bases\">\n",
      "Warning: Expected at least 2 parts in INFO entry: ID=DP4,Number=4,Type=Integer,Description=\"Number of high-quality ref-forward , ref-reverse, alt-forward and alt-reverse bases\">\n",
      "After filtering, kept 708 out of 708 Individuals\n",
      "Outputting Frequency Statistics...\n"
     ]
    },
    {
     "name": "stdout",
     "output_type": "stream",
     "text": [
      "After filtering, kept 231798 out of a possible 231798 Sites\n",
      "Run Time = 26.00 seconds\n",
      "\n",
      "VCFtools - 0.1.16\n",
      "(C) Adam Auton and Anthony Marcketta 2009\n",
      "\n",
      "Parameters as interpreted:\n",
      "\t--gzvcf /data/gpfs/assoc/denovo/tfaske/sagebrush/SNPcall/vcf/vcf_part/filtering/snps_indv_removed.recode.vcf.gz\n",
      "\t--hardy\n",
      "\t--out /data/gpfs/assoc/denovo/tfaske/sagebrush/SNPcall/vcf/vcf_part/filtering/snps_indv_removed.recode.vcf.gz\n",
      "\n",
      "Using zlib version: 1.2.11\n",
      "Warning: Expected at least 2 parts in INFO entry: ID=PV4,Number=4,Type=Float,Description=\"P-values for strand bias, baseQ bias, mapQ bias and tail distance bias\">\n",
      "Warning: Expected at least 2 parts in INFO entry: ID=PV4,Number=4,Type=Float,Description=\"P-values for strand bias, baseQ bias, mapQ bias and tail distance bias\">\n",
      "Warning: Expected at least 2 parts in INFO entry: ID=DP4,Number=4,Type=Integer,Description=\"Number of high-quality ref-forward , ref-reverse, alt-forward and alt-reverse bases\">\n",
      "Warning: Expected at least 2 parts in INFO entry: ID=DP4,Number=4,Type=Integer,Description=\"Number of high-quality ref-forward , ref-reverse, alt-forward and alt-reverse bases\">\n",
      "After filtering, kept 708 out of 708 Individuals\n",
      "Outputting HWE statistics (but only for biallelic loci)\n",
      "After filtering, kept 231798 out of a possible 231798 Sites\n",
      "Run Time = 32.00 seconds\n",
      "\n",
      "VCFtools - 0.1.16\n",
      "(C) Adam Auton and Anthony Marcketta 2009\n",
      "\n",
      "Parameters as interpreted:\n",
      "\t--gzvcf /data/gpfs/assoc/denovo/tfaske/sagebrush/SNPcall/vcf/vcf_part/filtering/snps_indv_removed.recode.vcf.gz\n",
      "\t--het\n",
      "\t--out /data/gpfs/assoc/denovo/tfaske/sagebrush/SNPcall/vcf/vcf_part/filtering/snps_indv_removed.recode.vcf.gz\n",
      "\n",
      "Using zlib version: 1.2.11\n",
      "Warning: Expected at least 2 parts in INFO entry: ID=PV4,Number=4,Type=Float,Description=\"P-values for strand bias, baseQ bias, mapQ bias and tail distance bias\">\n",
      "Warning: Expected at least 2 parts in INFO entry: ID=PV4,Number=4,Type=Float,Description=\"P-values for strand bias, baseQ bias, mapQ bias and tail distance bias\">\n",
      "Warning: Expected at least 2 parts in INFO entry: ID=DP4,Number=4,Type=Integer,Description=\"Number of high-quality ref-forward , ref-reverse, alt-forward and alt-reverse bases\">\n",
      "Warning: Expected at least 2 parts in INFO entry: ID=DP4,Number=4,Type=Integer,Description=\"Number of high-quality ref-forward , ref-reverse, alt-forward and alt-reverse bases\">\n",
      "After filtering, kept 708 out of 708 Individuals\n",
      "Outputting Individual Heterozygosity\n",
      "After filtering, kept 231798 out of a possible 231798 Sites\n",
      "Run Time = 27.00 seconds\n"
     ]
    }
   ],
   "source": [
    "get_vcf_stats(vcf_bad_remove_gz)"
   ]
  },
  {
   "cell_type": "code",
   "execution_count": 29,
   "metadata": {},
   "outputs": [],
   "source": [
    "#pd.set_option('display.max_columns', 100)\n",
    "\n",
    "def get_MAF(row):\n",
    "    try:\n",
    "        return np.min([row.A1_freq, row.A2_freq])\n",
    "    except:\n",
    "        print(row)\n",
    "        \n",
    "def get_correction(n):\n",
    "    #for finite sample size\n",
    "    return (2*n)/(2*n-1)\n",
    "\n",
    "def calculate_Fis(vals):\n",
    "    try:\n",
    "        data = [float(x) for x in vals.split(\"/\")]\n",
    "        assert len(data) == 3\n",
    "        num_individuals = np.sum(data)\n",
    "        total_alleles = 2*num_individuals\n",
    "        a1_count = 2*data[0]\n",
    "        a2_count = 2*data[2]\n",
    "        het_count = data[1]\n",
    "        a1_count += het_count\n",
    "        a2_count += het_count\n",
    "        a1_freq = a1_count/total_alleles\n",
    "        a2_freq = a2_count/total_alleles\n",
    "        assert a1_freq + a2_freq == 1.0\n",
    "        He = 2 * a1_freq * a2_freq * get_correction(num_individuals)\n",
    "        Ho = het_count/num_individuals\n",
    "        Fis = 1 - (Ho/He)\n",
    "        return Fis\n",
    "    except:\n",
    "        return -9\n",
    "\n",
    "def combine_vcf_stats(filedir, prefix):\n",
    "    \n",
    "    hardy_files = !ls {filedir}/{prefix}.hwe\n",
    "    hardy = pd.read_csv(hardy_files[0], sep=\"\\t\")\n",
    "\n",
    "    hardy.columns = ['CHROM', 'POS', 'OBS(HOM1/HET/HOM2)', 'E(HOM1/HET/HOM2)', 'ChiSq_HWE',\n",
    "       'P_HWE', 'P_HET_DEFICIT', 'P_HET_EXCESS']\n",
    "    hardy.index = hardy.apply(lambda x: \"%s-%d\" % (x.CHROM, x.POS), axis=1)\n",
    "    \n",
    "    loci_files = !ls {filedir}/{prefix}.l* | grep -v log\n",
    "    loci_df = pd.concat([pd.read_csv(x, sep=\"\\t\", skiprows=0) for x in loci_files], axis=1)\n",
    "    chrom_pos = loci_df.ix[:,0:2]\n",
    "    \n",
    "    frq_files = !ls {filedir}/{prefix}.frq* | grep -v count\n",
    "    frq_data = []\n",
    "    h = open(frq_files[0])\n",
    "    header = h.readline().strip().split()\n",
    "    for line in h:\n",
    "        frq_data.append(line.strip().split('\\t'))\n",
    "\n",
    "    header = ['CHROM', 'POS', 'N_ALLELES', 'N_CHR', 'A1_FREQ', \"A2_FREQ\"]\n",
    "    frq_df = pd.DataFrame(frq_data)\n",
    "    print(frq_df.columns)\n",
    "    #frq_df = frq_df.drop([6,7],axis=1)\n",
    "    frq_df.columns = header\n",
    "    frq_df.index = frq_df.apply(lambda x: \"%s-%s\" % (x.CHROM, x.POS), axis=1)\n",
    "    \n",
    "    loci_df = loci_df.drop(['CHROM','CHR','POS'], axis=1)\n",
    "    loci_df = pd.concat([chrom_pos, loci_df], axis=1)\n",
    "    loci_df.index = loci_df.apply(lambda x: \"%s-%d\" % (x.CHROM, x.POS), axis=1)\n",
    "    \n",
    "    loci_df = pd.concat([loci_df, frq_df, hardy], axis=1)\n",
    "    loci_df[\"A1_allele\"] = loci_df.apply(lambda row: row.A1_FREQ.split(\":\")[0], axis=1)\n",
    "    loci_df[\"A2_allele\"] = loci_df.apply(lambda row: row.A2_FREQ.split(\":\")[0], axis=1)\n",
    "    \n",
    "    loci_df[\"A1_freq\"] = loci_df.apply(lambda row: float(row.A1_FREQ.split(\":\")[1]), axis=1)\n",
    "    loci_df[\"A2_freq\"] = loci_df.apply(lambda row: float(row.A2_FREQ.split(\":\")[1]), axis=1)\n",
    "    \n",
    "    loci_df['MAF'] = loci_df.apply(get_MAF, axis=1)\n",
    "    loci_df = loci_df.drop(['CHROM', 'POS'], axis=1)\n",
    "    \n",
    "    loci_df['Fis'] = loci_df['OBS(HOM1/HET/HOM2)'].apply(calculate_Fis)\n",
    "    \n",
    "    return loci_df, frq_df, hardy"
   ]
  },
  {
   "cell_type": "code",
   "execution_count": 30,
   "metadata": {},
   "outputs": [
    {
     "data": {
      "text/plain": [
       "'/data/gpfs/assoc/denovo/tfaske/sagebrush/SNPcall/vcf/vcf_part/filtering/snps_indv_removed.recode.vcf.gz'"
      ]
     },
     "execution_count": 30,
     "metadata": {},
     "output_type": "execute_result"
    }
   ],
   "source": [
    "vcf_bad_remove_gz"
   ]
  },
  {
   "cell_type": "code",
   "execution_count": 31,
   "metadata": {
    "scrolled": true
   },
   "outputs": [
    {
     "name": "stderr",
     "output_type": "stream",
     "text": [
      "/data/gpfs/assoc/parchmanlab/tfaske/anaconda3/envs/py36/lib/python3.6/site-packages/ipykernel_launcher.py:45: FutureWarning: \n",
      ".ix is deprecated. Please use\n",
      ".loc for label based indexing or\n",
      ".iloc for positional indexing\n",
      "\n",
      "See the documentation here:\n",
      "http://pandas.pydata.org/pandas-docs/stable/user_guide/indexing.html#ix-indexer-is-deprecated\n",
      "/data/gpfs/assoc/parchmanlab/tfaske/anaconda3/envs/py36/lib/python3.6/site-packages/pandas/core/indexing.py:822: FutureWarning: \n",
      ".ix is deprecated. Please use\n",
      ".loc for label based indexing or\n",
      ".iloc for positional indexing\n",
      "\n",
      "See the documentation here:\n",
      "http://pandas.pydata.org/pandas-docs/stable/user_guide/indexing.html#ix-indexer-is-deprecated\n",
      "  retval = getattr(retval, self.name)._getitem_axis(key, axis=i)\n"
     ]
    },
    {
     "name": "stdout",
     "output_type": "stream",
     "text": [
      "RangeIndex(start=0, stop=6, step=1)\n"
     ]
    }
   ],
   "source": [
    "loci_df, frq_df, hardy = combine_vcf_stats(analysis_dir,'snps_indv_removed.recode.vcf.gz')"
   ]
  },
  {
   "cell_type": "code",
   "execution_count": 32,
   "metadata": {},
   "outputs": [
    {
     "data": {
      "text/html": [
       "<div>\n",
       "<style scoped>\n",
       "    .dataframe tbody tr th:only-of-type {\n",
       "        vertical-align: middle;\n",
       "    }\n",
       "\n",
       "    .dataframe tbody tr th {\n",
       "        vertical-align: top;\n",
       "    }\n",
       "\n",
       "    .dataframe thead th {\n",
       "        text-align: right;\n",
       "    }\n",
       "</style>\n",
       "<table border=\"1\" class=\"dataframe\">\n",
       "  <thead>\n",
       "    <tr style=\"text-align: right;\">\n",
       "      <th></th>\n",
       "      <th>SUM_DEPTH</th>\n",
       "      <th>SUMSQ_DEPTH</th>\n",
       "      <th>MEAN_DEPTH</th>\n",
       "      <th>VAR_DEPTH</th>\n",
       "      <th>N_DATA</th>\n",
       "      <th>N_GENOTYPE_FILTERED</th>\n",
       "      <th>N_MISS</th>\n",
       "      <th>F_MISS</th>\n",
       "      <th>QUAL</th>\n",
       "      <th>N_ALLELES</th>\n",
       "      <th>...</th>\n",
       "      <th>ChiSq_HWE</th>\n",
       "      <th>P_HWE</th>\n",
       "      <th>P_HET_DEFICIT</th>\n",
       "      <th>P_HET_EXCESS</th>\n",
       "      <th>A1_allele</th>\n",
       "      <th>A2_allele</th>\n",
       "      <th>A1_freq</th>\n",
       "      <th>A2_freq</th>\n",
       "      <th>MAF</th>\n",
       "      <th>Fis</th>\n",
       "    </tr>\n",
       "  </thead>\n",
       "  <tbody>\n",
       "    <tr>\n",
       "      <th>CM042342.1-10659</th>\n",
       "      <td>6</td>\n",
       "      <td>18</td>\n",
       "      <td>0.008475</td>\n",
       "      <td>0.025388</td>\n",
       "      <td>1416</td>\n",
       "      <td>0</td>\n",
       "      <td>0</td>\n",
       "      <td>0</td>\n",
       "      <td>53.64810</td>\n",
       "      <td>2</td>\n",
       "      <td>...</td>\n",
       "      <td>696.0564</td>\n",
       "      <td>8.368194e-205</td>\n",
       "      <td>1.0</td>\n",
       "      <td>7.747983e-205</td>\n",
       "      <td>C</td>\n",
       "      <td>T</td>\n",
       "      <td>0.500706</td>\n",
       "      <td>0.499294</td>\n",
       "      <td>0.499294</td>\n",
       "      <td>-0.990123</td>\n",
       "    </tr>\n",
       "    <tr>\n",
       "      <th>CM042342.1-35134</th>\n",
       "      <td>1</td>\n",
       "      <td>1</td>\n",
       "      <td>0.001412</td>\n",
       "      <td>0.001412</td>\n",
       "      <td>1416</td>\n",
       "      <td>0</td>\n",
       "      <td>0</td>\n",
       "      <td>0</td>\n",
       "      <td>5.49146</td>\n",
       "      <td>2</td>\n",
       "      <td>...</td>\n",
       "      <td>708.0000</td>\n",
       "      <td>3.607932e-212</td>\n",
       "      <td>1.0</td>\n",
       "      <td>3.502929e-212</td>\n",
       "      <td>A</td>\n",
       "      <td>C</td>\n",
       "      <td>0.500000</td>\n",
       "      <td>0.500000</td>\n",
       "      <td>0.500000</td>\n",
       "      <td>-0.998588</td>\n",
       "    </tr>\n",
       "    <tr>\n",
       "      <th>CM042342.1-49498</th>\n",
       "      <td>1</td>\n",
       "      <td>1</td>\n",
       "      <td>0.001412</td>\n",
       "      <td>0.001412</td>\n",
       "      <td>1416</td>\n",
       "      <td>0</td>\n",
       "      <td>0</td>\n",
       "      <td>0</td>\n",
       "      <td>7.01028</td>\n",
       "      <td>2</td>\n",
       "      <td>...</td>\n",
       "      <td>708.0000</td>\n",
       "      <td>3.607932e-212</td>\n",
       "      <td>1.0</td>\n",
       "      <td>3.502929e-212</td>\n",
       "      <td>C</td>\n",
       "      <td>T</td>\n",
       "      <td>0.500000</td>\n",
       "      <td>0.500000</td>\n",
       "      <td>0.500000</td>\n",
       "      <td>-0.998588</td>\n",
       "    </tr>\n",
       "    <tr>\n",
       "      <th>CM042342.1-135709</th>\n",
       "      <td>2</td>\n",
       "      <td>4</td>\n",
       "      <td>0.002825</td>\n",
       "      <td>0.005650</td>\n",
       "      <td>1416</td>\n",
       "      <td>0</td>\n",
       "      <td>0</td>\n",
       "      <td>0</td>\n",
       "      <td>34.79350</td>\n",
       "      <td>2</td>\n",
       "      <td>...</td>\n",
       "      <td>704.0113</td>\n",
       "      <td>1.316235e-209</td>\n",
       "      <td>1.0</td>\n",
       "      <td>1.241788e-209</td>\n",
       "      <td>A</td>\n",
       "      <td>C</td>\n",
       "      <td>0.499294</td>\n",
       "      <td>0.500706</td>\n",
       "      <td>0.499294</td>\n",
       "      <td>-0.995769</td>\n",
       "    </tr>\n",
       "    <tr>\n",
       "      <th>CM042342.1-140200</th>\n",
       "      <td>4</td>\n",
       "      <td>16</td>\n",
       "      <td>0.005650</td>\n",
       "      <td>0.022599</td>\n",
       "      <td>1416</td>\n",
       "      <td>0</td>\n",
       "      <td>0</td>\n",
       "      <td>0</td>\n",
       "      <td>73.54090</td>\n",
       "      <td>2</td>\n",
       "      <td>...</td>\n",
       "      <td>704.0113</td>\n",
       "      <td>1.316235e-209</td>\n",
       "      <td>1.0</td>\n",
       "      <td>1.241788e-209</td>\n",
       "      <td>T</td>\n",
       "      <td>A</td>\n",
       "      <td>0.499294</td>\n",
       "      <td>0.500706</td>\n",
       "      <td>0.499294</td>\n",
       "      <td>-0.995769</td>\n",
       "    </tr>\n",
       "    <tr>\n",
       "      <th>...</th>\n",
       "      <td>...</td>\n",
       "      <td>...</td>\n",
       "      <td>...</td>\n",
       "      <td>...</td>\n",
       "      <td>...</td>\n",
       "      <td>...</td>\n",
       "      <td>...</td>\n",
       "      <td>...</td>\n",
       "      <td>...</td>\n",
       "      <td>...</td>\n",
       "      <td>...</td>\n",
       "      <td>...</td>\n",
       "      <td>...</td>\n",
       "      <td>...</td>\n",
       "      <td>...</td>\n",
       "      <td>...</td>\n",
       "      <td>...</td>\n",
       "      <td>...</td>\n",
       "      <td>...</td>\n",
       "      <td>...</td>\n",
       "      <td>...</td>\n",
       "    </tr>\n",
       "    <tr>\n",
       "      <th>CM042346.1-338263844</th>\n",
       "      <td>2</td>\n",
       "      <td>4</td>\n",
       "      <td>0.002825</td>\n",
       "      <td>0.005650</td>\n",
       "      <td>1416</td>\n",
       "      <td>0</td>\n",
       "      <td>0</td>\n",
       "      <td>0</td>\n",
       "      <td>35.79330</td>\n",
       "      <td>2</td>\n",
       "      <td>...</td>\n",
       "      <td>704.0113</td>\n",
       "      <td>1.316235e-209</td>\n",
       "      <td>1.0</td>\n",
       "      <td>1.241788e-209</td>\n",
       "      <td>T</td>\n",
       "      <td>C</td>\n",
       "      <td>0.499294</td>\n",
       "      <td>0.500706</td>\n",
       "      <td>0.499294</td>\n",
       "      <td>-0.995769</td>\n",
       "    </tr>\n",
       "    <tr>\n",
       "      <th>CM042346.1-338268601</th>\n",
       "      <td>3</td>\n",
       "      <td>9</td>\n",
       "      <td>0.004237</td>\n",
       "      <td>0.012712</td>\n",
       "      <td>1416</td>\n",
       "      <td>0</td>\n",
       "      <td>0</td>\n",
       "      <td>0</td>\n",
       "      <td>54.99990</td>\n",
       "      <td>2</td>\n",
       "      <td>...</td>\n",
       "      <td>704.0113</td>\n",
       "      <td>1.316235e-209</td>\n",
       "      <td>1.0</td>\n",
       "      <td>1.241788e-209</td>\n",
       "      <td>A</td>\n",
       "      <td>G</td>\n",
       "      <td>0.499294</td>\n",
       "      <td>0.500706</td>\n",
       "      <td>0.499294</td>\n",
       "      <td>-0.995769</td>\n",
       "    </tr>\n",
       "    <tr>\n",
       "      <th>CM042346.1-338274068</th>\n",
       "      <td>1</td>\n",
       "      <td>1</td>\n",
       "      <td>0.001412</td>\n",
       "      <td>0.001412</td>\n",
       "      <td>1416</td>\n",
       "      <td>0</td>\n",
       "      <td>0</td>\n",
       "      <td>0</td>\n",
       "      <td>7.82756</td>\n",
       "      <td>2</td>\n",
       "      <td>...</td>\n",
       "      <td>708.0000</td>\n",
       "      <td>3.607932e-212</td>\n",
       "      <td>1.0</td>\n",
       "      <td>3.502929e-212</td>\n",
       "      <td>G</td>\n",
       "      <td>T</td>\n",
       "      <td>0.500000</td>\n",
       "      <td>0.500000</td>\n",
       "      <td>0.500000</td>\n",
       "      <td>-0.998588</td>\n",
       "    </tr>\n",
       "    <tr>\n",
       "      <th>CM042346.1-338287589</th>\n",
       "      <td>1</td>\n",
       "      <td>1</td>\n",
       "      <td>0.001412</td>\n",
       "      <td>0.001412</td>\n",
       "      <td>1416</td>\n",
       "      <td>0</td>\n",
       "      <td>0</td>\n",
       "      <td>0</td>\n",
       "      <td>5.49146</td>\n",
       "      <td>2</td>\n",
       "      <td>...</td>\n",
       "      <td>708.0000</td>\n",
       "      <td>3.607932e-212</td>\n",
       "      <td>1.0</td>\n",
       "      <td>3.502929e-212</td>\n",
       "      <td>G</td>\n",
       "      <td>A</td>\n",
       "      <td>0.500000</td>\n",
       "      <td>0.500000</td>\n",
       "      <td>0.500000</td>\n",
       "      <td>-0.998588</td>\n",
       "    </tr>\n",
       "    <tr>\n",
       "      <th>CM042346.1-338287789</th>\n",
       "      <td>1</td>\n",
       "      <td>1</td>\n",
       "      <td>0.001412</td>\n",
       "      <td>0.001412</td>\n",
       "      <td>1416</td>\n",
       "      <td>0</td>\n",
       "      <td>0</td>\n",
       "      <td>0</td>\n",
       "      <td>7.01028</td>\n",
       "      <td>2</td>\n",
       "      <td>...</td>\n",
       "      <td>708.0000</td>\n",
       "      <td>3.607932e-212</td>\n",
       "      <td>1.0</td>\n",
       "      <td>3.502929e-212</td>\n",
       "      <td>G</td>\n",
       "      <td>A</td>\n",
       "      <td>0.500000</td>\n",
       "      <td>0.500000</td>\n",
       "      <td>0.500000</td>\n",
       "      <td>-0.998588</td>\n",
       "    </tr>\n",
       "  </tbody>\n",
       "</table>\n",
       "<p>231798 rows × 25 columns</p>\n",
       "</div>"
      ],
      "text/plain": [
       "                      SUM_DEPTH  SUMSQ_DEPTH  MEAN_DEPTH  VAR_DEPTH  N_DATA  \\\n",
       "CM042342.1-10659              6           18    0.008475   0.025388    1416   \n",
       "CM042342.1-35134              1            1    0.001412   0.001412    1416   \n",
       "CM042342.1-49498              1            1    0.001412   0.001412    1416   \n",
       "CM042342.1-135709             2            4    0.002825   0.005650    1416   \n",
       "CM042342.1-140200             4           16    0.005650   0.022599    1416   \n",
       "...                         ...          ...         ...        ...     ...   \n",
       "CM042346.1-338263844          2            4    0.002825   0.005650    1416   \n",
       "CM042346.1-338268601          3            9    0.004237   0.012712    1416   \n",
       "CM042346.1-338274068          1            1    0.001412   0.001412    1416   \n",
       "CM042346.1-338287589          1            1    0.001412   0.001412    1416   \n",
       "CM042346.1-338287789          1            1    0.001412   0.001412    1416   \n",
       "\n",
       "                      N_GENOTYPE_FILTERED  N_MISS  F_MISS      QUAL N_ALLELES  \\\n",
       "CM042342.1-10659                        0       0       0  53.64810         2   \n",
       "CM042342.1-35134                        0       0       0   5.49146         2   \n",
       "CM042342.1-49498                        0       0       0   7.01028         2   \n",
       "CM042342.1-135709                       0       0       0  34.79350         2   \n",
       "CM042342.1-140200                       0       0       0  73.54090         2   \n",
       "...                                   ...     ...     ...       ...       ...   \n",
       "CM042346.1-338263844                    0       0       0  35.79330         2   \n",
       "CM042346.1-338268601                    0       0       0  54.99990         2   \n",
       "CM042346.1-338274068                    0       0       0   7.82756         2   \n",
       "CM042346.1-338287589                    0       0       0   5.49146         2   \n",
       "CM042346.1-338287789                    0       0       0   7.01028         2   \n",
       "\n",
       "                      ... ChiSq_HWE          P_HWE P_HET_DEFICIT  \\\n",
       "CM042342.1-10659      ...  696.0564  8.368194e-205           1.0   \n",
       "CM042342.1-35134      ...  708.0000  3.607932e-212           1.0   \n",
       "CM042342.1-49498      ...  708.0000  3.607932e-212           1.0   \n",
       "CM042342.1-135709     ...  704.0113  1.316235e-209           1.0   \n",
       "CM042342.1-140200     ...  704.0113  1.316235e-209           1.0   \n",
       "...                   ...       ...            ...           ...   \n",
       "CM042346.1-338263844  ...  704.0113  1.316235e-209           1.0   \n",
       "CM042346.1-338268601  ...  704.0113  1.316235e-209           1.0   \n",
       "CM042346.1-338274068  ...  708.0000  3.607932e-212           1.0   \n",
       "CM042346.1-338287589  ...  708.0000  3.607932e-212           1.0   \n",
       "CM042346.1-338287789  ...  708.0000  3.607932e-212           1.0   \n",
       "\n",
       "                       P_HET_EXCESS A1_allele  A2_allele   A1_freq   A2_freq  \\\n",
       "CM042342.1-10659      7.747983e-205         C          T  0.500706  0.499294   \n",
       "CM042342.1-35134      3.502929e-212         A          C  0.500000  0.500000   \n",
       "CM042342.1-49498      3.502929e-212         C          T  0.500000  0.500000   \n",
       "CM042342.1-135709     1.241788e-209         A          C  0.499294  0.500706   \n",
       "CM042342.1-140200     1.241788e-209         T          A  0.499294  0.500706   \n",
       "...                             ...       ...        ...       ...       ...   \n",
       "CM042346.1-338263844  1.241788e-209         T          C  0.499294  0.500706   \n",
       "CM042346.1-338268601  1.241788e-209         A          G  0.499294  0.500706   \n",
       "CM042346.1-338274068  3.502929e-212         G          T  0.500000  0.500000   \n",
       "CM042346.1-338287589  3.502929e-212         G          A  0.500000  0.500000   \n",
       "CM042346.1-338287789  3.502929e-212         G          A  0.500000  0.500000   \n",
       "\n",
       "                           MAF       Fis  \n",
       "CM042342.1-10659      0.499294 -0.990123  \n",
       "CM042342.1-35134      0.500000 -0.998588  \n",
       "CM042342.1-49498      0.500000 -0.998588  \n",
       "CM042342.1-135709     0.499294 -0.995769  \n",
       "CM042342.1-140200     0.499294 -0.995769  \n",
       "...                        ...       ...  \n",
       "CM042346.1-338263844  0.499294 -0.995769  \n",
       "CM042346.1-338268601  0.499294 -0.995769  \n",
       "CM042346.1-338274068  0.500000 -0.998588  \n",
       "CM042346.1-338287589  0.500000 -0.998588  \n",
       "CM042346.1-338287789  0.500000 -0.998588  \n",
       "\n",
       "[231798 rows x 25 columns]"
      ]
     },
     "execution_count": 32,
     "metadata": {},
     "output_type": "execute_result"
    }
   ],
   "source": [
    "loci_df"
   ]
  },
  {
   "cell_type": "code",
   "execution_count": 33,
   "metadata": {},
   "outputs": [
    {
     "data": {
      "text/html": [
       "<div>\n",
       "<style scoped>\n",
       "    .dataframe tbody tr th:only-of-type {\n",
       "        vertical-align: middle;\n",
       "    }\n",
       "\n",
       "    .dataframe tbody tr th {\n",
       "        vertical-align: top;\n",
       "    }\n",
       "\n",
       "    .dataframe thead th {\n",
       "        text-align: right;\n",
       "    }\n",
       "</style>\n",
       "<table border=\"1\" class=\"dataframe\">\n",
       "  <thead>\n",
       "    <tr style=\"text-align: right;\">\n",
       "      <th></th>\n",
       "      <th>CHROM</th>\n",
       "      <th>POS</th>\n",
       "      <th>N_ALLELES</th>\n",
       "      <th>N_CHR</th>\n",
       "      <th>A1_FREQ</th>\n",
       "      <th>A2_FREQ</th>\n",
       "    </tr>\n",
       "  </thead>\n",
       "  <tbody>\n",
       "    <tr>\n",
       "      <th>CM042342.1-10659</th>\n",
       "      <td>CM042342.1</td>\n",
       "      <td>10659</td>\n",
       "      <td>2</td>\n",
       "      <td>1416</td>\n",
       "      <td>C:0.500706</td>\n",
       "      <td>T:0.499294</td>\n",
       "    </tr>\n",
       "    <tr>\n",
       "      <th>CM042342.1-35134</th>\n",
       "      <td>CM042342.1</td>\n",
       "      <td>35134</td>\n",
       "      <td>2</td>\n",
       "      <td>1416</td>\n",
       "      <td>A:0.5</td>\n",
       "      <td>C:0.5</td>\n",
       "    </tr>\n",
       "    <tr>\n",
       "      <th>CM042342.1-49498</th>\n",
       "      <td>CM042342.1</td>\n",
       "      <td>49498</td>\n",
       "      <td>2</td>\n",
       "      <td>1416</td>\n",
       "      <td>C:0.5</td>\n",
       "      <td>T:0.5</td>\n",
       "    </tr>\n",
       "    <tr>\n",
       "      <th>CM042342.1-135709</th>\n",
       "      <td>CM042342.1</td>\n",
       "      <td>135709</td>\n",
       "      <td>2</td>\n",
       "      <td>1416</td>\n",
       "      <td>A:0.499294</td>\n",
       "      <td>C:0.500706</td>\n",
       "    </tr>\n",
       "    <tr>\n",
       "      <th>CM042342.1-140200</th>\n",
       "      <td>CM042342.1</td>\n",
       "      <td>140200</td>\n",
       "      <td>2</td>\n",
       "      <td>1416</td>\n",
       "      <td>T:0.499294</td>\n",
       "      <td>A:0.500706</td>\n",
       "    </tr>\n",
       "    <tr>\n",
       "      <th>...</th>\n",
       "      <td>...</td>\n",
       "      <td>...</td>\n",
       "      <td>...</td>\n",
       "      <td>...</td>\n",
       "      <td>...</td>\n",
       "      <td>...</td>\n",
       "    </tr>\n",
       "    <tr>\n",
       "      <th>CM042346.1-338263844</th>\n",
       "      <td>CM042346.1</td>\n",
       "      <td>338263844</td>\n",
       "      <td>2</td>\n",
       "      <td>1416</td>\n",
       "      <td>T:0.499294</td>\n",
       "      <td>C:0.500706</td>\n",
       "    </tr>\n",
       "    <tr>\n",
       "      <th>CM042346.1-338268601</th>\n",
       "      <td>CM042346.1</td>\n",
       "      <td>338268601</td>\n",
       "      <td>2</td>\n",
       "      <td>1416</td>\n",
       "      <td>A:0.499294</td>\n",
       "      <td>G:0.500706</td>\n",
       "    </tr>\n",
       "    <tr>\n",
       "      <th>CM042346.1-338274068</th>\n",
       "      <td>CM042346.1</td>\n",
       "      <td>338274068</td>\n",
       "      <td>2</td>\n",
       "      <td>1416</td>\n",
       "      <td>G:0.5</td>\n",
       "      <td>T:0.5</td>\n",
       "    </tr>\n",
       "    <tr>\n",
       "      <th>CM042346.1-338287589</th>\n",
       "      <td>CM042346.1</td>\n",
       "      <td>338287589</td>\n",
       "      <td>2</td>\n",
       "      <td>1416</td>\n",
       "      <td>G:0.5</td>\n",
       "      <td>A:0.5</td>\n",
       "    </tr>\n",
       "    <tr>\n",
       "      <th>CM042346.1-338287789</th>\n",
       "      <td>CM042346.1</td>\n",
       "      <td>338287789</td>\n",
       "      <td>2</td>\n",
       "      <td>1416</td>\n",
       "      <td>G:0.5</td>\n",
       "      <td>A:0.5</td>\n",
       "    </tr>\n",
       "  </tbody>\n",
       "</table>\n",
       "<p>231798 rows × 6 columns</p>\n",
       "</div>"
      ],
      "text/plain": [
       "                           CHROM        POS N_ALLELES N_CHR     A1_FREQ  \\\n",
       "CM042342.1-10659      CM042342.1      10659         2  1416  C:0.500706   \n",
       "CM042342.1-35134      CM042342.1      35134         2  1416       A:0.5   \n",
       "CM042342.1-49498      CM042342.1      49498         2  1416       C:0.5   \n",
       "CM042342.1-135709     CM042342.1     135709         2  1416  A:0.499294   \n",
       "CM042342.1-140200     CM042342.1     140200         2  1416  T:0.499294   \n",
       "...                          ...        ...       ...   ...         ...   \n",
       "CM042346.1-338263844  CM042346.1  338263844         2  1416  T:0.499294   \n",
       "CM042346.1-338268601  CM042346.1  338268601         2  1416  A:0.499294   \n",
       "CM042346.1-338274068  CM042346.1  338274068         2  1416       G:0.5   \n",
       "CM042346.1-338287589  CM042346.1  338287589         2  1416       G:0.5   \n",
       "CM042346.1-338287789  CM042346.1  338287789         2  1416       G:0.5   \n",
       "\n",
       "                         A2_FREQ  \n",
       "CM042342.1-10659      T:0.499294  \n",
       "CM042342.1-35134           C:0.5  \n",
       "CM042342.1-49498           T:0.5  \n",
       "CM042342.1-135709     C:0.500706  \n",
       "CM042342.1-140200     A:0.500706  \n",
       "...                          ...  \n",
       "CM042346.1-338263844  C:0.500706  \n",
       "CM042346.1-338268601  G:0.500706  \n",
       "CM042346.1-338274068       T:0.5  \n",
       "CM042346.1-338287589       A:0.5  \n",
       "CM042346.1-338287789       A:0.5  \n",
       "\n",
       "[231798 rows x 6 columns]"
      ]
     },
     "execution_count": 33,
     "metadata": {},
     "output_type": "execute_result"
    }
   ],
   "source": [
    "frq_df"
   ]
  },
  {
   "cell_type": "code",
   "execution_count": 34,
   "metadata": {},
   "outputs": [
    {
     "data": {
      "text/html": [
       "<div>\n",
       "<style scoped>\n",
       "    .dataframe tbody tr th:only-of-type {\n",
       "        vertical-align: middle;\n",
       "    }\n",
       "\n",
       "    .dataframe tbody tr th {\n",
       "        vertical-align: top;\n",
       "    }\n",
       "\n",
       "    .dataframe thead th {\n",
       "        text-align: right;\n",
       "    }\n",
       "</style>\n",
       "<table border=\"1\" class=\"dataframe\">\n",
       "  <thead>\n",
       "    <tr style=\"text-align: right;\">\n",
       "      <th></th>\n",
       "      <th>CHROM</th>\n",
       "      <th>POS</th>\n",
       "      <th>OBS(HOM1/HET/HOM2)</th>\n",
       "      <th>E(HOM1/HET/HOM2)</th>\n",
       "      <th>ChiSq_HWE</th>\n",
       "      <th>P_HWE</th>\n",
       "      <th>P_HET_DEFICIT</th>\n",
       "      <th>P_HET_EXCESS</th>\n",
       "    </tr>\n",
       "  </thead>\n",
       "  <tbody>\n",
       "    <tr>\n",
       "      <th>CM042342.1-10659</th>\n",
       "      <td>CM042342.1</td>\n",
       "      <td>10659</td>\n",
       "      <td>2/705/1</td>\n",
       "      <td>177.50/354.00/176.50</td>\n",
       "      <td>696.0564</td>\n",
       "      <td>8.368194e-205</td>\n",
       "      <td>1.0</td>\n",
       "      <td>7.747983e-205</td>\n",
       "    </tr>\n",
       "    <tr>\n",
       "      <th>CM042342.1-35134</th>\n",
       "      <td>CM042342.1</td>\n",
       "      <td>35134</td>\n",
       "      <td>0/708/0</td>\n",
       "      <td>177.00/354.00/177.00</td>\n",
       "      <td>708.0000</td>\n",
       "      <td>3.607932e-212</td>\n",
       "      <td>1.0</td>\n",
       "      <td>3.502929e-212</td>\n",
       "    </tr>\n",
       "    <tr>\n",
       "      <th>CM042342.1-49498</th>\n",
       "      <td>CM042342.1</td>\n",
       "      <td>49498</td>\n",
       "      <td>0/708/0</td>\n",
       "      <td>177.00/354.00/177.00</td>\n",
       "      <td>708.0000</td>\n",
       "      <td>3.607932e-212</td>\n",
       "      <td>1.0</td>\n",
       "      <td>3.502929e-212</td>\n",
       "    </tr>\n",
       "    <tr>\n",
       "      <th>CM042342.1-135709</th>\n",
       "      <td>CM042342.1</td>\n",
       "      <td>135709</td>\n",
       "      <td>0/707/1</td>\n",
       "      <td>176.50/354.00/177.50</td>\n",
       "      <td>704.0113</td>\n",
       "      <td>1.316235e-209</td>\n",
       "      <td>1.0</td>\n",
       "      <td>1.241788e-209</td>\n",
       "    </tr>\n",
       "    <tr>\n",
       "      <th>CM042342.1-140200</th>\n",
       "      <td>CM042342.1</td>\n",
       "      <td>140200</td>\n",
       "      <td>0/707/1</td>\n",
       "      <td>176.50/354.00/177.50</td>\n",
       "      <td>704.0113</td>\n",
       "      <td>1.316235e-209</td>\n",
       "      <td>1.0</td>\n",
       "      <td>1.241788e-209</td>\n",
       "    </tr>\n",
       "    <tr>\n",
       "      <th>...</th>\n",
       "      <td>...</td>\n",
       "      <td>...</td>\n",
       "      <td>...</td>\n",
       "      <td>...</td>\n",
       "      <td>...</td>\n",
       "      <td>...</td>\n",
       "      <td>...</td>\n",
       "      <td>...</td>\n",
       "    </tr>\n",
       "    <tr>\n",
       "      <th>CM042346.1-338263844</th>\n",
       "      <td>CM042346.1</td>\n",
       "      <td>338263844</td>\n",
       "      <td>0/707/1</td>\n",
       "      <td>176.50/354.00/177.50</td>\n",
       "      <td>704.0113</td>\n",
       "      <td>1.316235e-209</td>\n",
       "      <td>1.0</td>\n",
       "      <td>1.241788e-209</td>\n",
       "    </tr>\n",
       "    <tr>\n",
       "      <th>CM042346.1-338268601</th>\n",
       "      <td>CM042346.1</td>\n",
       "      <td>338268601</td>\n",
       "      <td>0/707/1</td>\n",
       "      <td>176.50/354.00/177.50</td>\n",
       "      <td>704.0113</td>\n",
       "      <td>1.316235e-209</td>\n",
       "      <td>1.0</td>\n",
       "      <td>1.241788e-209</td>\n",
       "    </tr>\n",
       "    <tr>\n",
       "      <th>CM042346.1-338274068</th>\n",
       "      <td>CM042346.1</td>\n",
       "      <td>338274068</td>\n",
       "      <td>0/708/0</td>\n",
       "      <td>177.00/354.00/177.00</td>\n",
       "      <td>708.0000</td>\n",
       "      <td>3.607932e-212</td>\n",
       "      <td>1.0</td>\n",
       "      <td>3.502929e-212</td>\n",
       "    </tr>\n",
       "    <tr>\n",
       "      <th>CM042346.1-338287589</th>\n",
       "      <td>CM042346.1</td>\n",
       "      <td>338287589</td>\n",
       "      <td>0/708/0</td>\n",
       "      <td>177.00/354.00/177.00</td>\n",
       "      <td>708.0000</td>\n",
       "      <td>3.607932e-212</td>\n",
       "      <td>1.0</td>\n",
       "      <td>3.502929e-212</td>\n",
       "    </tr>\n",
       "    <tr>\n",
       "      <th>CM042346.1-338287789</th>\n",
       "      <td>CM042346.1</td>\n",
       "      <td>338287789</td>\n",
       "      <td>0/708/0</td>\n",
       "      <td>177.00/354.00/177.00</td>\n",
       "      <td>708.0000</td>\n",
       "      <td>3.607932e-212</td>\n",
       "      <td>1.0</td>\n",
       "      <td>3.502929e-212</td>\n",
       "    </tr>\n",
       "  </tbody>\n",
       "</table>\n",
       "<p>231798 rows × 8 columns</p>\n",
       "</div>"
      ],
      "text/plain": [
       "                           CHROM        POS OBS(HOM1/HET/HOM2)  \\\n",
       "CM042342.1-10659      CM042342.1      10659            2/705/1   \n",
       "CM042342.1-35134      CM042342.1      35134            0/708/0   \n",
       "CM042342.1-49498      CM042342.1      49498            0/708/0   \n",
       "CM042342.1-135709     CM042342.1     135709            0/707/1   \n",
       "CM042342.1-140200     CM042342.1     140200            0/707/1   \n",
       "...                          ...        ...                ...   \n",
       "CM042346.1-338263844  CM042346.1  338263844            0/707/1   \n",
       "CM042346.1-338268601  CM042346.1  338268601            0/707/1   \n",
       "CM042346.1-338274068  CM042346.1  338274068            0/708/0   \n",
       "CM042346.1-338287589  CM042346.1  338287589            0/708/0   \n",
       "CM042346.1-338287789  CM042346.1  338287789            0/708/0   \n",
       "\n",
       "                          E(HOM1/HET/HOM2)  ChiSq_HWE          P_HWE  \\\n",
       "CM042342.1-10659      177.50/354.00/176.50   696.0564  8.368194e-205   \n",
       "CM042342.1-35134      177.00/354.00/177.00   708.0000  3.607932e-212   \n",
       "CM042342.1-49498      177.00/354.00/177.00   708.0000  3.607932e-212   \n",
       "CM042342.1-135709     176.50/354.00/177.50   704.0113  1.316235e-209   \n",
       "CM042342.1-140200     176.50/354.00/177.50   704.0113  1.316235e-209   \n",
       "...                                    ...        ...            ...   \n",
       "CM042346.1-338263844  176.50/354.00/177.50   704.0113  1.316235e-209   \n",
       "CM042346.1-338268601  176.50/354.00/177.50   704.0113  1.316235e-209   \n",
       "CM042346.1-338274068  177.00/354.00/177.00   708.0000  3.607932e-212   \n",
       "CM042346.1-338287589  177.00/354.00/177.00   708.0000  3.607932e-212   \n",
       "CM042346.1-338287789  177.00/354.00/177.00   708.0000  3.607932e-212   \n",
       "\n",
       "                      P_HET_DEFICIT   P_HET_EXCESS  \n",
       "CM042342.1-10659                1.0  7.747983e-205  \n",
       "CM042342.1-35134                1.0  3.502929e-212  \n",
       "CM042342.1-49498                1.0  3.502929e-212  \n",
       "CM042342.1-135709               1.0  1.241788e-209  \n",
       "CM042342.1-140200               1.0  1.241788e-209  \n",
       "...                             ...            ...  \n",
       "CM042346.1-338263844            1.0  1.241788e-209  \n",
       "CM042346.1-338268601            1.0  1.241788e-209  \n",
       "CM042346.1-338274068            1.0  3.502929e-212  \n",
       "CM042346.1-338287589            1.0  3.502929e-212  \n",
       "CM042346.1-338287789            1.0  3.502929e-212  \n",
       "\n",
       "[231798 rows x 8 columns]"
      ]
     },
     "execution_count": 34,
     "metadata": {},
     "output_type": "execute_result"
    }
   ],
   "source": [
    "hardy"
   ]
  },
  {
   "cell_type": "code",
   "execution_count": 35,
   "metadata": {},
   "outputs": [],
   "source": [
    "loci_out = os.path.join(analysis_dir,'loci_out.csv')\n",
    "frq_out = os.path.join(analysis_dir,'frq_out.csv')\n",
    "hardy_out = os.path.join(analysis_dir,'hardy_out.csv')\n",
    "\n",
    "loci_df.to_csv(path_or_buf=loci_out)\n",
    "frq_df.to_csv(path_or_buf=frq_out)\n",
    "hardy.to_csv(path_or_buf=hardy_out)\n"
   ]
  },
  {
   "cell_type": "code",
   "execution_count": 39,
   "metadata": {},
   "outputs": [
    {
     "data": {
      "text/plain": [
       "count    231798.000000\n",
       "mean        182.565730\n",
       "std         646.430765\n",
       "min           1.000000\n",
       "25%           1.000000\n",
       "50%           2.000000\n",
       "75%          21.000000\n",
       "max      150988.000000\n",
       "Name: SUM_DEPTH, dtype: float64"
      ]
     },
     "execution_count": 39,
     "metadata": {},
     "output_type": "execute_result"
    }
   ],
   "source": [
    "loci_df.SUM_DEPTH.describe()"
   ]
  },
  {
   "cell_type": "code",
   "execution_count": 36,
   "metadata": {},
   "outputs": [
    {
     "data": {
      "text/plain": [
       "count    231798.000000\n",
       "mean          0.257861\n",
       "std           0.913038\n",
       "min           0.001412\n",
       "25%           0.001412\n",
       "50%           0.002825\n",
       "75%           0.029661\n",
       "max         213.260000\n",
       "Name: MEAN_DEPTH, dtype: float64"
      ]
     },
     "execution_count": 36,
     "metadata": {},
     "output_type": "execute_result"
    }
   ],
   "source": [
    "loci_df.MEAN_DEPTH.describe()"
   ]
  },
  {
   "cell_type": "code",
   "execution_count": 37,
   "metadata": {},
   "outputs": [
    {
     "data": {
      "text/plain": [
       "count    231798.000000\n",
       "mean        288.969543\n",
       "std         436.208097\n",
       "min           4.799820\n",
       "25%           7.827560\n",
       "50%          24.806400\n",
       "75%         999.000000\n",
       "max         999.000000\n",
       "Name: QUAL, dtype: float64"
      ]
     },
     "execution_count": 37,
     "metadata": {},
     "output_type": "execute_result"
    }
   ],
   "source": [
    "loci_df.QUAL.describe()"
   ]
  },
  {
   "cell_type": "code",
   "execution_count": 38,
   "metadata": {
    "scrolled": true
   },
   "outputs": [
    {
     "data": {
      "image/png": "[encoded data removed]",
      "text/plain": [
       "<Figure size 432x288 with 1 Axes>"
      ]
     },
     "metadata": {
      "image/png": {
       "height": 248,
       "width": 408
      },
      "needs_background": "light"
     },
     "output_type": "display_data"
    }
   ],
   "source": [
    "loci_df.QUAL.plot(kind=\"hist\");"
   ]
  },
  {
   "cell_type": "code",
   "execution_count": 40,
   "metadata": {},
   "outputs": [
    {
     "data": {
      "image/png": "[encoded data removed]",
      "text/plain": [
       "<Figure size 432x288 with 1 Axes>"
      ]
     },
     "metadata": {
      "image/png": {
       "height": 248,
       "width": 408
      },
      "needs_background": "light"
     },
     "output_type": "display_data"
    }
   ],
   "source": [
    "loci_df.MEAN_DEPTH.plot(kind=\"hist\");"
   ]
  },
  {
   "cell_type": "code",
   "execution_count": 41,
   "metadata": {},
   "outputs": [
    {
     "data": {
      "text/plain": [
       "0"
      ]
     },
     "execution_count": 41,
     "metadata": {},
     "output_type": "execute_result"
    }
   ],
   "source": [
    "len(loci_df[loci_df.Fis == -9])"
   ]
  },
  {
   "cell_type": "code",
   "execution_count": 42,
   "metadata": {},
   "outputs": [
    {
     "data": {
      "text/plain": [
       "(231556, 26889)"
      ]
     },
     "execution_count": 42,
     "metadata": {},
     "output_type": "execute_result"
    }
   ],
   "source": [
    "len(loci_df[loci_df.SUM_DEPTH <5000]),len(loci_df[loci_df.SUM_DEPTH >=500])"
   ]
  },
  {
   "cell_type": "code",
   "execution_count": 47,
   "metadata": {},
   "outputs": [
    {
     "data": {
      "text/plain": [
       "(231796, 20145)"
      ]
     },
     "execution_count": 47,
     "metadata": {},
     "output_type": "execute_result"
    }
   ],
   "source": [
    "len(loci_df[loci_df.MEAN_DEPTH < 100 ]),len(loci_df[loci_df.MEAN_DEPTH >= 1])"
   ]
  },
  {
   "cell_type": "code",
   "execution_count": 48,
   "metadata": {},
   "outputs": [
    {
     "data": {
      "text/plain": [
       "7184"
      ]
     },
     "execution_count": 48,
     "metadata": {},
     "output_type": "execute_result"
    }
   ],
   "source": [
    "len(loci_df[loci_df.QUAL >= 20]) - len(loci_df[loci_df.QUAL >= 30])"
   ]
  },
  {
   "cell_type": "code",
   "execution_count": 51,
   "metadata": {},
   "outputs": [
    {
     "data": {
      "text/plain": [
       "(113404, 147068, 164168)"
      ]
     },
     "execution_count": 51,
     "metadata": {},
     "output_type": "execute_result"
    }
   ],
   "source": [
    "len(loci_df[loci_df.QUAL <  20]), len(loci_df[loci_df.QUAL < 50]), len(loci_df[loci_df.QUAL < 100])"
   ]
  },
  {
   "cell_type": "code",
   "execution_count": 49,
   "metadata": {},
   "outputs": [
    {
     "data": {
      "text/plain": [
       "(186977, 0)"
      ]
     },
     "execution_count": 49,
     "metadata": {},
     "output_type": "execute_result"
    }
   ],
   "source": [
    " len(loci_df[loci_df.Fis <= -0.5]), len(loci_df[loci_df.MAF < 0.01])"
   ]
  },
  {
   "cell_type": "code",
   "execution_count": 52,
   "metadata": {},
   "outputs": [],
   "source": [
    "def filter_snps(df, imputed=False):\n",
    "    if imputed:\n",
    "        return df[(df.MAF >= 0.01) &  \n",
    "                  (df.Fis > -0.5)]\n",
    "    else:\n",
    "        return df[(df.MEAN_DEPTH >= 1) & \n",
    "                  (df.MEAN_DEPTH < 100) & \n",
    "                  (df.QUAL >= 100) & \n",
    "                  (df.MAF >= 0.01)]"
   ]
  },
  {
   "cell_type": "code",
   "execution_count": 53,
   "metadata": {},
   "outputs": [
    {
     "data": {
      "text/plain": [
       "(20122, 25)"
      ]
     },
     "execution_count": 53,
     "metadata": {},
     "output_type": "execute_result"
    }
   ],
   "source": [
    "loci_stage1 = filter_snps(loci_df)\n",
    "loci_stage1.shape"
   ]
  },
  {
   "cell_type": "code",
   "execution_count": 54,
   "metadata": {},
   "outputs": [],
   "source": [
    "with open(os.path.join(analysis_dir, \"stage1_positions.txt\"), \"w\") as o:\n",
    "    for elem in loci_stage1.index:\n",
    "        o.write(\"%s\\n\" % \"\\t\".join(elem.split(\"-\")))"
   ]
  },
  {
   "cell_type": "code",
   "execution_count": 55,
   "metadata": {
    "run_control": {
     "marked": false
    }
   },
   "outputs": [
    {
     "name": "stdout",
     "output_type": "stream",
     "text": [
      "\n",
      "VCFtools - 0.1.16\n",
      "(C) Adam Auton and Anthony Marcketta 2009\n",
      "\n",
      "Parameters as interpreted:\n",
      "\t--gzvcf /data/gpfs/assoc/denovo/tfaske/sagebrush/SNPcall/vcf/vcf_part/filtering/snps_indv_removed.recode.vcf.gz\n",
      "\t--recode-INFO-all\n",
      "\t--out /data/gpfs/assoc/denovo/tfaske/sagebrush/SNPcall/vcf/vcf_part/filtering/good_snps\n",
      "\t--positions /data/gpfs/assoc/denovo/tfaske/sagebrush/SNPcall/vcf/vcf_part/filtering/stage1_positions.txt\n",
      "\t--recode\n",
      "\t--remove-filtered-all\n",
      "\t--remove-indels\n",
      "\n",
      "Using zlib version: 1.2.11\n",
      "Warning: Expected at least 2 parts in INFO entry: ID=PV4,Number=4,Type=Float,Description=\"P-values for strand bias, baseQ bias, mapQ bias and tail distance bias\">\n",
      "Warning: Expected at least 2 parts in INFO entry: ID=PV4,Number=4,Type=Float,Description=\"P-values for strand bias, baseQ bias, mapQ bias and tail distance bias\">\n",
      "Warning: Expected at least 2 parts in INFO entry: ID=DP4,Number=4,Type=Integer,Description=\"Number of high-quality ref-forward , ref-reverse, alt-forward and alt-reverse bases\">\n",
      "Warning: Expected at least 2 parts in INFO entry: ID=DP4,Number=4,Type=Integer,Description=\"Number of high-quality ref-forward , ref-reverse, alt-forward and alt-reverse bases\">\n",
      "After filtering, kept 708 out of 708 Individuals\n",
      "Outputting VCF file...\n",
      "After filtering, kept 20122 out of a possible 231798 Sites\n",
      "Run Time = 35.00 seconds\n"
     ]
    }
   ],
   "source": [
    "!$vcftools --gzvcf $vcf_bad_remove_gz \\\n",
    "--remove-indels  \\\n",
    "--remove-filtered-all \\\n",
    "--recode \\\n",
    "--recode-INFO-all \\\n",
    "--positions {os.path.join(analysis_dir, \"stage1_positions.txt\")} \\\n",
    "--out {os.path.join(analysis_dir, \"good_snps\")}"
   ]
  },
  {
   "cell_type": "code",
   "execution_count": 56,
   "metadata": {},
   "outputs": [],
   "source": [
    "snps = os.path.join(analysis_dir, \"good_snps.recode.vcf\")\n",
    "snps_gz = snps + \".gz\"\n",
    "!$bgzip -c {snps} > {snps_gz}\n",
    "!$tabix {snps_gz}"
   ]
  },
  {
   "cell_type": "markdown",
   "metadata": {},
   "source": [
    "# Make 012"
   ]
  },
  {
   "cell_type": "code",
   "execution_count": 57,
   "metadata": {},
   "outputs": [
    {
     "name": "stdout",
     "output_type": "stream",
     "text": [
      "\n",
      "VCFtools - 0.1.16\n",
      "(C) Adam Auton and Anthony Marcketta 2009\n",
      "\n",
      "Parameters as interpreted:\n",
      "\t--gzvcf /data/gpfs/assoc/denovo/tfaske/sagebrush/SNPcall/vcf/vcf_part/filtering/good_snps.recode.vcf\n",
      "\t--012\n",
      "\t--out /data/gpfs/assoc/denovo/tfaske/sagebrush/SNPcall/vcf/vcf_part/filtering/good_snps.recode.vcf\n",
      "\n",
      "Using zlib version: 1.2.11\n",
      "Warning: Expected at least 2 parts in INFO entry: ID=PV4,Number=4,Type=Float,Description=\"P-values for strand bias, baseQ bias, mapQ bias and tail distance bias\">\n",
      "Warning: Expected at least 2 parts in INFO entry: ID=PV4,Number=4,Type=Float,Description=\"P-values for strand bias, baseQ bias, mapQ bias and tail distance bias\">\n",
      "Warning: Expected at least 2 parts in INFO entry: ID=DP4,Number=4,Type=Integer,Description=\"Number of high-quality ref-forward , ref-reverse, alt-forward and alt-reverse bases\">\n",
      "Warning: Expected at least 2 parts in INFO entry: ID=DP4,Number=4,Type=Integer,Description=\"Number of high-quality ref-forward , ref-reverse, alt-forward and alt-reverse bases\">\n",
      "After filtering, kept 708 out of 708 Individuals\n",
      "Writing 012 matrix files ... Done.\n",
      "After filtering, kept 20122 out of a possible 20122 Sites\n",
      "Run Time = 3.00 seconds\n"
     ]
    }
   ],
   "source": [
    "f = os.path.join(analysis_dir, \"good_snps.recode.vcf\")\n",
    "!$vcftools --gzvcf {f} \\\n",
    "--out {f} \\\n",
    "--012"
   ]
  },
  {
   "cell_type": "markdown",
   "metadata": {},
   "source": [
    "# Get coverage per individual"
   ]
  },
  {
   "cell_type": "code",
   "execution_count": 58,
   "metadata": {
    "scrolled": true
   },
   "outputs": [
    {
     "name": "stdout",
     "output_type": "stream",
     "text": [
      "\n",
      "VCFtools - 0.1.16\n",
      "(C) Adam Auton and Anthony Marcketta 2009\n",
      "\n",
      "Parameters as interpreted:\n",
      "\t--gzvcf /data/gpfs/assoc/denovo/tfaske/sagebrush/SNPcall/vcf/vcf_part/filtering/good_snps.recode.vcf\n",
      "\t--depth\n",
      "\t--out /data/gpfs/assoc/denovo/tfaske/sagebrush/SNPcall/vcf/vcf_part/filtering/good_snps.recode.vcf\n",
      "\n",
      "Using zlib version: 1.2.11\n",
      "Warning: Expected at least 2 parts in INFO entry: ID=PV4,Number=4,Type=Float,Description=\"P-values for strand bias, baseQ bias, mapQ bias and tail distance bias\">\n",
      "Warning: Expected at least 2 parts in INFO entry: ID=PV4,Number=4,Type=Float,Description=\"P-values for strand bias, baseQ bias, mapQ bias and tail distance bias\">\n",
      "Warning: Expected at least 2 parts in INFO entry: ID=DP4,Number=4,Type=Integer,Description=\"Number of high-quality ref-forward , ref-reverse, alt-forward and alt-reverse bases\">\n",
      "Warning: Expected at least 2 parts in INFO entry: ID=DP4,Number=4,Type=Integer,Description=\"Number of high-quality ref-forward , ref-reverse, alt-forward and alt-reverse bases\">\n",
      "After filtering, kept 708 out of 708 Individuals\n",
      "Outputting Mean Depth by Individual\n",
      "After filtering, kept 20122 out of a possible 20122 Sites\n",
      "Run Time = 2.00 seconds\n"
     ]
    }
   ],
   "source": [
    "f = os.path.join(analysis_dir, \"good_snps.recode.vcf\")\n",
    "!$vcftools --gzvcf {f} \\\n",
    "--out {f} \\\n",
    "--depth"
   ]
  },
  {
   "cell_type": "code",
   "execution_count": 59,
   "metadata": {},
   "outputs": [
    {
     "data": {
      "text/html": [
       "<div>\n",
       "<style scoped>\n",
       "    .dataframe tbody tr th:only-of-type {\n",
       "        vertical-align: middle;\n",
       "    }\n",
       "\n",
       "    .dataframe tbody tr th {\n",
       "        vertical-align: top;\n",
       "    }\n",
       "\n",
       "    .dataframe thead th {\n",
       "        text-align: right;\n",
       "    }\n",
       "</style>\n",
       "<table border=\"1\" class=\"dataframe\">\n",
       "  <thead>\n",
       "    <tr style=\"text-align: right;\">\n",
       "      <th></th>\n",
       "      <th>INDV</th>\n",
       "      <th>N_SITES</th>\n",
       "      <th>MEAN_DEPTH</th>\n",
       "    </tr>\n",
       "  </thead>\n",
       "  <tbody>\n",
       "    <tr>\n",
       "      <th>0</th>\n",
       "      <td>AT2_BB_1</td>\n",
       "      <td>20122</td>\n",
       "      <td>2.92138</td>\n",
       "    </tr>\n",
       "    <tr>\n",
       "      <th>1</th>\n",
       "      <td>AT2_BB_10</td>\n",
       "      <td>20122</td>\n",
       "      <td>2.99145</td>\n",
       "    </tr>\n",
       "    <tr>\n",
       "      <th>2</th>\n",
       "      <td>AT2_BB_11</td>\n",
       "      <td>20122</td>\n",
       "      <td>1.96591</td>\n",
       "    </tr>\n",
       "    <tr>\n",
       "      <th>3</th>\n",
       "      <td>AT2_BB_12</td>\n",
       "      <td>20122</td>\n",
       "      <td>1.64735</td>\n",
       "    </tr>\n",
       "    <tr>\n",
       "      <th>4</th>\n",
       "      <td>AT2_BB_13</td>\n",
       "      <td>20122</td>\n",
       "      <td>2.44583</td>\n",
       "    </tr>\n",
       "  </tbody>\n",
       "</table>\n",
       "</div>"
      ],
      "text/plain": [
       "        INDV  N_SITES  MEAN_DEPTH\n",
       "0   AT2_BB_1    20122     2.92138\n",
       "1  AT2_BB_10    20122     2.99145\n",
       "2  AT2_BB_11    20122     1.96591\n",
       "3  AT2_BB_12    20122     1.64735\n",
       "4  AT2_BB_13    20122     2.44583"
      ]
     },
     "execution_count": 59,
     "metadata": {},
     "output_type": "execute_result"
    }
   ],
   "source": [
    "depth_file = os.path.join(analysis_dir, \"good_snps.recode.vcf.idepth\")\n",
    "depth_df = pd.read_csv(depth_file, sep=\"\\t\")\n",
    "depth_df.head()"
   ]
  },
  {
   "cell_type": "code",
   "execution_count": 60,
   "metadata": {},
   "outputs": [
    {
     "data": {
      "text/plain": [
       "count    708.000000\n",
       "mean       2.189195\n",
       "std        0.805043\n",
       "min        0.004622\n",
       "25%        1.649885\n",
       "50%        2.132540\n",
       "75%        2.781062\n",
       "max        4.614000\n",
       "Name: MEAN_DEPTH, dtype: float64"
      ]
     },
     "execution_count": 60,
     "metadata": {},
     "output_type": "execute_result"
    }
   ],
   "source": [
    "depth_df.MEAN_DEPTH.describe()"
   ]
  },
  {
   "cell_type": "markdown",
   "metadata": {},
   "source": [
    "# Remove unnecessary files"
   ]
  },
  {
   "cell_type": "code",
   "execution_count": 61,
   "metadata": {},
   "outputs": [],
   "source": [
    "!rm snps*"
   ]
  },
  {
   "cell_type": "code",
   "execution_count": 62,
   "metadata": {},
   "outputs": [],
   "source": [
    "!rm *vcf"
   ]
  },
  {
   "cell_type": "code",
   "execution_count": null,
   "metadata": {},
   "outputs": [],
   "source": []
  },
  {
   "cell_type": "code",
   "execution_count": null,
   "metadata": {},
   "outputs": [],
   "source": []
  }
 ],
 "metadata": {
  "kernelspec": {
   "display_name": "Python 3",
   "language": "python",
   "name": "python3"
  },
  "language_info": {
   "codemirror_mode": {
    "name": "ipython",
    "version": 3
   },
   "file_extension": ".py",
   "mimetype": "text/x-python",
   "name": "python",
   "nbconvert_exporter": "python",
   "pygments_lexer": "ipython3",
   "version": "3.6.7"
  }
 },
 "nbformat": 4,
 "nbformat_minor": 1
}
