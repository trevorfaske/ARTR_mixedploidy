{
 "cells": [
  {
   "cell_type": "markdown",
   "metadata": {},
   "source": [
    "## Extracting genotype likelihoods and running EBG \n",
    "\n",
    "ebg git: https://github.com/pblischak/polyploid-genotyping  \n",
    "\n",
    "ebg tutorial: https://pblischak.github.io/polyploid-genotyping/\n",
    "\n",
    "Tiger (genotype error) bitbucket: \n",
    "https://bitbucket.org/wegmannlab/tiger/wiki/Home\n",
    "\n",
    "Tiger paper: https://onlinelibrary.wiley.com/doi/epdf/10.1111/1755-0998.13153  \n",
    "\n",
    "Workflow thoughts: \n",
    "\n",
    "- run Tiger to get sequencing error\n",
    "- use vcfR to extract read depths\n",
    "- run EBG in various ways: \n",
    "    - Correct way for all individuals \n",
    "    - Only *tridentata* and *vayesana* as tetraploid, *wyomingensis* as diploid\n",
    "    - *wyomingensis* as allotetraploid with af for diploid other subspecies\n",
    "- Also, generate geno. likelihoods for all as diploid. \n",
    "- Also also, refilter variants for *tridentata* and *vayesana* separately and treated as diploid\n",
    "\n",
    "Sequencing error rates: \n",
    "- trying tiger but might not be what I need\n",
    "- run updog (https://github.com/dcgerard/updog) "
   ]
  },
  {
   "cell_type": "code",
   "execution_count": 78,
   "metadata": {},
   "outputs": [],
   "source": [
    "import sys\n",
    "\n",
    "#sys.path.append('/home/faske/g/anaconda3/envs/py34/lib/python3.4/site-packages')\n",
    "sys.path.append('/data/gpfs/assoc/parchmanlab/tfaske/anaconda3/envs/py36/lib/python3.6/site-packages')\n",
    "sys.path.append(\"/data/gpfs/assoc/parchmanlab/tfaske/ipynb/include_utils\")\n",
    "\n",
    "import ipyparallel as ipp\n",
    "import os, time\n",
    "import include_utils as u\n",
    "import pandas as pd\n",
    "import numpy as np\n",
    "import scipy as sp\n",
    "import random\n",
    "import numbers\n",
    "import matplotlib.pyplot as plt\n",
    "import matplotlib.patches as mpatches\n",
    "import matplotlib.cm as cm\n",
    "import matplotlib.colors as mcolors\n",
    "#import vcf\n",
    "from sklearn import preprocessing\n",
    "from subprocess import Popen, PIPE, call, check_output\n",
    "import seaborn as sns\n",
    "from IPython.display import FileLink\n",
    "import urllib.request as urllib2\n",
    "import dill\n",
    "import traceback\n",
    "from pandas import Series, DataFrame\n",
    "import gzip\n",
    "import warnings\n",
    "warnings.filterwarnings('ignore',category=pd.io.pytables.PerformanceWarning)\n",
    "%config InlineBackend.figure_format = 'retina'\n",
    "from Bio import SeqIO\n",
    "#import pysam\n",
    "from collections import OrderedDict, namedtuple, Counter\n",
    "import operator\n",
    "import multiprocessing as mp\n",
    "import shutil\n",
    "import tempfile\n",
    "#from ipyparallel import Client\n",
    "import scandir\n",
    "import glob\n",
    "from Bio.SeqIO.QualityIO import FastqGeneralIterator\n",
    "import pickle\n",
    "import re\n",
    "from itertools import chain\n",
    "#import Levenshtein as lv"
   ]
  },
  {
   "cell_type": "code",
   "execution_count": 79,
   "metadata": {},
   "outputs": [],
   "source": [
    "analysis_dir = '/data/gpfs/assoc/denovo/tfaske/sagebrush/SNPcall/'"
   ]
  },
  {
   "cell_type": "code",
   "execution_count": 80,
   "metadata": {},
   "outputs": [
    {
     "name": "stdout",
     "output_type": "stream",
     "text": [
      "/data/gpfs/assoc/denovo/tfaske/sagebrush/SNPcall\n"
     ]
    }
   ],
   "source": [
    "cd $analysis_dir"
   ]
  },
  {
   "cell_type": "code",
   "execution_count": 81,
   "metadata": {},
   "outputs": [
    {
     "name": "stdout",
     "output_type": "stream",
     "text": [
      "mkdir: cannot create directory ‘ebg’: File exists\r\n"
     ]
    }
   ],
   "source": [
    "!mkdir ebg"
   ]
  },
  {
   "cell_type": "code",
   "execution_count": 82,
   "metadata": {},
   "outputs": [
    {
     "data": {
      "text/plain": [
       "'/data/gpfs/assoc/denovo/tfaske/sagebrush/SNPcall/ebg'"
      ]
     },
     "execution_count": 82,
     "metadata": {},
     "output_type": "execute_result"
    }
   ],
   "source": [
    "ebg_dir = os.path.join(analysis_dir, \"ebg\")\n",
    "assert os.path.exists(ebg_dir)\n",
    "ebg_dir"
   ]
  },
  {
   "cell_type": "code",
   "execution_count": 83,
   "metadata": {},
   "outputs": [
    {
     "name": "stdout",
     "output_type": "stream",
     "text": [
      "/data/gpfs/assoc/denovo/tfaske/sagebrush/SNPcall/ebg\n"
     ]
    }
   ],
   "source": [
    "cd $ebg_dir"
   ]
  },
  {
   "cell_type": "markdown",
   "metadata": {},
   "source": [
    "#### Make sure to move vcf file over and make an unziped copy"
   ]
  },
  {
   "cell_type": "code",
   "execution_count": 89,
   "metadata": {},
   "outputs": [
    {
     "data": {
      "text/plain": [
       "'/data/gpfs/assoc/denovo/tfaske/sagebrush/SNPcall/ebg/good_snps.recode.vcf.gz'"
      ]
     },
     "execution_count": 89,
     "metadata": {},
     "output_type": "execute_result"
    }
   ],
   "source": [
    "vcf_gz_file = os.path.join(ebg_dir, \"good_snps.recode.vcf.gz\")\n",
    "assert os.path.exists(vcf_gz_file)\n",
    "vcf_gz_file"
   ]
  },
  {
   "cell_type": "markdown",
   "metadata": {},
   "source": [
    "## Tiger\n",
    "\n",
    "./tiger task=estimateHardyWeinberg vcf=simple.vcf.gz groups=simple_sampleGroups.txt\n",
    "\n",
    "sample groups will be ssp and ploidy (5 total groups)\n",
    "- file setup: sample name and group (must have header)\n",
    "\n",
    "Notes: \n",
    " - mcmc takes forever. Reduce burnin rounds and samples \n",
    "     - OR: EM ML only? \n",
    "     - Ran EM ML only and doesnt give per locus error rates. Need to run MCMC\n",
    "\n",
    "**Inference algorithm**\n",
    "\n",
    "For all models you can choose if you want to infer the parameters with an EM-algorithm and obtain the maximum likelihood estimates or if you want to use an MCMC and obtain the posterior densities of the parameters. The parameter for this is algo and you can set it to either MLE or Bayes.\n",
    "\n",
    "**Parameters:**\n",
    "\n",
    "- **algo:** Can be set to either \"MLE\" or \"Bayes\". Default for the Hardy-Weinberg model is Bayes and for the rest MLE.\n",
    "- **numIter:** Control the maximum number of iterations of the EM algorithm or MCMC algorithm. Default for EM = 1000 default for MCMC = 100000.\n",
    "- **minDelta:** Assume EM-algorithm to have converged when the parameter value does not change by more than minDelta. default = 0.000001\n",
    "- **minEpsIter:** Minimum amount of EM iterations to be run, even if algorithm has converged\n",
    "- **maxEpsIter:** Minimum amount of EM iterations to be run, even if algorithm has not converged\n",
    "- **burnin:** Length of burnin in MCMC. Default = 5000\n",
    "- **numBurnins:** Number of burnin rounds in MCMC (used to adjust proposal range for optimal acceptance rate). Default = 5\n",
    "- **thinning:** After how many MCMC iterations the sampled values should be printed to file. Default = 10.\n",
    "- **epsLambda:** The parameter used for the exponential prior on the error rates"
   ]
  },
  {
   "cell_type": "code",
   "execution_count": 90,
   "metadata": {},
   "outputs": [
    {
     "name": "stdout",
     "output_type": "stream",
     "text": [
      "\r\n",
      "gzip: stdout: Broken pipe\r\n"
     ]
    }
   ],
   "source": [
    "!zcat $vcf_gz_file | bcftools query -l | sort > sampleGroups.txt "
   ]
  },
  {
   "cell_type": "code",
   "execution_count": 91,
   "metadata": {},
   "outputs": [],
   "source": [
    "sample_group = pd.read_csv('sampleGroups.txt',header=None,names=['sample'])"
   ]
  },
  {
   "cell_type": "code",
   "execution_count": 92,
   "metadata": {},
   "outputs": [
    {
     "data": {
      "text/html": [
       "<div>\n",
       "<style scoped>\n",
       "    .dataframe tbody tr th:only-of-type {\n",
       "        vertical-align: middle;\n",
       "    }\n",
       "\n",
       "    .dataframe tbody tr th {\n",
       "        vertical-align: top;\n",
       "    }\n",
       "\n",
       "    .dataframe thead th {\n",
       "        text-align: right;\n",
       "    }\n",
       "</style>\n",
       "<table border=\"1\" class=\"dataframe\">\n",
       "  <thead>\n",
       "    <tr style=\"text-align: right;\">\n",
       "      <th></th>\n",
       "      <th>sample</th>\n",
       "    </tr>\n",
       "  </thead>\n",
       "  <tbody>\n",
       "    <tr>\n",
       "      <th>0</th>\n",
       "      <td>AT2_BB_1</td>\n",
       "    </tr>\n",
       "    <tr>\n",
       "      <th>1</th>\n",
       "      <td>AT2_BB_10</td>\n",
       "    </tr>\n",
       "    <tr>\n",
       "      <th>2</th>\n",
       "      <td>AT2_BB_11</td>\n",
       "    </tr>\n",
       "    <tr>\n",
       "      <th>3</th>\n",
       "      <td>AT2_BB_12</td>\n",
       "    </tr>\n",
       "    <tr>\n",
       "      <th>4</th>\n",
       "      <td>AT2_BB_13</td>\n",
       "    </tr>\n",
       "  </tbody>\n",
       "</table>\n",
       "</div>"
      ],
      "text/plain": [
       "      sample\n",
       "0   AT2_BB_1\n",
       "1  AT2_BB_10\n",
       "2  AT2_BB_11\n",
       "3  AT2_BB_12\n",
       "4  AT2_BB_13"
      ]
     },
     "execution_count": 92,
     "metadata": {},
     "output_type": "execute_result"
    }
   ],
   "source": [
    "sample_group.head()"
   ]
  },
  {
   "cell_type": "code",
   "execution_count": 93,
   "metadata": {},
   "outputs": [
    {
     "data": {
      "text/plain": [
       "0      AT2\n",
       "1      AT2\n",
       "2      AT2\n",
       "3      AT2\n",
       "4      AT2\n",
       "      ... \n",
       "679    AW4\n",
       "680    AW4\n",
       "681    AW4\n",
       "682    AW4\n",
       "683    AW4\n",
       "Name: 0, Length: 684, dtype: object"
      ]
     },
     "execution_count": 93,
     "metadata": {},
     "output_type": "execute_result"
    }
   ],
   "source": [
    "ssp_ploidy = sample_group['sample'].str.split('_',expand=True)[0]\n",
    "ssp_ploidy"
   ]
  },
  {
   "cell_type": "code",
   "execution_count": 94,
   "metadata": {},
   "outputs": [],
   "source": [
    "ssp_ploidy_num = ssp_ploidy.replace(ssp_ploidy.unique(),range(1,(len(ssp_ploidy.unique())+1)))"
   ]
  },
  {
   "cell_type": "code",
   "execution_count": 95,
   "metadata": {},
   "outputs": [
    {
     "data": {
      "text/plain": [
       "0      1\n",
       "1      1\n",
       "2      1\n",
       "3      1\n",
       "4      1\n",
       "      ..\n",
       "679    5\n",
       "680    5\n",
       "681    5\n",
       "682    5\n",
       "683    5\n",
       "Name: 0, Length: 684, dtype: int64"
      ]
     },
     "execution_count": 95,
     "metadata": {},
     "output_type": "execute_result"
    }
   ],
   "source": [
    "ssp_ploidy_num"
   ]
  },
  {
   "cell_type": "code",
   "execution_count": 96,
   "metadata": {},
   "outputs": [],
   "source": [
    "sample_group['group'] = ssp_ploidy_num"
   ]
  },
  {
   "cell_type": "code",
   "execution_count": 97,
   "metadata": {},
   "outputs": [],
   "source": [
    "sample_group.to_csv('sampleGroups.txt',sep='\\t',index=False)"
   ]
  },
  {
   "cell_type": "code",
   "execution_count": 98,
   "metadata": {},
   "outputs": [
    {
     "name": "stdout",
     "output_type": "stream",
     "text": [
      "sample\tgroup\r\n",
      "AT2_BB_1\t1\r\n",
      "AT2_BB_10\t1\r\n",
      "AT2_BB_11\t1\r\n",
      "AT2_BB_12\t1\r\n",
      "AT2_BB_13\t1\r\n",
      "AT2_BB_14\t1\r\n",
      "AT2_BB_15\t1\r\n",
      "AT2_BB_16\t1\r\n",
      "AT2_BB_17\t1\r\n"
     ]
    }
   ],
   "source": [
    "!head sampleGroups.txt"
   ]
  },
  {
   "cell_type": "markdown",
   "metadata": {},
   "source": [
    "### Make slurm file to run tiger"
   ]
  },
  {
   "cell_type": "code",
   "execution_count": 108,
   "metadata": {},
   "outputs": [],
   "source": [
    "tiger = '/data/gpfs/assoc/parchmanlab/tfaske/src/Tiger/./tiger'"
   ]
  },
  {
   "cell_type": "code",
   "execution_count": 109,
   "metadata": {},
   "outputs": [],
   "source": [
    "### select options for slurm submission\n",
    "#account = 'cpu-s1-bionres-0'\n",
    "#partition = 'cpu-s1-bionres-0'\n",
    "account = 'cpu-s5-denovo-0'\n",
    "partition = 'cpu-core-0'\n",
    "time = '4-00:00:00' #time limit 1 day\n",
    "cpus = 2\n",
    "mem_cpu = 16000\n",
    "email = 'tfaske@nevada.unr.edu'\n",
    "\n",
    "### because need to edit!!!\n",
    "vcf_gz_file = 'good_snps.edit.vcf.gz'\n",
    "\n",
    "#### model parameters for MLE\n",
    "#algo = \"MLE\"\n",
    "#numIter = 501\n",
    "#maxEpsIter = 500\n",
    "\n",
    "#sbatch cmd\n",
    "#%s task=estimateHardyWeinberg vcf=%s groups=sampleGroups.txt outname=ARTR.tiger.hwe algo=%s numIter=%s maxEpsIter=%s\\n\"\"\" % \n",
    "\n",
    "#### model parameters for MCMC\n",
    "# below gives 2500 samples \n",
    "algo = \"Bayes\"\n",
    "numIter = 30000\n",
    "burnin = 2500\n",
    "numBurnins = 2 \n",
    "thinning = 10\n",
    "\n",
    "#sbatch cmd\n",
    "#%s task=estimateHardyWeinberg vcf=%s groups=sampleGroups.txt outname=ARTR.tiger.hwe algo=%s numIter=%s burnin=%s numBurnins=%s thinning=%s\\n\"\"\" % \n",
    "\n"
   ]
  },
  {
   "cell_type": "code",
   "execution_count": 110,
   "metadata": {},
   "outputs": [],
   "source": [
    "def write_tiger_sh(account,partition,time,cpus,mem_cpu,email,tiger,vcf,algo,numIter,burnin,numBurnins,thinning):\n",
    "    with open(\"run_tiger.sh\", \"w\") as o:\n",
    "        o.write(\"\"\"#!/usr/bin/env bash\n",
    "#SBATCH --account=%s\n",
    "#SBATCH --partition=%s\n",
    "#SBATCH --time=%s\n",
    "#SBATCH --ntasks 1\n",
    "#SBATCH --cpus-per-task %d\n",
    "#SBATCH --mem-per-cpu=%d\n",
    "#SBATCH --job-name tiger\n",
    "#SBATCH --output output_tiger.txt\n",
    "#SBATCH --mail-type=FAIL,END\n",
    "#SBATCH --mail-user=%s \\n\n",
    "\n",
    "module load gcc/9.2.0\\n\n",
    "%s task=estimateHardyWeinberg vcf=%s groups=sampleGroups.txt outname=ARTR.tiger.hwe algo=%s numIter=%s burnin=%s numBurnins=%s thinning=%s\\n\"\"\" % \n",
    "                (account,partition,time,int(cpus),int(mem_cpu),email,tiger,vcf,algo,numIter,burnin,numBurnins,thinning))\n",
    "        "
   ]
  },
  {
   "cell_type": "code",
   "execution_count": 111,
   "metadata": {},
   "outputs": [],
   "source": [
    "write_tiger_sh(account,partition,time,cpus,mem_cpu,email,tiger,vcf_gz_file,algo,numIter,burnin,numBurnins,thinning)"
   ]
  },
  {
   "cell_type": "markdown",
   "metadata": {},
   "source": [
    "#### errors \n",
    "\n",
    "ERROR: Error when parsing vcf header, unknown tag 'Version' in l\n",
    "ine '##INFO=<ID=VDB,Number=1,Type=Float,Description=\"Variant Dis\n",
    "tance Bias for filtering splice-site artefacts in RNA-seq data (\n",
    "bigger is better)\",Version=\"3\">'!\n",
    "\n",
    "solution: grep -v ',Version=\"3\"' good_snps.recode.vcf > good_snps.edit.vcf; bgzip good_snps.edit.vcf"
   ]
  },
  {
   "cell_type": "markdown",
   "metadata": {},
   "source": [
    "## UPDOG \n",
    "\n",
    "use updog to calculate sequencing error (R) \n",
    "https://github.com/dcgerard/updog\n",
    "\n",
    "multidog(  \n",
    "refmat,  \n",
    "sizemat,  \n",
    "ploidy,  \n",
    "model = c(\"norm\", \"hw\", \"bb\", \"s1\", \"s1pp\", \"f1\", \"f1pp\", \"flex\", \"uniform\",\n",
    "\"custom\"),  \n",
    "nc = 1,  \n",
    "p1_id = NULL,  \n",
    "p2_id = NULL,  \n",
    "bias_init = exp(c(-1, -0.5, 0, 0.5, 1)),  \n",
    "prior_vec = NULL,  \n",
    "...\n",
    ")\n",
    "\n",
    "\n",
    "-**refmat:** A matrix of reference read counts. The columns index the individuals and the\n",
    "rows index the markers (SNPs). This matrix must have rownames (for the names\n",
    "of the markers) and column names (for the names of the individuals). These\n",
    "names must match the names in sizemat.  \n",
    "-**sizemat:** A matrix of total read counts. The columns index the individuals and the rows\n",
    "index the markers (SNPs). This matrix must have rownames (for the names of\n",
    "the markers) and column names (for the names of the individuals). These names\n",
    "must match the names in refmat.  \n",
    "-**ploidy:** The ploidy of the species. Assumed to be the same for each individual.  \n",
    "-**model:** What form should the prior (genotype distribution) take? See Details for possible values.  \n",
    "-**nc:** The number of computing cores to use when doing parallelization on your local\n",
    "machine. See the section \"Parallel Computation\" for how to implement more\n",
    "complicated evaluation strategies using the future package  \n"
   ]
  },
  {
   "cell_type": "code",
   "execution_count": 113,
   "metadata": {},
   "outputs": [],
   "source": [
    "%load_ext rpy2.ipython"
   ]
  },
  {
   "cell_type": "code",
   "execution_count": 144,
   "metadata": {},
   "outputs": [
    {
     "name": "stderr",
     "output_type": "stream",
     "text": [
      "WARNING:rpy2.rinterface_lib.callbacks:R[write to console]: Error in setwd(\"/data/gpfs/assoc/denovo/tfaske/sagebrush/denovo/SNPcall/ebg\") : \n",
      "  cannot change working directory\n",
      "Calls: <Anonymous> -> <Anonymous> -> withVisible -> setwd\n",
      "\n"
     ]
    },
    {
     "name": "stdout",
     "output_type": "stream",
     "text": [
      "\n",
      "Error in setwd(\"/data/gpfs/assoc/denovo/tfaske/sagebrush/denovo/SNPcall/ebg\") : \n",
      "  cannot change working directory\n",
      "Calls: <Anonymous> -> <Anonymous> -> withVisible -> setwd\n"
     ]
    }
   ],
   "source": [
    "%%R\n",
    "require(readr)\n",
    "library(data.table)\n",
    "library(updog)\n",
    "require(ggplot2)\n",
    "library(vcfR)\n",
    "\n",
    "source('/data/gpfs/home/tfaske/g/src/R/Imports.R')\n",
    "\n",
    "setwd('/data/gpfs/assoc/denovo/tfaske/sagebrush/denovo/SNPcall/ebg')"
   ]
  },
  {
   "cell_type": "code",
   "execution_count": 121,
   "metadata": {},
   "outputs": [],
   "source": [
    "%%R\n",
    "vcf <- read.vcfR(\"good_snps.recode.vcf\", verbose = FALSE)\n",
    "\n",
    "#get positions\n",
    "chrom <- getCHROM(vcf)\n",
    "pos <- getPOS(vcf)\n",
    "pos_ID <- paste(chrom,pos,sep = ':')"
   ]
  },
  {
   "cell_type": "code",
   "execution_count": 122,
   "metadata": {},
   "outputs": [],
   "source": [
    "%%R\n",
    "#get AD\n",
    "# ref, alt allele \n",
    "ad <- extract.gt(vcf, element = 'AD')"
   ]
  },
  {
   "cell_type": "code",
   "execution_count": 123,
   "metadata": {},
   "outputs": [
    {
     "name": "stdout",
     "output_type": "stream",
     "text": [
      "[1] 42513\n",
      " [1] \"CM042338.1:398150\"  \"CM042338.1:1342981\" \"CM042338.1:1496841\"\n",
      " [4] \"CM042338.1:1744262\" \"CM042338.1:1942811\" \"CM042338.1:2385838\"\n",
      " [7] \"CM042338.1:3792582\" \"CM042338.1:4255378\" \"CM042338.1:5373930\"\n",
      "[10] \"CM042338.1:6087026\"\n",
      "                   AT2_BB_10 AT2_BB_11 AT2_BB_12 AT2_BB_13 AT2_BB_14\n",
      "CM042338.1_398150  \"1,0\"     \"0,0\"     \"0,0\"     \"0,0\"     \"2,0\"    \n",
      "CM042338.1_1342981 \"0,0\"     \"0,0\"     \"0,0\"     \"0,0\"     \"4,0\"    \n",
      "CM042338.1_1496841 \"0,0\"     \"1,0\"     \"3,0\"     \"6,0\"     \"8,0\"    \n",
      "CM042338.1_1744262 \"8,0\"     \"1,0\"     \"0,0\"     \"0,0\"     \"4,0\"    \n",
      "CM042338.1_1942811 \"0,0\"     \"0,0\"     \"0,0\"     \"0,0\"     \"9,0\"    \n"
     ]
    }
   ],
   "source": [
    "%%R\n",
    "## check out PL and pos_ID\n",
    "print(length(pos_ID))\n",
    "print(pos_ID[1:10])\n",
    "ad[1:5,1:5]"
   ]
  },
  {
   "cell_type": "code",
   "execution_count": 138,
   "metadata": {},
   "outputs": [],
   "source": [
    "%%R\n",
    "ref_ad <- apply(ad, c(1,2), function(df) as.numeric(unlist(strsplit(as.character(df),','))[1]))\n",
    "                "
   ]
  },
  {
   "cell_type": "code",
   "execution_count": 139,
   "metadata": {},
   "outputs": [
    {
     "name": "stdout",
     "output_type": "stream",
     "text": [
      "[1] 42513   684\n",
      "                   AT2_BB_10 AT2_BB_11 AT2_BB_12 AT2_BB_13 AT2_BB_14\n",
      "CM042338.1_398150  \"1,0\"     \"0,0\"     \"0,0\"     \"0,0\"     \"2,0\"    \n",
      "CM042338.1_1342981 \"0,0\"     \"0,0\"     \"0,0\"     \"0,0\"     \"4,0\"    \n",
      "CM042338.1_1496841 \"0,0\"     \"1,0\"     \"3,0\"     \"6,0\"     \"8,0\"    \n",
      "CM042338.1_1744262 \"8,0\"     \"1,0\"     \"0,0\"     \"0,0\"     \"4,0\"    \n",
      "CM042338.1_1942811 \"0,0\"     \"0,0\"     \"0,0\"     \"0,0\"     \"9,0\"    \n",
      "                   AT2_BB_10 AT2_BB_11 AT2_BB_12 AT2_BB_13 AT2_BB_14\n",
      "CM042338.1_398150  \"1\"       \"0\"       \"0\"       \"0\"       \"2\"      \n",
      "CM042338.1_1342981 \"0\"       \"0\"       \"0\"       \"0\"       \"4\"      \n",
      "CM042338.1_1496841 \"0\"       \"1\"       \"3\"       \"6\"       \"8\"      \n",
      "CM042338.1_1744262 \"8\"       \"1\"       \"0\"       \"0\"       \"4\"      \n",
      "CM042338.1_1942811 \"0\"       \"0\"       \"0\"       \"0\"       \"9\"      \n"
     ]
    }
   ],
   "source": [
    "%%R\n",
    "print(dim(ref_ad))\n",
    "print(ad[1:5,1:5])\n",
    "print(ref_ad[1:5,1:5])"
   ]
  },
  {
   "cell_type": "code",
   "execution_count": 140,
   "metadata": {},
   "outputs": [],
   "source": [
    "%%R\n",
    "tot_ad <- apply(ad, c(1,2), function(df) sum(as.numeric(unlist(strsplit(as.character(df),',')))))\n",
    "                "
   ]
  },
  {
   "cell_type": "code",
   "execution_count": 141,
   "metadata": {},
   "outputs": [
    {
     "name": "stdout",
     "output_type": "stream",
     "text": [
      "                   AT2_BB_10 AT2_BB_11 AT2_BB_12 AT2_BB_13 AT2_BB_14\n",
      "CM042338.1_398150  \"1,0\"     \"0,0\"     \"0,0\"     \"0,0\"     \"2,0\"    \n",
      "CM042338.1_1342981 \"0,0\"     \"0,0\"     \"0,0\"     \"0,0\"     \"4,0\"    \n",
      "CM042338.1_1496841 \"0,0\"     \"1,0\"     \"3,0\"     \"6,0\"     \"8,0\"    \n",
      "CM042338.1_1744262 \"8,0\"     \"1,0\"     \"0,0\"     \"0,0\"     \"4,0\"    \n",
      "CM042338.1_1942811 \"0,0\"     \"0,0\"     \"0,0\"     \"0,0\"     \"9,0\"    \n",
      "[1] 42513   684\n",
      "                   AT2_BB_10 AT2_BB_11 AT2_BB_12 AT2_BB_13 AT2_BB_14\n",
      "CM042338.1_398150  \"1,0\"     \"0,0\"     \"0,0\"     \"0,0\"     \"2,0\"    \n",
      "CM042338.1_1342981 \"0,0\"     \"0,0\"     \"0,0\"     \"0,0\"     \"4,0\"    \n",
      "CM042338.1_1496841 \"0,0\"     \"1,0\"     \"3,0\"     \"6,0\"     \"8,0\"    \n",
      "CM042338.1_1744262 \"8,0\"     \"1,0\"     \"0,0\"     \"0,0\"     \"4,0\"    \n",
      "CM042338.1_1942811 \"0,0\"     \"0,0\"     \"0,0\"     \"0,0\"     \"9,0\"    \n",
      "                   AT2_BB_10 AT2_BB_11 AT2_BB_12 AT2_BB_13 AT2_BB_14\n",
      "CM042338.1_398150  \"1\"       \"0\"       \"0\"       \"0\"       \"2\"      \n",
      "CM042338.1_1342981 \"0\"       \"0\"       \"0\"       \"0\"       \"4\"      \n",
      "CM042338.1_1496841 \"0\"       \"1\"       \"3\"       \"6\"       \"8\"      \n",
      "CM042338.1_1744262 \"8\"       \"1\"       \"0\"       \"0\"       \"4\"      \n",
      "CM042338.1_1942811 \"0\"       \"0\"       \"0\"       \"0\"       \"9\"      \n",
      "                   AT2_BB_10 AT2_BB_11 AT2_BB_12 AT2_BB_13 AT2_BB_14\n",
      "CM042338.1_398150          1         0         0         0         2\n",
      "CM042338.1_1342981         0         0         0         0         4\n",
      "CM042338.1_1496841         0         1         3         6         8\n",
      "CM042338.1_1744262         8         1         0         0         4\n",
      "CM042338.1_1942811         0         0         0         0         9\n"
     ]
    }
   ],
   "source": [
    "%%R\n",
    "print(ad[1:5,1:5])\n",
    "print(dim(tot_ad))\n",
    "print(ad[1:5,1:5])\n",
    "print(ref_ad[1:5,1:5])\n",
    "print(tot_ad[1:5,1:5])"
   ]
  },
  {
   "cell_type": "code",
   "execution_count": 157,
   "metadata": {},
   "outputs": [],
   "source": [
    "%%R\n",
    "# turn ref_ad numeric \n",
    "ref_ad <- apply(ref_ad, c(1,2), function(df) as.numeric(df))"
   ]
  },
  {
   "cell_type": "code",
   "execution_count": 158,
   "metadata": {},
   "outputs": [
    {
     "name": "stderr",
     "output_type": "stream",
     "text": [
      "WARNING:rpy2.rinterface_lib.callbacks:R[write to console]: x being coerced from class: matrix to data.table\n",
      "\n",
      "WARNING:rpy2.rinterface_lib.callbacks:R[write to console]: x being coerced from class: matrix to data.table\n",
      "\n"
     ]
    }
   ],
   "source": [
    "%%R\n",
    "fwrite(tot_ad,'tot_ad.txt',quote=FALSE)\n",
    "fwrite(ref_ad,'ref_ad.txt',quote=FALSE)"
   ]
  },
  {
   "cell_type": "code",
   "execution_count": 170,
   "metadata": {},
   "outputs": [],
   "source": [
    "%%R\n",
    "#split file to include only tetraploids\n",
    "indv <- colnames(ad)\n",
    "\n",
    "Sp <- rep(NA,times=length(indv))\n",
    "Ploidy <- rep(NA,times=length(indv))\n",
    "Pop <- rep(NA,times=length(indv))\n",
    "ID <- rep(NA,times=length(indv))\n",
    "All <- rep(NA,times=length(indv))\n",
    "for (i in 1:length(indv)){\n",
    "  SpP <- unlist(strsplit(as.character(indv[i]),\"_\"))[1]\n",
    "  Sp[i] <- gsub('\\\\d','',SpP,perl=TRUE)\n",
    "  Ploidy[i] <-  gsub('(\\\\D)','',SpP,perl=TRUE)\n",
    "  Pop[i] <- unlist(strsplit(as.character(indv[i]),\"_\"))[2]\n",
    "  ID[i] <- unlist(strsplit(as.character(indv[i]),\"_\"))[3]\n",
    "  All[i] <- as.character(indv[i])\n",
    "}\n",
    "Pop_ID <- data.frame(Sp=Sp,Ploidy=Ploidy,Pop=Pop,ID=ID,All=All,\n",
    "                     SpPloidy=paste0(Sp,Ploidy))\n",
    "write.csv(Pop_ID,'Pop_ID.csv',row.names=FALSE)"
   ]
  },
  {
   "cell_type": "code",
   "execution_count": 160,
   "metadata": {},
   "outputs": [
    {
     "name": "stdout",
     "output_type": "stream",
     "text": [
      "  Sp Ploidy Pop ID       All SpPloidy\n",
      "1 AT      2  BB 10 AT2_BB_10      AT2\n",
      "2 AT      2  BB 11 AT2_BB_11      AT2\n",
      "3 AT      2  BB 12 AT2_BB_12      AT2\n",
      "4 AT      2  BB 13 AT2_BB_13      AT2\n",
      "5 AT      2  BB 14 AT2_BB_14      AT2\n",
      "6 AT      2  BB 15 AT2_BB_15      AT2\n"
     ]
    }
   ],
   "source": [
    "%%R\n",
    "head(Pop_ID)"
   ]
  },
  {
   "cell_type": "code",
   "execution_count": 161,
   "metadata": {},
   "outputs": [
    {
     "name": "stdout",
     "output_type": "stream",
     "text": [
      "[1] 289\n",
      "[1] 42513   289\n",
      "[1] 42513   289\n"
     ]
    }
   ],
   "source": [
    "%%R\n",
    "\n",
    "ploidy_index <- which(Pop_ID$Ploidy == 4)\n",
    "tot_ad_4 <- tot_ad[,ploidy_index]\n",
    "ref_ad_4 <- ref_ad[,ploidy_index]\n",
    "\n",
    "print(length(ploidy_index))\n",
    "print(dim(tot_ad_4))\n",
    "print(dim(ref_ad_4))"
   ]
  },
  {
   "cell_type": "markdown",
   "metadata": {},
   "source": [
    "#### Run updog "
   ]
  },
  {
   "cell_type": "code",
   "execution_count": 162,
   "metadata": {},
   "outputs": [
    {
     "name": "stdout",
     "output_type": "stream",
     "text": [
      "    |                                   *.#,%    \n",
      "   |||                                 *******/  \n",
      " |||||||    (**..#**.                  */   **/  \n",
      "|||||||||    */****************************/*%   \n",
      "   |||    &****..,*.************************/    \n",
      "   |||     (....,,,*,...****%********/(******    \n",
      "   |||                ,,****%////,,,,./.****/    \n",
      "   |||                  /**//         .*///....  \n",
      "   |||                  .*/*/%#         .,/   ., \n",
      "   |||               , **/   #%         .*    .. \n",
      "   |||                               ,,,*        \n",
      "\n",
      "Working on it...done!"
     ]
    }
   ],
   "source": [
    "%%R \n",
    "updog_out <- multidog(refmat=ref_ad_4,\n",
    "                      sizemat=tot_ad_4,\n",
    "                      ploidy=4,\n",
    "                      model = \"hw\",\n",
    "                      nc = 32)\n",
    "\n",
    "saveRDS(updog_out,'updog_out.RDS')"
   ]
  },
  {
   "cell_type": "code",
   "execution_count": 165,
   "metadata": {},
   "outputs": [
    {
     "data": {
      "image/png": "[encoded data removed]"
     },
     "metadata": {},
     "output_type": "display_data"
    }
   ],
   "source": [
    "%%R\n",
    "seq_error <- updog_out$snpdf$seq\n",
    "hist(seq_error)"
   ]
  },
  {
   "cell_type": "code",
   "execution_count": 211,
   "metadata": {},
   "outputs": [
    {
     "name": "stdout",
     "output_type": "stream",
     "text": [
      "List of 2\n",
      " $ snpdf:'data.frame':\t42512 obs. of  19 variables:\n",
      "  ..$ snp     : Factor w/ 42512 levels \"CM042338.1_398150\",..: 1 2 3 4 5 6 7 8 9 10 ...\n",
      "  ..$ bias    : num [1:42512] 4.621 2.76 0.797 0.982 0.443 ...\n",
      "  ..$ seq     : num [1:42512] 0.00165 0.00229 0.00147 0.00295 0.00288 ...\n",
      "  ..$ od      : num [1:42512] 0.00321 0.00325 0.0032 0.00318 0.00326 ...\n",
      "  ..$ prop_mis: num [1:42512] 0.1154 0.4446 0.0262 0.0985 0.4941 ...\n",
      "  ..$ num_iter: num [1:42512] 28 64 12 8 76 7 11 15 40 36 ...\n",
      "  ..$ llike   : num [1:42512] -67 -193.9 -18.4 -35 -219.1 ...\n",
      "  ..$ ploidy  : num [1:42512] 4 4 4 4 4 4 4 4 4 4 ...\n",
      "  ..$ model   : Factor w/ 1 level \"hw\": 1 1 1 1 1 1 1 1 1 1 ...\n",
      "  ..$ p1ref   : num [1:42512] NA NA NA NA NA NA NA NA NA NA ...\n",
      "  ..$ p1size  : num [1:42512] NA NA NA NA NA NA NA NA NA NA ...\n",
      "  ..$ p2ref   : num [1:42512] NA NA NA NA NA NA NA NA NA NA ...\n",
      "  ..$ p2size  : num [1:42512] NA NA NA NA NA NA NA NA NA NA ...\n",
      "  ..$ Pr_0    : num [1:42512] 4.26e-06 4.09e-03 1.19e-08 1.26e-06 6.32e-03 ...\n",
      "  ..$ Pr_1    : num [1:42512] 3.58e-04 4.83e-02 4.51e-06 1.46e-04 6.44e-02 ...\n",
      "  ..$ Pr_2    : num [1:42512] 0.011284 0.214105 0.000641 0.006299 0.245927 ...\n",
      "  ..$ Pr_3    : num [1:42512] 0.1581 0.4218 0.0405 0.1211 0.4175 ...\n",
      "  ..$ Pr_4    : num [1:42512] 0.83 0.312 0.959 0.872 0.266 ...\n",
      "  ..$ alpha   : num [1:42512] 0.955 0.747 0.99 0.966 0.718 ...\n",
      " $ inddf:'data.frame':\t12285968 obs. of  17 variables:\n",
      "  ..$ snp        : Factor w/ 42512 levels \"CM042338.1_398150\",..: 1 1 1 1 1 1 1 1 1 1 ...\n",
      "  ..$ ind        : Factor w/ 289 levels \"AT4_DS_1\",\"AT4_DS_10\",..: 2 1 3 4 5 6 7 8 9 10 ...\n",
      "  ..$ ref        : num [1:12285968] 8 13 3 7 11 2 0 2 6 0 ...\n",
      "  ..$ size       : num [1:12285968] 8 13 3 7 11 2 0 2 6 1 ...\n",
      "  ..$ geno       : num [1:12285968] 4 4 4 4 4 4 4 4 4 3 ...\n",
      "  ..$ postmean   : num [1:12285968] 4 4 3.99 4 4 ...\n",
      "  ..$ maxpostprob: num [1:12285968] 1 1 0.988 1 1 ...\n",
      "  ..$ Pr_0       : num [1:12285968] 4.31e-23 1.33e-30 4.49e-14 1.91e-21 1.01e-27 ...\n",
      "  ..$ Pr_1       : num [1:12285968] 6.06e-13 5.28e-18 1.53e-07 6.82e-12 5.11e-16 ...\n",
      "  ..$ Pr_2       : num [1:12285968] 2.16e-08 7.82e-12 8.10e-05 1.09e-07 1.79e-10 ...\n",
      "  ..$ Pr_3       : num [1:12285968] 1.31e-04 1.60e-06 1.18e-02 3.20e-04 9.20e-06 ...\n",
      "  ..$ Pr_4       : num [1:12285968] 1 1 0.988 1 1 ...\n",
      "  ..$ logL_0     : num [1:12285968] -39.4 -56.7 -18.6 -35.6 -50.1 ...\n",
      "  ..$ logL_1     : num [1:12285968] -20.45 -32.14 -7.96 -18.02 -27.55 ...\n",
      "  ..$ logL_2     : num [1:12285968] -13.42 -21.38 -5.14 -11.79 -18.23 ...\n",
      "  ..$ logL_3     : num [1:12285968] -7.34 -11.78 -2.79 -6.44 -10.02 ...\n",
      "  ..$ logL_4     : num [1:12285968] -0.0602 -0.097 -0.0227 -0.0527 -0.0823 ...\n",
      " - attr(*, \"class\")= chr \"multidog\"\n"
     ]
    }
   ],
   "source": [
    "%%R\n",
    "#length(seq_error)\n",
    "str(updog_out)\n",
    "#which(pos_ID != updog_out$snpdf$snp)"
   ]
  },
  {
   "cell_type": "code",
   "execution_count": 217,
   "metadata": {},
   "outputs": [],
   "source": [
    "%%R\n",
    "updog_snp <- updog_out$snpdf$snp\n",
    "updog_snp <- sapply(updog_snp, function(s) gsub('_',':',s))"
   ]
  },
  {
   "cell_type": "code",
   "execution_count": 225,
   "metadata": {},
   "outputs": [
    {
     "name": "stdout",
     "output_type": "stream",
     "text": [
      "[1] 42512\n",
      "[1] 42513\n"
     ]
    }
   ],
   "source": [
    "%%R\n",
    "print(length(updog_snp))\n",
    "print(length(pos_ID))"
   ]
  },
  {
   "cell_type": "code",
   "execution_count": 227,
   "metadata": {},
   "outputs": [
    {
     "name": "stdout",
     "output_type": "stream",
     "text": [
      "[1] \"CM042346.1:131497851\"\n",
      "[1] 40397\n"
     ]
    }
   ],
   "source": [
    "%%R\n",
    "print(pos_ID[-which(pos_ID %in% updog_snp)])\n",
    "which(pos_ID == \"CM042346.1:131497851\")"
   ]
  },
  {
   "cell_type": "markdown",
   "metadata": {},
   "source": [
    "#### REMOVE CM042346.1:131497851, 40397"
   ]
  },
  {
   "cell_type": "code",
   "execution_count": 229,
   "metadata": {},
   "outputs": [
    {
     "name": "stdout",
     "output_type": "stream",
     "text": [
      "   AT4_DS_10    AT4_DS_1    AT4_DS_2    AT4_DS_3    AT4_DS_4    AT4_DS_5\n",
      " Min.   :0   Min.   :0   Min.   :0   Min.   :0   Min.   :0   Min.   :0  \n",
      " 1st Qu.:0   1st Qu.:0   1st Qu.:0   1st Qu.:0   1st Qu.:0   1st Qu.:0  \n",
      " Median :0   Median :0   Median :0   Median :0   Median :0   Median :0  \n",
      " Mean   :0   Mean   :0   Mean   :0   Mean   :0   Mean   :0   Mean   :0  \n",
      " 3rd Qu.:0   3rd Qu.:0   3rd Qu.:0   3rd Qu.:0   3rd Qu.:0   3rd Qu.:0  \n",
      " Max.   :0   Max.   :0   Max.   :0   Max.   :0   Max.   :0   Max.   :0  \n",
      "    AT4_DS_6    AT4_DS_7    AT4_DS_8    AT4_SL_1   AT4_SL_284   AT4_SL_285\n",
      " Min.   :0   Min.   :0   Min.   :0   Min.   :0   Min.   :0    Min.   :0   \n",
      " 1st Qu.:0   1st Qu.:0   1st Qu.:0   1st Qu.:0   1st Qu.:0    1st Qu.:0   \n",
      " Median :0   Median :0   Median :0   Median :0   Median :0    Median :0   \n",
      " Mean   :0   Mean   :0   Mean   :0   Mean   :0   Mean   :0    Mean   :0   \n",
      " 3rd Qu.:0   3rd Qu.:0   3rd Qu.:0   3rd Qu.:0   3rd Qu.:0    3rd Qu.:0   \n",
      " Max.   :0   Max.   :0   Max.   :0   Max.   :0   Max.   :0    Max.   :0   \n",
      "   AT4_SL_286    AT4_SL_2    AT4_SL_3    AT4_SL_4    AT4_SL_5    AT4_SL_6\n",
      " Min.   :0    Min.   :0   Min.   :0   Min.   :0   Min.   :0   Min.   :0  \n",
      " 1st Qu.:0    1st Qu.:0   1st Qu.:0   1st Qu.:0   1st Qu.:0   1st Qu.:0  \n",
      " Median :0    Median :0   Median :0   Median :0   Median :0   Median :0  \n",
      " Mean   :0    Mean   :0   Mean   :0   Mean   :0   Mean   :0   Mean   :0  \n",
      " 3rd Qu.:0    3rd Qu.:0   3rd Qu.:0   3rd Qu.:0   3rd Qu.:0   3rd Qu.:0  \n",
      " Max.   :0    Max.   :0   Max.   :0   Max.   :0   Max.   :0   Max.   :0  \n",
      "    AT4_SL_7    AT4_WT_2    AT4_WT_3    AT4_WT_4    AT4_WT_5    AT4_WT_6\n",
      " Min.   :0   Min.   :0   Min.   :0   Min.   :0   Min.   :0   Min.   :0  \n",
      " 1st Qu.:0   1st Qu.:0   1st Qu.:0   1st Qu.:0   1st Qu.:0   1st Qu.:0  \n",
      " Median :0   Median :0   Median :0   Median :0   Median :0   Median :0  \n",
      " Mean   :0   Mean   :0   Mean   :0   Mean   :0   Mean   :0   Mean   :0  \n",
      " 3rd Qu.:0   3rd Qu.:0   3rd Qu.:0   3rd Qu.:0   3rd Qu.:0   3rd Qu.:0  \n",
      " Max.   :0   Max.   :0   Max.   :0   Max.   :0   Max.   :0   Max.   :0  \n",
      "    AT4_WT_7    AV4_CF_1    AV4_CF_2    AV4_CF_3   AV4_DH_10    AV4_DH_1\n",
      " Min.   :0   Min.   :0   Min.   :0   Min.   :0   Min.   :0   Min.   :0  \n",
      " 1st Qu.:0   1st Qu.:0   1st Qu.:0   1st Qu.:0   1st Qu.:0   1st Qu.:0  \n",
      " Median :0   Median :0   Median :0   Median :0   Median :0   Median :0  \n",
      " Mean   :0   Mean   :0   Mean   :0   Mean   :0   Mean   :0   Mean   :0  \n",
      " 3rd Qu.:0   3rd Qu.:0   3rd Qu.:0   3rd Qu.:0   3rd Qu.:0   3rd Qu.:0  \n",
      " Max.   :0   Max.   :0   Max.   :0   Max.   :0   Max.   :0   Max.   :0  \n",
      "    AV4_DH_2    AV4_DH_3    AV4_DH_4    AV4_DH_5    AV4_DH_6    AV4_DH_7\n",
      " Min.   :0   Min.   :0   Min.   :0   Min.   :0   Min.   :0   Min.   :0  \n",
      " 1st Qu.:0   1st Qu.:0   1st Qu.:0   1st Qu.:0   1st Qu.:0   1st Qu.:0  \n",
      " Median :0   Median :0   Median :0   Median :0   Median :0   Median :0  \n",
      " Mean   :0   Mean   :0   Mean   :0   Mean   :0   Mean   :0   Mean   :0  \n",
      " 3rd Qu.:0   3rd Qu.:0   3rd Qu.:0   3rd Qu.:0   3rd Qu.:0   3rd Qu.:0  \n",
      " Max.   :0   Max.   :0   Max.   :0   Max.   :0   Max.   :0   Max.   :0  \n",
      "    AV4_DH_8    AV4_DH_9   AV4_EW_10    AV4_EW_1    AV4_EW_2    AV4_EW_3\n",
      " Min.   :0   Min.   :0   Min.   :0   Min.   :0   Min.   :0   Min.   :0  \n",
      " 1st Qu.:0   1st Qu.:0   1st Qu.:0   1st Qu.:0   1st Qu.:0   1st Qu.:0  \n",
      " Median :0   Median :0   Median :0   Median :0   Median :0   Median :0  \n",
      " Mean   :0   Mean   :0   Mean   :0   Mean   :0   Mean   :0   Mean   :0  \n",
      " 3rd Qu.:0   3rd Qu.:0   3rd Qu.:0   3rd Qu.:0   3rd Qu.:0   3rd Qu.:0  \n",
      " Max.   :0   Max.   :0   Max.   :0   Max.   :0   Max.   :0   Max.   :0  \n",
      "    AV4_EW_4    AV4_EW_6    AV4_EW_7    AV4_EW_8    AV4_EW_9    AV4_JU_1\n",
      " Min.   :0   Min.   :0   Min.   :0   Min.   :0   Min.   :0   Min.   :0  \n",
      " 1st Qu.:0   1st Qu.:0   1st Qu.:0   1st Qu.:0   1st Qu.:0   1st Qu.:0  \n",
      " Median :0   Median :0   Median :0   Median :0   Median :0   Median :0  \n",
      " Mean   :0   Mean   :0   Mean   :0   Mean   :0   Mean   :0   Mean   :0  \n",
      " 3rd Qu.:0   3rd Qu.:0   3rd Qu.:0   3rd Qu.:0   3rd Qu.:0   3rd Qu.:0  \n",
      " Max.   :0   Max.   :0   Max.   :0   Max.   :0   Max.   :0   Max.   :0  \n",
      "    AV4_JU_3    AV4_JU_4    AV4_JU_5    AV4_JU_6    AV4_JU_7   AV4_LM_10\n",
      " Min.   :0   Min.   :0   Min.   :0   Min.   :0   Min.   :0   Min.   :0  \n",
      " 1st Qu.:0   1st Qu.:0   1st Qu.:0   1st Qu.:0   1st Qu.:0   1st Qu.:0  \n",
      " Median :0   Median :0   Median :0   Median :0   Median :0   Median :0  \n",
      " Mean   :0   Mean   :0   Mean   :0   Mean   :0   Mean   :0   Mean   :0  \n",
      " 3rd Qu.:0   3rd Qu.:0   3rd Qu.:0   3rd Qu.:0   3rd Qu.:0   3rd Qu.:0  \n",
      " Max.   :0   Max.   :0   Max.   :0   Max.   :0   Max.   :0   Max.   :0  \n",
      "    AV4_LM_1    AV4_LM_2    AV4_LM_3    AV4_LM_4    AV4_LM_5    AV4_LM_6\n",
      " Min.   :0   Min.   :0   Min.   :0   Min.   :0   Min.   :0   Min.   :0  \n",
      " 1st Qu.:0   1st Qu.:0   1st Qu.:0   1st Qu.:0   1st Qu.:0   1st Qu.:0  \n",
      " Median :0   Median :0   Median :0   Median :0   Median :0   Median :0  \n",
      " Mean   :0   Mean   :0   Mean   :0   Mean   :0   Mean   :0   Mean   :0  \n",
      " 3rd Qu.:0   3rd Qu.:0   3rd Qu.:0   3rd Qu.:0   3rd Qu.:0   3rd Qu.:0  \n",
      " Max.   :0   Max.   :0   Max.   :0   Max.   :0   Max.   :0   Max.   :0  \n",
      "    AV4_LM_7    AV4_LM_8    AV4_LM_9   AV4_LS_10   AV4_LS_11   AV4_LS_12\n",
      " Min.   :0   Min.   :0   Min.   :0   Min.   :0   Min.   :0   Min.   :0  \n",
      " 1st Qu.:0   1st Qu.:0   1st Qu.:0   1st Qu.:0   1st Qu.:0   1st Qu.:0  \n",
      " Median :0   Median :0   Median :0   Median :0   Median :0   Median :0  \n",
      " Mean   :0   Mean   :0   Mean   :0   Mean   :0   Mean   :0   Mean   :0  \n",
      " 3rd Qu.:0   3rd Qu.:0   3rd Qu.:0   3rd Qu.:0   3rd Qu.:0   3rd Qu.:0  \n",
      " Max.   :0   Max.   :0   Max.   :0   Max.   :0   Max.   :0   Max.   :0  \n",
      "   AV4_LS_13   AV4_LS_14   AV4_LS_15   AV4_LS_16   AV4_LS_17   AV4_LS_18\n",
      " Min.   :0   Min.   :0   Min.   :0   Min.   :0   Min.   :0   Min.   :0  \n",
      " 1st Qu.:0   1st Qu.:0   1st Qu.:0   1st Qu.:0   1st Qu.:0   1st Qu.:0  \n",
      " Median :0   Median :0   Median :0   Median :0   Median :0   Median :0  \n",
      " Mean   :0   Mean   :0   Mean   :0   Mean   :0   Mean   :0   Mean   :0  \n",
      " 3rd Qu.:0   3rd Qu.:0   3rd Qu.:0   3rd Qu.:0   3rd Qu.:0   3rd Qu.:0  \n",
      " Max.   :0   Max.   :0   Max.   :0   Max.   :0   Max.   :0   Max.   :0  \n",
      "   AV4_LS_19    AV4_LS_1   AV4_LS_20   AV4_LS_22   AV4_LS_23   AV4_LS_24\n",
      " Min.   :0   Min.   :0   Min.   :0   Min.   :0   Min.   :0   Min.   :0  \n",
      " 1st Qu.:0   1st Qu.:0   1st Qu.:0   1st Qu.:0   1st Qu.:0   1st Qu.:0  \n",
      " Median :0   Median :0   Median :0   Median :0   Median :0   Median :0  \n",
      " Mean   :0   Mean   :0   Mean   :0   Mean   :0   Mean   :0   Mean   :0  \n",
      " 3rd Qu.:0   3rd Qu.:0   3rd Qu.:0   3rd Qu.:0   3rd Qu.:0   3rd Qu.:0  \n",
      " Max.   :0   Max.   :0   Max.   :0   Max.   :0   Max.   :0   Max.   :0  \n",
      "   AV4_LS_25   AV4_LS_26   AV4_LS_27    AV4_LS_2    AV4_LS_3    AV4_LS_4\n",
      " Min.   :0   Min.   :0   Min.   :0   Min.   :0   Min.   :0   Min.   :0  \n",
      " 1st Qu.:0   1st Qu.:0   1st Qu.:0   1st Qu.:0   1st Qu.:0   1st Qu.:0  \n",
      " Median :0   Median :0   Median :0   Median :0   Median :0   Median :0  \n",
      " Mean   :0   Mean   :0   Mean   :0   Mean   :0   Mean   :0   Mean   :0  \n",
      " 3rd Qu.:0   3rd Qu.:0   3rd Qu.:0   3rd Qu.:0   3rd Qu.:0   3rd Qu.:0  \n",
      " Max.   :0   Max.   :0   Max.   :0   Max.   :0   Max.   :0   Max.   :0  \n",
      "    AV4_LS_5    AV4_LS_6    AV4_LS_7    AV4_LS_8    AV4_LS_9   AV4_RR_10\n",
      " Min.   :0   Min.   :0   Min.   :0   Min.   :0   Min.   :0   Min.   :0  \n",
      " 1st Qu.:0   1st Qu.:0   1st Qu.:0   1st Qu.:0   1st Qu.:0   1st Qu.:0  \n",
      " Median :0   Median :0   Median :0   Median :0   Median :0   Median :0  \n",
      " Mean   :0   Mean   :0   Mean   :0   Mean   :0   Mean   :0   Mean   :0  \n",
      " 3rd Qu.:0   3rd Qu.:0   3rd Qu.:0   3rd Qu.:0   3rd Qu.:0   3rd Qu.:0  \n",
      " Max.   :0   Max.   :0   Max.   :0   Max.   :0   Max.   :0   Max.   :0  \n",
      "    AV4_RR_1    AV4_RR_2    AV4_RR_3    AV4_RR_4    AV4_RR_5    AV4_RR_7\n",
      " Min.   :0   Min.   :0   Min.   :0   Min.   :0   Min.   :0   Min.   :0  \n",
      " 1st Qu.:0   1st Qu.:0   1st Qu.:0   1st Qu.:0   1st Qu.:0   1st Qu.:0  \n",
      " Median :0   Median :0   Median :0   Median :0   Median :0   Median :0  \n",
      " Mean   :0   Mean   :0   Mean   :0   Mean   :0   Mean   :0   Mean   :0  \n",
      " 3rd Qu.:0   3rd Qu.:0   3rd Qu.:0   3rd Qu.:0   3rd Qu.:0   3rd Qu.:0  \n"
     ]
    },
    {
     "name": "stdout",
     "output_type": "stream",
     "text": [
      " Max.   :0   Max.   :0   Max.   :0   Max.   :0   Max.   :0   Max.   :0  \n",
      "    AV4_RR_8    AV4_RR_9   AW4_AH_121   AW4_AH_122   AW4_AH_123   AW4_AH_124\n",
      " Min.   :0   Min.   :0   Min.   :0    Min.   :0    Min.   :0    Min.   :0   \n",
      " 1st Qu.:0   1st Qu.:0   1st Qu.:0    1st Qu.:0    1st Qu.:0    1st Qu.:0   \n",
      " Median :0   Median :0   Median :0    Median :0    Median :0    Median :0   \n",
      " Mean   :0   Mean   :0   Mean   :0    Mean   :0    Mean   :0    Mean   :0   \n",
      " 3rd Qu.:0   3rd Qu.:0   3rd Qu.:0    3rd Qu.:0    3rd Qu.:0    3rd Qu.:0   \n",
      " Max.   :0   Max.   :0   Max.   :0    Max.   :0    Max.   :0    Max.   :0   \n",
      "   AW4_AH_125   AW4_AH_126   AW4_AH_127   AW4_AH_128   AW4_AH_129   AW4_AH_130\n",
      " Min.   :0    Min.   :0    Min.   :0    Min.   :0    Min.   :0    Min.   :0   \n",
      " 1st Qu.:0    1st Qu.:0    1st Qu.:0    1st Qu.:0    1st Qu.:0    1st Qu.:0   \n",
      " Median :0    Median :0    Median :0    Median :0    Median :0    Median :0   \n",
      " Mean   :0    Mean   :0    Mean   :0    Mean   :0    Mean   :0    Mean   :0   \n",
      " 3rd Qu.:0    3rd Qu.:0    3rd Qu.:0    3rd Qu.:0    3rd Qu.:0    3rd Qu.:0   \n",
      " Max.   :0    Max.   :0    Max.   :0    Max.   :0    Max.   :0    Max.   :0   \n",
      "   AW4_AH_131   AW4_AH_132   AW4_AH_133   AW4_AH_134   AW4_AH_135   AW4_FR_10\n",
      " Min.   :0    Min.   :0    Min.   :0    Min.   :0    Min.   :0    Min.   :0  \n",
      " 1st Qu.:0    1st Qu.:0    1st Qu.:0    1st Qu.:0    1st Qu.:0    1st Qu.:0  \n",
      " Median :0    Median :0    Median :0    Median :0    Median :0    Median :0  \n",
      " Mean   :0    Mean   :0    Mean   :0    Mean   :0    Mean   :0    Mean   :0  \n",
      " 3rd Qu.:0    3rd Qu.:0    3rd Qu.:0    3rd Qu.:0    3rd Qu.:0    3rd Qu.:0  \n",
      " Max.   :0    Max.   :0    Max.   :0    Max.   :0    Max.   :0    Max.   :0  \n",
      "    AW4_FR_1    AW4_FR_2    AW4_FR_3    AW4_FR_5    AW4_FR_6    AW4_FR_7\n",
      " Min.   :0   Min.   :0   Min.   :0   Min.   :0   Min.   :0   Min.   :0  \n",
      " 1st Qu.:0   1st Qu.:0   1st Qu.:0   1st Qu.:0   1st Qu.:0   1st Qu.:0  \n",
      " Median :0   Median :0   Median :0   Median :0   Median :0   Median :0  \n",
      " Mean   :0   Mean   :0   Mean   :0   Mean   :0   Mean   :0   Mean   :0  \n",
      " 3rd Qu.:0   3rd Qu.:0   3rd Qu.:0   3rd Qu.:0   3rd Qu.:0   3rd Qu.:0  \n",
      " Max.   :0   Max.   :0   Max.   :0   Max.   :0   Max.   :0   Max.   :0  \n",
      "    AW4_FR_8    AW4_FR_9   AW4_GB_10    AW4_GB_1    AW4_GB_2    AW4_GB_4\n",
      " Min.   :0   Min.   :0   Min.   :0   Min.   :0   Min.   :0   Min.   :0  \n",
      " 1st Qu.:0   1st Qu.:0   1st Qu.:0   1st Qu.:0   1st Qu.:0   1st Qu.:0  \n",
      " Median :0   Median :0   Median :0   Median :0   Median :0   Median :0  \n",
      " Mean   :0   Mean   :0   Mean   :0   Mean   :0   Mean   :0   Mean   :0  \n",
      " 3rd Qu.:0   3rd Qu.:0   3rd Qu.:0   3rd Qu.:0   3rd Qu.:0   3rd Qu.:0  \n",
      " Max.   :0   Max.   :0   Max.   :0   Max.   :0   Max.   :0   Max.   :0  \n",
      "    AW4_GB_5    AW4_GB_6    AW4_GB_7    AW4_GB_8    AW4_GB_9   AW4_HO_10\n",
      " Min.   :0   Min.   :0   Min.   :0   Min.   :0   Min.   :0   Min.   :0  \n",
      " 1st Qu.:0   1st Qu.:0   1st Qu.:0   1st Qu.:0   1st Qu.:0   1st Qu.:0  \n",
      " Median :0   Median :0   Median :0   Median :0   Median :0   Median :0  \n",
      " Mean   :0   Mean   :0   Mean   :0   Mean   :0   Mean   :0   Mean   :0  \n",
      " 3rd Qu.:0   3rd Qu.:0   3rd Qu.:0   3rd Qu.:0   3rd Qu.:0   3rd Qu.:0  \n",
      " Max.   :0   Max.   :0   Max.   :0   Max.   :0   Max.   :0   Max.   :0  \n",
      "    AW4_HO_1    AW4_HO_2    AW4_HO_3    AW4_HO_4    AW4_HO_5    AW4_HO_6\n",
      " Min.   :0   Min.   :0   Min.   :0   Min.   :0   Min.   :0   Min.   :0  \n",
      " 1st Qu.:0   1st Qu.:0   1st Qu.:0   1st Qu.:0   1st Qu.:0   1st Qu.:0  \n",
      " Median :0   Median :0   Median :0   Median :0   Median :0   Median :0  \n",
      " Mean   :0   Mean   :0   Mean   :0   Mean   :0   Mean   :0   Mean   :0  \n",
      " 3rd Qu.:0   3rd Qu.:0   3rd Qu.:0   3rd Qu.:0   3rd Qu.:0   3rd Qu.:0  \n",
      " Max.   :0   Max.   :0   Max.   :0   Max.   :0   Max.   :0   Max.   :0  \n",
      "    AW4_HO_7    AW4_HO_8    AW4_HO_9   AW4_JC_10    AW4_JC_1    AW4_JC_4\n",
      " Min.   :0   Min.   :0   Min.   :0   Min.   :0   Min.   :0   Min.   :0  \n",
      " 1st Qu.:0   1st Qu.:0   1st Qu.:0   1st Qu.:0   1st Qu.:0   1st Qu.:0  \n",
      " Median :0   Median :0   Median :0   Median :0   Median :0   Median :0  \n",
      " Mean   :0   Mean   :0   Mean   :0   Mean   :0   Mean   :0   Mean   :0  \n",
      " 3rd Qu.:0   3rd Qu.:0   3rd Qu.:0   3rd Qu.:0   3rd Qu.:0   3rd Qu.:0  \n",
      " Max.   :0   Max.   :0   Max.   :0   Max.   :0   Max.   :0   Max.   :0  \n",
      "    AW4_JC_5    AW4_JC_6    AW4_JC_7    AW4_JC_8    AW4_JC_9   AW4_LW_10\n",
      " Min.   :0   Min.   :0   Min.   :0   Min.   :0   Min.   :0   Min.   :0  \n",
      " 1st Qu.:0   1st Qu.:0   1st Qu.:0   1st Qu.:0   1st Qu.:0   1st Qu.:0  \n",
      " Median :0   Median :0   Median :0   Median :0   Median :0   Median :0  \n",
      " Mean   :0   Mean   :0   Mean   :0   Mean   :0   Mean   :0   Mean   :0  \n",
      " 3rd Qu.:0   3rd Qu.:0   3rd Qu.:0   3rd Qu.:0   3rd Qu.:0   3rd Qu.:0  \n",
      " Max.   :0   Max.   :0   Max.   :0   Max.   :0   Max.   :0   Max.   :0  \n",
      "    AW4_LW_1    AW4_LW_2    AW4_LW_3    AW4_LW_4    AW4_LW_5    AW4_LW_6\n",
      " Min.   :0   Min.   :0   Min.   :0   Min.   :0   Min.   :0   Min.   :0  \n",
      " 1st Qu.:0   1st Qu.:0   1st Qu.:0   1st Qu.:0   1st Qu.:0   1st Qu.:0  \n",
      " Median :0   Median :0   Median :0   Median :0   Median :0   Median :0  \n",
      " Mean   :0   Mean   :0   Mean   :0   Mean   :0   Mean   :0   Mean   :0  \n",
      " 3rd Qu.:0   3rd Qu.:0   3rd Qu.:0   3rd Qu.:0   3rd Qu.:0   3rd Qu.:0  \n",
      " Max.   :0   Max.   :0   Max.   :0   Max.   :0   Max.   :0   Max.   :0  \n",
      "    AW4_LW_7    AW4_LW_8    AW4_LW_9    AW4_MC_1    AW4_MC_2    AW4_MC_3\n",
      " Min.   :0   Min.   :0   Min.   :0   Min.   :0   Min.   :0   Min.   :0  \n",
      " 1st Qu.:0   1st Qu.:0   1st Qu.:0   1st Qu.:0   1st Qu.:0   1st Qu.:0  \n",
      " Median :0   Median :0   Median :0   Median :0   Median :0   Median :0  \n",
      " Mean   :0   Mean   :0   Mean   :0   Mean   :0   Mean   :0   Mean   :0  \n",
      " 3rd Qu.:0   3rd Qu.:0   3rd Qu.:0   3rd Qu.:0   3rd Qu.:0   3rd Qu.:0  \n",
      " Max.   :0   Max.   :0   Max.   :0   Max.   :0   Max.   :0   Max.   :0  \n",
      "    AW4_MC_4    AW4_MC_5    AW4_MC_6   AW4_MD_10    AW4_MD_1    AW4_MD_2\n",
      " Min.   :0   Min.   :0   Min.   :0   Min.   :0   Min.   :0   Min.   :0  \n",
      " 1st Qu.:0   1st Qu.:0   1st Qu.:0   1st Qu.:0   1st Qu.:0   1st Qu.:0  \n",
      " Median :0   Median :0   Median :0   Median :0   Median :0   Median :0  \n",
      " Mean   :0   Mean   :0   Mean   :0   Mean   :0   Mean   :0   Mean   :0  \n",
      " 3rd Qu.:0   3rd Qu.:0   3rd Qu.:0   3rd Qu.:0   3rd Qu.:0   3rd Qu.:0  \n",
      " Max.   :0   Max.   :0   Max.   :0   Max.   :0   Max.   :0   Max.   :0  \n",
      "    AW4_MD_3    AW4_MD_4    AW4_MD_5    AW4_MD_6    AW4_MD_7    AW4_MD_8\n",
      " Min.   :0   Min.   :0   Min.   :0   Min.   :0   Min.   :0   Min.   :0  \n",
      " 1st Qu.:0   1st Qu.:0   1st Qu.:0   1st Qu.:0   1st Qu.:0   1st Qu.:0  \n",
      " Median :0   Median :0   Median :0   Median :0   Median :0   Median :0  \n",
      " Mean   :0   Mean   :0   Mean   :0   Mean   :0   Mean   :0   Mean   :0  \n",
      " 3rd Qu.:0   3rd Qu.:0   3rd Qu.:0   3rd Qu.:0   3rd Qu.:0   3rd Qu.:0  \n",
      " Max.   :0   Max.   :0   Max.   :0   Max.   :0   Max.   :0   Max.   :0  \n",
      "    AW4_MD_9   AW4_MK_220   AW4_MK_221   AW4_MK_222   AW4_MK_223   AW4_MK_224\n",
      " Min.   :0   Min.   :0    Min.   :0    Min.   :0    Min.   :0    Min.   :0   \n",
      " 1st Qu.:0   1st Qu.:0    1st Qu.:0    1st Qu.:0    1st Qu.:0    1st Qu.:0   \n",
      " Median :0   Median :0    Median :0    Median :0    Median :0    Median :0   \n",
      " Mean   :0   Mean   :0    Mean   :0    Mean   :0    Mean   :0    Mean   :0   \n",
      " 3rd Qu.:0   3rd Qu.:0    3rd Qu.:0    3rd Qu.:0    3rd Qu.:0    3rd Qu.:0   \n",
      " Max.   :0   Max.   :0    Max.   :0    Max.   :0    Max.   :0    Max.   :0   \n",
      "   AW4_MK_225   AW4_MK_226   AW4_MK_227   AW4_MK_228   AW4_MK_229   AW4_MK_230\n",
      " Min.   :0    Min.   :0    Min.   :0    Min.   :0    Min.   :0    Min.   :0   \n",
      " 1st Qu.:0    1st Qu.:0    1st Qu.:0    1st Qu.:0    1st Qu.:0    1st Qu.:0   \n",
      " Median :0    Median :0    Median :0    Median :0    Median :0    Median :0   \n",
      " Mean   :0    Mean   :0    Mean   :0    Mean   :0    Mean   :0    Mean   :0   \n",
      " 3rd Qu.:0    3rd Qu.:0    3rd Qu.:0    3rd Qu.:0    3rd Qu.:0    3rd Qu.:0   \n",
      " Max.   :0    Max.   :0    Max.   :0    Max.   :0    Max.   :0    Max.   :0   \n",
      "   AW4_MK_231   AW4_MK_233   AW4_MK_234   AW4_MK_235   AW4_MK_236    AW4_OE_1\n",
      " Min.   :0    Min.   :0    Min.   :0    Min.   :0    Min.   :0    Min.   :0  \n",
      " 1st Qu.:0    1st Qu.:0    1st Qu.:0    1st Qu.:0    1st Qu.:0    1st Qu.:0  \n"
     ]
    },
    {
     "name": "stdout",
     "output_type": "stream",
     "text": [
      " Median :0    Median :0    Median :0    Median :0    Median :0    Median :0  \n",
      " Mean   :0    Mean   :0    Mean   :0    Mean   :0    Mean   :0    Mean   :0  \n",
      " 3rd Qu.:0    3rd Qu.:0    3rd Qu.:0    3rd Qu.:0    3rd Qu.:0    3rd Qu.:0  \n",
      " Max.   :0    Max.   :0    Max.   :0    Max.   :0    Max.   :0    Max.   :0  \n",
      "    AW4_OE_2    AW4_OE_3    AW4_OE_4    AW4_OE_5    AW4_OE_6    AW4_OE_7\n",
      " Min.   :0   Min.   :0   Min.   :0   Min.   :0   Min.   :0   Min.   :0  \n",
      " 1st Qu.:0   1st Qu.:0   1st Qu.:0   1st Qu.:0   1st Qu.:0   1st Qu.:0  \n",
      " Median :0   Median :0   Median :0   Median :0   Median :0   Median :0  \n",
      " Mean   :0   Mean   :0   Mean   :0   Mean   :0   Mean   :0   Mean   :0  \n",
      " 3rd Qu.:0   3rd Qu.:0   3rd Qu.:0   3rd Qu.:0   3rd Qu.:0   3rd Qu.:0  \n",
      " Max.   :0   Max.   :0   Max.   :0   Max.   :0   Max.   :0   Max.   :0  \n",
      "    AW4_OE_8    AW4_OE_9    AW4_OW_1    AW4_OW_2    AW4_OW_3    AW4_OW_4\n",
      " Min.   :0   Min.   :0   Min.   :0   Min.   :0   Min.   :0   Min.   :0  \n",
      " 1st Qu.:0   1st Qu.:0   1st Qu.:0   1st Qu.:0   1st Qu.:0   1st Qu.:0  \n",
      " Median :0   Median :0   Median :0   Median :0   Median :0   Median :0  \n",
      " Mean   :0   Mean   :0   Mean   :0   Mean   :0   Mean   :0   Mean   :0  \n",
      " 3rd Qu.:0   3rd Qu.:0   3rd Qu.:0   3rd Qu.:0   3rd Qu.:0   3rd Qu.:0  \n",
      " Max.   :0   Max.   :0   Max.   :0   Max.   :0   Max.   :0   Max.   :0  \n",
      "    AW4_OW_5    AW4_OW_6    AW4_OW_7    AW4_OW_8    AW4_OW_9    AW4_PD_1\n",
      " Min.   :0   Min.   :0   Min.   :0   Min.   :0   Min.   :0   Min.   :0  \n",
      " 1st Qu.:0   1st Qu.:0   1st Qu.:0   1st Qu.:0   1st Qu.:0   1st Qu.:0  \n",
      " Median :0   Median :0   Median :0   Median :0   Median :0   Median :0  \n",
      " Mean   :0   Mean   :0   Mean   :0   Mean   :0   Mean   :0   Mean   :0  \n",
      " 3rd Qu.:0   3rd Qu.:0   3rd Qu.:0   3rd Qu.:0   3rd Qu.:0   3rd Qu.:0  \n",
      " Max.   :0   Max.   :0   Max.   :0   Max.   :0   Max.   :0   Max.   :0  \n",
      "    AW4_PD_2    AW4_PD_3    AW4_PD_4    AW4_PD_5    AW4_PD_6    AW4_PM_1\n",
      " Min.   :0   Min.   :0   Min.   :0   Min.   :0   Min.   :0   Min.   :0  \n",
      " 1st Qu.:0   1st Qu.:0   1st Qu.:0   1st Qu.:0   1st Qu.:0   1st Qu.:0  \n",
      " Median :0   Median :0   Median :0   Median :0   Median :0   Median :0  \n",
      " Mean   :0   Mean   :0   Mean   :0   Mean   :0   Mean   :0   Mean   :0  \n",
      " 3rd Qu.:0   3rd Qu.:0   3rd Qu.:0   3rd Qu.:0   3rd Qu.:0   3rd Qu.:0  \n",
      " Max.   :0   Max.   :0   Max.   :0   Max.   :0   Max.   :0   Max.   :0  \n",
      "    AW4_PM_2    AW4_PM_3    AW4_PM_4    AW4_PM_5    AW4_PM_6    AW4_PM_7\n",
      " Min.   :0   Min.   :0   Min.   :0   Min.   :0   Min.   :0   Min.   :0  \n",
      " 1st Qu.:0   1st Qu.:0   1st Qu.:0   1st Qu.:0   1st Qu.:0   1st Qu.:0  \n",
      " Median :0   Median :0   Median :0   Median :0   Median :0   Median :0  \n",
      " Mean   :0   Mean   :0   Mean   :0   Mean   :0   Mean   :0   Mean   :0  \n",
      " 3rd Qu.:0   3rd Qu.:0   3rd Qu.:0   3rd Qu.:0   3rd Qu.:0   3rd Qu.:0  \n",
      " Max.   :0   Max.   :0   Max.   :0   Max.   :0   Max.   :0   Max.   :0  \n",
      "    AW4_PM_8    AW4_PM_9   AW4_SB_10    AW4_SB_1    AW4_SB_2    AW4_SB_3\n",
      " Min.   :0   Min.   :0   Min.   :0   Min.   :0   Min.   :0   Min.   :0  \n",
      " 1st Qu.:0   1st Qu.:0   1st Qu.:0   1st Qu.:0   1st Qu.:0   1st Qu.:0  \n",
      " Median :0   Median :0   Median :0   Median :0   Median :0   Median :0  \n",
      " Mean   :0   Mean   :0   Mean   :0   Mean   :0   Mean   :0   Mean   :0  \n",
      " 3rd Qu.:0   3rd Qu.:0   3rd Qu.:0   3rd Qu.:0   3rd Qu.:0   3rd Qu.:0  \n",
      " Max.   :0   Max.   :0   Max.   :0   Max.   :0   Max.   :0   Max.   :0  \n",
      "    AW4_SB_4    AW4_SB_5    AW4_SB_6    AW4_SB_7    AW4_SB_8    AW4_SB_9\n",
      " Min.   :0   Min.   :0   Min.   :0   Min.   :0   Min.   :0   Min.   :0  \n",
      " 1st Qu.:0   1st Qu.:0   1st Qu.:0   1st Qu.:0   1st Qu.:0   1st Qu.:0  \n",
      " Median :0   Median :0   Median :0   Median :0   Median :0   Median :0  \n",
      " Mean   :0   Mean   :0   Mean   :0   Mean   :0   Mean   :0   Mean   :0  \n",
      " 3rd Qu.:0   3rd Qu.:0   3rd Qu.:0   3rd Qu.:0   3rd Qu.:0   3rd Qu.:0  \n",
      " Max.   :0   Max.   :0   Max.   :0   Max.   :0   Max.   :0   Max.   :0  \n",
      "   AW4_SC_10    AW4_SC_1    AW4_SC_2    AW4_SC_3    AW4_SC_4    AW4_SC_5\n",
      " Min.   :0   Min.   :0   Min.   :0   Min.   :0   Min.   :0   Min.   :0  \n",
      " 1st Qu.:0   1st Qu.:0   1st Qu.:0   1st Qu.:0   1st Qu.:0   1st Qu.:0  \n",
      " Median :0   Median :0   Median :0   Median :0   Median :0   Median :0  \n",
      " Mean   :0   Mean   :0   Mean   :0   Mean   :0   Mean   :0   Mean   :0  \n",
      " 3rd Qu.:0   3rd Qu.:0   3rd Qu.:0   3rd Qu.:0   3rd Qu.:0   3rd Qu.:0  \n",
      " Max.   :0   Max.   :0   Max.   :0   Max.   :0   Max.   :0   Max.   :0  \n",
      "    AW4_SC_6    AW4_SC_7    AW4_SC_8    AW4_SC_9   AW4_SR_10    AW4_SR_1\n",
      " Min.   :0   Min.   :0   Min.   :0   Min.   :0   Min.   :0   Min.   :0  \n",
      " 1st Qu.:0   1st Qu.:0   1st Qu.:0   1st Qu.:0   1st Qu.:0   1st Qu.:0  \n",
      " Median :0   Median :0   Median :0   Median :0   Median :0   Median :0  \n",
      " Mean   :0   Mean   :0   Mean   :0   Mean   :0   Mean   :0   Mean   :0  \n",
      " 3rd Qu.:0   3rd Qu.:0   3rd Qu.:0   3rd Qu.:0   3rd Qu.:0   3rd Qu.:0  \n",
      " Max.   :0   Max.   :0   Max.   :0   Max.   :0   Max.   :0   Max.   :0  \n",
      "    AW4_SR_2    AW4_SR_3    AW4_SR_4    AW4_SR_5    AW4_SR_6    AW4_SR_7\n",
      " Min.   :0   Min.   :0   Min.   :0   Min.   :0   Min.   :0   Min.   :0  \n",
      " 1st Qu.:0   1st Qu.:0   1st Qu.:0   1st Qu.:0   1st Qu.:0   1st Qu.:0  \n",
      " Median :0   Median :0   Median :0   Median :0   Median :0   Median :0  \n",
      " Mean   :0   Mean   :0   Mean   :0   Mean   :0   Mean   :0   Mean   :0  \n",
      " 3rd Qu.:0   3rd Qu.:0   3rd Qu.:0   3rd Qu.:0   3rd Qu.:0   3rd Qu.:0  \n",
      " Max.   :0   Max.   :0   Max.   :0   Max.   :0   Max.   :0   Max.   :0  \n",
      "    AW4_SR_8    AW4_SR_9   AW4_SS_10    AW4_SS_1    AW4_SS_2    AW4_SS_3\n",
      " Min.   :0   Min.   :0   Min.   :0   Min.   :0   Min.   :0   Min.   :0  \n",
      " 1st Qu.:0   1st Qu.:0   1st Qu.:0   1st Qu.:0   1st Qu.:0   1st Qu.:0  \n",
      " Median :0   Median :0   Median :0   Median :0   Median :0   Median :0  \n",
      " Mean   :0   Mean   :0   Mean   :0   Mean   :0   Mean   :0   Mean   :0  \n",
      " 3rd Qu.:0   3rd Qu.:0   3rd Qu.:0   3rd Qu.:0   3rd Qu.:0   3rd Qu.:0  \n",
      " Max.   :0   Max.   :0   Max.   :0   Max.   :0   Max.   :0   Max.   :0  \n",
      "    AW4_SS_4    AW4_SS_5    AW4_SS_6    AW4_SS_7    AW4_SS_8    AW4_SS_9\n",
      " Min.   :0   Min.   :0   Min.   :0   Min.   :0   Min.   :0   Min.   :0  \n",
      " 1st Qu.:0   1st Qu.:0   1st Qu.:0   1st Qu.:0   1st Qu.:0   1st Qu.:0  \n",
      " Median :0   Median :0   Median :0   Median :0   Median :0   Median :0  \n",
      " Mean   :0   Mean   :0   Mean   :0   Mean   :0   Mean   :0   Mean   :0  \n",
      " 3rd Qu.:0   3rd Qu.:0   3rd Qu.:0   3rd Qu.:0   3rd Qu.:0   3rd Qu.:0  \n",
      " Max.   :0   Max.   :0   Max.   :0   Max.   :0   Max.   :0   Max.   :0  \n",
      "    AW4_WH_1    AW4_WH_2    AW4_WH_3    AW4_WH_4    AW4_WH_5    AW4_WH_6\n",
      " Min.   :0   Min.   :0   Min.   :0   Min.   :0   Min.   :0   Min.   :0  \n",
      " 1st Qu.:0   1st Qu.:0   1st Qu.:0   1st Qu.:0   1st Qu.:0   1st Qu.:0  \n",
      " Median :0   Median :0   Median :0   Median :0   Median :0   Median :0  \n",
      " Mean   :0   Mean   :0   Mean   :0   Mean   :0   Mean   :0   Mean   :0  \n",
      " 3rd Qu.:0   3rd Qu.:0   3rd Qu.:0   3rd Qu.:0   3rd Qu.:0   3rd Qu.:0  \n",
      " Max.   :0   Max.   :0   Max.   :0   Max.   :0   Max.   :0   Max.   :0  \n",
      "   AW4_WJ_10    AW4_WJ_1    AW4_WJ_2    AW4_WJ_4    AW4_WJ_5    AW4_WJ_6\n",
      " Min.   :0   Min.   :0   Min.   :0   Min.   :0   Min.   :0   Min.   :0  \n",
      " 1st Qu.:0   1st Qu.:0   1st Qu.:0   1st Qu.:0   1st Qu.:0   1st Qu.:0  \n",
      " Median :0   Median :0   Median :0   Median :0   Median :0   Median :0  \n",
      " Mean   :0   Mean   :0   Mean   :0   Mean   :0   Mean   :0   Mean   :0  \n",
      " 3rd Qu.:0   3rd Qu.:0   3rd Qu.:0   3rd Qu.:0   3rd Qu.:0   3rd Qu.:0  \n",
      " Max.   :0   Max.   :0   Max.   :0   Max.   :0   Max.   :0   Max.   :0  \n",
      "    AW4_WJ_7    AW4_WJ_8    AW4_WJ_9   AW4_YV_10    AW4_YV_1    AW4_YV_2\n",
      " Min.   :0   Min.   :0   Min.   :0   Min.   :0   Min.   :0   Min.   :0  \n",
      " 1st Qu.:0   1st Qu.:0   1st Qu.:0   1st Qu.:0   1st Qu.:0   1st Qu.:0  \n",
      " Median :0   Median :0   Median :0   Median :0   Median :0   Median :0  \n",
      " Mean   :0   Mean   :0   Mean   :0   Mean   :0   Mean   :0   Mean   :0  \n",
      " 3rd Qu.:0   3rd Qu.:0   3rd Qu.:0   3rd Qu.:0   3rd Qu.:0   3rd Qu.:0  \n",
      " Max.   :0   Max.   :0   Max.   :0   Max.   :0   Max.   :0   Max.   :0  \n",
      "    AW4_YV_3    AW4_YV_4    AW4_YV_5    AW4_YV_6    AW4_YV_7    AW4_YV_8\n",
      " Min.   :0   Min.   :0   Min.   :0   Min.   :0   Min.   :0   Min.   :0  \n"
     ]
    },
    {
     "name": "stdout",
     "output_type": "stream",
     "text": [
      " 1st Qu.:0   1st Qu.:0   1st Qu.:0   1st Qu.:0   1st Qu.:0   1st Qu.:0  \n",
      " Median :0   Median :0   Median :0   Median :0   Median :0   Median :0  \n",
      " Mean   :0   Mean   :0   Mean   :0   Mean   :0   Mean   :0   Mean   :0  \n",
      " 3rd Qu.:0   3rd Qu.:0   3rd Qu.:0   3rd Qu.:0   3rd Qu.:0   3rd Qu.:0  \n",
      " Max.   :0   Max.   :0   Max.   :0   Max.   :0   Max.   :0   Max.   :0  \n",
      "    AW4_YV_9\n",
      " Min.   :0  \n",
      " 1st Qu.:0  \n",
      " Median :0  \n",
      " Mean   :0  \n",
      " 3rd Qu.:0  \n",
      " Max.   :0  \n"
     ]
    }
   ],
   "source": [
    "%%R\n",
    "summary(tot_ad_4[40397,])"
   ]
  },
  {
   "cell_type": "code",
   "execution_count": 168,
   "metadata": {},
   "outputs": [],
   "source": [
    "%%R\n",
    "seq_err_df <- data.frame(error=round(seq_error,5))\n",
    "write.table(seq_err_df,'seq_error.txt',row.names=FALSE,col.names=FALSE)"
   ]
  },
  {
   "cell_type": "markdown",
   "metadata": {},
   "source": [
    "## EBG \n",
    "\n",
    "https://pblischak.github.io/polyploid-genotyping/\n",
    "\n",
    "**Input data formats:**  \n",
    "There are three input files that are necessary to run an analysis with ebg (four if you are using the alloSNP model). The read count data files (total and alternative allele read counts) should be in plain text files as tab delimited matrices with individuals as rows and loci as columns. The per locus error rates files should be a single column with the error value listed for each locus on one line.  \n",
    "  \n",
    "Reference allele frequencies (**alloSNP** model only)  \n",
    "If you are running the *alloSNP* model, you will need a reference panel of allele frequencies for the genotypes in subgenomes one. This should be formated in the same way as the per locus error rates file: one allele frequency per locus listed on separate lines.  \n",
    "  \n",
    "**Running analyses:**  \n",
    "Analyses for each model can be run from the command line by calling the ebg executable. The options for each of the models can be viewed by typing: ebg model -h. Below we have given an example of what should be typed at the command line to run each model.  \n",
    "  \n",
    "**hwe**  \n",
    "ebg hwe -t tot-reads.txt \\  \n",
    "        -a alt-reads.txt \\  \n",
    "        -e error.txt \\  \n",
    "        -p 4 \\  \n",
    "        --iters 1000 \\  \n",
    "        --prefix hwe-test   \n",
    "**diseq**  \n",
    "ebg diseq -t tot-reads.txt \\  \n",
    "          -a alt-reads.txt \\  \n",
    "          -e error.txt \\  \n",
    "          -p 4 \\  \n",
    "          --iters 1000 \\  \n",
    "          --prefix diseq-test  \n",
    "          \n",
    "          \n",
    "**alloSNP**  \n",
    "ebg alloSNP -f reference-freqs.txt \\  \n",
    "            -t tot-reads.txt \\  \n",
    "            -a alt-reads.txt \\  \n",
    "            -e error.txt \\  \n",
    "            -p1 2 \\  \n",
    "            -p2 4 \\  \n",
    "            --iters 1000 \\  \n",
    "            --prefix alloSNP-test  \n",
    "            \n",
    "**notes**   \n",
    "    - EM iterations so 1000 is just the limit  \n",
    "    \n",
    "**Ways we want to run**  \n",
    "    - hwe preformed poorly so just diseq and alloSNP  \n",
    "    - diseq just run all tetraploids as auto  \n",
    "    - allosnp: run just wyomingensis with tridentata and vayesana diploid allele freqs  \n",
    "        - need to wait for entropy to get allele freqs for AT and AV before running allosnp\n",
    "        \n",
    "        **REMOVE CM042346.1:131497851, 40397**"
   ]
  },
  {
   "cell_type": "code",
   "execution_count": 169,
   "metadata": {},
   "outputs": [
    {
     "name": "stdout",
     "output_type": "stream",
     "text": [
      "/data/gpfs/assoc/denovo/tfaske/sagebrush/SNPcall/ebg\n"
     ]
    }
   ],
   "source": [
    "cd $ebg_dir"
   ]
  },
  {
   "cell_type": "markdown",
   "metadata": {},
   "source": [
    "#### Make input files "
   ]
  },
  {
   "cell_type": "code",
   "execution_count": 173,
   "metadata": {},
   "outputs": [],
   "source": [
    "%%R\n",
    "Pop_ID <- read.csv('Pop_ID.csv')\n",
    "tot_ad <- data.frame(fread('tot_ad.txt'))\n",
    "ref_ad <- data.frame(fread('ref_ad.txt'))"
   ]
  },
  {
   "cell_type": "code",
   "execution_count": 177,
   "metadata": {},
   "outputs": [
    {
     "name": "stdout",
     "output_type": "stream",
     "text": [
      "[1] 289\n",
      "[1] 42513   289\n",
      "[1] 42513   289\n"
     ]
    }
   ],
   "source": [
    "%%R\n",
    "ploidy_index <- which(Pop_ID$Ploidy == 4)\n",
    "tot_ad_4 <- tot_ad[,ploidy_index]\n",
    "ref_ad_4 <- ref_ad[,ploidy_index]\n",
    "Pop_ID_4 <- Pop_ID[ploidy_index,]\n",
    "\n",
    "print(length(ploidy_index))\n",
    "print(dim(tot_ad_4))\n",
    "print(dim(ref_ad_4))"
   ]
  },
  {
   "cell_type": "code",
   "execution_count": 230,
   "metadata": {},
   "outputs": [
    {
     "name": "stderr",
     "output_type": "stream",
     "text": [
      "WARNING:rpy2.rinterface_lib.callbacks:R[write to console]: x being coerced from class: matrix to data.table\n",
      "\n",
      "WARNING:rpy2.rinterface_lib.callbacks:R[write to console]: x being coerced from class: matrix to data.table\n",
      "\n"
     ]
    }
   ],
   "source": [
    "%%R\n",
    "write.csv(Pop_ID_4,'Pop_ID_4.csv',row.names=FALSE)\n",
    "fwrite(t(tot_ad_4[-40397,]),'tot_ad_4.txt',sep='\\t',row.names=FALSE,col.names=FALSE)\n",
    "fwrite(t(ref_ad_4[-40397,]),'ref_ad_4.txt',sep='\\t',row.names=FALSE,col.names=FALSE)"
   ]
  },
  {
   "cell_type": "code",
   "execution_count": 231,
   "metadata": {},
   "outputs": [],
   "source": [
    "### select options for slurm submission\n",
    "#account = 'cpu-s1-bionres-0'\n",
    "#partition = 'cpu-s1-bionres-0'\n",
    "account = 'cpu-s5-denovo-0'\n",
    "partition = 'cpu-core-0'\n",
    "time = '10-00:00:00' #time limit 1 day\n",
    "cpus = 1\n",
    "mem_cpu = 36000\n",
    "email = 'tfaske@nevada.unr.edu'\n",
    "\n",
    "### ebg inputs\n",
    "ebg = '/data/gpfs/assoc/parchmanlab/tfaske/src/polyploid-genotyping/ebg/./ebg'\n",
    "nindv = 289\n",
    "nloci = 42512\n",
    "tot_file = 'tot_ad_4.txt'\n",
    "ref_file = 'ref_ad_4.txt'\n",
    "error_file = 'seq_error.txt'\n",
    "out_file = 'ARTR.diseq.all'"
   ]
  },
  {
   "cell_type": "code",
   "execution_count": 232,
   "metadata": {},
   "outputs": [],
   "source": [
    "def write_ebg_diseq_sh(account,partition,time,cpus,mem_cpu,email,ebg,nindv,nloci,tot_file,ref_file,error_file,out_file):\n",
    "    with open(\"run_ebg_diseq.sh\", \"w\") as o:\n",
    "        o.write(\"\"\"#!/usr/bin/env bash\n",
    "#SBATCH --account=%s\n",
    "#SBATCH --partition=%s\n",
    "#SBATCH --time=%s\n",
    "#SBATCH --ntasks 1\n",
    "#SBATCH --cpus-per-task %d\n",
    "#SBATCH --mem-per-cpu=%d\n",
    "#SBATCH --job-name ebg_diseq\n",
    "#SBATCH --output output_ebg_diseq.txt\n",
    "#SBATCH --mail-type=FAIL,END\n",
    "#SBATCH --mail-user=%s \\n\n",
    "\n",
    "%s diseq -n %s -l %s -t %s -a %s -e %s -p 4 --iters 1000 --prefix %s \\n\"\"\" % \n",
    "                (account,partition,time,int(cpus),int(mem_cpu),email,ebg,nindv,nloci,tot_file,ref_file,error_file,out_file))\n",
    "        "
   ]
  },
  {
   "cell_type": "code",
   "execution_count": 233,
   "metadata": {},
   "outputs": [],
   "source": [
    "write_ebg_diseq_sh(account,partition,time,cpus,mem_cpu,email,ebg,nindv,nloci,tot_file,ref_file,error_file,out_file)"
   ]
  },
  {
   "cell_type": "code",
   "execution_count": null,
   "metadata": {},
   "outputs": [],
   "source": []
  },
  {
   "cell_type": "code",
   "execution_count": null,
   "metadata": {},
   "outputs": [],
   "source": []
  }
 ],
 "metadata": {
  "kernelspec": {
   "display_name": "Python 3",
   "language": "python",
   "name": "python3"
  },
  "language_info": {
   "codemirror_mode": {
    "name": "ipython",
    "version": 3
   },
   "file_extension": ".py",
   "mimetype": "text/x-python",
   "name": "python",
   "nbconvert_exporter": "python",
   "pygments_lexer": "ipython3",
   "version": "3.6.7"
  }
 },
 "nbformat": 4,
 "nbformat_minor": 1
}
