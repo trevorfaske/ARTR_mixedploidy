{
 "cells": [
  {
   "cell_type": "markdown",
   "metadata": {},
   "source": [
    "# Does everything to run entropy and creates slurm files to submit\n",
    "\n",
    "Goal is 4 chains k=2-8.\n",
    "\n",
    "**Creates mpgl file from PL in vcf if running GATK**.   \n"
   ]
  },
  {
   "cell_type": "code",
   "execution_count": 1,
   "metadata": {},
   "outputs": [
    {
     "name": "stdout",
     "output_type": "stream",
     "text": [
      "/usr/bin/sh: line 0: source: activate: file not found\r\n"
     ]
    }
   ],
   "source": [
    "!source activate py36"
   ]
  },
  {
   "cell_type": "code",
   "execution_count": 2,
   "metadata": {},
   "outputs": [],
   "source": [
    "import sys\n",
    "\n",
    "#sys.path.append('/home/faske/g/anaconda3/envs/py34/lib/python3.4/site-packages')\n",
    "sys.path.append('/data/gpfs/assoc/parchmanlab/tfaske/anaconda3/envs/py36/lib/python3.6/site-packages')\n",
    "sys.path.append(\"/data/gpfs/assoc/parchmanlab/tfaske/ipynb/include_utils\")\n",
    "\n",
    "import ipyparallel as ipp\n",
    "import os, time\n",
    "import include_utils as u\n",
    "import pandas as pd\n",
    "import numpy as np\n",
    "import scipy as sp\n",
    "import random\n",
    "import numbers\n",
    "import matplotlib.pyplot as plt\n",
    "import matplotlib.patches as mpatches\n",
    "import matplotlib.cm as cm\n",
    "import matplotlib.colors as mcolors\n",
    "#import vcf\n",
    "from sklearn import preprocessing\n",
    "from subprocess import Popen, PIPE, call, check_output\n",
    "import seaborn as sns\n",
    "from IPython.display import FileLink\n",
    "import urllib.request as urllib2\n",
    "import dill\n",
    "import traceback\n",
    "from pandas import Series, DataFrame\n",
    "import gzip\n",
    "import warnings\n",
    "warnings.filterwarnings('ignore',category=pd.io.pytables.PerformanceWarning)\n",
    "%config InlineBackend.figure_format = 'retina'\n",
    "from Bio import SeqIO\n",
    "#import pysam\n",
    "from collections import OrderedDict, namedtuple, Counter\n",
    "import operator\n",
    "import multiprocessing as mp\n",
    "import shutil\n",
    "import tempfile\n",
    "#from ipyparallel import Client\n",
    "import scandir\n",
    "import glob\n",
    "from Bio.SeqIO.QualityIO import FastqGeneralIterator\n",
    "import pickle\n",
    "import re\n",
    "from itertools import chain\n",
    "#import Levenshtein as lv"
   ]
  },
  {
   "cell_type": "markdown",
   "metadata": {},
   "source": [
    "#### assessing with limited snps just to get code right. "
   ]
  },
  {
   "cell_type": "code",
   "execution_count": 3,
   "metadata": {},
   "outputs": [],
   "source": [
    "root = '/data/gpfs/assoc/denovo/tfaske/sagebrush/denovo/SNPcall/gatk'"
   ]
  },
  {
   "cell_type": "code",
   "execution_count": 4,
   "metadata": {},
   "outputs": [
    {
     "name": "stdout",
     "output_type": "stream",
     "text": [
      "/data/gpfs/assoc/denovo/tfaske/sagebrush/denovo/SNPcall/gatk\n"
     ]
    }
   ],
   "source": [
    "cd $root"
   ]
  },
  {
   "cell_type": "markdown",
   "metadata": {},
   "source": [
    "### Create mgpl & pntest files with associated dir   \n",
    "\n",
    "Uses custom R script to do so"
   ]
  },
  {
   "cell_type": "code",
   "execution_count": 5,
   "metadata": {},
   "outputs": [],
   "source": [
    "ent_dir =os.path.join(root,'entropy')\n",
    "assert ent_dir"
   ]
  },
  {
   "cell_type": "code",
   "execution_count": 6,
   "metadata": {},
   "outputs": [
    {
     "name": "stdout",
     "output_type": "stream",
     "text": [
      "/data/gpfs/assoc/denovo/tfaske/sagebrush/denovo/SNPcall/gatk/entropy\n"
     ]
    }
   ],
   "source": [
    "cd $ent_dir"
   ]
  },
  {
   "cell_type": "code",
   "execution_count": 7,
   "metadata": {},
   "outputs": [],
   "source": [
    "!gunzip 'gatk.ALL.final.vcf.gz'"
   ]
  },
  {
   "cell_type": "code",
   "execution_count": 8,
   "metadata": {},
   "outputs": [],
   "source": [
    "%load_ext rpy2.ipython"
   ]
  },
  {
   "cell_type": "code",
   "execution_count": 9,
   "metadata": {},
   "outputs": [
    {
     "name": "stderr",
     "output_type": "stream",
     "text": [
      "R[write to console]: Loading required package: readr\n",
      "\n",
      "R[write to console]: Loading required package: MASS\n",
      "\n",
      "R[write to console]: Loading required package: LEA\n",
      "\n",
      "R[write to console]: Loading required package: ggplot2\n",
      "\n",
      "R[write to console]: \n",
      "   *****       ***   vcfR   ***       *****\n",
      "   This is vcfR 1.8.0 \n",
      "     browseVignettes('vcfR') # Documentation\n",
      "     citation('vcfR') # Citation\n",
      "   *****       *****      *****       *****\n",
      "\n",
      "\n"
     ]
    }
   ],
   "source": [
    "%%R\n",
    "require(readr)\n",
    "require(MASS)\n",
    "require(LEA)\n",
    "require(ggplot2)\n",
    "library(vcfR)\n",
    "\n",
    "source('/data/gpfs/home/tfaske/g/src/R/Imports.R')\n",
    "\n",
    "setwd('/data/gpfs/assoc/denovo/tfaske/sagebrush/denovo/SNPcall/gatk/entropy')"
   ]
  },
  {
   "cell_type": "code",
   "execution_count": 10,
   "metadata": {},
   "outputs": [],
   "source": [
    "%%R\n",
    "vcf <- read.vcfR(\"gatk.ALL.final.vcf\", verbose = FALSE)\n",
    "\n",
    "#get positions\n",
    "chrom <- getCHROM(vcf)\n",
    "pos <- getPOS(vcf)\n",
    "pos_ID <- paste(chrom,pos,sep = ':')\n",
    "\n",
    "#get pl and gt\n",
    "pl <- extract.gt(vcf, element = 'PL')\n",
    "gt <- extract.gt(vcf, element = 'GT')"
   ]
  },
  {
   "cell_type": "code",
   "execution_count": 11,
   "metadata": {},
   "outputs": [
    {
     "name": "stdout",
     "output_type": "stream",
     "text": [
      "[1] 35311\n",
      " [1] \"dDocent_Contig_33205:21\" \"dDocent_Contig_45538:49\"\n",
      " [3] \"dDocent_Contig_47372:37\" \"dDocent_Contig_53695:69\"\n",
      " [5] \"dDocent_Contig_54063:13\" \"dDocent_Contig_55085:75\"\n",
      " [7] \"dDocent_Contig_57409:13\" \"dDocent_Contig_57557:38\"\n",
      " [9] \"dDocent_Contig_59197:37\" \"dDocent_Contig_59336:19\"\n",
      "                        AT2_BB_1   AT2_BB_10   AT2_BB_11  AT2_BB_12 \n",
      "dDocent_Contig_33205_21 \"0,18,247\" \"0,0,209\"   \"0,0,408\"  \"0,13,526\"\n",
      "dDocent_Contig_45538_49 \"0,3,485\"  \"315,0,270\" \"78,0,78\"  \"75,0,120\"\n",
      "dDocent_Contig_47372_37 \"0,57,772\" \"0,36,482\"  \"0,12,159\" \"0,24,303\"\n",
      "dDocent_Contig_53695_69 \"0,51,688\" \"0,35,623\"  \"0,36,478\" \"0,24,296\"\n",
      "dDocent_Contig_54063_13 \"0,30,402\" \"0,36,483\"  \"0,24,307\" \"0,75,998\"\n",
      "                        AT2_BB_13  \n",
      "dDocent_Contig_33205_21 \"0,87,1189\"\n",
      "dDocent_Contig_45538_49 \"141,0,366\"\n",
      "dDocent_Contig_47372_37 \"0,33,459\" \n",
      "dDocent_Contig_53695_69 \"0,12,144\" \n",
      "dDocent_Contig_54063_13 \"0,99,1350\"\n"
     ]
    }
   ],
   "source": [
    "%%R\n",
    "## check out PL and pos_ID\n",
    "print(length(pos_ID))\n",
    "print(pos_ID[1:10])\n",
    "pl[1:5,1:5]"
   ]
  },
  {
   "cell_type": "code",
   "execution_count": 12,
   "metadata": {},
   "outputs": [],
   "source": [
    "%%R\n",
    "#converts pl to mpgl format\n",
    "mpgl <- apply(pl, c(1,2), function(df) gsub(',',' ',df,fixed=TRUE))"
   ]
  },
  {
   "cell_type": "code",
   "execution_count": 15,
   "metadata": {},
   "outputs": [
    {
     "name": "stdout",
     "output_type": "stream",
     "text": [
      "                         AW4_OE_4           AW4_OE_5        AW4_OE_6        \n",
      "dDocent_Contig_390288_38 \"60,0,10,33,353\"   \"0,5,12,23,114\" \"0,9,21,42,292\" \n",
      "dDocent_Contig_390322_20 \"0,21,51,102,686\"  \"0,0,0,0,167\"   \"0,16,39,78,543\"\n",
      "dDocent_Contig_391987_82 \"0,0,0,0,0\"        \"0,0,0,0,0\"     \"0,0,0,0,0\"     \n",
      "dDocent_Contig_392092_31 \"0,11,27,54,376\"   \"68,1,0,6,110\"  \"0,6,15,30,197\" \n",
      "dDocent_Contig_392438_18 \"473,0,11,76,1206\" \"143,5,0,5,143\" \"92,0,12,43,494\"\n",
      "dDocent_Contig_395037_22 \"0,15,36,72,501\"   \"0,4,9,18,113\"  \"0,19,45,90,615\"\n",
      "                         AW4_OE_7          AW4_OE_8        AW4_OE_9         \n",
      "dDocent_Contig_390288_38 \"0,1,3,6,42\"      \"0,0,0,0,0\"     \"0,15,36,72,489\" \n",
      "dDocent_Contig_390322_20 \"0,0,0,0,0\"       \"0,0,0,0,0\"     \"0,7,18,36,251\"  \n",
      "dDocent_Contig_391987_82 \"0,0,0,0,0\"       \"0,0,0,0,0\"     \"0,0,0,0,0\"      \n",
      "dDocent_Contig_392092_31 \"0,2,6,12,84\"     \"0,0,0,0,0\"     \"0,4,9,18,125\"   \n",
      "dDocent_Contig_392438_18 \"58,0,13,43,434\"  \"0,0,0,14,334\"  \"0,19,45,90,627\" \n",
      "dDocent_Contig_395037_22 \"463,38,10,0,103\" \"0,7,18,36,251\" \"0,21,51,102,710\"\n",
      "                         AW4_OE_4           AW4_OE_5        AW4_OE_6        \n",
      "dDocent_Contig_390288:38 \"60 0 10 33 353\"   \"0 5 12 23 114\" \"0 9 21 42 292\" \n",
      "dDocent_Contig_390322:20 \"0 21 51 102 686\"  \"0 0 0 0 167\"   \"0 16 39 78 543\"\n",
      "dDocent_Contig_391987:82 \"0 0 0 0 0\"        \"0 0 0 0 0\"     \"0 0 0 0 0\"     \n",
      "dDocent_Contig_392092:31 \"0 11 27 54 376\"   \"68 1 0 6 110\"  \"0 6 15 30 197\" \n",
      "dDocent_Contig_392438:18 \"473 0 11 76 1206\" \"143 5 0 5 143\" \"92 0 12 43 494\"\n",
      "dDocent_Contig_395037:22 \"0 15 36 72 501\"   \"0 4 9 18 113\"  \"0 19 45 90 615\"\n",
      "                         AW4_OE_7          AW4_OE_8        AW4_OE_9         \n",
      "dDocent_Contig_390288:38 \"0 1 3 6 42\"      \"0 0 0 0 0\"     \"0 15 36 72 489\" \n",
      "dDocent_Contig_390322:20 \"0 0 0 0 0\"       \"0 0 0 0 0\"     \"0 7 18 36 251\"  \n",
      "dDocent_Contig_391987:82 \"0 0 0 0 0\"       \"0 0 0 0 0\"     \"0 0 0 0 0\"      \n",
      "dDocent_Contig_392092:31 \"0 2 6 12 84\"     \"0 0 0 0 0\"     \"0 4 9 18 125\"   \n",
      "dDocent_Contig_392438:18 \"58 0 13 43 434\"  \"0 0 0 14 334\"  \"0 19 45 90 627\" \n",
      "dDocent_Contig_395037:22 \"463 38 10 0 103\" \"0 7 18 36 251\" \"0 21 51 102 710\"\n"
     ]
    }
   ],
   "source": [
    "%%R\n",
    "#check pl and mggl\n",
    "print(pl[600:605,600:605])\n",
    "print(mpgl[600:605,600:605])"
   ]
  },
  {
   "cell_type": "code",
   "execution_count": 16,
   "metadata": {},
   "outputs": [],
   "source": [
    "%%R\n",
    "rownames(mpgl) <- pos_ID\n",
    "dim(mpgl)\n",
    "write.table(mpgl,'mpgl.txt',quote=F,col.names = F) "
   ]
  },
  {
   "cell_type": "code",
   "execution_count": 17,
   "metadata": {},
   "outputs": [
    {
     "name": "stdout",
     "output_type": "stream",
     "text": [
      "   user  system elapsed \n",
      "413.889   5.823 419.630 \n"
     ]
    }
   ],
   "source": [
    "%%R\n",
    "### pntest_mean ###\n",
    "mean_pl <- function(GP){\n",
    "    gps <- as.numeric(unlist(strsplit(as.character(GP),split = ',')))\n",
    "    ploidy <- length(gps)-1\n",
    "    gps <- 10 ^ (gps/-10)\n",
    "    mean <- sum(gps*(0:ploidy))/sum(gps)\n",
    "    return(mean) \n",
    "}\n",
    "\n",
    "system.time(pntest_mean <- apply(pl,1:2,mean_pl))"
   ]
  },
  {
   "cell_type": "code",
   "execution_count": 18,
   "metadata": {},
   "outputs": [],
   "source": [
    "%%R \n",
    "rownames(pntest_mean) <- pos_ID\n",
    "dim(pntest_mean)\n",
    "\n",
    "write.table(pntest_mean,'pntest_mean.txt',quote=F)"
   ]
  },
  {
   "cell_type": "code",
   "execution_count": 22,
   "metadata": {},
   "outputs": [
    {
     "name": "stdout",
     "output_type": "stream",
     "text": [
      "     AT2_BB_1 AT2_BB_10    AT2_BB_11 AT2_BB_12 AT2_BB_13 AT2_BB_14 AT2_BB_15\n",
      "[1,]    1e-12     1e-12 1.000000e-12     1e-12     1e-12     1e-12     1e-12\n",
      "[2,]    2e+00     2e+00 1.999999e+00     2e+00     2e+00     2e+00     2e+00\n",
      "     AT2_BB_16    AT2_BB_17 AT2_BB_2     AT2_BB_3 AT2_BB_4 AT2_BB_5\n",
      "[1,]     1e-12 1.000000e-12    1e-12 1.000000e-12    1e-12    1e-12\n",
      "[2,]     2e+00 1.999992e+00    2e+00 1.999999e+00    2e+00    2e+00\n",
      "         AT2_BB_6 AT2_BB_7 AT2_BB_8 AT2_BB_9 AT2_BC_17    AT2_BC_18 AT2_BC_19\n",
      "[1,] 3.162278e-13    1e-12    1e-12    1e-12     1e-12 7.943282e-14     1e-12\n",
      "[2,] 2.000000e+00    2e+00    2e+00    2e+00     2e+00 2.000000e+00     2e+00\n",
      "        AT2_BC_20    AT2_BC_21    AT2_BC_22 AT2_BC_23     AT2_BT_1     AT2_BT_2\n",
      "[1,] 1.584893e-14 1.000000e-12 1.000000e-12     1e-12 1.000000e-12 3.981072e-15\n",
      "[2,] 2.000000e+00 1.999998e+00 1.999996e+00     2e+00 1.999996e+00 2.000000e+00\n",
      "     AT2_BT_3     AT2_BT_4     AT2_BT_5 AT2_BT_57    AT2_BT_58    AT2_BT_59\n",
      "[1,]    1e-12 1.000000e-12 1.000000e-12     1e-12 1.000000e-12 1.584893e-14\n",
      "[2,]    2e+00 1.999968e+00 1.999499e+00     2e+00 1.999968e+00 2.000000e+00\n",
      "     AT2_BT_6 AT2_BT_60 AT2_BT_61 AT2_BT_62    AT2_BT_63 AT2_BT_64 AT2_BT_7\n",
      "[1,]    1e-12     1e-12     1e-12     1e-12 3.162278e-13     1e-12    1e-12\n",
      "[2,]    2e+00     2e+00     2e+00     2e+00 2.000000e+00     2e+00    2e+00\n",
      "         AT2_BW_1 AT2_BW_65 AT2_BW_66 AT2_BW_67 AT2_BW_68    AT2_BW_69\n",
      "[1,] 1.000000e-12     1e-12     1e-12     1e-12     1e-12 2.511886e-13\n",
      "[2,] 1.999998e+00     2e+00     2e+00     2e+00     2e+00 2.000000e+00\n",
      "        AT2_BW_70    AT2_BW_71    AT2_BW_72 AT2_CB_24 AT2_CB_25    AT2_CB_26\n",
      "[1,] 3.981072e-15 1.995262e-15 2.511886e-13     1e-12     1e-12 1.584893e-14\n",
      "[2,] 2.000000e+00 2.000000e+00 2.000000e+00     2e+00     2e+00 2.000000e+00\n",
      "     AT2_CB_27 AT2_CB_28 AT2_CB_29 AT2_CB_30 AT2_CB_31 AT2_CB_32    AT2_DK_16\n",
      "[1,]     1e-12     1e-12     1e-12     1e-12     1e-12     1e-12 1.000000e-12\n",
      "[2,]     2e+00     2e+00     2e+00     2e+00     2e+00     2e+00 1.999996e+00\n",
      "     AT2_DK_17    AT2_DK_18 AT2_DK_19    AT2_DK_20    AT2_DK_21    AT2_DK_22\n",
      "[1,]     1e-12 1.000000e-12     1e-12 1.000000e-12 1.000000e-12 1.000000e-12\n",
      "[2,]     2e+00 1.999999e+00     2e+00 1.999984e+00 1.992119e+00 1.999992e+00\n",
      "        AT2_DK_23    AT2_DK_24    AT2_DK_25    AT2_DK_26    AT2_DK_27\n",
      "[1,] 1.000000e-12 1.000000e-12 7.943282e-12 1.000000e-12 1.000000e-12\n",
      "[2,] 1.999999e+00 1.999992e+00 1.999874e+00 1.999999e+00 1.999984e+00\n",
      "        AT2_DK_28    AT2_DK_29 AT2_DK_30 AT2_DT_1 AT2_DT_10 AT2_DT_11\n",
      "[1,] 1.995262e-15 1.000000e-12     1e-12    1e-12     1e-12     1e-12\n",
      "[2,] 2.000000e+00 1.999999e+00     2e+00    2e+00     2e+00     2e+00\n",
      "        AT2_DT_12 AT2_DT_13 AT2_DT_14    AT2_DT_15     AT2_DT_2 AT2_DT_3\n",
      "[1,] 1.584893e-14     1e-12     1e-12 1.000000e-12 2.511886e-13    1e-12\n",
      "[2,] 1.999999e+00     2e+00     2e+00 1.999937e+00 1.999996e+00    2e+00\n",
      "         AT2_DT_4 AT2_DT_5 AT2_DT_6 AT2_DT_7     AT2_DT_8 AT2_DT_9    AT2_EC_45\n",
      "[1,] 1.584893e-14    1e-12    1e-12    1e-12 1.000000e-12    1e-12 1.000000e-12\n",
      "[2,] 2.000000e+00    2e+00    2e+00    2e+00 1.999998e+00    2e+00 1.999999e+00\n",
      "     AT2_EC_46 AT2_EC_47 AT2_EC_48 AT2_EC_49 AT2_EC_50 AT2_EC_51 AT2_EC_52\n",
      "[1,]     1e-12     1e-12     1e-12     1e-12     1e-12     1e-12     1e-12\n",
      "[2,]     2e+00     2e+00     2e+00     2e+00     2e+00     2e+00     2e+00\n",
      "     AT2_EC_53 AT2_EW_31    AT2_EW_32 AT2_EW_33 AT2_EW_34 AT2_EW_35 AT2_EW_36\n",
      "[1,]     1e-12     1e-12 1.258925e-13     1e-12     1e-12     1e-12     1e-12\n",
      "[2,]     2e+00     2e+00 2.000000e+00     2e+00     2e+00     2e+00     2e+00\n",
      "     AT2_EW_37 AT2_EW_39    AT2_EW_40     AT2_HC_1 AT2_HC_2     AT2_HC_3\n",
      "[1,]     1e-12     1e-12 1.258925e-13 2.511886e-13    1e-12 3.162278e-14\n",
      "[2,]     2e+00     2e+00 2.000000e+00 2.000000e+00    2e+00 2.000000e+00\n",
      "     AT2_HC_4     AT2_HC_5     AT2_HC_6     AT2_HC_7     AT2_HC_8     AT2_JV_1\n",
      "[1,]    1e-12 1.258925e-13 1.995262e-15 1.000000e-12 2.511886e-13 1.000000e-12\n",
      "[2,]    2e+00 2.000000e+00 2.000000e+00 1.999999e+00 2.000000e+00 1.999968e+00\n",
      "     AT2_JV_2 AT2_JV_3 AT2_JV_37    AT2_JV_38 AT2_JV_39     AT2_JV_4 AT2_JV_40\n",
      "[1,]    1e-12    1e-12     1e-12 1.000000e-12     1e-12 7.943282e-15     1e-12\n",
      "[2,]    2e+00    2e+00     2e+00 1.999999e+00     2e+00 2.000000e+00     2e+00\n",
      "     AT2_JV_41    AT2_JV_42 AT2_JV_43 AT2_JV_44     AT2_JV_5     AT2_JV_6\n",
      "[1,]     1e-12 1.258925e-13     1e-12     1e-12 3.162278e-14 1.584893e-14\n",
      "[2,]     2e+00 2.000000e+00     2e+00     2e+00 2.000000e+00 2.000000e+00\n",
      "     AT2_JV_7 AT2_KN_80 AT2_KN_81 AT2_KN_82 AT2_KN_83    AT2_KN_84 AT2_KN_85\n",
      "[1,]    1e-12     1e-12     1e-12     1e-12     1e-12 2.511886e-17     1e-12\n",
      "[2,]    2e+00     2e+00     2e+00     2e+00     2e+00 2.000000e+00     2e+00\n",
      "     AT2_KN_86 AT2_KN_87    AT2_KN_88 AT2_KN_89    AT2_KN_90 AT2_KN_91\n",
      "[1,]     1e-12     1e-12 1.584893e-14     1e-12 1.000000e-12     1e-12\n",
      "[2,]     2e+00     2e+00 2.000000e+00     2e+00 1.999749e+00     2e+00\n",
      "     AT2_KN_92 AT2_KN_93 AT2_KN_94 AT2_LB_1 AT2_LB_2 AT2_LB_3     AT2_LB_4\n",
      "[1,]     1e-12     1e-12     1e-12    1e-12    1e-12    1e-12 6.309573e-14\n",
      "[2,]     2e+00     2e+00     2e+00    2e+00    2e+00    2e+00 2.000000e+00\n",
      "     AT2_LB_5 AT2_LB_6 AT2_LB_7 AT2_LB_8 AT2_LB_9     AT2_LN_1     AT2_LN_2\n",
      "[1,]    1e-12    1e-12    1e-12    1e-12    1e-12 1.000000e-12 1.000000e-12\n",
      "[2,]    2e+00    2e+00    2e+00    2e+00    2e+00 1.999994e+00 1.999999e+00\n",
      "     AT2_LN_3 AT2_LN_4     AT2_LN_5     AT2_LN_6    AT2_LN_95    AT2_LN_96\n",
      "[1,]    1e-12    1e-12 1.000000e-12 1.000000e-12 1.000000e-12 2.511886e-13\n",
      "[2,]    2e+00    2e+00 1.999998e+00 1.999999e+00 1.999997e+00 2.000000e+00\n",
      "     AT2_LN_98 AT2_OC_15 AT2_OC_16 AT2_OC_2 AT2_OC_3 AT2_OC_4     AT2_OC_5\n",
      "[1,]     1e-12     1e-12     1e-12    1e-12    1e-12    1e-12 7.943282e-14\n",
      "[2,]     2e+00     2e+00     2e+00    2e+00    2e+00    2e+00 1.999999e+00\n",
      "     AT2_OC_6 AT2_OC_7 AT2_OC_8    AT2_OT_11    AT2_OT_12 AT2_OT_13\n",
      "[1,]    1e-12    1e-12    1e-12 7.943282e-15 1.584893e-14     1e-12\n",
      "[2,]    2e+00    2e+00    2e+00 2.000000e+00 2.000000e+00     2e+00\n",
      "        AT2_OT_14     AT2_OT_5     AT2_OT_6 AT2_OT_7 AT2_OT_8 AT2_OT_9 AT2_RB_1\n",
      "[1,] 6.309573e-14 5.011872e-13 1.584893e-14    1e-12    1e-12    1e-12    1e-12\n",
      "[2,] 1.999999e+00 2.000000e+00 2.000000e+00    2e+00    2e+00    2e+00    2e+00\n",
      "       AT2_RB_100   AT2_RB_101 AT2_RB_102   AT2_RB_103 AT2_RB_104 AT2_RB_105\n",
      "[1,] 5.011872e-13 5.011872e-13      1e-12 2.511886e-13      1e-12      1e-12\n",
      "[2,] 2.000000e+00 2.000000e+00      2e+00 2.000000e+00      2e+00      2e+00\n",
      "     AT2_RB_106 AT2_RB_107   AT2_RB_108 AT2_RB_2 AT2_RB_3 AT2_RB_4 AT2_RB_5\n",
      "[1,]      1e-12      1e-12 1.000000e-12    1e-12    1e-12    1e-12    1e-12\n",
      "[2,]      2e+00      2e+00 1.999984e+00    2e+00    2e+00    2e+00    2e+00\n",
      "     AT2_RB_6 AT2_RB_7 AT2_RB_99     AT2_RK_1 AT2_RK_2 AT2_RK_3 AT2_RK_4\n",
      "[1,]    1e-12    1e-12     1e-12 1.000000e-12    1e-12    1e-12    1e-12\n",
      "[2,]    2e+00    2e+00     2e+00 1.999998e+00    2e+00    2e+00    2e+00\n",
      "         AT2_RK_5     AT2_RK_6 AT2_RK_7 AT2_SS_1    AT2_SS_10 AT2_SS_2 AT2_SS_3\n",
      "[1,] 1.000000e-12 6.309573e-14    1e-12    1e-12 5.011872e-13    1e-12    1e-12\n",
      "[2,] 1.999992e+00 2.000000e+00    2e+00    2e+00 2.000000e+00    2e+00    2e+00\n",
      "     AT2_SS_4 AT2_SS_5     AT2_SS_6     AT2_SS_7     AT2_VM_1 AT2_VM_10\n",
      "[1,]    1e-12    1e-12 1.258925e-13 1.000000e-12 3.162278e-14     1e-12\n",
      "[2,]    2e+00    2e+00 2.000000e+00 1.999968e+00 2.000000e+00     2e+00\n",
      "     AT2_VM_2     AT2_VM_3 AT2_VM_4 AT2_VM_5 AT2_VM_6     AT2_VM_7 AT2_VM_8\n",
      "[1,]    1e-12 6.309573e-14    1e-12    1e-12    1e-12 7.943282e-15    1e-12\n",
      "[2,]    2e+00 2.000000e+00    2e+00    2e+00    2e+00 2.000000e+00    2e+00\n",
      "     AT2_VM_9 AT2_YB_1 AT2_YB_2 AT2_YB_73 AT2_YB_74    AT2_YB_75    AT2_YB_76\n",
      "[1,]    1e-12    1e-12    1e-12     1e-12     1e-12 3.981072e-15 3.162278e-14\n",
      "[2,]    2e+00    2e+00    2e+00     2e+00     2e+00 2.000000e+00 2.000000e+00\n",
      "        AT2_YB_77 AT2_YB_78    AT2_YB_79     AT4_DS_1    AT4_DS_10     AT4_DS_2\n",
      "[1,] 1.000000e-12     1e-12 1.584893e-14 1.258924e-06 3.981070e-07 9.999990e-07\n",
      "[2,] 1.999992e+00     2e+00 2.000000e+00 3.999749e+00 3.999997e+00 3.999842e+00\n"
     ]
    },
    {
     "name": "stdout",
     "output_type": "stream",
     "text": [
      "         AT4_DS_3     AT4_DS_4     AT4_DS_5     AT4_DS_6     AT4_DS_7\n",
      "[1,] 1.995262e-07 1.258925e-07 1.258924e-06 7.943276e-07 9.999990e-07\n",
      "[2,] 3.999999e+00 3.999999e+00 3.999999e+00 3.999999e+00 3.999999e+00\n",
      "         AT4_DS_8     AT4_SL_1     AT4_SL_2   AT4_SL_284   AT4_SL_285\n",
      "[1,] 6.309569e-07 3.162268e-06 1.584891e-06 1.258924e-06 9.999902e-06\n",
      "[2,] 3.999999e+00 3.999001e+00 3.993722e+00 3.999749e+00 3.999900e+00\n",
      "       AT4_SL_286     AT4_SL_3     AT4_SL_4     AT4_SL_5     AT4_SL_6\n",
      "[1,] 1.258924e-06 9.999902e-06 3.981056e-06 9.999902e-06 7.943276e-07\n",
      "[2,] 3.999874e+00 3.992104e+00 3.998008e+00 3.996846e+00 3.999987e+00\n",
      "         AT4_SL_7     AT4_WT_1     AT4_WT_2     AT4_WT_3     AT4_WT_4\n",
      "[1,] 9.999990e-07 9.999902e-06 1.995262e-07 3.162277e-07 3.162268e-06\n",
      "[2,] 3.999996e+00 3.999995e+00 3.999968e+00 3.999999e+00 3.999921e+00\n",
      "         AT4_WT_5     AT4_WT_6     AT4_WT_7     AV2_AN_1 AV2_AN_2 AV2_AN_3\n",
      "[1,] 7.943220e-06 7.943276e-07 1.258924e-06 7.943282e-16    1e-12    1e-12\n",
      "[2,] 3.999999e+00 3.999999e+00 3.999801e+00 2.000000e+00    2e+00    2e+00\n",
      "     AV2_AN_4 AV2_AN_5     AV2_AN_6 AV2_AN_7 AV2_AN_8 AV2_AS_61 AV2_AS_62\n",
      "[1,]    1e-12    1e-12 6.309573e-14    1e-12    1e-12     1e-12     1e-12\n",
      "[2,]    2e+00    2e+00 2.000000e+00    2e+00    2e+00     2e+00     2e+00\n",
      "     AV2_AS_63    AV2_AS_64 AV2_AS_65 AV2_AS_66    AV2_AS_67    AV2_AS_68\n",
      "[1,]     1e-12 1.000000e-12     1e-12     1e-12 1.000000e-12 1.000000e-12\n",
      "[2,]     2e+00 1.999999e+00     2e+00     2e+00 1.999874e+00 1.999992e+00\n",
      "     AV2_AS_69    AV2_AS_70    AV2_AS_71    AV2_AS_72 AV2_AS_73    AV2_AS_74\n",
      "[1,]     1e-12 1.000000e-12 1.000000e-12 1.584893e-14     1e-12 1.000000e-12\n",
      "[2,]     2e+00 1.999998e+00 1.999999e+00 2.000000e+00     2e+00 1.999874e+00\n",
      "     AV2_AS_75    AV2_BM_76 AV2_BM_77    AV2_BM_78    AV2_BM_79 AV2_BM_80\n",
      "[1,]     1e-12 1.995262e-14     1e-12 1.000000e-12 3.162278e-14     1e-12\n",
      "[2,]     2e+00 1.999999e+00     2e+00 1.999992e+00 1.999999e+00     2e+00\n",
      "        AV2_BM_81    AV2_BM_82    AV2_BM_83 AV2_BM_84 AV2_BM_85    AV2_BM_86\n",
      "[1,] 1.000000e-12 1.000000e-12 7.943282e-15     1e-12     1e-12 1.000000e-12\n",
      "[2,] 1.999874e+00 1.999937e+00 1.999998e+00     2e+00     2e+00 1.999996e+00\n",
      "        AV2_BM_87 AV2_BM_88 AV2_BM_89    AV2_BM_90 AV2_CC_1  AV2_CC_134\n",
      "[1,] 1.000000e-12     1e-12     1e-12 1.000000e-12    1e-12 1.00000e-12\n",
      "[2,] 1.999999e+00     2e+00     2e+00 1.999499e+00    2e+00 1.99998e+00\n",
      "     AV2_CC_135 AV2_CC_136 AV2_CC_137   AV2_CC_138 AV2_CC_139 AV2_CC_140\n",
      "[1,]      1e-12      1e-12      1e-12 3.981072e-15      1e-12      1e-12\n",
      "[2,]      2e+00      2e+00      2e+00 2.000000e+00      2e+00      2e+00\n",
      "     AV2_CC_141     AV2_CC_2 AV2_CC_3     AV2_CC_4     AV2_CC_5 AV2_CC_6\n",
      "[1,]      1e-12 2.511886e-13    1e-12 1.258925e-13 2.511886e-13    1e-12\n",
      "[2,]      2e+00 2.000000e+00    2e+00 2.000000e+00 2.000000e+00    2e+00\n",
      "     AV2_CC_7     AV2_CV_1 AV2_CV_157 AV2_CV_158 AV2_CV_159 AV2_CV_160\n",
      "[1,]    1e-12 1.000000e-12      1e-12      1e-12      1e-12      1e-12\n",
      "[2,]    2e+00 1.999968e+00      2e+00      2e+00      2e+00      2e+00\n",
      "       AV2_CV_161   AV2_CV_162 AV2_CV_163 AV2_CV_164 AV2_CV_165 AV2_CV_166\n",
      "[1,] 1.584893e-13 1.000000e-12      1e-12      1e-12      1e-12      1e-12\n",
      "[2,] 2.000000e+00 1.999999e+00      2e+00      2e+00      2e+00      2e+00\n",
      "     AV2_CV_2 AV2_CV_3     AV2_CV_4 AV2_CV_5     AV2_CV_6 AV2_CV_7 AV2_FP_1\n",
      "[1,]    1e-12    1e-12 1.000000e-12    1e-12 5.011872e-13    1e-12    1e-12\n",
      "[2,]    2e+00    2e+00 1.999996e+00    2e+00 2.000000e+00    2e+00    2e+00\n",
      "     AV2_FP_2 AV2_FP_3     AV2_FP_4 AV2_FP_5 AV2_FP_6 AV2_FP_7 AV2_GC_1\n",
      "[1,]    1e-12    1e-12 6.309573e-14    1e-12    1e-12    1e-12    1e-12\n",
      "[2,]    2e+00    2e+00 2.000000e+00    2e+00    2e+00    2e+00    2e+00\n",
      "         AV2_GC_2 AV2_GC_3 AV2_GC_4 AV2_GC_5 AV2_GC_6 AV2_GC_7     AV2_GC_8\n",
      "[1,] 1.258925e-13    1e-12    1e-12    1e-12    1e-12    1e-12 3.162278e-14\n",
      "[2,] 2.000000e+00    2e+00    2e+00    2e+00    2e+00    2e+00 2.000000e+00\n",
      "     AV2_GC_9   AV2_LV_100 AV2_LV_101 AV2_LV_102   AV2_LV_103 AV2_LV_104\n",
      "[1,]    1e-12 1.000000e-12      1e-12      1e-12 1.000000e-12      1e-12\n",
      "[2,]    2e+00 1.999999e+00      2e+00      2e+00 1.999968e+00      2e+00\n",
      "     AV2_LV_105 AV2_LV_91    AV2_LV_92 AV2_LV_93 AV2_LV_94    AV2_LV_95\n",
      "[1,]      1e-12     1e-12 1.000000e-12     1e-12     1e-12 1.000000e-12\n",
      "[2,]      2e+00     2e+00 1.999937e+00     2e+00     2e+00 1.999874e+00\n",
      "     AV2_LV_96    AV2_LV_97    AV2_LV_98 AV2_LV_99 AV2_NV_1 AV2_NV_2\n",
      "[1,]     1e-12 1.000000e-12 1.000000e-12     1e-12    1e-12    1e-12\n",
      "[2,]     2e+00 1.999992e+00 1.999874e+00     2e+00    2e+00    2e+00\n",
      "         AV2_NV_3 AV2_NV_4 AV2_NV_5 AV2_NV_6 AV2_NV_7 AV2_NV_8 AV2_NV_9\n",
      "[1,] 5.011872e-13    1e-12    1e-12    1e-12    1e-12    1e-12    1e-12\n",
      "[2,] 2.000000e+00    2e+00    2e+00    2e+00    2e+00    2e+00    2e+00\n",
      "     AV2_PL_1 AV2_PL_10 AV2_PL_2 AV2_PL_3 AV2_PL_4 AV2_PL_5 AV2_PL_6 AV2_PL_7\n",
      "[1,]    1e-12     1e-12    1e-12    1e-12    1e-12    1e-12    1e-12    1e-12\n",
      "[2,]    2e+00     2e+00    2e+00    2e+00    2e+00    2e+00    2e+00    2e+00\n",
      "     AV2_PL_8     AV2_PL_9 AV2_PR_10 AV2_PR_2 AV2_PR_3 AV2_PR_4 AV2_PR_5\n",
      "[1,]    1e-12 3.981072e-16     1e-12    1e-12    1e-12    1e-12    1e-12\n",
      "[2,]    2e+00 2.000000e+00     2e+00    2e+00    2e+00    2e+00    2e+00\n",
      "     AV2_PR_6 AV2_PR_7 AV2_PR_8 AV2_PR_9     AV2_PT_1    AV2_PT_10 AV2_PT_2\n",
      "[1,]    1e-12    1e-12    1e-12    1e-12 1.258925e-20 5.011872e-13    1e-12\n",
      "[2,]    2e+00    2e+00    2e+00    2e+00 2.000000e+00 2.000000e+00    2e+00\n",
      "         AV2_PT_3     AV2_PT_4     AV2_PT_5     AV2_PT_6     AV2_PT_7 AV2_PT_8\n",
      "[1,] 3.162278e-14 1.258925e-13 7.943282e-15 1.258925e-13 3.162278e-14    1e-12\n",
      "[2,] 2.000000e+00 2.000000e+00 2.000000e+00 2.000000e+00 2.000000e+00    2e+00\n",
      "     AV2_PT_9     AV2_SN_1   AV2_SN_125 AV2_SN_126 AV2_SN_127   AV2_SN_128\n",
      "[1,]    1e-12 1.000000e-12 1.000000e-12      1e-12      1e-12 1.000000e-12\n",
      "[2,]    2e+00 1.999874e+00 1.999499e+00      2e+00      2e+00 1.999984e+00\n",
      "       AV2_SN_129   AV2_SN_130   AV2_SN_131 AV2_SN_132 AV2_SN_133 AV2_SN_2\n",
      "[1,] 2.511886e-13 2.511886e-15 1.000000e-12      1e-12      1e-12    1e-12\n",
      "[2,] 2.000000e+00 2.000000e+00 1.999999e+00      2e+00      2e+00    2e+00\n",
      "         AV2_SN_3     AV2_SN_4     AV2_SN_5 AV2_SN_6 AV2_SN_7 AV2_TF_150\n",
      "[1,] 1.000000e-12 6.309573e-14 3.162278e-14    1e-12    1e-12      1e-12\n",
      "[2,] 1.999984e+00 2.000000e+00 2.000000e+00    2e+00    2e+00      2e+00\n",
      "     AV2_TF_151   AV2_TF_152 AV2_TF_153   AV2_TF_154 AV2_TF_155   AV2_TF_156\n",
      "[1,]      1e-12 5.011872e-13      1e-12 1.000000e-12      1e-12 6.309573e-14\n",
      "[2,]      2e+00 2.000000e+00      2e+00 1.999999e+00      2e+00 2.000000e+00\n",
      "     AV2_UV_1 AV2_UV_2 AV2_UV_3 AV2_UV_4 AV2_UV_5     AV2_UV_6 AV2_UV_7\n",
      "[1,]    1e-12    1e-12    1e-12    1e-12    1e-12 1.000000e-12    1e-12\n",
      "[2,]    2e+00    2e+00    2e+00    2e+00    2e+00 1.999996e+00    2e+00\n",
      "     AV2_UV_8 AV2_UV_9     AV4_CF_1     AV4_CF_2     AV4_CF_3     AV4_DH_1\n",
      "[1,]    1e-12    1e-12 3.981070e-07 1.995262e-07 3.162268e-06 1.584891e-06\n",
      "[2,]    2e+00    2e+00 3.999749e+00 3.999960e+00 3.999990e+00 3.999801e+00\n",
      "        AV4_DH_10     AV4_DH_2     AV4_DH_3    AV4_DH_4     AV4_DH_5\n",
      "[1,] 5.011870e-07 9.999990e-07 9.999999e-08 9.99999e-07 9.999902e-06\n",
      "[2,] 3.999999e+00 3.999997e+00 3.999998e+00 4.00000e+00 3.999999e+00\n",
      "        AV4_DH_6     AV4_DH_7     AV4_DH_8     AV4_DH_9    AV4_EW_1\n",
      "[1,] 3.98107e-07 7.943276e-07 1.995262e-07 3.162277e-07 9.99999e-07\n",
      "[2,] 3.99996e+00 3.999999e+00 3.999990e+00 3.999999e+00 4.00000e+00\n",
      "        AV4_EW_10     AV4_EW_2     AV4_EW_3     AV4_EW_4     AV4_EW_5\n",
      "[1,] 1.995262e-07 2.511886e-07 2.511886e-07 3.162277e-07 9.999902e-06\n",
      "[2,] 3.999602e+00 3.999999e+00 3.999937e+00 3.999999e+00 3.999206e+00\n",
      "         AV4_EW_6     AV4_EW_7    AV4_EW_8     AV4_EW_9     AV4_JU_1\n",
      "[1,] 9.999990e-07 7.943276e-07 9.99999e-07 7.943276e-07 9.999999e-08\n",
      "[2,] 3.999801e+00 3.999960e+00 3.99990e+00 3.999980e+00 3.999921e+00\n",
      "         AV4_JU_3    AV4_JU_4     AV4_JU_5     AV4_JU_6     AV4_JU_7\n",
      "[1,] 1.584893e-07 9.99999e-07 3.162278e-11 3.981070e-07 1.258924e-06\n",
      "[2,] 3.998742e+00 3.99996e+00 3.999999e+00 3.999369e+00 3.999984e+00\n",
      "         AV4_LM_1    AV4_LM_10     AV4_LM_2     AV4_LM_3     AV4_LM_4\n"
     ]
    },
    {
     "name": "stdout",
     "output_type": "stream",
     "text": [
      "[1,] 3.162277e-07 3.162278e-08 1.258924e-06 1.995262e-07 1.995262e-07\n",
      "[2,] 3.999999e+00 3.999999e+00 3.999960e+00 3.999987e+00 3.999999e+00\n",
      "         AV4_LM_5     AV4_LM_6    AV4_LM_7     AV4_LM_8     AV4_LM_9\n",
      "[1,] 1.995262e-07 9.999901e-06 5.01187e-07 6.309569e-07 3.981070e-07\n",
      "[2,] 3.999999e+00 3.999801e+00 3.99990e+00 3.999994e+00 3.999998e+00\n",
      "         AV4_LS_1    AV4_LS_10    AV4_LS_11    AV4_LS_12   AV4_LS_13\n",
      "[1,] 6.309534e-06 1.995258e-06 3.981056e-06 6.309534e-06 7.94322e-06\n",
      "[2,] 3.999921e+00 3.998742e+00 3.980315e+00 3.999994e+00 3.99999e+00\n",
      "        AV4_LS_14    AV4_LS_15    AV4_LS_16    AV4_LS_17   AV4_LS_18\n",
      "[1,] 6.309534e-06 9.999902e-06 9.999902e-06 1.258924e-06 2.51188e-06\n",
      "[2,] 3.999987e+00 3.968867e+00 3.999001e+00 3.998742e+00 3.99998e+00\n",
      "        AV4_LS_19     AV4_LS_2    AV4_LS_20    AV4_LS_21    AV4_LS_22\n",
      "[1,] 2.511880e-06 6.309534e-06 6.309534e-06 9.999902e-06 3.162268e-06\n",
      "[2,] 3.999992e+00 3.999900e+00 3.999874e+00 3.987505e+00 3.998742e+00\n",
      "        AV4_LS_23    AV4_LS_24    AV4_LS_25    AV4_LS_26    AV4_LS_27\n",
      "[1,] 9.999902e-06 5.011870e-07 3.162277e-07 6.309569e-07 7.943220e-06\n",
      "[2,] 3.999874e+00 3.999999e+00 3.999950e+00 3.999684e+00 3.996031e+00\n",
      "         AV4_LS_3     AV4_LS_4     AV4_LS_5     AV4_LS_6     AV4_LS_7\n",
      "[1,] 6.309534e-06 9.999902e-06 1.995258e-06 5.011847e-06 3.162268e-06\n",
      "[2,] 3.999206e+00 3.999206e+00 3.999960e+00 3.996846e+00 3.998008e+00\n",
      "         AV4_LS_8     AV4_LS_9     AV4_RR_1    AV4_RR_10     AV4_RR_2\n",
      "[1,] 9.999902e-06 5.011870e-07 6.309534e-06 5.011848e-06 1.995262e-09\n",
      "[2,] 3.999921e+00 3.999801e+00 3.999999e+00 3.999999e+00 3.999999e+00\n",
      "         AV4_RR_3     AV4_RR_4     AV4_RR_5     AV4_RR_7     AV4_RR_8\n",
      "[1,] 9.999990e-07 1.258925e-07 7.943276e-07 1.584891e-06 1.258925e-07\n",
      "[2,] 3.999999e+00 3.999999e+00 3.999999e+00 3.999842e+00 3.999999e+00\n",
      "         AV4_RR_9   AW4_AH_121   AW4_AH_122   AW4_AH_123   AW4_AH_124\n",
      "[1,] 3.981072e-08 6.309534e-06 9.999902e-06 9.999902e-06 9.999902e-06\n",
      "[2,] 3.999602e+00 3.995005e+00 3.997493e+00 3.998008e+00 3.997493e+00\n",
      "       AW4_AH_125   AW4_AH_126   AW4_AH_127   AW4_AH_128   AW4_AH_129\n",
      "[1,] 9.999902e-06 3.162268e-06 6.309534e-06 9.999902e-06 5.011847e-06\n",
      "[2,] 3.968867e+00 3.999994e+00 3.998008e+00 3.993722e+00 3.999602e+00\n",
      "       AW4_AH_130   AW4_AH_131   AW4_AH_132   AW4_AH_133   AW4_AH_134\n",
      "[1,] 7.943276e-07 9.999902e-06 1.258924e-06 6.309569e-07 1.258924e-06\n",
      "[2,] 3.999921e+00 3.993722e+00 3.996031e+00 3.999749e+00 3.999001e+00\n",
      "       AW4_AH_135    AW4_FR_1    AW4_FR_10     AW4_FR_2     AW4_FR_3\n",
      "[1,] 6.309534e-06 9.99999e-07 2.511886e-07 7.943276e-07 2.511886e-07\n",
      "[2,] 3.990068e+00 3.99999e+00 3.999997e+00 3.999900e+00 3.999999e+00\n",
      "         AW4_FR_5     AW4_FR_6    AW4_FR_7     AW4_FR_8     AW4_FR_9\n",
      "[1,] 1.995262e-07 2.511880e-06 9.99999e-07 1.584891e-06 9.999990e-07\n",
      "[2,] 3.999997e+00 3.999602e+00 3.99998e+00 4.000000e+00 3.999994e+00\n",
      "         AW4_GB_1    AW4_GB_10     AW4_GB_2     AW4_GB_4     AW4_GB_5\n",
      "[1,] 1.584891e-06 2.511886e-07 3.162277e-07 3.981070e-07 3.162277e-07\n",
      "[2,] 3.999900e+00 3.999999e+00 3.999995e+00 3.999999e+00 4.000000e+00\n",
      "         AW4_GB_6     AW4_GB_7     AW4_GB_8     AW4_GB_9     AW4_HO_1\n",
      "[1,] 9.999990e-07 9.999999e-08 6.309573e-11 1.995262e-07 9.999999e-08\n",
      "[2,] 3.999001e+00 3.999990e+00 3.999998e+00 4.000000e+00 4.000000e+00\n",
      "       AW4_HO_10    AW4_HO_2     AW4_HO_3     AW4_HO_4     AW4_HO_5\n",
      "[1,] 9.99999e-07 3.98107e-07 6.309569e-07 6.309569e-07 6.309569e-07\n",
      "[2,] 3.99998e+00 4.00000e+00 3.999960e+00 3.999996e+00 3.999990e+00\n",
      "         AW4_HO_6     AW4_HO_7     AW4_HO_8     AW4_HO_9     AW4_JC_1\n",
      "[1,] 1.258924e-06 1.258924e-06 2.511886e-07 6.309569e-07 3.162268e-06\n",
      "[2,] 3.999937e+00 3.999999e+00 3.999999e+00 3.999937e+00 3.999999e+00\n",
      "        AW4_JC_10     AW4_JC_3    AW4_JC_4     AW4_JC_5     AW4_JC_6\n",
      "[1,] 1.258925e-07 7.943219e-06 9.99999e-07 1.584891e-06 3.981070e-07\n",
      "[2,] 3.999968e+00 3.999960e+00 3.99998e+00 3.999984e+00 3.999987e+00\n",
      "         AW4_JC_7     AW4_JC_8     AW4_JC_9     AW4_LW_1    AW4_LW_10\n",
      "[1,] 1.258924e-06 2.511886e-07 1.995262e-07 9.999990e-07 6.309569e-07\n",
      "[2,] 3.999998e+00 3.999998e+00 3.999999e+00 3.999999e+00 3.999960e+00\n",
      "         AW4_LW_2     AW4_LW_3     AW4_LW_4     AW4_LW_5     AW4_LW_6\n",
      "[1,] 1.995262e-07 9.999999e-08 1.995262e-08 1.258924e-06 1.258924e-06\n",
      "[2,] 3.999999e+00 3.999999e+00 4.000000e+00 3.999999e+00 3.999999e+00\n",
      "         AW4_LW_7     AW4_LW_8     AW4_LW_9     AW4_MC_1     AW4_MC_2\n",
      "[1,] 3.162277e-07 9.999999e-08 9.999999e-08 1.258925e-07 3.981070e-07\n",
      "[2,] 4.000000e+00 4.000000e+00 3.999999e+00 3.999998e+00 3.999999e+00\n",
      "         AW4_MC_3     AW4_MC_4     AW4_MC_5     AW4_MC_6     AW4_MD_1\n",
      "[1,] 1.258925e-07 9.999999e-08 5.011870e-07 1.995262e-07 3.981070e-07\n",
      "[2,] 3.999999e+00 3.999999e+00 3.999999e+00 3.999999e+00 3.999997e+00\n",
      "        AW4_MD_10     AW4_MD_2     AW4_MD_3     AW4_MD_4     AW4_MD_5\n",
      "[1,] 9.999990e-07 9.999902e-06 7.943276e-07 9.999990e-07 2.511886e-07\n",
      "[2,] 3.999206e+00 3.996846e+00 3.999999e+00 3.999999e+00 4.000000e+00\n",
      "         AW4_MD_6     AW4_MD_7     AW4_MD_8     AW4_MD_9   AW4_MK_220\n",
      "[1,] 6.309569e-07 5.011870e-07 9.999902e-06 7.943276e-07 6.309534e-06\n",
      "[2,] 3.999994e+00 3.999842e+00 3.999950e+00 3.999960e+00 3.999206e+00\n",
      "       AW4_MK_221   AW4_MK_222   AW4_MK_223   AW4_MK_224   AW4_MK_225\n",
      "[1,] 9.999902e-06 9.999902e-06 6.309569e-07 1.995258e-06 9.999902e-06\n",
      "[2,] 3.999998e+00 3.997493e+00 3.999999e+00 3.999999e+00 3.998742e+00\n",
      "       AW4_MK_226   AW4_MK_227   AW4_MK_228   AW4_MK_229   AW4_MK_230\n",
      "[1,] 9.999902e-06 3.162268e-06 5.011847e-06 9.999902e-06 3.162277e-07\n",
      "[2,] 3.975254e+00 3.999968e+00 3.992104e+00 3.999206e+00 3.997493e+00\n",
      "       AW4_MK_231   AW4_MK_233   AW4_MK_234   AW4_MK_235   AW4_MK_236\n",
      "[1,] 1.258924e-06 0.0000099999 3.162277e-07 3.981072e-08 1.258924e-06\n",
      "[2,] 4.000000e+00 3.9999992057 3.999998e+00 3.999602e+00 3.996846e+00\n",
      "         AW4_OE_1     AW4_OE_2     AW4_OE_3     AW4_OE_4     AW4_OE_5\n",
      "[1,] 6.309569e-07 1.995262e-07 2.511886e-07 9.999999e-08 9.999990e-07\n",
      "[2,] 3.999999e+00 3.999999e+00 3.999999e+00 3.999999e+00 3.999999e+00\n",
      "         AW4_OE_6     AW4_OE_7     AW4_OE_8     AW4_OE_9     AW4_OW_1\n",
      "[1,] 3.162278e-08 1.258924e-06 6.309569e-07 1.258925e-07 9.999990e-07\n",
      "[2,] 3.999999e+00 3.999999e+00 3.999999e+00 3.999999e+00 3.999999e+00\n",
      "         AW4_OW_2     AW4_OW_3     AW4_OW_4     AW4_OW_5     AW4_OW_6\n",
      "[1,] 6.309569e-07 5.011847e-06 2.511880e-06 1.995262e-07 2.511886e-07\n",
      "[2,] 4.000000e+00 3.999997e+00 3.999999e+00 3.999997e+00 3.999999e+00\n",
      "         AW4_OW_7     AW4_OW_8     AW4_OW_9     AW4_PD_1     AW4_PD_2\n",
      "[1,] 2.511886e-07 3.162277e-07 2.511880e-06 3.162277e-07 1.995262e-07\n",
      "[2,] 3.999999e+00 3.999999e+00 3.999921e+00 3.999999e+00 3.999999e+00\n",
      "         AW4_PD_3     AW4_PD_4     AW4_PD_5     AW4_PD_6     AW4_PM_1\n",
      "[1,] 7.943276e-07 2.511886e-07 1.258925e-07 9.999990e-07 2.511880e-06\n",
      "[2,] 3.999999e+00 3.999999e+00 3.999987e+00 3.999999e+00 3.999975e+00\n",
      "         AW4_PM_2     AW4_PM_3     AW4_PM_4     AW4_PM_5     AW4_PM_6\n",
      "[1,] 9.999990e-07 1.258925e-07 3.981070e-07 9.999999e-08 1.995258e-06\n",
      "[2,] 3.999994e+00 3.999999e+00 3.999999e+00 3.999999e+00 3.999602e+00\n",
      "         AW4_PM_7     AW4_PM_8     AW4_PM_9     AW4_SB_1   AW4_SB_10\n",
      "[1,] 1.584891e-06 1.584891e-06 5.011847e-06 3.162277e-07 2.51188e-06\n",
      "[2,] 3.999999e+00 4.000000e+00 3.999999e+00 3.999999e+00 4.00000e+00\n",
      "         AW4_SB_2     AW4_SB_3     AW4_SB_4     AW4_SB_5     AW4_SB_6\n",
      "[1,] 7.943276e-07 3.981070e-07 2.511886e-07 9.999990e-07 5.011870e-07\n",
      "[2,] 3.998742e+00 3.999999e+00 3.999999e+00 3.999999e+00 3.999999e+00\n",
      "         AW4_SB_7     AW4_SB_8     AW4_SB_9     AW4_SC_1    AW4_SC_10\n",
      "[1,] 2.511886e-07 1.995258e-06 9.999990e-07 1.258924e-06 1.258924e-06\n",
      "[2,] 3.999996e+00 3.999999e+00 3.999997e+00 3.999998e+00 3.999999e+00\n",
      "         AW4_SC_2     AW4_SC_3     AW4_SC_4     AW4_SC_5     AW4_SC_6\n",
      "[1,] 7.943282e-08 9.999999e-08 2.511886e-07 3.162277e-07 5.011870e-07\n",
      "[2,] 3.999874e+00 3.999975e+00 3.999999e+00 3.999921e+00 3.999992e+00\n",
      "         AW4_SC_7     AW4_SC_8     AW4_SC_9     AW4_SR_1    AW4_SR_10\n",
      "[1,] 2.511886e-07 1.995262e-07 3.981070e-07 1.258925e-07 1.258924e-06\n",
      "[2,] 3.999975e+00 3.999960e+00 3.999999e+00 3.999999e+00 3.999999e+00\n",
      "         AW4_SR_2     AW4_SR_3     AW4_SR_4    AW4_SR_5     AW4_SR_6\n"
     ]
    },
    {
     "name": "stdout",
     "output_type": "stream",
     "text": [
      "[1,] 1.995262e-07 1.258925e-07 1.584891e-06 9.99999e-07 3.162277e-07\n",
      "[2,] 3.999999e+00 3.999999e+00 3.999684e+00 4.00000e+00 3.999999e+00\n",
      "         AW4_SR_7     AW4_SR_8     AW4_SR_9     AW4_SS_1    AW4_SS_10\n",
      "[1,] 2.511886e-07 9.999999e-08 6.309569e-07 1.258924e-06 1.258924e-06\n",
      "[2,] 3.999999e+00 4.000000e+00 3.999999e+00 3.999999e+00 3.999999e+00\n",
      "         AW4_SS_2     AW4_SS_3     AW4_SS_4     AW4_SS_5     AW4_SS_6\n",
      "[1,] 3.981070e-07 9.999990e-07 6.309534e-06 2.511886e-07 3.162268e-06\n",
      "[2,] 3.999999e+00 3.999999e+00 3.999999e+00 4.000000e+00 3.999994e+00\n",
      "         AW4_SS_7    AW4_SS_8     AW4_SS_9     AW4_WH_1     AW4_WH_2\n",
      "[1,] 7.943276e-07 9.99999e-07 2.511886e-07 7.943276e-07 2.511886e-07\n",
      "[2,] 3.999999e+00 4.00000e+00 3.999999e+00 3.999999e+00 3.999999e+00\n",
      "         AW4_WH_3     AW4_WH_4     AW4_WH_5     AW4_WH_6     AW4_WJ_1\n",
      "[1,] 9.999999e-08 1.995258e-06 1.258924e-06 5.011870e-07 6.309569e-07\n",
      "[2,] 3.999999e+00 3.999994e+00 3.999998e+00 3.999999e+00 3.999999e+00\n",
      "        AW4_WJ_10     AW4_WJ_2     AW4_WJ_3     AW4_WJ_4     AW4_WJ_5\n",
      "[1,] 3.162277e-07 1.995258e-06 9.999902e-06 3.981056e-06 2.511886e-07\n",
      "[2,] 3.999999e+00 3.999999e+00 3.980315e+00 3.999900e+00 3.999998e+00\n",
      "         AW4_WJ_6     AW4_WJ_7     AW4_WJ_8     AW4_WJ_9     AW4_YV_1\n",
      "[1,] 7.943282e-08 3.162278e-08 1.258925e-07 1.258925e-07 6.309569e-07\n",
      "[2,] 3.999994e+00 3.999999e+00 3.999999e+00 3.999999e+00 3.999996e+00\n",
      "        AW4_YV_10     AW4_YV_2     AW4_YV_3     AW4_YV_4     AW4_YV_5\n",
      "[1,] 3.981070e-07 3.981070e-07 3.162277e-07 1.584893e-07 2.511886e-07\n",
      "[2,] 3.999975e+00 3.999987e+00 3.999999e+00 3.999992e+00 4.000000e+00\n",
      "         AW4_YV_6     AW4_YV_7     AW4_YV_8     AW4_YV_9\n",
      "[1,] 3.981056e-06 9.999990e-07 1.258925e-07 9.999999e-08\n",
      "[2,] 3.999999e+00 3.999996e+00 3.999998e+00 3.999999e+00\n"
     ]
    }
   ],
   "source": [
    "%%R\n",
    "#make sure ploidy makes sense\n",
    "print(apply(pntest_mean,2,function(df) range(df, na.rm=TRUE)))"
   ]
  },
  {
   "cell_type": "code",
   "execution_count": 20,
   "metadata": {},
   "outputs": [
    {
     "name": "stdout",
     "output_type": "stream",
     "text": [
      "   user  system elapsed \n",
      "361.765   2.289 363.985 \n"
     ]
    }
   ],
   "source": [
    "%%R\n",
    "#convert_gt\n",
    "convert_gt <- function(g){\n",
    "    gts <- as.numeric(unlist(strsplit(as.character(g),split = '/')))\n",
    "    gt_sum <- sum(gts)\n",
    "    return(gt_sum)\n",
    "}\n",
    "system.time(gt_sum <- apply(gt,1:2,convert_gt))"
   ]
  },
  {
   "cell_type": "code",
   "execution_count": 21,
   "metadata": {},
   "outputs": [
    {
     "name": "stdout",
     "output_type": "stream",
     "text": [
      "   Min. 1st Qu.  Median    Mean 3rd Qu.    Max.    NA's \n",
      "-0.2748  0.4563  0.5912  0.5745  0.7226  0.9864       3 \n"
     ]
    }
   ],
   "source": [
    "%%R \n",
    "#find correlation between gt and pntest_mean\n",
    "cor_list <- rep(NA,times=nrow(pntest_mean))\n",
    "for (i in 1:nrow(pntest_mean)){\n",
    "    cor_out <- cor(pntest_mean[i,],gt_sum[i,],use='pairwise.complete.obs')\n",
    "    cor_list[i] <- cor_out\n",
    "}\n",
    "summary(cor_list)"
   ]
  },
  {
   "cell_type": "markdown",
   "metadata": {},
   "source": [
    "### Create ldak files in R"
   ]
  },
  {
   "cell_type": "code",
   "execution_count": 114,
   "metadata": {},
   "outputs": [
    {
     "name": "stdout",
     "output_type": "stream",
     "text": [
      "   Sp Ploidy Pop  ID        All SpPloidy\n",
      "1  AT      2  EW  36  AT2_EW_36      AT2\n",
      "2  AT      2  HC   2   AT2_HC_2      AT2\n",
      "3  AT      2  VM   5   AT2_VM_5      AT2\n",
      "4  AT      2  YB  79  AT2_YB_79      AT2\n",
      "5  AT      4  DS   2   AT4_DS_2      AT4\n",
      "6  AT      4  SL   2   AT4_SL_2      AT4\n",
      "7  AT      4  WT   2   AT4_WT_2      AT4\n",
      "8  AV      2  FP   6   AV2_FP_6      AV2\n",
      "9  AV      2  GC   9   AV2_GC_9      AV2\n",
      "10 AV      2  TF 156 AV2_TF_156      AV2\n",
      "11 AV      2  UV   2   AV2_UV_2      AV2\n",
      "12 AV      4  JU   5   AV4_JU_5      AV4\n",
      "13 AV      4  LM   5   AV4_LM_5      AV4\n",
      "14 AV      4  LS   5   AV4_LS_5      AV4\n",
      "15 AV      4  RR   5   AV4_RR_5      AV4\n"
     ]
    }
   ],
   "source": [
    "%%R\n",
    "#create Pop_ID file \n",
    "\n",
    "#get IDs and check\n",
    "indv <- colnames(pl)\n",
    "#print(length(indv))\n",
    "#print(indv[1:10])\n",
    "\n",
    "#### make SP_POP_ID ######\n",
    "Sp <- rep(NA,times=length(indv))\n",
    "Ploidy <- rep(NA,times=length(indv))\n",
    "Pop <- rep(NA,times=length(indv))\n",
    "ID <- rep(NA,times=length(indv))\n",
    "All <- rep(NA,times=length(indv))\n",
    "for (i in 1:length(indv)){\n",
    "  SpP <- unlist(strsplit(as.character(indv[i]),\"_\"))[1]\n",
    "  Sp[i] <- gsub('\\\\d','',SpP,perl=TRUE)\n",
    "  Ploidy[i] <-  gsub('(\\\\D)','',SpP,perl=TRUE)\n",
    "  Pop[i] <- unlist(strsplit(as.character(indv[i]),\"_\"))[2]\n",
    "  ID[i] <- unlist(strsplit(as.character(indv[i]),\"_\"))[3]\n",
    "  All[i] <- as.character(indv[i])\n",
    "}\n",
    "Pop_ID <- data.frame(Sp=Sp,Ploidy=Ploidy,Pop=Pop,ID=ID,All=All,SpPloidy=paste0(Sp,Ploidy))\n",
    "\n",
    "write.csv(Pop_ID,\"Pop_ID.csv\",row.names = FALSE)\n",
    "\n",
    "Pop_ID"
   ]
  },
  {
   "cell_type": "code",
   "execution_count": 119,
   "metadata": {},
   "outputs": [
    {
     "name": "stdout",
     "output_type": "stream",
     "text": [
      "    PC1     PC2     PC3     PC4     PC5 \n",
      "0.23385 0.13007 0.10995 0.09503 0.09200 \n"
     ]
    },
    {
     "name": "stderr",
     "output_type": "stream",
     "text": [
      "R[write to console]: Error in method1$x[, 1:27] : subscript out of bounds\n",
      "Calls: <Anonymous> -> <Anonymous> -> withVisible -> PCA_entropy\n",
      "\n"
     ]
    },
    {
     "name": "stdout",
     "output_type": "stream",
     "text": [
      "\n",
      "Error in method1$x[, 1:27] : subscript out of bounds\n",
      "Calls: <Anonymous> -> <Anonymous> -> withVisible -> PCA_entropy\n"
     ]
    }
   ],
   "source": [
    "%%R\n",
    "Pop_ID <- read.csv(\"Pop_ID.csv\")\n",
    "pca_df <- PCA_entropy(t(pntest_mean))"
   ]
  },
  {
   "cell_type": "code",
   "execution_count": 120,
   "metadata": {},
   "outputs": [
    {
     "name": "stderr",
     "output_type": "stream",
     "text": [
      "R[write to console]: Error in cbind(Pop_ID, pca_df) : object 'pca_df' not found\n",
      "Calls: <Anonymous> -> <Anonymous> -> withVisible -> cbind\n",
      "\n"
     ]
    },
    {
     "name": "stdout",
     "output_type": "stream",
     "text": [
      "\n",
      "Error in cbind(Pop_ID, pca_df) : object 'pca_df' not found\n",
      "Calls: <Anonymous> -> <Anonymous> -> withVisible -> cbind\n"
     ]
    }
   ],
   "source": [
    "%%R\n",
    "pca_plot_df <- cbind(Pop_ID,pca_df)\n",
    "col3 <- c(\"#899DA4\",\"#C93312\",\"#FAEFD1\")\n",
    "ggplot(data = pca_df, aes(x=PC1,y=PC2,fill=Sp,shape=as.character(Ploidy))) + \n",
    "  geom_point(colour='black',size = 4)+ #ggtitle(\"PCA ARTR all\") +\n",
    "  #xlab(paste(\"PC\",1,\" (\",pve[1]*100,\"%)\",sep=\"\")) + ylab(paste(\"PC\",2,\" (\",pve[2]*100,\"%)\",sep=\"\"))  +\n",
    "  scale_fill_manual(name='Subspecies:',values = col3) +\n",
    "  scale_shape_manual(name='Ploidy:',values = c(21,24)) + \n",
    "  theme_bw() + \n",
    "  theme(#legend.position = 'none',\n",
    "    axis.text = element_text(size=11), \n",
    "    axis.title = element_text(size = 13, colour=\"black\",face = \"bold\",vjust = 1),\n",
    "    panel.border = element_rect(size = 1.5, colour = \"black\"),\n",
    "    panel.grid.major = element_blank(),\n",
    "    panel.grid.minor = element_blank())"
   ]
  },
  {
   "cell_type": "code",
   "execution_count": 203,
   "metadata": {},
   "outputs": [],
   "source": [
    "%%R\n",
    "#######################################################################################\n",
    "                                    #### LDA ####\n",
    "#######################################################################################\n",
    "\n",
    "k2<-kmeans(pca_df[,1:5],2,iter.max=10,nstart=10,algorithm=\"Hartigan-Wong\")\n",
    "k3<-kmeans(pca_df[,1:5],3,iter.max=10,nstart=10,algorithm=\"Hartigan-Wong\")\n",
    "k4<-kmeans(pca_df[,1:5],4,iter.max=10,nstart=10,algorithm=\"Hartigan-Wong\")\n",
    "k5<-kmeans(pca_df[,1:5],5,iter.max=10,nstart=10,algorithm=\"Hartigan-Wong\")\n",
    "k6<-kmeans(pca_df[,1:5],6,iter.max=10,nstart=10,algorithm=\"Hartigan-Wong\")\n",
    "k7<-kmeans(pca_df[,1:5],7,iter.max=10,nstart=10,algorithm=\"Hartigan-Wong\")\n",
    "k8<-kmeans(pca_df[,1:5],8,iter.max=10,nstart=10,algorithm=\"Hartigan-Wong\")\n",
    "k9<-kmeans(pca_df[,1:5],9,iter.max=10,nstart=10,algorithm=\"Hartigan-Wong\")\n",
    "k10<-kmeans(pca_df[,1:5],10,iter.max=10,nstart=10,algorithm=\"Hartigan-Wong\")\n",
    "k11<-kmeans(pca_df[,1:5],11,iter.max=10,nstart=10,algorithm=\"Hartigan-Wong\")\n",
    "\n",
    "ldak2<-lda(x=pca_df[,1:5],grouping=k2$cluster,CV=TRUE)\n",
    "ldak3<-lda(x=pca_df[,1:5],grouping=k3$cluster,CV=TRUE)\n",
    "ldak4<-lda(x=pca_df[,1:5],grouping=k4$cluster,CV=TRUE)\n",
    "ldak5<-lda(x=pca_df[,1:5],grouping=k5$cluster,CV=TRUE)\n",
    "ldak6<-lda(x=pca_df[,1:5],grouping=k6$cluster,CV=TRUE)\n",
    "ldak7<-lda(x=pca_df[,1:5],grouping=k7$cluster,CV=TRUE)\n",
    "ldak8<-lda(x=pca_df[,1:5],grouping=k8$cluster,CV=TRUE)\n",
    "ldak9<-lda(x=pca_df[,1:5],grouping=k9$cluster,CV=TRUE)\n",
    "ldak10<-lda(x=pca_df[,1:5],grouping=k10$cluster,CV=TRUE)\n",
    "ldak11<-lda(x=pca_df[,1:5],grouping=k11$cluster,CV=TRUE)\n",
    "\n",
    "write.table(round(ldak2$posterior,5),file=\"ldak2.txt\",quote=F,row.names=F,col.names=F)\n",
    "write.table(round(ldak3$posterior,5),file=\"ldak3.txt\",quote=F,row.names=F,col.names=F)\n",
    "write.table(round(ldak4$posterior,5),file=\"ldak4.txt\",quote=F,row.names=F,col.names=F)\n",
    "write.table(round(ldak5$posterior,5),file=\"ldak5.txt\",quote=F,row.names=F,col.names=F)\n",
    "write.table(round(ldak6$posterior,5),file=\"ldak6.txt\",quote=F,row.names=F,col.names=F)                                      \n",
    "write.table(round(ldak7$posterior,5),file=\"ldak7.txt\",quote=F,row.names=F,col.names=F)\n",
    "write.table(round(ldak8$posterior,5),file=\"ldak8.txt\",quote=F,row.names=F,col.names=F)\n",
    "write.table(round(ldak9$posterior,5),file=\"ldak9.txt\",quote=F,row.names=F,col.names=F)\n",
    "write.table(round(ldak10$posterior,5),file=\"ldak10.txt\",quote=F,row.names=F,col.names=F)\n",
    "write.table(round(ldak11$posterior,5),file=\"ldak11.txt\",quote=F,row.names=F,col.names=F)\n"
   ]
  },
  {
   "cell_type": "code",
   "execution_count": 204,
   "metadata": {},
   "outputs": [],
   "source": [
    "%%R\n",
    "######### create entropy header ####\n",
    "\n",
    "Pop_ID_list <- paste(Pop_ID$Pop,Pop_ID$ID,sep='_')\n",
    "\n",
    "Header <- data.frame(dims = NA,Pop_ID_list)\n",
    "\n",
    "dim(pntest_mean)\n",
    "\n",
    "df <- t(Header)\n",
    "dims <- paste(dim(pntest_mean)[2],dim(pntest_mean)[1],sep = \" \")\n",
    "\n",
    "df[1,1] <- dims\n",
    "\n",
    "write.table(df,'entropy_header.txt',sep = \" \",na =\"\",\n",
    "            quote = FALSE,row.names = FALSE,col.names = FALSE)"
   ]
  },
  {
   "cell_type": "code",
   "execution_count": 205,
   "metadata": {},
   "outputs": [
    {
     "name": "stdout",
     "output_type": "stream",
     "text": [
      "194 6343                                                                                                                                                                                                 \r\n",
      "BM_1 BM_3 BM_4 DT_2 DT_3 BM_1 BM_2 BM_3 BM_4 BM_5 BM_6 BM_7 BM_9 BM_10 BM_12 BM_13 BM_14 BM_15 BM_16 BM_17 BM_18 BM_19 BM_20 BM_21 BM_22 BM_23 BM_24 BM_25 BM_26 BM_27 BM_28 BM_29 BM_30 BM_31 BM_35 BM_36 BM_37 BM_38 BM_39 BM_40 DT_1 DT_2 DT_3 DT_4 DT_5 DT_6 DT_7 DT_8 DT_20 DT_21 DT_22 DT_23 DT_24 DT_25 DT_26 DT_27 DT_31 DT_32 DT_33 DT_34 DT_35 DT_36 DT_37 DT_38 DT_39 DT_40 DT_41 DT_42 DT_43 DT_44 DT_45 DT_46 LF_21 LF_22 LF_23 LF_24 LF_25 LF_26 LF_27 LF_28 LF_29 LF_2 LF_30 LF_31 LF_32 LF_33 LF_34 LF_35 LF_36 LF_37 LF_38 LF_39 LF_40 LF_41 LF_42 LF_43 LF_5 LF_99 BM_1 BM_2 BM_3 BM_4 BM_5 BM_6 BM_8 BM_9 BM_10 BM_11 BM_12 BM_13 BM_14 BM_15 BM_16 BM_17 BM_18 BM_19 BM_20 BM_21 BM_22 BM_23 BM_24 BM_25 BM_27 BM_28 BM_29 BM_30 BM_31 BM_32 BM_33 BM_34 BM_35 DT_1 DT_2 DT_3 DT_4 DT_5 DT_6 DT_7 DT_8 DT_9 DT_10 DT_11 DT_12 DT_13 DT_14 DT_15 DT_16 DT_17 DT_24 DT_30 DT_31 DT_32 DT_33 DT_34 DT_35 DT_36 DT_37 DT_38 DT_39 DT_40 DT_41 DT_45 DT_46 DT_47 LF_1 LF_4 LF_5 LF_6 LF_7 LF_8 LF_9 LF_10 LF_18 LF_20 LF_21 LF_22 LF_23 LF_24 LF_25 LF_26 LF_27 LF_29 LF_30 LF_31 LF_32 LF_33 LF_34 LF_35 LF_36 LF_37 LF_38 LF_39 LF_40 LF_41\r\n"
     ]
    }
   ],
   "source": [
    "!head entropy_header.txt"
   ]
  },
  {
   "cell_type": "code",
   "execution_count": 206,
   "metadata": {},
   "outputs": [],
   "source": [
    "!cat entropy_header.txt mpgl.txt > entropy.mpgl"
   ]
  },
  {
   "cell_type": "code",
   "execution_count": 207,
   "metadata": {},
   "outputs": [
    {
     "name": "stdout",
     "output_type": "stream",
     "text": [
      "194 6343                                                                                                                                                                                                 \r\n",
      "BM_1 BM_3 BM_4 DT_2 DT_3 BM_1 BM_2 BM_3 BM_4 BM_5 BM_6 BM_7 BM_9 BM_10 BM_12 BM_13 BM_14 BM_15 BM_16 BM_17 BM_18 BM_19 BM_20 BM_21 BM_22 BM_23 BM_24 BM_25 BM_26 BM_27 BM_28 BM_29 BM_30 BM_31 BM_35 BM_36 BM_37 BM_38 BM_39 BM_40 DT_1 DT_2 DT_3 DT_4 DT_5 DT_6 DT_7 DT_8 DT_20 DT_21 DT_22 DT_23 DT_24 DT_25 DT_26 DT_27 DT_31 DT_32 DT_33 DT_34 DT_35 DT_36 DT_37 DT_38 DT_39 DT_40 DT_41 DT_42 DT_43 DT_44 DT_45 DT_46 LF_21 LF_22 LF_23 LF_24 LF_25 LF_26 LF_27 LF_28 LF_29 LF_2 LF_30 LF_31 LF_32 LF_33 LF_34 LF_35 LF_36 LF_37 LF_38 LF_39 LF_40 LF_41 LF_42 LF_43 LF_5 LF_99 BM_1 BM_2 BM_3 BM_4 BM_5 BM_6 BM_8 BM_9 BM_10 BM_11 BM_12 BM_13 BM_14 BM_15 BM_16 BM_17 BM_18 BM_19 BM_20 BM_21 BM_22 BM_23 BM_24 BM_25 BM_27 BM_28 BM_29 BM_30 BM_31 BM_32 BM_33 BM_34 BM_35 DT_1 DT_2 DT_3 DT_4 DT_5 DT_6 DT_7 DT_8 DT_9 DT_10 DT_11 DT_12 DT_13 DT_14 DT_15 DT_16 DT_17 DT_24 DT_30 DT_31 DT_32 DT_33 DT_34 DT_35 DT_36 DT_37 DT_38 DT_39 DT_40 DT_41 DT_45 DT_46 DT_47 LF_1 LF_4 LF_5 LF_6 LF_7 LF_8 LF_9 LF_10 LF_18 LF_20 LF_21 LF_22 LF_23 LF_24 LF_25 LF_26 LF_27 LF_29 LF_30 LF_31 LF_32 LF_33 LF_34 LF_35 LF_36 LF_37 LF_38 LF_39 LF_40 LF_41\r\n",
      "dDocent_Contig_940:17 3.09577 0 3.09577 0 0.60206 7.02467 0 0.90309 10.3539 0 0.90309 9.33851 0 0.30103 3.69783 0 2.10721 22.3867 0 0.60206 7.00777 0 1.50515 15.9518 0 1.50515 16.9529 0 1.80618 18.9905 0 2.10721 22.6877 0 0 0 0 0.90309 9.38405 0 1.20412 12.378 0 0.30103 3.66681 0 1.50515 16.8814 0 0.30103 3.69783 0 2.10721 22.7112 0 0.30103 3.68648 0 0.60206 7.02588 0 0.90309 10.3539 0 0.30103 3.69656 0 1.80618 18.1395 0 0.30103 3.69783 0 0 0 0 0.90309 9.46796 0 1.80618 20.3381 0 1.20412 13.682 0 0.30103 3.67343 0 1.20412 13.6131 2.49371 0 9.06101 0 2.40824 26.6501 0 1.20412 13.6808 0 1.20412 13.6234 0 0.30103 3.69656 0 0.30103 3.621 0 1.50515 17.01 0 0.60206 7.02588 0 1.20412 11.0478 0 1.20412 12.8039 0 1.50515 16.941 0 2.70927 29.3262 0 0.30103 3.69783 0 0.90309 10.3067 0 1.50515 14.7604 0 0.90309 10.3527 0 0.60206 5.88588 0 0.60206 7.02588 0 0.30103 3.69783 0 0.90309 10.3527 0 2.70927 28.3918 0 0.60206 7.02588 0 2.40824 26.532 0 2.10721 23.4989 0 1.20412 12.572 0 0.60206 7.02588 0 0.30103 3.66681 0 3.0103 26.1731 0 1.80618 20.3145 0 1.20412 12.3197 0 0.90309 10.2619 0 0.90309 9.20498 0 1.20412 13.6808 0 1.80618 20.1855 0 0.90309 10.3312 0 3.0103 32.5189 0 1.20412 11.7596 0 1.80618 20.3381 0 4.51545 43.1315 0 1.50515 16.9225 0 1.80618 19.2353 0 1.50515 14.4573 0 0.60206 7.02588 0 0.30103 3.69656 0 1.20412 13.6307 0 2.40824 26.8507 0 2.10721 22.3632 0 0.60206 7.0027 0 0.90309 10.3539 0 1.20412 12.6558 0 0 0 0 3.0103 33.5975 0 0.60206 6.02791 0 0 0 0 1.50515 16.9739 0 0.90309 9.24923 0 1.50515 15.8854 0 0.30103 3.66681 0 1.50515 15.9969 0 1.80618 20.3346 0 1.50515 14.93 0 2.10721 22.5958 0 0.60206 6.12409 0 0 0 0 3.0103 33.5637 0 0.90309 9.20569 0 1.80618 18.2874 0 2.10721 23.3768 0 0.90309 10.325 0 0.90309 10.0906 0 0 0 0 1.80618 20.0157 0 1.20412 13.682 0 1.80618 19.7689 0 0.30103 3.58069 0 0.60206 7.02588 0 0.30103 2.65869 0 2.70927 27.5733 2.19268 0 11.6605 2.49371 0 9.12703 0 0.90309 10.3539 0 0.30103 3.64851 0 0.30103 3.64851 0 1.50515 17.01 1.7483 0 15.1753 0 0.30103 3.69783 0 0.30103 3.69783 0 0.60206 7.02347 0 1.80618 19.2103 0 0 0 2.0195 0 9.1498 0 0.60206 7.02588 0 0 0 0 0.90309 9.21305 0 1.20412 13.0787 5.82176 0 5.82055 0 0.60206 7.02588 0 3.61236 35.6095 0 2.10721 23.5864 0 0 0 0 0 0 0 1.50515 16.9864 0.988559 0 23.9907 0 1.20412 13.6533 0 0.60206 7.02467 0 1.80618 18.5978 0 3.0103 32.305 0 0.90309 10.3539 0 2.10721 23.6415 0 0.90309 10.3539 2.19268 0 11.5283 0 0 0 0.687529 0 20.3147 0 1.20412 10.6775 0 0.30103 3.69783 1.19445 0 20.0309 0 2.40824 26.0209 5.43035 0 8.19112 0 0.60206 6.69178 4.91867 0 13.3753 2.09754 0 11.9446 0 0 0 0 2.10721 23.3683 0 0.60206 6.99641 0 0.90309 10.3527 0 1.20412 13.6533 1.59062 0 17.2559 0 0.90309 10.3539 1.28959 0 20.2458 0 1.50515 16.9635 0 0.30103 3.69783 0 0.90309 9.21305 0 0.90309 10.3079 0 0.60206 6.742 1.59062 0 18.1107 0 2.10721 23.6082 0 1.20412 13.4056 0.687529 0 25.897 0 1.50515 16.678 0 3.0103 31.0495 3.41352 0 29.466 0 1.50515 15.8793 0 0.30103 3.69783 0 0.30103 3.69783 0 2.40824 26.9496 0 0.90309 10.3527 0 1.50515 16.7054 0 1.50515 16.249 0 1.50515 17.01 0 1.50515 15.2608 0 0 0 0 0.90309 10.3539 0 0.30103 3.67343 0 0.90309 9.0486 5.52073 0 8.73944 4.61764 0 17.8979 0 1.50515 17.01 0 1.20412 13.3951 0 1.50515 17.01 6.12279 0 0.196407 2.49371 0 8.82038 0 0.30103 3.69783 0 1.20412 13.4044 0 0.60206 7.02588\r\n",
      "dDocent_Contig_1649:7 0 0.30103 3.69783 0 6.32163 70.2403 0 1.20412 13.5736 0 1.80618 20.3381 0 3.22586 67.8212 0 28.8989 318.173 0 8.42884 93.3463 0 15.0515 164.44 0 2.10721 22.3566 0 1.50515 16.6342 0 4.51545 49.1582 0 3.8112 106.371 0 11.7402 127.298 0 0.90309 10.082 0 1.50515 16.7178 0 7.52575 82.25 0 1.80618 17.6371 0 14.3473 221.415 0 0.30103 3.69783 0 2.70927 30.0464 0 10.235 113.279 0 1.20412 13.682 0 1.20412 12.9399 0 9.93399 108.617 0 8.6444 128.385 0 8.62768 159.505 0 1.50515 16.784 0 7.44028 116.351 0 6.0206 66.7366 0 8.04234 123.124 0 1.50515 16.7945 0 0.90309 10.2446 0 1.80618 20.3381 0 3.0103 31.9402 0 1.50515 16.9022 0 1.20412 13.4653 0 0.90309 10.3539 0 0.60206 6.86035 0 21.9752 241.8 0 10.7516 151.749 0 14.7505 163.306 0 10.536 116.729 0 7.82678 86.4832 0 2.70927 29.013 0 9.93399 109.812 0 14.4494 158.827 2.79474 0 6.0115 0 2.70927 30.3222 0 0.60206 7.02588 0 11.0359 184.866 0 1.80618 19.8322 0 0.60206 7.02588 0 1.50515 17.01 0 1.50515 15.6631 0 13.7619 185.898 0 0.60206 7.02588 0 6.32163 67.7194 0 2.70927 29.8365 0 2.40824 26.5145 0 12.0412 133.237 5.52073 0 8.68615 1.59062 0 15.9955 0 0.30103 3.69783 0 4.51545 50.1834 0 3.52689 73.1109 0 3.52689 73.0333 0 3.0103 32.6798 0 1.20412 13.682 0 11.6547 162.638 0 2.6238 63.1307 0 10.8371 118.98 0 8.72987 95.7892 0 1.20412 12.6956 0 7.52575 82.5632 0 9.63296 106.632 0 0.30103 3.69783 0 5.03204 87.367 0 0.90309 10.2446 0 0.60206 7.02588 0 9.93399 110.042 0 0.90309 10.3539 0 16.1579 240.732 0 0.60206 7.02588 0 0.90309 10.3539 0 2.10721 23.1616 0 9.84852 141.748 0 5.71957 63.4545 0 0.30103 3.58069 0 8.34337 126.348 0 0.90309 10.2446 0 0.90309 10.3539 0 2.02174 56.4159 0 13.8474 152.989 0 0.60206 5.88781 0 8.04234 122.773 0 10.7516 152.94 0 2.40824 25.9658 0 16.8577 183.946 0 6.92369 74.7402 0 0.60206 6.91459 2.19268 0 12.1768 0 8.72987 96.8492 0 2.02174 56.3703 0 0.60206 7.02588 0 0.90309 10.3539 0 1.50515 16.5817 0 0 0 0 9.0309 98.2602 0 3.91339 42.0817 0 9.93399 109.963 1.59062 0 18.0711 0 0.60206 7.02588 0 0.30103 3.69783 0 4.51545 50.2843 0 0.60206 6.91459 0 1.80618 18.6666 0 4.51545 50.1919 0 0.30103 3.58069 0 5.03204 89.7452 0 0 0 5.57088 0 98.5964 0 1.20412 13.6533 0 1.20412 13.5736 0 7.52575 83.4746 0 1.20412 13.4492 0 1.50515 16.5102 0 3.22586 69.5546 1.89165 0 14.7567 0 7.82678 86.6825 0 5.71957 63.3308 0 5.41854 60.2587 0 11.4391 125.94 0 3.31133 36.8139 0 8.72987 93.8888 0 1.11865 45.6827 0 15.3525 169.224 0 7.82678 86.7451 0 0.60206 5.49778 0 3.31133 36.3224 0 5.41854 60.2649 0 0 0 0 0.60206 6.78677 0 1.20412 13.6249 0 7.82678 86.8068 0 0.60206 6.91459 0 7.74131 119.65 0 7.22472 80.1654 0 7.74131 119.401 0 0.198844 66.3766 0 3.82792 76.4367 0 2.70927 29.4304 0 0 0 0 3.61236 40.2963 0 0.30103 3.58069 0 1.50515 17.01 0 5.01532 119.681 0 1.20412 13.5736 0 0.60206 6.67548 0 1.80618 19.5482 0 0.30103 3.69783 0 6.32163 69.2982 0 6.62266 71.4138 0 6.92369 76.6455 0 1.80618 19.9085 0 5.03204 88.3161 0 0.90309 10.2446 0 7.42356 146.22 0 11.337 186.137 0 1.80618 20.0159 5.52073 0 8.73944 0 4.42998 83.0609 0 1.20412 13.5026 0 0.60206 7.02588 0 0.90309 10.2963 0 8.42884 93.5311 0 1.72071 50.25 0 7.22472 80.0279 0 7.82678 86.7073 0 6.92369 75.1237 0 8.12781 90.1965 0 0.90309 9.77797 0 1.20412 13.4124 0 7.22472 78.9894 0 0.90309 10.2446 0 5.11751 56.9264 0 0.30103 3.69783 0 0 0 0 5.02589 77.3211 0 9.84852 141.745 0 9.93399 110.074 0 0.30103 3.69783 0 7.82678 86.8026 0 0.90309 10.3539 0 1.20412 13.4492\r\n",
      "dDocent_Contig_1779:5 0 3.0103 33.6502 0 5.71957 63.6027 0 1.10193 76.5451 2.2094 0 41.0592 0 3.61236 40.3063 0 3.0103 33.6502 0 3.61236 40.3063 0 4.51545 50.2905 0 4.51545 50.2905 0 4.21442 46.9624 0 4.12895 79.8731 0 4.21442 46.9624 0 6.32163 70.2588 1.60734 0 48.2 0 3.31133 36.9783 0 3.31133 36.9783 0 6.32163 69.1749 0 2.6238 63.2329 0 3.22586 68.8054 0 9.63296 106.867 0 7.22472 80.2429 0.0854694 0 33.3659 0 5.71957 63.6027 0 7.22472 80.2429 0 4.42998 83.2012 0.386499 0 30.3389 0 5.93513 99.8414 0 10.536 116.851 1.90837 0 45.173 0 9.93399 110.195 0 1.11865 46.5926 0 2.92483 65.4771 0 4.51545 50.2905 0 2.92483 66.5609 0 5.33307 93.1853 0 2.10721 23.6661 0 4.73101 85.4466 0 4.81648 53.6185 0 5.11751 56.9466 0 3.91339 43.6344 0 1.10193 76.5451 0 5.11751 56.9466 0 4.21442 46.9624 0 1.41968 49.9207 0 2.40824 26.9942 4.04901 0 83.9221 0 5.71957 63.6027 0 4.12895 79.8731 0 2.10721 23.6661 0 4.51545 50.2905 0 10.235 112.442 5.55416 0 68.787 0 4.21442 46.9624 0 10.536 116.851 0 4.42998 83.2012 0 2.92483 66.5609 0 1.41968 49.9207 0 7.52575 83.5709 0 5.11751 56.9466 0 6.83822 109.826 0 3.91339 43.6344 0 1.11865 46.5926 0 2.6238 63.2329 0 2.40824 25.901 0 7.82678 86.899 0 3.91339 43.6344 0 1.72071 53.2487 0 2.40824 26.9942 0 19.2659 211.023 0 2.6238 63.2329 0 8.12781 90.227 0 2.6238 62.1487 0 1.20412 13.682 3.11249 0 33.0649 9.16652 0 32.4628 0 6.92369 76.5451 0 5.71957 63.6027 0 4.51545 50.2905 0 3.61236 40.3063 0 2.02174 54.2243 0 0.215561 36.6085 0 1.72071 53.2487 0 4.21442 46.9624 0 4.81648 53.6185 1.32302 0 81.1961 0 4.81648 53.6185 0 4.81648 53.6185 0 7.22472 80.2429 0 0.817621 43.2646 0 3.22586 69.889 0 4.51545 50.2905 0 3.31133 36.9783 0 6.62266 73.5868 2.2094 0 42.146 0 5.41854 60.2746 0 2.6238 63.2329 0 3.0103 33.6502 0 4.81648 53.6185 0 5.03204 89.8573 0 4.51545 50.2905 0 2.90811 96.5133 0 2.00502 86.5292 0 3.0103 33.2805 0 7.13925 110.99 0 5.71957 63.6027 0 6.0206 65.8465 0 3.61236 39.2182 0 4.1977 76.5451 0 4.21442 46.9624 0 7.52575 83.5709 0.118902 0 92.2222 0 0.516591 39.9366 0 2.90811 93.0849 0.687529 0 27.3119 0 9.0309 100.211 0 3.82792 76.5451 0 0.516591 39.9366 0 3.91339 43.6344 0 0.215561 36.6085 0 4.51545 50.2905 0 8.72987 96.8831 0 3.31133 36.9783 0 1.72071 53.2487 0 4.21442 46.9624 0 2.6238 63.2329 0 7.52575 83.5709 0 1.40296 79.8731 0 5.03204 88.7748 0 1.11865 46.5926 0 0.516591 39.9366 0 3.0103 33.6502 0 6.92369 75.8315 0 2.70927 30.3222 0 7.44028 116.482 0 1.20412 13.682 0 1.42828 49.9293 0 7.22472 80.2429 0 8.34337 125.385 0 8.72987 93.4538 0 5.33307 92.103 0 5.11751 56.9466 0 3.31133 36.9783 0 17.1587 190.068 0 7.82678 86.899 0 3.61236 40.3063 0 10.536 115.77 0 5.11751 56.9466 0 6.92369 76.9148 0.0854694 0 33.3659 0 4.21442 46.9624 0 18.5784 239.619 0 0.800904 72.1339 0 3.22586 69.889 0 1.11865 46.5926 0 2.00502 86.5292 0 4.42998 83.2012 0 5.71957 63.6027 0 3.52689 73.217 0 6.23616 103.169 0.0854694 0 33.3659 1.60734 0 48.2 0 6.62266 73.5868 0 5.41854 60.2746 0 2.32277 59.9048 0 3.91339 43.6344 0 3.61236 40.3063 0 9.93399 110.195 0 4.21442 46.9624 0 7.52575 83.5709 1.90837 0 45.173 0 3.61236 40.3063 0 3.31133 36.9783 1.28959 0 21.2579 0 6.92369 76.9148 0 3.91339 43.6344 2.49371 0 9.1498 0 3.82792 76.5451 0 2.90811 96.5133 0 2.6238 63.2329 0 5.41854 60.2746 0 3.61236 40.3063 0 5.11751 56.9466 0 3.31133 36.9783 0 6.62266 73.5868 0 3.61236 40.3063 0.687529 0 27.3119 4.61764 0 17.9298 0 4.81648 53.6185 0 0.499874 69.889 1.60734 0 48.2 0 3.52689 73.217 0 6.0206 66.9307 0 4.81648 53.6185 0 11.4391 126.836\r\n",
      "dDocent_Contig_1982:46 0 0.60206 7.02588 0 1.80618 18.6831 0 1.20412 12.8892 0 0.30103 3.69783 0 0 0 0 0 0 0 3.61236 39.5558 0 1.20412 13.3322 0 1.50515 15.9665 0 4.81648 48.6898 0.88519 0 5.63215 0 0.60206 6.30692 0 3.0103 28.6408 0 3.0103 29.9935 0 2.40824 25.0698 0 0 0 0 0.30103 3.67343 0 0 0 0 0.60206 7.0177 0 0.90309 10.075 0 0.60206 6.98045 0 0.60206 7.02588 0 0 0 0 1.20412 13.6094 0 0.30103 3.69656 0 1.80618 18.0788 0 0.90309 8.92361 0 0.60206 6.35151 0 1.50515 16.459 0 0.30103 3.69783 0 4.51545 47.6804 0 2.10721 23.5556 0 0.90309 10.3539 0 1.20412 13.4875 0 1.80618 18.8432 0 0.60206 7.0177 0 0.30103 3.58069 0 1.80618 18.3748 0 0.90309 10.2105 0 0.90309 9.13952 0 0.60206 7.02588 0 0.30103 3.69783 0 0.30103 3.68923 0 0.60206 6.45813 0 0.30103 3.69783 0 0.30103 3.69783 0 0.60206 7.02383 0 0.90309 8.77754 0 0.90309 8.93906 0 0.60206 6.63617 0 0.60206 5.95148 0 0.90309 10.3478 0 0.90309 10.2466 0 0.90309 9.29533 0 0.60206 7.02145 0 0.30103 3.69783 0 0.30103 3.69783 0 0.60206 6.63617 0 0 0 1.79863 0 7.52072 0 0.90309 7.98017 0 0.90309 10.3079 0 2.70927 26.9623 0 0.30103 3.69568 0 1.20412 13.4032 0 6.62266 68.2901 0 0.60206 4.08269 0 3.31133 34.9386 5.69842 0 17.6179 0 0.60206 6.95289 0 0.30103 3.69783 0 2.70927 24.5874 0 0.60206 6.98552 0 0.90309 9.20383 0 1.20412 13.0378 0 0.30103 3.69783 0 0.30103 3.68305 0 2.10721 17.9104 0 1.80618 19.5274 0 0 0 0 0.60206 6.50973 0 2.40824 26.9162 0 0.30103 3.68305 0 0.60206 6.87991 1.71694 0 9.14111 0 0.30103 3.67877 0 0.30103 3.65862 0 0.90309 10.3516 0 0 0 0 0.30103 3.68648 0 0.30103 3.39901 0 0.30103 0.699652 0 0.30103 3.69783 0 1.50515 17.007 0 2.40824 22.3403 0 0.30103 3.00275 0 1.20412 11.2905 0 2.40824 26.2858 0 1.20412 13.5202 0 0.60206 7.01968 0 1.80618 20.1566 1.11488 0 12.2409 0 1.80618 17.1309 1.28347 0 5.95726 0 1.20412 13.1592 0 2.40824 26.3177 0 1.20412 12.17 0 0.30103 3.67877 3.44281 0 14.6122 0 1.80618 20.2179 0 2.43548 42.8168 0 2.10721 23.1906 0 3.91339 43.4461 2.34829 0 11.6106 1.93766 0 28.8456 0 2.40824 25.4203 0 2.40824 26.5855 0 0.90309 9.21122 0 1.50515 16.8497 0 1.50515 16.7412 0 1.20412 12.323 0 0.60206 7.02025 0 0.60206 7.02588 0.190614 0 10.3885 0 0.90309 9.37603 2.34829 0 11.2269 0 0.60206 5.31449 0 0.30103 3.52359 0 1.50515 15.278 0 0.30103 3.69783 0 0.30103 3.68305 0 0 0 0 0.60206 4.48495 0 1.20412 13.3726 0 0.90309 10.119 0 2.70927 27.7827 2.74462 0 26.4965 0 1.20412 13.2386 10.3463 0 34.5883 0 0.60206 7.02588 0 0.30103 3.69783 0 0.60206 6.91459 0 0.90309 10.1478 0 2.40824 23.5941 0 0.90309 8.54378 0 2.40824 26.6732 0 0.60206 6.60582 0 0.90309 10.1741 0 1.20412 13.2842 2.92106 0.30103 0 0 2.10721 23.1978 0 0 0 0 0.30103 3.68923 0 0.30103 3.55448 0 0.60206 7.0165 0 1.20412 13.674 1.71694 0 8.36699 0 0.30103 3.68923 0 0.60206 7.0177 0 0.30103 3.69783 0 0 0 0 0.90309 10.1052 0 3.31133 35.5407 0 0.30103 3.69783 0.512823 0 20.9768 7.57216 0 18.3512 0 1.50515 15.9317 0 2.10721 20.0772 0 0.944175 32.9667 0 3.31133 36.4524 1.3356 0 35.3653 3.96456 0 31.4577 0 1.20412 13.3976 0 0 0 0 0 0 0 0.90309 10.3323 3.74384 0 11.8672 0.681413 0 10.315 0 0 0 2.01797 0 6.07593 0 0.60206 6.73996 0 1.50515 16.0461 0 0.60206 4.69944 0 0 0 0 0.60206 6.62642 0 0.30103 3.621 0 0.60206 5.66156 0 2.10721 21.6669 0 0 0 0 1.20412 13.682 0 0.30103 3.28761 0 1.20412 13.5494 0 0.30103 3.69783 0 4.21442 46.3125\r\n",
      "dDocent_Contig_2398:37 0 3.61236 40.3053 0 0.60206 7.02588 0 3.8112 106.497 0 5.71957 63.044 0 0 0 0 0.30103 3.69783 0 0.90309 10.3539 0 0.30103 3.65862 0 13.8474 150.692 0 8.72987 95.0475 0 30.7051 337.105 0 0.90309 10.3539 0 0.90309 10.3539 0 4.42998 82.6434 0 5.71957 63.6027 0 0.60206 4.55793 0 9.93399 109.114 0 0.60206 7.02588 0 6.30491 99.1399 0 1.70399 81.0359 0 0.60206 7.02588 0 9.0309 97.8506 0 1.70399 83.2007 0 0.30103 3.69783 0 0.90309 10.3173 0 0.60206 7.02588 0 10.2183 142.736 0 0.30103 3.69783 0 0.30103 3.69783 0 0.90309 9.70518 0 11.7402 129.579 0 10.235 113.154 0 7.22472 79.6844 0 12.3422 136.819 0 9.54749 137.644 0 9.33193 101.899 0 12.0412 133.492 0 8.12781 88.7748 0 0.90309 10.3539 0 0.30103 3.65862 0 0 0 0 0.60206 7.02588 0 0.60206 6.91459 0 9.24646 135.893 0 0 0 0 0.60206 7.02588 0 1.72071 53.2487 0 10.5193 144.813 0 4.81648 51.2564 0 0.60206 7.02588 0 4.48202 108.741 0 8.12781 89.4851 0 5.71957 63.2329 0 15.3525 162.234 0 0.30103 3.69783 0 7.22472 79.5011 0 0 0 0 19.868 215.672 0 8.72987 95.8008 0 0.90309 10.3539 0 7.52575 83.2012 0 0.198844 64.3937 0 6.92369 74.3782 0 0 0 0 0.60206 7.02588 0 3.0103 33.4513 0 5.10079 84.8892 0 2.70927 30.2701 2.79474 0 4.98472 0 0.60206 7.02383 3.09577 0 3.09577 0 0 0 0 3.0103 33.2805 0 0.60206 7.0177 0 0.30103 3.48759 0 1.11865 46.5926 0 0.90309 10.3539 0 5.71957 61.0389 0 4.12895 79.8721 0 0.30103 3.69783 0 3.91339 42.4751 0 0 0 0 9.33193 102.242 0 8.12781 90.227 0 12.5578 170.507 0 0.30103 3.34615 0 0 0 0 9.0309 100.211 0 0.30103 3.69783 0 11.1381 122.984 0 5.41854 60.2746 0 0 0 0 0.30103 3.69783 0 4.81648 53.6185 0 0.30103 3.69783 0 0 0 0 9.0309 98.0463 0 0.60206 7.02588 3.52359 0.30103 0 0 5.71957 63.4554 0 16.2556 177.561 0 1.20412 13.23 0 0 0 0 9.0309 99.1202 0 6.92369 73.2449 0 7.52575 83.5709 0 1.50654 44.9659 0 0.90309 10.119 3.68923 0.30103 0 0 0.90309 10.2807 0 12.0412 130.91 0 4.51545 50.29 0 8.12781 89.1444 0 0.30103 3.69783 0 6.62266 72.0479 0 12.0412 132.631 0 0.30103 3.69783 0 3.91339 43.6344 0 0.30103 3.69568 0 3.53549 73.2246 3.06475 0 3.09577 0 3.31133 36.9783 0 9.63296 105.763 0 0 0 0 9.93399 109.638 0 9.33193 103.539 0 0 0 0 11.4391 126.835 0 0.60206 7.02588 0 0 0 0 0 0 0 0 0 0 0.30103 3.69783 0 0 0 0 0 0 0 0.90309 10.3539 0 0 0 0 17.1587 184.223 0 8.42884 93.5546 2.78614 0 6.12279 0 9.93399 108.285 0 2.70927 30.3222 0 11.7402 127.444 0 0.90309 7.92928 0 4.51545 50.29 0 0.60206 7.02588 0 0.60206 6.12409 3.08717 0 3.09577 0 0 0 0 0 0 0 14.1484 153.609 0 4.51545 49.2033 0 0 0 0 6.0206 65.4771 0 10.8371 120.122 0 0 0 0 7.22472 79.1592 0 4.51545 50.289 0 8.72987 96.8644 0 6.32163 70.1116 0 0 0 0 0.30103 3.63612 0 0 0 0 5.11751 56.5745 0 0.30103 2.74858 0 3.91339 43.6344 2.6205 0 6.12279 0 0 0 0 3.22586 69.8885 0 4.42998 83.2012 0 0.30103 3.65862 0 3.0103 33.6502 0 3.91339 42.547 0 9.0309 99.3527 3.68923 0.30103 0 0 0 0 0 0.30103 3.63612 0 0 0 0 0.30103 3.00275 0 0 0 0 6.92369 76.9138 0 6.92369 76.9143 0 0 0 0 6.92369 76.9148 0 0.30103 3.69783 0 2.10721 23.6656 0 1.50515 16.5753 0 0.60206 6.98862 0 0 0 0 0 0 0 3.0103 33.6146 0 0 0 0 4.81648 50.1257 0 4.13755 79.8812\r\n",
      "dDocent_Contig_2487:2 0 1.50515 17.01 0 10.536 115.77 0 3.91339 43.6344 0 7.82678 86.899 0 2.30605 89.8127 0 1.20412 13.682 0 4.81648 53.6185 0 6.32163 69.1749 0 8.42884 93.5551 0 5.71957 63.6027 0 9.0309 100.211 0 5.71957 63.6027 0 2.30605 89.8573 0 14.0629 189.699 0 2.6238 63.2329 0 9.33193 103.539 0 9.0309 100.211 0 6.32163 70.2588 0 17.1587 188.988 0 6.0206 66.9307 0 1.11865 46.5926 0 2.32277 59.9048 0 4.81648 52.5329 0 19.5669 216.693 0 6.62266 73.5868 1.62405 0 78.1245 0 9.84852 143.106 0 6.92369 76.9148 0 20.169 222.269 0 36.4246 395.146 0 31.3071 345.407 0 32.5112 359.799 0 20.169 222.269 0 18.9649 210.037 0 11.4391 124.491 0 0.90309 10.3539 0 8.71315 126.466 0 5.11751 56.9466 0 15.3525 170.1 0 6.92369 76.9148 0 5.41854 60.2746 0 2.40824 26.9942 0.687529 0 27.3119 0 5.11751 56.9466 0 2.10721 23.6661 0 3.31133 36.9783 0 1.20412 13.682 0 3.91339 43.6344 0.0854694 0 33.3659 0 4.81648 53.6185 0 18.3628 202.3 0 9.0309 100.211 0 5.71957 63.6027 0 16.8577 186.74 0 11.4391 125.754 0 6.0206 66.9307 0 10.536 115.77 0 8.42884 93.5551 0 3.31133 36.9783 0 7.52575 82.488 0 6.62266 73.5868 0 3.31133 36.9783 0 3.91339 43.6344 0 1.80618 20.3381 0 4.81648 53.6185 0 4.81648 53.6185 0 2.10721 23.6661 0 1.20412 13.682 0 14.1484 156.788 0.386499 0 30.3389 0.386499 0 30.3389 0 2.6238 63.2329 0 4.21442 46.9624 0 3.0103 33.6502 0 2.40824 26.9942 0 9.0309 100.211 0 3.0103 32.5601 3.1292 0 63.034 0 3.31133 36.9783 0 6.0206 66.9307 0 15.9546 176.756 0 0.60206 7.02588 0 8.72987 96.8831 0 8.12781 90.227 0 9.0309 100.211 0 6.92369 76.9148 0 5.71957 63.6027 0 8.12781 90.227 0 4.21442 46.9624 0 5.11751 56.9466 0 5.11751 56.9466 0 1.50515 17.01 0 4.42998 83.2012 0 1.11865 46.5926 0 7.44028 116.437 0 4.73101 86.5292 3.09577 0 3.09577 0 2.40824 26.9942 0 7.52575 81.2225 0 2.02174 56.5768 1.30631 0 51.227 5.25313 0 71.8141 0 0.817621 43.2646 0 2.40824 26.9942 0 5.71957 63.6027 0 10.4506 149.762 0.135619 0 122.192 0 8.34337 126.466 0 8.94543 133.122 0 30.103 332.095 0.0854694 0 33.3659 0 6.92369 74.5655 0 1.36953 139.722 0 8.12781 87.8794 0 15.3525 170.1 0 7.74131 119.81 0 15.9546 176.756 0 4.51545 50.2905 0 21.5887 272.9 0 2.02174 55.492 0 7.42356 144.272 0 3.61236 40.3063 0 7.10582 173.058 0 13.2453 146.804 0 1.72071 53.2487 0 5.6341 96.5133 0 5.61738 125.385 0 17.6753 229.635 3.43023 0 60.007 0 12.6433 140.148 0 6.32163 69.1749 5.53744 0 38.8179 0 1.50515 17.01 0 2.40824 26.9942 0 0.90309 10.3539 0 1.20412 13.682 2.2094 0 42.146 0 2.02174 56.5768 0 3.22586 68.8054 0 1.50515 17.01 1.00528 0 54.254 0 1.20412 13.682 0 3.31133 36.9783 0 3.91339 43.5784 0 2.70927 30.3222 0 13.4274 241.868 0 9.0309 100.211 0 19.5669 215.613 0 3.61236 39.2182 0.687529 0 27.3119 0 6.48704 195.275 0 6.0206 66.9307 0 6.0206 66.9307 0 2.10721 23.6661 0 14.966 199.683 0 12.9443 143.476 0 9.0309 99.129 0 3.0103 33.6502 0 4.21442 46.9624 1.89165 0 15.2038 0 2.10721 23.6661 0 4.51545 50.2905 0 6.62266 73.5868 0 5.41854 60.2746 0 3.31133 36.9783 0 1.50515 17.01 0 5.6341 95.4312 4.31661 0 20.9568 0.687529 0 27.3119 0 2.70927 29.2307 0 1.80618 20.3381 0 1.80618 20.3381 0 2.10721 23.6661 0 1.40296 79.8731 0 4.51545 47.9351 0 1.41968 48.835 4.03229 0 53.953 0 8.98464 133.161 0 1.72071 53.2487 0 5.41854 56.8373 0 3.20914 99.8414 0 6.92369 76.9148 3.71455 0 27.0109 0 2.02174 55.492 0.988559 0 24.2849 0.0854694 0 33.3659 0 1.50515 17.01 0 6.32163 70.2588 3.1292 0 63.034 0 11.7402 130.164 0 3.31133 35.8892 2.51043 0 39.1189 0 2.10721 23.6661 0 6.21944 133.122\r\n",
      "dDocent_Contig_2660:5 0 0.30103 3.69783 6.79171 0 112.292 0.845214 0 24.2849 0 0.90309 10.3539 1.63215 0 105.969 0 11.9557 160.818 0 9.33193 103.539 0 8.40308 182.549 0 3.31133 35.8789 0 0.90309 10.3539 0 2.70927 30.3222 0 6.22387 132.698 0 14.6492 224.136 0 2.10721 22.5708 0 2.10721 21.2909 0 8.42884 90.1253 0 2.40824 22.7801 0 8.6444 128.713 0 3.91339 43.6241 1.58421 0 18.2309 0 12.2568 168.65 0 1.80618 17.2098 0 1.20412 12.5634 0 15.8524 231.695 0 8.26833 271.992 0 17.6766 222.611 0 2.10721 23.6661 0 10.1495 138.495 0 3.7851 165.316 4.39362 0 169.783 0 2.70927 29.2307 0.309675 0 28.1346 0 1.80618 20.3381 0 2.40824 23.7147 0 0.0578756 31.0532 0 1.50515 17.01 0 1.20412 13.1794 0 2.70927 27.9553 0 12.5136 259.501 0 10.7516 150.929 0 22.5772 240.966 0 4.75167 204.073 2.23852 0 99.5501 0 1.50515 17.01 0 10.8467 147.72 0 6.2975 161.372 1.29519 0 9.1498 0 2.10721 22.5708 0 0.60206 7.02588 0 10.1328 171.883 0 1.80618 20.3381 0 0.90309 10.3539 2.18627 0 9.77382 0 3.0103 31.4699 0 9.01909 157.396 0 0 0 0 3.51017 102.088 0 2.40824 23.7147 0 1.50515 17.01 0 4.40089 138.763 0 2.10721 23.6661 0 0.90309 10.3539 0 1.20412 13.682 0 3.0103 33.6502 0 0.203268 66.5654 0 6.62266 73.5696 4.54465 0 17.9298 0 2.40824 16.1923 9.52941 0 174.779 0 2.32277 56.6514 0 5.61738 123.309 0 7.72459 144.141 0 1.50515 17.01 0 8.94543 129.935 0 2.00945 84.3687 0 0.90309 10.3539 0 4.12895 78.7902 0 1.80618 20.3381 0 0.90309 10.3539 0 2.87585 151.915 0 1.20412 13.682 0 6.52047 136.45 2.18627 0 11.0687 0 3.0103 33.6399 0 0.90309 10.3539 0 11.7402 128.001 0 3.21799 98.7683 0 1.50515 17.0057 0 1.68035 142.011 0 1.80618 20.3381 2.78833 0 6.12279 2.51043 0 39.1189 0 9.24646 134.288 0 1.50515 16.9996 0 5.61738 125.385 0 8.34803 125.389 0 1.20412 13.682 0 0.805328 69.7885 14.7623 0 64.8569 0 1.20412 13.682 0 2.40824 21.863 0 14.4494 155.611 0 3.53155 70.8714 0 1.20412 11.2418 0 0.60206 7.02588 5.82176 0 5.82176 0 0.60206 5.88781 5.24451 0 69.7041 0 6.32163 68.091 6.45725 0 52.4695 0 0.60206 7.02588 0 0.30103 2.49986 2.4873 0 9.1498 0.398792 0 56.8719 0 0.60206 7.02588 1.59062 0 12.6871 2.52714 0 69.0881 0 0.30103 3.69783 0 3.82792 74.1953 2.95242 0 3.09577 4.93918 0 73.0755 0 0.90309 9.12287 0 2.10721 20.1479 0 0.215561 36.6085 0 1.50515 17.01 1.89165 0 15.2038 1.91639 0 72.9762 0 0.60206 7.02588 16.1528 0 79.2831 2.55555 0 36.0919 7.33928 0 20.6558 3.10806 0 33.0649 0 2.40824 24.6092 14.6392 0 95.6895 1.58596 0 18.2309 1.60291 0 45.8406 6.13516 0 31.6575 0 1.80618 13.7402 0 2.10721 21.2542 0 4.12895 79.8731 0 1.20412 12.5738 0 0.30103 3.69317 0 3.31133 36.968 0 3.31133 36.7495 0 0.30103 3.69783 0 8.92871 159.611 0 4.21442 45.8757 0 5.71957 60.1656 0.682872 0 27.3119 0.0808124 0 29.7764 0.687529 0 27.3119 0 1.20412 11.1404 6.44053 0 28.6467 0 0.60206 7.02588 0 0.90309 10.3539 0 3.91339 43.6344 0 1.20412 13.682 0 0.90309 10.3539 0 0.30103 3.69783 0 0 0 0 2.10721 23.6661 10.6841 0 46.2112 3.42905 0 57.6551 0 0.90309 9.12287 3.71012 0 27.0109 0 0.90309 10.3539 0 1.08522 105.416 0 1.12331 45.2402 0 0.30103 2.37884 0 0 0 2.19268 0 12.1768 0 0 0 0 0 0 0 0.90309 10.3539 0.983902 0 24.2849 9.46755 0 29.4358 0 5.71957 61.4234 0.928853 0 80.7831 0 5.41854 57.9212 9.76427 0 24.041 0 1.20412 10.8134 0 1.20412 13.682 0 2.40824 25.901 0 1.20412 11.3433 0 3.31133 35.8892 0 0.30103 3.69783 0 0.60206 7.02588 0 2.02174 54.4071 0 2.92483 63.1257 8.87792 0 64.3754 0 0.60206 7.02588 2.41562 0 39.1147 0 0.30103 3.69783 0 0.60206 7.02588\r\n",
      "dDocent_Contig_2667:4 0 0.30103 3.69783 0 12.6433 139.067 1.32302 0 81.1961 0 2.40824 26.9942 2.51043 0 39.1189 0 1.50515 17.01 0 4.73101 86.5292 0 2.6238 63.2329 4.33332 0 50.926 0 6.0206 66.9307 0 14.364 191.946 0 4.21442 46.9624 0 11.7402 129.082 0 8.12781 89.1444 0 2.70927 30.3222 0 1.50515 17.01 0 1.47172 76.5451 0 2.40824 26.9942 0 6.83822 109.826 0 3.61236 40.3063 0 2.70927 30.3222 2.51043 0 39.1189 0 1.41968 49.9207 0 1.10193 76.5451 0 5.71957 63.6027 0 2.32277 59.9048 0 10.235 112.442 0 3.31133 36.9783 0 4.81648 53.6185 0 2.32277 59.9048 0 9.33193 103.539 0 4.41326 113.154 0 8.6444 129.794 0 8.42884 93.5551 0 5.71957 63.6027 0 3.31133 36.9783 0 8.12781 90.227 0 1.41968 49.9207 0 6.53719 106.497 0.988559 0 24.2849 0 8.42884 93.5551 0 7.22472 80.2429 0 3.0103 33.6502 0 6.0206 66.9307 0 5.71957 62.5182 0 4.81648 53.6185 0 2.10721 23.6661 0 6.32163 69.1749 0 6.32163 70.2588 0 2.40824 26.9942 0.419932 0 90.2772 0 8.12781 90.227 0 4.51545 50.2905 0 3.31133 36.9783 7.6948 0 107.536 0 3.61236 40.3063 0 3.31133 36.9783 0 12.9443 142.395 0 9.0309 100.211 0 1.70399 83.2012 0 1.41968 48.835 0 4.51545 50.2905 0 6.92369 76.9148 0 0.817621 43.2646 0 3.91339 43.6344 0 3.22586 69.889 0 3.61236 37.9466 0 6.92369 76.9148 0 3.22586 69.889 0.988559 0 24.2849 0 1.11865 46.5926 0 4.21442 46.9624 0.988559 0 24.2849 0 0.817621 43.2646 0 1.80618 20.3381 5.53744 0 38.8179 0 3.91339 43.6344 0 2.40824 26.9942 0 1.10193 76.5451 4.61764 0 17.9298 0 1.80618 20.3381 0 2.6238 62.1487 0 4.81648 53.6185 0 4.81648 53.6185 0 3.31133 36.9783 0 2.10721 23.6661 0 3.61236 40.3063 0 3.0103 33.6502 0 3.0103 33.6502 0 3.82792 75.4619 0 4.51545 49.2043 0 0.516591 39.9366 0 9.33193 103.539 0 6.92369 76.9148 0 1.1874 43.2646 0 3.61236 40.3063 0 6.32163 70.2588 0 5.03204 89.8573 0 3.82792 76.5451 0 6.32163 70.2588 0.704246 0 57.281 0 10.235 112.442 0 4.21442 45.8757 0 3.91339 43.6344 0 5.71957 63.6027 0 3.0103 33.6502 0 6.32163 69.1749 0 7.82678 86.899 0 1.72071 50.8954 0 6.0206 66.9307 0 2.60708 92.1031 0 2.40824 26.9942 0 10.536 116.851 0 2.40824 26.9942 0 5.71957 63.6027 0 9.0309 100.211 0 2.70927 30.3222 0 3.0103 31.2862 0 6.0206 66.9307 0 8.12781 90.227 0 9.0309 100.211 0 4.51545 50.2905 0 5.11751 56.9466 0 4.21442 46.9624 0 3.91339 43.6344 0 7.22472 80.2429 0 9.93399 110.195 0 6.0206 66.9307 0 1.72071 53.2487 0 2.70927 30.3222 0 0.60206 7.02588 0 8.72987 96.8831 0 4.81648 53.6185 0 3.61236 40.3063 0 3.91339 43.6344 0 13.2453 145.723 0 7.22472 79.1597 0 0.800904 72.1339 0 5.03204 89.8573 0 3.91339 42.547 0 9.63296 106.867 0 0.516591 39.9366 0 15.6536 173.428 0 6.0206 64.5797 0 2.10721 21.2909 0 7.22472 80.2429 0 4.21442 46.9624 0 9.0309 100.211 0 6.32163 70.2588 0 0.60206 7.02588 0 6.92369 76.9148 0 3.0103 33.6502 0.0854694 0 33.3659 0 3.91339 43.6344 0 4.81648 53.6185 0 2.32277 59.9048 0 8.42884 93.5551 0 2.70927 30.3222 0 10.8371 120.179 8.56446 0 38.5169 0 4.51545 50.2905 0 6.0206 66.9307 0 1.50515 17.01 0 3.61236 40.3063 0 8.42884 92.4726 7.94568 0 14.6018 0 15.3525 169.02 0 8.6444 127.449 0 16.8577 185.66 0 4.81648 53.6185 0 9.33193 102.457 0 7.52575 83.5709 0 2.70927 30.3222 0 6.0206 66.9307 0 2.70927 30.3222 0 6.62266 73.5868 0 4.21442 46.9624 0 6.0206 66.9307 0 3.0103 33.6502 0 3.61236 40.3063 0 2.10721 23.6661 0 3.31133 36.9783 0 5.71957 63.6027 0 2.70927 30.3222 0 4.21442 46.9624 0 4.81648 53.6185 0 3.0103 33.6502 0 3.0103 33.6502 0 3.31133 36.9783 0 8.12781 90.227 0 4.51545 50.2905 0 7.22472 80.2429 0 1.80618 20.3381 0 7.52575 83.5709\r\n"
     ]
    }
   ],
   "source": [
    "!head entropy.mpgl"
   ]
  },
  {
   "cell_type": "code",
   "execution_count": 208,
   "metadata": {},
   "outputs": [
    {
     "name": "stdout",
     "output_type": "stream",
     "text": [
      "/data/gpfs/assoc/denovo/tfaske/connie/ch2/entropy\n"
     ]
    }
   ],
   "source": [
    "cd $ent_dir"
   ]
  },
  {
   "cell_type": "code",
   "execution_count": 209,
   "metadata": {},
   "outputs": [],
   "source": [
    "!mkdir shdir"
   ]
  },
  {
   "cell_type": "code",
   "execution_count": 210,
   "metadata": {},
   "outputs": [],
   "source": [
    "### select slurm options\n",
    "account = 'cpu-s5-denovo-0'\n",
    "partition = 'cpu-core-0'\n",
    "time = '4-00:00:00' #time limit 4\n",
    "cpus = 4 #to prevent hammering one node\n",
    "mem_cpu = 8000\n",
    "email = 'tfaske@nevada.unr.edu'\n",
    "\n",
    "#entropy settings\n",
    "l = 60000\n",
    "b = 10000\n",
    "num_k = [2,3,4,5,6,7,8]\n",
    "chains = 4"
   ]
  },
  {
   "cell_type": "code",
   "execution_count": 211,
   "metadata": {},
   "outputs": [],
   "source": [
    "def write_entropy_sh(account,partition,time,cpus,mem_cpu,email,l,b,num_k,chains):\n",
    "    for k in num_k:\n",
    "        for c in range(1,chains+1):\n",
    "            jobname = 'k%d_c%d' % (k,c)\n",
    "            seed = random.randint(1000,9999) #default is clock so messes up if submitted same time \n",
    "            with open(\"shdir/run_entropy_%s.sh\" % (jobname), \"w\") as o:\n",
    "                o.write(\"\"\"#!/usr/bin/env bash\n",
    "#SBATCH --account=%s\n",
    "#SBATCH --partition=%s\n",
    "#SBATCH --time=%s\n",
    "#SBATCH --ntasks 1\n",
    "#SBATCH --cpus-per-task %d\n",
    "#SBATCH --mem-per-cpu=%d\n",
    "#SBATCH --job-name ent_%s\n",
    "#SBATCH --output output_%s.txt\n",
    "#SBATCH --mail-type=END\n",
    "#SBATCH --mail-user=%s\\n\\n\"\"\" % (account,partition,time,cpus,mem_cpu,jobname,jobname,email))\n",
    "        \n",
    "                o.write(\"entropy -i ../entropy.mpgl -o ../entropy_%s.hdf5 -r %d -n 2 -l %d -b %d -t 10 -s 50 -e .01 -k %d -q ../ldak%d.txt -m 1 -w 0\"\n",
    "                        % (jobname,seed,l,b,k,k))\n",
    "    "
   ]
  },
  {
   "cell_type": "code",
   "execution_count": 212,
   "metadata": {},
   "outputs": [],
   "source": [
    "write_entropy_sh(account,partition,time,cpus,mem_cpu,email,l,b,num_k,chains)"
   ]
  },
  {
   "cell_type": "code",
   "execution_count": 213,
   "metadata": {},
   "outputs": [
    {
     "data": {
      "text/plain": [
       "['/data/gpfs/assoc/denovo/tfaske/connie/ch2/entropy/shdir/run_entropy_k2_c1.sh',\n",
       " '/data/gpfs/assoc/denovo/tfaske/connie/ch2/entropy/shdir/run_entropy_k2_c2.sh',\n",
       " '/data/gpfs/assoc/denovo/tfaske/connie/ch2/entropy/shdir/run_entropy_k2_c3.sh',\n",
       " '/data/gpfs/assoc/denovo/tfaske/connie/ch2/entropy/shdir/run_entropy_k2_c4.sh',\n",
       " '/data/gpfs/assoc/denovo/tfaske/connie/ch2/entropy/shdir/run_entropy_k3_c1.sh',\n",
       " '/data/gpfs/assoc/denovo/tfaske/connie/ch2/entropy/shdir/run_entropy_k3_c2.sh',\n",
       " '/data/gpfs/assoc/denovo/tfaske/connie/ch2/entropy/shdir/run_entropy_k3_c3.sh',\n",
       " '/data/gpfs/assoc/denovo/tfaske/connie/ch2/entropy/shdir/run_entropy_k3_c4.sh',\n",
       " '/data/gpfs/assoc/denovo/tfaske/connie/ch2/entropy/shdir/run_entropy_k4_c1.sh',\n",
       " '/data/gpfs/assoc/denovo/tfaske/connie/ch2/entropy/shdir/run_entropy_k4_c2.sh',\n",
       " '/data/gpfs/assoc/denovo/tfaske/connie/ch2/entropy/shdir/run_entropy_k4_c3.sh',\n",
       " '/data/gpfs/assoc/denovo/tfaske/connie/ch2/entropy/shdir/run_entropy_k4_c4.sh',\n",
       " '/data/gpfs/assoc/denovo/tfaske/connie/ch2/entropy/shdir/run_entropy_k5_c1.sh',\n",
       " '/data/gpfs/assoc/denovo/tfaske/connie/ch2/entropy/shdir/run_entropy_k5_c2.sh',\n",
       " '/data/gpfs/assoc/denovo/tfaske/connie/ch2/entropy/shdir/run_entropy_k5_c3.sh',\n",
       " '/data/gpfs/assoc/denovo/tfaske/connie/ch2/entropy/shdir/run_entropy_k5_c4.sh',\n",
       " '/data/gpfs/assoc/denovo/tfaske/connie/ch2/entropy/shdir/run_entropy_k6_c1.sh',\n",
       " '/data/gpfs/assoc/denovo/tfaske/connie/ch2/entropy/shdir/run_entropy_k6_c2.sh',\n",
       " '/data/gpfs/assoc/denovo/tfaske/connie/ch2/entropy/shdir/run_entropy_k6_c3.sh',\n",
       " '/data/gpfs/assoc/denovo/tfaske/connie/ch2/entropy/shdir/run_entropy_k6_c4.sh',\n",
       " '/data/gpfs/assoc/denovo/tfaske/connie/ch2/entropy/shdir/run_entropy_k7_c1.sh',\n",
       " '/data/gpfs/assoc/denovo/tfaske/connie/ch2/entropy/shdir/run_entropy_k7_c2.sh',\n",
       " '/data/gpfs/assoc/denovo/tfaske/connie/ch2/entropy/shdir/run_entropy_k7_c3.sh',\n",
       " '/data/gpfs/assoc/denovo/tfaske/connie/ch2/entropy/shdir/run_entropy_k7_c4.sh',\n",
       " '/data/gpfs/assoc/denovo/tfaske/connie/ch2/entropy/shdir/run_entropy_k8_c1.sh',\n",
       " '/data/gpfs/assoc/denovo/tfaske/connie/ch2/entropy/shdir/run_entropy_k8_c2.sh',\n",
       " '/data/gpfs/assoc/denovo/tfaske/connie/ch2/entropy/shdir/run_entropy_k8_c3.sh',\n",
       " '/data/gpfs/assoc/denovo/tfaske/connie/ch2/entropy/shdir/run_entropy_k8_c4.sh']"
      ]
     },
     "execution_count": 213,
     "metadata": {},
     "output_type": "execute_result"
    }
   ],
   "source": [
    "entShells = !find $ent_dir -name 'run_entropy*.sh'\n",
    "entShells = entShells.sort()\n",
    "entShells"
   ]
  },
  {
   "cell_type": "code",
   "execution_count": 214,
   "metadata": {},
   "outputs": [],
   "source": [
    "def write_sbatch_entShells(entShells):\n",
    "         with open(\"shdir/sbatch_entropy.sh\", \"w\") as o:\n",
    "            o.write(\"\"\"#!/usr/bin/env bash \\n\"\"\")\n",
    "            for sh in entShells:\n",
    "                o.write(\"\"\"sbatch %s\\n\"\"\" % (sh))"
   ]
  },
  {
   "cell_type": "code",
   "execution_count": 215,
   "metadata": {},
   "outputs": [],
   "source": [
    "write_sbatch_entShells(entShells)"
   ]
  },
  {
   "cell_type": "markdown",
   "metadata": {},
   "source": [
    "# Run all entropy*sh\n",
    "    cd /data/gpfs/home/tfaske/d/connie/ch2/entropy/shdir\n",
    "    source activate entropy\n",
    "    bash sbatch_entropy.sh"
   ]
  },
  {
   "cell_type": "markdown",
   "metadata": {},
   "source": [
    "# Use estpost to get DIC, q, and gprob"
   ]
  },
  {
   "cell_type": "code",
   "execution_count": 216,
   "metadata": {},
   "outputs": [],
   "source": [
    "np.set_printoptions(precision=8) # increases float print option\n",
    "pd.set_option(\"precision\", 8)"
   ]
  },
  {
   "cell_type": "code",
   "execution_count": 217,
   "metadata": {},
   "outputs": [
    {
     "name": "stdout",
     "output_type": "stream",
     "text": [
      "/data/gpfs/assoc/denovo/tfaske/connie/ch2/entropy\n"
     ]
    }
   ],
   "source": [
    "cd $ent_dir"
   ]
  },
  {
   "cell_type": "code",
   "execution_count": 218,
   "metadata": {},
   "outputs": [
    {
     "data": {
      "text/plain": [
       "['./entropy_k2_c1.hdf5',\n",
       " './entropy_k2_c2.hdf5',\n",
       " './entropy_k2_c3.hdf5',\n",
       " './entropy_k2_c4.hdf5',\n",
       " './entropy_k3_c1.hdf5',\n",
       " './entropy_k3_c2.hdf5',\n",
       " './entropy_k3_c3.hdf5',\n",
       " './entropy_k3_c4.hdf5',\n",
       " './entropy_k4_c1.hdf5',\n",
       " './entropy_k4_c2.hdf5',\n",
       " './entropy_k4_c3.hdf5',\n",
       " './entropy_k4_c4.hdf5',\n",
       " './entropy_k5_c1.hdf5',\n",
       " './entropy_k5_c2.hdf5',\n",
       " './entropy_k5_c3.hdf5',\n",
       " './entropy_k5_c4.hdf5',\n",
       " './entropy_k6_c1.hdf5',\n",
       " './entropy_k6_c2.hdf5',\n",
       " './entropy_k6_c3.hdf5',\n",
       " './entropy_k6_c4.hdf5',\n",
       " './entropy_k7_c1.hdf5',\n",
       " './entropy_k7_c2.hdf5',\n",
       " './entropy_k7_c3.hdf5',\n",
       " './entropy_k7_c4.hdf5',\n",
       " './entropy_k8_c1.hdf5',\n",
       " './entropy_k8_c2.hdf5',\n",
       " './entropy_k8_c3.hdf5',\n",
       " './entropy_k8_c4.hdf5']"
      ]
     },
     "execution_count": 218,
     "metadata": {},
     "output_type": "execute_result"
    }
   ],
   "source": [
    "hdf5_files = !find . -name '*hdf5'\n",
    "hdf5_files = hdf5_files.sort()\n",
    "hdf5_files"
   ]
  },
  {
   "cell_type": "code",
   "execution_count": 219,
   "metadata": {},
   "outputs": [],
   "source": [
    "estpost = '/data/gpfs/home/tfaske/g/anaconda3/envs/entropy/bin/estpost.entropy'"
   ]
  },
  {
   "cell_type": "code",
   "execution_count": 220,
   "metadata": {},
   "outputs": [],
   "source": [
    "#make DIC\n",
    "for i in range(0,len(hdf5_files)):\n",
    "    f = hdf5_files[i]\n",
    "    k = f.split('_')[1] #set this \n",
    "    c = f.split('_')[2].split('.hdf5')[0]\n",
    "    #print(k,c)\n",
    "    dic = \"DIC_%s_%s.txt\" % (k,c)\n",
    "    !$estpost $f -s 3 -p deviance > $dic"
   ]
  },
  {
   "cell_type": "code",
   "execution_count": 221,
   "metadata": {},
   "outputs": [
    {
     "data": {
      "text/plain": [
       "['./DIC_k2_c4.txt',\n",
       " './DIC_k7_c2.txt',\n",
       " './DIC_k2_c1.txt',\n",
       " './DIC_k6_c1.txt',\n",
       " './DIC_k3_c2.txt',\n",
       " './DIC_k4_c4.txt',\n",
       " './DIC_k4_c2.txt',\n",
       " './DIC_k7_c1.txt',\n",
       " './DIC_k7_c4.txt',\n",
       " './DIC_k5_c2.txt',\n",
       " './DIC_k6_c2.txt',\n",
       " './DIC_k4_c3.txt',\n",
       " './DIC_k7_c3.txt',\n",
       " './DIC_k3_c1.txt',\n",
       " './DIC_k2_c2.txt',\n",
       " './DIC_k5_c4.txt',\n",
       " './DIC_k8_c4.txt',\n",
       " './DIC_k6_c3.txt',\n",
       " './DIC_k8_c3.txt',\n",
       " './DIC_k8_c1.txt',\n",
       " './DIC_k4_c1.txt',\n",
       " './DIC_k2_c3.txt',\n",
       " './DIC_k8_c2.txt',\n",
       " './DIC_k6_c4.txt',\n",
       " './DIC_k3_c4.txt',\n",
       " './DIC_k5_c1.txt',\n",
       " './DIC_k3_c3.txt',\n",
       " './DIC_k5_c3.txt']"
      ]
     },
     "execution_count": 221,
     "metadata": {},
     "output_type": "execute_result"
    }
   ],
   "source": [
    "dic_files = !find . -name 'DIC*'\n",
    "dic_files"
   ]
  },
  {
   "cell_type": "code",
   "execution_count": 222,
   "metadata": {},
   "outputs": [
    {
     "name": "stdout",
     "output_type": "stream",
     "text": [
      "file = ./entropy_k2_c4.hdf5\n",
      "parameter dimensions for deviance: samples = 5000, chains = 1\n",
      "Model deviance: 2600471.09\n",
      "Effective number of parameters: 5163022.60\n",
      "Model DIC: 7763493.69\n",
      "\n",
      "\n",
      "file = ./entropy_k7_c2.hdf5\n",
      "parameter dimensions for deviance: samples = 5000, chains = 1\n",
      "Model deviance: 2430625.28\n",
      "Effective number of parameters: 20804812.24\n",
      "Model DIC: 23235437.52\n",
      "\n",
      "\n",
      "file = ./entropy_k2_c1.hdf5\n",
      "parameter dimensions for deviance: samples = 5000, chains = 1\n",
      "Model deviance: 2600440.97\n",
      "Effective number of parameters: 5061892.05\n",
      "Model DIC: 7662333.02\n",
      "\n",
      "\n",
      "file = ./entropy_k6_c1.hdf5\n",
      "parameter dimensions for deviance: samples = 5000, chains = 1\n",
      "Model deviance: 2598877.62\n",
      "Effective number of parameters: 54007070.06\n",
      "Model DIC: 56605947.68\n",
      "\n",
      "\n",
      "file = ./entropy_k3_c2.hdf5\n",
      "parameter dimensions for deviance: samples = 5000, chains = 1\n",
      "Model deviance: 2598817.39\n",
      "Effective number of parameters: 29035478.94\n",
      "Model DIC: 31634296.32\n",
      "\n",
      "\n",
      "file = ./entropy_k4_c4.hdf5\n",
      "parameter dimensions for deviance: samples = 5000, chains = 1\n",
      "Model deviance: 2264564.41\n",
      "Effective number of parameters: 605737310.31\n",
      "Model DIC: 608001874.72\n",
      "\n",
      "\n",
      "file = ./entropy_k4_c2.hdf5\n",
      "parameter dimensions for deviance: samples = 5000, chains = 1\n",
      "Model deviance: 2601437.48\n",
      "Effective number of parameters: 10081940.44\n",
      "Model DIC: 12683377.93\n",
      "\n",
      "\n",
      "file = ./entropy_k7_c1.hdf5\n",
      "parameter dimensions for deviance: samples = 5000, chains = 1\n",
      "Model deviance: 2595784.23\n",
      "Effective number of parameters: 196910363.46\n",
      "Model DIC: 199506147.69\n",
      "\n",
      "\n",
      "file = ./entropy_k7_c4.hdf5\n",
      "parameter dimensions for deviance: samples = 5000, chains = 1\n",
      "Model deviance: 2595564.20\n",
      "Effective number of parameters: 238161471.63\n",
      "Model DIC: 240757035.82\n",
      "\n",
      "\n",
      "file = ./entropy_k5_c2.hdf5\n",
      "parameter dimensions for deviance: samples = 5000, chains = 1\n",
      "Model deviance: 2596667.46\n",
      "Effective number of parameters: 89800840.55\n",
      "Model DIC: 92397508.01\n",
      "\n",
      "\n",
      "file = ./entropy_k6_c2.hdf5\n",
      "parameter dimensions for deviance: samples = 5000, chains = 1\n",
      "Model deviance: 2279349.77\n",
      "Effective number of parameters: 1166597125.97\n",
      "Model DIC: 1168876475.74\n",
      "\n",
      "\n",
      "file = ./entropy_k4_c3.hdf5\n",
      "parameter dimensions for deviance: samples = 5000, chains = 1\n",
      "Model deviance: 2600546.46\n",
      "Effective number of parameters: 4994244.32\n",
      "Model DIC: 7594790.78\n",
      "\n",
      "\n",
      "file = ./entropy_k7_c3.hdf5\n",
      "parameter dimensions for deviance: samples = 5000, chains = 1\n",
      "Model deviance: 2596729.14\n",
      "Effective number of parameters: 158576023.44\n",
      "Model DIC: 161172752.58\n",
      "\n",
      "\n",
      "file = ./entropy_k3_c1.hdf5\n",
      "parameter dimensions for deviance: samples = 5000, chains = 1\n",
      "Model deviance: 2446654.95\n",
      "Effective number of parameters: 1140439228.53\n",
      "Model DIC: 1142885883.49\n",
      "\n",
      "\n",
      "file = ./entropy_k2_c2.hdf5\n",
      "parameter dimensions for deviance: samples = 5000, chains = 1\n",
      "Model deviance: 2600355.27\n",
      "Effective number of parameters: 5102240.66\n",
      "Model DIC: 7702595.93\n",
      "\n",
      "\n",
      "file = ./entropy_k5_c4.hdf5\n",
      "parameter dimensions for deviance: samples = 5000, chains = 1\n",
      "Model deviance: 2270804.79\n",
      "Effective number of parameters: 825111994.96\n",
      "Model DIC: 827382799.75\n",
      "\n",
      "\n",
      "file = ./entropy_k8_c4.hdf5\n",
      "parameter dimensions for deviance: samples = 5000, chains = 1\n",
      "Model deviance: 2593054.13\n",
      "Effective number of parameters: 360249948.38\n",
      "Model DIC: 362843002.51\n",
      "\n",
      "\n",
      "file = ./entropy_k6_c3.hdf5\n",
      "parameter dimensions for deviance: samples = 5000, chains = 1\n",
      "Model deviance: 2273747.95\n",
      "Effective number of parameters: 431493458.59\n",
      "Model DIC: 433767206.54\n",
      "\n",
      "\n",
      "file = ./entropy_k8_c3.hdf5\n",
      "parameter dimensions for deviance: samples = 5000, chains = 1\n",
      "Model deviance: 2279007.99\n",
      "Effective number of parameters: 269804879.32\n",
      "Model DIC: 272083887.31\n",
      "\n",
      "\n",
      "file = ./entropy_k8_c1.hdf5\n",
      "parameter dimensions for deviance: samples = 5000, chains = 1\n",
      "Model deviance: 2586832.67\n",
      "Effective number of parameters: 552494911.06\n",
      "Model DIC: 555081743.73\n",
      "\n",
      "\n",
      "file = ./entropy_k4_c1.hdf5\n",
      "parameter dimensions for deviance: samples = 5000, chains = 1\n",
      "Model deviance: 2508863.64\n",
      "Effective number of parameters: 2450159542.56\n",
      "Model DIC: 2452668406.20\n",
      "\n",
      "\n",
      "file = ./entropy_k2_c3.hdf5\n",
      "parameter dimensions for deviance: samples = 5000, chains = 1\n",
      "Model deviance: 2600471.67\n",
      "Effective number of parameters: 5307277.01\n",
      "Model DIC: 7907748.68\n",
      "\n",
      "\n",
      "file = ./entropy_k8_c2.hdf5\n",
      "parameter dimensions for deviance: samples = 5000, chains = 1\n",
      "Model deviance: 2571900.37\n",
      "Effective number of parameters: 1092668428.92\n",
      "Model DIC: 1095240329.30\n",
      "\n",
      "\n",
      "file = ./entropy_k6_c4.hdf5\n",
      "parameter dimensions for deviance: samples = 5000, chains = 1\n",
      "Model deviance: 2285406.68\n",
      "Effective number of parameters: 2499369579.67\n",
      "Model DIC: 2501654986.35\n",
      "\n",
      "\n",
      "file = ./entropy_k3_c4.hdf5\n",
      "parameter dimensions for deviance: samples = 5000, chains = 1\n",
      "Model deviance: 2444685.05\n",
      "Effective number of parameters: 953159823.90\n",
      "Model DIC: 955604508.95\n",
      "\n",
      "\n",
      "file = ./entropy_k5_c1.hdf5\n",
      "parameter dimensions for deviance: samples = 5000, chains = 1\n",
      "Model deviance: 2429675.73\n",
      "Effective number of parameters: 818439403.26\n",
      "Model DIC: 820869078.98\n",
      "\n",
      "\n",
      "file = ./entropy_k3_c3.hdf5\n",
      "parameter dimensions for deviance: samples = 5000, chains = 1\n",
      "Model deviance: 2439769.70\n",
      "Effective number of parameters: 820044674.36\n",
      "Model DIC: 822484444.06\n",
      "\n",
      "\n",
      "file = ./entropy_k5_c3.hdf5\n",
      "parameter dimensions for deviance: samples = 5000, chains = 1\n",
      "Model deviance: 2430040.36\n",
      "Effective number of parameters: 54053991.15\n",
      "Model DIC: 56484031.51\n",
      "\n",
      "\n"
     ]
    }
   ],
   "source": [
    "for d in dic_files:\n",
    "    !cat $d\n",
    "    print('\\n')"
   ]
  },
  {
   "cell_type": "code",
   "execution_count": 223,
   "metadata": {},
   "outputs": [
    {
     "data": {
      "text/html": [
       "<div>\n",
       "<style scoped>\n",
       "    .dataframe tbody tr th:only-of-type {\n",
       "        vertical-align: middle;\n",
       "    }\n",
       "\n",
       "    .dataframe tbody tr th {\n",
       "        vertical-align: top;\n",
       "    }\n",
       "\n",
       "    .dataframe thead th {\n",
       "        text-align: right;\n",
       "    }\n",
       "</style>\n",
       "<table border=\"1\" class=\"dataframe\">\n",
       "  <thead>\n",
       "    <tr style=\"text-align: right;\">\n",
       "      <th></th>\n",
       "      <th>k</th>\n",
       "      <th>DIC</th>\n",
       "      <th>chain</th>\n",
       "    </tr>\n",
       "  </thead>\n",
       "  <tbody>\n",
       "    <tr>\n",
       "      <th>0</th>\n",
       "      <td>2</td>\n",
       "      <td>7763493.69</td>\n",
       "      <td>4</td>\n",
       "    </tr>\n",
       "    <tr>\n",
       "      <th>1</th>\n",
       "      <td>7</td>\n",
       "      <td>23235437.52</td>\n",
       "      <td>2</td>\n",
       "    </tr>\n",
       "    <tr>\n",
       "      <th>2</th>\n",
       "      <td>2</td>\n",
       "      <td>7662333.02</td>\n",
       "      <td>1</td>\n",
       "    </tr>\n",
       "    <tr>\n",
       "      <th>3</th>\n",
       "      <td>6</td>\n",
       "      <td>56605947.68</td>\n",
       "      <td>1</td>\n",
       "    </tr>\n",
       "    <tr>\n",
       "      <th>4</th>\n",
       "      <td>3</td>\n",
       "      <td>31634296.32</td>\n",
       "      <td>2</td>\n",
       "    </tr>\n",
       "  </tbody>\n",
       "</table>\n",
       "</div>"
      ],
      "text/plain": [
       "   k          DIC chain\n",
       "0  2   7763493.69     4\n",
       "1  7  23235437.52     2\n",
       "2  2   7662333.02     1\n",
       "3  6  56605947.68     1\n",
       "4  3  31634296.32     2"
      ]
     },
     "execution_count": 223,
     "metadata": {},
     "output_type": "execute_result"
    }
   ],
   "source": [
    "dic_list = []\n",
    "for d in dic_files:\n",
    "    k = d.split('_k')[1].split('_')[0] #set this \n",
    "    c = d.split('_c')[1].split('.txt')[0]\n",
    "    #print(k,c)\n",
    "    \n",
    "    dic = !grep 'DIC' $d\n",
    "    dic = float(re.search('(\\d+.\\d+)',str(dic)).group(0))\n",
    "    #print(dic)\n",
    "    \n",
    "    dic_list.append([k,dic,c])\n",
    "dic_df = pd.DataFrame(dic_list,columns=['k','DIC','chain'])\n",
    "dic_df.head()"
   ]
  },
  {
   "cell_type": "code",
   "execution_count": 224,
   "metadata": {},
   "outputs": [],
   "source": [
    "dic_df.to_csv('dic_list.csv')"
   ]
  },
  {
   "cell_type": "code",
   "execution_count": 225,
   "metadata": {},
   "outputs": [],
   "source": [
    "dic_sum = dic_df.groupby('k').describe().DIC"
   ]
  },
  {
   "cell_type": "code",
   "execution_count": 226,
   "metadata": {},
   "outputs": [
    {
     "data": {
      "text/html": [
       "<div>\n",
       "<style scoped>\n",
       "    .dataframe tbody tr th:only-of-type {\n",
       "        vertical-align: middle;\n",
       "    }\n",
       "\n",
       "    .dataframe tbody tr th {\n",
       "        vertical-align: top;\n",
       "    }\n",
       "\n",
       "    .dataframe thead th {\n",
       "        text-align: right;\n",
       "    }\n",
       "</style>\n",
       "<table border=\"1\" class=\"dataframe\">\n",
       "  <thead>\n",
       "    <tr style=\"text-align: right;\">\n",
       "      <th></th>\n",
       "      <th>count</th>\n",
       "      <th>mean</th>\n",
       "      <th>std</th>\n",
       "      <th>min</th>\n",
       "      <th>25%</th>\n",
       "      <th>50%</th>\n",
       "      <th>75%</th>\n",
       "      <th>max</th>\n",
       "    </tr>\n",
       "    <tr>\n",
       "      <th>k</th>\n",
       "      <th></th>\n",
       "      <th></th>\n",
       "      <th></th>\n",
       "      <th></th>\n",
       "      <th></th>\n",
       "      <th></th>\n",
       "      <th></th>\n",
       "      <th></th>\n",
       "    </tr>\n",
       "  </thead>\n",
       "  <tbody>\n",
       "    <tr>\n",
       "      <th>2</th>\n",
       "      <td>4.0</td>\n",
       "      <td>7.75904283e+06</td>\n",
       "      <td>1.07505472e+05</td>\n",
       "      <td>7662333.02</td>\n",
       "      <td>7.69253020e+06</td>\n",
       "      <td>7.73304481e+06</td>\n",
       "      <td>7.79955744e+06</td>\n",
       "      <td>7.90774868e+06</td>\n",
       "    </tr>\n",
       "    <tr>\n",
       "      <th>7</th>\n",
       "      <td>4.0</td>\n",
       "      <td>1.56167843e+08</td>\n",
       "      <td>9.43921143e+07</td>\n",
       "      <td>23235437.52</td>\n",
       "      <td>1.26688424e+08</td>\n",
       "      <td>1.80339450e+08</td>\n",
       "      <td>2.09818870e+08</td>\n",
       "      <td>2.40757036e+08</td>\n",
       "    </tr>\n",
       "    <tr>\n",
       "      <th>5</th>\n",
       "      <td>4.0</td>\n",
       "      <td>4.49283355e+08</td>\n",
       "      <td>4.33087349e+08</td>\n",
       "      <td>56484031.51</td>\n",
       "      <td>8.34191389e+07</td>\n",
       "      <td>4.56633293e+08</td>\n",
       "      <td>8.22497509e+08</td>\n",
       "      <td>8.27382800e+08</td>\n",
       "    </tr>\n",
       "    <tr>\n",
       "      <th>8</th>\n",
       "      <td>4.0</td>\n",
       "      <td>5.71312241e+08</td>\n",
       "      <td>3.68673795e+08</td>\n",
       "      <td>272083887.31</td>\n",
       "      <td>3.40153224e+08</td>\n",
       "      <td>4.58962373e+08</td>\n",
       "      <td>6.90121390e+08</td>\n",
       "      <td>1.09524033e+09</td>\n",
       "    </tr>\n",
       "    <tr>\n",
       "      <th>3</th>\n",
       "      <td>4.0</td>\n",
       "      <td>7.38152283e+08</td>\n",
       "      <td>4.89003864e+08</td>\n",
       "      <td>31634296.32</td>\n",
       "      <td>6.24771907e+08</td>\n",
       "      <td>8.89044477e+08</td>\n",
       "      <td>1.00242485e+09</td>\n",
       "      <td>1.14288588e+09</td>\n",
       "    </tr>\n",
       "    <tr>\n",
       "      <th>4</th>\n",
       "      <td>4.0</td>\n",
       "      <td>7.70237112e+08</td>\n",
       "      <td>1.15648985e+09</td>\n",
       "      <td>7594790.78</td>\n",
       "      <td>1.14112311e+07</td>\n",
       "      <td>3.10342626e+08</td>\n",
       "      <td>1.06916851e+09</td>\n",
       "      <td>2.45266841e+09</td>\n",
       "    </tr>\n",
       "    <tr>\n",
       "      <th>6</th>\n",
       "      <td>4.0</td>\n",
       "      <td>1.04022615e+09</td>\n",
       "      <td>1.07821246e+09</td>\n",
       "      <td>56605947.68</td>\n",
       "      <td>3.39476892e+08</td>\n",
       "      <td>8.01321841e+08</td>\n",
       "      <td>1.50207110e+09</td>\n",
       "      <td>2.50165499e+09</td>\n",
       "    </tr>\n",
       "  </tbody>\n",
       "</table>\n",
       "</div>"
      ],
      "text/plain": [
       "   count            mean             std           min             25%  \\\n",
       "k                                                                        \n",
       "2    4.0  7.75904283e+06  1.07505472e+05    7662333.02  7.69253020e+06   \n",
       "7    4.0  1.56167843e+08  9.43921143e+07   23235437.52  1.26688424e+08   \n",
       "5    4.0  4.49283355e+08  4.33087349e+08   56484031.51  8.34191389e+07   \n",
       "8    4.0  5.71312241e+08  3.68673795e+08  272083887.31  3.40153224e+08   \n",
       "3    4.0  7.38152283e+08  4.89003864e+08   31634296.32  6.24771907e+08   \n",
       "4    4.0  7.70237112e+08  1.15648985e+09    7594790.78  1.14112311e+07   \n",
       "6    4.0  1.04022615e+09  1.07821246e+09   56605947.68  3.39476892e+08   \n",
       "\n",
       "              50%             75%             max  \n",
       "k                                                  \n",
       "2  7.73304481e+06  7.79955744e+06  7.90774868e+06  \n",
       "7  1.80339450e+08  2.09818870e+08  2.40757036e+08  \n",
       "5  4.56633293e+08  8.22497509e+08  8.27382800e+08  \n",
       "8  4.58962373e+08  6.90121390e+08  1.09524033e+09  \n",
       "3  8.89044477e+08  1.00242485e+09  1.14288588e+09  \n",
       "4  3.10342626e+08  1.06916851e+09  2.45266841e+09  \n",
       "6  8.01321841e+08  1.50207110e+09  2.50165499e+09  "
      ]
     },
     "execution_count": 226,
     "metadata": {},
     "output_type": "execute_result"
    }
   ],
   "source": [
    "dic_sum.sort_values('mean')"
   ]
  },
  {
   "cell_type": "code",
   "execution_count": 227,
   "metadata": {},
   "outputs": [],
   "source": [
    "dic_sum.to_csv('dic_sum.csv')"
   ]
  },
  {
   "cell_type": "markdown",
   "metadata": {},
   "source": [
    "### Get gprob and q for each k, and mcmc metrics"
   ]
  },
  {
   "cell_type": "code",
   "execution_count": 228,
   "metadata": {},
   "outputs": [
    {
     "name": "stdout",
     "output_type": "stream",
     "text": [
      "file = entropy_k2_c1.hdf5\n",
      "file = entropy_k2_c2.hdf5\n",
      "file = entropy_k2_c3.hdf5\n",
      "file = entropy_k2_c4.hdf5\n",
      "parameter dimensions for q: ind = 194, populations = 2, samples = 5000, chains = 4\n",
      "file = entropy_k3_c1.hdf5\n",
      "file = entropy_k3_c2.hdf5\n",
      "file = entropy_k3_c3.hdf5\n",
      "file = entropy_k3_c4.hdf5\n",
      "parameter dimensions for q: ind = 194, populations = 3, samples = 5000, chains = 4\n",
      "file = entropy_k4_c1.hdf5\n",
      "file = entropy_k4_c2.hdf5\n",
      "file = entropy_k4_c3.hdf5\n",
      "file = entropy_k4_c4.hdf5\n",
      "parameter dimensions for q: ind = 194, populations = 4, samples = 5000, chains = 4\n",
      "file = entropy_k5_c1.hdf5\n",
      "file = entropy_k5_c2.hdf5\n",
      "file = entropy_k5_c3.hdf5\n",
      "file = entropy_k5_c4.hdf5\n",
      "parameter dimensions for q: ind = 194, populations = 5, samples = 5000, chains = 4\n",
      "file = entropy_k6_c1.hdf5\n",
      "file = entropy_k6_c2.hdf5\n",
      "file = entropy_k6_c3.hdf5\n",
      "file = entropy_k6_c4.hdf5\n",
      "parameter dimensions for q: ind = 194, populations = 6, samples = 5000, chains = 4\n",
      "file = entropy_k7_c1.hdf5\n",
      "file = entropy_k7_c2.hdf5\n",
      "file = entropy_k7_c3.hdf5\n",
      "file = entropy_k7_c4.hdf5\n",
      "parameter dimensions for q: ind = 194, populations = 7, samples = 5000, chains = 4\n",
      "file = entropy_k8_c1.hdf5\n",
      "file = entropy_k8_c2.hdf5\n",
      "file = entropy_k8_c3.hdf5\n",
      "file = entropy_k8_c4.hdf5\n",
      "parameter dimensions for q: ind = 194, populations = 8, samples = 5000, chains = 4\n"
     ]
    }
   ],
   "source": [
    "# ancestry coeffecients \n",
    "!$estpost *k2*.hdf5 -p q -s 0 -o q2.txt\n",
    "\n",
    "!$estpost *k3*.hdf5 -p q -s 0 -o q3.txt\n",
    "\n",
    "!$estpost *k4*.hdf5 -p q -s 0 -o q4.txt\n",
    "\n",
    "!$estpost *k5*.hdf5 -p q -s 0 -o q5.txt\n",
    "\n",
    "!$estpost *k6*.hdf5 -p q -s 0 -o q6.txt\n",
    "\n",
    "!$estpost *k7*.hdf5 -p q -s 0 -o q7.txt\n",
    "\n",
    "!$estpost *k8*.hdf5 -p q -s 0 -o q8.txt\n"
   ]
  },
  {
   "cell_type": "code",
   "execution_count": 229,
   "metadata": {},
   "outputs": [
    {
     "name": "stdout",
     "output_type": "stream",
     "text": [
      "file = entropy_k2_c1.hdf5\n",
      "file = entropy_k2_c2.hdf5\n",
      "file = entropy_k2_c3.hdf5\n",
      "file = entropy_k2_c4.hdf5\n",
      "parameter dimensions for q: ind = 194, populations = 2, samples = 5000, chains = 4\n",
      "file = entropy_k3_c1.hdf5\n",
      "file = entropy_k3_c2.hdf5\n",
      "file = entropy_k3_c3.hdf5\n",
      "file = entropy_k3_c4.hdf5\n",
      "parameter dimensions for q: ind = 194, populations = 3, samples = 5000, chains = 4\n",
      "file = entropy_k4_c1.hdf5\n",
      "file = entropy_k4_c2.hdf5\n",
      "file = entropy_k4_c3.hdf5\n",
      "file = entropy_k4_c4.hdf5\n",
      "parameter dimensions for q: ind = 194, populations = 4, samples = 5000, chains = 4\n",
      "file = entropy_k5_c1.hdf5\n",
      "file = entropy_k5_c2.hdf5\n",
      "file = entropy_k5_c3.hdf5\n",
      "file = entropy_k5_c4.hdf5\n",
      "parameter dimensions for q: ind = 194, populations = 5, samples = 5000, chains = 4\n",
      "file = entropy_k6_c1.hdf5\n",
      "file = entropy_k6_c2.hdf5\n",
      "file = entropy_k6_c3.hdf5\n",
      "file = entropy_k6_c4.hdf5\n",
      "parameter dimensions for q: ind = 194, populations = 6, samples = 5000, chains = 4\n",
      "file = entropy_k7_c1.hdf5\n",
      "file = entropy_k7_c2.hdf5\n",
      "file = entropy_k7_c3.hdf5\n",
      "file = entropy_k7_c4.hdf5\n",
      "parameter dimensions for q: ind = 194, populations = 7, samples = 5000, chains = 4\n",
      "file = entropy_k8_c1.hdf5\n",
      "file = entropy_k8_c2.hdf5\n",
      "file = entropy_k8_c3.hdf5\n",
      "file = entropy_k8_c4.hdf5\n",
      "parameter dimensions for q: ind = 194, populations = 8, samples = 5000, chains = 4\n"
     ]
    }
   ],
   "source": [
    "#MCMC diagnostics\n",
    "!$estpost *k2*.hdf5 -p q -s 4 -o MCMC_k2.txt\n",
    "\n",
    "!$estpost *k3*.hdf5 -p q -s 4 -o MCMC_k3.txt\n",
    "\n",
    "!$estpost *k4*.hdf5 -p q -s 4 -o MCMC_k4.txt\n",
    "\n",
    "!$estpost *k5*.hdf5 -p q -s 4 -o MCMC_k5.txt\n",
    "\n",
    "!$estpost *k6*.hdf5 -p q -s 4 -o MCMC_k6.txt\n",
    "\n",
    "!$estpost *k7*.hdf5 -p q -s 4 -o MCMC_k7.txt\n",
    "\n",
    "!$estpost *k8*.hdf5 -p q -s 4 -o MCMC_k8.txt"
   ]
  },
  {
   "cell_type": "markdown",
   "metadata": {},
   "source": [
    "### make slurm script to make gprob file\n",
    "\n",
    "    use all k and chains to make gprob"
   ]
  },
  {
   "cell_type": "code",
   "execution_count": 230,
   "metadata": {},
   "outputs": [
    {
     "name": "stdout",
     "output_type": "stream",
     "text": [
      "/data/gpfs/assoc/denovo/tfaske/connie/ch2/entropy\n"
     ]
    }
   ],
   "source": [
    "cd $ent_dir"
   ]
  },
  {
   "cell_type": "code",
   "execution_count": 231,
   "metadata": {},
   "outputs": [],
   "source": [
    "### select slurm options\n",
    "account = 'cpu-s5-denovo-0'\n",
    "partition = 'cpu-core-0'\n",
    "time = '1-00:00:00' #time limit 4\n",
    "cpus = 2 #to prevent hammering one node\n",
    "mem_cpu = 6000\n",
    "email = 'tfaske@nevada.unr.edu'\n",
    "\n",
    "### select k \n",
    "num_k = [2,3,4,6,7,8]"
   ]
  },
  {
   "cell_type": "code",
   "execution_count": 232,
   "metadata": {},
   "outputs": [],
   "source": [
    "def write_gprob_k_sh(account,partition,time,cpus,mem_cpu,email,estpost,num_k):\n",
    "    for k in num_k:\n",
    "        with open(\"shdir/run_gprob_k%d.sh\" % (k), \"w\") as o:\n",
    "            o.write(\"\"\"#!/usr/bin/env bash\n",
    "#SBATCH --account=%s\n",
    "#SBATCH --partition=%s\n",
    "#SBATCH --time=%s\n",
    "#SBATCH --ntasks 1\n",
    "#SBATCH --cpus-per-task %d\n",
    "#SBATCH --mem-per-cpu=%d\n",
    "#SBATCH --job-name gprob_k%d\n",
    "#SBATCH --output output_gprob_k%d.txt\n",
    "#SBATCH --mail-type=END\n",
    "#SBATCH --mail-user=%s\\n\\n\"\"\" % (account,partition,time,cpus,mem_cpu,k,k,email))\n",
    "        \n",
    "            o.write(\"%s ../*k%d*.hdf5 -p gprob -s 0 -o ../gprob%d.txt\" % (estpost,k,k))"
   ]
  },
  {
   "cell_type": "code",
   "execution_count": 233,
   "metadata": {},
   "outputs": [],
   "source": [
    "write_gprob_k_sh(account,partition,time,cpus,mem_cpu,email,estpost,num_k)"
   ]
  },
  {
   "cell_type": "code",
   "execution_count": 234,
   "metadata": {},
   "outputs": [
    {
     "data": {
      "text/plain": [
       "['/data/gpfs/assoc/denovo/tfaske/connie/ch2/entropy/shdir/run_gprob_k2.sh',\n",
       " '/data/gpfs/assoc/denovo/tfaske/connie/ch2/entropy/shdir/run_gprob_k3.sh',\n",
       " '/data/gpfs/assoc/denovo/tfaske/connie/ch2/entropy/shdir/run_gprob_k4.sh',\n",
       " '/data/gpfs/assoc/denovo/tfaske/connie/ch2/entropy/shdir/run_gprob_k6.sh',\n",
       " '/data/gpfs/assoc/denovo/tfaske/connie/ch2/entropy/shdir/run_gprob_k7.sh',\n",
       " '/data/gpfs/assoc/denovo/tfaske/connie/ch2/entropy/shdir/run_gprob_k8.sh']"
      ]
     },
     "execution_count": 234,
     "metadata": {},
     "output_type": "execute_result"
    }
   ],
   "source": [
    "gprobShells = !find $ent_dir -name 'run_gprob*.sh'\n",
    "gprobShells = gprobShells.sort()\n",
    "gprobShells"
   ]
  },
  {
   "cell_type": "code",
   "execution_count": 235,
   "metadata": {},
   "outputs": [],
   "source": [
    "def write_sbatch_gprobShells(gprobShells):\n",
    "    with open(\"shdir/sbatch_gprob.sh\", \"w\") as o:\n",
    "        o.write(\"\"\"#!/usr/bin/env bash \\n\"\"\")\n",
    "        for sh in gprobShells:\n",
    "            o.write(\"\"\"sbatch %s\\n\"\"\" % (sh))"
   ]
  },
  {
   "cell_type": "code",
   "execution_count": 236,
   "metadata": {},
   "outputs": [],
   "source": [
    "write_sbatch_gprobShells(gprobShells)"
   ]
  },
  {
   "cell_type": "markdown",
   "metadata": {},
   "source": [
    "### gprob all "
   ]
  },
  {
   "cell_type": "code",
   "execution_count": 237,
   "metadata": {},
   "outputs": [
    {
     "data": {
      "text/plain": [
       "['../entropy_k2_c*hdf5',\n",
       " '../entropy_k3_c*hdf5',\n",
       " '../entropy_k4_c*hdf5',\n",
       " '../entropy_k6_c*hdf5',\n",
       " '../entropy_k7_c*hdf5',\n",
       " '../entropy_k8_c*hdf5']"
      ]
     },
     "execution_count": 237,
     "metadata": {},
     "output_type": "execute_result"
    }
   ],
   "source": [
    "hdf5_files = []\n",
    "for k in num_k:\n",
    "    f = '../entropy_k' + str(k) + '_c*hdf5'\n",
    "    hdf5_files.append(f)\n",
    "hdf5_files"
   ]
  },
  {
   "cell_type": "code",
   "execution_count": 238,
   "metadata": {},
   "outputs": [
    {
     "data": {
      "text/plain": [
       "'/data/gpfs/home/tfaske/g/anaconda3/envs/entropy/bin/estpost.entropy ../entropy_k2_c*hdf5 ../entropy_k3_c*hdf5 ../entropy_k4_c*hdf5 ../entropy_k6_c*hdf5 ../entropy_k7_c*hdf5 ../entropy_k8_c*hdf5 -p gprob -s 0 -o ../gprobAll.txt'"
      ]
     },
     "execution_count": 238,
     "metadata": {},
     "output_type": "execute_result"
    }
   ],
   "source": [
    "gprob_cmd = estpost + ' ' + ' '.join(hdf5_files) + ' -p gprob -s 0 -o ../gprobAll.txt'\n",
    "gprob_cmd"
   ]
  },
  {
   "cell_type": "code",
   "execution_count": 239,
   "metadata": {},
   "outputs": [],
   "source": [
    "### select slurm options\n",
    "account = 'cpu-s5-denovo-0'\n",
    "partition = 'cpu-core-0'\n",
    "time = '1-00:00:00' #time limit 4\n",
    "cpus = 2 #to prevent hammering one node\n",
    "mem_cpu = 100000\n",
    "email = 'tfaske@nevada.unr.edu'"
   ]
  },
  {
   "cell_type": "code",
   "execution_count": 240,
   "metadata": {},
   "outputs": [],
   "source": [
    "def write_gprob_all_sh(account,partition,time,cpus,mem_cpu,email,estpost,gprob_cmd):\n",
    "        with open(\"shdir/run_gprobAll.sh\", \"w\") as o:\n",
    "            o.write(\"\"\"#!/usr/bin/env bash\n",
    "#SBATCH --account=%s\n",
    "#SBATCH --partition=%s\n",
    "#SBATCH --time=%s\n",
    "#SBATCH --ntasks 1\n",
    "#SBATCH --cpus-per-task %d\n",
    "#SBATCH --mem-per-cpu=%d\n",
    "#SBATCH --job-name gprobAll\n",
    "#SBATCH --output output_gprobAll.txt\n",
    "#SBATCH --mail-type=END\n",
    "#SBATCH --mail-user=%s\n",
    "\n",
    "%s\"\"\" % (account,partition,time,cpus,mem_cpu,email,gprob_cmd))"
   ]
  },
  {
   "cell_type": "code",
   "execution_count": 241,
   "metadata": {},
   "outputs": [],
   "source": [
    "write_gprob_all_sh(account,partition,time,cpus,mem_cpu,email,estpost,gprob_cmd)"
   ]
  },
  {
   "cell_type": "code",
   "execution_count": null,
   "metadata": {},
   "outputs": [],
   "source": []
  },
  {
   "cell_type": "code",
   "execution_count": null,
   "metadata": {},
   "outputs": [],
   "source": []
  },
  {
   "cell_type": "markdown",
   "metadata": {},
   "source": [
    "## Run gprob sh \n",
    "    cd /data/gpfs/home/tfaske/d/milkweed/entropy\n",
    "    source activate entropy\n",
    "    sbatch run_gprob.sh"
   ]
  },
  {
   "cell_type": "code",
   "execution_count": null,
   "metadata": {},
   "outputs": [],
   "source": []
  },
  {
   "cell_type": "code",
   "execution_count": null,
   "metadata": {},
   "outputs": [],
   "source": [
    "#gprobs\n",
    "#!$estpost *k2*.hdf5 -p gprob -s 0 -o gprob2.txt\n",
    "\n",
    "#!$estpost *k3*.hdf5 -p gprob -s 0 -o gprob3.txt\n",
    "\n",
    "#!$estpost *k4*.hdf5 -p gprob -s 0 -o gprob4.txt\n",
    "\n",
    "#!$estpost *k5*.hdf5 -p gprob -s 0 -o gprob5.txt"
   ]
  }
 ],
 "metadata": {
  "kernelspec": {
   "display_name": "Python 3",
   "language": "python",
   "name": "python3"
  },
  "language_info": {
   "codemirror_mode": {
    "name": "ipython",
    "version": 3
   },
   "file_extension": ".py",
   "mimetype": "text/x-python",
   "name": "python",
   "nbconvert_exporter": "python",
   "pygments_lexer": "ipython3",
   "version": "3.6.7"
  }
 },
 "nbformat": 4,
 "nbformat_minor": 2
}
