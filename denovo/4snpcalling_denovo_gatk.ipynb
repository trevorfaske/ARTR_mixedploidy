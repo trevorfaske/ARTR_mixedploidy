{
 "cells": [
  {
   "cell_type": "markdown",
   "metadata": {},
   "source": [
    "# Installing GATK + notes\n",
    "    This page will be a reference for installation, different tutorials and how to call polyploids"
   ]
  },
  {
   "cell_type": "markdown",
   "metadata": {},
   "source": [
    "  #### Get GATK jar and .yml files here:\n",
    "  https://github.com/broadinstitute/gatk/releases\n",
    "  \n",
    "  wget .zip file to a src directory, unzip, run conda install below in that direcoty\n",
    "  \n",
    "  #### directions for conda install here:\n",
    "  https://gatk.broadinstitute.org/hc/en-us/articles/360035889851--How-to-Install-and-use-Conda-for-GATK4\n",
    "  \n",
    "  #### vivaswat notes\n",
    "  https://microcollaborative.atlassian.net/wiki/spaces/BL/pages/73957377/Bioinformatics+for+polyploids\n",
    "  \n",
    "  #### monnahan et al 2019   \n",
    "  \n",
    "  https://github.com/pmonnahan/ArenosaPloidy\n",
    "\n",
    "  \n",
    "  \n",
    "  #### IDEA: \n",
    "  \n",
    "  - call snps with GATK haplotype caller. \n",
    "  - run one per sample with correct ploidy into gvcf\n",
    "  - then use GenotypeGVCF to call snps across all gvcfs, no need to tell ploidy. \n",
    "  \n",
    "  **combine gvcf**\n",
    "-R -o -V\n",
    "\n",
    "**preferred: make genome DB**\n",
    "gatk GenomicsDBImport \\\n",
    "    -V data/gvcfs/mother.g.vcf \\\n",
    "    -V data/gvcfs/father.g.vcf \\\n",
    "    -V data/gvcfs/son.g.vcf \\\n",
    "    --genomicsdb-workspace-path my_database \\\n",
    "\n",
    "**genotype**\n",
    "-R -o -L --includeNonVariantSites -nt 5\n",
    "\n",
    "**select biallelic**\n",
    "-R -o -V -xlSelectType INDEL -xlSelectType MIXED --restrictAllelesTo BIALLELIC\n",
    "\n",
    "**filter**\n",
    "\n",
    "  "
   ]
  },
  {
   "cell_type": "code",
   "execution_count": 142,
   "metadata": {},
   "outputs": [],
   "source": [
    "import sys\n",
    "\n",
    "#sys.path.append('/home/faske/g/anaconda3/envs/py34/lib/python3.4/site-packages')\n",
    "sys.path.append('/data/gpfs/assoc/parchmanlab/tfaske/anaconda3/envs/py36/lib/python3.6/site-packages')\n",
    "sys.path.append(\"/data/gpfs/assoc/parchmanlab/tfaske/ipynb/include_utils\")\n",
    "\n",
    "import ipyparallel as ipp\n",
    "import os, time\n",
    "from os import environ\n",
    "import include_utils as u\n",
    "import pandas as pd\n",
    "import numpy as np\n",
    "import scipy as sp\n",
    "import numbers\n",
    "import matplotlib.pyplot as plt\n",
    "import matplotlib.patches as mpatches\n",
    "import matplotlib.cm as cm\n",
    "import matplotlib.colors as mcolors\n",
    "#import vcf\n",
    "from sklearn import preprocessing\n",
    "from subprocess import Popen, PIPE, call, check_output\n",
    "import seaborn as sns\n",
    "from IPython.display import FileLink\n",
    "import urllib.request as urllib2\n",
    "import dill\n",
    "import traceback\n",
    "from pandas import Series, DataFrame\n",
    "import gzip\n",
    "import warnings\n",
    "warnings.filterwarnings('ignore',category=pd.io.pytables.PerformanceWarning)\n",
    "%config InlineBackend.figure_format = 'retina'\n",
    "from Bio import SeqIO\n",
    "#import pysam\n",
    "from collections import OrderedDict, namedtuple, Counter\n",
    "import operator\n",
    "import multiprocessing as mp\n",
    "import shutil\n",
    "import tempfile\n",
    "#from ipyparallel import Client\n",
    "import scandir\n",
    "import glob\n",
    "from Bio.SeqIO.QualityIO import FastqGeneralIterator\n",
    "import pickle\n",
    "import re\n",
    "from itertools import chain\n",
    "import socket\n",
    "import random\n",
    "#import Levenshtein as lv"
   ]
  },
  {
   "cell_type": "code",
   "execution_count": 143,
   "metadata": {},
   "outputs": [],
   "source": [
    "root = \"/data/gpfs/assoc/denovo/tfaske/sagebrush/denovo\""
   ]
  },
  {
   "cell_type": "code",
   "execution_count": 144,
   "metadata": {},
   "outputs": [],
   "source": [
    "snp_dir = os.path.join(root,'SNPcall')"
   ]
  },
  {
   "cell_type": "code",
   "execution_count": 145,
   "metadata": {},
   "outputs": [],
   "source": [
    "gatk_dir = os.path.join(snp_dir,'gatk')"
   ]
  },
  {
   "cell_type": "code",
   "execution_count": 146,
   "metadata": {
    "ExecuteTime": {}
   },
   "outputs": [],
   "source": [
    "bam_dir = os.path.join(gatk_dir,'good_bams')"
   ]
  },
  {
   "cell_type": "code",
   "execution_count": 147,
   "metadata": {},
   "outputs": [
    {
     "name": "stdout",
     "output_type": "stream",
     "text": [
      "/data/gpfs/assoc/denovo/tfaske/sagebrush/denovo/SNPcall/gatk/good_bams\n"
     ]
    }
   ],
   "source": [
    "cd $bam_dir"
   ]
  },
  {
   "cell_type": "code",
   "execution_count": 148,
   "metadata": {},
   "outputs": [],
   "source": [
    "mapped_bam = []\n",
    "files = !find . -type f -name '*mapped.bam'\n",
    "files = [os.path.abspath(x) for x in files if 'bam' in x]\n",
    "for x in files:\n",
    "    mapped_bam.append(x)\n",
    "mapped_bam = sorted(mapped_bam)"
   ]
  },
  {
   "cell_type": "code",
   "execution_count": 149,
   "metadata": {},
   "outputs": [
    {
     "data": {
      "text/plain": [
       "(695,\n",
       " '/data/gpfs/assoc/denovo/tfaske/sagebrush/denovo/SNPcall/gatk/good_bams/AT2_BB_10_mapped.bam')"
      ]
     },
     "execution_count": 149,
     "metadata": {},
     "output_type": "execute_result"
    }
   ],
   "source": [
    "len(mapped_bam), mapped_bam[0]"
   ]
  },
  {
   "cell_type": "code",
   "execution_count": 150,
   "metadata": {},
   "outputs": [
    {
     "data": {
      "text/plain": [
       "'/data/gpfs/assoc/denovo/tfaske/sagebrush/denovo/assembly/reference.fasta'"
      ]
     },
     "execution_count": 150,
     "metadata": {},
     "output_type": "execute_result"
    }
   ],
   "source": [
    "#assembly = os.path.join(gatk_dir, \"mapped_fasta/mapped.fasta\")\n",
    "assembly = \"/data/gpfs/assoc/denovo/tfaske/sagebrush/denovo/assembly/reference.fasta\"\n",
    "assert os.path.exists(assembly)\n",
    "assembly\n",
    "#picard CreateSequenceDictionary R=reference.fasta O=reference.dict"
   ]
  },
  {
   "attachments": {},
   "cell_type": "markdown",
   "metadata": {},
   "source": [
    "## SNP CALL with GATK\n",
    "\n",
    "follow that of mohannon et al 2019 nature ecology and evolution\n",
    "\n",
    "-I -R -o --min_base_quality_score 25 --min_mapping_quality_score 25 -rf DuplicateRead -rf BadMate -rf BadCigar -ERC BP_RESOLUTION -R -L -o <fileName_g.vcf.gz> -ploidy -stand_emit_conf 25 -stand_call_conf 25 --pcr_indel_model NONE -nct 4!"
   ]
  },
  {
   "cell_type": "code",
   "execution_count": 151,
   "metadata": {},
   "outputs": [
    {
     "name": "stdout",
     "output_type": "stream",
     "text": [
      "/data/gpfs/assoc/denovo/tfaske/sagebrush/denovo/SNPcall/gatk\n"
     ]
    }
   ],
   "source": [
    "cd $gatk_dir"
   ]
  },
  {
   "cell_type": "code",
   "execution_count": 152,
   "metadata": {},
   "outputs": [
    {
     "name": "stdout",
     "output_type": "stream",
     "text": [
      "mkdir: cannot create directory ‘vcf’: File exists\r\n"
     ]
    }
   ],
   "source": [
    "!mkdir vcf"
   ]
  },
  {
   "cell_type": "code",
   "execution_count": 153,
   "metadata": {},
   "outputs": [],
   "source": [
    "gatk = '/data/gpfs/assoc/parchmanlab/tfaske/src/gatk4/gatk'"
   ]
  },
  {
   "cell_type": "code",
   "execution_count": 154,
   "metadata": {},
   "outputs": [],
   "source": [
    "def run_gatk(args):\n",
    "    import os, multiprocessing, socket\n",
    "    gatk, assembly, bam = args\n",
    "    ID = bam.split('/')[11] ### need to change this to match your ID \n",
    "    ID = ID.split('_mapped.bam')[0] ### This too\n",
    "    ploidy = ID.split('_')[0]\n",
    "    ploidy = re.sub(r'\\D','',ploidy)\n",
    "    #print(ID)\n",
    "    #print(ploidy)\n",
    "    #print(out_dir)\n",
    "    cmd = r'%s --java-options \"-Xmx16g\" HaplotypeCaller -R %s -I %s -ploidy %s -O vcf/%s.g.vcf.gz -ERC BP_RESOLUTION' % (gatk,assembly,bam,ploidy,ID)\n",
    "    #cmd = r'%s --java-options \"-Xmx16g\" HaplotypeCaller -R %s -I %s -ploidy %s -O %s/%s.g.vcf.gz -ERC GVCF' % (gatk,assembly,bam,ploidy,out_dir,ID)\n",
    "    return  cmd "
   ]
  },
  {
   "cell_type": "code",
   "execution_count": 155,
   "metadata": {},
   "outputs": [],
   "source": [
    "### creates a list of commands for gatk for each bam\n",
    "res_gatk = []\n",
    "for b in mapped_bam:\n",
    "    res = run_gatk((gatk, assembly, b))\n",
    "    res_gatk.append(res)"
   ]
  },
  {
   "cell_type": "code",
   "execution_count": 156,
   "metadata": {},
   "outputs": [
    {
     "data": {
      "text/plain": [
       "(695,\n",
       " '/data/gpfs/assoc/parchmanlab/tfaske/src/gatk4/gatk --java-options \"-Xmx16g\" HaplotypeCaller -R /data/gpfs/assoc/denovo/tfaske/sagebrush/denovo/assembly/reference.fasta -I /data/gpfs/assoc/denovo/tfaske/sagebrush/denovo/SNPcall/gatk/good_bams/AT2_BB_10_mapped.bam -ploidy 2 -O vcf/AT2_BB_10.g.vcf.gz -ERC BP_RESOLUTION')"
      ]
     },
     "execution_count": 156,
     "metadata": {},
     "output_type": "execute_result"
    }
   ],
   "source": [
    "len(res_gatk),res_gatk[0]"
   ]
  },
  {
   "cell_type": "markdown",
   "metadata": {},
   "source": [
    "#### Below selects options for slurm submission and is a function for creating a slurm script per fastq"
   ]
  },
  {
   "cell_type": "code",
   "execution_count": 157,
   "metadata": {},
   "outputs": [
    {
     "name": "stdout",
     "output_type": "stream",
     "text": [
      "/data/gpfs/assoc/denovo/tfaske/sagebrush/denovo/SNPcall/gatk\n"
     ]
    }
   ],
   "source": [
    "cd $gatk_dir"
   ]
  },
  {
   "cell_type": "code",
   "execution_count": 158,
   "metadata": {},
   "outputs": [
    {
     "name": "stdout",
     "output_type": "stream",
     "text": [
      "mkdir: cannot create directory ‘shdir’: File exists\r\n"
     ]
    }
   ],
   "source": [
    "!mkdir shdir"
   ]
  },
  {
   "cell_type": "code",
   "execution_count": 159,
   "metadata": {},
   "outputs": [],
   "source": [
    "bam_ID = [b.split('/')[11].split('_mapped.bam')[0] for b in mapped_bam]"
   ]
  },
  {
   "cell_type": "code",
   "execution_count": 160,
   "metadata": {},
   "outputs": [
    {
     "data": {
      "text/plain": [
       "(695, 'AT2_BB_10')"
      ]
     },
     "execution_count": 160,
     "metadata": {},
     "output_type": "execute_result"
    }
   ],
   "source": [
    "len(bam_ID), bam_ID[0]"
   ]
  },
  {
   "cell_type": "code",
   "execution_count": 161,
   "metadata": {},
   "outputs": [],
   "source": [
    "### select options for slurm submission\n",
    "#account = 'cpu-s5-denovo-0'\n",
    "#partition = 'cpu-core-0'\n",
    "account = 'cpu-s1-bionres-0'\n",
    "partition = 'cpu-s1-bionres-0'\n",
    "jobname = 'gatk'\n",
    "time = '1-00:00:00' #time limit 1 day\n",
    "cpus = 1\n",
    "mem_cpu = 8000\n",
    "email = 'tfaske@nevada.unr.edu'"
   ]
  },
  {
   "cell_type": "code",
   "execution_count": 162,
   "metadata": {},
   "outputs": [],
   "source": [
    "def write_gatk_ind_sh(account,partition,time,jobname,cpus,mem_cpu,email,bam_ID,gatk_dir,cmds):\n",
    "    #print(account)\n",
    "    #print(partition)\n",
    "    #print(cpus)\n",
    "    #print(email)\n",
    "    #print(cmds[0])\n",
    "    for i in range(0,len(cmds)):\n",
    "        with open(\"shdir/run_gatk_%s.sh\" % (bam_ID[i]), \"w\") as o:\n",
    "            o.write(\"\"\"#!/usr/bin/env bash\n",
    "#SBATCH --account=%s\n",
    "#SBATCH --partition=%s\n",
    "#SBATCH --time=%s\n",
    "#SBATCH --ntasks 1\n",
    "#SBATCH --cpus-per-task %d\n",
    "#SBATCH --mem-per-cpu=%d\n",
    "#SBATCH --job-name %s_gatk\n",
    "#SBATCH --output shdir/output_gatk_%s.txt\n",
    "#SBATCH --mail-type=FAIL\n",
    "#SBATCH --mail-user=%s \\n\n",
    "\n",
    "cd %s\\n\n",
    "    \n",
    "%s \\n\n",
    "\"\"\" % (account,partition,time,int(cpus),int(mem_cpu),bam_ID[i],bam_ID[i],email,gatk_dir,cmds[i]))\n",
    "            "
   ]
  },
  {
   "cell_type": "code",
   "execution_count": 163,
   "metadata": {},
   "outputs": [],
   "source": [
    "write_gatk_ind_sh(account,partition,time,jobname,cpus,mem_cpu,email,bam_ID,gatk_dir,res_gatk)"
   ]
  },
  {
   "cell_type": "markdown",
   "metadata": {},
   "source": [
    "#### finds all bwa slurm scripts and writes bash script to sbatch them"
   ]
  },
  {
   "cell_type": "code",
   "execution_count": 164,
   "metadata": {},
   "outputs": [],
   "source": [
    "shbwa_files = []\n",
    "os.chdir('{}/{}'.format(gatk_dir, 'shdir'))\n",
    "files = !find . -name '*.sh'\n",
    "files = [os.path.abspath(x) for x in files]\n",
    "for x in files:\n",
    "        shbwa_files.append(x)\n",
    "shbwa_files = sorted(shbwa_files)"
   ]
  },
  {
   "cell_type": "code",
   "execution_count": 165,
   "metadata": {},
   "outputs": [
    {
     "data": {
      "text/plain": [
       "(695,\n",
       " '/data/gpfs/assoc/denovo/tfaske/sagebrush/denovo/SNPcall/gatk/shdir/run_gatk_AT2_BB_1.sh')"
      ]
     },
     "execution_count": 165,
     "metadata": {},
     "output_type": "execute_result"
    }
   ],
   "source": [
    "len(shbwa_files),shbwa_files[0]"
   ]
  },
  {
   "cell_type": "code",
   "execution_count": 166,
   "metadata": {},
   "outputs": [],
   "source": [
    "def write_bash_gatk_sh(sh_files):\n",
    "    with open(\"run_bash_gatk.sh\", \"w\") as o:\n",
    "        o.write(\"\"\"#!/usr/bin/env bash \\n\\n\"\"\")\n",
    "        for f in sh_files:\n",
    "            o.write(\"sbatch %s \\n\" % (f))    "
   ]
  },
  {
   "cell_type": "code",
   "execution_count": 167,
   "metadata": {},
   "outputs": [
    {
     "name": "stdout",
     "output_type": "stream",
     "text": [
      "/data/gpfs/assoc/denovo/tfaske/sagebrush/denovo/SNPcall/gatk\n"
     ]
    }
   ],
   "source": [
    "cd $gatk_dir"
   ]
  },
  {
   "cell_type": "code",
   "execution_count": 168,
   "metadata": {},
   "outputs": [],
   "source": [
    "write_bash_gatk_sh(shbwa_files)"
   ]
  },
  {
   "attachments": {},
   "cell_type": "markdown",
   "metadata": {},
   "source": [
    "### Run run_bash_gatk_sh locally\n",
    "    cd /data/gpfs/assoc/denovo/tfaske/sagebrush/SNPcall \n",
    "    source activate py36\n",
    "    bash run_bash_gatk.sh\n"
   ]
  },
  {
   "cell_type": "markdown",
   "metadata": {},
   "source": [
    "## Reblock gvcf\n",
    "\n",
    "https://gatk.broadinstitute.org/hc/en-us/articles/4405443600667-ReblockGVCF\n",
    "\n",
    "This strategy drops Uncalled alleles and associated data will also be dropped unless --keep-all-alts is specified.\n",
    "\n",
    "This will help with GenomicsDBimport.\n",
    "\n",
    " gatk ReblockGVCF \\\n",
    "   -R reference.fasta \\\n",
    "   -V sample1.g.vcf \\\n",
    "   -O sample1.rb.g.vcf\n",
    "   -ploidy "
   ]
  },
  {
   "cell_type": "code",
   "execution_count": 393,
   "metadata": {},
   "outputs": [
    {
     "name": "stdout",
     "output_type": "stream",
     "text": [
      "/data/gpfs/assoc/denovo/tfaske/sagebrush/denovo/SNPcall/gatk\n"
     ]
    }
   ],
   "source": [
    "cd $gatk_dir"
   ]
  },
  {
   "cell_type": "code",
   "execution_count": 364,
   "metadata": {},
   "outputs": [],
   "source": [
    "!mkdir reblock"
   ]
  },
  {
   "cell_type": "code",
   "execution_count": 365,
   "metadata": {},
   "outputs": [],
   "source": [
    "!mkdir reblock/shdir"
   ]
  },
  {
   "cell_type": "code",
   "execution_count": 394,
   "metadata": {},
   "outputs": [],
   "source": [
    "vcfs = !ls vcf/*g.vcf.gz | grep -v tbi | grep -v sorted\n",
    "vcfs = [os.path.abspath(x) for x in vcfs]"
   ]
  },
  {
   "cell_type": "code",
   "execution_count": 395,
   "metadata": {},
   "outputs": [
    {
     "data": {
      "text/plain": [
       "(695,\n",
       " '/data/gpfs/assoc/denovo/tfaske/sagebrush/denovo/SNPcall/gatk/vcf/AT2_BB_10.g.vcf.gz')"
      ]
     },
     "execution_count": 395,
     "metadata": {},
     "output_type": "execute_result"
    }
   ],
   "source": [
    "len(vcfs),vcfs[0]"
   ]
  },
  {
   "cell_type": "code",
   "execution_count": 418,
   "metadata": {},
   "outputs": [],
   "source": [
    "def run_rb(args):\n",
    "    gatk, assembly, vcf = args\n",
    "    ID = vcf.split('/')[11] ### need to change this to match your ID \n",
    "    ID = ID.split('.g.vcf.gz')[0] ### This too\n",
    "    ploidy = ID.split('_')[0]\n",
    "    ploidy = re.sub(r'\\D','',ploidy)\n",
    "    cmd = r'%s --java-options \"-Xmx2g\" ReblockGVCF -R %s -V %s -ploidy %s -O reblock/%s.rb.g.vcf.gz' % (gatk,assembly,vcf,ploidy,ID)\n",
    "    return  cmd "
   ]
  },
  {
   "cell_type": "code",
   "execution_count": 419,
   "metadata": {},
   "outputs": [],
   "source": [
    "rb_cmds = []\n",
    "for vcf in vcfs: \n",
    "    rb_cmds.append(run_rb((gatk, assembly, vcf)))"
   ]
  },
  {
   "cell_type": "code",
   "execution_count": 420,
   "metadata": {},
   "outputs": [
    {
     "data": {
      "text/plain": [
       "(695,\n",
       " '/data/gpfs/assoc/parchmanlab/tfaske/src/gatk4/gatk --java-options \"-Xmx2g\" ReblockGVCF -R /data/gpfs/assoc/denovo/tfaske/sagebrush/denovo/assembly/reference.fasta -V /data/gpfs/assoc/denovo/tfaske/sagebrush/denovo/SNPcall/gatk/vcf/AT4_WT_2.g.vcf.gz -ploidy 4 -O reblock/AT4_WT_2.rb.g.vcf.gz')"
      ]
     },
     "execution_count": 420,
     "metadata": {},
     "output_type": "execute_result"
    }
   ],
   "source": [
    "len(rb_cmds),rb_cmds[250]"
   ]
  },
  {
   "cell_type": "code",
   "execution_count": 421,
   "metadata": {},
   "outputs": [],
   "source": [
    "### select options for slurm submission\n",
    "#account = 'cpu-s5-denovo-0'\n",
    "#partition = 'cpu-core-0'\n",
    "account = 'cpu-s1-bionres-0'\n",
    "partition = 'cpu-s1-bionres-0'\n",
    "jobname = 'gatk'\n",
    "time = '0-01:00:00' #time limit 1 hour\n",
    "cpus = 1\n",
    "mem_cpu = 2000\n",
    "email = 'tfaske@nevada.unr.edu'"
   ]
  },
  {
   "cell_type": "code",
   "execution_count": 422,
   "metadata": {},
   "outputs": [],
   "source": [
    "def write_rb_sh(account,partition,time,jobname,cpus,mem_cpu,email,gatk_dir,cmds,vcfs):\n",
    "    for i in range(0,len(cmds)):\n",
    "        ID = vcfs[i].split('/')[11].split('.g.vcf.gz')[0]\n",
    "        with open(\"reblock/shdir/run_rb_%s.sh\" % (ID), \"w\") as o:\n",
    "            o.write(\"\"\"#!/usr/bin/env bash\n",
    "#SBATCH --account=%s\n",
    "#SBATCH --partition=%s\n",
    "#SBATCH --time=%s\n",
    "#SBATCH --ntasks 1\n",
    "#SBATCH --cpus-per-task %d\n",
    "#SBATCH --mem-per-cpu=%d\n",
    "#SBATCH --job-name rb_%s\n",
    "#SBATCH --output reblock/shdir/output_rb_%s.txt\n",
    "#SBATCH --mail-type=FAIL\n",
    "#SBATCH --mail-user=%s \\n\n",
    "\n",
    "cd %s\\n\n",
    "    \n",
    "%s\\n\"\"\" % (account,partition,time,int(cpus),int(mem_cpu),ID,ID,email,gatk_dir,cmds[i]))\n",
    "            "
   ]
  },
  {
   "cell_type": "code",
   "execution_count": 423,
   "metadata": {},
   "outputs": [],
   "source": [
    "write_rb_sh(account,partition,time,jobname,cpus,mem_cpu,email,gatk_dir,rb_cmds,vcfs)"
   ]
  },
  {
   "cell_type": "markdown",
   "metadata": {},
   "source": [
    "**finds all rb slurm scripts and writes bash script to sbatch them**"
   ]
  },
  {
   "cell_type": "code",
   "execution_count": 413,
   "metadata": {},
   "outputs": [],
   "source": [
    "shrb_files = []\n",
    "os.chdir('{}/{}'.format(gatk_dir, 'reblock/shdir'))\n",
    "files = !find . -name '*.sh'\n",
    "files = [os.path.abspath(x) for x in files]\n",
    "for x in files:\n",
    "        shrb_files.append(x)\n",
    "shrb_files = sorted(shrb_files)"
   ]
  },
  {
   "cell_type": "code",
   "execution_count": 414,
   "metadata": {},
   "outputs": [
    {
     "data": {
      "text/plain": [
       "(695,\n",
       " '/data/gpfs/assoc/denovo/tfaske/sagebrush/denovo/SNPcall/gatk/reblock/shdir/run_rb_AT2_BB_1.sh')"
      ]
     },
     "execution_count": 414,
     "metadata": {},
     "output_type": "execute_result"
    }
   ],
   "source": [
    "len(shrb_files),shrb_files[0]"
   ]
  },
  {
   "cell_type": "code",
   "execution_count": 415,
   "metadata": {},
   "outputs": [],
   "source": [
    "def write_bash_rb_sh(sh_files):\n",
    "    with open(\"run_bash_rb.sh\", \"w\") as o:\n",
    "        o.write(\"\"\"#!/usr/bin/env bash \\n\\n\"\"\")\n",
    "        for f in sh_files:\n",
    "            o.write(\"sbatch %s \\n\" % (f))  "
   ]
  },
  {
   "cell_type": "code",
   "execution_count": 416,
   "metadata": {},
   "outputs": [
    {
     "name": "stdout",
     "output_type": "stream",
     "text": [
      "/data/gpfs/assoc/denovo/tfaske/sagebrush/denovo/SNPcall/gatk\n"
     ]
    }
   ],
   "source": [
    "cd $gatk_dir"
   ]
  },
  {
   "cell_type": "code",
   "execution_count": 417,
   "metadata": {},
   "outputs": [],
   "source": [
    "write_bash_rb_sh(shrb_files)"
   ]
  },
  {
   "cell_type": "markdown",
   "metadata": {},
   "source": [
    "## consider CombineGVCFs instead\n",
    "\n",
    "GenomicsDBimport is better but a nightmare\n",
    "\n",
    "https://gatk.broadinstitute.org/hc/en-us/articles/360037053272-CombineGVCFs\n",
    "\n",
    " gatk CombineGVCFs \\\n",
    "   -R reference.fasta \\\n",
    "   --variant sample1.g.vcf.gz \\\n",
    "   --variant sample2.g.vcf.gz \\\n",
    "   -O cohort.g.vcf.gz"
   ]
  },
  {
   "cell_type": "code",
   "execution_count": null,
   "metadata": {},
   "outputs": [],
   "source": [
    "cd $gatk_dir"
   ]
  },
  {
   "cell_type": "code",
   "execution_count": 424,
   "metadata": {},
   "outputs": [],
   "source": [
    "!mkdir cohort"
   ]
  },
  {
   "cell_type": "code",
   "execution_count": 435,
   "metadata": {},
   "outputs": [],
   "source": [
    "vcfs = !ls reblock/*rb.g.vcf.gz | grep -v tbi | grep -v sorted\n",
    "vcfs = [os.path.abspath(x) for x in vcfs]"
   ]
  },
  {
   "cell_type": "code",
   "execution_count": 436,
   "metadata": {},
   "outputs": [
    {
     "data": {
      "text/plain": [
       "(695,\n",
       " '/data/gpfs/assoc/denovo/tfaske/sagebrush/denovo/SNPcall/gatk/reblock/AT2_BB_10.rb.g.vcf.gz')"
      ]
     },
     "execution_count": 436,
     "metadata": {},
     "output_type": "execute_result"
    }
   ],
   "source": [
    "len(vcfs),vcfs[0]"
   ]
  },
  {
   "cell_type": "code",
   "execution_count": 445,
   "metadata": {},
   "outputs": [],
   "source": [
    "with open(\"cohort/vcf.list\", \"w\") as o:\n",
    "    for vcf in vcfs:\n",
    "        o.write(\"%s\\n\" % (vcf))"
   ]
  },
  {
   "cell_type": "code",
   "execution_count": 454,
   "metadata": {},
   "outputs": [],
   "source": [
    "### select options for slurm submission\n",
    "account = 'cpu-s5-denovo-0'\n",
    "partition = 'cpu-core-0'\n",
    "#account = 'cpu-s1-bionres-0'\n",
    "#partition = 'cpu-s1-bionres-0'\n",
    "jobname = 'gatk'\n",
    "time = '2-00:00:00' #time limit 1 day\n",
    "cpus = 1\n",
    "mem_cpu = 80000\n",
    "email = 'tfaske@nevada.unr.edu'"
   ]
  },
  {
   "cell_type": "code",
   "execution_count": 460,
   "metadata": {},
   "outputs": [],
   "source": [
    "def write_combine_sh(account,partition,time,jobname,cpus,mem_cpu,email,bam_ID,gatk,gatk_dir,assembly):\n",
    "    with open(\"run_combineGVCF.sh\", \"w\") as o:\n",
    "        o.write(\"\"\"#!/usr/bin/env bash\n",
    "#SBATCH --account=%s\n",
    "#SBATCH --partition=%s\n",
    "#SBATCH --time=%s\n",
    "#SBATCH --ntasks 1\n",
    "#SBATCH --cpus-per-task %d\n",
    "#SBATCH --mem-per-cpu=%d\n",
    "#SBATCH --job-name combineGVCF\n",
    "#SBATCH --output cohort/output_combineGVCF.txt\n",
    "#SBATCH --mail-type=FAIL\n",
    "#SBATCH --mail-user=%s \\n\n",
    "\n",
    "cd %s\\n\n",
    "    \n",
    "%s --java-options \"-Xmx80g\" CombineGVCFs -R %s -V cohort/vcf.list -O cohort/cohort.rb.g.vcf.gz \\n\n",
    "\"\"\" % (account,partition,time,int(cpus),int(mem_cpu),email,gatk_dir,gatk,assembly))\n",
    "            "
   ]
  },
  {
   "cell_type": "code",
   "execution_count": 461,
   "metadata": {},
   "outputs": [],
   "source": [
    "write_combine_sh(account,partition,time,jobname,cpus,mem_cpu,email,bam_ID,gatk,gatk_dir,assembly)"
   ]
  },
  {
   "cell_type": "markdown",
   "metadata": {},
   "source": [
    "### GenomicsDBimport \n",
    "\n",
    "    gatk --java-options \"-Xmx4g -Xms4g\" \\\n",
    "       GenomicsDBImport \\\n",
    "       --genomicsdb-workspace-path my_database \\\n",
    "       --batch-size 50 \\\n",
    "       --sample-name-map cohort.sample_map \\\n",
    "       --tmp-dir=/path/to/large/tmp \\\n",
    "       --reader-threads 2\n",
    "       -L interval.list\n",
    "       \n",
    "   **sample map**  \n",
    "     sample1      sample1.vcf.gz  \n",
    "     sample2      sample2.vcf.gz  \n",
    "     sample3      sample3.vcf.gz  \n",
    "     \n",
    "   **interval list**\n",
    "   -L intervals.list  \n",
    "   *chr* \\n  \n",
    "    \n",
    "   **this step takes forever.**  \n",
    "   make 100 interval lists to submit 100 jobs. \n",
    "   \n",
    "   **check this out for file issues**   \n",
    "   https://gatk.broadinstitute.org/hc/en-us/articles/360056138571-GenomicsDBImport-usage-and-performance-guidelines\n",
    "   \n",
    "    As of this writing, an upcoming GATK release will include a feature that will substantially boost the niche case where users have many small contigs (>100, although there are cases with over 500k). In this case, the --merge-input-intervals flag will not help, and so we suggest using the --merge-contigs-into-num-partitions and setting it to something less than 100.\n",
    "    \n",
    "    --bypass-feature-reader \n",
    "    \n",
    "      Use the consolidate flag if more than a hundred batches were used. This will improve\n",
    "                              feature read time."
   ]
  },
  {
   "cell_type": "code",
   "execution_count": 290,
   "metadata": {},
   "outputs": [
    {
     "name": "stdout",
     "output_type": "stream",
     "text": [
      "/data/gpfs/assoc/denovo/tfaske/sagebrush/denovo/SNPcall/gatk\n"
     ]
    }
   ],
   "source": [
    "cd $gatk_dir"
   ]
  },
  {
   "cell_type": "code",
   "execution_count": 172,
   "metadata": {},
   "outputs": [],
   "source": [
    "!mkdir db"
   ]
  },
  {
   "cell_type": "code",
   "execution_count": 214,
   "metadata": {},
   "outputs": [],
   "source": [
    "!mkdir db/shdir"
   ]
  },
  {
   "cell_type": "code",
   "execution_count": 177,
   "metadata": {},
   "outputs": [],
   "source": [
    "!mkdir intervals"
   ]
  },
  {
   "cell_type": "code",
   "execution_count": 291,
   "metadata": {},
   "outputs": [],
   "source": [
    "vcfs = !ls vcf/*g.vcf.gz | grep -v tbi | grep -v sorted\n",
    "vcfs = [os.path.abspath(x) for x in vcfs]"
   ]
  },
  {
   "cell_type": "code",
   "execution_count": 292,
   "metadata": {},
   "outputs": [
    {
     "data": {
      "text/plain": [
       "(695,\n",
       " '/data/gpfs/assoc/denovo/tfaske/sagebrush/denovo/SNPcall/gatk/vcf/AT2_BB_10.g.vcf.gz')"
      ]
     },
     "execution_count": 292,
     "metadata": {},
     "output_type": "execute_result"
    }
   ],
   "source": [
    "len(vcfs),vcfs[0]"
   ]
  },
  {
   "cell_type": "markdown",
   "metadata": {},
   "source": [
    "**get pos file to make interval list**\n",
    "\n",
    "zgrep \"^[^#]\" file.vcf.gz | awk '{print $2}'"
   ]
  },
  {
   "cell_type": "code",
   "execution_count": 185,
   "metadata": {},
   "outputs": [],
   "source": [
    "f = vcfs[0]\n",
    "environ['f'] = f\n",
    "interval = !zgrep \"^[^#]\" $f | awk '{print $1}'"
   ]
  },
  {
   "cell_type": "code",
   "execution_count": 190,
   "metadata": {},
   "outputs": [],
   "source": [
    "interval_list = [x for x in interval]"
   ]
  },
  {
   "cell_type": "code",
   "execution_count": 194,
   "metadata": {},
   "outputs": [
    {
     "data": {
      "text/plain": [
       "(61970,\n",
       " ['dDocent_Contig_310150',\n",
       "  'dDocent_Contig_417022',\n",
       "  'dDocent_Contig_56801',\n",
       "  'dDocent_Contig_422794',\n",
       "  'dDocent_Contig_348667',\n",
       "  'dDocent_Contig_408708',\n",
       "  'dDocent_Contig_114747',\n",
       "  'dDocent_Contig_229525',\n",
       "  'dDocent_Contig_273633',\n",
       "  'dDocent_Contig_296567'])"
      ]
     },
     "execution_count": 194,
     "metadata": {},
     "output_type": "execute_result"
    }
   ],
   "source": [
    "interval_list = list(set(interval_list))\n",
    "len(interval_list),interval_list[:10]"
   ]
  },
  {
   "cell_type": "code",
   "execution_count": 196,
   "metadata": {},
   "outputs": [],
   "source": [
    "with open(\"intervals/interval_all.txt\", \"w\") as o:\n",
    "    for i in interval_list:\n",
    "        o.write(\"%s\\n\" % (i))"
   ]
  },
  {
   "cell_type": "code",
   "execution_count": 273,
   "metadata": {},
   "outputs": [
    {
     "name": "stdout",
     "output_type": "stream",
     "text": [
      "61970 625\n"
     ]
    }
   ],
   "source": [
    "def create_split_intervals(nodes, interval):\n",
    "    lines = 0\n",
    "    for line in open(interval):\n",
    "        lines += 1\n",
    "    print(lines, lines//nodes)\n",
    "    per_interval = lines//nodes\n",
    "    cmd = \"split -a 3 -d -l %d %s intervals/interval.\" % (per_interval, interval)\n",
    "    !$cmd\n",
    "    #call(cmd.split())\n",
    "create_split_intervals(99, \"intervals/interval_all.txt\") #nodes -1 "
   ]
  },
  {
   "cell_type": "code",
   "execution_count": 274,
   "metadata": {},
   "outputs": [],
   "source": [
    "intervals = !ls intervals/interval.*\n",
    "intervals = [os.path.abspath(x) for x in intervals]"
   ]
  },
  {
   "cell_type": "code",
   "execution_count": 275,
   "metadata": {},
   "outputs": [
    {
     "data": {
      "text/plain": [
       "(100,\n",
       " '/data/gpfs/assoc/denovo/tfaske/sagebrush/denovo/SNPcall/gatk/intervals/interval.000')"
      ]
     },
     "execution_count": 275,
     "metadata": {},
     "output_type": "execute_result"
    }
   ],
   "source": [
    "len(intervals),intervals[0]"
   ]
  },
  {
   "cell_type": "code",
   "execution_count": 276,
   "metadata": {},
   "outputs": [],
   "source": [
    "## rename intervals to end in .list\n",
    "for i in intervals:\n",
    "    new_int = i + '.list'\n",
    "    !mv $i $new_int"
   ]
  },
  {
   "cell_type": "code",
   "execution_count": 277,
   "metadata": {},
   "outputs": [],
   "source": [
    "def make_sample_maps(vcfs):\n",
    "    with open(\"vcf/sample_map.txt\", \"w\") as o:\n",
    "        for vcf in vcfs: \n",
    "            sample = vcf.split('/')[11].split('.g.vcf.gz')[0]\n",
    "            #print(sample)\n",
    "            o.write(\"%s\\t%s\\n\" % (sample,vcf))"
   ]
  },
  {
   "cell_type": "code",
   "execution_count": 278,
   "metadata": {},
   "outputs": [],
   "source": [
    "make_sample_maps(vcfs)"
   ]
  },
  {
   "cell_type": "code",
   "execution_count": 279,
   "metadata": {},
   "outputs": [],
   "source": [
    "def run_gen_db(args):\n",
    "    gatk,inter = args\n",
    "    cmd = r'%s --java-options \"-Xmx16g -Xms16g\" GenomicsDBImport --genomicsdb-workspace-path db/gen_db.%s --batch-size 20 --sample-name-map vcf/sample_map.txt -L intervals/interval.%s.list --tmp-dir db/tmp.%s --reader-threads 2' % (gatk,inter,inter,inter)\n",
    "    return  cmd "
   ]
  },
  {
   "cell_type": "code",
   "execution_count": 280,
   "metadata": {},
   "outputs": [],
   "source": [
    "db_cmds = []\n",
    "for inter in intervals: \n",
    "    i = inter.split('.')[1]\n",
    "    #print(i)\n",
    "    db_cmds.append(run_gen_db((gatk,i)))"
   ]
  },
  {
   "cell_type": "code",
   "execution_count": 281,
   "metadata": {},
   "outputs": [
    {
     "data": {
      "text/plain": [
       "(100,\n",
       " '/data/gpfs/assoc/parchmanlab/tfaske/src/gatk4/gatk --java-options \"-Xmx16g -Xms16g\" GenomicsDBImport --genomicsdb-workspace-path db/gen_db.000 --batch-size 20 --sample-name-map vcf/sample_map.txt -L intervals/interval.000.list --tmp-dir db/tmp.000 --reader-threads 2')"
      ]
     },
     "execution_count": 281,
     "metadata": {},
     "output_type": "execute_result"
    }
   ],
   "source": [
    "len(db_cmds),db_cmds[0]"
   ]
  },
  {
   "cell_type": "markdown",
   "metadata": {},
   "source": [
    "**make db/tmp.XXX dir**"
   ]
  },
  {
   "cell_type": "code",
   "execution_count": 302,
   "metadata": {},
   "outputs": [],
   "source": [
    "for inter in intervals: \n",
    "    i = inter.split('.')[1]\n",
    "    tmp_dir = 'db/tmp.' + i\n",
    "    !mkdir $tmp_dir"
   ]
  },
  {
   "cell_type": "code",
   "execution_count": 303,
   "metadata": {},
   "outputs": [],
   "source": [
    "### select options for slurm submission\n",
    "account = 'cpu-s5-denovo-0'\n",
    "partition = 'cpu-core-0'\n",
    "#account = 'cpu-s1-bionres-0'\n",
    "#partition = 'cpu-s1-bionres-0'\n",
    "jobname = 'gatk'\n",
    "time = '1-00:00:00' #time limit 1 day\n",
    "cpus = 1\n",
    "mem_cpu = 16000\n",
    "email = 'tfaske@nevada.unr.edu'"
   ]
  },
  {
   "cell_type": "code",
   "execution_count": 304,
   "metadata": {},
   "outputs": [],
   "source": [
    "def write_GenomicsDB_sh(account,partition,time,jobname,cpus,mem_cpu,email,gatk_dir,cmds,intervals):\n",
    "    for i in range(0,len(cmds)):\n",
    "        inter = intervals[i].split('.')[1]\n",
    "        with open(\"db/shdir/run_db_%s.sh\" % (inter), \"w\") as o:\n",
    "            o.write(\"\"\"#!/usr/bin/env bash\n",
    "#SBATCH --account=%s\n",
    "#SBATCH --partition=%s\n",
    "#SBATCH --time=%s\n",
    "#SBATCH --ntasks 1\n",
    "#SBATCH --cpus-per-task %d\n",
    "#SBATCH --mem-per-cpu=%d\n",
    "#SBATCH --job-name db_%s\n",
    "#SBATCH --output db/shdir/output_db_%s.txt\n",
    "#SBATCH --mail-type=FAIL\n",
    "#SBATCH --mail-user=%s \\n\n",
    "\n",
    "cd %s\\n\n",
    "    \n",
    "%s\\n\"\"\" % (account,partition,time,int(cpus),int(mem_cpu),inter,inter,email,gatk_dir,cmds[i]))\n",
    "            "
   ]
  },
  {
   "cell_type": "code",
   "execution_count": 305,
   "metadata": {},
   "outputs": [],
   "source": [
    "write_GenomicsDB_sh(account,partition,time,jobname,cpus,mem_cpu,email,gatk_dir,db_cmds,intervals)"
   ]
  },
  {
   "cell_type": "markdown",
   "metadata": {},
   "source": [
    "**finds all db slurm scripts and writes bash script to sbatch them**"
   ]
  },
  {
   "cell_type": "code",
   "execution_count": 306,
   "metadata": {},
   "outputs": [],
   "source": [
    "shdb_files = []\n",
    "os.chdir('{}/{}'.format(gatk_dir, 'db/shdir'))\n",
    "files = !find . -name '*.sh'\n",
    "files = [os.path.abspath(x) for x in files]\n",
    "for x in files:\n",
    "        shdb_files.append(x)\n",
    "shdb_files = sorted(shdb_files)"
   ]
  },
  {
   "cell_type": "code",
   "execution_count": 307,
   "metadata": {},
   "outputs": [
    {
     "data": {
      "text/plain": [
       "(100,\n",
       " '/data/gpfs/assoc/denovo/tfaske/sagebrush/denovo/SNPcall/gatk/db/shdir/run_db_000.sh')"
      ]
     },
     "execution_count": 307,
     "metadata": {},
     "output_type": "execute_result"
    }
   ],
   "source": [
    "len(shdb_files),shdb_files[0]"
   ]
  },
  {
   "cell_type": "code",
   "execution_count": 308,
   "metadata": {},
   "outputs": [],
   "source": [
    "def write_bash_db_sh(sh_files):\n",
    "    with open(\"run_bash_db.sh\", \"w\") as o:\n",
    "        o.write(\"\"\"#!/usr/bin/env bash \\n\\n\"\"\")\n",
    "        for f in sh_files:\n",
    "            o.write(\"sbatch %s \\n\" % (f))  "
   ]
  },
  {
   "cell_type": "code",
   "execution_count": 309,
   "metadata": {},
   "outputs": [
    {
     "name": "stdout",
     "output_type": "stream",
     "text": [
      "/data/gpfs/assoc/denovo/tfaske/sagebrush/denovo/SNPcall/gatk\n"
     ]
    }
   ],
   "source": [
    "cd $gatk_dir"
   ]
  },
  {
   "cell_type": "code",
   "execution_count": 310,
   "metadata": {},
   "outputs": [],
   "source": [
    "write_bash_db_sh(shdb_files)"
   ]
  },
  {
   "cell_type": "markdown",
   "metadata": {},
   "source": [
    "**failed and need to rerun** \n",
    "\n",
    "69, 67, 65, 68, 66, 19, 17, 18, 15, 16 "
   ]
  },
  {
   "cell_type": "markdown",
   "metadata": {},
   "source": [
    "#### Run run_bash_fb_sh locally\n",
    "    cd /data/gpfs/assoc/denovo/tfaske/sagebrush/denovo/SNPcall/gatk\n",
    "    source activate py36\n",
    "    bash run_bash_db.sh"
   ]
  },
  {
   "cell_type": "markdown",
   "metadata": {},
   "source": [
    "### Genotype \n",
    "\n",
    " gatk --java-options \"-Xmx16g\" GenotypeGVCFs \\\n",
    "   -R Homo_sapiens_assembly38.fasta \\\n",
    "   -V gendb://my_database \\\n",
    "   -O output.vcf.gz\n",
    "   \n",
    "   **need to genotype each interval** "
   ]
  },
  {
   "cell_type": "code",
   "execution_count": 319,
   "metadata": {},
   "outputs": [
    {
     "name": "stdout",
     "output_type": "stream",
     "text": [
      "/data/gpfs/assoc/denovo/tfaske/sagebrush/denovo/SNPcall/gatk\n"
     ]
    }
   ],
   "source": [
    "cd $gatk_dir"
   ]
  },
  {
   "cell_type": "code",
   "execution_count": 311,
   "metadata": {},
   "outputs": [],
   "source": [
    "!mkdir genotype"
   ]
  },
  {
   "cell_type": "code",
   "execution_count": 312,
   "metadata": {},
   "outputs": [],
   "source": [
    "!mkdir genotype/shdir"
   ]
  },
  {
   "cell_type": "code",
   "execution_count": 328,
   "metadata": {},
   "outputs": [],
   "source": [
    "#find gen_db\n",
    "gen_db_files = !find ./db -type d -name gen_db.*\n",
    "gen_db_files = [os.path.abspath(x) for x in gen_db_files]"
   ]
  },
  {
   "cell_type": "code",
   "execution_count": 330,
   "metadata": {},
   "outputs": [
    {
     "data": {
      "text/plain": [
       "(98,\n",
       " '/data/gpfs/assoc/denovo/tfaske/sagebrush/denovo/SNPcall/gatk/db/gen_db.099')"
      ]
     },
     "execution_count": 330,
     "metadata": {},
     "output_type": "execute_result"
    }
   ],
   "source": [
    "len(gen_db_files),gen_db_files[0]"
   ]
  },
  {
   "cell_type": "code",
   "execution_count": 334,
   "metadata": {},
   "outputs": [],
   "source": [
    "def run_gt(args):\n",
    "    gatk,assembly,db,inter = args\n",
    "    cmd = r'%s --java-options \"-Xmx16g\" GenotypeGVCFs -R %s -V gendb://%s -O genotype/gatk.%s.vcf.gz' % (gatk,assembly,db,inter)\n",
    "    return  cmd "
   ]
  },
  {
   "cell_type": "code",
   "execution_count": 335,
   "metadata": {},
   "outputs": [],
   "source": [
    "gt_cmds = []\n",
    "for db in gen_db_files: \n",
    "    inter = db.split('.')[1]\n",
    "    #print(i)\n",
    "    gt_cmds.append(run_gt((gatk,assembly,db,inter)))"
   ]
  },
  {
   "cell_type": "code",
   "execution_count": 336,
   "metadata": {},
   "outputs": [
    {
     "data": {
      "text/plain": [
       "(98,\n",
       " '/data/gpfs/assoc/parchmanlab/tfaske/src/gatk4/gatk --java-options \"-Xmx16g\" GenotypeGVCFs -R /data/gpfs/assoc/denovo/tfaske/sagebrush/denovo/assembly/reference.fasta -V gendb:///data/gpfs/assoc/denovo/tfaske/sagebrush/denovo/SNPcall/gatk/db/gen_db.091 -O genotype/gatk.091.vcf.gz')"
      ]
     },
     "execution_count": 336,
     "metadata": {},
     "output_type": "execute_result"
    }
   ],
   "source": [
    "len(gt_cmds),gt_cmds[1]"
   ]
  },
  {
   "cell_type": "code",
   "execution_count": 360,
   "metadata": {},
   "outputs": [],
   "source": [
    "### select options for slurm submission\n",
    "account = 'cpu-s5-denovo-0'\n",
    "partition = 'cpu-core-0'\n",
    "#account = 'cpu-s1-bionres-0'\n",
    "#partition = 'cpu-s1-bionres-0'\n",
    "jobname = 'gatk'\n",
    "time = '1-00:00:00' #time limit 1 day\n",
    "cpus = 1\n",
    "mem_cpu = 16000\n",
    "email = 'tfaske@nevada.unr.edu'"
   ]
  },
  {
   "cell_type": "code",
   "execution_count": 361,
   "metadata": {},
   "outputs": [],
   "source": [
    "def write_gt_sh(account,partition,time,jobname,cpus,mem_cpu,email,gatk_dir,cmds,files):\n",
    "    for i in range(0,len(cmds)):\n",
    "        inter = files[i].split('.')[1]\n",
    "        with open(\"genotype/shdir/run_gt_%s.sh\" % (inter), \"w\") as o:\n",
    "            o.write(\"\"\"#!/usr/bin/env bash\n",
    "#SBATCH --account=%s\n",
    "#SBATCH --partition=%s\n",
    "#SBATCH --time=%s\n",
    "#SBATCH --ntasks 1\n",
    "#SBATCH --cpus-per-task %d\n",
    "#SBATCH --mem-per-cpu=%d\n",
    "#SBATCH --job-name gt_%s\n",
    "#SBATCH --output genotype/shdir/output_gt_%s.txt\n",
    "#SBATCH --mail-type=FAIL\n",
    "#SBATCH --mail-user=%s \\n\n",
    "\n",
    "cd %s\\n\n",
    "    \n",
    "%s\\n\"\"\" % (account,partition,time,int(cpus),int(mem_cpu),inter,inter,email,gatk_dir,cmds[i]))\n",
    "            "
   ]
  },
  {
   "cell_type": "code",
   "execution_count": 362,
   "metadata": {},
   "outputs": [],
   "source": [
    "write_gt_sh(account,partition,time,jobname,cpus,mem_cpu,email,gatk_dir,gt_cmds,gen_db_files)"
   ]
  },
  {
   "cell_type": "markdown",
   "metadata": {},
   "source": [
    "**finds all db slurm scripts and writes bash script to sbatch them**"
   ]
  },
  {
   "cell_type": "code",
   "execution_count": 345,
   "metadata": {},
   "outputs": [],
   "source": [
    "shgt_files = []\n",
    "os.chdir('{}/{}'.format(gatk_dir, 'genotype/shdir'))\n",
    "files = !find . -name '*.sh'\n",
    "files = [os.path.abspath(x) for x in files]\n",
    "for x in files:\n",
    "        shgt_files.append(x)\n",
    "shgt_files = sorted(shgt_files)"
   ]
  },
  {
   "cell_type": "code",
   "execution_count": 346,
   "metadata": {},
   "outputs": [
    {
     "data": {
      "text/plain": [
       "(98,\n",
       " '/data/gpfs/assoc/denovo/tfaske/sagebrush/denovo/SNPcall/gatk/genotype/shdir/run_gt_000.sh')"
      ]
     },
     "execution_count": 346,
     "metadata": {},
     "output_type": "execute_result"
    }
   ],
   "source": [
    "len(shgt_files),shgt_files[0]"
   ]
  },
  {
   "cell_type": "code",
   "execution_count": 347,
   "metadata": {},
   "outputs": [],
   "source": [
    "def write_bash_gt_sh(sh_files):\n",
    "    with open(\"run_bash_gt.sh\", \"w\") as o:\n",
    "        o.write(\"\"\"#!/usr/bin/env bash \\n\\n\"\"\")\n",
    "        for f in sh_files:\n",
    "            o.write(\"sbatch %s \\n\" % (f))  "
   ]
  },
  {
   "cell_type": "code",
   "execution_count": 348,
   "metadata": {},
   "outputs": [
    {
     "name": "stdout",
     "output_type": "stream",
     "text": [
      "/data/gpfs/assoc/denovo/tfaske/sagebrush/denovo/SNPcall/gatk\n"
     ]
    }
   ],
   "source": [
    "cd $gatk_dir"
   ]
  },
  {
   "cell_type": "code",
   "execution_count": 349,
   "metadata": {},
   "outputs": [],
   "source": [
    "write_bash_gt_sh(shgt_files)"
   ]
  },
  {
   "cell_type": "markdown",
   "metadata": {},
   "source": [
    "#### Run run_bash_gt_sh locally\n",
    "    cd /data/gpfs/assoc/denovo/tfaske/sagebrush/denovo/SNPcall/gatk\n",
    "    source activate py36\n",
    "    bash run_bash_gt.sh"
   ]
  },
  {
   "cell_type": "code",
   "execution_count": null,
   "metadata": {},
   "outputs": [],
   "source": []
  },
  {
   "cell_type": "code",
   "execution_count": null,
   "metadata": {},
   "outputs": [],
   "source": []
  },
  {
   "attachments": {},
   "cell_type": "markdown",
   "metadata": {},
   "source": [
    "**Keep only biallelic** \n",
    "\n",
    "SelectVariants -R -o -V --select-type-to-include SNP --restrict-alleles-to BIALLELIC\n",
    "\n",
    "*do this on keep first just to run entropy*"
   ]
  },
  {
   "cell_type": "code",
   "execution_count": 229,
   "metadata": {},
   "outputs": [],
   "source": [
    "keep_dir = '/data/gpfs/home/tfaske/d/sagebrush/denovo/SNPcall/gatk/keep'"
   ]
  },
  {
   "cell_type": "code",
   "execution_count": 230,
   "metadata": {},
   "outputs": [
    {
     "data": {
      "text/plain": [
       "'/data/gpfs/home/tfaske/d/sagebrush/denovo/SNPcall/gatk/keep/gatk.vcf.gz'"
      ]
     },
     "execution_count": 230,
     "metadata": {},
     "output_type": "execute_result"
    }
   ],
   "source": [
    "vcf_file = os.path.join(keep_dir,'gatk.vcf.gz')\n",
    "assert os.path.exists(vcf_file)\n",
    "vcf_file"
   ]
  },
  {
   "cell_type": "code",
   "execution_count": 231,
   "metadata": {},
   "outputs": [
    {
     "name": "stdout",
     "output_type": "stream",
     "text": [
      "/data/gpfs/assoc/denovo/tfaske/sagebrush/denovo/SNPcall/gatk/keep\n"
     ]
    }
   ],
   "source": [
    "cd $keep_dir"
   ]
  },
  {
   "cell_type": "code",
   "execution_count": 235,
   "metadata": {},
   "outputs": [],
   "source": [
    "### select options for slurm submission\n",
    "account = 'cpu-s5-denovo-0'\n",
    "partition = 'cpu-core-0'\n",
    "#account = 'cpu-s1-bionres-0'\n",
    "#partition = 'cpu-s1-bionres-0'\n",
    "jobname = 'gatk'\n",
    "time = '1-00:00:00' #time limit 1 day\n",
    "cpus = 1\n",
    "mem_cpu = 16000\n",
    "email = 'tfaske@nevada.unr.edu'"
   ]
  },
  {
   "cell_type": "code",
   "execution_count": 238,
   "metadata": {},
   "outputs": [],
   "source": [
    "def write_SelectVariants_sh(account,partition,time,jobname,cpus,mem_cpu,email,gatk_dir,gatk,assembly,vcf_file):\n",
    "    with open(\"run_SelectVariants.sh\", \"w\") as o:\n",
    "        o.write(\"\"\"#!/usr/bin/env bash\n",
    "#SBATCH --account=%s\n",
    "#SBATCH --partition=%s\n",
    "#SBATCH --time=%s\n",
    "#SBATCH --ntasks 1\n",
    "#SBATCH --cpus-per-task %d\n",
    "#SBATCH --mem-per-cpu=%d\n",
    "#SBATCH --job-name SelectVariants\n",
    "#SBATCH --output output_SelectVariants.txt\n",
    "#SBATCH --mail-type=FAIL\n",
    "#SBATCH --mail-user=%s \\n\n",
    "\n",
    "cd %s\\n\n",
    "    \n",
    "%s --java-options \"-Xmx16g\" SelectVariants -R %s -V %s --select-type-to-include SNP --restrict-alleles-to BIALLELIC -O gatk.biallelic.vcf \\n\n",
    "\"\"\" % (account,partition,time,int(cpus),int(mem_cpu),email,gatk_dir,gatk,assembly,vcf_file))\n",
    "            "
   ]
  },
  {
   "cell_type": "code",
   "execution_count": 239,
   "metadata": {},
   "outputs": [],
   "source": [
    "write_SelectVariants_sh(account,partition,time,jobname,cpus,mem_cpu,email,keep_dir,gatk,assembly,vcf_file)"
   ]
  },
  {
   "cell_type": "code",
   "execution_count": null,
   "metadata": {},
   "outputs": [],
   "source": []
  }
 ],
 "metadata": {
  "kernelspec": {
   "display_name": "Python 3",
   "language": "python",
   "name": "python3"
  },
  "language_info": {
   "codemirror_mode": {
    "name": "ipython",
    "version": 3
   },
   "file_extension": ".py",
   "mimetype": "text/x-python",
   "name": "python",
   "nbconvert_exporter": "python",
   "pygments_lexer": "ipython3",
   "version": "3.6.7"
  }
 },
 "nbformat": 4,
 "nbformat_minor": 4
}
