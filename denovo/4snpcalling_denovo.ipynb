{
 "cells": [
  {
   "cell_type": "markdown",
   "metadata": {},
   "source": [
    "# Installing GATK + notes\n",
    "    This page will be a reference for installation, different tutorials and how to call polyploids"
   ]
  },
  {
   "cell_type": "markdown",
   "metadata": {},
   "source": [
    "  #### Get GATK jar and .yml files here:\n",
    "  https://github.com/broadinstitute/gatk/releases\n",
    "  \n",
    "  wget .zip file to a src directory, unzip, run conda install below in that direcoty\n",
    "  \n",
    "  #### directions for conda install here:\n",
    "  https://gatk.broadinstitute.org/hc/en-us/articles/360035889851--How-to-Install-and-use-Conda-for-GATK4\n",
    "  \n",
    "  #### vivaswat notes\n",
    "  https://microcollaborative.atlassian.net/wiki/spaces/BL/pages/73957377/Bioinformatics+for+polyploids\n",
    "  \n",
    "  #### monnahan et al 2019   \n",
    "  \n",
    "  https://github.com/pmonnahan/ArenosaPloidy\n",
    "\n",
    "  \n",
    "  \n",
    "  #### IDEA: \n",
    "  \n",
    "  - call snps with GATK haplotype caller. \n",
    "  - run one per sample with correct ploidy into gvcf\n",
    "  - then use GenotypeGVCF to call snps across all gvcfs, no need to tell ploidy.  \n",
    "  "
   ]
  },
  {
   "cell_type": "code",
   "execution_count": 257,
   "metadata": {},
   "outputs": [],
   "source": [
    "import sys\n",
    "\n",
    "#sys.path.append('/home/faske/g/anaconda3/envs/py34/lib/python3.4/site-packages')\n",
    "sys.path.append('/data/gpfs/assoc/parchmanlab/tfaske/anaconda3/envs/py36/lib/python3.6/site-packages')\n",
    "sys.path.append(\"/data/gpfs/assoc/parchmanlab/tfaske/ipynb/include_utils\")\n",
    "\n",
    "import ipyparallel as ipp\n",
    "import os, time\n",
    "from os import environ\n",
    "import include_utils as u\n",
    "import pandas as pd\n",
    "import numpy as np\n",
    "import scipy as sp\n",
    "import numbers\n",
    "import matplotlib.pyplot as plt\n",
    "import matplotlib.patches as mpatches\n",
    "import matplotlib.cm as cm\n",
    "import matplotlib.colors as mcolors\n",
    "#import vcf\n",
    "from sklearn import preprocessing\n",
    "from subprocess import Popen, PIPE, call, check_output\n",
    "import seaborn as sns\n",
    "from IPython.display import FileLink\n",
    "import urllib.request as urllib2\n",
    "import dill\n",
    "import traceback\n",
    "from pandas import Series, DataFrame\n",
    "import gzip\n",
    "import warnings\n",
    "warnings.filterwarnings('ignore',category=pd.io.pytables.PerformanceWarning)\n",
    "%config InlineBackend.figure_format = 'retina'\n",
    "from Bio import SeqIO\n",
    "#import pysam\n",
    "from collections import OrderedDict, namedtuple, Counter\n",
    "import operator\n",
    "import multiprocessing as mp\n",
    "import shutil\n",
    "import tempfile\n",
    "#from ipyparallel import Client\n",
    "import scandir\n",
    "import glob\n",
    "from Bio.SeqIO.QualityIO import FastqGeneralIterator\n",
    "import pickle\n",
    "import re\n",
    "from itertools import chain\n",
    "import socket\n",
    "import random\n",
    "#import Levenshtein as lv"
   ]
  },
  {
   "cell_type": "code",
   "execution_count": 2,
   "metadata": {},
   "outputs": [],
   "source": [
    "root = \"/data/gpfs/assoc/denovo/tfaske/sagebrush/denovo\""
   ]
  },
  {
   "cell_type": "code",
   "execution_count": 3,
   "metadata": {},
   "outputs": [],
   "source": [
    "snp_dir = os.path.join(root,'SNPcall')"
   ]
  },
  {
   "cell_type": "code",
   "execution_count": 4,
   "metadata": {
    "ExecuteTime": {}
   },
   "outputs": [],
   "source": [
    "bam_dir = os.path.join(snp_dir,'good_bams')"
   ]
  },
  {
   "cell_type": "code",
   "execution_count": 5,
   "metadata": {},
   "outputs": [
    {
     "name": "stdout",
     "output_type": "stream",
     "text": [
      "/data/gpfs/assoc/denovo/tfaske/sagebrush/denovo/SNPcall/good_bams\n"
     ]
    }
   ],
   "source": [
    "cd $bam_dir"
   ]
  },
  {
   "cell_type": "code",
   "execution_count": 6,
   "metadata": {
    "ExecuteTime": {}
   },
   "outputs": [],
   "source": [
    "bam_files = []\n",
    "files = !find . -type f -name '*sorted.bam'\n",
    "files = [os.path.abspath(x) for x in files if 'bam' in x]\n",
    "for x in files:\n",
    "    bam_files.append(x)\n",
    "bam_files = sorted(bam_files)"
   ]
  },
  {
   "cell_type": "code",
   "execution_count": 7,
   "metadata": {
    "ExecuteTime": {}
   },
   "outputs": [
    {
     "data": {
      "text/plain": [
       "(695,\n",
       " '/data/gpfs/assoc/denovo/tfaske/sagebrush/denovo/SNPcall/good_bams/AT2_BB_10_sorted.bam')"
      ]
     },
     "execution_count": 7,
     "metadata": {},
     "output_type": "execute_result"
    }
   ],
   "source": [
    "len(bam_files), bam_files[0]"
   ]
  },
  {
   "cell_type": "code",
   "execution_count": 26,
   "metadata": {
    "ExecuteTime": {}
   },
   "outputs": [],
   "source": [
    "assembly = \"/data/gpfs/assoc/denovo/tfaske/sagebrush/denovo/assembly/reference.fasta\"\n",
    "\n",
    "#assembly indexed with dDocent"
   ]
  },
  {
   "cell_type": "code",
   "execution_count": 75,
   "metadata": {
    "scrolled": true
   },
   "outputs": [
    {
     "name": "stdout",
     "output_type": "stream",
     "text": [
      "samtools index: \"/data/gpfs/assoc/denovo/tfaske/sagebrush/denovo/assembly/reference.fasta\" is in a format that cannot be usefully indexed\r\n"
     ]
    }
   ],
   "source": [
    "!samtools index {assembly}"
   ]
  },
  {
   "cell_type": "markdown",
   "metadata": {},
   "source": [
    "## SNP CALL with freebayes TEST\n",
    "\n",
    "call from dDocent: freebayes -b split.1.bam -t mapped.1.bed -v raw.1.vcf -f reference.fasta -m 5 -q 5 -E 3 --min-repeat-entropy 1 -V --populations popmap -n 10 2> fb.1.error.log\n",
    "\n",
    "**settings to consider**:\n",
    "  - -L --bam-list FILE A file containing a list of BAM files to be analyzed.\n",
    "  - -A --cnv-map FILE\n",
    "                   Read a copy number map from the BED file FILE, which has\n",
    "                   the format:\n",
    "                      reference sequence, start, end, sample name, copy number\n",
    "        ex: \n",
    "        chrX -1 -1 NA12878 2  # means NA12878 has copy number 2 in all of chrX\n",
    "        chrX -1 -1 NA12879 1  # ... copy number 1\n",
    "        chrX -1 -1 NA13469 2\n",
    "        chrX -1 -1 NA21328 2\n",
    "        chrX -1 -1 NA12970 2\n",
    "        chrY -1 -1 NA12877 1\n",
    "        chrX -1 -1 NA12877 1\n",
    "        chr20 20000 30000 NA12877 1   # NA12877 has one copy of chr20:20000..30000\n",
    "        chr20 20000 30000 NA12879 3   # NA12879 has four copies of chr20:20000..30000\n",
    "\n",
    "Do a test: move ~15 files to a test_dir\n"
   ]
  },
  {
   "cell_type": "code",
   "execution_count": 9,
   "metadata": {},
   "outputs": [],
   "source": [
    "test_dir = os.path.join(snp_dir,'test')\n",
    "testbwa_dir = os.path.join(test_dir,'good_bams')"
   ]
  },
  {
   "cell_type": "code",
   "execution_count": 10,
   "metadata": {},
   "outputs": [
    {
     "name": "stdout",
     "output_type": "stream",
     "text": [
      "/data/gpfs/assoc/denovo/tfaske/sagebrush/denovo/SNPcall/test/good_bams\n"
     ]
    }
   ],
   "source": [
    "cd $testbwa_dir"
   ]
  },
  {
   "cell_type": "code",
   "execution_count": 11,
   "metadata": {},
   "outputs": [],
   "source": [
    "bam_files = []\n",
    "files = !find . -type f -name '*sorted.bam'\n",
    "files = [os.path.abspath(x) for x in files if 'bam' in x]\n",
    "for x in files:\n",
    "    bam_files.append(x)\n",
    "bam_files = sorted(bam_files)"
   ]
  },
  {
   "cell_type": "code",
   "execution_count": 12,
   "metadata": {},
   "outputs": [
    {
     "data": {
      "text/plain": [
       "(15,\n",
       " '/data/gpfs/assoc/denovo/tfaske/sagebrush/denovo/SNPcall/test/good_bams/AT2_EW_36_sorted.bam')"
      ]
     },
     "execution_count": 12,
     "metadata": {},
     "output_type": "execute_result"
    }
   ],
   "source": [
    "len(bam_files), bam_files[0]"
   ]
  },
  {
   "cell_type": "code",
   "execution_count": 13,
   "metadata": {},
   "outputs": [],
   "source": [
    "testfb_dir = os.path.join(test_dir,'fb')"
   ]
  },
  {
   "cell_type": "code",
   "execution_count": 38,
   "metadata": {},
   "outputs": [
    {
     "name": "stdout",
     "output_type": "stream",
     "text": [
      "/data/gpfs/assoc/denovo/tfaske/sagebrush/denovo/SNPcall/test\n"
     ]
    }
   ],
   "source": [
    "cd $test_dir"
   ]
  },
  {
   "cell_type": "markdown",
   "metadata": {},
   "source": [
    "**reindex all bamfiles**"
   ]
  },
  {
   "cell_type": "code",
   "execution_count": 50,
   "metadata": {},
   "outputs": [],
   "source": [
    "for b in bam_files:\n",
    "    environ['b'] = b\n",
    "    !samtools index $b"
   ]
  },
  {
   "cell_type": "markdown",
   "metadata": {},
   "source": [
    "**make a bam list file**"
   ]
  },
  {
   "cell_type": "code",
   "execution_count": 53,
   "metadata": {},
   "outputs": [],
   "source": [
    "def make_bam_list(bam_files):\n",
    "    with open(\"bam_files.txt\", \"w\") as o:\n",
    "        for b in bam_files:\n",
    "            #bam = b.split('/')[11] \n",
    "            #o.write(\"good_bams/%s \\n\" % (bam)) \n",
    "            o.write(\"%s \\n\" % (b)) "
   ]
  },
  {
   "cell_type": "code",
   "execution_count": 54,
   "metadata": {},
   "outputs": [],
   "source": [
    "make_bam_list(bam_files)"
   ]
  },
  {
   "cell_type": "markdown",
   "metadata": {},
   "source": [
    "**make ploidy_list.txt**  \n",
    "sample_name copy_number"
   ]
  },
  {
   "cell_type": "code",
   "execution_count": 84,
   "metadata": {},
   "outputs": [],
   "source": [
    "## loop through *.fai write out contig -1 -1 ID ploidy\n",
    "fai = pd.read_csv(assembly + '.fai',header=None,sep='\\t')"
   ]
  },
  {
   "cell_type": "code",
   "execution_count": 93,
   "metadata": {},
   "outputs": [
    {
     "data": {
      "text/plain": [
       "(61970,\n",
       " ['dDocent_Contig_6',\n",
       "  'dDocent_Contig_15',\n",
       "  'dDocent_Contig_18',\n",
       "  'dDocent_Contig_20',\n",
       "  'dDocent_Contig_23'])"
      ]
     },
     "execution_count": 93,
     "metadata": {},
     "output_type": "execute_result"
    }
   ],
   "source": [
    "contigs = fai.iloc[:,0].tolist()\n",
    "len(contigs),contigs[:5]"
   ]
  },
  {
   "cell_type": "code",
   "execution_count": 96,
   "metadata": {},
   "outputs": [],
   "source": [
    "## loop through *.fai write out contig -1 -1 ID ploidy\n",
    "def make_ploidy_list(bam_files):\n",
    "    with open(\"ploidy_list.txt\", \"w\") as o:\n",
    "        for c in contigs:\n",
    "            for b in bam_files:\n",
    "                bam = b.split('/')[11]\n",
    "                ID = bam.split('_sorted.bam')[0] ### This too\n",
    "                ploidy = ID.split('_')[0]\n",
    "                ploidy = re.sub(r'\\D','',ploidy)\n",
    "                #print(b)\n",
    "                #print(ploidy)\n",
    "                #o.write(\"good_bams/%s\\t%s\\n\" % (bam,ploidy)) \n",
    "                o.write(\"%s\\t-1\\t-1\\t%s\\t%s\\n\" % (c,ID,ploidy))"
   ]
  },
  {
   "cell_type": "code",
   "execution_count": 97,
   "metadata": {},
   "outputs": [],
   "source": [
    "make_ploidy_list(bam_files)"
   ]
  },
  {
   "cell_type": "code",
   "execution_count": 98,
   "metadata": {},
   "outputs": [
    {
     "data": {
      "text/plain": [
       "929550"
      ]
     },
     "execution_count": 98,
     "metadata": {},
     "output_type": "execute_result"
    }
   ],
   "source": [
    "#ploidy list should be contigs*bam\n",
    "len(contigs)*len(bam_files)"
   ]
  },
  {
   "cell_type": "code",
   "execution_count": 99,
   "metadata": {},
   "outputs": [
    {
     "name": "stdout",
     "output_type": "stream",
     "text": [
      "929550 ploidy_list.txt\r\n"
     ]
    }
   ],
   "source": [
    "!wc -l ploidy_list.txt"
   ]
  },
  {
   "cell_type": "markdown",
   "metadata": {},
   "source": [
    "**run freebayes_sh** "
   ]
  },
  {
   "cell_type": "code",
   "execution_count": 57,
   "metadata": {},
   "outputs": [],
   "source": [
    "### select options for slurm submission\n",
    "#account = 'cpu-s5-denovo-0'\n",
    "#partition = 'cpu-core-0'\n",
    "account = 'cpu-s1-bionres-0'\n",
    "partition = 'cpu-s1-bionres-0'\n",
    "jobname = 'fb_test'\n",
    "time = '1-00:00:00' #time limit 1 day\n",
    "cpus = 1\n",
    "mem_cpu = 80000\n",
    "email = 'tfaske@nevada.unr.edu'"
   ]
  },
  {
   "cell_type": "code",
   "execution_count": 100,
   "metadata": {},
   "outputs": [],
   "source": [
    "def write_fb_sh(account,partition,time,jobname,cpus,mem_cpu,email,assembly):\n",
    "    with open(\"run_fb_test.sh\", \"w\") as o:\n",
    "            o.write(\"\"\"#!/usr/bin/env bash\n",
    "#SBATCH --account=%s\n",
    "#SBATCH --partition=%s\n",
    "#SBATCH --time=%s\n",
    "#SBATCH --ntasks 1\n",
    "#SBATCH --cpus-per-task %d\n",
    "#SBATCH --mem-per-cpu=%d\n",
    "#SBATCH --job-name fb_test\n",
    "#SBATCH --output output_fb_test.txt\n",
    "#SBATCH --mail-type=FAIL,END\n",
    "#SBATCH --mail-user=%s \\n\n",
    "    \n",
    "freebayes -b good_bams/*.bam --cnv-map ploidy_list.txt -f %s -v fb_test.vcf -V\\n\n",
    "\"\"\" % (account,partition,time,int(cpus),int(mem_cpu),email,assembly))\n",
    "            "
   ]
  },
  {
   "cell_type": "code",
   "execution_count": 101,
   "metadata": {},
   "outputs": [],
   "source": [
    "write_fb_sh(account,partition,time,jobname,cpus,mem_cpu,email,assembly)"
   ]
  },
  {
   "cell_type": "markdown",
   "metadata": {},
   "source": [
    "### Run run_fb_test_sh locally\n",
    "    cd /data/gpfs/assoc/denovo/tfaske/sagebrush/SNPcall/test\n",
    "    source activate py36\n",
    "    bash run_fb_test.sh"
   ]
  },
  {
   "cell_type": "markdown",
   "metadata": {},
   "source": [
    "## SNP CALL with freebayes FORREAL\n",
    "\n",
    "call from dDocent: freebayes -b split.1.bam -t mapped.1.bed -v raw.1.vcf -f reference.fasta -m 5 -q 5 -E 3 --min-repeat-entropy 1 -V --populations popmap -n 10 2> fb.1.error.log\n",
    "\n",
    "**settings to consider**:\n",
    "  - -L --bam-list FILE A file containing a list of BAM files to be analyzed.\n",
    "  - -A --cnv-map FILE\n",
    "                   Read a copy number map from the BED file FILE, which has\n",
    "                   the format:\n",
    "                      reference sequence, start, end, sample name, copy number\n",
    "        ex: \n",
    "        chrX -1 -1 NA12878 2  # means NA12878 has copy number 2 in all of chrX\n",
    "        chrX -1 -1 NA12879 1  # ... copy number 1\n",
    "        chrX -1 -1 NA13469 2\n",
    "        chrX -1 -1 NA21328 2\n",
    "        chrX -1 -1 NA12970 2\n",
    "        chrY -1 -1 NA12877 1\n",
    "        chrX -1 -1 NA12877 1\n",
    "        chr20 20000 30000 NA12877 1   # NA12877 has one copy of chr20:20000..30000\n",
    "        chr20 20000 30000 NA12879 3   # NA12879 has four copies of chr20:20000..30000\n"
   ]
  },
  {
   "cell_type": "code",
   "execution_count": 102,
   "metadata": {},
   "outputs": [],
   "source": [
    "bwa_dir = os.path.join(snp_dir,'good_bams')"
   ]
  },
  {
   "cell_type": "code",
   "execution_count": 103,
   "metadata": {},
   "outputs": [
    {
     "name": "stdout",
     "output_type": "stream",
     "text": [
      "/data/gpfs/assoc/denovo/tfaske/sagebrush/denovo/SNPcall/good_bams\n"
     ]
    }
   ],
   "source": [
    "cd $bwa_dir"
   ]
  },
  {
   "cell_type": "code",
   "execution_count": 104,
   "metadata": {},
   "outputs": [],
   "source": [
    "bam_files = []\n",
    "files = !find . -type f -name '*sorted.bam'\n",
    "files = [os.path.abspath(x) for x in files if 'bam' in x]\n",
    "for x in files:\n",
    "    bam_files.append(x)\n",
    "bam_files = sorted(bam_files)"
   ]
  },
  {
   "cell_type": "code",
   "execution_count": 105,
   "metadata": {},
   "outputs": [
    {
     "data": {
      "text/plain": [
       "(695,\n",
       " '/data/gpfs/assoc/denovo/tfaske/sagebrush/denovo/SNPcall/good_bams/AT2_BB_10_sorted.bam')"
      ]
     },
     "execution_count": 105,
     "metadata": {},
     "output_type": "execute_result"
    }
   ],
   "source": [
    "len(bam_files), bam_files[0]"
   ]
  },
  {
   "cell_type": "code",
   "execution_count": 106,
   "metadata": {},
   "outputs": [
    {
     "name": "stdout",
     "output_type": "stream",
     "text": [
      "/data/gpfs/assoc/denovo/tfaske/sagebrush/denovo/SNPcall\n"
     ]
    }
   ],
   "source": [
    "cd $snp_dir"
   ]
  },
  {
   "cell_type": "markdown",
   "metadata": {},
   "source": [
    "**reindex all bamfiles**"
   ]
  },
  {
   "cell_type": "code",
   "execution_count": 107,
   "metadata": {},
   "outputs": [],
   "source": [
    "for b in bam_files:\n",
    "    environ['b'] = b\n",
    "    !samtools index $b"
   ]
  },
  {
   "cell_type": "markdown",
   "metadata": {},
   "source": [
    "**make a bam list file**"
   ]
  },
  {
   "cell_type": "code",
   "execution_count": 108,
   "metadata": {},
   "outputs": [],
   "source": [
    "def make_bam_list(bam_files):\n",
    "    with open(\"bam_files.txt\", \"w\") as o:\n",
    "        for b in bam_files:\n",
    "            #bam = b.split('/')[11] \n",
    "            #o.write(\"good_bams/%s \\n\" % (bam)) \n",
    "            o.write(\"%s \\n\" % (b)) "
   ]
  },
  {
   "cell_type": "code",
   "execution_count": 109,
   "metadata": {},
   "outputs": [],
   "source": [
    "make_bam_list(bam_files)"
   ]
  },
  {
   "cell_type": "markdown",
   "metadata": {},
   "source": [
    "**make ploidy_list.txt**  \n",
    "sample_name copy_number"
   ]
  },
  {
   "cell_type": "code",
   "execution_count": 110,
   "metadata": {},
   "outputs": [],
   "source": [
    "## loop through *.fai write out contig -1 -1 ID ploidy\n",
    "fai = pd.read_csv(assembly + '.fai',header=None,sep='\\t')"
   ]
  },
  {
   "cell_type": "code",
   "execution_count": 111,
   "metadata": {},
   "outputs": [
    {
     "data": {
      "text/plain": [
       "(61970,\n",
       " ['dDocent_Contig_6',\n",
       "  'dDocent_Contig_15',\n",
       "  'dDocent_Contig_18',\n",
       "  'dDocent_Contig_20',\n",
       "  'dDocent_Contig_23'])"
      ]
     },
     "execution_count": 111,
     "metadata": {},
     "output_type": "execute_result"
    }
   ],
   "source": [
    "contigs = fai.iloc[:,0].tolist()\n",
    "len(contigs),contigs[:5]"
   ]
  },
  {
   "cell_type": "code",
   "execution_count": 114,
   "metadata": {},
   "outputs": [],
   "source": [
    "## loop through *.fai write out contig -1 -1 ID ploidy\n",
    "def make_ploidy_list(bam_files):\n",
    "    with open(\"ploidy_list.txt\", \"w\") as o:\n",
    "        for c in contigs:\n",
    "            for b in bam_files:\n",
    "                bam = b.split('/')[10]\n",
    "                ID = bam.split('_sorted.bam')[0] ### This too\n",
    "                ploidy = ID.split('_')[0]\n",
    "                ploidy = re.sub(r'\\D','',ploidy)\n",
    "                #print(b)\n",
    "                #print(ploidy)\n",
    "                #o.write(\"good_bams/%s\\t%s\\n\" % (bam,ploidy)) \n",
    "                o.write(\"%s\\t-1\\t-1\\t%s\\t%s\\n\" % (c,ID,ploidy))"
   ]
  },
  {
   "cell_type": "code",
   "execution_count": 115,
   "metadata": {},
   "outputs": [],
   "source": [
    "make_ploidy_list(bam_files)"
   ]
  },
  {
   "cell_type": "code",
   "execution_count": 116,
   "metadata": {},
   "outputs": [
    {
     "data": {
      "text/plain": [
       "43069150"
      ]
     },
     "execution_count": 116,
     "metadata": {},
     "output_type": "execute_result"
    }
   ],
   "source": [
    "#ploidy list should be contigs*bam\n",
    "len(contigs)*len(bam_files)"
   ]
  },
  {
   "cell_type": "code",
   "execution_count": 117,
   "metadata": {},
   "outputs": [
    {
     "name": "stdout",
     "output_type": "stream",
     "text": [
      "43069150 ploidy_list.txt\r\n"
     ]
    }
   ],
   "source": [
    "!wc -l ploidy_list.txt"
   ]
  },
  {
   "cell_type": "markdown",
   "metadata": {},
   "source": [
    "**run freebayes_sh** "
   ]
  },
  {
   "cell_type": "code",
   "execution_count": 135,
   "metadata": {},
   "outputs": [],
   "source": [
    "### select options for slurm submission\n",
    "account = 'cpu-s5-denovo-0'\n",
    "partition = 'cpu-core-0'\n",
    "#account = 'cpu-s1-bionres-0'\n",
    "#partition = 'cpu-s1-bionres-0'\n",
    "jobname = 'fb_full'\n",
    "time = '3-00:00:00' #time limit 10 day\n",
    "cpus = 1\n",
    "mem_cpu = 100000\n",
    "email = 'tfaske@nevada.unr.edu'"
   ]
  },
  {
   "cell_type": "code",
   "execution_count": 136,
   "metadata": {},
   "outputs": [],
   "source": [
    "def write_fb_sh(account,partition,time,jobname,cpus,mem_cpu,email,assembly):\n",
    "    with open(\"run_fb_full.sh\", \"w\") as o:\n",
    "            o.write(\"\"\"#!/usr/bin/env bash\n",
    "#SBATCH --account=%s\n",
    "#SBATCH --partition=%s\n",
    "#SBATCH --time=%s\n",
    "#SBATCH --ntasks 1\n",
    "#SBATCH --cpus-per-task %d\n",
    "#SBATCH --mem-per-cpu=%d\n",
    "#SBATCH --job-name fb_full\n",
    "#SBATCH --output output_fb_full.txt\n",
    "#SBATCH --mail-type=FAIL,END\n",
    "#SBATCH --mail-user=%s \\n\n",
    "    \n",
    "freebayes -b good_bams/*.bam --cnv-map ploidy_list.txt -f %s -v fb_full.vcf -V -d -i -u \\n\n",
    "\"\"\" % (account,partition,time,int(cpus),int(mem_cpu),email,assembly))\n",
    "            "
   ]
  },
  {
   "cell_type": "code",
   "execution_count": 137,
   "metadata": {},
   "outputs": [],
   "source": [
    "write_fb_sh(account,partition,time,jobname,cpus,mem_cpu,email,assembly)"
   ]
  },
  {
   "cell_type": "markdown",
   "metadata": {},
   "source": [
    "### Run run_fb_sh locally\n",
    "    cd /data/gpfs/assoc/denovo/tfaske/sagebrush/SNPcall\n",
    "    source activate py36\n",
    "    bash run_fb_full.sh"
   ]
  },
  {
   "cell_type": "markdown",
   "metadata": {},
   "source": [
    "## New strategy: Split bams and run different jobs\n",
    "\n",
    "SNP calling keeps failing. Split bams into x jobs and run. Try with test first   \n",
    "\n",
    "**Steps:**   \n",
    "    - get mapped regions\n",
    "    - extract mapped regions to reference\n",
    "    - make bed file \n",
    "    - split bed file in X based off number of jobs. \n",
    "    - split bams based off bed files \n",
    "    - make slurm script for each split bed file \n",
    "    - run all files "
   ]
  },
  {
   "cell_type": "code",
   "execution_count": 229,
   "metadata": {},
   "outputs": [],
   "source": [
    "bam_files = []\n",
    "files = !find . -type f -name '*sorted.bam'\n",
    "files = [os.path.abspath(x) for x in files if 'bam' in x]\n",
    "for x in files:\n",
    "    bam_files.append(x)\n",
    "bam_files = sorted(bam_files)"
   ]
  },
  {
   "cell_type": "code",
   "execution_count": 230,
   "metadata": {},
   "outputs": [
    {
     "data": {
      "text/plain": [
       "(15,\n",
       " '/data/gpfs/assoc/denovo/tfaske/sagebrush/denovo/SNPcall/test/good_bams/AT2_EW_36_sorted.bam')"
      ]
     },
     "execution_count": 230,
     "metadata": {},
     "output_type": "execute_result"
    }
   ],
   "source": [
    "len(bam_files), bam_files[0]"
   ]
  },
  {
   "cell_type": "code",
   "execution_count": 238,
   "metadata": {},
   "outputs": [],
   "source": [
    "def index_bam(bam):\n",
    "    cmd = \"samtools index %s\" % (bam)\n",
    "    !$cmd\n",
    "    return bam"
   ]
  },
  {
   "cell_type": "code",
   "execution_count": 239,
   "metadata": {},
   "outputs": [],
   "source": [
    "def get_mapped(bam):\n",
    "    out = \"%s_mapped.bam\" % bam.split(\"_sorted.bam\")[0]\n",
    "    if not os.path.exists(out):                                       \n",
    "        cmd = \"samtools view -b -F 4 %s > %s\" % (bam, out)\n",
    "        res = !$cmd\n",
    "    index_bam(out)\n",
    "    return bam"
   ]
  },
  {
   "cell_type": "code",
   "execution_count": 240,
   "metadata": {},
   "outputs": [],
   "source": [
    "for b in bam_files:\n",
    "    get_mapped(b)"
   ]
  },
  {
   "cell_type": "code",
   "execution_count": 362,
   "metadata": {},
   "outputs": [],
   "source": [
    "mapped_bam = []\n",
    "files = !find . -type f -name '*mapped.bam'\n",
    "files = [os.path.abspath(x) for x in files if 'bam' in x]\n",
    "for x in files:\n",
    "    mapped_bam.append(x)\n",
    "mapped_bam = sorted(mapped_bam)"
   ]
  },
  {
   "cell_type": "code",
   "execution_count": 363,
   "metadata": {},
   "outputs": [
    {
     "data": {
      "text/plain": [
       "(15,\n",
       " '/data/gpfs/assoc/denovo/tfaske/sagebrush/denovo/SNPcall/test/good_bams/AT2_EW_36_mapped.bam')"
      ]
     },
     "execution_count": 363,
     "metadata": {},
     "output_type": "execute_result"
    }
   ],
   "source": [
    "len(mapped_bam), mapped_bam[0]"
   ]
  },
  {
   "cell_type": "markdown",
   "metadata": {},
   "source": [
    "**get contigs that mapped**"
   ]
  },
  {
   "cell_type": "code",
   "execution_count": 247,
   "metadata": {},
   "outputs": [],
   "source": [
    "def get_contigs(bam):\n",
    "    contigs = set()\n",
    "    cmd = \"samtools view %s\" % bam\n",
    "    sys.stderr.write(\"%s: %s\\n\" % (socket.gethostname(), cmd))\n",
    "    p = Popen(cmd, stdout=PIPE, shell=True)\n",
    "    for line in p.stdout:\n",
    "        d = line.decode().split(\"\\t\")\n",
    "        contigs.add(d[2])\n",
    "    return contigs"
   ]
  },
  {
   "cell_type": "code",
   "execution_count": 248,
   "metadata": {},
   "outputs": [
    {
     "name": "stderr",
     "output_type": "stream",
     "text": [
      "login-1: samtools view /data/gpfs/assoc/denovo/tfaske/sagebrush/denovo/SNPcall/test/good_bams/AT2_EW_36_mapped.bam\n",
      "login-1: samtools view /data/gpfs/assoc/denovo/tfaske/sagebrush/denovo/SNPcall/test/good_bams/AT2_HC_2_mapped.bam\n",
      "login-1: samtools view /data/gpfs/assoc/denovo/tfaske/sagebrush/denovo/SNPcall/test/good_bams/AT2_VM_5_mapped.bam\n",
      "login-1: samtools view /data/gpfs/assoc/denovo/tfaske/sagebrush/denovo/SNPcall/test/good_bams/AT2_YB_79_mapped.bam\n",
      "login-1: samtools view /data/gpfs/assoc/denovo/tfaske/sagebrush/denovo/SNPcall/test/good_bams/AT4_DS_2_mapped.bam\n",
      "login-1: samtools view /data/gpfs/assoc/denovo/tfaske/sagebrush/denovo/SNPcall/test/good_bams/AT4_SL_2_mapped.bam\n",
      "login-1: samtools view /data/gpfs/assoc/denovo/tfaske/sagebrush/denovo/SNPcall/test/good_bams/AT4_WT_2_mapped.bam\n",
      "login-1: samtools view /data/gpfs/assoc/denovo/tfaske/sagebrush/denovo/SNPcall/test/good_bams/AV2_FP_6_mapped.bam\n",
      "login-1: samtools view /data/gpfs/assoc/denovo/tfaske/sagebrush/denovo/SNPcall/test/good_bams/AV2_GC_9_mapped.bam\n",
      "login-1: samtools view /data/gpfs/assoc/denovo/tfaske/sagebrush/denovo/SNPcall/test/good_bams/AV2_TF_156_mapped.bam\n",
      "login-1: samtools view /data/gpfs/assoc/denovo/tfaske/sagebrush/denovo/SNPcall/test/good_bams/AV2_UV_2_mapped.bam\n",
      "login-1: samtools view /data/gpfs/assoc/denovo/tfaske/sagebrush/denovo/SNPcall/test/good_bams/AV4_JU_5_mapped.bam\n",
      "login-1: samtools view /data/gpfs/assoc/denovo/tfaske/sagebrush/denovo/SNPcall/test/good_bams/AV4_LM_5_mapped.bam\n",
      "login-1: samtools view /data/gpfs/assoc/denovo/tfaske/sagebrush/denovo/SNPcall/test/good_bams/AV4_LS_5_mapped.bam\n",
      "login-1: samtools view /data/gpfs/assoc/denovo/tfaske/sagebrush/denovo/SNPcall/test/good_bams/AV4_RR_5_mapped.bam\n"
     ]
    }
   ],
   "source": [
    "contigs = []\n",
    "for b in mapped_bam:\n",
    "    contigs.append(get_contigs(b))"
   ]
  },
  {
   "cell_type": "code",
   "execution_count": 249,
   "metadata": {},
   "outputs": [],
   "source": [
    "contig_counts = Counter()\n",
    "for contig in contigs:\n",
    "    for c in contig: #j.r:\n",
    "        contig_counts[c] += 1"
   ]
  },
  {
   "cell_type": "code",
   "execution_count": 251,
   "metadata": {},
   "outputs": [],
   "source": [
    "!mkdir mapped_fasta"
   ]
  },
  {
   "cell_type": "code",
   "execution_count": 250,
   "metadata": {},
   "outputs": [],
   "source": [
    "with open(\"mapped_fasta/all_contigs.txt\", \"w\") as o:\n",
    "    for c in contig_counts:\n",
    "        o.write(\"{}\\n\".format(c))"
   ]
  },
  {
   "cell_type": "markdown",
   "metadata": {},
   "source": [
    "**make new assembly with only mapped contigs**"
   ]
  },
  {
   "cell_type": "code",
   "execution_count": 359,
   "metadata": {},
   "outputs": [
    {
     "name": "stdout",
     "output_type": "stream",
     "text": [
      "/data/gpfs/assoc/denovo/tfaske/sagebrush/denovo/SNPcall/test\n"
     ]
    }
   ],
   "source": [
    "cd $test_dir"
   ]
  },
  {
   "cell_type": "code",
   "execution_count": 252,
   "metadata": {},
   "outputs": [],
   "source": [
    "assembly = \"/data/gpfs/assoc/denovo/tfaske/sagebrush/denovo/assembly/reference.fasta\""
   ]
  },
  {
   "cell_type": "code",
   "execution_count": 253,
   "metadata": {},
   "outputs": [],
   "source": [
    "!seqtk subseq $assembly mapped_fasta/all_contigs.txt > mapped_fasta/mapped.fasta"
   ]
  },
  {
   "cell_type": "markdown",
   "metadata": {},
   "source": [
    "**make contig bed files**  \n",
    "Issue with sorting. Randomize contig bed"
   ]
  },
  {
   "cell_type": "code",
   "execution_count": 147,
   "metadata": {},
   "outputs": [],
   "source": [
    "!mkdir bed_files "
   ]
  },
  {
   "cell_type": "code",
   "execution_count": 255,
   "metadata": {},
   "outputs": [],
   "source": [
    "with open(\"bed_files/contigs.bed\", \"w\") as o:\n",
    "    for rec in SeqIO.parse('mapped_fasta/mapped.fasta', \"fasta\"):\n",
    "        o.write(\"%s\\t%d\\t%d\\n\" % (rec.name, 0, len(rec)))"
   ]
  },
  {
   "cell_type": "code",
   "execution_count": 258,
   "metadata": {},
   "outputs": [],
   "source": [
    "lines = open('bed_files/contigs.bed').readlines()\n",
    "random.shuffle(lines)\n",
    "open('bed_files/contigs.bed', 'w').writelines(lines)"
   ]
  },
  {
   "cell_type": "code",
   "execution_count": 259,
   "metadata": {
    "scrolled": true
   },
   "outputs": [
    {
     "name": "stdout",
     "output_type": "stream",
     "text": [
      "61843 981\n"
     ]
    }
   ],
   "source": [
    "def create_split_beds(nodes, bed):\n",
    "    lines = 0\n",
    "    for line in open(bed):\n",
    "        lines += 1\n",
    "    print(lines, lines//nodes)\n",
    "    per_bed = lines//nodes\n",
    "    cmd = \"split -a 3 -d -l %d %s bed_files/contig.bed.\" % (per_bed, bed)\n",
    "    !$cmd\n",
    "    #call(cmd.split())\n",
    "create_split_beds(63, \"bed_files/contigs.bed\") #nodes -1 "
   ]
  },
  {
   "cell_type": "code",
   "execution_count": 360,
   "metadata": {},
   "outputs": [],
   "source": [
    "beds = !ls bed_files/contig.bed.*\n",
    "beds = [os.path.abspath(x) for x in beds]"
   ]
  },
  {
   "cell_type": "code",
   "execution_count": 361,
   "metadata": {},
   "outputs": [
    {
     "data": {
      "text/plain": [
       "(64,\n",
       " '/data/gpfs/assoc/denovo/tfaske/sagebrush/denovo/SNPcall/test/bed_files/contig.bed.000')"
      ]
     },
     "execution_count": 361,
     "metadata": {},
     "output_type": "execute_result"
    }
   ],
   "source": [
    "len(beds),beds[0]"
   ]
  },
  {
   "cell_type": "code",
   "execution_count": 266,
   "metadata": {},
   "outputs": [],
   "source": [
    "def create_parallel_bams(args):\n",
    "    bam_file, bed_file = args\n",
    "    num = bed_file.split(\".\")[-1]\n",
    "    out = \"%s.%s\" % (bam_file, num)\n",
    "    t = tempfile.NamedTemporaryFile(delete=False, dir=\"/tmp\")\n",
    "    cmd = \"samtools view -L %s -b %s -o %s\" % (bed_file, bam_file, t.name)\n",
    "    call(cmd.split())\n",
    "    shutil.copy(t.name, out)\n",
    "    os.remove(t.name)\n",
    "    return out"
   ]
  },
  {
   "cell_type": "code",
   "execution_count": 365,
   "metadata": {},
   "outputs": [],
   "source": [
    "args = []\n",
    "for bam in mapped_bam:\n",
    "    for bed in beds:\n",
    "        a = [bam, bed]\n",
    "        args.append(a)"
   ]
  },
  {
   "cell_type": "code",
   "execution_count": 366,
   "metadata": {},
   "outputs": [
    {
     "data": {
      "text/plain": [
       "(960,\n",
       " ['/data/gpfs/assoc/denovo/tfaske/sagebrush/denovo/SNPcall/test/good_bams/AT2_EW_36_mapped.bam',\n",
       "  '/data/gpfs/assoc/denovo/tfaske/sagebrush/denovo/SNPcall/test/bed_files/contig.bed.000'])"
      ]
     },
     "execution_count": 366,
     "metadata": {},
     "output_type": "execute_result"
    }
   ],
   "source": [
    "len(args), args[0]"
   ]
  },
  {
   "cell_type": "code",
   "execution_count": 364,
   "metadata": {
    "ExecuteTime": {}
   },
   "outputs": [
    {
     "data": {
      "text/plain": [
       "(15, 960)"
      ]
     },
     "execution_count": 364,
     "metadata": {},
     "output_type": "execute_result"
    }
   ],
   "source": [
    "len(mapped_bam), len(mapped_bam)*len(beds)"
   ]
  },
  {
   "cell_type": "code",
   "execution_count": 274,
   "metadata": {},
   "outputs": [],
   "source": [
    "for a in args:\n",
    "    create_parallel_bams(a)"
   ]
  },
  {
   "cell_type": "markdown",
   "metadata": {},
   "source": [
    "**ploidy_list based on bed files** "
   ]
  },
  {
   "cell_type": "code",
   "execution_count": 165,
   "metadata": {},
   "outputs": [],
   "source": [
    "!mkdir ploidy"
   ]
  },
  {
   "cell_type": "code",
   "execution_count": 374,
   "metadata": {},
   "outputs": [],
   "source": [
    "def make_ploidy_list(beds,bam_files):\n",
    "    for bed in beds: \n",
    "        be = bed.split('.')[2]\n",
    "        fai = pd.read_csv(bed,header=None,sep='\\t')\n",
    "        contigs = fai.iloc[:,0].tolist()\n",
    "        with open(\"ploidy/ploidy.%s.txt\" % (be), \"w\") as o:\n",
    "            for c in contigs:\n",
    "                for b in bam_files:\n",
    "                    bam = b.split('/')[11]\n",
    "                    ID = bam.split('_mapped.bam')[0] ### This too\n",
    "                    ploidy = ID.split('_')[0]\n",
    "                    ploidy = re.sub(r'\\D','',ploidy)\n",
    "                    #print(b)\n",
    "                    #print(ploidy)\n",
    "                    #o.write(\"good_bams/%s\\t%s\\n\" % (bam,ploidy)) \n",
    "                    o.write(\"%s 0 100 %s %s\\n\" % (c,ID,ploidy))"
   ]
  },
  {
   "cell_type": "code",
   "execution_count": 375,
   "metadata": {},
   "outputs": [],
   "source": [
    "make_ploidy_list(beds,mapped_bam)"
   ]
  },
  {
   "cell_type": "markdown",
   "metadata": {},
   "source": [
    "### make run_fb for each bed file"
   ]
  },
  {
   "cell_type": "code",
   "execution_count": 172,
   "metadata": {},
   "outputs": [],
   "source": [
    "!mkdir vcf"
   ]
  },
  {
   "cell_type": "code",
   "execution_count": 181,
   "metadata": {},
   "outputs": [],
   "source": [
    "!mkdir shdir"
   ]
  },
  {
   "cell_type": "code",
   "execution_count": 298,
   "metadata": {},
   "outputs": [],
   "source": [
    "def run_fb(bed):\n",
    "    cmd = 'freebayes -b good_bams/*mapped.bam.%s --cnv-map ploidy/ploidy.%s.txt -f mapped_fasta/mapped.fasta -t bed_files/contig.bed.%s -v vcf/fb.%s.vcf -V -i -u'  % (bed,bed,bed,bed)\n",
    "    return  cmd "
   ]
  },
  {
   "cell_type": "code",
   "execution_count": 309,
   "metadata": {},
   "outputs": [],
   "source": [
    "#without bed targets file\n",
    "def run_fb(bed):\n",
    "    cmd = 'freebayes -b good_bams/*mapped.bam.%s --cnv-map ploidy/ploidy.%s.txt -f mapped_fasta/mapped.fasta -v vcf/fb.%s.vcf -V -i -u'  % (bed,bed,bed)\n",
    "    return  cmd "
   ]
  },
  {
   "cell_type": "code",
   "execution_count": 310,
   "metadata": {},
   "outputs": [],
   "source": [
    "cmds = []\n",
    "for bed in beds: \n",
    "    be = bed.split('.')[2]\n",
    "    cmds.append(run_fb((be)))"
   ]
  },
  {
   "cell_type": "code",
   "execution_count": 311,
   "metadata": {},
   "outputs": [
    {
     "data": {
      "text/plain": [
       "(64,\n",
       " 'freebayes -b good_bams/*mapped.bam.000 --cnv-map ploidy/ploidy.000.txt -f mapped_fasta/mapped.fasta -v vcf/fb.000.vcf -V -i -u')"
      ]
     },
     "execution_count": 311,
     "metadata": {},
     "output_type": "execute_result"
    }
   ],
   "source": [
    "len(cmds),cmds[0]"
   ]
  },
  {
   "cell_type": "code",
   "execution_count": 312,
   "metadata": {},
   "outputs": [],
   "source": [
    "### select options for slurm submission\n",
    "account = 'cpu-s5-denovo-0'\n",
    "partition = 'cpu-core-0'\n",
    "#account = 'cpu-s1-bionres-0'\n",
    "#partition = 'cpu-s1-bionres-0'\n",
    "jobname = 'fb'\n",
    "time = '1-00:00:00' #time limit 10 day\n",
    "cpus = 1\n",
    "mem_cpu = 8000\n",
    "email = 'tfaske@nevada.unr.edu'"
   ]
  },
  {
   "cell_type": "code",
   "execution_count": 313,
   "metadata": {},
   "outputs": [],
   "source": [
    "def write_fb_ind_sh(account,partition,time,jobname,cpus,mem_cpu,email,out_dir,cmds,beds):\n",
    "    for i in range(0,len(cmds)):\n",
    "        bed = beds[i].split('.')[2]\n",
    "        with open(\"shdir/run_fb_%s.sh\" % (bed), \"w\") as o:\n",
    "            o.write(\"\"\"#!/usr/bin/env bash\n",
    "#SBATCH --account=%s\n",
    "#SBATCH --partition=%s\n",
    "#SBATCH --time=%s\n",
    "#SBATCH --ntasks 1\n",
    "#SBATCH --cpus-per-task %d\n",
    "#SBATCH --mem-per-cpu=%d\n",
    "#SBATCH --job-name fb_%s\n",
    "#SBATCH --output shdir/output_fb_%s.txt\n",
    "#SBATCH --mail-type=FAIL\n",
    "#SBATCH --mail-user=%s \\n\n",
    "    \n",
    "cd %s\\n    \n",
    "    \n",
    "%s \\n\n",
    "\"\"\" % (account,partition,time,int(cpus),int(mem_cpu),bed,bed,email,out_dir,cmds[i]))\n",
    "            "
   ]
  },
  {
   "cell_type": "code",
   "execution_count": 314,
   "metadata": {},
   "outputs": [],
   "source": [
    "write_fb_ind_sh(account,partition,time,jobname,cpus,mem_cpu,email,test_dir,cmds,beds)"
   ]
  },
  {
   "cell_type": "markdown",
   "metadata": {},
   "source": [
    "#### finds all fb slurm scripts and writes bash script to sbatch them"
   ]
  },
  {
   "cell_type": "code",
   "execution_count": 315,
   "metadata": {},
   "outputs": [],
   "source": [
    "shfb_files = []\n",
    "os.chdir('{}/{}'.format(test_dir, 'shdir'))\n",
    "files = !find . -name '*.sh'\n",
    "files = [os.path.abspath(x) for x in files]\n",
    "for x in files:\n",
    "        shfb_files.append(x)\n",
    "shfb_files = sorted(shfb_files)"
   ]
  },
  {
   "cell_type": "code",
   "execution_count": 316,
   "metadata": {},
   "outputs": [
    {
     "data": {
      "text/plain": [
       "(64,\n",
       " '/data/gpfs/assoc/denovo/tfaske/sagebrush/denovo/SNPcall/test/shdir/run_fb_000.sh')"
      ]
     },
     "execution_count": 316,
     "metadata": {},
     "output_type": "execute_result"
    }
   ],
   "source": [
    "len(shfb_files),shfb_files[0]"
   ]
  },
  {
   "cell_type": "code",
   "execution_count": 317,
   "metadata": {},
   "outputs": [],
   "source": [
    "def write_bash_fb_sh(sh_files):\n",
    "    with open(\"run_bash_fb.sh\", \"w\") as o:\n",
    "        o.write(\"\"\"#!/usr/bin/env bash \\n\\n\"\"\")\n",
    "        for f in sh_files:\n",
    "            o.write(\"sbatch %s \\n\" % (f))    "
   ]
  },
  {
   "cell_type": "code",
   "execution_count": 329,
   "metadata": {},
   "outputs": [
    {
     "name": "stdout",
     "output_type": "stream",
     "text": [
      "/data/gpfs/assoc/denovo/tfaske/sagebrush/denovo/SNPcall/test\n"
     ]
    }
   ],
   "source": [
    "cd $test_dir"
   ]
  },
  {
   "cell_type": "code",
   "execution_count": 319,
   "metadata": {},
   "outputs": [],
   "source": [
    "write_bash_fb_sh(shfb_files)"
   ]
  },
  {
   "cell_type": "markdown",
   "metadata": {},
   "source": [
    "# Run run_bash_fb_sh locally\n",
    "    cd /data/gpfs/assoc/denovo/tfaske/sagebrush/denovo/SNPcall/test \n",
    "    source activate py36\n",
    "    bash run_bash_fb.sh"
   ]
  },
  {
   "cell_type": "markdown",
   "metadata": {},
   "source": [
    "**concatnate vcf files**"
   ]
  },
  {
   "cell_type": "code",
   "execution_count": 331,
   "metadata": {},
   "outputs": [],
   "source": [
    "vcfs = !ls vcf/*vcf | grep -v tbi | grep -v sorted\n",
    "vcfs = [os.path.abspath(x) for x in vcfs]"
   ]
  },
  {
   "cell_type": "code",
   "execution_count": 338,
   "metadata": {},
   "outputs": [],
   "source": [
    "for vcf in vcfs:\n",
    "    vcf_gz = \"%s.gz\" % vcf\n",
    "    !bgzip -c $vcf > {vcf_gz}\n",
    "    !tabix {vcf_gz}"
   ]
  },
  {
   "cell_type": "code",
   "execution_count": 342,
   "metadata": {},
   "outputs": [],
   "source": [
    "vcfs_gz = !ls vcf/*vcf.gz | grep -v tbi | grep -v sorted\n",
    "vcfs_gz = [os.path.abspath(x) for x in vcfs_gz]"
   ]
  },
  {
   "cell_type": "code",
   "execution_count": 343,
   "metadata": {},
   "outputs": [
    {
     "data": {
      "text/plain": [
       "(64,\n",
       " '/data/gpfs/assoc/denovo/tfaske/sagebrush/denovo/SNPcall/test/vcf/fb.000.vcf.gz')"
      ]
     },
     "execution_count": 343,
     "metadata": {},
     "output_type": "execute_result"
    }
   ],
   "source": [
    "len(vcfs_gz),vcfs_gz[0]"
   ]
  },
  {
   "cell_type": "code",
   "execution_count": 344,
   "metadata": {},
   "outputs": [],
   "source": [
    "with open(\"vcf/concat2.sh\", \"w\") as o:\n",
    "    o.write(\"bcftools concat --threads 50 -Oz -o fb_cat.vcf.gz {}\\n\".format(\" \".join(vcfs_gz)))"
   ]
  },
  {
   "cell_type": "markdown",
   "metadata": {},
   "source": [
    "**concatenate vcf files**    \n",
    "    bash concat2.sh > out_cat.txt  \n",
    "\n",
    "**sort concat file**  \n",
    "    vcf-sort fb_cat.vcf.gz > fb_sorted.vcf.gz"
   ]
  },
  {
   "cell_type": "markdown",
   "metadata": {},
   "source": [
    "## New strategy: Split bams and run different jobs, for real\n",
    "\n",
    "SNP calling keeps failing. Split bams into x jobs and run   \n",
    "\n",
    "**Steps:**   \n",
    "    - get mapped regions\n",
    "    - extract mapped regions to reference\n",
    "    - make bed file \n",
    "    - split bed file in X based off number of jobs. \n",
    "    - split bams based off bed files \n",
    "    - make slurm script for each split bed file \n",
    "    - run all files "
   ]
  },
  {
   "cell_type": "code",
   "execution_count": 390,
   "metadata": {},
   "outputs": [
    {
     "name": "stdout",
     "output_type": "stream",
     "text": [
      "/data/gpfs/assoc/denovo/tfaske/sagebrush/denovo/SNPcall/good_bams\n"
     ]
    }
   ],
   "source": [
    "cd $bam_dir"
   ]
  },
  {
   "cell_type": "code",
   "execution_count": 391,
   "metadata": {},
   "outputs": [],
   "source": [
    "bam_files = []\n",
    "files = !find . -type f -name '*sorted.bam'\n",
    "files = [os.path.abspath(x) for x in files if 'bam' in x]\n",
    "for x in files:\n",
    "    bam_files.append(x)\n",
    "bam_files = sorted(bam_files)"
   ]
  },
  {
   "cell_type": "code",
   "execution_count": 392,
   "metadata": {},
   "outputs": [
    {
     "data": {
      "text/plain": [
       "(695,\n",
       " '/data/gpfs/assoc/denovo/tfaske/sagebrush/denovo/SNPcall/good_bams/AT2_BB_10_sorted.bam')"
      ]
     },
     "execution_count": 392,
     "metadata": {},
     "output_type": "execute_result"
    }
   ],
   "source": [
    "len(bam_files), bam_files[0]"
   ]
  },
  {
   "cell_type": "code",
   "execution_count": 324,
   "metadata": {},
   "outputs": [],
   "source": [
    "def index_bam(bam):\n",
    "    cmd = \"samtools index %s\" % (bam)\n",
    "    !$cmd\n",
    "    return bam"
   ]
  },
  {
   "cell_type": "code",
   "execution_count": 325,
   "metadata": {},
   "outputs": [],
   "source": [
    "def get_mapped(bam):\n",
    "    out = \"%s_mapped.bam\" % bam.split(\"_sorted.bam\")[0]\n",
    "    if not os.path.exists(out):                                       \n",
    "        cmd = \"samtools view -b -F 4 %s > %s\" % (bam, out)\n",
    "        res = !$cmd\n",
    "    index_bam(out)\n",
    "    return bam"
   ]
  },
  {
   "cell_type": "code",
   "execution_count": 326,
   "metadata": {},
   "outputs": [],
   "source": [
    "for b in bam_files:\n",
    "    get_mapped(b)"
   ]
  },
  {
   "cell_type": "code",
   "execution_count": 393,
   "metadata": {},
   "outputs": [],
   "source": [
    "mapped_bam = []\n",
    "files = !find . -type f -name '*mapped.bam'\n",
    "files = [os.path.abspath(x) for x in files if 'bam' in x]\n",
    "for x in files:\n",
    "    mapped_bam.append(x)\n",
    "mapped_bam = sorted(mapped_bam)"
   ]
  },
  {
   "cell_type": "code",
   "execution_count": 394,
   "metadata": {},
   "outputs": [
    {
     "data": {
      "text/plain": [
       "(695,\n",
       " '/data/gpfs/assoc/denovo/tfaske/sagebrush/denovo/SNPcall/good_bams/AT2_BB_10_mapped.bam')"
      ]
     },
     "execution_count": 394,
     "metadata": {},
     "output_type": "execute_result"
    }
   ],
   "source": [
    "len(mapped_bam), mapped_bam[0]"
   ]
  },
  {
   "cell_type": "markdown",
   "metadata": {},
   "source": [
    "**get contigs that mapped**"
   ]
  },
  {
   "cell_type": "code",
   "execution_count": 346,
   "metadata": {},
   "outputs": [],
   "source": [
    "def get_contigs(bam):\n",
    "    contigs = set()\n",
    "    cmd = \"samtools view %s\" % bam\n",
    "    sys.stderr.write(\"%s: %s\\n\" % (socket.gethostname(), cmd))\n",
    "    p = Popen(cmd, stdout=PIPE, shell=True)\n",
    "    for line in p.stdout:\n",
    "        d = line.decode().split(\"\\t\")\n",
    "        contigs.add(d[2])\n",
    "    return contigs"
   ]
  },
  {
   "cell_type": "code",
   "execution_count": 347,
   "metadata": {},
   "outputs": [
    {
     "name": "stderr",
     "output_type": "stream",
     "text": [
      "login-1: samtools view /data/gpfs/assoc/denovo/tfaske/sagebrush/denovo/SNPcall/good_bams/AT2_BB_10_mapped.bam\n",
      "login-1: samtools view /data/gpfs/assoc/denovo/tfaske/sagebrush/denovo/SNPcall/good_bams/AT2_BB_11_mapped.bam\n",
      "login-1: samtools view /data/gpfs/assoc/denovo/tfaske/sagebrush/denovo/SNPcall/good_bams/AT2_BB_12_mapped.bam\n",
      "login-1: samtools view /data/gpfs/assoc/denovo/tfaske/sagebrush/denovo/SNPcall/good_bams/AT2_BB_13_mapped.bam\n",
      "login-1: samtools view /data/gpfs/assoc/denovo/tfaske/sagebrush/denovo/SNPcall/good_bams/AT2_BB_14_mapped.bam\n",
      "login-1: samtools view /data/gpfs/assoc/denovo/tfaske/sagebrush/denovo/SNPcall/good_bams/AT2_BB_15_mapped.bam\n",
      "login-1: samtools view /data/gpfs/assoc/denovo/tfaske/sagebrush/denovo/SNPcall/good_bams/AT2_BB_16_mapped.bam\n",
      "login-1: samtools view /data/gpfs/assoc/denovo/tfaske/sagebrush/denovo/SNPcall/good_bams/AT2_BB_17_mapped.bam\n",
      "login-1: samtools view /data/gpfs/assoc/denovo/tfaske/sagebrush/denovo/SNPcall/good_bams/AT2_BB_1_mapped.bam\n",
      "login-1: samtools view /data/gpfs/assoc/denovo/tfaske/sagebrush/denovo/SNPcall/good_bams/AT2_BB_2_mapped.bam\n",
      "login-1: samtools view /data/gpfs/assoc/denovo/tfaske/sagebrush/denovo/SNPcall/good_bams/AT2_BB_3_mapped.bam\n",
      "login-1: samtools view /data/gpfs/assoc/denovo/tfaske/sagebrush/denovo/SNPcall/good_bams/AT2_BB_4_mapped.bam\n",
      "login-1: samtools view /data/gpfs/assoc/denovo/tfaske/sagebrush/denovo/SNPcall/good_bams/AT2_BB_5_mapped.bam\n",
      "login-1: samtools view /data/gpfs/assoc/denovo/tfaske/sagebrush/denovo/SNPcall/good_bams/AT2_BB_6_mapped.bam\n",
      "login-1: samtools view /data/gpfs/assoc/denovo/tfaske/sagebrush/denovo/SNPcall/good_bams/AT2_BB_7_mapped.bam\n",
      "login-1: samtools view /data/gpfs/assoc/denovo/tfaske/sagebrush/denovo/SNPcall/good_bams/AT2_BB_8_mapped.bam\n",
      "login-1: samtools view /data/gpfs/assoc/denovo/tfaske/sagebrush/denovo/SNPcall/good_bams/AT2_BB_9_mapped.bam\n",
      "login-1: samtools view /data/gpfs/assoc/denovo/tfaske/sagebrush/denovo/SNPcall/good_bams/AT2_BC_17_mapped.bam\n",
      "login-1: samtools view /data/gpfs/assoc/denovo/tfaske/sagebrush/denovo/SNPcall/good_bams/AT2_BC_18_mapped.bam\n",
      "login-1: samtools view /data/gpfs/assoc/denovo/tfaske/sagebrush/denovo/SNPcall/good_bams/AT2_BC_19_mapped.bam\n",
      "login-1: samtools view /data/gpfs/assoc/denovo/tfaske/sagebrush/denovo/SNPcall/good_bams/AT2_BC_20_mapped.bam\n",
      "login-1: samtools view /data/gpfs/assoc/denovo/tfaske/sagebrush/denovo/SNPcall/good_bams/AT2_BC_21_mapped.bam\n",
      "login-1: samtools view /data/gpfs/assoc/denovo/tfaske/sagebrush/denovo/SNPcall/good_bams/AT2_BC_22_mapped.bam\n",
      "login-1: samtools view /data/gpfs/assoc/denovo/tfaske/sagebrush/denovo/SNPcall/good_bams/AT2_BC_23_mapped.bam\n",
      "login-1: samtools view /data/gpfs/assoc/denovo/tfaske/sagebrush/denovo/SNPcall/good_bams/AT2_BT_1_mapped.bam\n",
      "login-1: samtools view /data/gpfs/assoc/denovo/tfaske/sagebrush/denovo/SNPcall/good_bams/AT2_BT_2_mapped.bam\n",
      "login-1: samtools view /data/gpfs/assoc/denovo/tfaske/sagebrush/denovo/SNPcall/good_bams/AT2_BT_3_mapped.bam\n",
      "login-1: samtools view /data/gpfs/assoc/denovo/tfaske/sagebrush/denovo/SNPcall/good_bams/AT2_BT_4_mapped.bam\n",
      "login-1: samtools view /data/gpfs/assoc/denovo/tfaske/sagebrush/denovo/SNPcall/good_bams/AT2_BT_57_mapped.bam\n",
      "login-1: samtools view /data/gpfs/assoc/denovo/tfaske/sagebrush/denovo/SNPcall/good_bams/AT2_BT_58_mapped.bam\n",
      "login-1: samtools view /data/gpfs/assoc/denovo/tfaske/sagebrush/denovo/SNPcall/good_bams/AT2_BT_59_mapped.bam\n",
      "login-1: samtools view /data/gpfs/assoc/denovo/tfaske/sagebrush/denovo/SNPcall/good_bams/AT2_BT_5_mapped.bam\n",
      "login-1: samtools view /data/gpfs/assoc/denovo/tfaske/sagebrush/denovo/SNPcall/good_bams/AT2_BT_60_mapped.bam\n",
      "login-1: samtools view /data/gpfs/assoc/denovo/tfaske/sagebrush/denovo/SNPcall/good_bams/AT2_BT_61_mapped.bam\n",
      "login-1: samtools view /data/gpfs/assoc/denovo/tfaske/sagebrush/denovo/SNPcall/good_bams/AT2_BT_62_mapped.bam\n",
      "login-1: samtools view /data/gpfs/assoc/denovo/tfaske/sagebrush/denovo/SNPcall/good_bams/AT2_BT_63_mapped.bam\n",
      "login-1: samtools view /data/gpfs/assoc/denovo/tfaske/sagebrush/denovo/SNPcall/good_bams/AT2_BT_64_mapped.bam\n",
      "login-1: samtools view /data/gpfs/assoc/denovo/tfaske/sagebrush/denovo/SNPcall/good_bams/AT2_BT_6_mapped.bam\n",
      "login-1: samtools view /data/gpfs/assoc/denovo/tfaske/sagebrush/denovo/SNPcall/good_bams/AT2_BT_7_mapped.bam\n",
      "login-1: samtools view /data/gpfs/assoc/denovo/tfaske/sagebrush/denovo/SNPcall/good_bams/AT2_BW_1_mapped.bam\n",
      "login-1: samtools view /data/gpfs/assoc/denovo/tfaske/sagebrush/denovo/SNPcall/good_bams/AT2_BW_65_mapped.bam\n",
      "login-1: samtools view /data/gpfs/assoc/denovo/tfaske/sagebrush/denovo/SNPcall/good_bams/AT2_BW_66_mapped.bam\n",
      "login-1: samtools view /data/gpfs/assoc/denovo/tfaske/sagebrush/denovo/SNPcall/good_bams/AT2_BW_67_mapped.bam\n",
      "login-1: samtools view /data/gpfs/assoc/denovo/tfaske/sagebrush/denovo/SNPcall/good_bams/AT2_BW_68_mapped.bam\n",
      "login-1: samtools view /data/gpfs/assoc/denovo/tfaske/sagebrush/denovo/SNPcall/good_bams/AT2_BW_69_mapped.bam\n",
      "login-1: samtools view /data/gpfs/assoc/denovo/tfaske/sagebrush/denovo/SNPcall/good_bams/AT2_BW_70_mapped.bam\n",
      "login-1: samtools view /data/gpfs/assoc/denovo/tfaske/sagebrush/denovo/SNPcall/good_bams/AT2_BW_71_mapped.bam\n",
      "login-1: samtools view /data/gpfs/assoc/denovo/tfaske/sagebrush/denovo/SNPcall/good_bams/AT2_BW_72_mapped.bam\n",
      "login-1: samtools view /data/gpfs/assoc/denovo/tfaske/sagebrush/denovo/SNPcall/good_bams/AT2_CB_24_mapped.bam\n",
      "login-1: samtools view /data/gpfs/assoc/denovo/tfaske/sagebrush/denovo/SNPcall/good_bams/AT2_CB_25_mapped.bam\n",
      "login-1: samtools view /data/gpfs/assoc/denovo/tfaske/sagebrush/denovo/SNPcall/good_bams/AT2_CB_26_mapped.bam\n",
      "login-1: samtools view /data/gpfs/assoc/denovo/tfaske/sagebrush/denovo/SNPcall/good_bams/AT2_CB_27_mapped.bam\n",
      "login-1: samtools view /data/gpfs/assoc/denovo/tfaske/sagebrush/denovo/SNPcall/good_bams/AT2_CB_28_mapped.bam\n",
      "login-1: samtools view /data/gpfs/assoc/denovo/tfaske/sagebrush/denovo/SNPcall/good_bams/AT2_CB_29_mapped.bam\n",
      "login-1: samtools view /data/gpfs/assoc/denovo/tfaske/sagebrush/denovo/SNPcall/good_bams/AT2_CB_30_mapped.bam\n",
      "login-1: samtools view /data/gpfs/assoc/denovo/tfaske/sagebrush/denovo/SNPcall/good_bams/AT2_CB_31_mapped.bam\n",
      "login-1: samtools view /data/gpfs/assoc/denovo/tfaske/sagebrush/denovo/SNPcall/good_bams/AT2_CB_32_mapped.bam\n",
      "login-1: samtools view /data/gpfs/assoc/denovo/tfaske/sagebrush/denovo/SNPcall/good_bams/AT2_DK_16_mapped.bam\n",
      "login-1: samtools view /data/gpfs/assoc/denovo/tfaske/sagebrush/denovo/SNPcall/good_bams/AT2_DK_17_mapped.bam\n",
      "login-1: samtools view /data/gpfs/assoc/denovo/tfaske/sagebrush/denovo/SNPcall/good_bams/AT2_DK_18_mapped.bam\n",
      "login-1: samtools view /data/gpfs/assoc/denovo/tfaske/sagebrush/denovo/SNPcall/good_bams/AT2_DK_19_mapped.bam\n",
      "login-1: samtools view /data/gpfs/assoc/denovo/tfaske/sagebrush/denovo/SNPcall/good_bams/AT2_DK_20_mapped.bam\n",
      "login-1: samtools view /data/gpfs/assoc/denovo/tfaske/sagebrush/denovo/SNPcall/good_bams/AT2_DK_21_mapped.bam\n",
      "login-1: samtools view /data/gpfs/assoc/denovo/tfaske/sagebrush/denovo/SNPcall/good_bams/AT2_DK_22_mapped.bam\n",
      "login-1: samtools view /data/gpfs/assoc/denovo/tfaske/sagebrush/denovo/SNPcall/good_bams/AT2_DK_23_mapped.bam\n",
      "login-1: samtools view /data/gpfs/assoc/denovo/tfaske/sagebrush/denovo/SNPcall/good_bams/AT2_DK_24_mapped.bam\n",
      "login-1: samtools view /data/gpfs/assoc/denovo/tfaske/sagebrush/denovo/SNPcall/good_bams/AT2_DK_25_mapped.bam\n",
      "login-1: samtools view /data/gpfs/assoc/denovo/tfaske/sagebrush/denovo/SNPcall/good_bams/AT2_DK_26_mapped.bam\n",
      "login-1: samtools view /data/gpfs/assoc/denovo/tfaske/sagebrush/denovo/SNPcall/good_bams/AT2_DK_27_mapped.bam\n",
      "login-1: samtools view /data/gpfs/assoc/denovo/tfaske/sagebrush/denovo/SNPcall/good_bams/AT2_DK_28_mapped.bam\n",
      "login-1: samtools view /data/gpfs/assoc/denovo/tfaske/sagebrush/denovo/SNPcall/good_bams/AT2_DT_6_mapped.bam\n",
      "login-1: samtools view /data/gpfs/assoc/denovo/tfaske/sagebrush/denovo/SNPcall/good_bams/AT2_DT_7_mapped.bam\n",
      "login-1: samtools view /data/gpfs/assoc/denovo/tfaske/sagebrush/denovo/SNPcall/good_bams/AT2_DT_8_mapped.bam\n",
      "login-1: samtools view /data/gpfs/assoc/denovo/tfaske/sagebrush/denovo/SNPcall/good_bams/AT2_DT_9_mapped.bam\n",
      "login-1: samtools view /data/gpfs/assoc/denovo/tfaske/sagebrush/denovo/SNPcall/good_bams/AT2_EC_45_mapped.bam\n"
     ]
    },
    {
     "name": "stderr",
     "output_type": "stream",
     "text": [
      "login-1: samtools view /data/gpfs/assoc/denovo/tfaske/sagebrush/denovo/SNPcall/good_bams/AT2_EC_46_mapped.bam\n",
      "login-1: samtools view /data/gpfs/assoc/denovo/tfaske/sagebrush/denovo/SNPcall/good_bams/AT2_EC_47_mapped.bam\n",
      "login-1: samtools view /data/gpfs/assoc/denovo/tfaske/sagebrush/denovo/SNPcall/good_bams/AT2_EC_48_mapped.bam\n",
      "login-1: samtools view /data/gpfs/assoc/denovo/tfaske/sagebrush/denovo/SNPcall/good_bams/AT2_EC_49_mapped.bam\n",
      "login-1: samtools view /data/gpfs/assoc/denovo/tfaske/sagebrush/denovo/SNPcall/good_bams/AT2_EC_50_mapped.bam\n",
      "login-1: samtools view /data/gpfs/assoc/denovo/tfaske/sagebrush/denovo/SNPcall/good_bams/AT2_EC_51_mapped.bam\n",
      "login-1: samtools view /data/gpfs/assoc/denovo/tfaske/sagebrush/denovo/SNPcall/good_bams/AT2_EC_52_mapped.bam\n",
      "login-1: samtools view /data/gpfs/assoc/denovo/tfaske/sagebrush/denovo/SNPcall/good_bams/AT2_EC_53_mapped.bam\n",
      "login-1: samtools view /data/gpfs/assoc/denovo/tfaske/sagebrush/denovo/SNPcall/good_bams/AT2_EW_31_mapped.bam\n",
      "login-1: samtools view /data/gpfs/assoc/denovo/tfaske/sagebrush/denovo/SNPcall/good_bams/AT2_EW_32_mapped.bam\n",
      "login-1: samtools view /data/gpfs/assoc/denovo/tfaske/sagebrush/denovo/SNPcall/good_bams/AT2_EW_33_mapped.bam\n",
      "login-1: samtools view /data/gpfs/assoc/denovo/tfaske/sagebrush/denovo/SNPcall/good_bams/AT2_EW_34_mapped.bam\n",
      "login-1: samtools view /data/gpfs/assoc/denovo/tfaske/sagebrush/denovo/SNPcall/good_bams/AT2_EW_35_mapped.bam\n",
      "login-1: samtools view /data/gpfs/assoc/denovo/tfaske/sagebrush/denovo/SNPcall/good_bams/AT2_EW_36_mapped.bam\n",
      "login-1: samtools view /data/gpfs/assoc/denovo/tfaske/sagebrush/denovo/SNPcall/good_bams/AT2_EW_37_mapped.bam\n",
      "login-1: samtools view /data/gpfs/assoc/denovo/tfaske/sagebrush/denovo/SNPcall/good_bams/AT2_EW_39_mapped.bam\n",
      "login-1: samtools view /data/gpfs/assoc/denovo/tfaske/sagebrush/denovo/SNPcall/good_bams/AT2_EW_40_mapped.bam\n",
      "login-1: samtools view /data/gpfs/assoc/denovo/tfaske/sagebrush/denovo/SNPcall/good_bams/AT2_HC_1_mapped.bam\n",
      "login-1: samtools view /data/gpfs/assoc/denovo/tfaske/sagebrush/denovo/SNPcall/good_bams/AT2_HC_2_mapped.bam\n",
      "login-1: samtools view /data/gpfs/assoc/denovo/tfaske/sagebrush/denovo/SNPcall/good_bams/AT2_HC_3_mapped.bam\n",
      "login-1: samtools view /data/gpfs/assoc/denovo/tfaske/sagebrush/denovo/SNPcall/good_bams/AT2_HC_4_mapped.bam\n",
      "login-1: samtools view /data/gpfs/assoc/denovo/tfaske/sagebrush/denovo/SNPcall/good_bams/AT2_HC_5_mapped.bam\n",
      "login-1: samtools view /data/gpfs/assoc/denovo/tfaske/sagebrush/denovo/SNPcall/good_bams/AT2_HC_6_mapped.bam\n",
      "login-1: samtools view /data/gpfs/assoc/denovo/tfaske/sagebrush/denovo/SNPcall/good_bams/AT2_HC_7_mapped.bam\n",
      "login-1: samtools view /data/gpfs/assoc/denovo/tfaske/sagebrush/denovo/SNPcall/good_bams/AT2_HC_8_mapped.bam\n",
      "login-1: samtools view /data/gpfs/assoc/denovo/tfaske/sagebrush/denovo/SNPcall/good_bams/AT2_JV_1_mapped.bam\n",
      "login-1: samtools view /data/gpfs/assoc/denovo/tfaske/sagebrush/denovo/SNPcall/good_bams/AT2_JV_2_mapped.bam\n",
      "login-1: samtools view /data/gpfs/assoc/denovo/tfaske/sagebrush/denovo/SNPcall/good_bams/AT2_JV_37_mapped.bam\n",
      "login-1: samtools view /data/gpfs/assoc/denovo/tfaske/sagebrush/denovo/SNPcall/good_bams/AT2_JV_38_mapped.bam\n",
      "login-1: samtools view /data/gpfs/assoc/denovo/tfaske/sagebrush/denovo/SNPcall/good_bams/AT2_JV_39_mapped.bam\n",
      "login-1: samtools view /data/gpfs/assoc/denovo/tfaske/sagebrush/denovo/SNPcall/good_bams/AT2_JV_3_mapped.bam\n",
      "login-1: samtools view /data/gpfs/assoc/denovo/tfaske/sagebrush/denovo/SNPcall/good_bams/AT2_JV_40_mapped.bam\n",
      "login-1: samtools view /data/gpfs/assoc/denovo/tfaske/sagebrush/denovo/SNPcall/good_bams/AT2_JV_41_mapped.bam\n",
      "login-1: samtools view /data/gpfs/assoc/denovo/tfaske/sagebrush/denovo/SNPcall/good_bams/AT2_JV_42_mapped.bam\n",
      "login-1: samtools view /data/gpfs/assoc/denovo/tfaske/sagebrush/denovo/SNPcall/good_bams/AT2_JV_43_mapped.bam\n",
      "login-1: samtools view /data/gpfs/assoc/denovo/tfaske/sagebrush/denovo/SNPcall/good_bams/AT2_JV_44_mapped.bam\n",
      "login-1: samtools view /data/gpfs/assoc/denovo/tfaske/sagebrush/denovo/SNPcall/good_bams/AT2_JV_4_mapped.bam\n",
      "login-1: samtools view /data/gpfs/assoc/denovo/tfaske/sagebrush/denovo/SNPcall/good_bams/AT2_JV_5_mapped.bam\n",
      "login-1: samtools view /data/gpfs/assoc/denovo/tfaske/sagebrush/denovo/SNPcall/good_bams/AT2_JV_6_mapped.bam\n",
      "login-1: samtools view /data/gpfs/assoc/denovo/tfaske/sagebrush/denovo/SNPcall/good_bams/AT2_JV_7_mapped.bam\n",
      "login-1: samtools view /data/gpfs/assoc/denovo/tfaske/sagebrush/denovo/SNPcall/good_bams/AT2_KN_80_mapped.bam\n",
      "login-1: samtools view /data/gpfs/assoc/denovo/tfaske/sagebrush/denovo/SNPcall/good_bams/AT2_KN_81_mapped.bam\n",
      "login-1: samtools view /data/gpfs/assoc/denovo/tfaske/sagebrush/denovo/SNPcall/good_bams/AT2_KN_82_mapped.bam\n",
      "login-1: samtools view /data/gpfs/assoc/denovo/tfaske/sagebrush/denovo/SNPcall/good_bams/AT2_KN_83_mapped.bam\n",
      "login-1: samtools view /data/gpfs/assoc/denovo/tfaske/sagebrush/denovo/SNPcall/good_bams/AT2_KN_84_mapped.bam\n",
      "login-1: samtools view /data/gpfs/assoc/denovo/tfaske/sagebrush/denovo/SNPcall/good_bams/AT2_KN_85_mapped.bam\n",
      "login-1: samtools view /data/gpfs/assoc/denovo/tfaske/sagebrush/denovo/SNPcall/good_bams/AT2_KN_86_mapped.bam\n",
      "login-1: samtools view /data/gpfs/assoc/denovo/tfaske/sagebrush/denovo/SNPcall/good_bams/AT2_KN_87_mapped.bam\n",
      "login-1: samtools view /data/gpfs/assoc/denovo/tfaske/sagebrush/denovo/SNPcall/good_bams/AT2_KN_88_mapped.bam\n",
      "login-1: samtools view /data/gpfs/assoc/denovo/tfaske/sagebrush/denovo/SNPcall/good_bams/AT2_KN_89_mapped.bam\n",
      "login-1: samtools view /data/gpfs/assoc/denovo/tfaske/sagebrush/denovo/SNPcall/good_bams/AT2_KN_90_mapped.bam\n",
      "login-1: samtools view /data/gpfs/assoc/denovo/tfaske/sagebrush/denovo/SNPcall/good_bams/AT2_KN_91_mapped.bam\n",
      "login-1: samtools view /data/gpfs/assoc/denovo/tfaske/sagebrush/denovo/SNPcall/good_bams/AT2_KN_92_mapped.bam\n",
      "login-1: samtools view /data/gpfs/assoc/denovo/tfaske/sagebrush/denovo/SNPcall/good_bams/AT2_KN_93_mapped.bam\n",
      "login-1: samtools view /data/gpfs/assoc/denovo/tfaske/sagebrush/denovo/SNPcall/good_bams/AT2_KN_94_mapped.bam\n",
      "login-1: samtools view /data/gpfs/assoc/denovo/tfaske/sagebrush/denovo/SNPcall/good_bams/AT2_LB_1_mapped.bam\n",
      "login-1: samtools view /data/gpfs/assoc/denovo/tfaske/sagebrush/denovo/SNPcall/good_bams/AT2_LB_2_mapped.bam\n",
      "login-1: samtools view /data/gpfs/assoc/denovo/tfaske/sagebrush/denovo/SNPcall/good_bams/AT2_LB_3_mapped.bam\n",
      "login-1: samtools view /data/gpfs/assoc/denovo/tfaske/sagebrush/denovo/SNPcall/good_bams/AT2_LB_4_mapped.bam\n",
      "login-1: samtools view /data/gpfs/assoc/denovo/tfaske/sagebrush/denovo/SNPcall/good_bams/AT2_LB_5_mapped.bam\n",
      "login-1: samtools view /data/gpfs/assoc/denovo/tfaske/sagebrush/denovo/SNPcall/good_bams/AT2_LB_6_mapped.bam\n",
      "login-1: samtools view /data/gpfs/assoc/denovo/tfaske/sagebrush/denovo/SNPcall/good_bams/AT2_LB_7_mapped.bam\n",
      "login-1: samtools view /data/gpfs/assoc/denovo/tfaske/sagebrush/denovo/SNPcall/good_bams/AT2_LB_8_mapped.bam\n",
      "login-1: samtools view /data/gpfs/assoc/denovo/tfaske/sagebrush/denovo/SNPcall/good_bams/AT2_LB_9_mapped.bam\n",
      "login-1: samtools view /data/gpfs/assoc/denovo/tfaske/sagebrush/denovo/SNPcall/good_bams/AT2_LN_1_mapped.bam\n",
      "login-1: samtools view /data/gpfs/assoc/denovo/tfaske/sagebrush/denovo/SNPcall/good_bams/AT2_LN_2_mapped.bam\n",
      "login-1: samtools view /data/gpfs/assoc/denovo/tfaske/sagebrush/denovo/SNPcall/good_bams/AT2_LN_3_mapped.bam\n",
      "login-1: samtools view /data/gpfs/assoc/denovo/tfaske/sagebrush/denovo/SNPcall/good_bams/AT2_LN_4_mapped.bam\n",
      "login-1: samtools view /data/gpfs/assoc/denovo/tfaske/sagebrush/denovo/SNPcall/good_bams/AT2_LN_5_mapped.bam\n",
      "login-1: samtools view /data/gpfs/assoc/denovo/tfaske/sagebrush/denovo/SNPcall/good_bams/AT2_LN_6_mapped.bam\n",
      "login-1: samtools view /data/gpfs/assoc/denovo/tfaske/sagebrush/denovo/SNPcall/good_bams/AT2_LN_95_mapped.bam\n",
      "login-1: samtools view /data/gpfs/assoc/denovo/tfaske/sagebrush/denovo/SNPcall/good_bams/AT2_LN_96_mapped.bam\n",
      "login-1: samtools view /data/gpfs/assoc/denovo/tfaske/sagebrush/denovo/SNPcall/good_bams/AT2_LN_98_mapped.bam\n",
      "login-1: samtools view /data/gpfs/assoc/denovo/tfaske/sagebrush/denovo/SNPcall/good_bams/AT2_OC_15_mapped.bam\n",
      "login-1: samtools view /data/gpfs/assoc/denovo/tfaske/sagebrush/denovo/SNPcall/good_bams/AT2_OC_16_mapped.bam\n"
     ]
    },
    {
     "name": "stderr",
     "output_type": "stream",
     "text": [
      "login-1: samtools view /data/gpfs/assoc/denovo/tfaske/sagebrush/denovo/SNPcall/good_bams/AT2_OC_2_mapped.bam\n",
      "login-1: samtools view /data/gpfs/assoc/denovo/tfaske/sagebrush/denovo/SNPcall/good_bams/AT2_OC_3_mapped.bam\n",
      "login-1: samtools view /data/gpfs/assoc/denovo/tfaske/sagebrush/denovo/SNPcall/good_bams/AT2_OC_4_mapped.bam\n",
      "login-1: samtools view /data/gpfs/assoc/denovo/tfaske/sagebrush/denovo/SNPcall/good_bams/AT2_OC_5_mapped.bam\n",
      "login-1: samtools view /data/gpfs/assoc/denovo/tfaske/sagebrush/denovo/SNPcall/good_bams/AT2_OC_6_mapped.bam\n",
      "login-1: samtools view /data/gpfs/assoc/denovo/tfaske/sagebrush/denovo/SNPcall/good_bams/AT2_OC_7_mapped.bam\n",
      "login-1: samtools view /data/gpfs/assoc/denovo/tfaske/sagebrush/denovo/SNPcall/good_bams/AT2_OC_8_mapped.bam\n",
      "login-1: samtools view /data/gpfs/assoc/denovo/tfaske/sagebrush/denovo/SNPcall/good_bams/AT2_OT_11_mapped.bam\n",
      "login-1: samtools view /data/gpfs/assoc/denovo/tfaske/sagebrush/denovo/SNPcall/good_bams/AT2_OT_12_mapped.bam\n",
      "login-1: samtools view /data/gpfs/assoc/denovo/tfaske/sagebrush/denovo/SNPcall/good_bams/AT2_OT_13_mapped.bam\n",
      "login-1: samtools view /data/gpfs/assoc/denovo/tfaske/sagebrush/denovo/SNPcall/good_bams/AT2_OT_14_mapped.bam\n",
      "login-1: samtools view /data/gpfs/assoc/denovo/tfaske/sagebrush/denovo/SNPcall/good_bams/AT2_OT_5_mapped.bam\n",
      "login-1: samtools view /data/gpfs/assoc/denovo/tfaske/sagebrush/denovo/SNPcall/good_bams/AT2_OT_6_mapped.bam\n",
      "login-1: samtools view /data/gpfs/assoc/denovo/tfaske/sagebrush/denovo/SNPcall/good_bams/AT2_OT_7_mapped.bam\n",
      "login-1: samtools view /data/gpfs/assoc/denovo/tfaske/sagebrush/denovo/SNPcall/good_bams/AT2_OT_8_mapped.bam\n",
      "login-1: samtools view /data/gpfs/assoc/denovo/tfaske/sagebrush/denovo/SNPcall/good_bams/AT2_OT_9_mapped.bam\n",
      "login-1: samtools view /data/gpfs/assoc/denovo/tfaske/sagebrush/denovo/SNPcall/good_bams/AT2_RB_100_mapped.bam\n",
      "login-1: samtools view /data/gpfs/assoc/denovo/tfaske/sagebrush/denovo/SNPcall/good_bams/AT2_RB_101_mapped.bam\n",
      "login-1: samtools view /data/gpfs/assoc/denovo/tfaske/sagebrush/denovo/SNPcall/good_bams/AT2_RB_102_mapped.bam\n",
      "login-1: samtools view /data/gpfs/assoc/denovo/tfaske/sagebrush/denovo/SNPcall/good_bams/AT2_RB_103_mapped.bam\n",
      "login-1: samtools view /data/gpfs/assoc/denovo/tfaske/sagebrush/denovo/SNPcall/good_bams/AT2_RB_104_mapped.bam\n",
      "login-1: samtools view /data/gpfs/assoc/denovo/tfaske/sagebrush/denovo/SNPcall/good_bams/AT2_RB_105_mapped.bam\n",
      "login-1: samtools view /data/gpfs/assoc/denovo/tfaske/sagebrush/denovo/SNPcall/good_bams/AT2_RB_106_mapped.bam\n",
      "login-1: samtools view /data/gpfs/assoc/denovo/tfaske/sagebrush/denovo/SNPcall/good_bams/AT2_RB_107_mapped.bam\n",
      "login-1: samtools view /data/gpfs/assoc/denovo/tfaske/sagebrush/denovo/SNPcall/good_bams/AT2_RB_108_mapped.bam\n",
      "login-1: samtools view /data/gpfs/assoc/denovo/tfaske/sagebrush/denovo/SNPcall/good_bams/AT2_RB_1_mapped.bam\n",
      "login-1: samtools view /data/gpfs/assoc/denovo/tfaske/sagebrush/denovo/SNPcall/good_bams/AT2_RB_2_mapped.bam\n",
      "login-1: samtools view /data/gpfs/assoc/denovo/tfaske/sagebrush/denovo/SNPcall/good_bams/AT2_RB_3_mapped.bam\n",
      "login-1: samtools view /data/gpfs/assoc/denovo/tfaske/sagebrush/denovo/SNPcall/good_bams/AT2_RB_4_mapped.bam\n",
      "login-1: samtools view /data/gpfs/assoc/denovo/tfaske/sagebrush/denovo/SNPcall/good_bams/AT2_RB_5_mapped.bam\n",
      "login-1: samtools view /data/gpfs/assoc/denovo/tfaske/sagebrush/denovo/SNPcall/good_bams/AT2_RB_6_mapped.bam\n",
      "login-1: samtools view /data/gpfs/assoc/denovo/tfaske/sagebrush/denovo/SNPcall/good_bams/AT2_RB_7_mapped.bam\n",
      "login-1: samtools view /data/gpfs/assoc/denovo/tfaske/sagebrush/denovo/SNPcall/good_bams/AT2_RB_99_mapped.bam\n",
      "login-1: samtools view /data/gpfs/assoc/denovo/tfaske/sagebrush/denovo/SNPcall/good_bams/AT2_RK_1_mapped.bam\n",
      "login-1: samtools view /data/gpfs/assoc/denovo/tfaske/sagebrush/denovo/SNPcall/good_bams/AT2_RK_2_mapped.bam\n",
      "login-1: samtools view /data/gpfs/assoc/denovo/tfaske/sagebrush/denovo/SNPcall/good_bams/AT2_RK_3_mapped.bam\n",
      "login-1: samtools view /data/gpfs/assoc/denovo/tfaske/sagebrush/denovo/SNPcall/good_bams/AT2_RK_4_mapped.bam\n",
      "login-1: samtools view /data/gpfs/assoc/denovo/tfaske/sagebrush/denovo/SNPcall/good_bams/AT2_RK_5_mapped.bam\n",
      "login-1: samtools view /data/gpfs/assoc/denovo/tfaske/sagebrush/denovo/SNPcall/good_bams/AT2_RK_6_mapped.bam\n",
      "login-1: samtools view /data/gpfs/assoc/denovo/tfaske/sagebrush/denovo/SNPcall/good_bams/AT2_RK_7_mapped.bam\n",
      "login-1: samtools view /data/gpfs/assoc/denovo/tfaske/sagebrush/denovo/SNPcall/good_bams/AT2_SS_10_mapped.bam\n",
      "login-1: samtools view /data/gpfs/assoc/denovo/tfaske/sagebrush/denovo/SNPcall/good_bams/AT2_SS_1_mapped.bam\n",
      "login-1: samtools view /data/gpfs/assoc/denovo/tfaske/sagebrush/denovo/SNPcall/good_bams/AT2_SS_2_mapped.bam\n",
      "login-1: samtools view /data/gpfs/assoc/denovo/tfaske/sagebrush/denovo/SNPcall/good_bams/AT2_SS_3_mapped.bam\n",
      "login-1: samtools view /data/gpfs/assoc/denovo/tfaske/sagebrush/denovo/SNPcall/good_bams/AT2_SS_4_mapped.bam\n",
      "login-1: samtools view /data/gpfs/assoc/denovo/tfaske/sagebrush/denovo/SNPcall/good_bams/AT2_SS_5_mapped.bam\n",
      "login-1: samtools view /data/gpfs/assoc/denovo/tfaske/sagebrush/denovo/SNPcall/good_bams/AT2_SS_6_mapped.bam\n",
      "login-1: samtools view /data/gpfs/assoc/denovo/tfaske/sagebrush/denovo/SNPcall/good_bams/AT2_SS_7_mapped.bam\n",
      "login-1: samtools view /data/gpfs/assoc/denovo/tfaske/sagebrush/denovo/SNPcall/good_bams/AT2_VM_10_mapped.bam\n",
      "login-1: samtools view /data/gpfs/assoc/denovo/tfaske/sagebrush/denovo/SNPcall/good_bams/AT2_VM_1_mapped.bam\n",
      "login-1: samtools view /data/gpfs/assoc/denovo/tfaske/sagebrush/denovo/SNPcall/good_bams/AT2_VM_2_mapped.bam\n",
      "login-1: samtools view /data/gpfs/assoc/denovo/tfaske/sagebrush/denovo/SNPcall/good_bams/AT2_VM_3_mapped.bam\n",
      "login-1: samtools view /data/gpfs/assoc/denovo/tfaske/sagebrush/denovo/SNPcall/good_bams/AT2_VM_4_mapped.bam\n",
      "login-1: samtools view /data/gpfs/assoc/denovo/tfaske/sagebrush/denovo/SNPcall/good_bams/AT2_VM_5_mapped.bam\n",
      "login-1: samtools view /data/gpfs/assoc/denovo/tfaske/sagebrush/denovo/SNPcall/good_bams/AT2_VM_6_mapped.bam\n",
      "login-1: samtools view /data/gpfs/assoc/denovo/tfaske/sagebrush/denovo/SNPcall/good_bams/AT2_VM_7_mapped.bam\n",
      "login-1: samtools view /data/gpfs/assoc/denovo/tfaske/sagebrush/denovo/SNPcall/good_bams/AT2_VM_8_mapped.bam\n",
      "login-1: samtools view /data/gpfs/assoc/denovo/tfaske/sagebrush/denovo/SNPcall/good_bams/AT2_VM_9_mapped.bam\n",
      "login-1: samtools view /data/gpfs/assoc/denovo/tfaske/sagebrush/denovo/SNPcall/good_bams/AT2_YB_1_mapped.bam\n",
      "login-1: samtools view /data/gpfs/assoc/denovo/tfaske/sagebrush/denovo/SNPcall/good_bams/AT2_YB_2_mapped.bam\n",
      "login-1: samtools view /data/gpfs/assoc/denovo/tfaske/sagebrush/denovo/SNPcall/good_bams/AT2_YB_73_mapped.bam\n",
      "login-1: samtools view /data/gpfs/assoc/denovo/tfaske/sagebrush/denovo/SNPcall/good_bams/AT2_YB_74_mapped.bam\n",
      "login-1: samtools view /data/gpfs/assoc/denovo/tfaske/sagebrush/denovo/SNPcall/good_bams/AT2_YB_75_mapped.bam\n",
      "login-1: samtools view /data/gpfs/assoc/denovo/tfaske/sagebrush/denovo/SNPcall/good_bams/AT2_YB_76_mapped.bam\n",
      "login-1: samtools view /data/gpfs/assoc/denovo/tfaske/sagebrush/denovo/SNPcall/good_bams/AT2_YB_77_mapped.bam\n",
      "login-1: samtools view /data/gpfs/assoc/denovo/tfaske/sagebrush/denovo/SNPcall/good_bams/AT2_YB_78_mapped.bam\n",
      "login-1: samtools view /data/gpfs/assoc/denovo/tfaske/sagebrush/denovo/SNPcall/good_bams/AT2_YB_79_mapped.bam\n",
      "login-1: samtools view /data/gpfs/assoc/denovo/tfaske/sagebrush/denovo/SNPcall/good_bams/AT4_DS_10_mapped.bam\n",
      "login-1: samtools view /data/gpfs/assoc/denovo/tfaske/sagebrush/denovo/SNPcall/good_bams/AT4_DS_1_mapped.bam\n",
      "login-1: samtools view /data/gpfs/assoc/denovo/tfaske/sagebrush/denovo/SNPcall/good_bams/AT4_DS_2_mapped.bam\n",
      "login-1: samtools view /data/gpfs/assoc/denovo/tfaske/sagebrush/denovo/SNPcall/good_bams/AT4_DS_3_mapped.bam\n",
      "login-1: samtools view /data/gpfs/assoc/denovo/tfaske/sagebrush/denovo/SNPcall/good_bams/AT4_DS_4_mapped.bam\n",
      "login-1: samtools view /data/gpfs/assoc/denovo/tfaske/sagebrush/denovo/SNPcall/good_bams/AT4_DS_5_mapped.bam\n",
      "login-1: samtools view /data/gpfs/assoc/denovo/tfaske/sagebrush/denovo/SNPcall/good_bams/AT4_DS_6_mapped.bam\n",
      "login-1: samtools view /data/gpfs/assoc/denovo/tfaske/sagebrush/denovo/SNPcall/good_bams/AT4_DS_7_mapped.bam\n"
     ]
    },
    {
     "name": "stderr",
     "output_type": "stream",
     "text": [
      "login-1: samtools view /data/gpfs/assoc/denovo/tfaske/sagebrush/denovo/SNPcall/good_bams/AT4_DS_8_mapped.bam\n",
      "login-1: samtools view /data/gpfs/assoc/denovo/tfaske/sagebrush/denovo/SNPcall/good_bams/AT4_SL_1_mapped.bam\n",
      "login-1: samtools view /data/gpfs/assoc/denovo/tfaske/sagebrush/denovo/SNPcall/good_bams/AT4_SL_284_mapped.bam\n",
      "login-1: samtools view /data/gpfs/assoc/denovo/tfaske/sagebrush/denovo/SNPcall/good_bams/AT4_SL_285_mapped.bam\n",
      "login-1: samtools view /data/gpfs/assoc/denovo/tfaske/sagebrush/denovo/SNPcall/good_bams/AT4_SL_286_mapped.bam\n",
      "login-1: samtools view /data/gpfs/assoc/denovo/tfaske/sagebrush/denovo/SNPcall/good_bams/AT4_SL_2_mapped.bam\n",
      "login-1: samtools view /data/gpfs/assoc/denovo/tfaske/sagebrush/denovo/SNPcall/good_bams/AT4_SL_3_mapped.bam\n",
      "login-1: samtools view /data/gpfs/assoc/denovo/tfaske/sagebrush/denovo/SNPcall/good_bams/AT4_SL_4_mapped.bam\n",
      "login-1: samtools view /data/gpfs/assoc/denovo/tfaske/sagebrush/denovo/SNPcall/good_bams/AT4_SL_5_mapped.bam\n",
      "login-1: samtools view /data/gpfs/assoc/denovo/tfaske/sagebrush/denovo/SNPcall/good_bams/AT4_SL_6_mapped.bam\n",
      "login-1: samtools view /data/gpfs/assoc/denovo/tfaske/sagebrush/denovo/SNPcall/good_bams/AT4_SL_7_mapped.bam\n",
      "login-1: samtools view /data/gpfs/assoc/denovo/tfaske/sagebrush/denovo/SNPcall/good_bams/AT4_WT_1_mapped.bam\n",
      "login-1: samtools view /data/gpfs/assoc/denovo/tfaske/sagebrush/denovo/SNPcall/good_bams/AT4_WT_2_mapped.bam\n",
      "login-1: samtools view /data/gpfs/assoc/denovo/tfaske/sagebrush/denovo/SNPcall/good_bams/AT4_WT_3_mapped.bam\n",
      "login-1: samtools view /data/gpfs/assoc/denovo/tfaske/sagebrush/denovo/SNPcall/good_bams/AT4_WT_4_mapped.bam\n",
      "login-1: samtools view /data/gpfs/assoc/denovo/tfaske/sagebrush/denovo/SNPcall/good_bams/AT4_WT_5_mapped.bam\n",
      "login-1: samtools view /data/gpfs/assoc/denovo/tfaske/sagebrush/denovo/SNPcall/good_bams/AT4_WT_6_mapped.bam\n",
      "login-1: samtools view /data/gpfs/assoc/denovo/tfaske/sagebrush/denovo/SNPcall/good_bams/AT4_WT_7_mapped.bam\n",
      "login-1: samtools view /data/gpfs/assoc/denovo/tfaske/sagebrush/denovo/SNPcall/good_bams/AV2_AN_1_mapped.bam\n",
      "login-1: samtools view /data/gpfs/assoc/denovo/tfaske/sagebrush/denovo/SNPcall/good_bams/AV2_AN_2_mapped.bam\n",
      "login-1: samtools view /data/gpfs/assoc/denovo/tfaske/sagebrush/denovo/SNPcall/good_bams/AV2_AN_3_mapped.bam\n",
      "login-1: samtools view /data/gpfs/assoc/denovo/tfaske/sagebrush/denovo/SNPcall/good_bams/AV2_AN_4_mapped.bam\n",
      "login-1: samtools view /data/gpfs/assoc/denovo/tfaske/sagebrush/denovo/SNPcall/good_bams/AV2_AN_5_mapped.bam\n",
      "login-1: samtools view /data/gpfs/assoc/denovo/tfaske/sagebrush/denovo/SNPcall/good_bams/AV2_AN_6_mapped.bam\n",
      "login-1: samtools view /data/gpfs/assoc/denovo/tfaske/sagebrush/denovo/SNPcall/good_bams/AV2_AN_7_mapped.bam\n",
      "login-1: samtools view /data/gpfs/assoc/denovo/tfaske/sagebrush/denovo/SNPcall/good_bams/AV2_AN_8_mapped.bam\n",
      "login-1: samtools view /data/gpfs/assoc/denovo/tfaske/sagebrush/denovo/SNPcall/good_bams/AV2_AS_61_mapped.bam\n",
      "login-1: samtools view /data/gpfs/assoc/denovo/tfaske/sagebrush/denovo/SNPcall/good_bams/AV2_AS_62_mapped.bam\n",
      "login-1: samtools view /data/gpfs/assoc/denovo/tfaske/sagebrush/denovo/SNPcall/good_bams/AV2_AS_63_mapped.bam\n",
      "login-1: samtools view /data/gpfs/assoc/denovo/tfaske/sagebrush/denovo/SNPcall/good_bams/AV2_AS_64_mapped.bam\n",
      "login-1: samtools view /data/gpfs/assoc/denovo/tfaske/sagebrush/denovo/SNPcall/good_bams/AV2_AS_65_mapped.bam\n",
      "login-1: samtools view /data/gpfs/assoc/denovo/tfaske/sagebrush/denovo/SNPcall/good_bams/AV2_AS_66_mapped.bam\n",
      "login-1: samtools view /data/gpfs/assoc/denovo/tfaske/sagebrush/denovo/SNPcall/good_bams/AV2_AS_67_mapped.bam\n",
      "login-1: samtools view /data/gpfs/assoc/denovo/tfaske/sagebrush/denovo/SNPcall/good_bams/AV2_AS_68_mapped.bam\n",
      "login-1: samtools view /data/gpfs/assoc/denovo/tfaske/sagebrush/denovo/SNPcall/good_bams/AV2_AS_69_mapped.bam\n",
      "login-1: samtools view /data/gpfs/assoc/denovo/tfaske/sagebrush/denovo/SNPcall/good_bams/AV2_AS_70_mapped.bam\n",
      "login-1: samtools view /data/gpfs/assoc/denovo/tfaske/sagebrush/denovo/SNPcall/good_bams/AV2_AS_71_mapped.bam\n",
      "login-1: samtools view /data/gpfs/assoc/denovo/tfaske/sagebrush/denovo/SNPcall/good_bams/AV2_AS_72_mapped.bam\n",
      "login-1: samtools view /data/gpfs/assoc/denovo/tfaske/sagebrush/denovo/SNPcall/good_bams/AV2_AS_73_mapped.bam\n",
      "login-1: samtools view /data/gpfs/assoc/denovo/tfaske/sagebrush/denovo/SNPcall/good_bams/AV2_AS_74_mapped.bam\n",
      "login-1: samtools view /data/gpfs/assoc/denovo/tfaske/sagebrush/denovo/SNPcall/good_bams/AV2_AS_75_mapped.bam\n",
      "login-1: samtools view /data/gpfs/assoc/denovo/tfaske/sagebrush/denovo/SNPcall/good_bams/AV2_BM_76_mapped.bam\n",
      "login-1: samtools view /data/gpfs/assoc/denovo/tfaske/sagebrush/denovo/SNPcall/good_bams/AV2_BM_77_mapped.bam\n",
      "login-1: samtools view /data/gpfs/assoc/denovo/tfaske/sagebrush/denovo/SNPcall/good_bams/AV2_BM_78_mapped.bam\n",
      "login-1: samtools view /data/gpfs/assoc/denovo/tfaske/sagebrush/denovo/SNPcall/good_bams/AV2_BM_79_mapped.bam\n",
      "login-1: samtools view /data/gpfs/assoc/denovo/tfaske/sagebrush/denovo/SNPcall/good_bams/AV2_BM_80_mapped.bam\n",
      "login-1: samtools view /data/gpfs/assoc/denovo/tfaske/sagebrush/denovo/SNPcall/good_bams/AV2_BM_81_mapped.bam\n",
      "login-1: samtools view /data/gpfs/assoc/denovo/tfaske/sagebrush/denovo/SNPcall/good_bams/AV2_BM_82_mapped.bam\n",
      "login-1: samtools view /data/gpfs/assoc/denovo/tfaske/sagebrush/denovo/SNPcall/good_bams/AV2_BM_83_mapped.bam\n",
      "login-1: samtools view /data/gpfs/assoc/denovo/tfaske/sagebrush/denovo/SNPcall/good_bams/AV2_BM_84_mapped.bam\n",
      "login-1: samtools view /data/gpfs/assoc/denovo/tfaske/sagebrush/denovo/SNPcall/good_bams/AV2_BM_85_mapped.bam\n",
      "login-1: samtools view /data/gpfs/assoc/denovo/tfaske/sagebrush/denovo/SNPcall/good_bams/AV2_BM_86_mapped.bam\n",
      "login-1: samtools view /data/gpfs/assoc/denovo/tfaske/sagebrush/denovo/SNPcall/good_bams/AV2_BM_87_mapped.bam\n",
      "login-1: samtools view /data/gpfs/assoc/denovo/tfaske/sagebrush/denovo/SNPcall/good_bams/AV2_BM_88_mapped.bam\n",
      "login-1: samtools view /data/gpfs/assoc/denovo/tfaske/sagebrush/denovo/SNPcall/good_bams/AV2_BM_89_mapped.bam\n",
      "login-1: samtools view /data/gpfs/assoc/denovo/tfaske/sagebrush/denovo/SNPcall/good_bams/AV2_BM_90_mapped.bam\n",
      "login-1: samtools view /data/gpfs/assoc/denovo/tfaske/sagebrush/denovo/SNPcall/good_bams/AV2_CC_134_mapped.bam\n",
      "login-1: samtools view /data/gpfs/assoc/denovo/tfaske/sagebrush/denovo/SNPcall/good_bams/AV2_CC_135_mapped.bam\n",
      "login-1: samtools view /data/gpfs/assoc/denovo/tfaske/sagebrush/denovo/SNPcall/good_bams/AV2_CC_136_mapped.bam\n",
      "login-1: samtools view /data/gpfs/assoc/denovo/tfaske/sagebrush/denovo/SNPcall/good_bams/AV2_CC_137_mapped.bam\n",
      "login-1: samtools view /data/gpfs/assoc/denovo/tfaske/sagebrush/denovo/SNPcall/good_bams/AV2_CC_138_mapped.bam\n",
      "login-1: samtools view /data/gpfs/assoc/denovo/tfaske/sagebrush/denovo/SNPcall/good_bams/AV2_CC_139_mapped.bam\n",
      "login-1: samtools view /data/gpfs/assoc/denovo/tfaske/sagebrush/denovo/SNPcall/good_bams/AV2_CC_140_mapped.bam\n",
      "login-1: samtools view /data/gpfs/assoc/denovo/tfaske/sagebrush/denovo/SNPcall/good_bams/AV2_CC_141_mapped.bam\n",
      "login-1: samtools view /data/gpfs/assoc/denovo/tfaske/sagebrush/denovo/SNPcall/good_bams/AV2_CC_1_mapped.bam\n",
      "login-1: samtools view /data/gpfs/assoc/denovo/tfaske/sagebrush/denovo/SNPcall/good_bams/AV2_CC_2_mapped.bam\n",
      "login-1: samtools view /data/gpfs/assoc/denovo/tfaske/sagebrush/denovo/SNPcall/good_bams/AV2_CC_3_mapped.bam\n",
      "login-1: samtools view /data/gpfs/assoc/denovo/tfaske/sagebrush/denovo/SNPcall/good_bams/AV2_CC_4_mapped.bam\n",
      "login-1: samtools view /data/gpfs/assoc/denovo/tfaske/sagebrush/denovo/SNPcall/good_bams/AV2_CC_5_mapped.bam\n",
      "login-1: samtools view /data/gpfs/assoc/denovo/tfaske/sagebrush/denovo/SNPcall/good_bams/AV2_CC_6_mapped.bam\n",
      "login-1: samtools view /data/gpfs/assoc/denovo/tfaske/sagebrush/denovo/SNPcall/good_bams/AV2_CC_7_mapped.bam\n",
      "login-1: samtools view /data/gpfs/assoc/denovo/tfaske/sagebrush/denovo/SNPcall/good_bams/AV2_CV_157_mapped.bam\n",
      "login-1: samtools view /data/gpfs/assoc/denovo/tfaske/sagebrush/denovo/SNPcall/good_bams/AV2_CV_158_mapped.bam\n",
      "login-1: samtools view /data/gpfs/assoc/denovo/tfaske/sagebrush/denovo/SNPcall/good_bams/AV2_CV_159_mapped.bam\n",
      "login-1: samtools view /data/gpfs/assoc/denovo/tfaske/sagebrush/denovo/SNPcall/good_bams/AV2_CV_160_mapped.bam\n"
     ]
    },
    {
     "name": "stderr",
     "output_type": "stream",
     "text": [
      "login-1: samtools view /data/gpfs/assoc/denovo/tfaske/sagebrush/denovo/SNPcall/good_bams/AV2_CV_161_mapped.bam\n",
      "login-1: samtools view /data/gpfs/assoc/denovo/tfaske/sagebrush/denovo/SNPcall/good_bams/AV2_CV_162_mapped.bam\n",
      "login-1: samtools view /data/gpfs/assoc/denovo/tfaske/sagebrush/denovo/SNPcall/good_bams/AV2_CV_163_mapped.bam\n",
      "login-1: samtools view /data/gpfs/assoc/denovo/tfaske/sagebrush/denovo/SNPcall/good_bams/AV2_CV_164_mapped.bam\n",
      "login-1: samtools view /data/gpfs/assoc/denovo/tfaske/sagebrush/denovo/SNPcall/good_bams/AV2_CV_165_mapped.bam\n",
      "login-1: samtools view /data/gpfs/assoc/denovo/tfaske/sagebrush/denovo/SNPcall/good_bams/AV2_CV_166_mapped.bam\n",
      "login-1: samtools view /data/gpfs/assoc/denovo/tfaske/sagebrush/denovo/SNPcall/good_bams/AV2_CV_1_mapped.bam\n",
      "login-1: samtools view /data/gpfs/assoc/denovo/tfaske/sagebrush/denovo/SNPcall/good_bams/AV2_CV_2_mapped.bam\n",
      "login-1: samtools view /data/gpfs/assoc/denovo/tfaske/sagebrush/denovo/SNPcall/good_bams/AV2_CV_3_mapped.bam\n",
      "login-1: samtools view /data/gpfs/assoc/denovo/tfaske/sagebrush/denovo/SNPcall/good_bams/AV2_CV_4_mapped.bam\n",
      "login-1: samtools view /data/gpfs/assoc/denovo/tfaske/sagebrush/denovo/SNPcall/good_bams/AV2_CV_5_mapped.bam\n",
      "login-1: samtools view /data/gpfs/assoc/denovo/tfaske/sagebrush/denovo/SNPcall/good_bams/AV2_CV_6_mapped.bam\n",
      "login-1: samtools view /data/gpfs/assoc/denovo/tfaske/sagebrush/denovo/SNPcall/good_bams/AV2_CV_7_mapped.bam\n",
      "login-1: samtools view /data/gpfs/assoc/denovo/tfaske/sagebrush/denovo/SNPcall/good_bams/AV2_FP_1_mapped.bam\n",
      "login-1: samtools view /data/gpfs/assoc/denovo/tfaske/sagebrush/denovo/SNPcall/good_bams/AV2_FP_2_mapped.bam\n",
      "login-1: samtools view /data/gpfs/assoc/denovo/tfaske/sagebrush/denovo/SNPcall/good_bams/AV2_FP_3_mapped.bam\n",
      "login-1: samtools view /data/gpfs/assoc/denovo/tfaske/sagebrush/denovo/SNPcall/good_bams/AV2_FP_4_mapped.bam\n",
      "login-1: samtools view /data/gpfs/assoc/denovo/tfaske/sagebrush/denovo/SNPcall/good_bams/AV2_FP_5_mapped.bam\n",
      "login-1: samtools view /data/gpfs/assoc/denovo/tfaske/sagebrush/denovo/SNPcall/good_bams/AV2_FP_6_mapped.bam\n",
      "login-1: samtools view /data/gpfs/assoc/denovo/tfaske/sagebrush/denovo/SNPcall/good_bams/AV2_FP_7_mapped.bam\n",
      "login-1: samtools view /data/gpfs/assoc/denovo/tfaske/sagebrush/denovo/SNPcall/good_bams/AV2_GC_1_mapped.bam\n",
      "login-1: samtools view /data/gpfs/assoc/denovo/tfaske/sagebrush/denovo/SNPcall/good_bams/AV2_GC_2_mapped.bam\n",
      "login-1: samtools view /data/gpfs/assoc/denovo/tfaske/sagebrush/denovo/SNPcall/good_bams/AV2_GC_3_mapped.bam\n",
      "login-1: samtools view /data/gpfs/assoc/denovo/tfaske/sagebrush/denovo/SNPcall/good_bams/AV2_GC_4_mapped.bam\n",
      "login-1: samtools view /data/gpfs/assoc/denovo/tfaske/sagebrush/denovo/SNPcall/good_bams/AV2_GC_5_mapped.bam\n",
      "login-1: samtools view /data/gpfs/assoc/denovo/tfaske/sagebrush/denovo/SNPcall/good_bams/AV2_GC_6_mapped.bam\n",
      "login-1: samtools view /data/gpfs/assoc/denovo/tfaske/sagebrush/denovo/SNPcall/good_bams/AV2_GC_7_mapped.bam\n",
      "login-1: samtools view /data/gpfs/assoc/denovo/tfaske/sagebrush/denovo/SNPcall/good_bams/AV2_GC_8_mapped.bam\n",
      "login-1: samtools view /data/gpfs/assoc/denovo/tfaske/sagebrush/denovo/SNPcall/good_bams/AV2_GC_9_mapped.bam\n",
      "login-1: samtools view /data/gpfs/assoc/denovo/tfaske/sagebrush/denovo/SNPcall/good_bams/AV2_LV_100_mapped.bam\n",
      "login-1: samtools view /data/gpfs/assoc/denovo/tfaske/sagebrush/denovo/SNPcall/good_bams/AV2_LV_101_mapped.bam\n",
      "login-1: samtools view /data/gpfs/assoc/denovo/tfaske/sagebrush/denovo/SNPcall/good_bams/AV2_LV_102_mapped.bam\n",
      "login-1: samtools view /data/gpfs/assoc/denovo/tfaske/sagebrush/denovo/SNPcall/good_bams/AV2_LV_103_mapped.bam\n",
      "login-1: samtools view /data/gpfs/assoc/denovo/tfaske/sagebrush/denovo/SNPcall/good_bams/AV2_LV_104_mapped.bam\n",
      "login-1: samtools view /data/gpfs/assoc/denovo/tfaske/sagebrush/denovo/SNPcall/good_bams/AV2_LV_105_mapped.bam\n",
      "login-1: samtools view /data/gpfs/assoc/denovo/tfaske/sagebrush/denovo/SNPcall/good_bams/AV2_LV_91_mapped.bam\n",
      "login-1: samtools view /data/gpfs/assoc/denovo/tfaske/sagebrush/denovo/SNPcall/good_bams/AV2_LV_92_mapped.bam\n",
      "login-1: samtools view /data/gpfs/assoc/denovo/tfaske/sagebrush/denovo/SNPcall/good_bams/AV2_LV_93_mapped.bam\n",
      "login-1: samtools view /data/gpfs/assoc/denovo/tfaske/sagebrush/denovo/SNPcall/good_bams/AV2_LV_94_mapped.bam\n",
      "login-1: samtools view /data/gpfs/assoc/denovo/tfaske/sagebrush/denovo/SNPcall/good_bams/AV2_LV_95_mapped.bam\n",
      "login-1: samtools view /data/gpfs/assoc/denovo/tfaske/sagebrush/denovo/SNPcall/good_bams/AV2_LV_96_mapped.bam\n",
      "login-1: samtools view /data/gpfs/assoc/denovo/tfaske/sagebrush/denovo/SNPcall/good_bams/AV2_LV_97_mapped.bam\n",
      "login-1: samtools view /data/gpfs/assoc/denovo/tfaske/sagebrush/denovo/SNPcall/good_bams/AV2_LV_98_mapped.bam\n",
      "login-1: samtools view /data/gpfs/assoc/denovo/tfaske/sagebrush/denovo/SNPcall/good_bams/AV2_LV_99_mapped.bam\n",
      "login-1: samtools view /data/gpfs/assoc/denovo/tfaske/sagebrush/denovo/SNPcall/good_bams/AV2_NV_1_mapped.bam\n",
      "login-1: samtools view /data/gpfs/assoc/denovo/tfaske/sagebrush/denovo/SNPcall/good_bams/AV2_NV_2_mapped.bam\n",
      "login-1: samtools view /data/gpfs/assoc/denovo/tfaske/sagebrush/denovo/SNPcall/good_bams/AV2_NV_3_mapped.bam\n",
      "login-1: samtools view /data/gpfs/assoc/denovo/tfaske/sagebrush/denovo/SNPcall/good_bams/AV2_NV_4_mapped.bam\n",
      "login-1: samtools view /data/gpfs/assoc/denovo/tfaske/sagebrush/denovo/SNPcall/good_bams/AV2_NV_5_mapped.bam\n",
      "login-1: samtools view /data/gpfs/assoc/denovo/tfaske/sagebrush/denovo/SNPcall/good_bams/AV2_NV_6_mapped.bam\n",
      "login-1: samtools view /data/gpfs/assoc/denovo/tfaske/sagebrush/denovo/SNPcall/good_bams/AV2_NV_7_mapped.bam\n",
      "login-1: samtools view /data/gpfs/assoc/denovo/tfaske/sagebrush/denovo/SNPcall/good_bams/AV2_NV_8_mapped.bam\n",
      "login-1: samtools view /data/gpfs/assoc/denovo/tfaske/sagebrush/denovo/SNPcall/good_bams/AV2_NV_9_mapped.bam\n",
      "login-1: samtools view /data/gpfs/assoc/denovo/tfaske/sagebrush/denovo/SNPcall/good_bams/AV2_PL_10_mapped.bam\n",
      "login-1: samtools view /data/gpfs/assoc/denovo/tfaske/sagebrush/denovo/SNPcall/good_bams/AV2_PL_1_mapped.bam\n",
      "login-1: samtools view /data/gpfs/assoc/denovo/tfaske/sagebrush/denovo/SNPcall/good_bams/AV2_PL_2_mapped.bam\n",
      "login-1: samtools view /data/gpfs/assoc/denovo/tfaske/sagebrush/denovo/SNPcall/good_bams/AV2_PL_3_mapped.bam\n",
      "login-1: samtools view /data/gpfs/assoc/denovo/tfaske/sagebrush/denovo/SNPcall/good_bams/AV2_PL_4_mapped.bam\n",
      "login-1: samtools view /data/gpfs/assoc/denovo/tfaske/sagebrush/denovo/SNPcall/good_bams/AV2_PL_5_mapped.bam\n",
      "login-1: samtools view /data/gpfs/assoc/denovo/tfaske/sagebrush/denovo/SNPcall/good_bams/AV2_PL_6_mapped.bam\n",
      "login-1: samtools view /data/gpfs/assoc/denovo/tfaske/sagebrush/denovo/SNPcall/good_bams/AV2_PL_7_mapped.bam\n",
      "login-1: samtools view /data/gpfs/assoc/denovo/tfaske/sagebrush/denovo/SNPcall/good_bams/AV2_PL_8_mapped.bam\n",
      "login-1: samtools view /data/gpfs/assoc/denovo/tfaske/sagebrush/denovo/SNPcall/good_bams/AV2_PL_9_mapped.bam\n",
      "login-1: samtools view /data/gpfs/assoc/denovo/tfaske/sagebrush/denovo/SNPcall/good_bams/AV2_PR_10_mapped.bam\n",
      "login-1: samtools view /data/gpfs/assoc/denovo/tfaske/sagebrush/denovo/SNPcall/good_bams/AV2_PR_2_mapped.bam\n",
      "login-1: samtools view /data/gpfs/assoc/denovo/tfaske/sagebrush/denovo/SNPcall/good_bams/AV2_PR_3_mapped.bam\n",
      "login-1: samtools view /data/gpfs/assoc/denovo/tfaske/sagebrush/denovo/SNPcall/good_bams/AV2_PR_4_mapped.bam\n",
      "login-1: samtools view /data/gpfs/assoc/denovo/tfaske/sagebrush/denovo/SNPcall/good_bams/AV2_PR_5_mapped.bam\n",
      "login-1: samtools view /data/gpfs/assoc/denovo/tfaske/sagebrush/denovo/SNPcall/good_bams/AV2_PR_6_mapped.bam\n",
      "login-1: samtools view /data/gpfs/assoc/denovo/tfaske/sagebrush/denovo/SNPcall/good_bams/AV2_PR_7_mapped.bam\n",
      "login-1: samtools view /data/gpfs/assoc/denovo/tfaske/sagebrush/denovo/SNPcall/good_bams/AV2_PR_8_mapped.bam\n",
      "login-1: samtools view /data/gpfs/assoc/denovo/tfaske/sagebrush/denovo/SNPcall/good_bams/AV2_PR_9_mapped.bam\n",
      "login-1: samtools view /data/gpfs/assoc/denovo/tfaske/sagebrush/denovo/SNPcall/good_bams/AV2_PT_10_mapped.bam\n",
      "login-1: samtools view /data/gpfs/assoc/denovo/tfaske/sagebrush/denovo/SNPcall/good_bams/AV2_PT_1_mapped.bam\n",
      "login-1: samtools view /data/gpfs/assoc/denovo/tfaske/sagebrush/denovo/SNPcall/good_bams/AV2_PT_2_mapped.bam\n"
     ]
    },
    {
     "name": "stderr",
     "output_type": "stream",
     "text": [
      "login-1: samtools view /data/gpfs/assoc/denovo/tfaske/sagebrush/denovo/SNPcall/good_bams/AV2_PT_3_mapped.bam\n",
      "login-1: samtools view /data/gpfs/assoc/denovo/tfaske/sagebrush/denovo/SNPcall/good_bams/AV2_PT_4_mapped.bam\n",
      "login-1: samtools view /data/gpfs/assoc/denovo/tfaske/sagebrush/denovo/SNPcall/good_bams/AV2_PT_5_mapped.bam\n",
      "login-1: samtools view /data/gpfs/assoc/denovo/tfaske/sagebrush/denovo/SNPcall/good_bams/AV2_PT_6_mapped.bam\n",
      "login-1: samtools view /data/gpfs/assoc/denovo/tfaske/sagebrush/denovo/SNPcall/good_bams/AV2_PT_7_mapped.bam\n",
      "login-1: samtools view /data/gpfs/assoc/denovo/tfaske/sagebrush/denovo/SNPcall/good_bams/AV2_PT_8_mapped.bam\n",
      "login-1: samtools view /data/gpfs/assoc/denovo/tfaske/sagebrush/denovo/SNPcall/good_bams/AV2_PT_9_mapped.bam\n",
      "login-1: samtools view /data/gpfs/assoc/denovo/tfaske/sagebrush/denovo/SNPcall/good_bams/AV2_SN_125_mapped.bam\n",
      "login-1: samtools view /data/gpfs/assoc/denovo/tfaske/sagebrush/denovo/SNPcall/good_bams/AV2_SN_126_mapped.bam\n",
      "login-1: samtools view /data/gpfs/assoc/denovo/tfaske/sagebrush/denovo/SNPcall/good_bams/AV2_SN_127_mapped.bam\n",
      "login-1: samtools view /data/gpfs/assoc/denovo/tfaske/sagebrush/denovo/SNPcall/good_bams/AV2_SN_128_mapped.bam\n",
      "login-1: samtools view /data/gpfs/assoc/denovo/tfaske/sagebrush/denovo/SNPcall/good_bams/AV2_SN_129_mapped.bam\n",
      "login-1: samtools view /data/gpfs/assoc/denovo/tfaske/sagebrush/denovo/SNPcall/good_bams/AV2_SN_130_mapped.bam\n",
      "login-1: samtools view /data/gpfs/assoc/denovo/tfaske/sagebrush/denovo/SNPcall/good_bams/AV2_SN_131_mapped.bam\n",
      "login-1: samtools view /data/gpfs/assoc/denovo/tfaske/sagebrush/denovo/SNPcall/good_bams/AV2_SN_132_mapped.bam\n",
      "login-1: samtools view /data/gpfs/assoc/denovo/tfaske/sagebrush/denovo/SNPcall/good_bams/AV2_SN_133_mapped.bam\n",
      "login-1: samtools view /data/gpfs/assoc/denovo/tfaske/sagebrush/denovo/SNPcall/good_bams/AV2_SN_1_mapped.bam\n",
      "login-1: samtools view /data/gpfs/assoc/denovo/tfaske/sagebrush/denovo/SNPcall/good_bams/AV2_SN_2_mapped.bam\n",
      "login-1: samtools view /data/gpfs/assoc/denovo/tfaske/sagebrush/denovo/SNPcall/good_bams/AV2_SN_3_mapped.bam\n",
      "login-1: samtools view /data/gpfs/assoc/denovo/tfaske/sagebrush/denovo/SNPcall/good_bams/AV2_SN_4_mapped.bam\n",
      "login-1: samtools view /data/gpfs/assoc/denovo/tfaske/sagebrush/denovo/SNPcall/good_bams/AV2_SN_5_mapped.bam\n",
      "login-1: samtools view /data/gpfs/assoc/denovo/tfaske/sagebrush/denovo/SNPcall/good_bams/AV2_SN_6_mapped.bam\n",
      "login-1: samtools view /data/gpfs/assoc/denovo/tfaske/sagebrush/denovo/SNPcall/good_bams/AV2_SN_7_mapped.bam\n",
      "login-1: samtools view /data/gpfs/assoc/denovo/tfaske/sagebrush/denovo/SNPcall/good_bams/AV2_TF_150_mapped.bam\n",
      "login-1: samtools view /data/gpfs/assoc/denovo/tfaske/sagebrush/denovo/SNPcall/good_bams/AV2_TF_151_mapped.bam\n",
      "login-1: samtools view /data/gpfs/assoc/denovo/tfaske/sagebrush/denovo/SNPcall/good_bams/AV2_TF_152_mapped.bam\n",
      "login-1: samtools view /data/gpfs/assoc/denovo/tfaske/sagebrush/denovo/SNPcall/good_bams/AV2_TF_153_mapped.bam\n",
      "login-1: samtools view /data/gpfs/assoc/denovo/tfaske/sagebrush/denovo/SNPcall/good_bams/AV2_TF_154_mapped.bam\n",
      "login-1: samtools view /data/gpfs/assoc/denovo/tfaske/sagebrush/denovo/SNPcall/good_bams/AV2_TF_155_mapped.bam\n",
      "login-1: samtools view /data/gpfs/assoc/denovo/tfaske/sagebrush/denovo/SNPcall/good_bams/AV2_TF_156_mapped.bam\n",
      "login-1: samtools view /data/gpfs/assoc/denovo/tfaske/sagebrush/denovo/SNPcall/good_bams/AV2_UV_1_mapped.bam\n",
      "login-1: samtools view /data/gpfs/assoc/denovo/tfaske/sagebrush/denovo/SNPcall/good_bams/AV2_UV_2_mapped.bam\n",
      "login-1: samtools view /data/gpfs/assoc/denovo/tfaske/sagebrush/denovo/SNPcall/good_bams/AV2_UV_3_mapped.bam\n",
      "login-1: samtools view /data/gpfs/assoc/denovo/tfaske/sagebrush/denovo/SNPcall/good_bams/AV2_UV_4_mapped.bam\n",
      "login-1: samtools view /data/gpfs/assoc/denovo/tfaske/sagebrush/denovo/SNPcall/good_bams/AV2_UV_5_mapped.bam\n",
      "login-1: samtools view /data/gpfs/assoc/denovo/tfaske/sagebrush/denovo/SNPcall/good_bams/AV2_UV_6_mapped.bam\n",
      "login-1: samtools view /data/gpfs/assoc/denovo/tfaske/sagebrush/denovo/SNPcall/good_bams/AV2_UV_7_mapped.bam\n",
      "login-1: samtools view /data/gpfs/assoc/denovo/tfaske/sagebrush/denovo/SNPcall/good_bams/AV2_UV_8_mapped.bam\n",
      "login-1: samtools view /data/gpfs/assoc/denovo/tfaske/sagebrush/denovo/SNPcall/good_bams/AV2_UV_9_mapped.bam\n",
      "login-1: samtools view /data/gpfs/assoc/denovo/tfaske/sagebrush/denovo/SNPcall/good_bams/AV4_CF_1_mapped.bam\n",
      "login-1: samtools view /data/gpfs/assoc/denovo/tfaske/sagebrush/denovo/SNPcall/good_bams/AV4_CF_2_mapped.bam\n",
      "login-1: samtools view /data/gpfs/assoc/denovo/tfaske/sagebrush/denovo/SNPcall/good_bams/AV4_CF_3_mapped.bam\n",
      "login-1: samtools view /data/gpfs/assoc/denovo/tfaske/sagebrush/denovo/SNPcall/good_bams/AV4_DH_10_mapped.bam\n",
      "login-1: samtools view /data/gpfs/assoc/denovo/tfaske/sagebrush/denovo/SNPcall/good_bams/AV4_DH_1_mapped.bam\n",
      "login-1: samtools view /data/gpfs/assoc/denovo/tfaske/sagebrush/denovo/SNPcall/good_bams/AV4_DH_2_mapped.bam\n",
      "login-1: samtools view /data/gpfs/assoc/denovo/tfaske/sagebrush/denovo/SNPcall/good_bams/AV4_DH_3_mapped.bam\n",
      "login-1: samtools view /data/gpfs/assoc/denovo/tfaske/sagebrush/denovo/SNPcall/good_bams/AV4_DH_4_mapped.bam\n",
      "login-1: samtools view /data/gpfs/assoc/denovo/tfaske/sagebrush/denovo/SNPcall/good_bams/AV4_DH_5_mapped.bam\n",
      "login-1: samtools view /data/gpfs/assoc/denovo/tfaske/sagebrush/denovo/SNPcall/good_bams/AV4_DH_6_mapped.bam\n",
      "login-1: samtools view /data/gpfs/assoc/denovo/tfaske/sagebrush/denovo/SNPcall/good_bams/AV4_DH_7_mapped.bam\n",
      "login-1: samtools view /data/gpfs/assoc/denovo/tfaske/sagebrush/denovo/SNPcall/good_bams/AV4_DH_8_mapped.bam\n",
      "login-1: samtools view /data/gpfs/assoc/denovo/tfaske/sagebrush/denovo/SNPcall/good_bams/AV4_DH_9_mapped.bam\n",
      "login-1: samtools view /data/gpfs/assoc/denovo/tfaske/sagebrush/denovo/SNPcall/good_bams/AV4_EW_10_mapped.bam\n",
      "login-1: samtools view /data/gpfs/assoc/denovo/tfaske/sagebrush/denovo/SNPcall/good_bams/AV4_EW_1_mapped.bam\n",
      "login-1: samtools view /data/gpfs/assoc/denovo/tfaske/sagebrush/denovo/SNPcall/good_bams/AV4_EW_2_mapped.bam\n",
      "login-1: samtools view /data/gpfs/assoc/denovo/tfaske/sagebrush/denovo/SNPcall/good_bams/AV4_EW_3_mapped.bam\n",
      "login-1: samtools view /data/gpfs/assoc/denovo/tfaske/sagebrush/denovo/SNPcall/good_bams/AV4_EW_4_mapped.bam\n",
      "login-1: samtools view /data/gpfs/assoc/denovo/tfaske/sagebrush/denovo/SNPcall/good_bams/AV4_EW_5_mapped.bam\n",
      "login-1: samtools view /data/gpfs/assoc/denovo/tfaske/sagebrush/denovo/SNPcall/good_bams/AV4_EW_6_mapped.bam\n",
      "login-1: samtools view /data/gpfs/assoc/denovo/tfaske/sagebrush/denovo/SNPcall/good_bams/AV4_EW_7_mapped.bam\n",
      "login-1: samtools view /data/gpfs/assoc/denovo/tfaske/sagebrush/denovo/SNPcall/good_bams/AV4_EW_8_mapped.bam\n",
      "login-1: samtools view /data/gpfs/assoc/denovo/tfaske/sagebrush/denovo/SNPcall/good_bams/AV4_EW_9_mapped.bam\n",
      "login-1: samtools view /data/gpfs/assoc/denovo/tfaske/sagebrush/denovo/SNPcall/good_bams/AV4_JU_1_mapped.bam\n",
      "login-1: samtools view /data/gpfs/assoc/denovo/tfaske/sagebrush/denovo/SNPcall/good_bams/AV4_JU_3_mapped.bam\n",
      "login-1: samtools view /data/gpfs/assoc/denovo/tfaske/sagebrush/denovo/SNPcall/good_bams/AV4_JU_4_mapped.bam\n",
      "login-1: samtools view /data/gpfs/assoc/denovo/tfaske/sagebrush/denovo/SNPcall/good_bams/AV4_JU_5_mapped.bam\n",
      "login-1: samtools view /data/gpfs/assoc/denovo/tfaske/sagebrush/denovo/SNPcall/good_bams/AV4_JU_6_mapped.bam\n",
      "login-1: samtools view /data/gpfs/assoc/denovo/tfaske/sagebrush/denovo/SNPcall/good_bams/AV4_JU_7_mapped.bam\n",
      "login-1: samtools view /data/gpfs/assoc/denovo/tfaske/sagebrush/denovo/SNPcall/good_bams/AV4_LM_10_mapped.bam\n",
      "login-1: samtools view /data/gpfs/assoc/denovo/tfaske/sagebrush/denovo/SNPcall/good_bams/AV4_LM_1_mapped.bam\n",
      "login-1: samtools view /data/gpfs/assoc/denovo/tfaske/sagebrush/denovo/SNPcall/good_bams/AV4_LM_2_mapped.bam\n",
      "login-1: samtools view /data/gpfs/assoc/denovo/tfaske/sagebrush/denovo/SNPcall/good_bams/AV4_LM_3_mapped.bam\n",
      "login-1: samtools view /data/gpfs/assoc/denovo/tfaske/sagebrush/denovo/SNPcall/good_bams/AV4_LM_4_mapped.bam\n",
      "login-1: samtools view /data/gpfs/assoc/denovo/tfaske/sagebrush/denovo/SNPcall/good_bams/AV4_LM_5_mapped.bam\n",
      "login-1: samtools view /data/gpfs/assoc/denovo/tfaske/sagebrush/denovo/SNPcall/good_bams/AV4_LM_6_mapped.bam\n"
     ]
    },
    {
     "name": "stderr",
     "output_type": "stream",
     "text": [
      "login-1: samtools view /data/gpfs/assoc/denovo/tfaske/sagebrush/denovo/SNPcall/good_bams/AV4_LM_7_mapped.bam\n",
      "login-1: samtools view /data/gpfs/assoc/denovo/tfaske/sagebrush/denovo/SNPcall/good_bams/AV4_LM_8_mapped.bam\n",
      "login-1: samtools view /data/gpfs/assoc/denovo/tfaske/sagebrush/denovo/SNPcall/good_bams/AV4_LM_9_mapped.bam\n",
      "login-1: samtools view /data/gpfs/assoc/denovo/tfaske/sagebrush/denovo/SNPcall/good_bams/AV4_LS_10_mapped.bam\n",
      "login-1: samtools view /data/gpfs/assoc/denovo/tfaske/sagebrush/denovo/SNPcall/good_bams/AV4_LS_11_mapped.bam\n",
      "login-1: samtools view /data/gpfs/assoc/denovo/tfaske/sagebrush/denovo/SNPcall/good_bams/AV4_LS_12_mapped.bam\n",
      "login-1: samtools view /data/gpfs/assoc/denovo/tfaske/sagebrush/denovo/SNPcall/good_bams/AV4_LS_13_mapped.bam\n",
      "login-1: samtools view /data/gpfs/assoc/denovo/tfaske/sagebrush/denovo/SNPcall/good_bams/AV4_LS_14_mapped.bam\n",
      "login-1: samtools view /data/gpfs/assoc/denovo/tfaske/sagebrush/denovo/SNPcall/good_bams/AV4_LS_15_mapped.bam\n",
      "login-1: samtools view /data/gpfs/assoc/denovo/tfaske/sagebrush/denovo/SNPcall/good_bams/AV4_LS_16_mapped.bam\n",
      "login-1: samtools view /data/gpfs/assoc/denovo/tfaske/sagebrush/denovo/SNPcall/good_bams/AV4_LS_17_mapped.bam\n",
      "login-1: samtools view /data/gpfs/assoc/denovo/tfaske/sagebrush/denovo/SNPcall/good_bams/AV4_LS_18_mapped.bam\n",
      "login-1: samtools view /data/gpfs/assoc/denovo/tfaske/sagebrush/denovo/SNPcall/good_bams/AV4_LS_19_mapped.bam\n",
      "login-1: samtools view /data/gpfs/assoc/denovo/tfaske/sagebrush/denovo/SNPcall/good_bams/AV4_LS_1_mapped.bam\n",
      "login-1: samtools view /data/gpfs/assoc/denovo/tfaske/sagebrush/denovo/SNPcall/good_bams/AV4_LS_20_mapped.bam\n",
      "login-1: samtools view /data/gpfs/assoc/denovo/tfaske/sagebrush/denovo/SNPcall/good_bams/AV4_LS_21_mapped.bam\n",
      "login-1: samtools view /data/gpfs/assoc/denovo/tfaske/sagebrush/denovo/SNPcall/good_bams/AV4_LS_22_mapped.bam\n",
      "login-1: samtools view /data/gpfs/assoc/denovo/tfaske/sagebrush/denovo/SNPcall/good_bams/AV4_LS_23_mapped.bam\n",
      "login-1: samtools view /data/gpfs/assoc/denovo/tfaske/sagebrush/denovo/SNPcall/good_bams/AV4_LS_24_mapped.bam\n",
      "login-1: samtools view /data/gpfs/assoc/denovo/tfaske/sagebrush/denovo/SNPcall/good_bams/AV4_LS_25_mapped.bam\n",
      "login-1: samtools view /data/gpfs/assoc/denovo/tfaske/sagebrush/denovo/SNPcall/good_bams/AV4_LS_26_mapped.bam\n",
      "login-1: samtools view /data/gpfs/assoc/denovo/tfaske/sagebrush/denovo/SNPcall/good_bams/AV4_LS_27_mapped.bam\n",
      "login-1: samtools view /data/gpfs/assoc/denovo/tfaske/sagebrush/denovo/SNPcall/good_bams/AV4_LS_2_mapped.bam\n",
      "login-1: samtools view /data/gpfs/assoc/denovo/tfaske/sagebrush/denovo/SNPcall/good_bams/AV4_LS_3_mapped.bam\n",
      "login-1: samtools view /data/gpfs/assoc/denovo/tfaske/sagebrush/denovo/SNPcall/good_bams/AV4_LS_4_mapped.bam\n",
      "login-1: samtools view /data/gpfs/assoc/denovo/tfaske/sagebrush/denovo/SNPcall/good_bams/AV4_LS_5_mapped.bam\n",
      "login-1: samtools view /data/gpfs/assoc/denovo/tfaske/sagebrush/denovo/SNPcall/good_bams/AV4_LS_6_mapped.bam\n",
      "login-1: samtools view /data/gpfs/assoc/denovo/tfaske/sagebrush/denovo/SNPcall/good_bams/AV4_LS_7_mapped.bam\n",
      "login-1: samtools view /data/gpfs/assoc/denovo/tfaske/sagebrush/denovo/SNPcall/good_bams/AV4_LS_8_mapped.bam\n",
      "login-1: samtools view /data/gpfs/assoc/denovo/tfaske/sagebrush/denovo/SNPcall/good_bams/AV4_LS_9_mapped.bam\n",
      "login-1: samtools view /data/gpfs/assoc/denovo/tfaske/sagebrush/denovo/SNPcall/good_bams/AV4_RR_10_mapped.bam\n",
      "login-1: samtools view /data/gpfs/assoc/denovo/tfaske/sagebrush/denovo/SNPcall/good_bams/AV4_RR_1_mapped.bam\n",
      "login-1: samtools view /data/gpfs/assoc/denovo/tfaske/sagebrush/denovo/SNPcall/good_bams/AV4_RR_2_mapped.bam\n",
      "login-1: samtools view /data/gpfs/assoc/denovo/tfaske/sagebrush/denovo/SNPcall/good_bams/AV4_RR_3_mapped.bam\n",
      "login-1: samtools view /data/gpfs/assoc/denovo/tfaske/sagebrush/denovo/SNPcall/good_bams/AV4_RR_4_mapped.bam\n",
      "login-1: samtools view /data/gpfs/assoc/denovo/tfaske/sagebrush/denovo/SNPcall/good_bams/AV4_RR_5_mapped.bam\n",
      "login-1: samtools view /data/gpfs/assoc/denovo/tfaske/sagebrush/denovo/SNPcall/good_bams/AV4_RR_7_mapped.bam\n",
      "login-1: samtools view /data/gpfs/assoc/denovo/tfaske/sagebrush/denovo/SNPcall/good_bams/AV4_RR_8_mapped.bam\n",
      "login-1: samtools view /data/gpfs/assoc/denovo/tfaske/sagebrush/denovo/SNPcall/good_bams/AV4_RR_9_mapped.bam\n",
      "login-1: samtools view /data/gpfs/assoc/denovo/tfaske/sagebrush/denovo/SNPcall/good_bams/AW4_AH_121_mapped.bam\n",
      "login-1: samtools view /data/gpfs/assoc/denovo/tfaske/sagebrush/denovo/SNPcall/good_bams/AW4_AH_122_mapped.bam\n",
      "login-1: samtools view /data/gpfs/assoc/denovo/tfaske/sagebrush/denovo/SNPcall/good_bams/AW4_AH_123_mapped.bam\n",
      "login-1: samtools view /data/gpfs/assoc/denovo/tfaske/sagebrush/denovo/SNPcall/good_bams/AW4_AH_124_mapped.bam\n",
      "login-1: samtools view /data/gpfs/assoc/denovo/tfaske/sagebrush/denovo/SNPcall/good_bams/AW4_AH_125_mapped.bam\n",
      "login-1: samtools view /data/gpfs/assoc/denovo/tfaske/sagebrush/denovo/SNPcall/good_bams/AW4_AH_126_mapped.bam\n",
      "login-1: samtools view /data/gpfs/assoc/denovo/tfaske/sagebrush/denovo/SNPcall/good_bams/AW4_AH_127_mapped.bam\n",
      "login-1: samtools view /data/gpfs/assoc/denovo/tfaske/sagebrush/denovo/SNPcall/good_bams/AW4_AH_128_mapped.bam\n",
      "login-1: samtools view /data/gpfs/assoc/denovo/tfaske/sagebrush/denovo/SNPcall/good_bams/AW4_AH_129_mapped.bam\n",
      "login-1: samtools view /data/gpfs/assoc/denovo/tfaske/sagebrush/denovo/SNPcall/good_bams/AW4_AH_130_mapped.bam\n",
      "login-1: samtools view /data/gpfs/assoc/denovo/tfaske/sagebrush/denovo/SNPcall/good_bams/AW4_AH_131_mapped.bam\n",
      "login-1: samtools view /data/gpfs/assoc/denovo/tfaske/sagebrush/denovo/SNPcall/good_bams/AW4_AH_132_mapped.bam\n",
      "login-1: samtools view /data/gpfs/assoc/denovo/tfaske/sagebrush/denovo/SNPcall/good_bams/AW4_AH_133_mapped.bam\n",
      "login-1: samtools view /data/gpfs/assoc/denovo/tfaske/sagebrush/denovo/SNPcall/good_bams/AW4_AH_134_mapped.bam\n",
      "login-1: samtools view /data/gpfs/assoc/denovo/tfaske/sagebrush/denovo/SNPcall/good_bams/AW4_AH_135_mapped.bam\n",
      "login-1: samtools view /data/gpfs/assoc/denovo/tfaske/sagebrush/denovo/SNPcall/good_bams/AW4_FR_10_mapped.bam\n",
      "login-1: samtools view /data/gpfs/assoc/denovo/tfaske/sagebrush/denovo/SNPcall/good_bams/AW4_FR_1_mapped.bam\n",
      "login-1: samtools view /data/gpfs/assoc/denovo/tfaske/sagebrush/denovo/SNPcall/good_bams/AW4_FR_2_mapped.bam\n",
      "login-1: samtools view /data/gpfs/assoc/denovo/tfaske/sagebrush/denovo/SNPcall/good_bams/AW4_FR_3_mapped.bam\n",
      "login-1: samtools view /data/gpfs/assoc/denovo/tfaske/sagebrush/denovo/SNPcall/good_bams/AW4_FR_5_mapped.bam\n",
      "login-1: samtools view /data/gpfs/assoc/denovo/tfaske/sagebrush/denovo/SNPcall/good_bams/AW4_FR_6_mapped.bam\n",
      "login-1: samtools view /data/gpfs/assoc/denovo/tfaske/sagebrush/denovo/SNPcall/good_bams/AW4_FR_7_mapped.bam\n",
      "login-1: samtools view /data/gpfs/assoc/denovo/tfaske/sagebrush/denovo/SNPcall/good_bams/AW4_FR_8_mapped.bam\n",
      "login-1: samtools view /data/gpfs/assoc/denovo/tfaske/sagebrush/denovo/SNPcall/good_bams/AW4_FR_9_mapped.bam\n",
      "login-1: samtools view /data/gpfs/assoc/denovo/tfaske/sagebrush/denovo/SNPcall/good_bams/AW4_GB_10_mapped.bam\n",
      "login-1: samtools view /data/gpfs/assoc/denovo/tfaske/sagebrush/denovo/SNPcall/good_bams/AW4_GB_1_mapped.bam\n",
      "login-1: samtools view /data/gpfs/assoc/denovo/tfaske/sagebrush/denovo/SNPcall/good_bams/AW4_GB_2_mapped.bam\n",
      "login-1: samtools view /data/gpfs/assoc/denovo/tfaske/sagebrush/denovo/SNPcall/good_bams/AW4_GB_4_mapped.bam\n",
      "login-1: samtools view /data/gpfs/assoc/denovo/tfaske/sagebrush/denovo/SNPcall/good_bams/AW4_GB_5_mapped.bam\n",
      "login-1: samtools view /data/gpfs/assoc/denovo/tfaske/sagebrush/denovo/SNPcall/good_bams/AW4_GB_6_mapped.bam\n",
      "login-1: samtools view /data/gpfs/assoc/denovo/tfaske/sagebrush/denovo/SNPcall/good_bams/AW4_GB_7_mapped.bam\n",
      "login-1: samtools view /data/gpfs/assoc/denovo/tfaske/sagebrush/denovo/SNPcall/good_bams/AW4_GB_8_mapped.bam\n",
      "login-1: samtools view /data/gpfs/assoc/denovo/tfaske/sagebrush/denovo/SNPcall/good_bams/AW4_GB_9_mapped.bam\n",
      "login-1: samtools view /data/gpfs/assoc/denovo/tfaske/sagebrush/denovo/SNPcall/good_bams/AW4_HO_10_mapped.bam\n",
      "login-1: samtools view /data/gpfs/assoc/denovo/tfaske/sagebrush/denovo/SNPcall/good_bams/AW4_HO_1_mapped.bam\n",
      "login-1: samtools view /data/gpfs/assoc/denovo/tfaske/sagebrush/denovo/SNPcall/good_bams/AW4_HO_2_mapped.bam\n"
     ]
    },
    {
     "name": "stderr",
     "output_type": "stream",
     "text": [
      "login-1: samtools view /data/gpfs/assoc/denovo/tfaske/sagebrush/denovo/SNPcall/good_bams/AW4_HO_3_mapped.bam\n",
      "login-1: samtools view /data/gpfs/assoc/denovo/tfaske/sagebrush/denovo/SNPcall/good_bams/AW4_HO_4_mapped.bam\n",
      "login-1: samtools view /data/gpfs/assoc/denovo/tfaske/sagebrush/denovo/SNPcall/good_bams/AW4_HO_5_mapped.bam\n",
      "login-1: samtools view /data/gpfs/assoc/denovo/tfaske/sagebrush/denovo/SNPcall/good_bams/AW4_HO_6_mapped.bam\n",
      "login-1: samtools view /data/gpfs/assoc/denovo/tfaske/sagebrush/denovo/SNPcall/good_bams/AW4_HO_7_mapped.bam\n",
      "login-1: samtools view /data/gpfs/assoc/denovo/tfaske/sagebrush/denovo/SNPcall/good_bams/AW4_HO_8_mapped.bam\n",
      "login-1: samtools view /data/gpfs/assoc/denovo/tfaske/sagebrush/denovo/SNPcall/good_bams/AW4_HO_9_mapped.bam\n",
      "login-1: samtools view /data/gpfs/assoc/denovo/tfaske/sagebrush/denovo/SNPcall/good_bams/AW4_JC_10_mapped.bam\n",
      "login-1: samtools view /data/gpfs/assoc/denovo/tfaske/sagebrush/denovo/SNPcall/good_bams/AW4_JC_1_mapped.bam\n",
      "login-1: samtools view /data/gpfs/assoc/denovo/tfaske/sagebrush/denovo/SNPcall/good_bams/AW4_JC_3_mapped.bam\n",
      "login-1: samtools view /data/gpfs/assoc/denovo/tfaske/sagebrush/denovo/SNPcall/good_bams/AW4_JC_4_mapped.bam\n",
      "login-1: samtools view /data/gpfs/assoc/denovo/tfaske/sagebrush/denovo/SNPcall/good_bams/AW4_JC_5_mapped.bam\n",
      "login-1: samtools view /data/gpfs/assoc/denovo/tfaske/sagebrush/denovo/SNPcall/good_bams/AW4_JC_6_mapped.bam\n",
      "login-1: samtools view /data/gpfs/assoc/denovo/tfaske/sagebrush/denovo/SNPcall/good_bams/AW4_JC_7_mapped.bam\n",
      "login-1: samtools view /data/gpfs/assoc/denovo/tfaske/sagebrush/denovo/SNPcall/good_bams/AW4_JC_8_mapped.bam\n",
      "login-1: samtools view /data/gpfs/assoc/denovo/tfaske/sagebrush/denovo/SNPcall/good_bams/AW4_JC_9_mapped.bam\n",
      "login-1: samtools view /data/gpfs/assoc/denovo/tfaske/sagebrush/denovo/SNPcall/good_bams/AW4_LW_10_mapped.bam\n",
      "login-1: samtools view /data/gpfs/assoc/denovo/tfaske/sagebrush/denovo/SNPcall/good_bams/AW4_LW_1_mapped.bam\n",
      "login-1: samtools view /data/gpfs/assoc/denovo/tfaske/sagebrush/denovo/SNPcall/good_bams/AW4_LW_2_mapped.bam\n",
      "login-1: samtools view /data/gpfs/assoc/denovo/tfaske/sagebrush/denovo/SNPcall/good_bams/AW4_LW_3_mapped.bam\n",
      "login-1: samtools view /data/gpfs/assoc/denovo/tfaske/sagebrush/denovo/SNPcall/good_bams/AW4_LW_4_mapped.bam\n",
      "login-1: samtools view /data/gpfs/assoc/denovo/tfaske/sagebrush/denovo/SNPcall/good_bams/AW4_LW_5_mapped.bam\n",
      "login-1: samtools view /data/gpfs/assoc/denovo/tfaske/sagebrush/denovo/SNPcall/good_bams/AW4_LW_6_mapped.bam\n",
      "login-1: samtools view /data/gpfs/assoc/denovo/tfaske/sagebrush/denovo/SNPcall/good_bams/AW4_LW_7_mapped.bam\n",
      "login-1: samtools view /data/gpfs/assoc/denovo/tfaske/sagebrush/denovo/SNPcall/good_bams/AW4_LW_8_mapped.bam\n",
      "login-1: samtools view /data/gpfs/assoc/denovo/tfaske/sagebrush/denovo/SNPcall/good_bams/AW4_LW_9_mapped.bam\n",
      "login-1: samtools view /data/gpfs/assoc/denovo/tfaske/sagebrush/denovo/SNPcall/good_bams/AW4_MC_1_mapped.bam\n",
      "login-1: samtools view /data/gpfs/assoc/denovo/tfaske/sagebrush/denovo/SNPcall/good_bams/AW4_MC_2_mapped.bam\n",
      "login-1: samtools view /data/gpfs/assoc/denovo/tfaske/sagebrush/denovo/SNPcall/good_bams/AW4_MC_3_mapped.bam\n",
      "login-1: samtools view /data/gpfs/assoc/denovo/tfaske/sagebrush/denovo/SNPcall/good_bams/AW4_MC_4_mapped.bam\n",
      "login-1: samtools view /data/gpfs/assoc/denovo/tfaske/sagebrush/denovo/SNPcall/good_bams/AW4_MC_5_mapped.bam\n",
      "login-1: samtools view /data/gpfs/assoc/denovo/tfaske/sagebrush/denovo/SNPcall/good_bams/AW4_MC_6_mapped.bam\n",
      "login-1: samtools view /data/gpfs/assoc/denovo/tfaske/sagebrush/denovo/SNPcall/good_bams/AW4_MD_10_mapped.bam\n",
      "login-1: samtools view /data/gpfs/assoc/denovo/tfaske/sagebrush/denovo/SNPcall/good_bams/AW4_MD_1_mapped.bam\n",
      "login-1: samtools view /data/gpfs/assoc/denovo/tfaske/sagebrush/denovo/SNPcall/good_bams/AW4_MD_2_mapped.bam\n",
      "login-1: samtools view /data/gpfs/assoc/denovo/tfaske/sagebrush/denovo/SNPcall/good_bams/AW4_MD_3_mapped.bam\n",
      "login-1: samtools view /data/gpfs/assoc/denovo/tfaske/sagebrush/denovo/SNPcall/good_bams/AW4_MD_4_mapped.bam\n",
      "login-1: samtools view /data/gpfs/assoc/denovo/tfaske/sagebrush/denovo/SNPcall/good_bams/AW4_MD_5_mapped.bam\n",
      "login-1: samtools view /data/gpfs/assoc/denovo/tfaske/sagebrush/denovo/SNPcall/good_bams/AW4_MD_6_mapped.bam\n",
      "login-1: samtools view /data/gpfs/assoc/denovo/tfaske/sagebrush/denovo/SNPcall/good_bams/AW4_MD_7_mapped.bam\n",
      "login-1: samtools view /data/gpfs/assoc/denovo/tfaske/sagebrush/denovo/SNPcall/good_bams/AW4_MD_8_mapped.bam\n",
      "login-1: samtools view /data/gpfs/assoc/denovo/tfaske/sagebrush/denovo/SNPcall/good_bams/AW4_MD_9_mapped.bam\n",
      "login-1: samtools view /data/gpfs/assoc/denovo/tfaske/sagebrush/denovo/SNPcall/good_bams/AW4_MK_220_mapped.bam\n",
      "login-1: samtools view /data/gpfs/assoc/denovo/tfaske/sagebrush/denovo/SNPcall/good_bams/AW4_MK_221_mapped.bam\n",
      "login-1: samtools view /data/gpfs/assoc/denovo/tfaske/sagebrush/denovo/SNPcall/good_bams/AW4_MK_222_mapped.bam\n",
      "login-1: samtools view /data/gpfs/assoc/denovo/tfaske/sagebrush/denovo/SNPcall/good_bams/AW4_MK_223_mapped.bam\n",
      "login-1: samtools view /data/gpfs/assoc/denovo/tfaske/sagebrush/denovo/SNPcall/good_bams/AW4_MK_224_mapped.bam\n",
      "login-1: samtools view /data/gpfs/assoc/denovo/tfaske/sagebrush/denovo/SNPcall/good_bams/AW4_MK_225_mapped.bam\n",
      "login-1: samtools view /data/gpfs/assoc/denovo/tfaske/sagebrush/denovo/SNPcall/good_bams/AW4_MK_226_mapped.bam\n",
      "login-1: samtools view /data/gpfs/assoc/denovo/tfaske/sagebrush/denovo/SNPcall/good_bams/AW4_MK_227_mapped.bam\n",
      "login-1: samtools view /data/gpfs/assoc/denovo/tfaske/sagebrush/denovo/SNPcall/good_bams/AW4_MK_228_mapped.bam\n",
      "login-1: samtools view /data/gpfs/assoc/denovo/tfaske/sagebrush/denovo/SNPcall/good_bams/AW4_MK_229_mapped.bam\n",
      "login-1: samtools view /data/gpfs/assoc/denovo/tfaske/sagebrush/denovo/SNPcall/good_bams/AW4_MK_230_mapped.bam\n",
      "login-1: samtools view /data/gpfs/assoc/denovo/tfaske/sagebrush/denovo/SNPcall/good_bams/AW4_MK_231_mapped.bam\n",
      "login-1: samtools view /data/gpfs/assoc/denovo/tfaske/sagebrush/denovo/SNPcall/good_bams/AW4_MK_233_mapped.bam\n",
      "login-1: samtools view /data/gpfs/assoc/denovo/tfaske/sagebrush/denovo/SNPcall/good_bams/AW4_MK_234_mapped.bam\n",
      "login-1: samtools view /data/gpfs/assoc/denovo/tfaske/sagebrush/denovo/SNPcall/good_bams/AW4_MK_235_mapped.bam\n",
      "login-1: samtools view /data/gpfs/assoc/denovo/tfaske/sagebrush/denovo/SNPcall/good_bams/AW4_MK_236_mapped.bam\n",
      "login-1: samtools view /data/gpfs/assoc/denovo/tfaske/sagebrush/denovo/SNPcall/good_bams/AW4_OE_1_mapped.bam\n",
      "login-1: samtools view /data/gpfs/assoc/denovo/tfaske/sagebrush/denovo/SNPcall/good_bams/AW4_OE_2_mapped.bam\n",
      "login-1: samtools view /data/gpfs/assoc/denovo/tfaske/sagebrush/denovo/SNPcall/good_bams/AW4_OE_3_mapped.bam\n",
      "login-1: samtools view /data/gpfs/assoc/denovo/tfaske/sagebrush/denovo/SNPcall/good_bams/AW4_OE_4_mapped.bam\n",
      "login-1: samtools view /data/gpfs/assoc/denovo/tfaske/sagebrush/denovo/SNPcall/good_bams/AW4_OE_5_mapped.bam\n",
      "login-1: samtools view /data/gpfs/assoc/denovo/tfaske/sagebrush/denovo/SNPcall/good_bams/AW4_OE_6_mapped.bam\n",
      "login-1: samtools view /data/gpfs/assoc/denovo/tfaske/sagebrush/denovo/SNPcall/good_bams/AW4_OE_7_mapped.bam\n",
      "login-1: samtools view /data/gpfs/assoc/denovo/tfaske/sagebrush/denovo/SNPcall/good_bams/AW4_OE_8_mapped.bam\n",
      "login-1: samtools view /data/gpfs/assoc/denovo/tfaske/sagebrush/denovo/SNPcall/good_bams/AW4_OE_9_mapped.bam\n",
      "login-1: samtools view /data/gpfs/assoc/denovo/tfaske/sagebrush/denovo/SNPcall/good_bams/AW4_OW_1_mapped.bam\n",
      "login-1: samtools view /data/gpfs/assoc/denovo/tfaske/sagebrush/denovo/SNPcall/good_bams/AW4_OW_2_mapped.bam\n",
      "login-1: samtools view /data/gpfs/assoc/denovo/tfaske/sagebrush/denovo/SNPcall/good_bams/AW4_OW_3_mapped.bam\n",
      "login-1: samtools view /data/gpfs/assoc/denovo/tfaske/sagebrush/denovo/SNPcall/good_bams/AW4_OW_4_mapped.bam\n",
      "login-1: samtools view /data/gpfs/assoc/denovo/tfaske/sagebrush/denovo/SNPcall/good_bams/AW4_OW_5_mapped.bam\n",
      "login-1: samtools view /data/gpfs/assoc/denovo/tfaske/sagebrush/denovo/SNPcall/good_bams/AW4_OW_6_mapped.bam\n",
      "login-1: samtools view /data/gpfs/assoc/denovo/tfaske/sagebrush/denovo/SNPcall/good_bams/AW4_OW_7_mapped.bam\n",
      "login-1: samtools view /data/gpfs/assoc/denovo/tfaske/sagebrush/denovo/SNPcall/good_bams/AW4_OW_8_mapped.bam\n"
     ]
    },
    {
     "name": "stderr",
     "output_type": "stream",
     "text": [
      "login-1: samtools view /data/gpfs/assoc/denovo/tfaske/sagebrush/denovo/SNPcall/good_bams/AW4_OW_9_mapped.bam\n",
      "login-1: samtools view /data/gpfs/assoc/denovo/tfaske/sagebrush/denovo/SNPcall/good_bams/AW4_PD_1_mapped.bam\n",
      "login-1: samtools view /data/gpfs/assoc/denovo/tfaske/sagebrush/denovo/SNPcall/good_bams/AW4_PD_2_mapped.bam\n",
      "login-1: samtools view /data/gpfs/assoc/denovo/tfaske/sagebrush/denovo/SNPcall/good_bams/AW4_PD_3_mapped.bam\n",
      "login-1: samtools view /data/gpfs/assoc/denovo/tfaske/sagebrush/denovo/SNPcall/good_bams/AW4_PD_4_mapped.bam\n",
      "login-1: samtools view /data/gpfs/assoc/denovo/tfaske/sagebrush/denovo/SNPcall/good_bams/AW4_PD_5_mapped.bam\n",
      "login-1: samtools view /data/gpfs/assoc/denovo/tfaske/sagebrush/denovo/SNPcall/good_bams/AW4_PD_6_mapped.bam\n",
      "login-1: samtools view /data/gpfs/assoc/denovo/tfaske/sagebrush/denovo/SNPcall/good_bams/AW4_PM_1_mapped.bam\n",
      "login-1: samtools view /data/gpfs/assoc/denovo/tfaske/sagebrush/denovo/SNPcall/good_bams/AW4_PM_2_mapped.bam\n",
      "login-1: samtools view /data/gpfs/assoc/denovo/tfaske/sagebrush/denovo/SNPcall/good_bams/AW4_PM_3_mapped.bam\n",
      "login-1: samtools view /data/gpfs/assoc/denovo/tfaske/sagebrush/denovo/SNPcall/good_bams/AW4_PM_4_mapped.bam\n",
      "login-1: samtools view /data/gpfs/assoc/denovo/tfaske/sagebrush/denovo/SNPcall/good_bams/AW4_PM_5_mapped.bam\n",
      "login-1: samtools view /data/gpfs/assoc/denovo/tfaske/sagebrush/denovo/SNPcall/good_bams/AW4_PM_6_mapped.bam\n",
      "login-1: samtools view /data/gpfs/assoc/denovo/tfaske/sagebrush/denovo/SNPcall/good_bams/AW4_PM_7_mapped.bam\n",
      "login-1: samtools view /data/gpfs/assoc/denovo/tfaske/sagebrush/denovo/SNPcall/good_bams/AW4_PM_8_mapped.bam\n",
      "login-1: samtools view /data/gpfs/assoc/denovo/tfaske/sagebrush/denovo/SNPcall/good_bams/AW4_PM_9_mapped.bam\n",
      "login-1: samtools view /data/gpfs/assoc/denovo/tfaske/sagebrush/denovo/SNPcall/good_bams/AW4_SB_10_mapped.bam\n",
      "login-1: samtools view /data/gpfs/assoc/denovo/tfaske/sagebrush/denovo/SNPcall/good_bams/AW4_SB_1_mapped.bam\n",
      "login-1: samtools view /data/gpfs/assoc/denovo/tfaske/sagebrush/denovo/SNPcall/good_bams/AW4_SB_2_mapped.bam\n",
      "login-1: samtools view /data/gpfs/assoc/denovo/tfaske/sagebrush/denovo/SNPcall/good_bams/AW4_SB_3_mapped.bam\n",
      "login-1: samtools view /data/gpfs/assoc/denovo/tfaske/sagebrush/denovo/SNPcall/good_bams/AW4_SB_4_mapped.bam\n",
      "login-1: samtools view /data/gpfs/assoc/denovo/tfaske/sagebrush/denovo/SNPcall/good_bams/AW4_SB_5_mapped.bam\n",
      "login-1: samtools view /data/gpfs/assoc/denovo/tfaske/sagebrush/denovo/SNPcall/good_bams/AW4_SB_6_mapped.bam\n",
      "login-1: samtools view /data/gpfs/assoc/denovo/tfaske/sagebrush/denovo/SNPcall/good_bams/AW4_SB_7_mapped.bam\n",
      "login-1: samtools view /data/gpfs/assoc/denovo/tfaske/sagebrush/denovo/SNPcall/good_bams/AW4_SB_8_mapped.bam\n",
      "login-1: samtools view /data/gpfs/assoc/denovo/tfaske/sagebrush/denovo/SNPcall/good_bams/AW4_SB_9_mapped.bam\n",
      "login-1: samtools view /data/gpfs/assoc/denovo/tfaske/sagebrush/denovo/SNPcall/good_bams/AW4_SC_10_mapped.bam\n",
      "login-1: samtools view /data/gpfs/assoc/denovo/tfaske/sagebrush/denovo/SNPcall/good_bams/AW4_SC_1_mapped.bam\n",
      "login-1: samtools view /data/gpfs/assoc/denovo/tfaske/sagebrush/denovo/SNPcall/good_bams/AW4_SC_2_mapped.bam\n",
      "login-1: samtools view /data/gpfs/assoc/denovo/tfaske/sagebrush/denovo/SNPcall/good_bams/AW4_SC_3_mapped.bam\n",
      "login-1: samtools view /data/gpfs/assoc/denovo/tfaske/sagebrush/denovo/SNPcall/good_bams/AW4_SC_4_mapped.bam\n",
      "login-1: samtools view /data/gpfs/assoc/denovo/tfaske/sagebrush/denovo/SNPcall/good_bams/AW4_SC_5_mapped.bam\n",
      "login-1: samtools view /data/gpfs/assoc/denovo/tfaske/sagebrush/denovo/SNPcall/good_bams/AW4_SC_6_mapped.bam\n",
      "login-1: samtools view /data/gpfs/assoc/denovo/tfaske/sagebrush/denovo/SNPcall/good_bams/AW4_SC_7_mapped.bam\n",
      "login-1: samtools view /data/gpfs/assoc/denovo/tfaske/sagebrush/denovo/SNPcall/good_bams/AW4_SC_8_mapped.bam\n",
      "login-1: samtools view /data/gpfs/assoc/denovo/tfaske/sagebrush/denovo/SNPcall/good_bams/AW4_SC_9_mapped.bam\n",
      "login-1: samtools view /data/gpfs/assoc/denovo/tfaske/sagebrush/denovo/SNPcall/good_bams/AW4_SR_10_mapped.bam\n",
      "login-1: samtools view /data/gpfs/assoc/denovo/tfaske/sagebrush/denovo/SNPcall/good_bams/AW4_SR_1_mapped.bam\n",
      "login-1: samtools view /data/gpfs/assoc/denovo/tfaske/sagebrush/denovo/SNPcall/good_bams/AW4_SR_2_mapped.bam\n",
      "login-1: samtools view /data/gpfs/assoc/denovo/tfaske/sagebrush/denovo/SNPcall/good_bams/AW4_SR_3_mapped.bam\n",
      "login-1: samtools view /data/gpfs/assoc/denovo/tfaske/sagebrush/denovo/SNPcall/good_bams/AW4_SR_4_mapped.bam\n",
      "login-1: samtools view /data/gpfs/assoc/denovo/tfaske/sagebrush/denovo/SNPcall/good_bams/AW4_SR_5_mapped.bam\n",
      "login-1: samtools view /data/gpfs/assoc/denovo/tfaske/sagebrush/denovo/SNPcall/good_bams/AW4_SR_6_mapped.bam\n",
      "login-1: samtools view /data/gpfs/assoc/denovo/tfaske/sagebrush/denovo/SNPcall/good_bams/AW4_SR_7_mapped.bam\n",
      "login-1: samtools view /data/gpfs/assoc/denovo/tfaske/sagebrush/denovo/SNPcall/good_bams/AW4_SR_8_mapped.bam\n",
      "login-1: samtools view /data/gpfs/assoc/denovo/tfaske/sagebrush/denovo/SNPcall/good_bams/AW4_SR_9_mapped.bam\n",
      "login-1: samtools view /data/gpfs/assoc/denovo/tfaske/sagebrush/denovo/SNPcall/good_bams/AW4_SS_10_mapped.bam\n",
      "login-1: samtools view /data/gpfs/assoc/denovo/tfaske/sagebrush/denovo/SNPcall/good_bams/AW4_SS_1_mapped.bam\n",
      "login-1: samtools view /data/gpfs/assoc/denovo/tfaske/sagebrush/denovo/SNPcall/good_bams/AW4_SS_2_mapped.bam\n",
      "login-1: samtools view /data/gpfs/assoc/denovo/tfaske/sagebrush/denovo/SNPcall/good_bams/AW4_SS_3_mapped.bam\n",
      "login-1: samtools view /data/gpfs/assoc/denovo/tfaske/sagebrush/denovo/SNPcall/good_bams/AW4_SS_4_mapped.bam\n",
      "login-1: samtools view /data/gpfs/assoc/denovo/tfaske/sagebrush/denovo/SNPcall/good_bams/AW4_SS_5_mapped.bam\n",
      "login-1: samtools view /data/gpfs/assoc/denovo/tfaske/sagebrush/denovo/SNPcall/good_bams/AW4_SS_6_mapped.bam\n",
      "login-1: samtools view /data/gpfs/assoc/denovo/tfaske/sagebrush/denovo/SNPcall/good_bams/AW4_SS_7_mapped.bam\n",
      "login-1: samtools view /data/gpfs/assoc/denovo/tfaske/sagebrush/denovo/SNPcall/good_bams/AW4_SS_8_mapped.bam\n",
      "login-1: samtools view /data/gpfs/assoc/denovo/tfaske/sagebrush/denovo/SNPcall/good_bams/AW4_SS_9_mapped.bam\n",
      "login-1: samtools view /data/gpfs/assoc/denovo/tfaske/sagebrush/denovo/SNPcall/good_bams/AW4_WH_1_mapped.bam\n",
      "login-1: samtools view /data/gpfs/assoc/denovo/tfaske/sagebrush/denovo/SNPcall/good_bams/AW4_WH_2_mapped.bam\n",
      "login-1: samtools view /data/gpfs/assoc/denovo/tfaske/sagebrush/denovo/SNPcall/good_bams/AW4_WH_3_mapped.bam\n",
      "login-1: samtools view /data/gpfs/assoc/denovo/tfaske/sagebrush/denovo/SNPcall/good_bams/AW4_WH_4_mapped.bam\n",
      "login-1: samtools view /data/gpfs/assoc/denovo/tfaske/sagebrush/denovo/SNPcall/good_bams/AW4_WH_5_mapped.bam\n",
      "login-1: samtools view /data/gpfs/assoc/denovo/tfaske/sagebrush/denovo/SNPcall/good_bams/AW4_WH_6_mapped.bam\n",
      "login-1: samtools view /data/gpfs/assoc/denovo/tfaske/sagebrush/denovo/SNPcall/good_bams/AW4_WJ_10_mapped.bam\n",
      "login-1: samtools view /data/gpfs/assoc/denovo/tfaske/sagebrush/denovo/SNPcall/good_bams/AW4_WJ_1_mapped.bam\n",
      "login-1: samtools view /data/gpfs/assoc/denovo/tfaske/sagebrush/denovo/SNPcall/good_bams/AW4_WJ_2_mapped.bam\n",
      "login-1: samtools view /data/gpfs/assoc/denovo/tfaske/sagebrush/denovo/SNPcall/good_bams/AW4_WJ_3_mapped.bam\n",
      "login-1: samtools view /data/gpfs/assoc/denovo/tfaske/sagebrush/denovo/SNPcall/good_bams/AW4_WJ_4_mapped.bam\n",
      "login-1: samtools view /data/gpfs/assoc/denovo/tfaske/sagebrush/denovo/SNPcall/good_bams/AW4_WJ_5_mapped.bam\n",
      "login-1: samtools view /data/gpfs/assoc/denovo/tfaske/sagebrush/denovo/SNPcall/good_bams/AW4_WJ_6_mapped.bam\n",
      "login-1: samtools view /data/gpfs/assoc/denovo/tfaske/sagebrush/denovo/SNPcall/good_bams/AW4_WJ_7_mapped.bam\n",
      "login-1: samtools view /data/gpfs/assoc/denovo/tfaske/sagebrush/denovo/SNPcall/good_bams/AW4_WJ_8_mapped.bam\n",
      "login-1: samtools view /data/gpfs/assoc/denovo/tfaske/sagebrush/denovo/SNPcall/good_bams/AW4_WJ_9_mapped.bam\n",
      "login-1: samtools view /data/gpfs/assoc/denovo/tfaske/sagebrush/denovo/SNPcall/good_bams/AW4_YV_10_mapped.bam\n",
      "login-1: samtools view /data/gpfs/assoc/denovo/tfaske/sagebrush/denovo/SNPcall/good_bams/AW4_YV_1_mapped.bam\n",
      "login-1: samtools view /data/gpfs/assoc/denovo/tfaske/sagebrush/denovo/SNPcall/good_bams/AW4_YV_2_mapped.bam\n",
      "login-1: samtools view /data/gpfs/assoc/denovo/tfaske/sagebrush/denovo/SNPcall/good_bams/AW4_YV_3_mapped.bam\n"
     ]
    },
    {
     "name": "stderr",
     "output_type": "stream",
     "text": [
      "login-1: samtools view /data/gpfs/assoc/denovo/tfaske/sagebrush/denovo/SNPcall/good_bams/AW4_YV_4_mapped.bam\n",
      "login-1: samtools view /data/gpfs/assoc/denovo/tfaske/sagebrush/denovo/SNPcall/good_bams/AW4_YV_5_mapped.bam\n",
      "login-1: samtools view /data/gpfs/assoc/denovo/tfaske/sagebrush/denovo/SNPcall/good_bams/AW4_YV_6_mapped.bam\n",
      "login-1: samtools view /data/gpfs/assoc/denovo/tfaske/sagebrush/denovo/SNPcall/good_bams/AW4_YV_7_mapped.bam\n",
      "login-1: samtools view /data/gpfs/assoc/denovo/tfaske/sagebrush/denovo/SNPcall/good_bams/AW4_YV_8_mapped.bam\n",
      "login-1: samtools view /data/gpfs/assoc/denovo/tfaske/sagebrush/denovo/SNPcall/good_bams/AW4_YV_9_mapped.bam\n"
     ]
    }
   ],
   "source": [
    "contigs = []\n",
    "for b in mapped_bam:\n",
    "    contigs.append(get_contigs(b))"
   ]
  },
  {
   "cell_type": "code",
   "execution_count": 348,
   "metadata": {},
   "outputs": [],
   "source": [
    "contig_counts = Counter()\n",
    "for contig in contigs:\n",
    "    for c in contig: #j.r:\n",
    "        contig_counts[c] += 1"
   ]
  },
  {
   "cell_type": "code",
   "execution_count": 397,
   "metadata": {},
   "outputs": [
    {
     "name": "stdout",
     "output_type": "stream",
     "text": [
      "/data/gpfs/assoc/denovo/tfaske/sagebrush/denovo/SNPcall\n"
     ]
    }
   ],
   "source": [
    "cd $snp_dir"
   ]
  },
  {
   "cell_type": "code",
   "execution_count": 350,
   "metadata": {},
   "outputs": [],
   "source": [
    "!mkdir mapped_fasta"
   ]
  },
  {
   "cell_type": "code",
   "execution_count": 351,
   "metadata": {},
   "outputs": [],
   "source": [
    "with open(\"mapped_fasta/all_contigs.txt\", \"w\") as o:\n",
    "    for c in contig_counts:\n",
    "        o.write(\"{}\\n\".format(c))"
   ]
  },
  {
   "cell_type": "markdown",
   "metadata": {},
   "source": [
    "**make new assembly with only mapped contigs**"
   ]
  },
  {
   "cell_type": "code",
   "execution_count": 376,
   "metadata": {},
   "outputs": [],
   "source": [
    "assembly = \"/data/gpfs/assoc/denovo/tfaske/sagebrush/denovo/assembly/reference.fasta\""
   ]
  },
  {
   "cell_type": "code",
   "execution_count": 377,
   "metadata": {},
   "outputs": [],
   "source": [
    "!seqtk subseq $assembly mapped_fasta/all_contigs.txt > mapped_fasta/mapped.fasta"
   ]
  },
  {
   "cell_type": "markdown",
   "metadata": {},
   "source": [
    "**make contig bed files**  \n",
    "Issue with sorting. Randomize contig bed"
   ]
  },
  {
   "cell_type": "code",
   "execution_count": 398,
   "metadata": {},
   "outputs": [
    {
     "name": "stdout",
     "output_type": "stream",
     "text": [
      "mkdir: cannot create directory ‘bed_files’: File exists\r\n"
     ]
    }
   ],
   "source": [
    "!mkdir bed_files "
   ]
  },
  {
   "cell_type": "code",
   "execution_count": 399,
   "metadata": {},
   "outputs": [],
   "source": [
    "with open(\"bed_files/contigs.bed\", \"w\") as o:\n",
    "    for rec in SeqIO.parse('mapped_fasta/mapped.fasta', \"fasta\"):\n",
    "        o.write(\"%s\\t%d\\t%d\\n\" % (rec.name, 0, len(rec)))"
   ]
  },
  {
   "cell_type": "code",
   "execution_count": 400,
   "metadata": {},
   "outputs": [],
   "source": [
    "lines = open('bed_files/contigs.bed').readlines()\n",
    "random.shuffle(lines)\n",
    "open('bed_files/contigs.bed', 'w').writelines(lines)"
   ]
  },
  {
   "cell_type": "code",
   "execution_count": 401,
   "metadata": {
    "scrolled": true
   },
   "outputs": [
    {
     "name": "stdout",
     "output_type": "stream",
     "text": [
      "61970 983\n"
     ]
    }
   ],
   "source": [
    "def create_split_beds(nodes, bed):\n",
    "    lines = 0\n",
    "    for line in open(bed):\n",
    "        lines += 1\n",
    "    print(lines, lines//nodes)\n",
    "    per_bed = lines//nodes\n",
    "    cmd = \"split -a 3 -d -l %d %s bed_files/contig.bed.\" % (per_bed, bed)\n",
    "    !$cmd\n",
    "    #call(cmd.split())\n",
    "create_split_beds(63, \"bed_files/contigs.bed\") #nodes -1 "
   ]
  },
  {
   "cell_type": "code",
   "execution_count": 402,
   "metadata": {},
   "outputs": [],
   "source": [
    "beds = !ls bed_files/contig.bed.*\n",
    "beds = [os.path.abspath(x) for x in beds]"
   ]
  },
  {
   "cell_type": "code",
   "execution_count": 403,
   "metadata": {},
   "outputs": [
    {
     "data": {
      "text/plain": [
       "(64,\n",
       " '/data/gpfs/assoc/denovo/tfaske/sagebrush/denovo/SNPcall/bed_files/contig.bed.000')"
      ]
     },
     "execution_count": 403,
     "metadata": {},
     "output_type": "execute_result"
    }
   ],
   "source": [
    "len(beds),beds[0]"
   ]
  },
  {
   "cell_type": "code",
   "execution_count": 404,
   "metadata": {},
   "outputs": [],
   "source": [
    "def create_parallel_bams(args):\n",
    "    bam_file, bed_file = args\n",
    "    num = bed_file.split(\".\")[-1]\n",
    "    out = \"%s.%s\" % (bam_file, num)\n",
    "    t = tempfile.NamedTemporaryFile(delete=False, dir=\"/tmp\")\n",
    "    cmd = \"samtools view -L %s -b %s -o %s\" % (bed_file, bam_file, t.name)\n",
    "    call(cmd.split())\n",
    "    shutil.copy(t.name, out)\n",
    "    os.remove(t.name)\n",
    "    return out"
   ]
  },
  {
   "cell_type": "code",
   "execution_count": 405,
   "metadata": {},
   "outputs": [],
   "source": [
    "args = []\n",
    "for bam in mapped_bam:\n",
    "    for bed in beds:\n",
    "        a = [bam, bed]\n",
    "        args.append(a)"
   ]
  },
  {
   "cell_type": "code",
   "execution_count": 406,
   "metadata": {},
   "outputs": [
    {
     "data": {
      "text/plain": [
       "(44480,\n",
       " ['/data/gpfs/assoc/denovo/tfaske/sagebrush/denovo/SNPcall/good_bams/AT2_BB_10_mapped.bam',\n",
       "  '/data/gpfs/assoc/denovo/tfaske/sagebrush/denovo/SNPcall/bed_files/contig.bed.000'])"
      ]
     },
     "execution_count": 406,
     "metadata": {},
     "output_type": "execute_result"
    }
   ],
   "source": [
    "len(args), args[0]"
   ]
  },
  {
   "cell_type": "code",
   "execution_count": 407,
   "metadata": {
    "ExecuteTime": {}
   },
   "outputs": [
    {
     "data": {
      "text/plain": [
       "(695, 44480)"
      ]
     },
     "execution_count": 407,
     "metadata": {},
     "output_type": "execute_result"
    }
   ],
   "source": [
    "len(mapped_bam), len(mapped_bam)*len(beds)"
   ]
  },
  {
   "cell_type": "code",
   "execution_count": null,
   "metadata": {},
   "outputs": [],
   "source": [
    "for a in args:\n",
    "    create_parallel_bams(a)"
   ]
  },
  {
   "cell_type": "markdown",
   "metadata": {},
   "source": [
    "**ploidy_list based on bed files** "
   ]
  },
  {
   "cell_type": "code",
   "execution_count": 165,
   "metadata": {},
   "outputs": [],
   "source": [
    "!mkdir ploidy"
   ]
  },
  {
   "cell_type": "code",
   "execution_count": 275,
   "metadata": {},
   "outputs": [],
   "source": [
    "def make_ploidy_list(beds,bam_files):\n",
    "    for bed in beds: \n",
    "        be = bed.split('.')[2]\n",
    "        fai = pd.read_csv(bed,header=None,sep='\\t')\n",
    "        contigs = fai.iloc[:,0].tolist()\n",
    "        with open(\"ploidy/ploidy.%s.txt\" % (be), \"w\") as o:\n",
    "            for c in contigs:\n",
    "                for b in bam_files:\n",
    "                    bam = b.split('/')[11]\n",
    "                    ID = bam.split('_sorted.bam')[0] ### This too\n",
    "                    ploidy = ID.split('_')[0]\n",
    "                    ploidy = re.sub(r'\\D','',ploidy)\n",
    "                    #print(b)\n",
    "                    #print(ploidy)\n",
    "                    #o.write(\"good_bams/%s\\t%s\\n\" % (bam,ploidy)) \n",
    "                    o.write(\"%s 0 100 %s %s\\n\" % (c,ID,ploidy))"
   ]
  },
  {
   "cell_type": "code",
   "execution_count": 276,
   "metadata": {},
   "outputs": [],
   "source": [
    "make_ploidy_list(beds,bam_files)"
   ]
  },
  {
   "cell_type": "markdown",
   "metadata": {},
   "source": [
    "### make run_fb for each bed file"
   ]
  },
  {
   "cell_type": "code",
   "execution_count": 172,
   "metadata": {},
   "outputs": [],
   "source": [
    "!mkdir vcf"
   ]
  },
  {
   "cell_type": "code",
   "execution_count": 181,
   "metadata": {},
   "outputs": [],
   "source": [
    "!mkdir shdir"
   ]
  },
  {
   "cell_type": "code",
   "execution_count": 298,
   "metadata": {},
   "outputs": [],
   "source": [
    "def run_fb(bed):\n",
    "    cmd = 'freebayes -b good_bams/*mapped.bam.%s --cnv-map ploidy/ploidy.%s.txt -f mapped_fasta/mapped.fasta -t bed_files/contig.bed.%s -v vcf/fb.%s.vcf -V -i -u'  % (bed,bed,bed,bed)\n",
    "    return  cmd "
   ]
  },
  {
   "cell_type": "code",
   "execution_count": 309,
   "metadata": {},
   "outputs": [],
   "source": [
    "#without bed targets file\n",
    "def run_fb(bed):\n",
    "    cmd = 'freebayes -b good_bams/*mapped.bam.%s --cnv-map ploidy/ploidy.%s.txt -f mapped_fasta/mapped.fasta -v vcf/fb.%s.vcf -V -i -u'  % (bed,bed,bed)\n",
    "    return  cmd "
   ]
  },
  {
   "cell_type": "code",
   "execution_count": 310,
   "metadata": {},
   "outputs": [],
   "source": [
    "cmds = []\n",
    "for bed in beds: \n",
    "    be = bed.split('.')[2]\n",
    "    cmds.append(run_fb((be)))"
   ]
  },
  {
   "cell_type": "code",
   "execution_count": 311,
   "metadata": {},
   "outputs": [
    {
     "data": {
      "text/plain": [
       "(64,\n",
       " 'freebayes -b good_bams/*mapped.bam.000 --cnv-map ploidy/ploidy.000.txt -f mapped_fasta/mapped.fasta -v vcf/fb.000.vcf -V -i -u')"
      ]
     },
     "execution_count": 311,
     "metadata": {},
     "output_type": "execute_result"
    }
   ],
   "source": [
    "len(cmds),cmds[0]"
   ]
  },
  {
   "cell_type": "code",
   "execution_count": 312,
   "metadata": {},
   "outputs": [],
   "source": [
    "### select options for slurm submission\n",
    "account = 'cpu-s5-denovo-0'\n",
    "partition = 'cpu-core-0'\n",
    "#account = 'cpu-s1-bionres-0'\n",
    "#partition = 'cpu-s1-bionres-0'\n",
    "jobname = 'fb'\n",
    "time = '1-00:00:00' #time limit 10 day\n",
    "cpus = 1\n",
    "mem_cpu = 8000\n",
    "email = 'tfaske@nevada.unr.edu'"
   ]
  },
  {
   "cell_type": "code",
   "execution_count": 313,
   "metadata": {},
   "outputs": [],
   "source": [
    "def write_fb_ind_sh(account,partition,time,jobname,cpus,mem_cpu,email,out_dir,cmds,beds):\n",
    "    for i in range(0,len(cmds)):\n",
    "        bed = beds[i].split('.')[2]\n",
    "        with open(\"shdir/run_fb_%s.sh\" % (bed), \"w\") as o:\n",
    "            o.write(\"\"\"#!/usr/bin/env bash\n",
    "#SBATCH --account=%s\n",
    "#SBATCH --partition=%s\n",
    "#SBATCH --time=%s\n",
    "#SBATCH --ntasks 1\n",
    "#SBATCH --cpus-per-task %d\n",
    "#SBATCH --mem-per-cpu=%d\n",
    "#SBATCH --job-name fb_%s\n",
    "#SBATCH --output shdir/output_fb_%s.txt\n",
    "#SBATCH --mail-type=FAIL\n",
    "#SBATCH --mail-user=%s \\n\n",
    "    \n",
    "cd %s\\n    \n",
    "    \n",
    "%s \\n\n",
    "\"\"\" % (account,partition,time,int(cpus),int(mem_cpu),bed,bed,email,out_dir,cmds[i]))\n",
    "            "
   ]
  },
  {
   "cell_type": "code",
   "execution_count": 314,
   "metadata": {},
   "outputs": [],
   "source": [
    "write_fb_ind_sh(account,partition,time,jobname,cpus,mem_cpu,email,test_dir,cmds,beds)"
   ]
  },
  {
   "cell_type": "markdown",
   "metadata": {},
   "source": [
    "#### finds all fb slurm scripts and writes bash script to sbatch them"
   ]
  },
  {
   "cell_type": "code",
   "execution_count": 315,
   "metadata": {},
   "outputs": [],
   "source": [
    "shfb_files = []\n",
    "os.chdir('{}/{}'.format(test_dir, 'shdir'))\n",
    "files = !find . -name '*.sh'\n",
    "files = [os.path.abspath(x) for x in files]\n",
    "for x in files:\n",
    "        shfb_files.append(x)\n",
    "shfb_files = sorted(shfb_files)"
   ]
  },
  {
   "cell_type": "code",
   "execution_count": 316,
   "metadata": {},
   "outputs": [
    {
     "data": {
      "text/plain": [
       "(64,\n",
       " '/data/gpfs/assoc/denovo/tfaske/sagebrush/denovo/SNPcall/test/shdir/run_fb_000.sh')"
      ]
     },
     "execution_count": 316,
     "metadata": {},
     "output_type": "execute_result"
    }
   ],
   "source": [
    "len(shfb_files),shfb_files[0]"
   ]
  },
  {
   "cell_type": "code",
   "execution_count": 317,
   "metadata": {},
   "outputs": [],
   "source": [
    "def write_bash_fb_sh(sh_files):\n",
    "    with open(\"run_bash_fb.sh\", \"w\") as o:\n",
    "        o.write(\"\"\"#!/usr/bin/env bash \\n\\n\"\"\")\n",
    "        for f in sh_files:\n",
    "            o.write(\"sbatch %s \\n\" % (f))    "
   ]
  },
  {
   "cell_type": "code",
   "execution_count": 318,
   "metadata": {},
   "outputs": [
    {
     "name": "stdout",
     "output_type": "stream",
     "text": [
      "/data/gpfs/assoc/denovo/tfaske/sagebrush/denovo/SNPcall/test\n"
     ]
    }
   ],
   "source": [
    "cd $test_dir"
   ]
  },
  {
   "cell_type": "code",
   "execution_count": 319,
   "metadata": {},
   "outputs": [],
   "source": [
    "write_bash_fb_sh(shfb_files)"
   ]
  },
  {
   "cell_type": "markdown",
   "metadata": {},
   "source": [
    "# Run run_bash_fb_sh locally\n",
    "    cd /data/gpfs/assoc/denovo/tfaske/sagebrush/denovo/SNPcall/test \n",
    "    source activate py36\n",
    "    bash run_bash_fb.sh"
   ]
  },
  {
   "cell_type": "code",
   "execution_count": null,
   "metadata": {},
   "outputs": [],
   "source": []
  },
  {
   "cell_type": "code",
   "execution_count": null,
   "metadata": {},
   "outputs": [],
   "source": []
  }
 ],
 "metadata": {
  "kernelspec": {
   "display_name": "Python 3",
   "language": "python",
   "name": "python3"
  },
  "language_info": {
   "codemirror_mode": {
    "name": "ipython",
    "version": 3
   },
   "file_extension": ".py",
   "mimetype": "text/x-python",
   "name": "python",
   "nbconvert_exporter": "python",
   "pygments_lexer": "ipython3",
   "version": "3.6.7"
  }
 },
 "nbformat": 4,
 "nbformat_minor": 4
}
