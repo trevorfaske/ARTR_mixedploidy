{
 "cells": [
  {
   "cell_type": "code",
   "execution_count": 2,
   "metadata": {},
   "outputs": [
    {
     "name": "stdout",
     "output_type": "stream",
     "text": [
      "/data/gpfs/assoc/parchmanlab/tfaske/anaconda3/envs/py36/bin/python\r\n"
     ]
    }
   ],
   "source": [
    "!which python"
   ]
  },
  {
   "cell_type": "code",
   "execution_count": 3,
   "metadata": {},
   "outputs": [
    {
     "name": "stdout",
     "output_type": "stream",
     "text": [
      "/usr/bin/sh: line 0: source: activate: file not found\r\n"
     ]
    }
   ],
   "source": [
    "!source activate py36"
   ]
  },
  {
   "cell_type": "code",
   "execution_count": 4,
   "metadata": {},
   "outputs": [],
   "source": [
    "import sys\n",
    "\n",
    "#sys.path.append('/home/faske/g/anaconda3/envs/py34/lib/python3.4/site-packages')\n",
    "sys.path.append('/data/gpfs/assoc/parchmanlab/tfaske/anaconda3/envs/py36/lib/python3.6/site-packages')\n",
    "sys.path.append(\"/data/gpfs/assoc/parchmanlab/tfaske/ipynb/include_utils\")\n",
    "\n",
    "import ipyparallel as ipp\n",
    "import os, time\n",
    "import include_utils as u\n",
    "import pandas as pd\n",
    "import numpy as np\n",
    "import scipy as sp\n",
    "import random\n",
    "import numbers\n",
    "import matplotlib.pyplot as plt\n",
    "import matplotlib.patches as mpatches\n",
    "import matplotlib.cm as cm\n",
    "import matplotlib.colors as mcolors\n",
    "#import vcf\n",
    "from sklearn import preprocessing\n",
    "from subprocess import Popen, PIPE, call, check_output\n",
    "import seaborn as sns\n",
    "from IPython.display import FileLink\n",
    "import urllib.request as urllib2\n",
    "import dill\n",
    "import traceback\n",
    "from pandas import Series, DataFrame\n",
    "import gzip\n",
    "import warnings\n",
    "warnings.filterwarnings('ignore',category=pd.io.pytables.PerformanceWarning)\n",
    "%config InlineBackend.figure_format = 'retina'\n",
    "from Bio import SeqIO\n",
    "#import pysam\n",
    "from collections import OrderedDict, namedtuple, Counter\n",
    "import operator\n",
    "import multiprocessing as mp\n",
    "import shutil\n",
    "import tempfile\n",
    "#from ipyparallel import Client\n",
    "import scandir\n",
    "import glob\n",
    "from Bio.SeqIO.QualityIO import FastqGeneralIterator\n",
    "import pickle\n",
    "import re\n",
    "from itertools import chain\n",
    "#import Levenshtein as lv"
   ]
  },
  {
   "cell_type": "code",
   "execution_count": 43,
   "metadata": {},
   "outputs": [],
   "source": [
    "from os import environ"
   ]
  },
  {
   "cell_type": "code",
   "execution_count": 5,
   "metadata": {},
   "outputs": [],
   "source": [
    "fq_dir = '/data/gpfs/assoc/denovo/tfaske/connie/ch2/fastq/edit'"
   ]
  },
  {
   "cell_type": "code",
   "execution_count": 6,
   "metadata": {},
   "outputs": [
    {
     "name": "stdout",
     "output_type": "stream",
     "text": [
      "/data/gpfs/assoc/denovo/tfaske/connie/ch2/fastq/edit\n"
     ]
    }
   ],
   "source": [
    "cd $fq_dir"
   ]
  },
  {
   "cell_type": "code",
   "execution_count": 16,
   "metadata": {
    "scrolled": true
   },
   "outputs": [
    {
     "data": {
      "text/plain": [
       "(210, '/data/gpfs/assoc/denovo/tfaske/connie/ch2/fastq/edit/HY_BM_01.F.fq.gz')"
      ]
     },
     "execution_count": 16,
     "metadata": {},
     "output_type": "execute_result"
    }
   ],
   "source": [
    "fq_files = []\n",
    "files = !find . -type f -name '*.F.fq.gz'\n",
    "files = [os.path.abspath(x) for x in files]\n",
    "for x in files:\n",
    "    fq_files.append(x)\n",
    "fq_files = sorted(fq_files)\n",
    "len(fq_files),fq_files[0]"
   ]
  },
  {
   "cell_type": "markdown",
   "metadata": {},
   "source": [
    "#### Count  reads for all fq"
   ]
  },
  {
   "cell_type": "code",
   "execution_count": 84,
   "metadata": {},
   "outputs": [],
   "source": [
    "fq_names = []\n",
    "fq_reads = []\n",
    "for f in fq_files:\n",
    "    environ['f'] = f\n",
    "    r = !zcat $f | awk '{s++}END{print s/4}'\n",
    "    name = f.split('.F')[0]\n",
    "    name = name.split('/')[10]\n",
    "    #print(name)\n",
    "    #print(int(r.n))\n",
    "    fq_names.append(name)\n",
    "    fq_reads.append(int(r.n))"
   ]
  },
  {
   "cell_type": "code",
   "execution_count": 85,
   "metadata": {},
   "outputs": [
    {
     "data": {
      "text/plain": [
       "(210, [815375, 1603815, 2126509, 1564018, 1207634])"
      ]
     },
     "execution_count": 85,
     "metadata": {},
     "output_type": "execute_result"
    }
   ],
   "source": [
    "len(fq_reads), fq_reads[:5]"
   ]
  },
  {
   "cell_type": "code",
   "execution_count": 86,
   "metadata": {},
   "outputs": [
    {
     "data": {
      "text/plain": [
       "(210, 'HY_BM_01')"
      ]
     },
     "execution_count": 86,
     "metadata": {},
     "output_type": "execute_result"
    }
   ],
   "source": [
    "len(fq_names), fq_names[0]"
   ]
  },
  {
   "cell_type": "code",
   "execution_count": 87,
   "metadata": {},
   "outputs": [
    {
     "data": {
      "text/html": [
       "<div>\n",
       "<style scoped>\n",
       "    .dataframe tbody tr th:only-of-type {\n",
       "        vertical-align: middle;\n",
       "    }\n",
       "\n",
       "    .dataframe tbody tr th {\n",
       "        vertical-align: top;\n",
       "    }\n",
       "\n",
       "    .dataframe thead th {\n",
       "        text-align: right;\n",
       "    }\n",
       "</style>\n",
       "<table border=\"1\" class=\"dataframe\">\n",
       "  <thead>\n",
       "    <tr style=\"text-align: right;\">\n",
       "      <th></th>\n",
       "      <th>fq</th>\n",
       "      <th>reads</th>\n",
       "    </tr>\n",
       "  </thead>\n",
       "  <tbody>\n",
       "    <tr>\n",
       "      <th>0</th>\n",
       "      <td>HY_BM_01</td>\n",
       "      <td>815375</td>\n",
       "    </tr>\n",
       "    <tr>\n",
       "      <th>1</th>\n",
       "      <td>HY_BM_03</td>\n",
       "      <td>1603815</td>\n",
       "    </tr>\n",
       "    <tr>\n",
       "      <th>2</th>\n",
       "      <td>HY_BM_04</td>\n",
       "      <td>2126509</td>\n",
       "    </tr>\n",
       "    <tr>\n",
       "      <th>3</th>\n",
       "      <td>HY_BM_05</td>\n",
       "      <td>1564018</td>\n",
       "    </tr>\n",
       "    <tr>\n",
       "      <th>4</th>\n",
       "      <td>HY_DT_02</td>\n",
       "      <td>1207634</td>\n",
       "    </tr>\n",
       "  </tbody>\n",
       "</table>\n",
       "</div>"
      ],
      "text/plain": [
       "         fq    reads\n",
       "0  HY_BM_01   815375\n",
       "1  HY_BM_03  1603815\n",
       "2  HY_BM_04  2126509\n",
       "3  HY_BM_05  1564018\n",
       "4  HY_DT_02  1207634"
      ]
     },
     "execution_count": 87,
     "metadata": {},
     "output_type": "execute_result"
    }
   ],
   "source": [
    "read_dict = {\"fq\":fq_names,'reads':fq_reads}\n",
    "read_df = pd.DataFrame(read_dict)\n",
    "read_df.head()\n",
    "#len(cov_df)"
   ]
  },
  {
   "cell_type": "code",
   "execution_count": 89,
   "metadata": {},
   "outputs": [],
   "source": [
    "read_out = os.path.join(fq_dir,'fq_read.csv')\n",
    "read_df.to_csv(path_or_buf=read_out)"
   ]
  },
  {
   "cell_type": "markdown",
   "metadata": {},
   "source": [
    "#### Calculate outliers and max of non outlier group"
   ]
  },
  {
   "cell_type": "code",
   "execution_count": 94,
   "metadata": {},
   "outputs": [
    {
     "data": {
      "text/html": [
       "<div>\n",
       "<style scoped>\n",
       "    .dataframe tbody tr th:only-of-type {\n",
       "        vertical-align: middle;\n",
       "    }\n",
       "\n",
       "    .dataframe tbody tr th {\n",
       "        vertical-align: top;\n",
       "    }\n",
       "\n",
       "    .dataframe thead th {\n",
       "        text-align: right;\n",
       "    }\n",
       "</style>\n",
       "<table border=\"1\" class=\"dataframe\">\n",
       "  <thead>\n",
       "    <tr style=\"text-align: right;\">\n",
       "      <th></th>\n",
       "      <th>fq</th>\n",
       "      <th>reads</th>\n",
       "    </tr>\n",
       "  </thead>\n",
       "  <tbody>\n",
       "    <tr>\n",
       "      <th>106</th>\n",
       "      <td>PU_LF_99</td>\n",
       "      <td>16013949</td>\n",
       "    </tr>\n",
       "    <tr>\n",
       "      <th>178</th>\n",
       "      <td>RI_LF_01</td>\n",
       "      <td>15052999</td>\n",
       "    </tr>\n",
       "    <tr>\n",
       "      <th>79</th>\n",
       "      <td>PU_LF_2</td>\n",
       "      <td>14776709</td>\n",
       "    </tr>\n",
       "    <tr>\n",
       "      <th>179</th>\n",
       "      <td>RI_LF_04</td>\n",
       "      <td>14642277</td>\n",
       "    </tr>\n",
       "    <tr>\n",
       "      <th>182</th>\n",
       "      <td>RI_LF_07</td>\n",
       "      <td>14528108</td>\n",
       "    </tr>\n",
       "    <tr>\n",
       "      <th>146</th>\n",
       "      <td>RI_DT_06</td>\n",
       "      <td>14401868</td>\n",
       "    </tr>\n",
       "    <tr>\n",
       "      <th>184</th>\n",
       "      <td>RI_LF_09</td>\n",
       "      <td>14204223</td>\n",
       "    </tr>\n",
       "    <tr>\n",
       "      <th>145</th>\n",
       "      <td>RI_DT_05</td>\n",
       "      <td>13985912</td>\n",
       "    </tr>\n",
       "    <tr>\n",
       "      <th>181</th>\n",
       "      <td>RI_LF_06</td>\n",
       "      <td>13753739</td>\n",
       "    </tr>\n",
       "    <tr>\n",
       "      <th>105</th>\n",
       "      <td>PU_LF_5</td>\n",
       "      <td>13538752</td>\n",
       "    </tr>\n",
       "    <tr>\n",
       "      <th>185</th>\n",
       "      <td>RI_LF_10</td>\n",
       "      <td>13311120</td>\n",
       "    </tr>\n",
       "    <tr>\n",
       "      <th>73</th>\n",
       "      <td>PU_DT_42</td>\n",
       "      <td>12660697</td>\n",
       "    </tr>\n",
       "    <tr>\n",
       "      <th>148</th>\n",
       "      <td>RI_DT_08</td>\n",
       "      <td>11735257</td>\n",
       "    </tr>\n",
       "    <tr>\n",
       "      <th>183</th>\n",
       "      <td>RI_LF_08</td>\n",
       "      <td>11222115</td>\n",
       "    </tr>\n",
       "    <tr>\n",
       "      <th>71</th>\n",
       "      <td>PU_DT_40</td>\n",
       "      <td>10641128</td>\n",
       "    </tr>\n",
       "    <tr>\n",
       "      <th>162</th>\n",
       "      <td>RI_DT_31</td>\n",
       "      <td>3024291</td>\n",
       "    </tr>\n",
       "    <tr>\n",
       "      <th>74</th>\n",
       "      <td>PU_DT_43</td>\n",
       "      <td>2729385</td>\n",
       "    </tr>\n",
       "    <tr>\n",
       "      <th>152</th>\n",
       "      <td>RI_DT_12</td>\n",
       "      <td>2679284</td>\n",
       "    </tr>\n",
       "    <tr>\n",
       "      <th>58</th>\n",
       "      <td>PU_DT_25</td>\n",
       "      <td>2608753</td>\n",
       "    </tr>\n",
       "    <tr>\n",
       "      <th>11</th>\n",
       "      <td>PU_BM_06</td>\n",
       "      <td>2588866</td>\n",
       "    </tr>\n",
       "  </tbody>\n",
       "</table>\n",
       "</div>"
      ],
      "text/plain": [
       "           fq     reads\n",
       "106  PU_LF_99  16013949\n",
       "178  RI_LF_01  15052999\n",
       "79    PU_LF_2  14776709\n",
       "179  RI_LF_04  14642277\n",
       "182  RI_LF_07  14528108\n",
       "146  RI_DT_06  14401868\n",
       "184  RI_LF_09  14204223\n",
       "145  RI_DT_05  13985912\n",
       "181  RI_LF_06  13753739\n",
       "105   PU_LF_5  13538752\n",
       "185  RI_LF_10  13311120\n",
       "73   PU_DT_42  12660697\n",
       "148  RI_DT_08  11735257\n",
       "183  RI_LF_08  11222115\n",
       "71   PU_DT_40  10641128\n",
       "162  RI_DT_31   3024291\n",
       "74   PU_DT_43   2729385\n",
       "152  RI_DT_12   2679284\n",
       "58   PU_DT_25   2608753\n",
       "11   PU_BM_06   2588866"
      ]
     },
     "execution_count": 94,
     "metadata": {},
     "output_type": "execute_result"
    }
   ],
   "source": [
    "read_df.sort_values('reads',ascending=False,inplace=True)\n",
    "read_df[:20]"
   ]
  },
  {
   "cell_type": "markdown",
   "metadata": {},
   "source": [
    "### Top 15 are outliers, next max is RI_DT_31\t3024291"
   ]
  },
  {
   "cell_type": "code",
   "execution_count": 121,
   "metadata": {},
   "outputs": [],
   "source": [
    "fq_edit = list(read_df.fq[:15])\n",
    "read_max = int(read_df['reads'][ (read_df.fq == 'RI_DT_31')]*4)"
   ]
  },
  {
   "cell_type": "code",
   "execution_count": 123,
   "metadata": {},
   "outputs": [
    {
     "data": {
      "text/plain": [
       "(['PU_LF_99',\n",
       "  'RI_LF_01',\n",
       "  'PU_LF_2',\n",
       "  'RI_LF_04',\n",
       "  'RI_LF_07',\n",
       "  'RI_DT_06',\n",
       "  'RI_LF_09',\n",
       "  'RI_DT_05',\n",
       "  'RI_LF_06',\n",
       "  'PU_LF_5',\n",
       "  'RI_LF_10',\n",
       "  'PU_DT_42',\n",
       "  'RI_DT_08',\n",
       "  'RI_LF_08',\n",
       "  'PU_DT_40'],\n",
       " 12097164)"
      ]
     },
     "execution_count": 123,
     "metadata": {},
     "output_type": "execute_result"
    }
   ],
   "source": [
    "fq_edit, read_max"
   ]
  },
  {
   "cell_type": "code",
   "execution_count": 130,
   "metadata": {},
   "outputs": [
    {
     "name": "stdout",
     "output_type": "stream",
     "text": [
      "\n",
      "gzip: stdout: Broken pipe\n",
      "\n",
      "gzip: stdout: Broken pipe\n",
      "\n",
      "gzip: stdout: Broken pipe\n",
      "\n",
      "gzip: stdout: Broken pipe\n",
      "\n",
      "gzip: stdout: Broken pipe\n",
      "\n",
      "gzip: stdout: Broken pipe\n",
      "\n",
      "gzip: stdout: Broken pipe\n",
      "\n",
      "gzip: stdout: Broken pipe\n",
      "\n",
      "gzip: stdout: Broken pipe\n",
      "\n",
      "gzip: stdout: Broken pipe\n",
      "\n",
      "gzip: stdout: Broken pipe\n",
      "\n",
      "gzip: stdout: Broken pipe\n",
      "\n",
      "gzip: stdout: Broken pipe\n",
      "\n",
      "gzip: stdout: Broken pipe\n",
      "\n",
      "gzip: stdout: Broken pipe\n"
     ]
    }
   ],
   "source": [
    "for f in fq_edit:\n",
    "    f_qz = f + '.F.fq.gz'\n",
    "    out_f = f + '_edit.F.fq'\n",
    "    environ['f_qz'] = f_qz\n",
    "    environ['read_max'] = str(read_max)\n",
    "    environ['out_f'] = out_f\n",
    "    !zcat $f_qz | head -n $read_max > $out_f"
   ]
  },
  {
   "cell_type": "markdown",
   "metadata": {},
   "source": [
    "#### move correct files to ddocent, do not include VA pines"
   ]
  },
  {
   "cell_type": "code",
   "execution_count": null,
   "metadata": {},
   "outputs": [],
   "source": []
  }
 ],
 "metadata": {
  "kernelspec": {
   "display_name": "Python 3",
   "language": "python",
   "name": "python3"
  },
  "language_info": {
   "codemirror_mode": {
    "name": "ipython",
    "version": 3
   },
   "file_extension": ".py",
   "mimetype": "text/x-python",
   "name": "python",
   "nbconvert_exporter": "python",
   "pygments_lexer": "ipython3",
   "version": "3.6.7"
  }
 },
 "nbformat": 4,
 "nbformat_minor": 4
}
