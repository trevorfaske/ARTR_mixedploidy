{
 "cells": [
  {
   "cell_type": "code",
   "execution_count": 67,
   "metadata": {},
   "outputs": [
    {
     "name": "stdout",
     "output_type": "stream",
     "text": [
      "/data/gpfs/assoc/parchmanlab/tfaske/anaconda3/envs/py36/bin/python\r\n"
     ]
    }
   ],
   "source": [
    "!which python"
   ]
  },
  {
   "cell_type": "code",
   "execution_count": 68,
   "metadata": {},
   "outputs": [
    {
     "name": "stdout",
     "output_type": "stream",
     "text": [
      "/usr/bin/sh: line 0: source: activate: file not found\r\n"
     ]
    }
   ],
   "source": [
    "!source activate py36"
   ]
  },
  {
   "cell_type": "code",
   "execution_count": 69,
   "metadata": {},
   "outputs": [],
   "source": [
    "import sys\n",
    "\n",
    "#sys.path.append('/home/faske/g/anaconda3/envs/py34/lib/python3.4/site-packages')\n",
    "sys.path.append('/data/gpfs/assoc/parchmanlab/tfaske/anaconda3/envs/py36/lib/python3.6/site-packages')\n",
    "sys.path.append(\"/data/gpfs/assoc/parchmanlab/tfaske/ipynb/include_utils\")\n",
    "\n",
    "import ipyparallel as ipp\n",
    "import os, time\n",
    "import include_utils as u\n",
    "import pandas as pd\n",
    "import numpy as np\n",
    "import scipy as sp\n",
    "import random\n",
    "import numbers\n",
    "import matplotlib.pyplot as plt\n",
    "import matplotlib.patches as mpatches\n",
    "import matplotlib.cm as cm\n",
    "import matplotlib.colors as mcolors\n",
    "#import vcf\n",
    "from sklearn import preprocessing\n",
    "from subprocess import Popen, PIPE, call, check_output\n",
    "import seaborn as sns\n",
    "from IPython.display import FileLink\n",
    "import urllib.request as urllib2\n",
    "import dill\n",
    "import traceback\n",
    "from pandas import Series, DataFrame\n",
    "import gzip\n",
    "import warnings\n",
    "warnings.filterwarnings('ignore',category=pd.io.pytables.PerformanceWarning)\n",
    "%config InlineBackend.figure_format = 'retina'\n",
    "from Bio import SeqIO\n",
    "#import pysam\n",
    "from collections import OrderedDict, namedtuple, Counter\n",
    "import operator\n",
    "import multiprocessing as mp\n",
    "import shutil\n",
    "import tempfile\n",
    "#from ipyparallel import Client\n",
    "import scandir\n",
    "import glob\n",
    "from Bio.SeqIO.QualityIO import FastqGeneralIterator\n",
    "import pickle\n",
    "import re\n",
    "from itertools import chain\n",
    "#import Levenshtein as lv"
   ]
  },
  {
   "cell_type": "code",
   "execution_count": 70,
   "metadata": {},
   "outputs": [],
   "source": [
    "vcfutils = \"vcfutils.pl\"\n",
    "vcftools = \"vcftools\"\n",
    "bcftools = \"bcftools\"\n",
    "bgzip = \"bgzip\"\n",
    "tabix = \"tabix\"\n",
    "java = \"java\"\n",
    "plink = \"plink --noweb\""
   ]
  },
  {
   "cell_type": "code",
   "execution_count": 71,
   "metadata": {},
   "outputs": [],
   "source": [
    "analysis_dir = \"/data/gpfs/assoc/denovo/tfaske/sagebrush/SNPcall/filtering\""
   ]
  },
  {
   "cell_type": "code",
   "execution_count": 72,
   "metadata": {},
   "outputs": [
    {
     "name": "stdout",
     "output_type": "stream",
     "text": [
      "/data/gpfs/assoc/denovo/tfaske/sagebrush/SNPcall/filtering\n"
     ]
    }
   ],
   "source": [
    "cd $analysis_dir"
   ]
  },
  {
   "cell_type": "code",
   "execution_count": 73,
   "metadata": {
    "scrolled": true
   },
   "outputs": [
    {
     "data": {
      "text/plain": [
       "'/data/gpfs/assoc/denovo/tfaske/sagebrush/SNPcall/filtering/ARTR_chr.vcf.gz'"
      ]
     },
     "execution_count": 73,
     "metadata": {},
     "output_type": "execute_result"
    }
   ],
   "source": [
    "vcf_file = os.path.join(analysis_dir, \"ARTR_chr.vcf.gz\")\n",
    "assert os.path.exists(vcf_file)\n",
    "vcf_file"
   ]
  },
  {
   "cell_type": "markdown",
   "metadata": {},
   "source": [
    "## keep only biallelic first"
   ]
  },
  {
   "cell_type": "code",
   "execution_count": 74,
   "metadata": {},
   "outputs": [
    {
     "name": "stdout",
     "output_type": "stream",
     "text": [
      "\n",
      "VCFtools - 0.1.16\n",
      "(C) Adam Auton and Anthony Marcketta 2009\n",
      "\n",
      "Parameters as interpreted:\n",
      "\t--gzvcf /data/gpfs/assoc/denovo/tfaske/sagebrush/SNPcall/filtering/ARTR_chr.vcf.gz\n",
      "\t--recode-INFO-all\n",
      "\t--max-alleles 2\n",
      "\t--min-alleles 2\n",
      "\t--out ARTR_chr.biallelic\n",
      "\t--recode\n",
      "\t--remove-filtered-all\n",
      "\t--remove-indels\n",
      "\n",
      "Using zlib version: 1.2.11\n",
      "Warning: Expected at least 2 parts in INFO entry: ID=PV4,Number=4,Type=Float,Description=\"P-values for strand bias, baseQ bias, mapQ bias and tail distance bias\">\n",
      "Warning: Expected at least 2 parts in INFO entry: ID=PV4,Number=4,Type=Float,Description=\"P-values for strand bias, baseQ bias, mapQ bias and tail distance bias\">\n",
      "Warning: Expected at least 2 parts in INFO entry: ID=DP4,Number=4,Type=Integer,Description=\"Number of high-quality ref-forward , ref-reverse, alt-forward and alt-reverse bases\">\n",
      "Warning: Expected at least 2 parts in INFO entry: ID=DP4,Number=4,Type=Integer,Description=\"Number of high-quality ref-forward , ref-reverse, alt-forward and alt-reverse bases\">\n",
      "After filtering, kept 708 out of 708 Individuals\n",
      "Outputting VCF file...\n",
      "After filtering, kept 2766918 out of a possible 2774609 Sites\n",
      "Run Time = 3749.00 seconds\n"
     ]
    }
   ],
   "source": [
    "!$vcftools --remove-indels \\\n",
    "--min-alleles 2 \\\n",
    "--max-alleles 2 \\\n",
    "--remove-filtered-all \\\n",
    "--recode \\\n",
    "--recode-INFO-all \\\n",
    "--gzvcf \\\n",
    "$vcf_file \\\n",
    "--out $'ARTR_chr.biallelic'"
   ]
  },
  {
   "cell_type": "code",
   "execution_count": 76,
   "metadata": {},
   "outputs": [],
   "source": [
    "vcf_biallelic = \"ARTR_chr.biallelic.recode.vcf\" \n",
    "vcf_biallelic_gz = \"%s.gz\" % vcf_biallelic\n",
    "!$bgzip -c $vcf_biallelic > {vcf_biallelic_gz}\n",
    "!$tabix {vcf_biallelic_gz}"
   ]
  },
  {
   "cell_type": "markdown",
   "metadata": {},
   "source": [
    "## Remove by MAF, missing, and thin next"
   ]
  },
  {
   "cell_type": "code",
   "execution_count": 118,
   "metadata": {},
   "outputs": [
    {
     "name": "stdout",
     "output_type": "stream",
     "text": [
      "\n",
      "VCFtools - 0.1.16\n",
      "(C) Adam Auton and Anthony Marcketta 2009\n",
      "\n",
      "Parameters as interpreted:\n",
      "\t--gzvcf ARTR_chr.biallelic.recode.vcf.gz\n",
      "\t--recode-INFO-all\n",
      "\t--maf 0.01\n",
      "\t--thin 100\n",
      "\t--max-missing 0.7\n",
      "\t--out ARTR_chr_miss70_thin100_MAF1\n",
      "\t--recode\n",
      "\t--remove-filtered-all\n",
      "\n",
      "Using zlib version: 1.2.11\n",
      "Warning: Expected at least 2 parts in INFO entry: ID=PV4,Number=4,Type=Float,Description=\"P-values for strand bias, baseQ bias, mapQ bias and tail distance bias\">\n",
      "Warning: Expected at least 2 parts in INFO entry: ID=PV4,Number=4,Type=Float,Description=\"P-values for strand bias, baseQ bias, mapQ bias and tail distance bias\">\n",
      "Warning: Expected at least 2 parts in INFO entry: ID=DP4,Number=4,Type=Integer,Description=\"Number of high-quality ref-forward , ref-reverse, alt-forward and alt-reverse bases\">\n",
      "Warning: Expected at least 2 parts in INFO entry: ID=DP4,Number=4,Type=Integer,Description=\"Number of high-quality ref-forward , ref-reverse, alt-forward and alt-reverse bases\">\n",
      "After filtering, kept 708 out of 708 Individuals\n",
      "Outputting VCF file...\n",
      "After filtering, kept 470121 out of a possible 2766918 Sites\n",
      "Run Time = 881.00 seconds\n"
     ]
    }
   ],
   "source": [
    "!$vcftools \\\n",
    "--max-missing 0.7 \\\n",
    "--maf 0.01 \\\n",
    "--thin 100 \\\n",
    "--remove-filtered-all \\\n",
    "--recode \\\n",
    "--recode-INFO-all \\\n",
    "--gzvcf \\\n",
    "$vcf_biallelic_gz \\\n",
    "--out $'ARTR_chr_miss70_thin100_MAF1'"
   ]
  },
  {
   "cell_type": "code",
   "execution_count": 119,
   "metadata": {},
   "outputs": [],
   "source": [
    "vcf_filtered = \"ARTR_chr_miss70_thin100_MAF1.recode.vcf\"\n",
    "vcf_filtered_gz = \"%s.gz\" % vcf_filtered"
   ]
  },
  {
   "cell_type": "code",
   "execution_count": 120,
   "metadata": {},
   "outputs": [],
   "source": [
    "!$bgzip -c $vcf_filtered > {vcf_filtered_gz}\n",
    "!$tabix {vcf_filtered_gz}"
   ]
  },
  {
   "cell_type": "markdown",
   "metadata": {},
   "source": [
    "# Remove bad_indv\n",
    "\n",
    "by do it by mean_depth cause no missing data "
   ]
  },
  {
   "cell_type": "code",
   "execution_count": 121,
   "metadata": {
    "scrolled": true
   },
   "outputs": [
    {
     "name": "stdout",
     "output_type": "stream",
     "text": [
      "\n",
      "VCFtools - 0.1.16\n",
      "(C) Adam Auton and Anthony Marcketta 2009\n",
      "\n",
      "Parameters as interpreted:\n",
      "\t--gzvcf ARTR_chr_miss70_thin100_MAF1.recode.vcf.gz\n",
      "\t--depth\n",
      "\t--out ARTR_chr_miss70_thin100_MAF1.recode.vcf.gz\n",
      "\n",
      "Using zlib version: 1.2.11\n",
      "Warning: Expected at least 2 parts in INFO entry: ID=PV4,Number=4,Type=Float,Description=\"P-values for strand bias, baseQ bias, mapQ bias and tail distance bias\">\n",
      "Warning: Expected at least 2 parts in INFO entry: ID=PV4,Number=4,Type=Float,Description=\"P-values for strand bias, baseQ bias, mapQ bias and tail distance bias\">\n",
      "Warning: Expected at least 2 parts in INFO entry: ID=DP4,Number=4,Type=Integer,Description=\"Number of high-quality ref-forward , ref-reverse, alt-forward and alt-reverse bases\">\n",
      "Warning: Expected at least 2 parts in INFO entry: ID=DP4,Number=4,Type=Integer,Description=\"Number of high-quality ref-forward , ref-reverse, alt-forward and alt-reverse bases\">\n",
      "After filtering, kept 708 out of 708 Individuals\n",
      "Outputting Mean Depth by Individual\n",
      "After filtering, kept 470121 out of a possible 470121 Sites\n",
      "Run Time = 51.00 seconds\n"
     ]
    }
   ],
   "source": [
    "!$vcftools --gzvcf {vcf_filtered_gz} \\\n",
    "--out {vcf_filtered_gz} \\\n",
    "--depth"
   ]
  },
  {
   "cell_type": "code",
   "execution_count": 122,
   "metadata": {},
   "outputs": [
    {
     "data": {
      "text/html": [
       "<div>\n",
       "<style scoped>\n",
       "    .dataframe tbody tr th:only-of-type {\n",
       "        vertical-align: middle;\n",
       "    }\n",
       "\n",
       "    .dataframe tbody tr th {\n",
       "        vertical-align: top;\n",
       "    }\n",
       "\n",
       "    .dataframe thead th {\n",
       "        text-align: right;\n",
       "    }\n",
       "</style>\n",
       "<table border=\"1\" class=\"dataframe\">\n",
       "  <thead>\n",
       "    <tr style=\"text-align: right;\">\n",
       "      <th></th>\n",
       "      <th>INDV</th>\n",
       "      <th>N_SITES</th>\n",
       "      <th>MEAN_DEPTH</th>\n",
       "    </tr>\n",
       "  </thead>\n",
       "  <tbody>\n",
       "    <tr>\n",
       "      <th>0</th>\n",
       "      <td>AT2_BB_10</td>\n",
       "      <td>470121</td>\n",
       "      <td>0.355355</td>\n",
       "    </tr>\n",
       "    <tr>\n",
       "      <th>1</th>\n",
       "      <td>AT2_BB_11</td>\n",
       "      <td>470121</td>\n",
       "      <td>0.246366</td>\n",
       "    </tr>\n",
       "    <tr>\n",
       "      <th>2</th>\n",
       "      <td>AT2_BB_12</td>\n",
       "      <td>470121</td>\n",
       "      <td>0.207864</td>\n",
       "    </tr>\n",
       "    <tr>\n",
       "      <th>3</th>\n",
       "      <td>AT2_BB_13</td>\n",
       "      <td>470121</td>\n",
       "      <td>0.308955</td>\n",
       "    </tr>\n",
       "    <tr>\n",
       "      <th>4</th>\n",
       "      <td>AT2_BB_14</td>\n",
       "      <td>470121</td>\n",
       "      <td>0.434563</td>\n",
       "    </tr>\n",
       "  </tbody>\n",
       "</table>\n",
       "</div>"
      ],
      "text/plain": [
       "        INDV  N_SITES  MEAN_DEPTH\n",
       "0  AT2_BB_10   470121    0.355355\n",
       "1  AT2_BB_11   470121    0.246366\n",
       "2  AT2_BB_12   470121    0.207864\n",
       "3  AT2_BB_13   470121    0.308955\n",
       "4  AT2_BB_14   470121    0.434563"
      ]
     },
     "execution_count": 122,
     "metadata": {},
     "output_type": "execute_result"
    }
   ],
   "source": [
    "depth_file = vcf_filtered_gz + \".idepth\"\n",
    "depth_df = pd.read_csv(depth_file, sep=\"\\t\")\n",
    "depth_df.head()"
   ]
  },
  {
   "cell_type": "code",
   "execution_count": 123,
   "metadata": {
    "scrolled": false
   },
   "outputs": [
    {
     "data": {
      "text/plain": [
       "count    708.000000\n",
       "mean       0.261894\n",
       "std        0.097040\n",
       "min        0.000534\n",
       "25%        0.193566\n",
       "50%        0.256158\n",
       "75%        0.330804\n",
       "max        0.557031\n",
       "Name: MEAN_DEPTH, dtype: float64"
      ]
     },
     "execution_count": 123,
     "metadata": {},
     "output_type": "execute_result"
    }
   ],
   "source": [
    "depth_df.MEAN_DEPTH.describe()"
   ]
  },
  {
   "cell_type": "code",
   "execution_count": 124,
   "metadata": {},
   "outputs": [
    {
     "data": {
      "text/plain": [
       "(708, 15, 24, 75)"
      ]
     },
     "execution_count": 124,
     "metadata": {},
     "output_type": "execute_result"
    }
   ],
   "source": [
    "len(depth_df),len(depth_df[depth_df.MEAN_DEPTH <= .05]),len(depth_df[depth_df.MEAN_DEPTH <= .1]), len(depth_df[depth_df.MEAN_DEPTH <= .15])\n"
   ]
  },
  {
   "cell_type": "code",
   "execution_count": 125,
   "metadata": {},
   "outputs": [],
   "source": [
    "bad_indv = depth_df.INDV[depth_df.MEAN_DEPTH <= .1]"
   ]
  },
  {
   "cell_type": "code",
   "execution_count": 126,
   "metadata": {},
   "outputs": [],
   "source": [
    "with open(os.path.join(analysis_dir, \"bad_indv.txt\"), \"w\") as o:\n",
    "    o.write(\"INDV\\n\")\n",
    "    for elem in bad_indv:\n",
    "        o.write(\"%s\\n\" % elem)"
   ]
  },
  {
   "cell_type": "code",
   "execution_count": 127,
   "metadata": {},
   "outputs": [
    {
     "name": "stdout",
     "output_type": "stream",
     "text": [
      "INDV\r\n",
      "AT2_EW_38\r\n",
      "AT2_KN_90\r\n",
      "AT2_LN_95\r\n",
      "AT2_LN_97\r\n",
      "AT2_OC_1\r\n",
      "AT2_RB_2\r\n",
      "AT2_SS_8\r\n",
      "AT2_SS_9\r\n",
      "AT4_DS_9\r\n",
      "AT4_WT_1\r\n",
      "AV2_NV_1\r\n",
      "AV2_PL_10\r\n",
      "AV2_SN_128\r\n",
      "AV2_TF_149\r\n",
      "AV4_EW_5\r\n",
      "AV4_JU_2\r\n",
      "AV4_LS_21\r\n",
      "AV4_RR_6\r\n",
      "AW4_FR_4\r\n",
      "AW4_GB_3\r\n",
      "AW4_JC_2\r\n",
      "AW4_JC_3\r\n",
      "AW4_MK_232\r\n",
      "AW4_WJ_3\r\n"
     ]
    }
   ],
   "source": [
    "!cat bad_indv.txt"
   ]
  },
  {
   "cell_type": "code",
   "execution_count": 169,
   "metadata": {},
   "outputs": [
    {
     "name": "stdout",
     "output_type": "stream",
     "text": [
      "\n",
      "VCFtools - 0.1.16\n",
      "(C) Adam Auton and Anthony Marcketta 2009\n",
      "\n",
      "Parameters as interpreted:\n",
      "\t--gzvcf ARTR_chr_miss70_thin100_MAF1.recode.vcf.gz\n",
      "\t--remove /data/gpfs/assoc/denovo/tfaske/sagebrush/SNPcall/filtering/bad_indv.txt\n",
      "\t--recode-INFO-all\n",
      "\t--out /data/gpfs/assoc/denovo/tfaske/sagebrush/SNPcall/filtering/snps_indv_removed\n",
      "\t--recode\n",
      "\t--remove-filtered-all\n",
      "\t--remove-indels\n",
      "\n",
      "Using zlib version: 1.2.11\n",
      "Warning: Expected at least 2 parts in INFO entry: ID=PV4,Number=4,Type=Float,Description=\"P-values for strand bias, baseQ bias, mapQ bias and tail distance bias\">\n",
      "Warning: Expected at least 2 parts in INFO entry: ID=PV4,Number=4,Type=Float,Description=\"P-values for strand bias, baseQ bias, mapQ bias and tail distance bias\">\n",
      "Warning: Expected at least 2 parts in INFO entry: ID=DP4,Number=4,Type=Integer,Description=\"Number of high-quality ref-forward , ref-reverse, alt-forward and alt-reverse bases\">\n",
      "Warning: Expected at least 2 parts in INFO entry: ID=DP4,Number=4,Type=Integer,Description=\"Number of high-quality ref-forward , ref-reverse, alt-forward and alt-reverse bases\">\n",
      "Excluding individuals in 'exclude' list\n",
      "After filtering, kept 684 out of 708 Individuals\n",
      "Outputting VCF file...\n",
      "After filtering, kept 470121 out of a possible 470121 Sites\n",
      "Run Time = 597.00 seconds\n"
     ]
    }
   ],
   "source": [
    "!$vcftools --gzvcf $vcf_filtered_gz \\\n",
    "--remove-indels  \\\n",
    "--remove-filtered-all \\\n",
    "--recode \\\n",
    "--recode-INFO-all \\\n",
    "--remove {os.path.join(analysis_dir, \"bad_indv.txt\")} \\\n",
    "--out {os.path.join(analysis_dir, \"snps_indv_removed\")}"
   ]
  },
  {
   "cell_type": "code",
   "execution_count": 170,
   "metadata": {},
   "outputs": [],
   "source": [
    "vcf_bad_remove = os.path.join(analysis_dir, \"snps_indv_removed.recode.vcf\")\n",
    "vcf_bad_remove_gz = vcf_bad_remove + \".gz\"\n",
    "!$bgzip -c {vcf_bad_remove} > {vcf_bad_remove_gz}\n",
    "!$tabix {vcf_bad_remove_gz}"
   ]
  },
  {
   "cell_type": "markdown",
   "metadata": {},
   "source": [
    "# Filter snps further \n",
    "this needs to be done after removing individuals\n"
   ]
  },
  {
   "cell_type": "code",
   "execution_count": 171,
   "metadata": {},
   "outputs": [],
   "source": [
    "def get_vcf_stats(vcf_gz):\n",
    "    \n",
    "    stats = ['depth',\n",
    "            'site-depth',\n",
    "            'site-mean-depth',\n",
    "            'site-quality',\n",
    "            'missing-site',\n",
    "            'freq',\n",
    "            'counts',\n",
    "            'hardy',\n",
    "            'het']\n",
    "    \n",
    "    for stat in stats:\n",
    "        !$vcftools --gzvcf $vcf_gz \\\n",
    "        --out $vcf_gz \\\n",
    "        {\"--%s\" % stat} "
   ]
  },
  {
   "cell_type": "code",
   "execution_count": 172,
   "metadata": {},
   "outputs": [
    {
     "name": "stdout",
     "output_type": "stream",
     "text": [
      "\n",
      "VCFtools - 0.1.16\n",
      "(C) Adam Auton and Anthony Marcketta 2009\n",
      "\n",
      "Parameters as interpreted:\n",
      "\t--gzvcf /data/gpfs/assoc/denovo/tfaske/sagebrush/SNPcall/filtering/snps_indv_removed.recode.vcf.gz\n",
      "\t--depth\n",
      "\t--out /data/gpfs/assoc/denovo/tfaske/sagebrush/SNPcall/filtering/snps_indv_removed.recode.vcf.gz\n",
      "\n",
      "Using zlib version: 1.2.11\n",
      "Warning: Expected at least 2 parts in INFO entry: ID=PV4,Number=4,Type=Float,Description=\"P-values for strand bias, baseQ bias, mapQ bias and tail distance bias\">\n",
      "Warning: Expected at least 2 parts in INFO entry: ID=PV4,Number=4,Type=Float,Description=\"P-values for strand bias, baseQ bias, mapQ bias and tail distance bias\">\n",
      "Warning: Expected at least 2 parts in INFO entry: ID=DP4,Number=4,Type=Integer,Description=\"Number of high-quality ref-forward , ref-reverse, alt-forward and alt-reverse bases\">\n",
      "Warning: Expected at least 2 parts in INFO entry: ID=DP4,Number=4,Type=Integer,Description=\"Number of high-quality ref-forward , ref-reverse, alt-forward and alt-reverse bases\">\n",
      "After filtering, kept 684 out of 684 Individuals\n",
      "Outputting Mean Depth by Individual\n",
      "After filtering, kept 470121 out of a possible 470121 Sites\n",
      "Run Time = 49.00 seconds\n",
      "\n",
      "VCFtools - 0.1.16\n",
      "(C) Adam Auton and Anthony Marcketta 2009\n",
      "\n",
      "Parameters as interpreted:\n",
      "\t--gzvcf /data/gpfs/assoc/denovo/tfaske/sagebrush/SNPcall/filtering/snps_indv_removed.recode.vcf.gz\n",
      "\t--out /data/gpfs/assoc/denovo/tfaske/sagebrush/SNPcall/filtering/snps_indv_removed.recode.vcf.gz\n",
      "\t--site-depth\n",
      "\n",
      "Using zlib version: 1.2.11\n",
      "Warning: Expected at least 2 parts in INFO entry: ID=PV4,Number=4,Type=Float,Description=\"P-values for strand bias, baseQ bias, mapQ bias and tail distance bias\">\n",
      "Warning: Expected at least 2 parts in INFO entry: ID=PV4,Number=4,Type=Float,Description=\"P-values for strand bias, baseQ bias, mapQ bias and tail distance bias\">\n",
      "Warning: Expected at least 2 parts in INFO entry: ID=DP4,Number=4,Type=Integer,Description=\"Number of high-quality ref-forward , ref-reverse, alt-forward and alt-reverse bases\">\n",
      "Warning: Expected at least 2 parts in INFO entry: ID=DP4,Number=4,Type=Integer,Description=\"Number of high-quality ref-forward , ref-reverse, alt-forward and alt-reverse bases\">\n",
      "After filtering, kept 684 out of 684 Individuals\n",
      "Outputting Depth for Each Site\n",
      "After filtering, kept 470121 out of a possible 470121 Sites\n",
      "Run Time = 52.00 seconds\n",
      "\n",
      "VCFtools - 0.1.16\n",
      "(C) Adam Auton and Anthony Marcketta 2009\n",
      "\n",
      "Parameters as interpreted:\n",
      "\t--gzvcf /data/gpfs/assoc/denovo/tfaske/sagebrush/SNPcall/filtering/snps_indv_removed.recode.vcf.gz\n",
      "\t--out /data/gpfs/assoc/denovo/tfaske/sagebrush/SNPcall/filtering/snps_indv_removed.recode.vcf.gz\n",
      "\t--site-mean-depth\n",
      "\n",
      "Using zlib version: 1.2.11\n",
      "Warning: Expected at least 2 parts in INFO entry: ID=PV4,Number=4,Type=Float,Description=\"P-values for strand bias, baseQ bias, mapQ bias and tail distance bias\">\n",
      "Warning: Expected at least 2 parts in INFO entry: ID=PV4,Number=4,Type=Float,Description=\"P-values for strand bias, baseQ bias, mapQ bias and tail distance bias\">\n",
      "Warning: Expected at least 2 parts in INFO entry: ID=DP4,Number=4,Type=Integer,Description=\"Number of high-quality ref-forward , ref-reverse, alt-forward and alt-reverse bases\">\n",
      "Warning: Expected at least 2 parts in INFO entry: ID=DP4,Number=4,Type=Integer,Description=\"Number of high-quality ref-forward , ref-reverse, alt-forward and alt-reverse bases\">\n",
      "After filtering, kept 684 out of 684 Individuals\n",
      "Outputting Depth for Each Site\n",
      "After filtering, kept 470121 out of a possible 470121 Sites\n",
      "Run Time = 53.00 seconds\n",
      "\n",
      "VCFtools - 0.1.16\n",
      "(C) Adam Auton and Anthony Marcketta 2009\n",
      "\n",
      "Parameters as interpreted:\n",
      "\t--gzvcf /data/gpfs/assoc/denovo/tfaske/sagebrush/SNPcall/filtering/snps_indv_removed.recode.vcf.gz\n",
      "\t--out /data/gpfs/assoc/denovo/tfaske/sagebrush/SNPcall/filtering/snps_indv_removed.recode.vcf.gz\n",
      "\t--site-quality\n",
      "\n",
      "Using zlib version: 1.2.11\n",
      "Warning: Expected at least 2 parts in INFO entry: ID=PV4,Number=4,Type=Float,Description=\"P-values for strand bias, baseQ bias, mapQ bias and tail distance bias\">\n",
      "Warning: Expected at least 2 parts in INFO entry: ID=PV4,Number=4,Type=Float,Description=\"P-values for strand bias, baseQ bias, mapQ bias and tail distance bias\">\n",
      "Warning: Expected at least 2 parts in INFO entry: ID=DP4,Number=4,Type=Integer,Description=\"Number of high-quality ref-forward , ref-reverse, alt-forward and alt-reverse bases\">\n",
      "Warning: Expected at least 2 parts in INFO entry: ID=DP4,Number=4,Type=Integer,Description=\"Number of high-quality ref-forward , ref-reverse, alt-forward and alt-reverse bases\">\n",
      "After filtering, kept 684 out of 684 Individuals\n",
      "Outputting Quality for Each Site\n",
      "After filtering, kept 470121 out of a possible 470121 Sites\n",
      "Run Time = 16.00 seconds\n",
      "\n",
      "VCFtools - 0.1.16\n",
      "(C) Adam Auton and Anthony Marcketta 2009\n",
      "\n",
      "Parameters as interpreted:\n",
      "\t--gzvcf /data/gpfs/assoc/denovo/tfaske/sagebrush/SNPcall/filtering/snps_indv_removed.recode.vcf.gz\n",
      "\t--out /data/gpfs/assoc/denovo/tfaske/sagebrush/SNPcall/filtering/snps_indv_removed.recode.vcf.gz\n",
      "\t--missing-site\n",
      "\n",
      "Using zlib version: 1.2.11\n",
      "Warning: Expected at least 2 parts in INFO entry: ID=PV4,Number=4,Type=Float,Description=\"P-values for strand bias, baseQ bias, mapQ bias and tail distance bias\">\n",
      "Warning: Expected at least 2 parts in INFO entry: ID=PV4,Number=4,Type=Float,Description=\"P-values for strand bias, baseQ bias, mapQ bias and tail distance bias\">\n",
      "Warning: Expected at least 2 parts in INFO entry: ID=DP4,Number=4,Type=Integer,Description=\"Number of high-quality ref-forward , ref-reverse, alt-forward and alt-reverse bases\">\n",
      "Warning: Expected at least 2 parts in INFO entry: ID=DP4,Number=4,Type=Integer,Description=\"Number of high-quality ref-forward , ref-reverse, alt-forward and alt-reverse bases\">\n",
      "After filtering, kept 684 out of 684 Individuals\n",
      "Outputting Site Missingness\n",
      "After filtering, kept 470121 out of a possible 470121 Sites\n",
      "Run Time = 47.00 seconds\n",
      "\n",
      "VCFtools - 0.1.16\n",
      "(C) Adam Auton and Anthony Marcketta 2009\n",
      "\n",
      "Parameters as interpreted:\n",
      "\t--gzvcf /data/gpfs/assoc/denovo/tfaske/sagebrush/SNPcall/filtering/snps_indv_removed.recode.vcf.gz\n",
      "\t--freq\n",
      "\t--out /data/gpfs/assoc/denovo/tfaske/sagebrush/SNPcall/filtering/snps_indv_removed.recode.vcf.gz\n",
      "\n",
      "Using zlib version: 1.2.11\n",
      "Warning: Expected at least 2 parts in INFO entry: ID=PV4,Number=4,Type=Float,Description=\"P-values for strand bias, baseQ bias, mapQ bias and tail distance bias\">\n",
      "Warning: Expected at least 2 parts in INFO entry: ID=PV4,Number=4,Type=Float,Description=\"P-values for strand bias, baseQ bias, mapQ bias and tail distance bias\">\n",
      "Warning: Expected at least 2 parts in INFO entry: ID=DP4,Number=4,Type=Integer,Description=\"Number of high-quality ref-forward , ref-reverse, alt-forward and alt-reverse bases\">\n",
      "Warning: Expected at least 2 parts in INFO entry: ID=DP4,Number=4,Type=Integer,Description=\"Number of high-quality ref-forward , ref-reverse, alt-forward and alt-reverse bases\">\n",
      "After filtering, kept 684 out of 684 Individuals\n",
      "Outputting Frequency Statistics...\n",
      "After filtering, kept 470121 out of a possible 470121 Sites\n",
      "Run Time = 46.00 seconds\n",
      "\n",
      "VCFtools - 0.1.16\n",
      "(C) Adam Auton and Anthony Marcketta 2009\n",
      "\n",
      "Parameters as interpreted:\n",
      "\t--gzvcf /data/gpfs/assoc/denovo/tfaske/sagebrush/SNPcall/filtering/snps_indv_removed.recode.vcf.gz\n",
      "\t--counts\n",
      "\t--out /data/gpfs/assoc/denovo/tfaske/sagebrush/SNPcall/filtering/snps_indv_removed.recode.vcf.gz\n",
      "\n",
      "Using zlib version: 1.2.11\n",
      "Warning: Expected at least 2 parts in INFO entry: ID=PV4,Number=4,Type=Float,Description=\"P-values for strand bias, baseQ bias, mapQ bias and tail distance bias\">\n",
      "Warning: Expected at least 2 parts in INFO entry: ID=PV4,Number=4,Type=Float,Description=\"P-values for strand bias, baseQ bias, mapQ bias and tail distance bias\">\n",
      "Warning: Expected at least 2 parts in INFO entry: ID=DP4,Number=4,Type=Integer,Description=\"Number of high-quality ref-forward , ref-reverse, alt-forward and alt-reverse bases\">\n",
      "Warning: Expected at least 2 parts in INFO entry: ID=DP4,Number=4,Type=Integer,Description=\"Number of high-quality ref-forward , ref-reverse, alt-forward and alt-reverse bases\">\n",
      "After filtering, kept 684 out of 684 Individuals\n",
      "Outputting Frequency Statistics...\n",
      "After filtering, kept 470121 out of a possible 470121 Sites\n",
      "Run Time = 43.00 seconds\n"
     ]
    },
    {
     "name": "stdout",
     "output_type": "stream",
     "text": [
      "\n",
      "VCFtools - 0.1.16\n",
      "(C) Adam Auton and Anthony Marcketta 2009\n",
      "\n",
      "Parameters as interpreted:\n",
      "\t--gzvcf /data/gpfs/assoc/denovo/tfaske/sagebrush/SNPcall/filtering/snps_indv_removed.recode.vcf.gz\n",
      "\t--hardy\n",
      "\t--out /data/gpfs/assoc/denovo/tfaske/sagebrush/SNPcall/filtering/snps_indv_removed.recode.vcf.gz\n",
      "\n",
      "Using zlib version: 1.2.11\n",
      "Warning: Expected at least 2 parts in INFO entry: ID=PV4,Number=4,Type=Float,Description=\"P-values for strand bias, baseQ bias, mapQ bias and tail distance bias\">\n",
      "Warning: Expected at least 2 parts in INFO entry: ID=PV4,Number=4,Type=Float,Description=\"P-values for strand bias, baseQ bias, mapQ bias and tail distance bias\">\n",
      "Warning: Expected at least 2 parts in INFO entry: ID=DP4,Number=4,Type=Integer,Description=\"Number of high-quality ref-forward , ref-reverse, alt-forward and alt-reverse bases\">\n",
      "Warning: Expected at least 2 parts in INFO entry: ID=DP4,Number=4,Type=Integer,Description=\"Number of high-quality ref-forward , ref-reverse, alt-forward and alt-reverse bases\">\n",
      "After filtering, kept 684 out of 684 Individuals\n",
      "Outputting HWE statistics (but only for biallelic loci)\n",
      "After filtering, kept 470121 out of a possible 470121 Sites\n",
      "Run Time = 54.00 seconds\n",
      "\n",
      "VCFtools - 0.1.16\n",
      "(C) Adam Auton and Anthony Marcketta 2009\n",
      "\n",
      "Parameters as interpreted:\n",
      "\t--gzvcf /data/gpfs/assoc/denovo/tfaske/sagebrush/SNPcall/filtering/snps_indv_removed.recode.vcf.gz\n",
      "\t--het\n",
      "\t--out /data/gpfs/assoc/denovo/tfaske/sagebrush/SNPcall/filtering/snps_indv_removed.recode.vcf.gz\n",
      "\n",
      "Using zlib version: 1.2.11\n",
      "Warning: Expected at least 2 parts in INFO entry: ID=PV4,Number=4,Type=Float,Description=\"P-values for strand bias, baseQ bias, mapQ bias and tail distance bias\">\n",
      "Warning: Expected at least 2 parts in INFO entry: ID=PV4,Number=4,Type=Float,Description=\"P-values for strand bias, baseQ bias, mapQ bias and tail distance bias\">\n",
      "Warning: Expected at least 2 parts in INFO entry: ID=DP4,Number=4,Type=Integer,Description=\"Number of high-quality ref-forward , ref-reverse, alt-forward and alt-reverse bases\">\n",
      "Warning: Expected at least 2 parts in INFO entry: ID=DP4,Number=4,Type=Integer,Description=\"Number of high-quality ref-forward , ref-reverse, alt-forward and alt-reverse bases\">\n",
      "After filtering, kept 684 out of 684 Individuals\n",
      "Outputting Individual Heterozygosity\n",
      "After filtering, kept 470121 out of a possible 470121 Sites\n",
      "Run Time = 47.00 seconds\n"
     ]
    }
   ],
   "source": [
    "get_vcf_stats(vcf_bad_remove_gz)"
   ]
  },
  {
   "cell_type": "code",
   "execution_count": 173,
   "metadata": {},
   "outputs": [],
   "source": [
    "#pd.set_option('display.max_columns', 100)\n",
    "\n",
    "def get_MAF(row):\n",
    "    try:\n",
    "        return np.min([row.A1_freq, row.A2_freq])\n",
    "    except:\n",
    "        print(row)\n",
    "        \n",
    "def get_correction(n):\n",
    "    #for finite sample size\n",
    "    return (2*n)/(2*n-1)\n",
    "\n",
    "def calculate_Fis(vals):\n",
    "    try:\n",
    "        data = [float(x) for x in vals.split(\"/\")]\n",
    "        assert len(data) == 3\n",
    "        num_individuals = np.sum(data)\n",
    "        total_alleles = 2*num_individuals\n",
    "        a1_count = 2*data[0]\n",
    "        a2_count = 2*data[2]\n",
    "        het_count = data[1]\n",
    "        a1_count += het_count\n",
    "        a2_count += het_count\n",
    "        a1_freq = a1_count/total_alleles\n",
    "        a2_freq = a2_count/total_alleles\n",
    "        assert a1_freq + a2_freq == 1.0\n",
    "        He = 2 * a1_freq * a2_freq * get_correction(num_individuals)\n",
    "        Ho = het_count/num_individuals\n",
    "        Fis = 1 - (Ho/He)\n",
    "        return Fis\n",
    "    except:\n",
    "        return -9\n",
    "\n",
    "def combine_vcf_stats(filedir, prefix):\n",
    "    \n",
    "    hardy_files = !ls {filedir}/{prefix}.hwe\n",
    "    hardy = pd.read_csv(hardy_files[0], sep=\"\\t\")\n",
    "\n",
    "    hardy.columns = ['CHROM', 'POS', 'OBS(HOM1/HET/HOM2)', 'E(HOM1/HET/HOM2)', 'ChiSq_HWE',\n",
    "       'P_HWE', 'P_HET_DEFICIT', 'P_HET_EXCESS']\n",
    "    hardy.index = hardy.apply(lambda x: \"%s-%d\" % (x.CHROM, x.POS), axis=1)\n",
    "    \n",
    "    loci_files = !ls {filedir}/{prefix}.l* | grep -v log\n",
    "    loci_df = pd.concat([pd.read_csv(x, sep=\"\\t\", skiprows=0) for x in loci_files], axis=1)\n",
    "    chrom_pos = loci_df.ix[:,0:2]\n",
    "    \n",
    "    frq_files = !ls {filedir}/{prefix}.frq* | grep -v count\n",
    "    frq_data = []\n",
    "    h = open(frq_files[0])\n",
    "    header = h.readline().strip().split()\n",
    "    for line in h:\n",
    "        frq_data.append(line.strip().split('\\t'))\n",
    "\n",
    "    header = ['CHROM', 'POS', 'N_ALLELES', 'N_CHR', 'A1_FREQ', \"A2_FREQ\"]\n",
    "    frq_df = pd.DataFrame(frq_data)\n",
    "    print(frq_df.columns)\n",
    "    #frq_df = frq_df.drop([6,7],axis=1)\n",
    "    frq_df.columns = header\n",
    "    frq_df.index = frq_df.apply(lambda x: \"%s-%s\" % (x.CHROM, x.POS), axis=1)\n",
    "    \n",
    "    loci_df = loci_df.drop(['CHROM','CHR','POS'], axis=1)\n",
    "    loci_df = pd.concat([chrom_pos, loci_df], axis=1)\n",
    "    loci_df.index = loci_df.apply(lambda x: \"%s-%d\" % (x.CHROM, x.POS), axis=1)\n",
    "    \n",
    "    loci_df = pd.concat([loci_df, frq_df, hardy], axis=1)\n",
    "    loci_df[\"A1_allele\"] = loci_df.apply(lambda row: row.A1_FREQ.split(\":\")[0], axis=1)\n",
    "    loci_df[\"A2_allele\"] = loci_df.apply(lambda row: row.A2_FREQ.split(\":\")[0], axis=1)\n",
    "    \n",
    "    loci_df[\"A1_freq\"] = loci_df.apply(lambda row: float(row.A1_FREQ.split(\":\")[1]), axis=1)\n",
    "    loci_df[\"A2_freq\"] = loci_df.apply(lambda row: float(row.A2_FREQ.split(\":\")[1]), axis=1)\n",
    "    \n",
    "    loci_df['MAF'] = loci_df.apply(get_MAF, axis=1)\n",
    "    loci_df = loci_df.drop(['CHROM', 'POS'], axis=1)\n",
    "    \n",
    "    loci_df['Fis'] = loci_df['OBS(HOM1/HET/HOM2)'].apply(calculate_Fis)\n",
    "    \n",
    "    return loci_df, frq_df, hardy"
   ]
  },
  {
   "cell_type": "code",
   "execution_count": 174,
   "metadata": {},
   "outputs": [
    {
     "data": {
      "text/plain": [
       "'/data/gpfs/assoc/denovo/tfaske/sagebrush/SNPcall/filtering/snps_indv_removed.recode.vcf.gz'"
      ]
     },
     "execution_count": 174,
     "metadata": {},
     "output_type": "execute_result"
    }
   ],
   "source": [
    "vcf_bad_remove_gz"
   ]
  },
  {
   "cell_type": "code",
   "execution_count": 175,
   "metadata": {
    "scrolled": true
   },
   "outputs": [
    {
     "name": "stderr",
     "output_type": "stream",
     "text": [
      "/data/gpfs/assoc/parchmanlab/tfaske/anaconda3/envs/py36/lib/python3.6/site-packages/ipykernel_launcher.py:45: FutureWarning: \n",
      ".ix is deprecated. Please use\n",
      ".loc for label based indexing or\n",
      ".iloc for positional indexing\n",
      "\n",
      "See the documentation here:\n",
      "http://pandas.pydata.org/pandas-docs/stable/user_guide/indexing.html#ix-indexer-is-deprecated\n"
     ]
    },
    {
     "name": "stdout",
     "output_type": "stream",
     "text": [
      "RangeIndex(start=0, stop=6, step=1)\n"
     ]
    }
   ],
   "source": [
    "loci_df, frq_df, hardy = combine_vcf_stats(analysis_dir,'snps_indv_removed.recode.vcf.gz')"
   ]
  },
  {
   "cell_type": "code",
   "execution_count": 176,
   "metadata": {},
   "outputs": [
    {
     "data": {
      "text/html": [
       "<div>\n",
       "<style scoped>\n",
       "    .dataframe tbody tr th:only-of-type {\n",
       "        vertical-align: middle;\n",
       "    }\n",
       "\n",
       "    .dataframe tbody tr th {\n",
       "        vertical-align: top;\n",
       "    }\n",
       "\n",
       "    .dataframe thead th {\n",
       "        text-align: right;\n",
       "    }\n",
       "</style>\n",
       "<table border=\"1\" class=\"dataframe\">\n",
       "  <thead>\n",
       "    <tr style=\"text-align: right;\">\n",
       "      <th></th>\n",
       "      <th>SUM_DEPTH</th>\n",
       "      <th>SUMSQ_DEPTH</th>\n",
       "      <th>MEAN_DEPTH</th>\n",
       "      <th>VAR_DEPTH</th>\n",
       "      <th>N_DATA</th>\n",
       "      <th>N_GENOTYPE_FILTERED</th>\n",
       "      <th>N_MISS</th>\n",
       "      <th>F_MISS</th>\n",
       "      <th>QUAL</th>\n",
       "      <th>N_ALLELES</th>\n",
       "      <th>...</th>\n",
       "      <th>ChiSq_HWE</th>\n",
       "      <th>P_HWE</th>\n",
       "      <th>P_HET_DEFICIT</th>\n",
       "      <th>P_HET_EXCESS</th>\n",
       "      <th>A1_allele</th>\n",
       "      <th>A2_allele</th>\n",
       "      <th>A1_freq</th>\n",
       "      <th>A2_freq</th>\n",
       "      <th>MAF</th>\n",
       "      <th>Fis</th>\n",
       "    </tr>\n",
       "  </thead>\n",
       "  <tbody>\n",
       "    <tr>\n",
       "      <th>CM042338.1-22493</th>\n",
       "      <td>1</td>\n",
       "      <td>1</td>\n",
       "      <td>0.001462</td>\n",
       "      <td>0.001462</td>\n",
       "      <td>1368</td>\n",
       "      <td>0</td>\n",
       "      <td>0</td>\n",
       "      <td>0</td>\n",
       "      <td>7.82756</td>\n",
       "      <td>2</td>\n",
       "      <td>...</td>\n",
       "      <td>684.00000</td>\n",
       "      <td>5.952672e-205</td>\n",
       "      <td>1.000000e+00</td>\n",
       "      <td>5.776507e-205</td>\n",
       "      <td>C</td>\n",
       "      <td>G</td>\n",
       "      <td>0.500000</td>\n",
       "      <td>0.500000</td>\n",
       "      <td>0.500000</td>\n",
       "      <td>-0.998538</td>\n",
       "    </tr>\n",
       "    <tr>\n",
       "      <th>CM042338.1-59115</th>\n",
       "      <td>362</td>\n",
       "      <td>934</td>\n",
       "      <td>0.529240</td>\n",
       "      <td>1.086990</td>\n",
       "      <td>1368</td>\n",
       "      <td>0</td>\n",
       "      <td>0</td>\n",
       "      <td>0</td>\n",
       "      <td>999.00000</td>\n",
       "      <td>2</td>\n",
       "      <td>...</td>\n",
       "      <td>0.36772</td>\n",
       "      <td>1.000000e+00</td>\n",
       "      <td>1.000000e+00</td>\n",
       "      <td>7.063152e-01</td>\n",
       "      <td>A</td>\n",
       "      <td>T</td>\n",
       "      <td>0.022661</td>\n",
       "      <td>0.977339</td>\n",
       "      <td>0.022661</td>\n",
       "      <td>-0.022438</td>\n",
       "    </tr>\n",
       "    <tr>\n",
       "      <th>CM042338.1-97078</th>\n",
       "      <td>2</td>\n",
       "      <td>4</td>\n",
       "      <td>0.002924</td>\n",
       "      <td>0.005848</td>\n",
       "      <td>1368</td>\n",
       "      <td>0</td>\n",
       "      <td>0</td>\n",
       "      <td>0</td>\n",
       "      <td>35.79330</td>\n",
       "      <td>2</td>\n",
       "      <td>...</td>\n",
       "      <td>680.01170</td>\n",
       "      <td>2.099126e-202</td>\n",
       "      <td>1.000000e+00</td>\n",
       "      <td>1.978454e-202</td>\n",
       "      <td>T</td>\n",
       "      <td>G</td>\n",
       "      <td>0.499269</td>\n",
       "      <td>0.500731</td>\n",
       "      <td>0.499269</td>\n",
       "      <td>-0.995620</td>\n",
       "    </tr>\n",
       "    <tr>\n",
       "      <th>CM042338.1-106063</th>\n",
       "      <td>26</td>\n",
       "      <td>46</td>\n",
       "      <td>0.038012</td>\n",
       "      <td>0.065903</td>\n",
       "      <td>1368</td>\n",
       "      <td>0</td>\n",
       "      <td>0</td>\n",
       "      <td>0</td>\n",
       "      <td>999.00000</td>\n",
       "      <td>2</td>\n",
       "      <td>...</td>\n",
       "      <td>621.84560</td>\n",
       "      <td>1.621062e-174</td>\n",
       "      <td>1.000000e+00</td>\n",
       "      <td>1.620144e-174</td>\n",
       "      <td>T</td>\n",
       "      <td>C</td>\n",
       "      <td>0.505848</td>\n",
       "      <td>0.494152</td>\n",
       "      <td>0.494152</td>\n",
       "      <td>-0.952056</td>\n",
       "    </tr>\n",
       "    <tr>\n",
       "      <th>CM042338.1-126072</th>\n",
       "      <td>552</td>\n",
       "      <td>1596</td>\n",
       "      <td>0.807018</td>\n",
       "      <td>1.684520</td>\n",
       "      <td>1368</td>\n",
       "      <td>0</td>\n",
       "      <td>0</td>\n",
       "      <td>0</td>\n",
       "      <td>999.00000</td>\n",
       "      <td>2</td>\n",
       "      <td>...</td>\n",
       "      <td>61.89046</td>\n",
       "      <td>2.387714e-09</td>\n",
       "      <td>2.387714e-09</td>\n",
       "      <td>1.000000e+00</td>\n",
       "      <td>C</td>\n",
       "      <td>G</td>\n",
       "      <td>0.932749</td>\n",
       "      <td>0.067252</td>\n",
       "      <td>0.067252</td>\n",
       "      <td>0.301315</td>\n",
       "    </tr>\n",
       "    <tr>\n",
       "      <th>...</th>\n",
       "      <td>...</td>\n",
       "      <td>...</td>\n",
       "      <td>...</td>\n",
       "      <td>...</td>\n",
       "      <td>...</td>\n",
       "      <td>...</td>\n",
       "      <td>...</td>\n",
       "      <td>...</td>\n",
       "      <td>...</td>\n",
       "      <td>...</td>\n",
       "      <td>...</td>\n",
       "      <td>...</td>\n",
       "      <td>...</td>\n",
       "      <td>...</td>\n",
       "      <td>...</td>\n",
       "      <td>...</td>\n",
       "      <td>...</td>\n",
       "      <td>...</td>\n",
       "      <td>...</td>\n",
       "      <td>...</td>\n",
       "      <td>...</td>\n",
       "    </tr>\n",
       "    <tr>\n",
       "      <th>CM042346.1-338263844</th>\n",
       "      <td>2</td>\n",
       "      <td>4</td>\n",
       "      <td>0.002924</td>\n",
       "      <td>0.005848</td>\n",
       "      <td>1368</td>\n",
       "      <td>0</td>\n",
       "      <td>0</td>\n",
       "      <td>0</td>\n",
       "      <td>35.79330</td>\n",
       "      <td>2</td>\n",
       "      <td>...</td>\n",
       "      <td>680.01170</td>\n",
       "      <td>2.099126e-202</td>\n",
       "      <td>1.000000e+00</td>\n",
       "      <td>1.978454e-202</td>\n",
       "      <td>T</td>\n",
       "      <td>C</td>\n",
       "      <td>0.499269</td>\n",
       "      <td>0.500731</td>\n",
       "      <td>0.499269</td>\n",
       "      <td>-0.995620</td>\n",
       "    </tr>\n",
       "    <tr>\n",
       "      <th>CM042346.1-338268601</th>\n",
       "      <td>3</td>\n",
       "      <td>9</td>\n",
       "      <td>0.004386</td>\n",
       "      <td>0.013158</td>\n",
       "      <td>1368</td>\n",
       "      <td>0</td>\n",
       "      <td>0</td>\n",
       "      <td>0</td>\n",
       "      <td>54.99990</td>\n",
       "      <td>2</td>\n",
       "      <td>...</td>\n",
       "      <td>680.01170</td>\n",
       "      <td>2.099126e-202</td>\n",
       "      <td>1.000000e+00</td>\n",
       "      <td>1.978454e-202</td>\n",
       "      <td>A</td>\n",
       "      <td>G</td>\n",
       "      <td>0.499269</td>\n",
       "      <td>0.500731</td>\n",
       "      <td>0.499269</td>\n",
       "      <td>-0.995620</td>\n",
       "    </tr>\n",
       "    <tr>\n",
       "      <th>CM042346.1-338274068</th>\n",
       "      <td>1</td>\n",
       "      <td>1</td>\n",
       "      <td>0.001462</td>\n",
       "      <td>0.001462</td>\n",
       "      <td>1368</td>\n",
       "      <td>0</td>\n",
       "      <td>0</td>\n",
       "      <td>0</td>\n",
       "      <td>7.82756</td>\n",
       "      <td>2</td>\n",
       "      <td>...</td>\n",
       "      <td>684.00000</td>\n",
       "      <td>5.952672e-205</td>\n",
       "      <td>1.000000e+00</td>\n",
       "      <td>5.776507e-205</td>\n",
       "      <td>G</td>\n",
       "      <td>T</td>\n",
       "      <td>0.500000</td>\n",
       "      <td>0.500000</td>\n",
       "      <td>0.500000</td>\n",
       "      <td>-0.998538</td>\n",
       "    </tr>\n",
       "    <tr>\n",
       "      <th>CM042346.1-338287589</th>\n",
       "      <td>1</td>\n",
       "      <td>1</td>\n",
       "      <td>0.001462</td>\n",
       "      <td>0.001462</td>\n",
       "      <td>1368</td>\n",
       "      <td>0</td>\n",
       "      <td>0</td>\n",
       "      <td>0</td>\n",
       "      <td>5.49146</td>\n",
       "      <td>2</td>\n",
       "      <td>...</td>\n",
       "      <td>684.00000</td>\n",
       "      <td>5.952672e-205</td>\n",
       "      <td>1.000000e+00</td>\n",
       "      <td>5.776507e-205</td>\n",
       "      <td>G</td>\n",
       "      <td>A</td>\n",
       "      <td>0.500000</td>\n",
       "      <td>0.500000</td>\n",
       "      <td>0.500000</td>\n",
       "      <td>-0.998538</td>\n",
       "    </tr>\n",
       "    <tr>\n",
       "      <th>CM042346.1-338287789</th>\n",
       "      <td>1</td>\n",
       "      <td>1</td>\n",
       "      <td>0.001462</td>\n",
       "      <td>0.001462</td>\n",
       "      <td>1368</td>\n",
       "      <td>0</td>\n",
       "      <td>0</td>\n",
       "      <td>0</td>\n",
       "      <td>7.01028</td>\n",
       "      <td>2</td>\n",
       "      <td>...</td>\n",
       "      <td>684.00000</td>\n",
       "      <td>5.952672e-205</td>\n",
       "      <td>1.000000e+00</td>\n",
       "      <td>5.776507e-205</td>\n",
       "      <td>G</td>\n",
       "      <td>A</td>\n",
       "      <td>0.500000</td>\n",
       "      <td>0.500000</td>\n",
       "      <td>0.500000</td>\n",
       "      <td>-0.998538</td>\n",
       "    </tr>\n",
       "  </tbody>\n",
       "</table>\n",
       "<p>470121 rows × 25 columns</p>\n",
       "</div>"
      ],
      "text/plain": [
       "                      SUM_DEPTH  SUMSQ_DEPTH  MEAN_DEPTH  VAR_DEPTH  N_DATA  \\\n",
       "CM042338.1-22493              1            1    0.001462   0.001462    1368   \n",
       "CM042338.1-59115            362          934    0.529240   1.086990    1368   \n",
       "CM042338.1-97078              2            4    0.002924   0.005848    1368   \n",
       "CM042338.1-106063            26           46    0.038012   0.065903    1368   \n",
       "CM042338.1-126072           552         1596    0.807018   1.684520    1368   \n",
       "...                         ...          ...         ...        ...     ...   \n",
       "CM042346.1-338263844          2            4    0.002924   0.005848    1368   \n",
       "CM042346.1-338268601          3            9    0.004386   0.013158    1368   \n",
       "CM042346.1-338274068          1            1    0.001462   0.001462    1368   \n",
       "CM042346.1-338287589          1            1    0.001462   0.001462    1368   \n",
       "CM042346.1-338287789          1            1    0.001462   0.001462    1368   \n",
       "\n",
       "                      N_GENOTYPE_FILTERED  N_MISS  F_MISS       QUAL  \\\n",
       "CM042338.1-22493                        0       0       0    7.82756   \n",
       "CM042338.1-59115                        0       0       0  999.00000   \n",
       "CM042338.1-97078                        0       0       0   35.79330   \n",
       "CM042338.1-106063                       0       0       0  999.00000   \n",
       "CM042338.1-126072                       0       0       0  999.00000   \n",
       "...                                   ...     ...     ...        ...   \n",
       "CM042346.1-338263844                    0       0       0   35.79330   \n",
       "CM042346.1-338268601                    0       0       0   54.99990   \n",
       "CM042346.1-338274068                    0       0       0    7.82756   \n",
       "CM042346.1-338287589                    0       0       0    5.49146   \n",
       "CM042346.1-338287789                    0       0       0    7.01028   \n",
       "\n",
       "                     N_ALLELES  ...  ChiSq_HWE          P_HWE P_HET_DEFICIT  \\\n",
       "CM042338.1-22493             2  ...  684.00000  5.952672e-205  1.000000e+00   \n",
       "CM042338.1-59115             2  ...    0.36772   1.000000e+00  1.000000e+00   \n",
       "CM042338.1-97078             2  ...  680.01170  2.099126e-202  1.000000e+00   \n",
       "CM042338.1-106063            2  ...  621.84560  1.621062e-174  1.000000e+00   \n",
       "CM042338.1-126072            2  ...   61.89046   2.387714e-09  2.387714e-09   \n",
       "...                        ...  ...        ...            ...           ...   \n",
       "CM042346.1-338263844         2  ...  680.01170  2.099126e-202  1.000000e+00   \n",
       "CM042346.1-338268601         2  ...  680.01170  2.099126e-202  1.000000e+00   \n",
       "CM042346.1-338274068         2  ...  684.00000  5.952672e-205  1.000000e+00   \n",
       "CM042346.1-338287589         2  ...  684.00000  5.952672e-205  1.000000e+00   \n",
       "CM042346.1-338287789         2  ...  684.00000  5.952672e-205  1.000000e+00   \n",
       "\n",
       "                       P_HET_EXCESS A1_allele  A2_allele   A1_freq   A2_freq  \\\n",
       "CM042338.1-22493      5.776507e-205         C          G  0.500000  0.500000   \n",
       "CM042338.1-59115       7.063152e-01         A          T  0.022661  0.977339   \n",
       "CM042338.1-97078      1.978454e-202         T          G  0.499269  0.500731   \n",
       "CM042338.1-106063     1.620144e-174         T          C  0.505848  0.494152   \n",
       "CM042338.1-126072      1.000000e+00         C          G  0.932749  0.067252   \n",
       "...                             ...       ...        ...       ...       ...   \n",
       "CM042346.1-338263844  1.978454e-202         T          C  0.499269  0.500731   \n",
       "CM042346.1-338268601  1.978454e-202         A          G  0.499269  0.500731   \n",
       "CM042346.1-338274068  5.776507e-205         G          T  0.500000  0.500000   \n",
       "CM042346.1-338287589  5.776507e-205         G          A  0.500000  0.500000   \n",
       "CM042346.1-338287789  5.776507e-205         G          A  0.500000  0.500000   \n",
       "\n",
       "                           MAF       Fis  \n",
       "CM042338.1-22493      0.500000 -0.998538  \n",
       "CM042338.1-59115      0.022661 -0.022438  \n",
       "CM042338.1-97078      0.499269 -0.995620  \n",
       "CM042338.1-106063     0.494152 -0.952056  \n",
       "CM042338.1-126072     0.067252  0.301315  \n",
       "...                        ...       ...  \n",
       "CM042346.1-338263844  0.499269 -0.995620  \n",
       "CM042346.1-338268601  0.499269 -0.995620  \n",
       "CM042346.1-338274068  0.500000 -0.998538  \n",
       "CM042346.1-338287589  0.500000 -0.998538  \n",
       "CM042346.1-338287789  0.500000 -0.998538  \n",
       "\n",
       "[470121 rows x 25 columns]"
      ]
     },
     "execution_count": 176,
     "metadata": {},
     "output_type": "execute_result"
    }
   ],
   "source": [
    "loci_df"
   ]
  },
  {
   "cell_type": "code",
   "execution_count": 177,
   "metadata": {},
   "outputs": [
    {
     "data": {
      "text/html": [
       "<div>\n",
       "<style scoped>\n",
       "    .dataframe tbody tr th:only-of-type {\n",
       "        vertical-align: middle;\n",
       "    }\n",
       "\n",
       "    .dataframe tbody tr th {\n",
       "        vertical-align: top;\n",
       "    }\n",
       "\n",
       "    .dataframe thead th {\n",
       "        text-align: right;\n",
       "    }\n",
       "</style>\n",
       "<table border=\"1\" class=\"dataframe\">\n",
       "  <thead>\n",
       "    <tr style=\"text-align: right;\">\n",
       "      <th></th>\n",
       "      <th>CHROM</th>\n",
       "      <th>POS</th>\n",
       "      <th>N_ALLELES</th>\n",
       "      <th>N_CHR</th>\n",
       "      <th>A1_FREQ</th>\n",
       "      <th>A2_FREQ</th>\n",
       "    </tr>\n",
       "  </thead>\n",
       "  <tbody>\n",
       "    <tr>\n",
       "      <th>CM042338.1-22493</th>\n",
       "      <td>CM042338.1</td>\n",
       "      <td>22493</td>\n",
       "      <td>2</td>\n",
       "      <td>1368</td>\n",
       "      <td>C:0.5</td>\n",
       "      <td>G:0.5</td>\n",
       "    </tr>\n",
       "    <tr>\n",
       "      <th>CM042338.1-59115</th>\n",
       "      <td>CM042338.1</td>\n",
       "      <td>59115</td>\n",
       "      <td>2</td>\n",
       "      <td>1368</td>\n",
       "      <td>A:0.0226608</td>\n",
       "      <td>T:0.977339</td>\n",
       "    </tr>\n",
       "    <tr>\n",
       "      <th>CM042338.1-97078</th>\n",
       "      <td>CM042338.1</td>\n",
       "      <td>97078</td>\n",
       "      <td>2</td>\n",
       "      <td>1368</td>\n",
       "      <td>T:0.499269</td>\n",
       "      <td>G:0.500731</td>\n",
       "    </tr>\n",
       "    <tr>\n",
       "      <th>CM042338.1-106063</th>\n",
       "      <td>CM042338.1</td>\n",
       "      <td>106063</td>\n",
       "      <td>2</td>\n",
       "      <td>1368</td>\n",
       "      <td>T:0.505848</td>\n",
       "      <td>C:0.494152</td>\n",
       "    </tr>\n",
       "    <tr>\n",
       "      <th>CM042338.1-126072</th>\n",
       "      <td>CM042338.1</td>\n",
       "      <td>126072</td>\n",
       "      <td>2</td>\n",
       "      <td>1368</td>\n",
       "      <td>C:0.932749</td>\n",
       "      <td>G:0.0672515</td>\n",
       "    </tr>\n",
       "    <tr>\n",
       "      <th>...</th>\n",
       "      <td>...</td>\n",
       "      <td>...</td>\n",
       "      <td>...</td>\n",
       "      <td>...</td>\n",
       "      <td>...</td>\n",
       "      <td>...</td>\n",
       "    </tr>\n",
       "    <tr>\n",
       "      <th>CM042346.1-338263844</th>\n",
       "      <td>CM042346.1</td>\n",
       "      <td>338263844</td>\n",
       "      <td>2</td>\n",
       "      <td>1368</td>\n",
       "      <td>T:0.499269</td>\n",
       "      <td>C:0.500731</td>\n",
       "    </tr>\n",
       "    <tr>\n",
       "      <th>CM042346.1-338268601</th>\n",
       "      <td>CM042346.1</td>\n",
       "      <td>338268601</td>\n",
       "      <td>2</td>\n",
       "      <td>1368</td>\n",
       "      <td>A:0.499269</td>\n",
       "      <td>G:0.500731</td>\n",
       "    </tr>\n",
       "    <tr>\n",
       "      <th>CM042346.1-338274068</th>\n",
       "      <td>CM042346.1</td>\n",
       "      <td>338274068</td>\n",
       "      <td>2</td>\n",
       "      <td>1368</td>\n",
       "      <td>G:0.5</td>\n",
       "      <td>T:0.5</td>\n",
       "    </tr>\n",
       "    <tr>\n",
       "      <th>CM042346.1-338287589</th>\n",
       "      <td>CM042346.1</td>\n",
       "      <td>338287589</td>\n",
       "      <td>2</td>\n",
       "      <td>1368</td>\n",
       "      <td>G:0.5</td>\n",
       "      <td>A:0.5</td>\n",
       "    </tr>\n",
       "    <tr>\n",
       "      <th>CM042346.1-338287789</th>\n",
       "      <td>CM042346.1</td>\n",
       "      <td>338287789</td>\n",
       "      <td>2</td>\n",
       "      <td>1368</td>\n",
       "      <td>G:0.5</td>\n",
       "      <td>A:0.5</td>\n",
       "    </tr>\n",
       "  </tbody>\n",
       "</table>\n",
       "<p>470121 rows × 6 columns</p>\n",
       "</div>"
      ],
      "text/plain": [
       "                           CHROM        POS N_ALLELES N_CHR      A1_FREQ  \\\n",
       "CM042338.1-22493      CM042338.1      22493         2  1368        C:0.5   \n",
       "CM042338.1-59115      CM042338.1      59115         2  1368  A:0.0226608   \n",
       "CM042338.1-97078      CM042338.1      97078         2  1368   T:0.499269   \n",
       "CM042338.1-106063     CM042338.1     106063         2  1368   T:0.505848   \n",
       "CM042338.1-126072     CM042338.1     126072         2  1368   C:0.932749   \n",
       "...                          ...        ...       ...   ...          ...   \n",
       "CM042346.1-338263844  CM042346.1  338263844         2  1368   T:0.499269   \n",
       "CM042346.1-338268601  CM042346.1  338268601         2  1368   A:0.499269   \n",
       "CM042346.1-338274068  CM042346.1  338274068         2  1368        G:0.5   \n",
       "CM042346.1-338287589  CM042346.1  338287589         2  1368        G:0.5   \n",
       "CM042346.1-338287789  CM042346.1  338287789         2  1368        G:0.5   \n",
       "\n",
       "                          A2_FREQ  \n",
       "CM042338.1-22493            G:0.5  \n",
       "CM042338.1-59115       T:0.977339  \n",
       "CM042338.1-97078       G:0.500731  \n",
       "CM042338.1-106063      C:0.494152  \n",
       "CM042338.1-126072     G:0.0672515  \n",
       "...                           ...  \n",
       "CM042346.1-338263844   C:0.500731  \n",
       "CM042346.1-338268601   G:0.500731  \n",
       "CM042346.1-338274068        T:0.5  \n",
       "CM042346.1-338287589        A:0.5  \n",
       "CM042346.1-338287789        A:0.5  \n",
       "\n",
       "[470121 rows x 6 columns]"
      ]
     },
     "execution_count": 177,
     "metadata": {},
     "output_type": "execute_result"
    }
   ],
   "source": [
    "frq_df"
   ]
  },
  {
   "cell_type": "code",
   "execution_count": 178,
   "metadata": {},
   "outputs": [
    {
     "data": {
      "text/html": [
       "<div>\n",
       "<style scoped>\n",
       "    .dataframe tbody tr th:only-of-type {\n",
       "        vertical-align: middle;\n",
       "    }\n",
       "\n",
       "    .dataframe tbody tr th {\n",
       "        vertical-align: top;\n",
       "    }\n",
       "\n",
       "    .dataframe thead th {\n",
       "        text-align: right;\n",
       "    }\n",
       "</style>\n",
       "<table border=\"1\" class=\"dataframe\">\n",
       "  <thead>\n",
       "    <tr style=\"text-align: right;\">\n",
       "      <th></th>\n",
       "      <th>CHROM</th>\n",
       "      <th>POS</th>\n",
       "      <th>OBS(HOM1/HET/HOM2)</th>\n",
       "      <th>E(HOM1/HET/HOM2)</th>\n",
       "      <th>ChiSq_HWE</th>\n",
       "      <th>P_HWE</th>\n",
       "      <th>P_HET_DEFICIT</th>\n",
       "      <th>P_HET_EXCESS</th>\n",
       "    </tr>\n",
       "  </thead>\n",
       "  <tbody>\n",
       "    <tr>\n",
       "      <th>CM042338.1-22493</th>\n",
       "      <td>CM042338.1</td>\n",
       "      <td>22493</td>\n",
       "      <td>0/684/0</td>\n",
       "      <td>171.00/342.00/171.00</td>\n",
       "      <td>684.00000</td>\n",
       "      <td>5.952672e-205</td>\n",
       "      <td>1.000000e+00</td>\n",
       "      <td>5.776507e-205</td>\n",
       "    </tr>\n",
       "    <tr>\n",
       "      <th>CM042338.1-59115</th>\n",
       "      <td>CM042338.1</td>\n",
       "      <td>59115</td>\n",
       "      <td>0/31/653</td>\n",
       "      <td>0.35/30.30/653.35</td>\n",
       "      <td>0.36772</td>\n",
       "      <td>1.000000e+00</td>\n",
       "      <td>1.000000e+00</td>\n",
       "      <td>7.063152e-01</td>\n",
       "    </tr>\n",
       "    <tr>\n",
       "      <th>CM042338.1-97078</th>\n",
       "      <td>CM042338.1</td>\n",
       "      <td>97078</td>\n",
       "      <td>0/683/1</td>\n",
       "      <td>170.50/342.00/171.50</td>\n",
       "      <td>680.01170</td>\n",
       "      <td>2.099126e-202</td>\n",
       "      <td>1.000000e+00</td>\n",
       "      <td>1.978454e-202</td>\n",
       "    </tr>\n",
       "    <tr>\n",
       "      <th>CM042338.1-106063</th>\n",
       "      <td>CM042338.1</td>\n",
       "      <td>106063</td>\n",
       "      <td>12/668/4</td>\n",
       "      <td>175.02/341.95/167.02</td>\n",
       "      <td>621.84560</td>\n",
       "      <td>1.621062e-174</td>\n",
       "      <td>1.000000e+00</td>\n",
       "      <td>1.620144e-174</td>\n",
       "    </tr>\n",
       "    <tr>\n",
       "      <th>CM042338.1-126072</th>\n",
       "      <td>CM042338.1</td>\n",
       "      <td>126072</td>\n",
       "      <td>608/60/16</td>\n",
       "      <td>595.09/85.81/3.09</td>\n",
       "      <td>61.89046</td>\n",
       "      <td>2.387714e-09</td>\n",
       "      <td>2.387714e-09</td>\n",
       "      <td>1.000000e+00</td>\n",
       "    </tr>\n",
       "    <tr>\n",
       "      <th>...</th>\n",
       "      <td>...</td>\n",
       "      <td>...</td>\n",
       "      <td>...</td>\n",
       "      <td>...</td>\n",
       "      <td>...</td>\n",
       "      <td>...</td>\n",
       "      <td>...</td>\n",
       "      <td>...</td>\n",
       "    </tr>\n",
       "    <tr>\n",
       "      <th>CM042346.1-338263844</th>\n",
       "      <td>CM042346.1</td>\n",
       "      <td>338263844</td>\n",
       "      <td>0/683/1</td>\n",
       "      <td>170.50/342.00/171.50</td>\n",
       "      <td>680.01170</td>\n",
       "      <td>2.099126e-202</td>\n",
       "      <td>1.000000e+00</td>\n",
       "      <td>1.978454e-202</td>\n",
       "    </tr>\n",
       "    <tr>\n",
       "      <th>CM042346.1-338268601</th>\n",
       "      <td>CM042346.1</td>\n",
       "      <td>338268601</td>\n",
       "      <td>0/683/1</td>\n",
       "      <td>170.50/342.00/171.50</td>\n",
       "      <td>680.01170</td>\n",
       "      <td>2.099126e-202</td>\n",
       "      <td>1.000000e+00</td>\n",
       "      <td>1.978454e-202</td>\n",
       "    </tr>\n",
       "    <tr>\n",
       "      <th>CM042346.1-338274068</th>\n",
       "      <td>CM042346.1</td>\n",
       "      <td>338274068</td>\n",
       "      <td>0/684/0</td>\n",
       "      <td>171.00/342.00/171.00</td>\n",
       "      <td>684.00000</td>\n",
       "      <td>5.952672e-205</td>\n",
       "      <td>1.000000e+00</td>\n",
       "      <td>5.776507e-205</td>\n",
       "    </tr>\n",
       "    <tr>\n",
       "      <th>CM042346.1-338287589</th>\n",
       "      <td>CM042346.1</td>\n",
       "      <td>338287589</td>\n",
       "      <td>0/684/0</td>\n",
       "      <td>171.00/342.00/171.00</td>\n",
       "      <td>684.00000</td>\n",
       "      <td>5.952672e-205</td>\n",
       "      <td>1.000000e+00</td>\n",
       "      <td>5.776507e-205</td>\n",
       "    </tr>\n",
       "    <tr>\n",
       "      <th>CM042346.1-338287789</th>\n",
       "      <td>CM042346.1</td>\n",
       "      <td>338287789</td>\n",
       "      <td>0/684/0</td>\n",
       "      <td>171.00/342.00/171.00</td>\n",
       "      <td>684.00000</td>\n",
       "      <td>5.952672e-205</td>\n",
       "      <td>1.000000e+00</td>\n",
       "      <td>5.776507e-205</td>\n",
       "    </tr>\n",
       "  </tbody>\n",
       "</table>\n",
       "<p>470121 rows × 8 columns</p>\n",
       "</div>"
      ],
      "text/plain": [
       "                           CHROM        POS OBS(HOM1/HET/HOM2)  \\\n",
       "CM042338.1-22493      CM042338.1      22493            0/684/0   \n",
       "CM042338.1-59115      CM042338.1      59115           0/31/653   \n",
       "CM042338.1-97078      CM042338.1      97078            0/683/1   \n",
       "CM042338.1-106063     CM042338.1     106063           12/668/4   \n",
       "CM042338.1-126072     CM042338.1     126072          608/60/16   \n",
       "...                          ...        ...                ...   \n",
       "CM042346.1-338263844  CM042346.1  338263844            0/683/1   \n",
       "CM042346.1-338268601  CM042346.1  338268601            0/683/1   \n",
       "CM042346.1-338274068  CM042346.1  338274068            0/684/0   \n",
       "CM042346.1-338287589  CM042346.1  338287589            0/684/0   \n",
       "CM042346.1-338287789  CM042346.1  338287789            0/684/0   \n",
       "\n",
       "                          E(HOM1/HET/HOM2)  ChiSq_HWE          P_HWE  \\\n",
       "CM042338.1-22493      171.00/342.00/171.00  684.00000  5.952672e-205   \n",
       "CM042338.1-59115         0.35/30.30/653.35    0.36772   1.000000e+00   \n",
       "CM042338.1-97078      170.50/342.00/171.50  680.01170  2.099126e-202   \n",
       "CM042338.1-106063     175.02/341.95/167.02  621.84560  1.621062e-174   \n",
       "CM042338.1-126072        595.09/85.81/3.09   61.89046   2.387714e-09   \n",
       "...                                    ...        ...            ...   \n",
       "CM042346.1-338263844  170.50/342.00/171.50  680.01170  2.099126e-202   \n",
       "CM042346.1-338268601  170.50/342.00/171.50  680.01170  2.099126e-202   \n",
       "CM042346.1-338274068  171.00/342.00/171.00  684.00000  5.952672e-205   \n",
       "CM042346.1-338287589  171.00/342.00/171.00  684.00000  5.952672e-205   \n",
       "CM042346.1-338287789  171.00/342.00/171.00  684.00000  5.952672e-205   \n",
       "\n",
       "                      P_HET_DEFICIT   P_HET_EXCESS  \n",
       "CM042338.1-22493       1.000000e+00  5.776507e-205  \n",
       "CM042338.1-59115       1.000000e+00   7.063152e-01  \n",
       "CM042338.1-97078       1.000000e+00  1.978454e-202  \n",
       "CM042338.1-106063      1.000000e+00  1.620144e-174  \n",
       "CM042338.1-126072      2.387714e-09   1.000000e+00  \n",
       "...                             ...            ...  \n",
       "CM042346.1-338263844   1.000000e+00  1.978454e-202  \n",
       "CM042346.1-338268601   1.000000e+00  1.978454e-202  \n",
       "CM042346.1-338274068   1.000000e+00  5.776507e-205  \n",
       "CM042346.1-338287589   1.000000e+00  5.776507e-205  \n",
       "CM042346.1-338287789   1.000000e+00  5.776507e-205  \n",
       "\n",
       "[470121 rows x 8 columns]"
      ]
     },
     "execution_count": 178,
     "metadata": {},
     "output_type": "execute_result"
    }
   ],
   "source": [
    "hardy"
   ]
  },
  {
   "cell_type": "code",
   "execution_count": 179,
   "metadata": {},
   "outputs": [],
   "source": [
    "loci_out = os.path.join(analysis_dir,'loci_out.csv')\n",
    "frq_out = os.path.join(analysis_dir,'frq_out.csv')\n",
    "hardy_out = os.path.join(analysis_dir,'hardy_out.csv')\n",
    "\n",
    "loci_df.to_csv(path_or_buf=loci_out)\n",
    "frq_df.to_csv(path_or_buf=frq_out)\n",
    "hardy.to_csv(path_or_buf=hardy_out)\n"
   ]
  },
  {
   "cell_type": "code",
   "execution_count": 180,
   "metadata": {},
   "outputs": [
    {
     "data": {
      "text/plain": [
       "count    470121.000000\n",
       "mean        184.597399\n",
       "std         713.444358\n",
       "min           0.000000\n",
       "25%           1.000000\n",
       "50%           2.000000\n",
       "75%          21.000000\n",
       "max      162196.000000\n",
       "Name: SUM_DEPTH, dtype: float64"
      ]
     },
     "execution_count": 180,
     "metadata": {},
     "output_type": "execute_result"
    }
   ],
   "source": [
    "loci_df.SUM_DEPTH.describe()"
   ]
  },
  {
   "cell_type": "code",
   "execution_count": 181,
   "metadata": {},
   "outputs": [
    {
     "data": {
      "text/plain": [
       "count    470121.000000\n",
       "mean          0.269879\n",
       "std           1.043048\n",
       "min           0.000000\n",
       "25%           0.001462\n",
       "50%           0.002924\n",
       "75%           0.030702\n",
       "max         237.129000\n",
       "Name: MEAN_DEPTH, dtype: float64"
      ]
     },
     "execution_count": 181,
     "metadata": {},
     "output_type": "execute_result"
    }
   ],
   "source": [
    "loci_df.MEAN_DEPTH.describe()"
   ]
  },
  {
   "cell_type": "code",
   "execution_count": 182,
   "metadata": {},
   "outputs": [
    {
     "data": {
      "text/plain": [
       "count    470121.000000\n",
       "mean        288.034278\n",
       "std         435.786035\n",
       "min           4.799820\n",
       "25%           7.827560\n",
       "50%          24.294500\n",
       "75%         999.000000\n",
       "max         999.000000\n",
       "Name: QUAL, dtype: float64"
      ]
     },
     "execution_count": 182,
     "metadata": {},
     "output_type": "execute_result"
    }
   ],
   "source": [
    "loci_df.QUAL.describe()"
   ]
  },
  {
   "cell_type": "code",
   "execution_count": 183,
   "metadata": {
    "scrolled": true
   },
   "outputs": [
    {
     "data": {
      "image/png": "[encoded data removed]",
      "text/plain": [
       "<Figure size 432x288 with 1 Axes>"
      ]
     },
     "metadata": {
      "image/png": {
       "height": 251,
       "width": 408
      },
      "needs_background": "light"
     },
     "output_type": "display_data"
    }
   ],
   "source": [
    "loci_df.QUAL.plot(kind=\"hist\");"
   ]
  },
  {
   "cell_type": "code",
   "execution_count": 184,
   "metadata": {},
   "outputs": [
    {
     "data": {
      "image/png": "[encoded data removed]",
      "text/plain": [
       "<Figure size 432x288 with 1 Axes>"
      ]
     },
     "metadata": {
      "image/png": {
       "height": 248,
       "width": 408
      },
      "needs_background": "light"
     },
     "output_type": "display_data"
    }
   ],
   "source": [
    "loci_df.MEAN_DEPTH.plot(kind=\"hist\");"
   ]
  },
  {
   "cell_type": "code",
   "execution_count": 185,
   "metadata": {},
   "outputs": [
    {
     "data": {
      "text/plain": [
       "0"
      ]
     },
     "execution_count": 185,
     "metadata": {},
     "output_type": "execute_result"
    }
   ],
   "source": [
    "len(loci_df[loci_df.Fis == -9])"
   ]
  },
  {
   "cell_type": "code",
   "execution_count": 186,
   "metadata": {},
   "outputs": [
    {
     "data": {
      "text/plain": [
       "(469632, 55058)"
      ]
     },
     "execution_count": 186,
     "metadata": {},
     "output_type": "execute_result"
    }
   ],
   "source": [
    "len(loci_df[loci_df.SUM_DEPTH <5000]),len(loci_df[loci_df.SUM_DEPTH >=500])"
   ]
  },
  {
   "cell_type": "code",
   "execution_count": 187,
   "metadata": {},
   "outputs": [
    {
     "data": {
      "text/plain": [
       "(17, 42765)"
      ]
     },
     "execution_count": 187,
     "metadata": {},
     "output_type": "execute_result"
    }
   ],
   "source": [
    "len(loci_df[loci_df.MEAN_DEPTH > 30 ]),len(loci_df[loci_df.MEAN_DEPTH >= 1])"
   ]
  },
  {
   "cell_type": "code",
   "execution_count": 188,
   "metadata": {},
   "outputs": [
    {
     "data": {
      "text/plain": [
       "14423"
      ]
     },
     "execution_count": 188,
     "metadata": {},
     "output_type": "execute_result"
    }
   ],
   "source": [
    "len(loci_df[loci_df.QUAL >= 20]) - len(loci_df[loci_df.QUAL >= 30])"
   ]
  },
  {
   "cell_type": "code",
   "execution_count": 189,
   "metadata": {},
   "outputs": [
    {
     "data": {
      "text/plain": [
       "(239462, 171227, 136633)"
      ]
     },
     "execution_count": 189,
     "metadata": {},
     "output_type": "execute_result"
    }
   ],
   "source": [
    "len(loci_df[loci_df.QUAL >  20]), len(loci_df[loci_df.QUAL > 50]), len(loci_df[loci_df.QUAL > 100])"
   ]
  },
  {
   "cell_type": "code",
   "execution_count": 190,
   "metadata": {},
   "outputs": [
    {
     "data": {
      "text/plain": [
       "(91235, 28)"
      ]
     },
     "execution_count": 190,
     "metadata": {},
     "output_type": "execute_result"
    }
   ],
   "source": [
    " len(loci_df[loci_df.Fis >= -0.5]), len(loci_df[loci_df.MAF < 0.01])"
   ]
  },
  {
   "cell_type": "code",
   "execution_count": 205,
   "metadata": {},
   "outputs": [],
   "source": [
    "def filter_snps(df, imputed=False):\n",
    "    if imputed:\n",
    "        return df[(df.MAF >= 0.01) &  \n",
    "                  (df.Fis > -0.5)]\n",
    "    else:\n",
    "        return df[(df.MEAN_DEPTH >= 1) & \n",
    "                  (df.MEAN_DEPTH < 30) & \n",
    "                  (df.QUAL >= 100) & \n",
    "                  (df.MAF >= 0.01) &\n",
    "                  (df.Fis >= -0.5)]"
   ]
  },
  {
   "cell_type": "code",
   "execution_count": 206,
   "metadata": {},
   "outputs": [
    {
     "data": {
      "text/plain": [
       "(42513, 25)"
      ]
     },
     "execution_count": 206,
     "metadata": {},
     "output_type": "execute_result"
    }
   ],
   "source": [
    "#42513 with df.Fis >= -0.5\n",
    "#42688 without \n",
    "loci_stage1 = filter_snps(loci_df)\n",
    "loci_stage1.shape"
   ]
  },
  {
   "cell_type": "code",
   "execution_count": 207,
   "metadata": {},
   "outputs": [],
   "source": [
    "with open(os.path.join(analysis_dir, \"stage1_positions.txt\"), \"w\") as o:\n",
    "    for elem in loci_stage1.index:\n",
    "        o.write(\"%s\\n\" % \"\\t\".join(elem.split(\"-\")))"
   ]
  },
  {
   "cell_type": "code",
   "execution_count": 194,
   "metadata": {
    "run_control": {
     "marked": false
    }
   },
   "outputs": [
    {
     "name": "stdout",
     "output_type": "stream",
     "text": [
      "\n",
      "VCFtools - 0.1.16\n",
      "(C) Adam Auton and Anthony Marcketta 2009\n",
      "\n",
      "Parameters as interpreted:\n",
      "\t--gzvcf /data/gpfs/assoc/denovo/tfaske/sagebrush/SNPcall/filtering/snps_indv_removed.recode.vcf.gz\n",
      "\t--recode-INFO-all\n",
      "\t--out /data/gpfs/assoc/denovo/tfaske/sagebrush/SNPcall/filtering/good_snps\n",
      "\t--positions /data/gpfs/assoc/denovo/tfaske/sagebrush/SNPcall/filtering/stage1_positions.txt\n",
      "\t--recode\n",
      "\t--remove-filtered-all\n",
      "\t--remove-indels\n",
      "\n",
      "Using zlib version: 1.2.11\n",
      "Warning: Expected at least 2 parts in INFO entry: ID=PV4,Number=4,Type=Float,Description=\"P-values for strand bias, baseQ bias, mapQ bias and tail distance bias\">\n",
      "Warning: Expected at least 2 parts in INFO entry: ID=PV4,Number=4,Type=Float,Description=\"P-values for strand bias, baseQ bias, mapQ bias and tail distance bias\">\n",
      "Warning: Expected at least 2 parts in INFO entry: ID=DP4,Number=4,Type=Integer,Description=\"Number of high-quality ref-forward , ref-reverse, alt-forward and alt-reverse bases\">\n",
      "Warning: Expected at least 2 parts in INFO entry: ID=DP4,Number=4,Type=Integer,Description=\"Number of high-quality ref-forward , ref-reverse, alt-forward and alt-reverse bases\">\n",
      "After filtering, kept 684 out of 684 Individuals\n",
      "Outputting VCF file...\n",
      "After filtering, kept 42513 out of a possible 470121 Sites\n",
      "Run Time = 68.00 seconds\n"
     ]
    }
   ],
   "source": [
    "!$vcftools --gzvcf $vcf_bad_remove_gz \\\n",
    "--remove-indels  \\\n",
    "--remove-filtered-all \\\n",
    "--recode \\\n",
    "--recode-INFO-all \\\n",
    "--positions {os.path.join(analysis_dir, \"stage1_positions.txt\")} \\\n",
    "--out {os.path.join(analysis_dir, \"good_snps\")}"
   ]
  },
  {
   "cell_type": "code",
   "execution_count": 195,
   "metadata": {},
   "outputs": [],
   "source": [
    "snps = os.path.join(analysis_dir, \"good_snps.recode.vcf\")\n",
    "snps_gz = snps + \".gz\"\n",
    "!$bgzip -c {snps} > {snps_gz}\n",
    "!$tabix {snps_gz}"
   ]
  },
  {
   "cell_type": "markdown",
   "metadata": {},
   "source": [
    "# Make 012"
   ]
  },
  {
   "cell_type": "code",
   "execution_count": 196,
   "metadata": {},
   "outputs": [
    {
     "name": "stdout",
     "output_type": "stream",
     "text": [
      "\n",
      "VCFtools - 0.1.16\n",
      "(C) Adam Auton and Anthony Marcketta 2009\n",
      "\n",
      "Parameters as interpreted:\n",
      "\t--gzvcf /data/gpfs/assoc/denovo/tfaske/sagebrush/SNPcall/filtering/good_snps.recode.vcf\n",
      "\t--012\n",
      "\t--out /data/gpfs/assoc/denovo/tfaske/sagebrush/SNPcall/filtering/good_snps.recode.vcf\n",
      "\n",
      "Using zlib version: 1.2.11\n",
      "Warning: Expected at least 2 parts in INFO entry: ID=PV4,Number=4,Type=Float,Description=\"P-values for strand bias, baseQ bias, mapQ bias and tail distance bias\">\n",
      "Warning: Expected at least 2 parts in INFO entry: ID=PV4,Number=4,Type=Float,Description=\"P-values for strand bias, baseQ bias, mapQ bias and tail distance bias\">\n",
      "Warning: Expected at least 2 parts in INFO entry: ID=DP4,Number=4,Type=Integer,Description=\"Number of high-quality ref-forward , ref-reverse, alt-forward and alt-reverse bases\">\n",
      "Warning: Expected at least 2 parts in INFO entry: ID=DP4,Number=4,Type=Integer,Description=\"Number of high-quality ref-forward , ref-reverse, alt-forward and alt-reverse bases\">\n",
      "After filtering, kept 684 out of 684 Individuals\n",
      "Writing 012 matrix files ... Done.\n",
      "After filtering, kept 42513 out of a possible 42513 Sites\n",
      "Run Time = 7.00 seconds\n"
     ]
    }
   ],
   "source": [
    "f = os.path.join(analysis_dir, \"good_snps.recode.vcf\")\n",
    "!$vcftools --gzvcf {f} \\\n",
    "--out {f} \\\n",
    "--012"
   ]
  },
  {
   "cell_type": "markdown",
   "metadata": {},
   "source": [
    "# Get coverage per individual"
   ]
  },
  {
   "cell_type": "code",
   "execution_count": 197,
   "metadata": {
    "scrolled": true
   },
   "outputs": [
    {
     "name": "stdout",
     "output_type": "stream",
     "text": [
      "\n",
      "VCFtools - 0.1.16\n",
      "(C) Adam Auton and Anthony Marcketta 2009\n",
      "\n",
      "Parameters as interpreted:\n",
      "\t--gzvcf /data/gpfs/assoc/denovo/tfaske/sagebrush/SNPcall/filtering/good_snps.recode.vcf\n",
      "\t--depth\n",
      "\t--out /data/gpfs/assoc/denovo/tfaske/sagebrush/SNPcall/filtering/good_snps.recode.vcf\n",
      "\n",
      "Using zlib version: 1.2.11\n",
      "Warning: Expected at least 2 parts in INFO entry: ID=PV4,Number=4,Type=Float,Description=\"P-values for strand bias, baseQ bias, mapQ bias and tail distance bias\">\n",
      "Warning: Expected at least 2 parts in INFO entry: ID=PV4,Number=4,Type=Float,Description=\"P-values for strand bias, baseQ bias, mapQ bias and tail distance bias\">\n",
      "Warning: Expected at least 2 parts in INFO entry: ID=DP4,Number=4,Type=Integer,Description=\"Number of high-quality ref-forward , ref-reverse, alt-forward and alt-reverse bases\">\n",
      "Warning: Expected at least 2 parts in INFO entry: ID=DP4,Number=4,Type=Integer,Description=\"Number of high-quality ref-forward , ref-reverse, alt-forward and alt-reverse bases\">\n",
      "After filtering, kept 684 out of 684 Individuals\n",
      "Outputting Mean Depth by Individual\n",
      "After filtering, kept 42513 out of a possible 42513 Sites\n",
      "Run Time = 4.00 seconds\n"
     ]
    }
   ],
   "source": [
    "f = os.path.join(analysis_dir, \"good_snps.recode.vcf\")\n",
    "!$vcftools --gzvcf {f} \\\n",
    "--out {f} \\\n",
    "--depth"
   ]
  },
  {
   "cell_type": "code",
   "execution_count": 198,
   "metadata": {},
   "outputs": [
    {
     "data": {
      "text/html": [
       "<div>\n",
       "<style scoped>\n",
       "    .dataframe tbody tr th:only-of-type {\n",
       "        vertical-align: middle;\n",
       "    }\n",
       "\n",
       "    .dataframe tbody tr th {\n",
       "        vertical-align: top;\n",
       "    }\n",
       "\n",
       "    .dataframe thead th {\n",
       "        text-align: right;\n",
       "    }\n",
       "</style>\n",
       "<table border=\"1\" class=\"dataframe\">\n",
       "  <thead>\n",
       "    <tr style=\"text-align: right;\">\n",
       "      <th></th>\n",
       "      <th>INDV</th>\n",
       "      <th>N_SITES</th>\n",
       "      <th>MEAN_DEPTH</th>\n",
       "    </tr>\n",
       "  </thead>\n",
       "  <tbody>\n",
       "    <tr>\n",
       "      <th>0</th>\n",
       "      <td>AT2_BB_10</td>\n",
       "      <td>42513</td>\n",
       "      <td>2.92548</td>\n",
       "    </tr>\n",
       "    <tr>\n",
       "      <th>1</th>\n",
       "      <td>AT2_BB_11</td>\n",
       "      <td>42513</td>\n",
       "      <td>1.89606</td>\n",
       "    </tr>\n",
       "    <tr>\n",
       "      <th>2</th>\n",
       "      <td>AT2_BB_12</td>\n",
       "      <td>42513</td>\n",
       "      <td>1.61906</td>\n",
       "    </tr>\n",
       "    <tr>\n",
       "      <th>3</th>\n",
       "      <td>AT2_BB_13</td>\n",
       "      <td>42513</td>\n",
       "      <td>2.38941</td>\n",
       "    </tr>\n",
       "    <tr>\n",
       "      <th>4</th>\n",
       "      <td>AT2_BB_14</td>\n",
       "      <td>42513</td>\n",
       "      <td>3.32973</td>\n",
       "    </tr>\n",
       "  </tbody>\n",
       "</table>\n",
       "</div>"
      ],
      "text/plain": [
       "        INDV  N_SITES  MEAN_DEPTH\n",
       "0  AT2_BB_10    42513     2.92548\n",
       "1  AT2_BB_11    42513     1.89606\n",
       "2  AT2_BB_12    42513     1.61906\n",
       "3  AT2_BB_13    42513     2.38941\n",
       "4  AT2_BB_14    42513     3.32973"
      ]
     },
     "execution_count": 198,
     "metadata": {},
     "output_type": "execute_result"
    }
   ],
   "source": [
    "depth_file = os.path.join(analysis_dir, \"good_snps.recode.vcf.idepth\")\n",
    "depth_df = pd.read_csv(depth_file, sep=\"\\t\")\n",
    "depth_df.head()"
   ]
  },
  {
   "cell_type": "code",
   "execution_count": 199,
   "metadata": {},
   "outputs": [
    {
     "data": {
      "text/plain": [
       "count    684.000000\n",
       "mean       2.218168\n",
       "std        0.734836\n",
       "min        0.884083\n",
       "25%        1.641617\n",
       "50%        2.137560\n",
       "75%        2.761677\n",
       "max        4.543060\n",
       "Name: MEAN_DEPTH, dtype: float64"
      ]
     },
     "execution_count": 199,
     "metadata": {},
     "output_type": "execute_result"
    }
   ],
   "source": [
    "depth_df.MEAN_DEPTH.describe()"
   ]
  },
  {
   "cell_type": "markdown",
   "metadata": {},
   "source": [
    "# Remove unnecessary files"
   ]
  },
  {
   "cell_type": "code",
   "execution_count": 200,
   "metadata": {},
   "outputs": [],
   "source": [
    "!rm *vcf"
   ]
  },
  {
   "cell_type": "code",
   "execution_count": null,
   "metadata": {},
   "outputs": [],
   "source": []
  }
 ],
 "metadata": {
  "kernelspec": {
   "display_name": "Python 3",
   "language": "python",
   "name": "python3"
  },
  "language_info": {
   "codemirror_mode": {
    "name": "ipython",
    "version": 3
   },
   "file_extension": ".py",
   "mimetype": "text/x-python",
   "name": "python",
   "nbconvert_exporter": "python",
   "pygments_lexer": "ipython3",
   "version": "3.6.7"
  }
 },
 "nbformat": 4,
 "nbformat_minor": 1
}
