{
 "cells": [
  {
   "cell_type": "code",
   "execution_count": 1,
   "metadata": {
    "ExecuteTime": {}
   },
   "outputs": [
    {
     "name": "stdout",
     "output_type": "stream",
     "text": [
      "/usr/bin/sh: line 0: source: activate: file not found\r\n"
     ]
    }
   ],
   "source": [
    "!source activate py36"
   ]
  },
  {
   "cell_type": "code",
   "execution_count": 2,
   "metadata": {
    "ExecuteTime": {}
   },
   "outputs": [],
   "source": [
    "import sys\n",
    "\n",
    "#sys.path.append('/home/faske/g/anaconda3/envs/py34/lib/python3.4/site-packages')\n",
    "sys.path.append('/data/gpfs/assoc/parchmanlab/tfaske/anaconda3/envs/py36/lib/python3.6/site-packages')\n",
    "sys.path.append(\"/data/gpfs/assoc/parchmanlab/tfaske/ipynb/include_utils\")\n",
    "\n",
    "import ipyparallel as ipp\n",
    "import os, time\n",
    "from os import environ\n",
    "import include_utils as u\n",
    "import pandas as pd\n",
    "import numpy as np\n",
    "import scipy as sp\n",
    "import numbers\n",
    "import matplotlib.pyplot as plt\n",
    "import matplotlib.patches as mpatches\n",
    "import matplotlib.cm as cm\n",
    "import matplotlib.colors as mcolors\n",
    "#import vcf\n",
    "from sklearn import preprocessing\n",
    "from subprocess import Popen, PIPE, call, check_output\n",
    "import seaborn as sns\n",
    "from IPython.display import FileLink\n",
    "import urllib.request as urllib2\n",
    "import dill\n",
    "import traceback\n",
    "from pandas import Series, DataFrame\n",
    "import gzip\n",
    "import warnings\n",
    "warnings.filterwarnings('ignore',category=pd.io.pytables.PerformanceWarning)\n",
    "%config InlineBackend.figure_format = 'retina'\n",
    "from Bio import SeqIO\n",
    "#import pysam\n",
    "from collections import OrderedDict, namedtuple, Counter\n",
    "import operator\n",
    "import multiprocessing as mp\n",
    "import shutil\n",
    "import tempfile\n",
    "#from ipyparallel import Client\n",
    "import scandir\n",
    "import glob\n",
    "from Bio.SeqIO.QualityIO import FastqGeneralIterator\n",
    "import pickle\n",
    "import re\n",
    "from itertools import chain\n",
    "#import Levenshtein as lv"
   ]
  },
  {
   "cell_type": "code",
   "execution_count": 3,
   "metadata": {
    "ExecuteTime": {}
   },
   "outputs": [],
   "source": [
    "root = \"/data/gpfs/assoc/denovo/tfaske/sagebrush/\""
   ]
  },
  {
   "cell_type": "code",
   "execution_count": 4,
   "metadata": {
    "ExecuteTime": {}
   },
   "outputs": [
    {
     "name": "stdout",
     "output_type": "stream",
     "text": [
      "/data/gpfs/assoc/denovo/tfaske/sagebrush\n"
     ]
    }
   ],
   "source": [
    "cd $root"
   ]
  },
  {
   "cell_type": "code",
   "execution_count": 5,
   "metadata": {
    "ExecuteTime": {}
   },
   "outputs": [
    {
     "data": {
      "text/plain": [
       "'/data/gpfs/assoc/denovo/tfaske/sagebrush'"
      ]
     },
     "execution_count": 5,
     "metadata": {},
     "output_type": "execute_result"
    }
   ],
   "source": [
    "pwd"
   ]
  },
  {
   "cell_type": "markdown",
   "metadata": {},
   "source": [
    "# Actual Mapping \n",
    " "
   ]
  },
  {
   "cell_type": "code",
   "execution_count": 6,
   "metadata": {
    "ExecuteTime": {}
   },
   "outputs": [],
   "source": [
    "fastq_files = []\n",
    "for seqdir in ['fastq/']:\n",
    "    os.chdir('{}/{}'.format(root, seqdir))\n",
    "    files = !find . -name '*fq.gz'\n",
    "    files = [os.path.abspath(x) for x in files]\n",
    "    for x in files:\n",
    "        fastq_files.append(x)\n",
    "fastq_files = sorted(fastq_files)"
   ]
  },
  {
   "cell_type": "code",
   "execution_count": 7,
   "metadata": {
    "ExecuteTime": {}
   },
   "outputs": [
    {
     "data": {
      "text/plain": [
       "(708, '/data/gpfs/assoc/denovo/tfaske/sagebrush/fastq/AT2_BB_1.F.fq.gz')"
      ]
     },
     "execution_count": 7,
     "metadata": {},
     "output_type": "execute_result"
    }
   ],
   "source": [
    "len(fastq_files),fastq_files[0]"
   ]
  },
  {
   "cell_type": "code",
   "execution_count": 8,
   "metadata": {},
   "outputs": [],
   "source": [
    "denovo_dir = os.path.join(root,\"denovo\")\n",
    "assert(denovo_dir)"
   ]
  },
  {
   "cell_type": "code",
   "execution_count": 9,
   "metadata": {},
   "outputs": [
    {
     "name": "stdout",
     "output_type": "stream",
     "text": [
      "/data/gpfs/assoc/denovo/tfaske/sagebrush/denovo\n"
     ]
    }
   ],
   "source": [
    "cd $denovo_dir"
   ]
  },
  {
   "cell_type": "code",
   "execution_count": 10,
   "metadata": {
    "ExecuteTime": {}
   },
   "outputs": [],
   "source": [
    "assembly = \"/data/gpfs/assoc/denovo/tfaske/sagebrush/denovo/assembly/reference.fasta\"\n",
    "\n",
    "#assembly indexed with dDocent "
   ]
  },
  {
   "cell_type": "code",
   "execution_count": 11,
   "metadata": {
    "ExecuteTime": {}
   },
   "outputs": [],
   "source": [
    "# -k INT minimum seed length [19]\n",
    "# -w INT band width for banded alignment [100]\n",
    "# -r FLOAT look for internal seeds inside a seed longer than {-k} * FLOAT [1.5]\n",
    "# -T INT minimum score to output [30]\n",
    "# -R STR read group header line such as '@RG\\tID:foo\\tSM:bar' [null]\n",
    "\n",
    "#@lview.remote()\n",
    "def run_bwamem(args):\n",
    "    import os, multiprocessing, socket\n",
    "    cpus = 1\n",
    "    assembly, fq, outdir = args\n",
    "    ID = fq.split('/')[8] ### need to change this to match your ID \n",
    "    ID = ID.split('.F.')[0] ### This too \n",
    "    sam = os.path.join(outdir, \"{}.sam\".format(os.path.basename(ID)))\n",
    "    bam = sam.replace('.sam','.bam')\n",
    "    bam_sorted = \"%s_sorted.bam\" % bam.replace(\".bam\", \"\")\n",
    "    bwa_cmd = r\"bwa mem -k 20 -w 100 -r 1.3 -T 30 -R '@RG\\tID:%s\\tLB:%s\\tSM:%s\\tPL:ILLUMINA' %s %s > %s\" % (ID,ID,ID,assembly,fq,sam)\n",
    "    s2b_cmd =  \"samtools view -b %s -o %s\\n\\nsamtools sort -@ %s %s -o %s\\n\\nsamtools index %s\\n\\n\" % (sam,bam,cpus,bam,bam_sorted,bam_sorted)                                                              \n",
    "    return  bwa_cmd,s2b_cmd "
   ]
  },
  {
   "cell_type": "code",
   "execution_count": 12,
   "metadata": {},
   "outputs": [
    {
     "name": "stdout",
     "output_type": "stream",
     "text": [
      "mkdir: cannot create directory ‘SNPcall’: File exists\r\n"
     ]
    }
   ],
   "source": [
    "!mkdir SNPcall"
   ]
  },
  {
   "cell_type": "code",
   "execution_count": 13,
   "metadata": {},
   "outputs": [
    {
     "name": "stdout",
     "output_type": "stream",
     "text": [
      "mkdir: cannot create directory ‘SNPcall/bwa’: File exists\r\n"
     ]
    }
   ],
   "source": [
    "!mkdir SNPcall/bwa"
   ]
  },
  {
   "cell_type": "code",
   "execution_count": 14,
   "metadata": {},
   "outputs": [],
   "source": [
    "!mkdir SNPcall/shbwa"
   ]
  },
  {
   "cell_type": "code",
   "execution_count": 15,
   "metadata": {},
   "outputs": [],
   "source": [
    "bwa_dir = os.path.join(denovo_dir,\"SNPcall/bwa/\")\n",
    "assert(bwa_dir)"
   ]
  },
  {
   "cell_type": "code",
   "execution_count": 16,
   "metadata": {},
   "outputs": [],
   "source": [
    "### creates a list of commands for bwa-mem for each fastq file\n",
    "res_bwa = []\n",
    "res_s2b = []\n",
    "for f in fastq_files:\n",
    "    r1,r2 = run_bwamem((assembly, f, bwa_dir))\n",
    "    res_bwa.append(r1)\n",
    "    res_s2b.append(r2)"
   ]
  },
  {
   "cell_type": "code",
   "execution_count": 17,
   "metadata": {},
   "outputs": [
    {
     "data": {
      "text/plain": [
       "(708,\n",
       " \"bwa mem -k 20 -w 100 -r 1.3 -T 30 -R '@RG\\\\tID:AT2_BB_1\\\\tLB:AT2_BB_1\\\\tSM:AT2_BB_1\\\\tPL:ILLUMINA' /data/gpfs/assoc/denovo/tfaske/sagebrush/denovo/assembly/reference.fasta /data/gpfs/assoc/denovo/tfaske/sagebrush/fastq/AT2_BB_1.F.fq.gz > /data/gpfs/assoc/denovo/tfaske/sagebrush/denovo/SNPcall/bwa/AT2_BB_1.sam\")"
      ]
     },
     "execution_count": 17,
     "metadata": {},
     "output_type": "execute_result"
    }
   ],
   "source": [
    "len(res_bwa),res_bwa[0]"
   ]
  },
  {
   "cell_type": "code",
   "execution_count": 18,
   "metadata": {},
   "outputs": [
    {
     "data": {
      "text/plain": [
       "(708,\n",
       " 'samtools view -b /data/gpfs/assoc/denovo/tfaske/sagebrush/denovo/SNPcall/bwa/AT2_BB_1.sam -o /data/gpfs/assoc/denovo/tfaske/sagebrush/denovo/SNPcall/bwa/AT2_BB_1.bam\\n\\nsamtools sort -@ 1 /data/gpfs/assoc/denovo/tfaske/sagebrush/denovo/SNPcall/bwa/AT2_BB_1.bam -o /data/gpfs/assoc/denovo/tfaske/sagebrush/denovo/SNPcall/bwa/AT2_BB_1_sorted.bam\\n\\nsamtools index /data/gpfs/assoc/denovo/tfaske/sagebrush/denovo/SNPcall/bwa/AT2_BB_1_sorted.bam\\n\\n')"
      ]
     },
     "execution_count": 18,
     "metadata": {},
     "output_type": "execute_result"
    }
   ],
   "source": [
    "len(res_s2b),res_s2b[0]"
   ]
  },
  {
   "cell_type": "code",
   "execution_count": 19,
   "metadata": {},
   "outputs": [
    {
     "data": {
      "text/plain": [
       "'/data/gpfs/assoc/denovo/tfaske/sagebrush/denovo'"
      ]
     },
     "execution_count": 19,
     "metadata": {},
     "output_type": "execute_result"
    }
   ],
   "source": [
    "pwd"
   ]
  },
  {
   "cell_type": "markdown",
   "metadata": {},
   "source": [
    "#### Below selects options for slurm submission and is a function for creating a slurm script per fastq"
   ]
  },
  {
   "cell_type": "code",
   "execution_count": 23,
   "metadata": {},
   "outputs": [],
   "source": [
    "fq_ID = [fq.split('/')[8].split('.F.')[0] for fq in fastq_files]"
   ]
  },
  {
   "cell_type": "code",
   "execution_count": 55,
   "metadata": {},
   "outputs": [],
   "source": [
    "### select options for slurm submission\n",
    "#account = 'cpu-s5-denovo-0'\n",
    "#partition = 'cpu-core-0'\n",
    "account = 'cpu-s1-bionres-0'\n",
    "partition = 'cpu-s1-bionres-0'\n",
    "jobname = 'bwa_ARTR'\n",
    "time = '1-00:00:00' #time limit 1 day\n",
    "cpus = 1\n",
    "mem_cpu = 2500\n",
    "email = 'tfaske@nevada.unr.edu'"
   ]
  },
  {
   "cell_type": "code",
   "execution_count": 56,
   "metadata": {},
   "outputs": [],
   "source": [
    "def write_bwamem_ind_sh(account,partition,time,jobname,cpus,mem_cpu,email,fq_ID,bwa_cmds,s2b_cmds):\n",
    "    #print(account)\n",
    "    #print(partition)\n",
    "    #print(cpus)\n",
    "    #print(email)\n",
    "    #print(cmds[0])\n",
    "    for i in range(0,len(bwa_cmds)):\n",
    "        with open(\"SNPcall/shbwa/run_bwamem_%s.sh\" % (fq_ID[i]), \"w\") as o:\n",
    "            o.write(\"\"\"#!/usr/bin/env bash\n",
    "#SBATCH --account=%s\n",
    "#SBATCH --partition=%s\n",
    "#SBATCH --time=%s\n",
    "#SBATCH --ntasks 1\n",
    "#SBATCH --cpus-per-task %d\n",
    "#SBATCH --mem-per-cpu=%d\n",
    "#SBATCH --job-name %s_bwamem\n",
    "#SBATCH --output output_bwamem_%s.txt\n",
    "#SBATCH --mail-user=%s \\n\\n\n",
    "    \n",
    "%s \\n\\n\n",
    "%s \\n\"\"\" % (account,partition,time,int(cpus),int(mem_cpu),fq_ID[i],fq_ID[i],email,bwa_cmds[i],s2b_cmds[i]))"
   ]
  },
  {
   "cell_type": "code",
   "execution_count": 57,
   "metadata": {},
   "outputs": [],
   "source": [
    "write_bwamem_ind_sh(account,partition,time,jobname,cpus,mem_cpu,email,fq_ID,res_bwa,res_s2b)"
   ]
  },
  {
   "cell_type": "markdown",
   "metadata": {},
   "source": [
    "#### finds all bwa slurm scripts and writes bash script to sbatch them"
   ]
  },
  {
   "cell_type": "code",
   "execution_count": 58,
   "metadata": {},
   "outputs": [],
   "source": [
    "shbwa_files = []\n",
    "os.chdir('{}/{}'.format(denovo_dir, 'SNPcall/shbwa'))\n",
    "files = !find . -name '*.sh'\n",
    "files = [os.path.abspath(x) for x in files]\n",
    "for x in files:\n",
    "        shbwa_files.append(x)\n",
    "shbwa_files = sorted(shbwa_files)"
   ]
  },
  {
   "cell_type": "code",
   "execution_count": 59,
   "metadata": {},
   "outputs": [
    {
     "data": {
      "text/plain": [
       "(708,\n",
       " '/data/gpfs/assoc/denovo/tfaske/sagebrush/denovo/SNPcall/shbwa/run_bwamem_AT2_BB_1.sh')"
      ]
     },
     "execution_count": 59,
     "metadata": {},
     "output_type": "execute_result"
    }
   ],
   "source": [
    "len(shbwa_files),shbwa_files[0]"
   ]
  },
  {
   "cell_type": "code",
   "execution_count": 60,
   "metadata": {},
   "outputs": [],
   "source": [
    "def write_bash_bwamem_sh(sh_files):\n",
    "    with open(\"SNPcall/run_bash_bwa.sh\", \"w\") as o:\n",
    "        o.write(\"\"\"#!/usr/bin/env bash \\n\\n\"\"\")\n",
    "        for f in sh_files:\n",
    "            o.write(\"sbatch %s \\n\" % (f))    "
   ]
  },
  {
   "cell_type": "code",
   "execution_count": 61,
   "metadata": {},
   "outputs": [
    {
     "name": "stdout",
     "output_type": "stream",
     "text": [
      "/data/gpfs/assoc/denovo/tfaske/sagebrush/denovo\n"
     ]
    }
   ],
   "source": [
    "cd $denovo_dir"
   ]
  },
  {
   "cell_type": "code",
   "execution_count": 62,
   "metadata": {},
   "outputs": [],
   "source": [
    "write_bash_bwamem_sh(shbwa_files)"
   ]
  },
  {
   "cell_type": "markdown",
   "metadata": {},
   "source": [
    "# Run run_bash_bwamem_sh locally\n",
    "    cd /data/gpfs/assoc/denovo/tfaske/sagebrush/denovo/SNPcall \n",
    "    source activate py36\n",
    "    bash run_bash_bwa.sh\n",
    "    \n",
    "## calculate bam_coverages and move good files\n",
    "\n",
    "        already done with OG analysis. Just use "
   ]
  },
  {
   "cell_type": "code",
   "execution_count": 63,
   "metadata": {},
   "outputs": [
    {
     "data": {
      "text/plain": [
       "'/data/gpfs/assoc/denovo/tfaske/sagebrush/denovo'"
      ]
     },
     "execution_count": 63,
     "metadata": {},
     "output_type": "execute_result"
    }
   ],
   "source": [
    "pwd"
   ]
  },
  {
   "cell_type": "code",
   "execution_count": 64,
   "metadata": {},
   "outputs": [],
   "source": [
    "cov_df = pd.read_csv('SNPcall/bam_coverage.csv')"
   ]
  },
  {
   "cell_type": "code",
   "execution_count": 65,
   "metadata": {
    "scrolled": true
   },
   "outputs": [
    {
     "data": {
      "text/plain": [
       "count    708.000000\n",
       "mean      35.644292\n",
       "std       11.286788\n",
       "min        1.696807\n",
       "25%       28.291483\n",
       "50%       34.349371\n",
       "75%       43.191507\n",
       "max       69.359485\n",
       "Name: coverage, dtype: float64"
      ]
     },
     "execution_count": 65,
     "metadata": {},
     "output_type": "execute_result"
    }
   ],
   "source": [
    "cov_df.coverage.describe()\n"
   ]
  },
  {
   "cell_type": "code",
   "execution_count": 66,
   "metadata": {},
   "outputs": [
    {
     "data": {
      "text/plain": [
       "708"
      ]
     },
     "execution_count": 66,
     "metadata": {},
     "output_type": "execute_result"
    }
   ],
   "source": [
    "len(cov_df.coverage)"
   ]
  },
  {
   "cell_type": "markdown",
   "metadata": {},
   "source": [
    "# move good bams"
   ]
  },
  {
   "cell_type": "code",
   "execution_count": 67,
   "metadata": {},
   "outputs": [
    {
     "data": {
      "text/plain": [
       "(695, 698)"
      ]
     },
     "execution_count": 67,
     "metadata": {},
     "output_type": "execute_result"
    }
   ],
   "source": [
    "len(cov_df[cov_df.coverage > 10]),len(cov_df[cov_df.coverage >= 5])"
   ]
  },
  {
   "cell_type": "code",
   "execution_count": 68,
   "metadata": {},
   "outputs": [
    {
     "data": {
      "text/plain": [
       "(695, 'AT2_BB_10_sorted.bam')"
      ]
     },
     "execution_count": 68,
     "metadata": {},
     "output_type": "execute_result"
    }
   ],
   "source": [
    "good_bam = cov_df.bam[cov_df.coverage >= 10]\n",
    "good_bam = good_bam.tolist()\n",
    "len(good_bam),good_bam[0]"
   ]
  },
  {
   "cell_type": "code",
   "execution_count": 70,
   "metadata": {},
   "outputs": [
    {
     "data": {
      "text/plain": [
       "(695,\n",
       " '/data/gpfs/assoc/denovo/tfaske/sagebrush/denovo/SNPcall/bwa/AT2_BB_11_sorted.bam')"
      ]
     },
     "execution_count": 70,
     "metadata": {},
     "output_type": "execute_result"
    }
   ],
   "source": [
    "good_bam_files = []\n",
    "for i in range(0,len(good_bam)):\n",
    "    bam = bwa_dir + good_bam[i]\n",
    "    good_bam_files.append(bam)\n",
    "len(good_bam_files), good_bam_files[1]"
   ]
  },
  {
   "cell_type": "code",
   "execution_count": 74,
   "metadata": {},
   "outputs": [],
   "source": [
    "snp_dir = os.path.join(denovo_dir,'SNPcall')"
   ]
  },
  {
   "cell_type": "code",
   "execution_count": 75,
   "metadata": {},
   "outputs": [
    {
     "name": "stdout",
     "output_type": "stream",
     "text": [
      "/data/gpfs/assoc/denovo/tfaske/sagebrush/denovo/SNPcall\n"
     ]
    }
   ],
   "source": [
    "cd $snp_dir"
   ]
  },
  {
   "cell_type": "code",
   "execution_count": 76,
   "metadata": {},
   "outputs": [
    {
     "name": "stdout",
     "output_type": "stream",
     "text": [
      "mkdir: cannot create directory ‘good_bams’: File exists\r\n"
     ]
    }
   ],
   "source": [
    "!mkdir 'good_bams'"
   ]
  },
  {
   "cell_type": "code",
   "execution_count": 77,
   "metadata": {},
   "outputs": [],
   "source": [
    "good_bam_dir = os.path.join(snp_dir,'good_bams')\n",
    "assert good_bam_dir"
   ]
  },
  {
   "cell_type": "code",
   "execution_count": 78,
   "metadata": {},
   "outputs": [
    {
     "name": "stdout",
     "output_type": "stream",
     "text": [
      "cp: cannot stat ‘/data/gpfs/assoc/denovo/tfaske/sagebrush/denovo/SNPcall/bwa/AV2_CF_1_sorted.bam’: No such file or directory\n",
      "cp: cannot stat ‘/data/gpfs/assoc/denovo/tfaske/sagebrush/denovo/SNPcall/bwa/AV2_CF_2_sorted.bam’: No such file or directory\n",
      "cp: cannot stat ‘/data/gpfs/assoc/denovo/tfaske/sagebrush/denovo/SNPcall/bwa/AV2_CF_3_sorted.bam’: No such file or directory\n"
     ]
    }
   ],
   "source": [
    "for i in range(0,len(good_bam_files)):\n",
    "    good_bam = str(good_bam_files[i])\n",
    "    !cp $good_bam $good_bam_dir"
   ]
  },
  {
   "cell_type": "markdown",
   "metadata": {},
   "source": [
    "#### AV2 changed to AV4"
   ]
  },
  {
   "cell_type": "code",
   "execution_count": 80,
   "metadata": {},
   "outputs": [
    {
     "name": "stdout",
     "output_type": "stream",
     "text": [
      "/data/gpfs/assoc/denovo/tfaske/sagebrush/denovo/SNPcall/good_bams\n"
     ]
    }
   ],
   "source": [
    "cd $good_bam_dir"
   ]
  },
  {
   "cell_type": "code",
   "execution_count": 81,
   "metadata": {},
   "outputs": [],
   "source": [
    "good_bam_cp_files = []\n",
    "files = !find . -type f -name '*sorted.bam'\n",
    "files = [os.path.abspath(x) for x in files if 'bam' in x]\n",
    "for x in files:\n",
    "    good_bam_cp_files.append(x)\n",
    "good_bam_cp_files = sorted(good_bam_files)"
   ]
  },
  {
   "cell_type": "code",
   "execution_count": 82,
   "metadata": {
    "scrolled": true
   },
   "outputs": [
    {
     "data": {
      "text/plain": [
       "(695,\n",
       " '/data/gpfs/assoc/denovo/tfaske/sagebrush/denovo/SNPcall/bwa/AT2_BB_10_sorted.bam')"
      ]
     },
     "execution_count": 82,
     "metadata": {},
     "output_type": "execute_result"
    }
   ],
   "source": [
    "len(good_bam_cp_files),good_bam_cp_files[0]"
   ]
  },
  {
   "cell_type": "code",
   "execution_count": null,
   "metadata": {},
   "outputs": [],
   "source": []
  },
  {
   "cell_type": "code",
   "execution_count": null,
   "metadata": {},
   "outputs": [],
   "source": []
  }
 ],
 "metadata": {
  "kernelspec": {
   "display_name": "Python 3",
   "language": "python",
   "name": "python3"
  },
  "language_info": {
   "codemirror_mode": {
    "name": "ipython",
    "version": 3
   },
   "file_extension": ".py",
   "mimetype": "text/x-python",
   "name": "python",
   "nbconvert_exporter": "python",
   "pygments_lexer": "ipython3",
   "version": "3.6.7"
  }
 },
 "nbformat": 4,
 "nbformat_minor": 1
}
