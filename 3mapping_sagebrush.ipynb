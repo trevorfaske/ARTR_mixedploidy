{
 "cells": [
  {
   "cell_type": "code",
   "execution_count": 4,
   "metadata": {
    "ExecuteTime": {}
   },
   "outputs": [],
   "source": [
    "!source activate py36"
   ]
  },
  {
   "cell_type": "code",
   "execution_count": 5,
   "metadata": {
    "ExecuteTime": {}
   },
   "outputs": [],
   "source": [
    "import sys\n",
    "\n",
    "sys.path.append('/home/faske/g/anaconda3/envs/py36/lib/python3.6/site-packages')\n",
    "sys.path.append(\"/home/faske/g/ipynb/include_utils\")\n",
    "\n",
    "import ipyparallel as ipp\n",
    "import os, time\n",
    "import include_utils as u\n",
    "import pandas as pd\n",
    "import numpy as np\n",
    "import scipy as sp\n",
    "import numbers\n",
    "import matplotlib.pyplot as plt\n",
    "import matplotlib.patches as mpatches\n",
    "import matplotlib.cm as cm\n",
    "import matplotlib.colors as mcolors\n",
    "#import vcf\n",
    "from sklearn import preprocessing\n",
    "from subprocess import Popen, PIPE, call, check_output\n",
    "import seaborn as sns\n",
    "from IPython.display import FileLink\n",
    "import urllib.request as urllib2\n",
    "import dill\n",
    "import traceback\n",
    "from pandas import Series, DataFrame\n",
    "import gzip\n",
    "import warnings\n",
    "warnings.filterwarnings('ignore',category=pd.io.pytables.PerformanceWarning)\n",
    "%config InlineBackend.figure_format = 'retina'\n",
    "from Bio import SeqIO\n",
    "#import pysam\n",
    "from collections import OrderedDict, namedtuple, Counter\n",
    "import operator\n",
    "import multiprocessing as mp\n",
    "import shutil\n",
    "import tempfile\n",
    "#from ipyparallel import Client\n",
    "import scandir\n",
    "import glob\n",
    "from Bio.SeqIO.QualityIO import FastqGeneralIterator\n",
    "import pickle\n",
    "#import Levenshtein as lv"
   ]
  },
  {
   "cell_type": "code",
   "execution_count": 6,
   "metadata": {
    "ExecuteTime": {}
   },
   "outputs": [],
   "source": [
    "root = \"/home/faske/g/milkweed\""
   ]
  },
  {
   "cell_type": "code",
   "execution_count": 7,
   "metadata": {
    "ExecuteTime": {}
   },
   "outputs": [
    {
     "name": "stdout",
     "output_type": "stream",
     "text": [
      "/working/tfaske/milkweed\n"
     ]
    }
   ],
   "source": [
    "cd $root"
   ]
  },
  {
   "cell_type": "code",
   "execution_count": 8,
   "metadata": {
    "ExecuteTime": {}
   },
   "outputs": [
    {
     "data": {
      "text/plain": [
       "'/working/tfaske/milkweed'"
      ]
     },
     "execution_count": 8,
     "metadata": {},
     "output_type": "execute_result"
    }
   ],
   "source": [
    "pwd"
   ]
  },
  {
   "cell_type": "markdown",
   "metadata": {},
   "source": [
    "# Actual Mapping \n",
    " "
   ]
  },
  {
   "cell_type": "code",
   "execution_count": 9,
   "metadata": {
    "ExecuteTime": {}
   },
   "outputs": [],
   "source": [
    "fastq_files = []\n",
    "for seqdir in ['demult/fastq/']:\n",
    "    os.chdir('{}/{}'.format(root, seqdir))\n",
    "    files = !find . -name 'FA*fastq.gz'\n",
    "    files = [os.path.abspath(x) for x in files]\n",
    "    for x in files:\n",
    "        fastq_files.append(x)\n",
    "fastq_files = sorted(fastq_files)"
   ]
  },
  {
   "cell_type": "code",
   "execution_count": 10,
   "metadata": {
    "ExecuteTime": {}
   },
   "outputs": [
    {
     "data": {
      "text/plain": [
       "176"
      ]
     },
     "execution_count": 10,
     "metadata": {},
     "output_type": "execute_result"
    }
   ],
   "source": [
    "len(fastq_files)"
   ]
  },
  {
   "cell_type": "code",
   "execution_count": 11,
   "metadata": {},
   "outputs": [
    {
     "name": "stdout",
     "output_type": "stream",
     "text": [
      "/working/tfaske/milkweed\n"
     ]
    }
   ],
   "source": [
    "cd $root"
   ]
  },
  {
   "cell_type": "code",
   "execution_count": 12,
   "metadata": {
    "ExecuteTime": {}
   },
   "outputs": [],
   "source": [
    "assembly = \"/home/faske/g/milkweed/assembly/Asclepias_syriaca_v0.3_chromosomes_and_contigs.fasta\"\n",
    "\n",
    "#indexed as: bowtie2-build --threads 10 -f Asclepias_syriaca_v0.3_chromosomes_and_contigs.fasta Asclepias_syriaca_v0.3_chromosomes_and_contigs.fasta"
   ]
  },
  {
   "cell_type": "code",
   "execution_count": 13,
   "metadata": {
    "ExecuteTime": {}
   },
   "outputs": [],
   "source": [
    "# --very-fast-local\n",
    "# Same as: -D 5 -R 1 -N 0 -L 25 -i S,1,2.00\n",
    "\n",
    "# --fast-local\n",
    "# Same as: -D 10 -R 2 -N 0 -L 22 -i S,1,1.75\n",
    "\n",
    "# --sensitive-local\n",
    "# Same as: -D 15 -R 2 -N 0 -L 20 -i S,1,0.75 (default in --local mode)\n",
    "\n",
    "# --very-sensitive-local\n",
    "# Same as: -D 20 -R 3 -N 0 -L 20 -i S,1,0.50\n",
    "\n",
    "#@lview.remote()\n",
    "def run_bowtie2(args):\n",
    "    import os, multiprocessing, socket #stopwatch,\n",
    "    #timer = stopwatch.Timer()\n",
    "    cpus = 12\n",
    "    assembly, reads, outdir = args\n",
    "    sam = os.path.join(outdir, \"{}.sam\".format(os.path.basename(reads)))\n",
    "    #sam = tempfile.NamedTemporaryFile(delete=False, dir=\"/tmp\")\n",
    "    #print (sam)\n",
    "    cmd = \"bowtie2 --local -D 20 -R 3 -N 1 -L 20 -i S,1,0.50 -p %d -x %s -U %s -S %s\" % (cpus,\n",
    "                                                               assembly,\n",
    "                                                               reads,\n",
    "                                                               sam)\n",
    "    res = None\n",
    "    res = cmd\n",
    "#     if not os.path.exists(sam):\n",
    "#         res = !$cmd\n",
    "    #timer.stop()\n",
    "    return  cmd #,timer.elapsed"
   ]
  },
  {
   "cell_type": "code",
   "execution_count": 14,
   "metadata": {},
   "outputs": [],
   "source": [
    "bowtie_dir = \"/home/faske/g/milkweed/SNPcall/bowtie2/\"\n",
    "assert(bowtie_dir)"
   ]
  },
  {
   "cell_type": "code",
   "execution_count": 15,
   "metadata": {},
   "outputs": [],
   "source": [
    "res = []\n",
    "for f in fastq_files:\n",
    "    r = run_bowtie2((assembly, f, bowtie_dir))\n",
    "    res.append(r)"
   ]
  },
  {
   "cell_type": "code",
   "execution_count": 16,
   "metadata": {},
   "outputs": [
    {
     "data": {
      "text/plain": [
       "'bowtie2 --local -D 20 -R 3 -N 1 -L 20 -i S,1,0.50 -p 12 -x /home/faske/g/milkweed/assembly/Asclepias_syriaca_v0.3_chromosomes_and_contigs.fasta -U /working/tfaske/milkweed/demult/fastq/FA_BM_607.fastq.gz -S /home/faske/g/milkweed/SNPcall/bowtie2/FA_BM_607.fastq.gz.sam'"
      ]
     },
     "execution_count": 16,
     "metadata": {},
     "output_type": "execute_result"
    }
   ],
   "source": [
    "res[0]"
   ]
  },
  {
   "cell_type": "code",
   "execution_count": 17,
   "metadata": {},
   "outputs": [
    {
     "data": {
      "text/plain": [
       "'/working/tfaske/milkweed'"
      ]
     },
     "execution_count": 17,
     "metadata": {},
     "output_type": "execute_result"
    }
   ],
   "source": [
    "pwd"
   ]
  },
  {
   "cell_type": "code",
   "execution_count": 18,
   "metadata": {
    "ExecuteTime": {}
   },
   "outputs": [],
   "source": [
    "def write_bowtie_sh(cmds):\n",
    "    with open(\"run_bowtie.sh\", \"w\") as o:\n",
    "        o.write(\"\"\"#!/bin/bash\n",
    "#$ -S /bin/bash\n",
    "#$ -cwd\n",
    "#$ -o bowtie2.out\n",
    "#$ -e bowtie2.err\n",
    "source activate py36\\n\"\"\")\n",
    "        for elem in cmds:\n",
    "            o.write(\"{}\\n\".format(elem))"
   ]
  },
  {
   "cell_type": "code",
   "execution_count": 19,
   "metadata": {},
   "outputs": [
    {
     "name": "stdout",
     "output_type": "stream",
     "text": [
      "/working/tfaske/milkweed\n"
     ]
    }
   ],
   "source": [
    "cd $root"
   ]
  },
  {
   "cell_type": "code",
   "execution_count": 20,
   "metadata": {},
   "outputs": [],
   "source": [
    "write_bowtie_sh(res)"
   ]
  },
  {
   "cell_type": "markdown",
   "metadata": {},
   "source": [
    "# Run run_bowie.sh\n",
    "    mv run_bowtie.sh SNPcall \n",
    "    cd SNPcall\n",
    "    bash run_bowtie.sh > bowtie.out &"
   ]
  },
  {
   "cell_type": "code",
   "execution_count": 32,
   "metadata": {
    "ExecuteTime": {}
   },
   "outputs": [],
   "source": [
    "fqs = !find /working/tfaske/milkweed/demult/fastq/ -name \"FA*fastq.gz\""
   ]
  },
  {
   "cell_type": "code",
   "execution_count": 33,
   "metadata": {
    "ExecuteTime": {}
   },
   "outputs": [],
   "source": [
    "sams = !find $bowtie_dir -name \"*.sam\""
   ]
  },
  {
   "cell_type": "code",
   "execution_count": 34,
   "metadata": {
    "ExecuteTime": {}
   },
   "outputs": [
    {
     "data": {
      "text/plain": [
       "(176, 176)"
      ]
     },
     "execution_count": 34,
     "metadata": {},
     "output_type": "execute_result"
    }
   ],
   "source": [
    "len(fqs), len(sams)"
   ]
  },
  {
   "cell_type": "code",
   "execution_count": 35,
   "metadata": {},
   "outputs": [
    {
     "data": {
      "text/plain": [
       "['/home/faske/g/milkweed/SNPcall/bowtie2/FA_BM_607.fastq.gz.sam',\n",
       " '/home/faske/g/milkweed/SNPcall/bowtie2/FA_BM_608.fastq.gz.sam',\n",
       " '/home/faske/g/milkweed/SNPcall/bowtie2/FA_BM_609.fastq.gz.sam',\n",
       " '/home/faske/g/milkweed/SNPcall/bowtie2/FA_BM_610.fastq.gz.sam',\n",
       " '/home/faske/g/milkweed/SNPcall/bowtie2/FA_BM_611.fastq.gz.sam',\n",
       " '/home/faske/g/milkweed/SNPcall/bowtie2/FA_BM_612.fastq.gz.sam',\n",
       " '/home/faske/g/milkweed/SNPcall/bowtie2/FA_BM_613.fastq.gz.sam',\n",
       " '/home/faske/g/milkweed/SNPcall/bowtie2/FA_BM_614.fastq.gz.sam',\n",
       " '/home/faske/g/milkweed/SNPcall/bowtie2/FA_BM_615.fastq.gz.sam',\n",
       " '/home/faske/g/milkweed/SNPcall/bowtie2/FA_BM_616.fastq.gz.sam',\n",
       " '/home/faske/g/milkweed/SNPcall/bowtie2/FA_BM_635.fastq.gz.sam',\n",
       " '/home/faske/g/milkweed/SNPcall/bowtie2/FA_BM_636.fastq.gz.sam',\n",
       " '/home/faske/g/milkweed/SNPcall/bowtie2/FA_BM_637.fastq.gz.sam',\n",
       " '/home/faske/g/milkweed/SNPcall/bowtie2/FA_BM_638.fastq.gz.sam',\n",
       " '/home/faske/g/milkweed/SNPcall/bowtie2/FA_BM_639.fastq.gz.sam',\n",
       " '/home/faske/g/milkweed/SNPcall/bowtie2/FA_BM_640.fastq.gz.sam',\n",
       " '/home/faske/g/milkweed/SNPcall/bowtie2/FA_BM_641.fastq.gz.sam',\n",
       " '/home/faske/g/milkweed/SNPcall/bowtie2/FA_BM_642.fastq.gz.sam',\n",
       " '/home/faske/g/milkweed/SNPcall/bowtie2/FA_BM_643.fastq.gz.sam',\n",
       " '/home/faske/g/milkweed/SNPcall/bowtie2/FA_BM_644.fastq.gz.sam',\n",
       " '/home/faske/g/milkweed/SNPcall/bowtie2/FA_BM_645.fastq.gz.sam',\n",
       " '/home/faske/g/milkweed/SNPcall/bowtie2/FA_BM_646.fastq.gz.sam',\n",
       " '/home/faske/g/milkweed/SNPcall/bowtie2/FA_BM_647.fastq.gz.sam',\n",
       " '/home/faske/g/milkweed/SNPcall/bowtie2/FA_CP_556.fastq.gz.sam',\n",
       " '/home/faske/g/milkweed/SNPcall/bowtie2/FA_CP_557.fastq.gz.sam',\n",
       " '/home/faske/g/milkweed/SNPcall/bowtie2/FA_CP_558.fastq.gz.sam',\n",
       " '/home/faske/g/milkweed/SNPcall/bowtie2/FA_CP_559.fastq.gz.sam',\n",
       " '/home/faske/g/milkweed/SNPcall/bowtie2/FA_CP_560.fastq.gz.sam',\n",
       " '/home/faske/g/milkweed/SNPcall/bowtie2/FA_CP_561.fastq.gz.sam',\n",
       " '/home/faske/g/milkweed/SNPcall/bowtie2/FA_CP_562.fastq.gz.sam',\n",
       " '/home/faske/g/milkweed/SNPcall/bowtie2/FA_CP_563.fastq.gz.sam',\n",
       " '/home/faske/g/milkweed/SNPcall/bowtie2/FA_CP_564.fastq.gz.sam',\n",
       " '/home/faske/g/milkweed/SNPcall/bowtie2/FA_CP_565.fastq.gz.sam',\n",
       " '/home/faske/g/milkweed/SNPcall/bowtie2/FA_CP_566.fastq.gz.sam',\n",
       " '/home/faske/g/milkweed/SNPcall/bowtie2/FA_CP_567.fastq.gz.sam',\n",
       " '/home/faske/g/milkweed/SNPcall/bowtie2/FA_DG_745.fastq.gz.sam',\n",
       " '/home/faske/g/milkweed/SNPcall/bowtie2/FA_DG_746.fastq.gz.sam',\n",
       " '/home/faske/g/milkweed/SNPcall/bowtie2/FA_DG_747.fastq.gz.sam',\n",
       " '/home/faske/g/milkweed/SNPcall/bowtie2/FA_DG_748.fastq.gz.sam',\n",
       " '/home/faske/g/milkweed/SNPcall/bowtie2/FA_DG_749.fastq.gz.sam',\n",
       " '/home/faske/g/milkweed/SNPcall/bowtie2/FA_DG_750.fastq.gz.sam',\n",
       " '/home/faske/g/milkweed/SNPcall/bowtie2/FA_DG_751.fastq.gz.sam',\n",
       " '/home/faske/g/milkweed/SNPcall/bowtie2/FA_DG_752.fastq.gz.sam',\n",
       " '/home/faske/g/milkweed/SNPcall/bowtie2/FA_DG_753.fastq.gz.sam',\n",
       " '/home/faske/g/milkweed/SNPcall/bowtie2/FA_DG_754.fastq.gz.sam',\n",
       " '/home/faske/g/milkweed/SNPcall/bowtie2/FA_DG_755.fastq.gz.sam',\n",
       " '/home/faske/g/milkweed/SNPcall/bowtie2/FA_DG_756.fastq.gz.sam',\n",
       " '/home/faske/g/milkweed/SNPcall/bowtie2/FA_DP_801.fastq.gz.sam',\n",
       " '/home/faske/g/milkweed/SNPcall/bowtie2/FA_DP_802.fastq.gz.sam',\n",
       " '/home/faske/g/milkweed/SNPcall/bowtie2/FA_DP_803.fastq.gz.sam',\n",
       " '/home/faske/g/milkweed/SNPcall/bowtie2/FA_DP_804.fastq.gz.sam',\n",
       " '/home/faske/g/milkweed/SNPcall/bowtie2/FA_DP_805.fastq.gz.sam',\n",
       " '/home/faske/g/milkweed/SNPcall/bowtie2/FA_DP_806.fastq.gz.sam',\n",
       " '/home/faske/g/milkweed/SNPcall/bowtie2/FA_DP_807.fastq.gz.sam',\n",
       " '/home/faske/g/milkweed/SNPcall/bowtie2/FA_DP_808.fastq.gz.sam',\n",
       " '/home/faske/g/milkweed/SNPcall/bowtie2/FA_DP_809.fastq.gz.sam',\n",
       " '/home/faske/g/milkweed/SNPcall/bowtie2/FA_DP_810.fastq.gz.sam',\n",
       " '/home/faske/g/milkweed/SNPcall/bowtie2/FA_LA_661.fastq.gz.sam',\n",
       " '/home/faske/g/milkweed/SNPcall/bowtie2/FA_LA_662.fastq.gz.sam',\n",
       " '/home/faske/g/milkweed/SNPcall/bowtie2/FA_LA_663.fastq.gz.sam',\n",
       " '/home/faske/g/milkweed/SNPcall/bowtie2/FA_LA_664.fastq.gz.sam',\n",
       " '/home/faske/g/milkweed/SNPcall/bowtie2/FA_LA_665.fastq.gz.sam',\n",
       " '/home/faske/g/milkweed/SNPcall/bowtie2/FA_LA_666.fastq.gz.sam',\n",
       " '/home/faske/g/milkweed/SNPcall/bowtie2/FA_LA_667.fastq.gz.sam',\n",
       " '/home/faske/g/milkweed/SNPcall/bowtie2/FA_LA_668.fastq.gz.sam',\n",
       " '/home/faske/g/milkweed/SNPcall/bowtie2/FA_LA_669.fastq.gz.sam',\n",
       " '/home/faske/g/milkweed/SNPcall/bowtie2/FA_LA_670.fastq.gz.sam',\n",
       " '/home/faske/g/milkweed/SNPcall/bowtie2/FA_LS_757.fastq.gz.sam',\n",
       " '/home/faske/g/milkweed/SNPcall/bowtie2/FA_LS_758.fastq.gz.sam',\n",
       " '/home/faske/g/milkweed/SNPcall/bowtie2/FA_LS_759.fastq.gz.sam',\n",
       " '/home/faske/g/milkweed/SNPcall/bowtie2/FA_LS_760.fastq.gz.sam',\n",
       " '/home/faske/g/milkweed/SNPcall/bowtie2/FA_LS_761.fastq.gz.sam',\n",
       " '/home/faske/g/milkweed/SNPcall/bowtie2/FA_LS_762.fastq.gz.sam',\n",
       " '/home/faske/g/milkweed/SNPcall/bowtie2/FA_LS_763.fastq.gz.sam',\n",
       " '/home/faske/g/milkweed/SNPcall/bowtie2/FA_LS_764.fastq.gz.sam',\n",
       " '/home/faske/g/milkweed/SNPcall/bowtie2/FA_LS_765.fastq.gz.sam',\n",
       " '/home/faske/g/milkweed/SNPcall/bowtie2/FA_LS_766.fastq.gz.sam',\n",
       " '/home/faske/g/milkweed/SNPcall/bowtie2/FA_LS_767.fastq.gz.sam',\n",
       " '/home/faske/g/milkweed/SNPcall/bowtie2/FA_LS_768.fastq.gz.sam',\n",
       " '/home/faske/g/milkweed/SNPcall/bowtie2/FA_LS_769.fastq.gz.sam',\n",
       " '/home/faske/g/milkweed/SNPcall/bowtie2/FA_LS_770.fastq.gz.sam',\n",
       " '/home/faske/g/milkweed/SNPcall/bowtie2/FA_LS_771.fastq.gz.sam',\n",
       " '/home/faske/g/milkweed/SNPcall/bowtie2/FA_LS_772.fastq.gz.sam',\n",
       " '/home/faske/g/milkweed/SNPcall/bowtie2/FA_LS_773.fastq.gz.sam',\n",
       " '/home/faske/g/milkweed/SNPcall/bowtie2/FA_LV_774.fastq.gz.sam',\n",
       " '/home/faske/g/milkweed/SNPcall/bowtie2/FA_LV_775.fastq.gz.sam',\n",
       " '/home/faske/g/milkweed/SNPcall/bowtie2/FA_LV_776.fastq.gz.sam',\n",
       " '/home/faske/g/milkweed/SNPcall/bowtie2/FA_LV_777.fastq.gz.sam',\n",
       " '/home/faske/g/milkweed/SNPcall/bowtie2/FA_LV_778.fastq.gz.sam',\n",
       " '/home/faske/g/milkweed/SNPcall/bowtie2/FA_LV_779.fastq.gz.sam',\n",
       " '/home/faske/g/milkweed/SNPcall/bowtie2/FA_LV_780.fastq.gz.sam',\n",
       " '/home/faske/g/milkweed/SNPcall/bowtie2/FA_LV_781.fastq.gz.sam',\n",
       " '/home/faske/g/milkweed/SNPcall/bowtie2/FA_LV_782.fastq.gz.sam',\n",
       " '/home/faske/g/milkweed/SNPcall/bowtie2/FA_LV_783.fastq.gz.sam',\n",
       " '/home/faske/g/milkweed/SNPcall/bowtie2/FA_LV_784.fastq.gz.sam',\n",
       " '/home/faske/g/milkweed/SNPcall/bowtie2/FA_LV_785.fastq.gz.sam',\n",
       " '/home/faske/g/milkweed/SNPcall/bowtie2/FA_LV_786.fastq.gz.sam',\n",
       " '/home/faske/g/milkweed/SNPcall/bowtie2/FA_LV_787.fastq.gz.sam',\n",
       " '/home/faske/g/milkweed/SNPcall/bowtie2/FA_LV_788.fastq.gz.sam',\n",
       " '/home/faske/g/milkweed/SNPcall/bowtie2/FA_NI_583.fastq.gz.sam',\n",
       " '/home/faske/g/milkweed/SNPcall/bowtie2/FA_NI_584.fastq.gz.sam',\n",
       " '/home/faske/g/milkweed/SNPcall/bowtie2/FA_NI_585.fastq.gz.sam',\n",
       " '/home/faske/g/milkweed/SNPcall/bowtie2/FA_NI_586.fastq.gz.sam',\n",
       " '/home/faske/g/milkweed/SNPcall/bowtie2/FA_NI_587.fastq.gz.sam',\n",
       " '/home/faske/g/milkweed/SNPcall/bowtie2/FA_NI_588.fastq.gz.sam',\n",
       " '/home/faske/g/milkweed/SNPcall/bowtie2/FA_NI_589.fastq.gz.sam',\n",
       " '/home/faske/g/milkweed/SNPcall/bowtie2/FA_NI_590.fastq.gz.sam',\n",
       " '/home/faske/g/milkweed/SNPcall/bowtie2/FA_NI_591.fastq.gz.sam',\n",
       " '/home/faske/g/milkweed/SNPcall/bowtie2/FA_NI_592.fastq.gz.sam',\n",
       " '/home/faske/g/milkweed/SNPcall/bowtie2/FA_NI_593.fastq.gz.sam',\n",
       " '/home/faske/g/milkweed/SNPcall/bowtie2/FA_NI_594.fastq.gz.sam',\n",
       " '/home/faske/g/milkweed/SNPcall/bowtie2/FA_SB_789.fastq.gz.sam',\n",
       " '/home/faske/g/milkweed/SNPcall/bowtie2/FA_SB_790.fastq.gz.sam',\n",
       " '/home/faske/g/milkweed/SNPcall/bowtie2/FA_SB_791.fastq.gz.sam',\n",
       " '/home/faske/g/milkweed/SNPcall/bowtie2/FA_SB_792.fastq.gz.sam',\n",
       " '/home/faske/g/milkweed/SNPcall/bowtie2/FA_SB_793.fastq.gz.sam',\n",
       " '/home/faske/g/milkweed/SNPcall/bowtie2/FA_SB_794.fastq.gz.sam',\n",
       " '/home/faske/g/milkweed/SNPcall/bowtie2/FA_SB_795.fastq.gz.sam',\n",
       " '/home/faske/g/milkweed/SNPcall/bowtie2/FA_SB_796.fastq.gz.sam',\n",
       " '/home/faske/g/milkweed/SNPcall/bowtie2/FA_SB_797.fastq.gz.sam',\n",
       " '/home/faske/g/milkweed/SNPcall/bowtie2/FA_SB_798.fastq.gz.sam',\n",
       " '/home/faske/g/milkweed/SNPcall/bowtie2/FA_SB_799.fastq.gz.sam',\n",
       " '/home/faske/g/milkweed/SNPcall/bowtie2/FA_SB_800.fastq.gz.sam',\n",
       " '/home/faske/g/milkweed/SNPcall/bowtie2/FA_SN_017.fastq.gz.sam',\n",
       " '/home/faske/g/milkweed/SNPcall/bowtie2/FA_SN_018.fastq.gz.sam',\n",
       " '/home/faske/g/milkweed/SNPcall/bowtie2/FA_SN_019.fastq.gz.sam',\n",
       " '/home/faske/g/milkweed/SNPcall/bowtie2/FA_SN_020.fastq.gz.sam',\n",
       " '/home/faske/g/milkweed/SNPcall/bowtie2/FA_SN_021.fastq.gz.sam',\n",
       " '/home/faske/g/milkweed/SNPcall/bowtie2/FA_SN_022.fastq.gz.sam',\n",
       " '/home/faske/g/milkweed/SNPcall/bowtie2/FA_SN_023.fastq.gz.sam',\n",
       " '/home/faske/g/milkweed/SNPcall/bowtie2/FA_SN_024.fastq.gz.sam',\n",
       " '/home/faske/g/milkweed/SNPcall/bowtie2/FA_SN_025.fastq.gz.sam',\n",
       " '/home/faske/g/milkweed/SNPcall/bowtie2/FA_SN_026.fastq.gz.sam',\n",
       " '/home/faske/g/milkweed/SNPcall/bowtie2/FA_SN_027.fastq.gz.sam',\n",
       " '/home/faske/g/milkweed/SNPcall/bowtie2/FA_SN_028.fastq.gz.sam',\n",
       " '/home/faske/g/milkweed/SNPcall/bowtie2/FA_SN_029.fastq.gz.sam',\n",
       " '/home/faske/g/milkweed/SNPcall/bowtie2/FA_SN_030.fastq.gz.sam',\n",
       " '/home/faske/g/milkweed/SNPcall/bowtie2/FA_SN_031.fastq.gz.sam',\n",
       " '/home/faske/g/milkweed/SNPcall/bowtie2/FA_SN_032.fastq.gz.sam',\n",
       " '/home/faske/g/milkweed/SNPcall/bowtie2/FA_SN_033.fastq.gz.sam',\n",
       " '/home/faske/g/milkweed/SNPcall/bowtie2/FA_SN_034.fastq.gz.sam',\n",
       " '/home/faske/g/milkweed/SNPcall/bowtie2/FA_SN_035.fastq.gz.sam',\n",
       " '/home/faske/g/milkweed/SNPcall/bowtie2/FA_SN_036.fastq.gz.sam',\n",
       " '/home/faske/g/milkweed/SNPcall/bowtie2/FA_SN_037.fastq.gz.sam',\n",
       " '/home/faske/g/milkweed/SNPcall/bowtie2/FA_SN_038.fastq.gz.sam',\n",
       " '/home/faske/g/milkweed/SNPcall/bowtie2/FA_SN_039.fastq.gz.sam',\n",
       " '/home/faske/g/milkweed/SNPcall/bowtie2/FA_SN_040.fastq.gz.sam',\n",
       " '/home/faske/g/milkweed/SNPcall/bowtie2/FA_SN_041.fastq.gz.sam',\n",
       " '/home/faske/g/milkweed/SNPcall/bowtie2/FA_SN_042.fastq.gz.sam',\n",
       " '/home/faske/g/milkweed/SNPcall/bowtie2/FA_SN_043.fastq.gz.sam',\n",
       " '/home/faske/g/milkweed/SNPcall/bowtie2/FA_SN_044.fastq.gz.sam',\n",
       " '/home/faske/g/milkweed/SNPcall/bowtie2/FA_SN_046.fastq.gz.sam',\n",
       " '/home/faske/g/milkweed/SNPcall/bowtie2/FA_SN_047.fastq.gz.sam',\n",
       " '/home/faske/g/milkweed/SNPcall/bowtie2/FA_SN_048.fastq.gz.sam',\n",
       " '/home/faske/g/milkweed/SNPcall/bowtie2/FA_SN_049.fastq.gz.sam',\n",
       " '/home/faske/g/milkweed/SNPcall/bowtie2/FA_SN_050.fastq.gz.sam',\n",
       " '/home/faske/g/milkweed/SNPcall/bowtie2/FA_WC_722.fastq.gz.sam',\n",
       " '/home/faske/g/milkweed/SNPcall/bowtie2/FA_WC_723.fastq.gz.sam',\n",
       " '/home/faske/g/milkweed/SNPcall/bowtie2/FA_WC_724.fastq.gz.sam',\n",
       " '/home/faske/g/milkweed/SNPcall/bowtie2/FA_WC_725.fastq.gz.sam',\n",
       " '/home/faske/g/milkweed/SNPcall/bowtie2/FA_WC_726.fastq.gz.sam',\n",
       " '/home/faske/g/milkweed/SNPcall/bowtie2/FA_WC_727.fastq.gz.sam',\n",
       " '/home/faske/g/milkweed/SNPcall/bowtie2/FA_WC_728.fastq.gz.sam',\n",
       " '/home/faske/g/milkweed/SNPcall/bowtie2/FA_WC_729.fastq.gz.sam',\n",
       " '/home/faske/g/milkweed/SNPcall/bowtie2/FA_WC_730.fastq.gz.sam',\n",
       " '/home/faske/g/milkweed/SNPcall/bowtie2/FA_WC_731.fastq.gz.sam',\n",
       " '/home/faske/g/milkweed/SNPcall/bowtie2/FA_WC_732.fastq.gz.sam',\n",
       " '/home/faske/g/milkweed/SNPcall/bowtie2/FA_WC_733.fastq.gz.sam',\n",
       " '/home/faske/g/milkweed/SNPcall/bowtie2/FA_WC_734.fastq.gz.sam',\n",
       " '/home/faske/g/milkweed/SNPcall/bowtie2/FA_WC_735.fastq.gz.sam',\n",
       " '/home/faske/g/milkweed/SNPcall/bowtie2/FA_WC_736.fastq.gz.sam',\n",
       " '/home/faske/g/milkweed/SNPcall/bowtie2/FA_WC_737.fastq.gz.sam',\n",
       " '/home/faske/g/milkweed/SNPcall/bowtie2/FA_WC_738.fastq.gz.sam',\n",
       " '/home/faske/g/milkweed/SNPcall/bowtie2/FA_WC_739.fastq.gz.sam',\n",
       " '/home/faske/g/milkweed/SNPcall/bowtie2/FA_WC_740.fastq.gz.sam',\n",
       " '/home/faske/g/milkweed/SNPcall/bowtie2/FA_WC_741.fastq.gz.sam']"
      ]
     },
     "execution_count": 35,
     "metadata": {},
     "output_type": "execute_result"
    }
   ],
   "source": [
    "sams"
   ]
  },
  {
   "cell_type": "code",
   "execution_count": 36,
   "metadata": {},
   "outputs": [],
   "source": [
    "SNPcall_dir = \"/home/faske/g/milkweed/SNPcall/\"\n",
    "assert(SNPcall_dir)"
   ]
  },
  {
   "cell_type": "code",
   "execution_count": 37,
   "metadata": {
    "ExecuteTime": {}
   },
   "outputs": [
    {
     "name": "stdout",
     "output_type": "stream",
     "text": [
      "/working/tfaske/milkweed/SNPcall\n"
     ]
    }
   ],
   "source": [
    "cd $SNPcall_dir"
   ]
  },
  {
   "cell_type": "code",
   "execution_count": 38,
   "metadata": {},
   "outputs": [],
   "source": [
    "def write_sam2bam_sh(sam):\n",
    "    with open(\"./run_sam2bam.sh\", \"w\") as o:\n",
    "        o.write(\"\"\"#!/bin/bash\n",
    "#$ -S /bin/bash\n",
    "#$ -cwd\n",
    "#$ -o sam2bam.out\n",
    "#$ -e sam2bam.err\n",
    "source activate py36\\n\"\"\")\n",
    "        for s in sam:\n",
    "            bam = s.replace(\".sam\", \".bam\")\n",
    "            bam_sorted = \"%s_sorted.bam\" % bam.replace(\".bam\", \"\")\n",
    "            o.write(\"samtools view -b {0} -o {1}\\nsamtools sort -@ 8 {1} -o {2}\\nsamtools index {2}\\n\".format(s,bam,bam_sorted))"
   ]
  },
  {
   "cell_type": "code",
   "execution_count": 39,
   "metadata": {},
   "outputs": [],
   "source": [
    "write_sam2bam_sh(sams)"
   ]
  },
  {
   "cell_type": "markdown",
   "metadata": {
    "ExecuteTime": {}
   },
   "source": [
    "# run_sam2bam.sh\n",
    "    cd /working/tfaske/milkweed/SNPcall \n",
    "    bash run_sam2bam.sh &> sam2bam.out & \n",
    "    disown -h \n",
    "    close window\n"
   ]
  },
  {
   "cell_type": "code",
   "execution_count": 40,
   "metadata": {},
   "outputs": [
    {
     "name": "stdout",
     "output_type": "stream",
     "text": [
      "/working/tfaske/milkweed/SNPcall/bowtie2\n"
     ]
    }
   ],
   "source": [
    "cd $bowtie_dir"
   ]
  },
  {
   "cell_type": "code",
   "execution_count": 44,
   "metadata": {
    "ExecuteTime": {}
   },
   "outputs": [
    {
     "data": {
      "text/plain": [
       "(158, 176, 176)"
      ]
     },
     "execution_count": 44,
     "metadata": {},
     "output_type": "execute_result"
    }
   ],
   "source": [
    "sorted_bams = []\n",
    "files = !find . -type f -name '*sorted.bam'\n",
    "files = [os.path.abspath(x) for x in files if 'bam' in x]\n",
    "for x in files:\n",
    "    sorted_bams.append(x)\n",
    "sorted_bams = sorted(sorted_bams)\n",
    "\n",
    "#assert len(sorted_bams) == len(fastq_files)\n",
    "\n",
    "len(sorted_bams), len(fqs), len(sams)\n",
    "#missing 3 bam files from lane1"
   ]
  },
  {
   "cell_type": "code",
   "execution_count": null,
   "metadata": {
    "collapsed": true
   },
   "outputs": [],
   "source": []
  }
 ],
 "metadata": {
  "kernelspec": {
   "display_name": "Python 3",
   "language": "python",
   "name": "python3"
  },
  "language_info": {
   "codemirror_mode": {
    "name": "ipython",
    "version": 3
   },
   "file_extension": ".py",
   "mimetype": "text/x-python",
   "name": "python",
   "nbconvert_exporter": "python",
   "pygments_lexer": "ipython3",
   "version": "3.6.7"
  }
 },
 "nbformat": 4,
 "nbformat_minor": 1
}
