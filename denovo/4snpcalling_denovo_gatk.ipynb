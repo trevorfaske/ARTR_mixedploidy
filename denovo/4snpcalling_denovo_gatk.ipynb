{
 "cells": [
  {
   "cell_type": "markdown",
   "metadata": {},
   "source": [
    "# Installing GATK + notes\n",
    "    This page will be a reference for installation, different tutorials and how to call polyploids"
   ]
  },
  {
   "cell_type": "markdown",
   "metadata": {},
   "source": [
    "  #### Get GATK jar and .yml files here:\n",
    "  https://github.com/broadinstitute/gatk/releases\n",
    "  \n",
    "  wget .zip file to a src directory, unzip, run conda install below in that direcoty\n",
    "  \n",
    "  #### directions for conda install here:\n",
    "  https://gatk.broadinstitute.org/hc/en-us/articles/360035889851--How-to-Install-and-use-Conda-for-GATK4\n",
    "  \n",
    "  #### vivaswat notes\n",
    "  https://microcollaborative.atlassian.net/wiki/spaces/BL/pages/73957377/Bioinformatics+for+polyploids\n",
    "  \n",
    "  #### monnahan et al 2019   \n",
    "  \n",
    "  https://github.com/pmonnahan/ArenosaPloidy\n",
    "\n",
    "  \n",
    "  \n",
    "  #### IDEA: \n",
    "  \n",
    "  - call snps with GATK haplotype caller. \n",
    "  - run one per sample with correct ploidy into gvcf\n",
    "  - then use GenotypeGVCF to call snps across all gvcfs, no need to tell ploidy. \n",
    "  \n",
    "  **combine gvcf**\n",
    "-R -o -V\n",
    "\n",
    "**preferred: make genome DB**\n",
    "gatk GenomicsDBImport \\\n",
    "    -V data/gvcfs/mother.g.vcf \\\n",
    "    -V data/gvcfs/father.g.vcf \\\n",
    "    -V data/gvcfs/son.g.vcf \\\n",
    "    --genomicsdb-workspace-path my_database \\\n",
    "\n",
    "**genotype**\n",
    "-R -o -L --includeNonVariantSites -nt 5\n",
    "\n",
    "**select biallelic**\n",
    "-R -o -V -xlSelectType INDEL -xlSelectType MIXED --restrictAllelesTo BIALLELIC\n",
    "\n",
    "**filter**\n",
    "\n",
    "  "
   ]
  },
  {
   "cell_type": "code",
   "execution_count": 1,
   "metadata": {},
   "outputs": [],
   "source": [
    "import sys\n",
    "\n",
    "#sys.path.append('/home/faske/g/anaconda3/envs/py34/lib/python3.4/site-packages')\n",
    "sys.path.append('/data/gpfs/assoc/parchmanlab/tfaske/anaconda3/envs/py36/lib/python3.6/site-packages')\n",
    "sys.path.append(\"/data/gpfs/assoc/parchmanlab/tfaske/ipynb/include_utils\")\n",
    "\n",
    "import ipyparallel as ipp\n",
    "import os, time\n",
    "from os import environ\n",
    "import include_utils as u\n",
    "import pandas as pd\n",
    "import numpy as np\n",
    "import scipy as sp\n",
    "import numbers\n",
    "import matplotlib.pyplot as plt\n",
    "import matplotlib.patches as mpatches\n",
    "import matplotlib.cm as cm\n",
    "import matplotlib.colors as mcolors\n",
    "#import vcf\n",
    "from sklearn import preprocessing\n",
    "from subprocess import Popen, PIPE, call, check_output\n",
    "import seaborn as sns\n",
    "from IPython.display import FileLink\n",
    "import urllib.request as urllib2\n",
    "import dill\n",
    "import traceback\n",
    "from pandas import Series, DataFrame\n",
    "import gzip\n",
    "import warnings\n",
    "warnings.filterwarnings('ignore',category=pd.io.pytables.PerformanceWarning)\n",
    "%config InlineBackend.figure_format = 'retina'\n",
    "from Bio import SeqIO\n",
    "#import pysam\n",
    "from collections import OrderedDict, namedtuple, Counter\n",
    "import operator\n",
    "import multiprocessing as mp\n",
    "import shutil\n",
    "import tempfile\n",
    "#from ipyparallel import Client\n",
    "import scandir\n",
    "import glob\n",
    "from Bio.SeqIO.QualityIO import FastqGeneralIterator\n",
    "import pickle\n",
    "import re\n",
    "from itertools import chain\n",
    "import socket\n",
    "import random\n",
    "#import Levenshtein as lv"
   ]
  },
  {
   "cell_type": "code",
   "execution_count": 2,
   "metadata": {},
   "outputs": [],
   "source": [
    "root = \"/data/gpfs/assoc/denovo/tfaske/sagebrush/denovo\""
   ]
  },
  {
   "cell_type": "code",
   "execution_count": 3,
   "metadata": {},
   "outputs": [],
   "source": [
    "snp_dir = os.path.join(root,'SNPcall')"
   ]
  },
  {
   "cell_type": "code",
   "execution_count": 4,
   "metadata": {},
   "outputs": [],
   "source": [
    "gatk_dir = os.path.join(snp_dir,'gatk')"
   ]
  },
  {
   "cell_type": "code",
   "execution_count": 5,
   "metadata": {
    "ExecuteTime": {}
   },
   "outputs": [],
   "source": [
    "bam_dir = os.path.join(gatk_dir,'good_bams')"
   ]
  },
  {
   "cell_type": "code",
   "execution_count": 6,
   "metadata": {},
   "outputs": [
    {
     "name": "stdout",
     "output_type": "stream",
     "text": [
      "/data/gpfs/assoc/denovo/tfaske/sagebrush/denovo/SNPcall/gatk/good_bams\n"
     ]
    }
   ],
   "source": [
    "cd $bam_dir"
   ]
  },
  {
   "cell_type": "code",
   "execution_count": 7,
   "metadata": {},
   "outputs": [],
   "source": [
    "gatk = '/data/gpfs/home/tfaske/g/src/gatk-4.2.3.0/gatk'"
   ]
  },
  {
   "cell_type": "code",
   "execution_count": 15,
   "metadata": {},
   "outputs": [
    {
     "data": {
      "text/plain": [
       "'/data/gpfs/assoc/denovo/tfaske/sagebrush/denovo/assembly/reference.fasta'"
      ]
     },
     "execution_count": 15,
     "metadata": {},
     "output_type": "execute_result"
    }
   ],
   "source": [
    "#assembly = os.path.join(gatk_dir, \"mapped_fasta/mapped.fasta\")\n",
    "assembly = \"/data/gpfs/assoc/denovo/tfaske/sagebrush/denovo/assembly/reference.fasta\"\n",
    "assert os.path.exists(assembly)\n",
    "assembly\n",
    "#picard CreateSequenceDictionary R=reference.fasta O=reference.dict"
   ]
  },
  {
   "cell_type": "code",
   "execution_count": 148,
   "metadata": {},
   "outputs": [],
   "source": [
    "mapped_bam = []\n",
    "files = !find . -type f -name '*mapped.bam'\n",
    "files = [os.path.abspath(x) for x in files if 'bam' in x]\n",
    "for x in files:\n",
    "    mapped_bam.append(x)\n",
    "mapped_bam = sorted(mapped_bam)"
   ]
  },
  {
   "cell_type": "code",
   "execution_count": 149,
   "metadata": {},
   "outputs": [
    {
     "data": {
      "text/plain": [
       "(695,\n",
       " '/data/gpfs/assoc/denovo/tfaske/sagebrush/denovo/SNPcall/gatk/good_bams/AT2_BB_10_mapped.bam')"
      ]
     },
     "execution_count": 149,
     "metadata": {},
     "output_type": "execute_result"
    }
   ],
   "source": [
    "len(mapped_bam), mapped_bam[0]"
   ]
  },
  {
   "cell_type": "markdown",
   "metadata": {},
   "source": [
    "## SNP CALL with GATK\n",
    "\n",
    "follow that of mohannon et al 2019 nature ecology and evolution\n",
    "\n",
    "-I -R -o --min_base_quality_score 25 --min_mapping_quality_score 25 -rf DuplicateRead -rf BadMate -rf BadCigar -ERC BP_RESOLUTION -R -L -o <fileName_g.vcf.gz> -ploidy -stand_emit_conf 25 -stand_call_conf 25 --pcr_indel_model NONE -nct 4!"
   ]
  },
  {
   "cell_type": "code",
   "execution_count": 151,
   "metadata": {},
   "outputs": [
    {
     "name": "stdout",
     "output_type": "stream",
     "text": [
      "/data/gpfs/assoc/denovo/tfaske/sagebrush/denovo/SNPcall/gatk\n"
     ]
    }
   ],
   "source": [
    "cd $gatk_dir"
   ]
  },
  {
   "cell_type": "code",
   "execution_count": 152,
   "metadata": {},
   "outputs": [
    {
     "name": "stdout",
     "output_type": "stream",
     "text": [
      "mkdir: cannot create directory ‘vcf’: File exists\r\n"
     ]
    }
   ],
   "source": [
    "!mkdir vcf"
   ]
  },
  {
   "cell_type": "code",
   "execution_count": 154,
   "metadata": {},
   "outputs": [],
   "source": [
    "def run_gatk(args):\n",
    "    import os, multiprocessing, socket\n",
    "    gatk, assembly, bam = args\n",
    "    ID = bam.split('/')[11] ### need to change this to match your ID \n",
    "    ID = ID.split('_mapped.bam')[0] ### This too\n",
    "    ploidy = ID.split('_')[0]\n",
    "    ploidy = re.sub(r'\\D','',ploidy)\n",
    "    #print(ID)\n",
    "    #print(ploidy)\n",
    "    #print(out_dir)\n",
    "    cmd = r'%s --java-options \"-Xmx16g\" HaplotypeCaller -R %s -I %s -ploidy %s -O vcf/%s.g.vcf.gz -ERC BP_RESOLUTION' % (gatk,assembly,bam,ploidy,ID)\n",
    "    #cmd = r'%s --java-options \"-Xmx16g\" HaplotypeCaller -R %s -I %s -ploidy %s -O %s/%s.g.vcf.gz -ERC GVCF' % (gatk,assembly,bam,ploidy,out_dir,ID)\n",
    "    return  cmd "
   ]
  },
  {
   "cell_type": "code",
   "execution_count": 155,
   "metadata": {},
   "outputs": [],
   "source": [
    "### creates a list of commands for gatk for each bam\n",
    "res_gatk = []\n",
    "for b in mapped_bam:\n",
    "    res = run_gatk((gatk, assembly, b))\n",
    "    res_gatk.append(res)"
   ]
  },
  {
   "cell_type": "code",
   "execution_count": 156,
   "metadata": {},
   "outputs": [
    {
     "data": {
      "text/plain": [
       "(695,\n",
       " '/data/gpfs/assoc/parchmanlab/tfaske/src/gatk4/gatk --java-options \"-Xmx16g\" HaplotypeCaller -R /data/gpfs/assoc/denovo/tfaske/sagebrush/denovo/assembly/reference.fasta -I /data/gpfs/assoc/denovo/tfaske/sagebrush/denovo/SNPcall/gatk/good_bams/AT2_BB_10_mapped.bam -ploidy 2 -O vcf/AT2_BB_10.g.vcf.gz -ERC BP_RESOLUTION')"
      ]
     },
     "execution_count": 156,
     "metadata": {},
     "output_type": "execute_result"
    }
   ],
   "source": [
    "len(res_gatk),res_gatk[0]"
   ]
  },
  {
   "cell_type": "markdown",
   "metadata": {},
   "source": [
    "#### Below selects options for slurm submission and is a function for creating a slurm script per fastq"
   ]
  },
  {
   "cell_type": "code",
   "execution_count": 157,
   "metadata": {},
   "outputs": [
    {
     "name": "stdout",
     "output_type": "stream",
     "text": [
      "/data/gpfs/assoc/denovo/tfaske/sagebrush/denovo/SNPcall/gatk\n"
     ]
    }
   ],
   "source": [
    "cd $gatk_dir"
   ]
  },
  {
   "cell_type": "code",
   "execution_count": 158,
   "metadata": {},
   "outputs": [
    {
     "name": "stdout",
     "output_type": "stream",
     "text": [
      "mkdir: cannot create directory ‘shdir’: File exists\r\n"
     ]
    }
   ],
   "source": [
    "!mkdir shdir"
   ]
  },
  {
   "cell_type": "code",
   "execution_count": 159,
   "metadata": {},
   "outputs": [],
   "source": [
    "bam_ID = [b.split('/')[11].split('_mapped.bam')[0] for b in mapped_bam]"
   ]
  },
  {
   "cell_type": "code",
   "execution_count": 160,
   "metadata": {},
   "outputs": [
    {
     "data": {
      "text/plain": [
       "(695, 'AT2_BB_10')"
      ]
     },
     "execution_count": 160,
     "metadata": {},
     "output_type": "execute_result"
    }
   ],
   "source": [
    "len(bam_ID), bam_ID[0]"
   ]
  },
  {
   "cell_type": "code",
   "execution_count": 161,
   "metadata": {},
   "outputs": [],
   "source": [
    "### select options for slurm submission\n",
    "#account = 'cpu-s5-denovo-0'\n",
    "#partition = 'cpu-core-0'\n",
    "account = 'cpu-s1-bionres-0'\n",
    "partition = 'cpu-s1-bionres-0'\n",
    "jobname = 'gatk'\n",
    "time = '1-00:00:00' #time limit 1 day\n",
    "cpus = 1\n",
    "mem_cpu = 8000\n",
    "email = 'tfaske@nevada.unr.edu'"
   ]
  },
  {
   "cell_type": "code",
   "execution_count": 162,
   "metadata": {},
   "outputs": [],
   "source": [
    "def write_gatk_ind_sh(account,partition,time,jobname,cpus,mem_cpu,email,bam_ID,gatk_dir,cmds):\n",
    "    #print(account)\n",
    "    #print(partition)\n",
    "    #print(cpus)\n",
    "    #print(email)\n",
    "    #print(cmds[0])\n",
    "    for i in range(0,len(cmds)):\n",
    "        with open(\"shdir/run_gatk_%s.sh\" % (bam_ID[i]), \"w\") as o:\n",
    "            o.write(\"\"\"#!/usr/bin/env bash\n",
    "#SBATCH --account=%s\n",
    "#SBATCH --partition=%s\n",
    "#SBATCH --time=%s\n",
    "#SBATCH --ntasks 1\n",
    "#SBATCH --cpus-per-task %d\n",
    "#SBATCH --mem-per-cpu=%d\n",
    "#SBATCH --job-name %s_gatk\n",
    "#SBATCH --output shdir/output_gatk_%s.txt\n",
    "#SBATCH --mail-type=FAIL\n",
    "#SBATCH --mail-user=%s \\n\n",
    "\n",
    "cd %s\\n\n",
    "    \n",
    "%s \\n\n",
    "\"\"\" % (account,partition,time,int(cpus),int(mem_cpu),bam_ID[i],bam_ID[i],email,gatk_dir,cmds[i]))\n",
    "            "
   ]
  },
  {
   "cell_type": "code",
   "execution_count": 163,
   "metadata": {},
   "outputs": [],
   "source": [
    "write_gatk_ind_sh(account,partition,time,jobname,cpus,mem_cpu,email,bam_ID,gatk_dir,res_gatk)"
   ]
  },
  {
   "cell_type": "markdown",
   "metadata": {},
   "source": [
    "#### finds all bwa slurm scripts and writes bash script to sbatch them"
   ]
  },
  {
   "cell_type": "code",
   "execution_count": 164,
   "metadata": {},
   "outputs": [],
   "source": [
    "shbwa_files = []\n",
    "os.chdir('{}/{}'.format(gatk_dir, 'shdir'))\n",
    "files = !find . -name '*.sh'\n",
    "files = [os.path.abspath(x) for x in files]\n",
    "for x in files:\n",
    "        shbwa_files.append(x)\n",
    "shbwa_files = sorted(shbwa_files)"
   ]
  },
  {
   "cell_type": "code",
   "execution_count": 165,
   "metadata": {},
   "outputs": [
    {
     "data": {
      "text/plain": [
       "(695,\n",
       " '/data/gpfs/assoc/denovo/tfaske/sagebrush/denovo/SNPcall/gatk/shdir/run_gatk_AT2_BB_1.sh')"
      ]
     },
     "execution_count": 165,
     "metadata": {},
     "output_type": "execute_result"
    }
   ],
   "source": [
    "len(shbwa_files),shbwa_files[0]"
   ]
  },
  {
   "cell_type": "code",
   "execution_count": 166,
   "metadata": {},
   "outputs": [],
   "source": [
    "def write_bash_gatk_sh(sh_files):\n",
    "    with open(\"run_bash_gatk.sh\", \"w\") as o:\n",
    "        o.write(\"\"\"#!/usr/bin/env bash \\n\\n\"\"\")\n",
    "        for f in sh_files:\n",
    "            o.write(\"sbatch %s \\n\" % (f))    "
   ]
  },
  {
   "cell_type": "code",
   "execution_count": 167,
   "metadata": {},
   "outputs": [
    {
     "name": "stdout",
     "output_type": "stream",
     "text": [
      "/data/gpfs/assoc/denovo/tfaske/sagebrush/denovo/SNPcall/gatk\n"
     ]
    }
   ],
   "source": [
    "cd $gatk_dir"
   ]
  },
  {
   "cell_type": "code",
   "execution_count": 168,
   "metadata": {},
   "outputs": [],
   "source": [
    "write_bash_gatk_sh(shbwa_files)"
   ]
  },
  {
   "cell_type": "markdown",
   "metadata": {},
   "source": [
    "### Run run_bash_gatk_sh locally\n",
    "    cd /data/gpfs/assoc/denovo/tfaske/sagebrush/SNPcall \n",
    "    source activate py36\n",
    "    bash run_bash_gatk.sh\n"
   ]
  },
  {
   "cell_type": "markdown",
   "metadata": {},
   "source": [
    "## Reblock gvcf\n",
    "\n",
    "https://gatk.broadinstitute.org/hc/en-us/articles/4405443600667-ReblockGVCF\n",
    "\n",
    "This strategy drops Uncalled alleles and associated data will also be dropped unless --keep-all-alts is specified.\n",
    "\n",
    "This will help with GenomicsDBimport.\n",
    "\n",
    " gatk ReblockGVCF \\\n",
    "   -R reference.fasta \\\n",
    "   -V sample1.g.vcf \\\n",
    "   -O sample1.rb.g.vcf\n",
    "   -ploidy "
   ]
  },
  {
   "cell_type": "code",
   "execution_count": 393,
   "metadata": {},
   "outputs": [
    {
     "name": "stdout",
     "output_type": "stream",
     "text": [
      "/data/gpfs/assoc/denovo/tfaske/sagebrush/denovo/SNPcall/gatk\n"
     ]
    }
   ],
   "source": [
    "cd $gatk_dir"
   ]
  },
  {
   "cell_type": "code",
   "execution_count": 364,
   "metadata": {},
   "outputs": [],
   "source": [
    "!mkdir reblock"
   ]
  },
  {
   "cell_type": "code",
   "execution_count": 365,
   "metadata": {},
   "outputs": [],
   "source": [
    "!mkdir reblock/shdir"
   ]
  },
  {
   "cell_type": "code",
   "execution_count": 394,
   "metadata": {},
   "outputs": [],
   "source": [
    "vcfs = !ls vcf/*g.vcf.gz | grep -v tbi | grep -v sorted\n",
    "vcfs = [os.path.abspath(x) for x in vcfs]"
   ]
  },
  {
   "cell_type": "code",
   "execution_count": 395,
   "metadata": {},
   "outputs": [
    {
     "data": {
      "text/plain": [
       "(695,\n",
       " '/data/gpfs/assoc/denovo/tfaske/sagebrush/denovo/SNPcall/gatk/vcf/AT2_BB_10.g.vcf.gz')"
      ]
     },
     "execution_count": 395,
     "metadata": {},
     "output_type": "execute_result"
    }
   ],
   "source": [
    "len(vcfs),vcfs[0]"
   ]
  },
  {
   "cell_type": "code",
   "execution_count": 418,
   "metadata": {},
   "outputs": [],
   "source": [
    "def run_rb(args):\n",
    "    gatk, assembly, vcf = args\n",
    "    ID = vcf.split('/')[11] ### need to change this to match your ID \n",
    "    ID = ID.split('.g.vcf.gz')[0] ### This too\n",
    "    ploidy = ID.split('_')[0]\n",
    "    ploidy = re.sub(r'\\D','',ploidy)\n",
    "    cmd = r'%s --java-options \"-Xmx2g\" ReblockGVCF -R %s -V %s -ploidy %s -O reblock/%s.rb.g.vcf.gz' % (gatk,assembly,vcf,ploidy,ID)\n",
    "    return  cmd "
   ]
  },
  {
   "cell_type": "code",
   "execution_count": 419,
   "metadata": {},
   "outputs": [],
   "source": [
    "rb_cmds = []\n",
    "for vcf in vcfs: \n",
    "    rb_cmds.append(run_rb((gatk, assembly, vcf)))"
   ]
  },
  {
   "cell_type": "code",
   "execution_count": 420,
   "metadata": {},
   "outputs": [
    {
     "data": {
      "text/plain": [
       "(695,\n",
       " '/data/gpfs/assoc/parchmanlab/tfaske/src/gatk4/gatk --java-options \"-Xmx2g\" ReblockGVCF -R /data/gpfs/assoc/denovo/tfaske/sagebrush/denovo/assembly/reference.fasta -V /data/gpfs/assoc/denovo/tfaske/sagebrush/denovo/SNPcall/gatk/vcf/AT4_WT_2.g.vcf.gz -ploidy 4 -O reblock/AT4_WT_2.rb.g.vcf.gz')"
      ]
     },
     "execution_count": 420,
     "metadata": {},
     "output_type": "execute_result"
    }
   ],
   "source": [
    "len(rb_cmds),rb_cmds[250]"
   ]
  },
  {
   "cell_type": "code",
   "execution_count": 421,
   "metadata": {},
   "outputs": [],
   "source": [
    "### select options for slurm submission\n",
    "#account = 'cpu-s5-denovo-0'\n",
    "#partition = 'cpu-core-0'\n",
    "account = 'cpu-s1-bionres-0'\n",
    "partition = 'cpu-s1-bionres-0'\n",
    "jobname = 'gatk'\n",
    "time = '0-01:00:00' #time limit 1 hour\n",
    "cpus = 1\n",
    "mem_cpu = 2000\n",
    "email = 'tfaske@nevada.unr.edu'"
   ]
  },
  {
   "cell_type": "code",
   "execution_count": 422,
   "metadata": {},
   "outputs": [],
   "source": [
    "def write_rb_sh(account,partition,time,jobname,cpus,mem_cpu,email,gatk_dir,cmds,vcfs):\n",
    "    for i in range(0,len(cmds)):\n",
    "        ID = vcfs[i].split('/')[11].split('.g.vcf.gz')[0]\n",
    "        with open(\"reblock/shdir/run_rb_%s.sh\" % (ID), \"w\") as o:\n",
    "            o.write(\"\"\"#!/usr/bin/env bash\n",
    "#SBATCH --account=%s\n",
    "#SBATCH --partition=%s\n",
    "#SBATCH --time=%s\n",
    "#SBATCH --ntasks 1\n",
    "#SBATCH --cpus-per-task %d\n",
    "#SBATCH --mem-per-cpu=%d\n",
    "#SBATCH --job-name rb_%s\n",
    "#SBATCH --output reblock/shdir/output_rb_%s.txt\n",
    "#SBATCH --mail-type=FAIL\n",
    "#SBATCH --mail-user=%s \\n\n",
    "\n",
    "cd %s\\n\n",
    "    \n",
    "%s\\n\"\"\" % (account,partition,time,int(cpus),int(mem_cpu),ID,ID,email,gatk_dir,cmds[i]))\n",
    "            "
   ]
  },
  {
   "cell_type": "code",
   "execution_count": 423,
   "metadata": {},
   "outputs": [],
   "source": [
    "write_rb_sh(account,partition,time,jobname,cpus,mem_cpu,email,gatk_dir,rb_cmds,vcfs)"
   ]
  },
  {
   "cell_type": "markdown",
   "metadata": {},
   "source": [
    "**finds all rb slurm scripts and writes bash script to sbatch them**"
   ]
  },
  {
   "cell_type": "code",
   "execution_count": 413,
   "metadata": {},
   "outputs": [],
   "source": [
    "shrb_files = []\n",
    "os.chdir('{}/{}'.format(gatk_dir, 'reblock/shdir'))\n",
    "files = !find . -name '*.sh'\n",
    "files = [os.path.abspath(x) for x in files]\n",
    "for x in files:\n",
    "        shrb_files.append(x)\n",
    "shrb_files = sorted(shrb_files)"
   ]
  },
  {
   "cell_type": "code",
   "execution_count": 414,
   "metadata": {},
   "outputs": [
    {
     "data": {
      "text/plain": [
       "(695,\n",
       " '/data/gpfs/assoc/denovo/tfaske/sagebrush/denovo/SNPcall/gatk/reblock/shdir/run_rb_AT2_BB_1.sh')"
      ]
     },
     "execution_count": 414,
     "metadata": {},
     "output_type": "execute_result"
    }
   ],
   "source": [
    "len(shrb_files),shrb_files[0]"
   ]
  },
  {
   "cell_type": "code",
   "execution_count": 415,
   "metadata": {},
   "outputs": [],
   "source": [
    "def write_bash_rb_sh(sh_files):\n",
    "    with open(\"run_bash_rb.sh\", \"w\") as o:\n",
    "        o.write(\"\"\"#!/usr/bin/env bash \\n\\n\"\"\")\n",
    "        for f in sh_files:\n",
    "            o.write(\"sbatch %s \\n\" % (f))  "
   ]
  },
  {
   "cell_type": "code",
   "execution_count": 416,
   "metadata": {},
   "outputs": [
    {
     "name": "stdout",
     "output_type": "stream",
     "text": [
      "/data/gpfs/assoc/denovo/tfaske/sagebrush/denovo/SNPcall/gatk\n"
     ]
    }
   ],
   "source": [
    "cd $gatk_dir"
   ]
  },
  {
   "cell_type": "code",
   "execution_count": 417,
   "metadata": {},
   "outputs": [],
   "source": [
    "write_bash_rb_sh(shrb_files)"
   ]
  },
  {
   "cell_type": "markdown",
   "metadata": {},
   "source": [
    "## consider CombineGVCFs instead\n",
    "\n",
    "GenomicsDBimport is better but a nightmare\n",
    "\n",
    "https://gatk.broadinstitute.org/hc/en-us/articles/360037053272-CombineGVCFs\n",
    "\n",
    " gatk CombineGVCFs \\\n",
    "   -R reference.fasta \\\n",
    "   --variant sample1.g.vcf.gz \\\n",
    "   --variant sample2.g.vcf.gz \\\n",
    "   -O cohort.g.vcf.gz"
   ]
  },
  {
   "cell_type": "code",
   "execution_count": null,
   "metadata": {},
   "outputs": [],
   "source": [
    "cd $gatk_dir"
   ]
  },
  {
   "cell_type": "code",
   "execution_count": 424,
   "metadata": {},
   "outputs": [],
   "source": [
    "!mkdir cohort"
   ]
  },
  {
   "cell_type": "code",
   "execution_count": 435,
   "metadata": {},
   "outputs": [],
   "source": [
    "vcfs = !ls reblock/*rb.g.vcf.gz | grep -v tbi | grep -v sorted\n",
    "vcfs = [os.path.abspath(x) for x in vcfs]"
   ]
  },
  {
   "cell_type": "code",
   "execution_count": 436,
   "metadata": {},
   "outputs": [
    {
     "data": {
      "text/plain": [
       "(695,\n",
       " '/data/gpfs/assoc/denovo/tfaske/sagebrush/denovo/SNPcall/gatk/reblock/AT2_BB_10.rb.g.vcf.gz')"
      ]
     },
     "execution_count": 436,
     "metadata": {},
     "output_type": "execute_result"
    }
   ],
   "source": [
    "len(vcfs),vcfs[0]"
   ]
  },
  {
   "cell_type": "code",
   "execution_count": 445,
   "metadata": {},
   "outputs": [],
   "source": [
    "with open(\"cohort/vcf.list\", \"w\") as o:\n",
    "    for vcf in vcfs:\n",
    "        o.write(\"%s\\n\" % (vcf))"
   ]
  },
  {
   "cell_type": "code",
   "execution_count": 454,
   "metadata": {},
   "outputs": [],
   "source": [
    "### select options for slurm submission\n",
    "account = 'cpu-s5-denovo-0'\n",
    "partition = 'cpu-core-0'\n",
    "#account = 'cpu-s1-bionres-0'\n",
    "#partition = 'cpu-s1-bionres-0'\n",
    "jobname = 'gatk'\n",
    "time = '2-00:00:00' #time limit 1 day\n",
    "cpus = 1\n",
    "mem_cpu = 80000\n",
    "email = 'tfaske@nevada.unr.edu'"
   ]
  },
  {
   "cell_type": "code",
   "execution_count": 460,
   "metadata": {},
   "outputs": [],
   "source": [
    "def write_combine_sh(account,partition,time,jobname,cpus,mem_cpu,email,bam_ID,gatk,gatk_dir,assembly):\n",
    "    with open(\"run_combineGVCF.sh\", \"w\") as o:\n",
    "        o.write(\"\"\"#!/usr/bin/env bash\n",
    "#SBATCH --account=%s\n",
    "#SBATCH --partition=%s\n",
    "#SBATCH --time=%s\n",
    "#SBATCH --ntasks 1\n",
    "#SBATCH --cpus-per-task %d\n",
    "#SBATCH --mem-per-cpu=%d\n",
    "#SBATCH --job-name combineGVCF\n",
    "#SBATCH --output cohort/output_combineGVCF.txt\n",
    "#SBATCH --mail-type=FAIL\n",
    "#SBATCH --mail-user=%s \\n\n",
    "\n",
    "cd %s\\n\n",
    "    \n",
    "%s --java-options \"-Xmx80g\" CombineGVCFs -R %s -V cohort/vcf.list -O cohort/cohort.rb.g.vcf.gz \\n\n",
    "\"\"\" % (account,partition,time,int(cpus),int(mem_cpu),email,gatk_dir,gatk,assembly))\n",
    "            "
   ]
  },
  {
   "cell_type": "code",
   "execution_count": 461,
   "metadata": {},
   "outputs": [],
   "source": [
    "write_combine_sh(account,partition,time,jobname,cpus,mem_cpu,email,bam_ID,gatk,gatk_dir,assembly)"
   ]
  },
  {
   "cell_type": "markdown",
   "metadata": {},
   "source": [
    "### GenomicsDBimport \n",
    "\n",
    "    gatk --java-options \"-Xmx4g -Xms4g\" \\\n",
    "       GenomicsDBImport \\\n",
    "       --genomicsdb-workspace-path my_database \\\n",
    "       --batch-size 50 \\\n",
    "       --sample-name-map cohort.sample_map \\\n",
    "       --tmp-dir=/path/to/large/tmp \\\n",
    "       --reader-threads 2\n",
    "       -L interval.list\n",
    "       \n",
    "   **sample map**  \n",
    "     sample1      sample1.vcf.gz  \n",
    "     sample2      sample2.vcf.gz  \n",
    "     sample3      sample3.vcf.gz  \n",
    "     \n",
    "   **interval list**\n",
    "   -L intervals.list  \n",
    "   *chr* \\n  \n",
    "    \n",
    "   **this step takes forever.**  \n",
    "   make 100 interval lists to submit 100 jobs. \n",
    "   \n",
    "   **check this out for file issues**   \n",
    "   https://gatk.broadinstitute.org/hc/en-us/articles/360056138571-GenomicsDBImport-usage-and-performance-guidelines\n",
    "   \n",
    "    As of this writing, an upcoming GATK release will include a feature that will substantially boost the niche case where users have many small contigs (>100, although there are cases with over 500k). In this case, the --merge-input-intervals flag will not help, and so we suggest using the --merge-contigs-into-num-partitions and setting it to something less than 100.\n",
    "    \n",
    "    --bypass-feature-reader \n",
    "    \n",
    "      Use the consolidate flag if more than a hundred batches were used. This will improve\n",
    "                              feature read time."
   ]
  },
  {
   "cell_type": "code",
   "execution_count": 11,
   "metadata": {},
   "outputs": [
    {
     "name": "stdout",
     "output_type": "stream",
     "text": [
      "/data/gpfs/assoc/denovo/tfaske/sagebrush/denovo/SNPcall/gatk\n"
     ]
    }
   ],
   "source": [
    "cd $gatk_dir"
   ]
  },
  {
   "cell_type": "code",
   "execution_count": 42,
   "metadata": {},
   "outputs": [],
   "source": [
    "!mkdir db"
   ]
  },
  {
   "cell_type": "code",
   "execution_count": 43,
   "metadata": {},
   "outputs": [],
   "source": [
    "!mkdir db/shdir"
   ]
  },
  {
   "cell_type": "code",
   "execution_count": 44,
   "metadata": {},
   "outputs": [
    {
     "name": "stdout",
     "output_type": "stream",
     "text": [
      "mkdir: cannot create directory ‘intervals’: File exists\r\n"
     ]
    }
   ],
   "source": [
    "!mkdir intervals"
   ]
  },
  {
   "cell_type": "markdown",
   "metadata": {},
   "source": [
    "**Use reblock g.vcf**"
   ]
  },
  {
   "cell_type": "code",
   "execution_count": 12,
   "metadata": {},
   "outputs": [],
   "source": [
    "vcfs = !ls reblock/*rb.g.vcf.gz | grep -v tbi | grep -v sorted\n",
    "vcfs = [os.path.abspath(x) for x in vcfs]"
   ]
  },
  {
   "cell_type": "code",
   "execution_count": 13,
   "metadata": {},
   "outputs": [
    {
     "data": {
      "text/plain": [
       "(695,\n",
       " '/data/gpfs/assoc/denovo/tfaske/sagebrush/denovo/SNPcall/gatk/reblock/AT2_BB_10.rb.g.vcf.gz')"
      ]
     },
     "execution_count": 13,
     "metadata": {},
     "output_type": "execute_result"
    }
   ],
   "source": [
    "len(vcfs),vcfs[0]"
   ]
  },
  {
   "cell_type": "markdown",
   "metadata": {},
   "source": [
    "**get pos file to make interval list**\n",
    "\n",
    "zgrep \"^[^#]\" file.vcf.gz | awk '{print $2}'"
   ]
  },
  {
   "cell_type": "code",
   "execution_count": 29,
   "metadata": {},
   "outputs": [],
   "source": [
    "f = vcfs[0]\n",
    "environ['f'] = f\n",
    "interval = !zgrep \"^[^#]\" $f | awk '{print $1}'"
   ]
  },
  {
   "cell_type": "code",
   "execution_count": 30,
   "metadata": {},
   "outputs": [],
   "source": [
    "interval_list = [x for x in interval]"
   ]
  },
  {
   "cell_type": "code",
   "execution_count": 31,
   "metadata": {},
   "outputs": [
    {
     "data": {
      "text/plain": [
       "(61970,\n",
       " ['dDocent_Contig_124214',\n",
       "  'dDocent_Contig_113311',\n",
       "  'dDocent_Contig_128784',\n",
       "  'dDocent_Contig_187280',\n",
       "  'dDocent_Contig_3797',\n",
       "  'dDocent_Contig_245058',\n",
       "  'dDocent_Contig_45492',\n",
       "  'dDocent_Contig_356422',\n",
       "  'dDocent_Contig_229452',\n",
       "  'dDocent_Contig_264425'])"
      ]
     },
     "execution_count": 31,
     "metadata": {},
     "output_type": "execute_result"
    }
   ],
   "source": [
    "interval_list = list(set(interval_list))\n",
    "len(interval_list),interval_list[:10]"
   ]
  },
  {
   "cell_type": "code",
   "execution_count": 32,
   "metadata": {},
   "outputs": [],
   "source": [
    "with open(\"intervals/interval_all.txt\", \"w\") as o:\n",
    "    for i in interval_list:\n",
    "        o.write(\"%s\\n\" % (i))"
   ]
  },
  {
   "cell_type": "code",
   "execution_count": 33,
   "metadata": {},
   "outputs": [
    {
     "name": "stdout",
     "output_type": "stream",
     "text": [
      "61970 625\n"
     ]
    }
   ],
   "source": [
    "def create_split_intervals(nodes, interval):\n",
    "    lines = 0\n",
    "    for line in open(interval):\n",
    "        lines += 1\n",
    "    print(lines, lines//nodes)\n",
    "    per_interval = lines//nodes\n",
    "    cmd = \"split -a 3 -d -l %d %s intervals/interval.\" % (per_interval, interval)\n",
    "    !$cmd\n",
    "    #call(cmd.split())\n",
    "create_split_intervals(99, \"intervals/interval_all.txt\") #nodes -1 "
   ]
  },
  {
   "cell_type": "code",
   "execution_count": 34,
   "metadata": {},
   "outputs": [],
   "source": [
    "intervals = !ls intervals/interval.*\n",
    "intervals = [os.path.abspath(x) for x in intervals]"
   ]
  },
  {
   "cell_type": "code",
   "execution_count": 35,
   "metadata": {},
   "outputs": [
    {
     "data": {
      "text/plain": [
       "(100,\n",
       " '/data/gpfs/assoc/denovo/tfaske/sagebrush/denovo/SNPcall/gatk/intervals/interval.000')"
      ]
     },
     "execution_count": 35,
     "metadata": {},
     "output_type": "execute_result"
    }
   ],
   "source": [
    "len(intervals),intervals[0]"
   ]
  },
  {
   "cell_type": "code",
   "execution_count": 36,
   "metadata": {},
   "outputs": [],
   "source": [
    "## rename intervals to end in .list\n",
    "for i in intervals:\n",
    "    new_int = i + '.list'\n",
    "    !mv $i $new_int"
   ]
  },
  {
   "cell_type": "code",
   "execution_count": 37,
   "metadata": {},
   "outputs": [],
   "source": [
    "def make_sample_maps(vcfs):\n",
    "    with open(\"reblock/sample_map.txt\", \"w\") as o:\n",
    "        for vcf in vcfs: \n",
    "            sample = vcf.split('/')[11].split('.rg.g.vcf.gz')[0]\n",
    "            #print(sample)\n",
    "            o.write(\"%s\\t%s\\n\" % (sample,vcf))"
   ]
  },
  {
   "cell_type": "code",
   "execution_count": 38,
   "metadata": {},
   "outputs": [],
   "source": [
    "make_sample_maps(vcfs)"
   ]
  },
  {
   "cell_type": "code",
   "execution_count": 54,
   "metadata": {},
   "outputs": [],
   "source": [
    "def run_gen_db(args):\n",
    "    gatk,inter = args\n",
    "    cmd = r'%s --java-options \"-Xmx16g -Xms16g\" GenomicsDBImport --genomicsdb-workspace-path db/gen_db.%s --batch-size 50 --sample-name-map vcf/sample_map.txt -L intervals/interval.%s.list --tmp-dir db/tmp.%s --consolidate true --bypass-feature-reader --merge-contigs-into-num-partitions 50' % (gatk,inter,inter,inter)\n",
    "    return  cmd "
   ]
  },
  {
   "cell_type": "code",
   "execution_count": 55,
   "metadata": {},
   "outputs": [],
   "source": [
    "db_cmds = []\n",
    "for inter in intervals: \n",
    "    i = inter.split('.')[1]\n",
    "    #print(i)\n",
    "    db_cmds.append(run_gen_db((gatk,i)))"
   ]
  },
  {
   "cell_type": "code",
   "execution_count": 56,
   "metadata": {},
   "outputs": [
    {
     "data": {
      "text/plain": [
       "(100,\n",
       " '/data/gpfs/home/tfaske/g/src/gatk-4.2.3.0/gatk --java-options \"-Xmx16g -Xms16g\" GenomicsDBImport --genomicsdb-workspace-path db/gen_db.000 --batch-size 50 --sample-name-map vcf/sample_map.txt -L intervals/interval.000.list --tmp-dir db/tmp.000 --consolidate true --bypass-feature-reader --merge-contigs-into-num-partitions 50')"
      ]
     },
     "execution_count": 56,
     "metadata": {},
     "output_type": "execute_result"
    }
   ],
   "source": [
    "len(db_cmds),db_cmds[0]"
   ]
  },
  {
   "cell_type": "markdown",
   "metadata": {},
   "source": [
    "**make db/tmp.XXX dir**"
   ]
  },
  {
   "cell_type": "code",
   "execution_count": 57,
   "metadata": {},
   "outputs": [
    {
     "name": "stdout",
     "output_type": "stream",
     "text": [
      "mkdir: cannot create directory ‘db/tmp.000’: File exists\n",
      "mkdir: cannot create directory ‘db/tmp.001’: File exists\n",
      "mkdir: cannot create directory ‘db/tmp.002’: File exists\n",
      "mkdir: cannot create directory ‘db/tmp.003’: File exists\n",
      "mkdir: cannot create directory ‘db/tmp.004’: File exists\n",
      "mkdir: cannot create directory ‘db/tmp.005’: File exists\n",
      "mkdir: cannot create directory ‘db/tmp.006’: File exists\n",
      "mkdir: cannot create directory ‘db/tmp.007’: File exists\n",
      "mkdir: cannot create directory ‘db/tmp.008’: File exists\n",
      "mkdir: cannot create directory ‘db/tmp.009’: File exists\n",
      "mkdir: cannot create directory ‘db/tmp.010’: File exists\n",
      "mkdir: cannot create directory ‘db/tmp.011’: File exists\n",
      "mkdir: cannot create directory ‘db/tmp.012’: File exists\n",
      "mkdir: cannot create directory ‘db/tmp.013’: File exists\n",
      "mkdir: cannot create directory ‘db/tmp.014’: File exists\n",
      "mkdir: cannot create directory ‘db/tmp.015’: File exists\n",
      "mkdir: cannot create directory ‘db/tmp.016’: File exists\n",
      "mkdir: cannot create directory ‘db/tmp.017’: File exists\n",
      "mkdir: cannot create directory ‘db/tmp.018’: File exists\n",
      "mkdir: cannot create directory ‘db/tmp.019’: File exists\n",
      "mkdir: cannot create directory ‘db/tmp.020’: File exists\n",
      "mkdir: cannot create directory ‘db/tmp.021’: File exists\n",
      "mkdir: cannot create directory ‘db/tmp.022’: File exists\n",
      "mkdir: cannot create directory ‘db/tmp.023’: File exists\n",
      "mkdir: cannot create directory ‘db/tmp.024’: File exists\n",
      "mkdir: cannot create directory ‘db/tmp.025’: File exists\n",
      "mkdir: cannot create directory ‘db/tmp.026’: File exists\n",
      "mkdir: cannot create directory ‘db/tmp.027’: File exists\n",
      "mkdir: cannot create directory ‘db/tmp.028’: File exists\n",
      "mkdir: cannot create directory ‘db/tmp.029’: File exists\n",
      "mkdir: cannot create directory ‘db/tmp.030’: File exists\n",
      "mkdir: cannot create directory ‘db/tmp.031’: File exists\n",
      "mkdir: cannot create directory ‘db/tmp.032’: File exists\n",
      "mkdir: cannot create directory ‘db/tmp.033’: File exists\n",
      "mkdir: cannot create directory ‘db/tmp.034’: File exists\n",
      "mkdir: cannot create directory ‘db/tmp.035’: File exists\n",
      "mkdir: cannot create directory ‘db/tmp.036’: File exists\n",
      "mkdir: cannot create directory ‘db/tmp.037’: File exists\n",
      "mkdir: cannot create directory ‘db/tmp.038’: File exists\n",
      "mkdir: cannot create directory ‘db/tmp.039’: File exists\n",
      "mkdir: cannot create directory ‘db/tmp.040’: File exists\n",
      "mkdir: cannot create directory ‘db/tmp.041’: File exists\n",
      "mkdir: cannot create directory ‘db/tmp.042’: File exists\n",
      "mkdir: cannot create directory ‘db/tmp.043’: File exists\n",
      "mkdir: cannot create directory ‘db/tmp.044’: File exists\n",
      "mkdir: cannot create directory ‘db/tmp.045’: File exists\n",
      "mkdir: cannot create directory ‘db/tmp.046’: File exists\n",
      "mkdir: cannot create directory ‘db/tmp.047’: File exists\n",
      "mkdir: cannot create directory ‘db/tmp.048’: File exists\n",
      "mkdir: cannot create directory ‘db/tmp.049’: File exists\n",
      "mkdir: cannot create directory ‘db/tmp.050’: File exists\n",
      "mkdir: cannot create directory ‘db/tmp.051’: File exists\n",
      "mkdir: cannot create directory ‘db/tmp.052’: File exists\n",
      "mkdir: cannot create directory ‘db/tmp.053’: File exists\n",
      "mkdir: cannot create directory ‘db/tmp.054’: File exists\n",
      "mkdir: cannot create directory ‘db/tmp.055’: File exists\n",
      "mkdir: cannot create directory ‘db/tmp.056’: File exists\n",
      "mkdir: cannot create directory ‘db/tmp.057’: File exists\n",
      "mkdir: cannot create directory ‘db/tmp.058’: File exists\n",
      "mkdir: cannot create directory ‘db/tmp.059’: File exists\n",
      "mkdir: cannot create directory ‘db/tmp.060’: File exists\n",
      "mkdir: cannot create directory ‘db/tmp.061’: File exists\n",
      "mkdir: cannot create directory ‘db/tmp.062’: File exists\n",
      "mkdir: cannot create directory ‘db/tmp.063’: File exists\n",
      "mkdir: cannot create directory ‘db/tmp.064’: File exists\n",
      "mkdir: cannot create directory ‘db/tmp.065’: File exists\n",
      "mkdir: cannot create directory ‘db/tmp.066’: File exists\n",
      "mkdir: cannot create directory ‘db/tmp.067’: File exists\n",
      "mkdir: cannot create directory ‘db/tmp.068’: File exists\n",
      "mkdir: cannot create directory ‘db/tmp.069’: File exists\n",
      "mkdir: cannot create directory ‘db/tmp.070’: File exists\n",
      "mkdir: cannot create directory ‘db/tmp.071’: File exists\n",
      "mkdir: cannot create directory ‘db/tmp.072’: File exists\n"
     ]
    },
    {
     "ename": "UnboundLocalError",
     "evalue": "local variable 'child' referenced before assignment",
     "output_type": "error",
     "traceback": [
      "\u001b[0;31m----------------------------------------------------------------\u001b[0m",
      "\u001b[0;31mKeyboardInterrupt\u001b[0m              Traceback (most recent call last)",
      "\u001b[0;32m/data/gpfs/assoc/parchmanlab/tfaske/anaconda3/envs/py36/lib/python3.6/site-packages/IPython/utils/_process_posix.py\u001b[0m in \u001b[0;36msystem\u001b[0;34m(self, cmd)\u001b[0m\n\u001b[1;32m    155\u001b[0m             \u001b[0;32melse\u001b[0m\u001b[0;34m:\u001b[0m\u001b[0;34m\u001b[0m\u001b[0;34m\u001b[0m\u001b[0m\n\u001b[0;32m--> 156\u001b[0;31m                 \u001b[0mchild\u001b[0m \u001b[0;34m=\u001b[0m \u001b[0mpexpect\u001b[0m\u001b[0;34m.\u001b[0m\u001b[0mspawn\u001b[0m\u001b[0;34m(\u001b[0m\u001b[0mself\u001b[0m\u001b[0;34m.\u001b[0m\u001b[0msh\u001b[0m\u001b[0;34m,\u001b[0m \u001b[0margs\u001b[0m\u001b[0;34m=\u001b[0m\u001b[0;34m[\u001b[0m\u001b[0;34m'-c'\u001b[0m\u001b[0;34m,\u001b[0m \u001b[0mcmd\u001b[0m\u001b[0;34m]\u001b[0m\u001b[0;34m)\u001b[0m  \u001b[0;31m# Vanilla Pexpect\u001b[0m\u001b[0;34m\u001b[0m\u001b[0;34m\u001b[0m\u001b[0m\n\u001b[0m\u001b[1;32m    157\u001b[0m             \u001b[0mflush\u001b[0m \u001b[0;34m=\u001b[0m \u001b[0msys\u001b[0m\u001b[0;34m.\u001b[0m\u001b[0mstdout\u001b[0m\u001b[0;34m.\u001b[0m\u001b[0mflush\u001b[0m\u001b[0;34m\u001b[0m\u001b[0;34m\u001b[0m\u001b[0m\n",
      "\u001b[0;32m/data/gpfs/assoc/parchmanlab/tfaske/anaconda3/envs/py36/lib/python3.6/site-packages/pexpect/pty_spawn.py\u001b[0m in \u001b[0;36m__init__\u001b[0;34m(self, command, args, timeout, maxread, searchwindowsize, logfile, cwd, env, ignore_sighup, echo, preexec_fn, encoding, codec_errors, dimensions, use_poll)\u001b[0m\n\u001b[1;32m    203\u001b[0m         \u001b[0;32melse\u001b[0m\u001b[0;34m:\u001b[0m\u001b[0;34m\u001b[0m\u001b[0;34m\u001b[0m\u001b[0m\n\u001b[0;32m--> 204\u001b[0;31m             \u001b[0mself\u001b[0m\u001b[0;34m.\u001b[0m\u001b[0m_spawn\u001b[0m\u001b[0;34m(\u001b[0m\u001b[0mcommand\u001b[0m\u001b[0;34m,\u001b[0m \u001b[0margs\u001b[0m\u001b[0;34m,\u001b[0m \u001b[0mpreexec_fn\u001b[0m\u001b[0;34m,\u001b[0m \u001b[0mdimensions\u001b[0m\u001b[0;34m)\u001b[0m\u001b[0;34m\u001b[0m\u001b[0;34m\u001b[0m\u001b[0m\n\u001b[0m\u001b[1;32m    205\u001b[0m         \u001b[0mself\u001b[0m\u001b[0;34m.\u001b[0m\u001b[0muse_poll\u001b[0m \u001b[0;34m=\u001b[0m \u001b[0muse_poll\u001b[0m\u001b[0;34m\u001b[0m\u001b[0;34m\u001b[0m\u001b[0m\n",
      "\u001b[0;32m/data/gpfs/assoc/parchmanlab/tfaske/anaconda3/envs/py36/lib/python3.6/site-packages/pexpect/pty_spawn.py\u001b[0m in \u001b[0;36m_spawn\u001b[0;34m(self, command, args, preexec_fn, dimensions)\u001b[0m\n\u001b[1;32m    302\u001b[0m         self.ptyproc = self._spawnpty(self.args, env=self.env,\n\u001b[0;32m--> 303\u001b[0;31m                                      cwd=self.cwd, **kwargs)\n\u001b[0m\u001b[1;32m    304\u001b[0m \u001b[0;34m\u001b[0m\u001b[0m\n",
      "\u001b[0;32m/data/gpfs/assoc/parchmanlab/tfaske/anaconda3/envs/py36/lib/python3.6/site-packages/pexpect/pty_spawn.py\u001b[0m in \u001b[0;36m_spawnpty\u001b[0;34m(self, args, **kwargs)\u001b[0m\n\u001b[1;32m    313\u001b[0m         \u001b[0;34m'''Spawn a pty and return an instance of PtyProcess.'''\u001b[0m\u001b[0;34m\u001b[0m\u001b[0;34m\u001b[0m\u001b[0m\n\u001b[0;32m--> 314\u001b[0;31m         \u001b[0;32mreturn\u001b[0m \u001b[0mptyprocess\u001b[0m\u001b[0;34m.\u001b[0m\u001b[0mPtyProcess\u001b[0m\u001b[0;34m.\u001b[0m\u001b[0mspawn\u001b[0m\u001b[0;34m(\u001b[0m\u001b[0margs\u001b[0m\u001b[0;34m,\u001b[0m \u001b[0;34m**\u001b[0m\u001b[0mkwargs\u001b[0m\u001b[0;34m)\u001b[0m\u001b[0;34m\u001b[0m\u001b[0;34m\u001b[0m\u001b[0m\n\u001b[0m\u001b[1;32m    315\u001b[0m \u001b[0;34m\u001b[0m\u001b[0m\n",
      "\u001b[0;32m/data/gpfs/assoc/parchmanlab/tfaske/anaconda3/envs/py36/lib/python3.6/site-packages/ptyprocess/ptyprocess.py\u001b[0m in \u001b[0;36mspawn\u001b[0;34m(cls, argv, cwd, env, echo, preexec_fn, dimensions)\u001b[0m\n\u001b[1;32m    308\u001b[0m         \u001b[0mos\u001b[0m\u001b[0;34m.\u001b[0m\u001b[0mclose\u001b[0m\u001b[0;34m(\u001b[0m\u001b[0mexec_err_pipe_write\u001b[0m\u001b[0;34m)\u001b[0m\u001b[0;34m\u001b[0m\u001b[0;34m\u001b[0m\u001b[0m\n\u001b[0;32m--> 309\u001b[0;31m         \u001b[0mexec_err_data\u001b[0m \u001b[0;34m=\u001b[0m \u001b[0mos\u001b[0m\u001b[0;34m.\u001b[0m\u001b[0mread\u001b[0m\u001b[0;34m(\u001b[0m\u001b[0mexec_err_pipe_read\u001b[0m\u001b[0;34m,\u001b[0m \u001b[0;36m4096\u001b[0m\u001b[0;34m)\u001b[0m\u001b[0;34m\u001b[0m\u001b[0;34m\u001b[0m\u001b[0m\n\u001b[0m\u001b[1;32m    310\u001b[0m         \u001b[0mos\u001b[0m\u001b[0;34m.\u001b[0m\u001b[0mclose\u001b[0m\u001b[0;34m(\u001b[0m\u001b[0mexec_err_pipe_read\u001b[0m\u001b[0;34m)\u001b[0m\u001b[0;34m\u001b[0m\u001b[0;34m\u001b[0m\u001b[0m\n",
      "\u001b[0;31mKeyboardInterrupt\u001b[0m: ",
      "\nDuring handling of the above exception, another exception occurred:\n",
      "\u001b[0;31mUnboundLocalError\u001b[0m              Traceback (most recent call last)",
      "\u001b[0;32m<ipython-input-57-70267d135f51>\u001b[0m in \u001b[0;36m<module>\u001b[0;34m\u001b[0m\n\u001b[1;32m      2\u001b[0m     \u001b[0mi\u001b[0m \u001b[0;34m=\u001b[0m \u001b[0minter\u001b[0m\u001b[0;34m.\u001b[0m\u001b[0msplit\u001b[0m\u001b[0;34m(\u001b[0m\u001b[0;34m'.'\u001b[0m\u001b[0;34m)\u001b[0m\u001b[0;34m[\u001b[0m\u001b[0;36m1\u001b[0m\u001b[0;34m]\u001b[0m\u001b[0;34m\u001b[0m\u001b[0;34m\u001b[0m\u001b[0m\n\u001b[1;32m      3\u001b[0m     \u001b[0mtmp_dir\u001b[0m \u001b[0;34m=\u001b[0m \u001b[0;34m'db/tmp.'\u001b[0m \u001b[0;34m+\u001b[0m \u001b[0mi\u001b[0m\u001b[0;34m\u001b[0m\u001b[0;34m\u001b[0m\u001b[0m\n\u001b[0;32m----> 4\u001b[0;31m     \u001b[0mget_ipython\u001b[0m\u001b[0;34m(\u001b[0m\u001b[0;34m)\u001b[0m\u001b[0;34m.\u001b[0m\u001b[0msystem\u001b[0m\u001b[0;34m(\u001b[0m\u001b[0;34m'mkdir $tmp_dir'\u001b[0m\u001b[0;34m)\u001b[0m\u001b[0;34m\u001b[0m\u001b[0;34m\u001b[0m\u001b[0m\n\u001b[0m",
      "\u001b[0;32m/data/gpfs/assoc/parchmanlab/tfaske/anaconda3/envs/py36/lib/python3.6/site-packages/IPython/core/interactiveshell.py\u001b[0m in \u001b[0;36msystem_piped\u001b[0;34m(self, cmd)\u001b[0m\n\u001b[1;32m   2451\u001b[0m         \u001b[0;31m# a non-None value would trigger :func:`sys.displayhook` calls.\u001b[0m\u001b[0;34m\u001b[0m\u001b[0;34m\u001b[0m\u001b[0;34m\u001b[0m\u001b[0m\n\u001b[1;32m   2452\u001b[0m         \u001b[0;31m# Instead, we store the exit_code in user_ns.\u001b[0m\u001b[0;34m\u001b[0m\u001b[0;34m\u001b[0m\u001b[0;34m\u001b[0m\u001b[0m\n\u001b[0;32m-> 2453\u001b[0;31m         \u001b[0mself\u001b[0m\u001b[0;34m.\u001b[0m\u001b[0muser_ns\u001b[0m\u001b[0;34m[\u001b[0m\u001b[0;34m'_exit_code'\u001b[0m\u001b[0;34m]\u001b[0m \u001b[0;34m=\u001b[0m \u001b[0msystem\u001b[0m\u001b[0;34m(\u001b[0m\u001b[0mself\u001b[0m\u001b[0;34m.\u001b[0m\u001b[0mvar_expand\u001b[0m\u001b[0;34m(\u001b[0m\u001b[0mcmd\u001b[0m\u001b[0;34m,\u001b[0m \u001b[0mdepth\u001b[0m\u001b[0;34m=\u001b[0m\u001b[0;36m1\u001b[0m\u001b[0;34m)\u001b[0m\u001b[0;34m)\u001b[0m\u001b[0;34m\u001b[0m\u001b[0;34m\u001b[0m\u001b[0m\n\u001b[0m\u001b[1;32m   2454\u001b[0m \u001b[0;34m\u001b[0m\u001b[0m\n\u001b[1;32m   2455\u001b[0m     \u001b[0;32mdef\u001b[0m \u001b[0msystem_raw\u001b[0m\u001b[0;34m(\u001b[0m\u001b[0mself\u001b[0m\u001b[0;34m,\u001b[0m \u001b[0mcmd\u001b[0m\u001b[0;34m)\u001b[0m\u001b[0;34m:\u001b[0m\u001b[0;34m\u001b[0m\u001b[0;34m\u001b[0m\u001b[0m\n",
      "\u001b[0;32m/data/gpfs/assoc/parchmanlab/tfaske/anaconda3/envs/py36/lib/python3.6/site-packages/IPython/utils/_process_posix.py\u001b[0m in \u001b[0;36msystem\u001b[0;34m(self, cmd)\u001b[0m\n\u001b[1;32m    170\u001b[0m             \u001b[0;31m# (the character is known as ETX for 'End of Text', see\u001b[0m\u001b[0;34m\u001b[0m\u001b[0;34m\u001b[0m\u001b[0;34m\u001b[0m\u001b[0m\n\u001b[1;32m    171\u001b[0m             \u001b[0;31m# curses.ascii.ETX).\u001b[0m\u001b[0;34m\u001b[0m\u001b[0;34m\u001b[0m\u001b[0;34m\u001b[0m\u001b[0m\n\u001b[0;32m--> 172\u001b[0;31m             \u001b[0mchild\u001b[0m\u001b[0;34m.\u001b[0m\u001b[0msendline\u001b[0m\u001b[0;34m(\u001b[0m\u001b[0mchr\u001b[0m\u001b[0;34m(\u001b[0m\u001b[0;36m3\u001b[0m\u001b[0;34m)\u001b[0m\u001b[0;34m)\u001b[0m\u001b[0;34m\u001b[0m\u001b[0;34m\u001b[0m\u001b[0m\n\u001b[0m\u001b[1;32m    173\u001b[0m             \u001b[0;31m# Read and print any more output the program might produce on its\u001b[0m\u001b[0;34m\u001b[0m\u001b[0;34m\u001b[0m\u001b[0;34m\u001b[0m\u001b[0m\n\u001b[1;32m    174\u001b[0m             \u001b[0;31m# way out.\u001b[0m\u001b[0;34m\u001b[0m\u001b[0;34m\u001b[0m\u001b[0;34m\u001b[0m\u001b[0m\n",
      "\u001b[0;31mUnboundLocalError\u001b[0m: local variable 'child' referenced before assignment"
     ]
    }
   ],
   "source": [
    "for inter in intervals: \n",
    "    i = inter.split('.')[1]\n",
    "    tmp_dir = 'db/tmp.' + i\n",
    "    !mkdir $tmp_dir"
   ]
  },
  {
   "cell_type": "code",
   "execution_count": 58,
   "metadata": {},
   "outputs": [],
   "source": [
    "### select options for slurm submission\n",
    "account = 'cpu-s5-denovo-0'\n",
    "partition = 'cpu-core-0'\n",
    "#account = 'cpu-s1-bionres-0'\n",
    "#partition = 'cpu-s1-bionres-0'\n",
    "jobname = 'gatk'\n",
    "time = '2-00:00:00' #time limit 1 day\n",
    "cpus = 1\n",
    "mem_cpu = 16000\n",
    "email = 'tfaske@nevada.unr.edu'"
   ]
  },
  {
   "cell_type": "code",
   "execution_count": 59,
   "metadata": {},
   "outputs": [],
   "source": [
    "def write_GenomicsDB_sh(account,partition,time,jobname,cpus,mem_cpu,email,gatk_dir,cmds,intervals):\n",
    "    for i in range(0,len(cmds)):\n",
    "        inter = intervals[i].split('.')[1]\n",
    "        with open(\"db/shdir/run_db_%s.sh\" % (inter), \"w\") as o:\n",
    "            o.write(\"\"\"#!/usr/bin/env bash\n",
    "#SBATCH --account=%s\n",
    "#SBATCH --partition=%s\n",
    "#SBATCH --time=%s\n",
    "#SBATCH --ntasks 1\n",
    "#SBATCH --cpus-per-task %d\n",
    "#SBATCH --mem-per-cpu=%d\n",
    "#SBATCH --job-name db_%s\n",
    "#SBATCH --output db/shdir/output_db_%s.txt\n",
    "#SBATCH --mail-type=FAIL\n",
    "#SBATCH --mail-user=%s \\n\n",
    "\n",
    "cd %s\\n\n",
    "    \n",
    "%s\\n\"\"\" % (account,partition,time,int(cpus),int(mem_cpu),inter,inter,email,gatk_dir,cmds[i]))\n",
    "            "
   ]
  },
  {
   "cell_type": "code",
   "execution_count": 60,
   "metadata": {},
   "outputs": [],
   "source": [
    "write_GenomicsDB_sh(account,partition,time,jobname,cpus,mem_cpu,email,gatk_dir,db_cmds,intervals)"
   ]
  },
  {
   "cell_type": "markdown",
   "metadata": {},
   "source": [
    "**finds all db slurm scripts and writes bash script to sbatch them**"
   ]
  },
  {
   "cell_type": "code",
   "execution_count": 61,
   "metadata": {},
   "outputs": [],
   "source": [
    "shdb_files = []\n",
    "os.chdir('{}/{}'.format(gatk_dir, 'db/shdir'))\n",
    "files = !find . -name '*.sh'\n",
    "files = [os.path.abspath(x) for x in files]\n",
    "for x in files:\n",
    "        shdb_files.append(x)\n",
    "shdb_files = sorted(shdb_files)"
   ]
  },
  {
   "cell_type": "code",
   "execution_count": 62,
   "metadata": {},
   "outputs": [
    {
     "data": {
      "text/plain": [
       "(100,\n",
       " '/data/gpfs/assoc/denovo/tfaske/sagebrush/denovo/SNPcall/gatk/db/shdir/run_db_000.sh')"
      ]
     },
     "execution_count": 62,
     "metadata": {},
     "output_type": "execute_result"
    }
   ],
   "source": [
    "len(shdb_files),shdb_files[0]"
   ]
  },
  {
   "cell_type": "code",
   "execution_count": 63,
   "metadata": {},
   "outputs": [],
   "source": [
    "def write_bash_db_sh(sh_files):\n",
    "    with open(\"run_bash_db.sh\", \"w\") as o:\n",
    "        o.write(\"\"\"#!/usr/bin/env bash \\n\\n\"\"\")\n",
    "        for f in sh_files:\n",
    "            o.write(\"sbatch %s \\n\" % (f))  "
   ]
  },
  {
   "cell_type": "code",
   "execution_count": 64,
   "metadata": {},
   "outputs": [
    {
     "name": "stdout",
     "output_type": "stream",
     "text": [
      "/data/gpfs/assoc/denovo/tfaske/sagebrush/denovo/SNPcall/gatk\n"
     ]
    }
   ],
   "source": [
    "cd $gatk_dir"
   ]
  },
  {
   "cell_type": "code",
   "execution_count": 65,
   "metadata": {},
   "outputs": [],
   "source": [
    "write_bash_db_sh(shdb_files)"
   ]
  },
  {
   "cell_type": "markdown",
   "metadata": {},
   "source": [
    "#### Run run_bash_fb_sh locally\n",
    "    cd /data/gpfs/assoc/denovo/tfaske/sagebrush/denovo/SNPcall/gatk\n",
    "    source activate py36\n",
    "    bash run_bash_db.sh"
   ]
  },
  {
   "cell_type": "markdown",
   "metadata": {},
   "source": [
    "### Genotype \n",
    "\n",
    "https://gatk.broadinstitute.org/hc/en-us/articles/360037057852-GenotypeGVCFs\n",
    "\n",
    " gatk --java-options \"-Xmx16g\" GenotypeGVCFs \\\n",
    "   -R Homo_sapiens_assembly38.fasta \\\n",
    "   -V gendb://my_database \\\n",
    "   -O output.vcf.gz\n",
    "   \n",
    "   **need to genotype each interval** \n",
    "   \n",
    "   --max-genotype-count limit is 1024. Consider changing to higher since 695*4 individuals. Got an error for a couple loci: too many genotypes in the combined VCF record = 3060\n",
    "   \n",
    "   **bug in that version of gatk: use 4.2.6**"
   ]
  },
  {
   "cell_type": "code",
   "execution_count": 8,
   "metadata": {},
   "outputs": [
    {
     "name": "stdout",
     "output_type": "stream",
     "text": [
      "/data/gpfs/assoc/denovo/tfaske/sagebrush/denovo/SNPcall/gatk\n"
     ]
    }
   ],
   "source": [
    "cd $gatk_dir"
   ]
  },
  {
   "cell_type": "code",
   "execution_count": 47,
   "metadata": {},
   "outputs": [],
   "source": [
    "gatk = '/data/gpfs/assoc/parchmanlab/tfaske/src/gatk-4.2.6.1/gatk'"
   ]
  },
  {
   "cell_type": "code",
   "execution_count": 9,
   "metadata": {},
   "outputs": [
    {
     "name": "stdout",
     "output_type": "stream",
     "text": [
      "mkdir: cannot create directory ‘genotype’: File exists\r\n"
     ]
    }
   ],
   "source": [
    "!mkdir genotype"
   ]
  },
  {
   "cell_type": "code",
   "execution_count": 10,
   "metadata": {},
   "outputs": [
    {
     "name": "stdout",
     "output_type": "stream",
     "text": [
      "mkdir: cannot create directory ‘genotype/shdir’: File exists\r\n"
     ]
    }
   ],
   "source": [
    "!mkdir genotype/shdir"
   ]
  },
  {
   "cell_type": "code",
   "execution_count": 11,
   "metadata": {},
   "outputs": [],
   "source": [
    "#find gen_db\n",
    "gen_db_files = !find ./db -type d -name gen_db.*\n",
    "gen_db_files = [os.path.abspath(x) for x in gen_db_files]"
   ]
  },
  {
   "cell_type": "code",
   "execution_count": 12,
   "metadata": {},
   "outputs": [
    {
     "data": {
      "text/plain": [
       "(100,\n",
       " '/data/gpfs/assoc/denovo/tfaske/sagebrush/denovo/SNPcall/gatk/db/gen_db.099')"
      ]
     },
     "execution_count": 12,
     "metadata": {},
     "output_type": "execute_result"
    }
   ],
   "source": [
    "len(gen_db_files),gen_db_files[0]"
   ]
  },
  {
   "cell_type": "code",
   "execution_count": 70,
   "metadata": {},
   "outputs": [],
   "source": [
    "def run_gt(args):\n",
    "    gatk,assembly,db,inter = args\n",
    "    cmd = r'%s --java-options \"-Xmx16g\" GenotypeGVCFs -R %s -V gendb://%s --max-genotype-count 8196 -O genotype/gatk.%s.vcf.gz' % (gatk,assembly,db,inter)\n",
    "    return  cmd "
   ]
  },
  {
   "cell_type": "code",
   "execution_count": 71,
   "metadata": {},
   "outputs": [],
   "source": [
    "gt_cmds = []\n",
    "for db in gen_db_files: \n",
    "    inter = db.split('.')[1]\n",
    "    #print(i)\n",
    "    gt_cmds.append(run_gt((gatk,assembly,db,inter)))"
   ]
  },
  {
   "cell_type": "code",
   "execution_count": 72,
   "metadata": {},
   "outputs": [
    {
     "data": {
      "text/plain": [
       "(100,\n",
       " '/data/gpfs/assoc/parchmanlab/tfaske/src/gatk-4.2.6.1/gatk --java-options \"-Xmx16g\" GenotypeGVCFs -R /data/gpfs/assoc/denovo/tfaske/sagebrush/denovo/assembly/reference.fasta -V gendb:///data/gpfs/assoc/denovo/tfaske/sagebrush/denovo/SNPcall/gatk/db/gen_db.091 --max-genotype-count 8196 -O genotype/gatk.091.vcf.gz')"
      ]
     },
     "execution_count": 72,
     "metadata": {},
     "output_type": "execute_result"
    }
   ],
   "source": [
    "len(gt_cmds),gt_cmds[1]"
   ]
  },
  {
   "cell_type": "code",
   "execution_count": 73,
   "metadata": {},
   "outputs": [],
   "source": [
    "### select options for slurm submission\n",
    "account = 'cpu-s5-denovo-0'\n",
    "partition = 'cpu-core-0'\n",
    "#account = 'cpu-s1-bionres-0'\n",
    "#partition = 'cpu-s1-bionres-0'\n",
    "jobname = 'gatk'\n",
    "time = '1-00:00:00' #time limit 1 day\n",
    "cpus = 1\n",
    "mem_cpu = 16000\n",
    "email = 'tfaske@nevada.unr.edu'"
   ]
  },
  {
   "cell_type": "code",
   "execution_count": 74,
   "metadata": {},
   "outputs": [],
   "source": [
    "def write_gt_sh(account,partition,time,jobname,cpus,mem_cpu,email,gatk_dir,cmds,files):\n",
    "    for i in range(0,len(cmds)):\n",
    "        inter = files[i].split('.')[1]\n",
    "        with open(\"genotype/shdir/run_gt_%s.sh\" % (inter), \"w\") as o:\n",
    "            o.write(\"\"\"#!/usr/bin/env bash\n",
    "#SBATCH --account=%s\n",
    "#SBATCH --partition=%s\n",
    "#SBATCH --time=%s\n",
    "#SBATCH --ntasks 1\n",
    "#SBATCH --cpus-per-task %d\n",
    "#SBATCH --mem-per-cpu=%d\n",
    "#SBATCH --job-name gt_%s\n",
    "#SBATCH --output genotype/shdir/output_gt_%s.txt\n",
    "#SBATCH --mail-type=FAIL\n",
    "#SBATCH --mail-user=%s \\n\n",
    "\n",
    "cd %s\\n\n",
    "    \n",
    "%s\\n\"\"\" % (account,partition,time,int(cpus),int(mem_cpu),inter,inter,email,gatk_dir,cmds[i]))\n",
    "            "
   ]
  },
  {
   "cell_type": "code",
   "execution_count": 75,
   "metadata": {},
   "outputs": [],
   "source": [
    "write_gt_sh(account,partition,time,jobname,cpus,mem_cpu,email,gatk_dir,gt_cmds,gen_db_files)"
   ]
  },
  {
   "cell_type": "markdown",
   "metadata": {},
   "source": [
    "**finds all db slurm scripts and writes bash script to sbatch them**"
   ]
  },
  {
   "cell_type": "code",
   "execution_count": 76,
   "metadata": {},
   "outputs": [],
   "source": [
    "shgt_files = []\n",
    "os.chdir('{}/{}'.format(gatk_dir, 'genotype/shdir'))\n",
    "files = !find . -name '*.sh'\n",
    "files = [os.path.abspath(x) for x in files]\n",
    "for x in files:\n",
    "        shgt_files.append(x)\n",
    "shgt_files = sorted(shgt_files)"
   ]
  },
  {
   "cell_type": "code",
   "execution_count": 77,
   "metadata": {},
   "outputs": [
    {
     "data": {
      "text/plain": [
       "(100,\n",
       " '/data/gpfs/assoc/denovo/tfaske/sagebrush/denovo/SNPcall/gatk/genotype/shdir/run_gt_000.sh')"
      ]
     },
     "execution_count": 77,
     "metadata": {},
     "output_type": "execute_result"
    }
   ],
   "source": [
    "len(shgt_files),shgt_files[0]"
   ]
  },
  {
   "cell_type": "code",
   "execution_count": 78,
   "metadata": {},
   "outputs": [],
   "source": [
    "def write_bash_gt_sh(sh_files):\n",
    "    with open(\"run_bash_gt.sh\", \"w\") as o:\n",
    "        o.write(\"\"\"#!/usr/bin/env bash \\n\\n\"\"\")\n",
    "        for f in sh_files:\n",
    "            o.write(\"sbatch %s \\n\" % (f))  "
   ]
  },
  {
   "cell_type": "code",
   "execution_count": 79,
   "metadata": {},
   "outputs": [
    {
     "name": "stdout",
     "output_type": "stream",
     "text": [
      "/data/gpfs/assoc/denovo/tfaske/sagebrush/denovo/SNPcall/gatk\n"
     ]
    }
   ],
   "source": [
    "cd $gatk_dir"
   ]
  },
  {
   "cell_type": "code",
   "execution_count": 80,
   "metadata": {},
   "outputs": [],
   "source": [
    "write_bash_gt_sh(shgt_files)"
   ]
  },
  {
   "cell_type": "markdown",
   "metadata": {},
   "source": [
    "#### Run run_bash_gt_sh locally\n",
    "    cd /data/gpfs/assoc/denovo/tfaske/sagebrush/denovo/SNPcall/gatk\n",
    "    source activate py36\n",
    "    bash run_bash_gt.sh"
   ]
  },
  {
   "cell_type": "markdown",
   "metadata": {},
   "source": [
    "### Keep only biallelic \n",
    "\n",
    "https://gatk.broadinstitute.org/hc/en-us/articles/360037055952-SelectVariants\n",
    "\n",
    "SelectVariants -R -o -V --select-type-to-include SNP --restrict-alleles-to BIALLELIC"
   ]
  },
  {
   "cell_type": "code",
   "execution_count": 113,
   "metadata": {},
   "outputs": [
    {
     "name": "stdout",
     "output_type": "stream",
     "text": [
      "/data/gpfs/assoc/denovo/tfaske/sagebrush/denovo/SNPcall/gatk\n"
     ]
    }
   ],
   "source": [
    "cd $gatk_dir"
   ]
  },
  {
   "cell_type": "code",
   "execution_count": 114,
   "metadata": {},
   "outputs": [],
   "source": [
    "vcfs = !ls genotype/*vcf.gz | grep -v tbi | grep -v sorted\n",
    "vcfs = [os.path.abspath(x) for x in vcfs]"
   ]
  },
  {
   "cell_type": "code",
   "execution_count": 115,
   "metadata": {},
   "outputs": [
    {
     "data": {
      "text/plain": [
       "(100,\n",
       " '/data/gpfs/assoc/denovo/tfaske/sagebrush/denovo/SNPcall/gatk/genotype/gatk.000.vcf.gz')"
      ]
     },
     "execution_count": 115,
     "metadata": {},
     "output_type": "execute_result"
    }
   ],
   "source": [
    "len(vcfs),vcfs[0]"
   ]
  },
  {
   "cell_type": "code",
   "execution_count": 134,
   "metadata": {},
   "outputs": [],
   "source": [
    "def run_sv(args):\n",
    "    gatk,assembly,vcf,inter = args\n",
    "    cmd = r'%s --java-options \"-Xmx16g\" SelectVariants -R %s -V %s --select-type-to-include SNP --restrict-alleles-to BIALLELIC -O genotype/gatk.%s.biallelic.vcf.gz' % (gatk,assembly,vcf,inter)\n",
    "    return  cmd "
   ]
  },
  {
   "cell_type": "code",
   "execution_count": 135,
   "metadata": {},
   "outputs": [],
   "source": [
    "sv_cmds = []\n",
    "for vcf in vcfs: \n",
    "    inter = vcf.split('.')[1]\n",
    "    #print(inter)\n",
    "    sv_cmds.append(run_sv((gatk,assembly,vcf,inter)))"
   ]
  },
  {
   "cell_type": "code",
   "execution_count": 136,
   "metadata": {},
   "outputs": [
    {
     "data": {
      "text/plain": [
       "(100,\n",
       " '/data/gpfs/assoc/parchmanlab/tfaske/src/gatk-4.2.6.1/gatk --java-options \"-Xmx16g\" SelectVariants -R /data/gpfs/assoc/denovo/tfaske/sagebrush/denovo/assembly/reference.fasta -V /data/gpfs/assoc/denovo/tfaske/sagebrush/denovo/SNPcall/gatk/genotype/gatk.001.vcf.gz --select-type-to-include SNP --restrict-alleles-to BIALLELIC -O genotype/gatk.001.biallelic.vcf.gz')"
      ]
     },
     "execution_count": 136,
     "metadata": {},
     "output_type": "execute_result"
    }
   ],
   "source": [
    "len(sv_cmds),sv_cmds[1]"
   ]
  },
  {
   "cell_type": "code",
   "execution_count": 137,
   "metadata": {},
   "outputs": [],
   "source": [
    "### select options for slurm submission\n",
    "account = 'cpu-s5-denovo-0'\n",
    "partition = 'cpu-core-0'\n",
    "#account = 'cpu-s1-bionres-0'\n",
    "#partition = 'cpu-s1-bionres-0'\n",
    "jobname = 'gatk'\n",
    "time = '1-00:00:00' #time limit 1 day\n",
    "cpus = 1\n",
    "mem_cpu = 16000\n",
    "email = 'tfaske@nevada.unr.edu'"
   ]
  },
  {
   "cell_type": "code",
   "execution_count": 138,
   "metadata": {},
   "outputs": [],
   "source": [
    "def write_sv_sh(account,partition,time,jobname,cpus,mem_cpu,email,gatk_dir,cmds,files):\n",
    "    for i in range(0,len(cmds)):\n",
    "        inter = files[i].split('.')[1]\n",
    "        with open(\"genotype/shdir/run_sv_%s.sh\" % (inter), \"w\") as o:\n",
    "            o.write(\"\"\"#!/usr/bin/env bash\n",
    "#SBATCH --account=%s\n",
    "#SBATCH --partition=%s\n",
    "#SBATCH --time=%s\n",
    "#SBATCH --ntasks 1\n",
    "#SBATCH --cpus-per-task %d\n",
    "#SBATCH --mem-per-cpu=%d\n",
    "#SBATCH --job-name sv_%s\n",
    "#SBATCH --output genotype/shdir/output_sv_%s.txt\n",
    "#SBATCH --mail-type=FAIL\n",
    "#SBATCH --mail-user=%s \\n\n",
    "\n",
    "cd %s\\n\n",
    "    \n",
    "%s\\n\"\"\" % (account,partition,time,int(cpus),int(mem_cpu),inter,inter,email,gatk_dir,cmds[i]))\n",
    "            "
   ]
  },
  {
   "cell_type": "code",
   "execution_count": 139,
   "metadata": {},
   "outputs": [],
   "source": [
    "write_sv_sh(account,partition,time,jobname,cpus,mem_cpu,email,gatk_dir,sv_cmds,vcfs)"
   ]
  },
  {
   "cell_type": "markdown",
   "metadata": {},
   "source": [
    "**finds all sv slurm scripts and writes bash script to sbatch them**"
   ]
  },
  {
   "cell_type": "code",
   "execution_count": 140,
   "metadata": {},
   "outputs": [],
   "source": [
    "shsv_files = !ls genotype/shdir/run_sv*sh\n",
    "shsv_files = [os.path.abspath(x) for x in shsv_files]"
   ]
  },
  {
   "cell_type": "code",
   "execution_count": 141,
   "metadata": {},
   "outputs": [
    {
     "data": {
      "text/plain": [
       "(100,\n",
       " '/data/gpfs/assoc/denovo/tfaske/sagebrush/denovo/SNPcall/gatk/genotype/shdir/run_sv_000.sh')"
      ]
     },
     "execution_count": 141,
     "metadata": {},
     "output_type": "execute_result"
    }
   ],
   "source": [
    "len(shsv_files),shsv_files[0]"
   ]
  },
  {
   "cell_type": "code",
   "execution_count": 142,
   "metadata": {},
   "outputs": [],
   "source": [
    "def write_bash_sv_sh(sh_files):\n",
    "    with open(\"run_bash_sv.sh\", \"w\") as o:\n",
    "        o.write(\"\"\"#!/usr/bin/env bash \\n\\n\"\"\")\n",
    "        for f in sh_files:\n",
    "            o.write(\"sbatch %s \\n\" % (f))  "
   ]
  },
  {
   "cell_type": "code",
   "execution_count": 143,
   "metadata": {},
   "outputs": [
    {
     "name": "stdout",
     "output_type": "stream",
     "text": [
      "/data/gpfs/assoc/denovo/tfaske/sagebrush/denovo/SNPcall/gatk\n"
     ]
    }
   ],
   "source": [
    "cd $gatk_dir"
   ]
  },
  {
   "cell_type": "code",
   "execution_count": 144,
   "metadata": {},
   "outputs": [],
   "source": [
    "write_bash_sv_sh(shsv_files)"
   ]
  },
  {
   "cell_type": "markdown",
   "metadata": {},
   "source": [
    "### concat vcf files \n",
    "\n",
    "bcftools concat --threads 50 -Oz -o"
   ]
  },
  {
   "cell_type": "code",
   "execution_count": 146,
   "metadata": {},
   "outputs": [
    {
     "name": "stdout",
     "output_type": "stream",
     "text": [
      "/data/gpfs/assoc/denovo/tfaske/sagebrush/denovo/SNPcall/gatk\n"
     ]
    }
   ],
   "source": [
    "cd $gatk_dir"
   ]
  },
  {
   "cell_type": "code",
   "execution_count": 150,
   "metadata": {},
   "outputs": [],
   "source": [
    "bi_vcfs = !ls genotype/*biallelic.vcf.gz | grep -v tbi | grep -v sorted\n",
    "bi_vcfs = [os.path.abspath(x) for x in bi_vcfs]"
   ]
  },
  {
   "cell_type": "code",
   "execution_count": 151,
   "metadata": {},
   "outputs": [
    {
     "data": {
      "text/plain": [
       "(100,\n",
       " '/data/gpfs/assoc/denovo/tfaske/sagebrush/denovo/SNPcall/gatk/genotype/gatk.000.biallelic.vcf.gz')"
      ]
     },
     "execution_count": 151,
     "metadata": {},
     "output_type": "execute_result"
    }
   ],
   "source": [
    "len(bi_vcfs),bi_vcfs[0]"
   ]
  },
  {
   "cell_type": "code",
   "execution_count": 164,
   "metadata": {},
   "outputs": [],
   "source": [
    "concat_cmd = \"bcftools concat --threads 2 -Oz -o genotype/gatk.ALL.vcf.gz %s \"% (\" \".join(bi_vcfs))"
   ]
  },
  {
   "cell_type": "code",
   "execution_count": 165,
   "metadata": {},
   "outputs": [],
   "source": [
    "#concat_cmd"
   ]
  },
  {
   "cell_type": "code",
   "execution_count": 166,
   "metadata": {},
   "outputs": [],
   "source": [
    "### select options for slurm submission\n",
    "account = 'cpu-s5-denovo-0'\n",
    "partition = 'cpu-core-0'\n",
    "#account = 'cpu-s1-bionres-0'\n",
    "#partition = 'cpu-s1-bionres-0'\n",
    "jobname = 'gatk'\n",
    "time = '1-00:00:00' #time limit 1 day\n",
    "cpus = 1\n",
    "mem_cpu = 80000\n",
    "email = 'tfaske@nevada.unr.edu'"
   ]
  },
  {
   "cell_type": "code",
   "execution_count": 167,
   "metadata": {},
   "outputs": [],
   "source": [
    "def write_concat_sh(account,partition,time,jobname,cpus,mem_cpu,email,gatk_dir,cmd):\n",
    "    with open(\"run_concat.sh\", \"w\") as o:\n",
    "        o.write(\"\"\"#!/usr/bin/env bash\n",
    "#SBATCH --account=%s\n",
    "#SBATCH --partition=%s\n",
    "#SBATCH --time=%s\n",
    "#SBATCH --ntasks 1\n",
    "#SBATCH --cpus-per-task %d\n",
    "#SBATCH --mem-per-cpu=%d\n",
    "#SBATCH --job-name concat\n",
    "#SBATCH --output genotype/output_concat.txt\n",
    "#SBATCH --mail-type=FAIL\n",
    "#SBATCH --mail-user=%s \\n\n",
    "\n",
    "cd %s\\n\n",
    "    \n",
    "%s\\n\"\"\" % (account,partition,time,int(cpus),int(mem_cpu),email,gatk_dir,cmd))\n",
    "            "
   ]
  },
  {
   "cell_type": "code",
   "execution_count": 168,
   "metadata": {},
   "outputs": [],
   "source": [
    "write_concat_sh(account,partition,time,jobname,cpus,mem_cpu,email,gatk_dir,concat_cmd)"
   ]
  },
  {
   "cell_type": "code",
   "execution_count": 171,
   "metadata": {},
   "outputs": [
    {
     "name": "stdout",
     "output_type": "stream",
     "text": [
      "1303563\r\n"
     ]
    }
   ],
   "source": [
    "!zcat genotype/gatk.ALL.vcf.gz | grep -v '#' | wc -l "
   ]
  },
  {
   "cell_type": "markdown",
   "metadata": {},
   "source": [
    "### begin filtering! "
   ]
  },
  {
   "cell_type": "code",
   "execution_count": null,
   "metadata": {},
   "outputs": [],
   "source": []
  }
 ],
 "metadata": {
  "kernelspec": {
   "display_name": "Python 3",
   "language": "python",
   "name": "python3"
  },
  "language_info": {
   "codemirror_mode": {
    "name": "ipython",
    "version": 3
   },
   "file_extension": ".py",
   "mimetype": "text/x-python",
   "name": "python",
   "nbconvert_exporter": "python",
   "pygments_lexer": "ipython3",
   "version": "3.6.7"
  }
 },
 "nbformat": 4,
 "nbformat_minor": 4
}
