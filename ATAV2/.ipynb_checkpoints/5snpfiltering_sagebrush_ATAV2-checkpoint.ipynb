{
 "cells": [
  {
   "cell_type": "markdown",
   "metadata": {},
   "source": [
    "### Filtering for both *tridentata* and *vaseyana* diploids\n",
    "\n",
    "Uses ARTR_chr.biallelic.vcf.gz to start\n",
    "\n",
    "Sample names have been extracted to subset using:   \n",
    "- zcat ARTR_chr.vcf.gz | bcftools query -l | sort > sample_index.txt"
   ]
  },
  {
   "cell_type": "code",
   "execution_count": 1,
   "metadata": {},
   "outputs": [],
   "source": [
    "import sys\n",
    "\n",
    "#sys.path.append('/home/faske/g/anaconda3/envs/py34/lib/python3.4/site-packages')\n",
    "sys.path.append('/data/gpfs/assoc/parchmanlab/tfaske/anaconda3/envs/py36/lib/python3.6/site-packages')\n",
    "sys.path.append(\"/data/gpfs/assoc/parchmanlab/tfaske/ipynb/include_utils\")\n",
    "\n",
    "import ipyparallel as ipp\n",
    "import os, time\n",
    "import include_utils as u\n",
    "import pandas as pd\n",
    "import numpy as np\n",
    "import scipy as sp\n",
    "import random\n",
    "import numbers\n",
    "import matplotlib.pyplot as plt\n",
    "import matplotlib.patches as mpatches\n",
    "import matplotlib.cm as cm\n",
    "import matplotlib.colors as mcolors\n",
    "#import vcf\n",
    "from sklearn import preprocessing\n",
    "from subprocess import Popen, PIPE, call, check_output\n",
    "import seaborn as sns\n",
    "from IPython.display import FileLink\n",
    "import urllib.request as urllib2\n",
    "import dill\n",
    "import traceback\n",
    "from pandas import Series, DataFrame\n",
    "import gzip\n",
    "import warnings\n",
    "warnings.filterwarnings('ignore',category=pd.io.pytables.PerformanceWarning)\n",
    "%config InlineBackend.figure_format = 'retina'\n",
    "from Bio import SeqIO\n",
    "#import pysam\n",
    "from collections import OrderedDict, namedtuple, Counter\n",
    "import operator\n",
    "import multiprocessing as mp\n",
    "import shutil\n",
    "import tempfile\n",
    "#from ipyparallel import Client\n",
    "import scandir\n",
    "import glob\n",
    "from Bio.SeqIO.QualityIO import FastqGeneralIterator\n",
    "import pickle\n",
    "import re\n",
    "from itertools import chain\n",
    "#import Levenshtein as lv"
   ]
  },
  {
   "cell_type": "code",
   "execution_count": 2,
   "metadata": {},
   "outputs": [],
   "source": [
    "vcfutils = \"vcfutils.pl\"\n",
    "vcftools = \"vcftools\"\n",
    "bcftools = \"bcftools\"\n",
    "bgzip = \"bgzip\"\n",
    "tabix = \"tabix\"\n",
    "java = \"java\"\n",
    "plink = \"plink --noweb\""
   ]
  },
  {
   "cell_type": "code",
   "execution_count": 3,
   "metadata": {},
   "outputs": [],
   "source": [
    "analysis_dir = \"/data/gpfs/assoc/denovo/tfaske/sagebrush/SNPcall/ATAV2/filtering\""
   ]
  },
  {
   "cell_type": "code",
   "execution_count": 4,
   "metadata": {},
   "outputs": [
    {
     "name": "stdout",
     "output_type": "stream",
     "text": [
      "/data/gpfs/assoc/denovo/tfaske/sagebrush/SNPcall/ATAV2/filtering\n"
     ]
    }
   ],
   "source": [
    "cd $analysis_dir"
   ]
  },
  {
   "cell_type": "code",
   "execution_count": 5,
   "metadata": {
    "scrolled": true
   },
   "outputs": [
    {
     "data": {
      "text/plain": [
       "'/data/gpfs/assoc/denovo/tfaske/sagebrush/SNPcall/ATAV2/filtering/ARTR_chr.biallelic.recode.vcf.gz'"
      ]
     },
     "execution_count": 5,
     "metadata": {},
     "output_type": "execute_result"
    }
   ],
   "source": [
    "vcf_file = os.path.join(analysis_dir, \"ARTR_chr.biallelic.recode.vcf.gz\")\n",
    "assert os.path.exists(vcf_file)\n",
    "vcf_file"
   ]
  },
  {
   "cell_type": "markdown",
   "metadata": {},
   "source": [
    "### keep only AV2 individuals"
   ]
  },
  {
   "cell_type": "code",
   "execution_count": 6,
   "metadata": {},
   "outputs": [
    {
     "data": {
      "text/html": [
       "<div>\n",
       "<style scoped>\n",
       "    .dataframe tbody tr th:only-of-type {\n",
       "        vertical-align: middle;\n",
       "    }\n",
       "\n",
       "    .dataframe tbody tr th {\n",
       "        vertical-align: top;\n",
       "    }\n",
       "\n",
       "    .dataframe thead th {\n",
       "        text-align: right;\n",
       "    }\n",
       "</style>\n",
       "<table border=\"1\" class=\"dataframe\">\n",
       "  <thead>\n",
       "    <tr style=\"text-align: right;\">\n",
       "      <th></th>\n",
       "      <th>sample</th>\n",
       "    </tr>\n",
       "  </thead>\n",
       "  <tbody>\n",
       "    <tr>\n",
       "      <th>0</th>\n",
       "      <td>AT2_BB_1</td>\n",
       "    </tr>\n",
       "    <tr>\n",
       "      <th>1</th>\n",
       "      <td>AT2_BB_10</td>\n",
       "    </tr>\n",
       "    <tr>\n",
       "      <th>2</th>\n",
       "      <td>AT2_BB_11</td>\n",
       "    </tr>\n",
       "    <tr>\n",
       "      <th>3</th>\n",
       "      <td>AT2_BB_12</td>\n",
       "    </tr>\n",
       "    <tr>\n",
       "      <th>4</th>\n",
       "      <td>AT2_BB_13</td>\n",
       "    </tr>\n",
       "  </tbody>\n",
       "</table>\n",
       "</div>"
      ],
      "text/plain": [
       "      sample\n",
       "0   AT2_BB_1\n",
       "1  AT2_BB_10\n",
       "2  AT2_BB_11\n",
       "3  AT2_BB_12\n",
       "4  AT2_BB_13"
      ]
     },
     "execution_count": 6,
     "metadata": {},
     "output_type": "execute_result"
    }
   ],
   "source": [
    "sample_names = pd.read_csv('sample_index.txt',header=None,names=['sample'])\n",
    "sample_names.head()"
   ]
  },
  {
   "cell_type": "code",
   "execution_count": 8,
   "metadata": {},
   "outputs": [],
   "source": [
    "AV2_indv = [s for s in sample_names['sample'] if 'AV2' in s]\n",
    "AT2_indv = [s for s in sample_names['sample'] if 'AT2' in s]\n",
    "ATAV2 "
   ]
  },
  {
   "cell_type": "code",
   "execution_count": 10,
   "metadata": {},
   "outputs": [
    {
     "data": {
      "text/plain": [
       "(172, 'AV2_AN_1')"
      ]
     },
     "execution_count": 10,
     "metadata": {},
     "output_type": "execute_result"
    }
   ],
   "source": [
    "len(AV2_indv), AV2_indv[0]"
   ]
  },
  {
   "cell_type": "code",
   "execution_count": 11,
   "metadata": {},
   "outputs": [],
   "source": [
    "with open(os.path.join(analysis_dir, \"AV2_indv.txt\"), \"w\") as o:\n",
    "    o.write(\"INDV\\n\")\n",
    "    for elem in AV2_indv:\n",
    "        o.write(\"%s\\n\" % elem)"
   ]
  },
  {
   "cell_type": "code",
   "execution_count": 12,
   "metadata": {},
   "outputs": [
    {
     "name": "stdout",
     "output_type": "stream",
     "text": [
      "\n",
      "VCFtools - 0.1.16\n",
      "(C) Adam Auton and Anthony Marcketta 2009\n",
      "\n",
      "Parameters as interpreted:\n",
      "\t--gzvcf /data/gpfs/assoc/denovo/tfaske/sagebrush/SNPcall/AV2/filtering/ARTR_chr.biallelic.recode.vcf.gz\n",
      "\t--keep /data/gpfs/assoc/denovo/tfaske/sagebrush/SNPcall/AV2/filtering/AV2_indv.txt\n",
      "\t--recode-INFO-all\n",
      "\t--out /data/gpfs/assoc/denovo/tfaske/sagebrush/SNPcall/AV2/filtering/AV2_chr.biallelic\n",
      "\t--recode\n",
      "\t--remove-filtered-all\n",
      "\n",
      "Using zlib version: 1.2.11\n",
      "Warning: Expected at least 2 parts in INFO entry: ID=PV4,Number=4,Type=Float,Description=\"P-values for strand bias, baseQ bias, mapQ bias and tail distance bias\">\n",
      "Warning: Expected at least 2 parts in INFO entry: ID=PV4,Number=4,Type=Float,Description=\"P-values for strand bias, baseQ bias, mapQ bias and tail distance bias\">\n",
      "Warning: Expected at least 2 parts in INFO entry: ID=DP4,Number=4,Type=Integer,Description=\"Number of high-quality ref-forward , ref-reverse, alt-forward and alt-reverse bases\">\n",
      "Warning: Expected at least 2 parts in INFO entry: ID=DP4,Number=4,Type=Integer,Description=\"Number of high-quality ref-forward , ref-reverse, alt-forward and alt-reverse bases\">\n",
      "Keeping individuals in 'keep' list\n",
      "After filtering, kept 172 out of 708 Individuals\n",
      "Outputting VCF file...\n",
      "After filtering, kept 2766918 out of a possible 2766918 Sites\n",
      "Run Time = 1423.00 seconds\n"
     ]
    }
   ],
   "source": [
    "!$vcftools --gzvcf $vcf_file \\\n",
    "--remove-filtered-all \\\n",
    "--recode \\\n",
    "--recode-INFO-all \\\n",
    "--keep {os.path.join(analysis_dir, \"AV2_indv.txt\")} \\\n",
    "--out {os.path.join(analysis_dir, \"AV2_chr.biallelic\")}"
   ]
  },
  {
   "cell_type": "code",
   "execution_count": 14,
   "metadata": {},
   "outputs": [],
   "source": [
    "vcf_AV2 = \"AV2_chr.biallelic.recode.vcf\" \n",
    "vcf_AV2_gz = \"%s.gz\" % vcf_AV2\n",
    "!$bgzip -c $vcf_AV2 > {vcf_AV2_gz}\n",
    "!$tabix {vcf_AV2_gz}"
   ]
  },
  {
   "cell_type": "markdown",
   "metadata": {},
   "source": [
    "## Remove by MAF, missing, and thin next"
   ]
  },
  {
   "cell_type": "code",
   "execution_count": 15,
   "metadata": {},
   "outputs": [
    {
     "name": "stdout",
     "output_type": "stream",
     "text": [
      "\n",
      "VCFtools - 0.1.16\n",
      "(C) Adam Auton and Anthony Marcketta 2009\n",
      "\n",
      "Parameters as interpreted:\n",
      "\t--gzvcf AV2_chr.biallelic.recode.vcf.gz\n",
      "\t--recode-INFO-all\n",
      "\t--maf 0.01\n",
      "\t--thin 100\n",
      "\t--max-missing 0.7\n",
      "\t--out AV2_chr_miss70_thin100_MAF1\n",
      "\t--recode\n",
      "\t--remove-filtered-all\n",
      "\n",
      "Using zlib version: 1.2.11\n",
      "Warning: Expected at least 2 parts in INFO entry: ID=PV4,Number=4,Type=Float,Description=\"P-values for strand bias, baseQ bias, mapQ bias and tail distance bias\">\n",
      "Warning: Expected at least 2 parts in INFO entry: ID=PV4,Number=4,Type=Float,Description=\"P-values for strand bias, baseQ bias, mapQ bias and tail distance bias\">\n",
      "Warning: Expected at least 2 parts in INFO entry: ID=DP4,Number=4,Type=Integer,Description=\"Number of high-quality ref-forward , ref-reverse, alt-forward and alt-reverse bases\">\n",
      "Warning: Expected at least 2 parts in INFO entry: ID=DP4,Number=4,Type=Integer,Description=\"Number of high-quality ref-forward , ref-reverse, alt-forward and alt-reverse bases\">\n",
      "After filtering, kept 172 out of 172 Individuals\n",
      "Outputting VCF file...\n",
      "After filtering, kept 458910 out of a possible 2766918 Sites\n",
      "Run Time = 221.00 seconds\n"
     ]
    }
   ],
   "source": [
    "!$vcftools \\\n",
    "--maf 0.01 \\\n",
    "--thin 100 \\\n",
    "--remove-filtered-all \\\n",
    "--recode \\\n",
    "--recode-INFO-all \\\n",
    "--gzvcf \\\n",
    "$vcf_AV2_gz \\\n",
    "--out $'AV2_chr_thin100_MAF1'"
   ]
  },
  {
   "cell_type": "code",
   "execution_count": 5,
   "metadata": {},
   "outputs": [],
   "source": [
    "vcf_filtered = \"AV2_chr_miss70_thin100_MAF1.recode.vcf\"\n",
    "vcf_filtered_gz = \"%s.gz\" % vcf_filtered"
   ]
  },
  {
   "cell_type": "code",
   "execution_count": null,
   "metadata": {},
   "outputs": [],
   "source": [
    "!$bgzip -c $vcf_filtered > {vcf_filtered_gz}\n",
    "!$tabix {vcf_filtered_gz}"
   ]
  },
  {
   "cell_type": "markdown",
   "metadata": {},
   "source": [
    "# Calulate missing data and private alleles using vcfR\n"
   ]
  },
  {
   "cell_type": "code",
   "execution_count": 6,
   "metadata": {},
   "outputs": [],
   "source": [
    "%load_ext rpy2.ipython"
   ]
  },
  {
   "cell_type": "code",
   "execution_count": 9,
   "metadata": {},
   "outputs": [
    {
     "name": "stderr",
     "output_type": "stream",
     "text": [
      "R[write to console]: Loading required package: readr\n",
      "\n",
      "R[write to console]: Loading required package: MASS\n",
      "\n",
      "R[write to console]: Loading required package: ggplot2\n",
      "\n",
      "R[write to console]: \n",
      "   *****       ***   vcfR   ***       *****\n",
      "   This is vcfR 1.8.0 \n",
      "     browseVignettes('vcfR') # Documentation\n",
      "     citation('vcfR') # Citation\n",
      "   *****       *****      *****       *****\n",
      "\n",
      "\n"
     ]
    }
   ],
   "source": [
    "%%R\n",
    "require(readr)\n",
    "library(data.table)\n",
    "require(MASS)\n",
    "require(ggplot2)\n",
    "library(vcfR)\n",
    "\n",
    "source('/data/gpfs/home/tfaske/g/src/R/Imports.R')\n",
    "\n",
    "setwd('/data/gpfs/assoc/denovo/tfaske/sagebrush/SNPcall/AV2/filtering/')"
   ]
  },
  {
   "cell_type": "code",
   "execution_count": 10,
   "metadata": {},
   "outputs": [],
   "source": [
    "%%R\n",
    "vcf <- read.vcfR(\"AV2_chr_thin100_MAF1.recode.vcf\", verbose = FALSE)\n",
    "\n",
    "#get positions\n",
    "chrom <- getCHROM(vcf)\n",
    "pos <- getPOS(vcf)\n",
    "pos_ID <- paste(chrom,pos,sep = ':')"
   ]
  },
  {
   "cell_type": "code",
   "execution_count": 11,
   "metadata": {},
   "outputs": [],
   "source": [
    "%%R\n",
    "#get pl \n",
    "dp <- extract.gt(vcf, element = 'DP')"
   ]
  },
  {
   "cell_type": "code",
   "execution_count": 12,
   "metadata": {},
   "outputs": [
    {
     "name": "stdout",
     "output_type": "stream",
     "text": [
      "[1] 458910\n",
      " [1] \"CM042338.1:22493\"  \"CM042338.1:59140\"  \"CM042338.1:97078\" \n",
      " [4] \"CM042338.1:106063\" \"CM042338.1:126072\" \"CM042338.1:128439\"\n",
      " [7] \"CM042338.1:129199\" \"CM042338.1:129763\" \"CM042338.1:130233\"\n",
      "[10] \"CM042338.1:169173\"\n",
      "                  AV2_AN_1 AV2_AN_2 AV2_AN_3 AV2_AN_4 AV2_AN_5\n",
      "CM042338.1_22493  \"0\"      \"0\"      \"0\"      \"0\"      \"0\"     \n",
      "CM042338.1_59140  \"0\"      \"0\"      \"3\"      \"0\"      \"0\"     \n",
      "CM042338.1_97078  \"0\"      \"0\"      \"0\"      \"0\"      \"0\"     \n",
      "CM042338.1_106063 \"0\"      \"0\"      \"0\"      \"0\"      \"0\"     \n",
      "CM042338.1_126072 \"1\"      \"0\"      \"1\"      \"0\"      \"0\"     \n"
     ]
    }
   ],
   "source": [
    "%%R\n",
    "## check out PL and pos_ID\n",
    "print(length(pos_ID))\n",
    "print(pos_ID[1:10])\n",
    "dp[1:5,1:5]"
   ]
  },
  {
   "cell_type": "code",
   "execution_count": 13,
   "metadata": {},
   "outputs": [
    {
     "name": "stdout",
     "output_type": "stream",
     "text": [
      " chr [1:5, 1:5] \"0\" \"0\" \"0\" \"0\" \"1\" \"0\" \"0\" \"0\" \"0\" \"0\" \"0\" \"3\" \"0\" \"0\" \"1\" ...\n",
      " - attr(*, \"dimnames\")=List of 2\n",
      "  ..$ : chr [1:5] \"CM042338.1_22493\" \"CM042338.1_59140\" \"CM042338.1_97078\" \"CM042338.1_106063\" ...\n",
      "  ..$ : chr [1:5] \"AV2_AN_1\" \"AV2_AN_2\" \"AV2_AN_3\" \"AV2_AN_4\" ...\n"
     ]
    }
   ],
   "source": [
    "%%R\n",
    "str(dp[1:5,1:5])"
   ]
  },
  {
   "cell_type": "markdown",
   "metadata": {},
   "source": [
    "#### Calculate missing loci and individual"
   ]
  },
  {
   "cell_type": "code",
   "execution_count": 14,
   "metadata": {},
   "outputs": [
    {
     "name": "stdout",
     "output_type": "stream",
     "text": [
      "[1] 458910\n",
      "[1] 172\n"
     ]
    }
   ],
   "source": [
    "%%R\n",
    "nindv <- ncol(dp)\n",
    "nloci <- nrow(dp)\n",
    "print(nloci)\n",
    "print(nindv)"
   ]
  },
  {
   "cell_type": "code",
   "execution_count": 15,
   "metadata": {},
   "outputs": [
    {
     "name": "stdout",
     "output_type": "stream",
     "text": [
      "   Min. 1st Qu.  Median    Mean 3rd Qu.    Max. \n",
      " 0.0000  0.9942  1.0000  0.9244  1.0000  1.0000 \n"
     ]
    }
   ],
   "source": [
    "%%R\n",
    "miss_loci <- apply(dp,1, function(d) length(which(d == \"0\"))/nindv)\n",
    "#miss_loci <- apply(dp[,1:100],1, function(d) (length(which(d == \"0\"))/100))\n",
    "print(summary(miss_loci))"
   ]
  },
  {
   "cell_type": "code",
   "execution_count": 16,
   "metadata": {},
   "outputs": [
    {
     "name": "stdout",
     "output_type": "stream",
     "text": [
      "[1] 13533\n",
      "[1] 21012\n",
      "[1] 29811\n",
      "[1] 38646\n",
      "[1] 48174\n"
     ]
    }
   ],
   "source": [
    "%%R\n",
    "print(length(which(miss_loci <= .30)))\n",
    "print(length(which(miss_loci <= .40)))\n",
    "print(length(which(miss_loci <= .50)))\n",
    "print(length(which(miss_loci <= .60)))\n",
    "print(length(which(miss_loci <= .70)))"
   ]
  },
  {
   "cell_type": "code",
   "execution_count": 17,
   "metadata": {},
   "outputs": [
    {
     "name": "stdout",
     "output_type": "stream",
     "text": [
      "[1] 38646\n"
     ]
    }
   ],
   "source": [
    "%%R\n",
    "keep_miss <- pos_ID[which(miss_loci <= .60)]\n",
    "length(keep_miss)"
   ]
  },
  {
   "cell_type": "code",
   "execution_count": 18,
   "metadata": {},
   "outputs": [
    {
     "name": "stdout",
     "output_type": "stream",
     "text": [
      "                        chrom     pos\n",
      "CM042338.1:398145  CM042338.1  398145\n",
      "CM042338.1:1342981 CM042338.1 1342981\n",
      "CM042338.1:1496832 CM042338.1 1496832\n",
      "CM042338.1:1942811 CM042338.1 1942811\n",
      "CM042338.1:2125877 CM042338.1 2125877\n",
      "CM042338.1:2385838 CM042338.1 2385838\n"
     ]
    }
   ],
   "source": [
    "%%R\n",
    "keep_miss60_df <- data.frame(chrom=sapply(keep_miss,function(s) unlist(strsplit(as.character(s),':'))[1]),\n",
    "                             pos=sapply(keep_miss,function(s) unlist(strsplit(as.character(s),':'))[2]))\n",
    "print(head(keep_miss60_df))    \n",
    "write.table(keep_miss60_df,'keep_miss60.txt',quote=F,row.names=F,col.names=F,sep='\\t')"
   ]
  },
  {
   "cell_type": "code",
   "execution_count": 19,
   "metadata": {},
   "outputs": [
    {
     "name": "stdout",
     "output_type": "stream",
     "text": [
      "CM042338.1\t398145\r\n",
      "CM042338.1\t1342981\r\n",
      "CM042338.1\t1496832\r\n",
      "CM042338.1\t1942811\r\n",
      "CM042338.1\t2125877\r\n",
      "CM042338.1\t2385838\r\n",
      "CM042338.1\t3792588\r\n",
      "CM042338.1\t6087026\r\n",
      "CM042338.1\t6148025\r\n",
      "CM042338.1\t6353755\r\n"
     ]
    }
   ],
   "source": [
    "!head keep_miss60.txt"
   ]
  },
  {
   "cell_type": "code",
   "execution_count": 21,
   "metadata": {},
   "outputs": [
    {
     "name": "stdout",
     "output_type": "stream",
     "text": [
      "\n",
      "VCFtools - 0.1.16\n",
      "(C) Adam Auton and Anthony Marcketta 2009\n",
      "\n",
      "Parameters as interpreted:\n",
      "\t--gzvcf AV2_chr_thin100_MAF1.recode.vcf\n",
      "\t--recode-INFO-all\n",
      "\t--out /data/gpfs/assoc/denovo/tfaske/sagebrush/SNPcall/AV2/filtering/AV2_chr_miss60_thin100_MAF1\n",
      "\t--positions /data/gpfs/assoc/denovo/tfaske/sagebrush/SNPcall/AV2/filtering/keep_miss60.txt\n",
      "\t--recode\n",
      "\t--remove-filtered-all\n",
      "\n",
      "Using zlib version: 1.2.11\n",
      "Warning: Expected at least 2 parts in INFO entry: ID=PV4,Number=4,Type=Float,Description=\"P-values for strand bias, baseQ bias, mapQ bias and tail distance bias\">\n",
      "Warning: Expected at least 2 parts in INFO entry: ID=PV4,Number=4,Type=Float,Description=\"P-values for strand bias, baseQ bias, mapQ bias and tail distance bias\">\n",
      "Warning: Expected at least 2 parts in INFO entry: ID=DP4,Number=4,Type=Integer,Description=\"Number of high-quality ref-forward , ref-reverse, alt-forward and alt-reverse bases\">\n",
      "Warning: Expected at least 2 parts in INFO entry: ID=DP4,Number=4,Type=Integer,Description=\"Number of high-quality ref-forward , ref-reverse, alt-forward and alt-reverse bases\">\n",
      "After filtering, kept 172 out of 172 Individuals\n",
      "Outputting VCF file...\n",
      "After filtering, kept 38646 out of a possible 458910 Sites\n",
      "Run Time = 20.00 seconds\n"
     ]
    }
   ],
   "source": [
    "!$vcftools --vcf {\"AV2_chr_thin100_MAF1.recode.vcf\"} \\\n",
    "--remove-filtered-all \\\n",
    "--recode \\\n",
    "--recode-INFO-all \\\n",
    "--positions {os.path.join(analysis_dir, \"keep_miss60.txt\")} \\\n",
    "--out {os.path.join(analysis_dir, \"AV2_chr_miss60_thin100_MAF1\")}"
   ]
  },
  {
   "cell_type": "code",
   "execution_count": 22,
   "metadata": {},
   "outputs": [],
   "source": [
    "vcf_filtered = \"AV2_chr_miss60_thin100_MAF1.recode.vcf\"\n",
    "vcf_filtered_gz = \"%s.gz\" % vcf_filtered\n",
    "!$bgzip -c $vcf_filtered > {vcf_filtered_gz}\n",
    "!$tabix {vcf_filtered_gz}"
   ]
  },
  {
   "cell_type": "markdown",
   "metadata": {},
   "source": [
    "# Remove bad_indv\n",
    "\n",
    "by do it by mean_depth cause no missing data "
   ]
  },
  {
   "cell_type": "code",
   "execution_count": 23,
   "metadata": {
    "scrolled": true
   },
   "outputs": [
    {
     "name": "stdout",
     "output_type": "stream",
     "text": [
      "\n",
      "VCFtools - 0.1.16\n",
      "(C) Adam Auton and Anthony Marcketta 2009\n",
      "\n",
      "Parameters as interpreted:\n",
      "\t--gzvcf AV2_chr_miss60_thin100_MAF1.recode.vcf.gz\n",
      "\t--depth\n",
      "\t--out AV2_chr_miss60_thin100_MAF1.recode.vcf.gz\n",
      "\n",
      "Using zlib version: 1.2.11\n",
      "Warning: Expected at least 2 parts in INFO entry: ID=PV4,Number=4,Type=Float,Description=\"P-values for strand bias, baseQ bias, mapQ bias and tail distance bias\">\n",
      "Warning: Expected at least 2 parts in INFO entry: ID=PV4,Number=4,Type=Float,Description=\"P-values for strand bias, baseQ bias, mapQ bias and tail distance bias\">\n",
      "Warning: Expected at least 2 parts in INFO entry: ID=DP4,Number=4,Type=Integer,Description=\"Number of high-quality ref-forward , ref-reverse, alt-forward and alt-reverse bases\">\n",
      "Warning: Expected at least 2 parts in INFO entry: ID=DP4,Number=4,Type=Integer,Description=\"Number of high-quality ref-forward , ref-reverse, alt-forward and alt-reverse bases\">\n",
      "After filtering, kept 172 out of 172 Individuals\n",
      "Outputting Mean Depth by Individual\n",
      "After filtering, kept 38646 out of a possible 38646 Sites\n",
      "Run Time = 2.00 seconds\n"
     ]
    }
   ],
   "source": [
    "!$vcftools --gzvcf {vcf_filtered_gz} \\\n",
    "--out {vcf_filtered_gz} \\\n",
    "--depth"
   ]
  },
  {
   "cell_type": "code",
   "execution_count": 24,
   "metadata": {},
   "outputs": [
    {
     "data": {
      "text/html": [
       "<div>\n",
       "<style scoped>\n",
       "    .dataframe tbody tr th:only-of-type {\n",
       "        vertical-align: middle;\n",
       "    }\n",
       "\n",
       "    .dataframe tbody tr th {\n",
       "        vertical-align: top;\n",
       "    }\n",
       "\n",
       "    .dataframe thead th {\n",
       "        text-align: right;\n",
       "    }\n",
       "</style>\n",
       "<table border=\"1\" class=\"dataframe\">\n",
       "  <thead>\n",
       "    <tr style=\"text-align: right;\">\n",
       "      <th></th>\n",
       "      <th>INDV</th>\n",
       "      <th>N_SITES</th>\n",
       "      <th>MEAN_DEPTH</th>\n",
       "    </tr>\n",
       "  </thead>\n",
       "  <tbody>\n",
       "    <tr>\n",
       "      <th>0</th>\n",
       "      <td>AV2_AN_1</td>\n",
       "      <td>38646</td>\n",
       "      <td>2.10019</td>\n",
       "    </tr>\n",
       "    <tr>\n",
       "      <th>1</th>\n",
       "      <td>AV2_AN_2</td>\n",
       "      <td>38646</td>\n",
       "      <td>1.71350</td>\n",
       "    </tr>\n",
       "    <tr>\n",
       "      <th>2</th>\n",
       "      <td>AV2_AN_3</td>\n",
       "      <td>38646</td>\n",
       "      <td>1.48696</td>\n",
       "    </tr>\n",
       "    <tr>\n",
       "      <th>3</th>\n",
       "      <td>AV2_AN_4</td>\n",
       "      <td>38646</td>\n",
       "      <td>1.60330</td>\n",
       "    </tr>\n",
       "    <tr>\n",
       "      <th>4</th>\n",
       "      <td>AV2_AN_5</td>\n",
       "      <td>38646</td>\n",
       "      <td>1.35916</td>\n",
       "    </tr>\n",
       "  </tbody>\n",
       "</table>\n",
       "</div>"
      ],
      "text/plain": [
       "       INDV  N_SITES  MEAN_DEPTH\n",
       "0  AV2_AN_1    38646     2.10019\n",
       "1  AV2_AN_2    38646     1.71350\n",
       "2  AV2_AN_3    38646     1.48696\n",
       "3  AV2_AN_4    38646     1.60330\n",
       "4  AV2_AN_5    38646     1.35916"
      ]
     },
     "execution_count": 24,
     "metadata": {},
     "output_type": "execute_result"
    }
   ],
   "source": [
    "depth_file = vcf_filtered_gz + \".idepth\"\n",
    "depth_df = pd.read_csv(depth_file, sep=\"\\t\")\n",
    "depth_df.head()"
   ]
  },
  {
   "cell_type": "code",
   "execution_count": 25,
   "metadata": {
    "scrolled": false
   },
   "outputs": [
    {
     "data": {
      "text/plain": [
       "count    172.000000\n",
       "mean       1.786625\n",
       "std        0.509310\n",
       "min        0.005227\n",
       "25%        1.426883\n",
       "50%        1.785335\n",
       "75%        2.026030\n",
       "max        3.339050\n",
       "Name: MEAN_DEPTH, dtype: float64"
      ]
     },
     "execution_count": 25,
     "metadata": {},
     "output_type": "execute_result"
    }
   ],
   "source": [
    "depth_df.MEAN_DEPTH.describe()"
   ]
  },
  {
   "cell_type": "code",
   "execution_count": 26,
   "metadata": {},
   "outputs": [
    {
     "data": {
      "text/plain": [
       "(172, 1, 1, 1)"
      ]
     },
     "execution_count": 26,
     "metadata": {},
     "output_type": "execute_result"
    }
   ],
   "source": [
    "len(depth_df),len(depth_df[depth_df.MEAN_DEPTH <= .05]),len(depth_df[depth_df.MEAN_DEPTH <= .1]), len(depth_df[depth_df.MEAN_DEPTH <= .15])\n"
   ]
  },
  {
   "cell_type": "code",
   "execution_count": 27,
   "metadata": {},
   "outputs": [],
   "source": [
    "bad_indv = depth_df.INDV[depth_df.MEAN_DEPTH <= .1]"
   ]
  },
  {
   "cell_type": "code",
   "execution_count": 28,
   "metadata": {},
   "outputs": [],
   "source": [
    "with open(os.path.join(analysis_dir, \"bad_indv.txt\"), \"w\") as o:\n",
    "    o.write(\"INDV\\n\")\n",
    "    for elem in bad_indv:\n",
    "        o.write(\"%s\\n\" % elem)"
   ]
  },
  {
   "cell_type": "code",
   "execution_count": 29,
   "metadata": {},
   "outputs": [
    {
     "name": "stdout",
     "output_type": "stream",
     "text": [
      "INDV\r\n",
      "AV2_TF_149\r\n"
     ]
    }
   ],
   "source": [
    "!cat bad_indv.txt"
   ]
  },
  {
   "cell_type": "code",
   "execution_count": 30,
   "metadata": {},
   "outputs": [
    {
     "name": "stdout",
     "output_type": "stream",
     "text": [
      "\n",
      "VCFtools - 0.1.16\n",
      "(C) Adam Auton and Anthony Marcketta 2009\n",
      "\n",
      "Parameters as interpreted:\n",
      "\t--gzvcf AV2_chr_miss60_thin100_MAF1.recode.vcf.gz\n",
      "\t--remove /data/gpfs/assoc/denovo/tfaske/sagebrush/SNPcall/AV2/filtering/bad_indv.txt\n",
      "\t--recode-INFO-all\n",
      "\t--out /data/gpfs/assoc/denovo/tfaske/sagebrush/SNPcall/AV2/filtering/snps_indv_removed\n",
      "\t--recode\n",
      "\t--remove-filtered-all\n",
      "\t--remove-indels\n",
      "\n",
      "Using zlib version: 1.2.11\n",
      "Warning: Expected at least 2 parts in INFO entry: ID=PV4,Number=4,Type=Float,Description=\"P-values for strand bias, baseQ bias, mapQ bias and tail distance bias\">\n",
      "Warning: Expected at least 2 parts in INFO entry: ID=PV4,Number=4,Type=Float,Description=\"P-values for strand bias, baseQ bias, mapQ bias and tail distance bias\">\n",
      "Warning: Expected at least 2 parts in INFO entry: ID=DP4,Number=4,Type=Integer,Description=\"Number of high-quality ref-forward , ref-reverse, alt-forward and alt-reverse bases\">\n",
      "Warning: Expected at least 2 parts in INFO entry: ID=DP4,Number=4,Type=Integer,Description=\"Number of high-quality ref-forward , ref-reverse, alt-forward and alt-reverse bases\">\n",
      "Excluding individuals in 'exclude' list\n",
      "After filtering, kept 171 out of 172 Individuals\n",
      "Outputting VCF file...\n",
      "After filtering, kept 38646 out of a possible 38646 Sites\n",
      "Run Time = 19.00 seconds\n"
     ]
    }
   ],
   "source": [
    "!$vcftools --gzvcf $vcf_filtered_gz \\\n",
    "--remove-indels  \\\n",
    "--remove-filtered-all \\\n",
    "--recode \\\n",
    "--recode-INFO-all \\\n",
    "--remove {os.path.join(analysis_dir, \"bad_indv.txt\")} \\\n",
    "--out {os.path.join(analysis_dir, \"snps_indv_removed\")}"
   ]
  },
  {
   "cell_type": "code",
   "execution_count": 31,
   "metadata": {},
   "outputs": [],
   "source": [
    "vcf_bad_remove = os.path.join(analysis_dir, \"snps_indv_removed.recode.vcf\")\n",
    "vcf_bad_remove_gz = vcf_bad_remove + \".gz\"\n",
    "!$bgzip -c {vcf_bad_remove} > {vcf_bad_remove_gz}\n",
    "!$tabix {vcf_bad_remove_gz}"
   ]
  },
  {
   "cell_type": "markdown",
   "metadata": {},
   "source": [
    "# Filter snps further \n",
    "this needs to be done after removing individuals\n"
   ]
  },
  {
   "cell_type": "code",
   "execution_count": 32,
   "metadata": {},
   "outputs": [],
   "source": [
    "def get_vcf_stats(vcf_gz):\n",
    "    \n",
    "    stats = ['depth',\n",
    "            'site-depth',\n",
    "            'site-mean-depth',\n",
    "            'site-quality',\n",
    "            'missing-site',\n",
    "            'freq',\n",
    "            'counts',\n",
    "            'hardy',\n",
    "            'het']\n",
    "    \n",
    "    for stat in stats:\n",
    "        !$vcftools --gzvcf $vcf_gz \\\n",
    "        --out $vcf_gz \\\n",
    "        {\"--%s\" % stat} "
   ]
  },
  {
   "cell_type": "code",
   "execution_count": 33,
   "metadata": {},
   "outputs": [
    {
     "name": "stdout",
     "output_type": "stream",
     "text": [
      "\n",
      "VCFtools - 0.1.16\n",
      "(C) Adam Auton and Anthony Marcketta 2009\n",
      "\n",
      "Parameters as interpreted:\n",
      "\t--gzvcf /data/gpfs/assoc/denovo/tfaske/sagebrush/SNPcall/AV2/filtering/snps_indv_removed.recode.vcf.gz\n",
      "\t--depth\n",
      "\t--out /data/gpfs/assoc/denovo/tfaske/sagebrush/SNPcall/AV2/filtering/snps_indv_removed.recode.vcf.gz\n",
      "\n",
      "Using zlib version: 1.2.11\n",
      "Warning: Expected at least 2 parts in INFO entry: ID=PV4,Number=4,Type=Float,Description=\"P-values for strand bias, baseQ bias, mapQ bias and tail distance bias\">\n",
      "Warning: Expected at least 2 parts in INFO entry: ID=PV4,Number=4,Type=Float,Description=\"P-values for strand bias, baseQ bias, mapQ bias and tail distance bias\">\n",
      "Warning: Expected at least 2 parts in INFO entry: ID=DP4,Number=4,Type=Integer,Description=\"Number of high-quality ref-forward , ref-reverse, alt-forward and alt-reverse bases\">\n",
      "Warning: Expected at least 2 parts in INFO entry: ID=DP4,Number=4,Type=Integer,Description=\"Number of high-quality ref-forward , ref-reverse, alt-forward and alt-reverse bases\">\n",
      "After filtering, kept 171 out of 171 Individuals\n",
      "Outputting Mean Depth by Individual\n",
      "After filtering, kept 38646 out of a possible 38646 Sites\n",
      "Run Time = 2.00 seconds\n",
      "\n",
      "VCFtools - 0.1.16\n",
      "(C) Adam Auton and Anthony Marcketta 2009\n",
      "\n",
      "Parameters as interpreted:\n",
      "\t--gzvcf /data/gpfs/assoc/denovo/tfaske/sagebrush/SNPcall/AV2/filtering/snps_indv_removed.recode.vcf.gz\n",
      "\t--out /data/gpfs/assoc/denovo/tfaske/sagebrush/SNPcall/AV2/filtering/snps_indv_removed.recode.vcf.gz\n",
      "\t--site-depth\n",
      "\n",
      "Using zlib version: 1.2.11\n",
      "Warning: Expected at least 2 parts in INFO entry: ID=PV4,Number=4,Type=Float,Description=\"P-values for strand bias, baseQ bias, mapQ bias and tail distance bias\">\n",
      "Warning: Expected at least 2 parts in INFO entry: ID=PV4,Number=4,Type=Float,Description=\"P-values for strand bias, baseQ bias, mapQ bias and tail distance bias\">\n",
      "Warning: Expected at least 2 parts in INFO entry: ID=DP4,Number=4,Type=Integer,Description=\"Number of high-quality ref-forward , ref-reverse, alt-forward and alt-reverse bases\">\n",
      "Warning: Expected at least 2 parts in INFO entry: ID=DP4,Number=4,Type=Integer,Description=\"Number of high-quality ref-forward , ref-reverse, alt-forward and alt-reverse bases\">\n",
      "After filtering, kept 171 out of 171 Individuals\n",
      "Outputting Depth for Each Site\n",
      "After filtering, kept 38646 out of a possible 38646 Sites\n",
      "Run Time = 2.00 seconds\n",
      "\n",
      "VCFtools - 0.1.16\n",
      "(C) Adam Auton and Anthony Marcketta 2009\n",
      "\n",
      "Parameters as interpreted:\n",
      "\t--gzvcf /data/gpfs/assoc/denovo/tfaske/sagebrush/SNPcall/AV2/filtering/snps_indv_removed.recode.vcf.gz\n",
      "\t--out /data/gpfs/assoc/denovo/tfaske/sagebrush/SNPcall/AV2/filtering/snps_indv_removed.recode.vcf.gz\n",
      "\t--site-mean-depth\n",
      "\n",
      "Using zlib version: 1.2.11\n",
      "Warning: Expected at least 2 parts in INFO entry: ID=PV4,Number=4,Type=Float,Description=\"P-values for strand bias, baseQ bias, mapQ bias and tail distance bias\">\n",
      "Warning: Expected at least 2 parts in INFO entry: ID=PV4,Number=4,Type=Float,Description=\"P-values for strand bias, baseQ bias, mapQ bias and tail distance bias\">\n",
      "Warning: Expected at least 2 parts in INFO entry: ID=DP4,Number=4,Type=Integer,Description=\"Number of high-quality ref-forward , ref-reverse, alt-forward and alt-reverse bases\">\n",
      "Warning: Expected at least 2 parts in INFO entry: ID=DP4,Number=4,Type=Integer,Description=\"Number of high-quality ref-forward , ref-reverse, alt-forward and alt-reverse bases\">\n",
      "After filtering, kept 171 out of 171 Individuals\n",
      "Outputting Depth for Each Site\n",
      "After filtering, kept 38646 out of a possible 38646 Sites\n",
      "Run Time = 3.00 seconds\n",
      "\n",
      "VCFtools - 0.1.16\n",
      "(C) Adam Auton and Anthony Marcketta 2009\n",
      "\n",
      "Parameters as interpreted:\n",
      "\t--gzvcf /data/gpfs/assoc/denovo/tfaske/sagebrush/SNPcall/AV2/filtering/snps_indv_removed.recode.vcf.gz\n",
      "\t--out /data/gpfs/assoc/denovo/tfaske/sagebrush/SNPcall/AV2/filtering/snps_indv_removed.recode.vcf.gz\n",
      "\t--site-quality\n",
      "\n",
      "Using zlib version: 1.2.11\n",
      "Warning: Expected at least 2 parts in INFO entry: ID=PV4,Number=4,Type=Float,Description=\"P-values for strand bias, baseQ bias, mapQ bias and tail distance bias\">\n",
      "Warning: Expected at least 2 parts in INFO entry: ID=PV4,Number=4,Type=Float,Description=\"P-values for strand bias, baseQ bias, mapQ bias and tail distance bias\">\n",
      "Warning: Expected at least 2 parts in INFO entry: ID=DP4,Number=4,Type=Integer,Description=\"Number of high-quality ref-forward , ref-reverse, alt-forward and alt-reverse bases\">\n",
      "Warning: Expected at least 2 parts in INFO entry: ID=DP4,Number=4,Type=Integer,Description=\"Number of high-quality ref-forward , ref-reverse, alt-forward and alt-reverse bases\">\n",
      "After filtering, kept 171 out of 171 Individuals\n",
      "Outputting Quality for Each Site\n",
      "After filtering, kept 38646 out of a possible 38646 Sites\n",
      "Run Time = 1.00 seconds\n",
      "\n",
      "VCFtools - 0.1.16\n",
      "(C) Adam Auton and Anthony Marcketta 2009\n",
      "\n",
      "Parameters as interpreted:\n",
      "\t--gzvcf /data/gpfs/assoc/denovo/tfaske/sagebrush/SNPcall/AV2/filtering/snps_indv_removed.recode.vcf.gz\n",
      "\t--out /data/gpfs/assoc/denovo/tfaske/sagebrush/SNPcall/AV2/filtering/snps_indv_removed.recode.vcf.gz\n",
      "\t--missing-site\n",
      "\n",
      "Using zlib version: 1.2.11\n",
      "Warning: Expected at least 2 parts in INFO entry: ID=PV4,Number=4,Type=Float,Description=\"P-values for strand bias, baseQ bias, mapQ bias and tail distance bias\">\n",
      "Warning: Expected at least 2 parts in INFO entry: ID=PV4,Number=4,Type=Float,Description=\"P-values for strand bias, baseQ bias, mapQ bias and tail distance bias\">\n",
      "Warning: Expected at least 2 parts in INFO entry: ID=DP4,Number=4,Type=Integer,Description=\"Number of high-quality ref-forward , ref-reverse, alt-forward and alt-reverse bases\">\n",
      "Warning: Expected at least 2 parts in INFO entry: ID=DP4,Number=4,Type=Integer,Description=\"Number of high-quality ref-forward , ref-reverse, alt-forward and alt-reverse bases\">\n",
      "After filtering, kept 171 out of 171 Individuals\n",
      "Outputting Site Missingness\n",
      "After filtering, kept 38646 out of a possible 38646 Sites\n",
      "Run Time = 2.00 seconds\n",
      "\n",
      "VCFtools - 0.1.16\n",
      "(C) Adam Auton and Anthony Marcketta 2009\n",
      "\n",
      "Parameters as interpreted:\n",
      "\t--gzvcf /data/gpfs/assoc/denovo/tfaske/sagebrush/SNPcall/AV2/filtering/snps_indv_removed.recode.vcf.gz\n",
      "\t--freq\n",
      "\t--out /data/gpfs/assoc/denovo/tfaske/sagebrush/SNPcall/AV2/filtering/snps_indv_removed.recode.vcf.gz\n",
      "\n",
      "Using zlib version: 1.2.11\n",
      "Warning: Expected at least 2 parts in INFO entry: ID=PV4,Number=4,Type=Float,Description=\"P-values for strand bias, baseQ bias, mapQ bias and tail distance bias\">\n",
      "Warning: Expected at least 2 parts in INFO entry: ID=PV4,Number=4,Type=Float,Description=\"P-values for strand bias, baseQ bias, mapQ bias and tail distance bias\">\n",
      "Warning: Expected at least 2 parts in INFO entry: ID=DP4,Number=4,Type=Integer,Description=\"Number of high-quality ref-forward , ref-reverse, alt-forward and alt-reverse bases\">\n",
      "Warning: Expected at least 2 parts in INFO entry: ID=DP4,Number=4,Type=Integer,Description=\"Number of high-quality ref-forward , ref-reverse, alt-forward and alt-reverse bases\">\n",
      "After filtering, kept 171 out of 171 Individuals\n",
      "Outputting Frequency Statistics...\n",
      "After filtering, kept 38646 out of a possible 38646 Sites\n",
      "Run Time = 2.00 seconds\n",
      "\n",
      "VCFtools - 0.1.16\n",
      "(C) Adam Auton and Anthony Marcketta 2009\n",
      "\n",
      "Parameters as interpreted:\n",
      "\t--gzvcf /data/gpfs/assoc/denovo/tfaske/sagebrush/SNPcall/AV2/filtering/snps_indv_removed.recode.vcf.gz\n",
      "\t--counts\n",
      "\t--out /data/gpfs/assoc/denovo/tfaske/sagebrush/SNPcall/AV2/filtering/snps_indv_removed.recode.vcf.gz\n",
      "\n",
      "Using zlib version: 1.2.11\n",
      "Warning: Expected at least 2 parts in INFO entry: ID=PV4,Number=4,Type=Float,Description=\"P-values for strand bias, baseQ bias, mapQ bias and tail distance bias\">\n",
      "Warning: Expected at least 2 parts in INFO entry: ID=PV4,Number=4,Type=Float,Description=\"P-values for strand bias, baseQ bias, mapQ bias and tail distance bias\">\n",
      "Warning: Expected at least 2 parts in INFO entry: ID=DP4,Number=4,Type=Integer,Description=\"Number of high-quality ref-forward , ref-reverse, alt-forward and alt-reverse bases\">\n",
      "Warning: Expected at least 2 parts in INFO entry: ID=DP4,Number=4,Type=Integer,Description=\"Number of high-quality ref-forward , ref-reverse, alt-forward and alt-reverse bases\">\n",
      "After filtering, kept 171 out of 171 Individuals\n",
      "Outputting Frequency Statistics...\n",
      "After filtering, kept 38646 out of a possible 38646 Sites\n",
      "Run Time = 1.00 seconds\n"
     ]
    },
    {
     "name": "stdout",
     "output_type": "stream",
     "text": [
      "\n",
      "VCFtools - 0.1.16\n",
      "(C) Adam Auton and Anthony Marcketta 2009\n",
      "\n",
      "Parameters as interpreted:\n",
      "\t--gzvcf /data/gpfs/assoc/denovo/tfaske/sagebrush/SNPcall/AV2/filtering/snps_indv_removed.recode.vcf.gz\n",
      "\t--hardy\n",
      "\t--out /data/gpfs/assoc/denovo/tfaske/sagebrush/SNPcall/AV2/filtering/snps_indv_removed.recode.vcf.gz\n",
      "\n",
      "Using zlib version: 1.2.11\n",
      "Warning: Expected at least 2 parts in INFO entry: ID=PV4,Number=4,Type=Float,Description=\"P-values for strand bias, baseQ bias, mapQ bias and tail distance bias\">\n",
      "Warning: Expected at least 2 parts in INFO entry: ID=PV4,Number=4,Type=Float,Description=\"P-values for strand bias, baseQ bias, mapQ bias and tail distance bias\">\n",
      "Warning: Expected at least 2 parts in INFO entry: ID=DP4,Number=4,Type=Integer,Description=\"Number of high-quality ref-forward , ref-reverse, alt-forward and alt-reverse bases\">\n",
      "Warning: Expected at least 2 parts in INFO entry: ID=DP4,Number=4,Type=Integer,Description=\"Number of high-quality ref-forward , ref-reverse, alt-forward and alt-reverse bases\">\n",
      "After filtering, kept 171 out of 171 Individuals\n",
      "Outputting HWE statistics (but only for biallelic loci)\n",
      "After filtering, kept 38646 out of a possible 38646 Sites\n",
      "Run Time = 2.00 seconds\n",
      "\n",
      "VCFtools - 0.1.16\n",
      "(C) Adam Auton and Anthony Marcketta 2009\n",
      "\n",
      "Parameters as interpreted:\n",
      "\t--gzvcf /data/gpfs/assoc/denovo/tfaske/sagebrush/SNPcall/AV2/filtering/snps_indv_removed.recode.vcf.gz\n",
      "\t--het\n",
      "\t--out /data/gpfs/assoc/denovo/tfaske/sagebrush/SNPcall/AV2/filtering/snps_indv_removed.recode.vcf.gz\n",
      "\n",
      "Using zlib version: 1.2.11\n",
      "Warning: Expected at least 2 parts in INFO entry: ID=PV4,Number=4,Type=Float,Description=\"P-values for strand bias, baseQ bias, mapQ bias and tail distance bias\">\n",
      "Warning: Expected at least 2 parts in INFO entry: ID=PV4,Number=4,Type=Float,Description=\"P-values for strand bias, baseQ bias, mapQ bias and tail distance bias\">\n",
      "Warning: Expected at least 2 parts in INFO entry: ID=DP4,Number=4,Type=Integer,Description=\"Number of high-quality ref-forward , ref-reverse, alt-forward and alt-reverse bases\">\n",
      "Warning: Expected at least 2 parts in INFO entry: ID=DP4,Number=4,Type=Integer,Description=\"Number of high-quality ref-forward , ref-reverse, alt-forward and alt-reverse bases\">\n",
      "After filtering, kept 171 out of 171 Individuals\n",
      "Outputting Individual Heterozygosity\n",
      "After filtering, kept 38646 out of a possible 38646 Sites\n",
      "Run Time = 2.00 seconds\n"
     ]
    }
   ],
   "source": [
    "get_vcf_stats(vcf_bad_remove_gz)"
   ]
  },
  {
   "cell_type": "code",
   "execution_count": 34,
   "metadata": {},
   "outputs": [],
   "source": [
    "#pd.set_option('display.max_columns', 100)\n",
    "\n",
    "def get_MAF(row):\n",
    "    try:\n",
    "        return np.min([row.A1_freq, row.A2_freq])\n",
    "    except:\n",
    "        print(row)\n",
    "        \n",
    "def get_correction(n):\n",
    "    #for finite sample size\n",
    "    return (2*n)/(2*n-1)\n",
    "\n",
    "def calculate_Fis(vals):\n",
    "    try:\n",
    "        data = [float(x) for x in vals.split(\"/\")]\n",
    "        assert len(data) == 3\n",
    "        num_individuals = np.sum(data)\n",
    "        total_alleles = 2*num_individuals\n",
    "        a1_count = 2*data[0]\n",
    "        a2_count = 2*data[2]\n",
    "        het_count = data[1]\n",
    "        a1_count += het_count\n",
    "        a2_count += het_count\n",
    "        a1_freq = a1_count/total_alleles\n",
    "        a2_freq = a2_count/total_alleles\n",
    "        assert a1_freq + a2_freq == 1.0\n",
    "        He = 2 * a1_freq * a2_freq * get_correction(num_individuals)\n",
    "        Ho = het_count/num_individuals\n",
    "        Fis = 1 - (Ho/He)\n",
    "        return Fis\n",
    "    except:\n",
    "        return -9\n",
    "\n",
    "def combine_vcf_stats(filedir, prefix):\n",
    "    \n",
    "    hardy_files = !ls {filedir}/{prefix}.hwe\n",
    "    hardy = pd.read_csv(hardy_files[0], sep=\"\\t\")\n",
    "\n",
    "    hardy.columns = ['CHROM', 'POS', 'OBS(HOM1/HET/HOM2)', 'E(HOM1/HET/HOM2)', 'ChiSq_HWE',\n",
    "       'P_HWE', 'P_HET_DEFICIT', 'P_HET_EXCESS']\n",
    "    hardy.index = hardy.apply(lambda x: \"%s-%d\" % (x.CHROM, x.POS), axis=1)\n",
    "    \n",
    "    loci_files = !ls {filedir}/{prefix}.l* | grep -v log\n",
    "    loci_df = pd.concat([pd.read_csv(x, sep=\"\\t\", skiprows=0) for x in loci_files], axis=1)\n",
    "    chrom_pos = loci_df.ix[:,0:2]\n",
    "    \n",
    "    frq_files = !ls {filedir}/{prefix}.frq* | grep -v count\n",
    "    frq_data = []\n",
    "    h = open(frq_files[0])\n",
    "    header = h.readline().strip().split()\n",
    "    for line in h:\n",
    "        frq_data.append(line.strip().split('\\t'))\n",
    "\n",
    "    header = ['CHROM', 'POS', 'N_ALLELES', 'N_CHR', 'A1_FREQ', \"A2_FREQ\"]\n",
    "    frq_df = pd.DataFrame(frq_data)\n",
    "    print(frq_df.columns)\n",
    "    #frq_df = frq_df.drop([6,7],axis=1)\n",
    "    frq_df.columns = header\n",
    "    frq_df.index = frq_df.apply(lambda x: \"%s-%s\" % (x.CHROM, x.POS), axis=1)\n",
    "    \n",
    "    loci_df = loci_df.drop(['CHROM','CHR','POS'], axis=1)\n",
    "    loci_df = pd.concat([chrom_pos, loci_df], axis=1)\n",
    "    loci_df.index = loci_df.apply(lambda x: \"%s-%d\" % (x.CHROM, x.POS), axis=1)\n",
    "    \n",
    "    loci_df = pd.concat([loci_df, frq_df, hardy], axis=1)\n",
    "    loci_df[\"A1_allele\"] = loci_df.apply(lambda row: row.A1_FREQ.split(\":\")[0], axis=1)\n",
    "    loci_df[\"A2_allele\"] = loci_df.apply(lambda row: row.A2_FREQ.split(\":\")[0], axis=1)\n",
    "    \n",
    "    loci_df[\"A1_freq\"] = loci_df.apply(lambda row: float(row.A1_FREQ.split(\":\")[1]), axis=1)\n",
    "    loci_df[\"A2_freq\"] = loci_df.apply(lambda row: float(row.A2_FREQ.split(\":\")[1]), axis=1)\n",
    "    \n",
    "    loci_df['MAF'] = loci_df.apply(get_MAF, axis=1)\n",
    "    loci_df = loci_df.drop(['CHROM', 'POS'], axis=1)\n",
    "    \n",
    "    loci_df['Fis'] = loci_df['OBS(HOM1/HET/HOM2)'].apply(calculate_Fis)\n",
    "    \n",
    "    return loci_df, frq_df, hardy"
   ]
  },
  {
   "cell_type": "code",
   "execution_count": 35,
   "metadata": {},
   "outputs": [
    {
     "data": {
      "text/plain": [
       "'/data/gpfs/assoc/denovo/tfaske/sagebrush/SNPcall/AV2/filtering/snps_indv_removed.recode.vcf.gz'"
      ]
     },
     "execution_count": 35,
     "metadata": {},
     "output_type": "execute_result"
    }
   ],
   "source": [
    "vcf_bad_remove_gz"
   ]
  },
  {
   "cell_type": "code",
   "execution_count": 36,
   "metadata": {
    "scrolled": true
   },
   "outputs": [
    {
     "name": "stderr",
     "output_type": "stream",
     "text": [
      "/data/gpfs/assoc/parchmanlab/tfaske/anaconda3/envs/py36/lib/python3.6/site-packages/ipykernel_launcher.py:45: FutureWarning: \n",
      ".ix is deprecated. Please use\n",
      ".loc for label based indexing or\n",
      ".iloc for positional indexing\n",
      "\n",
      "See the documentation here:\n",
      "http://pandas.pydata.org/pandas-docs/stable/user_guide/indexing.html#ix-indexer-is-deprecated\n",
      "/data/gpfs/assoc/parchmanlab/tfaske/anaconda3/envs/py36/lib/python3.6/site-packages/pandas/core/indexing.py:822: FutureWarning: \n",
      ".ix is deprecated. Please use\n",
      ".loc for label based indexing or\n",
      ".iloc for positional indexing\n",
      "\n",
      "See the documentation here:\n",
      "http://pandas.pydata.org/pandas-docs/stable/user_guide/indexing.html#ix-indexer-is-deprecated\n",
      "  retval = getattr(retval, self.name)._getitem_axis(key, axis=i)\n"
     ]
    },
    {
     "name": "stdout",
     "output_type": "stream",
     "text": [
      "RangeIndex(start=0, stop=6, step=1)\n"
     ]
    }
   ],
   "source": [
    "loci_df, frq_df, hardy = combine_vcf_stats(analysis_dir,'snps_indv_removed.recode.vcf.gz')"
   ]
  },
  {
   "cell_type": "code",
   "execution_count": 37,
   "metadata": {},
   "outputs": [
    {
     "data": {
      "text/html": [
       "<div>\n",
       "<style scoped>\n",
       "    .dataframe tbody tr th:only-of-type {\n",
       "        vertical-align: middle;\n",
       "    }\n",
       "\n",
       "    .dataframe tbody tr th {\n",
       "        vertical-align: top;\n",
       "    }\n",
       "\n",
       "    .dataframe thead th {\n",
       "        text-align: right;\n",
       "    }\n",
       "</style>\n",
       "<table border=\"1\" class=\"dataframe\">\n",
       "  <thead>\n",
       "    <tr style=\"text-align: right;\">\n",
       "      <th></th>\n",
       "      <th>SUM_DEPTH</th>\n",
       "      <th>SUMSQ_DEPTH</th>\n",
       "      <th>MEAN_DEPTH</th>\n",
       "      <th>VAR_DEPTH</th>\n",
       "      <th>N_DATA</th>\n",
       "      <th>N_GENOTYPE_FILTERED</th>\n",
       "      <th>N_MISS</th>\n",
       "      <th>F_MISS</th>\n",
       "      <th>QUAL</th>\n",
       "      <th>N_ALLELES</th>\n",
       "      <th>...</th>\n",
       "      <th>ChiSq_HWE</th>\n",
       "      <th>P_HWE</th>\n",
       "      <th>P_HET_DEFICIT</th>\n",
       "      <th>P_HET_EXCESS</th>\n",
       "      <th>A1_allele</th>\n",
       "      <th>A2_allele</th>\n",
       "      <th>A1_freq</th>\n",
       "      <th>A2_freq</th>\n",
       "      <th>MAF</th>\n",
       "      <th>Fis</th>\n",
       "    </tr>\n",
       "  </thead>\n",
       "  <tbody>\n",
       "    <tr>\n",
       "      <th>CM042338.1-398145</th>\n",
       "      <td>185</td>\n",
       "      <td>721</td>\n",
       "      <td>1.081870</td>\n",
       "      <td>3.06385</td>\n",
       "      <td>342</td>\n",
       "      <td>0</td>\n",
       "      <td>0</td>\n",
       "      <td>0</td>\n",
       "      <td>33.2719</td>\n",
       "      <td>2</td>\n",
       "      <td>...</td>\n",
       "      <td>0.023949</td>\n",
       "      <td>1.000000</td>\n",
       "      <td>1.000000</td>\n",
       "      <td>0.982431</td>\n",
       "      <td>G</td>\n",
       "      <td>A</td>\n",
       "      <td>0.988304</td>\n",
       "      <td>0.011696</td>\n",
       "      <td>0.011696</td>\n",
       "      <td>-0.008876</td>\n",
       "    </tr>\n",
       "    <tr>\n",
       "      <th>CM042338.1-1342981</th>\n",
       "      <td>272</td>\n",
       "      <td>1056</td>\n",
       "      <td>1.590640</td>\n",
       "      <td>3.66674</td>\n",
       "      <td>342</td>\n",
       "      <td>0</td>\n",
       "      <td>0</td>\n",
       "      <td>0</td>\n",
       "      <td>999.0000</td>\n",
       "      <td>2</td>\n",
       "      <td>...</td>\n",
       "      <td>1.012965</td>\n",
       "      <td>0.388862</td>\n",
       "      <td>0.245019</td>\n",
       "      <td>0.921567</td>\n",
       "      <td>G</td>\n",
       "      <td>A</td>\n",
       "      <td>0.897661</td>\n",
       "      <td>0.102339</td>\n",
       "      <td>0.102339</td>\n",
       "      <td>0.079665</td>\n",
       "    </tr>\n",
       "    <tr>\n",
       "      <th>CM042338.1-1496832</th>\n",
       "      <td>647</td>\n",
       "      <td>4533</td>\n",
       "      <td>3.783630</td>\n",
       "      <td>12.26470</td>\n",
       "      <td>342</td>\n",
       "      <td>0</td>\n",
       "      <td>0</td>\n",
       "      <td>0</td>\n",
       "      <td>135.3860</td>\n",
       "      <td>2</td>\n",
       "      <td>...</td>\n",
       "      <td>0.054528</td>\n",
       "      <td>1.000000</td>\n",
       "      <td>1.000000</td>\n",
       "      <td>0.956401</td>\n",
       "      <td>G</td>\n",
       "      <td>C</td>\n",
       "      <td>0.982456</td>\n",
       "      <td>0.017544</td>\n",
       "      <td>0.017544</td>\n",
       "      <td>-0.014881</td>\n",
       "    </tr>\n",
       "    <tr>\n",
       "      <th>CM042338.1-1942811</th>\n",
       "      <td>313</td>\n",
       "      <td>1787</td>\n",
       "      <td>1.830410</td>\n",
       "      <td>7.14166</td>\n",
       "      <td>342</td>\n",
       "      <td>0</td>\n",
       "      <td>0</td>\n",
       "      <td>0</td>\n",
       "      <td>999.0000</td>\n",
       "      <td>2</td>\n",
       "      <td>...</td>\n",
       "      <td>0.004787</td>\n",
       "      <td>1.000000</td>\n",
       "      <td>0.671700</td>\n",
       "      <td>0.725656</td>\n",
       "      <td>G</td>\n",
       "      <td>A</td>\n",
       "      <td>0.921053</td>\n",
       "      <td>0.078947</td>\n",
       "      <td>0.078947</td>\n",
       "      <td>-0.002352</td>\n",
       "    </tr>\n",
       "    <tr>\n",
       "      <th>CM042338.1-2125877</th>\n",
       "      <td>157</td>\n",
       "      <td>513</td>\n",
       "      <td>0.918129</td>\n",
       "      <td>2.16973</td>\n",
       "      <td>342</td>\n",
       "      <td>0</td>\n",
       "      <td>0</td>\n",
       "      <td>0</td>\n",
       "      <td>999.0000</td>\n",
       "      <td>2</td>\n",
       "      <td>...</td>\n",
       "      <td>12.538850</td>\n",
       "      <td>0.060678</td>\n",
       "      <td>0.060678</td>\n",
       "      <td>0.999097</td>\n",
       "      <td>A</td>\n",
       "      <td>C</td>\n",
       "      <td>0.020468</td>\n",
       "      <td>0.979532</td>\n",
       "      <td>0.020468</td>\n",
       "      <td>0.272921</td>\n",
       "    </tr>\n",
       "    <tr>\n",
       "      <th>...</th>\n",
       "      <td>...</td>\n",
       "      <td>...</td>\n",
       "      <td>...</td>\n",
       "      <td>...</td>\n",
       "      <td>...</td>\n",
       "      <td>...</td>\n",
       "      <td>...</td>\n",
       "      <td>...</td>\n",
       "      <td>...</td>\n",
       "      <td>...</td>\n",
       "      <td>...</td>\n",
       "      <td>...</td>\n",
       "      <td>...</td>\n",
       "      <td>...</td>\n",
       "      <td>...</td>\n",
       "      <td>...</td>\n",
       "      <td>...</td>\n",
       "      <td>...</td>\n",
       "      <td>...</td>\n",
       "      <td>...</td>\n",
       "      <td>...</td>\n",
       "    </tr>\n",
       "    <tr>\n",
       "      <th>CM042346.1-338112835</th>\n",
       "      <td>120</td>\n",
       "      <td>342</td>\n",
       "      <td>0.701754</td>\n",
       "      <td>1.51641</td>\n",
       "      <td>342</td>\n",
       "      <td>0</td>\n",
       "      <td>0</td>\n",
       "      <td>0</td>\n",
       "      <td>999.0000</td>\n",
       "      <td>2</td>\n",
       "      <td>...</td>\n",
       "      <td>0.160246</td>\n",
       "      <td>0.748539</td>\n",
       "      <td>0.429159</td>\n",
       "      <td>0.783940</td>\n",
       "      <td>C</td>\n",
       "      <td>T</td>\n",
       "      <td>0.859649</td>\n",
       "      <td>0.140351</td>\n",
       "      <td>0.140351</td>\n",
       "      <td>0.033447</td>\n",
       "    </tr>\n",
       "    <tr>\n",
       "      <th>CM042346.1-338202655</th>\n",
       "      <td>296</td>\n",
       "      <td>942</td>\n",
       "      <td>1.730990</td>\n",
       "      <td>2.52721</td>\n",
       "      <td>342</td>\n",
       "      <td>0</td>\n",
       "      <td>0</td>\n",
       "      <td>0</td>\n",
       "      <td>999.0000</td>\n",
       "      <td>2</td>\n",
       "      <td>...</td>\n",
       "      <td>0.124909</td>\n",
       "      <td>1.000000</td>\n",
       "      <td>1.000000</td>\n",
       "      <td>0.897666</td>\n",
       "      <td>T</td>\n",
       "      <td>G</td>\n",
       "      <td>0.973684</td>\n",
       "      <td>0.026316</td>\n",
       "      <td>0.026316</td>\n",
       "      <td>-0.024024</td>\n",
       "    </tr>\n",
       "    <tr>\n",
       "      <th>CM042346.1-338204093</th>\n",
       "      <td>308</td>\n",
       "      <td>1366</td>\n",
       "      <td>1.801170</td>\n",
       "      <td>4.77200</td>\n",
       "      <td>342</td>\n",
       "      <td>0</td>\n",
       "      <td>0</td>\n",
       "      <td>0</td>\n",
       "      <td>999.0000</td>\n",
       "      <td>2</td>\n",
       "      <td>...</td>\n",
       "      <td>0.023949</td>\n",
       "      <td>1.000000</td>\n",
       "      <td>1.000000</td>\n",
       "      <td>0.982431</td>\n",
       "      <td>T</td>\n",
       "      <td>C</td>\n",
       "      <td>0.988304</td>\n",
       "      <td>0.011696</td>\n",
       "      <td>0.011696</td>\n",
       "      <td>-0.008876</td>\n",
       "    </tr>\n",
       "    <tr>\n",
       "      <th>CM042346.1-338208546</th>\n",
       "      <td>455</td>\n",
       "      <td>2107</td>\n",
       "      <td>2.660820</td>\n",
       "      <td>5.27251</td>\n",
       "      <td>342</td>\n",
       "      <td>0</td>\n",
       "      <td>0</td>\n",
       "      <td>0</td>\n",
       "      <td>999.0000</td>\n",
       "      <td>2</td>\n",
       "      <td>...</td>\n",
       "      <td>0.074663</td>\n",
       "      <td>1.000000</td>\n",
       "      <td>1.000000</td>\n",
       "      <td>0.939322</td>\n",
       "      <td>G</td>\n",
       "      <td>A</td>\n",
       "      <td>0.979532</td>\n",
       "      <td>0.020468</td>\n",
       "      <td>0.020468</td>\n",
       "      <td>-0.017910</td>\n",
       "    </tr>\n",
       "    <tr>\n",
       "      <th>CM042346.1-338258036</th>\n",
       "      <td>441</td>\n",
       "      <td>2327</td>\n",
       "      <td>2.578950</td>\n",
       "      <td>6.99814</td>\n",
       "      <td>342</td>\n",
       "      <td>0</td>\n",
       "      <td>0</td>\n",
       "      <td>0</td>\n",
       "      <td>999.0000</td>\n",
       "      <td>2</td>\n",
       "      <td>...</td>\n",
       "      <td>0.124909</td>\n",
       "      <td>1.000000</td>\n",
       "      <td>1.000000</td>\n",
       "      <td>0.897666</td>\n",
       "      <td>T</td>\n",
       "      <td>C</td>\n",
       "      <td>0.973684</td>\n",
       "      <td>0.026316</td>\n",
       "      <td>0.026316</td>\n",
       "      <td>-0.024024</td>\n",
       "    </tr>\n",
       "  </tbody>\n",
       "</table>\n",
       "<p>38646 rows × 25 columns</p>\n",
       "</div>"
      ],
      "text/plain": [
       "                      SUM_DEPTH  SUMSQ_DEPTH  MEAN_DEPTH  VAR_DEPTH  N_DATA  \\\n",
       "CM042338.1-398145           185          721    1.081870    3.06385     342   \n",
       "CM042338.1-1342981          272         1056    1.590640    3.66674     342   \n",
       "CM042338.1-1496832          647         4533    3.783630   12.26470     342   \n",
       "CM042338.1-1942811          313         1787    1.830410    7.14166     342   \n",
       "CM042338.1-2125877          157          513    0.918129    2.16973     342   \n",
       "...                         ...          ...         ...        ...     ...   \n",
       "CM042346.1-338112835        120          342    0.701754    1.51641     342   \n",
       "CM042346.1-338202655        296          942    1.730990    2.52721     342   \n",
       "CM042346.1-338204093        308         1366    1.801170    4.77200     342   \n",
       "CM042346.1-338208546        455         2107    2.660820    5.27251     342   \n",
       "CM042346.1-338258036        441         2327    2.578950    6.99814     342   \n",
       "\n",
       "                      N_GENOTYPE_FILTERED  N_MISS  F_MISS      QUAL N_ALLELES  \\\n",
       "CM042338.1-398145                       0       0       0   33.2719         2   \n",
       "CM042338.1-1342981                      0       0       0  999.0000         2   \n",
       "CM042338.1-1496832                      0       0       0  135.3860         2   \n",
       "CM042338.1-1942811                      0       0       0  999.0000         2   \n",
       "CM042338.1-2125877                      0       0       0  999.0000         2   \n",
       "...                                   ...     ...     ...       ...       ...   \n",
       "CM042346.1-338112835                    0       0       0  999.0000         2   \n",
       "CM042346.1-338202655                    0       0       0  999.0000         2   \n",
       "CM042346.1-338204093                    0       0       0  999.0000         2   \n",
       "CM042346.1-338208546                    0       0       0  999.0000         2   \n",
       "CM042346.1-338258036                    0       0       0  999.0000         2   \n",
       "\n",
       "                      ...  ChiSq_HWE     P_HWE P_HET_DEFICIT P_HET_EXCESS  \\\n",
       "CM042338.1-398145     ...   0.023949  1.000000      1.000000     0.982431   \n",
       "CM042338.1-1342981    ...   1.012965  0.388862      0.245019     0.921567   \n",
       "CM042338.1-1496832    ...   0.054528  1.000000      1.000000     0.956401   \n",
       "CM042338.1-1942811    ...   0.004787  1.000000      0.671700     0.725656   \n",
       "CM042338.1-2125877    ...  12.538850  0.060678      0.060678     0.999097   \n",
       "...                   ...        ...       ...           ...          ...   \n",
       "CM042346.1-338112835  ...   0.160246  0.748539      0.429159     0.783940   \n",
       "CM042346.1-338202655  ...   0.124909  1.000000      1.000000     0.897666   \n",
       "CM042346.1-338204093  ...   0.023949  1.000000      1.000000     0.982431   \n",
       "CM042346.1-338208546  ...   0.074663  1.000000      1.000000     0.939322   \n",
       "CM042346.1-338258036  ...   0.124909  1.000000      1.000000     0.897666   \n",
       "\n",
       "                     A1_allele  A2_allele   A1_freq   A2_freq       MAF  \\\n",
       "CM042338.1-398145            G          A  0.988304  0.011696  0.011696   \n",
       "CM042338.1-1342981           G          A  0.897661  0.102339  0.102339   \n",
       "CM042338.1-1496832           G          C  0.982456  0.017544  0.017544   \n",
       "CM042338.1-1942811           G          A  0.921053  0.078947  0.078947   \n",
       "CM042338.1-2125877           A          C  0.020468  0.979532  0.020468   \n",
       "...                        ...        ...       ...       ...       ...   \n",
       "CM042346.1-338112835         C          T  0.859649  0.140351  0.140351   \n",
       "CM042346.1-338202655         T          G  0.973684  0.026316  0.026316   \n",
       "CM042346.1-338204093         T          C  0.988304  0.011696  0.011696   \n",
       "CM042346.1-338208546         G          A  0.979532  0.020468  0.020468   \n",
       "CM042346.1-338258036         T          C  0.973684  0.026316  0.026316   \n",
       "\n",
       "                           Fis  \n",
       "CM042338.1-398145    -0.008876  \n",
       "CM042338.1-1342981    0.079665  \n",
       "CM042338.1-1496832   -0.014881  \n",
       "CM042338.1-1942811   -0.002352  \n",
       "CM042338.1-2125877    0.272921  \n",
       "...                        ...  \n",
       "CM042346.1-338112835  0.033447  \n",
       "CM042346.1-338202655 -0.024024  \n",
       "CM042346.1-338204093 -0.008876  \n",
       "CM042346.1-338208546 -0.017910  \n",
       "CM042346.1-338258036 -0.024024  \n",
       "\n",
       "[38646 rows x 25 columns]"
      ]
     },
     "execution_count": 37,
     "metadata": {},
     "output_type": "execute_result"
    }
   ],
   "source": [
    "loci_df"
   ]
  },
  {
   "cell_type": "code",
   "execution_count": 38,
   "metadata": {},
   "outputs": [
    {
     "data": {
      "text/html": [
       "<div>\n",
       "<style scoped>\n",
       "    .dataframe tbody tr th:only-of-type {\n",
       "        vertical-align: middle;\n",
       "    }\n",
       "\n",
       "    .dataframe tbody tr th {\n",
       "        vertical-align: top;\n",
       "    }\n",
       "\n",
       "    .dataframe thead th {\n",
       "        text-align: right;\n",
       "    }\n",
       "</style>\n",
       "<table border=\"1\" class=\"dataframe\">\n",
       "  <thead>\n",
       "    <tr style=\"text-align: right;\">\n",
       "      <th></th>\n",
       "      <th>CHROM</th>\n",
       "      <th>POS</th>\n",
       "      <th>N_ALLELES</th>\n",
       "      <th>N_CHR</th>\n",
       "      <th>A1_FREQ</th>\n",
       "      <th>A2_FREQ</th>\n",
       "    </tr>\n",
       "  </thead>\n",
       "  <tbody>\n",
       "    <tr>\n",
       "      <th>CM042338.1-398145</th>\n",
       "      <td>CM042338.1</td>\n",
       "      <td>398145</td>\n",
       "      <td>2</td>\n",
       "      <td>342</td>\n",
       "      <td>G:0.988304</td>\n",
       "      <td>A:0.0116959</td>\n",
       "    </tr>\n",
       "    <tr>\n",
       "      <th>CM042338.1-1342981</th>\n",
       "      <td>CM042338.1</td>\n",
       "      <td>1342981</td>\n",
       "      <td>2</td>\n",
       "      <td>342</td>\n",
       "      <td>G:0.897661</td>\n",
       "      <td>A:0.102339</td>\n",
       "    </tr>\n",
       "    <tr>\n",
       "      <th>CM042338.1-1496832</th>\n",
       "      <td>CM042338.1</td>\n",
       "      <td>1496832</td>\n",
       "      <td>2</td>\n",
       "      <td>342</td>\n",
       "      <td>G:0.982456</td>\n",
       "      <td>C:0.0175439</td>\n",
       "    </tr>\n",
       "    <tr>\n",
       "      <th>CM042338.1-1942811</th>\n",
       "      <td>CM042338.1</td>\n",
       "      <td>1942811</td>\n",
       "      <td>2</td>\n",
       "      <td>342</td>\n",
       "      <td>G:0.921053</td>\n",
       "      <td>A:0.0789474</td>\n",
       "    </tr>\n",
       "    <tr>\n",
       "      <th>CM042338.1-2125877</th>\n",
       "      <td>CM042338.1</td>\n",
       "      <td>2125877</td>\n",
       "      <td>2</td>\n",
       "      <td>342</td>\n",
       "      <td>A:0.0204678</td>\n",
       "      <td>C:0.979532</td>\n",
       "    </tr>\n",
       "    <tr>\n",
       "      <th>...</th>\n",
       "      <td>...</td>\n",
       "      <td>...</td>\n",
       "      <td>...</td>\n",
       "      <td>...</td>\n",
       "      <td>...</td>\n",
       "      <td>...</td>\n",
       "    </tr>\n",
       "    <tr>\n",
       "      <th>CM042346.1-338112835</th>\n",
       "      <td>CM042346.1</td>\n",
       "      <td>338112835</td>\n",
       "      <td>2</td>\n",
       "      <td>342</td>\n",
       "      <td>C:0.859649</td>\n",
       "      <td>T:0.140351</td>\n",
       "    </tr>\n",
       "    <tr>\n",
       "      <th>CM042346.1-338202655</th>\n",
       "      <td>CM042346.1</td>\n",
       "      <td>338202655</td>\n",
       "      <td>2</td>\n",
       "      <td>342</td>\n",
       "      <td>T:0.973684</td>\n",
       "      <td>G:0.0263158</td>\n",
       "    </tr>\n",
       "    <tr>\n",
       "      <th>CM042346.1-338204093</th>\n",
       "      <td>CM042346.1</td>\n",
       "      <td>338204093</td>\n",
       "      <td>2</td>\n",
       "      <td>342</td>\n",
       "      <td>T:0.988304</td>\n",
       "      <td>C:0.0116959</td>\n",
       "    </tr>\n",
       "    <tr>\n",
       "      <th>CM042346.1-338208546</th>\n",
       "      <td>CM042346.1</td>\n",
       "      <td>338208546</td>\n",
       "      <td>2</td>\n",
       "      <td>342</td>\n",
       "      <td>G:0.979532</td>\n",
       "      <td>A:0.0204678</td>\n",
       "    </tr>\n",
       "    <tr>\n",
       "      <th>CM042346.1-338258036</th>\n",
       "      <td>CM042346.1</td>\n",
       "      <td>338258036</td>\n",
       "      <td>2</td>\n",
       "      <td>342</td>\n",
       "      <td>T:0.973684</td>\n",
       "      <td>C:0.0263158</td>\n",
       "    </tr>\n",
       "  </tbody>\n",
       "</table>\n",
       "<p>38646 rows × 6 columns</p>\n",
       "</div>"
      ],
      "text/plain": [
       "                           CHROM        POS N_ALLELES N_CHR      A1_FREQ  \\\n",
       "CM042338.1-398145     CM042338.1     398145         2   342   G:0.988304   \n",
       "CM042338.1-1342981    CM042338.1    1342981         2   342   G:0.897661   \n",
       "CM042338.1-1496832    CM042338.1    1496832         2   342   G:0.982456   \n",
       "CM042338.1-1942811    CM042338.1    1942811         2   342   G:0.921053   \n",
       "CM042338.1-2125877    CM042338.1    2125877         2   342  A:0.0204678   \n",
       "...                          ...        ...       ...   ...          ...   \n",
       "CM042346.1-338112835  CM042346.1  338112835         2   342   C:0.859649   \n",
       "CM042346.1-338202655  CM042346.1  338202655         2   342   T:0.973684   \n",
       "CM042346.1-338204093  CM042346.1  338204093         2   342   T:0.988304   \n",
       "CM042346.1-338208546  CM042346.1  338208546         2   342   G:0.979532   \n",
       "CM042346.1-338258036  CM042346.1  338258036         2   342   T:0.973684   \n",
       "\n",
       "                          A2_FREQ  \n",
       "CM042338.1-398145     A:0.0116959  \n",
       "CM042338.1-1342981     A:0.102339  \n",
       "CM042338.1-1496832    C:0.0175439  \n",
       "CM042338.1-1942811    A:0.0789474  \n",
       "CM042338.1-2125877     C:0.979532  \n",
       "...                           ...  \n",
       "CM042346.1-338112835   T:0.140351  \n",
       "CM042346.1-338202655  G:0.0263158  \n",
       "CM042346.1-338204093  C:0.0116959  \n",
       "CM042346.1-338208546  A:0.0204678  \n",
       "CM042346.1-338258036  C:0.0263158  \n",
       "\n",
       "[38646 rows x 6 columns]"
      ]
     },
     "execution_count": 38,
     "metadata": {},
     "output_type": "execute_result"
    }
   ],
   "source": [
    "frq_df"
   ]
  },
  {
   "cell_type": "code",
   "execution_count": 39,
   "metadata": {},
   "outputs": [
    {
     "data": {
      "text/html": [
       "<div>\n",
       "<style scoped>\n",
       "    .dataframe tbody tr th:only-of-type {\n",
       "        vertical-align: middle;\n",
       "    }\n",
       "\n",
       "    .dataframe tbody tr th {\n",
       "        vertical-align: top;\n",
       "    }\n",
       "\n",
       "    .dataframe thead th {\n",
       "        text-align: right;\n",
       "    }\n",
       "</style>\n",
       "<table border=\"1\" class=\"dataframe\">\n",
       "  <thead>\n",
       "    <tr style=\"text-align: right;\">\n",
       "      <th></th>\n",
       "      <th>CHROM</th>\n",
       "      <th>POS</th>\n",
       "      <th>OBS(HOM1/HET/HOM2)</th>\n",
       "      <th>E(HOM1/HET/HOM2)</th>\n",
       "      <th>ChiSq_HWE</th>\n",
       "      <th>P_HWE</th>\n",
       "      <th>P_HET_DEFICIT</th>\n",
       "      <th>P_HET_EXCESS</th>\n",
       "    </tr>\n",
       "  </thead>\n",
       "  <tbody>\n",
       "    <tr>\n",
       "      <th>CM042338.1-398145</th>\n",
       "      <td>CM042338.1</td>\n",
       "      <td>398145</td>\n",
       "      <td>167/4/0</td>\n",
       "      <td>167.02/3.95/0.02</td>\n",
       "      <td>0.023949</td>\n",
       "      <td>1.000000</td>\n",
       "      <td>1.000000</td>\n",
       "      <td>0.982431</td>\n",
       "    </tr>\n",
       "    <tr>\n",
       "      <th>CM042338.1-1342981</th>\n",
       "      <td>CM042338.1</td>\n",
       "      <td>1342981</td>\n",
       "      <td>139/29/3</td>\n",
       "      <td>137.79/31.42/1.79</td>\n",
       "      <td>1.012965</td>\n",
       "      <td>0.388862</td>\n",
       "      <td>0.245019</td>\n",
       "      <td>0.921567</td>\n",
       "    </tr>\n",
       "    <tr>\n",
       "      <th>CM042338.1-1496832</th>\n",
       "      <td>CM042338.1</td>\n",
       "      <td>1496832</td>\n",
       "      <td>165/6/0</td>\n",
       "      <td>165.05/5.89/0.05</td>\n",
       "      <td>0.054528</td>\n",
       "      <td>1.000000</td>\n",
       "      <td>1.000000</td>\n",
       "      <td>0.956401</td>\n",
       "    </tr>\n",
       "    <tr>\n",
       "      <th>CM042338.1-1942811</th>\n",
       "      <td>CM042338.1</td>\n",
       "      <td>1942811</td>\n",
       "      <td>145/25/1</td>\n",
       "      <td>145.07/24.87/1.07</td>\n",
       "      <td>0.004787</td>\n",
       "      <td>1.000000</td>\n",
       "      <td>0.671700</td>\n",
       "      <td>0.725656</td>\n",
       "    </tr>\n",
       "    <tr>\n",
       "      <th>CM042338.1-2125877</th>\n",
       "      <td>CM042338.1</td>\n",
       "      <td>2125877</td>\n",
       "      <td>1/5/165</td>\n",
       "      <td>0.07/6.86/164.07</td>\n",
       "      <td>12.538850</td>\n",
       "      <td>0.060678</td>\n",
       "      <td>0.060678</td>\n",
       "      <td>0.999097</td>\n",
       "    </tr>\n",
       "    <tr>\n",
       "      <th>...</th>\n",
       "      <td>...</td>\n",
       "      <td>...</td>\n",
       "      <td>...</td>\n",
       "      <td>...</td>\n",
       "      <td>...</td>\n",
       "      <td>...</td>\n",
       "      <td>...</td>\n",
       "      <td>...</td>\n",
       "    </tr>\n",
       "    <tr>\n",
       "      <th>CM042346.1-338112835</th>\n",
       "      <td>CM042346.1</td>\n",
       "      <td>338112835</td>\n",
       "      <td>127/40/4</td>\n",
       "      <td>126.37/41.26/3.37</td>\n",
       "      <td>0.160246</td>\n",
       "      <td>0.748539</td>\n",
       "      <td>0.429159</td>\n",
       "      <td>0.783940</td>\n",
       "    </tr>\n",
       "    <tr>\n",
       "      <th>CM042346.1-338202655</th>\n",
       "      <td>CM042346.1</td>\n",
       "      <td>338202655</td>\n",
       "      <td>162/9/0</td>\n",
       "      <td>162.12/8.76/0.12</td>\n",
       "      <td>0.124909</td>\n",
       "      <td>1.000000</td>\n",
       "      <td>1.000000</td>\n",
       "      <td>0.897666</td>\n",
       "    </tr>\n",
       "    <tr>\n",
       "      <th>CM042346.1-338204093</th>\n",
       "      <td>CM042346.1</td>\n",
       "      <td>338204093</td>\n",
       "      <td>167/4/0</td>\n",
       "      <td>167.02/3.95/0.02</td>\n",
       "      <td>0.023949</td>\n",
       "      <td>1.000000</td>\n",
       "      <td>1.000000</td>\n",
       "      <td>0.982431</td>\n",
       "    </tr>\n",
       "    <tr>\n",
       "      <th>CM042346.1-338208546</th>\n",
       "      <td>CM042346.1</td>\n",
       "      <td>338208546</td>\n",
       "      <td>164/7/0</td>\n",
       "      <td>164.07/6.86/0.07</td>\n",
       "      <td>0.074663</td>\n",
       "      <td>1.000000</td>\n",
       "      <td>1.000000</td>\n",
       "      <td>0.939322</td>\n",
       "    </tr>\n",
       "    <tr>\n",
       "      <th>CM042346.1-338258036</th>\n",
       "      <td>CM042346.1</td>\n",
       "      <td>338258036</td>\n",
       "      <td>162/9/0</td>\n",
       "      <td>162.12/8.76/0.12</td>\n",
       "      <td>0.124909</td>\n",
       "      <td>1.000000</td>\n",
       "      <td>1.000000</td>\n",
       "      <td>0.897666</td>\n",
       "    </tr>\n",
       "  </tbody>\n",
       "</table>\n",
       "<p>38646 rows × 8 columns</p>\n",
       "</div>"
      ],
      "text/plain": [
       "                           CHROM        POS OBS(HOM1/HET/HOM2)  \\\n",
       "CM042338.1-398145     CM042338.1     398145            167/4/0   \n",
       "CM042338.1-1342981    CM042338.1    1342981           139/29/3   \n",
       "CM042338.1-1496832    CM042338.1    1496832            165/6/0   \n",
       "CM042338.1-1942811    CM042338.1    1942811           145/25/1   \n",
       "CM042338.1-2125877    CM042338.1    2125877            1/5/165   \n",
       "...                          ...        ...                ...   \n",
       "CM042346.1-338112835  CM042346.1  338112835           127/40/4   \n",
       "CM042346.1-338202655  CM042346.1  338202655            162/9/0   \n",
       "CM042346.1-338204093  CM042346.1  338204093            167/4/0   \n",
       "CM042346.1-338208546  CM042346.1  338208546            164/7/0   \n",
       "CM042346.1-338258036  CM042346.1  338258036            162/9/0   \n",
       "\n",
       "                       E(HOM1/HET/HOM2)  ChiSq_HWE     P_HWE  P_HET_DEFICIT  \\\n",
       "CM042338.1-398145      167.02/3.95/0.02   0.023949  1.000000       1.000000   \n",
       "CM042338.1-1342981    137.79/31.42/1.79   1.012965  0.388862       0.245019   \n",
       "CM042338.1-1496832     165.05/5.89/0.05   0.054528  1.000000       1.000000   \n",
       "CM042338.1-1942811    145.07/24.87/1.07   0.004787  1.000000       0.671700   \n",
       "CM042338.1-2125877     0.07/6.86/164.07  12.538850  0.060678       0.060678   \n",
       "...                                 ...        ...       ...            ...   \n",
       "CM042346.1-338112835  126.37/41.26/3.37   0.160246  0.748539       0.429159   \n",
       "CM042346.1-338202655   162.12/8.76/0.12   0.124909  1.000000       1.000000   \n",
       "CM042346.1-338204093   167.02/3.95/0.02   0.023949  1.000000       1.000000   \n",
       "CM042346.1-338208546   164.07/6.86/0.07   0.074663  1.000000       1.000000   \n",
       "CM042346.1-338258036   162.12/8.76/0.12   0.124909  1.000000       1.000000   \n",
       "\n",
       "                      P_HET_EXCESS  \n",
       "CM042338.1-398145         0.982431  \n",
       "CM042338.1-1342981        0.921567  \n",
       "CM042338.1-1496832        0.956401  \n",
       "CM042338.1-1942811        0.725656  \n",
       "CM042338.1-2125877        0.999097  \n",
       "...                            ...  \n",
       "CM042346.1-338112835      0.783940  \n",
       "CM042346.1-338202655      0.897666  \n",
       "CM042346.1-338204093      0.982431  \n",
       "CM042346.1-338208546      0.939322  \n",
       "CM042346.1-338258036      0.897666  \n",
       "\n",
       "[38646 rows x 8 columns]"
      ]
     },
     "execution_count": 39,
     "metadata": {},
     "output_type": "execute_result"
    }
   ],
   "source": [
    "hardy"
   ]
  },
  {
   "cell_type": "code",
   "execution_count": 40,
   "metadata": {},
   "outputs": [],
   "source": [
    "loci_out = os.path.join(analysis_dir,'loci_out.csv')\n",
    "frq_out = os.path.join(analysis_dir,'frq_out.csv')\n",
    "hardy_out = os.path.join(analysis_dir,'hardy_out.csv')\n",
    "\n",
    "loci_df.to_csv(path_or_buf=loci_out)\n",
    "frq_df.to_csv(path_or_buf=frq_out)\n",
    "hardy.to_csv(path_or_buf=hardy_out)\n"
   ]
  },
  {
   "cell_type": "code",
   "execution_count": 41,
   "metadata": {},
   "outputs": [
    {
     "data": {
      "text/plain": [
       "count    38646.000000\n",
       "mean       307.294416\n",
       "std        417.296766\n",
       "min         88.000000\n",
       "25%        174.000000\n",
       "50%        243.000000\n",
       "75%        359.000000\n",
       "max      40099.000000\n",
       "Name: SUM_DEPTH, dtype: float64"
      ]
     },
     "execution_count": 41,
     "metadata": {},
     "output_type": "execute_result"
    }
   ],
   "source": [
    "loci_df.SUM_DEPTH.describe()"
   ]
  },
  {
   "cell_type": "code",
   "execution_count": 42,
   "metadata": {},
   "outputs": [
    {
     "data": {
      "text/plain": [
       "count    38646.000000\n",
       "mean         1.797043\n",
       "std          2.440330\n",
       "min          0.514620\n",
       "25%          1.017540\n",
       "50%          1.421050\n",
       "75%          2.099420\n",
       "max        234.497000\n",
       "Name: MEAN_DEPTH, dtype: float64"
      ]
     },
     "execution_count": 42,
     "metadata": {},
     "output_type": "execute_result"
    }
   ],
   "source": [
    "loci_df.MEAN_DEPTH.describe()"
   ]
  },
  {
   "cell_type": "code",
   "execution_count": 43,
   "metadata": {},
   "outputs": [
    {
     "data": {
      "text/plain": [
       "count    38646.000000\n",
       "mean       867.530417\n",
       "std        320.988670\n",
       "min          3.191990\n",
       "25%        999.000000\n",
       "50%        999.000000\n",
       "75%        999.000000\n",
       "max        999.000000\n",
       "Name: QUAL, dtype: float64"
      ]
     },
     "execution_count": 43,
     "metadata": {},
     "output_type": "execute_result"
    }
   ],
   "source": [
    "loci_df.QUAL.describe()"
   ]
  },
  {
   "cell_type": "code",
   "execution_count": 44,
   "metadata": {
    "scrolled": true
   },
   "outputs": [
    {
     "data": {
      "image/png": "[encoded data removed]",
      "text/plain": [
       "<Figure size 432x288 with 1 Axes>"
      ]
     },
     "metadata": {
      "image/png": {
       "height": 248,
       "width": 401
      },
      "needs_background": "light"
     },
     "output_type": "display_data"
    }
   ],
   "source": [
    "loci_df.QUAL.plot(kind=\"hist\");"
   ]
  },
  {
   "cell_type": "code",
   "execution_count": 45,
   "metadata": {},
   "outputs": [
    {
     "data": {
      "image/png": "[encoded data removed]",
      "text/plain": [
       "<Figure size 432x288 with 1 Axes>"
      ]
     },
     "metadata": {
      "image/png": {
       "height": 249,
       "width": 401
      },
      "needs_background": "light"
     },
     "output_type": "display_data"
    }
   ],
   "source": [
    "loci_df.MEAN_DEPTH.plot(kind=\"hist\");"
   ]
  },
  {
   "cell_type": "code",
   "execution_count": 46,
   "metadata": {},
   "outputs": [
    {
     "data": {
      "text/plain": [
       "0"
      ]
     },
     "execution_count": 46,
     "metadata": {},
     "output_type": "execute_result"
    }
   ],
   "source": [
    "len(loci_df[loci_df.Fis == -9])"
   ]
  },
  {
   "cell_type": "code",
   "execution_count": 47,
   "metadata": {},
   "outputs": [
    {
     "data": {
      "text/plain": [
       "(38635, 25057)"
      ]
     },
     "execution_count": 47,
     "metadata": {},
     "output_type": "execute_result"
    }
   ],
   "source": [
    "len(loci_df[loci_df.SUM_DEPTH <5000]),len(loci_df[loci_df.SUM_DEPTH >=200])"
   ]
  },
  {
   "cell_type": "code",
   "execution_count": 48,
   "metadata": {},
   "outputs": [
    {
     "data": {
      "text/plain": [
       "(12, 10680)"
      ]
     },
     "execution_count": 48,
     "metadata": {},
     "output_type": "execute_result"
    }
   ],
   "source": [
    "len(loci_df[loci_df.MEAN_DEPTH > 25 ]),len(loci_df[loci_df.MEAN_DEPTH >= 2])"
   ]
  },
  {
   "cell_type": "code",
   "execution_count": 49,
   "metadata": {},
   "outputs": [
    {
     "data": {
      "text/plain": [
       "240"
      ]
     },
     "execution_count": 49,
     "metadata": {},
     "output_type": "execute_result"
    }
   ],
   "source": [
    "len(loci_df[loci_df.QUAL >= 20]) - len(loci_df[loci_df.QUAL >= 30])"
   ]
  },
  {
   "cell_type": "code",
   "execution_count": 50,
   "metadata": {},
   "outputs": [
    {
     "data": {
      "text/plain": [
       "(38326, 37439, 35329)"
      ]
     },
     "execution_count": 50,
     "metadata": {},
     "output_type": "execute_result"
    }
   ],
   "source": [
    "len(loci_df[loci_df.QUAL >  20]), len(loci_df[loci_df.QUAL > 50]), len(loci_df[loci_df.QUAL > 100])"
   ]
  },
  {
   "cell_type": "code",
   "execution_count": 51,
   "metadata": {},
   "outputs": [
    {
     "data": {
      "text/plain": [
       "(538, 0)"
      ]
     },
     "execution_count": 51,
     "metadata": {},
     "output_type": "execute_result"
    }
   ],
   "source": [
    " len(loci_df[loci_df.Fis <= -0.5]), len(loci_df[loci_df.MAF < 0.01])"
   ]
  },
  {
   "cell_type": "code",
   "execution_count": 52,
   "metadata": {},
   "outputs": [],
   "source": [
    "def filter_snps(df, imputed=False):\n",
    "    if imputed:\n",
    "        return df[(df.MAF >= 0.01) &  \n",
    "                  (df.Fis > -0.5)]\n",
    "    else:\n",
    "        return df[(df.MEAN_DEPTH >= 2) & \n",
    "                  (df.MEAN_DEPTH < 25) & \n",
    "                  (df.QUAL >= 100) & \n",
    "                  (df.MAF >= 0.01) &\n",
    "                  (df.Fis >= -0.5)]"
   ]
  },
  {
   "cell_type": "code",
   "execution_count": 53,
   "metadata": {},
   "outputs": [
    {
     "data": {
      "text/plain": [
       "(9973, 25)"
      ]
     },
     "execution_count": 53,
     "metadata": {},
     "output_type": "execute_result"
    }
   ],
   "source": [
    "loci_stage1 = filter_snps(loci_df)\n",
    "loci_stage1.shape"
   ]
  },
  {
   "cell_type": "code",
   "execution_count": 54,
   "metadata": {},
   "outputs": [],
   "source": [
    "with open(os.path.join(analysis_dir, \"stage1_positions.txt\"), \"w\") as o:\n",
    "    for elem in loci_stage1.index:\n",
    "        o.write(\"%s\\n\" % \"\\t\".join(elem.split(\"-\")))"
   ]
  },
  {
   "cell_type": "code",
   "execution_count": 55,
   "metadata": {
    "run_control": {
     "marked": false
    }
   },
   "outputs": [
    {
     "name": "stdout",
     "output_type": "stream",
     "text": [
      "\n",
      "VCFtools - 0.1.16\n",
      "(C) Adam Auton and Anthony Marcketta 2009\n",
      "\n",
      "Parameters as interpreted:\n",
      "\t--gzvcf /data/gpfs/assoc/denovo/tfaske/sagebrush/SNPcall/AV2/filtering/snps_indv_removed.recode.vcf.gz\n",
      "\t--recode-INFO-all\n",
      "\t--out /data/gpfs/assoc/denovo/tfaske/sagebrush/SNPcall/AV2/filtering/good_snps\n",
      "\t--positions /data/gpfs/assoc/denovo/tfaske/sagebrush/SNPcall/AV2/filtering/stage1_positions.txt\n",
      "\t--recode\n",
      "\t--remove-filtered-all\n",
      "\t--remove-indels\n",
      "\n",
      "Using zlib version: 1.2.11\n",
      "Warning: Expected at least 2 parts in INFO entry: ID=PV4,Number=4,Type=Float,Description=\"P-values for strand bias, baseQ bias, mapQ bias and tail distance bias\">\n",
      "Warning: Expected at least 2 parts in INFO entry: ID=PV4,Number=4,Type=Float,Description=\"P-values for strand bias, baseQ bias, mapQ bias and tail distance bias\">\n",
      "Warning: Expected at least 2 parts in INFO entry: ID=DP4,Number=4,Type=Integer,Description=\"Number of high-quality ref-forward , ref-reverse, alt-forward and alt-reverse bases\">\n",
      "Warning: Expected at least 2 parts in INFO entry: ID=DP4,Number=4,Type=Integer,Description=\"Number of high-quality ref-forward , ref-reverse, alt-forward and alt-reverse bases\">\n",
      "After filtering, kept 171 out of 171 Individuals\n",
      "Outputting VCF file...\n",
      "After filtering, kept 9973 out of a possible 38646 Sites\n",
      "Run Time = 6.00 seconds\n"
     ]
    }
   ],
   "source": [
    "!$vcftools --gzvcf $vcf_bad_remove_gz \\\n",
    "--remove-indels  \\\n",
    "--remove-filtered-all \\\n",
    "--recode \\\n",
    "--recode-INFO-all \\\n",
    "--positions {os.path.join(analysis_dir, \"stage1_positions.txt\")} \\\n",
    "--out {os.path.join(analysis_dir, \"good_snps\")}"
   ]
  },
  {
   "cell_type": "code",
   "execution_count": 56,
   "metadata": {},
   "outputs": [],
   "source": [
    "snps = os.path.join(analysis_dir, \"good_snps.recode.vcf\")\n",
    "snps_gz = snps + \".gz\"\n",
    "!$bgzip -c {snps} > {snps_gz}\n",
    "!$tabix {snps_gz}"
   ]
  },
  {
   "cell_type": "markdown",
   "metadata": {},
   "source": [
    "### Miss indv!"
   ]
  },
  {
   "cell_type": "code",
   "execution_count": 70,
   "metadata": {},
   "outputs": [],
   "source": [
    "%%R\n",
    "vcf <- read.vcfR(\"good_snps.recode.vcf\", verbose = FALSE)\n",
    "\n",
    "#get positions\n",
    "chrom <- getCHROM(vcf)\n",
    "pos <- getPOS(vcf)\n",
    "pos_ID <- paste(chrom,pos,sep = ':')"
   ]
  },
  {
   "cell_type": "code",
   "execution_count": 71,
   "metadata": {},
   "outputs": [],
   "source": [
    "%%R\n",
    "#get DP \n",
    "dp <- extract.gt(vcf, element = 'DP')"
   ]
  },
  {
   "cell_type": "code",
   "execution_count": 72,
   "metadata": {},
   "outputs": [
    {
     "name": "stdout",
     "output_type": "stream",
     "text": [
      "[1] 9973\n",
      " [1] \"CM042338.1:1496832\"  \"CM042338.1:6087026\"  \"CM042338.1:7214312\" \n",
      " [4] \"CM042338.1:7629194\"  \"CM042338.1:8076042\"  \"CM042338.1:8530989\" \n",
      " [7] \"CM042338.1:8548932\"  \"CM042338.1:8655617\"  \"CM042338.1:8698319\" \n",
      "[10] \"CM042338.1:10453589\"\n",
      "                   AV2_AN_1 AV2_AN_2 AV2_AN_3 AV2_AN_4 AV2_AN_5\n",
      "CM042338.1_1496832 \"5\"      \"2\"      \"4\"      \"0\"      \"1\"     \n",
      "CM042338.1_6087026 \"2\"      \"1\"      \"3\"      \"1\"      \"3\"     \n",
      "CM042338.1_7214312 \"3\"      \"3\"      \"4\"      \"7\"      \"6\"     \n",
      "CM042338.1_7629194 \"0\"      \"0\"      \"0\"      \"1\"      \"0\"     \n",
      "CM042338.1_8076042 \"2\"      \"1\"      \"6\"      \"1\"      \"0\"     \n"
     ]
    }
   ],
   "source": [
    "%%R\n",
    "## check out PL and pos_ID\n",
    "print(length(pos_ID))\n",
    "print(pos_ID[1:10])\n",
    "dp[1:5,1:5]"
   ]
  },
  {
   "cell_type": "code",
   "execution_count": 73,
   "metadata": {},
   "outputs": [
    {
     "name": "stdout",
     "output_type": "stream",
     "text": [
      "[1] 171\n",
      " [1] \"AV2_AN_1\"  \"AV2_AN_2\"  \"AV2_AN_3\"  \"AV2_AN_4\"  \"AV2_AN_5\"  \"AV2_AN_6\" \n",
      " [7] \"AV2_AN_7\"  \"AV2_AN_8\"  \"AV2_AS_61\" \"AV2_AS_62\"\n"
     ]
    }
   ],
   "source": [
    "%%R\n",
    "ID <- colnames(dp)\n",
    "print(length(ID))\n",
    "print(ID[1:10])"
   ]
  },
  {
   "cell_type": "code",
   "execution_count": 74,
   "metadata": {},
   "outputs": [
    {
     "name": "stdout",
     "output_type": "stream",
     "text": [
      "[1] 171\n",
      "   Min. 1st Qu.  Median    Mean 3rd Qu.    Max. \n",
      " 0.0750  0.1219  0.1681  0.1760  0.2115  0.6503 \n"
     ]
    }
   ],
   "source": [
    "%%R\n",
    "nloci <- nrow(dp)\n",
    "#print(nloci)\n",
    "\n",
    "miss_indv <- apply(dp,2, function(d) length(which(d == \"0\"))/nloci)\n",
    "print(length(miss_indv))\n",
    "print(summary(miss_indv))"
   ]
  },
  {
   "cell_type": "code",
   "execution_count": 75,
   "metadata": {},
   "outputs": [
    {
     "name": "stdout",
     "output_type": "stream",
     "text": [
      "[1] \"number of individuals with greater than 10% missing data.....  159\"\n",
      "[1] \"number of individuals with greater than 20% missing data.....  54\"\n",
      "[1] \"number of individuals with greater than 30% missing data.....  6\"\n",
      "[1] \"number of individuals with greater than 40% missing data.....  2\"\n",
      "[1] \"number of individuals with greater than 50% missing data.....  1\"\n",
      "[1] \"number of individuals with greater than 60% missing data.....  1\"\n",
      "[1] \"number of individuals with greater than 70% missing data.....  0\"\n",
      "[1] \"number of individuals with greater than 80% missing data.....  0\"\n",
      "[1] \"number of individuals with greater than 90% missing data.....  0\"\n"
     ]
    }
   ],
   "source": [
    "%%R\n",
    "for (perc in seq(.1,.9,by=.1)){\n",
    "    print(paste0('number of individuals with greater than ',perc*100,'% missing data.....  ',\n",
    "                 length(which(miss_indv >= perc))))\n",
    "}"
   ]
  },
  {
   "cell_type": "code",
   "execution_count": 76,
   "metadata": {},
   "outputs": [],
   "source": [
    "%%R\n",
    "miss60_indv_df <- data.frame(INDV=ID[which(miss_indv >= .40)])\n",
    "miss60_indv_df\n",
    "write.table(miss60_indv_df,'miss60_indv.txt',quote=F,row.names=F,col.names=T)"
   ]
  },
  {
   "cell_type": "markdown",
   "metadata": {},
   "source": [
    "### use vcftools to remove individuals and loci based off above parameters"
   ]
  },
  {
   "cell_type": "code",
   "execution_count": 77,
   "metadata": {},
   "outputs": [
    {
     "name": "stdout",
     "output_type": "stream",
     "text": [
      "\n",
      "VCFtools - 0.1.16\n",
      "(C) Adam Auton and Anthony Marcketta 2009\n",
      "\n",
      "Parameters as interpreted:\n",
      "\t--gzvcf /data/gpfs/assoc/denovo/tfaske/sagebrush/SNPcall/AV2/filtering/good_snps.recode.vcf.gz\n",
      "\t--remove /data/gpfs/assoc/denovo/tfaske/sagebrush/SNPcall/AV2/filtering/miss60_indv.txt\n",
      "\t--recode-INFO-all\n",
      "\t--out /data/gpfs/assoc/denovo/tfaske/sagebrush/SNPcall/AV2/filtering/final_snps\n",
      "\t--recode\n",
      "\t--remove-filtered-all\n",
      "\n",
      "Using zlib version: 1.2.11\n",
      "Warning: Expected at least 2 parts in INFO entry: ID=PV4,Number=4,Type=Float,Description=\"P-values for strand bias, baseQ bias, mapQ bias and tail distance bias\">\n",
      "Warning: Expected at least 2 parts in INFO entry: ID=PV4,Number=4,Type=Float,Description=\"P-values for strand bias, baseQ bias, mapQ bias and tail distance bias\">\n",
      "Warning: Expected at least 2 parts in INFO entry: ID=DP4,Number=4,Type=Integer,Description=\"Number of high-quality ref-forward , ref-reverse, alt-forward and alt-reverse bases\">\n",
      "Warning: Expected at least 2 parts in INFO entry: ID=DP4,Number=4,Type=Integer,Description=\"Number of high-quality ref-forward , ref-reverse, alt-forward and alt-reverse bases\">\n",
      "Excluding individuals in 'exclude' list\n",
      "After filtering, kept 169 out of 171 Individuals\n",
      "Outputting VCF file...\n",
      "After filtering, kept 9973 out of a possible 9973 Sites\n",
      "Run Time = 5.00 seconds\n"
     ]
    }
   ],
   "source": [
    "!$vcftools --gzvcf $snps_gz \\\n",
    "--remove-filtered-all \\\n",
    "--recode \\\n",
    "--recode-INFO-all \\\n",
    "--remove {os.path.join(analysis_dir, \"miss60_indv.txt\")} \\\n",
    "--out {os.path.join(analysis_dir, \"final_snps\")}"
   ]
  },
  {
   "cell_type": "code",
   "execution_count": 78,
   "metadata": {},
   "outputs": [],
   "source": [
    "final_snps = os.path.join(analysis_dir, \"final_snps.recode.vcf\")\n",
    "final_snps_gz = final_snps + \".gz\"\n",
    "!$bgzip -c {final_snps} > {final_snps_gz}\n",
    "!$tabix {final_snps_gz}"
   ]
  },
  {
   "cell_type": "markdown",
   "metadata": {},
   "source": [
    "# Make 012"
   ]
  },
  {
   "cell_type": "code",
   "execution_count": 79,
   "metadata": {},
   "outputs": [
    {
     "name": "stdout",
     "output_type": "stream",
     "text": [
      "\n",
      "VCFtools - 0.1.16\n",
      "(C) Adam Auton and Anthony Marcketta 2009\n",
      "\n",
      "Parameters as interpreted:\n",
      "\t--gzvcf /data/gpfs/assoc/denovo/tfaske/sagebrush/SNPcall/AV2/filtering/final_snps.recode.vcf\n",
      "\t--012\n",
      "\t--out /data/gpfs/assoc/denovo/tfaske/sagebrush/SNPcall/AV2/filtering/final_snps.recode.vcf\n",
      "\n",
      "Using zlib version: 1.2.11\n",
      "Warning: Expected at least 2 parts in INFO entry: ID=PV4,Number=4,Type=Float,Description=\"P-values for strand bias, baseQ bias, mapQ bias and tail distance bias\">\n",
      "Warning: Expected at least 2 parts in INFO entry: ID=PV4,Number=4,Type=Float,Description=\"P-values for strand bias, baseQ bias, mapQ bias and tail distance bias\">\n",
      "Warning: Expected at least 2 parts in INFO entry: ID=DP4,Number=4,Type=Integer,Description=\"Number of high-quality ref-forward , ref-reverse, alt-forward and alt-reverse bases\">\n",
      "Warning: Expected at least 2 parts in INFO entry: ID=DP4,Number=4,Type=Integer,Description=\"Number of high-quality ref-forward , ref-reverse, alt-forward and alt-reverse bases\">\n",
      "After filtering, kept 169 out of 169 Individuals\n",
      "Writing 012 matrix files ... Done.\n",
      "After filtering, kept 9973 out of a possible 9973 Sites\n",
      "Run Time = 1.00 seconds\n"
     ]
    }
   ],
   "source": [
    "f = os.path.join(analysis_dir, \"final_snps.recode.vcf\")\n",
    "!$vcftools --gzvcf {f} \\\n",
    "--out {f} \\\n",
    "--012"
   ]
  },
  {
   "cell_type": "markdown",
   "metadata": {},
   "source": [
    "# Get coverage per individual"
   ]
  },
  {
   "cell_type": "code",
   "execution_count": 80,
   "metadata": {
    "scrolled": true
   },
   "outputs": [
    {
     "name": "stdout",
     "output_type": "stream",
     "text": [
      "\n",
      "VCFtools - 0.1.16\n",
      "(C) Adam Auton and Anthony Marcketta 2009\n",
      "\n",
      "Parameters as interpreted:\n",
      "\t--gzvcf /data/gpfs/assoc/denovo/tfaske/sagebrush/SNPcall/AV2/filtering/final_snps.recode.vcf\n",
      "\t--depth\n",
      "\t--out /data/gpfs/assoc/denovo/tfaske/sagebrush/SNPcall/AV2/filtering/final_snps.recode.vcf\n",
      "\n",
      "Using zlib version: 1.2.11\n",
      "Warning: Expected at least 2 parts in INFO entry: ID=PV4,Number=4,Type=Float,Description=\"P-values for strand bias, baseQ bias, mapQ bias and tail distance bias\">\n",
      "Warning: Expected at least 2 parts in INFO entry: ID=PV4,Number=4,Type=Float,Description=\"P-values for strand bias, baseQ bias, mapQ bias and tail distance bias\">\n",
      "Warning: Expected at least 2 parts in INFO entry: ID=DP4,Number=4,Type=Integer,Description=\"Number of high-quality ref-forward , ref-reverse, alt-forward and alt-reverse bases\">\n",
      "Warning: Expected at least 2 parts in INFO entry: ID=DP4,Number=4,Type=Integer,Description=\"Number of high-quality ref-forward , ref-reverse, alt-forward and alt-reverse bases\">\n",
      "After filtering, kept 169 out of 169 Individuals\n",
      "Outputting Mean Depth by Individual\n",
      "After filtering, kept 9973 out of a possible 9973 Sites\n",
      "Run Time = 0.00 seconds\n"
     ]
    }
   ],
   "source": [
    "f = os.path.join(analysis_dir, \"final_snps.recode.vcf\")\n",
    "!$vcftools --gzvcf {f} \\\n",
    "--out {f} \\\n",
    "--depth"
   ]
  },
  {
   "cell_type": "code",
   "execution_count": 81,
   "metadata": {},
   "outputs": [
    {
     "data": {
      "text/html": [
       "<div>\n",
       "<style scoped>\n",
       "    .dataframe tbody tr th:only-of-type {\n",
       "        vertical-align: middle;\n",
       "    }\n",
       "\n",
       "    .dataframe tbody tr th {\n",
       "        vertical-align: top;\n",
       "    }\n",
       "\n",
       "    .dataframe thead th {\n",
       "        text-align: right;\n",
       "    }\n",
       "</style>\n",
       "<table border=\"1\" class=\"dataframe\">\n",
       "  <thead>\n",
       "    <tr style=\"text-align: right;\">\n",
       "      <th></th>\n",
       "      <th>INDV</th>\n",
       "      <th>N_SITES</th>\n",
       "      <th>MEAN_DEPTH</th>\n",
       "    </tr>\n",
       "  </thead>\n",
       "  <tbody>\n",
       "    <tr>\n",
       "      <th>0</th>\n",
       "      <td>AV2_AN_1</td>\n",
       "      <td>9973</td>\n",
       "      <td>3.60072</td>\n",
       "    </tr>\n",
       "    <tr>\n",
       "      <th>1</th>\n",
       "      <td>AV2_AN_2</td>\n",
       "      <td>9973</td>\n",
       "      <td>2.95197</td>\n",
       "    </tr>\n",
       "    <tr>\n",
       "      <th>2</th>\n",
       "      <td>AV2_AN_3</td>\n",
       "      <td>9973</td>\n",
       "      <td>2.45002</td>\n",
       "    </tr>\n",
       "    <tr>\n",
       "      <th>3</th>\n",
       "      <td>AV2_AN_4</td>\n",
       "      <td>9973</td>\n",
       "      <td>2.70480</td>\n",
       "    </tr>\n",
       "    <tr>\n",
       "      <th>4</th>\n",
       "      <td>AV2_AN_5</td>\n",
       "      <td>9973</td>\n",
       "      <td>2.24827</td>\n",
       "    </tr>\n",
       "  </tbody>\n",
       "</table>\n",
       "</div>"
      ],
      "text/plain": [
       "       INDV  N_SITES  MEAN_DEPTH\n",
       "0  AV2_AN_1     9973     3.60072\n",
       "1  AV2_AN_2     9973     2.95197\n",
       "2  AV2_AN_3     9973     2.45002\n",
       "3  AV2_AN_4     9973     2.70480\n",
       "4  AV2_AN_5     9973     2.24827"
      ]
     },
     "execution_count": 81,
     "metadata": {},
     "output_type": "execute_result"
    }
   ],
   "source": [
    "depth_file = os.path.join(analysis_dir, \"final_snps.recode.vcf.idepth\")\n",
    "depth_df = pd.read_csv(depth_file, sep=\"\\t\")\n",
    "depth_df.head()"
   ]
  },
  {
   "cell_type": "code",
   "execution_count": 82,
   "metadata": {},
   "outputs": [
    {
     "data": {
      "text/plain": [
       "count    169.000000\n",
       "mean       3.221873\n",
       "std        0.937762\n",
       "min        1.465460\n",
       "25%        2.505260\n",
       "50%        3.060960\n",
       "75%        3.600720\n",
       "max        6.261310\n",
       "Name: MEAN_DEPTH, dtype: float64"
      ]
     },
     "execution_count": 82,
     "metadata": {},
     "output_type": "execute_result"
    }
   ],
   "source": [
    "depth_df.MEAN_DEPTH.describe()"
   ]
  },
  {
   "cell_type": "markdown",
   "metadata": {},
   "source": [
    "# Remove unnecessary files"
   ]
  },
  {
   "cell_type": "code",
   "execution_count": 83,
   "metadata": {},
   "outputs": [
    {
     "name": "stdout",
     "output_type": "stream",
     "text": [
      "rm: cannot remove ‘snps*’: No such file or directory\r\n"
     ]
    }
   ],
   "source": [
    "!rm snps*"
   ]
  },
  {
   "cell_type": "code",
   "execution_count": 84,
   "metadata": {},
   "outputs": [],
   "source": [
    "!rm *vcf"
   ]
  },
  {
   "cell_type": "code",
   "execution_count": null,
   "metadata": {},
   "outputs": [],
   "source": []
  },
  {
   "cell_type": "code",
   "execution_count": null,
   "metadata": {},
   "outputs": [],
   "source": []
  }
 ],
 "metadata": {
  "kernelspec": {
   "display_name": "Python 3",
   "language": "python",
   "name": "python3"
  },
  "language_info": {
   "codemirror_mode": {
    "name": "ipython",
    "version": 3
   },
   "file_extension": ".py",
   "mimetype": "text/x-python",
   "name": "python",
   "nbconvert_exporter": "python",
   "pygments_lexer": "ipython3",
   "version": "3.6.7"
  }
 },
 "nbformat": 4,
 "nbformat_minor": 1
}
