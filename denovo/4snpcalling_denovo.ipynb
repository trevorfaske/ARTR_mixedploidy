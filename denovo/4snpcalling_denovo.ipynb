{
 "cells": [
  {
   "cell_type": "markdown",
   "metadata": {},
   "source": [
    "# Installing GATK + notes\n",
    "    This page will be a reference for installation, different tutorials and how to call polyploids"
   ]
  },
  {
   "cell_type": "markdown",
   "metadata": {},
   "source": [
    "  #### Get GATK jar and .yml files here:\n",
    "  https://github.com/broadinstitute/gatk/releases\n",
    "  \n",
    "  wget .zip file to a src directory, unzip, run conda install below in that direcoty\n",
    "  \n",
    "  #### directions for conda install here:\n",
    "  https://gatk.broadinstitute.org/hc/en-us/articles/360035889851--How-to-Install-and-use-Conda-for-GATK4\n",
    "  \n",
    "  #### vivaswat notes\n",
    "  https://microcollaborative.atlassian.net/wiki/spaces/BL/pages/73957377/Bioinformatics+for+polyploids\n",
    "  \n",
    "  \n",
    "  \n",
    "  #### IDEA: \n",
    "  \n",
    "  - call snps with GATK haplotype caller. \n",
    "  - run one per sample with correct ploidy into gvcf\n",
    "  - then use GenotypeGVCF to call snps across all gvcfs, no need to tell ploidy.  \n",
    "  "
   ]
  },
  {
   "cell_type": "code",
   "execution_count": 49,
   "metadata": {},
   "outputs": [],
   "source": [
    "import sys\n",
    "\n",
    "#sys.path.append('/home/faske/g/anaconda3/envs/py34/lib/python3.4/site-packages')\n",
    "sys.path.append('/data/gpfs/assoc/parchmanlab/tfaske/anaconda3/envs/py36/lib/python3.6/site-packages')\n",
    "sys.path.append(\"/data/gpfs/assoc/parchmanlab/tfaske/ipynb/include_utils\")\n",
    "\n",
    "import ipyparallel as ipp\n",
    "import os, time\n",
    "from os import environ\n",
    "import include_utils as u\n",
    "import pandas as pd\n",
    "import numpy as np\n",
    "import scipy as sp\n",
    "import numbers\n",
    "import matplotlib.pyplot as plt\n",
    "import matplotlib.patches as mpatches\n",
    "import matplotlib.cm as cm\n",
    "import matplotlib.colors as mcolors\n",
    "#import vcf\n",
    "from sklearn import preprocessing\n",
    "from subprocess import Popen, PIPE, call, check_output\n",
    "import seaborn as sns\n",
    "from IPython.display import FileLink\n",
    "import urllib.request as urllib2\n",
    "import dill\n",
    "import traceback\n",
    "from pandas import Series, DataFrame\n",
    "import gzip\n",
    "import warnings\n",
    "warnings.filterwarnings('ignore',category=pd.io.pytables.PerformanceWarning)\n",
    "%config InlineBackend.figure_format = 'retina'\n",
    "from Bio import SeqIO\n",
    "#import pysam\n",
    "from collections import OrderedDict, namedtuple, Counter\n",
    "import operator\n",
    "import multiprocessing as mp\n",
    "import shutil\n",
    "import tempfile\n",
    "#from ipyparallel import Client\n",
    "import scandir\n",
    "import glob\n",
    "from Bio.SeqIO.QualityIO import FastqGeneralIterator\n",
    "import pickle\n",
    "import re\n",
    "from itertools import chain\n",
    "#import Levenshtein as lv"
   ]
  },
  {
   "cell_type": "code",
   "execution_count": 2,
   "metadata": {},
   "outputs": [],
   "source": [
    "root = \"/data/gpfs/assoc/denovo/tfaske/sagebrush/denovo\""
   ]
  },
  {
   "cell_type": "code",
   "execution_count": 3,
   "metadata": {},
   "outputs": [],
   "source": [
    "snp_dir = os.path.join(root,'SNPcall')"
   ]
  },
  {
   "cell_type": "code",
   "execution_count": 4,
   "metadata": {
    "ExecuteTime": {}
   },
   "outputs": [],
   "source": [
    "bam_dir = os.path.join(snp_dir,'good_bams')"
   ]
  },
  {
   "cell_type": "code",
   "execution_count": 5,
   "metadata": {},
   "outputs": [
    {
     "name": "stdout",
     "output_type": "stream",
     "text": [
      "/data/gpfs/assoc/denovo/tfaske/sagebrush/denovo/SNPcall/good_bams\n"
     ]
    }
   ],
   "source": [
    "cd $bam_dir"
   ]
  },
  {
   "cell_type": "code",
   "execution_count": 6,
   "metadata": {
    "ExecuteTime": {}
   },
   "outputs": [],
   "source": [
    "bam_files = []\n",
    "files = !find . -type f -name '*sorted.bam'\n",
    "files = [os.path.abspath(x) for x in files if 'bam' in x]\n",
    "for x in files:\n",
    "    bam_files.append(x)\n",
    "bam_files = sorted(bam_files)"
   ]
  },
  {
   "cell_type": "code",
   "execution_count": 7,
   "metadata": {
    "ExecuteTime": {}
   },
   "outputs": [
    {
     "data": {
      "text/plain": [
       "(695,\n",
       " '/data/gpfs/assoc/denovo/tfaske/sagebrush/denovo/SNPcall/good_bams/AT2_BB_10_sorted.bam')"
      ]
     },
     "execution_count": 7,
     "metadata": {},
     "output_type": "execute_result"
    }
   ],
   "source": [
    "len(bam_files), bam_files[0]"
   ]
  },
  {
   "cell_type": "code",
   "execution_count": 26,
   "metadata": {
    "ExecuteTime": {}
   },
   "outputs": [],
   "source": [
    "assembly = \"/data/gpfs/assoc/denovo/tfaske/sagebrush/denovo/assembly/reference.fasta\"\n",
    "\n",
    "#assembly indexed with dDocent"
   ]
  },
  {
   "cell_type": "code",
   "execution_count": 75,
   "metadata": {
    "scrolled": true
   },
   "outputs": [
    {
     "name": "stdout",
     "output_type": "stream",
     "text": [
      "samtools index: \"/data/gpfs/assoc/denovo/tfaske/sagebrush/denovo/assembly/reference.fasta\" is in a format that cannot be usefully indexed\r\n"
     ]
    }
   ],
   "source": [
    "!samtools index {assembly}"
   ]
  },
  {
   "cell_type": "markdown",
   "metadata": {},
   "source": [
    "## SNP CALL with freebayes TEST\n",
    "\n",
    "call from dDocent: freebayes -b split.1.bam -t mapped.1.bed -v raw.1.vcf -f reference.fasta -m 5 -q 5 -E 3 --min-repeat-entropy 1 -V --populations popmap -n 10 2> fb.1.error.log\n",
    "\n",
    "**settings to consider**:\n",
    "  - -L --bam-list FILE A file containing a list of BAM files to be analyzed.\n",
    "  - -A --cnv-map FILE\n",
    "                   Read a copy number map from the BED file FILE, which has\n",
    "                   the format:\n",
    "                      reference sequence, start, end, sample name, copy number\n",
    "        ex: \n",
    "        chrX -1 -1 NA12878 2  # means NA12878 has copy number 2 in all of chrX\n",
    "        chrX -1 -1 NA12879 1  # ... copy number 1\n",
    "        chrX -1 -1 NA13469 2\n",
    "        chrX -1 -1 NA21328 2\n",
    "        chrX -1 -1 NA12970 2\n",
    "        chrY -1 -1 NA12877 1\n",
    "        chrX -1 -1 NA12877 1\n",
    "        chr20 20000 30000 NA12877 1   # NA12877 has one copy of chr20:20000..30000\n",
    "        chr20 20000 30000 NA12879 3   # NA12879 has four copies of chr20:20000..30000\n",
    "\n",
    "Do a test: move ~15 files to a test_dir\n"
   ]
  },
  {
   "cell_type": "code",
   "execution_count": 9,
   "metadata": {},
   "outputs": [],
   "source": [
    "test_dir = os.path.join(snp_dir,'test')\n",
    "testbwa_dir = os.path.join(test_dir,'good_bams')"
   ]
  },
  {
   "cell_type": "code",
   "execution_count": 10,
   "metadata": {},
   "outputs": [
    {
     "name": "stdout",
     "output_type": "stream",
     "text": [
      "/data/gpfs/assoc/denovo/tfaske/sagebrush/denovo/SNPcall/test/good_bams\n"
     ]
    }
   ],
   "source": [
    "cd $testbwa_dir"
   ]
  },
  {
   "cell_type": "code",
   "execution_count": 11,
   "metadata": {},
   "outputs": [],
   "source": [
    "bam_files = []\n",
    "files = !find . -type f -name '*sorted.bam'\n",
    "files = [os.path.abspath(x) for x in files if 'bam' in x]\n",
    "for x in files:\n",
    "    bam_files.append(x)\n",
    "bam_files = sorted(bam_files)"
   ]
  },
  {
   "cell_type": "code",
   "execution_count": 12,
   "metadata": {},
   "outputs": [
    {
     "data": {
      "text/plain": [
       "(15,\n",
       " '/data/gpfs/assoc/denovo/tfaske/sagebrush/denovo/SNPcall/test/good_bams/AT2_EW_36_sorted.bam')"
      ]
     },
     "execution_count": 12,
     "metadata": {},
     "output_type": "execute_result"
    }
   ],
   "source": [
    "len(bam_files), bam_files[0]"
   ]
  },
  {
   "cell_type": "code",
   "execution_count": 13,
   "metadata": {},
   "outputs": [],
   "source": [
    "testfb_dir = os.path.join(test_dir,'fb')"
   ]
  },
  {
   "cell_type": "code",
   "execution_count": 38,
   "metadata": {},
   "outputs": [
    {
     "name": "stdout",
     "output_type": "stream",
     "text": [
      "/data/gpfs/assoc/denovo/tfaske/sagebrush/denovo/SNPcall/test\n"
     ]
    }
   ],
   "source": [
    "cd $test_dir"
   ]
  },
  {
   "cell_type": "markdown",
   "metadata": {},
   "source": [
    "**reindex all bamfiles**"
   ]
  },
  {
   "cell_type": "code",
   "execution_count": 50,
   "metadata": {},
   "outputs": [],
   "source": [
    "for b in bam_files:\n",
    "    environ['b'] = b\n",
    "    !samtools index $b"
   ]
  },
  {
   "cell_type": "markdown",
   "metadata": {},
   "source": [
    "**make a bam list file**"
   ]
  },
  {
   "cell_type": "code",
   "execution_count": 53,
   "metadata": {},
   "outputs": [],
   "source": [
    "def make_bam_list(bam_files):\n",
    "    with open(\"bam_files.txt\", \"w\") as o:\n",
    "        for b in bam_files:\n",
    "            #bam = b.split('/')[11] \n",
    "            #o.write(\"good_bams/%s \\n\" % (bam)) \n",
    "            o.write(\"%s \\n\" % (b)) "
   ]
  },
  {
   "cell_type": "code",
   "execution_count": 54,
   "metadata": {},
   "outputs": [],
   "source": [
    "make_bam_list(bam_files)"
   ]
  },
  {
   "cell_type": "markdown",
   "metadata": {},
   "source": [
    "**make ploidy_list.txt**  \n",
    "sample_name copy_number"
   ]
  },
  {
   "cell_type": "code",
   "execution_count": 84,
   "metadata": {},
   "outputs": [],
   "source": [
    "## loop through *.fai write out contig -1 -1 ID ploidy\n",
    "fai = pd.read_csv(assembly + '.fai',header=None,sep='\\t')"
   ]
  },
  {
   "cell_type": "code",
   "execution_count": 93,
   "metadata": {},
   "outputs": [
    {
     "data": {
      "text/plain": [
       "(61970,\n",
       " ['dDocent_Contig_6',\n",
       "  'dDocent_Contig_15',\n",
       "  'dDocent_Contig_18',\n",
       "  'dDocent_Contig_20',\n",
       "  'dDocent_Contig_23'])"
      ]
     },
     "execution_count": 93,
     "metadata": {},
     "output_type": "execute_result"
    }
   ],
   "source": [
    "contigs = fai.iloc[:,0].tolist()\n",
    "len(contigs),contigs[:5]"
   ]
  },
  {
   "cell_type": "code",
   "execution_count": 96,
   "metadata": {},
   "outputs": [],
   "source": [
    "## loop through *.fai write out contig -1 -1 ID ploidy\n",
    "def make_ploidy_list(bam_files):\n",
    "    with open(\"ploidy_list.txt\", \"w\") as o:\n",
    "        for c in contigs:\n",
    "            for b in bam_files:\n",
    "                bam = b.split('/')[11]\n",
    "                ID = bam.split('_sorted.bam')[0] ### This too\n",
    "                ploidy = ID.split('_')[0]\n",
    "                ploidy = re.sub(r'\\D','',ploidy)\n",
    "                #print(b)\n",
    "                #print(ploidy)\n",
    "                #o.write(\"good_bams/%s\\t%s\\n\" % (bam,ploidy)) \n",
    "                o.write(\"%s\\t-1\\t-1\\t%s\\t%s\\n\" % (c,ID,ploidy))"
   ]
  },
  {
   "cell_type": "code",
   "execution_count": 97,
   "metadata": {},
   "outputs": [],
   "source": [
    "make_ploidy_list(bam_files)"
   ]
  },
  {
   "cell_type": "code",
   "execution_count": 98,
   "metadata": {},
   "outputs": [
    {
     "data": {
      "text/plain": [
       "929550"
      ]
     },
     "execution_count": 98,
     "metadata": {},
     "output_type": "execute_result"
    }
   ],
   "source": [
    "#ploidy list should be contigs*bam\n",
    "len(contigs)*len(bam_files)"
   ]
  },
  {
   "cell_type": "code",
   "execution_count": 99,
   "metadata": {},
   "outputs": [
    {
     "name": "stdout",
     "output_type": "stream",
     "text": [
      "929550 ploidy_list.txt\r\n"
     ]
    }
   ],
   "source": [
    "!wc -l ploidy_list.txt"
   ]
  },
  {
   "cell_type": "markdown",
   "metadata": {},
   "source": [
    "**run freebayes_sh** "
   ]
  },
  {
   "cell_type": "code",
   "execution_count": 57,
   "metadata": {},
   "outputs": [],
   "source": [
    "### select options for slurm submission\n",
    "#account = 'cpu-s5-denovo-0'\n",
    "#partition = 'cpu-core-0'\n",
    "account = 'cpu-s1-bionres-0'\n",
    "partition = 'cpu-s1-bionres-0'\n",
    "jobname = 'fb_test'\n",
    "time = '1-00:00:00' #time limit 1 day\n",
    "cpus = 1\n",
    "mem_cpu = 80000\n",
    "email = 'tfaske@nevada.unr.edu'"
   ]
  },
  {
   "cell_type": "code",
   "execution_count": 100,
   "metadata": {},
   "outputs": [],
   "source": [
    "def write_fb_sh(account,partition,time,jobname,cpus,mem_cpu,email,assembly):\n",
    "    with open(\"run_fb_test.sh\", \"w\") as o:\n",
    "            o.write(\"\"\"#!/usr/bin/env bash\n",
    "#SBATCH --account=%s\n",
    "#SBATCH --partition=%s\n",
    "#SBATCH --time=%s\n",
    "#SBATCH --ntasks 1\n",
    "#SBATCH --cpus-per-task %d\n",
    "#SBATCH --mem-per-cpu=%d\n",
    "#SBATCH --job-name fb_test\n",
    "#SBATCH --output output_fb_test.txt\n",
    "#SBATCH --mail-type=FAIL,END\n",
    "#SBATCH --mail-user=%s \\n\n",
    "    \n",
    "freebayes -b good_bams/*.bam --cnv-map ploidy_list.txt -f %s -v fb_test.vcf -V\\n\n",
    "\"\"\" % (account,partition,time,int(cpus),int(mem_cpu),email,assembly))\n",
    "            "
   ]
  },
  {
   "cell_type": "code",
   "execution_count": 101,
   "metadata": {},
   "outputs": [],
   "source": [
    "write_fb_sh(account,partition,time,jobname,cpus,mem_cpu,email,assembly)"
   ]
  },
  {
   "cell_type": "markdown",
   "metadata": {},
   "source": [
    "### Run run_fb_test_sh locally\n",
    "    cd /data/gpfs/assoc/denovo/tfaske/sagebrush/SNPcall/test\n",
    "    source activate py36\n",
    "    bash run_fb_test.sh"
   ]
  },
  {
   "cell_type": "markdown",
   "metadata": {},
   "source": [
    "## SNP CALL with freebayes FORREAL\n",
    "\n",
    "call from dDocent: freebayes -b split.1.bam -t mapped.1.bed -v raw.1.vcf -f reference.fasta -m 5 -q 5 -E 3 --min-repeat-entropy 1 -V --populations popmap -n 10 2> fb.1.error.log\n",
    "\n",
    "**settings to consider**:\n",
    "  - -L --bam-list FILE A file containing a list of BAM files to be analyzed.\n",
    "  - -A --cnv-map FILE\n",
    "                   Read a copy number map from the BED file FILE, which has\n",
    "                   the format:\n",
    "                      reference sequence, start, end, sample name, copy number\n",
    "        ex: \n",
    "        chrX -1 -1 NA12878 2  # means NA12878 has copy number 2 in all of chrX\n",
    "        chrX -1 -1 NA12879 1  # ... copy number 1\n",
    "        chrX -1 -1 NA13469 2\n",
    "        chrX -1 -1 NA21328 2\n",
    "        chrX -1 -1 NA12970 2\n",
    "        chrY -1 -1 NA12877 1\n",
    "        chrX -1 -1 NA12877 1\n",
    "        chr20 20000 30000 NA12877 1   # NA12877 has one copy of chr20:20000..30000\n",
    "        chr20 20000 30000 NA12879 3   # NA12879 has four copies of chr20:20000..30000\n"
   ]
  },
  {
   "cell_type": "code",
   "execution_count": 102,
   "metadata": {},
   "outputs": [],
   "source": [
    "bwa_dir = os.path.join(snp_dir,'good_bams')"
   ]
  },
  {
   "cell_type": "code",
   "execution_count": 103,
   "metadata": {},
   "outputs": [
    {
     "name": "stdout",
     "output_type": "stream",
     "text": [
      "/data/gpfs/assoc/denovo/tfaske/sagebrush/denovo/SNPcall/good_bams\n"
     ]
    }
   ],
   "source": [
    "cd $bwa_dir"
   ]
  },
  {
   "cell_type": "code",
   "execution_count": 104,
   "metadata": {},
   "outputs": [],
   "source": [
    "bam_files = []\n",
    "files = !find . -type f -name '*sorted.bam'\n",
    "files = [os.path.abspath(x) for x in files if 'bam' in x]\n",
    "for x in files:\n",
    "    bam_files.append(x)\n",
    "bam_files = sorted(bam_files)"
   ]
  },
  {
   "cell_type": "code",
   "execution_count": 105,
   "metadata": {},
   "outputs": [
    {
     "data": {
      "text/plain": [
       "(695,\n",
       " '/data/gpfs/assoc/denovo/tfaske/sagebrush/denovo/SNPcall/good_bams/AT2_BB_10_sorted.bam')"
      ]
     },
     "execution_count": 105,
     "metadata": {},
     "output_type": "execute_result"
    }
   ],
   "source": [
    "len(bam_files), bam_files[0]"
   ]
  },
  {
   "cell_type": "code",
   "execution_count": 106,
   "metadata": {},
   "outputs": [
    {
     "name": "stdout",
     "output_type": "stream",
     "text": [
      "/data/gpfs/assoc/denovo/tfaske/sagebrush/denovo/SNPcall\n"
     ]
    }
   ],
   "source": [
    "cd $snp_dir"
   ]
  },
  {
   "cell_type": "markdown",
   "metadata": {},
   "source": [
    "**reindex all bamfiles**"
   ]
  },
  {
   "cell_type": "code",
   "execution_count": 107,
   "metadata": {},
   "outputs": [],
   "source": [
    "for b in bam_files:\n",
    "    environ['b'] = b\n",
    "    !samtools index $b"
   ]
  },
  {
   "cell_type": "markdown",
   "metadata": {},
   "source": [
    "**make a bam list file**"
   ]
  },
  {
   "cell_type": "code",
   "execution_count": 108,
   "metadata": {},
   "outputs": [],
   "source": [
    "def make_bam_list(bam_files):\n",
    "    with open(\"bam_files.txt\", \"w\") as o:\n",
    "        for b in bam_files:\n",
    "            #bam = b.split('/')[11] \n",
    "            #o.write(\"good_bams/%s \\n\" % (bam)) \n",
    "            o.write(\"%s \\n\" % (b)) "
   ]
  },
  {
   "cell_type": "code",
   "execution_count": 109,
   "metadata": {},
   "outputs": [],
   "source": [
    "make_bam_list(bam_files)"
   ]
  },
  {
   "cell_type": "markdown",
   "metadata": {},
   "source": [
    "**make ploidy_list.txt**  \n",
    "sample_name copy_number"
   ]
  },
  {
   "cell_type": "code",
   "execution_count": 110,
   "metadata": {},
   "outputs": [],
   "source": [
    "## loop through *.fai write out contig -1 -1 ID ploidy\n",
    "fai = pd.read_csv(assembly + '.fai',header=None,sep='\\t')"
   ]
  },
  {
   "cell_type": "code",
   "execution_count": 111,
   "metadata": {},
   "outputs": [
    {
     "data": {
      "text/plain": [
       "(61970,\n",
       " ['dDocent_Contig_6',\n",
       "  'dDocent_Contig_15',\n",
       "  'dDocent_Contig_18',\n",
       "  'dDocent_Contig_20',\n",
       "  'dDocent_Contig_23'])"
      ]
     },
     "execution_count": 111,
     "metadata": {},
     "output_type": "execute_result"
    }
   ],
   "source": [
    "contigs = fai.iloc[:,0].tolist()\n",
    "len(contigs),contigs[:5]"
   ]
  },
  {
   "cell_type": "code",
   "execution_count": 114,
   "metadata": {},
   "outputs": [],
   "source": [
    "## loop through *.fai write out contig -1 -1 ID ploidy\n",
    "def make_ploidy_list(bam_files):\n",
    "    with open(\"ploidy_list.txt\", \"w\") as o:\n",
    "        for c in contigs:\n",
    "            for b in bam_files:\n",
    "                bam = b.split('/')[10]\n",
    "                ID = bam.split('_sorted.bam')[0] ### This too\n",
    "                ploidy = ID.split('_')[0]\n",
    "                ploidy = re.sub(r'\\D','',ploidy)\n",
    "                #print(b)\n",
    "                #print(ploidy)\n",
    "                #o.write(\"good_bams/%s\\t%s\\n\" % (bam,ploidy)) \n",
    "                o.write(\"%s\\t-1\\t-1\\t%s\\t%s\\n\" % (c,ID,ploidy))"
   ]
  },
  {
   "cell_type": "code",
   "execution_count": 115,
   "metadata": {},
   "outputs": [],
   "source": [
    "make_ploidy_list(bam_files)"
   ]
  },
  {
   "cell_type": "code",
   "execution_count": 116,
   "metadata": {},
   "outputs": [
    {
     "data": {
      "text/plain": [
       "43069150"
      ]
     },
     "execution_count": 116,
     "metadata": {},
     "output_type": "execute_result"
    }
   ],
   "source": [
    "#ploidy list should be contigs*bam\n",
    "len(contigs)*len(bam_files)"
   ]
  },
  {
   "cell_type": "code",
   "execution_count": 117,
   "metadata": {},
   "outputs": [
    {
     "name": "stdout",
     "output_type": "stream",
     "text": [
      "43069150 ploidy_list.txt\r\n"
     ]
    }
   ],
   "source": [
    "!wc -l ploidy_list.txt"
   ]
  },
  {
   "cell_type": "markdown",
   "metadata": {},
   "source": [
    "**run freebayes_sh** "
   ]
  },
  {
   "cell_type": "code",
   "execution_count": 135,
   "metadata": {},
   "outputs": [],
   "source": [
    "### select options for slurm submission\n",
    "account = 'cpu-s5-denovo-0'\n",
    "partition = 'cpu-core-0'\n",
    "#account = 'cpu-s1-bionres-0'\n",
    "#partition = 'cpu-s1-bionres-0'\n",
    "jobname = 'fb_full'\n",
    "time = '3-00:00:00' #time limit 10 day\n",
    "cpus = 1\n",
    "mem_cpu = 100000\n",
    "email = 'tfaske@nevada.unr.edu'"
   ]
  },
  {
   "cell_type": "code",
   "execution_count": 136,
   "metadata": {},
   "outputs": [],
   "source": [
    "def write_fb_sh(account,partition,time,jobname,cpus,mem_cpu,email,assembly):\n",
    "    with open(\"run_fb_full.sh\", \"w\") as o:\n",
    "            o.write(\"\"\"#!/usr/bin/env bash\n",
    "#SBATCH --account=%s\n",
    "#SBATCH --partition=%s\n",
    "#SBATCH --time=%s\n",
    "#SBATCH --ntasks 1\n",
    "#SBATCH --cpus-per-task %d\n",
    "#SBATCH --mem-per-cpu=%d\n",
    "#SBATCH --job-name fb_full\n",
    "#SBATCH --output output_fb_full.txt\n",
    "#SBATCH --mail-type=FAIL,END\n",
    "#SBATCH --mail-user=%s \\n\n",
    "    \n",
    "freebayes -b good_bams/*.bam --cnv-map ploidy_list.txt -f %s -v fb_full.vcf -V -d -i -u \\n\n",
    "\"\"\" % (account,partition,time,int(cpus),int(mem_cpu),email,assembly))\n",
    "            "
   ]
  },
  {
   "cell_type": "code",
   "execution_count": 137,
   "metadata": {},
   "outputs": [],
   "source": [
    "write_fb_sh(account,partition,time,jobname,cpus,mem_cpu,email,assembly)"
   ]
  },
  {
   "cell_type": "markdown",
   "metadata": {},
   "source": [
    "### Run run_fb_sh locally\n",
    "    cd /data/gpfs/assoc/denovo/tfaske/sagebrush/SNPcall\n",
    "    source activate py36\n",
    "    bash run_fb_full.sh"
   ]
  },
  {
   "cell_type": "code",
   "execution_count": null,
   "metadata": {},
   "outputs": [],
   "source": []
  },
  {
   "cell_type": "code",
   "execution_count": null,
   "metadata": {},
   "outputs": [],
   "source": []
  }
 ],
 "metadata": {
  "kernelspec": {
   "display_name": "Python 3",
   "language": "python",
   "name": "python3"
  },
  "language_info": {
   "codemirror_mode": {
    "name": "ipython",
    "version": 3
   },
   "file_extension": ".py",
   "mimetype": "text/x-python",
   "name": "python",
   "nbconvert_exporter": "python",
   "pygments_lexer": "ipython3",
   "version": "3.6.7"
  }
 },
 "nbformat": 4,
 "nbformat_minor": 4
}
