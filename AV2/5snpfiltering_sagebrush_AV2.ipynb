{
 "cells": [
  {
   "cell_type": "markdown",
   "metadata": {},
   "source": [
    "### Filtering for only *vaseyana* diploids\n",
    "\n",
    "Uses ARTR_chr.biallelic.vcf.gz to start\n",
    "\n",
    "Sample names have been extracted to subset using:   \n",
    "- zcat ARTR_chr.vcf.gz | bcftools query -l | sort > sample_index.txt"
   ]
  },
  {
   "cell_type": "code",
   "execution_count": 1,
   "metadata": {},
   "outputs": [],
   "source": [
    "import sys\n",
    "\n",
    "#sys.path.append('/home/faske/g/anaconda3/envs/py34/lib/python3.4/site-packages')\n",
    "sys.path.append('/data/gpfs/assoc/parchmanlab/tfaske/anaconda3/envs/py36/lib/python3.6/site-packages')\n",
    "sys.path.append(\"/data/gpfs/assoc/parchmanlab/tfaske/ipynb/include_utils\")\n",
    "\n",
    "import ipyparallel as ipp\n",
    "import os, time\n",
    "import include_utils as u\n",
    "import pandas as pd\n",
    "import numpy as np\n",
    "import scipy as sp\n",
    "import random\n",
    "import numbers\n",
    "import matplotlib.pyplot as plt\n",
    "import matplotlib.patches as mpatches\n",
    "import matplotlib.cm as cm\n",
    "import matplotlib.colors as mcolors\n",
    "#import vcf\n",
    "from sklearn import preprocessing\n",
    "from subprocess import Popen, PIPE, call, check_output\n",
    "import seaborn as sns\n",
    "from IPython.display import FileLink\n",
    "import urllib.request as urllib2\n",
    "import dill\n",
    "import traceback\n",
    "from pandas import Series, DataFrame\n",
    "import gzip\n",
    "import warnings\n",
    "warnings.filterwarnings('ignore',category=pd.io.pytables.PerformanceWarning)\n",
    "%config InlineBackend.figure_format = 'retina'\n",
    "from Bio import SeqIO\n",
    "#import pysam\n",
    "from collections import OrderedDict, namedtuple, Counter\n",
    "import operator\n",
    "import multiprocessing as mp\n",
    "import shutil\n",
    "import tempfile\n",
    "#from ipyparallel import Client\n",
    "import scandir\n",
    "import glob\n",
    "from Bio.SeqIO.QualityIO import FastqGeneralIterator\n",
    "import pickle\n",
    "import re\n",
    "from itertools import chain\n",
    "#import Levenshtein as lv"
   ]
  },
  {
   "cell_type": "code",
   "execution_count": 2,
   "metadata": {},
   "outputs": [],
   "source": [
    "vcfutils = \"vcfutils.pl\"\n",
    "vcftools = \"vcftools\"\n",
    "bcftools = \"bcftools\"\n",
    "bgzip = \"bgzip\"\n",
    "tabix = \"tabix\"\n",
    "java = \"java\"\n",
    "plink = \"plink --noweb\""
   ]
  },
  {
   "cell_type": "code",
   "execution_count": 3,
   "metadata": {},
   "outputs": [],
   "source": [
    "analysis_dir = \"/data/gpfs/assoc/denovo/tfaske/sagebrush/SNPcall/AV2/filtering\""
   ]
  },
  {
   "cell_type": "code",
   "execution_count": 4,
   "metadata": {},
   "outputs": [
    {
     "name": "stdout",
     "output_type": "stream",
     "text": [
      "/data/gpfs/assoc/denovo/tfaske/sagebrush/SNPcall/AV2/filtering\n"
     ]
    }
   ],
   "source": [
    "cd $analysis_dir"
   ]
  },
  {
   "cell_type": "code",
   "execution_count": 5,
   "metadata": {
    "scrolled": true
   },
   "outputs": [
    {
     "data": {
      "text/plain": [
       "'/data/gpfs/assoc/denovo/tfaske/sagebrush/SNPcall/AV2/filtering/ARTR_chr.biallelic.recode.vcf.gz'"
      ]
     },
     "execution_count": 5,
     "metadata": {},
     "output_type": "execute_result"
    }
   ],
   "source": [
    "vcf_file = os.path.join(analysis_dir, \"ARTR_chr.biallelic.recode.vcf.gz\")\n",
    "assert os.path.exists(vcf_file)\n",
    "vcf_file"
   ]
  },
  {
   "cell_type": "markdown",
   "metadata": {},
   "source": [
    "### keep only AV2 individuals"
   ]
  },
  {
   "cell_type": "code",
   "execution_count": 6,
   "metadata": {},
   "outputs": [
    {
     "data": {
      "text/html": [
       "<div>\n",
       "<style scoped>\n",
       "    .dataframe tbody tr th:only-of-type {\n",
       "        vertical-align: middle;\n",
       "    }\n",
       "\n",
       "    .dataframe tbody tr th {\n",
       "        vertical-align: top;\n",
       "    }\n",
       "\n",
       "    .dataframe thead th {\n",
       "        text-align: right;\n",
       "    }\n",
       "</style>\n",
       "<table border=\"1\" class=\"dataframe\">\n",
       "  <thead>\n",
       "    <tr style=\"text-align: right;\">\n",
       "      <th></th>\n",
       "      <th>sample</th>\n",
       "    </tr>\n",
       "  </thead>\n",
       "  <tbody>\n",
       "    <tr>\n",
       "      <th>0</th>\n",
       "      <td>AT2_BB_1</td>\n",
       "    </tr>\n",
       "    <tr>\n",
       "      <th>1</th>\n",
       "      <td>AT2_BB_10</td>\n",
       "    </tr>\n",
       "    <tr>\n",
       "      <th>2</th>\n",
       "      <td>AT2_BB_11</td>\n",
       "    </tr>\n",
       "    <tr>\n",
       "      <th>3</th>\n",
       "      <td>AT2_BB_12</td>\n",
       "    </tr>\n",
       "    <tr>\n",
       "      <th>4</th>\n",
       "      <td>AT2_BB_13</td>\n",
       "    </tr>\n",
       "  </tbody>\n",
       "</table>\n",
       "</div>"
      ],
      "text/plain": [
       "      sample\n",
       "0   AT2_BB_1\n",
       "1  AT2_BB_10\n",
       "2  AT2_BB_11\n",
       "3  AT2_BB_12\n",
       "4  AT2_BB_13"
      ]
     },
     "execution_count": 6,
     "metadata": {},
     "output_type": "execute_result"
    }
   ],
   "source": [
    "sample_names = pd.read_csv('sample_index.txt',header=None,names=['sample'])\n",
    "sample_names.head()"
   ]
  },
  {
   "cell_type": "code",
   "execution_count": 7,
   "metadata": {},
   "outputs": [],
   "source": [
    "AV2_indv = [s for s in sample_names['sample'] if 'AV2' in s]"
   ]
  },
  {
   "cell_type": "code",
   "execution_count": 10,
   "metadata": {},
   "outputs": [
    {
     "data": {
      "text/plain": [
       "(172, 'AV2_AN_1')"
      ]
     },
     "execution_count": 10,
     "metadata": {},
     "output_type": "execute_result"
    }
   ],
   "source": [
    "len(AV2_indv), AV2_indv[0]"
   ]
  },
  {
   "cell_type": "code",
   "execution_count": 11,
   "metadata": {},
   "outputs": [],
   "source": [
    "with open(os.path.join(analysis_dir, \"AV2_indv.txt\"), \"w\") as o:\n",
    "    o.write(\"INDV\\n\")\n",
    "    for elem in AV2_indv:\n",
    "        o.write(\"%s\\n\" % elem)"
   ]
  },
  {
   "cell_type": "code",
   "execution_count": 12,
   "metadata": {},
   "outputs": [
    {
     "name": "stdout",
     "output_type": "stream",
     "text": [
      "\n",
      "VCFtools - 0.1.16\n",
      "(C) Adam Auton and Anthony Marcketta 2009\n",
      "\n",
      "Parameters as interpreted:\n",
      "\t--gzvcf /data/gpfs/assoc/denovo/tfaske/sagebrush/SNPcall/AV2/filtering/ARTR_chr.biallelic.recode.vcf.gz\n",
      "\t--keep /data/gpfs/assoc/denovo/tfaske/sagebrush/SNPcall/AV2/filtering/AV2_indv.txt\n",
      "\t--recode-INFO-all\n",
      "\t--out /data/gpfs/assoc/denovo/tfaske/sagebrush/SNPcall/AV2/filtering/AV2_chr.biallelic\n",
      "\t--recode\n",
      "\t--remove-filtered-all\n",
      "\n",
      "Using zlib version: 1.2.11\n",
      "Warning: Expected at least 2 parts in INFO entry: ID=PV4,Number=4,Type=Float,Description=\"P-values for strand bias, baseQ bias, mapQ bias and tail distance bias\">\n",
      "Warning: Expected at least 2 parts in INFO entry: ID=PV4,Number=4,Type=Float,Description=\"P-values for strand bias, baseQ bias, mapQ bias and tail distance bias\">\n",
      "Warning: Expected at least 2 parts in INFO entry: ID=DP4,Number=4,Type=Integer,Description=\"Number of high-quality ref-forward , ref-reverse, alt-forward and alt-reverse bases\">\n",
      "Warning: Expected at least 2 parts in INFO entry: ID=DP4,Number=4,Type=Integer,Description=\"Number of high-quality ref-forward , ref-reverse, alt-forward and alt-reverse bases\">\n",
      "Keeping individuals in 'keep' list\n",
      "After filtering, kept 172 out of 708 Individuals\n",
      "Outputting VCF file...\n",
      "After filtering, kept 2766918 out of a possible 2766918 Sites\n",
      "Run Time = 1423.00 seconds\n"
     ]
    }
   ],
   "source": [
    "!$vcftools --gzvcf $vcf_file \\\n",
    "--remove-filtered-all \\\n",
    "--recode \\\n",
    "--recode-INFO-all \\\n",
    "--keep {os.path.join(analysis_dir, \"AV2_indv.txt\")} \\\n",
    "--out {os.path.join(analysis_dir, \"AV2_chr.biallelic\")}"
   ]
  },
  {
   "cell_type": "code",
   "execution_count": 14,
   "metadata": {},
   "outputs": [],
   "source": [
    "vcf_AV2 = \"AV2_chr.biallelic.recode.vcf\" \n",
    "vcf_AV2_gz = \"%s.gz\" % vcf_AV2\n",
    "!$bgzip -c $vcf_AV2 > {vcf_AV2_gz}\n",
    "!$tabix {vcf_AV2_gz}"
   ]
  },
  {
   "cell_type": "markdown",
   "metadata": {},
   "source": [
    "## Remove by MAF, missing, and thin next"
   ]
  },
  {
   "cell_type": "code",
   "execution_count": 15,
   "metadata": {},
   "outputs": [
    {
     "name": "stdout",
     "output_type": "stream",
     "text": [
      "\n",
      "VCFtools - 0.1.16\n",
      "(C) Adam Auton and Anthony Marcketta 2009\n",
      "\n",
      "Parameters as interpreted:\n",
      "\t--gzvcf AV2_chr.biallelic.recode.vcf.gz\n",
      "\t--recode-INFO-all\n",
      "\t--maf 0.01\n",
      "\t--thin 100\n",
      "\t--max-missing 0.7\n",
      "\t--out AV2_chr_miss70_thin100_MAF1\n",
      "\t--recode\n",
      "\t--remove-filtered-all\n",
      "\n",
      "Using zlib version: 1.2.11\n",
      "Warning: Expected at least 2 parts in INFO entry: ID=PV4,Number=4,Type=Float,Description=\"P-values for strand bias, baseQ bias, mapQ bias and tail distance bias\">\n",
      "Warning: Expected at least 2 parts in INFO entry: ID=PV4,Number=4,Type=Float,Description=\"P-values for strand bias, baseQ bias, mapQ bias and tail distance bias\">\n",
      "Warning: Expected at least 2 parts in INFO entry: ID=DP4,Number=4,Type=Integer,Description=\"Number of high-quality ref-forward , ref-reverse, alt-forward and alt-reverse bases\">\n",
      "Warning: Expected at least 2 parts in INFO entry: ID=DP4,Number=4,Type=Integer,Description=\"Number of high-quality ref-forward , ref-reverse, alt-forward and alt-reverse bases\">\n",
      "After filtering, kept 172 out of 172 Individuals\n",
      "Outputting VCF file...\n",
      "After filtering, kept 458910 out of a possible 2766918 Sites\n",
      "Run Time = 221.00 seconds\n"
     ]
    }
   ],
   "source": [
    "!$vcftools \\\n",
    "--max-missing 0.7 \\\n",
    "--maf 0.01 \\\n",
    "--thin 100 \\\n",
    "--remove-filtered-all \\\n",
    "--recode \\\n",
    "--recode-INFO-all \\\n",
    "--gzvcf \\\n",
    "$vcf_AV2_gz \\\n",
    "--out $'AV2_chr_miss70_thin100_MAF1'"
   ]
  },
  {
   "cell_type": "code",
   "execution_count": 16,
   "metadata": {},
   "outputs": [],
   "source": [
    "vcf_filtered = \"AV2_chr_miss70_thin100_MAF1.recode.vcf\"\n",
    "vcf_filtered_gz = \"%s.gz\" % vcf_filtered"
   ]
  },
  {
   "cell_type": "code",
   "execution_count": null,
   "metadata": {},
   "outputs": [],
   "source": [
    "!$bgzip -c $vcf_filtered > {vcf_filtered_gz}\n",
    "!$tabix {vcf_filtered_gz}"
   ]
  },
  {
   "cell_type": "markdown",
   "metadata": {},
   "source": [
    "# Remove bad_indv\n",
    "\n",
    "by do it by mean_depth cause no missing data "
   ]
  },
  {
   "cell_type": "code",
   "execution_count": 77,
   "metadata": {
    "scrolled": true
   },
   "outputs": [
    {
     "name": "stdout",
     "output_type": "stream",
     "text": [
      "\n",
      "VCFtools - 0.1.16\n",
      "(C) Adam Auton and Anthony Marcketta 2009\n",
      "\n",
      "Parameters as interpreted:\n",
      "\t--gzvcf AV2_chr_miss70_thin100_MAF1.recode.vcf.gz\n",
      "\t--depth\n",
      "\t--out AV2_chr_miss70_thin100_MAF1.recode.vcf.gz\n",
      "\n",
      "Using zlib version: 1.2.11\n",
      "Warning: Expected at least 2 parts in INFO entry: ID=PV4,Number=4,Type=Float,Description=\"P-values for strand bias, baseQ bias, mapQ bias and tail distance bias\">\n",
      "Warning: Expected at least 2 parts in INFO entry: ID=PV4,Number=4,Type=Float,Description=\"P-values for strand bias, baseQ bias, mapQ bias and tail distance bias\">\n",
      "Warning: Expected at least 2 parts in INFO entry: ID=DP4,Number=4,Type=Integer,Description=\"Number of high-quality ref-forward , ref-reverse, alt-forward and alt-reverse bases\">\n",
      "Warning: Expected at least 2 parts in INFO entry: ID=DP4,Number=4,Type=Integer,Description=\"Number of high-quality ref-forward , ref-reverse, alt-forward and alt-reverse bases\">\n",
      "After filtering, kept 172 out of 172 Individuals\n",
      "Outputting Mean Depth by Individual\n",
      "After filtering, kept 458910 out of a possible 458910 Sites\n",
      "Run Time = 13.00 seconds\n"
     ]
    }
   ],
   "source": [
    "!$vcftools --gzvcf {vcf_filtered_gz} \\\n",
    "--out {vcf_filtered_gz} \\\n",
    "--depth"
   ]
  },
  {
   "cell_type": "code",
   "execution_count": 78,
   "metadata": {},
   "outputs": [
    {
     "data": {
      "text/html": [
       "<div>\n",
       "<style scoped>\n",
       "    .dataframe tbody tr th:only-of-type {\n",
       "        vertical-align: middle;\n",
       "    }\n",
       "\n",
       "    .dataframe tbody tr th {\n",
       "        vertical-align: top;\n",
       "    }\n",
       "\n",
       "    .dataframe thead th {\n",
       "        text-align: right;\n",
       "    }\n",
       "</style>\n",
       "<table border=\"1\" class=\"dataframe\">\n",
       "  <thead>\n",
       "    <tr style=\"text-align: right;\">\n",
       "      <th></th>\n",
       "      <th>INDV</th>\n",
       "      <th>N_SITES</th>\n",
       "      <th>MEAN_DEPTH</th>\n",
       "    </tr>\n",
       "  </thead>\n",
       "  <tbody>\n",
       "    <tr>\n",
       "      <th>0</th>\n",
       "      <td>AV2_AN_1</td>\n",
       "      <td>458910</td>\n",
       "      <td>0.223035</td>\n",
       "    </tr>\n",
       "    <tr>\n",
       "      <th>1</th>\n",
       "      <td>AV2_AN_2</td>\n",
       "      <td>458910</td>\n",
       "      <td>0.182960</td>\n",
       "    </tr>\n",
       "    <tr>\n",
       "      <th>2</th>\n",
       "      <td>AV2_AN_3</td>\n",
       "      <td>458910</td>\n",
       "      <td>0.160840</td>\n",
       "    </tr>\n",
       "    <tr>\n",
       "      <th>3</th>\n",
       "      <td>AV2_AN_4</td>\n",
       "      <td>458910</td>\n",
       "      <td>0.171249</td>\n",
       "    </tr>\n",
       "    <tr>\n",
       "      <th>4</th>\n",
       "      <td>AV2_AN_5</td>\n",
       "      <td>458910</td>\n",
       "      <td>0.146397</td>\n",
       "    </tr>\n",
       "  </tbody>\n",
       "</table>\n",
       "</div>"
      ],
      "text/plain": [
       "       INDV  N_SITES  MEAN_DEPTH\n",
       "0  AV2_AN_1   458910    0.223035\n",
       "1  AV2_AN_2   458910    0.182960\n",
       "2  AV2_AN_3   458910    0.160840\n",
       "3  AV2_AN_4   458910    0.171249\n",
       "4  AV2_AN_5   458910    0.146397"
      ]
     },
     "execution_count": 78,
     "metadata": {},
     "output_type": "execute_result"
    }
   ],
   "source": [
    "depth_file = vcf_filtered_gz + \".idepth\"\n",
    "depth_df = pd.read_csv(depth_file, sep=\"\\t\")\n",
    "depth_df.head()"
   ]
  },
  {
   "cell_type": "code",
   "execution_count": 79,
   "metadata": {
    "scrolled": false
   },
   "outputs": [
    {
     "data": {
      "text/plain": [
       "count    172.000000\n",
       "mean       0.188777\n",
       "std        0.054205\n",
       "min        0.000521\n",
       "25%        0.151296\n",
       "50%        0.187078\n",
       "75%        0.213640\n",
       "max        0.347393\n",
       "Name: MEAN_DEPTH, dtype: float64"
      ]
     },
     "execution_count": 79,
     "metadata": {},
     "output_type": "execute_result"
    }
   ],
   "source": [
    "depth_df.MEAN_DEPTH.describe()"
   ]
  },
  {
   "cell_type": "code",
   "execution_count": 80,
   "metadata": {},
   "outputs": [
    {
     "data": {
      "text/plain": [
       "(172, 2, 4, 41)"
      ]
     },
     "execution_count": 80,
     "metadata": {},
     "output_type": "execute_result"
    }
   ],
   "source": [
    "len(depth_df),len(depth_df[depth_df.MEAN_DEPTH <= .05]),len(depth_df[depth_df.MEAN_DEPTH <= .1]), len(depth_df[depth_df.MEAN_DEPTH <= .15])\n"
   ]
  },
  {
   "cell_type": "code",
   "execution_count": 81,
   "metadata": {},
   "outputs": [],
   "source": [
    "bad_indv = depth_df.INDV[depth_df.MEAN_DEPTH <= .1]"
   ]
  },
  {
   "cell_type": "code",
   "execution_count": 82,
   "metadata": {},
   "outputs": [],
   "source": [
    "with open(os.path.join(analysis_dir, \"bad_indv.txt\"), \"w\") as o:\n",
    "    o.write(\"INDV\\n\")\n",
    "    for elem in bad_indv:\n",
    "        o.write(\"%s\\n\" % elem)"
   ]
  },
  {
   "cell_type": "code",
   "execution_count": 83,
   "metadata": {},
   "outputs": [
    {
     "name": "stdout",
     "output_type": "stream",
     "text": [
      "INDV\r\n",
      "AV2_NV_1\r\n",
      "AV2_PL_10\r\n",
      "AV2_SN_128\r\n",
      "AV2_TF_149\r\n"
     ]
    }
   ],
   "source": [
    "!cat bad_indv.txt"
   ]
  },
  {
   "cell_type": "code",
   "execution_count": 84,
   "metadata": {},
   "outputs": [
    {
     "name": "stdout",
     "output_type": "stream",
     "text": [
      "\n",
      "VCFtools - 0.1.16\n",
      "(C) Adam Auton and Anthony Marcketta 2009\n",
      "\n",
      "Parameters as interpreted:\n",
      "\t--gzvcf AV2_chr_miss70_thin100_MAF1.recode.vcf.gz\n",
      "\t--remove /data/gpfs/assoc/denovo/tfaske/sagebrush/SNPcall/AV2/filtering/bad_indv.txt\n",
      "\t--recode-INFO-all\n",
      "\t--out /data/gpfs/assoc/denovo/tfaske/sagebrush/SNPcall/AV2/filtering/snps_indv_removed\n",
      "\t--recode\n",
      "\t--remove-filtered-all\n",
      "\t--remove-indels\n",
      "\n",
      "Using zlib version: 1.2.11\n",
      "Warning: Expected at least 2 parts in INFO entry: ID=PV4,Number=4,Type=Float,Description=\"P-values for strand bias, baseQ bias, mapQ bias and tail distance bias\">\n",
      "Warning: Expected at least 2 parts in INFO entry: ID=PV4,Number=4,Type=Float,Description=\"P-values for strand bias, baseQ bias, mapQ bias and tail distance bias\">\n",
      "Warning: Expected at least 2 parts in INFO entry: ID=DP4,Number=4,Type=Integer,Description=\"Number of high-quality ref-forward , ref-reverse, alt-forward and alt-reverse bases\">\n",
      "Warning: Expected at least 2 parts in INFO entry: ID=DP4,Number=4,Type=Integer,Description=\"Number of high-quality ref-forward , ref-reverse, alt-forward and alt-reverse bases\">\n",
      "Excluding individuals in 'exclude' list\n",
      "After filtering, kept 168 out of 172 Individuals\n",
      "Outputting VCF file...\n",
      "After filtering, kept 458910 out of a possible 458910 Sites\n",
      "Run Time = 151.00 seconds\n"
     ]
    }
   ],
   "source": [
    "!$vcftools --gzvcf $vcf_filtered_gz \\\n",
    "--remove-indels  \\\n",
    "--remove-filtered-all \\\n",
    "--recode \\\n",
    "--recode-INFO-all \\\n",
    "--remove {os.path.join(analysis_dir, \"bad_indv.txt\")} \\\n",
    "--out {os.path.join(analysis_dir, \"snps_indv_removed\")}"
   ]
  },
  {
   "cell_type": "code",
   "execution_count": 85,
   "metadata": {},
   "outputs": [],
   "source": [
    "vcf_bad_remove = os.path.join(analysis_dir, \"snps_indv_removed.recode.vcf\")\n",
    "vcf_bad_remove_gz = vcf_bad_remove + \".gz\"\n",
    "!$bgzip -c {vcf_bad_remove} > {vcf_bad_remove_gz}\n",
    "!$tabix {vcf_bad_remove_gz}"
   ]
  },
  {
   "cell_type": "markdown",
   "metadata": {},
   "source": [
    "# Filter snps further \n",
    "this needs to be done after removing individuals\n"
   ]
  },
  {
   "cell_type": "code",
   "execution_count": 86,
   "metadata": {},
   "outputs": [],
   "source": [
    "def get_vcf_stats(vcf_gz):\n",
    "    \n",
    "    stats = ['depth',\n",
    "            'site-depth',\n",
    "            'site-mean-depth',\n",
    "            'site-quality',\n",
    "            'missing-site',\n",
    "            'freq',\n",
    "            'counts',\n",
    "            'hardy',\n",
    "            'het']\n",
    "    \n",
    "    for stat in stats:\n",
    "        !$vcftools --gzvcf $vcf_gz \\\n",
    "        --out $vcf_gz \\\n",
    "        {\"--%s\" % stat} "
   ]
  },
  {
   "cell_type": "code",
   "execution_count": 87,
   "metadata": {},
   "outputs": [
    {
     "name": "stdout",
     "output_type": "stream",
     "text": [
      "\n",
      "VCFtools - 0.1.16\n",
      "(C) Adam Auton and Anthony Marcketta 2009\n",
      "\n",
      "Parameters as interpreted:\n",
      "\t--gzvcf /data/gpfs/assoc/denovo/tfaske/sagebrush/SNPcall/AV2/filtering/snps_indv_removed.recode.vcf.gz\n",
      "\t--depth\n",
      "\t--out /data/gpfs/assoc/denovo/tfaske/sagebrush/SNPcall/AV2/filtering/snps_indv_removed.recode.vcf.gz\n",
      "\n",
      "Using zlib version: 1.2.11\n",
      "Warning: Expected at least 2 parts in INFO entry: ID=PV4,Number=4,Type=Float,Description=\"P-values for strand bias, baseQ bias, mapQ bias and tail distance bias\">\n",
      "Warning: Expected at least 2 parts in INFO entry: ID=PV4,Number=4,Type=Float,Description=\"P-values for strand bias, baseQ bias, mapQ bias and tail distance bias\">\n",
      "Warning: Expected at least 2 parts in INFO entry: ID=DP4,Number=4,Type=Integer,Description=\"Number of high-quality ref-forward , ref-reverse, alt-forward and alt-reverse bases\">\n",
      "Warning: Expected at least 2 parts in INFO entry: ID=DP4,Number=4,Type=Integer,Description=\"Number of high-quality ref-forward , ref-reverse, alt-forward and alt-reverse bases\">\n",
      "After filtering, kept 168 out of 168 Individuals\n",
      "Outputting Mean Depth by Individual\n",
      "After filtering, kept 458910 out of a possible 458910 Sites\n",
      "Run Time = 12.00 seconds\n",
      "\n",
      "VCFtools - 0.1.16\n",
      "(C) Adam Auton and Anthony Marcketta 2009\n",
      "\n",
      "Parameters as interpreted:\n",
      "\t--gzvcf /data/gpfs/assoc/denovo/tfaske/sagebrush/SNPcall/AV2/filtering/snps_indv_removed.recode.vcf.gz\n",
      "\t--out /data/gpfs/assoc/denovo/tfaske/sagebrush/SNPcall/AV2/filtering/snps_indv_removed.recode.vcf.gz\n",
      "\t--site-depth\n",
      "\n",
      "Using zlib version: 1.2.11\n",
      "Warning: Expected at least 2 parts in INFO entry: ID=PV4,Number=4,Type=Float,Description=\"P-values for strand bias, baseQ bias, mapQ bias and tail distance bias\">\n",
      "Warning: Expected at least 2 parts in INFO entry: ID=PV4,Number=4,Type=Float,Description=\"P-values for strand bias, baseQ bias, mapQ bias and tail distance bias\">\n",
      "Warning: Expected at least 2 parts in INFO entry: ID=DP4,Number=4,Type=Integer,Description=\"Number of high-quality ref-forward , ref-reverse, alt-forward and alt-reverse bases\">\n",
      "Warning: Expected at least 2 parts in INFO entry: ID=DP4,Number=4,Type=Integer,Description=\"Number of high-quality ref-forward , ref-reverse, alt-forward and alt-reverse bases\">\n",
      "After filtering, kept 168 out of 168 Individuals\n",
      "Outputting Depth for Each Site\n",
      "After filtering, kept 458910 out of a possible 458910 Sites\n",
      "Run Time = 15.00 seconds\n",
      "\n",
      "VCFtools - 0.1.16\n",
      "(C) Adam Auton and Anthony Marcketta 2009\n",
      "\n",
      "Parameters as interpreted:\n",
      "\t--gzvcf /data/gpfs/assoc/denovo/tfaske/sagebrush/SNPcall/AV2/filtering/snps_indv_removed.recode.vcf.gz\n",
      "\t--out /data/gpfs/assoc/denovo/tfaske/sagebrush/SNPcall/AV2/filtering/snps_indv_removed.recode.vcf.gz\n",
      "\t--site-mean-depth\n",
      "\n",
      "Using zlib version: 1.2.11\n",
      "Warning: Expected at least 2 parts in INFO entry: ID=PV4,Number=4,Type=Float,Description=\"P-values for strand bias, baseQ bias, mapQ bias and tail distance bias\">\n",
      "Warning: Expected at least 2 parts in INFO entry: ID=PV4,Number=4,Type=Float,Description=\"P-values for strand bias, baseQ bias, mapQ bias and tail distance bias\">\n",
      "Warning: Expected at least 2 parts in INFO entry: ID=DP4,Number=4,Type=Integer,Description=\"Number of high-quality ref-forward , ref-reverse, alt-forward and alt-reverse bases\">\n",
      "Warning: Expected at least 2 parts in INFO entry: ID=DP4,Number=4,Type=Integer,Description=\"Number of high-quality ref-forward , ref-reverse, alt-forward and alt-reverse bases\">\n",
      "After filtering, kept 168 out of 168 Individuals\n",
      "Outputting Depth for Each Site\n",
      "After filtering, kept 458910 out of a possible 458910 Sites\n",
      "Run Time = 16.00 seconds\n",
      "\n",
      "VCFtools - 0.1.16\n",
      "(C) Adam Auton and Anthony Marcketta 2009\n",
      "\n",
      "Parameters as interpreted:\n",
      "\t--gzvcf /data/gpfs/assoc/denovo/tfaske/sagebrush/SNPcall/AV2/filtering/snps_indv_removed.recode.vcf.gz\n",
      "\t--out /data/gpfs/assoc/denovo/tfaske/sagebrush/SNPcall/AV2/filtering/snps_indv_removed.recode.vcf.gz\n",
      "\t--site-quality\n",
      "\n",
      "Using zlib version: 1.2.11\n",
      "Warning: Expected at least 2 parts in INFO entry: ID=PV4,Number=4,Type=Float,Description=\"P-values for strand bias, baseQ bias, mapQ bias and tail distance bias\">\n",
      "Warning: Expected at least 2 parts in INFO entry: ID=PV4,Number=4,Type=Float,Description=\"P-values for strand bias, baseQ bias, mapQ bias and tail distance bias\">\n",
      "Warning: Expected at least 2 parts in INFO entry: ID=DP4,Number=4,Type=Integer,Description=\"Number of high-quality ref-forward , ref-reverse, alt-forward and alt-reverse bases\">\n",
      "Warning: Expected at least 2 parts in INFO entry: ID=DP4,Number=4,Type=Integer,Description=\"Number of high-quality ref-forward , ref-reverse, alt-forward and alt-reverse bases\">\n",
      "After filtering, kept 168 out of 168 Individuals\n",
      "Outputting Quality for Each Site\n",
      "After filtering, kept 458910 out of a possible 458910 Sites\n",
      "Run Time = 7.00 seconds\n",
      "\n",
      "VCFtools - 0.1.16\n",
      "(C) Adam Auton and Anthony Marcketta 2009\n",
      "\n",
      "Parameters as interpreted:\n",
      "\t--gzvcf /data/gpfs/assoc/denovo/tfaske/sagebrush/SNPcall/AV2/filtering/snps_indv_removed.recode.vcf.gz\n",
      "\t--out /data/gpfs/assoc/denovo/tfaske/sagebrush/SNPcall/AV2/filtering/snps_indv_removed.recode.vcf.gz\n",
      "\t--missing-site\n",
      "\n",
      "Using zlib version: 1.2.11\n",
      "Warning: Expected at least 2 parts in INFO entry: ID=PV4,Number=4,Type=Float,Description=\"P-values for strand bias, baseQ bias, mapQ bias and tail distance bias\">\n",
      "Warning: Expected at least 2 parts in INFO entry: ID=PV4,Number=4,Type=Float,Description=\"P-values for strand bias, baseQ bias, mapQ bias and tail distance bias\">\n",
      "Warning: Expected at least 2 parts in INFO entry: ID=DP4,Number=4,Type=Integer,Description=\"Number of high-quality ref-forward , ref-reverse, alt-forward and alt-reverse bases\">\n",
      "Warning: Expected at least 2 parts in INFO entry: ID=DP4,Number=4,Type=Integer,Description=\"Number of high-quality ref-forward , ref-reverse, alt-forward and alt-reverse bases\">\n",
      "After filtering, kept 168 out of 168 Individuals\n",
      "Outputting Site Missingness\n",
      "After filtering, kept 458910 out of a possible 458910 Sites\n",
      "Run Time = 14.00 seconds\n",
      "\n",
      "VCFtools - 0.1.16\n",
      "(C) Adam Auton and Anthony Marcketta 2009\n",
      "\n",
      "Parameters as interpreted:\n",
      "\t--gzvcf /data/gpfs/assoc/denovo/tfaske/sagebrush/SNPcall/AV2/filtering/snps_indv_removed.recode.vcf.gz\n",
      "\t--freq\n",
      "\t--out /data/gpfs/assoc/denovo/tfaske/sagebrush/SNPcall/AV2/filtering/snps_indv_removed.recode.vcf.gz\n",
      "\n",
      "Using zlib version: 1.2.11\n",
      "Warning: Expected at least 2 parts in INFO entry: ID=PV4,Number=4,Type=Float,Description=\"P-values for strand bias, baseQ bias, mapQ bias and tail distance bias\">\n",
      "Warning: Expected at least 2 parts in INFO entry: ID=PV4,Number=4,Type=Float,Description=\"P-values for strand bias, baseQ bias, mapQ bias and tail distance bias\">\n",
      "Warning: Expected at least 2 parts in INFO entry: ID=DP4,Number=4,Type=Integer,Description=\"Number of high-quality ref-forward , ref-reverse, alt-forward and alt-reverse bases\">\n",
      "Warning: Expected at least 2 parts in INFO entry: ID=DP4,Number=4,Type=Integer,Description=\"Number of high-quality ref-forward , ref-reverse, alt-forward and alt-reverse bases\">\n",
      "After filtering, kept 168 out of 168 Individuals\n",
      "Outputting Frequency Statistics...\n",
      "After filtering, kept 458910 out of a possible 458910 Sites\n",
      "Run Time = 12.00 seconds\n",
      "\n",
      "VCFtools - 0.1.16\n",
      "(C) Adam Auton and Anthony Marcketta 2009\n",
      "\n",
      "Parameters as interpreted:\n",
      "\t--gzvcf /data/gpfs/assoc/denovo/tfaske/sagebrush/SNPcall/AV2/filtering/snps_indv_removed.recode.vcf.gz\n",
      "\t--counts\n",
      "\t--out /data/gpfs/assoc/denovo/tfaske/sagebrush/SNPcall/AV2/filtering/snps_indv_removed.recode.vcf.gz\n",
      "\n",
      "Using zlib version: 1.2.11\n",
      "Warning: Expected at least 2 parts in INFO entry: ID=PV4,Number=4,Type=Float,Description=\"P-values for strand bias, baseQ bias, mapQ bias and tail distance bias\">\n",
      "Warning: Expected at least 2 parts in INFO entry: ID=PV4,Number=4,Type=Float,Description=\"P-values for strand bias, baseQ bias, mapQ bias and tail distance bias\">\n",
      "Warning: Expected at least 2 parts in INFO entry: ID=DP4,Number=4,Type=Integer,Description=\"Number of high-quality ref-forward , ref-reverse, alt-forward and alt-reverse bases\">\n",
      "Warning: Expected at least 2 parts in INFO entry: ID=DP4,Number=4,Type=Integer,Description=\"Number of high-quality ref-forward , ref-reverse, alt-forward and alt-reverse bases\">\n",
      "After filtering, kept 168 out of 168 Individuals\n",
      "Outputting Frequency Statistics...\n"
     ]
    },
    {
     "name": "stdout",
     "output_type": "stream",
     "text": [
      "After filtering, kept 458910 out of a possible 458910 Sites\n",
      "Run Time = 12.00 seconds\n",
      "\n",
      "VCFtools - 0.1.16\n",
      "(C) Adam Auton and Anthony Marcketta 2009\n",
      "\n",
      "Parameters as interpreted:\n",
      "\t--gzvcf /data/gpfs/assoc/denovo/tfaske/sagebrush/SNPcall/AV2/filtering/snps_indv_removed.recode.vcf.gz\n",
      "\t--hardy\n",
      "\t--out /data/gpfs/assoc/denovo/tfaske/sagebrush/SNPcall/AV2/filtering/snps_indv_removed.recode.vcf.gz\n",
      "\n",
      "Using zlib version: 1.2.11\n",
      "Warning: Expected at least 2 parts in INFO entry: ID=PV4,Number=4,Type=Float,Description=\"P-values for strand bias, baseQ bias, mapQ bias and tail distance bias\">\n",
      "Warning: Expected at least 2 parts in INFO entry: ID=PV4,Number=4,Type=Float,Description=\"P-values for strand bias, baseQ bias, mapQ bias and tail distance bias\">\n",
      "Warning: Expected at least 2 parts in INFO entry: ID=DP4,Number=4,Type=Integer,Description=\"Number of high-quality ref-forward , ref-reverse, alt-forward and alt-reverse bases\">\n",
      "Warning: Expected at least 2 parts in INFO entry: ID=DP4,Number=4,Type=Integer,Description=\"Number of high-quality ref-forward , ref-reverse, alt-forward and alt-reverse bases\">\n",
      "After filtering, kept 168 out of 168 Individuals\n",
      "Outputting HWE statistics (but only for biallelic loci)\n",
      "After filtering, kept 458910 out of a possible 458910 Sites\n",
      "Run Time = 18.00 seconds\n",
      "\n",
      "VCFtools - 0.1.16\n",
      "(C) Adam Auton and Anthony Marcketta 2009\n",
      "\n",
      "Parameters as interpreted:\n",
      "\t--gzvcf /data/gpfs/assoc/denovo/tfaske/sagebrush/SNPcall/AV2/filtering/snps_indv_removed.recode.vcf.gz\n",
      "\t--het\n",
      "\t--out /data/gpfs/assoc/denovo/tfaske/sagebrush/SNPcall/AV2/filtering/snps_indv_removed.recode.vcf.gz\n",
      "\n",
      "Using zlib version: 1.2.11\n",
      "Warning: Expected at least 2 parts in INFO entry: ID=PV4,Number=4,Type=Float,Description=\"P-values for strand bias, baseQ bias, mapQ bias and tail distance bias\">\n",
      "Warning: Expected at least 2 parts in INFO entry: ID=PV4,Number=4,Type=Float,Description=\"P-values for strand bias, baseQ bias, mapQ bias and tail distance bias\">\n",
      "Warning: Expected at least 2 parts in INFO entry: ID=DP4,Number=4,Type=Integer,Description=\"Number of high-quality ref-forward , ref-reverse, alt-forward and alt-reverse bases\">\n",
      "Warning: Expected at least 2 parts in INFO entry: ID=DP4,Number=4,Type=Integer,Description=\"Number of high-quality ref-forward , ref-reverse, alt-forward and alt-reverse bases\">\n",
      "After filtering, kept 168 out of 168 Individuals\n",
      "Outputting Individual Heterozygosity\n",
      "After filtering, kept 458910 out of a possible 458910 Sites\n",
      "Run Time = 12.00 seconds\n"
     ]
    }
   ],
   "source": [
    "get_vcf_stats(vcf_bad_remove_gz)"
   ]
  },
  {
   "cell_type": "code",
   "execution_count": 88,
   "metadata": {},
   "outputs": [],
   "source": [
    "#pd.set_option('display.max_columns', 100)\n",
    "\n",
    "def get_MAF(row):\n",
    "    try:\n",
    "        return np.min([row.A1_freq, row.A2_freq])\n",
    "    except:\n",
    "        print(row)\n",
    "        \n",
    "def get_correction(n):\n",
    "    #for finite sample size\n",
    "    return (2*n)/(2*n-1)\n",
    "\n",
    "def calculate_Fis(vals):\n",
    "    try:\n",
    "        data = [float(x) for x in vals.split(\"/\")]\n",
    "        assert len(data) == 3\n",
    "        num_individuals = np.sum(data)\n",
    "        total_alleles = 2*num_individuals\n",
    "        a1_count = 2*data[0]\n",
    "        a2_count = 2*data[2]\n",
    "        het_count = data[1]\n",
    "        a1_count += het_count\n",
    "        a2_count += het_count\n",
    "        a1_freq = a1_count/total_alleles\n",
    "        a2_freq = a2_count/total_alleles\n",
    "        assert a1_freq + a2_freq == 1.0\n",
    "        He = 2 * a1_freq * a2_freq * get_correction(num_individuals)\n",
    "        Ho = het_count/num_individuals\n",
    "        Fis = 1 - (Ho/He)\n",
    "        return Fis\n",
    "    except:\n",
    "        return -9\n",
    "\n",
    "def combine_vcf_stats(filedir, prefix):\n",
    "    \n",
    "    hardy_files = !ls {filedir}/{prefix}.hwe\n",
    "    hardy = pd.read_csv(hardy_files[0], sep=\"\\t\")\n",
    "\n",
    "    hardy.columns = ['CHROM', 'POS', 'OBS(HOM1/HET/HOM2)', 'E(HOM1/HET/HOM2)', 'ChiSq_HWE',\n",
    "       'P_HWE', 'P_HET_DEFICIT', 'P_HET_EXCESS']\n",
    "    hardy.index = hardy.apply(lambda x: \"%s-%d\" % (x.CHROM, x.POS), axis=1)\n",
    "    \n",
    "    loci_files = !ls {filedir}/{prefix}.l* | grep -v log\n",
    "    loci_df = pd.concat([pd.read_csv(x, sep=\"\\t\", skiprows=0) for x in loci_files], axis=1)\n",
    "    chrom_pos = loci_df.ix[:,0:2]\n",
    "    \n",
    "    frq_files = !ls {filedir}/{prefix}.frq* | grep -v count\n",
    "    frq_data = []\n",
    "    h = open(frq_files[0])\n",
    "    header = h.readline().strip().split()\n",
    "    for line in h:\n",
    "        frq_data.append(line.strip().split('\\t'))\n",
    "\n",
    "    header = ['CHROM', 'POS', 'N_ALLELES', 'N_CHR', 'A1_FREQ', \"A2_FREQ\"]\n",
    "    frq_df = pd.DataFrame(frq_data)\n",
    "    print(frq_df.columns)\n",
    "    #frq_df = frq_df.drop([6,7],axis=1)\n",
    "    frq_df.columns = header\n",
    "    frq_df.index = frq_df.apply(lambda x: \"%s-%s\" % (x.CHROM, x.POS), axis=1)\n",
    "    \n",
    "    loci_df = loci_df.drop(['CHROM','CHR','POS'], axis=1)\n",
    "    loci_df = pd.concat([chrom_pos, loci_df], axis=1)\n",
    "    loci_df.index = loci_df.apply(lambda x: \"%s-%d\" % (x.CHROM, x.POS), axis=1)\n",
    "    \n",
    "    loci_df = pd.concat([loci_df, frq_df, hardy], axis=1)\n",
    "    loci_df[\"A1_allele\"] = loci_df.apply(lambda row: row.A1_FREQ.split(\":\")[0], axis=1)\n",
    "    loci_df[\"A2_allele\"] = loci_df.apply(lambda row: row.A2_FREQ.split(\":\")[0], axis=1)\n",
    "    \n",
    "    loci_df[\"A1_freq\"] = loci_df.apply(lambda row: float(row.A1_FREQ.split(\":\")[1]), axis=1)\n",
    "    loci_df[\"A2_freq\"] = loci_df.apply(lambda row: float(row.A2_FREQ.split(\":\")[1]), axis=1)\n",
    "    \n",
    "    loci_df['MAF'] = loci_df.apply(get_MAF, axis=1)\n",
    "    loci_df = loci_df.drop(['CHROM', 'POS'], axis=1)\n",
    "    \n",
    "    loci_df['Fis'] = loci_df['OBS(HOM1/HET/HOM2)'].apply(calculate_Fis)\n",
    "    \n",
    "    return loci_df, frq_df, hardy"
   ]
  },
  {
   "cell_type": "code",
   "execution_count": 89,
   "metadata": {},
   "outputs": [
    {
     "data": {
      "text/plain": [
       "'/data/gpfs/assoc/denovo/tfaske/sagebrush/SNPcall/AV2/filtering/snps_indv_removed.recode.vcf.gz'"
      ]
     },
     "execution_count": 89,
     "metadata": {},
     "output_type": "execute_result"
    }
   ],
   "source": [
    "vcf_bad_remove_gz"
   ]
  },
  {
   "cell_type": "code",
   "execution_count": 90,
   "metadata": {
    "scrolled": true
   },
   "outputs": [
    {
     "name": "stderr",
     "output_type": "stream",
     "text": [
      "/data/gpfs/assoc/parchmanlab/tfaske/anaconda3/envs/py36/lib/python3.6/site-packages/ipykernel_launcher.py:45: FutureWarning: \n",
      ".ix is deprecated. Please use\n",
      ".loc for label based indexing or\n",
      ".iloc for positional indexing\n",
      "\n",
      "See the documentation here:\n",
      "http://pandas.pydata.org/pandas-docs/stable/user_guide/indexing.html#ix-indexer-is-deprecated\n"
     ]
    },
    {
     "name": "stdout",
     "output_type": "stream",
     "text": [
      "RangeIndex(start=0, stop=6, step=1)\n"
     ]
    }
   ],
   "source": [
    "loci_df, frq_df, hardy = combine_vcf_stats(analysis_dir,'snps_indv_removed.recode.vcf.gz')"
   ]
  },
  {
   "cell_type": "code",
   "execution_count": 91,
   "metadata": {},
   "outputs": [
    {
     "data": {
      "text/html": [
       "<div>\n",
       "<style scoped>\n",
       "    .dataframe tbody tr th:only-of-type {\n",
       "        vertical-align: middle;\n",
       "    }\n",
       "\n",
       "    .dataframe tbody tr th {\n",
       "        vertical-align: top;\n",
       "    }\n",
       "\n",
       "    .dataframe thead th {\n",
       "        text-align: right;\n",
       "    }\n",
       "</style>\n",
       "<table border=\"1\" class=\"dataframe\">\n",
       "  <thead>\n",
       "    <tr style=\"text-align: right;\">\n",
       "      <th></th>\n",
       "      <th>SUM_DEPTH</th>\n",
       "      <th>SUMSQ_DEPTH</th>\n",
       "      <th>MEAN_DEPTH</th>\n",
       "      <th>VAR_DEPTH</th>\n",
       "      <th>N_DATA</th>\n",
       "      <th>N_GENOTYPE_FILTERED</th>\n",
       "      <th>N_MISS</th>\n",
       "      <th>F_MISS</th>\n",
       "      <th>QUAL</th>\n",
       "      <th>N_ALLELES</th>\n",
       "      <th>...</th>\n",
       "      <th>ChiSq_HWE</th>\n",
       "      <th>P_HWE</th>\n",
       "      <th>P_HET_DEFICIT</th>\n",
       "      <th>P_HET_EXCESS</th>\n",
       "      <th>A1_allele</th>\n",
       "      <th>A2_allele</th>\n",
       "      <th>A1_freq</th>\n",
       "      <th>A2_freq</th>\n",
       "      <th>MAF</th>\n",
       "      <th>Fis</th>\n",
       "    </tr>\n",
       "  </thead>\n",
       "  <tbody>\n",
       "    <tr>\n",
       "      <th>CM042338.1-22493</th>\n",
       "      <td>0</td>\n",
       "      <td>0</td>\n",
       "      <td>0.000000</td>\n",
       "      <td>0.000000</td>\n",
       "      <td>336</td>\n",
       "      <td>0</td>\n",
       "      <td>0</td>\n",
       "      <td>0</td>\n",
       "      <td>7.82756</td>\n",
       "      <td>2</td>\n",
       "      <td>...</td>\n",
       "      <td>168.000000</td>\n",
       "      <td>6.522585e-50</td>\n",
       "      <td>1.000000</td>\n",
       "      <td>6.144880e-50</td>\n",
       "      <td>C</td>\n",
       "      <td>G</td>\n",
       "      <td>0.500000</td>\n",
       "      <td>0.500000</td>\n",
       "      <td>0.500000</td>\n",
       "      <td>-0.994048</td>\n",
       "    </tr>\n",
       "    <tr>\n",
       "      <th>CM042338.1-59140</th>\n",
       "      <td>82</td>\n",
       "      <td>152</td>\n",
       "      <td>0.488095</td>\n",
       "      <td>0.670516</td>\n",
       "      <td>336</td>\n",
       "      <td>0</td>\n",
       "      <td>0</td>\n",
       "      <td>0</td>\n",
       "      <td>999.00000</td>\n",
       "      <td>2</td>\n",
       "      <td>...</td>\n",
       "      <td>0.024387</td>\n",
       "      <td>1.000000e+00</td>\n",
       "      <td>1.000000</td>\n",
       "      <td>9.821164e-01</td>\n",
       "      <td>C</td>\n",
       "      <td>T</td>\n",
       "      <td>0.988095</td>\n",
       "      <td>0.011905</td>\n",
       "      <td>0.011905</td>\n",
       "      <td>-0.009036</td>\n",
       "    </tr>\n",
       "    <tr>\n",
       "      <th>CM042338.1-97078</th>\n",
       "      <td>0</td>\n",
       "      <td>0</td>\n",
       "      <td>0.000000</td>\n",
       "      <td>0.000000</td>\n",
       "      <td>336</td>\n",
       "      <td>0</td>\n",
       "      <td>0</td>\n",
       "      <td>0</td>\n",
       "      <td>35.79330</td>\n",
       "      <td>2</td>\n",
       "      <td>...</td>\n",
       "      <td>168.000000</td>\n",
       "      <td>6.522585e-50</td>\n",
       "      <td>1.000000</td>\n",
       "      <td>6.144880e-50</td>\n",
       "      <td>T</td>\n",
       "      <td>G</td>\n",
       "      <td>0.500000</td>\n",
       "      <td>0.500000</td>\n",
       "      <td>0.500000</td>\n",
       "      <td>-0.994048</td>\n",
       "    </tr>\n",
       "    <tr>\n",
       "      <th>CM042338.1-106063</th>\n",
       "      <td>0</td>\n",
       "      <td>0</td>\n",
       "      <td>0.000000</td>\n",
       "      <td>0.000000</td>\n",
       "      <td>336</td>\n",
       "      <td>0</td>\n",
       "      <td>0</td>\n",
       "      <td>0</td>\n",
       "      <td>999.00000</td>\n",
       "      <td>2</td>\n",
       "      <td>...</td>\n",
       "      <td>168.000000</td>\n",
       "      <td>6.522585e-50</td>\n",
       "      <td>1.000000</td>\n",
       "      <td>6.144880e-50</td>\n",
       "      <td>T</td>\n",
       "      <td>C</td>\n",
       "      <td>0.500000</td>\n",
       "      <td>0.500000</td>\n",
       "      <td>0.500000</td>\n",
       "      <td>-0.994048</td>\n",
       "    </tr>\n",
       "    <tr>\n",
       "      <th>CM042338.1-126072</th>\n",
       "      <td>93</td>\n",
       "      <td>207</td>\n",
       "      <td>0.553571</td>\n",
       "      <td>0.931245</td>\n",
       "      <td>336</td>\n",
       "      <td>0</td>\n",
       "      <td>0</td>\n",
       "      <td>0</td>\n",
       "      <td>999.00000</td>\n",
       "      <td>2</td>\n",
       "      <td>...</td>\n",
       "      <td>3.990804</td>\n",
       "      <td>1.554908e-01</td>\n",
       "      <td>0.155491</td>\n",
       "      <td>9.914965e-01</td>\n",
       "      <td>C</td>\n",
       "      <td>G</td>\n",
       "      <td>0.967262</td>\n",
       "      <td>0.032738</td>\n",
       "      <td>0.032738</td>\n",
       "      <td>0.156643</td>\n",
       "    </tr>\n",
       "    <tr>\n",
       "      <th>...</th>\n",
       "      <td>...</td>\n",
       "      <td>...</td>\n",
       "      <td>...</td>\n",
       "      <td>...</td>\n",
       "      <td>...</td>\n",
       "      <td>...</td>\n",
       "      <td>...</td>\n",
       "      <td>...</td>\n",
       "      <td>...</td>\n",
       "      <td>...</td>\n",
       "      <td>...</td>\n",
       "      <td>...</td>\n",
       "      <td>...</td>\n",
       "      <td>...</td>\n",
       "      <td>...</td>\n",
       "      <td>...</td>\n",
       "      <td>...</td>\n",
       "      <td>...</td>\n",
       "      <td>...</td>\n",
       "      <td>...</td>\n",
       "      <td>...</td>\n",
       "    </tr>\n",
       "    <tr>\n",
       "      <th>CM042346.1-338263844</th>\n",
       "      <td>0</td>\n",
       "      <td>0</td>\n",
       "      <td>0.000000</td>\n",
       "      <td>0.000000</td>\n",
       "      <td>336</td>\n",
       "      <td>0</td>\n",
       "      <td>0</td>\n",
       "      <td>0</td>\n",
       "      <td>35.79330</td>\n",
       "      <td>2</td>\n",
       "      <td>...</td>\n",
       "      <td>168.000000</td>\n",
       "      <td>6.522585e-50</td>\n",
       "      <td>1.000000</td>\n",
       "      <td>6.144880e-50</td>\n",
       "      <td>T</td>\n",
       "      <td>C</td>\n",
       "      <td>0.500000</td>\n",
       "      <td>0.500000</td>\n",
       "      <td>0.500000</td>\n",
       "      <td>-0.994048</td>\n",
       "    </tr>\n",
       "    <tr>\n",
       "      <th>CM042346.1-338268601</th>\n",
       "      <td>3</td>\n",
       "      <td>9</td>\n",
       "      <td>0.017857</td>\n",
       "      <td>0.053571</td>\n",
       "      <td>336</td>\n",
       "      <td>0</td>\n",
       "      <td>0</td>\n",
       "      <td>0</td>\n",
       "      <td>54.99990</td>\n",
       "      <td>2</td>\n",
       "      <td>...</td>\n",
       "      <td>164.047200</td>\n",
       "      <td>5.830745e-48</td>\n",
       "      <td>1.000000</td>\n",
       "      <td>5.192424e-48</td>\n",
       "      <td>A</td>\n",
       "      <td>G</td>\n",
       "      <td>0.497024</td>\n",
       "      <td>0.502976</td>\n",
       "      <td>0.497024</td>\n",
       "      <td>-0.982249</td>\n",
       "    </tr>\n",
       "    <tr>\n",
       "      <th>CM042346.1-338274068</th>\n",
       "      <td>0</td>\n",
       "      <td>0</td>\n",
       "      <td>0.000000</td>\n",
       "      <td>0.000000</td>\n",
       "      <td>336</td>\n",
       "      <td>0</td>\n",
       "      <td>0</td>\n",
       "      <td>0</td>\n",
       "      <td>7.82756</td>\n",
       "      <td>2</td>\n",
       "      <td>...</td>\n",
       "      <td>168.000000</td>\n",
       "      <td>6.522585e-50</td>\n",
       "      <td>1.000000</td>\n",
       "      <td>6.144880e-50</td>\n",
       "      <td>G</td>\n",
       "      <td>T</td>\n",
       "      <td>0.500000</td>\n",
       "      <td>0.500000</td>\n",
       "      <td>0.500000</td>\n",
       "      <td>-0.994048</td>\n",
       "    </tr>\n",
       "    <tr>\n",
       "      <th>CM042346.1-338287589</th>\n",
       "      <td>1</td>\n",
       "      <td>1</td>\n",
       "      <td>0.005952</td>\n",
       "      <td>0.005952</td>\n",
       "      <td>336</td>\n",
       "      <td>0</td>\n",
       "      <td>0</td>\n",
       "      <td>0</td>\n",
       "      <td>5.49146</td>\n",
       "      <td>2</td>\n",
       "      <td>...</td>\n",
       "      <td>168.000000</td>\n",
       "      <td>6.522585e-50</td>\n",
       "      <td>1.000000</td>\n",
       "      <td>6.144880e-50</td>\n",
       "      <td>G</td>\n",
       "      <td>A</td>\n",
       "      <td>0.500000</td>\n",
       "      <td>0.500000</td>\n",
       "      <td>0.500000</td>\n",
       "      <td>-0.994048</td>\n",
       "    </tr>\n",
       "    <tr>\n",
       "      <th>CM042346.1-338287789</th>\n",
       "      <td>0</td>\n",
       "      <td>0</td>\n",
       "      <td>0.000000</td>\n",
       "      <td>0.000000</td>\n",
       "      <td>336</td>\n",
       "      <td>0</td>\n",
       "      <td>0</td>\n",
       "      <td>0</td>\n",
       "      <td>7.01028</td>\n",
       "      <td>2</td>\n",
       "      <td>...</td>\n",
       "      <td>168.000000</td>\n",
       "      <td>6.522585e-50</td>\n",
       "      <td>1.000000</td>\n",
       "      <td>6.144880e-50</td>\n",
       "      <td>G</td>\n",
       "      <td>A</td>\n",
       "      <td>0.500000</td>\n",
       "      <td>0.500000</td>\n",
       "      <td>0.500000</td>\n",
       "      <td>-0.994048</td>\n",
       "    </tr>\n",
       "  </tbody>\n",
       "</table>\n",
       "<p>458910 rows × 25 columns</p>\n",
       "</div>"
      ],
      "text/plain": [
       "                      SUM_DEPTH  SUMSQ_DEPTH  MEAN_DEPTH  VAR_DEPTH  N_DATA  \\\n",
       "CM042338.1-22493              0            0    0.000000   0.000000     336   \n",
       "CM042338.1-59140             82          152    0.488095   0.670516     336   \n",
       "CM042338.1-97078              0            0    0.000000   0.000000     336   \n",
       "CM042338.1-106063             0            0    0.000000   0.000000     336   \n",
       "CM042338.1-126072            93          207    0.553571   0.931245     336   \n",
       "...                         ...          ...         ...        ...     ...   \n",
       "CM042346.1-338263844          0            0    0.000000   0.000000     336   \n",
       "CM042346.1-338268601          3            9    0.017857   0.053571     336   \n",
       "CM042346.1-338274068          0            0    0.000000   0.000000     336   \n",
       "CM042346.1-338287589          1            1    0.005952   0.005952     336   \n",
       "CM042346.1-338287789          0            0    0.000000   0.000000     336   \n",
       "\n",
       "                      N_GENOTYPE_FILTERED  N_MISS  F_MISS       QUAL  \\\n",
       "CM042338.1-22493                        0       0       0    7.82756   \n",
       "CM042338.1-59140                        0       0       0  999.00000   \n",
       "CM042338.1-97078                        0       0       0   35.79330   \n",
       "CM042338.1-106063                       0       0       0  999.00000   \n",
       "CM042338.1-126072                       0       0       0  999.00000   \n",
       "...                                   ...     ...     ...        ...   \n",
       "CM042346.1-338263844                    0       0       0   35.79330   \n",
       "CM042346.1-338268601                    0       0       0   54.99990   \n",
       "CM042346.1-338274068                    0       0       0    7.82756   \n",
       "CM042346.1-338287589                    0       0       0    5.49146   \n",
       "CM042346.1-338287789                    0       0       0    7.01028   \n",
       "\n",
       "                     N_ALLELES  ...   ChiSq_HWE         P_HWE P_HET_DEFICIT  \\\n",
       "CM042338.1-22493             2  ...  168.000000  6.522585e-50      1.000000   \n",
       "CM042338.1-59140             2  ...    0.024387  1.000000e+00      1.000000   \n",
       "CM042338.1-97078             2  ...  168.000000  6.522585e-50      1.000000   \n",
       "CM042338.1-106063            2  ...  168.000000  6.522585e-50      1.000000   \n",
       "CM042338.1-126072            2  ...    3.990804  1.554908e-01      0.155491   \n",
       "...                        ...  ...         ...           ...           ...   \n",
       "CM042346.1-338263844         2  ...  168.000000  6.522585e-50      1.000000   \n",
       "CM042346.1-338268601         2  ...  164.047200  5.830745e-48      1.000000   \n",
       "CM042346.1-338274068         2  ...  168.000000  6.522585e-50      1.000000   \n",
       "CM042346.1-338287589         2  ...  168.000000  6.522585e-50      1.000000   \n",
       "CM042346.1-338287789         2  ...  168.000000  6.522585e-50      1.000000   \n",
       "\n",
       "                      P_HET_EXCESS A1_allele  A2_allele   A1_freq   A2_freq  \\\n",
       "CM042338.1-22493      6.144880e-50         C          G  0.500000  0.500000   \n",
       "CM042338.1-59140      9.821164e-01         C          T  0.988095  0.011905   \n",
       "CM042338.1-97078      6.144880e-50         T          G  0.500000  0.500000   \n",
       "CM042338.1-106063     6.144880e-50         T          C  0.500000  0.500000   \n",
       "CM042338.1-126072     9.914965e-01         C          G  0.967262  0.032738   \n",
       "...                            ...       ...        ...       ...       ...   \n",
       "CM042346.1-338263844  6.144880e-50         T          C  0.500000  0.500000   \n",
       "CM042346.1-338268601  5.192424e-48         A          G  0.497024  0.502976   \n",
       "CM042346.1-338274068  6.144880e-50         G          T  0.500000  0.500000   \n",
       "CM042346.1-338287589  6.144880e-50         G          A  0.500000  0.500000   \n",
       "CM042346.1-338287789  6.144880e-50         G          A  0.500000  0.500000   \n",
       "\n",
       "                           MAF       Fis  \n",
       "CM042338.1-22493      0.500000 -0.994048  \n",
       "CM042338.1-59140      0.011905 -0.009036  \n",
       "CM042338.1-97078      0.500000 -0.994048  \n",
       "CM042338.1-106063     0.500000 -0.994048  \n",
       "CM042338.1-126072     0.032738  0.156643  \n",
       "...                        ...       ...  \n",
       "CM042346.1-338263844  0.500000 -0.994048  \n",
       "CM042346.1-338268601  0.497024 -0.982249  \n",
       "CM042346.1-338274068  0.500000 -0.994048  \n",
       "CM042346.1-338287589  0.500000 -0.994048  \n",
       "CM042346.1-338287789  0.500000 -0.994048  \n",
       "\n",
       "[458910 rows x 25 columns]"
      ]
     },
     "execution_count": 91,
     "metadata": {},
     "output_type": "execute_result"
    }
   ],
   "source": [
    "loci_df"
   ]
  },
  {
   "cell_type": "code",
   "execution_count": 92,
   "metadata": {},
   "outputs": [
    {
     "data": {
      "text/html": [
       "<div>\n",
       "<style scoped>\n",
       "    .dataframe tbody tr th:only-of-type {\n",
       "        vertical-align: middle;\n",
       "    }\n",
       "\n",
       "    .dataframe tbody tr th {\n",
       "        vertical-align: top;\n",
       "    }\n",
       "\n",
       "    .dataframe thead th {\n",
       "        text-align: right;\n",
       "    }\n",
       "</style>\n",
       "<table border=\"1\" class=\"dataframe\">\n",
       "  <thead>\n",
       "    <tr style=\"text-align: right;\">\n",
       "      <th></th>\n",
       "      <th>CHROM</th>\n",
       "      <th>POS</th>\n",
       "      <th>N_ALLELES</th>\n",
       "      <th>N_CHR</th>\n",
       "      <th>A1_FREQ</th>\n",
       "      <th>A2_FREQ</th>\n",
       "    </tr>\n",
       "  </thead>\n",
       "  <tbody>\n",
       "    <tr>\n",
       "      <th>CM042338.1-22493</th>\n",
       "      <td>CM042338.1</td>\n",
       "      <td>22493</td>\n",
       "      <td>2</td>\n",
       "      <td>336</td>\n",
       "      <td>C:0.5</td>\n",
       "      <td>G:0.5</td>\n",
       "    </tr>\n",
       "    <tr>\n",
       "      <th>CM042338.1-59140</th>\n",
       "      <td>CM042338.1</td>\n",
       "      <td>59140</td>\n",
       "      <td>2</td>\n",
       "      <td>336</td>\n",
       "      <td>C:0.988095</td>\n",
       "      <td>T:0.0119048</td>\n",
       "    </tr>\n",
       "    <tr>\n",
       "      <th>CM042338.1-97078</th>\n",
       "      <td>CM042338.1</td>\n",
       "      <td>97078</td>\n",
       "      <td>2</td>\n",
       "      <td>336</td>\n",
       "      <td>T:0.5</td>\n",
       "      <td>G:0.5</td>\n",
       "    </tr>\n",
       "    <tr>\n",
       "      <th>CM042338.1-106063</th>\n",
       "      <td>CM042338.1</td>\n",
       "      <td>106063</td>\n",
       "      <td>2</td>\n",
       "      <td>336</td>\n",
       "      <td>T:0.5</td>\n",
       "      <td>C:0.5</td>\n",
       "    </tr>\n",
       "    <tr>\n",
       "      <th>CM042338.1-126072</th>\n",
       "      <td>CM042338.1</td>\n",
       "      <td>126072</td>\n",
       "      <td>2</td>\n",
       "      <td>336</td>\n",
       "      <td>C:0.967262</td>\n",
       "      <td>G:0.0327381</td>\n",
       "    </tr>\n",
       "    <tr>\n",
       "      <th>...</th>\n",
       "      <td>...</td>\n",
       "      <td>...</td>\n",
       "      <td>...</td>\n",
       "      <td>...</td>\n",
       "      <td>...</td>\n",
       "      <td>...</td>\n",
       "    </tr>\n",
       "    <tr>\n",
       "      <th>CM042346.1-338263844</th>\n",
       "      <td>CM042346.1</td>\n",
       "      <td>338263844</td>\n",
       "      <td>2</td>\n",
       "      <td>336</td>\n",
       "      <td>T:0.5</td>\n",
       "      <td>C:0.5</td>\n",
       "    </tr>\n",
       "    <tr>\n",
       "      <th>CM042346.1-338268601</th>\n",
       "      <td>CM042346.1</td>\n",
       "      <td>338268601</td>\n",
       "      <td>2</td>\n",
       "      <td>336</td>\n",
       "      <td>A:0.497024</td>\n",
       "      <td>G:0.502976</td>\n",
       "    </tr>\n",
       "    <tr>\n",
       "      <th>CM042346.1-338274068</th>\n",
       "      <td>CM042346.1</td>\n",
       "      <td>338274068</td>\n",
       "      <td>2</td>\n",
       "      <td>336</td>\n",
       "      <td>G:0.5</td>\n",
       "      <td>T:0.5</td>\n",
       "    </tr>\n",
       "    <tr>\n",
       "      <th>CM042346.1-338287589</th>\n",
       "      <td>CM042346.1</td>\n",
       "      <td>338287589</td>\n",
       "      <td>2</td>\n",
       "      <td>336</td>\n",
       "      <td>G:0.5</td>\n",
       "      <td>A:0.5</td>\n",
       "    </tr>\n",
       "    <tr>\n",
       "      <th>CM042346.1-338287789</th>\n",
       "      <td>CM042346.1</td>\n",
       "      <td>338287789</td>\n",
       "      <td>2</td>\n",
       "      <td>336</td>\n",
       "      <td>G:0.5</td>\n",
       "      <td>A:0.5</td>\n",
       "    </tr>\n",
       "  </tbody>\n",
       "</table>\n",
       "<p>458910 rows × 6 columns</p>\n",
       "</div>"
      ],
      "text/plain": [
       "                           CHROM        POS N_ALLELES N_CHR     A1_FREQ  \\\n",
       "CM042338.1-22493      CM042338.1      22493         2   336       C:0.5   \n",
       "CM042338.1-59140      CM042338.1      59140         2   336  C:0.988095   \n",
       "CM042338.1-97078      CM042338.1      97078         2   336       T:0.5   \n",
       "CM042338.1-106063     CM042338.1     106063         2   336       T:0.5   \n",
       "CM042338.1-126072     CM042338.1     126072         2   336  C:0.967262   \n",
       "...                          ...        ...       ...   ...         ...   \n",
       "CM042346.1-338263844  CM042346.1  338263844         2   336       T:0.5   \n",
       "CM042346.1-338268601  CM042346.1  338268601         2   336  A:0.497024   \n",
       "CM042346.1-338274068  CM042346.1  338274068         2   336       G:0.5   \n",
       "CM042346.1-338287589  CM042346.1  338287589         2   336       G:0.5   \n",
       "CM042346.1-338287789  CM042346.1  338287789         2   336       G:0.5   \n",
       "\n",
       "                          A2_FREQ  \n",
       "CM042338.1-22493            G:0.5  \n",
       "CM042338.1-59140      T:0.0119048  \n",
       "CM042338.1-97078            G:0.5  \n",
       "CM042338.1-106063           C:0.5  \n",
       "CM042338.1-126072     G:0.0327381  \n",
       "...                           ...  \n",
       "CM042346.1-338263844        C:0.5  \n",
       "CM042346.1-338268601   G:0.502976  \n",
       "CM042346.1-338274068        T:0.5  \n",
       "CM042346.1-338287589        A:0.5  \n",
       "CM042346.1-338287789        A:0.5  \n",
       "\n",
       "[458910 rows x 6 columns]"
      ]
     },
     "execution_count": 92,
     "metadata": {},
     "output_type": "execute_result"
    }
   ],
   "source": [
    "frq_df"
   ]
  },
  {
   "cell_type": "code",
   "execution_count": 93,
   "metadata": {},
   "outputs": [
    {
     "data": {
      "text/html": [
       "<div>\n",
       "<style scoped>\n",
       "    .dataframe tbody tr th:only-of-type {\n",
       "        vertical-align: middle;\n",
       "    }\n",
       "\n",
       "    .dataframe tbody tr th {\n",
       "        vertical-align: top;\n",
       "    }\n",
       "\n",
       "    .dataframe thead th {\n",
       "        text-align: right;\n",
       "    }\n",
       "</style>\n",
       "<table border=\"1\" class=\"dataframe\">\n",
       "  <thead>\n",
       "    <tr style=\"text-align: right;\">\n",
       "      <th></th>\n",
       "      <th>CHROM</th>\n",
       "      <th>POS</th>\n",
       "      <th>OBS(HOM1/HET/HOM2)</th>\n",
       "      <th>E(HOM1/HET/HOM2)</th>\n",
       "      <th>ChiSq_HWE</th>\n",
       "      <th>P_HWE</th>\n",
       "      <th>P_HET_DEFICIT</th>\n",
       "      <th>P_HET_EXCESS</th>\n",
       "    </tr>\n",
       "  </thead>\n",
       "  <tbody>\n",
       "    <tr>\n",
       "      <th>CM042338.1-22493</th>\n",
       "      <td>CM042338.1</td>\n",
       "      <td>22493</td>\n",
       "      <td>0/168/0</td>\n",
       "      <td>42.00/84.00/42.00</td>\n",
       "      <td>168.000000</td>\n",
       "      <td>6.522585e-50</td>\n",
       "      <td>1.000000</td>\n",
       "      <td>6.144880e-50</td>\n",
       "    </tr>\n",
       "    <tr>\n",
       "      <th>CM042338.1-59140</th>\n",
       "      <td>CM042338.1</td>\n",
       "      <td>59140</td>\n",
       "      <td>164/4/0</td>\n",
       "      <td>164.02/3.95/0.02</td>\n",
       "      <td>0.024387</td>\n",
       "      <td>1.000000e+00</td>\n",
       "      <td>1.000000</td>\n",
       "      <td>9.821164e-01</td>\n",
       "    </tr>\n",
       "    <tr>\n",
       "      <th>CM042338.1-97078</th>\n",
       "      <td>CM042338.1</td>\n",
       "      <td>97078</td>\n",
       "      <td>0/168/0</td>\n",
       "      <td>42.00/84.00/42.00</td>\n",
       "      <td>168.000000</td>\n",
       "      <td>6.522585e-50</td>\n",
       "      <td>1.000000</td>\n",
       "      <td>6.144880e-50</td>\n",
       "    </tr>\n",
       "    <tr>\n",
       "      <th>CM042338.1-106063</th>\n",
       "      <td>CM042338.1</td>\n",
       "      <td>106063</td>\n",
       "      <td>0/168/0</td>\n",
       "      <td>42.00/84.00/42.00</td>\n",
       "      <td>168.000000</td>\n",
       "      <td>6.522585e-50</td>\n",
       "      <td>1.000000</td>\n",
       "      <td>6.144880e-50</td>\n",
       "    </tr>\n",
       "    <tr>\n",
       "      <th>CM042338.1-126072</th>\n",
       "      <td>CM042338.1</td>\n",
       "      <td>126072</td>\n",
       "      <td>158/9/1</td>\n",
       "      <td>157.18/10.64/0.18</td>\n",
       "      <td>3.990804</td>\n",
       "      <td>1.554908e-01</td>\n",
       "      <td>0.155491</td>\n",
       "      <td>9.914965e-01</td>\n",
       "    </tr>\n",
       "    <tr>\n",
       "      <th>...</th>\n",
       "      <td>...</td>\n",
       "      <td>...</td>\n",
       "      <td>...</td>\n",
       "      <td>...</td>\n",
       "      <td>...</td>\n",
       "      <td>...</td>\n",
       "      <td>...</td>\n",
       "      <td>...</td>\n",
       "    </tr>\n",
       "    <tr>\n",
       "      <th>CM042346.1-338263844</th>\n",
       "      <td>CM042346.1</td>\n",
       "      <td>338263844</td>\n",
       "      <td>0/168/0</td>\n",
       "      <td>42.00/84.00/42.00</td>\n",
       "      <td>168.000000</td>\n",
       "      <td>6.522585e-50</td>\n",
       "      <td>1.000000</td>\n",
       "      <td>6.144880e-50</td>\n",
       "    </tr>\n",
       "    <tr>\n",
       "      <th>CM042346.1-338268601</th>\n",
       "      <td>CM042346.1</td>\n",
       "      <td>338268601</td>\n",
       "      <td>0/167/1</td>\n",
       "      <td>41.50/84.00/42.50</td>\n",
       "      <td>164.047200</td>\n",
       "      <td>5.830745e-48</td>\n",
       "      <td>1.000000</td>\n",
       "      <td>5.192424e-48</td>\n",
       "    </tr>\n",
       "    <tr>\n",
       "      <th>CM042346.1-338274068</th>\n",
       "      <td>CM042346.1</td>\n",
       "      <td>338274068</td>\n",
       "      <td>0/168/0</td>\n",
       "      <td>42.00/84.00/42.00</td>\n",
       "      <td>168.000000</td>\n",
       "      <td>6.522585e-50</td>\n",
       "      <td>1.000000</td>\n",
       "      <td>6.144880e-50</td>\n",
       "    </tr>\n",
       "    <tr>\n",
       "      <th>CM042346.1-338287589</th>\n",
       "      <td>CM042346.1</td>\n",
       "      <td>338287589</td>\n",
       "      <td>0/168/0</td>\n",
       "      <td>42.00/84.00/42.00</td>\n",
       "      <td>168.000000</td>\n",
       "      <td>6.522585e-50</td>\n",
       "      <td>1.000000</td>\n",
       "      <td>6.144880e-50</td>\n",
       "    </tr>\n",
       "    <tr>\n",
       "      <th>CM042346.1-338287789</th>\n",
       "      <td>CM042346.1</td>\n",
       "      <td>338287789</td>\n",
       "      <td>0/168/0</td>\n",
       "      <td>42.00/84.00/42.00</td>\n",
       "      <td>168.000000</td>\n",
       "      <td>6.522585e-50</td>\n",
       "      <td>1.000000</td>\n",
       "      <td>6.144880e-50</td>\n",
       "    </tr>\n",
       "  </tbody>\n",
       "</table>\n",
       "<p>458910 rows × 8 columns</p>\n",
       "</div>"
      ],
      "text/plain": [
       "                           CHROM        POS OBS(HOM1/HET/HOM2)  \\\n",
       "CM042338.1-22493      CM042338.1      22493            0/168/0   \n",
       "CM042338.1-59140      CM042338.1      59140            164/4/0   \n",
       "CM042338.1-97078      CM042338.1      97078            0/168/0   \n",
       "CM042338.1-106063     CM042338.1     106063            0/168/0   \n",
       "CM042338.1-126072     CM042338.1     126072            158/9/1   \n",
       "...                          ...        ...                ...   \n",
       "CM042346.1-338263844  CM042346.1  338263844            0/168/0   \n",
       "CM042346.1-338268601  CM042346.1  338268601            0/167/1   \n",
       "CM042346.1-338274068  CM042346.1  338274068            0/168/0   \n",
       "CM042346.1-338287589  CM042346.1  338287589            0/168/0   \n",
       "CM042346.1-338287789  CM042346.1  338287789            0/168/0   \n",
       "\n",
       "                       E(HOM1/HET/HOM2)   ChiSq_HWE         P_HWE  \\\n",
       "CM042338.1-22493      42.00/84.00/42.00  168.000000  6.522585e-50   \n",
       "CM042338.1-59140       164.02/3.95/0.02    0.024387  1.000000e+00   \n",
       "CM042338.1-97078      42.00/84.00/42.00  168.000000  6.522585e-50   \n",
       "CM042338.1-106063     42.00/84.00/42.00  168.000000  6.522585e-50   \n",
       "CM042338.1-126072     157.18/10.64/0.18    3.990804  1.554908e-01   \n",
       "...                                 ...         ...           ...   \n",
       "CM042346.1-338263844  42.00/84.00/42.00  168.000000  6.522585e-50   \n",
       "CM042346.1-338268601  41.50/84.00/42.50  164.047200  5.830745e-48   \n",
       "CM042346.1-338274068  42.00/84.00/42.00  168.000000  6.522585e-50   \n",
       "CM042346.1-338287589  42.00/84.00/42.00  168.000000  6.522585e-50   \n",
       "CM042346.1-338287789  42.00/84.00/42.00  168.000000  6.522585e-50   \n",
       "\n",
       "                      P_HET_DEFICIT  P_HET_EXCESS  \n",
       "CM042338.1-22493           1.000000  6.144880e-50  \n",
       "CM042338.1-59140           1.000000  9.821164e-01  \n",
       "CM042338.1-97078           1.000000  6.144880e-50  \n",
       "CM042338.1-106063          1.000000  6.144880e-50  \n",
       "CM042338.1-126072          0.155491  9.914965e-01  \n",
       "...                             ...           ...  \n",
       "CM042346.1-338263844       1.000000  6.144880e-50  \n",
       "CM042346.1-338268601       1.000000  5.192424e-48  \n",
       "CM042346.1-338274068       1.000000  6.144880e-50  \n",
       "CM042346.1-338287589       1.000000  6.144880e-50  \n",
       "CM042346.1-338287789       1.000000  6.144880e-50  \n",
       "\n",
       "[458910 rows x 8 columns]"
      ]
     },
     "execution_count": 93,
     "metadata": {},
     "output_type": "execute_result"
    }
   ],
   "source": [
    "hardy"
   ]
  },
  {
   "cell_type": "code",
   "execution_count": 94,
   "metadata": {},
   "outputs": [],
   "source": [
    "loci_out = os.path.join(analysis_dir,'loci_out.csv')\n",
    "frq_out = os.path.join(analysis_dir,'frq_out.csv')\n",
    "hardy_out = os.path.join(analysis_dir,'hardy_out.csv')\n",
    "\n",
    "loci_df.to_csv(path_or_buf=loci_out)\n",
    "frq_df.to_csv(path_or_buf=frq_out)\n",
    "hardy.to_csv(path_or_buf=hardy_out)\n"
   ]
  },
  {
   "cell_type": "code",
   "execution_count": 95,
   "metadata": {},
   "outputs": [
    {
     "data": {
      "text/plain": [
       "count    458910.000000\n",
       "mean         32.259761\n",
       "std         147.568200\n",
       "min           0.000000\n",
       "25%           0.000000\n",
       "50%           0.000000\n",
       "75%           2.000000\n",
       "max       39722.000000\n",
       "Name: SUM_DEPTH, dtype: float64"
      ]
     },
     "execution_count": 95,
     "metadata": {},
     "output_type": "execute_result"
    }
   ],
   "source": [
    "loci_df.SUM_DEPTH.describe()"
   ]
  },
  {
   "cell_type": "code",
   "execution_count": 96,
   "metadata": {},
   "outputs": [
    {
     "data": {
      "text/plain": [
       "count    458910.000000\n",
       "mean          0.192022\n",
       "std           0.878382\n",
       "min           0.000000\n",
       "25%           0.000000\n",
       "50%           0.000000\n",
       "75%           0.011905\n",
       "max         236.440000\n",
       "Name: MEAN_DEPTH, dtype: float64"
      ]
     },
     "execution_count": 96,
     "metadata": {},
     "output_type": "execute_result"
    }
   ],
   "source": [
    "loci_df.MEAN_DEPTH.describe()"
   ]
  },
  {
   "cell_type": "code",
   "execution_count": 97,
   "metadata": {},
   "outputs": [
    {
     "data": {
      "text/plain": [
       "count    458910.000000\n",
       "mean        246.315496\n",
       "std         410.036646\n",
       "min           3.114000\n",
       "25%           7.827560\n",
       "50%          16.130650\n",
       "75%         110.108000\n",
       "max         999.000000\n",
       "Name: QUAL, dtype: float64"
      ]
     },
     "execution_count": 97,
     "metadata": {},
     "output_type": "execute_result"
    }
   ],
   "source": [
    "loci_df.QUAL.describe()"
   ]
  },
  {
   "cell_type": "code",
   "execution_count": 98,
   "metadata": {
    "scrolled": true
   },
   "outputs": [
    {
     "data": {
      "image/png": "[encoded data removed]",
      "text/plain": [
       "<Figure size 432x288 with 1 Axes>"
      ]
     },
     "metadata": {
      "image/png": {
       "height": 248,
       "width": 408
      },
      "needs_background": "light"
     },
     "output_type": "display_data"
    }
   ],
   "source": [
    "loci_df.QUAL.plot(kind=\"hist\");"
   ]
  },
  {
   "cell_type": "code",
   "execution_count": 99,
   "metadata": {},
   "outputs": [
    {
     "data": {
      "image/png": "[encoded data removed]",
      "text/plain": [
       "<Figure size 432x288 with 1 Axes>"
      ]
     },
     "metadata": {
      "image/png": {
       "height": 248,
       "width": 408
      },
      "needs_background": "light"
     },
     "output_type": "display_data"
    }
   ],
   "source": [
    "loci_df.MEAN_DEPTH.plot(kind=\"hist\");"
   ]
  },
  {
   "cell_type": "code",
   "execution_count": 100,
   "metadata": {},
   "outputs": [
    {
     "data": {
      "text/plain": [
       "0"
      ]
     },
     "execution_count": 100,
     "metadata": {},
     "output_type": "execute_result"
    }
   ],
   "source": [
    "len(loci_df[loci_df.Fis == -9])"
   ]
  },
  {
   "cell_type": "code",
   "execution_count": 101,
   "metadata": {},
   "outputs": [
    {
     "data": {
      "text/plain": [
       "(458899, 25102)"
      ]
     },
     "execution_count": 101,
     "metadata": {},
     "output_type": "execute_result"
    }
   ],
   "source": [
    "len(loci_df[loci_df.SUM_DEPTH <5000]),len(loci_df[loci_df.SUM_DEPTH >=200])"
   ]
  },
  {
   "cell_type": "code",
   "execution_count": 102,
   "metadata": {},
   "outputs": [
    {
     "data": {
      "text/plain": [
       "(12, 30446)"
      ]
     },
     "execution_count": 102,
     "metadata": {},
     "output_type": "execute_result"
    }
   ],
   "source": [
    "len(loci_df[loci_df.MEAN_DEPTH > 25 ]),len(loci_df[loci_df.MEAN_DEPTH >= 1])"
   ]
  },
  {
   "cell_type": "code",
   "execution_count": 103,
   "metadata": {},
   "outputs": [
    {
     "data": {
      "text/plain": [
       "14907"
      ]
     },
     "execution_count": 103,
     "metadata": {},
     "output_type": "execute_result"
    }
   ],
   "source": [
    "len(loci_df[loci_df.QUAL >= 20]) - len(loci_df[loci_df.QUAL >= 30])"
   ]
  },
  {
   "cell_type": "code",
   "execution_count": 104,
   "metadata": {},
   "outputs": [
    {
     "data": {
      "text/plain": [
       "(227564, 157444, 118028)"
      ]
     },
     "execution_count": 104,
     "metadata": {},
     "output_type": "execute_result"
    }
   ],
   "source": [
    "len(loci_df[loci_df.QUAL >  20]), len(loci_df[loci_df.QUAL > 50]), len(loci_df[loci_df.QUAL > 100])"
   ]
  },
  {
   "cell_type": "code",
   "execution_count": 105,
   "metadata": {},
   "outputs": [
    {
     "data": {
      "text/plain": [
       "(380758, 477)"
      ]
     },
     "execution_count": 105,
     "metadata": {},
     "output_type": "execute_result"
    }
   ],
   "source": [
    " len(loci_df[loci_df.Fis <= -0.5]), len(loci_df[loci_df.MAF < 0.01])"
   ]
  },
  {
   "cell_type": "code",
   "execution_count": 106,
   "metadata": {},
   "outputs": [],
   "source": [
    "def filter_snps(df, imputed=False):\n",
    "    if imputed:\n",
    "        return df[(df.MAF >= 0.01) &  \n",
    "                  (df.Fis > -0.5)]\n",
    "    else:\n",
    "        return df[(df.MEAN_DEPTH >= 1) & \n",
    "                  (df.MEAN_DEPTH < 30) & \n",
    "                  (df.QUAL >= 100) & \n",
    "                  (df.MAF >= 0.01) &\n",
    "                  (df.Fis >= -0.5)]"
   ]
  },
  {
   "cell_type": "code",
   "execution_count": 107,
   "metadata": {},
   "outputs": [
    {
     "data": {
      "text/plain": [
       "(27718, 25)"
      ]
     },
     "execution_count": 107,
     "metadata": {},
     "output_type": "execute_result"
    }
   ],
   "source": [
    "loci_stage1 = filter_snps(loci_df)\n",
    "loci_stage1.shape"
   ]
  },
  {
   "cell_type": "code",
   "execution_count": 108,
   "metadata": {},
   "outputs": [],
   "source": [
    "with open(os.path.join(analysis_dir, \"stage1_positions.txt\"), \"w\") as o:\n",
    "    for elem in loci_stage1.index:\n",
    "        o.write(\"%s\\n\" % \"\\t\".join(elem.split(\"-\")))"
   ]
  },
  {
   "cell_type": "code",
   "execution_count": 109,
   "metadata": {
    "run_control": {
     "marked": false
    }
   },
   "outputs": [
    {
     "name": "stdout",
     "output_type": "stream",
     "text": [
      "\n",
      "VCFtools - 0.1.16\n",
      "(C) Adam Auton and Anthony Marcketta 2009\n",
      "\n",
      "Parameters as interpreted:\n",
      "\t--gzvcf /data/gpfs/assoc/denovo/tfaske/sagebrush/SNPcall/AV2/filtering/snps_indv_removed.recode.vcf.gz\n",
      "\t--recode-INFO-all\n",
      "\t--out /data/gpfs/assoc/denovo/tfaske/sagebrush/SNPcall/AV2/filtering/good_snps\n",
      "\t--positions /data/gpfs/assoc/denovo/tfaske/sagebrush/SNPcall/AV2/filtering/stage1_positions.txt\n",
      "\t--recode\n",
      "\t--remove-filtered-all\n",
      "\t--remove-indels\n",
      "\n",
      "Using zlib version: 1.2.11\n",
      "Warning: Expected at least 2 parts in INFO entry: ID=PV4,Number=4,Type=Float,Description=\"P-values for strand bias, baseQ bias, mapQ bias and tail distance bias\">\n",
      "Warning: Expected at least 2 parts in INFO entry: ID=PV4,Number=4,Type=Float,Description=\"P-values for strand bias, baseQ bias, mapQ bias and tail distance bias\">\n",
      "Warning: Expected at least 2 parts in INFO entry: ID=DP4,Number=4,Type=Integer,Description=\"Number of high-quality ref-forward , ref-reverse, alt-forward and alt-reverse bases\">\n",
      "Warning: Expected at least 2 parts in INFO entry: ID=DP4,Number=4,Type=Integer,Description=\"Number of high-quality ref-forward , ref-reverse, alt-forward and alt-reverse bases\">\n",
      "After filtering, kept 168 out of 168 Individuals\n",
      "Outputting VCF file...\n",
      "After filtering, kept 27718 out of a possible 458910 Sites\n",
      "Run Time = 13.00 seconds\n"
     ]
    }
   ],
   "source": [
    "!$vcftools --gzvcf $vcf_bad_remove_gz \\\n",
    "--remove-indels  \\\n",
    "--remove-filtered-all \\\n",
    "--recode \\\n",
    "--recode-INFO-all \\\n",
    "--positions {os.path.join(analysis_dir, \"stage1_positions.txt\")} \\\n",
    "--out {os.path.join(analysis_dir, \"good_snps\")}"
   ]
  },
  {
   "cell_type": "code",
   "execution_count": 110,
   "metadata": {},
   "outputs": [],
   "source": [
    "snps = os.path.join(analysis_dir, \"good_snps.recode.vcf\")\n",
    "snps_gz = snps + \".gz\"\n",
    "!$bgzip -c {snps} > {snps_gz}\n",
    "!$tabix {snps_gz}"
   ]
  },
  {
   "cell_type": "markdown",
   "metadata": {},
   "source": [
    "# Make 012"
   ]
  },
  {
   "cell_type": "code",
   "execution_count": 111,
   "metadata": {},
   "outputs": [
    {
     "name": "stdout",
     "output_type": "stream",
     "text": [
      "\n",
      "VCFtools - 0.1.16\n",
      "(C) Adam Auton and Anthony Marcketta 2009\n",
      "\n",
      "Parameters as interpreted:\n",
      "\t--gzvcf /data/gpfs/assoc/denovo/tfaske/sagebrush/SNPcall/AV2/filtering/good_snps.recode.vcf\n",
      "\t--012\n",
      "\t--out /data/gpfs/assoc/denovo/tfaske/sagebrush/SNPcall/AV2/filtering/good_snps.recode.vcf\n",
      "\n",
      "Using zlib version: 1.2.11\n",
      "Warning: Expected at least 2 parts in INFO entry: ID=PV4,Number=4,Type=Float,Description=\"P-values for strand bias, baseQ bias, mapQ bias and tail distance bias\">\n",
      "Warning: Expected at least 2 parts in INFO entry: ID=PV4,Number=4,Type=Float,Description=\"P-values for strand bias, baseQ bias, mapQ bias and tail distance bias\">\n",
      "Warning: Expected at least 2 parts in INFO entry: ID=DP4,Number=4,Type=Integer,Description=\"Number of high-quality ref-forward , ref-reverse, alt-forward and alt-reverse bases\">\n",
      "Warning: Expected at least 2 parts in INFO entry: ID=DP4,Number=4,Type=Integer,Description=\"Number of high-quality ref-forward , ref-reverse, alt-forward and alt-reverse bases\">\n",
      "After filtering, kept 168 out of 168 Individuals\n",
      "Writing 012 matrix files ... Done.\n",
      "After filtering, kept 27718 out of a possible 27718 Sites\n",
      "Run Time = 2.00 seconds\n"
     ]
    }
   ],
   "source": [
    "f = os.path.join(analysis_dir, \"good_snps.recode.vcf\")\n",
    "!$vcftools --gzvcf {f} \\\n",
    "--out {f} \\\n",
    "--012"
   ]
  },
  {
   "cell_type": "markdown",
   "metadata": {},
   "source": [
    "# Get coverage per individual"
   ]
  },
  {
   "cell_type": "code",
   "execution_count": 112,
   "metadata": {
    "scrolled": true
   },
   "outputs": [
    {
     "name": "stdout",
     "output_type": "stream",
     "text": [
      "\n",
      "VCFtools - 0.1.16\n",
      "(C) Adam Auton and Anthony Marcketta 2009\n",
      "\n",
      "Parameters as interpreted:\n",
      "\t--gzvcf /data/gpfs/assoc/denovo/tfaske/sagebrush/SNPcall/AV2/filtering/good_snps.recode.vcf\n",
      "\t--depth\n",
      "\t--out /data/gpfs/assoc/denovo/tfaske/sagebrush/SNPcall/AV2/filtering/good_snps.recode.vcf\n",
      "\n",
      "Using zlib version: 1.2.11\n",
      "Warning: Expected at least 2 parts in INFO entry: ID=PV4,Number=4,Type=Float,Description=\"P-values for strand bias, baseQ bias, mapQ bias and tail distance bias\">\n",
      "Warning: Expected at least 2 parts in INFO entry: ID=PV4,Number=4,Type=Float,Description=\"P-values for strand bias, baseQ bias, mapQ bias and tail distance bias\">\n",
      "Warning: Expected at least 2 parts in INFO entry: ID=DP4,Number=4,Type=Integer,Description=\"Number of high-quality ref-forward , ref-reverse, alt-forward and alt-reverse bases\">\n",
      "Warning: Expected at least 2 parts in INFO entry: ID=DP4,Number=4,Type=Integer,Description=\"Number of high-quality ref-forward , ref-reverse, alt-forward and alt-reverse bases\">\n",
      "After filtering, kept 168 out of 168 Individuals\n",
      "Outputting Mean Depth by Individual\n",
      "After filtering, kept 27718 out of a possible 27718 Sites\n",
      "Run Time = 1.00 seconds\n"
     ]
    }
   ],
   "source": [
    "f = os.path.join(analysis_dir, \"good_snps.recode.vcf\")\n",
    "!$vcftools --gzvcf {f} \\\n",
    "--out {f} \\\n",
    "--depth"
   ]
  },
  {
   "cell_type": "code",
   "execution_count": 113,
   "metadata": {},
   "outputs": [
    {
     "data": {
      "text/html": [
       "<div>\n",
       "<style scoped>\n",
       "    .dataframe tbody tr th:only-of-type {\n",
       "        vertical-align: middle;\n",
       "    }\n",
       "\n",
       "    .dataframe tbody tr th {\n",
       "        vertical-align: top;\n",
       "    }\n",
       "\n",
       "    .dataframe thead th {\n",
       "        text-align: right;\n",
       "    }\n",
       "</style>\n",
       "<table border=\"1\" class=\"dataframe\">\n",
       "  <thead>\n",
       "    <tr style=\"text-align: right;\">\n",
       "      <th></th>\n",
       "      <th>INDV</th>\n",
       "      <th>N_SITES</th>\n",
       "      <th>MEAN_DEPTH</th>\n",
       "    </tr>\n",
       "  </thead>\n",
       "  <tbody>\n",
       "    <tr>\n",
       "      <th>0</th>\n",
       "      <td>AV2_AN_1</td>\n",
       "      <td>27718</td>\n",
       "      <td>2.36828</td>\n",
       "    </tr>\n",
       "    <tr>\n",
       "      <th>1</th>\n",
       "      <td>AV2_AN_2</td>\n",
       "      <td>27718</td>\n",
       "      <td>1.93715</td>\n",
       "    </tr>\n",
       "    <tr>\n",
       "      <th>2</th>\n",
       "      <td>AV2_AN_3</td>\n",
       "      <td>27718</td>\n",
       "      <td>1.65726</td>\n",
       "    </tr>\n",
       "    <tr>\n",
       "      <th>3</th>\n",
       "      <td>AV2_AN_4</td>\n",
       "      <td>27718</td>\n",
       "      <td>1.80017</td>\n",
       "    </tr>\n",
       "    <tr>\n",
       "      <th>4</th>\n",
       "      <td>AV2_AN_5</td>\n",
       "      <td>27718</td>\n",
       "      <td>1.51447</td>\n",
       "    </tr>\n",
       "  </tbody>\n",
       "</table>\n",
       "</div>"
      ],
      "text/plain": [
       "       INDV  N_SITES  MEAN_DEPTH\n",
       "0  AV2_AN_1    27718     2.36828\n",
       "1  AV2_AN_2    27718     1.93715\n",
       "2  AV2_AN_3    27718     1.65726\n",
       "3  AV2_AN_4    27718     1.80017\n",
       "4  AV2_AN_5    27718     1.51447"
      ]
     },
     "execution_count": 113,
     "metadata": {},
     "output_type": "execute_result"
    }
   ],
   "source": [
    "depth_file = os.path.join(analysis_dir, \"good_snps.recode.vcf.idepth\")\n",
    "depth_df = pd.read_csv(depth_file, sep=\"\\t\")\n",
    "depth_df.head()"
   ]
  },
  {
   "cell_type": "code",
   "execution_count": 114,
   "metadata": {},
   "outputs": [
    {
     "data": {
      "text/plain": [
       "count    168.000000\n",
       "mean       2.073714\n",
       "std        0.557698\n",
       "min        1.061870\n",
       "25%        1.633272\n",
       "50%        2.033590\n",
       "75%        2.301735\n",
       "max        3.819790\n",
       "Name: MEAN_DEPTH, dtype: float64"
      ]
     },
     "execution_count": 114,
     "metadata": {},
     "output_type": "execute_result"
    }
   ],
   "source": [
    "depth_df.MEAN_DEPTH.describe()"
   ]
  },
  {
   "cell_type": "markdown",
   "metadata": {},
   "source": [
    "# Remove unnecessary files"
   ]
  },
  {
   "cell_type": "code",
   "execution_count": 115,
   "metadata": {},
   "outputs": [],
   "source": [
    "!rm snps*"
   ]
  },
  {
   "cell_type": "code",
   "execution_count": 116,
   "metadata": {},
   "outputs": [],
   "source": [
    "!rm *vcf"
   ]
  },
  {
   "cell_type": "code",
   "execution_count": null,
   "metadata": {},
   "outputs": [],
   "source": []
  },
  {
   "cell_type": "code",
   "execution_count": null,
   "metadata": {},
   "outputs": [],
   "source": []
  }
 ],
 "metadata": {
  "kernelspec": {
   "display_name": "Python 3",
   "language": "python",
   "name": "python3"
  },
  "language_info": {
   "codemirror_mode": {
    "name": "ipython",
    "version": 3
   },
   "file_extension": ".py",
   "mimetype": "text/x-python",
   "name": "python",
   "nbconvert_exporter": "python",
   "pygments_lexer": "ipython3",
   "version": "3.6.7"
  }
 },
 "nbformat": 4,
 "nbformat_minor": 1
}
