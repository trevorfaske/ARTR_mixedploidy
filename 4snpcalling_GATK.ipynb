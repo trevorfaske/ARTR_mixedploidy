{
 "cells": [
  {
   "cell_type": "markdown",
   "metadata": {},
   "source": [
    "# Installing GATK + notes\n",
    "    This page will be a reference for installation, different tutorials and how to call polyploids"
   ]
  },
  {
   "cell_type": "markdown",
   "metadata": {},
   "source": [
    "  #### Get GATK jar and .yml files here:\n",
    "  https://github.com/broadinstitute/gatk/releases\n",
    "  \n",
    "  wget .zip file to a src directory, unzip, run conda install below in that direcoty\n",
    "  \n",
    "  #### directions for conda install here:\n",
    "  https://gatk.broadinstitute.org/hc/en-us/articles/360035889851--How-to-Install-and-use-Conda-for-GATK4\n",
    "  \n",
    "  #### vivaswat notes\n",
    "  https://microcollaborative.atlassian.net/wiki/spaces/BL/pages/73957377/Bioinformatics+for+polyploids\n",
    "  \n",
    "  \n",
    "  \n",
    "  #### IDEA: \n",
    "  \n",
    "  - call snps with GATK haplotype caller. \n",
    "  - run one per sample with correct ploidy into gvcf\n",
    "  - then use GenotypeGVCF to call snps across all gvcfs, no need to tell ploidy.  \n",
    "  "
   ]
  },
  {
   "cell_type": "code",
   "execution_count": 3,
   "metadata": {},
   "outputs": [],
   "source": [
    "import sys\n",
    "\n",
    "#sys.path.append('/home/faske/g/anaconda3/envs/py34/lib/python3.4/site-packages')\n",
    "sys.path.append('/data/gpfs/assoc/parchmanlab/tfaske/anaconda3/envs/py36/lib/python3.6/site-packages')\n",
    "sys.path.append(\"/data/gpfs/assoc/parchmanlab/tfaske/ipynb/include_utils\")\n",
    "\n",
    "import ipyparallel as ipp\n",
    "import os, time\n",
    "import include_utils as u\n",
    "import pandas as pd\n",
    "import numpy as np\n",
    "import scipy as sp\n",
    "import numbers\n",
    "import matplotlib.pyplot as plt\n",
    "import matplotlib.patches as mpatches\n",
    "import matplotlib.cm as cm\n",
    "import matplotlib.colors as mcolors\n",
    "#import vcf\n",
    "from sklearn import preprocessing\n",
    "from subprocess import Popen, PIPE, call, check_output\n",
    "import seaborn as sns\n",
    "from IPython.display import FileLink\n",
    "import urllib.request as urllib2\n",
    "import dill\n",
    "import traceback\n",
    "from pandas import Series, DataFrame\n",
    "import gzip\n",
    "import warnings\n",
    "warnings.filterwarnings('ignore',category=pd.io.pytables.PerformanceWarning)\n",
    "%config InlineBackend.figure_format = 'retina'\n",
    "from Bio import SeqIO\n",
    "#import pysam\n",
    "from collections import OrderedDict, namedtuple, Counter\n",
    "import operator\n",
    "import multiprocessing as mp\n",
    "import shutil\n",
    "import tempfile\n",
    "#from ipyparallel import Client\n",
    "import scandir\n",
    "import glob\n",
    "from Bio.SeqIO.QualityIO import FastqGeneralIterator\n",
    "import pickle\n",
    "import re\n",
    "from itertools import chain\n",
    "#import Levenshtein as lv"
   ]
  },
  {
   "cell_type": "code",
   "execution_count": 139,
   "metadata": {},
   "outputs": [],
   "source": [
    "root = \"/data/gpfs/assoc/denovo/tfaske/sagebrush/\""
   ]
  },
  {
   "cell_type": "code",
   "execution_count": 140,
   "metadata": {},
   "outputs": [],
   "source": [
    "snp_dir = os.path.join(root,'SNPcall')"
   ]
  },
  {
   "cell_type": "code",
   "execution_count": 141,
   "metadata": {
    "ExecuteTime": {}
   },
   "outputs": [],
   "source": [
    "bwa_dir = os.path.join(snp_dir,'bwa')"
   ]
  },
  {
   "cell_type": "code",
   "execution_count": 14,
   "metadata": {},
   "outputs": [
    {
     "name": "stdout",
     "output_type": "stream",
     "text": [
      "/data/gpfs/assoc/denovo/tfaske/sagebrush/SNPcall/bwa\n"
     ]
    }
   ],
   "source": [
    "cd $bwa_dir"
   ]
  },
  {
   "cell_type": "code",
   "execution_count": 15,
   "metadata": {
    "ExecuteTime": {}
   },
   "outputs": [],
   "source": [
    "bam_files = []\n",
    "files = !find . -type f -name '*sorted.bam'\n",
    "files = [os.path.abspath(x) for x in files if 'bam' in x]\n",
    "for x in files:\n",
    "    bam_files.append(x)\n",
    "bam_files = sorted(bam_files)"
   ]
  },
  {
   "cell_type": "code",
   "execution_count": 16,
   "metadata": {
    "ExecuteTime": {}
   },
   "outputs": [
    {
     "data": {
      "text/plain": [
       "(700,\n",
       " '/data/gpfs/assoc/denovo/tfaske/sagebrush/SNPcall/bwa/AT2_BB_10_sorted.bam')"
      ]
     },
     "execution_count": 16,
     "metadata": {},
     "output_type": "execute_result"
    }
   ],
   "source": [
    "len(bam_files), bam_files[0]"
   ]
  },
  {
   "cell_type": "code",
   "execution_count": 83,
   "metadata": {
    "ExecuteTime": {}
   },
   "outputs": [],
   "source": [
    "samtools = \"samtools\"\n",
    "bcftools = \"bcftools\"\n",
    "java = \"java\"\n",
    "perl = \"perl\"\n",
    "#perl = \"/home/cfriedline/gpfs/opt/ActivePerl-5.18/bin/perl\"\n",
    "gatk = '/data/gpfs/assoc/parchmanlab/tfaske/src/gatk4/gatk'"
   ]
  },
  {
   "cell_type": "code",
   "execution_count": 45,
   "metadata": {
    "ExecuteTime": {}
   },
   "outputs": [],
   "source": [
    "assembly = \"/data/gpfs/assoc/denovo/tfaske/sagebrush/assembly/GCA_021014915.1/GCA_021014915.1_ASM2101491v1.fna\"\n",
    "\n",
    "\n",
    "#need to index with picard and samtools\n",
    "#picard CreateSequenceDictionary R=GCA_021014915.1_ASM2101491v1.fna O=GCA_021014915.1_ASM2101491v1.dict\n"
   ]
  },
  {
   "cell_type": "code",
   "execution_count": 20,
   "metadata": {
    "ExecuteTime": {}
   },
   "outputs": [],
   "source": [
    "!$samtools faidx {assembly}"
   ]
  },
  {
   "cell_type": "markdown",
   "metadata": {},
   "source": [
    "### SKIP: too big. Calculates coverage from bam_files\n",
    "also outputs a file called \"bam_coverage.csv\" in the bam_coverage folder  \n",
    "\n",
    "this will make a file for each sorted.bam and then consolidate in order to run efficiently\n",
    "\n",
    "first run to get size and remove empties: ls --sort=size -lh *sorted_bam "
   ]
  },
  {
   "cell_type": "markdown",
   "metadata": {},
   "source": [
    "## SNP CALL with GATK\n",
    "\n",
    "see IDEAS for workflow. Run with a test batch of 12 with mixed ploidy to see"
   ]
  },
  {
   "cell_type": "code",
   "execution_count": 142,
   "metadata": {},
   "outputs": [],
   "source": [
    "testbwa_dir = os.path.join(snp_dir,'testbwa')"
   ]
  },
  {
   "cell_type": "code",
   "execution_count": 143,
   "metadata": {},
   "outputs": [
    {
     "name": "stdout",
     "output_type": "stream",
     "text": [
      "/data/gpfs/assoc/denovo/tfaske/sagebrush/SNPcall/testbwa\n"
     ]
    }
   ],
   "source": [
    "cd $testbwa_dir"
   ]
  },
  {
   "cell_type": "code",
   "execution_count": 144,
   "metadata": {},
   "outputs": [],
   "source": [
    "bam_files = []\n",
    "files = !find . -type f -name '*sorted.bam'\n",
    "files = [os.path.abspath(x) for x in files if 'bam' in x]\n",
    "for x in files:\n",
    "    bam_files.append(x)\n",
    "bam_files = sorted(bam_files)"
   ]
  },
  {
   "cell_type": "code",
   "execution_count": 145,
   "metadata": {},
   "outputs": [
    {
     "data": {
      "text/plain": [
       "(12,\n",
       " '/data/gpfs/assoc/denovo/tfaske/sagebrush/SNPcall/testbwa/AT2_EC_53_sorted.bam')"
      ]
     },
     "execution_count": 145,
     "metadata": {},
     "output_type": "execute_result"
    }
   ],
   "source": [
    "len(bam_files), bam_files[0]"
   ]
  },
  {
   "cell_type": "code",
   "execution_count": 146,
   "metadata": {
    "scrolled": false
   },
   "outputs": [
    {
     "name": "stdout",
     "output_type": "stream",
     "text": [
      "/data/gpfs/assoc/denovo/tfaske/sagebrush/SNPcall\n"
     ]
    }
   ],
   "source": [
    "cd $snp_dir"
   ]
  },
  {
   "cell_type": "code",
   "execution_count": 43,
   "metadata": {},
   "outputs": [],
   "source": [
    "!mkdir testgatk"
   ]
  },
  {
   "cell_type": "code",
   "execution_count": 44,
   "metadata": {},
   "outputs": [],
   "source": [
    "!mkdir testgatk/shdir"
   ]
  },
  {
   "cell_type": "code",
   "execution_count": 188,
   "metadata": {},
   "outputs": [],
   "source": [
    "testgatk_dir = os.path.join(snp_dir,'testgatk')"
   ]
  },
  {
   "cell_type": "code",
   "execution_count": 189,
   "metadata": {},
   "outputs": [],
   "source": [
    " #gatk --java-options \"-Xmx4g\" HaplotypeCaller  \\\n",
    "   #-R Homo_sapiens_assembly38.fasta \\\n",
    "   #-I input.bam \\\n",
    "   #-O output.g.vcf.gz \\\n",
    "   #-ploidy X \\ \n",
    "   #-ERC GVCF \\\n",
    "    \n",
    "\n",
    "def run_gatk(args):\n",
    "    import os, multiprocessing, socket\n",
    "    gatk, assembly, bam, out_dir = args\n",
    "    ID = bam.split('/')[9] ### need to change this to match your ID \n",
    "    ID = ID.split('_sorted.bam')[0] ### This too\n",
    "    ploidy = ID.split('_')[0]\n",
    "    ploidy = re.sub(r'\\D','',ploidy)\n",
    "    #print(ID)\n",
    "    #print(ploidy)\n",
    "    #print(out_dir)\n",
    "    cmd = r'%s --java-options \"-Xmx16g\" HaplotypeCaller -R %s -I %s -ploidy %s -O %s/%s.g.vcf.gz -ERC GVCF' % (gatk,assembly,bam,ploidy,out_dir,ID)\n",
    "    return  cmd "
   ]
  },
  {
   "cell_type": "code",
   "execution_count": 190,
   "metadata": {},
   "outputs": [],
   "source": [
    "### creates a list of commands for gatk for each bam\n",
    "res_gatk = []\n",
    "for b in bam_files:\n",
    "    res = run_gatk((gatk, assembly, b, testgatk_dir))\n",
    "    res_gatk.append(res)"
   ]
  },
  {
   "cell_type": "code",
   "execution_count": 191,
   "metadata": {},
   "outputs": [
    {
     "data": {
      "text/plain": [
       "(12,\n",
       " '/data/gpfs/assoc/parchmanlab/tfaske/src/gatk4/gatk --java-options \"-Xmx16g\" HaplotypeCaller -R /data/gpfs/assoc/denovo/tfaske/sagebrush/assembly/GCA_021014915.1/GCA_021014915.1_ASM2101491v1.fna -I /data/gpfs/assoc/denovo/tfaske/sagebrush/SNPcall/testbwa/AT2_EC_53_sorted.bam -ploidy 2 -O /data/gpfs/assoc/denovo/tfaske/sagebrush/SNPcall/testgatk/AT2_EC_53.g.vcf.gz -ERC GVCF')"
      ]
     },
     "execution_count": 191,
     "metadata": {},
     "output_type": "execute_result"
    }
   ],
   "source": [
    "len(res_gatk),res_gatk[0]"
   ]
  },
  {
   "cell_type": "markdown",
   "metadata": {},
   "source": [
    "#### Below selects options for slurm submission and is a function for creating a slurm script per fastq"
   ]
  },
  {
   "cell_type": "code",
   "execution_count": 192,
   "metadata": {},
   "outputs": [
    {
     "name": "stdout",
     "output_type": "stream",
     "text": [
      "/data/gpfs/assoc/denovo/tfaske/sagebrush\n"
     ]
    }
   ],
   "source": [
    "cd $root"
   ]
  },
  {
   "cell_type": "code",
   "execution_count": 193,
   "metadata": {},
   "outputs": [],
   "source": [
    "bam_ID = [b.split('/')[9].split('_sorted.bam')[0] for b in bam_files]"
   ]
  },
  {
   "cell_type": "code",
   "execution_count": 194,
   "metadata": {},
   "outputs": [
    {
     "data": {
      "text/plain": [
       "(12, 'AT2_EC_53')"
      ]
     },
     "execution_count": 194,
     "metadata": {},
     "output_type": "execute_result"
    }
   ],
   "source": [
    "len(bam_ID), bam_ID[0]"
   ]
  },
  {
   "cell_type": "code",
   "execution_count": 195,
   "metadata": {},
   "outputs": [],
   "source": [
    "### select options for slurm submission\n",
    "#account = 'cpu-s5-denovo-0'\n",
    "#partition = 'cpu-core-0'\n",
    "account = 'cpu-s1-bionres-0'\n",
    "partition = 'cpu-s1-bionres-0'\n",
    "jobname = 'gatk'\n",
    "time = '1-00:00:00' #time limit 1 day\n",
    "cpus = 1\n",
    "mem_cpu = 80000\n",
    "email = 'tfaske@nevada.unr.edu'"
   ]
  },
  {
   "cell_type": "code",
   "execution_count": 196,
   "metadata": {},
   "outputs": [],
   "source": [
    "def write_gatk_ind_sh(account,partition,time,jobname,cpus,mem_cpu,email,bam_ID,cmds):\n",
    "    #print(account)\n",
    "    #print(partition)\n",
    "    #print(cpus)\n",
    "    #print(email)\n",
    "    #print(cmds[0])\n",
    "    for i in range(0,len(cmds)):\n",
    "        with open(\"SNPcall/testgatk/shdir/run_gatk_%s.sh\" % (bam_ID[i]), \"w\") as o:\n",
    "            o.write(\"\"\"#!/usr/bin/env bash\n",
    "#SBATCH --account=%s\n",
    "#SBATCH --partition=%s\n",
    "#SBATCH --time=%s\n",
    "#SBATCH --ntasks 1\n",
    "#SBATCH --cpus-per-task %d\n",
    "#SBATCH --mem-per-cpu=%d\n",
    "#SBATCH --job-name %s_gatk\n",
    "#SBATCH --output output_gatk_%s.txt\n",
    "#SBATCH -e error_gatk_%s.txt\n",
    "#SBATCH --mail-type=FAIL\n",
    "#SBATCH --mail-user=%s \\n\n",
    "    \n",
    "%s \\n\\n\n",
    "\"\"\" % (account,partition,time,int(cpus),int(mem_cpu),bam_ID[i],bam_ID[i],bam_ID[i],email,cmds[i]))\n",
    "            "
   ]
  },
  {
   "cell_type": "code",
   "execution_count": 197,
   "metadata": {},
   "outputs": [],
   "source": [
    "write_gatk_ind_sh(account,partition,time,jobname,cpus,mem_cpu,email,bam_ID,res_gatk)"
   ]
  },
  {
   "cell_type": "markdown",
   "metadata": {},
   "source": [
    "#### finds all bwa slurm scripts and writes bash script to sbatch them"
   ]
  },
  {
   "cell_type": "code",
   "execution_count": 198,
   "metadata": {},
   "outputs": [],
   "source": [
    "shbwa_files = []\n",
    "os.chdir('{}/{}'.format(root, 'SNPcall/testgatk/shdir'))\n",
    "files = !find . -name '*.sh'\n",
    "files = [os.path.abspath(x) for x in files]\n",
    "for x in files:\n",
    "        shbwa_files.append(x)\n",
    "shbwa_files = sorted(shbwa_files)"
   ]
  },
  {
   "cell_type": "code",
   "execution_count": 199,
   "metadata": {},
   "outputs": [
    {
     "data": {
      "text/plain": [
       "(12,\n",
       " '/data/gpfs/assoc/denovo/tfaske/sagebrush/SNPcall/testgatk/shdir/run_gatk_AT2_EC_53.sh')"
      ]
     },
     "execution_count": 199,
     "metadata": {},
     "output_type": "execute_result"
    }
   ],
   "source": [
    "len(shbwa_files),shbwa_files[0]"
   ]
  },
  {
   "cell_type": "code",
   "execution_count": 200,
   "metadata": {},
   "outputs": [],
   "source": [
    "def write_bash_gatk_sh(sh_files):\n",
    "    with open(\"SNPcall/testgatk/run_bash_gatk.sh\", \"w\") as o:\n",
    "        o.write(\"\"\"#!/usr/bin/env bash \\n\\n\"\"\")\n",
    "        for f in sh_files:\n",
    "            o.write(\"sbatch %s \\n\" % (f))    "
   ]
  },
  {
   "cell_type": "code",
   "execution_count": 201,
   "metadata": {},
   "outputs": [
    {
     "name": "stdout",
     "output_type": "stream",
     "text": [
      "/data/gpfs/assoc/denovo/tfaske/sagebrush\n"
     ]
    }
   ],
   "source": [
    "cd $root"
   ]
  },
  {
   "cell_type": "code",
   "execution_count": 202,
   "metadata": {},
   "outputs": [],
   "source": [
    "write_bash_gatk_sh(shbwa_files)"
   ]
  },
  {
   "cell_type": "markdown",
   "metadata": {},
   "source": [
    "# Run run_bash_gatk_sh locally\n",
    "    cd /data/gpfs/assoc/denovo/tfaske/sagebrush/SNPcall \n",
    "    source activate py36\n",
    "    bash run_bash_gatk.sh"
   ]
  },
  {
   "cell_type": "code",
   "execution_count": null,
   "metadata": {},
   "outputs": [],
   "source": []
  },
  {
   "cell_type": "code",
   "execution_count": null,
   "metadata": {},
   "outputs": [],
   "source": []
  }
 ],
 "metadata": {
  "kernelspec": {
   "display_name": "Python 3",
   "language": "python",
   "name": "python3"
  },
  "language_info": {
   "codemirror_mode": {
    "name": "ipython",
    "version": 3
   },
   "file_extension": ".py",
   "mimetype": "text/x-python",
   "name": "python",
   "nbconvert_exporter": "python",
   "pygments_lexer": "ipython3",
   "version": "3.6.7"
  }
 },
 "nbformat": 4,
 "nbformat_minor": 4
}
