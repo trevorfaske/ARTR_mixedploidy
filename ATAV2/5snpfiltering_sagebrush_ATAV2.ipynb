{
 "cells": [
  {
   "cell_type": "markdown",
   "metadata": {},
   "source": [
    "### Filtering for both *tridentata* and *vaseyana* diploids\n",
    "\n",
    "Uses ARTR_chr.biallelic.vcf.gz to start\n",
    "\n",
    "Sample names have been extracted to subset using:   \n",
    "- zcat ARTR_chr.vcf.gz | bcftools query -l | sort > sample_index.txt"
   ]
  },
  {
   "cell_type": "code",
   "execution_count": 1,
   "metadata": {},
   "outputs": [],
   "source": [
    "import sys\n",
    "\n",
    "#sys.path.append('/home/faske/g/anaconda3/envs/py34/lib/python3.4/site-packages')\n",
    "sys.path.append('/data/gpfs/assoc/parchmanlab/tfaske/anaconda3/envs/py36/lib/python3.6/site-packages')\n",
    "sys.path.append(\"/data/gpfs/assoc/parchmanlab/tfaske/ipynb/include_utils\")\n",
    "\n",
    "import ipyparallel as ipp\n",
    "import os, time\n",
    "import include_utils as u\n",
    "import pandas as pd\n",
    "import numpy as np\n",
    "import scipy as sp\n",
    "import random\n",
    "import numbers\n",
    "import matplotlib.pyplot as plt\n",
    "import matplotlib.patches as mpatches\n",
    "import matplotlib.cm as cm\n",
    "import matplotlib.colors as mcolors\n",
    "#import vcf\n",
    "from sklearn import preprocessing\n",
    "from subprocess import Popen, PIPE, call, check_output\n",
    "import seaborn as sns\n",
    "from IPython.display import FileLink\n",
    "import urllib.request as urllib2\n",
    "import dill\n",
    "import traceback\n",
    "from pandas import Series, DataFrame\n",
    "import gzip\n",
    "import warnings\n",
    "warnings.filterwarnings('ignore',category=pd.io.pytables.PerformanceWarning)\n",
    "%config InlineBackend.figure_format = 'retina'\n",
    "from Bio import SeqIO\n",
    "#import pysam\n",
    "from collections import OrderedDict, namedtuple, Counter\n",
    "import operator\n",
    "import multiprocessing as mp\n",
    "import shutil\n",
    "import tempfile\n",
    "#from ipyparallel import Client\n",
    "import scandir\n",
    "import glob\n",
    "from Bio.SeqIO.QualityIO import FastqGeneralIterator\n",
    "import pickle\n",
    "import re\n",
    "from itertools import chain\n",
    "#import Levenshtein as lv"
   ]
  },
  {
   "cell_type": "code",
   "execution_count": 2,
   "metadata": {},
   "outputs": [],
   "source": [
    "vcfutils = \"vcfutils.pl\"\n",
    "vcftools = \"vcftools\"\n",
    "bcftools = \"bcftools\"\n",
    "bgzip = \"bgzip\"\n",
    "tabix = \"tabix\"\n",
    "java = \"java\"\n",
    "plink = \"plink --noweb\""
   ]
  },
  {
   "cell_type": "code",
   "execution_count": 3,
   "metadata": {},
   "outputs": [],
   "source": [
    "analysis_dir = \"/data/gpfs/assoc/denovo/tfaske/sagebrush/SNPcall/ATAV2/filtering\""
   ]
  },
  {
   "cell_type": "code",
   "execution_count": 4,
   "metadata": {},
   "outputs": [
    {
     "name": "stdout",
     "output_type": "stream",
     "text": [
      "/data/gpfs/assoc/denovo/tfaske/sagebrush/SNPcall/ATAV2/filtering\n"
     ]
    }
   ],
   "source": [
    "cd $analysis_dir"
   ]
  },
  {
   "cell_type": "code",
   "execution_count": 5,
   "metadata": {
    "scrolled": true
   },
   "outputs": [
    {
     "data": {
      "text/plain": [
       "'/data/gpfs/assoc/denovo/tfaske/sagebrush/SNPcall/ATAV2/filtering/ARTR_chr.biallelic.recode.vcf.gz'"
      ]
     },
     "execution_count": 5,
     "metadata": {},
     "output_type": "execute_result"
    }
   ],
   "source": [
    "vcf_file = os.path.join(analysis_dir, \"ARTR_chr.biallelic.recode.vcf.gz\")\n",
    "assert os.path.exists(vcf_file)\n",
    "vcf_file"
   ]
  },
  {
   "cell_type": "markdown",
   "metadata": {},
   "source": [
    "### keep only AV2 individuals"
   ]
  },
  {
   "cell_type": "code",
   "execution_count": 6,
   "metadata": {},
   "outputs": [
    {
     "data": {
      "text/html": [
       "<div>\n",
       "<style scoped>\n",
       "    .dataframe tbody tr th:only-of-type {\n",
       "        vertical-align: middle;\n",
       "    }\n",
       "\n",
       "    .dataframe tbody tr th {\n",
       "        vertical-align: top;\n",
       "    }\n",
       "\n",
       "    .dataframe thead th {\n",
       "        text-align: right;\n",
       "    }\n",
       "</style>\n",
       "<table border=\"1\" class=\"dataframe\">\n",
       "  <thead>\n",
       "    <tr style=\"text-align: right;\">\n",
       "      <th></th>\n",
       "      <th>sample</th>\n",
       "    </tr>\n",
       "  </thead>\n",
       "  <tbody>\n",
       "    <tr>\n",
       "      <th>0</th>\n",
       "      <td>AT2_BB_1</td>\n",
       "    </tr>\n",
       "    <tr>\n",
       "      <th>1</th>\n",
       "      <td>AT2_BB_10</td>\n",
       "    </tr>\n",
       "    <tr>\n",
       "      <th>2</th>\n",
       "      <td>AT2_BB_11</td>\n",
       "    </tr>\n",
       "    <tr>\n",
       "      <th>3</th>\n",
       "      <td>AT2_BB_12</td>\n",
       "    </tr>\n",
       "    <tr>\n",
       "      <th>4</th>\n",
       "      <td>AT2_BB_13</td>\n",
       "    </tr>\n",
       "  </tbody>\n",
       "</table>\n",
       "</div>"
      ],
      "text/plain": [
       "      sample\n",
       "0   AT2_BB_1\n",
       "1  AT2_BB_10\n",
       "2  AT2_BB_11\n",
       "3  AT2_BB_12\n",
       "4  AT2_BB_13"
      ]
     },
     "execution_count": 6,
     "metadata": {},
     "output_type": "execute_result"
    }
   ],
   "source": [
    "sample_names = pd.read_csv('sample_index.txt',header=None,names=['sample'])\n",
    "sample_names.head()"
   ]
  },
  {
   "cell_type": "code",
   "execution_count": 12,
   "metadata": {},
   "outputs": [],
   "source": [
    "AV2_indv = [s for s in sample_names['sample'] if 'AV2' in s]\n",
    "AT2_indv = [s for s in sample_names['sample'] if 'AT2' in s]\n",
    "ATAV2_indv = AT2_indv + AV2_indv"
   ]
  },
  {
   "cell_type": "code",
   "execution_count": 18,
   "metadata": {},
   "outputs": [
    {
     "data": {
      "text/plain": [
       "(407, 'AT2_BB_1')"
      ]
     },
     "execution_count": 18,
     "metadata": {},
     "output_type": "execute_result"
    }
   ],
   "source": [
    "len(ATAV2_indv), ATAV2_indv[0]"
   ]
  },
  {
   "cell_type": "code",
   "execution_count": 19,
   "metadata": {},
   "outputs": [],
   "source": [
    "with open(os.path.join(analysis_dir, \"ATAV2_indv.txt\"), \"w\") as o:\n",
    "    o.write(\"INDV\\n\")\n",
    "    for elem in ATAV2_indv:\n",
    "        o.write(\"%s\\n\" % elem)"
   ]
  },
  {
   "cell_type": "code",
   "execution_count": 20,
   "metadata": {},
   "outputs": [
    {
     "name": "stdout",
     "output_type": "stream",
     "text": [
      "\n",
      "VCFtools - 0.1.16\n",
      "(C) Adam Auton and Anthony Marcketta 2009\n",
      "\n",
      "Parameters as interpreted:\n",
      "\t--gzvcf /data/gpfs/assoc/denovo/tfaske/sagebrush/SNPcall/ATAV2/filtering/ARTR_chr.biallelic.recode.vcf.gz\n",
      "\t--keep /data/gpfs/assoc/denovo/tfaske/sagebrush/SNPcall/ATAV2/filtering/ATAV2_indv.txt\n",
      "\t--recode-INFO-all\n",
      "\t--out /data/gpfs/assoc/denovo/tfaske/sagebrush/SNPcall/ATAV2/filtering/ATAV2_chr.biallelic\n",
      "\t--recode\n",
      "\t--remove-filtered-all\n",
      "\n",
      "Using zlib version: 1.2.11\n",
      "Warning: Expected at least 2 parts in INFO entry: ID=PV4,Number=4,Type=Float,Description=\"P-values for strand bias, baseQ bias, mapQ bias and tail distance bias\">\n",
      "Warning: Expected at least 2 parts in INFO entry: ID=PV4,Number=4,Type=Float,Description=\"P-values for strand bias, baseQ bias, mapQ bias and tail distance bias\">\n",
      "Warning: Expected at least 2 parts in INFO entry: ID=DP4,Number=4,Type=Integer,Description=\"Number of high-quality ref-forward , ref-reverse, alt-forward and alt-reverse bases\">\n",
      "Warning: Expected at least 2 parts in INFO entry: ID=DP4,Number=4,Type=Integer,Description=\"Number of high-quality ref-forward , ref-reverse, alt-forward and alt-reverse bases\">\n",
      "Keeping individuals in 'keep' list\n",
      "After filtering, kept 407 out of 708 Individuals\n",
      "Outputting VCF file...\n",
      "After filtering, kept 2766918 out of a possible 2766918 Sites\n",
      "Run Time = 2413.00 seconds\n"
     ]
    }
   ],
   "source": [
    "!$vcftools --gzvcf $vcf_file \\\n",
    "--remove-filtered-all \\\n",
    "--recode \\\n",
    "--recode-INFO-all \\\n",
    "--keep {os.path.join(analysis_dir, \"ATAV2_indv.txt\")} \\\n",
    "--out {os.path.join(analysis_dir, \"ATAV2_chr.biallelic\")}"
   ]
  },
  {
   "cell_type": "code",
   "execution_count": 22,
   "metadata": {},
   "outputs": [],
   "source": [
    "vcf_ATAV2 = \"ATAV2_chr.biallelic.recode.vcf\" \n",
    "vcf_ATAV2_gz = \"%s.gz\" % vcf_ATAV2\n",
    "!$bgzip -c $vcf_ATAV2 > {vcf_ATAV2_gz}\n",
    "!$tabix {vcf_ATAV2_gz}"
   ]
  },
  {
   "cell_type": "markdown",
   "metadata": {},
   "source": [
    "## Remove by MAF, missing, and thin next"
   ]
  },
  {
   "cell_type": "code",
   "execution_count": 23,
   "metadata": {},
   "outputs": [
    {
     "name": "stdout",
     "output_type": "stream",
     "text": [
      "\n",
      "VCFtools - 0.1.16\n",
      "(C) Adam Auton and Anthony Marcketta 2009\n",
      "\n",
      "Parameters as interpreted:\n",
      "\t--gzvcf ATAV2_chr.biallelic.recode.vcf.gz\n",
      "\t--recode-INFO-all\n",
      "\t--maf 0.01\n",
      "\t--thin 100\n",
      "\t--out ATAV2_chr_thin100_MAF1\n",
      "\t--recode\n",
      "\t--remove-filtered-all\n",
      "\n",
      "Using zlib version: 1.2.11\n",
      "Warning: Expected at least 2 parts in INFO entry: ID=PV4,Number=4,Type=Float,Description=\"P-values for strand bias, baseQ bias, mapQ bias and tail distance bias\">\n",
      "Warning: Expected at least 2 parts in INFO entry: ID=PV4,Number=4,Type=Float,Description=\"P-values for strand bias, baseQ bias, mapQ bias and tail distance bias\">\n",
      "Warning: Expected at least 2 parts in INFO entry: ID=DP4,Number=4,Type=Integer,Description=\"Number of high-quality ref-forward , ref-reverse, alt-forward and alt-reverse bases\">\n",
      "Warning: Expected at least 2 parts in INFO entry: ID=DP4,Number=4,Type=Integer,Description=\"Number of high-quality ref-forward , ref-reverse, alt-forward and alt-reverse bases\">\n",
      "After filtering, kept 407 out of 407 Individuals\n",
      "Outputting VCF file...\n",
      "After filtering, kept 467724 out of a possible 2766918 Sites\n",
      "Run Time = 501.00 seconds\n"
     ]
    }
   ],
   "source": [
    "!$vcftools \\\n",
    "--maf 0.01 \\\n",
    "--thin 100 \\\n",
    "--remove-filtered-all \\\n",
    "--recode \\\n",
    "--recode-INFO-all \\\n",
    "--gzvcf \\\n",
    "$vcf_ATAV2_gz \\\n",
    "--out $'ATAV2_chr_thin100_MAF1'"
   ]
  },
  {
   "cell_type": "code",
   "execution_count": 24,
   "metadata": {},
   "outputs": [],
   "source": [
    "vcf_filtered = \"ATAV2_chr_thin100_MAF1.recode.vcf\"\n",
    "vcf_filtered_gz = \"%s.gz\" % vcf_filtered"
   ]
  },
  {
   "cell_type": "code",
   "execution_count": 25,
   "metadata": {},
   "outputs": [],
   "source": [
    "!$bgzip -c $vcf_filtered > {vcf_filtered_gz}\n",
    "!$tabix {vcf_filtered_gz}"
   ]
  },
  {
   "cell_type": "markdown",
   "metadata": {},
   "source": [
    "# Calulate missing data and private alleles using vcfR\n"
   ]
  },
  {
   "cell_type": "code",
   "execution_count": 26,
   "metadata": {},
   "outputs": [],
   "source": [
    "%load_ext rpy2.ipython"
   ]
  },
  {
   "cell_type": "code",
   "execution_count": 28,
   "metadata": {},
   "outputs": [],
   "source": [
    "%%R\n",
    "require(readr)\n",
    "library(data.table)\n",
    "require(MASS)\n",
    "require(ggplot2)\n",
    "library(vcfR)\n",
    "\n",
    "source('/data/gpfs/home/tfaske/g/src/R/Imports.R')\n",
    "\n",
    "setwd('/data/gpfs/assoc/denovo/tfaske/sagebrush/SNPcall/ATAV2/filtering/')"
   ]
  },
  {
   "cell_type": "code",
   "execution_count": 29,
   "metadata": {},
   "outputs": [],
   "source": [
    "%%R\n",
    "vcf <- read.vcfR(\"ATAV2_chr_thin100_MAF1.recode.vcf\", verbose = FALSE)\n",
    "\n",
    "#get positions\n",
    "chrom <- getCHROM(vcf)\n",
    "pos <- getPOS(vcf)\n",
    "pos_ID <- paste(chrom,pos,sep = ':')"
   ]
  },
  {
   "cell_type": "code",
   "execution_count": 30,
   "metadata": {},
   "outputs": [],
   "source": [
    "%%R\n",
    "#get pl \n",
    "dp <- extract.gt(vcf, element = 'DP')"
   ]
  },
  {
   "cell_type": "code",
   "execution_count": 31,
   "metadata": {},
   "outputs": [
    {
     "name": "stdout",
     "output_type": "stream",
     "text": [
      "[1] 467724\n",
      " [1] \"CM042338.1:22493\"  \"CM042338.1:59115\"  \"CM042338.1:97078\" \n",
      " [4] \"CM042338.1:106063\" \"CM042338.1:126072\" \"CM042338.1:128439\"\n",
      " [7] \"CM042338.1:129199\" \"CM042338.1:129763\" \"CM042338.1:130233\"\n",
      "[10] \"CM042338.1:169173\"\n",
      "                  AT2_BB_10 AT2_BB_11 AT2_BB_12 AT2_BB_13 AT2_BB_14\n",
      "CM042338.1_22493  \"0\"       \"0\"       \"0\"       \"0\"       \"0\"      \n",
      "CM042338.1_59115  \"3\"       \"0\"       \"0\"       \"0\"       \"0\"      \n",
      "CM042338.1_97078  \"0\"       \"0\"       \"0\"       \"0\"       \"0\"      \n",
      "CM042338.1_106063 \"0\"       \"0\"       \"0\"       \"0\"       \"0\"      \n",
      "CM042338.1_126072 \"2\"       \"0\"       \"2\"       \"1\"       \"4\"      \n"
     ]
    }
   ],
   "source": [
    "%%R\n",
    "## check out PL and pos_ID\n",
    "print(length(pos_ID))\n",
    "print(pos_ID[1:10])\n",
    "dp[1:5,1:5]"
   ]
  },
  {
   "cell_type": "code",
   "execution_count": 32,
   "metadata": {},
   "outputs": [
    {
     "name": "stdout",
     "output_type": "stream",
     "text": [
      " chr [1:5, 1:5] \"0\" \"3\" \"0\" \"0\" \"2\" \"0\" \"0\" \"0\" \"0\" \"0\" \"0\" \"0\" \"0\" \"0\" \"2\" ...\n",
      " - attr(*, \"dimnames\")=List of 2\n",
      "  ..$ : chr [1:5] \"CM042338.1_22493\" \"CM042338.1_59115\" \"CM042338.1_97078\" \"CM042338.1_106063\" ...\n",
      "  ..$ : chr [1:5] \"AT2_BB_10\" \"AT2_BB_11\" \"AT2_BB_12\" \"AT2_BB_13\" ...\n"
     ]
    }
   ],
   "source": [
    "%%R\n",
    "str(dp[1:5,1:5])"
   ]
  },
  {
   "cell_type": "markdown",
   "metadata": {},
   "source": [
    "#### Calculate missing loci and individual"
   ]
  },
  {
   "cell_type": "code",
   "execution_count": 35,
   "metadata": {},
   "outputs": [
    {
     "name": "stdout",
     "output_type": "stream",
     "text": [
      "[1] 467724\n",
      "[1] 407\n"
     ]
    }
   ],
   "source": [
    "%%R\n",
    "nindv <- ncol(dp)\n",
    "nloci <- nrow(dp)\n",
    "print(nloci)\n",
    "print(nindv)"
   ]
  },
  {
   "cell_type": "code",
   "execution_count": 36,
   "metadata": {},
   "outputs": [
    {
     "name": "stdout",
     "output_type": "stream",
     "text": [
      "   Min. 1st Qu.  Median    Mean 3rd Qu.    Max. \n",
      " 0.0000  0.9853  0.9975  0.9130  1.0000  1.0000 \n"
     ]
    }
   ],
   "source": [
    "%%R\n",
    "miss_loci <- apply(dp,1, function(d) length(which(d == \"0\"))/nindv)\n",
    "#miss_loci <- apply(dp[,1:100],1, function(d) (length(which(d == \"0\"))/100))\n",
    "print(summary(miss_loci))"
   ]
  },
  {
   "cell_type": "code",
   "execution_count": 37,
   "metadata": {},
   "outputs": [
    {
     "name": "stdout",
     "output_type": "stream",
     "text": [
      "[1] 13538\n",
      "[1] 21897\n",
      "[1] 31934\n",
      "[1] 44112\n",
      "[1] 58279\n"
     ]
    }
   ],
   "source": [
    "%%R\n",
    "print(length(which(miss_loci <= .30)))\n",
    "print(length(which(miss_loci <= .40)))\n",
    "print(length(which(miss_loci <= .50)))\n",
    "print(length(which(miss_loci <= .60)))\n",
    "print(length(which(miss_loci <= .70)))"
   ]
  },
  {
   "cell_type": "code",
   "execution_count": 38,
   "metadata": {},
   "outputs": [
    {
     "name": "stdout",
     "output_type": "stream",
     "text": [
      "[1] 44112\n"
     ]
    }
   ],
   "source": [
    "%%R\n",
    "keep_miss <- pos_ID[which(miss_loci <= .60)]\n",
    "length(keep_miss)"
   ]
  },
  {
   "cell_type": "code",
   "execution_count": 39,
   "metadata": {},
   "outputs": [
    {
     "name": "stdout",
     "output_type": "stream",
     "text": [
      "                        chrom     pos\n",
      "CM042338.1:126072  CM042338.1  126072\n",
      "CM042338.1:1342981 CM042338.1 1342981\n",
      "CM042338.1:1496841 CM042338.1 1496841\n",
      "CM042338.1:1744222 CM042338.1 1744222\n",
      "CM042338.1:1942811 CM042338.1 1942811\n",
      "CM042338.1:2385838 CM042338.1 2385838\n"
     ]
    }
   ],
   "source": [
    "%%R\n",
    "keep_miss60_df <- data.frame(chrom=sapply(keep_miss,function(s) unlist(strsplit(as.character(s),':'))[1]),\n",
    "                             pos=sapply(keep_miss,function(s) unlist(strsplit(as.character(s),':'))[2]))\n",
    "print(head(keep_miss60_df))    \n",
    "write.table(keep_miss60_df,'keep_miss60.txt',quote=F,row.names=F,col.names=F,sep='\\t')"
   ]
  },
  {
   "cell_type": "code",
   "execution_count": 40,
   "metadata": {},
   "outputs": [
    {
     "name": "stdout",
     "output_type": "stream",
     "text": [
      "CM042338.1\t126072\r\n",
      "CM042338.1\t1342981\r\n",
      "CM042338.1\t1496841\r\n",
      "CM042338.1\t1744222\r\n",
      "CM042338.1\t1942811\r\n",
      "CM042338.1\t2385838\r\n",
      "CM042338.1\t4255378\r\n",
      "CM042338.1\t6087026\r\n",
      "CM042338.1\t6353755\r\n",
      "CM042338.1\t7629194\r\n"
     ]
    }
   ],
   "source": [
    "!head keep_miss60.txt"
   ]
  },
  {
   "cell_type": "code",
   "execution_count": 41,
   "metadata": {},
   "outputs": [
    {
     "name": "stdout",
     "output_type": "stream",
     "text": [
      "\n",
      "VCFtools - 0.1.16\n",
      "(C) Adam Auton and Anthony Marcketta 2009\n",
      "\n",
      "Parameters as interpreted:\n",
      "\t--vcf ATAV2_chr_thin100_MAF1.recode.vcf\n",
      "\t--recode-INFO-all\n",
      "\t--out /data/gpfs/assoc/denovo/tfaske/sagebrush/SNPcall/ATAV2/filtering/ATAV2_chr_miss60_thin100_MAF1\n",
      "\t--positions /data/gpfs/assoc/denovo/tfaske/sagebrush/SNPcall/ATAV2/filtering/keep_miss60.txt\n",
      "\t--recode\n",
      "\t--remove-filtered-all\n",
      "\n",
      "Warning: Expected at least 2 parts in INFO entry: ID=PV4,Number=4,Type=Float,Description=\"P-values for strand bias, baseQ bias, mapQ bias and tail distance bias\">\n",
      "Warning: Expected at least 2 parts in INFO entry: ID=PV4,Number=4,Type=Float,Description=\"P-values for strand bias, baseQ bias, mapQ bias and tail distance bias\">\n",
      "Warning: Expected at least 2 parts in INFO entry: ID=DP4,Number=4,Type=Integer,Description=\"Number of high-quality ref-forward , ref-reverse, alt-forward and alt-reverse bases\">\n",
      "Warning: Expected at least 2 parts in INFO entry: ID=DP4,Number=4,Type=Integer,Description=\"Number of high-quality ref-forward , ref-reverse, alt-forward and alt-reverse bases\">\n",
      "After filtering, kept 407 out of 407 Individuals\n",
      "Outputting VCF file...\n",
      "After filtering, kept 44112 out of a possible 467724 Sites\n",
      "Run Time = 40.00 seconds\n"
     ]
    }
   ],
   "source": [
    "!$vcftools --vcf {\"ATAV2_chr_thin100_MAF1.recode.vcf\"} \\\n",
    "--remove-filtered-all \\\n",
    "--recode \\\n",
    "--recode-INFO-all \\\n",
    "--positions {os.path.join(analysis_dir, \"keep_miss60.txt\")} \\\n",
    "--out {os.path.join(analysis_dir, \"ATAV2_chr_miss60_thin100_MAF1\")}"
   ]
  },
  {
   "cell_type": "code",
   "execution_count": 42,
   "metadata": {},
   "outputs": [],
   "source": [
    "vcf_filtered = \"ATAV2_chr_miss60_thin100_MAF1.recode.vcf\"\n",
    "vcf_filtered_gz = \"%s.gz\" % vcf_filtered\n",
    "!$bgzip -c $vcf_filtered > {vcf_filtered_gz}\n",
    "!$tabix {vcf_filtered_gz}"
   ]
  },
  {
   "cell_type": "markdown",
   "metadata": {},
   "source": [
    "# Remove bad_indv\n",
    "\n",
    "by do it by mean_depth cause no missing data "
   ]
  },
  {
   "cell_type": "code",
   "execution_count": 43,
   "metadata": {
    "scrolled": true
   },
   "outputs": [
    {
     "name": "stdout",
     "output_type": "stream",
     "text": [
      "\n",
      "VCFtools - 0.1.16\n",
      "(C) Adam Auton and Anthony Marcketta 2009\n",
      "\n",
      "Parameters as interpreted:\n",
      "\t--gzvcf ATAV2_chr_miss60_thin100_MAF1.recode.vcf.gz\n",
      "\t--depth\n",
      "\t--out ATAV2_chr_miss60_thin100_MAF1.recode.vcf.gz\n",
      "\n",
      "Using zlib version: 1.2.11\n",
      "Warning: Expected at least 2 parts in INFO entry: ID=PV4,Number=4,Type=Float,Description=\"P-values for strand bias, baseQ bias, mapQ bias and tail distance bias\">\n",
      "Warning: Expected at least 2 parts in INFO entry: ID=PV4,Number=4,Type=Float,Description=\"P-values for strand bias, baseQ bias, mapQ bias and tail distance bias\">\n",
      "Warning: Expected at least 2 parts in INFO entry: ID=DP4,Number=4,Type=Integer,Description=\"Number of high-quality ref-forward , ref-reverse, alt-forward and alt-reverse bases\">\n",
      "Warning: Expected at least 2 parts in INFO entry: ID=DP4,Number=4,Type=Integer,Description=\"Number of high-quality ref-forward , ref-reverse, alt-forward and alt-reverse bases\">\n",
      "After filtering, kept 407 out of 407 Individuals\n",
      "Outputting Mean Depth by Individual\n",
      "After filtering, kept 44112 out of a possible 44112 Sites\n",
      "Run Time = 3.00 seconds\n"
     ]
    }
   ],
   "source": [
    "!$vcftools --gzvcf {vcf_filtered_gz} \\\n",
    "--out {vcf_filtered_gz} \\\n",
    "--depth"
   ]
  },
  {
   "cell_type": "code",
   "execution_count": 44,
   "metadata": {},
   "outputs": [
    {
     "data": {
      "text/html": [
       "<div>\n",
       "<style scoped>\n",
       "    .dataframe tbody tr th:only-of-type {\n",
       "        vertical-align: middle;\n",
       "    }\n",
       "\n",
       "    .dataframe tbody tr th {\n",
       "        vertical-align: top;\n",
       "    }\n",
       "\n",
       "    .dataframe thead th {\n",
       "        text-align: right;\n",
       "    }\n",
       "</style>\n",
       "<table border=\"1\" class=\"dataframe\">\n",
       "  <thead>\n",
       "    <tr style=\"text-align: right;\">\n",
       "      <th></th>\n",
       "      <th>INDV</th>\n",
       "      <th>N_SITES</th>\n",
       "      <th>MEAN_DEPTH</th>\n",
       "    </tr>\n",
       "  </thead>\n",
       "  <tbody>\n",
       "    <tr>\n",
       "      <th>0</th>\n",
       "      <td>AT2_BB_10</td>\n",
       "      <td>44112</td>\n",
       "      <td>2.79357</td>\n",
       "    </tr>\n",
       "    <tr>\n",
       "      <th>1</th>\n",
       "      <td>AT2_BB_11</td>\n",
       "      <td>44112</td>\n",
       "      <td>1.83329</td>\n",
       "    </tr>\n",
       "    <tr>\n",
       "      <th>2</th>\n",
       "      <td>AT2_BB_12</td>\n",
       "      <td>44112</td>\n",
       "      <td>1.56740</td>\n",
       "    </tr>\n",
       "    <tr>\n",
       "      <th>3</th>\n",
       "      <td>AT2_BB_13</td>\n",
       "      <td>44112</td>\n",
       "      <td>2.30971</td>\n",
       "    </tr>\n",
       "    <tr>\n",
       "      <th>4</th>\n",
       "      <td>AT2_BB_14</td>\n",
       "      <td>44112</td>\n",
       "      <td>3.22552</td>\n",
       "    </tr>\n",
       "  </tbody>\n",
       "</table>\n",
       "</div>"
      ],
      "text/plain": [
       "        INDV  N_SITES  MEAN_DEPTH\n",
       "0  AT2_BB_10    44112     2.79357\n",
       "1  AT2_BB_11    44112     1.83329\n",
       "2  AT2_BB_12    44112     1.56740\n",
       "3  AT2_BB_13    44112     2.30971\n",
       "4  AT2_BB_14    44112     3.22552"
      ]
     },
     "execution_count": 44,
     "metadata": {},
     "output_type": "execute_result"
    }
   ],
   "source": [
    "depth_file = vcf_filtered_gz + \".idepth\"\n",
    "depth_df = pd.read_csv(depth_file, sep=\"\\t\")\n",
    "depth_df.head()"
   ]
  },
  {
   "cell_type": "code",
   "execution_count": 45,
   "metadata": {
    "scrolled": false
   },
   "outputs": [
    {
     "data": {
      "text/plain": [
       "count    407.000000\n",
       "mean       1.834896\n",
       "std        0.625635\n",
       "min        0.004693\n",
       "25%        1.414330\n",
       "50%        1.784710\n",
       "75%        2.233930\n",
       "max        3.936960\n",
       "Name: MEAN_DEPTH, dtype: float64"
      ]
     },
     "execution_count": 45,
     "metadata": {},
     "output_type": "execute_result"
    }
   ],
   "source": [
    "depth_df.MEAN_DEPTH.describe()"
   ]
  },
  {
   "cell_type": "code",
   "execution_count": 46,
   "metadata": {},
   "outputs": [
    {
     "data": {
      "text/plain": [
       "(407, 4, 4, 4)"
      ]
     },
     "execution_count": 46,
     "metadata": {},
     "output_type": "execute_result"
    }
   ],
   "source": [
    "len(depth_df),len(depth_df[depth_df.MEAN_DEPTH <= .05]),len(depth_df[depth_df.MEAN_DEPTH <= .1]), len(depth_df[depth_df.MEAN_DEPTH <= .15])\n"
   ]
  },
  {
   "cell_type": "code",
   "execution_count": 47,
   "metadata": {},
   "outputs": [],
   "source": [
    "bad_indv = depth_df.INDV[depth_df.MEAN_DEPTH <= .1]"
   ]
  },
  {
   "cell_type": "code",
   "execution_count": 48,
   "metadata": {},
   "outputs": [],
   "source": [
    "with open(os.path.join(analysis_dir, \"bad_indv.txt\"), \"w\") as o:\n",
    "    o.write(\"INDV\\n\")\n",
    "    for elem in bad_indv:\n",
    "        o.write(\"%s\\n\" % elem)"
   ]
  },
  {
   "cell_type": "code",
   "execution_count": 49,
   "metadata": {},
   "outputs": [
    {
     "name": "stdout",
     "output_type": "stream",
     "text": [
      "INDV\r\n",
      "AT2_LN_97\r\n",
      "AT2_OC_1\r\n",
      "AT2_SS_9\r\n",
      "AV2_TF_149\r\n"
     ]
    }
   ],
   "source": [
    "!cat bad_indv.txt"
   ]
  },
  {
   "cell_type": "code",
   "execution_count": 50,
   "metadata": {},
   "outputs": [
    {
     "name": "stdout",
     "output_type": "stream",
     "text": [
      "\n",
      "VCFtools - 0.1.16\n",
      "(C) Adam Auton and Anthony Marcketta 2009\n",
      "\n",
      "Parameters as interpreted:\n",
      "\t--gzvcf ATAV2_chr_miss60_thin100_MAF1.recode.vcf.gz\n",
      "\t--remove /data/gpfs/assoc/denovo/tfaske/sagebrush/SNPcall/ATAV2/filtering/bad_indv.txt\n",
      "\t--recode-INFO-all\n",
      "\t--out /data/gpfs/assoc/denovo/tfaske/sagebrush/SNPcall/ATAV2/filtering/snps_indv_removed\n",
      "\t--recode\n",
      "\t--remove-filtered-all\n",
      "\t--remove-indels\n",
      "\n",
      "Using zlib version: 1.2.11\n",
      "Warning: Expected at least 2 parts in INFO entry: ID=PV4,Number=4,Type=Float,Description=\"P-values for strand bias, baseQ bias, mapQ bias and tail distance bias\">\n",
      "Warning: Expected at least 2 parts in INFO entry: ID=PV4,Number=4,Type=Float,Description=\"P-values for strand bias, baseQ bias, mapQ bias and tail distance bias\">\n",
      "Warning: Expected at least 2 parts in INFO entry: ID=DP4,Number=4,Type=Integer,Description=\"Number of high-quality ref-forward , ref-reverse, alt-forward and alt-reverse bases\">\n",
      "Warning: Expected at least 2 parts in INFO entry: ID=DP4,Number=4,Type=Integer,Description=\"Number of high-quality ref-forward , ref-reverse, alt-forward and alt-reverse bases\">\n",
      "Excluding individuals in 'exclude' list\n",
      "After filtering, kept 403 out of 407 Individuals\n",
      "Outputting VCF file...\n",
      "After filtering, kept 44112 out of a possible 44112 Sites\n",
      "Run Time = 35.00 seconds\n"
     ]
    }
   ],
   "source": [
    "!$vcftools --gzvcf $vcf_filtered_gz \\\n",
    "--remove-indels  \\\n",
    "--remove-filtered-all \\\n",
    "--recode \\\n",
    "--recode-INFO-all \\\n",
    "--remove {os.path.join(analysis_dir, \"bad_indv.txt\")} \\\n",
    "--out {os.path.join(analysis_dir, \"snps_indv_removed\")}"
   ]
  },
  {
   "cell_type": "code",
   "execution_count": 51,
   "metadata": {},
   "outputs": [],
   "source": [
    "vcf_bad_remove = os.path.join(analysis_dir, \"snps_indv_removed.recode.vcf\")\n",
    "vcf_bad_remove_gz = vcf_bad_remove + \".gz\"\n",
    "!$bgzip -c {vcf_bad_remove} > {vcf_bad_remove_gz}\n",
    "!$tabix {vcf_bad_remove_gz}"
   ]
  },
  {
   "cell_type": "markdown",
   "metadata": {},
   "source": [
    "# Filter snps further \n",
    "this needs to be done after removing individuals\n"
   ]
  },
  {
   "cell_type": "code",
   "execution_count": 52,
   "metadata": {},
   "outputs": [],
   "source": [
    "def get_vcf_stats(vcf_gz):\n",
    "    \n",
    "    stats = ['depth',\n",
    "            'site-depth',\n",
    "            'site-mean-depth',\n",
    "            'site-quality',\n",
    "            'missing-site',\n",
    "            'freq',\n",
    "            'counts',\n",
    "            'hardy',\n",
    "            'het']\n",
    "    \n",
    "    for stat in stats:\n",
    "        !$vcftools --gzvcf $vcf_gz \\\n",
    "        --out $vcf_gz \\\n",
    "        {\"--%s\" % stat} "
   ]
  },
  {
   "cell_type": "code",
   "execution_count": 53,
   "metadata": {},
   "outputs": [
    {
     "name": "stdout",
     "output_type": "stream",
     "text": [
      "\n",
      "VCFtools - 0.1.16\n",
      "(C) Adam Auton and Anthony Marcketta 2009\n",
      "\n",
      "Parameters as interpreted:\n",
      "\t--gzvcf /data/gpfs/assoc/denovo/tfaske/sagebrush/SNPcall/ATAV2/filtering/snps_indv_removed.recode.vcf.gz\n",
      "\t--depth\n",
      "\t--out /data/gpfs/assoc/denovo/tfaske/sagebrush/SNPcall/ATAV2/filtering/snps_indv_removed.recode.vcf.gz\n",
      "\n",
      "Using zlib version: 1.2.11\n",
      "Warning: Expected at least 2 parts in INFO entry: ID=PV4,Number=4,Type=Float,Description=\"P-values for strand bias, baseQ bias, mapQ bias and tail distance bias\">\n",
      "Warning: Expected at least 2 parts in INFO entry: ID=PV4,Number=4,Type=Float,Description=\"P-values for strand bias, baseQ bias, mapQ bias and tail distance bias\">\n",
      "Warning: Expected at least 2 parts in INFO entry: ID=DP4,Number=4,Type=Integer,Description=\"Number of high-quality ref-forward , ref-reverse, alt-forward and alt-reverse bases\">\n",
      "Warning: Expected at least 2 parts in INFO entry: ID=DP4,Number=4,Type=Integer,Description=\"Number of high-quality ref-forward , ref-reverse, alt-forward and alt-reverse bases\">\n",
      "After filtering, kept 403 out of 403 Individuals\n",
      "Outputting Mean Depth by Individual\n",
      "After filtering, kept 44112 out of a possible 44112 Sites\n",
      "Run Time = 3.00 seconds\n",
      "\n",
      "VCFtools - 0.1.16\n",
      "(C) Adam Auton and Anthony Marcketta 2009\n",
      "\n",
      "Parameters as interpreted:\n",
      "\t--gzvcf /data/gpfs/assoc/denovo/tfaske/sagebrush/SNPcall/ATAV2/filtering/snps_indv_removed.recode.vcf.gz\n",
      "\t--out /data/gpfs/assoc/denovo/tfaske/sagebrush/SNPcall/ATAV2/filtering/snps_indv_removed.recode.vcf.gz\n",
      "\t--site-depth\n",
      "\n",
      "Using zlib version: 1.2.11\n",
      "Warning: Expected at least 2 parts in INFO entry: ID=PV4,Number=4,Type=Float,Description=\"P-values for strand bias, baseQ bias, mapQ bias and tail distance bias\">\n",
      "Warning: Expected at least 2 parts in INFO entry: ID=PV4,Number=4,Type=Float,Description=\"P-values for strand bias, baseQ bias, mapQ bias and tail distance bias\">\n",
      "Warning: Expected at least 2 parts in INFO entry: ID=DP4,Number=4,Type=Integer,Description=\"Number of high-quality ref-forward , ref-reverse, alt-forward and alt-reverse bases\">\n",
      "Warning: Expected at least 2 parts in INFO entry: ID=DP4,Number=4,Type=Integer,Description=\"Number of high-quality ref-forward , ref-reverse, alt-forward and alt-reverse bases\">\n",
      "After filtering, kept 403 out of 403 Individuals\n",
      "Outputting Depth for Each Site\n",
      "After filtering, kept 44112 out of a possible 44112 Sites\n",
      "Run Time = 4.00 seconds\n",
      "\n",
      "VCFtools - 0.1.16\n",
      "(C) Adam Auton and Anthony Marcketta 2009\n",
      "\n",
      "Parameters as interpreted:\n",
      "\t--gzvcf /data/gpfs/assoc/denovo/tfaske/sagebrush/SNPcall/ATAV2/filtering/snps_indv_removed.recode.vcf.gz\n",
      "\t--out /data/gpfs/assoc/denovo/tfaske/sagebrush/SNPcall/ATAV2/filtering/snps_indv_removed.recode.vcf.gz\n",
      "\t--site-mean-depth\n",
      "\n",
      "Using zlib version: 1.2.11\n",
      "Warning: Expected at least 2 parts in INFO entry: ID=PV4,Number=4,Type=Float,Description=\"P-values for strand bias, baseQ bias, mapQ bias and tail distance bias\">\n",
      "Warning: Expected at least 2 parts in INFO entry: ID=PV4,Number=4,Type=Float,Description=\"P-values for strand bias, baseQ bias, mapQ bias and tail distance bias\">\n",
      "Warning: Expected at least 2 parts in INFO entry: ID=DP4,Number=4,Type=Integer,Description=\"Number of high-quality ref-forward , ref-reverse, alt-forward and alt-reverse bases\">\n",
      "Warning: Expected at least 2 parts in INFO entry: ID=DP4,Number=4,Type=Integer,Description=\"Number of high-quality ref-forward , ref-reverse, alt-forward and alt-reverse bases\">\n",
      "After filtering, kept 403 out of 403 Individuals\n",
      "Outputting Depth for Each Site\n",
      "After filtering, kept 44112 out of a possible 44112 Sites\n",
      "Run Time = 4.00 seconds\n",
      "\n",
      "VCFtools - 0.1.16\n",
      "(C) Adam Auton and Anthony Marcketta 2009\n",
      "\n",
      "Parameters as interpreted:\n",
      "\t--gzvcf /data/gpfs/assoc/denovo/tfaske/sagebrush/SNPcall/ATAV2/filtering/snps_indv_removed.recode.vcf.gz\n",
      "\t--out /data/gpfs/assoc/denovo/tfaske/sagebrush/SNPcall/ATAV2/filtering/snps_indv_removed.recode.vcf.gz\n",
      "\t--site-quality\n",
      "\n",
      "Using zlib version: 1.2.11\n",
      "Warning: Expected at least 2 parts in INFO entry: ID=PV4,Number=4,Type=Float,Description=\"P-values for strand bias, baseQ bias, mapQ bias and tail distance bias\">\n",
      "Warning: Expected at least 2 parts in INFO entry: ID=PV4,Number=4,Type=Float,Description=\"P-values for strand bias, baseQ bias, mapQ bias and tail distance bias\">\n",
      "Warning: Expected at least 2 parts in INFO entry: ID=DP4,Number=4,Type=Integer,Description=\"Number of high-quality ref-forward , ref-reverse, alt-forward and alt-reverse bases\">\n",
      "Warning: Expected at least 2 parts in INFO entry: ID=DP4,Number=4,Type=Integer,Description=\"Number of high-quality ref-forward , ref-reverse, alt-forward and alt-reverse bases\">\n",
      "After filtering, kept 403 out of 403 Individuals\n",
      "Outputting Quality for Each Site\n",
      "After filtering, kept 44112 out of a possible 44112 Sites\n",
      "Run Time = 1.00 seconds\n",
      "\n",
      "VCFtools - 0.1.16\n",
      "(C) Adam Auton and Anthony Marcketta 2009\n",
      "\n",
      "Parameters as interpreted:\n",
      "\t--gzvcf /data/gpfs/assoc/denovo/tfaske/sagebrush/SNPcall/ATAV2/filtering/snps_indv_removed.recode.vcf.gz\n",
      "\t--out /data/gpfs/assoc/denovo/tfaske/sagebrush/SNPcall/ATAV2/filtering/snps_indv_removed.recode.vcf.gz\n",
      "\t--missing-site\n",
      "\n",
      "Using zlib version: 1.2.11\n",
      "Warning: Expected at least 2 parts in INFO entry: ID=PV4,Number=4,Type=Float,Description=\"P-values for strand bias, baseQ bias, mapQ bias and tail distance bias\">\n",
      "Warning: Expected at least 2 parts in INFO entry: ID=PV4,Number=4,Type=Float,Description=\"P-values for strand bias, baseQ bias, mapQ bias and tail distance bias\">\n",
      "Warning: Expected at least 2 parts in INFO entry: ID=DP4,Number=4,Type=Integer,Description=\"Number of high-quality ref-forward , ref-reverse, alt-forward and alt-reverse bases\">\n",
      "Warning: Expected at least 2 parts in INFO entry: ID=DP4,Number=4,Type=Integer,Description=\"Number of high-quality ref-forward , ref-reverse, alt-forward and alt-reverse bases\">\n",
      "After filtering, kept 403 out of 403 Individuals\n",
      "Outputting Site Missingness\n",
      "After filtering, kept 44112 out of a possible 44112 Sites\n",
      "Run Time = 3.00 seconds\n",
      "\n",
      "VCFtools - 0.1.16\n",
      "(C) Adam Auton and Anthony Marcketta 2009\n",
      "\n",
      "Parameters as interpreted:\n",
      "\t--gzvcf /data/gpfs/assoc/denovo/tfaske/sagebrush/SNPcall/ATAV2/filtering/snps_indv_removed.recode.vcf.gz\n",
      "\t--freq\n",
      "\t--out /data/gpfs/assoc/denovo/tfaske/sagebrush/SNPcall/ATAV2/filtering/snps_indv_removed.recode.vcf.gz\n",
      "\n",
      "Using zlib version: 1.2.11\n",
      "Warning: Expected at least 2 parts in INFO entry: ID=PV4,Number=4,Type=Float,Description=\"P-values for strand bias, baseQ bias, mapQ bias and tail distance bias\">\n",
      "Warning: Expected at least 2 parts in INFO entry: ID=PV4,Number=4,Type=Float,Description=\"P-values for strand bias, baseQ bias, mapQ bias and tail distance bias\">\n",
      "Warning: Expected at least 2 parts in INFO entry: ID=DP4,Number=4,Type=Integer,Description=\"Number of high-quality ref-forward , ref-reverse, alt-forward and alt-reverse bases\">\n",
      "Warning: Expected at least 2 parts in INFO entry: ID=DP4,Number=4,Type=Integer,Description=\"Number of high-quality ref-forward , ref-reverse, alt-forward and alt-reverse bases\">\n",
      "After filtering, kept 403 out of 403 Individuals\n",
      "Outputting Frequency Statistics...\n",
      "After filtering, kept 44112 out of a possible 44112 Sites\n",
      "Run Time = 3.00 seconds\n",
      "\n",
      "VCFtools - 0.1.16\n",
      "(C) Adam Auton and Anthony Marcketta 2009\n",
      "\n",
      "Parameters as interpreted:\n",
      "\t--gzvcf /data/gpfs/assoc/denovo/tfaske/sagebrush/SNPcall/ATAV2/filtering/snps_indv_removed.recode.vcf.gz\n",
      "\t--counts\n",
      "\t--out /data/gpfs/assoc/denovo/tfaske/sagebrush/SNPcall/ATAV2/filtering/snps_indv_removed.recode.vcf.gz\n",
      "\n",
      "Using zlib version: 1.2.11\n",
      "Warning: Expected at least 2 parts in INFO entry: ID=PV4,Number=4,Type=Float,Description=\"P-values for strand bias, baseQ bias, mapQ bias and tail distance bias\">\n",
      "Warning: Expected at least 2 parts in INFO entry: ID=PV4,Number=4,Type=Float,Description=\"P-values for strand bias, baseQ bias, mapQ bias and tail distance bias\">\n",
      "Warning: Expected at least 2 parts in INFO entry: ID=DP4,Number=4,Type=Integer,Description=\"Number of high-quality ref-forward , ref-reverse, alt-forward and alt-reverse bases\">\n",
      "Warning: Expected at least 2 parts in INFO entry: ID=DP4,Number=4,Type=Integer,Description=\"Number of high-quality ref-forward , ref-reverse, alt-forward and alt-reverse bases\">\n",
      "After filtering, kept 403 out of 403 Individuals\n",
      "Outputting Frequency Statistics...\n"
     ]
    },
    {
     "name": "stdout",
     "output_type": "stream",
     "text": [
      "After filtering, kept 44112 out of a possible 44112 Sites\n",
      "Run Time = 3.00 seconds\n",
      "\n",
      "VCFtools - 0.1.16\n",
      "(C) Adam Auton and Anthony Marcketta 2009\n",
      "\n",
      "Parameters as interpreted:\n",
      "\t--gzvcf /data/gpfs/assoc/denovo/tfaske/sagebrush/SNPcall/ATAV2/filtering/snps_indv_removed.recode.vcf.gz\n",
      "\t--hardy\n",
      "\t--out /data/gpfs/assoc/denovo/tfaske/sagebrush/SNPcall/ATAV2/filtering/snps_indv_removed.recode.vcf.gz\n",
      "\n",
      "Using zlib version: 1.2.11\n",
      "Warning: Expected at least 2 parts in INFO entry: ID=PV4,Number=4,Type=Float,Description=\"P-values for strand bias, baseQ bias, mapQ bias and tail distance bias\">\n",
      "Warning: Expected at least 2 parts in INFO entry: ID=PV4,Number=4,Type=Float,Description=\"P-values for strand bias, baseQ bias, mapQ bias and tail distance bias\">\n",
      "Warning: Expected at least 2 parts in INFO entry: ID=DP4,Number=4,Type=Integer,Description=\"Number of high-quality ref-forward , ref-reverse, alt-forward and alt-reverse bases\">\n",
      "Warning: Expected at least 2 parts in INFO entry: ID=DP4,Number=4,Type=Integer,Description=\"Number of high-quality ref-forward , ref-reverse, alt-forward and alt-reverse bases\">\n",
      "After filtering, kept 403 out of 403 Individuals\n",
      "Outputting HWE statistics (but only for biallelic loci)\n",
      "After filtering, kept 44112 out of a possible 44112 Sites\n",
      "Run Time = 4.00 seconds\n",
      "\n",
      "VCFtools - 0.1.16\n",
      "(C) Adam Auton and Anthony Marcketta 2009\n",
      "\n",
      "Parameters as interpreted:\n",
      "\t--gzvcf /data/gpfs/assoc/denovo/tfaske/sagebrush/SNPcall/ATAV2/filtering/snps_indv_removed.recode.vcf.gz\n",
      "\t--het\n",
      "\t--out /data/gpfs/assoc/denovo/tfaske/sagebrush/SNPcall/ATAV2/filtering/snps_indv_removed.recode.vcf.gz\n",
      "\n",
      "Using zlib version: 1.2.11\n",
      "Warning: Expected at least 2 parts in INFO entry: ID=PV4,Number=4,Type=Float,Description=\"P-values for strand bias, baseQ bias, mapQ bias and tail distance bias\">\n",
      "Warning: Expected at least 2 parts in INFO entry: ID=PV4,Number=4,Type=Float,Description=\"P-values for strand bias, baseQ bias, mapQ bias and tail distance bias\">\n",
      "Warning: Expected at least 2 parts in INFO entry: ID=DP4,Number=4,Type=Integer,Description=\"Number of high-quality ref-forward , ref-reverse, alt-forward and alt-reverse bases\">\n",
      "Warning: Expected at least 2 parts in INFO entry: ID=DP4,Number=4,Type=Integer,Description=\"Number of high-quality ref-forward , ref-reverse, alt-forward and alt-reverse bases\">\n",
      "After filtering, kept 403 out of 403 Individuals\n",
      "Outputting Individual Heterozygosity\n",
      "After filtering, kept 44112 out of a possible 44112 Sites\n",
      "Run Time = 3.00 seconds\n"
     ]
    }
   ],
   "source": [
    "get_vcf_stats(vcf_bad_remove_gz)"
   ]
  },
  {
   "cell_type": "code",
   "execution_count": 54,
   "metadata": {},
   "outputs": [],
   "source": [
    "#pd.set_option('display.max_columns', 100)\n",
    "\n",
    "def get_MAF(row):\n",
    "    try:\n",
    "        return np.min([row.A1_freq, row.A2_freq])\n",
    "    except:\n",
    "        print(row)\n",
    "        \n",
    "def get_correction(n):\n",
    "    #for finite sample size\n",
    "    return (2*n)/(2*n-1)\n",
    "\n",
    "def calculate_Fis(vals):\n",
    "    try:\n",
    "        data = [float(x) for x in vals.split(\"/\")]\n",
    "        assert len(data) == 3\n",
    "        num_individuals = np.sum(data)\n",
    "        total_alleles = 2*num_individuals\n",
    "        a1_count = 2*data[0]\n",
    "        a2_count = 2*data[2]\n",
    "        het_count = data[1]\n",
    "        a1_count += het_count\n",
    "        a2_count += het_count\n",
    "        a1_freq = a1_count/total_alleles\n",
    "        a2_freq = a2_count/total_alleles\n",
    "        assert a1_freq + a2_freq == 1.0\n",
    "        He = 2 * a1_freq * a2_freq * get_correction(num_individuals)\n",
    "        Ho = het_count/num_individuals\n",
    "        Fis = 1 - (Ho/He)\n",
    "        return Fis\n",
    "    except:\n",
    "        return -9\n",
    "\n",
    "def combine_vcf_stats(filedir, prefix):\n",
    "    \n",
    "    hardy_files = !ls {filedir}/{prefix}.hwe\n",
    "    hardy = pd.read_csv(hardy_files[0], sep=\"\\t\")\n",
    "\n",
    "    hardy.columns = ['CHROM', 'POS', 'OBS(HOM1/HET/HOM2)', 'E(HOM1/HET/HOM2)', 'ChiSq_HWE',\n",
    "       'P_HWE', 'P_HET_DEFICIT', 'P_HET_EXCESS']\n",
    "    hardy.index = hardy.apply(lambda x: \"%s-%d\" % (x.CHROM, x.POS), axis=1)\n",
    "    \n",
    "    loci_files = !ls {filedir}/{prefix}.l* | grep -v log\n",
    "    loci_df = pd.concat([pd.read_csv(x, sep=\"\\t\", skiprows=0) for x in loci_files], axis=1)\n",
    "    chrom_pos = loci_df.ix[:,0:2]\n",
    "    \n",
    "    frq_files = !ls {filedir}/{prefix}.frq* | grep -v count\n",
    "    frq_data = []\n",
    "    h = open(frq_files[0])\n",
    "    header = h.readline().strip().split()\n",
    "    for line in h:\n",
    "        frq_data.append(line.strip().split('\\t'))\n",
    "\n",
    "    header = ['CHROM', 'POS', 'N_ALLELES', 'N_CHR', 'A1_FREQ', \"A2_FREQ\"]\n",
    "    frq_df = pd.DataFrame(frq_data)\n",
    "    print(frq_df.columns)\n",
    "    #frq_df = frq_df.drop([6,7],axis=1)\n",
    "    frq_df.columns = header\n",
    "    frq_df.index = frq_df.apply(lambda x: \"%s-%s\" % (x.CHROM, x.POS), axis=1)\n",
    "    \n",
    "    loci_df = loci_df.drop(['CHROM','CHR','POS'], axis=1)\n",
    "    loci_df = pd.concat([chrom_pos, loci_df], axis=1)\n",
    "    loci_df.index = loci_df.apply(lambda x: \"%s-%d\" % (x.CHROM, x.POS), axis=1)\n",
    "    \n",
    "    loci_df = pd.concat([loci_df, frq_df, hardy], axis=1)\n",
    "    loci_df[\"A1_allele\"] = loci_df.apply(lambda row: row.A1_FREQ.split(\":\")[0], axis=1)\n",
    "    loci_df[\"A2_allele\"] = loci_df.apply(lambda row: row.A2_FREQ.split(\":\")[0], axis=1)\n",
    "    \n",
    "    loci_df[\"A1_freq\"] = loci_df.apply(lambda row: float(row.A1_FREQ.split(\":\")[1]), axis=1)\n",
    "    loci_df[\"A2_freq\"] = loci_df.apply(lambda row: float(row.A2_FREQ.split(\":\")[1]), axis=1)\n",
    "    \n",
    "    loci_df['MAF'] = loci_df.apply(get_MAF, axis=1)\n",
    "    loci_df = loci_df.drop(['CHROM', 'POS'], axis=1)\n",
    "    \n",
    "    loci_df['Fis'] = loci_df['OBS(HOM1/HET/HOM2)'].apply(calculate_Fis)\n",
    "    \n",
    "    return loci_df, frq_df, hardy"
   ]
  },
  {
   "cell_type": "code",
   "execution_count": 55,
   "metadata": {},
   "outputs": [
    {
     "data": {
      "text/plain": [
       "'/data/gpfs/assoc/denovo/tfaske/sagebrush/SNPcall/ATAV2/filtering/snps_indv_removed.recode.vcf.gz'"
      ]
     },
     "execution_count": 55,
     "metadata": {},
     "output_type": "execute_result"
    }
   ],
   "source": [
    "vcf_bad_remove_gz"
   ]
  },
  {
   "cell_type": "code",
   "execution_count": 56,
   "metadata": {
    "scrolled": true
   },
   "outputs": [
    {
     "name": "stderr",
     "output_type": "stream",
     "text": [
      "/data/gpfs/assoc/parchmanlab/tfaske/anaconda3/envs/py36/lib/python3.6/site-packages/ipykernel_launcher.py:45: FutureWarning: \n",
      ".ix is deprecated. Please use\n",
      ".loc for label based indexing or\n",
      ".iloc for positional indexing\n",
      "\n",
      "See the documentation here:\n",
      "http://pandas.pydata.org/pandas-docs/stable/user_guide/indexing.html#ix-indexer-is-deprecated\n",
      "/data/gpfs/assoc/parchmanlab/tfaske/anaconda3/envs/py36/lib/python3.6/site-packages/pandas/core/indexing.py:822: FutureWarning: \n",
      ".ix is deprecated. Please use\n",
      ".loc for label based indexing or\n",
      ".iloc for positional indexing\n",
      "\n",
      "See the documentation here:\n",
      "http://pandas.pydata.org/pandas-docs/stable/user_guide/indexing.html#ix-indexer-is-deprecated\n",
      "  retval = getattr(retval, self.name)._getitem_axis(key, axis=i)\n"
     ]
    },
    {
     "name": "stdout",
     "output_type": "stream",
     "text": [
      "RangeIndex(start=0, stop=6, step=1)\n"
     ]
    }
   ],
   "source": [
    "loci_df, frq_df, hardy = combine_vcf_stats(analysis_dir,'snps_indv_removed.recode.vcf.gz')"
   ]
  },
  {
   "cell_type": "code",
   "execution_count": 57,
   "metadata": {},
   "outputs": [
    {
     "data": {
      "text/html": [
       "<div>\n",
       "<style scoped>\n",
       "    .dataframe tbody tr th:only-of-type {\n",
       "        vertical-align: middle;\n",
       "    }\n",
       "\n",
       "    .dataframe tbody tr th {\n",
       "        vertical-align: top;\n",
       "    }\n",
       "\n",
       "    .dataframe thead th {\n",
       "        text-align: right;\n",
       "    }\n",
       "</style>\n",
       "<table border=\"1\" class=\"dataframe\">\n",
       "  <thead>\n",
       "    <tr style=\"text-align: right;\">\n",
       "      <th></th>\n",
       "      <th>SUM_DEPTH</th>\n",
       "      <th>SUMSQ_DEPTH</th>\n",
       "      <th>MEAN_DEPTH</th>\n",
       "      <th>VAR_DEPTH</th>\n",
       "      <th>N_DATA</th>\n",
       "      <th>N_GENOTYPE_FILTERED</th>\n",
       "      <th>N_MISS</th>\n",
       "      <th>F_MISS</th>\n",
       "      <th>QUAL</th>\n",
       "      <th>N_ALLELES</th>\n",
       "      <th>...</th>\n",
       "      <th>ChiSq_HWE</th>\n",
       "      <th>P_HWE</th>\n",
       "      <th>P_HET_DEFICIT</th>\n",
       "      <th>P_HET_EXCESS</th>\n",
       "      <th>A1_allele</th>\n",
       "      <th>A2_allele</th>\n",
       "      <th>A1_freq</th>\n",
       "      <th>A2_freq</th>\n",
       "      <th>MAF</th>\n",
       "      <th>Fis</th>\n",
       "    </tr>\n",
       "  </thead>\n",
       "  <tbody>\n",
       "    <tr>\n",
       "      <th>CM042338.1-126072</th>\n",
       "      <td>325</td>\n",
       "      <td>869</td>\n",
       "      <td>0.806452</td>\n",
       "      <td>1.50971</td>\n",
       "      <td>806</td>\n",
       "      <td>0</td>\n",
       "      <td>0</td>\n",
       "      <td>0</td>\n",
       "      <td>999.0</td>\n",
       "      <td>2</td>\n",
       "      <td>...</td>\n",
       "      <td>53.073740</td>\n",
       "      <td>2.518773e-08</td>\n",
       "      <td>2.518773e-08</td>\n",
       "      <td>1.000000</td>\n",
       "      <td>C</td>\n",
       "      <td>G</td>\n",
       "      <td>0.921836</td>\n",
       "      <td>0.078164</td>\n",
       "      <td>0.078164</td>\n",
       "      <td>0.363691</td>\n",
       "    </tr>\n",
       "    <tr>\n",
       "      <th>CM042338.1-1342981</th>\n",
       "      <td>629</td>\n",
       "      <td>2831</td>\n",
       "      <td>1.560790</td>\n",
       "      <td>4.60015</td>\n",
       "      <td>806</td>\n",
       "      <td>0</td>\n",
       "      <td>0</td>\n",
       "      <td>0</td>\n",
       "      <td>999.0</td>\n",
       "      <td>2</td>\n",
       "      <td>...</td>\n",
       "      <td>5.041315</td>\n",
       "      <td>4.298719e-02</td>\n",
       "      <td>3.018760e-02</td>\n",
       "      <td>0.990461</td>\n",
       "      <td>G</td>\n",
       "      <td>A</td>\n",
       "      <td>0.900744</td>\n",
       "      <td>0.099256</td>\n",
       "      <td>0.099256</td>\n",
       "      <td>0.112948</td>\n",
       "    </tr>\n",
       "    <tr>\n",
       "      <th>CM042338.1-1496841</th>\n",
       "      <td>1040</td>\n",
       "      <td>6738</td>\n",
       "      <td>2.580650</td>\n",
       "      <td>10.08490</td>\n",
       "      <td>806</td>\n",
       "      <td>0</td>\n",
       "      <td>0</td>\n",
       "      <td>0</td>\n",
       "      <td>999.0</td>\n",
       "      <td>2</td>\n",
       "      <td>...</td>\n",
       "      <td>0.063603</td>\n",
       "      <td>1.000000e+00</td>\n",
       "      <td>1.000000e+00</td>\n",
       "      <td>0.945068</td>\n",
       "      <td>G</td>\n",
       "      <td>C</td>\n",
       "      <td>0.987593</td>\n",
       "      <td>0.012407</td>\n",
       "      <td>0.012407</td>\n",
       "      <td>-0.011307</td>\n",
       "    </tr>\n",
       "    <tr>\n",
       "      <th>CM042338.1-1744222</th>\n",
       "      <td>667</td>\n",
       "      <td>3403</td>\n",
       "      <td>1.655090</td>\n",
       "      <td>5.71905</td>\n",
       "      <td>806</td>\n",
       "      <td>0</td>\n",
       "      <td>0</td>\n",
       "      <td>0</td>\n",
       "      <td>999.0</td>\n",
       "      <td>2</td>\n",
       "      <td>...</td>\n",
       "      <td>0.108304</td>\n",
       "      <td>1.000000e+00</td>\n",
       "      <td>1.000000e+00</td>\n",
       "      <td>0.906375</td>\n",
       "      <td>A</td>\n",
       "      <td>T</td>\n",
       "      <td>0.983871</td>\n",
       "      <td>0.016129</td>\n",
       "      <td>0.016129</td>\n",
       "      <td>-0.015132</td>\n",
       "    </tr>\n",
       "    <tr>\n",
       "      <th>CM042338.1-1942811</th>\n",
       "      <td>614</td>\n",
       "      <td>3804</td>\n",
       "      <td>1.523570</td>\n",
       "      <td>7.13564</td>\n",
       "      <td>806</td>\n",
       "      <td>0</td>\n",
       "      <td>0</td>\n",
       "      <td>0</td>\n",
       "      <td>999.0</td>\n",
       "      <td>2</td>\n",
       "      <td>...</td>\n",
       "      <td>0.000062</td>\n",
       "      <td>1.000000e+00</td>\n",
       "      <td>6.387059e-01</td>\n",
       "      <td>0.748395</td>\n",
       "      <td>G</td>\n",
       "      <td>A</td>\n",
       "      <td>0.950372</td>\n",
       "      <td>0.049628</td>\n",
       "      <td>0.049628</td>\n",
       "      <td>0.001632</td>\n",
       "    </tr>\n",
       "    <tr>\n",
       "      <th>...</th>\n",
       "      <td>...</td>\n",
       "      <td>...</td>\n",
       "      <td>...</td>\n",
       "      <td>...</td>\n",
       "      <td>...</td>\n",
       "      <td>...</td>\n",
       "      <td>...</td>\n",
       "      <td>...</td>\n",
       "      <td>...</td>\n",
       "      <td>...</td>\n",
       "      <td>...</td>\n",
       "      <td>...</td>\n",
       "      <td>...</td>\n",
       "      <td>...</td>\n",
       "      <td>...</td>\n",
       "      <td>...</td>\n",
       "      <td>...</td>\n",
       "      <td>...</td>\n",
       "      <td>...</td>\n",
       "      <td>...</td>\n",
       "      <td>...</td>\n",
       "    </tr>\n",
       "    <tr>\n",
       "      <th>CM042346.1-338104939</th>\n",
       "      <td>746</td>\n",
       "      <td>2732</td>\n",
       "      <td>1.851120</td>\n",
       "      <td>3.36086</td>\n",
       "      <td>806</td>\n",
       "      <td>0</td>\n",
       "      <td>0</td>\n",
       "      <td>0</td>\n",
       "      <td>999.0</td>\n",
       "      <td>2</td>\n",
       "      <td>...</td>\n",
       "      <td>0.051389</td>\n",
       "      <td>1.000000e+00</td>\n",
       "      <td>1.000000e+00</td>\n",
       "      <td>0.955862</td>\n",
       "      <td>C</td>\n",
       "      <td>A</td>\n",
       "      <td>0.988834</td>\n",
       "      <td>0.011166</td>\n",
       "      <td>0.011166</td>\n",
       "      <td>-0.010038</td>\n",
       "    </tr>\n",
       "    <tr>\n",
       "      <th>CM042346.1-338202655</th>\n",
       "      <td>721</td>\n",
       "      <td>2553</td>\n",
       "      <td>1.789080</td>\n",
       "      <td>3.14197</td>\n",
       "      <td>806</td>\n",
       "      <td>0</td>\n",
       "      <td>0</td>\n",
       "      <td>0</td>\n",
       "      <td>999.0</td>\n",
       "      <td>2</td>\n",
       "      <td>...</td>\n",
       "      <td>0.092051</td>\n",
       "      <td>1.000000e+00</td>\n",
       "      <td>1.000000e+00</td>\n",
       "      <td>0.920283</td>\n",
       "      <td>T</td>\n",
       "      <td>G</td>\n",
       "      <td>0.985112</td>\n",
       "      <td>0.014888</td>\n",
       "      <td>0.014888</td>\n",
       "      <td>-0.013854</td>\n",
       "    </tr>\n",
       "    <tr>\n",
       "      <th>CM042346.1-338204096</th>\n",
       "      <td>675</td>\n",
       "      <td>3421</td>\n",
       "      <td>1.674940</td>\n",
       "      <td>5.69755</td>\n",
       "      <td>806</td>\n",
       "      <td>0</td>\n",
       "      <td>0</td>\n",
       "      <td>0</td>\n",
       "      <td>999.0</td>\n",
       "      <td>2</td>\n",
       "      <td>...</td>\n",
       "      <td>0.077154</td>\n",
       "      <td>1.000000e+00</td>\n",
       "      <td>1.000000e+00</td>\n",
       "      <td>0.933195</td>\n",
       "      <td>G</td>\n",
       "      <td>C</td>\n",
       "      <td>0.986352</td>\n",
       "      <td>0.013648</td>\n",
       "      <td>0.013648</td>\n",
       "      <td>-0.012579</td>\n",
       "    </tr>\n",
       "    <tr>\n",
       "      <th>CM042346.1-338208546</th>\n",
       "      <td>1137</td>\n",
       "      <td>5783</td>\n",
       "      <td>2.821340</td>\n",
       "      <td>6.40581</td>\n",
       "      <td>806</td>\n",
       "      <td>0</td>\n",
       "      <td>0</td>\n",
       "      <td>0</td>\n",
       "      <td>999.0</td>\n",
       "      <td>2</td>\n",
       "      <td>...</td>\n",
       "      <td>0.051389</td>\n",
       "      <td>1.000000e+00</td>\n",
       "      <td>1.000000e+00</td>\n",
       "      <td>0.955862</td>\n",
       "      <td>G</td>\n",
       "      <td>A</td>\n",
       "      <td>0.988834</td>\n",
       "      <td>0.011166</td>\n",
       "      <td>0.011166</td>\n",
       "      <td>-0.010038</td>\n",
       "    </tr>\n",
       "    <tr>\n",
       "      <th>CM042346.1-338258033</th>\n",
       "      <td>828</td>\n",
       "      <td>4118</td>\n",
       "      <td>2.054590</td>\n",
       "      <td>6.01194</td>\n",
       "      <td>806</td>\n",
       "      <td>0</td>\n",
       "      <td>0</td>\n",
       "      <td>0</td>\n",
       "      <td>999.0</td>\n",
       "      <td>2</td>\n",
       "      <td>...</td>\n",
       "      <td>0.260928</td>\n",
       "      <td>1.000000e+00</td>\n",
       "      <td>1.000000e+00</td>\n",
       "      <td>0.785369</td>\n",
       "      <td>C</td>\n",
       "      <td>T</td>\n",
       "      <td>0.975186</td>\n",
       "      <td>0.024814</td>\n",
       "      <td>0.024814</td>\n",
       "      <td>-0.024173</td>\n",
       "    </tr>\n",
       "  </tbody>\n",
       "</table>\n",
       "<p>44112 rows × 25 columns</p>\n",
       "</div>"
      ],
      "text/plain": [
       "                      SUM_DEPTH  SUMSQ_DEPTH  MEAN_DEPTH  VAR_DEPTH  N_DATA  \\\n",
       "CM042338.1-126072           325          869    0.806452    1.50971     806   \n",
       "CM042338.1-1342981          629         2831    1.560790    4.60015     806   \n",
       "CM042338.1-1496841         1040         6738    2.580650   10.08490     806   \n",
       "CM042338.1-1744222          667         3403    1.655090    5.71905     806   \n",
       "CM042338.1-1942811          614         3804    1.523570    7.13564     806   \n",
       "...                         ...          ...         ...        ...     ...   \n",
       "CM042346.1-338104939        746         2732    1.851120    3.36086     806   \n",
       "CM042346.1-338202655        721         2553    1.789080    3.14197     806   \n",
       "CM042346.1-338204096        675         3421    1.674940    5.69755     806   \n",
       "CM042346.1-338208546       1137         5783    2.821340    6.40581     806   \n",
       "CM042346.1-338258033        828         4118    2.054590    6.01194     806   \n",
       "\n",
       "                      N_GENOTYPE_FILTERED  N_MISS  F_MISS   QUAL N_ALLELES  \\\n",
       "CM042338.1-126072                       0       0       0  999.0         2   \n",
       "CM042338.1-1342981                      0       0       0  999.0         2   \n",
       "CM042338.1-1496841                      0       0       0  999.0         2   \n",
       "CM042338.1-1744222                      0       0       0  999.0         2   \n",
       "CM042338.1-1942811                      0       0       0  999.0         2   \n",
       "...                                   ...     ...     ...    ...       ...   \n",
       "CM042346.1-338104939                    0       0       0  999.0         2   \n",
       "CM042346.1-338202655                    0       0       0  999.0         2   \n",
       "CM042346.1-338204096                    0       0       0  999.0         2   \n",
       "CM042346.1-338208546                    0       0       0  999.0         2   \n",
       "CM042346.1-338258033                    0       0       0  999.0         2   \n",
       "\n",
       "                      ...  ChiSq_HWE         P_HWE P_HET_DEFICIT P_HET_EXCESS  \\\n",
       "CM042338.1-126072     ...  53.073740  2.518773e-08  2.518773e-08     1.000000   \n",
       "CM042338.1-1342981    ...   5.041315  4.298719e-02  3.018760e-02     0.990461   \n",
       "CM042338.1-1496841    ...   0.063603  1.000000e+00  1.000000e+00     0.945068   \n",
       "CM042338.1-1744222    ...   0.108304  1.000000e+00  1.000000e+00     0.906375   \n",
       "CM042338.1-1942811    ...   0.000062  1.000000e+00  6.387059e-01     0.748395   \n",
       "...                   ...        ...           ...           ...          ...   \n",
       "CM042346.1-338104939  ...   0.051389  1.000000e+00  1.000000e+00     0.955862   \n",
       "CM042346.1-338202655  ...   0.092051  1.000000e+00  1.000000e+00     0.920283   \n",
       "CM042346.1-338204096  ...   0.077154  1.000000e+00  1.000000e+00     0.933195   \n",
       "CM042346.1-338208546  ...   0.051389  1.000000e+00  1.000000e+00     0.955862   \n",
       "CM042346.1-338258033  ...   0.260928  1.000000e+00  1.000000e+00     0.785369   \n",
       "\n",
       "                     A1_allele  A2_allele   A1_freq   A2_freq       MAF  \\\n",
       "CM042338.1-126072            C          G  0.921836  0.078164  0.078164   \n",
       "CM042338.1-1342981           G          A  0.900744  0.099256  0.099256   \n",
       "CM042338.1-1496841           G          C  0.987593  0.012407  0.012407   \n",
       "CM042338.1-1744222           A          T  0.983871  0.016129  0.016129   \n",
       "CM042338.1-1942811           G          A  0.950372  0.049628  0.049628   \n",
       "...                        ...        ...       ...       ...       ...   \n",
       "CM042346.1-338104939         C          A  0.988834  0.011166  0.011166   \n",
       "CM042346.1-338202655         T          G  0.985112  0.014888  0.014888   \n",
       "CM042346.1-338204096         G          C  0.986352  0.013648  0.013648   \n",
       "CM042346.1-338208546         G          A  0.988834  0.011166  0.011166   \n",
       "CM042346.1-338258033         C          T  0.975186  0.024814  0.024814   \n",
       "\n",
       "                           Fis  \n",
       "CM042338.1-126072     0.363691  \n",
       "CM042338.1-1342981    0.112948  \n",
       "CM042338.1-1496841   -0.011307  \n",
       "CM042338.1-1744222   -0.015132  \n",
       "CM042338.1-1942811    0.001632  \n",
       "...                        ...  \n",
       "CM042346.1-338104939 -0.010038  \n",
       "CM042346.1-338202655 -0.013854  \n",
       "CM042346.1-338204096 -0.012579  \n",
       "CM042346.1-338208546 -0.010038  \n",
       "CM042346.1-338258033 -0.024173  \n",
       "\n",
       "[44112 rows x 25 columns]"
      ]
     },
     "execution_count": 57,
     "metadata": {},
     "output_type": "execute_result"
    }
   ],
   "source": [
    "loci_df"
   ]
  },
  {
   "cell_type": "code",
   "execution_count": 58,
   "metadata": {},
   "outputs": [
    {
     "data": {
      "text/html": [
       "<div>\n",
       "<style scoped>\n",
       "    .dataframe tbody tr th:only-of-type {\n",
       "        vertical-align: middle;\n",
       "    }\n",
       "\n",
       "    .dataframe tbody tr th {\n",
       "        vertical-align: top;\n",
       "    }\n",
       "\n",
       "    .dataframe thead th {\n",
       "        text-align: right;\n",
       "    }\n",
       "</style>\n",
       "<table border=\"1\" class=\"dataframe\">\n",
       "  <thead>\n",
       "    <tr style=\"text-align: right;\">\n",
       "      <th></th>\n",
       "      <th>CHROM</th>\n",
       "      <th>POS</th>\n",
       "      <th>N_ALLELES</th>\n",
       "      <th>N_CHR</th>\n",
       "      <th>A1_FREQ</th>\n",
       "      <th>A2_FREQ</th>\n",
       "    </tr>\n",
       "  </thead>\n",
       "  <tbody>\n",
       "    <tr>\n",
       "      <th>CM042338.1-126072</th>\n",
       "      <td>CM042338.1</td>\n",
       "      <td>126072</td>\n",
       "      <td>2</td>\n",
       "      <td>806</td>\n",
       "      <td>C:0.921836</td>\n",
       "      <td>G:0.0781638</td>\n",
       "    </tr>\n",
       "    <tr>\n",
       "      <th>CM042338.1-1342981</th>\n",
       "      <td>CM042338.1</td>\n",
       "      <td>1342981</td>\n",
       "      <td>2</td>\n",
       "      <td>806</td>\n",
       "      <td>G:0.900744</td>\n",
       "      <td>A:0.0992556</td>\n",
       "    </tr>\n",
       "    <tr>\n",
       "      <th>CM042338.1-1496841</th>\n",
       "      <td>CM042338.1</td>\n",
       "      <td>1496841</td>\n",
       "      <td>2</td>\n",
       "      <td>806</td>\n",
       "      <td>G:0.987593</td>\n",
       "      <td>C:0.0124069</td>\n",
       "    </tr>\n",
       "    <tr>\n",
       "      <th>CM042338.1-1744222</th>\n",
       "      <td>CM042338.1</td>\n",
       "      <td>1744222</td>\n",
       "      <td>2</td>\n",
       "      <td>806</td>\n",
       "      <td>A:0.983871</td>\n",
       "      <td>T:0.016129</td>\n",
       "    </tr>\n",
       "    <tr>\n",
       "      <th>CM042338.1-1942811</th>\n",
       "      <td>CM042338.1</td>\n",
       "      <td>1942811</td>\n",
       "      <td>2</td>\n",
       "      <td>806</td>\n",
       "      <td>G:0.950372</td>\n",
       "      <td>A:0.0496278</td>\n",
       "    </tr>\n",
       "    <tr>\n",
       "      <th>...</th>\n",
       "      <td>...</td>\n",
       "      <td>...</td>\n",
       "      <td>...</td>\n",
       "      <td>...</td>\n",
       "      <td>...</td>\n",
       "      <td>...</td>\n",
       "    </tr>\n",
       "    <tr>\n",
       "      <th>CM042346.1-338104939</th>\n",
       "      <td>CM042346.1</td>\n",
       "      <td>338104939</td>\n",
       "      <td>2</td>\n",
       "      <td>806</td>\n",
       "      <td>C:0.988834</td>\n",
       "      <td>A:0.0111663</td>\n",
       "    </tr>\n",
       "    <tr>\n",
       "      <th>CM042346.1-338202655</th>\n",
       "      <td>CM042346.1</td>\n",
       "      <td>338202655</td>\n",
       "      <td>2</td>\n",
       "      <td>806</td>\n",
       "      <td>T:0.985112</td>\n",
       "      <td>G:0.0148883</td>\n",
       "    </tr>\n",
       "    <tr>\n",
       "      <th>CM042346.1-338204096</th>\n",
       "      <td>CM042346.1</td>\n",
       "      <td>338204096</td>\n",
       "      <td>2</td>\n",
       "      <td>806</td>\n",
       "      <td>G:0.986352</td>\n",
       "      <td>C:0.0136476</td>\n",
       "    </tr>\n",
       "    <tr>\n",
       "      <th>CM042346.1-338208546</th>\n",
       "      <td>CM042346.1</td>\n",
       "      <td>338208546</td>\n",
       "      <td>2</td>\n",
       "      <td>806</td>\n",
       "      <td>G:0.988834</td>\n",
       "      <td>A:0.0111663</td>\n",
       "    </tr>\n",
       "    <tr>\n",
       "      <th>CM042346.1-338258033</th>\n",
       "      <td>CM042346.1</td>\n",
       "      <td>338258033</td>\n",
       "      <td>2</td>\n",
       "      <td>806</td>\n",
       "      <td>C:0.975186</td>\n",
       "      <td>T:0.0248139</td>\n",
       "    </tr>\n",
       "  </tbody>\n",
       "</table>\n",
       "<p>44112 rows × 6 columns</p>\n",
       "</div>"
      ],
      "text/plain": [
       "                           CHROM        POS N_ALLELES N_CHR     A1_FREQ  \\\n",
       "CM042338.1-126072     CM042338.1     126072         2   806  C:0.921836   \n",
       "CM042338.1-1342981    CM042338.1    1342981         2   806  G:0.900744   \n",
       "CM042338.1-1496841    CM042338.1    1496841         2   806  G:0.987593   \n",
       "CM042338.1-1744222    CM042338.1    1744222         2   806  A:0.983871   \n",
       "CM042338.1-1942811    CM042338.1    1942811         2   806  G:0.950372   \n",
       "...                          ...        ...       ...   ...         ...   \n",
       "CM042346.1-338104939  CM042346.1  338104939         2   806  C:0.988834   \n",
       "CM042346.1-338202655  CM042346.1  338202655         2   806  T:0.985112   \n",
       "CM042346.1-338204096  CM042346.1  338204096         2   806  G:0.986352   \n",
       "CM042346.1-338208546  CM042346.1  338208546         2   806  G:0.988834   \n",
       "CM042346.1-338258033  CM042346.1  338258033         2   806  C:0.975186   \n",
       "\n",
       "                          A2_FREQ  \n",
       "CM042338.1-126072     G:0.0781638  \n",
       "CM042338.1-1342981    A:0.0992556  \n",
       "CM042338.1-1496841    C:0.0124069  \n",
       "CM042338.1-1744222     T:0.016129  \n",
       "CM042338.1-1942811    A:0.0496278  \n",
       "...                           ...  \n",
       "CM042346.1-338104939  A:0.0111663  \n",
       "CM042346.1-338202655  G:0.0148883  \n",
       "CM042346.1-338204096  C:0.0136476  \n",
       "CM042346.1-338208546  A:0.0111663  \n",
       "CM042346.1-338258033  T:0.0248139  \n",
       "\n",
       "[44112 rows x 6 columns]"
      ]
     },
     "execution_count": 58,
     "metadata": {},
     "output_type": "execute_result"
    }
   ],
   "source": [
    "frq_df"
   ]
  },
  {
   "cell_type": "code",
   "execution_count": 59,
   "metadata": {},
   "outputs": [
    {
     "data": {
      "text/html": [
       "<div>\n",
       "<style scoped>\n",
       "    .dataframe tbody tr th:only-of-type {\n",
       "        vertical-align: middle;\n",
       "    }\n",
       "\n",
       "    .dataframe tbody tr th {\n",
       "        vertical-align: top;\n",
       "    }\n",
       "\n",
       "    .dataframe thead th {\n",
       "        text-align: right;\n",
       "    }\n",
       "</style>\n",
       "<table border=\"1\" class=\"dataframe\">\n",
       "  <thead>\n",
       "    <tr style=\"text-align: right;\">\n",
       "      <th></th>\n",
       "      <th>CHROM</th>\n",
       "      <th>POS</th>\n",
       "      <th>OBS(HOM1/HET/HOM2)</th>\n",
       "      <th>E(HOM1/HET/HOM2)</th>\n",
       "      <th>ChiSq_HWE</th>\n",
       "      <th>P_HWE</th>\n",
       "      <th>P_HET_DEFICIT</th>\n",
       "      <th>P_HET_EXCESS</th>\n",
       "    </tr>\n",
       "  </thead>\n",
       "  <tbody>\n",
       "    <tr>\n",
       "      <th>CM042338.1-126072</th>\n",
       "      <td>CM042338.1</td>\n",
       "      <td>126072</td>\n",
       "      <td>353/37/13</td>\n",
       "      <td>342.46/58.08/2.46</td>\n",
       "      <td>53.073740</td>\n",
       "      <td>2.518773e-08</td>\n",
       "      <td>2.518773e-08</td>\n",
       "      <td>1.000000</td>\n",
       "    </tr>\n",
       "    <tr>\n",
       "      <th>CM042338.1-1342981</th>\n",
       "      <td>CM042338.1</td>\n",
       "      <td>1342981</td>\n",
       "      <td>331/64/8</td>\n",
       "      <td>326.97/72.06/3.97</td>\n",
       "      <td>5.041315</td>\n",
       "      <td>4.298719e-02</td>\n",
       "      <td>3.018760e-02</td>\n",
       "      <td>0.990461</td>\n",
       "    </tr>\n",
       "    <tr>\n",
       "      <th>CM042338.1-1496841</th>\n",
       "      <td>CM042338.1</td>\n",
       "      <td>1496841</td>\n",
       "      <td>393/10/0</td>\n",
       "      <td>393.06/9.88/0.06</td>\n",
       "      <td>0.063603</td>\n",
       "      <td>1.000000e+00</td>\n",
       "      <td>1.000000e+00</td>\n",
       "      <td>0.945068</td>\n",
       "    </tr>\n",
       "    <tr>\n",
       "      <th>CM042338.1-1744222</th>\n",
       "      <td>CM042338.1</td>\n",
       "      <td>1744222</td>\n",
       "      <td>390/13/0</td>\n",
       "      <td>390.10/12.79/0.10</td>\n",
       "      <td>0.108304</td>\n",
       "      <td>1.000000e+00</td>\n",
       "      <td>1.000000e+00</td>\n",
       "      <td>0.906375</td>\n",
       "    </tr>\n",
       "    <tr>\n",
       "      <th>CM042338.1-1942811</th>\n",
       "      <td>CM042338.1</td>\n",
       "      <td>1942811</td>\n",
       "      <td>364/38/1</td>\n",
       "      <td>363.99/38.01/0.99</td>\n",
       "      <td>0.000062</td>\n",
       "      <td>1.000000e+00</td>\n",
       "      <td>6.387059e-01</td>\n",
       "      <td>0.748395</td>\n",
       "    </tr>\n",
       "    <tr>\n",
       "      <th>...</th>\n",
       "      <td>...</td>\n",
       "      <td>...</td>\n",
       "      <td>...</td>\n",
       "      <td>...</td>\n",
       "      <td>...</td>\n",
       "      <td>...</td>\n",
       "      <td>...</td>\n",
       "      <td>...</td>\n",
       "    </tr>\n",
       "    <tr>\n",
       "      <th>CM042346.1-338104939</th>\n",
       "      <td>CM042346.1</td>\n",
       "      <td>338104939</td>\n",
       "      <td>394/9/0</td>\n",
       "      <td>394.05/8.90/0.05</td>\n",
       "      <td>0.051389</td>\n",
       "      <td>1.000000e+00</td>\n",
       "      <td>1.000000e+00</td>\n",
       "      <td>0.955862</td>\n",
       "    </tr>\n",
       "    <tr>\n",
       "      <th>CM042346.1-338202655</th>\n",
       "      <td>CM042346.1</td>\n",
       "      <td>338202655</td>\n",
       "      <td>391/12/0</td>\n",
       "      <td>391.09/11.82/0.09</td>\n",
       "      <td>0.092051</td>\n",
       "      <td>1.000000e+00</td>\n",
       "      <td>1.000000e+00</td>\n",
       "      <td>0.920283</td>\n",
       "    </tr>\n",
       "    <tr>\n",
       "      <th>CM042346.1-338204096</th>\n",
       "      <td>CM042346.1</td>\n",
       "      <td>338204096</td>\n",
       "      <td>392/11/0</td>\n",
       "      <td>392.08/10.85/0.08</td>\n",
       "      <td>0.077154</td>\n",
       "      <td>1.000000e+00</td>\n",
       "      <td>1.000000e+00</td>\n",
       "      <td>0.933195</td>\n",
       "    </tr>\n",
       "    <tr>\n",
       "      <th>CM042346.1-338208546</th>\n",
       "      <td>CM042346.1</td>\n",
       "      <td>338208546</td>\n",
       "      <td>394/9/0</td>\n",
       "      <td>394.05/8.90/0.05</td>\n",
       "      <td>0.051389</td>\n",
       "      <td>1.000000e+00</td>\n",
       "      <td>1.000000e+00</td>\n",
       "      <td>0.955862</td>\n",
       "    </tr>\n",
       "    <tr>\n",
       "      <th>CM042346.1-338258033</th>\n",
       "      <td>CM042346.1</td>\n",
       "      <td>338258033</td>\n",
       "      <td>383/20/0</td>\n",
       "      <td>383.25/19.50/0.25</td>\n",
       "      <td>0.260928</td>\n",
       "      <td>1.000000e+00</td>\n",
       "      <td>1.000000e+00</td>\n",
       "      <td>0.785369</td>\n",
       "    </tr>\n",
       "  </tbody>\n",
       "</table>\n",
       "<p>44112 rows × 8 columns</p>\n",
       "</div>"
      ],
      "text/plain": [
       "                           CHROM        POS OBS(HOM1/HET/HOM2)  \\\n",
       "CM042338.1-126072     CM042338.1     126072          353/37/13   \n",
       "CM042338.1-1342981    CM042338.1    1342981           331/64/8   \n",
       "CM042338.1-1496841    CM042338.1    1496841           393/10/0   \n",
       "CM042338.1-1744222    CM042338.1    1744222           390/13/0   \n",
       "CM042338.1-1942811    CM042338.1    1942811           364/38/1   \n",
       "...                          ...        ...                ...   \n",
       "CM042346.1-338104939  CM042346.1  338104939            394/9/0   \n",
       "CM042346.1-338202655  CM042346.1  338202655           391/12/0   \n",
       "CM042346.1-338204096  CM042346.1  338204096           392/11/0   \n",
       "CM042346.1-338208546  CM042346.1  338208546            394/9/0   \n",
       "CM042346.1-338258033  CM042346.1  338258033           383/20/0   \n",
       "\n",
       "                       E(HOM1/HET/HOM2)  ChiSq_HWE         P_HWE  \\\n",
       "CM042338.1-126072     342.46/58.08/2.46  53.073740  2.518773e-08   \n",
       "CM042338.1-1342981    326.97/72.06/3.97   5.041315  4.298719e-02   \n",
       "CM042338.1-1496841     393.06/9.88/0.06   0.063603  1.000000e+00   \n",
       "CM042338.1-1744222    390.10/12.79/0.10   0.108304  1.000000e+00   \n",
       "CM042338.1-1942811    363.99/38.01/0.99   0.000062  1.000000e+00   \n",
       "...                                 ...        ...           ...   \n",
       "CM042346.1-338104939   394.05/8.90/0.05   0.051389  1.000000e+00   \n",
       "CM042346.1-338202655  391.09/11.82/0.09   0.092051  1.000000e+00   \n",
       "CM042346.1-338204096  392.08/10.85/0.08   0.077154  1.000000e+00   \n",
       "CM042346.1-338208546   394.05/8.90/0.05   0.051389  1.000000e+00   \n",
       "CM042346.1-338258033  383.25/19.50/0.25   0.260928  1.000000e+00   \n",
       "\n",
       "                      P_HET_DEFICIT  P_HET_EXCESS  \n",
       "CM042338.1-126072      2.518773e-08      1.000000  \n",
       "CM042338.1-1342981     3.018760e-02      0.990461  \n",
       "CM042338.1-1496841     1.000000e+00      0.945068  \n",
       "CM042338.1-1744222     1.000000e+00      0.906375  \n",
       "CM042338.1-1942811     6.387059e-01      0.748395  \n",
       "...                             ...           ...  \n",
       "CM042346.1-338104939   1.000000e+00      0.955862  \n",
       "CM042346.1-338202655   1.000000e+00      0.920283  \n",
       "CM042346.1-338204096   1.000000e+00      0.933195  \n",
       "CM042346.1-338208546   1.000000e+00      0.955862  \n",
       "CM042346.1-338258033   1.000000e+00      0.785369  \n",
       "\n",
       "[44112 rows x 8 columns]"
      ]
     },
     "execution_count": 59,
     "metadata": {},
     "output_type": "execute_result"
    }
   ],
   "source": [
    "hardy"
   ]
  },
  {
   "cell_type": "code",
   "execution_count": 60,
   "metadata": {},
   "outputs": [],
   "source": [
    "loci_out = os.path.join(analysis_dir,'loci_out.csv')\n",
    "frq_out = os.path.join(analysis_dir,'frq_out.csv')\n",
    "hardy_out = os.path.join(analysis_dir,'hardy_out.csv')\n",
    "\n",
    "loci_df.to_csv(path_or_buf=loci_out)\n",
    "frq_df.to_csv(path_or_buf=frq_out)\n",
    "hardy.to_csv(path_or_buf=hardy_out)\n"
   ]
  },
  {
   "cell_type": "code",
   "execution_count": 61,
   "metadata": {},
   "outputs": [
    {
     "data": {
      "text/plain": [
       "count    44112.000000\n",
       "mean       746.701714\n",
       "std       1000.961129\n",
       "min        231.000000\n",
       "25%        437.000000\n",
       "50%        601.000000\n",
       "75%        874.000000\n",
       "max      93204.000000\n",
       "Name: SUM_DEPTH, dtype: float64"
      ]
     },
     "execution_count": 61,
     "metadata": {},
     "output_type": "execute_result"
    }
   ],
   "source": [
    "loci_df.SUM_DEPTH.describe()"
   ]
  },
  {
   "cell_type": "code",
   "execution_count": 62,
   "metadata": {},
   "outputs": [
    {
     "data": {
      "text/plain": [
       "count    44112.000000\n",
       "mean         1.852858\n",
       "std          2.483773\n",
       "min          0.573201\n",
       "25%          1.084370\n",
       "50%          1.491320\n",
       "75%          2.168730\n",
       "max        231.275000\n",
       "Name: MEAN_DEPTH, dtype: float64"
      ]
     },
     "execution_count": 62,
     "metadata": {},
     "output_type": "execute_result"
    }
   ],
   "source": [
    "loci_df.MEAN_DEPTH.describe()"
   ]
  },
  {
   "cell_type": "code",
   "execution_count": 63,
   "metadata": {},
   "outputs": [
    {
     "data": {
      "text/plain": [
       "count    44112.000000\n",
       "mean       990.743075\n",
       "std         85.721033\n",
       "min          3.935900\n",
       "25%        999.000000\n",
       "50%        999.000000\n",
       "75%        999.000000\n",
       "max        999.000000\n",
       "Name: QUAL, dtype: float64"
      ]
     },
     "execution_count": 63,
     "metadata": {},
     "output_type": "execute_result"
    }
   ],
   "source": [
    "loci_df.QUAL.describe()"
   ]
  },
  {
   "cell_type": "code",
   "execution_count": 64,
   "metadata": {
    "scrolled": true
   },
   "outputs": [
    {
     "data": {
      "image/png": "[encoded data removed]",
      "text/plain": [
       "<Figure size 432x288 with 1 Axes>"
      ]
     },
     "metadata": {
      "image/png": {
       "height": 248,
       "width": 401
      },
      "needs_background": "light"
     },
     "output_type": "display_data"
    }
   ],
   "source": [
    "loci_df.QUAL.plot(kind=\"hist\");"
   ]
  },
  {
   "cell_type": "code",
   "execution_count": 65,
   "metadata": {},
   "outputs": [
    {
     "data": {
      "image/png": "[encoded data removed]",
      "text/plain": [
       "<Figure size 432x288 with 1 Axes>"
      ]
     },
     "metadata": {
      "image/png": {
       "height": 248,
       "width": 401
      },
      "needs_background": "light"
     },
     "output_type": "display_data"
    }
   ],
   "source": [
    "loci_df.MEAN_DEPTH.plot(kind=\"hist\");"
   ]
  },
  {
   "cell_type": "code",
   "execution_count": 66,
   "metadata": {},
   "outputs": [
    {
     "data": {
      "text/plain": [
       "0"
      ]
     },
     "execution_count": 66,
     "metadata": {},
     "output_type": "execute_result"
    }
   ],
   "source": [
    "len(loci_df[loci_df.Fis == -9])"
   ]
  },
  {
   "cell_type": "code",
   "execution_count": 67,
   "metadata": {},
   "outputs": [
    {
     "data": {
      "text/plain": [
       "(44071, 44112)"
      ]
     },
     "execution_count": 67,
     "metadata": {},
     "output_type": "execute_result"
    }
   ],
   "source": [
    "len(loci_df[loci_df.SUM_DEPTH <5000]),len(loci_df[loci_df.SUM_DEPTH >=200])"
   ]
  },
  {
   "cell_type": "code",
   "execution_count": 68,
   "metadata": {},
   "outputs": [
    {
     "data": {
      "text/plain": [
       "(12, 13092)"
      ]
     },
     "execution_count": 68,
     "metadata": {},
     "output_type": "execute_result"
    }
   ],
   "source": [
    "len(loci_df[loci_df.MEAN_DEPTH > 25 ]),len(loci_df[loci_df.MEAN_DEPTH >= 2])"
   ]
  },
  {
   "cell_type": "code",
   "execution_count": 69,
   "metadata": {},
   "outputs": [
    {
     "data": {
      "text/plain": [
       "4"
      ]
     },
     "execution_count": 69,
     "metadata": {},
     "output_type": "execute_result"
    }
   ],
   "source": [
    "len(loci_df[loci_df.QUAL >= 20]) - len(loci_df[loci_df.QUAL >= 30])"
   ]
  },
  {
   "cell_type": "code",
   "execution_count": 70,
   "metadata": {},
   "outputs": [
    {
     "data": {
      "text/plain": [
       "(44108, 44087, 43939)"
      ]
     },
     "execution_count": 70,
     "metadata": {},
     "output_type": "execute_result"
    }
   ],
   "source": [
    "len(loci_df[loci_df.QUAL >  20]), len(loci_df[loci_df.QUAL > 50]), len(loci_df[loci_df.QUAL > 100])"
   ]
  },
  {
   "cell_type": "code",
   "execution_count": 71,
   "metadata": {},
   "outputs": [
    {
     "data": {
      "text/plain": [
       "(130, 2)"
      ]
     },
     "execution_count": 71,
     "metadata": {},
     "output_type": "execute_result"
    }
   ],
   "source": [
    " len(loci_df[loci_df.Fis <= -0.5]), len(loci_df[loci_df.MAF < 0.01])"
   ]
  },
  {
   "cell_type": "code",
   "execution_count": 72,
   "metadata": {},
   "outputs": [],
   "source": [
    "def filter_snps(df, imputed=False):\n",
    "    if imputed:\n",
    "        return df[(df.MAF >= 0.01) &  \n",
    "                  (df.Fis > -0.5)]\n",
    "    else:\n",
    "        return df[(df.MEAN_DEPTH >= 2) & \n",
    "                  (df.MEAN_DEPTH < 25) & \n",
    "                  (df.QUAL >= 100) & \n",
    "                  (df.MAF >= 0.01) &\n",
    "                  (df.Fis >= -0.5)]"
   ]
  },
  {
   "cell_type": "code",
   "execution_count": 73,
   "metadata": {},
   "outputs": [
    {
     "data": {
      "text/plain": [
       "(13003, 25)"
      ]
     },
     "execution_count": 73,
     "metadata": {},
     "output_type": "execute_result"
    }
   ],
   "source": [
    "loci_stage1 = filter_snps(loci_df)\n",
    "loci_stage1.shape"
   ]
  },
  {
   "cell_type": "code",
   "execution_count": 74,
   "metadata": {},
   "outputs": [],
   "source": [
    "with open(os.path.join(analysis_dir, \"stage1_positions.txt\"), \"w\") as o:\n",
    "    for elem in loci_stage1.index:\n",
    "        o.write(\"%s\\n\" % \"\\t\".join(elem.split(\"-\")))"
   ]
  },
  {
   "cell_type": "code",
   "execution_count": 75,
   "metadata": {
    "run_control": {
     "marked": false
    }
   },
   "outputs": [
    {
     "name": "stdout",
     "output_type": "stream",
     "text": [
      "\n",
      "VCFtools - 0.1.16\n",
      "(C) Adam Auton and Anthony Marcketta 2009\n",
      "\n",
      "Parameters as interpreted:\n",
      "\t--gzvcf /data/gpfs/assoc/denovo/tfaske/sagebrush/SNPcall/ATAV2/filtering/snps_indv_removed.recode.vcf.gz\n",
      "\t--recode-INFO-all\n",
      "\t--out /data/gpfs/assoc/denovo/tfaske/sagebrush/SNPcall/ATAV2/filtering/good_snps\n",
      "\t--positions /data/gpfs/assoc/denovo/tfaske/sagebrush/SNPcall/ATAV2/filtering/stage1_positions.txt\n",
      "\t--recode\n",
      "\t--remove-filtered-all\n",
      "\t--remove-indels\n",
      "\n",
      "Using zlib version: 1.2.11\n",
      "Warning: Expected at least 2 parts in INFO entry: ID=PV4,Number=4,Type=Float,Description=\"P-values for strand bias, baseQ bias, mapQ bias and tail distance bias\">\n",
      "Warning: Expected at least 2 parts in INFO entry: ID=PV4,Number=4,Type=Float,Description=\"P-values for strand bias, baseQ bias, mapQ bias and tail distance bias\">\n",
      "Warning: Expected at least 2 parts in INFO entry: ID=DP4,Number=4,Type=Integer,Description=\"Number of high-quality ref-forward , ref-reverse, alt-forward and alt-reverse bases\">\n",
      "Warning: Expected at least 2 parts in INFO entry: ID=DP4,Number=4,Type=Integer,Description=\"Number of high-quality ref-forward , ref-reverse, alt-forward and alt-reverse bases\">\n",
      "After filtering, kept 403 out of 403 Individuals\n",
      "Outputting VCF file...\n",
      "After filtering, kept 13003 out of a possible 44112 Sites\n",
      "Run Time = 11.00 seconds\n"
     ]
    }
   ],
   "source": [
    "!$vcftools --gzvcf $vcf_bad_remove_gz \\\n",
    "--remove-indels  \\\n",
    "--remove-filtered-all \\\n",
    "--recode \\\n",
    "--recode-INFO-all \\\n",
    "--positions {os.path.join(analysis_dir, \"stage1_positions.txt\")} \\\n",
    "--out {os.path.join(analysis_dir, \"good_snps\")}"
   ]
  },
  {
   "cell_type": "code",
   "execution_count": 76,
   "metadata": {},
   "outputs": [],
   "source": [
    "snps = os.path.join(analysis_dir, \"good_snps.recode.vcf\")\n",
    "snps_gz = snps + \".gz\"\n",
    "!$bgzip -c {snps} > {snps_gz}\n",
    "!$tabix {snps_gz}"
   ]
  },
  {
   "cell_type": "markdown",
   "metadata": {},
   "source": [
    "### Miss indv!"
   ]
  },
  {
   "cell_type": "code",
   "execution_count": 77,
   "metadata": {},
   "outputs": [],
   "source": [
    "%%R\n",
    "vcf <- read.vcfR(\"good_snps.recode.vcf\", verbose = FALSE)\n",
    "\n",
    "#get positions\n",
    "chrom <- getCHROM(vcf)\n",
    "pos <- getPOS(vcf)\n",
    "pos_ID <- paste(chrom,pos,sep = ':')"
   ]
  },
  {
   "cell_type": "code",
   "execution_count": 78,
   "metadata": {},
   "outputs": [],
   "source": [
    "%%R\n",
    "#get DP \n",
    "dp <- extract.gt(vcf, element = 'DP')"
   ]
  },
  {
   "cell_type": "code",
   "execution_count": 79,
   "metadata": {},
   "outputs": [
    {
     "name": "stdout",
     "output_type": "stream",
     "text": [
      "[1] 13003\n",
      " [1] \"CM042338.1:1496841\"  \"CM042338.1:6353755\"  \"CM042338.1:8177835\" \n",
      " [4] \"CM042338.1:8530959\"  \"CM042338.1:8548932\"  \"CM042338.1:8655617\" \n",
      " [7] \"CM042338.1:8698291\"  \"CM042338.1:10453589\" \"CM042338.1:10896687\"\n",
      "[10] \"CM042338.1:10966361\"\n",
      "                   AT2_BB_10 AT2_BB_11 AT2_BB_12 AT2_BB_13 AT2_BB_14\n",
      "CM042338.1_1496841 \"0\"       \"1\"       \"3\"       \"6\"       \"8\"      \n",
      "CM042338.1_6353755 \"7\"       \"3\"       \"5\"       \"5\"       \"6\"      \n",
      "CM042338.1_8177835 \"4\"       \"4\"       \"2\"       \"6\"       \"2\"      \n",
      "CM042338.1_8530959 \"30\"      \"15\"      \"4\"       \"13\"      \"8\"      \n",
      "CM042338.1_8548932 \"0\"       \"1\"       \"0\"       \"2\"       \"0\"      \n"
     ]
    }
   ],
   "source": [
    "%%R\n",
    "## check out PL and pos_ID\n",
    "print(length(pos_ID))\n",
    "print(pos_ID[1:10])\n",
    "dp[1:5,1:5]"
   ]
  },
  {
   "cell_type": "code",
   "execution_count": 80,
   "metadata": {},
   "outputs": [
    {
     "name": "stdout",
     "output_type": "stream",
     "text": [
      "[1] 403\n",
      " [1] \"AT2_BB_10\" \"AT2_BB_11\" \"AT2_BB_12\" \"AT2_BB_13\" \"AT2_BB_14\" \"AT2_BB_15\"\n",
      " [7] \"AT2_BB_16\" \"AT2_BB_17\" \"AT2_BB_1\"  \"AT2_BB_2\" \n"
     ]
    }
   ],
   "source": [
    "%%R\n",
    "ID <- colnames(dp)\n",
    "print(length(ID))\n",
    "print(ID[1:10])"
   ]
  },
  {
   "cell_type": "code",
   "execution_count": 81,
   "metadata": {},
   "outputs": [
    {
     "name": "stdout",
     "output_type": "stream",
     "text": [
      "[1] 403\n",
      "   Min. 1st Qu.  Median    Mean 3rd Qu.    Max. \n",
      "0.05868 0.14720 0.19565 0.20960 0.25413 0.78705 \n"
     ]
    }
   ],
   "source": [
    "%%R\n",
    "nloci <- nrow(dp)\n",
    "#print(nloci)\n",
    "\n",
    "miss_indv <- apply(dp,2, function(d) length(which(d == \"0\"))/nloci)\n",
    "print(length(miss_indv))\n",
    "print(summary(miss_indv))"
   ]
  },
  {
   "cell_type": "code",
   "execution_count": 82,
   "metadata": {},
   "outputs": [
    {
     "name": "stdout",
     "output_type": "stream",
     "text": [
      "[1] \"number of individuals with greater than 10% missing data.....  375\"\n",
      "[1] \"number of individuals with greater than 20% missing data.....  191\"\n",
      "[1] \"number of individuals with greater than 30% missing data.....  45\"\n",
      "[1] \"number of individuals with greater than 40% missing data.....  13\"\n",
      "[1] \"number of individuals with greater than 50% missing data.....  6\"\n",
      "[1] \"number of individuals with greater than 60% missing data.....  4\"\n",
      "[1] \"number of individuals with greater than 70% missing data.....  3\"\n",
      "[1] \"number of individuals with greater than 80% missing data.....  0\"\n",
      "[1] \"number of individuals with greater than 90% missing data.....  0\"\n"
     ]
    }
   ],
   "source": [
    "%%R\n",
    "for (perc in seq(.1,.9,by=.1)){\n",
    "    print(paste0('number of individuals with greater than ',perc*100,'% missing data.....  ',\n",
    "                 length(which(miss_indv >= perc))))\n",
    "}"
   ]
  },
  {
   "cell_type": "code",
   "execution_count": 84,
   "metadata": {},
   "outputs": [],
   "source": [
    "%%R\n",
    "miss50_indv_df <- data.frame(INDV=ID[which(miss_indv >= .50)])\n",
    "miss50_indv_df\n",
    "write.table(miss50_indv_df,'miss50_indv.txt',quote=F,row.names=F,col.names=T)"
   ]
  },
  {
   "cell_type": "markdown",
   "metadata": {},
   "source": [
    "### use vcftools to remove individuals and loci based off above parameters"
   ]
  },
  {
   "cell_type": "code",
   "execution_count": 85,
   "metadata": {},
   "outputs": [
    {
     "name": "stdout",
     "output_type": "stream",
     "text": [
      "\n",
      "VCFtools - 0.1.16\n",
      "(C) Adam Auton and Anthony Marcketta 2009\n",
      "\n",
      "Parameters as interpreted:\n",
      "\t--gzvcf /data/gpfs/assoc/denovo/tfaske/sagebrush/SNPcall/ATAV2/filtering/good_snps.recode.vcf.gz\n",
      "\t--remove /data/gpfs/assoc/denovo/tfaske/sagebrush/SNPcall/ATAV2/filtering/miss50_indv.txt\n",
      "\t--recode-INFO-all\n",
      "\t--out /data/gpfs/assoc/denovo/tfaske/sagebrush/SNPcall/ATAV2/filtering/final_snps\n",
      "\t--recode\n",
      "\t--remove-filtered-all\n",
      "\n",
      "Using zlib version: 1.2.11\n",
      "Warning: Expected at least 2 parts in INFO entry: ID=PV4,Number=4,Type=Float,Description=\"P-values for strand bias, baseQ bias, mapQ bias and tail distance bias\">\n",
      "Warning: Expected at least 2 parts in INFO entry: ID=PV4,Number=4,Type=Float,Description=\"P-values for strand bias, baseQ bias, mapQ bias and tail distance bias\">\n",
      "Warning: Expected at least 2 parts in INFO entry: ID=DP4,Number=4,Type=Integer,Description=\"Number of high-quality ref-forward , ref-reverse, alt-forward and alt-reverse bases\">\n",
      "Warning: Expected at least 2 parts in INFO entry: ID=DP4,Number=4,Type=Integer,Description=\"Number of high-quality ref-forward , ref-reverse, alt-forward and alt-reverse bases\">\n",
      "Excluding individuals in 'exclude' list\n",
      "After filtering, kept 397 out of 403 Individuals\n",
      "Outputting VCF file...\n",
      "After filtering, kept 13003 out of a possible 13003 Sites\n",
      "Run Time = 10.00 seconds\n"
     ]
    }
   ],
   "source": [
    "!$vcftools --gzvcf $snps_gz \\\n",
    "--remove-filtered-all \\\n",
    "--recode \\\n",
    "--recode-INFO-all \\\n",
    "--remove {os.path.join(analysis_dir, \"miss50_indv.txt\")} \\\n",
    "--out {os.path.join(analysis_dir, \"final_snps\")}"
   ]
  },
  {
   "cell_type": "code",
   "execution_count": 86,
   "metadata": {},
   "outputs": [],
   "source": [
    "final_snps = os.path.join(analysis_dir, \"final_snps.recode.vcf\")\n",
    "final_snps_gz = final_snps + \".gz\"\n",
    "!$bgzip -c {final_snps} > {final_snps_gz}\n",
    "!$tabix {final_snps_gz}"
   ]
  },
  {
   "cell_type": "markdown",
   "metadata": {},
   "source": [
    "# Make 012"
   ]
  },
  {
   "cell_type": "code",
   "execution_count": 87,
   "metadata": {},
   "outputs": [
    {
     "name": "stdout",
     "output_type": "stream",
     "text": [
      "\n",
      "VCFtools - 0.1.16\n",
      "(C) Adam Auton and Anthony Marcketta 2009\n",
      "\n",
      "Parameters as interpreted:\n",
      "\t--gzvcf /data/gpfs/assoc/denovo/tfaske/sagebrush/SNPcall/ATAV2/filtering/final_snps.recode.vcf\n",
      "\t--012\n",
      "\t--out /data/gpfs/assoc/denovo/tfaske/sagebrush/SNPcall/ATAV2/filtering/final_snps.recode.vcf\n",
      "\n",
      "Using zlib version: 1.2.11\n",
      "Warning: Expected at least 2 parts in INFO entry: ID=PV4,Number=4,Type=Float,Description=\"P-values for strand bias, baseQ bias, mapQ bias and tail distance bias\">\n",
      "Warning: Expected at least 2 parts in INFO entry: ID=PV4,Number=4,Type=Float,Description=\"P-values for strand bias, baseQ bias, mapQ bias and tail distance bias\">\n",
      "Warning: Expected at least 2 parts in INFO entry: ID=DP4,Number=4,Type=Integer,Description=\"Number of high-quality ref-forward , ref-reverse, alt-forward and alt-reverse bases\">\n",
      "Warning: Expected at least 2 parts in INFO entry: ID=DP4,Number=4,Type=Integer,Description=\"Number of high-quality ref-forward , ref-reverse, alt-forward and alt-reverse bases\">\n",
      "After filtering, kept 397 out of 397 Individuals\n",
      "Writing 012 matrix files ... Done.\n",
      "After filtering, kept 13003 out of a possible 13003 Sites\n",
      "Run Time = 2.00 seconds\n"
     ]
    }
   ],
   "source": [
    "f = os.path.join(analysis_dir, \"final_snps.recode.vcf\")\n",
    "!$vcftools --gzvcf {f} \\\n",
    "--out {f} \\\n",
    "--012"
   ]
  },
  {
   "cell_type": "markdown",
   "metadata": {},
   "source": [
    "# Get coverage per individual"
   ]
  },
  {
   "cell_type": "code",
   "execution_count": 88,
   "metadata": {
    "scrolled": true
   },
   "outputs": [
    {
     "name": "stdout",
     "output_type": "stream",
     "text": [
      "\n",
      "VCFtools - 0.1.16\n",
      "(C) Adam Auton and Anthony Marcketta 2009\n",
      "\n",
      "Parameters as interpreted:\n",
      "\t--gzvcf /data/gpfs/assoc/denovo/tfaske/sagebrush/SNPcall/ATAV2/filtering/final_snps.recode.vcf\n",
      "\t--depth\n",
      "\t--out /data/gpfs/assoc/denovo/tfaske/sagebrush/SNPcall/ATAV2/filtering/final_snps.recode.vcf\n",
      "\n",
      "Using zlib version: 1.2.11\n",
      "Warning: Expected at least 2 parts in INFO entry: ID=PV4,Number=4,Type=Float,Description=\"P-values for strand bias, baseQ bias, mapQ bias and tail distance bias\">\n",
      "Warning: Expected at least 2 parts in INFO entry: ID=PV4,Number=4,Type=Float,Description=\"P-values for strand bias, baseQ bias, mapQ bias and tail distance bias\">\n",
      "Warning: Expected at least 2 parts in INFO entry: ID=DP4,Number=4,Type=Integer,Description=\"Number of high-quality ref-forward , ref-reverse, alt-forward and alt-reverse bases\">\n",
      "Warning: Expected at least 2 parts in INFO entry: ID=DP4,Number=4,Type=Integer,Description=\"Number of high-quality ref-forward , ref-reverse, alt-forward and alt-reverse bases\">\n",
      "After filtering, kept 397 out of 397 Individuals\n",
      "Outputting Mean Depth by Individual\n",
      "After filtering, kept 13003 out of a possible 13003 Sites\n",
      "Run Time = 1.00 seconds\n"
     ]
    }
   ],
   "source": [
    "f = os.path.join(analysis_dir, \"final_snps.recode.vcf\")\n",
    "!$vcftools --gzvcf {f} \\\n",
    "--out {f} \\\n",
    "--depth"
   ]
  },
  {
   "cell_type": "code",
   "execution_count": 89,
   "metadata": {},
   "outputs": [
    {
     "data": {
      "text/html": [
       "<div>\n",
       "<style scoped>\n",
       "    .dataframe tbody tr th:only-of-type {\n",
       "        vertical-align: middle;\n",
       "    }\n",
       "\n",
       "    .dataframe tbody tr th {\n",
       "        vertical-align: top;\n",
       "    }\n",
       "\n",
       "    .dataframe thead th {\n",
       "        text-align: right;\n",
       "    }\n",
       "</style>\n",
       "<table border=\"1\" class=\"dataframe\">\n",
       "  <thead>\n",
       "    <tr style=\"text-align: right;\">\n",
       "      <th></th>\n",
       "      <th>INDV</th>\n",
       "      <th>N_SITES</th>\n",
       "      <th>MEAN_DEPTH</th>\n",
       "    </tr>\n",
       "  </thead>\n",
       "  <tbody>\n",
       "    <tr>\n",
       "      <th>0</th>\n",
       "      <td>AT2_BB_10</td>\n",
       "      <td>13003</td>\n",
       "      <td>5.14958</td>\n",
       "    </tr>\n",
       "    <tr>\n",
       "      <th>1</th>\n",
       "      <td>AT2_BB_11</td>\n",
       "      <td>13003</td>\n",
       "      <td>3.15827</td>\n",
       "    </tr>\n",
       "    <tr>\n",
       "      <th>2</th>\n",
       "      <td>AT2_BB_12</td>\n",
       "      <td>13003</td>\n",
       "      <td>2.74467</td>\n",
       "    </tr>\n",
       "    <tr>\n",
       "      <th>3</th>\n",
       "      <td>AT2_BB_13</td>\n",
       "      <td>13003</td>\n",
       "      <td>3.98416</td>\n",
       "    </tr>\n",
       "    <tr>\n",
       "      <th>4</th>\n",
       "      <td>AT2_BB_14</td>\n",
       "      <td>13003</td>\n",
       "      <td>5.50065</td>\n",
       "    </tr>\n",
       "  </tbody>\n",
       "</table>\n",
       "</div>"
      ],
      "text/plain": [
       "        INDV  N_SITES  MEAN_DEPTH\n",
       "0  AT2_BB_10    13003     5.14958\n",
       "1  AT2_BB_11    13003     3.15827\n",
       "2  AT2_BB_12    13003     2.74467\n",
       "3  AT2_BB_13    13003     3.98416\n",
       "4  AT2_BB_14    13003     5.50065"
      ]
     },
     "execution_count": 89,
     "metadata": {},
     "output_type": "execute_result"
    }
   ],
   "source": [
    "depth_file = os.path.join(analysis_dir, \"final_snps.recode.vcf.idepth\")\n",
    "depth_df = pd.read_csv(depth_file, sep=\"\\t\")\n",
    "depth_df.head()"
   ]
  },
  {
   "cell_type": "code",
   "execution_count": 90,
   "metadata": {},
   "outputs": [
    {
     "data": {
      "text/plain": [
       "count    397.000000\n",
       "mean       3.176034\n",
       "std        1.033001\n",
       "min        1.251250\n",
       "25%        2.361990\n",
       "50%        3.006540\n",
       "75%        3.810350\n",
       "max        7.006690\n",
       "Name: MEAN_DEPTH, dtype: float64"
      ]
     },
     "execution_count": 90,
     "metadata": {},
     "output_type": "execute_result"
    }
   ],
   "source": [
    "depth_df.MEAN_DEPTH.describe()"
   ]
  },
  {
   "cell_type": "markdown",
   "metadata": {},
   "source": [
    "# Remove unnecessary files"
   ]
  },
  {
   "cell_type": "code",
   "execution_count": 91,
   "metadata": {},
   "outputs": [],
   "source": [
    "!rm snps*"
   ]
  },
  {
   "cell_type": "code",
   "execution_count": 92,
   "metadata": {},
   "outputs": [],
   "source": [
    "!rm *vcf"
   ]
  },
  {
   "cell_type": "code",
   "execution_count": null,
   "metadata": {},
   "outputs": [],
   "source": []
  },
  {
   "cell_type": "code",
   "execution_count": null,
   "metadata": {},
   "outputs": [],
   "source": []
  }
 ],
 "metadata": {
  "kernelspec": {
   "display_name": "Python 3",
   "language": "python",
   "name": "python3"
  },
  "language_info": {
   "codemirror_mode": {
    "name": "ipython",
    "version": 3
   },
   "file_extension": ".py",
   "mimetype": "text/x-python",
   "name": "python",
   "nbconvert_exporter": "python",
   "pygments_lexer": "ipython3",
   "version": "3.6.7"
  }
 },
 "nbformat": 4,
 "nbformat_minor": 1
}
