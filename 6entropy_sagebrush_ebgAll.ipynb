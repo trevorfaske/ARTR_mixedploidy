{
 "cells": [
  {
   "cell_type": "markdown",
   "metadata": {},
   "source": [
    "# Does everything to run entropy and creates slurm files to submit\n",
    "\n",
    "## Run entropy with all diploid likelihoods from bcftools and all tetraploid likelihoods from ebg\n",
    "\n",
    "Goal is 4 chains k=2-7.\n",
    "\n",
    "**Creates mpgl file from PL in vcf and post-ebg**. \n",
    "\n",
    "**full pntest_mean and mpgl all file taken from 6entropy_sagebrush_diploidAll**\n"
   ]
  },
  {
   "cell_type": "code",
   "execution_count": 55,
   "metadata": {},
   "outputs": [
    {
     "name": "stdout",
     "output_type": "stream",
     "text": [
      "/usr/bin/sh: line 0: source: activate: file not found\r\n"
     ]
    }
   ],
   "source": [
    "!source activate py36"
   ]
  },
  {
   "cell_type": "code",
   "execution_count": 56,
   "metadata": {},
   "outputs": [],
   "source": [
    "import sys\n",
    "\n",
    "#sys.path.append('/home/faske/g/anaconda3/envs/py34/lib/python3.4/site-packages')\n",
    "sys.path.append('/data/gpfs/assoc/parchmanlab/tfaske/anaconda3/envs/py36/lib/python3.6/site-packages')\n",
    "sys.path.append(\"/data/gpfs/assoc/parchmanlab/tfaske/ipynb/include_utils\")\n",
    "\n",
    "import ipyparallel as ipp\n",
    "import os, time\n",
    "import include_utils as u\n",
    "import pandas as pd\n",
    "import numpy as np\n",
    "import scipy as sp\n",
    "import random\n",
    "import numbers\n",
    "import matplotlib.pyplot as plt\n",
    "import matplotlib.patches as mpatches\n",
    "import matplotlib.cm as cm\n",
    "import matplotlib.colors as mcolors\n",
    "#import vcf\n",
    "from sklearn import preprocessing\n",
    "from subprocess import Popen, PIPE, call, check_output\n",
    "import seaborn as sns\n",
    "from IPython.display import FileLink\n",
    "import urllib.request as urllib2\n",
    "import dill\n",
    "import traceback\n",
    "from pandas import Series, DataFrame\n",
    "import gzip\n",
    "import warnings\n",
    "warnings.filterwarnings('ignore',category=pd.io.pytables.PerformanceWarning)\n",
    "%config InlineBackend.figure_format = 'retina'\n",
    "from Bio import SeqIO\n",
    "#import pysam\n",
    "from collections import OrderedDict, namedtuple, Counter\n",
    "import operator\n",
    "import multiprocessing as mp\n",
    "import shutil\n",
    "import tempfile\n",
    "#from ipyparallel import Client\n",
    "import scandir\n",
    "import glob\n",
    "from Bio.SeqIO.QualityIO import FastqGeneralIterator\n",
    "import pickle\n",
    "import re\n",
    "from itertools import chain\n",
    "#import Levenshtein as lv"
   ]
  },
  {
   "cell_type": "code",
   "execution_count": 57,
   "metadata": {},
   "outputs": [],
   "source": [
    "root = '/data/gpfs/assoc/denovo/tfaske/sagebrush/SNPcall'"
   ]
  },
  {
   "cell_type": "code",
   "execution_count": 58,
   "metadata": {},
   "outputs": [
    {
     "name": "stdout",
     "output_type": "stream",
     "text": [
      "/data/gpfs/assoc/denovo/tfaske/sagebrush/SNPcall\n"
     ]
    }
   ],
   "source": [
    "cd $root"
   ]
  },
  {
   "cell_type": "markdown",
   "metadata": {},
   "source": [
    "### Create mgpl & pntest files with associated dir   \n",
    "\n",
    "Uses custom R script to do so"
   ]
  },
  {
   "cell_type": "code",
   "execution_count": 59,
   "metadata": {},
   "outputs": [],
   "source": [
    "ent_dir =os.path.join(root,'entropy_ebgAll')\n",
    "assert ent_dir"
   ]
  },
  {
   "cell_type": "code",
   "execution_count": 60,
   "metadata": {},
   "outputs": [
    {
     "name": "stdout",
     "output_type": "stream",
     "text": [
      "mkdir: cannot create directory ‘/data/gpfs/assoc/denovo/tfaske/sagebrush/SNPcall/entropy_ebgAll’: File exists\r\n"
     ]
    }
   ],
   "source": [
    "!mkdir $ent_dir"
   ]
  },
  {
   "cell_type": "code",
   "execution_count": 61,
   "metadata": {},
   "outputs": [
    {
     "name": "stdout",
     "output_type": "stream",
     "text": [
      "/data/gpfs/assoc/denovo/tfaske/sagebrush/SNPcall/entropy_ebgAll\n"
     ]
    }
   ],
   "source": [
    "cd $ent_dir"
   ]
  },
  {
   "cell_type": "markdown",
   "metadata": {},
   "source": [
    "### move good_snps vcf, ebg PL txt, and Pop_ID to ent dir, extract PL data   "
   ]
  },
  {
   "cell_type": "code",
   "execution_count": 62,
   "metadata": {},
   "outputs": [
    {
     "name": "stdout",
     "output_type": "stream",
     "text": [
      "The rpy2.ipython extension is already loaded. To reload it, use:\n",
      "  %reload_ext rpy2.ipython\n"
     ]
    }
   ],
   "source": [
    "%load_ext rpy2.ipython"
   ]
  },
  {
   "cell_type": "code",
   "execution_count": 63,
   "metadata": {},
   "outputs": [
    {
     "name": "stderr",
     "output_type": "stream",
     "text": [
      "R[write to console]: Loading required package: LEA\n",
      "\n"
     ]
    }
   ],
   "source": [
    "%%R\n",
    "require(readr)\n",
    "library(data.table)\n",
    "require(MASS)\n",
    "require(LEA)\n",
    "require(ggplot2)\n",
    "library(vcfR)\n",
    "\n",
    "source('/data/gpfs/home/tfaske/g/src/R/Imports.R')\n",
    "\n",
    "setwd('/data/gpfs/assoc/denovo/tfaske/sagebrush/SNPcall/entropy_ebgAll/')"
   ]
  },
  {
   "cell_type": "code",
   "execution_count": 67,
   "metadata": {},
   "outputs": [],
   "source": [
    "%%R \n",
    "#read in data\n",
    "PL_4 <- data.frame(fread('ARTR.diseq.all-PL.txt',header=F,sep='\\t'))\n",
    "pntest_mean_2 <- data.frame(fread('pntest_mean_allDiploid.txt'))\n",
    "mpgl_2 <- data.frame(fread('mpgl_allDiploid.txt',header=FALSE),row.names=1)\n",
    "\n",
    "Pop_ID_OG <- read.csv('Pop_ID.csv')\n",
    "Pop_ID_4 <- read.csv('Pop_ID_4.csv')"
   ]
  },
  {
   "cell_type": "code",
   "execution_count": 68,
   "metadata": {},
   "outputs": [],
   "source": [
    "%%R\n",
    "# REMOVE LAST COLUMN of PL_4\n",
    "PL_4 <- PL_4[,-c(ncol(PL_4))]"
   ]
  },
  {
   "cell_type": "code",
   "execution_count": 69,
   "metadata": {},
   "outputs": [
    {
     "name": "stdout",
     "output_type": "stream",
     "text": [
      "[1] 684   6\n",
      "[1] 289   6\n",
      "[1] 42512   684\n",
      "    AT2_BB_10 AT2_BB_11 AT2_BB_12  AT2_BB_13   AT2_BB_14\n",
      "1 0.334081996 0.0000000 0.0000000 0.00000000 0.200760296\n",
      "2 0.000000000 0.0000000 0.0000000 0.00000000 0.059350943\n",
      "3 0.000000000 0.3340820 0.1118158 0.01560166 0.003965286\n",
      "4 0.003965286 0.3344166 0.0000000 0.00000000 0.059350943\n",
      "5 0.000000000 0.0000000 0.0000000 0.00000000 0.001991289\n",
      "[1] 42512  2052\n",
      "                   V2 V3  V4 V5 V6\n",
      "CM042338.1:398150   0  3  37  0  0\n",
      "CM042338.1:1342981  0  0   0  0  0\n",
      "CM042338.1:1496841  0  0   0  0  3\n",
      "CM042338.1:1744262  0 24 144  0  3\n",
      "CM042338.1:1942811  0  0   0  0  0\n",
      "[1] 42512   289\n",
      "                                         V1\n",
      "1 0.0872897,17.0858,34.7384,62.1691,241.316\n",
      "2   3.57434,5.10679,7.45532,11.4115,33.6524\n",
      "3   0.144352,16.6223,21.342,25.5718,30.9033\n",
      "4  0.318586,12.6293,18.7183,25.6792,50.0793\n",
      "5  0.101362,16.4124,36.4698,68.9694,266.835\n",
      "                                         V2\n",
      "1 0.0196517,23.4638,49.7764,91.9732,379.875\n",
      "2  32.3628,0.816488,7.73878,26.0332,167.912\n",
      "3  0.141237,16.8211,21.3474,25.3199,30.2862\n",
      "4  0.489749,11.7601,15.9298,19.6635,24.4003\n",
      "5  44.9004,0.710787,8.24551,29.3446,184.337\n",
      "                                        V3\n",
      "1 0.369494,11.4685,20.1516,32.2668,101.783\n",
      "2 0.208916,13.3477,31.5304,62.2497,267.662\n",
      "3 0.139429,16.9392,21.3572,25.1841,29.9399\n",
      "4 0.483444,11.8753,15.9512,19.5475,24.0784\n",
      "5  0.166696,14.339,30.7948,57.0533,215.598\n",
      "                                        V4\n",
      "1  0.117386,15.8507,31.7579,56.2117,213.57\n",
      "2  28.3508,8.21482,5.81604,5.03596,5.65398\n",
      "3  0.144626,16.605,21.3422,25.5951,30.9589\n",
      "4 0.114969,16.1433,27.5044,43.4412,125.793\n",
      "5  2.60147,6.44119,8.97842,11.6399,15.4287\n",
      "                                         V5\n",
      "1    0.0359926,20.856,43.73,80.0656,324.538\n",
      "2    1.2826,6.64775,14.2703,27.1607,110.499\n",
      "3 0.0176233,24.0563,39.2403,61.3552,200.459\n",
      "4  0.112638,16.2369,27.5179,43.3387,125.521\n",
      "5   85.4599,2.31296,3.91458,21.6139,174.311\n"
     ]
    }
   ],
   "source": [
    "%%R\n",
    "print(dim(Pop_ID_OG))\n",
    "print(dim(Pop_ID_4))\n",
    "\n",
    "print(dim(pntest_mean_2))\n",
    "print(pntest_mean_2[1:5,1:5])\n",
    "print(dim(mpgl_2))\n",
    "print(mpgl_2[1:5,1:5])\n",
    "print(dim(PL_4))\n",
    "print(PL_4[1:5,1:5])"
   ]
  },
  {
   "cell_type": "code",
   "execution_count": 70,
   "metadata": {},
   "outputs": [],
   "source": [
    "%%R\n",
    "#converts pl to mpgl format\n",
    "mpgl_4 <- apply(PL_4, c(1,2), function(df) gsub(',',' ',df,fixed=TRUE))"
   ]
  },
  {
   "cell_type": "code",
   "execution_count": 71,
   "metadata": {},
   "outputs": [
    {
     "name": "stdout",
     "output_type": "stream",
     "text": [
      "                                         V1\n",
      "1 0.0872897,17.0858,34.7384,62.1691,241.316\n",
      "2   3.57434,5.10679,7.45532,11.4115,33.6524\n",
      "3   0.144352,16.6223,21.342,25.5718,30.9033\n",
      "4  0.318586,12.6293,18.7183,25.6792,50.0793\n",
      "5  0.101362,16.4124,36.4698,68.9694,266.835\n",
      "                                         V2\n",
      "1 0.0196517,23.4638,49.7764,91.9732,379.875\n",
      "2  32.3628,0.816488,7.73878,26.0332,167.912\n",
      "3  0.141237,16.8211,21.3474,25.3199,30.2862\n",
      "4  0.489749,11.7601,15.9298,19.6635,24.4003\n",
      "5  44.9004,0.710787,8.24551,29.3446,184.337\n",
      "                                        V3\n",
      "1 0.369494,11.4685,20.1516,32.2668,101.783\n",
      "2 0.208916,13.3477,31.5304,62.2497,267.662\n",
      "3 0.139429,16.9392,21.3572,25.1841,29.9399\n",
      "4 0.483444,11.8753,15.9512,19.5475,24.0784\n",
      "5  0.166696,14.339,30.7948,57.0533,215.598\n",
      "                                        V4\n",
      "1  0.117386,15.8507,31.7579,56.2117,213.57\n",
      "2  28.3508,8.21482,5.81604,5.03596,5.65398\n",
      "3  0.144626,16.605,21.3422,25.5951,30.9589\n",
      "4 0.114969,16.1433,27.5044,43.4412,125.793\n",
      "5  2.60147,6.44119,8.97842,11.6399,15.4287\n",
      "                                         V5\n",
      "1    0.0359926,20.856,43.73,80.0656,324.538\n",
      "2    1.2826,6.64775,14.2703,27.1607,110.499\n",
      "3 0.0176233,24.0563,39.2403,61.3552,200.459\n",
      "4  0.112638,16.2369,27.5179,43.3387,125.521\n",
      "5   85.4599,2.31296,3.91458,21.6139,174.311\n",
      "     V1                                         \n",
      "[1,] \"0.0872897 17.0858 34.7384 62.1691 241.316\"\n",
      "[2,] \"3.57434 5.10679 7.45532 11.4115 33.6524\"  \n",
      "[3,] \"0.144352 16.6223 21.342 25.5718 30.9033\"  \n",
      "[4,] \"0.318586 12.6293 18.7183 25.6792 50.0793\" \n",
      "[5,] \"0.101362 16.4124 36.4698 68.9694 266.835\" \n",
      "     V2                                         \n",
      "[1,] \"0.0196517 23.4638 49.7764 91.9732 379.875\"\n",
      "[2,] \"32.3628 0.816488 7.73878 26.0332 167.912\" \n",
      "[3,] \"0.141237 16.8211 21.3474 25.3199 30.2862\" \n",
      "[4,] \"0.489749 11.7601 15.9298 19.6635 24.4003\" \n",
      "[5,] \"44.9004 0.710787 8.24551 29.3446 184.337\" \n",
      "     V3                                        \n",
      "[1,] \"0.369494 11.4685 20.1516 32.2668 101.783\"\n",
      "[2,] \"0.208916 13.3477 31.5304 62.2497 267.662\"\n",
      "[3,] \"0.139429 16.9392 21.3572 25.1841 29.9399\"\n",
      "[4,] \"0.483444 11.8753 15.9512 19.5475 24.0784\"\n",
      "[5,] \"0.166696 14.339 30.7948 57.0533 215.598\" \n",
      "     V4                                        \n",
      "[1,] \"0.117386 15.8507 31.7579 56.2117 213.57\" \n",
      "[2,] \"28.3508 8.21482 5.81604 5.03596 5.65398\" \n",
      "[3,] \"0.144626 16.605 21.3422 25.5951 30.9589\" \n",
      "[4,] \"0.114969 16.1433 27.5044 43.4412 125.793\"\n",
      "[5,] \"2.60147 6.44119 8.97842 11.6399 15.4287\" \n",
      "     V5                                         \n",
      "[1,] \"0.0359926 20.856 43.73 80.0656 324.538\"   \n",
      "[2,] \"1.2826 6.64775 14.2703 27.1607 110.499\"   \n",
      "[3,] \"0.0176233 24.0563 39.2403 61.3552 200.459\"\n",
      "[4,] \"0.112638 16.2369 27.5179 43.3387 125.521\" \n",
      "[5,] \"85.4599 2.31296 3.91458 21.6139 174.311\"  \n"
     ]
    }
   ],
   "source": [
    "%%R\n",
    "#check pl and mggl\n",
    "print(PL_4[1:5,1:5])\n",
    "print(mpgl_4[1:5,1:5])"
   ]
  },
  {
   "cell_type": "code",
   "execution_count": 72,
   "metadata": {},
   "outputs": [
    {
     "name": "stdout",
     "output_type": "stream",
     "text": [
      "[1] 42512   289\n"
     ]
    },
    {
     "name": "stderr",
     "output_type": "stream",
     "text": [
      "R[write to console]: x being coerced from class: matrix to data.table\n",
      "\n"
     ]
    }
   ],
   "source": [
    "%%R\n",
    "rownames(mpgl_4) <- rownames(mpgl_2)\n",
    "print(dim(mpgl_4))\n",
    "fwrite(mpgl_4,'mpgl_4.txt',quote=F,col.names = F,sep = ' ') "
   ]
  },
  {
   "cell_type": "code",
   "execution_count": 73,
   "metadata": {},
   "outputs": [
    {
     "name": "stdout",
     "output_type": "stream",
     "text": [
      "   user  system elapsed \n",
      "365.551  12.198 377.684 \n"
     ]
    }
   ],
   "source": [
    "%%R\n",
    "### pntest_mean ploidy###\n",
    "mean_pl <- function(GP){\n",
    "  gps <- as.numeric(unlist(strsplit(as.character(GP),split = ',')))\n",
    "  ploidy <- length(gps)-1\n",
    "  if (sum(gps) == 0){\n",
    "    mean <- 0\n",
    "  }else{\n",
    "    gps <- 10 ^ (gps/-10)\n",
    "    mean <- sum(gps*(0:ploidy))/sum(gps)\n",
    "    return(mean) \n",
    "  }\n",
    "}\n",
    "\n",
    "system.time(pntest_mean_4 <- apply(PL_4,1:2,mean_pl))"
   ]
  },
  {
   "cell_type": "code",
   "execution_count": 74,
   "metadata": {},
   "outputs": [
    {
     "name": "stdout",
     "output_type": "stream",
     "text": [
      "[1] 42512   289\n"
     ]
    },
    {
     "name": "stderr",
     "output_type": "stream",
     "text": [
      "R[write to console]: x being coerced from class: matrix to data.table\n",
      "\n"
     ]
    }
   ],
   "source": [
    "%%R \n",
    "rownames(pntest_mean_4) <- rownames(mpgl_2)\n",
    "print(dim(pntest_mean_4))\n",
    "\n",
    "fwrite(pntest_mean_4,'pntest_mean_4.txt',quote=F,sep = ' ')"
   ]
  },
  {
   "cell_type": "code",
   "execution_count": 75,
   "metadata": {},
   "outputs": [
    {
     "name": "stdout",
     "output_type": "stream",
     "text": [
      "               V1          V2           V3           V4          V5\n",
      "[1,] 2.669316e-11 6.00482e-11 4.415704e-13 8.806432e-34 6.46398e-34\n",
      "[2,] 4.000000e+00 4.00000e+00 4.000000e+00 4.000000e+00 4.00000e+00\n",
      "               V6           V7           V8           V9          V10\n",
      "[1,] 1.554891e-11 2.780353e-33 1.535677e-33 2.485421e-13 1.394119e-19\n",
      "[2,] 4.000000e+00 4.000000e+00 4.000000e+00 4.000000e+00 4.000000e+00\n",
      "              V11          V12          V13          V14          V15\n",
      "[1,] 7.431902e-32 3.811888e-07 1.794734e-26 6.561453e-26 2.387976e-07\n",
      "[2,] 4.000000e+00 3.999986e+00 3.999983e+00 4.000000e+00 4.000000e+00\n",
      "              V16          V17          V18          V19          V20\n",
      "[1,] 4.337905e-07 4.086956e-18 2.747261e-26 3.413501e-28 5.587274e-15\n",
      "[2,] 3.999866e+00 4.000000e+00 4.000000e+00 4.000000e+00 3.999995e+00\n",
      "              V21          V22          V23          V24          V25\n",
      "[1,] 1.073989e-13 7.834296e-17 9.729712e-14 2.466607e-23 1.378479e-12\n",
      "[2,] 3.999986e+00 3.999938e+00 3.999984e+00 3.999995e+00 3.999981e+00\n",
      "              V26          V27          V28          V29          V30\n",
      "[1,] 4.871918e-33 2.288759e-33 4.082254e-33 7.742835e-33 1.633804e-14\n",
      "[2,] 4.000000e+00 4.000000e+00 4.000000e+00 4.000000e+00 4.000000e+00\n",
      "              V31          V32          V33          V34          V35\n",
      "[1,] 3.878198e-08 6.108014e-15 2.689057e-14 5.393864e-33 7.133456e-23\n",
      "[2,] 3.999996e+00 3.999962e+00 4.000000e+00 3.999996e+00 4.000000e+00\n",
      "              V36          V37          V38          V39          V40\n",
      "[1,] 5.499206e-33 9.754387e-14 5.450044e-33 1.106369e-32 1.507648e-22\n",
      "[2,] 3.999993e+00 3.999998e+00 3.999998e+00 3.999993e+00 3.999991e+00\n",
      "             V41          V42          V43          V44          V45\n",
      "[1,] 2.97646e-11 4.008667e-11 5.153473e-20 9.862795e-13 4.605746e-15\n",
      "[2,] 4.00000e+00 4.000000e+00 3.999997e+00 4.000000e+00 3.999990e+00\n",
      "             V46          V47          V48          V49          V50\n",
      "[1,] 1.08243e-12 2.824230e-12 2.026749e-19 4.674122e-14 3.257617e-19\n",
      "[2,] 4.00000e+00 3.999998e+00 4.000000e+00 4.000000e+00 4.000000e+00\n",
      "              V51          V52         V53          V54        V55          V56\n",
      "[1,] 8.810489e-16 4.408593e-14 1.84544e-18 1.431529e-33 9.8107e-11 1.095444e-09\n",
      "[2,] 4.000000e+00 4.000000e+00 4.00000e+00 4.000000e+00 4.0000e+00 3.999996e+00\n",
      "              V57          V58          V59          V60          V61\n",
      "[1,] 1.088153e-09 1.313318e-09 1.427579e-14 1.128886e-07 3.001235e-15\n",
      "[2,] 4.000000e+00 4.000000e+00 4.000000e+00 3.999998e+00 4.000000e+00\n",
      "              V62          V63         V64          V65          V66\n",
      "[1,] 2.020226e-16 1.119696e-18 1.61473e-22 1.920879e-21 5.209547e-33\n",
      "[2,] 3.999996e+00 4.000000e+00 4.00000e+00 4.000000e+00 3.999982e+00\n",
      "              V67          V68          V69          V70          V71\n",
      "[1,] 3.777461e-29 1.324952e-19 1.050268e-07 6.024209e-17 9.107517e-33\n",
      "[2,] 3.999981e+00 3.999988e+00 3.999910e+00 3.999996e+00 4.000000e+00\n",
      "              V72          V73          V74          V75          V76\n",
      "[1,] 1.064878e-31 1.243369e-28 8.431406e-26 1.559193e-29 8.357954e-33\n",
      "[2,] 3.999970e+00 4.000000e+00 3.999998e+00 4.000000e+00 4.000000e+00\n",
      "              V77          V78          V79          V80          V81\n",
      "[1,] 1.107873e-07 4.142858e-32 3.604956e-26 2.284021e-28 3.849462e-32\n",
      "[2,] 3.999744e+00 3.999981e+00 3.999981e+00 4.000000e+00 3.999968e+00\n",
      "              V82          V83          V84          V85          V86\n",
      "[1,] 9.289664e-31 2.717691e-18 3.701434e-09 2.071572e-30 1.525457e-32\n",
      "[2,] 3.999885e+00 3.999998e+00 4.000000e+00 4.000000e+00 3.999999e+00\n",
      "              V87          V88          V89          V90          V91\n",
      "[1,] 2.500345e-32 9.028176e-22 6.979109e-31 1.977425e-21 1.267944e-33\n",
      "[2,] 3.999903e+00 3.999990e+00 4.000000e+00 3.999998e+00 4.000000e+00\n",
      "              V92          V93          V94          V95          V96\n",
      "[1,] 2.920115e-33 2.266209e-33 1.070533e-25 2.471739e-07 2.561533e-11\n",
      "[2,] 4.000000e+00 3.999944e+00 4.000000e+00 3.999990e+00 3.999997e+00\n",
      "              V97          V98          V99         V100         V101\n",
      "[1,] 1.227157e-14 1.611759e-33 4.038499e-09 1.094158e-10 4.756418e-08\n",
      "[2,] 3.999998e+00 4.000000e+00 3.999866e+00 3.999988e+00 3.999983e+00\n",
      "             V102         V103         V104         V105         V106\n",
      "[1,] 9.038784e-10 2.196696e-08 2.809312e-17 1.581612e-09 3.185672e-06\n",
      "[2,] 4.000000e+00 3.999999e+00 4.000000e+00 3.999870e+00 3.999956e+00\n",
      "             V107        V108         V109         V110         V111\n",
      "[1,] 2.932919e-15 8.40427e-13 6.237348e-11 4.564571e-18 1.837384e-19\n",
      "[2,] 4.000000e+00 4.00000e+00 3.999993e+00 4.000000e+00 4.000000e+00\n",
      "             V112         V113         V114         V115         V116\n",
      "[1,] 3.692326e-13 1.180511e-10 4.679506e-25 1.545717e-10 2.649110e-17\n",
      "[2,] 3.999998e+00 3.999602e+00 4.000000e+00 4.000000e+00 3.999995e+00\n",
      "             V117         V118         V119         V120         V121\n",
      "[1,] 1.254296e-16 2.916084e-25 1.036335e-30 3.340412e-24 1.404430e-11\n",
      "[2,] 4.000000e+00 3.999973e+00 3.999780e+00 3.999980e+00 3.999992e+00\n",
      "             V122         V123         V124         V125         V126\n",
      "[1,] 2.679785e-15 5.726642e-14 4.874387e-10 2.278558e-10 9.034414e-23\n",
      "[2,] 4.000000e+00 4.000000e+00 4.000000e+00 3.999985e+00 4.000000e+00\n",
      "             V127         V128         V129         V130         V131\n",
      "[1,] 1.293600e-16 1.616628e-10 2.330236e-13 5.187881e-10 1.348963e-11\n",
      "[2,] 3.999996e+00 3.999999e+00 3.999995e+00 3.999980e+00 3.999979e+00\n",
      "             V132         V133         V134         V135         V136\n",
      "[1,] 6.720475e-13 2.093630e-14 1.344931e-12 8.248216e-10 2.132063e-11\n",
      "[2,] 3.999999e+00 3.999987e+00 3.999909e+00 4.000000e+00 3.999999e+00\n",
      "             V137         V138         V139         V140         V141\n",
      "[1,] 8.869518e-20 9.120108e-13 1.055091e-07 1.036096e-11 1.637570e-18\n",
      "[2,] 3.999994e+00 3.999988e+00 3.999996e+00 3.999973e+00 3.999876e+00\n",
      "             V142         V143         V144         V145         V146\n",
      "[1,] 3.460987e-14 5.778299e-12 4.944245e-11 2.949171e-11 2.496319e-18\n",
      "[2,] 3.999998e+00 4.000000e+00 4.000000e+00 3.999997e+00 4.000000e+00\n",
      "             V147         V148         V149         V150         V151\n",
      "[1,] 2.050218e-11 1.063163e-19 1.075474e-32 1.252276e-13 1.115784e-10\n",
      "[2,] 3.999950e+00 3.999997e+00 3.999917e+00 4.000000e+00 4.000000e+00\n",
      "             V152         V153        V154         V155         V156\n",
      "[1,] 1.795891e-10 1.571195e-08 6.02976e-21 1.318075e-10 5.570959e-10\n",
      "[2,] 4.000000e+00 4.000000e+00 4.00000e+00 3.999974e+00 3.999998e+00\n",
      "            V157         V158         V159        V160         V161\n",
      "[1,] 1.31069e-12 2.616375e-12 8.788201e-18 2.85496e-24 4.024389e-32\n",
      "[2,] 4.00000e+00 3.999988e+00 4.000000e+00 4.00000e+00 3.999966e+00\n",
      "             V162         V163        V164         V165         V166\n",
      "[1,] 6.238785e-30 1.978336e-22 4.18890e-15 3.513177e-20 1.457203e-10\n",
      "[2,] 3.999996e+00 4.000000e+00 3.99999e+00 4.000000e+00 3.999980e+00\n",
      "             V167         V168         V169         V170         V171\n",
      "[1,] 4.511490e-08 4.202812e-08 1.608052e-11 1.325562e-13 4.481259e-10\n",
      "[2,] 3.999998e+00 3.999866e+00 3.999992e+00 3.999962e+00 3.999972e+00\n",
      "             V172         V173         V174         V175         V176\n",
      "[1,] 1.177037e-06 4.516271e-10 5.650411e-07 2.289813e-08 4.622852e-10\n",
      "[2,] 3.999986e+00 3.999999e+00 3.999825e+00 3.999984e+00 4.000000e+00\n",
      "             V177         V178         V179         V180         V181\n",
      "[1,] 2.549764e-13 4.038499e-08 5.889793e-17 3.509134e-29 1.545966e-16\n",
      "[2,] 4.000000e+00 4.000000e+00 4.000000e+00 4.000000e+00 4.000000e+00\n",
      "             V182         V183         V184         V185         V186\n",
      "[1,] 1.102808e-18 3.915976e-10 2.201963e-09 5.572627e-09 8.528055e-08\n",
      "[2,] 3.999999e+00 3.999960e+00 4.000000e+00 3.999974e+00 4.000000e+00\n",
      "             V187         V188         V189         V190         V191\n",
      "[1,] 1.975604e-13 3.183464e-30 7.438751e-16 1.707183e-09 6.274377e-06\n",
      "[2,] 4.000000e+00 4.000000e+00 4.000000e+00 3.999992e+00 3.999760e+00\n",
      "            V192         V193         V194         V195         V196\n",
      "[1,] 1.18905e-33 1.528974e-33 6.058987e-21 1.178148e-33 6.348922e-11\n",
      "[2,] 4.00000e+00 4.000000e+00 3.999991e+00 4.000000e+00 3.999964e+00\n"
     ]
    },
    {
     "name": "stdout",
     "output_type": "stream",
     "text": [
      "             V197         V198         V199         V200         V201\n",
      "[1,] 1.543121e-32 8.460577e-34 1.025416e-33 1.488675e-33 9.585174e-34\n",
      "[2,] 3.999997e+00 4.000000e+00 3.999993e+00 3.999998e+00 4.000000e+00\n",
      "             V202         V203         V204         V205         V206\n",
      "[1,] 1.894960e-33 1.008092e-31 1.896269e-33 1.487647e-33 8.458629e-34\n",
      "[2,] 3.999992e+00 3.999997e+00 4.000000e+00 4.000000e+00 4.000000e+00\n",
      "             V207         V208         V209         V210         V211\n",
      "[1,] 1.590011e-33 1.972423e-33 1.335058e-33 1.135795e-23 2.088334e-25\n",
      "[2,] 3.999995e+00 4.000000e+00 3.999999e+00 3.999998e+00 4.000000e+00\n",
      "             V212         V213         V214         V215         V216\n",
      "[1,] 5.541151e-27 2.205972e-30 5.734559e-27 8.042665e-22 6.570524e-20\n",
      "[2,] 3.999994e+00 4.000000e+00 3.999999e+00 3.999994e+00 3.999999e+00\n",
      "             V217         V218         V219         V220         V221\n",
      "[1,] 1.064633e-15 4.102041e-16 6.600852e-16 2.030486e-18 1.171575e-09\n",
      "[2,] 3.999992e+00 3.999999e+00 4.000000e+00 3.999989e+00 3.999997e+00\n",
      "             V222         V223         V224         V225         V226\n",
      "[1,] 1.400877e-15 8.503545e-18 3.604126e-14 3.109568e-16 7.209415e-16\n",
      "[2,] 3.999986e+00 3.999999e+00 3.999981e+00 4.000000e+00 4.000000e+00\n",
      "             V227         V228         V229         V230         V231\n",
      "[1,] 2.001244e-13 4.926063e-17 3.794897e-14 7.309708e-13 4.319167e-13\n",
      "[2,] 3.999998e+00 4.000000e+00 3.999997e+00 4.000000e+00 4.000000e+00\n",
      "             V232        V233         V234         V235         V236\n",
      "[1,] 1.390913e-20 8.04637e-13 1.196052e-10 4.017908e-11 3.379870e-08\n",
      "[2,] 3.999999e+00 4.00000e+00 4.000000e+00 3.999997e+00 3.999999e+00\n",
      "             V237         V238         V239         V240         V241\n",
      "[1,] 6.020049e-33 6.185859e-33 2.222593e-08 3.903193e-10 2.966880e-12\n",
      "[2,] 3.999999e+00 4.000000e+00 3.999992e+00 3.999939e+00 3.999994e+00\n",
      "             V242         V243         V244         V245         V246\n",
      "[1,] 2.806791e-09 4.872367e-08 3.108136e-13 1.542766e-33 1.562788e-33\n",
      "[2,] 3.999965e+00 3.999986e+00 4.000000e+00 4.000000e+00 4.000000e+00\n",
      "             V247         V248         V249         V250         V251\n",
      "[1,] 1.513213e-33 4.254025e-22 9.259766e-13 9.858254e-14 6.261812e-19\n",
      "[2,] 4.000000e+00 3.999999e+00 3.999991e+00 4.000000e+00 3.999997e+00\n",
      "             V252         V253         V254         V255         V256\n",
      "[1,] 3.586741e-17 1.129016e-33 1.028016e-33 2.091221e-33 2.161225e-33\n",
      "[2,] 4.000000e+00 4.000000e+00 3.999999e+00 4.000000e+00 4.000000e+00\n",
      "             V257         V258         V259         V260         V261\n",
      "[1,] 6.501297e-35 1.237941e-28 1.287064e-33 1.113525e-28 4.924929e-28\n",
      "[2,] 4.000000e+00 3.999998e+00 4.000000e+00 4.000000e+00 3.999994e+00\n",
      "             V262         V263        V264         V265         V266\n",
      "[1,] 6.916717e-34 1.606941e-33 1.18495e-33 5.179645e-17 1.283512e-25\n",
      "[2,] 4.000000e+00 3.999999e+00 4.00000e+00 3.999997e+00 4.000000e+00\n",
      "             V267         V268         V269         V270         V271\n",
      "[1,] 3.433207e-14 1.103418e-10 3.789658e-28 2.597168e-19 1.921764e-18\n",
      "[2,] 4.000000e+00 3.999999e+00 3.999976e+00 3.999907e+00 3.999999e+00\n",
      "             V272         V273         V274         V275         V276\n",
      "[1,] 3.838840e-13 7.707260e-33 1.043038e-09 1.290328e-13 4.476102e-18\n",
      "[2,] 3.999999e+00 3.999999e+00 4.000000e+00 4.000000e+00 4.000000e+00\n",
      "             V277         V278         V279         V280         V281\n",
      "[1,] 5.578276e-33 5.524589e-33 5.460092e-33 6.153185e-12 4.627112e-09\n",
      "[2,] 4.000000e+00 4.000000e+00 4.000000e+00 4.000000e+00 4.000000e+00\n",
      "             V282         V283         V284        V285         V286\n",
      "[1,] 7.965261e-15 9.585174e-11 1.625923e-12 1.51391e-30 6.124914e-11\n",
      "[2,] 4.000000e+00 4.000000e+00 4.000000e+00 4.00000e+00 4.000000e+00\n",
      "             V287         V288         V289\n",
      "[1,] 3.511802e-10 2.772043e-12 1.091692e-13\n",
      "[2,] 4.000000e+00 4.000000e+00 4.000000e+00\n"
     ]
    }
   ],
   "source": [
    "%%R\n",
    "#make sure ploidy makes sense\n",
    "print(apply(pntest_mean_4,2,function(df) range(df, na.rm=TRUE)))"
   ]
  },
  {
   "cell_type": "code",
   "execution_count": 76,
   "metadata": {},
   "outputs": [
    {
     "name": "stdout",
     "output_type": "stream",
     "text": [
      "[1] 42512   289\n",
      "                           V1          V2         V3         V4          V5\n",
      "CM042338.1:398150  0.02023584 0.004525283 0.09240393 0.02733885 0.008295832\n",
      "CM042338.1:1342981 0.88636211 1.172719842 0.04767039 2.70389698 0.296968795\n",
      "CM042338.1:1496841 0.04801446 0.048014999 0.04801495 0.04801481 0.004170224\n",
      "CM042338.1:1744262 0.08960298 0.164674422 0.16467299 0.02799235 0.027466373\n",
      "CM042338.1:1942811 0.02329462 1.152071737 0.03849280 0.80021655 1.419807241\n"
     ]
    }
   ],
   "source": [
    "%%R\n",
    "print(dim(pntest_mean_4))\n",
    "print(pntest_mean_4[1:5,1:5])"
   ]
  },
  {
   "cell_type": "markdown",
   "metadata": {},
   "source": [
    "## merge needed diploids and tetraploids to make new files "
   ]
  },
  {
   "cell_type": "code",
   "execution_count": 77,
   "metadata": {},
   "outputs": [],
   "source": [
    "%%R\n",
    "Pop_ID_OG <- read.csv('Pop_ID.csv')\n",
    "Pop_ID_4 <- read.csv('Pop_ID_4.csv')\n",
    "\n",
    "pntest_mean_2 <- data.frame(fread('pntest_mean_allDiploid.txt'))\n",
    "mpgl_2 <- data.frame(fread('mpgl_allDiploid.txt',header=FALSE),row.names=1)\n",
    "\n",
    "pntest_mean_4 <- data.frame(fread('pntest_mean_4.txt'))\n",
    "mpgl_4 <- data.frame(fread('mpgl_4.txt',header=FALSE))\n"
   ]
  },
  {
   "cell_type": "code",
   "execution_count": 78,
   "metadata": {},
   "outputs": [
    {
     "name": "stdout",
     "output_type": "stream",
     "text": [
      "[1] 684   6\n",
      "[1] 42512   684\n",
      "[1] 42512  2052\n",
      "[1] 289   6\n",
      "[1] 42512   289\n",
      "[1] 42512  1445\n"
     ]
    }
   ],
   "source": [
    "%%R\n",
    "print(dim(Pop_ID_OG))\n",
    "print(dim(pntest_mean_2))\n",
    "print(dim(mpgl_2))\n",
    "\n",
    "print(dim(Pop_ID_4))\n",
    "print(dim(pntest_mean_4))\n",
    "print(dim(mpgl_4))"
   ]
  },
  {
   "cell_type": "code",
   "execution_count": 79,
   "metadata": {},
   "outputs": [],
   "source": [
    "%%R\n",
    "#extract only diploids for mpgl \n",
    "#first make a header for mpgl_2 so can select the right indv\n",
    "names3 <- rep(Pop_ID_OG$All,each=3)\n",
    "names(mpgl_2) <- names3\n",
    "only2_names <- Pop_ID_OG$All[which(Pop_ID_OG$Ploidy == 2)]\n",
    "index_mpgl2 <- which(names(mpgl_2) %in% only2_names)\n",
    "mpgl_2only <- mpgl_2[,index_mpgl2]\n",
    "\n",
    "#only diploids for rest\n",
    "pntest_mean_2only <- pntest_mean_2[,which(Pop_ID_OG$Ploidy == 2)]\n",
    "Pop_ID_2only <- Pop_ID_OG[which(Pop_ID_OG$Ploidy == 2),]"
   ]
  },
  {
   "cell_type": "code",
   "execution_count": 80,
   "metadata": {},
   "outputs": [
    {
     "name": "stdout",
     "output_type": "stream",
     "text": [
      "[1] 395   6\n",
      "[1] 42512   395\n",
      "[1] 42512  1185\n"
     ]
    }
   ],
   "source": [
    "%%R\n",
    "print(dim(Pop_ID_2only))\n",
    "print(dim(pntest_mean_2only))\n",
    "print(dim(mpgl_2only))"
   ]
  },
  {
   "cell_type": "code",
   "execution_count": 81,
   "metadata": {},
   "outputs": [],
   "source": [
    "%%R\n",
    "\n",
    "pntest_mean_ebgAll <- cbind(pntest_mean_2only,pntest_mean_4)\n",
    "mpgl_ebgAll <- cbind(mpgl_2only,mpgl_4)\n",
    "Pop_ID_ebgAll <- rbind(Pop_ID_2only,Pop_ID_4)\n"
   ]
  },
  {
   "cell_type": "code",
   "execution_count": 82,
   "metadata": {},
   "outputs": [
    {
     "name": "stdout",
     "output_type": "stream",
     "text": [
      "[1] 684   6\n",
      "[1] 42512   684\n",
      "[1] 42512  2630\n",
      "[1] 2630\n"
     ]
    }
   ],
   "source": [
    "%%R\n",
    "print(dim(Pop_ID_ebgAll))\n",
    "print(dim(pntest_mean_ebgAll))\n",
    "print(dim(mpgl_ebgAll))\n",
    "\n",
    "#test right dim for mpgl\n",
    "print((nrow(Pop_ID_2only)*3) + (nrow(Pop_ID_4)*5))"
   ]
  },
  {
   "cell_type": "code",
   "execution_count": 83,
   "metadata": {},
   "outputs": [],
   "source": [
    "%%R\n",
    "rownames(mpgl_2)[1:10]\n",
    "rownames(mpgl_ebgAll) <- rownames(mpgl_2)\n"
   ]
  },
  {
   "cell_type": "code",
   "execution_count": 84,
   "metadata": {},
   "outputs": [],
   "source": [
    "%%R\n",
    "rownames(mpgl_ebgAll) <- rownames(mpgl_2)\n",
    "fwrite(mpgl_ebgAll,'mpgl_ebgAll.txt',quote=F,col.names = F,row.names=TRUE,sep = ' ') \n",
    "fwrite(pntest_mean_ebgAll,'pntest_mean_ebgAll.txt',quote=F,col.names = F,sep = ' ') \n",
    "write.csv(Pop_ID_ebgAll,'Pop_ID_ebgAll.csv',row.names=F)"
   ]
  },
  {
   "cell_type": "markdown",
   "metadata": {},
   "source": [
    "## Create ldak files in R: standardize by ploidy! \n",
    "\n",
    "see mixed_ploidy_PCA.Rmd"
   ]
  },
  {
   "cell_type": "code",
   "execution_count": 88,
   "metadata": {},
   "outputs": [
    {
     "name": "stdout",
     "output_type": "stream",
     "text": [
      "[1]   684 42512\n"
     ]
    }
   ],
   "source": [
    "%%R\n",
    "#read in data \n",
    "Pop_ID <- read.csv(\"Pop_ID_ebgAll.csv\")\n",
    "pntest_mean <- fread(\"pntest_mean_ebgAll.txt\",sep=\" \",header=F, data.table=F)\n",
    "\n",
    "g <- t(pntest_mean)\n",
    "print(dim(g))\n",
    "#g[1:5,1:5]"
   ]
  },
  {
   "cell_type": "code",
   "execution_count": 89,
   "metadata": {},
   "outputs": [],
   "source": [
    "%%R\n",
    "#### create pl_list ####\n",
    "\n",
    "pl_list <- Pop_ID$Ploidy\n",
    "\n",
    "#### get stats on g and ploidy ####\n",
    "\n",
    "nind <- nrow(g)\n",
    "nloci <- ncol(g)\n",
    "n2_index <- which(pl_list == 2)\n",
    "n4_index <- which(pl_list == 4)\n",
    "\n",
    "#### check distributions  / range ###\n",
    "g2 <- g[n2_index,]\n",
    "g4 <- g[n4_index,]"
   ]
  },
  {
   "cell_type": "code",
   "execution_count": 91,
   "metadata": {},
   "outputs": [
    {
     "data": {
      "image/png": "[encoded data removed]"
     },
     "metadata": {},
     "output_type": "display_data"
    },
    {
     "data": {
      "image/png": "[encoded data removed]"
     },
     "metadata": {},
     "output_type": "display_data"
    }
   ],
   "source": [
    "%%R\n",
    "hist(as.vector(as.matrix(g2[,1:100])))\n",
    "hist(as.vector(as.matrix(g4[,1:100])))"
   ]
  },
  {
   "cell_type": "code",
   "execution_count": 95,
   "metadata": {},
   "outputs": [
    {
     "name": "stdout",
     "output_type": "stream",
     "text": [
      "                           PC1     PC2     PC3     PC4     PC5\n",
      "Proportion of Variance 0.03518 0.01396 0.00953 0.00780 0.00719\n",
      "Cumulative Proportion  0.03518 0.04914 0.05867 0.06647 0.07366\n"
     ]
    }
   ],
   "source": [
    "%%R\n",
    "g2 <- g[n2_index,]\n",
    "g4 <- g[n4_index,]\n",
    "g2_scale <- scale(g2)\n",
    "g4_scale <- scale(g4)\n",
    "\n",
    "g_z <- rbind(g2_scale,g4_scale)\n",
    "\n",
    "### if NAs\n",
    "g_z[is.na(g_z)] <- 0\n",
    "\n",
    "z_pca <- prcomp(as.matrix(g_z),scale. = F, center = F)\n",
    "pve <- summary(z_pca)$importance[2,1:5]\n",
    "print(summary(z_pca)$importance[2:3,1:5])\n",
    "\n",
    "pca_df <- cbind(rbind(Pop_ID[n2_index,],Pop_ID[n4_index,]),\n",
    "                  z_pca$x[,1:5])"
   ]
  },
  {
   "cell_type": "code",
   "execution_count": 98,
   "metadata": {},
   "outputs": [
    {
     "data": {
      "image/png": "[encoded data removed]"
     },
     "metadata": {},
     "output_type": "display_data"
    }
   ],
   "source": [
    "%%R\n",
    "col3 <- c(\"#899DA4\",\"#C93312\",\"#FAEFD1\")\n",
    "ggplot(data = pca_df, aes(x=PC1,y=PC2,fill=Sp,shape=as.character(Ploidy))) + \n",
    "  geom_point(colour='black',size = 4)+ #ggtitle(\"PCA ARTR all\") +\n",
    "  xlab(paste(\"PC\",1,\" (\",pve[1]*100,\"%)\",sep=\"\")) + ylab(paste(\"PC\",2,\" (\",pve[2]*100,\"%)\",sep=\"\"))  +\n",
    "  scale_fill_manual(name='Subspecies:',values = col3) +\n",
    "  scale_shape_manual(name='Ploidy:',values = c(21,24)) + \n",
    "  theme_bw() + \n",
    "  theme(#legend.position = 'none',\n",
    "    axis.text = element_text(size=11), \n",
    "    axis.title = element_text(size = 13, colour=\"black\",face = \"bold\",vjust = 1),\n",
    "    panel.border = element_rect(size = 1.5, colour = \"black\"),\n",
    "    panel.grid.major = element_blank(),\n",
    "    panel.grid.minor = element_blank())"
   ]
  },
  {
   "cell_type": "code",
   "execution_count": 99,
   "metadata": {},
   "outputs": [],
   "source": [
    "%%R\n",
    "#######################################################################################\n",
    "                                    #### LDA ####\n",
    "#######################################################################################\n",
    "\n",
    "k2<-kmeans(z_pca$x[,1:5],2,iter.max=10,nstart=10,algorithm=\"Hartigan-Wong\")\n",
    "k3<-kmeans(z_pca$x[,1:5],3,iter.max=10,nstart=10,algorithm=\"Hartigan-Wong\")\n",
    "k4<-kmeans(z_pca$x[,1:5],4,iter.max=10,nstart=10,algorithm=\"Hartigan-Wong\")\n",
    "k5<-kmeans(z_pca$x[,1:5],5,iter.max=10,nstart=10,algorithm=\"Hartigan-Wong\")\n",
    "k6<-kmeans(z_pca$x[,1:5],6,iter.max=10,nstart=10,algorithm=\"Hartigan-Wong\")\n",
    "k7<-kmeans(z_pca$x[,1:5],7,iter.max=10,nstart=10,algorithm=\"Hartigan-Wong\")\n",
    "k8<-kmeans(z_pca$x[,1:5],8,iter.max=10,nstart=10,algorithm=\"Hartigan-Wong\")\n",
    "k9<-kmeans(z_pca$x[,1:5],9,iter.max=10,nstart=10,algorithm=\"Hartigan-Wong\")\n",
    "k10<-kmeans(z_pca$x[,1:5],10,iter.max=10,nstart=10,algorithm=\"Hartigan-Wong\")\n",
    "k11<-kmeans(z_pca$x[,1:5],11,iter.max=10,nstart=10,algorithm=\"Hartigan-Wong\")\n",
    "\n",
    "ldak2<-lda(x=z_pca$x[,1:5],grouping=k2$cluster,CV=TRUE)\n",
    "ldak3<-lda(x=z_pca$x[,1:5],grouping=k3$cluster,CV=TRUE)\n",
    "ldak4<-lda(x=z_pca$x[,1:5],grouping=k4$cluster,CV=TRUE)\n",
    "ldak5<-lda(x=z_pca$x[,1:5],grouping=k5$cluster,CV=TRUE)\n",
    "ldak6<-lda(x=z_pca$x[,1:5],grouping=k6$cluster,CV=TRUE)\n",
    "ldak7<-lda(x=z_pca$x[,1:5],grouping=k7$cluster,CV=TRUE)\n",
    "ldak8<-lda(x=z_pca$x[,1:5],grouping=k8$cluster,CV=TRUE)\n",
    "ldak9<-lda(x=z_pca$x[,1:5],grouping=k9$cluster,CV=TRUE)\n",
    "ldak10<-lda(x=z_pca$x[,1:5],grouping=k10$cluster,CV=TRUE)\n",
    "ldak11<-lda(x=z_pca$x[,1:5],grouping=k11$cluster,CV=TRUE)\n",
    "\n",
    "write.table(round(ldak2$posterior,5),file=\"ldak2.txt\",quote=F,row.names=F,col.names=F)\n",
    "write.table(round(ldak3$posterior,5),file=\"ldak3.txt\",quote=F,row.names=F,col.names=F)\n",
    "write.table(round(ldak4$posterior,5),file=\"ldak4.txt\",quote=F,row.names=F,col.names=F)\n",
    "write.table(round(ldak5$posterior,5),file=\"ldak5.txt\",quote=F,row.names=F,col.names=F)\n",
    "write.table(round(ldak6$posterior,5),file=\"ldak6.txt\",quote=F,row.names=F,col.names=F)                                      \n",
    "write.table(round(ldak7$posterior,5),file=\"ldak7.txt\",quote=F,row.names=F,col.names=F)\n",
    "write.table(round(ldak8$posterior,5),file=\"ldak8.txt\",quote=F,row.names=F,col.names=F)\n",
    "write.table(round(ldak9$posterior,5),file=\"ldak9.txt\",quote=F,row.names=F,col.names=F)\n",
    "write.table(round(ldak10$posterior,5),file=\"ldak10.txt\",quote=F,row.names=F,col.names=F)\n",
    "write.table(round(ldak11$posterior,5),file=\"ldak11.txt\",quote=F,row.names=F,col.names=F)\n"
   ]
  },
  {
   "cell_type": "code",
   "execution_count": 102,
   "metadata": {},
   "outputs": [],
   "source": [
    "%%R\n",
    "###### Create ploidy inds.txt ######\n",
    "ploidy_inds <- data.frame(Ploidy=Pop_ID$Ploidy)\n",
    "write.table(ploidy_inds,'ploidy_inds.txt',quote=F,row.names=F,col.names=F)"
   ]
  },
  {
   "cell_type": "code",
   "execution_count": 104,
   "metadata": {},
   "outputs": [
    {
     "name": "stdout",
     "output_type": "stream",
     "text": [
      "2\n",
      "2\n",
      "2\n",
      "2\n",
      "2\n",
      "2\n",
      "2\n",
      "2\n",
      "2\n",
      "2\n",
      "684 ploidy_inds.txt\n"
     ]
    }
   ],
   "source": [
    "!head ploidy_inds.txt\n",
    "!wc -l ploidy_inds.txt"
   ]
  },
  {
   "cell_type": "code",
   "execution_count": 105,
   "metadata": {},
   "outputs": [],
   "source": [
    "%%R\n",
    "######### create entropy header ####\n",
    "\n",
    "Pop_ID_list <- Pop_ID$All\n",
    "\n",
    "Header <- data.frame(dims = NA,Pop_ID_list)\n",
    "\n",
    "dim(pntest_mean)\n",
    "\n",
    "df <- t(Header)\n",
    "dims <- paste(dim(pntest_mean)[2],dim(pntest_mean)[1],sep = \" \")\n",
    "\n",
    "df[1,1] <- dims\n",
    "\n",
    "write.table(df,'entropy_header.txt',sep = \" \",na =\"\",\n",
    "            quote = FALSE,row.names = FALSE,col.names = FALSE)"
   ]
  },
  {
   "cell_type": "code",
   "execution_count": 106,
   "metadata": {},
   "outputs": [
    {
     "name": "stdout",
     "output_type": "stream",
     "text": [
      "684 42512                                                                                                                                                                                                                                                                                                                                                                                                                                                                                                                                                                                                                                                                                                           \r\n",
      "AT2_BB_10 AT2_BB_11 AT2_BB_12 AT2_BB_13 AT2_BB_14 AT2_BB_15 AT2_BB_16 AT2_BB_17 AT2_BB_1 AT2_BB_2 AT2_BB_3 AT2_BB_4 AT2_BB_5 AT2_BB_6 AT2_BB_7 AT2_BB_8 AT2_BB_9 AT2_BC_17 AT2_BC_18 AT2_BC_19 AT2_BC_20 AT2_BC_21 AT2_BC_22 AT2_BC_23 AT2_BT_1 AT2_BT_2 AT2_BT_3 AT2_BT_4 AT2_BT_57 AT2_BT_58 AT2_BT_59 AT2_BT_5 AT2_BT_60 AT2_BT_61 AT2_BT_62 AT2_BT_63 AT2_BT_64 AT2_BT_6 AT2_BT_7 AT2_BW_1 AT2_BW_65 AT2_BW_66 AT2_BW_67 AT2_BW_68 AT2_BW_69 AT2_BW_70 AT2_BW_71 AT2_BW_72 AT2_CB_24 AT2_CB_25 AT2_CB_26 AT2_CB_27 AT2_CB_28 AT2_CB_29 AT2_CB_30 AT2_CB_31 AT2_CB_32 AT2_DK_16 AT2_DK_17 AT2_DK_18 AT2_DK_19 AT2_DK_20 AT2_DK_21 AT2_DK_22 AT2_DK_23 AT2_DK_24 AT2_DK_25 AT2_DK_26 AT2_DK_27 AT2_DK_28 AT2_DK_29 AT2_DK_30 AT2_DT_10 AT2_DT_11 AT2_DT_12 AT2_DT_13 AT2_DT_14 AT2_DT_15 AT2_DT_1 AT2_DT_2 AT2_DT_3 AT2_DT_4 AT2_DT_5 AT2_DT_6 AT2_DT_7 AT2_DT_8 AT2_DT_9 AT2_EC_45 AT2_EC_46 AT2_EC_47 AT2_EC_48 AT2_EC_49 AT2_EC_50 AT2_EC_51 AT2_EC_52 AT2_EC_53 AT2_EW_31 AT2_EW_32 AT2_EW_33 AT2_EW_34 AT2_EW_35 AT2_EW_36 AT2_EW_37 AT2_EW_39 AT2_EW_40 AT2_HC_1 AT2_HC_2 AT2_HC_3 AT2_HC_4 AT2_HC_5 AT2_HC_6 AT2_HC_7 AT2_HC_8 AT2_JV_1 AT2_JV_2 AT2_JV_37 AT2_JV_38 AT2_JV_39 AT2_JV_3 AT2_JV_40 AT2_JV_41 AT2_JV_42 AT2_JV_43 AT2_JV_44 AT2_JV_4 AT2_JV_5 AT2_JV_6 AT2_JV_7 AT2_KN_80 AT2_KN_81 AT2_KN_82 AT2_KN_83 AT2_KN_84 AT2_KN_85 AT2_KN_86 AT2_KN_87 AT2_KN_88 AT2_KN_89 AT2_KN_91 AT2_KN_92 AT2_KN_93 AT2_KN_94 AT2_LB_1 AT2_LB_2 AT2_LB_3 AT2_LB_4 AT2_LB_5 AT2_LB_6 AT2_LB_7 AT2_LB_8 AT2_LB_9 AT2_LN_1 AT2_LN_2 AT2_LN_3 AT2_LN_4 AT2_LN_5 AT2_LN_6 AT2_LN_96 AT2_LN_98 AT2_OC_15 AT2_OC_16 AT2_OC_2 AT2_OC_3 AT2_OC_4 AT2_OC_5 AT2_OC_6 AT2_OC_7 AT2_OC_8 AT2_OT_11 AT2_OT_12 AT2_OT_13 AT2_OT_14 AT2_OT_5 AT2_OT_6 AT2_OT_7 AT2_OT_8 AT2_OT_9 AT2_RB_100 AT2_RB_101 AT2_RB_102 AT2_RB_103 AT2_RB_104 AT2_RB_105 AT2_RB_106 AT2_RB_107 AT2_RB_108 AT2_RB_1 AT2_RB_3 AT2_RB_4 AT2_RB_5 AT2_RB_6 AT2_RB_7 AT2_RB_99 AT2_RK_1 AT2_RK_2 AT2_RK_3 AT2_RK_4 AT2_RK_5 AT2_RK_6 AT2_RK_7 AT2_SS_10 AT2_SS_1 AT2_SS_2 AT2_SS_3 AT2_SS_4 AT2_SS_5 AT2_SS_6 AT2_SS_7 AT2_VM_10 AT2_VM_1 AT2_VM_2 AT2_VM_3 AT2_VM_4 AT2_VM_5 AT2_VM_6 AT2_VM_7 AT2_VM_8 AT2_VM_9 AT2_YB_1 AT2_YB_2 AT2_YB_73 AT2_YB_74 AT2_YB_75 AT2_YB_76 AT2_YB_77 AT2_YB_78 AT2_YB_79 AV2_AN_1 AV2_AN_2 AV2_AN_3 AV2_AN_4 AV2_AN_5 AV2_AN_6 AV2_AN_7 AV2_AN_8 AV2_AS_61 AV2_AS_62 AV2_AS_63 AV2_AS_64 AV2_AS_65 AV2_AS_66 AV2_AS_67 AV2_AS_68 AV2_AS_69 AV2_AS_70 AV2_AS_71 AV2_AS_72 AV2_AS_73 AV2_AS_74 AV2_AS_75 AV2_BM_76 AV2_BM_77 AV2_BM_78 AV2_BM_79 AV2_BM_80 AV2_BM_81 AV2_BM_82 AV2_BM_83 AV2_BM_84 AV2_BM_85 AV2_BM_86 AV2_BM_87 AV2_BM_88 AV2_BM_89 AV2_BM_90 AV2_CC_134 AV2_CC_135 AV2_CC_136 AV2_CC_137 AV2_CC_138 AV2_CC_139 AV2_CC_140 AV2_CC_141 AV2_CC_1 AV2_CC_2 AV2_CC_3 AV2_CC_4 AV2_CC_5 AV2_CC_6 AV2_CC_7 AV2_CV_157 AV2_CV_158 AV2_CV_159 AV2_CV_160 AV2_CV_161 AV2_CV_162 AV2_CV_163 AV2_CV_164 AV2_CV_165 AV2_CV_166 AV2_CV_1 AV2_CV_2 AV2_CV_3 AV2_CV_4 AV2_CV_5 AV2_CV_6 AV2_CV_7 AV2_FP_1 AV2_FP_2 AV2_FP_3 AV2_FP_4 AV2_FP_5 AV2_FP_6 AV2_FP_7 AV2_GC_1 AV2_GC_2 AV2_GC_3 AV2_GC_4 AV2_GC_5 AV2_GC_6 AV2_GC_7 AV2_GC_8 AV2_GC_9 AV2_LV_100 AV2_LV_101 AV2_LV_102 AV2_LV_103 AV2_LV_104 AV2_LV_105 AV2_LV_91 AV2_LV_92 AV2_LV_93 AV2_LV_94 AV2_LV_95 AV2_LV_96 AV2_LV_97 AV2_LV_98 AV2_LV_99 AV2_NV_2 AV2_NV_3 AV2_NV_4 AV2_NV_5 AV2_NV_6 AV2_NV_7 AV2_NV_8 AV2_NV_9 AV2_PL_1 AV2_PL_2 AV2_PL_3 AV2_PL_4 AV2_PL_5 AV2_PL_6 AV2_PL_7 AV2_PL_8 AV2_PL_9 AV2_PR_10 AV2_PR_2 AV2_PR_3 AV2_PR_4 AV2_PR_5 AV2_PR_6 AV2_PR_7 AV2_PR_8 AV2_PR_9 AV2_PT_10 AV2_PT_1 AV2_PT_2 AV2_PT_3 AV2_PT_4 AV2_PT_5 AV2_PT_6 AV2_PT_7 AV2_PT_8 AV2_PT_9 AV2_SN_125 AV2_SN_126 AV2_SN_127 AV2_SN_129 AV2_SN_130 AV2_SN_131 AV2_SN_132 AV2_SN_133 AV2_SN_1 AV2_SN_2 AV2_SN_3 AV2_SN_4 AV2_SN_5 AV2_SN_6 AV2_SN_7 AV2_TF_150 AV2_TF_151 AV2_TF_152 AV2_TF_153 AV2_TF_154 AV2_TF_155 AV2_TF_156 AV2_UV_1 AV2_UV_2 AV2_UV_3 AV2_UV_4 AV2_UV_5 AV2_UV_6 AV2_UV_7 AV2_UV_8 AV2_UV_9 AT4_DS_10 AT4_DS_1 AT4_DS_2 AT4_DS_3 AT4_DS_4 AT4_DS_5 AT4_DS_6 AT4_DS_7 AT4_DS_8 AT4_SL_1 AT4_SL_284 AT4_SL_285 AT4_SL_286 AT4_SL_2 AT4_SL_3 AT4_SL_4 AT4_SL_5 AT4_SL_6 AT4_SL_7 AT4_WT_2 AT4_WT_3 AT4_WT_4 AT4_WT_5 AT4_WT_6 AT4_WT_7 AV4_CF_1 AV4_CF_2 AV4_CF_3 AV4_DH_10 AV4_DH_1 AV4_DH_2 AV4_DH_3 AV4_DH_4 AV4_DH_5 AV4_DH_6 AV4_DH_7 AV4_DH_8 AV4_DH_9 AV4_EW_10 AV4_EW_1 AV4_EW_2 AV4_EW_3 AV4_EW_4 AV4_EW_6 AV4_EW_7 AV4_EW_8 AV4_EW_9 AV4_JU_1 AV4_JU_3 AV4_JU_4 AV4_JU_5 AV4_JU_6 AV4_JU_7 AV4_LM_10 AV4_LM_1 AV4_LM_2 AV4_LM_3 AV4_LM_4 AV4_LM_5 AV4_LM_6 AV4_LM_7 AV4_LM_8 AV4_LM_9 AV4_LS_10 AV4_LS_11 AV4_LS_12 AV4_LS_13 AV4_LS_14 AV4_LS_15 AV4_LS_16 AV4_LS_17 AV4_LS_18 AV4_LS_19 AV4_LS_1 AV4_LS_20 AV4_LS_22 AV4_LS_23 AV4_LS_24 AV4_LS_25 AV4_LS_26 AV4_LS_27 AV4_LS_2 AV4_LS_3 AV4_LS_4 AV4_LS_5 AV4_LS_6 AV4_LS_7 AV4_LS_8 AV4_LS_9 AV4_RR_10 AV4_RR_1 AV4_RR_2 AV4_RR_3 AV4_RR_4 AV4_RR_5 AV4_RR_7 AV4_RR_8 AV4_RR_9 AW4_AH_121 AW4_AH_122 AW4_AH_123 AW4_AH_124 AW4_AH_125 AW4_AH_126 AW4_AH_127 AW4_AH_128 AW4_AH_129 AW4_AH_130 AW4_AH_131 AW4_AH_132 AW4_AH_133 AW4_AH_134 AW4_AH_135 AW4_FR_10 AW4_FR_1 AW4_FR_2 AW4_FR_3 AW4_FR_5 AW4_FR_6 AW4_FR_7 AW4_FR_8 AW4_FR_9 AW4_GB_10 AW4_GB_1 AW4_GB_2 AW4_GB_4 AW4_GB_5 AW4_GB_6 AW4_GB_7 AW4_GB_8 AW4_GB_9 AW4_HO_10 AW4_HO_1 AW4_HO_2 AW4_HO_3 AW4_HO_4 AW4_HO_5 AW4_HO_6 AW4_HO_7 AW4_HO_8 AW4_HO_9 AW4_JC_10 AW4_JC_1 AW4_JC_4 AW4_JC_5 AW4_JC_6 AW4_JC_7 AW4_JC_8 AW4_JC_9 AW4_LW_10 AW4_LW_1 AW4_LW_2 AW4_LW_3 AW4_LW_4 AW4_LW_5 AW4_LW_6 AW4_LW_7 AW4_LW_8 AW4_LW_9 AW4_MC_1 AW4_MC_2 AW4_MC_3 AW4_MC_4 AW4_MC_5 AW4_MC_6 AW4_MD_10 AW4_MD_1 AW4_MD_2 AW4_MD_3 AW4_MD_4 AW4_MD_5 AW4_MD_6 AW4_MD_7 AW4_MD_8 AW4_MD_9 AW4_MK_220 AW4_MK_221 AW4_MK_222 AW4_MK_223 AW4_MK_224 AW4_MK_225 AW4_MK_226 AW4_MK_227 AW4_MK_228 AW4_MK_229 AW4_MK_230 AW4_MK_231 AW4_MK_233 AW4_MK_234 AW4_MK_235 AW4_MK_236 AW4_OE_1 AW4_OE_2 AW4_OE_3 AW4_OE_4 AW4_OE_5 AW4_OE_6 AW4_OE_7 AW4_OE_8 AW4_OE_9 AW4_OW_1 AW4_OW_2 AW4_OW_3 AW4_OW_4 AW4_OW_5 AW4_OW_6 AW4_OW_7 AW4_OW_8 AW4_OW_9 AW4_PD_1 AW4_PD_2 AW4_PD_3 AW4_PD_4 AW4_PD_5 AW4_PD_6 AW4_PM_1 AW4_PM_2 AW4_PM_3 AW4_PM_4 AW4_PM_5 AW4_PM_6 AW4_PM_7 AW4_PM_8 AW4_PM_9 AW4_SB_10 AW4_SB_1 AW4_SB_2 AW4_SB_3 AW4_SB_4 AW4_SB_5 AW4_SB_6 AW4_SB_7 AW4_SB_8 AW4_SB_9 AW4_SC_10 AW4_SC_1 AW4_SC_2 AW4_SC_3 AW4_SC_4 AW4_SC_5 AW4_SC_6 AW4_SC_7 AW4_SC_8 AW4_SC_9 AW4_SR_10 AW4_SR_1 AW4_SR_2 AW4_SR_3 AW4_SR_4 AW4_SR_5 AW4_SR_6 AW4_SR_7 AW4_SR_8 AW4_SR_9 AW4_SS_10 AW4_SS_1 AW4_SS_2 AW4_SS_3 AW4_SS_4 AW4_SS_5 AW4_SS_6 AW4_SS_7 AW4_SS_8 AW4_SS_9 AW4_WH_1 AW4_WH_2 AW4_WH_3 AW4_WH_4 AW4_WH_5 AW4_WH_6 AW4_WJ_10 AW4_WJ_1 AW4_WJ_2 AW4_WJ_4 AW4_WJ_5 AW4_WJ_6 AW4_WJ_7 AW4_WJ_8 AW4_WJ_9 AW4_YV_10 AW4_YV_1 AW4_YV_2 AW4_YV_3 AW4_YV_4 AW4_YV_5 AW4_YV_6 AW4_YV_7 AW4_YV_8 AW4_YV_9\r\n"
     ]
    }
   ],
   "source": [
    "!head entropy_header.txt"
   ]
  },
  {
   "cell_type": "code",
   "execution_count": 108,
   "metadata": {},
   "outputs": [],
   "source": [
    "!cat entropy_header.txt mpgl_ebgAll.txt > entropy.mpgl"
   ]
  },
  {
   "cell_type": "code",
   "execution_count": 109,
   "metadata": {},
   "outputs": [
    {
     "name": "stdout",
     "output_type": "stream",
     "text": [
      "684 42512                                                                                                                                                                                                                                                                                                                                                                                                                                                                                                                                                                                                                                                                                                           \r\n",
      "AT2_BB_10 AT2_BB_11 AT2_BB_12 AT2_BB_13 AT2_BB_14 AT2_BB_15 AT2_BB_16 AT2_BB_17 AT2_BB_1 AT2_BB_2 AT2_BB_3 AT2_BB_4 AT2_BB_5 AT2_BB_6 AT2_BB_7 AT2_BB_8 AT2_BB_9 AT2_BC_17 AT2_BC_18 AT2_BC_19 AT2_BC_20 AT2_BC_21 AT2_BC_22 AT2_BC_23 AT2_BT_1 AT2_BT_2 AT2_BT_3 AT2_BT_4 AT2_BT_57 AT2_BT_58 AT2_BT_59 AT2_BT_5 AT2_BT_60 AT2_BT_61 AT2_BT_62 AT2_BT_63 AT2_BT_64 AT2_BT_6 AT2_BT_7 AT2_BW_1 AT2_BW_65 AT2_BW_66 AT2_BW_67 AT2_BW_68 AT2_BW_69 AT2_BW_70 AT2_BW_71 AT2_BW_72 AT2_CB_24 AT2_CB_25 AT2_CB_26 AT2_CB_27 AT2_CB_28 AT2_CB_29 AT2_CB_30 AT2_CB_31 AT2_CB_32 AT2_DK_16 AT2_DK_17 AT2_DK_18 AT2_DK_19 AT2_DK_20 AT2_DK_21 AT2_DK_22 AT2_DK_23 AT2_DK_24 AT2_DK_25 AT2_DK_26 AT2_DK_27 AT2_DK_28 AT2_DK_29 AT2_DK_30 AT2_DT_10 AT2_DT_11 AT2_DT_12 AT2_DT_13 AT2_DT_14 AT2_DT_15 AT2_DT_1 AT2_DT_2 AT2_DT_3 AT2_DT_4 AT2_DT_5 AT2_DT_6 AT2_DT_7 AT2_DT_8 AT2_DT_9 AT2_EC_45 AT2_EC_46 AT2_EC_47 AT2_EC_48 AT2_EC_49 AT2_EC_50 AT2_EC_51 AT2_EC_52 AT2_EC_53 AT2_EW_31 AT2_EW_32 AT2_EW_33 AT2_EW_34 AT2_EW_35 AT2_EW_36 AT2_EW_37 AT2_EW_39 AT2_EW_40 AT2_HC_1 AT2_HC_2 AT2_HC_3 AT2_HC_4 AT2_HC_5 AT2_HC_6 AT2_HC_7 AT2_HC_8 AT2_JV_1 AT2_JV_2 AT2_JV_37 AT2_JV_38 AT2_JV_39 AT2_JV_3 AT2_JV_40 AT2_JV_41 AT2_JV_42 AT2_JV_43 AT2_JV_44 AT2_JV_4 AT2_JV_5 AT2_JV_6 AT2_JV_7 AT2_KN_80 AT2_KN_81 AT2_KN_82 AT2_KN_83 AT2_KN_84 AT2_KN_85 AT2_KN_86 AT2_KN_87 AT2_KN_88 AT2_KN_89 AT2_KN_91 AT2_KN_92 AT2_KN_93 AT2_KN_94 AT2_LB_1 AT2_LB_2 AT2_LB_3 AT2_LB_4 AT2_LB_5 AT2_LB_6 AT2_LB_7 AT2_LB_8 AT2_LB_9 AT2_LN_1 AT2_LN_2 AT2_LN_3 AT2_LN_4 AT2_LN_5 AT2_LN_6 AT2_LN_96 AT2_LN_98 AT2_OC_15 AT2_OC_16 AT2_OC_2 AT2_OC_3 AT2_OC_4 AT2_OC_5 AT2_OC_6 AT2_OC_7 AT2_OC_8 AT2_OT_11 AT2_OT_12 AT2_OT_13 AT2_OT_14 AT2_OT_5 AT2_OT_6 AT2_OT_7 AT2_OT_8 AT2_OT_9 AT2_RB_100 AT2_RB_101 AT2_RB_102 AT2_RB_103 AT2_RB_104 AT2_RB_105 AT2_RB_106 AT2_RB_107 AT2_RB_108 AT2_RB_1 AT2_RB_3 AT2_RB_4 AT2_RB_5 AT2_RB_6 AT2_RB_7 AT2_RB_99 AT2_RK_1 AT2_RK_2 AT2_RK_3 AT2_RK_4 AT2_RK_5 AT2_RK_6 AT2_RK_7 AT2_SS_10 AT2_SS_1 AT2_SS_2 AT2_SS_3 AT2_SS_4 AT2_SS_5 AT2_SS_6 AT2_SS_7 AT2_VM_10 AT2_VM_1 AT2_VM_2 AT2_VM_3 AT2_VM_4 AT2_VM_5 AT2_VM_6 AT2_VM_7 AT2_VM_8 AT2_VM_9 AT2_YB_1 AT2_YB_2 AT2_YB_73 AT2_YB_74 AT2_YB_75 AT2_YB_76 AT2_YB_77 AT2_YB_78 AT2_YB_79 AV2_AN_1 AV2_AN_2 AV2_AN_3 AV2_AN_4 AV2_AN_5 AV2_AN_6 AV2_AN_7 AV2_AN_8 AV2_AS_61 AV2_AS_62 AV2_AS_63 AV2_AS_64 AV2_AS_65 AV2_AS_66 AV2_AS_67 AV2_AS_68 AV2_AS_69 AV2_AS_70 AV2_AS_71 AV2_AS_72 AV2_AS_73 AV2_AS_74 AV2_AS_75 AV2_BM_76 AV2_BM_77 AV2_BM_78 AV2_BM_79 AV2_BM_80 AV2_BM_81 AV2_BM_82 AV2_BM_83 AV2_BM_84 AV2_BM_85 AV2_BM_86 AV2_BM_87 AV2_BM_88 AV2_BM_89 AV2_BM_90 AV2_CC_134 AV2_CC_135 AV2_CC_136 AV2_CC_137 AV2_CC_138 AV2_CC_139 AV2_CC_140 AV2_CC_141 AV2_CC_1 AV2_CC_2 AV2_CC_3 AV2_CC_4 AV2_CC_5 AV2_CC_6 AV2_CC_7 AV2_CV_157 AV2_CV_158 AV2_CV_159 AV2_CV_160 AV2_CV_161 AV2_CV_162 AV2_CV_163 AV2_CV_164 AV2_CV_165 AV2_CV_166 AV2_CV_1 AV2_CV_2 AV2_CV_3 AV2_CV_4 AV2_CV_5 AV2_CV_6 AV2_CV_7 AV2_FP_1 AV2_FP_2 AV2_FP_3 AV2_FP_4 AV2_FP_5 AV2_FP_6 AV2_FP_7 AV2_GC_1 AV2_GC_2 AV2_GC_3 AV2_GC_4 AV2_GC_5 AV2_GC_6 AV2_GC_7 AV2_GC_8 AV2_GC_9 AV2_LV_100 AV2_LV_101 AV2_LV_102 AV2_LV_103 AV2_LV_104 AV2_LV_105 AV2_LV_91 AV2_LV_92 AV2_LV_93 AV2_LV_94 AV2_LV_95 AV2_LV_96 AV2_LV_97 AV2_LV_98 AV2_LV_99 AV2_NV_2 AV2_NV_3 AV2_NV_4 AV2_NV_5 AV2_NV_6 AV2_NV_7 AV2_NV_8 AV2_NV_9 AV2_PL_1 AV2_PL_2 AV2_PL_3 AV2_PL_4 AV2_PL_5 AV2_PL_6 AV2_PL_7 AV2_PL_8 AV2_PL_9 AV2_PR_10 AV2_PR_2 AV2_PR_3 AV2_PR_4 AV2_PR_5 AV2_PR_6 AV2_PR_7 AV2_PR_8 AV2_PR_9 AV2_PT_10 AV2_PT_1 AV2_PT_2 AV2_PT_3 AV2_PT_4 AV2_PT_5 AV2_PT_6 AV2_PT_7 AV2_PT_8 AV2_PT_9 AV2_SN_125 AV2_SN_126 AV2_SN_127 AV2_SN_129 AV2_SN_130 AV2_SN_131 AV2_SN_132 AV2_SN_133 AV2_SN_1 AV2_SN_2 AV2_SN_3 AV2_SN_4 AV2_SN_5 AV2_SN_6 AV2_SN_7 AV2_TF_150 AV2_TF_151 AV2_TF_152 AV2_TF_153 AV2_TF_154 AV2_TF_155 AV2_TF_156 AV2_UV_1 AV2_UV_2 AV2_UV_3 AV2_UV_4 AV2_UV_5 AV2_UV_6 AV2_UV_7 AV2_UV_8 AV2_UV_9 AT4_DS_10 AT4_DS_1 AT4_DS_2 AT4_DS_3 AT4_DS_4 AT4_DS_5 AT4_DS_6 AT4_DS_7 AT4_DS_8 AT4_SL_1 AT4_SL_284 AT4_SL_285 AT4_SL_286 AT4_SL_2 AT4_SL_3 AT4_SL_4 AT4_SL_5 AT4_SL_6 AT4_SL_7 AT4_WT_2 AT4_WT_3 AT4_WT_4 AT4_WT_5 AT4_WT_6 AT4_WT_7 AV4_CF_1 AV4_CF_2 AV4_CF_3 AV4_DH_10 AV4_DH_1 AV4_DH_2 AV4_DH_3 AV4_DH_4 AV4_DH_5 AV4_DH_6 AV4_DH_7 AV4_DH_8 AV4_DH_9 AV4_EW_10 AV4_EW_1 AV4_EW_2 AV4_EW_3 AV4_EW_4 AV4_EW_6 AV4_EW_7 AV4_EW_8 AV4_EW_9 AV4_JU_1 AV4_JU_3 AV4_JU_4 AV4_JU_5 AV4_JU_6 AV4_JU_7 AV4_LM_10 AV4_LM_1 AV4_LM_2 AV4_LM_3 AV4_LM_4 AV4_LM_5 AV4_LM_6 AV4_LM_7 AV4_LM_8 AV4_LM_9 AV4_LS_10 AV4_LS_11 AV4_LS_12 AV4_LS_13 AV4_LS_14 AV4_LS_15 AV4_LS_16 AV4_LS_17 AV4_LS_18 AV4_LS_19 AV4_LS_1 AV4_LS_20 AV4_LS_22 AV4_LS_23 AV4_LS_24 AV4_LS_25 AV4_LS_26 AV4_LS_27 AV4_LS_2 AV4_LS_3 AV4_LS_4 AV4_LS_5 AV4_LS_6 AV4_LS_7 AV4_LS_8 AV4_LS_9 AV4_RR_10 AV4_RR_1 AV4_RR_2 AV4_RR_3 AV4_RR_4 AV4_RR_5 AV4_RR_7 AV4_RR_8 AV4_RR_9 AW4_AH_121 AW4_AH_122 AW4_AH_123 AW4_AH_124 AW4_AH_125 AW4_AH_126 AW4_AH_127 AW4_AH_128 AW4_AH_129 AW4_AH_130 AW4_AH_131 AW4_AH_132 AW4_AH_133 AW4_AH_134 AW4_AH_135 AW4_FR_10 AW4_FR_1 AW4_FR_2 AW4_FR_3 AW4_FR_5 AW4_FR_6 AW4_FR_7 AW4_FR_8 AW4_FR_9 AW4_GB_10 AW4_GB_1 AW4_GB_2 AW4_GB_4 AW4_GB_5 AW4_GB_6 AW4_GB_7 AW4_GB_8 AW4_GB_9 AW4_HO_10 AW4_HO_1 AW4_HO_2 AW4_HO_3 AW4_HO_4 AW4_HO_5 AW4_HO_6 AW4_HO_7 AW4_HO_8 AW4_HO_9 AW4_JC_10 AW4_JC_1 AW4_JC_4 AW4_JC_5 AW4_JC_6 AW4_JC_7 AW4_JC_8 AW4_JC_9 AW4_LW_10 AW4_LW_1 AW4_LW_2 AW4_LW_3 AW4_LW_4 AW4_LW_5 AW4_LW_6 AW4_LW_7 AW4_LW_8 AW4_LW_9 AW4_MC_1 AW4_MC_2 AW4_MC_3 AW4_MC_4 AW4_MC_5 AW4_MC_6 AW4_MD_10 AW4_MD_1 AW4_MD_2 AW4_MD_3 AW4_MD_4 AW4_MD_5 AW4_MD_6 AW4_MD_7 AW4_MD_8 AW4_MD_9 AW4_MK_220 AW4_MK_221 AW4_MK_222 AW4_MK_223 AW4_MK_224 AW4_MK_225 AW4_MK_226 AW4_MK_227 AW4_MK_228 AW4_MK_229 AW4_MK_230 AW4_MK_231 AW4_MK_233 AW4_MK_234 AW4_MK_235 AW4_MK_236 AW4_OE_1 AW4_OE_2 AW4_OE_3 AW4_OE_4 AW4_OE_5 AW4_OE_6 AW4_OE_7 AW4_OE_8 AW4_OE_9 AW4_OW_1 AW4_OW_2 AW4_OW_3 AW4_OW_4 AW4_OW_5 AW4_OW_6 AW4_OW_7 AW4_OW_8 AW4_OW_9 AW4_PD_1 AW4_PD_2 AW4_PD_3 AW4_PD_4 AW4_PD_5 AW4_PD_6 AW4_PM_1 AW4_PM_2 AW4_PM_3 AW4_PM_4 AW4_PM_5 AW4_PM_6 AW4_PM_7 AW4_PM_8 AW4_PM_9 AW4_SB_10 AW4_SB_1 AW4_SB_2 AW4_SB_3 AW4_SB_4 AW4_SB_5 AW4_SB_6 AW4_SB_7 AW4_SB_8 AW4_SB_9 AW4_SC_10 AW4_SC_1 AW4_SC_2 AW4_SC_3 AW4_SC_4 AW4_SC_5 AW4_SC_6 AW4_SC_7 AW4_SC_8 AW4_SC_9 AW4_SR_10 AW4_SR_1 AW4_SR_2 AW4_SR_3 AW4_SR_4 AW4_SR_5 AW4_SR_6 AW4_SR_7 AW4_SR_8 AW4_SR_9 AW4_SS_10 AW4_SS_1 AW4_SS_2 AW4_SS_3 AW4_SS_4 AW4_SS_5 AW4_SS_6 AW4_SS_7 AW4_SS_8 AW4_SS_9 AW4_WH_1 AW4_WH_2 AW4_WH_3 AW4_WH_4 AW4_WH_5 AW4_WH_6 AW4_WJ_10 AW4_WJ_1 AW4_WJ_2 AW4_WJ_4 AW4_WJ_5 AW4_WJ_6 AW4_WJ_7 AW4_WJ_8 AW4_WJ_9 AW4_YV_10 AW4_YV_1 AW4_YV_2 AW4_YV_3 AW4_YV_4 AW4_YV_5 AW4_YV_6 AW4_YV_7 AW4_YV_8 AW4_YV_9\r\n",
      "CM042338.1:398150 0 3 37 0 0 0 0 0 0 0 0 0 0 6 67 0 9 89 0 0 0 0 0 0 0 0 0 0 3 37 0 0 0 0 6 67 0 0 0 0 12 109 0 0 0 0 18 137 0 6 64 0 6 67 0 6 67 0 12 113 0 3 37 0 0 0 0 0 0 0 0 0 0 0 0 0 0 0 0 0 0 0 0 0 0 0 0 0 0 0 0 6 67 0 0 0 0 0 0 0 0 0 0 0 0 0 0 0 0 0 0 0 6 67 0 0 0 0 0 0 0 0 0 0 0 0 0 0 0 0 0 0 0 0 0 0 0 0 0 0 0 0 0 0 0 9 87 0 12 101 0 3 37 0 18 140 0 0 0 37 3 0 0 15 114 0 9 92 0 12 110 0 6 67 0 0 0 0 0 0 0 3 37 0 0 0 0 0 0 0 0 0 0 0 0 0 0 0 0 9 92 0 0 0 0 3 37 0 0 0 0 0 0 0 0 0 0 0 0 0 3 37 0 0 0 0 0 0 0 0 0 0 3 37 0 0 0 0 0 0 0 3 37 0 0 0 0 3 37 0 3 37 0 0 0 0 0 0 0 0 0 0 0 0 0 6 67 0 9 92 0 6 67 0 0 0 0 0 0 0 0 0 0 6 67 0 0 0 0 0 0 0 0 0 0 0 0 0 0 0 0 0 0 0 0 0 37 3 0 0 0 0 0 0 0 0 0 0 37 3 0 0 0 0 0 0 0 0 0 0 0 9 92 0 0 0 0 0 0 0 0 0 0 6 67 0 0 0 0 0 0 0 0 0 0 0 0 0 0 0 0 0 0 0 3 37 37 3 0 0 0 0 0 3 33 0 0 0 0 0 0 0 0 0 0 9 89 0 0 0 0 0 0 0 6 67 0 0 0 0 3 37 0 3 37 0 0 0 0 0 0 0 6 67 0 3 37 0 6 67 0 36 174 0 0 0 0 3 37 0 0 0 0 0 0 0 0 0 0 0 0 0 0 0 0 0 0 0 9 92 0 30 175 0 0 0 0 0 0 0 0 0 0 0 0 0 0 0 0 0 0 0 0 0 0 0 0 0 0 0 0 0 0 0 0 0 0 0 0 0 0 0 0 0 0 0 0 0 0 0 0 0 0 0 0 0 0 0 0 0 0 0 0 0 0 0 0 0 0 0 3 37 0 0 0 0 3 37 0 0 0 0 0 0 0 0 0 0 0 0 0 3 37 0 0 0 0 12 107 0 6 59 0 6 62 0 3 37 0 3 37 0 3 37 0 0 0 0 0 0 0 0 0 0 0 0 0 15 129 0 6 67 0 0 0 0 0 0 0 0 0 0 0 0 0 0 0 0 0 0 0 0 0 0 0 0 0 0 0 0 0 0 0 0 0 0 0 0 0 0 0 0 6 62 0 0 0 0 0 0 0 0 0 0 0 0 0 0 0 0 0 0 0 9 87 0 0 0 0 0 0 0 0 0 0 0 0 0 6 67 0 3 37 0 0 0 0 0 0 0 0 0 0 0 0 0 0 0 0 0 0 0 0 0 0 0 0 0 12 113 0 9 92 0 6 67 0 0 0 0 0 0 0 18 143 0 0 0 0 0 0 0 0 0 0 0 0 0 0 0 0 6 67 0 6 67 0 0 0 0 0 0 0 0 0 0 0 0 0 0 0 0 0 0 0 0 0 0 0 0 0 0 0 0 0 0 0 6 67 0 0 0 0 12 107 0 6 59 0 0 0 0 3 37 37 3 0 31 0 27 0 6 67 0 6 67 0 3 37 74 0 25 0 6 67 0 9 92 0 0 0 0 0 0 0 3 37 0 9 82 0 6 67 67 6 0 0 0 0 0 0 0 0 6 67 0 0 0 0 0 0 0 0 0 0 3 37 0 0 0 0 9 92 0 0 0 0 15 118 0 0 0 0 0 0 0 0 0 0 0 0 0 0 0 0 12 113 0 0 0 0 0 0 0 3 37 0 9 89 0 0 0 0 0 0 0 3 37 0 0 0 0 15 126 0 0 0 0 0 0 0 0 0 0 0 0 0 0 0 0 0 0 0 0 0 0 9 91 0 0 0 56 0 56 0 6 67 0 0 0 0 0 0 0 0 0 0 0 0 0 0 0 0 0 0 0 9 92 0 6 67 0 0 0 0 0 0 0 3 37 0 0 0 0 6 67 0 0 0 64 6 0 0 3 37 0 0 0 0 0 0 0 0 0 0 0 0 0 0 0 0 0 0 0 0 0 0 12 113 0 12 113 0 0 0 0 18 137 0 0 0 0 0 0 67 6 0 0 0 0 0 0 0 0 0 0 37 3 0 0 0 0 0 3 37 0 18 143 0 0 0 0 0 0 0 0 0 0 12 113 0 3 37 0 0 0 0 12 107 0 0 0 0 0 0 0 21 154 0 0 0 0 3 37 0 3 37 0 0 0 0 0 0 0 6 67 0 12 113 0 0 0 0 3 37 0 0 0 0 3 37 0 0 0 0 0 0 0 0 0 0 0 0 0 3 33 0 0 0 0 0 0 0 0 0 0 6 64 0 0 0 0 0 0 0 0 0 0 15 122 0 9 92 0 0 0 0 6 67 0 0 0 0 0 0 89 0 119 24 0 81 0 0 0 0 6 67 0 0 0 0 3 37 0 0 0 0 3 37 0 21 141 0 0 0 0.0872897 17.0858 34.7384 62.1691 241.316 0.0196517 23.4638 49.7764 91.9732 379.875 0.369494 11.4685 20.1516 32.2668 101.783 0.117386 15.8507 31.7579 56.2117 213.57 0.0359926 20.856 43.73 80.0656 324.538 0.568508 9.94451 17.1449 26.7489 75.2158 1.26541 8.27208 11.885 15.3644 19.9868 0.546474 10.1314 17.2072 26.5913 74.7139 0.141083 15.1293 29.0027 49.9664 184.709 19.341 3.59856 4.84875 7.67856 12.7083 0.444266 10.6329 19.8737 32.9715 104.011 1.44117 7.23104 11.7113 16.7028 23.5541 0.632924 9.43537 17.0191 27.2935 76.7684 1.69422 5.99368 12.1509 20.1222 30.9803 1.10606 7.35319 14.3629 23.6965 54.2034 1.57003 6.56894 11.8239 18.164 26.8552 1.55573 6.63891 11.8007 17.9773 26.4494 1.30753 8.00542 11.8096 15.6256 20.7676 1.40597 7.42544 11.7165 16.3802 22.7682 1.19313 8.75985 12.0656 14.9977 18.7347 1.23954 8.44203 11.9421 15.2214 19.5266 1.21933 8.57835 11.9925 15.1188 19.1766 1.18304 8.83131 12.0961 14.9546 18.5679 1.20827 8.65425 12.0222 15.0661 18.9885 0.196756 13.7949 25.9875 44.0898 157.235 0.376404 11.8766 18.0877 25.8944 71.2306 0.953884 10.7549 13.2032 14.537 15.2087 0.955307 10.7406 13.1934 14.5359 15.2274 1.26314 8.2868 11.8897 15.3513 19.9458 1.22769 8.52153 11.971 15.1603 19.3205 1.2149 8.60863 12.0042 15.0974 19.101 1.24462 8.40826 11.9302 15.2485 19.6159 1.27138 8.23353 11.873 15.3993 20.0951 1.22004 8.5735 11.9906 15.1223 19.1887 1.24621 8.39774 11.9265 15.257 19.6439 0.200889 13.7036 25.948 44.1428 157.439 1.23545 8.46938 11.9518 15.2 19.4551 1.22589 8.53377 11.9755 15.1512 19.2892 1.27824 8.18957 11.8597 15.4402 20.2204 1.24956 8.37563 11.919 15.2752 19.7031 0.790219 9.12978 14.4485 20.835 47.136 0.550261 10.0988 17.1958 26.6174 74.7992 1.25063 8.3686 11.9166 15.2811 19.7221 0.541407 10.1754 17.223 26.5572 74.6004 1.6119 6.36871 11.908 18.7519 28.1143 1.23875 8.44734 11.9439 15.2172 19.5127 0.801131 9.05865 14.4254 20.8968 47.3317 0.120943 15.93 27.2255 43.6683 153.722 0.525992 11.19 15.5092 20.0612 43.041 0.929207 11.0079 13.3798 14.5638 14.8887 0.890502 11.4303 13.6862 14.6402 14.4007 0.965287 10.6418 13.1262 14.5299 15.359 0.937787 10.9186 13.3168 14.5526 14.9992 44.1973 7.96817 5.36388 4.93073 6.41718 1.22569 8.5351 11.976 15.1503 19.2859 1.15202 9.05666 12.1986 14.8345 18.0664 1.21774 8.58921 11.9967 15.1111 19.1494 0.78959 9.1339 14.4499 20.8315 47.1248 44.1381 7.72586 5.22104 4.9653 6.73983 1.22572 8.53491 11.976 15.1504 19.2863 0.796782 9.08689 14.4344 20.8719 47.2534 1.21775 8.58911 11.9966 15.1112 19.1496 44.1299 7.69235 5.20166 4.97102 6.78584 1.10123 7.37672 14.3548 23.6328 54.0652 0.451444 10.2997 22.7388 41.3449 137.688 1.1353 7.21261 14.4189 24.1002 55.0705 0.96687 8.07179 14.2507 22.1385 50.6687 0.697206 8.97435 16.9726 27.966 78.4691 1.54413 6.69627 11.784 17.8308 26.1285 1.41214 7.39093 11.7145 16.4346 22.9029 1.37938 7.57662 11.7303 16.1556 22.2008 1.35115 7.74141 11.7541 15.9343 21.6213 1.56154 6.61037 11.8098 18.0523 26.613 1.37692 7.59079 11.732 16.1357 22.1495 1.16189 7.08761 14.4806 24.4951 55.908 0.559735 9.58148 19.8042 34.606 108.046 1.56344 6.60107 11.8129 18.0771 26.6669 1.20227 6.90267 14.5948 25.1521 57.2845 1.42221 7.33496 11.7122 16.5254 23.1256 0.614859 9.57299 17.0461 27.128 76.3191 0.457297 10.2424 22.7571 41.4973 138.019 0.963943 8.08787 14.2509 22.1113 50.6028 0.457998 10.2356 22.7594 41.5158 138.059 0.706699 8.90974 16.9723 28.0769 78.7354 1.39138 7.5079 11.723 16.255 22.4543 1.54775 6.6783 11.789 17.876 26.228 1.5574 6.6307 11.8033 17.9987 26.4962 0.441569 10.398 22.7118 41.0965 137.144 1.37971 7.57472 11.73 16.1583 22.2077 0.0524529 19.2619 38.1715 67.7031 267.185 0.0537362 19.1943 35.8882 61.5683 237.609 0.0292679 21.7534 44.1659 79.6725 322.762 0.694227 9.79584 14.7172 20.3915 45.5159 0.668685 9.98674 14.8094 20.3039 45.1127 0.320126 12.1165 20.4584 31.9575 100.427 1.14296 9.12416 12.231 14.803 17.9231 1.1475 9.09029 12.2146 14.8186 17.9947 0.317638 12.1517 20.4769 31.9455 100.36 1.56438 6.5965 11.8144 18.0893 26.6934 1.44361 7.2178 11.7115 16.7262 23.6102 1.46995 7.07666 11.7182 16.9891 24.2294 1.48616 6.99146 11.7266 17.1598 24.6237 1.16767 7.06077 14.4954 24.5847 56.0969 0.704921 8.92178 16.9722 28.0559 78.6852 1.53643 6.73463 11.7739 17.7359 25.9195 1.64685 6.20659 11.998 19.2954 29.2592 1.63893 6.24294 11.976 19.1677 28.9914 1.42844 7.30062 11.7115 16.5827 23.2651 1.67994 6.05704 12.1008 19.861 30.4383 1.42401 7.32504 11.712 16.5418 23.1657 148.744 23.9592 10.1892 4.16844 2.86272 1.48686 6.98778 11.7271 17.1674 24.6411 1.5235 6.79966 11.7586 17.5806 25.5749 0.967487 10.6202 13.1116 14.529 15.3882 0.957032 10.7234 13.1817 14.5347 15.25 1.06359 9.75229 12.5661 14.5973 16.7226 1.00916 10.2271 12.8543 14.5327 15.9521 1.01567 10.1682 12.8171 14.537 16.0421 0.345801 12.2693 18.3408 25.8812 70.6637 0.950921 10.7846 13.2237 14.5393 15.1699 0.974169 10.5553 13.068 14.5267 15.4771 1.01691 10.1571 12.8101 14.5379 16.0593 1.26494 8.27514 11.886 15.3617 19.9782 1.28804 8.12734 11.8418 15.5003 20.4012 1.28084 8.17302 11.8549 15.4559 20.2681 1.28802 8.12748 11.8419 15.5002 20.4008 0.830332 8.87242 14.3707 21.0738 47.8683 0.797773 9.08044 14.4324 20.8775 47.2712 1.30996 7.99045 11.8059 15.6417 20.8137 1.27968 8.18042 11.8571 15.4489 20.2467 1.3056 8.01738 11.8126 15.6129 20.7309 1.25712 8.326 11.9024 15.3172 19.8378 1.29436 8.08753 11.8309 15.5401 20.519 1.28468 8.14857 11.8478 15.4795 20.339 1.22663 8.52873 11.9737 15.155 19.3021 1.31007 7.98972 11.8058 15.6425 20.816 1.23101 8.49919 11.9627 15.1771 19.3778 1.31721 7.94581 11.7953 15.6907 20.9529 19.2342 4.23591 4.96607 6.88894 10.5744 1.30573 8.0166 11.8124 15.6137 20.7333 1.22285 8.55435 11.9833 15.1361 19.237 0.226182 13.1828 25.7523 44.5214 158.717 1.22498 8.53988 11.9778 15.1467 19.2737 96.5933 16.572 8.05923 4.26287 3.49777 1.263 8.28773 11.89 15.3505 19.9433 1.31388 7.9663 11.8001 15.6681 20.8887 19.2292 4.26776 4.97499 6.85752 10.4808 0.422223 10.864 19.9347 32.7354 103.329 1.28796 8.12781 11.842 15.4998 20.3998 0.794597 9.10114 14.4391 20.8595 47.2142 1.3127 7.97354 11.8019 15.6601 20.8662 0.120212 15.7472 31.7184 56.2852 213.82 0.394658 11.1701 20.035 32.4734 102.507 1.2281 8.51877 11.9699 15.1624 19.3275 0.834242 8.84792 14.3642 21.0988 47.9416 1.23697 8.45921 11.9482 15.2079 19.4816 1.20784 8.65728 12.0234 15.064 18.9811 1.25279 8.35438 11.9118 15.293 19.7605 1.23193 8.493 11.9604 15.1818 19.3938 39.7496 4.3967 3.75536 6.68596 30.5821 1.22094 8.56735 11.9883 15.1267 19.2042 1.23686 8.45992 11.9484 15.2074 19.4797 0.373891 11.415 20.1294 32.3006 101.908 1.20729 8.66108 12.025 15.0615 18.9718 0.381633 11.3222 20.0922 32.3625 102.129 0.11922 15.7832 31.7319 56.259 213.732 1.23327 8.48396 11.9571 15.1888 19.4172 1.56487 6.59407 11.8152 18.0959 26.7076 1.46163 7.12086 11.7152 16.9042 24.0311 0.566518 9.96111 17.1501 26.7341 75.1699 1.28602 8.14013 11.8454 15.4877 20.3637 1.25024 8.37117 11.9175 15.2789 19.7152 1.29315 8.09511 11.8329 15.5324 20.4964 34.3912 2.14803 4.68662 13.0161 79.584 1.22278 8.55482 11.9835 15.1358 19.2358 0.940173 8.2201 14.2566 21.8978 50.0783 0.856942 7.98478 17.1913 30.3051 83.6738 1.44647 7.2023 11.7118 16.754 23.6762 0.0795668 17.4536 37.4474 68.8974 271.4 1.45819 7.13925 11.7142 16.8696 23.9498 0.84333 8.06188 17.1534 30.0606 83.1554 1.64607 6.21016 11.9958 19.2827 29.2325 1.56645 6.58636 11.8178 18.1166 26.7526 0.742155 8.67554 16.9856 28.5193 79.7698 1.37966 7.57502 11.7301 16.1579 22.2066 1.01795 7.7979 14.2634 22.6477 51.8689 0.977571 8.01337 14.2507 22.2397 50.9122 1.11298 7.3196 14.3751 23.7893 54.404 0.451161 10.563 19.8579 33.0501 104.229 1.49318 6.95493 11.7313 17.2359 24.7978 1.64257 6.22622 11.986 19.226 29.1137 0.809698 9.0034 14.4083 20.9469 47.4872 1.25159 8.36225 11.9144 15.2864 19.7392 1.23177 8.49407 11.9608 15.181 19.391 0.557143 10.04 17.1758 26.6658 74.9552 1.22702 8.52612 11.9727 15.1569 19.3087 0.794745 9.10017 14.4388 20.8603 47.2169 0.278106 12.4525 22.9861 38.2655 129.872 1.18687 8.8041 12.0844 14.9707 18.631 1.23574 8.46745 11.9511 15.2015 19.4601 1.51966 6.81909 11.7545 17.5355 25.4742 0.263472 12.6924 23.0876 38.1201 129.326 1.17989 8.85378 12.1059 14.9416 18.5163 1.20932 8.647 12.0193 15.071 19.0063 1.23531 8.47033 11.9522 15.1993 19.4526 1.24149 8.42906 11.9375 15.2317 19.5608 0.523893 9.88304 19.7826 34.0235 106.696 1.23214 8.49158 11.9599 15.1829 19.3975 1.17376 8.89783 12.1254 14.9167 18.4161 0.0814915 17.3844 34.8649 61.99 240.649 0.775931 9.22423 14.481 20.7576 46.8835 1.13468 9.18662 12.2616 14.7756 17.7932 0.112472 16.0367 31.8337 56.0922 213.141 1.22059 8.56977 11.9892 15.125 19.1981 0.511978 10.4388 17.326 26.3741 73.9546 8.37824 1.00393 12.1839 31.9296 166.291 19.1867 4.5429 5.06238 6.61307 9.71521 0.796854 9.08642 14.4343 20.8723 47.2547 1.24731 8.39047 11.924 15.263 19.6633 0.55654 10.0451 17.1775 26.6615 74.9415 0.209813 13.5128 25.8703 44.266 157.882 1.23615 8.46468 11.9501 15.2036 19.4673 0.737034 9.48938 14.5826 20.5671 46.2169 0.768727 9.27244 14.4984 20.7201 46.7578 1.27094 8.23638 11.8739 15.3967 20.087 9.64508 0.974634 10.4282 27.2302 139.854 43.8903 6.7446 4.69422 5.23826 8.2476 1.2899 8.11561 11.8386 15.5119 20.4357 1.2734 8.22059 11.869 15.4112 20.1317 0.210592 13.4965 25.864 44.2773 157.922 19.2386 4.20817 4.95852 6.91687 10.6569 1.30466 8.02324 11.8141 15.6067 20.713 1.21926 8.57878 11.9926 15.1185 19.1755 1.26426 8.27956 11.8874 15.3577 19.9659 1.2959 8.07786 11.8283 15.5499 20.5479 1.24413 8.41151 11.9313 15.2458 19.6073 1.28455 8.14944 11.8481 15.4787 20.3365 0.837524 8.82744 14.3588 21.12 48.0035 1.30854 7.9992 11.8081 15.6323 20.7868 1.27142 8.23331 11.8729 15.3995 20.0957 0.56967 9.93486 17.1419 26.7576 75.2426 1.24856 8.38222 11.9212 15.2698 19.6855 1.23776 8.45392 11.9463 15.2121 19.4954 1.27897 8.18491 11.8584 15.4446 20.2338 19.2005 4.45217 5.03158 6.68851 9.95947 0.800967 9.05971 14.4257 20.8958 47.3288 1.24544 8.40286 11.9283 15.2528 19.6303 39.7722 4.36261 3.75483 6.74474 30.734 0.756488 9.35526 14.5294 20.6587 46.5466 19.1939 4.49565 5.0461 6.65175 9.84146 0.390016 11.2237 20.0547 32.4329 102.371 0.392282 11.1975 20.045 32.4525 102.437 0.112814 16.0236 31.8282 56.1002 213.171 0.0076197 27.5654 58.9495 109.782 462.561 0.0449718 20.2551 30.7359 45.5077 150.455 0.685723 14.5169 16.2324 16.0578 12.0678 0.0238773 22.7813 36.7689 57.5204 206.048 0.695198 14.3235 16.0615 15.9361 12.1674 0.697356 14.2805 16.0236 15.9095 12.1902 56.297 7.42742 3.63969 4.12826 39.7508 0.686986 14.4906 16.2091 16.0411 12.081 0.687889 14.472 16.1926 16.0292 12.0905 0.683949 14.5539 16.2652 16.0815 12.0493 0.135301 16.53 21.7503 27.5513 67.1234 1.23801 8.45224 11.9457 15.2134 19.4998 1.25895 8.31407 11.8985 15.3274 19.8705 0.749448 9.40344 14.5481 20.6247 46.4265 0.261636 12.7234 23.1014 38.1032 129.258 1.20959 8.64513 12.0186 15.0723 19.0109 1.18915 8.78798 12.0775 14.9804 18.6686 1.31045 7.98739 11.8052 15.6451 20.8232 0.0655548 18.2939 37.7128 68.1574 269.152 1.26039 8.30467 11.8954 15.3356 19.8964 1.2284 8.5168 11.9692 15.1639 19.3326 19.2445 4.17146 4.94883 6.95463 10.7672 0.8386 8.82074 14.3571 21.127 48.0238 1.23928 8.44378 11.9427 15.22 19.522 1.23377 8.4806 11.9559 15.1913 19.4259 1.22696 8.52651 11.9728 15.1566 19.3078 0.0658922 18.2717 37.704 68.1723 269.204 0.0671332 18.1907 37.6726 68.2285 269.396 0.00144691 34.7744 76.8342 145.892 629.996 0.411118 10.9849 19.9718 32.6254 102.994 0.417393 10.9162 19.9503 32.6868 103.183 1.28416 8.15193 11.8488 15.4763 20.3293 0.178462 14.2234 26.1904 43.8869 156.353 0.535228 10.2295 17.243 26.5166 74.463 0.0280826 21.9221 46.6545 86.1668 352.742 0.194166 13.8531 26.0133 44.0579 157.109\r\n",
      "CM042338.1:1342981 0 0 0 0 0 0 0 0 0 0 0 0 0 12 107 0 3 37 0 0 0 0 3 37 37 0 141 0 3 37 0 0 0 0 0 0 0 0 0 0 15 127 0 24 162 0 9 92 0 3 37 0 0 0 0 9 92 0 3 37 27 3 0 0 0 0 79 0 53 37 3 0 0 0 0 0 3 37 0 0 0 0 0 0 0 0 0 0 9 92 0 12 113 0 0 0 0 3 37 0 0 0 37 3 0 0 0 0 0 6 67 0 15 127 0 0 0 0 0 0 0 0 0 0 0 0 31 0 31 0 0 0 0 0 0 0 0 0 0 0 0 0 15 129 0 0 0 0 9 84 0 0 0 67 6 0 0 9 92 31 0 31 37 3 0 37 3 0 0 6 67 0 24 162 0 3 37 92 9 0 0 0 0 0 3 33 0 0 0 0 6 67 37 3 0 0 3 37 0 12 113 0 0 0 0 3 37 0 0 0 36 3 0 0 3 37 0 0 0 0 12 113 0 9 92 0 9 92 0 0 0 0 9 92 0 0 0 0 9 92 0 6 67 0 0 0 0 6 67 0 6 67 0 0 0 0 0 0 0 18 141 0 0 0 0 0 0 0 18 143 0 3 37 0 0 0 0 3 37 0 0 0 0 9 92 0 0 0 0 6 67 0 9 92 31 0 31 0 0 0 0 0 0 0 6 67 0 0 0 0 0 0 0 0 0 0 0 0 0 6 67 0 6 67 0 0 0 67 6 0 0 3 37 0 3 37 0 0 0 0 0 0 92 9 0 0 0 0 0 3 37 67 6 0 37 3 0 0 3 37 78 0 25 0 6 67 92 9 0 104 12 0 0 0 0 0 6 67 64 6 0 0 0 0 45 0 79 0 15 124 53 0 79 95 0 50 0 3 37 0 0 0 0 12 113 0 36 184 0 0 0 0 6 67 0 0 0 0 0 0 0 6 67 0 0 0 0 12 113 0 0 0 0 0 0 0 0 0 0 0 0 0 3 37 0 6 57 0 9 84 0 42 189 0 0 0 0 0 0 0 0 0 0 0 0 0 0 0 0 0 0 0 3 37 0 0 0 0 6 64 0 0 0 0 0 0 0 3 37 88 9 0 0 0 0 37 3 0 37 3 0 37 3 0 0 0 0 37 3 0 0 0 0 0 0 0 67 6 0 28 0 59 0 0 0 0 3 37 0 0 0 37 3 0 0 0 0 0 27 169 0 6 64 0 0 0 100 0 22 37 3 0 0 3 37 0 3 37 0 18 143 0 0 0 33 0 150 0 0 0 0 0 0 0 0 0 35 3 0 37 3 0 0 3 37 0 0 0 0 3 37 0 0 0 0 15 129 0 0 0 0 0 0 0 6 67 0 0 0 0 0 0 0 6 67 0 9 92 0 0 0 0 3 37 0 3 37 0 18 138 0 0 0 0 0 0 0 0 0 0 0 0 0 6 67 0 0 0 0 3 37 0 0 0 0 0 0 0 9 92 7 0 145 0 0 0 0 0 0 0 0 0 0 0 0 0 3 37 37 3 0 0 0 0 0 9 92 0 6 67 0 15 129 0 3 37 0 0 0 0 0 0 0 3 37 0 15 122 0 12 113 0 3 37 0 18 143 0 21 152 0 9 92 0 6 67 37 3 0 0 24 161 0 3 37 0 0 0 0 0 0 0 0 0 0 0 0 0 0 0 67 6 0 0 3 37 0 6 67 0 0 0 0 3 37 81 0 25 0 6 67 0 0 0 0 3 37 19 0 109 0 6 67 0 6 67 0 12 113 0 0 0 0 15 127 0 0 0 0 6 67 0 3 37 0 3 37 0 3 37 0 6 60 66 6 0 0 3 37 0 0 0 0 3 37 0 0 0 0 0 0 0 0 0 0 6 64 0 9 85 0 6 64 0 3 37 0 3 37 0 0 0 0 0 0 0 0 0 0 0 0 0 0 0 0 15 127 0 0 0 37 3 0 0 9 92 0 9 92 0 0 0 0 0 0 0 6 67 0 0 0 0 3 37 0 0 0 37 3 0 37 3 0 0 6 67 0 6 67 50 0 98 67 6 0 0 3 37 0 6 67 37 3 0 0 3 37 0 0 0 0 0 0 0 0 0 0 0 0 0 0 0 31 0 31 0 30 175 0 0 0 0 0 0 0 3 37 0 3 37 37 3 0 16 0 124 0 0 0 53 0 79 64 6 0 67 6 0 0 0 0 37 3 0 0 0 0 50 0 98 0 0 0 0 0 0 0 6 67 0 12 113 37 3 0 0 9 92 0 0 0 0 0 0 92 9 0 0 0 0 0 0 0 0 0 0 37 3 0 0 0 0 0 6 57 0 9 92 0 3 37 0 6 67 67 6 0 28 0 59 0 0 0 0 0 0 0 9 92 0 0 0 0 0 0 37 3 0 0 12 113 0 9 92 0 0 0 0 0 0 0 0 0 0 6 67 0 9 92 0 0 0 0 0 0 0 0 0 0 6 67 0 0 0 0 0 0 0 0 0 0 12 107 55 0 56 0 0 0 0 0 0 0 0 0 0 6 67 0 0 0 0 0 0 0 3 37 0 9 92 129 15 0 59 0 28 0 3 37 0 9 92 0 9 92 74 0 96 92 9 0 0 12 106 0 0 0 37 3 0 0 0 0 0 0 0 0 12 113 0 9 92 67 6 0 3.57434 5.10679 7.45532 11.4115 33.6524 32.3628 0.816488 7.73878 26.0332 167.912 0.208916 13.3477 31.5304 62.2497 267.662 28.3508 8.21482 5.81604 5.03596 5.65398 1.2826 6.64775 14.2703 27.1607 110.499 1.00131 7.35226 16.6978 32.6821 136.713 138.696 19.0508 5.20868 1.63703 36.8234 66.2356 7.89166 3.03264 4.68485 43.4987 3.26724 5.363 7.77634 11.518 33.1328 21.8345 3.07612 4.04213 9.71851 52.4086 2.80709 4.90133 8.91848 16.1483 59.5641 6.73965 5.53533 5.93331 7.54855 11.0977 6.33736 5.77102 6.25737 7.57988 10.387 8.11412 4.95505 5.04503 7.69345 13.6595 29.9256 7.31066 4.56562 4.93499 8.45453 7.4248 5.20916 5.45431 7.57882 12.3464 5.08485 4.22556 6.24238 11.2991 36.3318 53.183 12.2832 6.84941 4.46252 4.24317 6.55726 5.63757 6.07577 7.55768 10.7736 5.49299 6.41243 7.07917 7.80503 8.94197 5.71972 6.21685 6.83595 7.71945 9.32414 5.62061 6.29993 6.93994 7.75428 9.15658 5.44406 6.45731 7.13425 7.82634 8.86003 5.56665 6.34671 6.99805 7.7749 9.06568 65.929 7.90259 3.08033 4.61094 43.0715 2.45725 6.24442 8.8225 12.0171 31.7975 4.36685 7.77806 8.67036 8.64536 7.1015 26.8753 9.86858 7.76918 5.99407 3.22209 5.83611 6.12375 6.71815 7.68334 9.52194 5.66157 6.26515 6.89653 7.73942 9.22573 5.59898 6.31855 6.9631 7.76241 9.12011 5.74471 6.19646 6.81027 7.71127 9.36652 5.87694 6.09217 6.67787 7.67183 9.5916 23.0803 4.59837 4.00147 6.05441 26.6187 5.75254 6.19012 6.80227 7.70876 9.37981 42.8421 5.10574 3.26128 6.58803 46.4177 5.69961 6.23342 6.85677 7.72621 9.29007 5.65271 6.27263 6.90588 7.74258 9.21076 28.4129 8.16728 5.75525 5.01899 5.76003 89.9567 11.2531 3.40845 3.2903 40.8121 1.759 5.86572 11.7326 21.6373 84.5881 3.55332 5.12326 7.47626 11.4176 33.6166 52.9983 12.5949 7.2215 4.63469 3.85743 3.49756 5.16767 7.53251 11.4347 33.5217 23.5559 3.11086 3.82263 10.3466 55.0695 3.45334 5.20365 7.57786 11.4491 33.4467 23.4703 4.58762 3.94399 6.15148 27.1622 1.44813 7.10462 11.4871 17.5046 57.0234 2.26886 6.5076 9.12252 12.194 31.4938 4.25458 7.96646 8.8801 8.78347 6.92299 1.81743 7.27124 9.97188 12.7555 30.7762 4.41897 7.69488 8.5772 8.58566 7.18467 4.29354 7.8996 8.80586 8.73401 6.98484 182.003 39.9339 19.6472 8.16018 0.776369 52.9198 12.7398 7.3923 4.71978 3.69386 5.29447 6.60093 7.30884 7.89832 8.61067 5.61284 6.3066 6.94824 7.75718 9.14347 5.78776 6.16185 6.76654 7.69773 9.43964 52.9538 12.676 7.31732 4.68198 3.76468 5.65188 6.27332 6.90674 7.74287 9.20937 3.56081 5.11737 7.46878 11.4154 33.6293 2.31355 5.49931 9.6495 16.4394 58.6276 3.4587 5.19925 7.57232 11.4473 33.4558 7.39747 5.22062 5.47191 7.57587 12.2956 26.0933 4.53985 3.51962 6.97827 31.1278 7.58324 5.14493 5.35448 7.59846 12.6428 3.17366 4.54622 8.46486 16.0209 60.2722 2.36583 4.89133 10.5509 21.1415 85.9033 25.714 4.54361 3.584 6.83959 30.5162 6.58906 5.61922 6.05042 7.5555 10.8299 28.9227 7.82007 5.29775 4.92624 6.64327 104.014 21.9434 10.481 4.74296 2.45206 1.19948 6.52564 17.3068 37.3394 164.432 1.58535 5.8882 13.3762 26.7117 111.255 7.72975 5.08879 5.26537 7.62035 12.9196 22.852 3.09391 3.91425 10.0746 53.9497 25.8617 4.542 3.559 6.89282 30.7526 7.95492 5.00818 5.13403 7.66054 13.3506 4.3787 4.57323 6.74723 11.2808 35.0515 2.02759 5.38771 11.1617 21.3734 85.1675 1.69191 5.43976 14.4136 31.6338 138.738 44.5123 5.10672 3.0478 7.08412 48.8156 7.62219 5.12971 5.33049 7.60394 12.7161 20.0865 2.1184 4.77417 13.6549 77.28 3.00756 4.69925 8.66247 16.0707 59.9499 29.8062 7.36164 4.64338 4.92312 8.2332 54.0896 11.1696 5.44916 4.01368 6.16918 7.4531 5.19741 5.43621 7.58201 12.3991 4.15996 4.70161 6.92365 11.2981 34.6652 1.43725 6.57498 12.5553 22.0845 83.8979 1.58127 6.78911 11.1361 17.2724 57.2675 69.4064 10.8729 4.37563 2.65315 19.901 0.326558 11.5445 26.2807 50.8135 214.795 5.20071 6.69621 7.42336 7.94901 8.45526 5.20941 6.68719 7.41256 7.94412 8.46965 5.25101 6.64457 7.36141 7.92126 8.53856 52.683 13.2311 7.96257 5.02868 3.20149 65.1222 7.93216 3.199 4.43442 41.9771 7.39412 5.22204 5.47408 7.57552 12.2894 6.75236 5.52847 5.92363 7.54821 11.1205 6.89025 5.45619 5.82078 7.54687 11.3679 6.97564 5.4133 5.75891 7.54813 11.5221 4.08067 3.88791 7.56583 15.9261 62.0828 53.6861 11.5962 6.0012 4.14797 5.30383 4.9809 4.27109 6.3112 11.2901 36.14 7.84753 5.0458 5.19584 7.64041 13.1442 7.80341 5.06168 5.22167 7.63265 13.0598 6.67346 5.5716 5.9842 7.55094 10.9797 8.03327 4.98165 5.08984 7.67629 13.5022 53.5856 11.7177 6.15449 4.19587 5.09057 6.47307 5.68729 6.14397 7.56467 10.625 29.4813 7.51249 4.86681 4.90452 7.6391 7.17408 5.31885 5.62019 7.55689 11.8835 0.704365 8.93867 16.8362 28.8129 109.043 4.38123 7.75486 8.64441 8.62863 7.12442 4.87461 7.06367 7.85674 8.16328 7.91986 4.62094 7.39539 8.23858 8.37797 7.50873 1.58534 6.77997 11.1258 17.2658 57.275 4.52577 7.5322 8.39392 8.47137 7.35567 4.35334 7.80006 8.69494 8.66129 7.07997 2.19721 6.61528 9.24405 12.2692 31.379 18.292 3.07209 4.42636 8.81583 47.5935 5.84501 6.11682 6.70932 7.68078 9.53711 5.95973 6.0298 6.5978 7.6503 9.73327 43.2814 5.10443 3.20774 6.70723 47.0294 28.4615 8.13091 5.70848 5.00662 5.84331 5.98994 6.00758 6.5691 7.64302 9.7851 5.82818 6.12994 6.72602 7.68564 9.50844 6.06927 5.95055 6.49501 7.62532 9.9216 3.65564 5.04447 7.37566 11.3892 33.7912 6.04746 5.96604 6.51519 7.62998 9.88403 5.80636 6.1471 6.74783 7.69209 9.47128 5.99126 6.00662 6.56785 7.64271 9.78737 78.3613 17.2578 8.85805 4.63588 2.94788 5.65635 6.26955 6.90203 7.74127 9.21692 28.5718 8.05116 5.60504 4.9815 6.03285 5.67782 6.25153 6.87949 7.73371 9.2532 6.10569 5.92499 6.46159 7.61788 9.98445 2.59679 5.1368 9.21061 16.2531 59.1628 78.3992 17.114 8.69168 4.54409 3.06115 5.63786 6.28521 6.92159 7.74794 9.18568 66.6573 7.87711 2.96493 4.79292 44.0972 52.9176 12.7439 7.39721 4.72227 3.68927 5.6867 6.24413 6.87021 7.73063 9.26823 5.8354 6.1243 6.71885 7.68354 9.52074 78.4141 17.0593 8.62811 4.5096 3.10567 23.6463 4.58302 3.91748 6.19741 27.411 6.05512 5.96059 6.50809 7.62833 9.89722 1.86241 5.67132 11.5022 21.5258 84.8107 23.4142 4.58912 3.95237 6.13711 27.0834 95.0576 14.5579 4.89187 2.00533 19.7448 1.34662 6.47037 14.064 27.0502 110.659 5.82896 6.12933 6.72525 7.68541 9.50977 3.40111 5.24706 7.6323 11.467 33.3583 155.778 33.3567 15.9713 6.53346 1.23725 5.70707 6.22725 6.84902 7.72368 9.30272 0.871366 7.88578 17.3089 33.0366 136.327 5.78497 6.16407 6.76935 7.69859 9.4349 5.68233 6.24777 6.87477 7.73214 9.26083 114.217 15.0093 4.16197 2.33009 38.7215 5.6285 6.29318 6.93152 7.75137 9.1699 5.70655 6.22768 6.84956 7.72386 9.30184 42.8047 5.10589 3.26575 6.57824 46.3662 28.0638 8.45197 6.11386 5.1331 5.16781 5.72161 6.2153 6.834 7.71883 9.32734 3.63261 5.06191 7.39802 11.3952 33.7518 5.68893 6.24227 6.86788 7.72986 9.272 7.39682 5.2209 5.47233 7.5758 12.2944 6.84659 5.47866 5.85295 7.54684 11.2894 28.4201 8.16183 5.74826 5.0171 5.77238 5.94966 6.03727 6.60742 7.65279 9.71601 52.9971 12.5971 7.22413 4.63598 3.85485 5.98523 6.01103 6.57355 7.64413 9.77702 27.9428 8.56127 6.24841 5.18405 4.96496 18.1023 2.08755 4.99638 13.0396 74.4332 0.92703 7.50031 18.4665 37.8835 163.485 46.1377 5.12661 2.8209 7.68177 51.3673 6.76729 5.52046 5.91232 7.54786 11.1472 1.6094 5.83549 13.3131 26.6831 111.315 78.7073 16.1641 7.57102 3.9888 3.96062 49.3095 7.17431 3.13432 4.93728 28.0676 7.84318 5.04735 5.19838 7.63963 13.1358 54.1255 11.1357 5.40428 4.00563 6.2471 1.43536 6.01954 15.124 31.9072 137.986 24.4236 4.56481 3.79646 6.41643 28.537 18.4309 1.487 5.86447 17.8439 102.134 3.21955 4.50604 8.41238 16.0092 60.3617 7.4613 5.19403 5.43099 7.58296 12.4144 1.5269 6.02044 13.5339 26.785 111.109 7.01276 5.39509 5.73243 7.54916 11.5894 7.82366 5.05436 5.20979 7.63617 13.0985 2.52915 5.21829 9.31034 16.2925 59.0345 2.44373 5.32559 9.44068 16.3467 58.8729 5.68154 6.24842 6.87559 7.73241 9.25951 5.85915 6.10586 6.69535 7.67677 9.56123 2.34895 5.45079 9.59143 16.4129 58.6942 3.55074 5.12529 7.47884 11.4184 33.6122 28.2319 8.30944 5.93591 5.07235 5.45183 5.4626 6.44018 7.11326 7.81814 8.89106 2.38244 5.40579 9.5374 16.3887 58.7573 7.15357 5.32829 5.6342 7.55562 11.846 5.56974 6.34401 6.9947 7.77369 9.07087 5.42883 6.47148 7.15159 7.83319 8.83456 5.57177 6.34223 6.99249 7.7729 9.07429 1.70326 5.97654 11.8629 21.7032 84.4683 5.7293 6.20901 6.82608 7.71629 9.34038 6.8807 5.46107 5.82779 7.54683 11.3507 5.68336 6.2469 6.87369 7.73178 9.26258 1.10738 7.19184 14.8952 27.5182 110.06 42.7736 5.10602 3.26945 6.57013 46.3233 5.72048 6.21622 6.83517 7.7192 9.32543 103.904 23.7747 12.5379 6.05365 1.59921 0.218015 13.1674 31.3283 62.1196 267.743 5.62677 6.29466 6.93337 7.752 9.16696 28.0767 8.44066 6.09985 5.12803 5.18952 82.8611 6.45758 2.09863 8.0371 86.5756 52.9746 12.6379 7.27233 4.65963 3.80791 3.56117 5.11709 7.46842 11.4153 33.6299 3.49549 5.16934 7.53462 11.4354 33.5182 46.634 7.33172 3.69539 4.15604 23.9417 78.3136 17.4506 9.0798 4.76165 2.80383 5.70305 6.23057 6.85319 7.72504 9.29591 28.0322 8.47995 6.14845 5.1458 5.11472 3.42262 5.22906 7.60976 11.4595 33.3947 5.87474 6.09385 6.68002 7.67244 9.58785 63.0451 5.73836 2.60855 7.33409 66.7829 6.20302 5.85853 6.37408 7.59998 10.153 28.4709 8.12399 5.69954 5.00433 5.85938 5.88693 6.08453 6.66809 7.66911 9.60867 2.47453 5.28631 9.39309 16.3266 58.9311 53.1417 12.3497 6.92928 4.49789 4.15678 6.04273 5.96942 6.51959 7.63101 9.87589 5.6203 6.3002 6.94027 7.7544 9.15605 5.84163 6.11944 6.71267 7.68175 9.53136 5.99896 6.001 6.56058 7.6409 9.8006 5.7423 6.19841 6.81273 7.71205 9.36243 5.94235 6.04271 6.61443 7.65462 9.70348 6.02587 5.98152 6.53531 7.63475 9.84687 1.92631 5.55791 11.3667 21.4634 84.9486 5.87711 6.09204 6.6777 7.67179 9.59189 3.67561 5.0295 7.35641 11.384 33.8254 5.76411 6.18078 6.79048 7.70508 9.39946 5.71096 6.22404 6.845 7.72237 9.30931 38.1428 2.47419 4.08805 13.5619 94.6676 155.823 33.7607 16.4189 6.83674 1.13734 46.615 7.33295 3.69904 4.15168 23.9147 5.74873 6.1932 6.80616 7.70998 9.37334 3.60179 5.08551 7.42819 11.4037 33.6992 78.252 17.7202 9.38789 4.94256 2.61598 5.77257 6.17399 6.7819 7.70243 9.41382 5.79074 6.15948 6.76353 7.69682 9.44471 3.54693 5.12829 7.48265 11.4195 33.6057 18.2787 2.089 4.97766 13.0876 74.6758 5.46941 6.43393 7.10559 7.81517 8.90246 3.15623 10.9653 12.0748 11.3124 5.22136 0.568759 10.7213 15.3347 20.5693 55.4315 0.133779 15.4742 27.111 44.2856 160.544 0.595089 10.5381 15.1447 20.4026 55.4787 0.282762 12.6712 20.7848 32.029 107.955 103.885 30.2122 19.3636 11.5714 0.372377 3.18934 10.8214 11.9254 11.1821 5.27149 3.19319 10.805 11.9084 11.1673 5.27732 130.165 35.861 22.0149 12.4928 0.282024 0.375062 11.8454 18.2154 26.4326 81.6226 5.71219 6.22303 6.84372 7.72196 9.31139 155.821 33.7403 16.3964 6.82134 1.14218 2.29628 5.52336 9.6782 16.4527 58.5951 2.26422 5.56862 9.7321 16.478 58.535 5.57309 6.34108 6.99106 7.77238 9.07651 5.47364 6.43006 7.10084 7.81333 8.90954 46.9876 7.30897 3.62626 4.24025 24.4501 46.622 7.3325 3.6977 4.15328 23.9247 5.82251 6.13438 6.73167 7.6873 9.49878 3.40254 5.24586 7.63079 11.4665 33.3608 53.161 12.3184 6.89169 4.48113 4.19718 6.03125 5.97765 6.53029 7.63355 9.85612 5.71843 6.21791 6.83728 7.71988 9.32195 5.69139 6.24023 6.86532 7.72902 9.27616 5.65796 6.26819 6.90033 7.7407 9.21964 57.7272 2.99442 3.38308 14.0568 114.215 86.2704 8.5476 2.42549 5.40286 63.6226 23.0966 4.5979 3.99911 6.05832 26.6411 18.6937 2.0934 4.93283 13.2056 75.2538 23.7616 4.58009 3.89992 6.22823 27.5752 40.5121 3.55224 3.4063 9.90792 70.6635 1.08516 7.26791 14.9817 27.5703 110.004 52.9642 12.657 7.29486 4.67079 3.78619 0.7376 8.39138 19.4982 38.45 162.818 0.876799 7.86172 17.2816 33.0202 136.344\r\n",
      "CM042338.1:1496841 0 0 0 0 3 37 0 9 92 0 18 138 0 24 161 0 0 0 0 3 37 0 6 67 0 0 0 0 9 92 0 0 0 0 0 0 0 3 37 0 3 37 0 0 0 0 0 0 0 12 113 0 3 37 0 0 0 0 0 0 0 0 0 0 0 0 0 0 0 0 0 0 0 15 129 0 0 0 0 0 0 0 9 92 0 0 0 0 3 37 0 6 67 0 0 0 0 9 92 0 0 0 0 0 0 0 6 67 0 9 92 0 9 92 0 12 110 0 0 0 0 0 0 0 0 0 0 12 113 0 6 67 0 0 0 0 0 0 0 9 92 0 3 37 0 0 0 0 0 0 0 0 0 0 6 67 0 0 0 0 0 0 0 0 0 0 3 37 0 0 0 0 14 165 0 6 67 0 30 173 0 27 170 0 3 37 0 3 37 0 3 37 0 6 67 0 0 0 0 3 33 0 9 92 0 0 0 0 12 113 0 15 127 0 15 129 0 0 0 0 9 92 0 12 110 0 0 0 0 12 110 0 0 0 0 21 147 0 6 67 0 0 0 0 9 92 0 0 0 0 0 0 0 9 92 0 12 113 0 0 0 0 0 0 0 0 0 0 0 0 0 0 0 0 0 0 0 3 37 0 0 0 0 0 0 0 0 0 0 0 0 0 9 92 0 12 106 0 9 92 0 3 37 0 9 92 0 0 0 0 0 0 0 12 113 0 0 0 0 0 0 0 0 0 0 0 0 0 3 37 0 0 0 0 6 67 0 0 0 0 0 0 0 6 67 0 6 67 0 9 92 0 0 0 0 6 67 0 0 0 0 9 85 0 0 0 0 3 37 0 0 0 0 6 67 0 6 67 0 12 113 0 3 37 0 12 113 0 0 0 0 0 0 0 3 37 0 0 0 0 9 92 0 6 67 0 0 0 0 0 0 0 6 64 0 0 0 0 3 33 0 0 0 0 0 0 0 0 0 0 0 0 0 6 67 0 39 187 0 18 143 0 6 67 0 6 67 0 9 92 0 33 180 0 0 0 0 0 0 0 0 0 0 6 57 0 9 92 0 0 0 0 0 0 0 0 0 0 21 152 0 0 0 0 0 0 0 9 91 0 3 37 0 0 0 0 0 0 0 0 0 0 0 0 0 0 0 0 0 0 0 0 0 0 0 0 0 0 0 0 0 0 0 0 0 0 3 37 0 0 0 0 12 107 0 6 67 0 0 0 0 15 122 0 6 64 0 0 0 0 12 113 0 6 67 0 3 37 0 6 59 0 9 92 0 9 92 0 3 37 0 42 189 0 6 67 0 3 37 0 12 113 0 15 129 0 18 143 0 9 92 0 0 0 0 0 0 0 6 67 0 36 182 0 0 0 0 0 0 0 0 0 0 18 143 0 12 113 0 0 0 0 0 0 0 3 37 0 18 143 0 3 37 0 6 67 0 6 67 0 3 37 0 18 143 0 0 0 0 3 37 0 6 67 0 0 0 0 0 0 0 3 37 0 3 37 0 3 37 0 0 0 0 6 67 0 3 37 0 9 92 79 0 53 0 6 67 0 12 113 0 0 0 0 3 37 0 15 128 0 6 67 0 9 92 0 12 113 0 3 33 0 15 129 0 0 0 0 3 37 59 0 28 0 12 113 0 9 92 0 12 110 0 36 183 0 0 0 0 0 0 0 9 92 0 9 92 0 3 37 0 9 92 0 3 37 0 3 37 0 3 37 19 0 109 0 18 143 0 12 113 0 15 129 59 0 28 0 9 89 0 12 113 0 9 92 0 3 35 0 3 37 0 6 67 0 3 37 0 18 143 0 15 129 0 12 113 0 33 180 0 0 0 0 3 36 0 3 37 0 9 85 0 9 92 0 6 59 0 6 67 0 9 92 0 21 148 120 0 105 0 3 27 0 6 67 0 0 0 0 6 64 0 9 92 0 33 179 0 21 150 0 30 175 26 62 202 0 12 110 0 6 67 0 21 152 0 6 59 0 6 67 0 48 191 0 24 162 0 18 139 0 3 37 0 33 178 0 54 195 0 27 170 0 21 154 0 12 113 0 15 129 0 6 67 0 0 0 0 3 37 0 6 67 0 9 92 0 9 92 0 6 67 0 9 92 0 0 0 0 24 162 0 21 154 13 34 158 0 3 37 59 0 28 0 15 127 0 15 129 0 18 139 0 9 92 25 0 81 0 21 149 42 0 131 0 9 92 0 15 127 0 3 37 0 18 143 0 9 92 0 15 129 0 9 92 0 3 37 0 3 37 0 0 0 0 0 0 0 3 37 0 6 57 0 48 192 0 6 67 0 6 67 0 30 173 0 21 154 0 3 37 0 27 170 0 6 67 0 9 92 0 18 143 0 12 113 0 9 92 0 9 92 0 3 37 0 0 0 25 0 81 0 9 92 0 24 162 0 12 113 0 3 37 0 9 92 0 18 138 0 0 0 0 3 37 141 0 63 0 33 178 0 6 67 0 12 113 0 0 0 0 6 67 0 6 67 0 33 178 0 6 67 0 6 67 0 3 33 0 12 113 0 27 170 0 6 67 0 9 92 0 12 107 0 6 67 0 6 67 0 0 0 0 9 92 0 0 0 0 0 0 0 0 0 0 3 37 0 27 170 0 9 92 0 21 154 0 3 37 0 9 92 0 0 0 0 0 0 0 0 0 0 21 154 0.144352 16.6223 21.342 25.5718 30.9033 0.141237 16.8211 21.3474 25.3199 30.2862 0.139429 16.9392 21.3572 25.1841 29.9399 0.144626 16.605 21.3422 25.5951 30.9589 0.0176233 24.0563 39.2403 61.3552 200.459 0.146475 16.4898 21.3466 25.7572 31.3401 0.0922214 17.8021 24.2937 31.5412 59.2198 0.143333 16.6867 21.3422 25.4868 30.6985 0.137317 17.0796 21.3747 25.0351 29.546 0.0755485 18.1459 27.4569 39.067 90.8784 0.0706614 18.4939 27.3348 38.35 89.3926 0.0576713 19.104 30.5884 45.7136 120.492 0.103137 17.1466 24.3989 32.6308 61.6346 0.139648 15.2976 26.9365 40.4243 75.5826 0.1784 14.7405 22.4605 30.4097 40.3928 0.0274415 22.0719 40.3348 66.2727 210.174 0.124481 16.0115 25.297 36.0164 68.0554 0.0675152 18.7294 27.2899 37.9439 88.5042 0.0404334 20.5513 33.4543 51.158 147.732 0.0407316 20.7831 30.2996 42.8865 114.256 0.0172522 24.1512 39.2448 61.2391 200.172 0.0597515 19.355 27.2855 37.1063 86.4984 0.0289782 22.0971 33.3064 48.8033 142.36 0.0417262 20.6679 30.2822 43.0021 114.569 0.0166676 24.305 39.2585 61.0648 199.726 0.0217812 23.405 33.7528 48.0251 139.574 0.0257689 22.937 31.1584 41.8758 110.045 0.109476 19.2636 22.2216 23.9564 25.1886 0.0635917 19.0371 27.269 37.4926 87.4602 0.140355 16.8785 21.3516 25.2527 30.1162 0.0865475 18.1679 24.3124 31.0961 58.1114 0.0619647 19.1696 27.2716 37.3225 87.0459 0.0459294 20.2077 30.2555 43.5548 115.951 0.0167024 24.2957 39.2575 61.0749 199.752 0.0174416 24.1025 39.2421 61.2978 200.318 0.0607768 19.2684 27.2776 37.2043 86.7498 0.0435248 20.4659 30.2615 43.2258 115.148 0.0603243 19.3065 27.2807 37.1606 86.6384 0.09366 17.7123 24.2966 31.6664 59.5154 0.0904428 17.9148 24.2944 31.3934 58.8629 0.0909394 17.8832 24.2937 31.4339 58.9616 0.00987204 26.4964 45.2391 73.4094 257.237 0.0237475 22.8294 36.243 55.3421 172.102 0.0443435 20.3765 30.2567 43.3339 115.417 0.0215702 23.0874 43.7275 73.3961 240.454 0.141597 16.7979 21.3461 25.3478 30.3562 9.94802e-05 46.4006 93.2915 169.478 710.486 0.0192948 23.9561 34.0317 47.8959 138.68 0.0032705 31.2703 51.9569 83.9142 308.821 35.3481 0.304783 11.7184 37.9758 258.279 16.6341 0.619815 9.59271 28.3489 182.363 0.000230837 42.7459 79.1266 137.886 563.32 0.00517526 29.3285 46.2599 71.8519 251.384 0.138704 16.9871 21.3625 25.1318 29.8034 0.00697689 27.9854 48.2549 79.1159 284.824 0.0380584 21.1062 30.3682 42.6043 113.439 0.0596128 19.3668 27.2868 37.0934 86.4646 0.0324744 21.571 33.2471 49.3741 143.85 0.0232151 22.932 36.2484 55.2178 171.792 71.0932 3.55918 3.05544 11.9023 101.027 0.0633636 19.0555 27.269 37.4682 87.4015 0.139237 16.9519 21.3586 25.1702 29.9037 0.14172 16.79 21.3456 25.3574 30.3801 0.036582 20.8615 37.2984 60.1564 181.643 0.128673 15.8074 25.63 36.986 69.7579 0.0691005 18.2144 31.6286 49.0721 126.587 0.00956466 26.6038 48.5242 81.5066 290.04 0.11194 16.6574 24.6389 33.7819 63.938 0.048049 19.7415 34.1452 53.6766 152.462 0.16097 15.6443 21.5781 27.3631 34.7513 0.0533281 19.4856 30.3924 44.7979 118.67 0.0714003 18.4399 27.349 38.4514 89.6085 0.125121 15.98 25.3434 36.1555 68.3021 0.0737086 18.2745 27.4032 38.784 90.3025 0.0293115 21.7752 40.8824 67.8164 212.853 0.0468457 19.8609 33.9976 53.2091 151.619 0.0272229 22.1079 40.2803 66.1108 209.888 0.0550663 19.0973 35.419 57.2114 158.565 0.0777882 17.9931 27.5356 39.4343 91.6091 0.0112199 25.9336 45.2952 74.2711 259.195 8.2667 1.5676 8.55962 18.356 50.105 0.0567186 19.1854 30.5375 45.4993 120.075 0.130021 15.7429 25.7528 37.3298 70.3534 0.165593 15.3938 21.7358 28.0254 36.0397 0.0217321 23.1191 39.4025 62.9347 203.936 0.0653366 18.4913 31.1852 47.7748 124.306 0.177034 14.8076 22.3586 30.107 39.8578 0.0498144 19.5713 34.3936 54.4227 153.785 0.0533511 19.4835 30.3932 44.8024 118.679 0.130735 17.5361 21.4705 24.6335 28.3851 0.116227 18.6647 21.9056 24.0686 26.1251 0.13046 17.5559 21.4759 24.6187 28.3387 0.0801336 18.6055 24.3902 30.6813 56.9556 0.129617 17.6168 21.493 24.5744 28.1971 0.129822 17.6019 21.4887 24.5851 28.2315 0.130805 17.5311 21.4692 24.6372 28.397 0.131317 17.4945 21.4595 24.6652 28.484 0.129327 17.6378 21.4991 24.5595 28.1488 0.177801 14.7698 22.415 30.2753 40.1558 0.164464 15.4542 21.693 27.8557 35.714 0.167383 15.299 21.8098 28.3059 36.5723 0.169175 15.2053 21.8918 28.6019 37.1269 0.053048 19.2741 34.9654 56.0186 156.546 0.0429085 20.2732 33.6197 51.8722 149.129 0.00618994 28.4736 55.076 95.4732 350.355 0.0983872 16.7447 29.1929 44.568 100.813 0.18598 14.3789 23.1729 32.3877 43.8095 0.110412 16.74 24.5859 33.5615 63.5101 0.190461 14.173 23.7484 33.8789 46.3207 0.0306071 21.6766 36.5063 57.419 176.577 0.0540409 19.421 30.4184 44.9379 118.956 0.0184518 23.7812 42.7722 70.4746 235.244 0.0468882 19.8566 34.0025 53.2251 151.648 0.110868 19.1355 22.15 23.9713 25.3764 0.018515 24.1432 34.1357 47.8729 138.406 0.0694444 19.4023 24.6521 30.1837 55.2201 0.00824794 27.3395 42.8507 65.9574 224.174 0.0113019 26.0316 39.8184 59.9756 195.962 0.000325223 41.2576 75.9917 131.921 535.362 0.0566057 20.5053 25.1998 29.9011 53.3896 0.0042189 30.1842 49.0399 77.8871 280.257 0.0211691 23.5349 33.8145 47.9858 139.351 0.144537 16.6106 21.3421 25.5876 30.941 0.0657883 18.8628 27.276 37.738 88.0365 0.0137101 25.0976 42.2408 67.6209 229.418 0.0186441 23.8048 39.2445 61.6965 201.271 0.0188212 23.7626 39.2476 61.759 201.415 0.0452677 20.2775 30.2547 43.4608 115.726 0.0972105 17.4952 24.3177 31.9984 60.2725 0.0136848 25.1057 42.2405 67.6093 229.391 0.019158 23.6833 39.2556 61.8806 201.691 0.0630624 19.0798 27.2691 37.4362 87.3243 0.0254251 22.5201 36.2505 55.7669 173.107 0.013794 25.0706 42.2422 67.6594 229.508 0.140236 16.8863 21.3523 25.2438 30.0933 0.00336489 31.1204 57.267 97.9219 371.706 0.017011 24.214 39.2495 61.1659 199.987 0.00605955 28.5798 51.2686 86.0002 315.243 0.147413 16.432 21.3509 25.8428 31.5377 0.149107 16.3288 21.3622 26.0031 31.9012 0.042689 20.5588 30.2694 43.1194 114.877 0.0481532 19.9799 30.2718 43.8906 116.725 0.0428301 20.543 30.2678 43.1371 114.922 0.0126784 25.4435 42.2479 67.1784 228.342 0.00993618 26.468 45.2389 73.4464 257.326 0.00253823 32.3408 60.2735 103.964 400.119 0.0341123 21.343 33.2511 49.6841 144.588 0.00796896 27.4034 48.2574 79.8902 286.678 0.00773113 27.536 48.2453 79.6894 286.22 0.0631713 19.071 27.2691 37.4477 87.3522 0.0487301 19.9225 30.2795 43.9828 116.932 0.0650826 18.9182 27.2724 37.6572 87.8492 0.0634646 19.0473 27.269 37.479 87.4275 0.0880324 18.0704 24.3029 31.2053 58.3931 0.148243 16.3813 21.3559 25.9204 31.7145 0.0612939 19.2252 27.2745 37.2551 86.8781 0.0416973 20.6712 30.2826 42.9986 114.56 0.0908055 17.8917 24.2939 31.4229 58.9349 7.33504 2.96999 6.23082 11.4112 37.4019 0.00415006 30.2165 54.2449 91.4286 342.242 0.0598924 19.343 27.2842 37.1196 86.5327 0.141386 16.8115 21.3469 25.3314 30.315 0.00935775 26.7315 45.2525 73.1267 256.532 0.13806 17.0299 21.3678 25.0863 29.6833 0.0317981 21.6684 33.2513 49.2541 143.554 0.0461757 20.182 30.2563 43.5904 116.035 0.0314646 21.7172 33.2547 49.1966 143.409 0.177856 14.7671 22.4191 30.2875 40.1773 0.032168 21.4496 36.6561 58.0328 177.764 0.0102079 26.3494 45.2409 73.6075 257.709 0.0103114 26.305 45.2431 73.6708 257.856 0.142888 16.7151 21.3427 25.4505 30.6099 0.147699 16.4145 21.3525 25.8693 31.5984 0.135255 17.2195 21.398 24.8992 29.1718 0.0600532 19.3294 27.2829 37.1348 86.572 0.160059 15.6947 21.5523 27.2423 34.5107 0.185398 14.4061 23.1079 32.2146 43.5149 0.0799848 17.8469 27.6278 39.821 92.3609 0.105721 16.9996 24.4537 32.9404 62.2726 0.16608 15.3679 21.7552 28.1004 36.1828 0.0956724 16.8952 28.8429 43.6305 99.2145 0.0983148 16.7487 29.1827 44.5413 100.768 0.17803 14.7586 22.4322 30.3262 40.2457 0.0845648 17.5531 27.8722 40.7218 94.058 0.157358 15.8461 21.4854 26.9013 33.8207 0.0330114 21.3314 36.7525 58.391 178.439 0.111843 16.6626 24.6354 33.7676 63.9103 0.126792 15.8983 25.4719 36.5335 68.968 0.102126 17.2049 24.3808 32.5155 61.3926 0.0451971 20.0293 33.8208 52.616 150.531 0.0223616 22.9272 44.0819 74.3548 242.094 0.0334944 21.4278 33.2473 49.5639 144.306 0.0323854 21.5837 33.2475 49.358 143.811 0.140813 16.8487 21.3493 25.2874 30.2042 0.00314405 31.4159 57.2477 97.4908 370.71 0.0604231 19.2981 27.28 37.1701 86.6627 0.0240472 22.7726 36.2417 55.4144 172.278 0.141922 16.777 21.345 25.3733 30.4196 0.0833911 18.3798 24.3433 30.8807 57.5307 0.0094983 26.666 45.2469 73.2015 256.722 0.120507 16.2103 25.0398 35.214 66.6143 0.0858731 18.2127 24.3178 31.0482 57.9853 0.134974 17.2388 21.4017 24.8814 29.1216 0.138289 17.0147 21.3659 25.1024 29.7259 0.141211 16.8229 21.3476 25.3178 30.2811 0.0895365 17.9729 24.2966 31.3211 58.6844 0.167181 15.3096 21.8011 28.2737 36.5113 0.0170429 24.2057 39.2488 61.1755 200.011 0.134282 17.2864 21.4111 24.8383 28.9987 0.087507 18.1047 24.3059 31.1661 58.2928 0.0615328 19.2053 27.2734 37.2789 86.9377 0.0194768 23.7244 36.3969 54.4844 169.731 0.0616014 19.1996 27.273 37.2858 86.9548 0.0124201 25.5345 42.2566 67.0765 228.08 0.0164199 24.3717 39.2668 60.9941 199.539 0.145253 16.5657 21.3431 25.6491 31.0872 0.14209 16.7662 21.3445 25.3865 30.4524 0.000233807 42.6897 84.2802 151.433 625.428 0.142559 16.7361 21.3433 25.424 30.5449 0.000133042 45.1381 90.2877 163.497 682.214 0.143674 16.6651 21.3419 25.515 30.7667 9.4805e-05 46.6097 93.2998 169.219 709.849 0.137329 17.0788 21.3746 25.0359 29.5483 0.140895 16.8434 21.3489 25.2936 30.2199 0.0642787 18.982 27.2699 37.5674 87.6383 0.0337235 21.3962 33.2484 49.608 144.41 0.0367511 20.9967 33.2993 50.2435 145.837 0.0471797 20.0784 30.2621 43.7398 116.382 0.0182205 23.9075 39.2398 61.5509 200.93 0.0451316 20.292 30.2548 43.4418 115.68 0.0475266 20.0431 30.2651 43.7928 116.504 0.0191303 23.6898 39.2549 61.8705 201.668 0.139407 16.9406 21.3574 25.1826 29.9358 0.144461 16.6154 21.342 25.5811 30.9255 0.000104618 46.1819 93.3003 169.785 711.207 0.142202 16.7589 21.3442 25.3954 30.4745 1.40402e-09 94.9041 210.447 403.726 1815.44 0.0669614 18.7718 27.2846 37.8766 88.3528 0.0259768 22.4227 36.2609 55.9176 173.448 0.0333902 21.4422 33.2469 49.544 144.259 0.0250124 22.5943 36.2452 55.6577 172.855 0.00725061 27.8169 48.2428 79.313 285.321 0.0891176 17.9999 24.298 31.2883 58.6027 0.146111 16.5123 21.3454 25.7246 31.2643 0.143636 16.6675 21.3419 25.5118 30.7591 0.00312828 31.4377 57.2476 97.4617 370.64 0.0620362 19.1637 27.2713 37.3297 87.0639 0.144973 16.5832 21.3426 25.6249 31.0299 0.0598324 19.3481 27.2848 37.1139 86.5181 0.142892 16.7148 21.3427 25.4508 30.6107 0.0054744 29.0232 51.2435 85.3614 313.76 0.0177704 24.0191 39.2394 61.4024 200.575 0.0896215 17.9674 24.2963 31.3278 58.701 0.0570498 19.5898 27.3188 36.8659 85.8531 0.0252624 24.5552 28.1906 31.139 49.7654 0.000674886 38.1077 61.0879 97.048 361.341 0.00725751 28.3318 37.2294 49.1564 134.681 0.00793606 27.9359 36.8946 48.9309 134.896 0.0169902 25.4057 30.8584 36.9125 78.2894 0.015225 25.9092 31.2842 37.1993 78.0158 0.0162044 25.6234 31.0413 37.0334 78.1671 0.0262725 24.3668 28.0311 31.031 49.8673 0.00215265 33.1586 49.1063 73.0657 248.04 0.0780209 23.2869 25.1767 25.1474 21.5365 0.0891458 17.9981 24.2979 31.2905 58.6081 0.0450941 20.296 30.2548 43.4365 115.668 0.138727 16.9856 21.3623 25.1334 29.8077 0.0300463 21.9302 33.2783 48.9647 142.805 0.138319 17.0126 21.3656 25.1046 29.7316 0.0292773 22.0498 33.2976 48.8474 142.484 0.149635 16.297 21.3666 26.0547 32.0165 0.144609 16.6061 21.3422 25.5937 30.9556 0.144027 16.6427 21.3419 25.5445 30.8378 0.140434 16.8733 21.3512 25.2587 30.1313 0.148565 16.3617 21.3581 25.951 31.7838 0.14873 16.3516 21.3593 25.9668 31.8196 0.141657 16.794 21.3459 25.3525 30.3678 0.141039 16.834 21.3483 25.3046 30.2477 0.140273 16.8839 21.3521 25.2465 30.1004 0.144949 16.5848 21.3426 25.6228 31.0248 0.146192 16.5073 21.3456 25.7318 31.2812 0.139702 16.9213 21.3554 25.2041 29.9916 0.147226 16.4435 21.35 25.8255 31.4981 0.14838 16.3729 21.3568 25.9334 31.744 0.146692 16.4764 21.3475 25.7768 31.3855 0.133108 17.3681 21.4288 24.7675 28.7926 0.0893498 17.9849 24.2972 31.3064 58.6479 0.145745 16.535 21.3443 25.6922 31.1885 0.00285662 31.8331 57.2756 96.9981 369.472\r\n",
      "CM042338.1:1744262 0 24 144 0 3 33 0 0 0 0 0 0 0 12 100 0 21 135 0 0 0 0 3 33 0 0 0 0 9 82 0 6 60 0 24 144 0 12 97 0 12 97 0 6 60 0 18 127 0 6 60 0 6 60 0 27 143 0 18 124 0 9 82 0 15 115 0 21 122 0 0 0 0 3 33 0 0 0 0 3 31 0 0 0 0 6 60 0 3 33 0 12 99 0 0 0 0 6 60 0 18 115 0 6 55 0 6 60 0 9 78 0 12 100 0 0 0 0 3 33 0 0 0 0 15 108 0 12 94 0 0 0 0 9 77 0 0 0 0 0 0 0 0 0 0 21 136 0 12 100 0 12 100 0 3 31 0 12 100 0 12 100 0 0 0 0 6 60 0 9 78 0 9 82 0 0 0 0 6 60 0 6 60 0 0 0 0 0 0 0 3 33 0 3 30 0 0 0 0 6 60 0 0 0 0 3 33 0 0 0 0 0 0 0 0 0 0 0 0 0 3 33 0 0 0 0 12 100 0 9 82 0 0 0 0 0 0 0 0 0 0 3 33 0 21 131 0 12 100 0 6 60 0 0 0 0 15 113 0 12 100 0 0 0 0 3 33 0 6 55 0 0 0 0 9 82 0 0 0 0 0 0 0 3 33 0 42 163 0 0 0 0 12 100 0 15 115 0 18 127 0 0 0 0 6 60 0 6 58 0 6 60 0 0 0 0 3 33 0 3 33 0 0 0 0 0 0 0 0 0 0 6 60 0 3 33 0 0 0 0 6 60 0 3 33 0 3 33 0 3 33 0 6 60 0 0 0 0 18 120 0 3 33 0 18 124 0 12 95 0 12 94 0 15 115 0 9 79 0 3 33 0 9 78 0 6 60 0 15 113 0 0 0 0 9 82 0 18 122 49 0 136 0 24 144 0 12 100 16 0 84 0 0 0 0 21 133 37 0 98 0 6 60 0 3 33 0 0 0 0 9 82 0 18 127 0 3 30 0 24 142 0 6 60 0 0 0 25 0 124 0 18 127 0 0 0 0 3 30 0 6 60 0 3 33 0 9 80 0 6 60 0 12 100 56 6 0 0 0 0 0 0 0 0 6 55 0 0 0 0 0 0 0 0 0 0 3 33 0 6 60 0 3 27 0 0 0 0 0 0 0 0 0 0 18 127 0 9 80 0 3 33 0 0 0 0 6 60 0 0 0 0 15 115 0 15 112 0 0 0 0 3 33 0 0 0 0 0 0 0 0 0 0 0 0 0 9 82 0 6 60 59 0 82 0 6 60 0 3 33 0 15 112 0 3 33 0 12 100 0 6 64 0 0 0 0 18 127 0 21 136 0 9 77 0 9 82 0 0 0 0 21 136 0 3 33 0 9 82 75 9 0 0 0 0 0 0 0 0 0 0 0 9 82 0 9 78 0 9 82 0 3 33 0 3 33 0 0 0 0 0 0 0 9 82 0 9 80 0 0 0 0 3 31 0 18 127 0 15 115 0 0 0 0 6 60 0 0 0 0 18 126 0 0 0 0 0 0 0 0 0 0 0 0 0 0 0 0 0 0 0 0 0 0 0 0 0 0 0 0 0 0 0 0 0 0 0 0 0 0 0 0 6 60 0 6 60 0 3 33 0 6 60 0 0 0 0 0 0 0 0 0 0 6 60 0 9 78 0 9 82 0 0 0 0 0 0 0 0 0 0 0 0 0 0 0 0 9 82 0 0 0 0 18 127 0 0 0 0 3 33 0 6 60 0 0 0 0 0 0 0 9 82 0 12 100 0 6 60 0 3 33 0 0 0 0 0 0 0 0 0 0 0 0 0 39 164 0 3 27 0 0 0 0 0 0 0 0 0 0 0 0 0 6 55 0 0 0 0 0 0 0 0 0 0 0 0 0 3 33 0 3 27 0 0 0 0 0 0 0 0 0 0 0 0 0 0 0 0 0 0 0 0 0 0 3 33 0 3 33 0 0 0 0 0 0 0 0 0 0 0 0 0 3 33 0 0 0 0 0 0 0 0 0 0 0 0 0 0 0 0 0 0 0 0 0 0 0 0 0 0 0 0 0 0 0 12 100 0 3 33 0 0 0 0 6 60 0 0 0 0 0 0 0 3 30 0 0 0 0 0 0 0 0 0 0 0 0 0 6 60 0 6 60 0 0 0 0 0 0 0 3 33 0 3 33 0 0 0 0 0 0 0 0 0 0 0 0 0 0 0 0 0 0 0 0 0 0 0 0 0 3 33 0 0 0 0 15 115 0 3 33 0 0 0 0 0 0 0 6 60 0 0 0 0 0 0 0 0 0 0 12 100 0 3 33 0 0 0 0 3 30 0 9 80 0 12 100 0 0 0 0 0 0 0 0 0 0 3 33 0 0 0 0 3 33 0 3 33 0 0 0 0 0 0 0 0 0 0 0 0 0 6 60 0 3 33 0 9 82 0 15 115 0 18 127 0 3 31 0 0 0 0 3 33 25 28 55 0 6 60 0 0 0 0 12 99 0 0 0 0 9 76 0 0 0 0 0 0 0 0 0 0 0 0 0 0 0 0 6 60 0 0 0 0 0 0 0 0 0 0 0 0 0 0 0 0 12 100 0 0 0 0 0 0 0 0 0 0 0 0 0 0 0 0 0 0 0 0 0 0 3 33 0 0 0 0 0 0 0 0 0 0 0 0 0.318586 12.6293 18.7183 25.6792 50.0793 0.489749 11.7601 15.9298 19.6635 24.4003 0.483444 11.8753 15.9512 19.5475 24.0784 0.114969 16.1433 27.5044 43.4412 125.793 0.112638 16.2369 27.5179 43.3387 125.521 0.508018 11.4372 15.8917 20.0376 25.3761 0.501444 11.5516 15.9013 19.8964 25.0172 0.497057 11.6291 15.9103 19.8063 24.7827 0.294058 13.0753 18.7968 25.2205 48.8184 0.262263 12.9022 21.6576 32.8965 78.3892 0.0706078 18.0496 33.4194 56.0446 178.022 0.569956 10.4435 16.0394 21.786 29.2873 0.251463 13.1154 21.6177 32.5034 77.5247 0.265855 12.4508 26.0728 44.5789 114.632 0.619763 9.73611 16.5326 23.919 33.4639 0.619844 9.73502 16.5338 23.9232 33.4718 0.312842 11.9988 22.1519 35.3061 83.2189 0.122483 15.8535 27.4803 43.7983 126.694 0.264973 12.8499 21.671 33.0009 78.6136 0.473119 12.0682 15.9952 19.3716 23.5663 0.309291 12.7949 18.7406 25.4936 49.5883 0.483394 11.8762 15.9514 19.5466 24.0758 0.469157 12.1438 16.015 19.3086 23.3746 0.203677 14.1714 21.688 31.1597 74.1612 0.106706 16.484 27.5656 43.0953 124.845 0.409047 13.4124 16.5257 18.6552 20.7447 0.0635628 18.8289 28.6226 42.159 120.426 0.379305 14.1488 16.9389 18.5459 19.6056 0.500555 11.5672 15.903 19.8778 24.9694 0.486674 11.816 15.9397 19.6061 24.2424 0.205692 14.1225 21.677 31.2043 74.2904 0.493306 11.696 15.9196 19.7319 24.5851 0.222982 13.7201 21.6115 31.6293 75.4408 0.483672 11.8711 15.9503 19.5516 24.0899 0.493928 11.6849 15.918 19.7441 24.6177 0.487993 11.792 15.9354 19.6305 24.3099 0.489712 11.7608 15.93 19.6628 24.3984 0.30394 12.8921 18.7576 25.3933 49.3131 0.225096 13.6729 21.6071 31.6866 75.5869 0.0823995 17.4741 30.4892 49.2682 150.719 0.0829892 17.4422 30.4839 49.3017 150.809 0.498947 11.5956 15.9062 19.8447 24.8833 0.495657 11.654 15.9136 19.7782 24.7086 0.215717 13.8856 21.6326 31.4414 74.948 0.453963 10.5833 19.6051 30.6218 60.2523 0.059929 18.777 33.4798 55.1496 175.768 0.220986 13.7651 21.6164 31.5763 75.304 0.093429 17.3903 25.5187 36.2129 95.4662 0.210927 14.863 19.55 24.3777 45.2236 0.186927 15.4905 19.9275 24.3443 44.3371 0.11087 17.1143 23.153 30.3009 69.0264 0.383261 14.0456 16.877 18.5517 19.7518 0.372357 14.3343 17.0533 18.5425 19.3525 0.205117 14.1364 21.68 31.1915 74.2535 0.485888 11.8304 15.9424 19.5917 24.2023 0.456968 12.3817 16.0864 19.1305 22.8005 0.48277 11.8877 15.9537 19.5355 24.0444 0.496725 11.635 15.9111 19.7996 24.7651 0.490143 11.753 15.9286 19.671 24.4206 0.485899 11.8302 15.9424 19.5919 24.2028 0.499541 11.5851 15.905 19.8569 24.915 0.482776 11.8876 15.9537 19.5356 24.0447 0.2133 13.9418 21.6417 31.3819 74.7872 0.315838 11.9495 22.1995 35.4855 83.5589 0.62904 9.61187 16.6727 24.4194 34.4003 0.631042 9.58533 16.7053 24.5328 34.6109 0.565864 10.5049 16.0153 21.6441 28.9932 0.276455 12.6338 21.7429 33.4709 79.6008 0.427814 10.9346 19.217 29.2252 57.6341 0.558675 10.6142 15.9782 21.4048 28.4907 0.54593 10.8122 15.9284 21.0105 27.6411 0.352908 12.0508 18.7165 26.4992 52.0534 10.5194 1.62065 7.09721 15.5967 43.0581 0.099923 16.6078 30.4678 50.4484 153.579 0.641284 9.45116 16.8864 25.1456 35.7415 0.419543 11.0494 19.1213 28.8427 56.8985 0.6173 9.76946 16.4984 23.7926 33.2255 0.474787 10.3156 20.0277 31.9961 62.7617 0.562591 10.5545 15.9976 21.5336 28.7622 0.175873 14.4354 24.5319 38.1798 102.205 0.633271 9.55592 16.7426 24.6613 34.8492 12.2887 2.93938 5.44152 9.28554 15.3476 0.633776 9.54927 16.7513 24.6908 34.9038 0.203709 13.7348 24.6925 39.5373 105.143 0.137972 15.3067 27.5216 44.667 128.69 0.611239 9.85223 16.4189 23.4923 32.6556 0.614966 9.80122 16.467 23.6752 33.0033 0.621853 9.70792 16.5627 24.0283 33.6695 62.9685 2.23125 4.17273 17.1725 115.361 0.183797 14.6787 21.8376 30.7748 72.9344 0.0728946 18.2122 28.2638 42.2187 121.321 0.452205 12.4771 16.1187 19.0672 22.5823 12.1833 4.75252 5.50398 6.84315 9.34431 0.44927 12.5366 16.1397 19.03 22.4494 0.449986 12.5221 16.1345 19.039 22.4817 0.453406 12.453 16.1103 19.0829 22.637 0.455189 12.4172 16.0982 19.1065 22.7186 0.448262 12.5572 16.1472 19.0175 22.4041 0.61766 9.76457 16.5033 23.8109 33.2601 0.570903 10.4294 16.0453 21.8195 29.3563 0.581124 10.2786 16.1168 22.1961 30.1225 0.211842 13.5472 24.7849 40.0134 106.106 0.64351 9.42234 16.9291 25.2866 35.9999 0.574015 10.3831 16.0655 21.9312 29.5852 0.606864 9.91259 16.3657 23.2845 32.2581 0.467414 10.4092 19.8647 31.4774 61.8199 0.646393 9.38518 16.9864 25.4737 36.342 0.382986 11.5809 18.826 27.4152 54.0396 0.480129 10.2485 20.1561 32.3976 63.4872 0.270678 12.7415 21.7036 33.2287 79.0965 0.367882 11.8129 18.7573 26.9298 53.0078 0.405654 11.2466 18.9859 28.2535 55.7434 0.302448 12.173 22.0046 34.7207 82.0955 0.0259588 22.3806 37.4878 60.0707 196.449 8.17441 3.86359 5.42846 8.27949 27.4252 0.422134 13.1141 16.3796 18.7493 21.2771 0.400632 13.612 16.6308 18.6092 20.4128 0.146489 15.7838 22.3359 30.3298 70.8346 0.21045 14.8749 19.5567 24.376 45.2054 0.377566 14.1947 16.9669 18.5442 19.5418 0.0484638 19.8425 31.4728 48.132 145.99 0.0392772 20.6449 34.2119 54.1535 171.902 0.319234 12.618 18.7171 25.6927 50.1142 0.22812 13.6061 21.6022 31.7706 75.7981 0.325453 12.5096 18.7077 25.8259 50.4532 0.32826 12.4612 18.7048 25.8883 50.6088 0.0655273 18.381 33.4253 55.5882 176.922 0.499928 11.5783 15.9042 19.8649 24.9358 0.234907 13.4589 21.5969 31.968 76.282 0.507024 11.4544 15.8928 20.0158 25.3212 0.335133 12.3443 18.7014 26.0471 50.9972 0.4982 11.6088 15.9078 19.8294 24.8434 0.33074 12.4188 18.703 25.9446 50.7478 0.508983 11.4206 15.8906 20.059 25.4295 0.486257 11.8237 15.9412 19.5984 24.2211 0.168562 14.6368 24.5279 37.8849 101.507 0.0591605 18.8342 33.4914 55.0947 175.614 0.339667 12.2682 18.7019 26.1566 51.2593 0.511295 11.3808 15.8886 20.1109 25.5583 0.517207 11.2804 15.8859 20.2481 25.8931 0.302751 12.9139 18.7618 25.3717 49.2527 0.121884 15.8759 27.4812 43.7684 126.621 0.485611 11.8355 15.9434 19.5866 24.1882 0.488682 11.7795 15.9332 19.6434 24.3453 0.318474 12.6313 18.7185 25.6769 50.0733 0.236124 13.4329 21.5968 32.0047 76.3702 0.509324 11.4147 15.8903 20.0666 25.4484 0.0156249 24.4652 48.3559 85.5634 303.601 0.510265 11.3985 15.8894 20.0877 25.5008 6.4949 2.02504 8.6039 19.7384 81.4434 0.519929 11.2346 15.886 20.3134 26.0499 0.325146 12.5149 18.7081 25.8192 50.4362 7.89866 2.15936 7.00622 15.1854 57.6267 0.486834 11.8131 15.9392 19.6091 24.2506 0.51419 11.3315 15.8868 20.1773 25.7213 0.490308 11.75 15.9282 19.6741 24.4292 0.203544 14.1746 21.6888 31.1568 74.1527 12.2205 4.05618 5.34414 7.47533 11.1885 0.210882 13.9986 21.6518 31.3239 74.6278 0.157 14.9728 24.554 37.4664 100.454 0.484027 11.8645 15.949 19.5579 24.1078 0.490266 11.7508 15.9283 19.6733 24.427 0.108119 16.424 27.5524 43.151 125.004 0.296647 13.0268 18.7856 25.2642 48.9463 0.491466 11.7291 15.9248 19.6962 24.4892 0.323185 12.5489 18.7107 25.7766 50.3286 0.211293 13.9889 21.65 31.3336 74.6548 0.435828 10.825 19.3214 29.6209 58.3856 0.577898 10.3258 16.0926 22.0742 29.8762 0.117464 16.0451 27.4931 43.5553 126.088 0.509503 11.4116 15.8901 20.0706 25.4584 0.216485 13.8679 21.6299 31.4606 74.9995 0.512293 11.3638 15.8879 20.1336 25.6143 0.4689 12.1487 16.0163 19.3046 23.3623 0.0788604 17.6709 30.5279 49.0762 150.183 0.555487 10.6632 15.9639 21.3027 28.2734 0.462323 10.4746 19.761 31.1407 61.2054 0.20188 13.778 24.6746 39.4356 104.934 0.366574 11.8333 18.7527 26.8903 52.9219 0.576563 10.3455 16.0831 22.0245 29.7755 10.6498 1.44165 7.5463 16.9031 45.3994 12.3731 1.76725 6.47543 13.337 23.111 0.618462 9.7537 16.5144 23.8519 33.3375 0.293874 12.3209 21.9022 34.2771 81.2274 0.135773 15.3806 27.5084 44.5323 128.394 0.210722 13.5726 24.7709 39.9455 105.97 0.57002 10.4426 16.0398 21.7883 29.292 0.440409 10.7632 19.3866 29.8593 58.8341 0.179122 14.3484 24.5387 38.3186 102.524 0.0650875 18.3391 36.6493 63.9031 207.331 0.465767 10.4303 19.8304 31.3666 61.618 0.322569 12.5596 18.7116 25.7633 50.295 0.31401 12.7103 18.7282 25.586 49.8355 0.150117 15.1841 24.5887 37.2442 99.8528 0.502376 11.5353 15.8997 19.9159 25.0676 0.486408 11.8209 15.9406 19.6012 24.2288 0.316718 12.6623 18.7221 25.6407 49.9793 0.0602169 18.7558 33.4757 55.1706 175.826 0.47066 12.115 16.0073 19.3322 23.447 0.212046 13.9712 21.6468 31.3516 74.7043 0.600378 10.003 16.293 22.9895 31.6888 0.20387 14.1667 21.687 31.164 74.1735 0.285896 13.2306 18.837 25.0897 48.4223 0.144927 15.3496 24.6246 37.0899 99.4115 0.489657 11.7618 15.9301 19.6618 24.3955 0.0447796 19.9865 36.458 61.1363 201.096 0.0842703 17.2634 33.6 57.5664 181.306 0.0800914 17.6015 30.513 49.1412 150.368 0.283486 13.2771 18.8502 25.0531 48.3074 0.107514 16.4496 27.5579 43.127 124.936 0.151961 15.1266 24.578 37.3018 100.012 0.0923544 17.1415 27.7654 42.6121 123.287 0.309658 12.7883 18.7396 25.5006 49.6074 0.483887 11.8671 15.9496 19.5554 24.1008 0.145067 15.3451 24.6236 37.0939 99.4233 0.115967 16.1038 27.4995 43.4863 125.91 0.492721 11.7065 15.9212 19.7205 24.5546 0.499569 11.5846 15.9049 19.8575 24.9165 0.494359 11.6772 15.9169 19.7525 24.6403 0.502076 11.5405 15.9002 19.9096 25.0513 0.316222 12.6711 18.7231 25.6306 49.9529 0.489987 11.7558 15.9291 19.668 24.4126 0.476127 12.0114 15.9812 19.421 23.7136 0.211054 13.9945 21.651 31.328 74.6391 0.503607 11.5138 15.8976 19.942 25.1343 0.324326 12.5291 18.7091 25.8013 50.3911 0.347208 12.1435 18.7078 26.3475 51.7062 0.51102 11.3856 15.8888 20.1047 25.5429 0.504568 11.497 15.8962 19.9626 25.1866 0.0837276 17.4024 30.4778 49.3442 150.923 0.51302 11.3514 15.8874 20.1503 25.6552 0.334764 12.3505 18.7014 26.0383 50.9761 0.483369 11.8767 15.9515 19.5462 24.0746 0.220789 13.7696 21.6169 31.5712 75.2906 0.513368 11.3455 15.8872 20.1583 25.6748 12.2171 4.11675 5.35268 7.40829 11.0101 0.227042 13.6298 21.6037 31.7404 75.7225 0.121351 15.896 27.4821 43.7419 126.556 0.518305 11.2619 15.8859 20.2742 25.9562 0.321769 12.5736 18.7128 25.7462 50.2514 0.508594 11.4273 15.891 20.0504 25.4079 0.494848 11.6684 15.9156 19.7622 24.666 0.15151 15.1406 24.5805 37.2876 99.973 0.506749 11.4591 15.8932 20.0098 25.3061 0.155981 15.0035 24.5583 37.4322 100.364 0.501178 11.5563 15.9018 19.8908 25.0029 0.215014 13.9019 21.6351 31.4239 74.9011 0.50278 11.5282 15.899 19.9245 25.0894 0.207321 14.0833 21.6685 31.2411 74.3956 0.49552 11.6564 15.914 19.7755 24.7014 0.496962 11.6308 15.9106 19.8044 24.7776 0.218786 13.8151 21.6226 31.5191 75.1545 0.214037 13.9246 21.6388 31.3999 74.8361 0.289186 13.1676 18.8199 25.1411 48.5806 0.0538058 20.4618 25.7867 31.6554 66.4324 0.0897744 19.1095 22.7016 25.6225 41.2505 0.0250163 22.9762 31.7988 43.6235 116.956 0.0196828 23.8182 34.4485 49.3625 142.44 0.0198841 23.7736 34.4104 49.3368 142.464 0.267099 18.302 20.1067 19.9764 16.0114 0.0902811 19.0827 22.6786 25.6067 41.2648 0.0906436 19.0636 22.6622 25.5955 41.275 0.271088 18.0843 19.9187 19.8448 16.1234 0.025743 22.8499 31.6896 43.5467 117.019 0.212741 13.9549 21.6439 31.3684 74.7502 0.219158 13.8066 21.6215 31.5287 75.1797 0.145823 15.3207 24.6178 37.1157 99.487 0.477681 11.9823 15.9743 19.4472 23.7903 0.297552 13.01 18.7818 25.2798 48.9914 0.471553 12.098 16.0028 19.3464 23.4903 0.519051 11.2493 15.8859 20.2922 25.9992 0.501509 11.5505 15.9012 19.8977 25.0207 0.317455 12.6493 18.7206 25.6558 50.0187 0.304924 12.8741 18.7543 25.4114 49.3633 0.515314 11.3124 15.8864 20.2034 25.7851 0.515892 11.3026 15.8862 20.217 25.818 0.213129 13.9458 21.6423 31.3777 74.7759 0.489056 11.7727 15.932 19.6504 24.3646 0.486385 11.8213 15.9407 19.6008 24.2276 0.502694 11.5297 15.8991 19.9226 25.0848 0.507032 11.4542 15.8928 20.016 25.3216 0.078742 17.6777 30.5294 49.07 150.166 0.119122 15.9809 27.4875 43.6335 126.286 0.332643 12.3864 18.702 25.9886 50.8553 0.508776 11.4241 15.8908 20.0544 25.418 0.09718 16.91 27.6841 42.7575 123.799 0.213297 13.9419 21.6417 31.3818 74.787 0.224315 13.6903 21.6086 31.6653 75.5328 0.480152 11.9362 15.964 19.4895 23.9131\r\n",
      "CM042338.1:1942811 0 0 0 0 0 0 0 0 0 0 0 0 0 27 165 0 9 85 0 0 0 0 6 67 0 0 0 0 12 113 0 0 0 0 12 113 0 0 0 0 15 127 0 0 0 0 6 67 0 6 67 0 0 0 0 15 129 0 12 113 28 0 153 0 0 0 0 0 0 0 0 0 0 0 0 0 0 0 0 0 0 0 0 0 0 6 67 0 0 0 0 9 92 0 0 0 0 0 0 0 0 0 0 0 0 0 0 0 0 0 0 0 12 113 0 0 0 0 0 0 0 0 0 0 0 0 0 0 0 0 0 0 0 0 0 0 6 67 0 0 0 0 0 0 0 12 113 0 27 170 40 0 113 37 0 159 19 0 81 22 0 81 54 0 157 64 0 111 0 6 67 0 6 64 0 0 0 0 3 37 0 6 67 0 0 0 0 0 0 0 0 0 0 0 0 0 0 0 0 9 92 0 3 37 0 9 92 0 0 0 0 0 0 0 6 59 0 0 0 0 9 92 0 0 0 0 9 92 0 0 0 0 9 89 0 0 0 0 12 113 0 0 0 0 0 0 0 3 37 0 3 37 0 0 0 0 0 0 0 0 0 0 0 0 0 0 0 0 9 92 0 6 57 0 0 0 0 0 0 0 0 0 0 3 37 0 0 0 0 0 0 0 0 0 19 0 81 0 0 0 0 0 0 0 0 0 0 3 37 0 0 0 0 0 0 0 0 0 0 0 0 0 0 0 0 0 0 0 0 0 0 6 67 0 0 0 0 0 0 0 0 0 0 15 129 0 0 0 0 9 82 0 0 0 0 3 37 0 12 107 0 0 0 0 0 0 0 3 37 0 0 0 0 6 67 72 0 53 0 3 37 0 0 0 0 9 85 0 3 37 59 0 74 0 6 59 0 9 92 0 0 0 0 0 0 0 0 0 0 0 0 0 9 92 0 0 0 0 0 0 0 18 143 0 0 0 0 3 37 0 0 0 0 0 0 0 0 0 0 0 0 0 0 0 0 9 92 0 3 37 0 9 92 0 0 0 0 0 0 0 0 0 0 0 0 0 9 92 0 0 0 0 0 0 0 0 0 0 0 0 0 0 0 0 0 0 0 9 92 0 0 0 0 0 0 0 0 0 0 0 0 0 0 0 0 0 0 0 0 0 0 0 0 0 0 0 0 0 0 0 15 129 0 0 0 0 6 67 0 0 0 0 0 0 0 0 0 0 0 0 0 3 37 0 0 0 54 0 109 0 3 37 0 18 139 0 0 0 0 3 37 0 0 0 0 0 0 0 0 0 0 0 0 0 0 0 0 12 110 0 3 37 0 0 0 0 0 0 0 0 0 0 0 0 0 3 37 0 0 0 0 0 0 0 0 0 0 0 0 0 3 36 0 0 0 0 0 0 0 0 0 0 6 67 0 0 0 0 3 37 0 0 0 0 0 0 0 0 0 0 0 0 0 3 37 0 0 0 0 0 0 0 0 0 0 9 92 0 3 37 69 0 111 0 0 0 0 0 0 0 0 0 0 0 0 0 0 0 45 0 98 0 0 0 0 0 0 0 6 67 0 15 129 0 6 67 0 0 0 0 0 0 0 3 37 0 0 0 0 3 37 27 3 0 0 0 0 0 0 0 15 0 79 0 6 67 0 9 92 0 0 0 36 3 0 0 0 0 0 0 0 0 0 0 0 3 37 0 0 0 27 3 0 0 0 0 0 18 141 0 0 0 0 6 64 0 18 134 0 12 113 0 3 33 25 0 31 0 6 67 0 0 0 0 6 59 37 0 141 0 6 66 0 18 143 0 6 64 0 0 0 0 0 0 22 0 59 0 12 110 0 12 113 36 3 0 0 0 0 0 0 0 0 12 110 0 0 0 34 3 0 0 0 0 0 9 92 0 6 59 0 6 67 0 0 0 0 6 67 0 0 0 0 0 0 0 0 0 0 0 0 0 0 0 0 12 113 0 0 0 0 0 0 0 3 37 9 0 140 0 0 0 0 3 37 42 0 98 0 0 0 0 3 37 25 3 0 0 3 37 0 6 67 0 3 37 0 15 129 0 6 67 0 0 0 31 0 150 61 0 137 31 3 0 6 0 142 0 0 0 0 0 0 0 0 0 0 0 0 0 0 0 0 0 0 0 9 85 13 0 114 0 0 0 0 0 0 9 0 139 0 0 0 0 0 0 0 0 0 0 9 92 0 9 92 0 6 67 0 0 0 0 3 33 0 0 0 0 15 129 0 0 0 0 0 0 0 6 67 0 0 0 0 0 0 0 18 138 0 0 0 0 0 0 0 0 0 0 0 0 0 0 0 0 6 67 0 0 0 0 0 0 0 30 173 0 6 67 0 3 37 0 0 0 0 0 0 0 18 142 0 0 0 0 0 0 67 0 96 0 0 0 0 0 0 45 0 98 0 3 37 48 0 28 0 6 67 0 0 0 0 0 0 0 3 37 0 18 143 0 0 0 0 18 143 0 0 0 0 18 143 0 0 0 0 0 0 0 0 0 62 0 77 0 9 92 0 0 0 0 0 0 0 0 0 0 6 67 0 0 0 0 0 0 0 3 37 0 15 123 0 3 37 0 9 92 0 18 143 0 0 0 0 0 0 12 0 134 34 3 0 0 0 0 0 3 37 103 12 0 0 0 0 0 0 0 0 3 37 4 0 140 0 0 0 0.101362 16.4124 36.4698 68.9694 266.835 44.9004 0.710787 8.24551 29.3446 184.337 0.166696 14.339 30.7948 57.0533 215.598 2.60147 6.44119 8.97842 11.6399 15.4287 85.4599 2.31296 3.91458 21.6139 174.311 22.8451 0.187469 14.317 43.4311 239.021 2.60081 6.443 8.97953 11.639 15.4242 0.428811 10.5855 21.8598 39.3759 140.086 0.531069 9.87758 19.2829 33.4868 114.175 0.985851 7.58034 15.688 28.1774 91.7023 0.669513 8.9031 18.6297 33.7322 116.041 18.4187 2.80684 4.53588 9.61403 33.584 1.29843 6.89411 13.1643 22.4317 66.1505 3.51725 4.45674 8.1505 14.1059 23.2067 1.22918 6.66873 15.2412 29.0398 94.6522 3.24833 4.95092 8.26634 13.1105 20.4944 3.21755 5.01136 8.28565 13.0122 20.2132 2.68941 6.2065 8.83935 11.7678 16.0321 2.89759 5.69581 8.56742 12.161 17.5542 2.44947 6.87834 9.25736 11.4747 14.4339 2.54655 6.59429 9.07332 11.5718 15.0624 2.50422 6.71594 9.15092 11.5258 14.7855 0.280053 12.2653 25.1385 45.208 164.514 2.4811 6.78379 9.19501 11.503 14.6362 0.403275 10.8454 22.0421 39.3405 139.646 1.14553 8.31319 12.124 16.4092 36.8405 1.95428 8.69438 10.6168 11.5175 11.5475 1.9572 8.68123 10.6061 11.514 11.5631 17.4946 3.18945 4.48809 8.36609 30.2907 29.6327 1.18138 6.42663 20.2741 118.191 2.49496 6.743 9.16844 11.5165 14.7256 17.3884 3.23022 4.48766 8.25033 29.9641 2.61336 6.40874 8.95872 11.6558 15.509 1.05993 7.75625 13.6979 22.0478 64.1365 2.56053 6.55481 9.04855 11.5883 15.1549 22.4466 0.193968 14.2094 43.0042 238.012 0.563779 9.62531 19.1056 33.5204 114.606 2.51795 6.67613 9.12532 11.5401 14.8748 1.15565 7.38801 13.4586 22.1698 64.9218 26.8807 0.0115919 32.1131 95.0938 521.992 1.11553 7.53835 13.5545 22.1132 64.5892 0.432344 10.5508 21.8359 39.3822 140.147 0.793651 8.48835 16.2496 27.7727 89.6209 0.0416868 20.2115 45.492 86.8508 342.77 3.33865 4.77836 8.21701 13.4168 21.351 2.54488 6.59901 9.0763 11.5699 15.0515 0.81173 8.39359 16.1867 27.799 89.8096 0.470116 10.7129 17.9293 27.8933 86.4329 0.486364 10.5676 17.8102 27.8515 86.586 0.937442 9.20749 12.8407 16.6021 35.7061 0.858303 9.6001 13.1695 16.7393 35.2941 1.97768 8.59 10.5321 11.491 11.6733 1.92128 8.84579 10.7408 11.56 11.3717 2.49101 6.75459 9.17597 11.5126 14.7 0.408197 10.794 22.0056 39.346 139.731 2.36375 7.14498 9.43863 11.4145 13.8977 2.50089 6.72564 9.15719 11.5224 14.764 15.163 2.18034 5.2097 12.0119 53.2356 1.57401 6.89106 11.1161 16.5815 39.4484 10.0962 1.07133 9.29763 24.8856 124.025 0.24003 12.837 27.6305 51.157 190.76 2.50092 6.72555 9.15714 11.5224 14.7642 0.418372 10.6898 21.9323 39.3594 139.905 0.91064 7.62611 17.9372 34.6812 119.642 1.70637 5.74896 12.6391 23.6544 70.1695 1.71586 5.72594 12.6315 23.6911 70.2749 61.826 7.46595 3.197 4.69381 26.0495 0.43008 10.4475 23.9274 45.6925 167.972 3.19262 5.06096 8.30225 12.9348 19.9891 2.91068 5.66559 8.55281 12.1899 17.6547 2.84119 5.82844 8.63362 12.042 17.1278 21.2364 5.01789 4.76878 6.23266 9.74926 0.288054 12.0064 29.3178 57.9748 220.533 0.704486 8.69022 18.4996 33.8325 116.532 19.2385 2.42789 4.67517 11.2284 37.5142 5.28143 1.57541 21.0495 56.5981 275.655 3.23415 4.97867 8.27508 13.0649 20.3642 40.4525 3.98534 3.37162 8.53914 34.1455 2.93209 5.6166 8.52951 12.2382 17.8206 40.161 0.142424 14.9279 48.6398 282.469 1.28089 6.5001 15.1754 29.2701 95.3412 10.1157 0.822874 11.2799 31.1876 152.052 1.28285 6.49388 15.1731 29.2791 95.3677 1.45552 6.41288 12.9128 22.8212 67.5959 53.1208 2.77181 3.66099 13.8362 92.9664 122.337 11.4556 2.0527 5.15515 63.0151 3.22114 5.00426 8.28333 13.0235 20.2458 1.67243 5.83241 12.6681 23.5262 69.7982 32.4397 1.58454 5.43008 17.2771 97.5179 0.00257986 32.2635 73.094 140.692 570.091 0.0257386 22.2992 47.1117 87.1362 340.291 0.475619 10.3444 19.6237 33.4711 113.455 2.37618 7.10532 9.41118 11.4216 13.9745 0.468965 10.4041 19.6684 33.4731 113.369 1.36055 7.54384 11.5541 16.4131 38.0991 2.34489 7.20579 9.48104 11.4046 13.782 2.35433 7.17526 9.4597 11.4094 13.8398 148.105 0.802417 7.72933 47.5413 387.946 3.23616 4.97473 8.27382 13.0713 20.3826 2.97762 5.51422 8.4824 12.3455 18.179 3.03379 5.39115 8.42873 12.4862 18.6324 39.8932 4.56619 3.42908 7.08875 30.3496 3.38091 4.69999 8.1976 13.5695 21.7693 109.905 4.64089 1.98586 16.2897 150.62 3.17609 5.09417 8.31373 12.8845 19.8423 21.8692 3.68357 4.24303 8.0011 15.1697 3.39714 4.67028 8.19077 13.6297 21.9331 2.94534 5.58657 8.51547 12.2688 17.924 1.86543 5.38061 12.534 24.323 72.0325 1.96965 5.88687 10.5569 17.2639 42.2776 2.86284 5.77704 8.60757 12.0866 17.2902 3.06991 5.31381 8.39674 12.5815 18.9308 3.14834 5.1505 8.33387 12.802 19.599 68.6206 16.9773 9.96713 5.67961 2.15552 0.450939 10.8912 18.0767 27.9495 86.253 2.18025 7.77484 9.89481 11.3736 12.8039 8.40985 1.36621 9.16326 23.5244 120.084 0.269076 12.5685 23.3626 39.5107 137.398 1.05923 8.66293 12.3983 16.4626 36.3606 49.8668 3.39005 3.36161 10.9309 84.8271 0.244152 12.9845 23.7049 39.6362 136.988 0.269833 12.5565 23.3529 39.5074 137.41 2.59982 6.44572 8.98119 11.6377 15.4175 2.64837 6.3145 8.90235 11.7052 15.7478 67.6126 13.1031 6.71844 4.21769 4.44274 2.64832 6.31462 8.90242 11.7051 15.7474 2.66111 6.28068 8.88243 11.7241 15.8355 0.807464 8.41575 16.2013 27.7925 89.7649 1.72825 6.4722 10.8633 16.7928 40.495 2.63078 6.36159 8.93035 11.6799 15.6274 2.68534 6.21708 8.84545 11.7613 16.0037 38.9856 5.31755 3.61737 5.70516 26.3161 2.66167 6.27921 8.88157 11.7249 15.8394 2.64131 6.33333 8.91351 11.6949 15.6994 2.5195 6.67163 9.12244 11.5418 14.885 2.69476 6.19261 8.83138 11.7763 16.0695 2.52867 6.64526 9.10561 11.5517 14.945 2.70981 6.15377 8.80925 11.8007 16.1752 1.17622 7.31304 13.4119 22.2018 65.0944 0.632153 9.14377 18.7827 33.6408 115.526 2.5116 6.6945 9.13711 11.5334 14.8335 48.6548 1.43692 5.62143 21.1829 138.137 1.5498 6.96053 11.1603 16.555 39.2898 2.53246 6.6344 9.0987 11.5559 14.9698 43.9417 8.982 5.5424 4.68158 5.94893 55.0886 4.06208 3.01136 9.67939 68.5115 17.6203 3.14033 4.48972 8.50952 30.6891 0.145882 14.8729 33.2779 63.0719 242.025 116.342 22.9562 10.6171 4.65663 2.47231 11.7429 1.21107 7.75671 20.5609 100.662 1.2132 7.18163 13.3317 22.2644 65.4083 63.6069 0.900021 7.30131 29.9112 203.576 0.807664 8.4147 16.2006 27.7928 89.767 1.55633 6.94168 11.1483 16.562 39.3325 0.854191 8.17944 16.0479 27.8708 90.258 2.54116 6.6096 9.08299 11.5657 15.0269 2.48019 6.78651 9.19678 11.5022 14.6303 2.57433 6.5162 9.02453 11.6051 15.2467 0.560433 9.65041 19.123 33.5162 114.562 0.588529 9.44432 18.9818 33.5565 114.936 1.0614 7.75033 13.6939 22.0493 64.1484 0.230172 13.0159 27.757 51.1366 190.47 0.0401149 20.3778 45.6126 86.8431 342.525 0.21813 13.2455 27.9225 51.1221 190.117 2.54735 6.592 9.07189 11.5728 15.0678 0.444142 10.437 21.7581 39.4051 140.352 2.53342 6.63167 9.09697 11.557 14.9761 3.23723 4.97262 8.27316 13.0747 20.3924 3.01604 5.42966 8.44517 12.4407 18.4877 54.8995 4.13454 3.00499 9.45305 67.8964 61.4315 8.12721 3.50693 4.02452 23.7189 1.60271 6.8101 11.0653 16.6154 39.6383 2.65913 6.28593 8.88551 11.7211 15.8218 61.0607 8.59417 3.74708 3.62826 22.1385 11.4928 1.24664 7.71401 20.2987 99.9945 0.73275 8.52614 18.4029 33.9235 116.935 14.0238 0.89988 8.42904 24.0092 108.635 2.98372 5.50069 8.47634 12.3603 18.2276 1.33817 6.76675 13.0941 22.5205 66.5061 21.4636 4.49018 4.51124 6.72878 11.4897 17.1995 1.68413 5.65955 15.1269 60.7132 2.44635 4.92109 10.2161 18.705 46.5183 3.24063 4.96597 8.27105 13.0856 20.4236 0.621726 9.02558 20.8983 40.0857 143.607 12.5442 1.0999 7.93067 21.5298 103.015 10.4384 0.777483 11.3766 31.682 153.187 6.78685 1.13551 16.8855 45.8477 225.103 0.924254 7.56512 17.9103 34.7517 119.864 1.28297 6.94476 13.1929 22.399 66.0138 3.08341 5.28525 8.38528 12.6182 19.0439 3.40502 4.65592 8.18757 13.6594 22.0133 0.442975 10.4482 21.7657 39.4027 140.332 2.57181 6.52321 9.02887 11.602 15.2299 0.769957 8.61601 16.3357 27.7425 89.3757 0.325882 11.6206 24.6779 45.2645 165.539 2.52031 6.6693 9.12095 11.5426 14.8903 2.58633 6.48289 9.00395 11.6202 15.3269 4.7729 1.84548 18.8694 49.4819 245.855 1.00623 7.97828 13.8492 22 63.708 33.5001 2.49323 4.25091 12.1769 71.365 3.14011 5.16734 8.34005 12.778 19.5275 46.2621 1.04474 6.7692 24.7208 159.999 2.42184 6.96258 9.31378 11.4526 14.2592 2.4833 6.77731 9.19077 11.5051 14.6503 2.53768 6.61951 9.08926 11.5617 15.004 2.55063 6.58272 9.06605 11.5766 15.0894 0.446744 10.2876 23.8358 45.7918 168.379 2.53104 6.63847 9.10129 11.5543 14.9605 2.40904 7.00213 9.34055 11.4432 14.1789 0.224666 13.1193 27.8311 51.1285 190.308 1.58061 6.87231 11.1043 16.5891 39.4919 1.3614 7.54106 11.5522 16.4135 38.1042 17.4604 0.112646 21.159 61.9531 334.71 141.651 29.3898 13.9154 5.78248 1.58537 73.3152 4.94335 2.42696 9.67614 85.4892 111.209 0.300677 11.7466 52.9264 378.04 43.9559 9.15402 5.67025 4.68577 5.72687 0.134508 15.2213 33.5202 63.0178 241.442 2.56283 6.54834 9.04451 11.591 15.1702 102.955 12.2224 3.34095 3.21846 39.6169 0.238643 12.8617 27.6479 51.1537 190.719 2.53944 6.61447 9.08607 11.5637 15.0156 8.63973 1.06532 10.9906 29.4133 147.678 8.8595 1.02491 11.0185 29.6333 148.261 2.61243 6.41128 8.96025 11.6545 15.5026 28.3974 0.791979 7.90152 25.0472 142.947 1.78432 6.32919 10.7829 16.8871 40.8923 76.7111 6.45687 2.36525 7.12579 64.4399 2.61759 6.39725 8.95178 11.6616 15.5376 0.00430345 30.0423 69.3695 134.684 546.021 0.107189 16.1718 36.3013 69.0024 267.229 2.68335 6.22227 8.84844 11.7582 15.9898 2.50409 6.71633 9.15118 11.5257 14.7847 2.59839 6.44965 8.98358 11.6358 15.4079 2.66492 6.27063 8.87655 11.7298 15.8618 2.55617 6.56708 9.05623 11.5831 15.126 1.67477 6.61304 10.9455 16.7114 40.1247 0.463784 10.2544 21.6356 39.4503 140.696 8.17414 0.989644 12.9074 34.9873 173.891 2.61343 6.40855 8.9586 11.6559 15.5094 1.67296 6.61787 10.9483 16.7088 40.1123 2.56546 6.54099 9.03993 11.5942 15.1876 2.54282 6.60488 9.08001 11.5676 15.0378 39.0849 5.24556 3.59458 5.8199 26.6794 29.8498 1.16432 6.47392 20.5017 118.752 33.6923 2.45458 4.27657 12.3827 71.9011 2.55891 6.55938 9.05141 11.5863 15.1442 92.5756 5.5649 1.94516 10.7901 105.44 0.549391 9.73436 19.1816 33.5035 114.416 1.60279 6.80987 11.0652 16.6155 39.6388 0.581497 9.49492 19.0161 33.5454 114.842 1.61845 6.76631 11.0382 16.635 39.7433 1.31062 5.84956 33.3902 81.9186 394.762 8.55146 1.08206 10.9809 29.3288 147.449 2.40959 3.94457 16.4862 38.2313 187.572 0.128879 15.948 24.4733 36.0576 109.157 0.00464199 29.7203 57.5121 101.897 388.299 1.42877 12.062 13.5898 13.2738 8.95053 0.0217818 23.0615 42.1179 71.6647 261.495 0.014477 24.8145 45.5922 78.0237 286.715 9.38839 3.27887 5.31543 9.18193 42.2451 1.41407 12.2048 13.7228 13.375 8.88366 44.5032 16.5598 12.1019 8.23197 1.15769 0.0113378 25.8623 48.404 83.8575 312.166 2.54334 6.60339 9.07906 11.5682 15.0413 15.1992 2.17228 5.2141 12.0512 53.3386 0.399309 10.8873 22.0719 39.3365 139.578 0.736425 8.80386 16.4653 27.7082 89.0323 14.8723 2.2441 5.17792 11.712 52.436 2.44114 6.90356 9.27417 11.4677 14.3811 67.5182 12.782 6.46554 4.1552 4.71709 6.81033 1.20246 14.7745 39.5653 197.391 1.62402 6.75092 11.0288 16.6421 39.7807 2.5232 6.66097 9.11563 11.5457 14.9092 10.6119 0.995171 9.39006 25.4496 125.445 1.71226 6.51384 10.8873 16.7675 40.3835 2.546 6.59584 9.07431 11.5712 15.0588 2.53447 6.62867 9.09507 11.5581 14.9829 2.52019 6.66964 9.12117 11.5425 14.8895 0.439385 10.4825 21.7891 39.3954 140.269 9.17785 0.969328 11.0682 29.9774 149.142 0.405474 10.8224 22.0257 39.3429 139.684 1.17343 7.32312 13.4181 22.1974 65.0709 0.343665 11.3952 24.5242 45.311 165.943 2.6402 6.3363 8.91527 11.6933 15.6918 0.364589 11.2733 22.353 39.3215 138.989 0.567952 9.59422 19.0842 33.5259 114.661 0.0104687 26.1859 60.2918 116.753 470.043 3.12535 2.9371 23.3997 59.7963 294.641\r\n",
      "CM042338.1:2385838 34 3 0 0 6 67 0 0 0 0 3 37 0 0 0 54 6 0 20 0 71 0 0 0 0 0 0 0 3 37 0 6 67 0 3 37 0 3 37 0 3 37 0 0 0 0 0 0 0 6 67 0 6 62 0 3 37 0 3 37 0 0 0 0 0 0 0 12 113 0 0 0 0 3 37 0 15 127 0 9 92 0 9 92 0 15 129 0 0 0 0 3 37 0 6 64 0 0 0 0 0 0 0 12 111 0 3 37 0 3 37 0 0 0 0 6 67 0 3 37 0 0 0 0 0 0 0 3 37 0 0 0 0 0 0 0 6 67 0 9 84 0 0 0 0 9 92 0 0 0 0 0 0 0 6 67 0 0 0 0 0 0 0 0 0 0 3 37 0 0 0 0 0 0 0 0 0 0 0 0 0 0 0 0 0 0 0 0 0 0 0 0 0 0 0 0 6 67 0 0 0 0 6 67 0 6 67 0 0 0 0 0 0 0 0 0 61 6 0 0 6 67 0 0 0 0 0 0 0 6 67 0 0 0 0 0 0 0 0 0 0 0 0 0 33 179 0 0 0 0 0 0 0 0 0 0 9 89 0 0 0 0 0 0 0 0 0 0 6 67 0 6 67 0 3 37 0 0 0 0 0 0 0 0 0 0 0 0 0 0 0 28 0 31 0 3 37 0 0 0 0 3 37 0 3 37 0 0 0 0 6 67 0 0 0 0 9 91 0 0 0 0 0 0 0 0 0 0 0 0 0 0 0 0 0 0 55 6 0 0 3 37 0 9 85 81 0 25 0 3 37 30 3 0 0 0 0 0 0 0 0 9 89 0 0 0 0 3 27 39 0 120 0 0 0 0 3 37 0 0 0 0 0 0 0 6 67 0 0 0 55 6 0 0 0 0 31 0 31 0 6 67 0 0 0 0 6 67 0 0 0 0 6 67 0 0 0 0 0 0 0 0 0 0 6 67 0 0 0 0 18 143 0 3 37 0 0 0 0 12 113 0 6 67 0 0 0 0 0 0 85 9 0 0 0 0 0 0 0 0 0 0 0 0 0 0 0 0 0 0 0 0 0 0 0 0 0 24 0 31 0 0 0 0 0 0 0 0 0 115 18 0 0 0 0 38 0 98 0 0 0 0 0 0 0 3 37 0 0 0 0 12 109 0 0 0 0 21 154 0 0 0 0 0 0 0 9 92 0 3 37 0 0 0 84 9 0 0 0 0 0 0 0 0 0 0 0 18 143 0 6 67 0 0 0 0 0 0 0 0 0 0 3 37 0 0 0 0 3 37 0 3 37 0 3 37 0 0 0 88 0 50 0 0 0 32 3 0 0 0 0 0 6 67 0 3 37 0 0 0 0 12 113 0 0 0 0 0 0 0 0 0 0 0 0 0 0 0 0 30 173 0 6 65 0 0 0 0 3 37 0 0 0 0 3 37 0 0 0 0 0 0 0 3 37 0 0 0 0 0 0 0 0 0 0 15 123 0 12 111 0 0 0 0 0 0 0 0 0 0 0 0 0 0 0 0 9 92 0 3 37 0 0 0 0 0 0 34 3 0 0 0 0 0 0 0 0 3 37 0 0 0 0 0 0 0 0 0 0 0 0 0 12 113 0 0 0 0 6 67 0 3 37 0 3 37 0 3 37 0 0 0 0 0 0 0 0 0 0 12 113 0 0 0 0 3 37 0 0 0 0 0 0 0 12 113 0 0 0 0 9 89 0 6 64 0 0 0 0 0 0 0 0 0 0 3 37 0 0 0 0 9 92 0 0 0 0 6 67 0 0 0 0 0 0 0 18 138 0 3 27 0 6 67 0 0 0 0 0 0 0 6 67 0 3 37 0 6 67 34 3 0 0 0 0 0 0 0 0 6 67 0 0 0 0 6 67 0 3 27 0 0 0 0 0 0 0 6 67 0 3 27 0 0 0 0 0 0 0 0 0 0 9 92 0 9 92 0 6 67 0 0 0 0 3 27 0 3 37 0 0 0 0 0 0 0 0 0 0 0 0 0 0 0 0 0 0 0 3 37 0 6 67 0 9 92 0 6 67 0 0 0 0 6 67 0 0 0 0 0 0 0 0 0 0 0 0 0 9 92 0 9 92 0 0 0 0 0 0 0 0 0 0 0 0 0 9 92 0 3 37 0 0 0 0 6 67 0 0 0 0 0 0 0 0 0 0 6 67 0 21 147 0 15 123 0 3 37 0 0 0 0 3 37 0 18 143 0 0 0 0 3 37 0 0 0 0 3 37 0 3 37 0 0 0 0 0 0 0 0 0 0 0 0 0 0 0 0 6 67 0 0 0 0 6 67 0 0 0 0 6 67 0 0 0 31 0 31 37 3 0 0 3 37 0 6 67 0 0 0 0 3 37 0 0 0 0 0 0 0 0 0 0 6 67 0 6 67 0 0 0 0 3 37 0 0 0 0 6 55 0 0 0 0 6 67 0 3 37 0 0 0 0 0 0 0 0 0 0 0 0 0 0 0 0 6 66 0 9 92 0 6 67 0 0 0 0 6 67 0 0 0 0 0 0 0 0 0 0 0 0 0 12 113 0 0 0 0 0 0 0 0 0 0 0 0 0 18 143 0 0 0 0 12 113 0 6 67 0 3 37 52 0 56 0 6 57 0 0 0 0 0 0 0 0 0 30 3 0 0 9 92 0 0 0 3.53399 2.82638 14.5813 34.6093 148.932 0.016778 24.159 47.485 83.92 291.251 0.177559 14.4886 23.7213 36.1895 95.9269 0.190596 14.1564 23.6534 36.5163 96.8439 0.598363 10.9281 15.0971 18.909 23.7976 0.024202 22.5797 44.4281 78.2893 267.794 0.266587 12.9906 20.7353 30.6164 72.5164 0.599126 10.917 15.0953 18.9212 23.8304 9.37599 2.91999 5.57043 10.1753 31.5831 0.447129 11.0225 17.8762 26.0282 51.2479 0.640972 10.3325 15.0598 19.6914 25.7519 0.687188 9.74092 15.1715 20.8111 28.2221 0.303222 12.3478 20.7112 31.4963 74.6728 0.321099 11.6745 24.9292 43.1759 110.391 0.527919 10.0643 18.3738 28.5865 56.4335 0.528017 10.0632 18.3748 28.5904 56.4411 0.377453 11.2378 21.1595 34.1559 80.1856 0.404816 11.5838 17.8341 25.1134 49.1335 0.670658 9.94667 15.1123 20.3744 27.2891 0.170243 14.6853 23.775 36.0268 95.4301 0.0300858 21.654 41.5019 72.0129 242.548 0.363138 12.1869 17.9181 24.4272 47.3157 12.1986 4.63741 5.44339 6.9263 9.68654 0.577399 11.242 15.1621 18.6007 22.9253 0.582379 11.1661 15.1439 18.6696 23.1277 0.0908851 17.2626 27.3193 41.3213 117.053 0.456397 13.4349 16.1722 17.7333 18.7233 0.457077 13.4201 16.1631 17.7337 18.7437 0.265744 13.0063 20.7376 30.599 72.4698 0.016552 24.218 47.4999 83.8687 291.1 0.580536 11.1941 15.1504 18.6438 23.0525 0.594597 10.9835 15.1065 18.8501 23.637 0.268807 12.9494 20.7294 30.663 72.6396 0.363474 12.1818 17.9169 24.4319 47.3295 0.134509 15.4881 26.6219 42.295 120.797 0.588183 11.0787 15.1249 18.7533 23.3674 0.370765 12.0724 17.8937 24.5381 47.6318 0.585734 11.1154 15.1326 18.7175 23.2658 0.610483 10.7533 15.0735 19.1097 24.3271 0.260708 13.1012 20.7535 30.4972 72.1944 0.379529 11.9432 17.8706 24.6735 48.0036 0.188696 14.2035 23.6611 36.4657 96.7076 0.0996001 16.6645 29.5742 48.2641 145.246 0.376574 11.9864 17.8778 24.6269 47.8771 0.767042 8.82565 15.8243 23.6811 33.867 0.372325 12.0492 17.8892 24.5616 47.6972 0.604179 10.8437 15.0845 19.0032 24.0493 0.246908 14.2457 18.8175 23.4983 43.2046 0.254035 14.0979 18.7309 23.5133 43.4251 0.444599 13.6972 16.3382 17.7361 18.3735 0.0917607 17.5324 25.2789 35.3633 90.6989 0.461845 13.3175 16.1004 17.7378 18.8878 0.448703 13.6046 16.2788 17.7332 18.4942 0.579642 11.2077 15.1537 18.6314 23.0161 0.585642 11.1168 15.1329 18.7162 23.262 0.114869 16.2049 26.8314 41.7349 119.04 0.362385 12.1983 17.9207 24.4166 47.2849 0.379232 11.9475 17.8713 24.6688 47.9908 0.590778 11.04 15.1171 18.7919 23.4759 0.0956125 16.8472 29.6156 48.094 144.758 0.602124 10.8734 15.0887 18.9695 23.9599 0.581885 11.1736 15.1456 18.6627 23.1076 0.592334 11.0169 15.1127 18.8154 23.5413 0.745158 9.06462 15.5759 22.7421 32.0822 47.2679 2.6431 4.0122 12.3007 55.2663 0.761058 8.89018 15.7503 23.41 33.3558 0.328992 11.9368 20.7873 32.2697 76.3776 0.687678 9.73492 15.1736 20.8247 28.2507 0.73541 9.1738 15.484 22.3662 31.3549 0.321909 12.0468 20.7585 32.0432 75.8909 0.223554 13.4043 23.6311 37.5576 99.3784 0.298726 12.4227 20.7059 31.3751 74.3927 0.114893 15.9187 32.8986 57.8907 177.714 0.656998 10.1215 15.0798 20.0448 26.5613 0.222395 13.1827 27.3364 47.3276 131.474 0.725407 9.28764 15.4005 22.0044 30.6458 0.380472 11.197 21.1939 34.2964 80.4572 0.572749 9.58498 18.9696 30.7177 60.433 0.458794 10.8756 17.9119 26.3246 51.8898 0.294712 12.4905 20.7031 31.2701 74.1467 0.292552 12.1222 24.2955 40.9801 106.304 0.680869 9.81885 15.1462 20.639 27.8582 0.397245 10.9756 21.4126 35.1383 82.0633 0.473618 10.6933 17.9734 26.7324 52.7494 0.0683082 18.1473 35.4605 61.4247 197.104 0.517609 10.1794 18.2742 28.1838 55.6562 0.378106 11.2289 21.1668 34.186 80.244 0.209956 13.4482 27.0633 46.2896 129.502 0.438816 11.1292 17.8574 25.8293 50.8073 0.156342 15.0824 23.9099 35.7592 94.5173 0.485317 12.8364 15.8227 17.7968 19.6199 3.81237 2.82332 12.1605 28.1985 122.529 0.55357 11.618 15.2732 18.3076 21.9939 0.541449 11.818 15.3451 18.1813 21.5424 0.0814402 17.5633 29.8515 47.5965 143.099 0.54644 11.7349 15.3142 18.2314 21.7265 0.548591 11.6994 15.3015 18.2538 21.8067 0.540233 11.8384 15.3529 18.1694 21.4978 0.380837 11.1921 21.1981 34.3136 80.4904 0.46884 10.7515 17.9515 26.597 52.4667 0.700689 9.57736 15.2371 21.2013 29.032 0.708283 9.48704 15.2811 21.4352 29.5086 23.1126 0.438434 10.4506 30.0143 130.211 0.472601 10.7057 17.9686 26.7032 52.6888 0.512318 10.2392 18.2278 27.9874 55.2734 0.783318 8.65313 16.0519 24.481 35.3614 0.410178 10.8106 21.6165 35.8688 83.4333 0.681212 9.81459 15.1475 20.6482 27.8778 0.236033 12.9077 27.7221 48.6674 133.968 0.326452 11.976 20.7763 32.1872 76.2014 0.443466 11.0693 17.8673 25.9394 51.0521 0.188692 13.9397 26.7414 44.8197 126.598 0.0460041 19.801 41.6744 75.0988 249.565 0.159742 15.4802 21.7728 29.383 67.411 0.0771616 17.998 27.7495 41.2475 115.976 0.289223 13.4163 18.3686 23.6706 44.5675 0.174194 15.0661 21.5308 29.4259 68.0248 0.485888 12.8251 15.8166 17.7991 19.6382 0.472952 13.0851 15.9627 17.7579 19.2295 0.106574 16.8497 24.8266 35.3049 91.5239 0.0429506 20.2693 33.5906 53.1618 164.977 0.12325 16.1827 24.4307 35.3587 92.4854 0.266411 12.9938 20.7358 30.6128 72.5067 0.10569 16.3989 29.5305 48.5489 146.011 0.611709 10.7358 15.0716 19.1309 24.3818 0.615098 10.6879 15.0672 19.1905 24.534 0.144839 15.1509 26.5691 42.663 121.78 0.383099 11.8912 17.8627 24.7312 48.1579 0.283215 12.6894 20.7053 30.9859 73.4611 12.2443 3.95314 5.30298 7.60148 11.5933 0.623398 10.5718 15.0596 19.3422 24.9136 0.381013 11.9215 17.8672 24.6973 48.0675 0.618093 10.6458 15.0639 19.2443 24.6698 0.14279 15.2159 26.5766 42.586 121.581 0.586087 11.1101 15.1315 18.7226 23.2804 0.625507 10.5427 15.0585 19.3821 25.0116 12.2213 4.28858 5.35548 7.23305 10.6024 0.628875 10.4963 15.0573 19.4469 25.1696 0.396825 11.6953 17.8408 24.9663 48.7668 0.147383 15.0714 26.5617 42.7614 122.029 0.584299 11.1371 15.1373 18.6969 23.2066 0.403259 11.6054 17.8351 25.0842 49.0613 0.585308 11.1218 15.134 18.7114 23.2482 0.181301 14.3909 23.6983 36.2784 96.1859 0.189821 14.1756 23.6565 36.4955 96.7882 0.0815879 17.437 32.4793 54.7119 170.933 0.394445 11.7289 17.8437 24.924 48.6594 0.0807409 17.4832 32.4831 54.6536 170.787 0.615074 10.6882 15.0672 19.1901 24.5329 0.601092 10.8884 15.0909 18.9527 23.9151 0.148914 15.0243 26.5583 42.822 122.18 0.10438 16.4548 29.538 48.4851 145.844 9.6134 2.69675 5.69021 10.8096 32.9942 0.367291 12.1243 17.9043 24.4868 47.487 0.400321 11.6463 17.8373 25.0297 48.9261 0.590977 11.037 15.1165 18.7949 23.4842 0.577191 11.2452 15.1629 18.5979 22.9169 0.598458 10.9268 15.0969 18.9105 23.8017 0.3691 12.0972 17.8987 24.5134 47.5622 0.00740625 27.6914 56.4166 102.009 364.939 0.177973 14.4777 23.7186 36.1991 95.9555 0.132519 15.5559 26.6365 42.2298 120.612 0.252335 13.2627 20.7863 30.3376 71.746 0.0926969 16.9856 29.6524 47.9777 144.408 0.0724762 17.9612 32.56 54.1373 169.406 0.389477 11.7995 17.8509 24.8377 48.4376 0.369737 12.0877 17.8967 24.5228 47.5887 0.745102 9.06524 15.5754 22.7398 32.0779 0.248194 12.908 23.7516 38.5572 101.536 0.391676 11.7681 17.8475 24.8756 48.5354 0.614155 10.7012 15.0683 19.1738 24.4914 0.597251 10.9444 15.0998 18.8915 23.75 0.39803 11.6784 17.8395 24.988 48.8215 0.565137 11.4328 15.2143 18.4424 22.4385 0.178488 14.4642 23.7153 36.2112 95.991 0.450208 10.9834 17.8846 26.1045 51.4146 0.408077 10.8371 21.5811 35.7447 83.2018 0.335074 11.8441 20.8169 32.473 76.8077 2.61682 3.54978 19.5979 46.7382 199.526 0.475682 10.6683 17.9834 26.7921 52.8733 0.769682 8.79737 15.8586 23.8044 34.0987 10.7222 1.41671 7.57761 17.2218 45.2655 0.526346 10.0817 18.3578 28.5233 56.3121 0.493772 10.4531 18.0879 27.3486 54.0078 12.2914 3.31436 5.3128 8.55485 13.8643 0.706204 9.51165 15.2685 21.3701 29.3765 0.687266 9.73997 15.1719 20.8132 28.2266 6.62408 1.43024 12.0816 29.5789 111.574 0.646191 10.2631 15.0642 19.8027 26.0106 0.353102 11.5781 20.9324 33.1284 78.1558 0.304523 11.9296 24.5287 41.8214 107.884 0.608226 10.7855 15.0771 19.071 24.227 0.18659 14.2561 23.6706 36.4108 96.5576 0.131438 15.5931 26.645 42.1952 120.513 0.00997563 26.4021 53.4154 96.0861 340.677 0.586269 11.1074 15.1309 18.7253 23.288 0.601162 10.8874 15.0907 18.9539 23.9182 0.0726826 17.9486 32.5571 54.149 169.44 0.567261 11.3993 15.2045 18.4687 22.5216 0.18212 14.3698 23.6936 36.2984 96.243 0.723967 9.30419 15.3893 21.9541 30.5466 0.577699 11.2374 15.161 18.6048 22.9374 0.344462 12.4761 17.9949 24.182 46.5701 0.358403 12.259 17.9353 24.3615 47.123 0.590192 11.0487 15.1188 18.7831 23.4513 0.183739 14.3283 23.6848 36.3385 96.3564 0.480343 10.6122 18.0075 26.9297 53.1571 0.0222499 22.9459 44.5024 77.9296 266.794 0.341554 12.5223 18.0091 24.1471 46.4574 0.584573 11.1329 15.1364 18.7008 23.2179 0.053904 19.1884 35.5363 60.0907 193.78 0.154268 15.1445 23.9339 35.724 94.3844 0.373144 12.037 17.8869 24.5741 47.7318 0.583227 11.1533 15.141 18.6816 23.1625 0.578184 11.23 15.1591 18.6114 22.957 0.139897 15.3092 26.5897 42.4807 121.304 9.54351 2.76397 5.64997 10.6093 32.5567 46.9603 4.44836 3.228 7.81614 45.9223 0.376375 11.9894 17.8783 24.6238 47.8687 0.605186 10.8291 15.0825 19.0199 24.0933 0.0309984 21.5237 41.4734 72.1363 242.897 0.371097 12.0674 17.8927 24.5431 47.6457 0.172366 14.6274 23.7583 36.0724 95.573 4.22431 2.50105 12.3284 29.1133 124.62 0.139815 15.3119 26.5901 42.4777 121.296 0.271254 12.9044 20.7237 30.7153 72.7764 0.113766 16.0691 29.5068 48.9727 147.067 0.197496 13.9893 23.6313 36.7084 97.3471 0.388702 11.8106 17.8522 24.8245 48.4033 0.264396 13.0315 20.7416 30.5713 72.3957 0.398908 11.6661 17.8386 25.0039 48.8615 0.622953 10.578 15.0599 19.3339 24.893 0.249527 13.3179 20.7992 30.2867 71.5981 0.384384 11.8727 17.8601 24.7523 48.2138 0.618821 10.6356 15.0632 19.2575 24.703 0.374872 12.0115 17.8822 24.6005 47.8048 0.0779279 17.6402 32.501 54.4671 170.308 0.107877 16.3073 29.5203 48.6584 146.292 0.624784 10.5526 15.0588 19.3684 24.9779 0.139918 15.3085 26.5896 42.4814 121.306 0.613056 10.7167 15.0698 19.1544 24.4421 0.596459 10.9561 15.1017 18.879 23.7162 0.371859 12.0561 17.8905 24.5546 47.6776 0.391335 11.773 17.848 24.8696 48.5202 0.0554727 19.0624 35.5093 60.2113 194.121 0.604102 10.8448 15.0846 19.0019 24.0459 29.217 3.99662 3.91685 7.1455 27.8782 0.606036 10.8169 15.0809 19.0341 24.1306 0.0521515 19.3336 35.5724 59.9631 193.405 0.59727 10.9442 15.0997 18.8918 23.7508 0.379518 11.9433 17.8706 24.6734 48.0031 0.381304 11.9173 17.8666 24.702 48.0801 0.0541355 19.1696 35.5321 60.1081 193.83 0.567926 11.3889 15.2015 18.477 22.5477 0.324456 17.4415 19.2451 19.1294 15.2514 5.6779 5.47209 6.0661 7.21561 20.6746 0.0116469 25.8906 39.9403 60.6642 185.694 0.0173059 24.254 36.6069 54.4552 161.499 0.333216 17.0602 18.917 18.9037 15.4554 0.0296807 22.2404 31.0307 42.8018 112.49 0.328211 17.2746 19.1008 19.0289 15.3384 0.328647 17.2555 19.0844 19.0176 15.3486 0.008955 26.9744 42.7951 66.5378 210.164 0.0441781 20.8195 27.8841 36.7241 88.1984 0.132763 15.5475 26.6346 42.2377 120.635 0.264188 13.0354 20.7422 30.5671 72.3843 0.579737 11.2063 15.1533 18.6327 23.02 0.244202 13.4243 20.8261 30.1938 71.321 0.358531 12.2571 17.9348 24.3632 47.1282 0.568339 11.3824 15.1997 18.4822 22.564 0.406192 11.5648 17.8334 25.1395 49.1976 0.604501 10.839 15.0839 19.0085 24.0633 0.264723 13.0254 20.7406 30.578 72.4137 0.130724 15.6179 26.6508 42.1727 120.447 0.621171 10.6028 15.0611 19.3007 24.8108 0.62187 10.593 15.0606 19.3137 24.8429 0.59207 11.0208 15.1134 18.8114 23.5302 0.131863 15.5784 26.6416 42.2088 120.552 0.366749 12.1324 17.906 24.4789 47.4645 0.605932 10.8184 15.0811 19.0324 24.126 0.271902 12.8925 20.7223 30.7293 72.8128 0.583839 11.144 15.1389 18.6903 23.1877 0.275347 12.8299 20.7156 30.805 73.0076 0.0443717 19.9906 38.4422 66.4985 219.376 0.613276 10.7136 15.0695 19.1583 24.4519 0.556113 11.5769 15.2594 18.336 22.0904 0.592329 11.017 15.1127 18.8153 23.5411 0.609287 10.7703 15.0753 19.0891 24.274 0.0932915 16.9571 29.6444 48.0009 144.479\r\n",
      "CM042338.1:3792582 0 0 0 0 15 128 0 0 0 0 0 0 0 9 92 0 0 0 0 0 0 0 0 0 0 0 0 0 0 0 0 0 0 0 0 0 0 0 0 0 0 0 0 0 0 0 0 0 0 3 37 0 0 0 0 0 0 0 0 0 0 0 0 0 0 0 0 0 0 0 3 37 0 0 0 0 0 0 0 0 0 0 0 0 0 0 0 0 0 0 0 3 37 0 0 0 0 3 37 0 0 0 0 0 0 0 0 0 0 0 0 0 3 37 0 0 0 0 0 0 0 0 0 0 0 0 0 0 0 0 0 0 37 37 37 0 0 0 0 0 0 0 0 0 0 0 0 0 0 0 0 0 0 0 0 0 0 0 0 0 0 0 0 3 37 0 3 37 0 0 0 0 12 113 0 3 37 0 6 67 0 0 0 0 0 0 0 0 0 0 6 67 0 3 37 0 0 0 0 3 37 0 0 0 0 0 0 0 6 67 0 0 0 0 0 0 0 0 0 0 0 0 0 0 0 0 0 0 0 3 37 0 0 0 0 3 37 0 0 0 0 0 0 0 0 0 0 0 0 0 0 0 0 0 0 0 0 0 0 0 0 0 9 92 0 3 37 0 3 37 0 3 37 0 0 0 0 0 0 0 0 0 0 0 0 0 3 37 0 9 92 0 0 0 0 0 0 0 0 0 0 3 37 0 3 37 0 0 0 0 0 0 0 0 0 0 0 0 0 0 0 0 0 0 0 0 0 0 0 0 0 0 0 0 3 37 0 0 0 0 0 0 0 0 0 0 0 0 0 6 67 0 0 0 0 3 37 0 3 37 0 3 37 0 0 0 0 6 67 0 0 0 0 0 0 0 0 0 0 3 37 0 0 0 0 3 37 0 0 0 0 0 0 0 0 0 0 0 0 0 0 0 0 0 0 0 3 27 0 0 0 0 6 67 0 6 59 0 0 0 0 0 0 0 0 0 0 0 0 0 3 37 0 0 0 0 0 0 0 3 37 0 3 37 0 0 0 0 6 67 0 0 0 0 0 0 0 0 0 0 0 0 0 0 0 36 36 36 0 6 67 0 0 0 37 37 37 0 0 0 0 9 92 0 6 59 0 0 0 0 0 0 0 0 0 0 0 0 0 6 67 0 0 0 0 0 0 0 0 0 0 0 0 0 0 0 0 0 0 0 0 0 0 3 37 0 0 0 0 0 0 0 0 0 0 0 0 0 6 67 0 0 0 0 3 37 0 3 37 0 0 0 0 15 129 0 0 0 0 9 92 0 0 0 0 9 85 0 3 37 0 3 37 0 3 37 0 6 59 0 0 0 0 0 0 0 3 37 0 0 0 110 113 140 0 0 0 0 0 0 0 0 0 0 0 0 0 0 0 0 0 0 0 0 0 0 6 67 0 0 0 0 0 0 0 0 0 0 0 0 0 0 0 0 0 0 0 6 67 0 0 0 0 0 0 0 3 37 0 3 37 0 0 0 0 3 37 0 0 0 0 0 0 0 0 0 0 0 0 0 3 37 0 0 0 0 6 67 0 0 0 0 18 142 0 12 113 0 6 67 0 21 154 0 3 37 0 9 92 0 15 129 0 9 92 0 6 67 0 6 64 0 9 89 0 3 37 0 3 37 0 6 64 0 0 0 0 6 64 0 3 37 0 0 0 0 6 67 0 9 92 0 0 0 0 0 0 0 6 67 0 6 67 0 6 67 0 21 154 0 18 143 0 18 141 0 12 113 0 12 110 0 15 127 0 6 67 0 6 59 0 24 156 0 0 0 0 6 67 0 3 37 0 3 37 0 6 67 0 9 85 0 9 92 0 6 67 0 6 67 0 3 37 0 12 113 0 12 113 0 0 0 0 6 67 0 12 107 0 0 0 0 6 67 0 6 67 0 3 37 0 6 67 0 6 67 0 9 92 0 15 127 0 3 37 0 0 0 0 15 129 0 0 0 0 15 129 0 0 0 0 6 64 22 0 100 0 3 37 0 9 92 0 6 64 37 3 0 0 0 0 0 0 0 0 9 92 0 9 92 0 6 67 0 15 129 0 21 154 0 9 92 0 6 67 0 24 162 0 9 84 0 18 143 0 15 129 0 6 67 0 3 37 0 9 92 0 0 0 0 3 37 0 6 67 0 12 97 0 3 37 0 6 67 0 6 67 0 9 85 0 0 0 0 6 67 0 0 0 0 6 67 0 15 124 0 3 37 0 3 37 0 9 92 0 24 162 0 12 113 0 9 92 0 9 92 0 9 92 0 21 149 0 6 67 0 0 0 0 39 187 0 9 83 0 9 92 0 3 37 0 15 129 0 18 143 0 6 67 0 0 0 0 3 37 0 9 84 0 0 0 0 3 37 0 15 129 0 0 0 0 0 0 0 3 37 0 21 154 0 36 184 0 6 67 0 3 37 0 6 67 0 15 129 0 0 0 0 3 37 0 6 67 0 6 67 0 0 0 0 0 0 0 3 37 0 6 67 0 3 37 0 12 110 0 6 67 0 6 67 0 12 110 0 6 67 0 0 0 0 0 0 0 0 0 0 3 37 0 0 0 0 0 0 0 15 129 0 21 154 0 9 92 0 0 0 0 15 129 0 3 37 0 15 129 0 3 37 0 12 113 0 0 0 0 3 37 0 3 37 0 9 92 0 3 37 0 0 0 0 24 162 0 12 106 0.568888 10.3387 16.0346 22.7257 47.0759 0.378559 11.6015 18.9087 28.3587 71.8778 0.103761 16.4311 30.6697 51.9346 173.319 0.282483 12.5249 21.739 34.4223 97.8366 10.3698 1.94768 6.35525 14.1912 56.6786 0.155316 14.7678 27.5742 46.3679 149.023 0.151213 14.8866 27.6046 46.2572 148.701 0.889766 9.48167 13.3779 17.008 21.7276 0.359452 11.8519 18.9884 28.1616 71.2453 0.990598 8.58357 13.289 18.1951 24.7576 0.624971 9.82841 15.9598 23.3409 48.7039 0.694089 9.25087 15.991 24.321 50.9964 0.639155 9.70557 15.9548 23.5209 49.1459 1.19862 7.05205 14.1518 22.8271 34.2653 1.11162 7.64915 13.5878 20.4074 29.4956 1.11176 7.6481 13.5885 20.4108 29.5024 1.10174 7.72053 13.5445 20.1854 29.0446 0.927358 9.13185 13.3113 17.3925 22.7855 0.996634 8.53361 13.2929 18.2828 24.9605 0.846668 9.90825 13.5032 16.6456 20.6016 0.879423 9.58142 13.4032 16.9136 21.4494 0.537879 10.6397 16.1138 22.4478 46.2476 0.179534 14.3029 24.8613 39.8697 121.766 0.857358 9.79969 13.4672 16.7279 20.873 0.537503 10.6434 16.1149 22.4447 46.2379 0.0124721 25.4422 49.3689 87.1647 323.251 26.5329 2.50995 4.40288 11.3143 68.2224 0.0448641 20.021 34.902 57.272 194.757 0.568787 10.3397 16.0348 22.7247 47.0731 0.374243 11.657 18.9252 28.3119 71.733 0.26113 12.8878 21.8458 34.1167 96.8945 0.273565 12.6732 21.7789 34.2884 97.4379 0.90188 9.36681 13.3522 17.1248 22.0602 0.53838 10.6347 16.1123 22.452 46.2606 0.556849 10.4539 16.0621 22.6127 46.7487 15.1483 4.39805 5.19142 6.88054 10.065 0.876536 9.60956 13.4108 16.888 21.3727 0.373249 11.6699 18.9291 28.3014 71.6998 0.209628 13.6057 24.6382 40.4124 123.501 0.275645 12.6382 21.769 34.3189 97.5302 0.56233 10.4012 16.0491 22.6633 46.8968 0.893171 9.44918 13.3703 17.0402 21.8203 0.386878 11.4961 18.8796 28.4523 72.1603 0.274874 12.6511 21.7726 34.3075 97.496 0.438625 10.4742 22.0319 38.3753 106.734 0.196968 13.8862 24.7151 40.1628 122.755 0.570025 10.328 16.0322 22.7367 47.1072 0.0635355 18.5847 31.7839 51.2942 169.533 0.0487372 19.6593 34.6665 57.2606 195.22 0.149447 15.4356 23.2132 33.473 92.5218 0.305024 13.5586 17.6985 21.7452 41.1916 0.234922 13.8765 20.0297 27.5343 67.5751 0.665885 12.1189 14.6682 16.0245 16.646 0.860702 9.76612 13.4566 16.7546 20.9589 0.86965 9.67716 13.4298 16.8287 21.1913 0.490343 11.1312 16.2885 22.1039 45.0623 0.368778 11.7282 18.9473 28.2546 71.5512 0.889168 9.4874 13.3793 17.0024 21.7113 0.877311 9.60199 13.4087 16.8948 21.3932 0.86967 9.67697 13.4298 16.8288 21.1918 0.280288 12.561 21.7482 34.3885 97.7377 0.864048 9.73271 13.4463 16.7819 21.0453 0.197315 13.8783 24.7127 40.1693 122.776 15.3831 2.4317 5.3448 10.3498 18.1136 0.801176 8.44723 16.3413 26.4639 55.4732 0.432527 10.54 21.9845 38.1497 106.282 1.01397 8.39226 13.3101 18.5463 25.5595 0.26478 12.5509 24.5563 41.8549 127.095 1.09361 7.77989 13.5117 20.0091 28.6837 0.673687 9.41601 15.9671 24.0038 50.2814 0.0997179 16.5286 33.3926 59.0278 201.968 0.443051 10.8353 18.7674 29.2098 74.1967 0.778535 8.60901 16.2327 25.9327 54.4023 0.976206 8.70428 13.284 17.9942 24.2849 0.823418 8.29213 16.4686 27.037 56.6114 0.541626 9.84447 18.9165 31.1294 78.5056 0.308149 11.8636 24.7611 43.443 130.494 0.85165 8.10048 16.6629 27.8498 58.2054 0.483484 10.4062 18.7748 29.8978 75.829 0.950593 8.9249 13.2899 17.6637 23.4796 0.808859 8.39323 16.3829 26.6558 55.8559 0.486636 10.3742 18.7784 29.9569 75.9633 0.323935 11.6369 24.8964 44.1454 131.919 0.501636 10.2244 18.8021 30.2494 76.6178 25.918 0.743561 8.20365 24.476 126.051 13.3108 1.70454 6.23172 14.0068 41.01 11.6916 1.27461 7.63164 18.5126 65.1866 0.572395 9.56954 19.0586 31.9201 80.1312 0.978166 8.6877 13.2843 18.0209 24.3484 0.327837 12.2949 19.1616 27.8908 70.2444 0.260256 13.3939 19.731 27.5594 68.2675 0.230421 13.4633 22.0719 33.769 95.6087 0.0930303 16.911 30.8592 51.6491 172.266 0.164132 14.7055 25.0338 39.6619 120.924 5.6439 1.89841 11.0016 26.8763 126.433 0.122495 15.8203 27.948 45.6397 146.551 0.33061 12.2545 19.1442 27.9117 70.33 0.088264 17.1421 30.9646 51.5458 171.809 1.1078 7.67664 13.5707 20.3206 29.3196 1.02308 8.31916 13.3228 18.692 25.8846 1.04158 8.17331 13.3565 19.0038 26.5678 1.05296 8.08523 13.3826 19.2067 27.0045 0.605616 9.28778 19.2704 32.9094 82.1076 0.500387 10.2367 18.7997 30.2243 76.5623 0.760937 8.73762 16.162 25.5519 53.6226 1.16552 7.27277 13.895 21.794 32.2518 0.610066 9.25115 19.3037 33.0544 82.3936 1.01243 8.40472 13.3082 18.5221 25.5052 1.18865 7.11776 14.0683 22.4984 33.6267 1.00931 8.42994 13.3046 18.4738 25.3961 15.26 3.38744 5.05861 8.13678 13.35 1.05345 8.08143 13.3838 19.2157 27.0237 1.07915 7.88687 13.4592 19.709 28.0635 8.60805 2.70935 5.88464 11.6507 50.4766 0.352262 12.8377 17.2083 21.6736 42.083 0.104978 16.503 28.2925 45.4142 145.316 11.0346 3.45929 5.03726 8.09151 27.9669 0.0948208 16.9525 28.5525 45.3469 144.621 23.0416 1.14062 6.66589 19.7746 116.194 0.227593 14.0252 20.1267 27.5387 67.3792 29.158 3.67158 3.88533 7.94201 45.6148 0.182178 14.537 22.6361 33.4669 93.7241 0.570055 10.3277 16.0321 22.737 47.108 0.58634 10.1755 16.0019 22.9012 47.5634 0.581264 10.2225 16.0105 22.8487 47.42 0.913605 9.2576 13.3311 17.2443 22.3895 0.214779 13.4963 24.6136 40.5225 123.812 0.894939 9.43237 13.3664 17.0571 21.8687 0.929065 9.11642 13.3092 17.4116 22.8353 0.907726 9.31212 13.3412 17.1836 22.2235 0.417444 11.1262 18.8006 28.837 73.2387 0.390469 11.4513 18.8681 28.4941 72.2836 0.918076 9.21644 13.3241 17.2915 22.5171 0.290558 12.3946 21.7086 34.5512 98.2044 0.870314 9.67062 13.4279 16.8343 21.2087 0.419945 11.0971 18.7961 28.8714 73.33 33.2971 4.2759 3.83582 6.75771 28.2129 0.934177 9.07041 13.3035 17.4694 22.9858 0.915426 9.2408 13.3282 17.2634 22.4414 0.926087 9.14337 13.3129 17.3785 22.7484 0.371583 11.6915 18.9357 28.2838 71.6443 0.925033 9.15293 13.3143 17.3668 22.7178 61.1477 11.4106 6.20189 4.33676 4.95462 0.5474 10.5457 16.0866 22.5286 46.497 0.895967 9.42261 13.3642 17.067 21.8969 0.931826 9.09153 13.306 17.4427 22.9164 0.911873 9.27361 13.334 17.2262 22.3404 0.927075 9.13441 13.3117 17.3894 22.7772 0.586287 10.176 16.002 22.9006 47.5619 0.391155 11.4428 18.8659 28.5022 72.3073 0.930997 9.09899 13.307 17.4333 22.892 0.580711 10.2277 16.0115 22.843 47.4044 0.89505 9.43132 13.3662 17.0581 21.8717 0.871354 9.66037 13.425 16.8432 21.2359 0.920646 9.19291 13.3203 17.3191 22.5909 0.550328 10.5171 16.0787 22.5542 46.5745 0.857048 9.80281 13.4682 16.7254 20.865 0.888769 9.49122 13.3802 16.9987 21.7005 0.546771 10.5519 16.0883 22.5231 46.4804 0.567452 10.3524 16.0377 22.7119 47.0365 0.539018 10.6284 16.1104 22.4573 46.2772 0.877534 9.59982 13.4081 16.8968 21.3991 0.870498 9.6688 13.4274 16.8359 21.2135 0.52938 10.7247 16.1402 22.3791 46.0285 0.879695 9.57878 13.4025 16.916 21.4566 0.286442 12.4606 21.7234 34.4846 98.0161 0.875002 9.62456 13.4149 16.8746 21.332 1.10815 7.67411 13.5722 20.3285 29.3356 0.708462 9.13703 16.0155 24.5597 51.522 0.580459 10.23 16.012 22.8405 47.3973 0.156248 14.7412 27.5679 46.3938 149.097 0.275931 12.6334 21.7677 34.3231 97.5429 0.214472 13.5027 24.6149 40.5158 123.793 0.131517 15.5055 27.8136 45.8029 147.208 0.540317 10.6155 16.1066 22.4681 46.3111 0.473032 10.5139 18.7658 29.7078 75.3915 0.828986 8.25388 16.5039 27.1892 56.9115 0.497419 10.2661 18.7944 30.1652 76.4311 0.655477 9.56708 15.9563 23.741 49.6716 0.706046 9.15602 16.0109 24.5187 51.4323 8.02673 1.00478 13.1328 33.7757 140.024 1.16498 7.27647 13.8913 21.7783 32.221 0.567229 9.61473 19.0313 31.7796 79.8459 1.06042 8.02808 13.4021 19.3447 27.2984 0.650849 9.60604 15.9551 23.6772 49.5206 1.04984 8.10923 13.375 19.1503 26.8836 1.02149 8.33191 13.3204 18.6661 25.8271 0.789184 8.53241 16.2813 26.1765 54.8959 0.320556 11.939 21.6403 35.0945 99.6345 1.05788 8.04746 13.3952 19.2973 27.1977 0.835246 8.21114 16.5453 27.365 57.2569 0.903347 9.35305 13.3493 17.1394 22.101 0.14787 14.9858 27.6326 46.171 148.441 0.873939 9.63496 13.4178 16.8654 21.304 0.39638 11.3783 18.8504 28.565 72.4886 0.870586 9.66793 13.4272 16.8366 21.2158 0.391237 11.4417 18.8657 28.5032 72.3101 0.880901 9.56707 13.3994 16.9268 21.4888 0.514964 10.8718 16.1898 22.2698 45.6642 0.378666 11.6001 18.9083 28.3598 71.8814 0.749179 8.825 16.121 25.3118 53.1244 0.857805 9.7952 13.4658 16.7314 20.8844 0.837318 10.0048 13.5374 16.5777 20.3684 0.858099 9.79224 13.4648 16.7338 20.8919 0.876436 9.61053 13.4111 16.8872 21.37 0.145442 15.0593 27.6547 46.1107 148.254 0.713026 9.1013 16.0246 24.6383 51.693 0.268324 12.7625 21.8055 34.2139 97.2072 0.244164 13.1971 21.9595 33.9108 96.1748 0.868056 9.69292 13.4344 16.8152 21.1496 0.552252 10.4984 16.0737 22.5713 46.6257 0.478082 11.2646 16.3444 22.031 44.7715 0.552804 10.493 16.0723 22.5762 46.6405 0.37034 11.7077 18.9408 28.2708 71.603 0.858529 9.78792 13.4634 16.7372 20.903 0.901838 9.36721 13.3522 17.1244 22.0591 0.554674 10.4749 16.0675 22.593 46.6904 37.5139 7.02482 4.9822 5.15969 7.46915 0.884905 9.52836 13.3894 16.963 21.5962 0.898808 9.39574 13.3583 17.0946 21.9752 0.891909 9.4612 13.3731 17.0282 21.7859 0.877031 9.60472 13.4095 16.8924 21.3858 0.85208 9.85305 13.4845 16.6866 20.7384 0.87445 9.62996 13.4164 16.8698 21.3175 0.207269 13.6567 24.6508 40.3636 123.36 0.906514 9.32343 13.3434 17.1713 22.1895 0.312939 12.0506 21.6511 34.9468 99.2612 0.91493 9.24537 13.329 17.2582 22.4272 0.9033 9.35349 13.3494 17.1389 22.0997 0.893508 9.44597 13.3695 17.0434 21.8295 0.918536 9.21223 13.3234 17.2964 22.5303 15.2002 3.9084 5.08612 7.38961 11.5006 0.865114 9.7221 13.4431 16.7907 21.073 15.1717 4.1724 5.13458 7.09502 10.6955 0.591883 10.1245 15.9933 22.9599 47.7217 0.555382 10.468 16.0658 22.5994 46.7094 0.911161 9.28021 13.3352 17.2188 22.3203 0.415031 11.1545 18.8053 28.8043 73.1511 0.928067 9.12543 13.3104 17.4004 22.8062 0.398392 11.3537 18.8448 28.5896 72.5588 0.910556 9.28582 13.3362 17.2126 22.3032 0.558505 10.4379 16.0581 22.6279 46.7933 0.878167 9.59365 13.4065 16.9024 21.416 0.90723 9.31675 13.3421 17.1785 22.2096 0.891669 9.46349 13.3736 17.0259 21.7793 0.151049 14.8914 27.6059 46.2529 148.688 0.883583 9.54111 13.3927 16.951 21.5606 0.900077 9.38377 13.3557 17.107 22.0102 0.865813 9.71515 13.441 16.7965 21.0912 0.886996 9.50824 13.3844 16.9822 21.6525 0.562313 10.4013 16.0491 22.6632 46.8963 0.39081 11.447 18.867 28.4981 72.2954 12.2461 2.6563 5.25853 10.024 32.8651 37.7317 7.79865 5.39865 4.99792 6.40262 0.0954073 18.015 23.2776 29.0923 64.1289 0.486487 15.7718 17.5462 17.4243 13.5845 0.480149 15.9623 17.713 17.5431 13.4883 0.493248 15.5763 17.3761 17.3058 13.688 0.167507 16.4508 20.0092 22.9367 38.8851 0.150847 16.9426 20.4387 23.2394 38.6312 0.487388 15.7453 17.523 17.408 13.5983 0.488033 15.7264 17.5066 17.3965 13.6081 0.485221 15.8093 17.5789 17.4474 13.5652 0.484227 15.8389 17.6048 17.4658 13.5501 0.878344 9.59193 13.406 16.904 21.4207 0.565832 10.3678 16.0412 22.6964 46.9922 0.13872 15.2691 27.7244 45.9539 147.744 0.854877 9.82471 13.4752 16.7083 20.8095 0.531009 10.7083 16.135 22.392 46.0703 0.516571 10.8552 16.184 22.2815 45.7044 0.602133 10.0313 15.9796 23.0722 48.019 0.28242 12.526 21.7393 34.4213 97.8337 0.89413 9.44005 13.3682 17.0493 21.8465 0.544279 10.5764 16.0952 22.5017 46.4148 0.216997 13.45 24.6041 40.5715 123.947 0.923716 9.16491 13.316 17.3524 22.6796 0.879238 9.58322 13.4037 16.9119 21.4445 0.143597 15.1159 27.6726 46.0661 148.113 0.870546 9.66833 13.4273 16.8363 21.2147 15.1748 4.14342 5.12827 7.12495 10.7801 0.402991 11.2979 18.8326 28.647 72.7206 0.866961 9.70376 13.4376 16.806 21.121 0.116396 15.9257 30.5207 52.3574 174.614 0.159507 14.6496 27.5475 46.4866 149.357 0.211545 13.5647 24.6286 40.4528 123.616 0.339166 12.1317 19.0934 27.9798 70.5969 0.879625 9.57946 13.4027 16.9153 21.4548 0.577649 10.2563 16.0171 22.812 47.3186 0.259534 12.9161 21.8554 34.0959 96.8258\r\n",
      "CM042338.1:4255378 0 0 0 0 9 92 0 0 0 0 0 0 0 9 91 0 0 0 0 6 67 0 0 0 0 0 0 0 3 37 0 0 0 0 0 0 0 12 113 0 0 0 0 0 0 0 0 0 0 0 0 0 15 129 0 6 67 0 12 113 0 6 67 30 0 27 0 15 129 0 3 37 0 0 0 0 0 0 0 0 0 0 0 0 0 9 92 0 0 0 0 6 67 0 3 37 0 15 129 0 21 151 0 3 33 0 3 37 0 0 0 0 0 0 0 0 0 0 0 0 0 0 0 0 12 113 0 3 37 0 0 0 0 3 37 0 0 0 0 0 0 0 12 113 0 0 0 0 6 67 0 24 162 79 0 25 0 9 92 0 6 67 0 12 113 0 12 106 0 0 0 0 0 0 0 0 0 0 0 0 0 6 64 0 3 37 0 0 0 0 0 0 0 3 36 0 3 34 0 6 67 0 3 37 36 3 0 0 0 0 0 0 0 0 0 0 0 6 67 0 0 0 0 6 67 0 3 33 0 0 0 0 0 0 0 12 110 0 0 0 0 3 36 0 0 0 0 0 0 0 0 0 0 0 0 0 0 0 0 0 0 0 15 129 0 3 36 0 3 36 0 6 67 0 12 113 0 0 0 0 12 111 0 24 162 0 15 129 0 6 67 0 0 0 0 0 0 0 3 37 0 0 0 0 3 37 0 3 37 0 0 0 0 0 0 0 0 0 0 0 0 0 0 0 0 3 37 0 15 129 0 9 92 0 0 0 0 9 92 0 12 109 0 12 112 0 15 128 0 3 33 0 0 0 0 6 64 0 21 146 0 3 36 0 0 0 0 21 154 0 0 0 0 6 67 0 12 105 0 0 0 0 27 170 0 0 0 0 0 0 0 0 0 0 0 0 0 0 0 0 0 0 0 0 0 0 0 0 0 0 0 0 0 0 0 0 0 0 0 0 0 0 0 0 0 0 0 0 0 0 0 0 66 6 0 0 0 0 0 12 113 0 0 0 27 0 59 57 0 28 66 6 0 0 3 37 0 3 37 0 18 143 0 6 67 0 6 67 0 0 0 0 33 180 0 12 113 0 6 67 0 9 89 0 6 67 0 6 64 0 0 0 0 0 0 0 6 67 0 27 169 0 15 129 0 0 0 0 12 110 0 18 143 0 18 138 0 6 67 0 12 113 0 21 153 0 6 67 0 0 0 0 0 0 0 0 0 0 0 0 0 0 0 0 9 92 0 0 0 0 0 0 0 0 0 0 0 0 0 0 0 0 0 0 0 9 85 0 3 33 0 3 37 0 0 0 0 15 124 0 9 92 0 0 0 0 24 162 0 6 67 0 0 0 0 6 67 0 3 37 0 6 66 0 15 129 0 0 0 0 12 113 0 3 37 0 9 92 0 6 67 0 6 57 0 0 0 0 0 0 0 6 66 0 0 0 0 0 0 0 0 0 0 0 0 0 0 0 0 0 0 0 0 0 0 0 0 0 0 0 0 0 0 0 0 0 0 27 170 0 0 0 0 0 0 0 0 0 0 0 0 0 12 106 0 12 113 0 0 0 0 0 0 0 0 0 0 0 0 0 0 0 0 15 123 0 3 37 0 6 67 0 0 0 0 0 0 0 9 92 0 6 67 0 0 0 0 0 0 0 6 67 0 12 110 0 6 64 0 15 129 0 9 84 0 3 37 0 6 59 0 3 37 0 24 161 0 0 0 0 0 0 0 0 0 47 0 98 0 0 0 0 6 67 0 0 0 0 0 0 0 0 0 0 0 0 0 0 0 0 0 0 0 0 0 0 0 0 0 0 0 0 3 36 0 0 0 0 3 37 0 12 111 0 3 37 0 0 0 0 0 0 0 12 111 0 0 0 0 0 0 0 0 0 0 0 0 0 0 0 36 3 0 0 0 0 0 0 0 0 6 67 0 0 0 0 0 0 0 3 37 0 0 0 0 0 0 0 3 37 0 0 0 0 0 0 0 0 0 0 0 0 0 0 0 0 0 0 0 3 37 0 3 37 0 9 92 0 6 67 0 6 64 0 12 106 0 0 0 0 0 0 0 0 0 0 6 67 0 3 36 0 0 0 0 0 0 0 0 0 0 3 37 0 0 0 0 0 0 0 0 0 0 0 0 0 0 0 0 3 37 0 0 0 0 6 67 0 0 0 0 0 0 0 6 67 0 0 0 0 0 0 0 6 67 0 3 37 0 0 0 0 15 118 0 0 0 0 0 0 0 0 0 0 0 0 0 6 67 0 0 0 0 0 0 0 0 0 0 0 0 0 12 113 0 0 0 0 0 0 0 0 0 0 12 113 0 6 67 0 0 0 0 0 0 0 0 0 0 0 0 0 0 0 0 0 0 0 3 37 0 0 0 0 0 0 0 0 0 0 0 0 0 18 140 0 3 37 0 3 36 0 6 67 0 9 92 55 0 148 0 6 67 0 0 0 0 18 142 0 6 67 0 0 0 0 18 135 0 0 0 0 3 37 0 0 0 0 0 0 0 0 0 0 3 37 0 3 36 0 0 0 0 0 0 0 0 0 0 0 0 0 0 0 0 0 0 0 27 170 0 0 0 0 0 0 0 0 0 0 0 0 0 0 0 0 0 0 0 3 36 0 0 0 0 6 67 0 0 0 0 6 57 0 0 0 0 6 67 0 15 129 0 3 37 77.3153 1.80742 4.81373 19.8514 162.943 0.08281 17.5554 28.8755 44.6947 144.782 0.156649 15.2543 22.9601 32.6368 84.8802 0.3798 12.6394 17.1192 21.2029 26.4089 0.0343758 21.1246 37.8254 62.7997 234.562 0.384675 12.5261 17.1142 21.3493 26.7706 0.0109694 25.9995 49.8142 86.9091 354.11 0.376393 12.7197 17.1254 21.1052 26.1615 0.152342 15.3938 22.9875 32.5037 84.5057 0.418604 11.7846 17.2154 22.6005 29.5792 0.402572 12.1253 17.137 21.9556 28.1829 0.43145 11.523 17.3215 23.1971 30.8062 0.408505 11.9973 17.1593 22.1823 28.6838 0.270418 12.4441 24.7902 40.6459 100.646 0.176057 14.2591 26.6253 43.2013 124.347 0.469087 10.8073 17.9023 25.4776 35.1727 0.464922 10.8831 17.8146 25.177 34.6171 0.177087 14.6366 22.9123 33.388 86.7788 0.421125 11.7325 17.233 22.7117 29.8118 0.358297 13.1627 17.1963 20.6462 24.915 0.0187422 23.701 43.8354 74.6963 293.925 0.0437546 20.1339 34.8705 56.5512 204.065 0.0410978 20.4119 34.9346 56.3078 203.355 0.0429393 20.2174 34.8877 56.4735 203.845 0.156497 15.2592 22.961 32.6319 84.8668 0.0795604 18.0309 26.4877 37.6726 111.279 0.286886 15.2739 18.1145 19.7549 20.8533 0.0977704 17.5652 23.9276 31.5804 80.3351 0.0349755 21.0484 37.8168 62.886 234.785 0.230618 14.0182 20.0163 26.7631 55.2946 0.0800937 17.7082 28.9023 44.5422 144.363 0.373557 12.7872 17.1324 21.0267 25.9588 0.0354467 20.9894 37.8114 62.9557 234.962 0.156783 15.2501 22.9594 32.641 84.8919 0.116008 16.2616 25.8904 38.8027 115.21 0.113348 16.3715 25.906 38.6847 114.896 0.160333 15.1378 22.9415 32.7574 85.2071 0.0598328 18.8526 31.8712 50.6073 174.388 0.0481884 19.7052 34.8144 57.0203 205.298 0.116598 16.2376 25.8875 38.8296 115.28 15.2936 3.82043 5.22352 7.44343 11.2489 0.377821 12.6859 17.1226 21.1457 26.2647 0.116786 16.2299 25.8866 38.8382 115.302 0.0844261 17.4667 28.863 44.7901 145.035 0.343332 11.7002 21.0681 32.3157 66.6243 0.161094 15.114 22.9382 32.7832 85.2754 0.0109601 26.0032 49.8146 86.9048 354.099 0.29317 15.0574 17.9885 19.7738 21.1667 31.5942 2.31175 4.57991 11.9579 82.5161 0.279473 15.5394 18.2763 19.7489 20.4927 15.1851 7.08074 6.65973 6.11691 5.03706 0.152382 16.265 20.9125 25.6328 50.7103 0.144125 16.5557 21.0862 25.6181 50.3042 0.0432881 20.1815 34.8801 56.5064 203.939 0.367951 12.9228 17.1507 20.8788 25.5663 0.346085 13.4788 17.2796 20.391 24.1316 0.365594 12.9806 17.1602 20.8194 25.4045 0.238215 13.8356 19.9939 26.9673 55.8306 0.371166 12.8447 17.1394 20.9624 25.7901 0.367959 12.9226 17.1506 20.879 25.5669 0.378269 12.6753 17.1217 21.1586 26.2972 0.365598 12.9805 17.1601 20.8195 25.4048 0.234214 13.9312 20.0043 26.8575 55.5458 0.46762 10.8339 17.8706 25.3701 34.9745 0.338094 11.7928 20.9318 31.8811 65.8374 0.47753 10.6561 18.1019 26.1343 36.3724 0.290435 12.695 20.1601 28.9157 60.1887 0.293829 12.6268 20.1923 29.0814 60.524 0.323615 12.0552 20.6161 30.8123 63.869 0.422935 11.6953 17.2466 22.7932 29.9811 0.413312 11.8953 17.1831 22.3762 29.103 0.405007 12.0724 17.1452 22.047 28.3864 0.129014 15.5061 29.535 48.9881 153.803 0.274663 13.0204 20.0471 28.2156 58.7264 0.485251 10.5205 18.3131 26.7978 37.5685 0.455304 11.0612 17.6366 24.5342 33.4124 0.329242 11.9521 20.7289 31.2065 64.6013 0.496954 10.3197 18.6947 27.9436 39.6063 0.108529 16.3092 28.9763 46.6404 149.245 0.184833 14.4191 22.9294 33.727 87.5587 0.47921 10.6264 18.1454 26.2732 36.624 0.427503 11.6024 17.2845 23.0056 30.4179 0.479591 10.6196 18.1555 26.3051 36.6817 0.435148 11.4494 17.3597 23.3835 31.1801 0.104142 16.5001 28.9143 46.24 148.407 40.6875 3.51443 4.35466 8.08558 14.8908 0.465409 10.8742 17.8245 25.2113 34.6808 0.470602 10.78 17.9359 25.5907 35.3805 15.3307 2.99241 5.28158 8.72019 14.2038 0.343207 13.5555 17.3034 20.3371 23.9531 0.0294988 21.8795 35.5358 55.6092 200.455 0.138517 15.8668 23.1173 32.134 83.3549 0.14261 15.7224 23.072 32.2343 83.6879 0.340263 13.6349 17.3295 20.2843 23.7729 0.340804 13.6203 17.3245 20.2939 23.8059 70.2125 11.9654 6.71282 4.47774 4.35812 0.344739 13.5146 17.2905 20.3655 24.0479 0.3395 13.6557 17.3365 20.2711 23.7266 0.467441 10.8372 17.8668 25.357 34.9504 0.209328 13.7816 23.1173 35.0239 90.3052 0.0855085 17.2414 32.0886 53.3134 180.445 0.159976 14.7234 26.2075 41.6308 121.376 0.254938 12.7551 24.1425 38.7331 97.2609 0.0463173 19.809 38.0052 65.0122 239.503 0.321371 12.0967 20.5744 30.662 63.5873 0.35347 11.5243 21.3713 33.2454 68.2881 0.140834 15.0971 30.1047 50.8345 157.158 0.149098 15.063 26.0251 40.7584 119.636 0.266888 12.5136 24.6234 40.1646 99.8001 0.0597879 18.745 34.9431 58.63 208.897 0.141881 15.3015 25.9435 40.2488 118.572 0.0873981 17.1424 32.1491 53.5838 180.976 0.167108 14.5123 26.3692 42.281 122.626 0.153042 16.2424 20.8994 25.6349 50.7433 0.287831 15.2409 18.0949 19.757 20.9 0.0100735 26.3861 47.307 79.745 320.518 0.30346 14.7185 17.8031 19.8308 21.6958 0.305407 14.6564 17.7708 19.8451 21.7983 0.297285 14.9197 17.9114 19.7928 21.3758 0.0346531 21.2932 32.9107 49.5372 169.684 0.155046 16.1741 20.8602 25.6422 50.844 0.0773797 18.1599 26.5537 37.6407 111.065 0.379568 12.6448 17.1195 21.1962 26.3919 0.0364057 20.8717 37.804 63.1021 235.326 0.0888611 17.2316 28.8422 45.0695 145.745 0.386388 12.4867 17.1136 21.4025 26.8999 0.0153451 24.5516 46.7985 81.1571 324.915 0.378562 12.6684 17.1212 21.167 26.3185 0.392865 12.3398 17.1165 21.6128 27.3996 0.0200306 23.4104 43.8028 75.0258 294.777 0.126574 15.8473 25.8676 39.3261 116.51 0.0193026 23.5722 43.8177 74.8352 294.292 0.388262 12.4439 17.1135 21.4619 27.0426 0.385404 12.5093 17.1139 21.3718 26.8254 0.368229 12.916 17.1496 20.8859 25.5856 0.177681 14.6196 22.9129 33.4129 86.8374 0.159309 15.17 22.9463 32.7233 85.1156 0.128665 15.7692 25.8703 39.4404 116.778 0.387151 12.4692 17.1135 21.4266 26.9578 0.391618 12.3678 17.1153 21.5712 27.302 0.15743 15.2294 22.9558 32.6618 84.949 0.176315 14.6587 22.9116 33.3559 86.703 0.229814 14.0378 20.0193 26.7426 55.2391 0.370062 12.8714 17.1431 20.9334 25.7129 0.378994 12.6583 17.1205 21.1795 26.35 0.256095 13.4238 19.9858 27.521 57.1779 0.385662 12.5034 17.1138 21.3798 26.8449 0.176993 14.6392 22.9122 33.384 86.7696 0.386373 12.4871 17.1136 21.402 26.8987 0.118152 16.1748 25.8808 38.9018 115.466 0.393674 12.3217 17.1175 21.6401 27.4633 0.384035 12.5408 17.1146 21.3296 26.7226 0.378609 12.6673 17.1211 21.1684 26.3219 0.368666 12.9053 17.148 20.8971 25.6158 0.174859 14.7007 22.9109 33.2962 86.5611 0.371291 12.8417 17.139 20.9658 25.7989 0.362659 13.0532 17.1735 20.7479 25.2055 79.2575 2.57821 3.75937 15.7013 134.838 0.1135 16.3652 25.905 38.6913 114.914 0.240549 13.7804 19.9892 27.0337 55.9995 0.366543 12.9572 17.1562 20.8431 25.4695 0.37126 12.8425 17.1391 20.9649 25.7967 0.368307 12.9141 17.1493 20.8879 25.5909 0.153854 15.3444 22.9772 32.5494 84.6362 0.372167 12.8206 17.1363 20.9891 25.8604 0.0880794 17.2722 28.8444 45.0184 145.618 0.23227 13.9781 20.0105 26.806 55.4095 0.329659 11.9445 20.7378 31.2367 64.6571 0.0629255 18.5169 35.0455 59.1707 209.994 0.170588 14.8257 22.9129 33.1272 86.1516 0.172061 14.7823 22.9115 33.1844 86.2917 0.16375 15.0319 22.9282 32.8751 85.516 0.249978 13.562 19.9814 27.3196 56.7026 0.355108 13.2438 17.2153 20.5754 24.7062 0.157414 15.2299 22.9559 32.6613 84.9476 0.199851 14.0199 23.0196 34.4785 89.186 0.48756 10.4804 18.3821 27.0095 37.9473 0.295077 12.602 20.205 29.1437 60.6493 90.6682 8.08125 3.17578 4.41105 30.0599 0.212826 13.6961 23.1619 35.2407 90.7394 0.344977 11.6714 21.1136 32.4582 66.8809 0.491171 10.4182 18.496 27.3541 38.5614 0.239031 13.093 23.6623 37.1862 94.453 0.309801 12.3146 20.3861 29.9422 62.2186 0.413394 11.8935 17.1836 22.3795 29.1102 15.3606 2.38868 5.55547 10.1613 17.1353 0.151513 14.9857 26.0593 40.9407 120.007 0.177403 14.2221 26.6695 43.3513 124.623 0.405835 12.0546 17.1483 22.0786 28.4562 0.0489753 19.5624 38.1459 65.6633 240.791 0.352229 11.5456 21.3311 33.1246 68.0732 0.169138 14.8688 22.9149 33.0718 86.0148 0.164064 15.0222 22.9272 32.8861 85.5447 0.0332032 21.2776 37.848 62.6381 234.131 0.0110127 25.9823 49.8125 86.9291 354.161 0.368344 12.9132 17.1492 20.8888 25.5935 0.165666 14.9733 22.9224 32.9434 85.6918 0.0613973 18.7366 31.8525 50.7267 174.711 0.0413754 20.3821 34.9267 56.3319 203.429 0.0449746 20.0118 34.8489 56.6725 204.398 0.0678766 18.1788 35.2697 60.1333 211.869 0.00132866 35.1455 70.9144 128.521 561.718 0.216441 14.3727 20.0878 26.4286 54.3454 0.3631 13.0423 17.1714 20.7584 25.2353 0.060767 18.7829 31.8595 50.678 174.58 0.00444017 29.9116 58.8477 104.732 443.077 0.0634733 18.4782 35.0665 59.2703 210.192 0.159569 15.1618 22.945 32.7319 85.1388 0.214619 14.4197 20.0998 26.3898 54.2278 0.0440586 20.1032 34.8647 56.5809 204.148 0.114863 16.3086 25.8967 38.7512 115.074 0.0207991 23.2799 41.0496 68.0323 262.094 0.234404 13.9266 20.0037 26.8626 55.5592 0.366438 12.9598 17.1566 20.8405 25.4623 0.36328 13.0378 17.1705 20.7628 25.2475 0.381456 12.6007 17.117 21.2518 26.5307 0.373115 12.7978 17.1336 21.0147 25.9274 0.0468466 19.8307 34.8249 56.8701 204.918 0.236426 13.8782 19.9981 26.9176 55.7026 0.380185 12.6304 17.1186 21.2142 26.4371 0.377292 12.6984 17.1236 21.1307 26.2263 0.371049 12.8475 17.1398 20.9593 25.7819 0.0782533 17.8146 28.9247 44.4444 144.084 0.159651 15.1592 22.9446 32.7346 85.1461 0.168551 14.8863 22.9159 33.0497 85.9598 0.121628 16.037 25.8706 39.0701 115.89 0.0710972 18.0759 31.8308 51.5926 176.825 0.386944 12.474 17.1135 21.42 26.942 0.0878585 17.2837 28.8452 45.0041 145.582 0.0631883 18.6072 31.8364 50.8703 175.086 0.388454 12.4395 17.1136 21.4681 27.0574 0.176414 14.6558 22.9117 33.36 86.7128 0.366046 12.9694 17.1582 20.8307 25.4354 0.0636668 18.5733 31.8331 50.9099 175.187 0.388717 12.4335 17.1136 21.4765 27.0776 0.373412 12.7907 17.1328 21.0228 25.9485 0.122803 15.9913 25.8687 39.1292 116.035 0.25238 13.5074 19.9822 27.3972 56.8874 0.092623 17.0409 28.8393 45.3272 146.368 0.120465 16.0827 25.8733 39.0127 115.747 0.171518 14.7982 22.912 33.1632 86.24 0.116422 16.2447 25.8884 38.8216 115.259 0.233599 13.946 20.0062 26.8411 55.5025 0.0200077 23.4154 43.8031 75.0197 294.761 0.377191 12.7008 17.1238 21.1278 26.219 0.16711 14.9296 22.9188 32.9961 85.8253 0.373799 12.7815 17.1317 21.0333 25.9759 0.380717 12.6179 17.1179 21.2299 26.4762 0.228413 14.0722 20.0249 26.7072 55.1427 0.37523 12.7473 17.1281 21.0727 26.078 0.0852554 17.4219 28.8577 44.8404 145.166 0.239511 13.8049 19.9911 27.004 55.9242 0.0337914 21.2002 37.8357 62.7179 234.346 0.218928 14.3092 20.0725 26.483 54.5074 0.203845 19.3171 21.1571 21.0737 17.2865 0.0197921 23.9815 32.8734 44.8327 136.476 0.0270219 22.9369 30.0432 38.9501 106.559 0.0439263 21.3085 26.7142 32.726 76.9558 0.071441 20.0433 23.698 26.721 47.1825 0.202261 19.4325 21.2565 21.1432 17.2273 0.0199141 23.9544 32.8501 44.8168 136.49 0.206487 19.13 20.997 20.9638 17.3859 0.0673608 20.324 23.9366 26.8819 47.0279 0.204864 19.2441 21.0945 21.0305 17.3247 0.3716 12.8343 17.1381 20.974 25.8205 0.00609784 28.5372 55.8261 98.8651 413.618 0.0239801 22.6564 40.872 68.5026 263.574 0.02363 22.7209 40.8861 68.4445 263.407 0.0793998 17.748 28.9103 44.5048 144.258 0.106067 16.6852 25.9694 38.3897 114.062 0.00884416 26.9269 52.8019 93.3182 384.929 0.24183 13.7504 19.9871 27.0708 56.0929 0.0861142 17.3758 28.8528 44.8934 145.302 0.368752 12.9032 17.1477 20.8993 25.6218 0.390188 12.4001 17.1143 21.5241 27.1909 0.252698 13.5002 19.9824 27.4076 56.912 0.0611623 18.7538 31.855 50.7085 174.662 0.370345 12.8646 17.1421 20.9408 25.7326 0.0443206 20.0769 34.8599 56.6067 204.219 0.242725 13.7294 19.9858 27.0971 56.1587 0.088707 17.2396 28.8426 45.0594 145.72 0.366822 12.9504 17.1551 20.8501 25.4886 0.0661727 18.3994 31.8219 51.1258 175.726 0.251773 13.5211 19.9819 27.3774 56.8404 0.122733 15.994 25.8688 39.1256 116.027 0.349453 13.3901 17.2538 20.4571 24.3434 0.372138 12.8213 17.1364 20.9883 25.8584 0.0199018 23.4386 43.8048 74.9913 294.69 0.363615 13.0295 17.1689 20.7709 25.27\r\n"
     ]
    }
   ],
   "source": [
    "!head entropy.mpgl"
   ]
  },
  {
   "cell_type": "code",
   "execution_count": 110,
   "metadata": {},
   "outputs": [
    {
     "name": "stdout",
     "output_type": "stream",
     "text": [
      "/data/gpfs/assoc/denovo/tfaske/sagebrush/SNPcall/entropy_ebgAll\n"
     ]
    }
   ],
   "source": [
    "cd $ent_dir"
   ]
  },
  {
   "cell_type": "code",
   "execution_count": 111,
   "metadata": {},
   "outputs": [],
   "source": [
    "!mkdir shdir"
   ]
  },
  {
   "cell_type": "code",
   "execution_count": 125,
   "metadata": {},
   "outputs": [],
   "source": [
    "### select slurm options\n",
    "account = 'cpu-s5-denovo-0'\n",
    "partition = 'cpu-core-0'\n",
    "time = '4-00:00:00' #time limit 4\n",
    "cpus = 2 #to prevent hammering one node\n",
    "mem_cpu = 16000\n",
    "email = 'tfaske@nevada.unr.edu'\n",
    "\n",
    "#entropy settings\n",
    "ploidy = 'ploidy_inds.txt'\n",
    "l = 60000\n",
    "b = 10000\n",
    "num_k = [2,3,4,5,6,7]\n",
    "chains = 4"
   ]
  },
  {
   "cell_type": "code",
   "execution_count": 131,
   "metadata": {},
   "outputs": [],
   "source": [
    "def write_entropy_sh(account,partition,time,cpus,mem_cpu,email,ploidy,l,b,num_k,chains):\n",
    "    for k in num_k:\n",
    "        for c in range(1,chains+1):\n",
    "            jobname = 'k%d_c%d' % (k,c)\n",
    "            seed = random.randint(1000,9999) #default is clock so messes up if submitted same time \n",
    "            with open(\"shdir/run_entropy_%s.sh\" % (jobname), \"w\") as o:\n",
    "                o.write(\"\"\"#!/usr/bin/env bash\n",
    "#SBATCH --account=%s\n",
    "#SBATCH --partition=%s\n",
    "#SBATCH --time=%s\n",
    "#SBATCH --ntasks 1\n",
    "#SBATCH --cpus-per-task %d\n",
    "#SBATCH --mem-per-cpu=%d\n",
    "#SBATCH --job-name ent_%s\n",
    "#SBATCH --output output_%s.txt\n",
    "#SBATCH --mail-type=END\n",
    "#SBATCH --mail-user=%s\\n\\n\"\"\" % (account,partition,time,cpus,mem_cpu,jobname,jobname,email))\n",
    "        \n",
    "                o.write(\"entropy -i ../entropy.mpgl -o ../entropy_%s.hdf5 -r %d -n ../%s -l %d -b %d -t 10 -s 50 -e .01 -k %d -q ../ldak%d.txt -m 1 -w 0\"\n",
    "                        % (jobname,seed,ploidy,l,b,k,k))\n",
    "    "
   ]
  },
  {
   "cell_type": "code",
   "execution_count": 132,
   "metadata": {},
   "outputs": [],
   "source": [
    "write_entropy_sh(account,partition,time,cpus,mem_cpu,email,ploidy,l,b,num_k,chains)"
   ]
  },
  {
   "cell_type": "code",
   "execution_count": 133,
   "metadata": {},
   "outputs": [
    {
     "data": {
      "text/plain": [
       "['/data/gpfs/assoc/denovo/tfaske/sagebrush/SNPcall/entropy_ebgAll/shdir/run_entropy_k2_c1.sh',\n",
       " '/data/gpfs/assoc/denovo/tfaske/sagebrush/SNPcall/entropy_ebgAll/shdir/run_entropy_k2_c2.sh',\n",
       " '/data/gpfs/assoc/denovo/tfaske/sagebrush/SNPcall/entropy_ebgAll/shdir/run_entropy_k2_c3.sh',\n",
       " '/data/gpfs/assoc/denovo/tfaske/sagebrush/SNPcall/entropy_ebgAll/shdir/run_entropy_k2_c4.sh',\n",
       " '/data/gpfs/assoc/denovo/tfaske/sagebrush/SNPcall/entropy_ebgAll/shdir/run_entropy_k3_c1.sh',\n",
       " '/data/gpfs/assoc/denovo/tfaske/sagebrush/SNPcall/entropy_ebgAll/shdir/run_entropy_k3_c2.sh',\n",
       " '/data/gpfs/assoc/denovo/tfaske/sagebrush/SNPcall/entropy_ebgAll/shdir/run_entropy_k3_c3.sh',\n",
       " '/data/gpfs/assoc/denovo/tfaske/sagebrush/SNPcall/entropy_ebgAll/shdir/run_entropy_k3_c4.sh',\n",
       " '/data/gpfs/assoc/denovo/tfaske/sagebrush/SNPcall/entropy_ebgAll/shdir/run_entropy_k4_c1.sh',\n",
       " '/data/gpfs/assoc/denovo/tfaske/sagebrush/SNPcall/entropy_ebgAll/shdir/run_entropy_k4_c2.sh',\n",
       " '/data/gpfs/assoc/denovo/tfaske/sagebrush/SNPcall/entropy_ebgAll/shdir/run_entropy_k4_c3.sh',\n",
       " '/data/gpfs/assoc/denovo/tfaske/sagebrush/SNPcall/entropy_ebgAll/shdir/run_entropy_k4_c4.sh',\n",
       " '/data/gpfs/assoc/denovo/tfaske/sagebrush/SNPcall/entropy_ebgAll/shdir/run_entropy_k5_c1.sh',\n",
       " '/data/gpfs/assoc/denovo/tfaske/sagebrush/SNPcall/entropy_ebgAll/shdir/run_entropy_k5_c2.sh',\n",
       " '/data/gpfs/assoc/denovo/tfaske/sagebrush/SNPcall/entropy_ebgAll/shdir/run_entropy_k5_c3.sh',\n",
       " '/data/gpfs/assoc/denovo/tfaske/sagebrush/SNPcall/entropy_ebgAll/shdir/run_entropy_k5_c4.sh',\n",
       " '/data/gpfs/assoc/denovo/tfaske/sagebrush/SNPcall/entropy_ebgAll/shdir/run_entropy_k6_c1.sh',\n",
       " '/data/gpfs/assoc/denovo/tfaske/sagebrush/SNPcall/entropy_ebgAll/shdir/run_entropy_k6_c2.sh',\n",
       " '/data/gpfs/assoc/denovo/tfaske/sagebrush/SNPcall/entropy_ebgAll/shdir/run_entropy_k6_c3.sh',\n",
       " '/data/gpfs/assoc/denovo/tfaske/sagebrush/SNPcall/entropy_ebgAll/shdir/run_entropy_k6_c4.sh',\n",
       " '/data/gpfs/assoc/denovo/tfaske/sagebrush/SNPcall/entropy_ebgAll/shdir/run_entropy_k7_c1.sh',\n",
       " '/data/gpfs/assoc/denovo/tfaske/sagebrush/SNPcall/entropy_ebgAll/shdir/run_entropy_k7_c2.sh',\n",
       " '/data/gpfs/assoc/denovo/tfaske/sagebrush/SNPcall/entropy_ebgAll/shdir/run_entropy_k7_c3.sh',\n",
       " '/data/gpfs/assoc/denovo/tfaske/sagebrush/SNPcall/entropy_ebgAll/shdir/run_entropy_k7_c4.sh']"
      ]
     },
     "execution_count": 133,
     "metadata": {},
     "output_type": "execute_result"
    }
   ],
   "source": [
    "entShells = !find $ent_dir -name 'run_entropy*.sh'\n",
    "entShells = entShells.sort()\n",
    "entShells"
   ]
  },
  {
   "cell_type": "code",
   "execution_count": 134,
   "metadata": {},
   "outputs": [],
   "source": [
    "def write_sbatch_entShells(entShells):\n",
    "         with open(\"shdir/sbatch_entropy.sh\", \"w\") as o:\n",
    "            o.write(\"\"\"#!/usr/bin/env bash \\n\"\"\")\n",
    "            for sh in entShells:\n",
    "                o.write(\"\"\"sbatch %s\\n\"\"\" % (sh))"
   ]
  },
  {
   "cell_type": "code",
   "execution_count": 135,
   "metadata": {},
   "outputs": [],
   "source": [
    "write_sbatch_entShells(entShells)"
   ]
  },
  {
   "cell_type": "markdown",
   "metadata": {},
   "source": [
    "# Run all entropy*sh\n",
    "    cd /data/gpfs/home/tfaske/d/connie/ch2/entropy/shdir\n",
    "    source activate entropy\n",
    "    bash sbatch_entropy.sh"
   ]
  },
  {
   "cell_type": "markdown",
   "metadata": {},
   "source": [
    "# Use estpost to get DIC, q, and gprob"
   ]
  },
  {
   "cell_type": "code",
   "execution_count": 216,
   "metadata": {},
   "outputs": [],
   "source": [
    "np.set_printoptions(precision=8) # increases float print option\n",
    "pd.set_option(\"precision\", 8)"
   ]
  },
  {
   "cell_type": "code",
   "execution_count": 217,
   "metadata": {},
   "outputs": [
    {
     "name": "stdout",
     "output_type": "stream",
     "text": [
      "/data/gpfs/assoc/denovo/tfaske/connie/ch2/entropy\n"
     ]
    }
   ],
   "source": [
    "cd $ent_dir"
   ]
  },
  {
   "cell_type": "code",
   "execution_count": 218,
   "metadata": {},
   "outputs": [
    {
     "data": {
      "text/plain": [
       "['./entropy_k2_c1.hdf5',\n",
       " './entropy_k2_c2.hdf5',\n",
       " './entropy_k2_c3.hdf5',\n",
       " './entropy_k2_c4.hdf5',\n",
       " './entropy_k3_c1.hdf5',\n",
       " './entropy_k3_c2.hdf5',\n",
       " './entropy_k3_c3.hdf5',\n",
       " './entropy_k3_c4.hdf5',\n",
       " './entropy_k4_c1.hdf5',\n",
       " './entropy_k4_c2.hdf5',\n",
       " './entropy_k4_c3.hdf5',\n",
       " './entropy_k4_c4.hdf5',\n",
       " './entropy_k5_c1.hdf5',\n",
       " './entropy_k5_c2.hdf5',\n",
       " './entropy_k5_c3.hdf5',\n",
       " './entropy_k5_c4.hdf5',\n",
       " './entropy_k6_c1.hdf5',\n",
       " './entropy_k6_c2.hdf5',\n",
       " './entropy_k6_c3.hdf5',\n",
       " './entropy_k6_c4.hdf5',\n",
       " './entropy_k7_c1.hdf5',\n",
       " './entropy_k7_c2.hdf5',\n",
       " './entropy_k7_c3.hdf5',\n",
       " './entropy_k7_c4.hdf5',\n",
       " './entropy_k8_c1.hdf5',\n",
       " './entropy_k8_c2.hdf5',\n",
       " './entropy_k8_c3.hdf5',\n",
       " './entropy_k8_c4.hdf5']"
      ]
     },
     "execution_count": 218,
     "metadata": {},
     "output_type": "execute_result"
    }
   ],
   "source": [
    "hdf5_files = !find . -name '*hdf5'\n",
    "hdf5_files = hdf5_files.sort()\n",
    "hdf5_files"
   ]
  },
  {
   "cell_type": "code",
   "execution_count": 219,
   "metadata": {},
   "outputs": [],
   "source": [
    "estpost = '/data/gpfs/home/tfaske/g/anaconda3/envs/entropy/bin/estpost.entropy'"
   ]
  },
  {
   "cell_type": "code",
   "execution_count": 220,
   "metadata": {},
   "outputs": [],
   "source": [
    "#make DIC\n",
    "for i in range(0,len(hdf5_files)):\n",
    "    f = hdf5_files[i]\n",
    "    k = f.split('_')[1] #set this \n",
    "    c = f.split('_')[2].split('.hdf5')[0]\n",
    "    #print(k,c)\n",
    "    dic = \"DIC_%s_%s.txt\" % (k,c)\n",
    "    !$estpost $f -s 3 -p deviance > $dic"
   ]
  },
  {
   "cell_type": "code",
   "execution_count": 221,
   "metadata": {},
   "outputs": [
    {
     "data": {
      "text/plain": [
       "['./DIC_k2_c4.txt',\n",
       " './DIC_k7_c2.txt',\n",
       " './DIC_k2_c1.txt',\n",
       " './DIC_k6_c1.txt',\n",
       " './DIC_k3_c2.txt',\n",
       " './DIC_k4_c4.txt',\n",
       " './DIC_k4_c2.txt',\n",
       " './DIC_k7_c1.txt',\n",
       " './DIC_k7_c4.txt',\n",
       " './DIC_k5_c2.txt',\n",
       " './DIC_k6_c2.txt',\n",
       " './DIC_k4_c3.txt',\n",
       " './DIC_k7_c3.txt',\n",
       " './DIC_k3_c1.txt',\n",
       " './DIC_k2_c2.txt',\n",
       " './DIC_k5_c4.txt',\n",
       " './DIC_k8_c4.txt',\n",
       " './DIC_k6_c3.txt',\n",
       " './DIC_k8_c3.txt',\n",
       " './DIC_k8_c1.txt',\n",
       " './DIC_k4_c1.txt',\n",
       " './DIC_k2_c3.txt',\n",
       " './DIC_k8_c2.txt',\n",
       " './DIC_k6_c4.txt',\n",
       " './DIC_k3_c4.txt',\n",
       " './DIC_k5_c1.txt',\n",
       " './DIC_k3_c3.txt',\n",
       " './DIC_k5_c3.txt']"
      ]
     },
     "execution_count": 221,
     "metadata": {},
     "output_type": "execute_result"
    }
   ],
   "source": [
    "dic_files = !find . -name 'DIC*'\n",
    "dic_files"
   ]
  },
  {
   "cell_type": "code",
   "execution_count": 222,
   "metadata": {},
   "outputs": [
    {
     "name": "stdout",
     "output_type": "stream",
     "text": [
      "file = ./entropy_k2_c4.hdf5\n",
      "parameter dimensions for deviance: samples = 5000, chains = 1\n",
      "Model deviance: 2600471.09\n",
      "Effective number of parameters: 5163022.60\n",
      "Model DIC: 7763493.69\n",
      "\n",
      "\n",
      "file = ./entropy_k7_c2.hdf5\n",
      "parameter dimensions for deviance: samples = 5000, chains = 1\n",
      "Model deviance: 2430625.28\n",
      "Effective number of parameters: 20804812.24\n",
      "Model DIC: 23235437.52\n",
      "\n",
      "\n",
      "file = ./entropy_k2_c1.hdf5\n",
      "parameter dimensions for deviance: samples = 5000, chains = 1\n",
      "Model deviance: 2600440.97\n",
      "Effective number of parameters: 5061892.05\n",
      "Model DIC: 7662333.02\n",
      "\n",
      "\n",
      "file = ./entropy_k6_c1.hdf5\n",
      "parameter dimensions for deviance: samples = 5000, chains = 1\n",
      "Model deviance: 2598877.62\n",
      "Effective number of parameters: 54007070.06\n",
      "Model DIC: 56605947.68\n",
      "\n",
      "\n",
      "file = ./entropy_k3_c2.hdf5\n",
      "parameter dimensions for deviance: samples = 5000, chains = 1\n",
      "Model deviance: 2598817.39\n",
      "Effective number of parameters: 29035478.94\n",
      "Model DIC: 31634296.32\n",
      "\n",
      "\n",
      "file = ./entropy_k4_c4.hdf5\n",
      "parameter dimensions for deviance: samples = 5000, chains = 1\n",
      "Model deviance: 2264564.41\n",
      "Effective number of parameters: 605737310.31\n",
      "Model DIC: 608001874.72\n",
      "\n",
      "\n",
      "file = ./entropy_k4_c2.hdf5\n",
      "parameter dimensions for deviance: samples = 5000, chains = 1\n",
      "Model deviance: 2601437.48\n",
      "Effective number of parameters: 10081940.44\n",
      "Model DIC: 12683377.93\n",
      "\n",
      "\n",
      "file = ./entropy_k7_c1.hdf5\n",
      "parameter dimensions for deviance: samples = 5000, chains = 1\n",
      "Model deviance: 2595784.23\n",
      "Effective number of parameters: 196910363.46\n",
      "Model DIC: 199506147.69\n",
      "\n",
      "\n",
      "file = ./entropy_k7_c4.hdf5\n",
      "parameter dimensions for deviance: samples = 5000, chains = 1\n",
      "Model deviance: 2595564.20\n",
      "Effective number of parameters: 238161471.63\n",
      "Model DIC: 240757035.82\n",
      "\n",
      "\n",
      "file = ./entropy_k5_c2.hdf5\n",
      "parameter dimensions for deviance: samples = 5000, chains = 1\n",
      "Model deviance: 2596667.46\n",
      "Effective number of parameters: 89800840.55\n",
      "Model DIC: 92397508.01\n",
      "\n",
      "\n",
      "file = ./entropy_k6_c2.hdf5\n",
      "parameter dimensions for deviance: samples = 5000, chains = 1\n",
      "Model deviance: 2279349.77\n",
      "Effective number of parameters: 1166597125.97\n",
      "Model DIC: 1168876475.74\n",
      "\n",
      "\n",
      "file = ./entropy_k4_c3.hdf5\n",
      "parameter dimensions for deviance: samples = 5000, chains = 1\n",
      "Model deviance: 2600546.46\n",
      "Effective number of parameters: 4994244.32\n",
      "Model DIC: 7594790.78\n",
      "\n",
      "\n",
      "file = ./entropy_k7_c3.hdf5\n",
      "parameter dimensions for deviance: samples = 5000, chains = 1\n",
      "Model deviance: 2596729.14\n",
      "Effective number of parameters: 158576023.44\n",
      "Model DIC: 161172752.58\n",
      "\n",
      "\n",
      "file = ./entropy_k3_c1.hdf5\n",
      "parameter dimensions for deviance: samples = 5000, chains = 1\n",
      "Model deviance: 2446654.95\n",
      "Effective number of parameters: 1140439228.53\n",
      "Model DIC: 1142885883.49\n",
      "\n",
      "\n",
      "file = ./entropy_k2_c2.hdf5\n",
      "parameter dimensions for deviance: samples = 5000, chains = 1\n",
      "Model deviance: 2600355.27\n",
      "Effective number of parameters: 5102240.66\n",
      "Model DIC: 7702595.93\n",
      "\n",
      "\n",
      "file = ./entropy_k5_c4.hdf5\n",
      "parameter dimensions for deviance: samples = 5000, chains = 1\n",
      "Model deviance: 2270804.79\n",
      "Effective number of parameters: 825111994.96\n",
      "Model DIC: 827382799.75\n",
      "\n",
      "\n",
      "file = ./entropy_k8_c4.hdf5\n",
      "parameter dimensions for deviance: samples = 5000, chains = 1\n",
      "Model deviance: 2593054.13\n",
      "Effective number of parameters: 360249948.38\n",
      "Model DIC: 362843002.51\n",
      "\n",
      "\n",
      "file = ./entropy_k6_c3.hdf5\n",
      "parameter dimensions for deviance: samples = 5000, chains = 1\n",
      "Model deviance: 2273747.95\n",
      "Effective number of parameters: 431493458.59\n",
      "Model DIC: 433767206.54\n",
      "\n",
      "\n",
      "file = ./entropy_k8_c3.hdf5\n",
      "parameter dimensions for deviance: samples = 5000, chains = 1\n",
      "Model deviance: 2279007.99\n",
      "Effective number of parameters: 269804879.32\n",
      "Model DIC: 272083887.31\n",
      "\n",
      "\n",
      "file = ./entropy_k8_c1.hdf5\n",
      "parameter dimensions for deviance: samples = 5000, chains = 1\n",
      "Model deviance: 2586832.67\n",
      "Effective number of parameters: 552494911.06\n",
      "Model DIC: 555081743.73\n",
      "\n",
      "\n",
      "file = ./entropy_k4_c1.hdf5\n",
      "parameter dimensions for deviance: samples = 5000, chains = 1\n",
      "Model deviance: 2508863.64\n",
      "Effective number of parameters: 2450159542.56\n",
      "Model DIC: 2452668406.20\n",
      "\n",
      "\n",
      "file = ./entropy_k2_c3.hdf5\n",
      "parameter dimensions for deviance: samples = 5000, chains = 1\n",
      "Model deviance: 2600471.67\n",
      "Effective number of parameters: 5307277.01\n",
      "Model DIC: 7907748.68\n",
      "\n",
      "\n",
      "file = ./entropy_k8_c2.hdf5\n",
      "parameter dimensions for deviance: samples = 5000, chains = 1\n",
      "Model deviance: 2571900.37\n",
      "Effective number of parameters: 1092668428.92\n",
      "Model DIC: 1095240329.30\n",
      "\n",
      "\n",
      "file = ./entropy_k6_c4.hdf5\n",
      "parameter dimensions for deviance: samples = 5000, chains = 1\n",
      "Model deviance: 2285406.68\n",
      "Effective number of parameters: 2499369579.67\n",
      "Model DIC: 2501654986.35\n",
      "\n",
      "\n",
      "file = ./entropy_k3_c4.hdf5\n",
      "parameter dimensions for deviance: samples = 5000, chains = 1\n",
      "Model deviance: 2444685.05\n",
      "Effective number of parameters: 953159823.90\n",
      "Model DIC: 955604508.95\n",
      "\n",
      "\n",
      "file = ./entropy_k5_c1.hdf5\n",
      "parameter dimensions for deviance: samples = 5000, chains = 1\n",
      "Model deviance: 2429675.73\n",
      "Effective number of parameters: 818439403.26\n",
      "Model DIC: 820869078.98\n",
      "\n",
      "\n",
      "file = ./entropy_k3_c3.hdf5\n",
      "parameter dimensions for deviance: samples = 5000, chains = 1\n",
      "Model deviance: 2439769.70\n",
      "Effective number of parameters: 820044674.36\n",
      "Model DIC: 822484444.06\n",
      "\n",
      "\n",
      "file = ./entropy_k5_c3.hdf5\n",
      "parameter dimensions for deviance: samples = 5000, chains = 1\n",
      "Model deviance: 2430040.36\n",
      "Effective number of parameters: 54053991.15\n",
      "Model DIC: 56484031.51\n",
      "\n",
      "\n"
     ]
    }
   ],
   "source": [
    "for d in dic_files:\n",
    "    !cat $d\n",
    "    print('\\n')"
   ]
  },
  {
   "cell_type": "code",
   "execution_count": 223,
   "metadata": {},
   "outputs": [
    {
     "data": {
      "text/html": [
       "<div>\n",
       "<style scoped>\n",
       "    .dataframe tbody tr th:only-of-type {\n",
       "        vertical-align: middle;\n",
       "    }\n",
       "\n",
       "    .dataframe tbody tr th {\n",
       "        vertical-align: top;\n",
       "    }\n",
       "\n",
       "    .dataframe thead th {\n",
       "        text-align: right;\n",
       "    }\n",
       "</style>\n",
       "<table border=\"1\" class=\"dataframe\">\n",
       "  <thead>\n",
       "    <tr style=\"text-align: right;\">\n",
       "      <th></th>\n",
       "      <th>k</th>\n",
       "      <th>DIC</th>\n",
       "      <th>chain</th>\n",
       "    </tr>\n",
       "  </thead>\n",
       "  <tbody>\n",
       "    <tr>\n",
       "      <th>0</th>\n",
       "      <td>2</td>\n",
       "      <td>7763493.69</td>\n",
       "      <td>4</td>\n",
       "    </tr>\n",
       "    <tr>\n",
       "      <th>1</th>\n",
       "      <td>7</td>\n",
       "      <td>23235437.52</td>\n",
       "      <td>2</td>\n",
       "    </tr>\n",
       "    <tr>\n",
       "      <th>2</th>\n",
       "      <td>2</td>\n",
       "      <td>7662333.02</td>\n",
       "      <td>1</td>\n",
       "    </tr>\n",
       "    <tr>\n",
       "      <th>3</th>\n",
       "      <td>6</td>\n",
       "      <td>56605947.68</td>\n",
       "      <td>1</td>\n",
       "    </tr>\n",
       "    <tr>\n",
       "      <th>4</th>\n",
       "      <td>3</td>\n",
       "      <td>31634296.32</td>\n",
       "      <td>2</td>\n",
       "    </tr>\n",
       "  </tbody>\n",
       "</table>\n",
       "</div>"
      ],
      "text/plain": [
       "   k          DIC chain\n",
       "0  2   7763493.69     4\n",
       "1  7  23235437.52     2\n",
       "2  2   7662333.02     1\n",
       "3  6  56605947.68     1\n",
       "4  3  31634296.32     2"
      ]
     },
     "execution_count": 223,
     "metadata": {},
     "output_type": "execute_result"
    }
   ],
   "source": [
    "dic_list = []\n",
    "for d in dic_files:\n",
    "    k = d.split('_k')[1].split('_')[0] #set this \n",
    "    c = d.split('_c')[1].split('.txt')[0]\n",
    "    #print(k,c)\n",
    "    \n",
    "    dic = !grep 'DIC' $d\n",
    "    dic = float(re.search('(\\d+.\\d+)',str(dic)).group(0))\n",
    "    #print(dic)\n",
    "    \n",
    "    dic_list.append([k,dic,c])\n",
    "dic_df = pd.DataFrame(dic_list,columns=['k','DIC','chain'])\n",
    "dic_df.head()"
   ]
  },
  {
   "cell_type": "code",
   "execution_count": 224,
   "metadata": {},
   "outputs": [],
   "source": [
    "dic_df.to_csv('dic_list.csv')"
   ]
  },
  {
   "cell_type": "code",
   "execution_count": 225,
   "metadata": {},
   "outputs": [],
   "source": [
    "dic_sum = dic_df.groupby('k').describe().DIC"
   ]
  },
  {
   "cell_type": "code",
   "execution_count": 226,
   "metadata": {},
   "outputs": [
    {
     "data": {
      "text/html": [
       "<div>\n",
       "<style scoped>\n",
       "    .dataframe tbody tr th:only-of-type {\n",
       "        vertical-align: middle;\n",
       "    }\n",
       "\n",
       "    .dataframe tbody tr th {\n",
       "        vertical-align: top;\n",
       "    }\n",
       "\n",
       "    .dataframe thead th {\n",
       "        text-align: right;\n",
       "    }\n",
       "</style>\n",
       "<table border=\"1\" class=\"dataframe\">\n",
       "  <thead>\n",
       "    <tr style=\"text-align: right;\">\n",
       "      <th></th>\n",
       "      <th>count</th>\n",
       "      <th>mean</th>\n",
       "      <th>std</th>\n",
       "      <th>min</th>\n",
       "      <th>25%</th>\n",
       "      <th>50%</th>\n",
       "      <th>75%</th>\n",
       "      <th>max</th>\n",
       "    </tr>\n",
       "    <tr>\n",
       "      <th>k</th>\n",
       "      <th></th>\n",
       "      <th></th>\n",
       "      <th></th>\n",
       "      <th></th>\n",
       "      <th></th>\n",
       "      <th></th>\n",
       "      <th></th>\n",
       "      <th></th>\n",
       "    </tr>\n",
       "  </thead>\n",
       "  <tbody>\n",
       "    <tr>\n",
       "      <th>2</th>\n",
       "      <td>4.0</td>\n",
       "      <td>7.75904283e+06</td>\n",
       "      <td>1.07505472e+05</td>\n",
       "      <td>7662333.02</td>\n",
       "      <td>7.69253020e+06</td>\n",
       "      <td>7.73304481e+06</td>\n",
       "      <td>7.79955744e+06</td>\n",
       "      <td>7.90774868e+06</td>\n",
       "    </tr>\n",
       "    <tr>\n",
       "      <th>7</th>\n",
       "      <td>4.0</td>\n",
       "      <td>1.56167843e+08</td>\n",
       "      <td>9.43921143e+07</td>\n",
       "      <td>23235437.52</td>\n",
       "      <td>1.26688424e+08</td>\n",
       "      <td>1.80339450e+08</td>\n",
       "      <td>2.09818870e+08</td>\n",
       "      <td>2.40757036e+08</td>\n",
       "    </tr>\n",
       "    <tr>\n",
       "      <th>5</th>\n",
       "      <td>4.0</td>\n",
       "      <td>4.49283355e+08</td>\n",
       "      <td>4.33087349e+08</td>\n",
       "      <td>56484031.51</td>\n",
       "      <td>8.34191389e+07</td>\n",
       "      <td>4.56633293e+08</td>\n",
       "      <td>8.22497509e+08</td>\n",
       "      <td>8.27382800e+08</td>\n",
       "    </tr>\n",
       "    <tr>\n",
       "      <th>8</th>\n",
       "      <td>4.0</td>\n",
       "      <td>5.71312241e+08</td>\n",
       "      <td>3.68673795e+08</td>\n",
       "      <td>272083887.31</td>\n",
       "      <td>3.40153224e+08</td>\n",
       "      <td>4.58962373e+08</td>\n",
       "      <td>6.90121390e+08</td>\n",
       "      <td>1.09524033e+09</td>\n",
       "    </tr>\n",
       "    <tr>\n",
       "      <th>3</th>\n",
       "      <td>4.0</td>\n",
       "      <td>7.38152283e+08</td>\n",
       "      <td>4.89003864e+08</td>\n",
       "      <td>31634296.32</td>\n",
       "      <td>6.24771907e+08</td>\n",
       "      <td>8.89044477e+08</td>\n",
       "      <td>1.00242485e+09</td>\n",
       "      <td>1.14288588e+09</td>\n",
       "    </tr>\n",
       "    <tr>\n",
       "      <th>4</th>\n",
       "      <td>4.0</td>\n",
       "      <td>7.70237112e+08</td>\n",
       "      <td>1.15648985e+09</td>\n",
       "      <td>7594790.78</td>\n",
       "      <td>1.14112311e+07</td>\n",
       "      <td>3.10342626e+08</td>\n",
       "      <td>1.06916851e+09</td>\n",
       "      <td>2.45266841e+09</td>\n",
       "    </tr>\n",
       "    <tr>\n",
       "      <th>6</th>\n",
       "      <td>4.0</td>\n",
       "      <td>1.04022615e+09</td>\n",
       "      <td>1.07821246e+09</td>\n",
       "      <td>56605947.68</td>\n",
       "      <td>3.39476892e+08</td>\n",
       "      <td>8.01321841e+08</td>\n",
       "      <td>1.50207110e+09</td>\n",
       "      <td>2.50165499e+09</td>\n",
       "    </tr>\n",
       "  </tbody>\n",
       "</table>\n",
       "</div>"
      ],
      "text/plain": [
       "   count            mean             std           min             25%  \\\n",
       "k                                                                        \n",
       "2    4.0  7.75904283e+06  1.07505472e+05    7662333.02  7.69253020e+06   \n",
       "7    4.0  1.56167843e+08  9.43921143e+07   23235437.52  1.26688424e+08   \n",
       "5    4.0  4.49283355e+08  4.33087349e+08   56484031.51  8.34191389e+07   \n",
       "8    4.0  5.71312241e+08  3.68673795e+08  272083887.31  3.40153224e+08   \n",
       "3    4.0  7.38152283e+08  4.89003864e+08   31634296.32  6.24771907e+08   \n",
       "4    4.0  7.70237112e+08  1.15648985e+09    7594790.78  1.14112311e+07   \n",
       "6    4.0  1.04022615e+09  1.07821246e+09   56605947.68  3.39476892e+08   \n",
       "\n",
       "              50%             75%             max  \n",
       "k                                                  \n",
       "2  7.73304481e+06  7.79955744e+06  7.90774868e+06  \n",
       "7  1.80339450e+08  2.09818870e+08  2.40757036e+08  \n",
       "5  4.56633293e+08  8.22497509e+08  8.27382800e+08  \n",
       "8  4.58962373e+08  6.90121390e+08  1.09524033e+09  \n",
       "3  8.89044477e+08  1.00242485e+09  1.14288588e+09  \n",
       "4  3.10342626e+08  1.06916851e+09  2.45266841e+09  \n",
       "6  8.01321841e+08  1.50207110e+09  2.50165499e+09  "
      ]
     },
     "execution_count": 226,
     "metadata": {},
     "output_type": "execute_result"
    }
   ],
   "source": [
    "dic_sum.sort_values('mean')"
   ]
  },
  {
   "cell_type": "code",
   "execution_count": 227,
   "metadata": {},
   "outputs": [],
   "source": [
    "dic_sum.to_csv('dic_sum.csv')"
   ]
  },
  {
   "cell_type": "markdown",
   "metadata": {},
   "source": [
    "### Get gprob and q for each k, and mcmc metrics"
   ]
  },
  {
   "cell_type": "code",
   "execution_count": 228,
   "metadata": {},
   "outputs": [
    {
     "name": "stdout",
     "output_type": "stream",
     "text": [
      "file = entropy_k2_c1.hdf5\n",
      "file = entropy_k2_c2.hdf5\n",
      "file = entropy_k2_c3.hdf5\n",
      "file = entropy_k2_c4.hdf5\n",
      "parameter dimensions for q: ind = 194, populations = 2, samples = 5000, chains = 4\n",
      "file = entropy_k3_c1.hdf5\n",
      "file = entropy_k3_c2.hdf5\n",
      "file = entropy_k3_c3.hdf5\n",
      "file = entropy_k3_c4.hdf5\n",
      "parameter dimensions for q: ind = 194, populations = 3, samples = 5000, chains = 4\n",
      "file = entropy_k4_c1.hdf5\n",
      "file = entropy_k4_c2.hdf5\n",
      "file = entropy_k4_c3.hdf5\n",
      "file = entropy_k4_c4.hdf5\n",
      "parameter dimensions for q: ind = 194, populations = 4, samples = 5000, chains = 4\n",
      "file = entropy_k5_c1.hdf5\n",
      "file = entropy_k5_c2.hdf5\n",
      "file = entropy_k5_c3.hdf5\n",
      "file = entropy_k5_c4.hdf5\n",
      "parameter dimensions for q: ind = 194, populations = 5, samples = 5000, chains = 4\n",
      "file = entropy_k6_c1.hdf5\n",
      "file = entropy_k6_c2.hdf5\n",
      "file = entropy_k6_c3.hdf5\n",
      "file = entropy_k6_c4.hdf5\n",
      "parameter dimensions for q: ind = 194, populations = 6, samples = 5000, chains = 4\n",
      "file = entropy_k7_c1.hdf5\n",
      "file = entropy_k7_c2.hdf5\n",
      "file = entropy_k7_c3.hdf5\n",
      "file = entropy_k7_c4.hdf5\n",
      "parameter dimensions for q: ind = 194, populations = 7, samples = 5000, chains = 4\n",
      "file = entropy_k8_c1.hdf5\n",
      "file = entropy_k8_c2.hdf5\n",
      "file = entropy_k8_c3.hdf5\n",
      "file = entropy_k8_c4.hdf5\n",
      "parameter dimensions for q: ind = 194, populations = 8, samples = 5000, chains = 4\n"
     ]
    }
   ],
   "source": [
    "# ancestry coeffecients \n",
    "!$estpost *k2*.hdf5 -p q -s 0 -o q2.txt\n",
    "\n",
    "!$estpost *k3*.hdf5 -p q -s 0 -o q3.txt\n",
    "\n",
    "!$estpost *k4*.hdf5 -p q -s 0 -o q4.txt\n",
    "\n",
    "!$estpost *k5*.hdf5 -p q -s 0 -o q5.txt\n",
    "\n",
    "!$estpost *k6*.hdf5 -p q -s 0 -o q6.txt\n",
    "\n",
    "!$estpost *k7*.hdf5 -p q -s 0 -o q7.txt\n",
    "\n",
    "!$estpost *k8*.hdf5 -p q -s 0 -o q8.txt\n"
   ]
  },
  {
   "cell_type": "code",
   "execution_count": 229,
   "metadata": {},
   "outputs": [
    {
     "name": "stdout",
     "output_type": "stream",
     "text": [
      "file = entropy_k2_c1.hdf5\n",
      "file = entropy_k2_c2.hdf5\n",
      "file = entropy_k2_c3.hdf5\n",
      "file = entropy_k2_c4.hdf5\n",
      "parameter dimensions for q: ind = 194, populations = 2, samples = 5000, chains = 4\n",
      "file = entropy_k3_c1.hdf5\n",
      "file = entropy_k3_c2.hdf5\n",
      "file = entropy_k3_c3.hdf5\n",
      "file = entropy_k3_c4.hdf5\n",
      "parameter dimensions for q: ind = 194, populations = 3, samples = 5000, chains = 4\n",
      "file = entropy_k4_c1.hdf5\n",
      "file = entropy_k4_c2.hdf5\n",
      "file = entropy_k4_c3.hdf5\n",
      "file = entropy_k4_c4.hdf5\n",
      "parameter dimensions for q: ind = 194, populations = 4, samples = 5000, chains = 4\n",
      "file = entropy_k5_c1.hdf5\n",
      "file = entropy_k5_c2.hdf5\n",
      "file = entropy_k5_c3.hdf5\n",
      "file = entropy_k5_c4.hdf5\n",
      "parameter dimensions for q: ind = 194, populations = 5, samples = 5000, chains = 4\n",
      "file = entropy_k6_c1.hdf5\n",
      "file = entropy_k6_c2.hdf5\n",
      "file = entropy_k6_c3.hdf5\n",
      "file = entropy_k6_c4.hdf5\n",
      "parameter dimensions for q: ind = 194, populations = 6, samples = 5000, chains = 4\n",
      "file = entropy_k7_c1.hdf5\n",
      "file = entropy_k7_c2.hdf5\n",
      "file = entropy_k7_c3.hdf5\n",
      "file = entropy_k7_c4.hdf5\n",
      "parameter dimensions for q: ind = 194, populations = 7, samples = 5000, chains = 4\n",
      "file = entropy_k8_c1.hdf5\n",
      "file = entropy_k8_c2.hdf5\n",
      "file = entropy_k8_c3.hdf5\n",
      "file = entropy_k8_c4.hdf5\n",
      "parameter dimensions for q: ind = 194, populations = 8, samples = 5000, chains = 4\n"
     ]
    }
   ],
   "source": [
    "#MCMC diagnostics\n",
    "!$estpost *k2*.hdf5 -p q -s 4 -o MCMC_k2.txt\n",
    "\n",
    "!$estpost *k3*.hdf5 -p q -s 4 -o MCMC_k3.txt\n",
    "\n",
    "!$estpost *k4*.hdf5 -p q -s 4 -o MCMC_k4.txt\n",
    "\n",
    "!$estpost *k5*.hdf5 -p q -s 4 -o MCMC_k5.txt\n",
    "\n",
    "!$estpost *k6*.hdf5 -p q -s 4 -o MCMC_k6.txt\n",
    "\n",
    "!$estpost *k7*.hdf5 -p q -s 4 -o MCMC_k7.txt\n",
    "\n",
    "!$estpost *k8*.hdf5 -p q -s 4 -o MCMC_k8.txt"
   ]
  },
  {
   "cell_type": "markdown",
   "metadata": {},
   "source": [
    "### make slurm script to make gprob file\n",
    "\n",
    "    use all k and chains to make gprob"
   ]
  },
  {
   "cell_type": "code",
   "execution_count": 230,
   "metadata": {},
   "outputs": [
    {
     "name": "stdout",
     "output_type": "stream",
     "text": [
      "/data/gpfs/assoc/denovo/tfaske/connie/ch2/entropy\n"
     ]
    }
   ],
   "source": [
    "cd $ent_dir"
   ]
  },
  {
   "cell_type": "code",
   "execution_count": 231,
   "metadata": {},
   "outputs": [],
   "source": [
    "### select slurm options\n",
    "account = 'cpu-s5-denovo-0'\n",
    "partition = 'cpu-core-0'\n",
    "time = '1-00:00:00' #time limit 4\n",
    "cpus = 2 #to prevent hammering one node\n",
    "mem_cpu = 6000\n",
    "email = 'tfaske@nevada.unr.edu'\n",
    "\n",
    "### select k \n",
    "num_k = [2,3,4,6,7,8]"
   ]
  },
  {
   "cell_type": "code",
   "execution_count": 232,
   "metadata": {},
   "outputs": [],
   "source": [
    "def write_gprob_k_sh(account,partition,time,cpus,mem_cpu,email,estpost,num_k):\n",
    "    for k in num_k:\n",
    "        with open(\"shdir/run_gprob_k%d.sh\" % (k), \"w\") as o:\n",
    "            o.write(\"\"\"#!/usr/bin/env bash\n",
    "#SBATCH --account=%s\n",
    "#SBATCH --partition=%s\n",
    "#SBATCH --time=%s\n",
    "#SBATCH --ntasks 1\n",
    "#SBATCH --cpus-per-task %d\n",
    "#SBATCH --mem-per-cpu=%d\n",
    "#SBATCH --job-name gprob_k%d\n",
    "#SBATCH --output output_gprob_k%d.txt\n",
    "#SBATCH --mail-type=END\n",
    "#SBATCH --mail-user=%s\\n\\n\"\"\" % (account,partition,time,cpus,mem_cpu,k,k,email))\n",
    "        \n",
    "            o.write(\"%s ../*k%d*.hdf5 -p gprob -s 0 -o ../gprob%d.txt\" % (estpost,k,k))"
   ]
  },
  {
   "cell_type": "code",
   "execution_count": 233,
   "metadata": {},
   "outputs": [],
   "source": [
    "write_gprob_k_sh(account,partition,time,cpus,mem_cpu,email,estpost,num_k)"
   ]
  },
  {
   "cell_type": "code",
   "execution_count": 234,
   "metadata": {},
   "outputs": [
    {
     "data": {
      "text/plain": [
       "['/data/gpfs/assoc/denovo/tfaske/connie/ch2/entropy/shdir/run_gprob_k2.sh',\n",
       " '/data/gpfs/assoc/denovo/tfaske/connie/ch2/entropy/shdir/run_gprob_k3.sh',\n",
       " '/data/gpfs/assoc/denovo/tfaske/connie/ch2/entropy/shdir/run_gprob_k4.sh',\n",
       " '/data/gpfs/assoc/denovo/tfaske/connie/ch2/entropy/shdir/run_gprob_k6.sh',\n",
       " '/data/gpfs/assoc/denovo/tfaske/connie/ch2/entropy/shdir/run_gprob_k7.sh',\n",
       " '/data/gpfs/assoc/denovo/tfaske/connie/ch2/entropy/shdir/run_gprob_k8.sh']"
      ]
     },
     "execution_count": 234,
     "metadata": {},
     "output_type": "execute_result"
    }
   ],
   "source": [
    "gprobShells = !find $ent_dir -name 'run_gprob*.sh'\n",
    "gprobShells = gprobShells.sort()\n",
    "gprobShells"
   ]
  },
  {
   "cell_type": "code",
   "execution_count": 235,
   "metadata": {},
   "outputs": [],
   "source": [
    "def write_sbatch_gprobShells(gprobShells):\n",
    "    with open(\"shdir/sbatch_gprob.sh\", \"w\") as o:\n",
    "        o.write(\"\"\"#!/usr/bin/env bash \\n\"\"\")\n",
    "        for sh in gprobShells:\n",
    "            o.write(\"\"\"sbatch %s\\n\"\"\" % (sh))"
   ]
  },
  {
   "cell_type": "code",
   "execution_count": 236,
   "metadata": {},
   "outputs": [],
   "source": [
    "write_sbatch_gprobShells(gprobShells)"
   ]
  },
  {
   "cell_type": "markdown",
   "metadata": {},
   "source": [
    "### gprob all "
   ]
  },
  {
   "cell_type": "code",
   "execution_count": 237,
   "metadata": {},
   "outputs": [
    {
     "data": {
      "text/plain": [
       "['../entropy_k2_c*hdf5',\n",
       " '../entropy_k3_c*hdf5',\n",
       " '../entropy_k4_c*hdf5',\n",
       " '../entropy_k6_c*hdf5',\n",
       " '../entropy_k7_c*hdf5',\n",
       " '../entropy_k8_c*hdf5']"
      ]
     },
     "execution_count": 237,
     "metadata": {},
     "output_type": "execute_result"
    }
   ],
   "source": [
    "hdf5_files = []\n",
    "for k in num_k:\n",
    "    f = '../entropy_k' + str(k) + '_c*hdf5'\n",
    "    hdf5_files.append(f)\n",
    "hdf5_files"
   ]
  },
  {
   "cell_type": "code",
   "execution_count": 238,
   "metadata": {},
   "outputs": [
    {
     "data": {
      "text/plain": [
       "'/data/gpfs/home/tfaske/g/anaconda3/envs/entropy/bin/estpost.entropy ../entropy_k2_c*hdf5 ../entropy_k3_c*hdf5 ../entropy_k4_c*hdf5 ../entropy_k6_c*hdf5 ../entropy_k7_c*hdf5 ../entropy_k8_c*hdf5 -p gprob -s 0 -o ../gprobAll.txt'"
      ]
     },
     "execution_count": 238,
     "metadata": {},
     "output_type": "execute_result"
    }
   ],
   "source": [
    "gprob_cmd = estpost + ' ' + ' '.join(hdf5_files) + ' -p gprob -s 0 -o ../gprobAll.txt'\n",
    "gprob_cmd"
   ]
  },
  {
   "cell_type": "code",
   "execution_count": 239,
   "metadata": {},
   "outputs": [],
   "source": [
    "### select slurm options\n",
    "account = 'cpu-s5-denovo-0'\n",
    "partition = 'cpu-core-0'\n",
    "time = '1-00:00:00' #time limit 4\n",
    "cpus = 2 #to prevent hammering one node\n",
    "mem_cpu = 100000\n",
    "email = 'tfaske@nevada.unr.edu'"
   ]
  },
  {
   "cell_type": "code",
   "execution_count": 240,
   "metadata": {},
   "outputs": [],
   "source": [
    "def write_gprob_all_sh(account,partition,time,cpus,mem_cpu,email,estpost,gprob_cmd):\n",
    "        with open(\"shdir/run_gprobAll.sh\", \"w\") as o:\n",
    "            o.write(\"\"\"#!/usr/bin/env bash\n",
    "#SBATCH --account=%s\n",
    "#SBATCH --partition=%s\n",
    "#SBATCH --time=%s\n",
    "#SBATCH --ntasks 1\n",
    "#SBATCH --cpus-per-task %d\n",
    "#SBATCH --mem-per-cpu=%d\n",
    "#SBATCH --job-name gprobAll\n",
    "#SBATCH --output output_gprobAll.txt\n",
    "#SBATCH --mail-type=END\n",
    "#SBATCH --mail-user=%s\n",
    "\n",
    "%s\"\"\" % (account,partition,time,cpus,mem_cpu,email,gprob_cmd))"
   ]
  },
  {
   "cell_type": "code",
   "execution_count": 241,
   "metadata": {},
   "outputs": [],
   "source": [
    "write_gprob_all_sh(account,partition,time,cpus,mem_cpu,email,estpost,gprob_cmd)"
   ]
  },
  {
   "cell_type": "code",
   "execution_count": null,
   "metadata": {},
   "outputs": [],
   "source": []
  },
  {
   "cell_type": "code",
   "execution_count": null,
   "metadata": {},
   "outputs": [],
   "source": []
  },
  {
   "cell_type": "markdown",
   "metadata": {},
   "source": [
    "## Run gprob sh \n",
    "    cd /data/gpfs/home/tfaske/d/milkweed/entropy\n",
    "    source activate entropy\n",
    "    sbatch run_gprob.sh"
   ]
  },
  {
   "cell_type": "code",
   "execution_count": null,
   "metadata": {},
   "outputs": [],
   "source": []
  },
  {
   "cell_type": "code",
   "execution_count": null,
   "metadata": {},
   "outputs": [],
   "source": [
    "#gprobs\n",
    "#!$estpost *k2*.hdf5 -p gprob -s 0 -o gprob2.txt\n",
    "\n",
    "#!$estpost *k3*.hdf5 -p gprob -s 0 -o gprob3.txt\n",
    "\n",
    "#!$estpost *k4*.hdf5 -p gprob -s 0 -o gprob4.txt\n",
    "\n",
    "#!$estpost *k5*.hdf5 -p gprob -s 0 -o gprob5.txt"
   ]
  }
 ],
 "metadata": {
  "kernelspec": {
   "display_name": "Python 3",
   "language": "python",
   "name": "python3"
  },
  "language_info": {
   "codemirror_mode": {
    "name": "ipython",
    "version": 3
   },
   "file_extension": ".py",
   "mimetype": "text/x-python",
   "name": "python",
   "nbconvert_exporter": "python",
   "pygments_lexer": "ipython3",
   "version": "3.6.7"
  }
 },
 "nbformat": 4,
 "nbformat_minor": 2
}
