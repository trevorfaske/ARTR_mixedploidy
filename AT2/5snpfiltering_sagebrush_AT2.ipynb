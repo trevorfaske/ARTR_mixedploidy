{
 "cells": [
  {
   "cell_type": "markdown",
   "metadata": {},
   "source": [
    "### Filtering for only *tridentata* diploids\n",
    "\n",
    "Uses ARTR_chr.biallelic.vcf.gz to start\n",
    "\n",
    "Sample names have been extracted to subset using:   \n",
    "- zcat ARTR_chr.vcf.gz | bcftools query -l | sort > sample_index.txt"
   ]
  },
  {
   "cell_type": "code",
   "execution_count": 1,
   "metadata": {},
   "outputs": [],
   "source": [
    "import sys\n",
    "\n",
    "#sys.path.append('/home/faske/g/anaconda3/envs/py34/lib/python3.4/site-packages')\n",
    "sys.path.append('/data/gpfs/assoc/parchmanlab/tfaske/anaconda3/envs/py36/lib/python3.6/site-packages')\n",
    "sys.path.append(\"/data/gpfs/assoc/parchmanlab/tfaske/ipynb/include_utils\")\n",
    "\n",
    "import ipyparallel as ipp\n",
    "import os, time\n",
    "import include_utils as u\n",
    "import pandas as pd\n",
    "import numpy as np\n",
    "import scipy as sp\n",
    "import random\n",
    "import numbers\n",
    "import matplotlib.pyplot as plt\n",
    "import matplotlib.patches as mpatches\n",
    "import matplotlib.cm as cm\n",
    "import matplotlib.colors as mcolors\n",
    "#import vcf\n",
    "from sklearn import preprocessing\n",
    "from subprocess import Popen, PIPE, call, check_output\n",
    "import seaborn as sns\n",
    "from IPython.display import FileLink\n",
    "import urllib.request as urllib2\n",
    "import dill\n",
    "import traceback\n",
    "from pandas import Series, DataFrame\n",
    "import gzip\n",
    "import warnings\n",
    "warnings.filterwarnings('ignore',category=pd.io.pytables.PerformanceWarning)\n",
    "%config InlineBackend.figure_format = 'retina'\n",
    "from Bio import SeqIO\n",
    "#import pysam\n",
    "from collections import OrderedDict, namedtuple, Counter\n",
    "import operator\n",
    "import multiprocessing as mp\n",
    "import shutil\n",
    "import tempfile\n",
    "#from ipyparallel import Client\n",
    "import scandir\n",
    "import glob\n",
    "from Bio.SeqIO.QualityIO import FastqGeneralIterator\n",
    "import pickle\n",
    "import re\n",
    "from itertools import chain\n",
    "#import Levenshtein as lv"
   ]
  },
  {
   "cell_type": "code",
   "execution_count": 2,
   "metadata": {},
   "outputs": [],
   "source": [
    "vcfutils = \"vcfutils.pl\"\n",
    "vcftools = \"vcftools\"\n",
    "bcftools = \"bcftools\"\n",
    "bgzip = \"bgzip\"\n",
    "tabix = \"tabix\"\n",
    "java = \"java\"\n",
    "plink = \"plink --noweb\""
   ]
  },
  {
   "cell_type": "code",
   "execution_count": 3,
   "metadata": {},
   "outputs": [],
   "source": [
    "analysis_dir = \"/data/gpfs/assoc/denovo/tfaske/sagebrush/SNPcall/AT2/filtering\""
   ]
  },
  {
   "cell_type": "code",
   "execution_count": 4,
   "metadata": {},
   "outputs": [
    {
     "name": "stdout",
     "output_type": "stream",
     "text": [
      "/data/gpfs/assoc/denovo/tfaske/sagebrush/SNPcall/AT2/filtering\n"
     ]
    }
   ],
   "source": [
    "cd $analysis_dir"
   ]
  },
  {
   "cell_type": "code",
   "execution_count": 5,
   "metadata": {
    "scrolled": true
   },
   "outputs": [
    {
     "data": {
      "text/plain": [
       "'/data/gpfs/assoc/denovo/tfaske/sagebrush/SNPcall/AT2/filtering/ARTR_chr.biallelic.recode.vcf.gz'"
      ]
     },
     "execution_count": 5,
     "metadata": {},
     "output_type": "execute_result"
    }
   ],
   "source": [
    "vcf_file = os.path.join(analysis_dir, \"ARTR_chr.biallelic.recode.vcf.gz\")\n",
    "assert os.path.exists(vcf_file)\n",
    "vcf_file"
   ]
  },
  {
   "cell_type": "markdown",
   "metadata": {},
   "source": [
    "### keep only AT2 individuals"
   ]
  },
  {
   "cell_type": "code",
   "execution_count": 6,
   "metadata": {},
   "outputs": [
    {
     "data": {
      "text/html": [
       "<div>\n",
       "<style scoped>\n",
       "    .dataframe tbody tr th:only-of-type {\n",
       "        vertical-align: middle;\n",
       "    }\n",
       "\n",
       "    .dataframe tbody tr th {\n",
       "        vertical-align: top;\n",
       "    }\n",
       "\n",
       "    .dataframe thead th {\n",
       "        text-align: right;\n",
       "    }\n",
       "</style>\n",
       "<table border=\"1\" class=\"dataframe\">\n",
       "  <thead>\n",
       "    <tr style=\"text-align: right;\">\n",
       "      <th></th>\n",
       "      <th>sample</th>\n",
       "    </tr>\n",
       "  </thead>\n",
       "  <tbody>\n",
       "    <tr>\n",
       "      <th>0</th>\n",
       "      <td>AT2_BB_1</td>\n",
       "    </tr>\n",
       "    <tr>\n",
       "      <th>1</th>\n",
       "      <td>AT2_BB_10</td>\n",
       "    </tr>\n",
       "    <tr>\n",
       "      <th>2</th>\n",
       "      <td>AT2_BB_11</td>\n",
       "    </tr>\n",
       "    <tr>\n",
       "      <th>3</th>\n",
       "      <td>AT2_BB_12</td>\n",
       "    </tr>\n",
       "    <tr>\n",
       "      <th>4</th>\n",
       "      <td>AT2_BB_13</td>\n",
       "    </tr>\n",
       "  </tbody>\n",
       "</table>\n",
       "</div>"
      ],
      "text/plain": [
       "      sample\n",
       "0   AT2_BB_1\n",
       "1  AT2_BB_10\n",
       "2  AT2_BB_11\n",
       "3  AT2_BB_12\n",
       "4  AT2_BB_13"
      ]
     },
     "execution_count": 6,
     "metadata": {},
     "output_type": "execute_result"
    }
   ],
   "source": [
    "sample_names = pd.read_csv('sample_index.txt',header=None,names=['sample'])\n",
    "sample_names.head()"
   ]
  },
  {
   "cell_type": "code",
   "execution_count": 7,
   "metadata": {},
   "outputs": [],
   "source": [
    "AT2_indv = [s for s in sample_names['sample'] if 'AT2' in s]"
   ]
  },
  {
   "cell_type": "code",
   "execution_count": 8,
   "metadata": {},
   "outputs": [
    {
     "data": {
      "text/plain": [
       "(235, 'AT2_BB_1')"
      ]
     },
     "execution_count": 8,
     "metadata": {},
     "output_type": "execute_result"
    }
   ],
   "source": [
    "len(AT2_indv), AT2_indv[0]"
   ]
  },
  {
   "cell_type": "code",
   "execution_count": 9,
   "metadata": {},
   "outputs": [],
   "source": [
    "with open(os.path.join(analysis_dir, \"AT2_indv.txt\"), \"w\") as o:\n",
    "    o.write(\"INDV\\n\")\n",
    "    for elem in AT2_indv:\n",
    "        o.write(\"%s\\n\" % elem)"
   ]
  },
  {
   "cell_type": "code",
   "execution_count": 10,
   "metadata": {},
   "outputs": [
    {
     "name": "stdout",
     "output_type": "stream",
     "text": [
      "\n",
      "VCFtools - 0.1.16\n",
      "(C) Adam Auton and Anthony Marcketta 2009\n",
      "\n",
      "Parameters as interpreted:\n",
      "\t--gzvcf /data/gpfs/assoc/denovo/tfaske/sagebrush/SNPcall/AT2/filtering/ARTR_chr.biallelic.recode.vcf.gz\n",
      "\t--keep /data/gpfs/assoc/denovo/tfaske/sagebrush/SNPcall/AT2/filtering/AT2_indv.txt\n",
      "\t--recode-INFO-all\n",
      "\t--out /data/gpfs/assoc/denovo/tfaske/sagebrush/SNPcall/AT2/filtering/AT2_chr.biallelic\n",
      "\t--recode\n",
      "\t--remove-filtered-all\n",
      "\n",
      "Using zlib version: 1.2.11\n",
      "Warning: Expected at least 2 parts in INFO entry: ID=PV4,Number=4,Type=Float,Description=\"P-values for strand bias, baseQ bias, mapQ bias and tail distance bias\">\n",
      "Warning: Expected at least 2 parts in INFO entry: ID=PV4,Number=4,Type=Float,Description=\"P-values for strand bias, baseQ bias, mapQ bias and tail distance bias\">\n",
      "Warning: Expected at least 2 parts in INFO entry: ID=DP4,Number=4,Type=Integer,Description=\"Number of high-quality ref-forward , ref-reverse, alt-forward and alt-reverse bases\">\n",
      "Warning: Expected at least 2 parts in INFO entry: ID=DP4,Number=4,Type=Integer,Description=\"Number of high-quality ref-forward , ref-reverse, alt-forward and alt-reverse bases\">\n",
      "Keeping individuals in 'keep' list\n",
      "After filtering, kept 235 out of 708 Individuals\n",
      "Outputting VCF file...\n",
      "After filtering, kept 2766918 out of a possible 2766918 Sites\n",
      "Run Time = 2245.00 seconds\n"
     ]
    }
   ],
   "source": [
    "!$vcftools --gzvcf $vcf_file \\\n",
    "--remove-filtered-all \\\n",
    "--recode \\\n",
    "--recode-INFO-all \\\n",
    "--keep {os.path.join(analysis_dir, \"AT2_indv.txt\")} \\\n",
    "--out {os.path.join(analysis_dir, \"AT2_chr.biallelic\")}"
   ]
  },
  {
   "cell_type": "code",
   "execution_count": 11,
   "metadata": {},
   "outputs": [],
   "source": [
    "vcf_AT2 = \"AT2_chr.biallelic.recode.vcf\" \n",
    "vcf_AT2_gz = \"%s.gz\" % vcf_AT2\n",
    "!$bgzip -c $vcf_AT2 > {vcf_AT2_gz}\n",
    "!$tabix {vcf_AT2_gz}"
   ]
  },
  {
   "cell_type": "markdown",
   "metadata": {},
   "source": [
    "## Remove by MAF, missing, and thin next"
   ]
  },
  {
   "cell_type": "code",
   "execution_count": null,
   "metadata": {},
   "outputs": [
    {
     "name": "stdout",
     "output_type": "stream",
     "text": [
      "\r\n",
      "VCFtools - 0.1.16\r\n",
      "(C) Adam Auton and Anthony Marcketta 2009\r\n",
      "\r\n",
      "Parameters as interpreted:\r\n",
      "\t--gzvcf AT2_chr.biallelic.recode.vcf.gz\r\n",
      "\t--recode-INFO-all\r\n",
      "\t--maf 0.01\r\n",
      "\t--thin 100\r\n",
      "\t--out AT2_chr_thin100_MAF1\r\n",
      "\t--recode\r\n",
      "\t--remove-filtered-all\r\n",
      "\r\n",
      "Using zlib version: 1.2.11\r\n",
      "Warning: Expected at least 2 parts in INFO entry: ID=PV4,Number=4,Type=Float,Description=\"P-values for strand bias, baseQ bias, mapQ bias and tail distance bias\">\r\n",
      "Warning: Expected at least 2 parts in INFO entry: ID=PV4,Number=4,Type=Float,Description=\"P-values for strand bias, baseQ bias, mapQ bias and tail distance bias\">\r\n",
      "Warning: Expected at least 2 parts in INFO entry: ID=DP4,Number=4,Type=Integer,Description=\"Number of high-quality ref-forward , ref-reverse, alt-forward and alt-reverse bases\">\r\n",
      "Warning: Expected at least 2 parts in INFO entry: ID=DP4,Number=4,Type=Integer,Description=\"Number of high-quality ref-forward , ref-reverse, alt-forward and alt-reverse bases\">\r\n",
      "After filtering, kept 235 out of 235 Individuals\r\n",
      "Outputting VCF file...\r\n"
     ]
    }
   ],
   "source": [
    "!$vcftools \\\n",
    "--maf 0.01 \\\n",
    "--thin 100 \\\n",
    "--remove-filtered-all \\\n",
    "--recode \\\n",
    "--recode-INFO-all \\\n",
    "--gzvcf \\\n",
    "$vcf_AT2_gz \\\n",
    "--out $'AT2_chr_thin100_MAF1'"
   ]
  },
  {
   "cell_type": "code",
   "execution_count": null,
   "metadata": {},
   "outputs": [],
   "source": [
    "vcf_filtered = \"AT2_chr_thin100_MAF1.recode.vcf\"\n",
    "vcf_filtered_gz = \"%s.gz\" % vcf_filtered"
   ]
  },
  {
   "cell_type": "code",
   "execution_count": null,
   "metadata": {},
   "outputs": [],
   "source": [
    "!$bgzip -c $vcf_filtered > {vcf_filtered_gz}\n",
    "!$tabix {vcf_filtered_gz}"
   ]
  },
  {
   "cell_type": "markdown",
   "metadata": {},
   "source": [
    "# Calulate missing data and private alleles using vcfR\n"
   ]
  },
  {
   "cell_type": "code",
   "execution_count": 6,
   "metadata": {},
   "outputs": [],
   "source": [
    "%load_ext rpy2.ipython"
   ]
  },
  {
   "cell_type": "code",
   "execution_count": 9,
   "metadata": {},
   "outputs": [
    {
     "name": "stderr",
     "output_type": "stream",
     "text": [
      "R[write to console]: Loading required package: readr\n",
      "\n",
      "R[write to console]: Loading required package: MASS\n",
      "\n",
      "R[write to console]: Loading required package: ggplot2\n",
      "\n",
      "R[write to console]: \n",
      "   *****       ***   vcfR   ***       *****\n",
      "   This is vcfR 1.8.0 \n",
      "     browseVignettes('vcfR') # Documentation\n",
      "     citation('vcfR') # Citation\n",
      "   *****       *****      *****       *****\n",
      "\n",
      "\n"
     ]
    }
   ],
   "source": [
    "%%R\n",
    "require(readr)\n",
    "library(data.table)\n",
    "require(MASS)\n",
    "require(ggplot2)\n",
    "library(vcfR)\n",
    "\n",
    "source('/data/gpfs/home/tfaske/g/src/R/Imports.R')\n",
    "\n",
    "setwd('/data/gpfs/assoc/denovo/tfaske/sagebrush/SNPcall/AT2/filtering/')"
   ]
  },
  {
   "cell_type": "code",
   "execution_count": 10,
   "metadata": {},
   "outputs": [],
   "source": [
    "%%R\n",
    "vcf <- read.vcfR(\"AT2_chr_thin100_MAF1.recode.vcf\", verbose = FALSE)\n",
    "\n",
    "#get positions\n",
    "chrom <- getCHROM(vcf)\n",
    "pos <- getPOS(vcf)\n",
    "pos_ID <- paste(chrom,pos,sep = ':')"
   ]
  },
  {
   "cell_type": "code",
   "execution_count": 11,
   "metadata": {},
   "outputs": [],
   "source": [
    "%%R\n",
    "#get pl \n",
    "dp <- extract.gt(vcf, element = 'DP')"
   ]
  },
  {
   "cell_type": "code",
   "execution_count": 12,
   "metadata": {},
   "outputs": [
    {
     "name": "stdout",
     "output_type": "stream",
     "text": [
      "[1] 458910\n",
      " [1] \"CM042338.1:22493\"  \"CM042338.1:59140\"  \"CM042338.1:97078\" \n",
      " [4] \"CM042338.1:106063\" \"CM042338.1:126072\" \"CM042338.1:128439\"\n",
      " [7] \"CM042338.1:129199\" \"CM042338.1:129763\" \"CM042338.1:130233\"\n",
      "[10] \"CM042338.1:169173\"\n",
      "                  AV2_AN_1 AV2_AN_2 AV2_AN_3 AV2_AN_4 AV2_AN_5\n",
      "CM042338.1_22493  \"0\"      \"0\"      \"0\"      \"0\"      \"0\"     \n",
      "CM042338.1_59140  \"0\"      \"0\"      \"3\"      \"0\"      \"0\"     \n",
      "CM042338.1_97078  \"0\"      \"0\"      \"0\"      \"0\"      \"0\"     \n",
      "CM042338.1_106063 \"0\"      \"0\"      \"0\"      \"0\"      \"0\"     \n",
      "CM042338.1_126072 \"1\"      \"0\"      \"1\"      \"0\"      \"0\"     \n"
     ]
    }
   ],
   "source": [
    "%%R\n",
    "## check out PL and pos_ID\n",
    "print(length(pos_ID))\n",
    "print(pos_ID[1:10])\n",
    "dp[1:5,1:5]"
   ]
  },
  {
   "cell_type": "code",
   "execution_count": 13,
   "metadata": {},
   "outputs": [
    {
     "name": "stdout",
     "output_type": "stream",
     "text": [
      " chr [1:5, 1:5] \"0\" \"0\" \"0\" \"0\" \"1\" \"0\" \"0\" \"0\" \"0\" \"0\" \"0\" \"3\" \"0\" \"0\" \"1\" ...\n",
      " - attr(*, \"dimnames\")=List of 2\n",
      "  ..$ : chr [1:5] \"CM042338.1_22493\" \"CM042338.1_59140\" \"CM042338.1_97078\" \"CM042338.1_106063\" ...\n",
      "  ..$ : chr [1:5] \"AV2_AN_1\" \"AV2_AN_2\" \"AV2_AN_3\" \"AV2_AN_4\" ...\n"
     ]
    }
   ],
   "source": [
    "%%R\n",
    "str(dp[1:5,1:5])"
   ]
  },
  {
   "cell_type": "markdown",
   "metadata": {},
   "source": [
    "#### Calculate missing loci and individual"
   ]
  },
  {
   "cell_type": "code",
   "execution_count": 14,
   "metadata": {},
   "outputs": [
    {
     "name": "stdout",
     "output_type": "stream",
     "text": [
      "[1] 458910\n",
      "[1] 172\n"
     ]
    }
   ],
   "source": [
    "%%R\n",
    "nindv <- ncol(dp)\n",
    "nloci <- nrow(dp)\n",
    "print(nloci)\n",
    "print(nindv)"
   ]
  },
  {
   "cell_type": "code",
   "execution_count": 15,
   "metadata": {},
   "outputs": [
    {
     "name": "stdout",
     "output_type": "stream",
     "text": [
      "   Min. 1st Qu.  Median    Mean 3rd Qu.    Max. \n",
      " 0.0000  0.9942  1.0000  0.9244  1.0000  1.0000 \n"
     ]
    }
   ],
   "source": [
    "%%R\n",
    "miss_loci <- apply(dp,1, function(d) length(which(d == \"0\"))/nindv)\n",
    "#miss_loci <- apply(dp[,1:100],1, function(d) (length(which(d == \"0\"))/100))\n",
    "print(summary(miss_loci))"
   ]
  },
  {
   "cell_type": "code",
   "execution_count": 16,
   "metadata": {},
   "outputs": [
    {
     "name": "stdout",
     "output_type": "stream",
     "text": [
      "[1] 13533\n",
      "[1] 21012\n",
      "[1] 29811\n",
      "[1] 38646\n",
      "[1] 48174\n"
     ]
    }
   ],
   "source": [
    "%%R\n",
    "print(length(which(miss_loci <= .30)))\n",
    "print(length(which(miss_loci <= .40)))\n",
    "print(length(which(miss_loci <= .50)))\n",
    "print(length(which(miss_loci <= .60)))\n",
    "print(length(which(miss_loci <= .70)))"
   ]
  },
  {
   "cell_type": "code",
   "execution_count": 17,
   "metadata": {},
   "outputs": [
    {
     "name": "stdout",
     "output_type": "stream",
     "text": [
      "[1] 38646\n"
     ]
    }
   ],
   "source": [
    "%%R\n",
    "keep_miss <- pos_ID[which(miss_loci <= .60)]\n",
    "length(keep_miss)"
   ]
  },
  {
   "cell_type": "code",
   "execution_count": 18,
   "metadata": {},
   "outputs": [
    {
     "name": "stdout",
     "output_type": "stream",
     "text": [
      "                        chrom     pos\n",
      "CM042338.1:398145  CM042338.1  398145\n",
      "CM042338.1:1342981 CM042338.1 1342981\n",
      "CM042338.1:1496832 CM042338.1 1496832\n",
      "CM042338.1:1942811 CM042338.1 1942811\n",
      "CM042338.1:2125877 CM042338.1 2125877\n",
      "CM042338.1:2385838 CM042338.1 2385838\n"
     ]
    }
   ],
   "source": [
    "%%R\n",
    "keep_miss60_df <- data.frame(chrom=sapply(keep_miss,function(s) unlist(strsplit(as.character(s),':'))[1]),\n",
    "                             pos=sapply(keep_miss,function(s) unlist(strsplit(as.character(s),':'))[2]))\n",
    "print(head(keep_miss60_df))    \n",
    "write.table(keep_miss60_df,'keep_miss60.txt',quote=F,row.names=F,col.names=F,sep='\\t')"
   ]
  },
  {
   "cell_type": "code",
   "execution_count": 19,
   "metadata": {},
   "outputs": [
    {
     "name": "stdout",
     "output_type": "stream",
     "text": [
      "CM042338.1\t398145\r\n",
      "CM042338.1\t1342981\r\n",
      "CM042338.1\t1496832\r\n",
      "CM042338.1\t1942811\r\n",
      "CM042338.1\t2125877\r\n",
      "CM042338.1\t2385838\r\n",
      "CM042338.1\t3792588\r\n",
      "CM042338.1\t6087026\r\n",
      "CM042338.1\t6148025\r\n",
      "CM042338.1\t6353755\r\n"
     ]
    }
   ],
   "source": [
    "!head keep_miss60.txt"
   ]
  },
  {
   "cell_type": "code",
   "execution_count": 21,
   "metadata": {},
   "outputs": [
    {
     "name": "stdout",
     "output_type": "stream",
     "text": [
      "\n",
      "VCFtools - 0.1.16\n",
      "(C) Adam Auton and Anthony Marcketta 2009\n",
      "\n",
      "Parameters as interpreted:\n",
      "\t--gzvcf AV2_chr_thin100_MAF1.recode.vcf\n",
      "\t--recode-INFO-all\n",
      "\t--out /data/gpfs/assoc/denovo/tfaske/sagebrush/SNPcall/AV2/filtering/AV2_chr_miss60_thin100_MAF1\n",
      "\t--positions /data/gpfs/assoc/denovo/tfaske/sagebrush/SNPcall/AV2/filtering/keep_miss60.txt\n",
      "\t--recode\n",
      "\t--remove-filtered-all\n",
      "\n",
      "Using zlib version: 1.2.11\n",
      "Warning: Expected at least 2 parts in INFO entry: ID=PV4,Number=4,Type=Float,Description=\"P-values for strand bias, baseQ bias, mapQ bias and tail distance bias\">\n",
      "Warning: Expected at least 2 parts in INFO entry: ID=PV4,Number=4,Type=Float,Description=\"P-values for strand bias, baseQ bias, mapQ bias and tail distance bias\">\n",
      "Warning: Expected at least 2 parts in INFO entry: ID=DP4,Number=4,Type=Integer,Description=\"Number of high-quality ref-forward , ref-reverse, alt-forward and alt-reverse bases\">\n",
      "Warning: Expected at least 2 parts in INFO entry: ID=DP4,Number=4,Type=Integer,Description=\"Number of high-quality ref-forward , ref-reverse, alt-forward and alt-reverse bases\">\n",
      "After filtering, kept 172 out of 172 Individuals\n",
      "Outputting VCF file...\n",
      "After filtering, kept 38646 out of a possible 458910 Sites\n",
      "Run Time = 20.00 seconds\n"
     ]
    }
   ],
   "source": [
    "!$vcftools --vcf {\"AT2_chr_thin100_MAF1.recode.vcf\"} \\\n",
    "--remove-filtered-all \\\n",
    "--recode \\\n",
    "--recode-INFO-all \\\n",
    "--positions {os.path.join(analysis_dir, \"keep_miss60.txt\")} \\\n",
    "--out {os.path.join(analysis_dir, \"AT2_chr_miss60_thin100_MAF1\")}"
   ]
  },
  {
   "cell_type": "code",
   "execution_count": 22,
   "metadata": {},
   "outputs": [],
   "source": [
    "vcf_filtered = \"AV2_chr_miss60_thin100_MAF1.recode.vcf\"\n",
    "vcf_filtered_gz = \"%s.gz\" % vcf_filtered\n",
    "!$bgzip -c $vcf_filtered > {vcf_filtered_gz}\n",
    "!$tabix {vcf_filtered_gz}"
   ]
  },
  {
   "cell_type": "markdown",
   "metadata": {},
   "source": [
    "# Remove bad_indv\n",
    "\n",
    "by do it by mean_depth cause no missing data "
   ]
  },
  {
   "cell_type": "code",
   "execution_count": 31,
   "metadata": {
    "scrolled": true
   },
   "outputs": [
    {
     "name": "stdout",
     "output_type": "stream",
     "text": [
      "\n",
      "VCFtools - 0.1.16\n",
      "(C) Adam Auton and Anthony Marcketta 2009\n",
      "\n",
      "Parameters as interpreted:\n",
      "\t--gzvcf AT2_chr_miss70_thin100_MAF1.recode.vcf.gz\n",
      "\t--depth\n",
      "\t--out AT2_chr_miss70_thin100_MAF1.recode.vcf.gz\n",
      "\n",
      "Using zlib version: 1.2.11\n",
      "Warning: Expected at least 2 parts in INFO entry: ID=PV4,Number=4,Type=Float,Description=\"P-values for strand bias, baseQ bias, mapQ bias and tail distance bias\">\n",
      "Warning: Expected at least 2 parts in INFO entry: ID=PV4,Number=4,Type=Float,Description=\"P-values for strand bias, baseQ bias, mapQ bias and tail distance bias\">\n",
      "Warning: Expected at least 2 parts in INFO entry: ID=DP4,Number=4,Type=Integer,Description=\"Number of high-quality ref-forward , ref-reverse, alt-forward and alt-reverse bases\">\n",
      "Warning: Expected at least 2 parts in INFO entry: ID=DP4,Number=4,Type=Integer,Description=\"Number of high-quality ref-forward , ref-reverse, alt-forward and alt-reverse bases\">\n",
      "After filtering, kept 235 out of 235 Individuals\n",
      "Outputting Mean Depth by Individual\n",
      "After filtering, kept 477316 out of a possible 477316 Sites\n",
      "Run Time = 19.00 seconds\n"
     ]
    }
   ],
   "source": [
    "!$vcftools --gzvcf {vcf_filtered_gz} \\\n",
    "--out {vcf_filtered_gz} \\\n",
    "--depth"
   ]
  },
  {
   "cell_type": "code",
   "execution_count": 33,
   "metadata": {},
   "outputs": [
    {
     "data": {
      "text/html": [
       "<div>\n",
       "<style scoped>\n",
       "    .dataframe tbody tr th:only-of-type {\n",
       "        vertical-align: middle;\n",
       "    }\n",
       "\n",
       "    .dataframe tbody tr th {\n",
       "        vertical-align: top;\n",
       "    }\n",
       "\n",
       "    .dataframe thead th {\n",
       "        text-align: right;\n",
       "    }\n",
       "</style>\n",
       "<table border=\"1\" class=\"dataframe\">\n",
       "  <thead>\n",
       "    <tr style=\"text-align: right;\">\n",
       "      <th></th>\n",
       "      <th>INDV</th>\n",
       "      <th>N_SITES</th>\n",
       "      <th>MEAN_DEPTH</th>\n",
       "    </tr>\n",
       "  </thead>\n",
       "  <tbody>\n",
       "    <tr>\n",
       "      <th>0</th>\n",
       "      <td>AT2_BB_10</td>\n",
       "      <td>477316</td>\n",
       "      <td>0.360369</td>\n",
       "    </tr>\n",
       "    <tr>\n",
       "      <th>1</th>\n",
       "      <td>AT2_BB_11</td>\n",
       "      <td>477316</td>\n",
       "      <td>0.249962</td>\n",
       "    </tr>\n",
       "    <tr>\n",
       "      <th>2</th>\n",
       "      <td>AT2_BB_12</td>\n",
       "      <td>477316</td>\n",
       "      <td>0.212310</td>\n",
       "    </tr>\n",
       "    <tr>\n",
       "      <th>3</th>\n",
       "      <td>AT2_BB_13</td>\n",
       "      <td>477316</td>\n",
       "      <td>0.315489</td>\n",
       "    </tr>\n",
       "    <tr>\n",
       "      <th>4</th>\n",
       "      <td>AT2_BB_14</td>\n",
       "      <td>477316</td>\n",
       "      <td>0.444678</td>\n",
       "    </tr>\n",
       "  </tbody>\n",
       "</table>\n",
       "</div>"
      ],
      "text/plain": [
       "        INDV  N_SITES  MEAN_DEPTH\n",
       "0  AT2_BB_10   477316    0.360369\n",
       "1  AT2_BB_11   477316    0.249962\n",
       "2  AT2_BB_12   477316    0.212310\n",
       "3  AT2_BB_13   477316    0.315489\n",
       "4  AT2_BB_14   477316    0.444678"
      ]
     },
     "execution_count": 33,
     "metadata": {},
     "output_type": "execute_result"
    }
   ],
   "source": [
    "depth_file = vcf_filtered_gz + \".idepth\"\n",
    "depth_df = pd.read_csv(depth_file, sep=\"\\t\")\n",
    "depth_df.head()"
   ]
  },
  {
   "cell_type": "code",
   "execution_count": 34,
   "metadata": {
    "scrolled": false
   },
   "outputs": [
    {
     "data": {
      "text/plain": [
       "count    235.000000\n",
       "mean       0.267208\n",
       "std        0.090410\n",
       "min        0.002910\n",
       "25%        0.212249\n",
       "50%        0.261904\n",
       "75%        0.324943\n",
       "max        0.539852\n",
       "Name: MEAN_DEPTH, dtype: float64"
      ]
     },
     "execution_count": 34,
     "metadata": {},
     "output_type": "execute_result"
    }
   ],
   "source": [
    "depth_df.MEAN_DEPTH.describe()"
   ]
  },
  {
   "cell_type": "code",
   "execution_count": 40,
   "metadata": {},
   "outputs": [
    {
     "data": {
      "text/plain": [
       "(235, 5, 8, 19)"
      ]
     },
     "execution_count": 40,
     "metadata": {},
     "output_type": "execute_result"
    }
   ],
   "source": [
    "len(depth_df),len(depth_df[depth_df.MEAN_DEPTH <= .05]),len(depth_df[depth_df.MEAN_DEPTH <= .1]), len(depth_df[depth_df.MEAN_DEPTH <= .15])\n"
   ]
  },
  {
   "cell_type": "code",
   "execution_count": 49,
   "metadata": {},
   "outputs": [],
   "source": [
    "bad_indv = depth_df.INDV[depth_df.MEAN_DEPTH <= .1]"
   ]
  },
  {
   "cell_type": "code",
   "execution_count": 51,
   "metadata": {},
   "outputs": [],
   "source": [
    "with open(os.path.join(analysis_dir, \"bad_indv.txt\"), \"w\") as o:\n",
    "    o.write(\"INDV\\n\")\n",
    "    for elem in bad_indv:\n",
    "        o.write(\"%s\\n\" % elem)"
   ]
  },
  {
   "cell_type": "code",
   "execution_count": 52,
   "metadata": {},
   "outputs": [
    {
     "name": "stdout",
     "output_type": "stream",
     "text": [
      "INDV\r\n",
      "AT2_EW_38\r\n",
      "AT2_KN_90\r\n",
      "AT2_LN_95\r\n",
      "AT2_LN_97\r\n",
      "AT2_OC_1\r\n",
      "AT2_RB_2\r\n",
      "AT2_SS_8\r\n",
      "AT2_SS_9\r\n"
     ]
    }
   ],
   "source": [
    "!cat bad_indv.txt"
   ]
  },
  {
   "cell_type": "code",
   "execution_count": 53,
   "metadata": {},
   "outputs": [
    {
     "name": "stdout",
     "output_type": "stream",
     "text": [
      "\n",
      "VCFtools - 0.1.16\n",
      "(C) Adam Auton and Anthony Marcketta 2009\n",
      "\n",
      "Parameters as interpreted:\n",
      "\t--gzvcf AT2_chr_miss70_thin100_MAF1.recode.vcf.gz\n",
      "\t--remove /data/gpfs/assoc/denovo/tfaske/sagebrush/SNPcall/AT2/filtering/bad_indv.txt\n",
      "\t--recode-INFO-all\n",
      "\t--out /data/gpfs/assoc/denovo/tfaske/sagebrush/SNPcall/AT2/filtering/snps_indv_removed\n",
      "\t--recode\n",
      "\t--remove-filtered-all\n",
      "\t--remove-indels\n",
      "\n",
      "Using zlib version: 1.2.11\n",
      "Warning: Expected at least 2 parts in INFO entry: ID=PV4,Number=4,Type=Float,Description=\"P-values for strand bias, baseQ bias, mapQ bias and tail distance bias\">\n",
      "Warning: Expected at least 2 parts in INFO entry: ID=PV4,Number=4,Type=Float,Description=\"P-values for strand bias, baseQ bias, mapQ bias and tail distance bias\">\n",
      "Warning: Expected at least 2 parts in INFO entry: ID=DP4,Number=4,Type=Integer,Description=\"Number of high-quality ref-forward , ref-reverse, alt-forward and alt-reverse bases\">\n",
      "Warning: Expected at least 2 parts in INFO entry: ID=DP4,Number=4,Type=Integer,Description=\"Number of high-quality ref-forward , ref-reverse, alt-forward and alt-reverse bases\">\n",
      "Excluding individuals in 'exclude' list\n",
      "After filtering, kept 227 out of 235 Individuals\n",
      "Outputting VCF file...\n",
      "After filtering, kept 477316 out of a possible 477316 Sites\n",
      "Run Time = 229.00 seconds\n"
     ]
    }
   ],
   "source": [
    "!$vcftools --gzvcf $vcf_filtered_gz \\\n",
    "--remove-indels  \\\n",
    "--remove-filtered-all \\\n",
    "--recode \\\n",
    "--recode-INFO-all \\\n",
    "--remove {os.path.join(analysis_dir, \"bad_indv.txt\")} \\\n",
    "--out {os.path.join(analysis_dir, \"snps_indv_removed\")}"
   ]
  },
  {
   "cell_type": "code",
   "execution_count": 54,
   "metadata": {},
   "outputs": [],
   "source": [
    "vcf_bad_remove = os.path.join(analysis_dir, \"snps_indv_removed.recode.vcf\")\n",
    "vcf_bad_remove_gz = vcf_bad_remove + \".gz\"\n",
    "!$bgzip -c {vcf_bad_remove} > {vcf_bad_remove_gz}\n",
    "!$tabix {vcf_bad_remove_gz}"
   ]
  },
  {
   "cell_type": "markdown",
   "metadata": {},
   "source": [
    "# Filter snps further \n",
    "this needs to be done after removing individuals\n"
   ]
  },
  {
   "cell_type": "code",
   "execution_count": 55,
   "metadata": {},
   "outputs": [],
   "source": [
    "def get_vcf_stats(vcf_gz):\n",
    "    \n",
    "    stats = ['depth',\n",
    "            'site-depth',\n",
    "            'site-mean-depth',\n",
    "            'site-quality',\n",
    "            'missing-site',\n",
    "            'freq',\n",
    "            'counts',\n",
    "            'hardy',\n",
    "            'het']\n",
    "    \n",
    "    for stat in stats:\n",
    "        !$vcftools --gzvcf $vcf_gz \\\n",
    "        --out $vcf_gz \\\n",
    "        {\"--%s\" % stat} "
   ]
  },
  {
   "cell_type": "code",
   "execution_count": 56,
   "metadata": {},
   "outputs": [
    {
     "name": "stdout",
     "output_type": "stream",
     "text": [
      "\n",
      "VCFtools - 0.1.16\n",
      "(C) Adam Auton and Anthony Marcketta 2009\n",
      "\n",
      "Parameters as interpreted:\n",
      "\t--gzvcf /data/gpfs/assoc/denovo/tfaske/sagebrush/SNPcall/AT2/filtering/snps_indv_removed.recode.vcf.gz\n",
      "\t--depth\n",
      "\t--out /data/gpfs/assoc/denovo/tfaske/sagebrush/SNPcall/AT2/filtering/snps_indv_removed.recode.vcf.gz\n",
      "\n",
      "Using zlib version: 1.2.11\n",
      "Warning: Expected at least 2 parts in INFO entry: ID=PV4,Number=4,Type=Float,Description=\"P-values for strand bias, baseQ bias, mapQ bias and tail distance bias\">\n",
      "Warning: Expected at least 2 parts in INFO entry: ID=PV4,Number=4,Type=Float,Description=\"P-values for strand bias, baseQ bias, mapQ bias and tail distance bias\">\n",
      "Warning: Expected at least 2 parts in INFO entry: ID=DP4,Number=4,Type=Integer,Description=\"Number of high-quality ref-forward , ref-reverse, alt-forward and alt-reverse bases\">\n",
      "Warning: Expected at least 2 parts in INFO entry: ID=DP4,Number=4,Type=Integer,Description=\"Number of high-quality ref-forward , ref-reverse, alt-forward and alt-reverse bases\">\n",
      "After filtering, kept 227 out of 227 Individuals\n",
      "Outputting Mean Depth by Individual\n",
      "After filtering, kept 477316 out of a possible 477316 Sites\n",
      "Run Time = 19.00 seconds\n",
      "\n",
      "VCFtools - 0.1.16\n",
      "(C) Adam Auton and Anthony Marcketta 2009\n",
      "\n",
      "Parameters as interpreted:\n",
      "\t--gzvcf /data/gpfs/assoc/denovo/tfaske/sagebrush/SNPcall/AT2/filtering/snps_indv_removed.recode.vcf.gz\n",
      "\t--out /data/gpfs/assoc/denovo/tfaske/sagebrush/SNPcall/AT2/filtering/snps_indv_removed.recode.vcf.gz\n",
      "\t--site-depth\n",
      "\n",
      "Using zlib version: 1.2.11\n",
      "Warning: Expected at least 2 parts in INFO entry: ID=PV4,Number=4,Type=Float,Description=\"P-values for strand bias, baseQ bias, mapQ bias and tail distance bias\">\n",
      "Warning: Expected at least 2 parts in INFO entry: ID=PV4,Number=4,Type=Float,Description=\"P-values for strand bias, baseQ bias, mapQ bias and tail distance bias\">\n",
      "Warning: Expected at least 2 parts in INFO entry: ID=DP4,Number=4,Type=Integer,Description=\"Number of high-quality ref-forward , ref-reverse, alt-forward and alt-reverse bases\">\n",
      "Warning: Expected at least 2 parts in INFO entry: ID=DP4,Number=4,Type=Integer,Description=\"Number of high-quality ref-forward , ref-reverse, alt-forward and alt-reverse bases\">\n",
      "After filtering, kept 227 out of 227 Individuals\n",
      "Outputting Depth for Each Site\n",
      "After filtering, kept 477316 out of a possible 477316 Sites\n",
      "Run Time = 23.00 seconds\n",
      "\n",
      "VCFtools - 0.1.16\n",
      "(C) Adam Auton and Anthony Marcketta 2009\n",
      "\n",
      "Parameters as interpreted:\n",
      "\t--gzvcf /data/gpfs/assoc/denovo/tfaske/sagebrush/SNPcall/AT2/filtering/snps_indv_removed.recode.vcf.gz\n",
      "\t--out /data/gpfs/assoc/denovo/tfaske/sagebrush/SNPcall/AT2/filtering/snps_indv_removed.recode.vcf.gz\n",
      "\t--site-mean-depth\n",
      "\n",
      "Using zlib version: 1.2.11\n",
      "Warning: Expected at least 2 parts in INFO entry: ID=PV4,Number=4,Type=Float,Description=\"P-values for strand bias, baseQ bias, mapQ bias and tail distance bias\">\n",
      "Warning: Expected at least 2 parts in INFO entry: ID=PV4,Number=4,Type=Float,Description=\"P-values for strand bias, baseQ bias, mapQ bias and tail distance bias\">\n",
      "Warning: Expected at least 2 parts in INFO entry: ID=DP4,Number=4,Type=Integer,Description=\"Number of high-quality ref-forward , ref-reverse, alt-forward and alt-reverse bases\">\n",
      "Warning: Expected at least 2 parts in INFO entry: ID=DP4,Number=4,Type=Integer,Description=\"Number of high-quality ref-forward , ref-reverse, alt-forward and alt-reverse bases\">\n",
      "After filtering, kept 227 out of 227 Individuals\n",
      "Outputting Depth for Each Site\n",
      "After filtering, kept 477316 out of a possible 477316 Sites\n",
      "Run Time = 24.00 seconds\n",
      "\n",
      "VCFtools - 0.1.16\n",
      "(C) Adam Auton and Anthony Marcketta 2009\n",
      "\n",
      "Parameters as interpreted:\n",
      "\t--gzvcf /data/gpfs/assoc/denovo/tfaske/sagebrush/SNPcall/AT2/filtering/snps_indv_removed.recode.vcf.gz\n",
      "\t--out /data/gpfs/assoc/denovo/tfaske/sagebrush/SNPcall/AT2/filtering/snps_indv_removed.recode.vcf.gz\n",
      "\t--site-quality\n",
      "\n",
      "Using zlib version: 1.2.11\n",
      "Warning: Expected at least 2 parts in INFO entry: ID=PV4,Number=4,Type=Float,Description=\"P-values for strand bias, baseQ bias, mapQ bias and tail distance bias\">\n",
      "Warning: Expected at least 2 parts in INFO entry: ID=PV4,Number=4,Type=Float,Description=\"P-values for strand bias, baseQ bias, mapQ bias and tail distance bias\">\n",
      "Warning: Expected at least 2 parts in INFO entry: ID=DP4,Number=4,Type=Integer,Description=\"Number of high-quality ref-forward , ref-reverse, alt-forward and alt-reverse bases\">\n",
      "Warning: Expected at least 2 parts in INFO entry: ID=DP4,Number=4,Type=Integer,Description=\"Number of high-quality ref-forward , ref-reverse, alt-forward and alt-reverse bases\">\n",
      "After filtering, kept 227 out of 227 Individuals\n",
      "Outputting Quality for Each Site\n",
      "After filtering, kept 477316 out of a possible 477316 Sites\n",
      "Run Time = 8.00 seconds\n",
      "\n",
      "VCFtools - 0.1.16\n",
      "(C) Adam Auton and Anthony Marcketta 2009\n",
      "\n",
      "Parameters as interpreted:\n",
      "\t--gzvcf /data/gpfs/assoc/denovo/tfaske/sagebrush/SNPcall/AT2/filtering/snps_indv_removed.recode.vcf.gz\n",
      "\t--out /data/gpfs/assoc/denovo/tfaske/sagebrush/SNPcall/AT2/filtering/snps_indv_removed.recode.vcf.gz\n",
      "\t--missing-site\n",
      "\n",
      "Using zlib version: 1.2.11\n",
      "Warning: Expected at least 2 parts in INFO entry: ID=PV4,Number=4,Type=Float,Description=\"P-values for strand bias, baseQ bias, mapQ bias and tail distance bias\">\n",
      "Warning: Expected at least 2 parts in INFO entry: ID=PV4,Number=4,Type=Float,Description=\"P-values for strand bias, baseQ bias, mapQ bias and tail distance bias\">\n",
      "Warning: Expected at least 2 parts in INFO entry: ID=DP4,Number=4,Type=Integer,Description=\"Number of high-quality ref-forward , ref-reverse, alt-forward and alt-reverse bases\">\n",
      "Warning: Expected at least 2 parts in INFO entry: ID=DP4,Number=4,Type=Integer,Description=\"Number of high-quality ref-forward , ref-reverse, alt-forward and alt-reverse bases\">\n",
      "After filtering, kept 227 out of 227 Individuals\n",
      "Outputting Site Missingness\n",
      "After filtering, kept 477316 out of a possible 477316 Sites\n",
      "Run Time = 21.00 seconds\n",
      "\n",
      "VCFtools - 0.1.16\n",
      "(C) Adam Auton and Anthony Marcketta 2009\n",
      "\n",
      "Parameters as interpreted:\n",
      "\t--gzvcf /data/gpfs/assoc/denovo/tfaske/sagebrush/SNPcall/AT2/filtering/snps_indv_removed.recode.vcf.gz\n",
      "\t--freq\n",
      "\t--out /data/gpfs/assoc/denovo/tfaske/sagebrush/SNPcall/AT2/filtering/snps_indv_removed.recode.vcf.gz\n",
      "\n",
      "Using zlib version: 1.2.11\n",
      "Warning: Expected at least 2 parts in INFO entry: ID=PV4,Number=4,Type=Float,Description=\"P-values for strand bias, baseQ bias, mapQ bias and tail distance bias\">\n",
      "Warning: Expected at least 2 parts in INFO entry: ID=PV4,Number=4,Type=Float,Description=\"P-values for strand bias, baseQ bias, mapQ bias and tail distance bias\">\n",
      "Warning: Expected at least 2 parts in INFO entry: ID=DP4,Number=4,Type=Integer,Description=\"Number of high-quality ref-forward , ref-reverse, alt-forward and alt-reverse bases\">\n",
      "Warning: Expected at least 2 parts in INFO entry: ID=DP4,Number=4,Type=Integer,Description=\"Number of high-quality ref-forward , ref-reverse, alt-forward and alt-reverse bases\">\n",
      "After filtering, kept 227 out of 227 Individuals\n",
      "Outputting Frequency Statistics...\n",
      "After filtering, kept 477316 out of a possible 477316 Sites\n",
      "Run Time = 18.00 seconds\n",
      "\n",
      "VCFtools - 0.1.16\n",
      "(C) Adam Auton and Anthony Marcketta 2009\n",
      "\n",
      "Parameters as interpreted:\n",
      "\t--gzvcf /data/gpfs/assoc/denovo/tfaske/sagebrush/SNPcall/AT2/filtering/snps_indv_removed.recode.vcf.gz\n",
      "\t--counts\n",
      "\t--out /data/gpfs/assoc/denovo/tfaske/sagebrush/SNPcall/AT2/filtering/snps_indv_removed.recode.vcf.gz\n",
      "\n",
      "Using zlib version: 1.2.11\n",
      "Warning: Expected at least 2 parts in INFO entry: ID=PV4,Number=4,Type=Float,Description=\"P-values for strand bias, baseQ bias, mapQ bias and tail distance bias\">\n",
      "Warning: Expected at least 2 parts in INFO entry: ID=PV4,Number=4,Type=Float,Description=\"P-values for strand bias, baseQ bias, mapQ bias and tail distance bias\">\n",
      "Warning: Expected at least 2 parts in INFO entry: ID=DP4,Number=4,Type=Integer,Description=\"Number of high-quality ref-forward , ref-reverse, alt-forward and alt-reverse bases\">\n",
      "Warning: Expected at least 2 parts in INFO entry: ID=DP4,Number=4,Type=Integer,Description=\"Number of high-quality ref-forward , ref-reverse, alt-forward and alt-reverse bases\">\n",
      "After filtering, kept 227 out of 227 Individuals\n",
      "Outputting Frequency Statistics...\n"
     ]
    },
    {
     "name": "stdout",
     "output_type": "stream",
     "text": [
      "After filtering, kept 477316 out of a possible 477316 Sites\n",
      "Run Time = 17.00 seconds\n",
      "\n",
      "VCFtools - 0.1.16\n",
      "(C) Adam Auton and Anthony Marcketta 2009\n",
      "\n",
      "Parameters as interpreted:\n",
      "\t--gzvcf /data/gpfs/assoc/denovo/tfaske/sagebrush/SNPcall/AT2/filtering/snps_indv_removed.recode.vcf.gz\n",
      "\t--hardy\n",
      "\t--out /data/gpfs/assoc/denovo/tfaske/sagebrush/SNPcall/AT2/filtering/snps_indv_removed.recode.vcf.gz\n",
      "\n",
      "Using zlib version: 1.2.11\n",
      "Warning: Expected at least 2 parts in INFO entry: ID=PV4,Number=4,Type=Float,Description=\"P-values for strand bias, baseQ bias, mapQ bias and tail distance bias\">\n",
      "Warning: Expected at least 2 parts in INFO entry: ID=PV4,Number=4,Type=Float,Description=\"P-values for strand bias, baseQ bias, mapQ bias and tail distance bias\">\n",
      "Warning: Expected at least 2 parts in INFO entry: ID=DP4,Number=4,Type=Integer,Description=\"Number of high-quality ref-forward , ref-reverse, alt-forward and alt-reverse bases\">\n",
      "Warning: Expected at least 2 parts in INFO entry: ID=DP4,Number=4,Type=Integer,Description=\"Number of high-quality ref-forward , ref-reverse, alt-forward and alt-reverse bases\">\n",
      "After filtering, kept 227 out of 227 Individuals\n",
      "Outputting HWE statistics (but only for biallelic loci)\n",
      "After filtering, kept 477316 out of a possible 477316 Sites\n",
      "Run Time = 25.00 seconds\n",
      "\n",
      "VCFtools - 0.1.16\n",
      "(C) Adam Auton and Anthony Marcketta 2009\n",
      "\n",
      "Parameters as interpreted:\n",
      "\t--gzvcf /data/gpfs/assoc/denovo/tfaske/sagebrush/SNPcall/AT2/filtering/snps_indv_removed.recode.vcf.gz\n",
      "\t--het\n",
      "\t--out /data/gpfs/assoc/denovo/tfaske/sagebrush/SNPcall/AT2/filtering/snps_indv_removed.recode.vcf.gz\n",
      "\n",
      "Using zlib version: 1.2.11\n",
      "Warning: Expected at least 2 parts in INFO entry: ID=PV4,Number=4,Type=Float,Description=\"P-values for strand bias, baseQ bias, mapQ bias and tail distance bias\">\n",
      "Warning: Expected at least 2 parts in INFO entry: ID=PV4,Number=4,Type=Float,Description=\"P-values for strand bias, baseQ bias, mapQ bias and tail distance bias\">\n",
      "Warning: Expected at least 2 parts in INFO entry: ID=DP4,Number=4,Type=Integer,Description=\"Number of high-quality ref-forward , ref-reverse, alt-forward and alt-reverse bases\">\n",
      "Warning: Expected at least 2 parts in INFO entry: ID=DP4,Number=4,Type=Integer,Description=\"Number of high-quality ref-forward , ref-reverse, alt-forward and alt-reverse bases\">\n",
      "After filtering, kept 227 out of 227 Individuals\n",
      "Outputting Individual Heterozygosity\n",
      "After filtering, kept 477316 out of a possible 477316 Sites\n",
      "Run Time = 19.00 seconds\n"
     ]
    }
   ],
   "source": [
    "get_vcf_stats(vcf_bad_remove_gz)"
   ]
  },
  {
   "cell_type": "code",
   "execution_count": 57,
   "metadata": {},
   "outputs": [],
   "source": [
    "#pd.set_option('display.max_columns', 100)\n",
    "\n",
    "def get_MAF(row):\n",
    "    try:\n",
    "        return np.min([row.A1_freq, row.A2_freq])\n",
    "    except:\n",
    "        print(row)\n",
    "        \n",
    "def get_correction(n):\n",
    "    #for finite sample size\n",
    "    return (2*n)/(2*n-1)\n",
    "\n",
    "def calculate_Fis(vals):\n",
    "    try:\n",
    "        data = [float(x) for x in vals.split(\"/\")]\n",
    "        assert len(data) == 3\n",
    "        num_individuals = np.sum(data)\n",
    "        total_alleles = 2*num_individuals\n",
    "        a1_count = 2*data[0]\n",
    "        a2_count = 2*data[2]\n",
    "        het_count = data[1]\n",
    "        a1_count += het_count\n",
    "        a2_count += het_count\n",
    "        a1_freq = a1_count/total_alleles\n",
    "        a2_freq = a2_count/total_alleles\n",
    "        assert a1_freq + a2_freq == 1.0\n",
    "        He = 2 * a1_freq * a2_freq * get_correction(num_individuals)\n",
    "        Ho = het_count/num_individuals\n",
    "        Fis = 1 - (Ho/He)\n",
    "        return Fis\n",
    "    except:\n",
    "        return -9\n",
    "\n",
    "def combine_vcf_stats(filedir, prefix):\n",
    "    \n",
    "    hardy_files = !ls {filedir}/{prefix}.hwe\n",
    "    hardy = pd.read_csv(hardy_files[0], sep=\"\\t\")\n",
    "\n",
    "    hardy.columns = ['CHROM', 'POS', 'OBS(HOM1/HET/HOM2)', 'E(HOM1/HET/HOM2)', 'ChiSq_HWE',\n",
    "       'P_HWE', 'P_HET_DEFICIT', 'P_HET_EXCESS']\n",
    "    hardy.index = hardy.apply(lambda x: \"%s-%d\" % (x.CHROM, x.POS), axis=1)\n",
    "    \n",
    "    loci_files = !ls {filedir}/{prefix}.l* | grep -v log\n",
    "    loci_df = pd.concat([pd.read_csv(x, sep=\"\\t\", skiprows=0) for x in loci_files], axis=1)\n",
    "    chrom_pos = loci_df.ix[:,0:2]\n",
    "    \n",
    "    frq_files = !ls {filedir}/{prefix}.frq* | grep -v count\n",
    "    frq_data = []\n",
    "    h = open(frq_files[0])\n",
    "    header = h.readline().strip().split()\n",
    "    for line in h:\n",
    "        frq_data.append(line.strip().split('\\t'))\n",
    "\n",
    "    header = ['CHROM', 'POS', 'N_ALLELES', 'N_CHR', 'A1_FREQ', \"A2_FREQ\"]\n",
    "    frq_df = pd.DataFrame(frq_data)\n",
    "    print(frq_df.columns)\n",
    "    #frq_df = frq_df.drop([6,7],axis=1)\n",
    "    frq_df.columns = header\n",
    "    frq_df.index = frq_df.apply(lambda x: \"%s-%s\" % (x.CHROM, x.POS), axis=1)\n",
    "    \n",
    "    loci_df = loci_df.drop(['CHROM','CHR','POS'], axis=1)\n",
    "    loci_df = pd.concat([chrom_pos, loci_df], axis=1)\n",
    "    loci_df.index = loci_df.apply(lambda x: \"%s-%d\" % (x.CHROM, x.POS), axis=1)\n",
    "    \n",
    "    loci_df = pd.concat([loci_df, frq_df, hardy], axis=1)\n",
    "    loci_df[\"A1_allele\"] = loci_df.apply(lambda row: row.A1_FREQ.split(\":\")[0], axis=1)\n",
    "    loci_df[\"A2_allele\"] = loci_df.apply(lambda row: row.A2_FREQ.split(\":\")[0], axis=1)\n",
    "    \n",
    "    loci_df[\"A1_freq\"] = loci_df.apply(lambda row: float(row.A1_FREQ.split(\":\")[1]), axis=1)\n",
    "    loci_df[\"A2_freq\"] = loci_df.apply(lambda row: float(row.A2_FREQ.split(\":\")[1]), axis=1)\n",
    "    \n",
    "    loci_df['MAF'] = loci_df.apply(get_MAF, axis=1)\n",
    "    loci_df = loci_df.drop(['CHROM', 'POS'], axis=1)\n",
    "    \n",
    "    loci_df['Fis'] = loci_df['OBS(HOM1/HET/HOM2)'].apply(calculate_Fis)\n",
    "    \n",
    "    return loci_df, frq_df, hardy"
   ]
  },
  {
   "cell_type": "code",
   "execution_count": 58,
   "metadata": {},
   "outputs": [
    {
     "data": {
      "text/plain": [
       "'/data/gpfs/assoc/denovo/tfaske/sagebrush/SNPcall/AT2/filtering/snps_indv_removed.recode.vcf.gz'"
      ]
     },
     "execution_count": 58,
     "metadata": {},
     "output_type": "execute_result"
    }
   ],
   "source": [
    "vcf_bad_remove_gz"
   ]
  },
  {
   "cell_type": "code",
   "execution_count": 59,
   "metadata": {
    "scrolled": true
   },
   "outputs": [
    {
     "name": "stderr",
     "output_type": "stream",
     "text": [
      "/data/gpfs/assoc/parchmanlab/tfaske/anaconda3/envs/py36/lib/python3.6/site-packages/ipykernel_launcher.py:45: FutureWarning: \n",
      ".ix is deprecated. Please use\n",
      ".loc for label based indexing or\n",
      ".iloc for positional indexing\n",
      "\n",
      "See the documentation here:\n",
      "http://pandas.pydata.org/pandas-docs/stable/user_guide/indexing.html#ix-indexer-is-deprecated\n",
      "/data/gpfs/assoc/parchmanlab/tfaske/anaconda3/envs/py36/lib/python3.6/site-packages/pandas/core/indexing.py:822: FutureWarning: \n",
      ".ix is deprecated. Please use\n",
      ".loc for label based indexing or\n",
      ".iloc for positional indexing\n",
      "\n",
      "See the documentation here:\n",
      "http://pandas.pydata.org/pandas-docs/stable/user_guide/indexing.html#ix-indexer-is-deprecated\n",
      "  retval = getattr(retval, self.name)._getitem_axis(key, axis=i)\n"
     ]
    },
    {
     "name": "stdout",
     "output_type": "stream",
     "text": [
      "RangeIndex(start=0, stop=6, step=1)\n"
     ]
    }
   ],
   "source": [
    "loci_df, frq_df, hardy = combine_vcf_stats(analysis_dir,'snps_indv_removed.recode.vcf.gz')"
   ]
  },
  {
   "cell_type": "code",
   "execution_count": 60,
   "metadata": {},
   "outputs": [
    {
     "data": {
      "text/html": [
       "<div>\n",
       "<style scoped>\n",
       "    .dataframe tbody tr th:only-of-type {\n",
       "        vertical-align: middle;\n",
       "    }\n",
       "\n",
       "    .dataframe tbody tr th {\n",
       "        vertical-align: top;\n",
       "    }\n",
       "\n",
       "    .dataframe thead th {\n",
       "        text-align: right;\n",
       "    }\n",
       "</style>\n",
       "<table border=\"1\" class=\"dataframe\">\n",
       "  <thead>\n",
       "    <tr style=\"text-align: right;\">\n",
       "      <th></th>\n",
       "      <th>SUM_DEPTH</th>\n",
       "      <th>SUMSQ_DEPTH</th>\n",
       "      <th>MEAN_DEPTH</th>\n",
       "      <th>VAR_DEPTH</th>\n",
       "      <th>N_DATA</th>\n",
       "      <th>N_GENOTYPE_FILTERED</th>\n",
       "      <th>N_MISS</th>\n",
       "      <th>F_MISS</th>\n",
       "      <th>QUAL</th>\n",
       "      <th>N_ALLELES</th>\n",
       "      <th>...</th>\n",
       "      <th>ChiSq_HWE</th>\n",
       "      <th>P_HWE</th>\n",
       "      <th>P_HET_DEFICIT</th>\n",
       "      <th>P_HET_EXCESS</th>\n",
       "      <th>A1_allele</th>\n",
       "      <th>A2_allele</th>\n",
       "      <th>A1_freq</th>\n",
       "      <th>A2_freq</th>\n",
       "      <th>MAF</th>\n",
       "      <th>Fis</th>\n",
       "    </tr>\n",
       "  </thead>\n",
       "  <tbody>\n",
       "    <tr>\n",
       "      <th>CM042338.1-22493</th>\n",
       "      <td>1</td>\n",
       "      <td>1</td>\n",
       "      <td>0.004405</td>\n",
       "      <td>0.004405</td>\n",
       "      <td>454</td>\n",
       "      <td>0</td>\n",
       "      <td>0</td>\n",
       "      <td>0</td>\n",
       "      <td>7.82756</td>\n",
       "      <td>2</td>\n",
       "      <td>...</td>\n",
       "      <td>227.000000</td>\n",
       "      <td>1.238848e-67</td>\n",
       "      <td>1.000000e+00</td>\n",
       "      <td>1.238848e-67</td>\n",
       "      <td>C</td>\n",
       "      <td>G</td>\n",
       "      <td>0.500000</td>\n",
       "      <td>0.500000</td>\n",
       "      <td>0.500000</td>\n",
       "      <td>-0.995595</td>\n",
       "    </tr>\n",
       "    <tr>\n",
       "      <th>CM042338.1-59115</th>\n",
       "      <td>148</td>\n",
       "      <td>412</td>\n",
       "      <td>0.651982</td>\n",
       "      <td>1.396050</td>\n",
       "      <td>454</td>\n",
       "      <td>0</td>\n",
       "      <td>0</td>\n",
       "      <td>0</td>\n",
       "      <td>999.00000</td>\n",
       "      <td>2</td>\n",
       "      <td>...</td>\n",
       "      <td>0.588713</td>\n",
       "      <td>1.000000e+00</td>\n",
       "      <td>1.000000e+00</td>\n",
       "      <td>5.860657e-01</td>\n",
       "      <td>A</td>\n",
       "      <td>T</td>\n",
       "      <td>0.048458</td>\n",
       "      <td>0.951542</td>\n",
       "      <td>0.048458</td>\n",
       "      <td>-0.048611</td>\n",
       "    </tr>\n",
       "    <tr>\n",
       "      <th>CM042338.1-97078</th>\n",
       "      <td>0</td>\n",
       "      <td>0</td>\n",
       "      <td>0.000000</td>\n",
       "      <td>0.000000</td>\n",
       "      <td>454</td>\n",
       "      <td>0</td>\n",
       "      <td>0</td>\n",
       "      <td>0</td>\n",
       "      <td>35.79330</td>\n",
       "      <td>2</td>\n",
       "      <td>...</td>\n",
       "      <td>227.000000</td>\n",
       "      <td>1.238848e-67</td>\n",
       "      <td>1.000000e+00</td>\n",
       "      <td>1.238848e-67</td>\n",
       "      <td>T</td>\n",
       "      <td>G</td>\n",
       "      <td>0.500000</td>\n",
       "      <td>0.500000</td>\n",
       "      <td>0.500000</td>\n",
       "      <td>-0.995595</td>\n",
       "    </tr>\n",
       "    <tr>\n",
       "      <th>CM042338.1-106063</th>\n",
       "      <td>6</td>\n",
       "      <td>12</td>\n",
       "      <td>0.026432</td>\n",
       "      <td>0.052396</td>\n",
       "      <td>454</td>\n",
       "      <td>0</td>\n",
       "      <td>0</td>\n",
       "      <td>0</td>\n",
       "      <td>999.00000</td>\n",
       "      <td>2</td>\n",
       "      <td>...</td>\n",
       "      <td>211.348800</td>\n",
       "      <td>3.409456e-60</td>\n",
       "      <td>1.000000e+00</td>\n",
       "      <td>3.396652e-60</td>\n",
       "      <td>T</td>\n",
       "      <td>C</td>\n",
       "      <td>0.504405</td>\n",
       "      <td>0.495595</td>\n",
       "      <td>0.495595</td>\n",
       "      <td>-0.960582</td>\n",
       "    </tr>\n",
       "    <tr>\n",
       "      <th>CM042338.1-126072</th>\n",
       "      <td>229</td>\n",
       "      <td>657</td>\n",
       "      <td>1.008810</td>\n",
       "      <td>1.884880</td>\n",
       "      <td>454</td>\n",
       "      <td>0</td>\n",
       "      <td>0</td>\n",
       "      <td>0</td>\n",
       "      <td>999.00000</td>\n",
       "      <td>2</td>\n",
       "      <td>...</td>\n",
       "      <td>36.975000</td>\n",
       "      <td>5.890363e-07</td>\n",
       "      <td>5.890363e-07</td>\n",
       "      <td>1.000000e+00</td>\n",
       "      <td>C</td>\n",
       "      <td>G</td>\n",
       "      <td>0.887665</td>\n",
       "      <td>0.112335</td>\n",
       "      <td>0.112335</td>\n",
       "      <td>0.404904</td>\n",
       "    </tr>\n",
       "    <tr>\n",
       "      <th>...</th>\n",
       "      <td>...</td>\n",
       "      <td>...</td>\n",
       "      <td>...</td>\n",
       "      <td>...</td>\n",
       "      <td>...</td>\n",
       "      <td>...</td>\n",
       "      <td>...</td>\n",
       "      <td>...</td>\n",
       "      <td>...</td>\n",
       "      <td>...</td>\n",
       "      <td>...</td>\n",
       "      <td>...</td>\n",
       "      <td>...</td>\n",
       "      <td>...</td>\n",
       "      <td>...</td>\n",
       "      <td>...</td>\n",
       "      <td>...</td>\n",
       "      <td>...</td>\n",
       "      <td>...</td>\n",
       "      <td>...</td>\n",
       "      <td>...</td>\n",
       "    </tr>\n",
       "    <tr>\n",
       "      <th>CM042346.1-338265730</th>\n",
       "      <td>75</td>\n",
       "      <td>193</td>\n",
       "      <td>0.330396</td>\n",
       "      <td>0.744337</td>\n",
       "      <td>454</td>\n",
       "      <td>0</td>\n",
       "      <td>0</td>\n",
       "      <td>0</td>\n",
       "      <td>999.00000</td>\n",
       "      <td>2</td>\n",
       "      <td>...</td>\n",
       "      <td>0.028150</td>\n",
       "      <td>1.000000e+00</td>\n",
       "      <td>1.000000e+00</td>\n",
       "      <td>9.779984e-01</td>\n",
       "      <td>T</td>\n",
       "      <td>A</td>\n",
       "      <td>0.988987</td>\n",
       "      <td>0.011013</td>\n",
       "      <td>0.011013</td>\n",
       "      <td>-0.008909</td>\n",
       "    </tr>\n",
       "    <tr>\n",
       "      <th>CM042346.1-338268601</th>\n",
       "      <td>0</td>\n",
       "      <td>0</td>\n",
       "      <td>0.000000</td>\n",
       "      <td>0.000000</td>\n",
       "      <td>454</td>\n",
       "      <td>0</td>\n",
       "      <td>0</td>\n",
       "      <td>0</td>\n",
       "      <td>54.99990</td>\n",
       "      <td>2</td>\n",
       "      <td>...</td>\n",
       "      <td>227.000000</td>\n",
       "      <td>1.238848e-67</td>\n",
       "      <td>1.000000e+00</td>\n",
       "      <td>1.238848e-67</td>\n",
       "      <td>A</td>\n",
       "      <td>G</td>\n",
       "      <td>0.500000</td>\n",
       "      <td>0.500000</td>\n",
       "      <td>0.500000</td>\n",
       "      <td>-0.995595</td>\n",
       "    </tr>\n",
       "    <tr>\n",
       "      <th>CM042346.1-338274068</th>\n",
       "      <td>0</td>\n",
       "      <td>0</td>\n",
       "      <td>0.000000</td>\n",
       "      <td>0.000000</td>\n",
       "      <td>454</td>\n",
       "      <td>0</td>\n",
       "      <td>0</td>\n",
       "      <td>0</td>\n",
       "      <td>7.82756</td>\n",
       "      <td>2</td>\n",
       "      <td>...</td>\n",
       "      <td>227.000000</td>\n",
       "      <td>1.238848e-67</td>\n",
       "      <td>1.000000e+00</td>\n",
       "      <td>1.238848e-67</td>\n",
       "      <td>G</td>\n",
       "      <td>T</td>\n",
       "      <td>0.500000</td>\n",
       "      <td>0.500000</td>\n",
       "      <td>0.500000</td>\n",
       "      <td>-0.995595</td>\n",
       "    </tr>\n",
       "    <tr>\n",
       "      <th>CM042346.1-338287589</th>\n",
       "      <td>0</td>\n",
       "      <td>0</td>\n",
       "      <td>0.000000</td>\n",
       "      <td>0.000000</td>\n",
       "      <td>454</td>\n",
       "      <td>0</td>\n",
       "      <td>0</td>\n",
       "      <td>0</td>\n",
       "      <td>5.49146</td>\n",
       "      <td>2</td>\n",
       "      <td>...</td>\n",
       "      <td>227.000000</td>\n",
       "      <td>1.238848e-67</td>\n",
       "      <td>1.000000e+00</td>\n",
       "      <td>1.238848e-67</td>\n",
       "      <td>G</td>\n",
       "      <td>A</td>\n",
       "      <td>0.500000</td>\n",
       "      <td>0.500000</td>\n",
       "      <td>0.500000</td>\n",
       "      <td>-0.995595</td>\n",
       "    </tr>\n",
       "    <tr>\n",
       "      <th>CM042346.1-338287789</th>\n",
       "      <td>0</td>\n",
       "      <td>0</td>\n",
       "      <td>0.000000</td>\n",
       "      <td>0.000000</td>\n",
       "      <td>454</td>\n",
       "      <td>0</td>\n",
       "      <td>0</td>\n",
       "      <td>0</td>\n",
       "      <td>7.01028</td>\n",
       "      <td>2</td>\n",
       "      <td>...</td>\n",
       "      <td>227.000000</td>\n",
       "      <td>1.238848e-67</td>\n",
       "      <td>1.000000e+00</td>\n",
       "      <td>1.238848e-67</td>\n",
       "      <td>G</td>\n",
       "      <td>A</td>\n",
       "      <td>0.500000</td>\n",
       "      <td>0.500000</td>\n",
       "      <td>0.500000</td>\n",
       "      <td>-0.995595</td>\n",
       "    </tr>\n",
       "  </tbody>\n",
       "</table>\n",
       "<p>477316 rows × 25 columns</p>\n",
       "</div>"
      ],
      "text/plain": [
       "                      SUM_DEPTH  SUMSQ_DEPTH  MEAN_DEPTH  VAR_DEPTH  N_DATA  \\\n",
       "CM042338.1-22493              1            1    0.004405   0.004405     454   \n",
       "CM042338.1-59115            148          412    0.651982   1.396050     454   \n",
       "CM042338.1-97078              0            0    0.000000   0.000000     454   \n",
       "CM042338.1-106063             6           12    0.026432   0.052396     454   \n",
       "CM042338.1-126072           229          657    1.008810   1.884880     454   \n",
       "...                         ...          ...         ...        ...     ...   \n",
       "CM042346.1-338265730         75          193    0.330396   0.744337     454   \n",
       "CM042346.1-338268601          0            0    0.000000   0.000000     454   \n",
       "CM042346.1-338274068          0            0    0.000000   0.000000     454   \n",
       "CM042346.1-338287589          0            0    0.000000   0.000000     454   \n",
       "CM042346.1-338287789          0            0    0.000000   0.000000     454   \n",
       "\n",
       "                      N_GENOTYPE_FILTERED  N_MISS  F_MISS       QUAL  \\\n",
       "CM042338.1-22493                        0       0       0    7.82756   \n",
       "CM042338.1-59115                        0       0       0  999.00000   \n",
       "CM042338.1-97078                        0       0       0   35.79330   \n",
       "CM042338.1-106063                       0       0       0  999.00000   \n",
       "CM042338.1-126072                       0       0       0  999.00000   \n",
       "...                                   ...     ...     ...        ...   \n",
       "CM042346.1-338265730                    0       0       0  999.00000   \n",
       "CM042346.1-338268601                    0       0       0   54.99990   \n",
       "CM042346.1-338274068                    0       0       0    7.82756   \n",
       "CM042346.1-338287589                    0       0       0    5.49146   \n",
       "CM042346.1-338287789                    0       0       0    7.01028   \n",
       "\n",
       "                     N_ALLELES  ...   ChiSq_HWE         P_HWE P_HET_DEFICIT  \\\n",
       "CM042338.1-22493             2  ...  227.000000  1.238848e-67  1.000000e+00   \n",
       "CM042338.1-59115             2  ...    0.588713  1.000000e+00  1.000000e+00   \n",
       "CM042338.1-97078             2  ...  227.000000  1.238848e-67  1.000000e+00   \n",
       "CM042338.1-106063            2  ...  211.348800  3.409456e-60  1.000000e+00   \n",
       "CM042338.1-126072            2  ...   36.975000  5.890363e-07  5.890363e-07   \n",
       "...                        ...  ...         ...           ...           ...   \n",
       "CM042346.1-338265730         2  ...    0.028150  1.000000e+00  1.000000e+00   \n",
       "CM042346.1-338268601         2  ...  227.000000  1.238848e-67  1.000000e+00   \n",
       "CM042346.1-338274068         2  ...  227.000000  1.238848e-67  1.000000e+00   \n",
       "CM042346.1-338287589         2  ...  227.000000  1.238848e-67  1.000000e+00   \n",
       "CM042346.1-338287789         2  ...  227.000000  1.238848e-67  1.000000e+00   \n",
       "\n",
       "                      P_HET_EXCESS A1_allele  A2_allele   A1_freq   A2_freq  \\\n",
       "CM042338.1-22493      1.238848e-67         C          G  0.500000  0.500000   \n",
       "CM042338.1-59115      5.860657e-01         A          T  0.048458  0.951542   \n",
       "CM042338.1-97078      1.238848e-67         T          G  0.500000  0.500000   \n",
       "CM042338.1-106063     3.396652e-60         T          C  0.504405  0.495595   \n",
       "CM042338.1-126072     1.000000e+00         C          G  0.887665  0.112335   \n",
       "...                            ...       ...        ...       ...       ...   \n",
       "CM042346.1-338265730  9.779984e-01         T          A  0.988987  0.011013   \n",
       "CM042346.1-338268601  1.238848e-67         A          G  0.500000  0.500000   \n",
       "CM042346.1-338274068  1.238848e-67         G          T  0.500000  0.500000   \n",
       "CM042346.1-338287589  1.238848e-67         G          A  0.500000  0.500000   \n",
       "CM042346.1-338287789  1.238848e-67         G          A  0.500000  0.500000   \n",
       "\n",
       "                           MAF       Fis  \n",
       "CM042338.1-22493      0.500000 -0.995595  \n",
       "CM042338.1-59115      0.048458 -0.048611  \n",
       "CM042338.1-97078      0.500000 -0.995595  \n",
       "CM042338.1-106063     0.495595 -0.960582  \n",
       "CM042338.1-126072     0.112335  0.404904  \n",
       "...                        ...       ...  \n",
       "CM042346.1-338265730  0.011013 -0.008909  \n",
       "CM042346.1-338268601  0.500000 -0.995595  \n",
       "CM042346.1-338274068  0.500000 -0.995595  \n",
       "CM042346.1-338287589  0.500000 -0.995595  \n",
       "CM042346.1-338287789  0.500000 -0.995595  \n",
       "\n",
       "[477316 rows x 25 columns]"
      ]
     },
     "execution_count": 60,
     "metadata": {},
     "output_type": "execute_result"
    }
   ],
   "source": [
    "loci_df"
   ]
  },
  {
   "cell_type": "code",
   "execution_count": 61,
   "metadata": {},
   "outputs": [
    {
     "data": {
      "text/html": [
       "<div>\n",
       "<style scoped>\n",
       "    .dataframe tbody tr th:only-of-type {\n",
       "        vertical-align: middle;\n",
       "    }\n",
       "\n",
       "    .dataframe tbody tr th {\n",
       "        vertical-align: top;\n",
       "    }\n",
       "\n",
       "    .dataframe thead th {\n",
       "        text-align: right;\n",
       "    }\n",
       "</style>\n",
       "<table border=\"1\" class=\"dataframe\">\n",
       "  <thead>\n",
       "    <tr style=\"text-align: right;\">\n",
       "      <th></th>\n",
       "      <th>CHROM</th>\n",
       "      <th>POS</th>\n",
       "      <th>N_ALLELES</th>\n",
       "      <th>N_CHR</th>\n",
       "      <th>A1_FREQ</th>\n",
       "      <th>A2_FREQ</th>\n",
       "    </tr>\n",
       "  </thead>\n",
       "  <tbody>\n",
       "    <tr>\n",
       "      <th>CM042338.1-22493</th>\n",
       "      <td>CM042338.1</td>\n",
       "      <td>22493</td>\n",
       "      <td>2</td>\n",
       "      <td>454</td>\n",
       "      <td>C:0.5</td>\n",
       "      <td>G:0.5</td>\n",
       "    </tr>\n",
       "    <tr>\n",
       "      <th>CM042338.1-59115</th>\n",
       "      <td>CM042338.1</td>\n",
       "      <td>59115</td>\n",
       "      <td>2</td>\n",
       "      <td>454</td>\n",
       "      <td>A:0.0484581</td>\n",
       "      <td>T:0.951542</td>\n",
       "    </tr>\n",
       "    <tr>\n",
       "      <th>CM042338.1-97078</th>\n",
       "      <td>CM042338.1</td>\n",
       "      <td>97078</td>\n",
       "      <td>2</td>\n",
       "      <td>454</td>\n",
       "      <td>T:0.5</td>\n",
       "      <td>G:0.5</td>\n",
       "    </tr>\n",
       "    <tr>\n",
       "      <th>CM042338.1-106063</th>\n",
       "      <td>CM042338.1</td>\n",
       "      <td>106063</td>\n",
       "      <td>2</td>\n",
       "      <td>454</td>\n",
       "      <td>T:0.504405</td>\n",
       "      <td>C:0.495595</td>\n",
       "    </tr>\n",
       "    <tr>\n",
       "      <th>CM042338.1-126072</th>\n",
       "      <td>CM042338.1</td>\n",
       "      <td>126072</td>\n",
       "      <td>2</td>\n",
       "      <td>454</td>\n",
       "      <td>C:0.887665</td>\n",
       "      <td>G:0.112335</td>\n",
       "    </tr>\n",
       "    <tr>\n",
       "      <th>...</th>\n",
       "      <td>...</td>\n",
       "      <td>...</td>\n",
       "      <td>...</td>\n",
       "      <td>...</td>\n",
       "      <td>...</td>\n",
       "      <td>...</td>\n",
       "    </tr>\n",
       "    <tr>\n",
       "      <th>CM042346.1-338265730</th>\n",
       "      <td>CM042346.1</td>\n",
       "      <td>338265730</td>\n",
       "      <td>2</td>\n",
       "      <td>454</td>\n",
       "      <td>T:0.988987</td>\n",
       "      <td>A:0.0110132</td>\n",
       "    </tr>\n",
       "    <tr>\n",
       "      <th>CM042346.1-338268601</th>\n",
       "      <td>CM042346.1</td>\n",
       "      <td>338268601</td>\n",
       "      <td>2</td>\n",
       "      <td>454</td>\n",
       "      <td>A:0.5</td>\n",
       "      <td>G:0.5</td>\n",
       "    </tr>\n",
       "    <tr>\n",
       "      <th>CM042346.1-338274068</th>\n",
       "      <td>CM042346.1</td>\n",
       "      <td>338274068</td>\n",
       "      <td>2</td>\n",
       "      <td>454</td>\n",
       "      <td>G:0.5</td>\n",
       "      <td>T:0.5</td>\n",
       "    </tr>\n",
       "    <tr>\n",
       "      <th>CM042346.1-338287589</th>\n",
       "      <td>CM042346.1</td>\n",
       "      <td>338287589</td>\n",
       "      <td>2</td>\n",
       "      <td>454</td>\n",
       "      <td>G:0.5</td>\n",
       "      <td>A:0.5</td>\n",
       "    </tr>\n",
       "    <tr>\n",
       "      <th>CM042346.1-338287789</th>\n",
       "      <td>CM042346.1</td>\n",
       "      <td>338287789</td>\n",
       "      <td>2</td>\n",
       "      <td>454</td>\n",
       "      <td>G:0.5</td>\n",
       "      <td>A:0.5</td>\n",
       "    </tr>\n",
       "  </tbody>\n",
       "</table>\n",
       "<p>477316 rows × 6 columns</p>\n",
       "</div>"
      ],
      "text/plain": [
       "                           CHROM        POS N_ALLELES N_CHR      A1_FREQ  \\\n",
       "CM042338.1-22493      CM042338.1      22493         2   454        C:0.5   \n",
       "CM042338.1-59115      CM042338.1      59115         2   454  A:0.0484581   \n",
       "CM042338.1-97078      CM042338.1      97078         2   454        T:0.5   \n",
       "CM042338.1-106063     CM042338.1     106063         2   454   T:0.504405   \n",
       "CM042338.1-126072     CM042338.1     126072         2   454   C:0.887665   \n",
       "...                          ...        ...       ...   ...          ...   \n",
       "CM042346.1-338265730  CM042346.1  338265730         2   454   T:0.988987   \n",
       "CM042346.1-338268601  CM042346.1  338268601         2   454        A:0.5   \n",
       "CM042346.1-338274068  CM042346.1  338274068         2   454        G:0.5   \n",
       "CM042346.1-338287589  CM042346.1  338287589         2   454        G:0.5   \n",
       "CM042346.1-338287789  CM042346.1  338287789         2   454        G:0.5   \n",
       "\n",
       "                          A2_FREQ  \n",
       "CM042338.1-22493            G:0.5  \n",
       "CM042338.1-59115       T:0.951542  \n",
       "CM042338.1-97078            G:0.5  \n",
       "CM042338.1-106063      C:0.495595  \n",
       "CM042338.1-126072      G:0.112335  \n",
       "...                           ...  \n",
       "CM042346.1-338265730  A:0.0110132  \n",
       "CM042346.1-338268601        G:0.5  \n",
       "CM042346.1-338274068        T:0.5  \n",
       "CM042346.1-338287589        A:0.5  \n",
       "CM042346.1-338287789        A:0.5  \n",
       "\n",
       "[477316 rows x 6 columns]"
      ]
     },
     "execution_count": 61,
     "metadata": {},
     "output_type": "execute_result"
    }
   ],
   "source": [
    "frq_df"
   ]
  },
  {
   "cell_type": "code",
   "execution_count": 62,
   "metadata": {},
   "outputs": [
    {
     "data": {
      "text/html": [
       "<div>\n",
       "<style scoped>\n",
       "    .dataframe tbody tr th:only-of-type {\n",
       "        vertical-align: middle;\n",
       "    }\n",
       "\n",
       "    .dataframe tbody tr th {\n",
       "        vertical-align: top;\n",
       "    }\n",
       "\n",
       "    .dataframe thead th {\n",
       "        text-align: right;\n",
       "    }\n",
       "</style>\n",
       "<table border=\"1\" class=\"dataframe\">\n",
       "  <thead>\n",
       "    <tr style=\"text-align: right;\">\n",
       "      <th></th>\n",
       "      <th>CHROM</th>\n",
       "      <th>POS</th>\n",
       "      <th>OBS(HOM1/HET/HOM2)</th>\n",
       "      <th>E(HOM1/HET/HOM2)</th>\n",
       "      <th>ChiSq_HWE</th>\n",
       "      <th>P_HWE</th>\n",
       "      <th>P_HET_DEFICIT</th>\n",
       "      <th>P_HET_EXCESS</th>\n",
       "    </tr>\n",
       "  </thead>\n",
       "  <tbody>\n",
       "    <tr>\n",
       "      <th>CM042338.1-22493</th>\n",
       "      <td>CM042338.1</td>\n",
       "      <td>22493</td>\n",
       "      <td>0/227/0</td>\n",
       "      <td>56.75/113.50/56.75</td>\n",
       "      <td>227.000000</td>\n",
       "      <td>1.238848e-67</td>\n",
       "      <td>1.000000e+00</td>\n",
       "      <td>1.238848e-67</td>\n",
       "    </tr>\n",
       "    <tr>\n",
       "      <th>CM042338.1-59115</th>\n",
       "      <td>CM042338.1</td>\n",
       "      <td>59115</td>\n",
       "      <td>0/22/205</td>\n",
       "      <td>0.53/20.93/205.53</td>\n",
       "      <td>0.588713</td>\n",
       "      <td>1.000000e+00</td>\n",
       "      <td>1.000000e+00</td>\n",
       "      <td>5.860657e-01</td>\n",
       "    </tr>\n",
       "    <tr>\n",
       "      <th>CM042338.1-97078</th>\n",
       "      <td>CM042338.1</td>\n",
       "      <td>97078</td>\n",
       "      <td>0/227/0</td>\n",
       "      <td>56.75/113.50/56.75</td>\n",
       "      <td>227.000000</td>\n",
       "      <td>1.238848e-67</td>\n",
       "      <td>1.000000e+00</td>\n",
       "      <td>1.238848e-67</td>\n",
       "    </tr>\n",
       "    <tr>\n",
       "      <th>CM042338.1-106063</th>\n",
       "      <td>CM042338.1</td>\n",
       "      <td>106063</td>\n",
       "      <td>3/223/1</td>\n",
       "      <td>57.75/113.49/55.75</td>\n",
       "      <td>211.348800</td>\n",
       "      <td>3.409456e-60</td>\n",
       "      <td>1.000000e+00</td>\n",
       "      <td>3.396652e-60</td>\n",
       "    </tr>\n",
       "    <tr>\n",
       "      <th>CM042338.1-126072</th>\n",
       "      <td>CM042338.1</td>\n",
       "      <td>126072</td>\n",
       "      <td>188/27/12</td>\n",
       "      <td>178.86/45.27/2.86</td>\n",
       "      <td>36.975000</td>\n",
       "      <td>5.890363e-07</td>\n",
       "      <td>5.890363e-07</td>\n",
       "      <td>1.000000e+00</td>\n",
       "    </tr>\n",
       "    <tr>\n",
       "      <th>...</th>\n",
       "      <td>...</td>\n",
       "      <td>...</td>\n",
       "      <td>...</td>\n",
       "      <td>...</td>\n",
       "      <td>...</td>\n",
       "      <td>...</td>\n",
       "      <td>...</td>\n",
       "      <td>...</td>\n",
       "    </tr>\n",
       "    <tr>\n",
       "      <th>CM042346.1-338265730</th>\n",
       "      <td>CM042346.1</td>\n",
       "      <td>338265730</td>\n",
       "      <td>222/5/0</td>\n",
       "      <td>222.03/4.94/0.03</td>\n",
       "      <td>0.028150</td>\n",
       "      <td>1.000000e+00</td>\n",
       "      <td>1.000000e+00</td>\n",
       "      <td>9.779984e-01</td>\n",
       "    </tr>\n",
       "    <tr>\n",
       "      <th>CM042346.1-338268601</th>\n",
       "      <td>CM042346.1</td>\n",
       "      <td>338268601</td>\n",
       "      <td>0/227/0</td>\n",
       "      <td>56.75/113.50/56.75</td>\n",
       "      <td>227.000000</td>\n",
       "      <td>1.238848e-67</td>\n",
       "      <td>1.000000e+00</td>\n",
       "      <td>1.238848e-67</td>\n",
       "    </tr>\n",
       "    <tr>\n",
       "      <th>CM042346.1-338274068</th>\n",
       "      <td>CM042346.1</td>\n",
       "      <td>338274068</td>\n",
       "      <td>0/227/0</td>\n",
       "      <td>56.75/113.50/56.75</td>\n",
       "      <td>227.000000</td>\n",
       "      <td>1.238848e-67</td>\n",
       "      <td>1.000000e+00</td>\n",
       "      <td>1.238848e-67</td>\n",
       "    </tr>\n",
       "    <tr>\n",
       "      <th>CM042346.1-338287589</th>\n",
       "      <td>CM042346.1</td>\n",
       "      <td>338287589</td>\n",
       "      <td>0/227/0</td>\n",
       "      <td>56.75/113.50/56.75</td>\n",
       "      <td>227.000000</td>\n",
       "      <td>1.238848e-67</td>\n",
       "      <td>1.000000e+00</td>\n",
       "      <td>1.238848e-67</td>\n",
       "    </tr>\n",
       "    <tr>\n",
       "      <th>CM042346.1-338287789</th>\n",
       "      <td>CM042346.1</td>\n",
       "      <td>338287789</td>\n",
       "      <td>0/227/0</td>\n",
       "      <td>56.75/113.50/56.75</td>\n",
       "      <td>227.000000</td>\n",
       "      <td>1.238848e-67</td>\n",
       "      <td>1.000000e+00</td>\n",
       "      <td>1.238848e-67</td>\n",
       "    </tr>\n",
       "  </tbody>\n",
       "</table>\n",
       "<p>477316 rows × 8 columns</p>\n",
       "</div>"
      ],
      "text/plain": [
       "                           CHROM        POS OBS(HOM1/HET/HOM2)  \\\n",
       "CM042338.1-22493      CM042338.1      22493            0/227/0   \n",
       "CM042338.1-59115      CM042338.1      59115           0/22/205   \n",
       "CM042338.1-97078      CM042338.1      97078            0/227/0   \n",
       "CM042338.1-106063     CM042338.1     106063            3/223/1   \n",
       "CM042338.1-126072     CM042338.1     126072          188/27/12   \n",
       "...                          ...        ...                ...   \n",
       "CM042346.1-338265730  CM042346.1  338265730            222/5/0   \n",
       "CM042346.1-338268601  CM042346.1  338268601            0/227/0   \n",
       "CM042346.1-338274068  CM042346.1  338274068            0/227/0   \n",
       "CM042346.1-338287589  CM042346.1  338287589            0/227/0   \n",
       "CM042346.1-338287789  CM042346.1  338287789            0/227/0   \n",
       "\n",
       "                        E(HOM1/HET/HOM2)   ChiSq_HWE         P_HWE  \\\n",
       "CM042338.1-22493      56.75/113.50/56.75  227.000000  1.238848e-67   \n",
       "CM042338.1-59115       0.53/20.93/205.53    0.588713  1.000000e+00   \n",
       "CM042338.1-97078      56.75/113.50/56.75  227.000000  1.238848e-67   \n",
       "CM042338.1-106063     57.75/113.49/55.75  211.348800  3.409456e-60   \n",
       "CM042338.1-126072      178.86/45.27/2.86   36.975000  5.890363e-07   \n",
       "...                                  ...         ...           ...   \n",
       "CM042346.1-338265730    222.03/4.94/0.03    0.028150  1.000000e+00   \n",
       "CM042346.1-338268601  56.75/113.50/56.75  227.000000  1.238848e-67   \n",
       "CM042346.1-338274068  56.75/113.50/56.75  227.000000  1.238848e-67   \n",
       "CM042346.1-338287589  56.75/113.50/56.75  227.000000  1.238848e-67   \n",
       "CM042346.1-338287789  56.75/113.50/56.75  227.000000  1.238848e-67   \n",
       "\n",
       "                      P_HET_DEFICIT  P_HET_EXCESS  \n",
       "CM042338.1-22493       1.000000e+00  1.238848e-67  \n",
       "CM042338.1-59115       1.000000e+00  5.860657e-01  \n",
       "CM042338.1-97078       1.000000e+00  1.238848e-67  \n",
       "CM042338.1-106063      1.000000e+00  3.396652e-60  \n",
       "CM042338.1-126072      5.890363e-07  1.000000e+00  \n",
       "...                             ...           ...  \n",
       "CM042346.1-338265730   1.000000e+00  9.779984e-01  \n",
       "CM042346.1-338268601   1.000000e+00  1.238848e-67  \n",
       "CM042346.1-338274068   1.000000e+00  1.238848e-67  \n",
       "CM042346.1-338287589   1.000000e+00  1.238848e-67  \n",
       "CM042346.1-338287789   1.000000e+00  1.238848e-67  \n",
       "\n",
       "[477316 rows x 8 columns]"
      ]
     },
     "execution_count": 62,
     "metadata": {},
     "output_type": "execute_result"
    }
   ],
   "source": [
    "hardy"
   ]
  },
  {
   "cell_type": "code",
   "execution_count": 63,
   "metadata": {},
   "outputs": [],
   "source": [
    "loci_out = os.path.join(analysis_dir,'loci_out.csv')\n",
    "frq_out = os.path.join(analysis_dir,'frq_out.csv')\n",
    "hardy_out = os.path.join(analysis_dir,'hardy_out.csv')\n",
    "\n",
    "loci_df.to_csv(path_or_buf=loci_out)\n",
    "frq_df.to_csv(path_or_buf=frq_out)\n",
    "hardy.to_csv(path_or_buf=hardy_out)\n"
   ]
  },
  {
   "cell_type": "code",
   "execution_count": 64,
   "metadata": {},
   "outputs": [
    {
     "data": {
      "text/plain": [
       "count    477316.000000\n",
       "mean         62.511384\n",
       "std         227.943165\n",
       "min           0.000000\n",
       "25%           0.000000\n",
       "50%           1.000000\n",
       "75%          10.000000\n",
       "max       52511.000000\n",
       "Name: SUM_DEPTH, dtype: float64"
      ]
     },
     "execution_count": 64,
     "metadata": {},
     "output_type": "execute_result"
    }
   ],
   "source": [
    "loci_df.SUM_DEPTH.describe()"
   ]
  },
  {
   "cell_type": "code",
   "execution_count": 65,
   "metadata": {},
   "outputs": [
    {
     "data": {
      "text/plain": [
       "count    477316.000000\n",
       "mean          0.275381\n",
       "std           1.004155\n",
       "min           0.000000\n",
       "25%           0.000000\n",
       "50%           0.004405\n",
       "75%           0.044053\n",
       "max         231.326000\n",
       "Name: MEAN_DEPTH, dtype: float64"
      ]
     },
     "execution_count": 65,
     "metadata": {},
     "output_type": "execute_result"
    }
   ],
   "source": [
    "loci_df.MEAN_DEPTH.describe()"
   ]
  },
  {
   "cell_type": "code",
   "execution_count": 66,
   "metadata": {},
   "outputs": [
    {
     "data": {
      "text/plain": [
       "count    477316.000000\n",
       "mean        286.072864\n",
       "std         433.694289\n",
       "min           3.127520\n",
       "25%           7.827560\n",
       "50%          26.049500\n",
       "75%         999.000000\n",
       "max         999.000000\n",
       "Name: QUAL, dtype: float64"
      ]
     },
     "execution_count": 66,
     "metadata": {},
     "output_type": "execute_result"
    }
   ],
   "source": [
    "loci_df.QUAL.describe()"
   ]
  },
  {
   "cell_type": "code",
   "execution_count": 67,
   "metadata": {
    "scrolled": true
   },
   "outputs": [
    {
     "data": {
      "image/png": "[encoded data removed]",
      "text/plain": [
       "<Figure size 432x288 with 1 Axes>"
      ]
     },
     "metadata": {
      "image/png": {
       "height": 249,
       "width": 408
      },
      "needs_background": "light"
     },
     "output_type": "display_data"
    }
   ],
   "source": [
    "loci_df.QUAL.plot(kind=\"hist\");"
   ]
  },
  {
   "cell_type": "code",
   "execution_count": 68,
   "metadata": {},
   "outputs": [
    {
     "data": {
      "image/png": "[encoded data removed]",
      "text/plain": [
       "<Figure size 432x288 with 1 Axes>"
      ]
     },
     "metadata": {
      "image/png": {
       "height": 251,
       "width": 408
      },
      "needs_background": "light"
     },
     "output_type": "display_data"
    }
   ],
   "source": [
    "loci_df.MEAN_DEPTH.plot(kind=\"hist\");"
   ]
  },
  {
   "cell_type": "code",
   "execution_count": 69,
   "metadata": {},
   "outputs": [
    {
     "data": {
      "text/plain": [
       "0"
      ]
     },
     "execution_count": 69,
     "metadata": {},
     "output_type": "execute_result"
    }
   ],
   "source": [
    "len(loci_df[loci_df.Fis == -9])"
   ]
  },
  {
   "cell_type": "code",
   "execution_count": 70,
   "metadata": {},
   "outputs": [
    {
     "data": {
      "text/plain": [
       "(477300, 52682)"
      ]
     },
     "execution_count": 70,
     "metadata": {},
     "output_type": "execute_result"
    }
   ],
   "source": [
    "len(loci_df[loci_df.SUM_DEPTH <5000]),len(loci_df[loci_df.SUM_DEPTH >=200])"
   ]
  },
  {
   "cell_type": "code",
   "execution_count": 72,
   "metadata": {},
   "outputs": [
    {
     "data": {
      "text/plain": [
       "(13, 47152)"
      ]
     },
     "execution_count": 72,
     "metadata": {},
     "output_type": "execute_result"
    }
   ],
   "source": [
    "len(loci_df[loci_df.MEAN_DEPTH > 30 ]),len(loci_df[loci_df.MEAN_DEPTH >= 1])"
   ]
  },
  {
   "cell_type": "code",
   "execution_count": 73,
   "metadata": {},
   "outputs": [
    {
     "data": {
      "text/plain": [
       "14543"
      ]
     },
     "execution_count": 73,
     "metadata": {},
     "output_type": "execute_result"
    }
   ],
   "source": [
    "len(loci_df[loci_df.QUAL >= 20]) - len(loci_df[loci_df.QUAL >= 30])"
   ]
  },
  {
   "cell_type": "code",
   "execution_count": 74,
   "metadata": {},
   "outputs": [
    {
     "data": {
      "text/plain": [
       "(246566, 177748, 140542)"
      ]
     },
     "execution_count": 74,
     "metadata": {},
     "output_type": "execute_result"
    }
   ],
   "source": [
    "len(loci_df[loci_df.QUAL >  20]), len(loci_df[loci_df.QUAL > 50]), len(loci_df[loci_df.QUAL > 100])"
   ]
  },
  {
   "cell_type": "code",
   "execution_count": 76,
   "metadata": {},
   "outputs": [
    {
     "data": {
      "text/plain": [
       "(100086, 508)"
      ]
     },
     "execution_count": 76,
     "metadata": {},
     "output_type": "execute_result"
    }
   ],
   "source": [
    " len(loci_df[loci_df.Fis >= -0.5]), len(loci_df[loci_df.MAF < 0.01])"
   ]
  },
  {
   "cell_type": "code",
   "execution_count": 81,
   "metadata": {},
   "outputs": [],
   "source": [
    "def filter_snps(df, imputed=False):\n",
    "    if imputed:\n",
    "        return df[(df.MAF >= 0.01) &  \n",
    "                  (df.Fis > -0.5)]\n",
    "    else:\n",
    "        return df[(df.MEAN_DEPTH >= 1) & \n",
    "                  (df.MEAN_DEPTH < 30) & \n",
    "                  (df.QUAL >= 100) & \n",
    "                  (df.MAF >= 0.01) &\n",
    "                  (df.Fis >= -0.5)]"
   ]
  },
  {
   "cell_type": "code",
   "execution_count": 82,
   "metadata": {},
   "outputs": [
    {
     "data": {
      "text/plain": [
       "(45387, 25)"
      ]
     },
     "execution_count": 82,
     "metadata": {},
     "output_type": "execute_result"
    }
   ],
   "source": [
    "loci_stage1 = filter_snps(loci_df)\n",
    "loci_stage1.shape"
   ]
  },
  {
   "cell_type": "code",
   "execution_count": 83,
   "metadata": {},
   "outputs": [],
   "source": [
    "with open(os.path.join(analysis_dir, \"stage1_positions.txt\"), \"w\") as o:\n",
    "    for elem in loci_stage1.index:\n",
    "        o.write(\"%s\\n\" % \"\\t\".join(elem.split(\"-\")))"
   ]
  },
  {
   "cell_type": "code",
   "execution_count": 84,
   "metadata": {
    "run_control": {
     "marked": false
    }
   },
   "outputs": [
    {
     "name": "stdout",
     "output_type": "stream",
     "text": [
      "\n",
      "VCFtools - 0.1.16\n",
      "(C) Adam Auton and Anthony Marcketta 2009\n",
      "\n",
      "Parameters as interpreted:\n",
      "\t--gzvcf /data/gpfs/assoc/denovo/tfaske/sagebrush/SNPcall/AT2/filtering/snps_indv_removed.recode.vcf.gz\n",
      "\t--recode-INFO-all\n",
      "\t--out /data/gpfs/assoc/denovo/tfaske/sagebrush/SNPcall/AT2/filtering/good_snps\n",
      "\t--positions /data/gpfs/assoc/denovo/tfaske/sagebrush/SNPcall/AT2/filtering/stage1_positions.txt\n",
      "\t--recode\n",
      "\t--remove-filtered-all\n",
      "\t--remove-indels\n",
      "\n",
      "Using zlib version: 1.2.11\n",
      "Warning: Expected at least 2 parts in INFO entry: ID=PV4,Number=4,Type=Float,Description=\"P-values for strand bias, baseQ bias, mapQ bias and tail distance bias\">\n",
      "Warning: Expected at least 2 parts in INFO entry: ID=PV4,Number=4,Type=Float,Description=\"P-values for strand bias, baseQ bias, mapQ bias and tail distance bias\">\n",
      "Warning: Expected at least 2 parts in INFO entry: ID=DP4,Number=4,Type=Integer,Description=\"Number of high-quality ref-forward , ref-reverse, alt-forward and alt-reverse bases\">\n",
      "Warning: Expected at least 2 parts in INFO entry: ID=DP4,Number=4,Type=Integer,Description=\"Number of high-quality ref-forward , ref-reverse, alt-forward and alt-reverse bases\">\n",
      "After filtering, kept 227 out of 227 Individuals\n",
      "Outputting VCF file...\n",
      "After filtering, kept 45387 out of a possible 477316 Sites\n",
      "Run Time = 27.00 seconds\n"
     ]
    }
   ],
   "source": [
    "!$vcftools --gzvcf $vcf_bad_remove_gz \\\n",
    "--remove-indels  \\\n",
    "--remove-filtered-all \\\n",
    "--recode \\\n",
    "--recode-INFO-all \\\n",
    "--positions {os.path.join(analysis_dir, \"stage1_positions.txt\")} \\\n",
    "--out {os.path.join(analysis_dir, \"good_snps\")}"
   ]
  },
  {
   "cell_type": "code",
   "execution_count": 85,
   "metadata": {},
   "outputs": [],
   "source": [
    "snps = os.path.join(analysis_dir, \"good_snps.recode.vcf\")\n",
    "snps_gz = snps + \".gz\"\n",
    "!$bgzip -c {snps} > {snps_gz}\n",
    "!$tabix {snps_gz}"
   ]
  },
  {
   "cell_type": "markdown",
   "metadata": {},
   "source": [
    "### Miss indv!"
   ]
  },
  {
   "cell_type": "code",
   "execution_count": 70,
   "metadata": {},
   "outputs": [],
   "source": [
    "%%R\n",
    "vcf <- read.vcfR(\"good_snps.recode.vcf\", verbose = FALSE)\n",
    "\n",
    "#get positions\n",
    "chrom <- getCHROM(vcf)\n",
    "pos <- getPOS(vcf)\n",
    "pos_ID <- paste(chrom,pos,sep = ':')"
   ]
  },
  {
   "cell_type": "code",
   "execution_count": 71,
   "metadata": {},
   "outputs": [],
   "source": [
    "%%R\n",
    "#get DP \n",
    "dp <- extract.gt(vcf, element = 'DP')"
   ]
  },
  {
   "cell_type": "code",
   "execution_count": 72,
   "metadata": {},
   "outputs": [
    {
     "name": "stdout",
     "output_type": "stream",
     "text": [
      "[1] 9973\n",
      " [1] \"CM042338.1:1496832\"  \"CM042338.1:6087026\"  \"CM042338.1:7214312\" \n",
      " [4] \"CM042338.1:7629194\"  \"CM042338.1:8076042\"  \"CM042338.1:8530989\" \n",
      " [7] \"CM042338.1:8548932\"  \"CM042338.1:8655617\"  \"CM042338.1:8698319\" \n",
      "[10] \"CM042338.1:10453589\"\n",
      "                   AV2_AN_1 AV2_AN_2 AV2_AN_3 AV2_AN_4 AV2_AN_5\n",
      "CM042338.1_1496832 \"5\"      \"2\"      \"4\"      \"0\"      \"1\"     \n",
      "CM042338.1_6087026 \"2\"      \"1\"      \"3\"      \"1\"      \"3\"     \n",
      "CM042338.1_7214312 \"3\"      \"3\"      \"4\"      \"7\"      \"6\"     \n",
      "CM042338.1_7629194 \"0\"      \"0\"      \"0\"      \"1\"      \"0\"     \n",
      "CM042338.1_8076042 \"2\"      \"1\"      \"6\"      \"1\"      \"0\"     \n"
     ]
    }
   ],
   "source": [
    "%%R\n",
    "## check out PL and pos_ID\n",
    "print(length(pos_ID))\n",
    "print(pos_ID[1:10])\n",
    "dp[1:5,1:5]"
   ]
  },
  {
   "cell_type": "code",
   "execution_count": 73,
   "metadata": {},
   "outputs": [
    {
     "name": "stdout",
     "output_type": "stream",
     "text": [
      "[1] 171\n",
      " [1] \"AV2_AN_1\"  \"AV2_AN_2\"  \"AV2_AN_3\"  \"AV2_AN_4\"  \"AV2_AN_5\"  \"AV2_AN_6\" \n",
      " [7] \"AV2_AN_7\"  \"AV2_AN_8\"  \"AV2_AS_61\" \"AV2_AS_62\"\n"
     ]
    }
   ],
   "source": [
    "%%R\n",
    "ID <- colnames(dp)\n",
    "print(length(ID))\n",
    "print(ID[1:10])"
   ]
  },
  {
   "cell_type": "code",
   "execution_count": 74,
   "metadata": {},
   "outputs": [
    {
     "name": "stdout",
     "output_type": "stream",
     "text": [
      "[1] 171\n",
      "   Min. 1st Qu.  Median    Mean 3rd Qu.    Max. \n",
      " 0.0750  0.1219  0.1681  0.1760  0.2115  0.6503 \n"
     ]
    }
   ],
   "source": [
    "%%R\n",
    "nloci <- nrow(dp)\n",
    "#print(nloci)\n",
    "\n",
    "miss_indv <- apply(dp,2, function(d) length(which(d == \"0\"))/nloci)\n",
    "print(length(miss_indv))\n",
    "print(summary(miss_indv))"
   ]
  },
  {
   "cell_type": "code",
   "execution_count": 75,
   "metadata": {},
   "outputs": [
    {
     "name": "stdout",
     "output_type": "stream",
     "text": [
      "[1] \"number of individuals with greater than 10% missing data.....  159\"\n",
      "[1] \"number of individuals with greater than 20% missing data.....  54\"\n",
      "[1] \"number of individuals with greater than 30% missing data.....  6\"\n",
      "[1] \"number of individuals with greater than 40% missing data.....  2\"\n",
      "[1] \"number of individuals with greater than 50% missing data.....  1\"\n",
      "[1] \"number of individuals with greater than 60% missing data.....  1\"\n",
      "[1] \"number of individuals with greater than 70% missing data.....  0\"\n",
      "[1] \"number of individuals with greater than 80% missing data.....  0\"\n",
      "[1] \"number of individuals with greater than 90% missing data.....  0\"\n"
     ]
    }
   ],
   "source": [
    "%%R\n",
    "for (perc in seq(.1,.9,by=.1)){\n",
    "    print(paste0('number of individuals with greater than ',perc*100,'% missing data.....  ',\n",
    "                 length(which(miss_indv >= perc))))\n",
    "}"
   ]
  },
  {
   "cell_type": "code",
   "execution_count": 76,
   "metadata": {},
   "outputs": [],
   "source": [
    "%%R\n",
    "miss60_indv_df <- data.frame(INDV=ID[which(miss_indv >= .40)])\n",
    "miss60_indv_df\n",
    "write.table(miss60_indv_df,'miss60_indv.txt',quote=F,row.names=F,col.names=T)"
   ]
  },
  {
   "cell_type": "markdown",
   "metadata": {},
   "source": [
    "### use vcftools to remove individuals and loci based off above parameters"
   ]
  },
  {
   "cell_type": "code",
   "execution_count": 77,
   "metadata": {},
   "outputs": [
    {
     "name": "stdout",
     "output_type": "stream",
     "text": [
      "\n",
      "VCFtools - 0.1.16\n",
      "(C) Adam Auton and Anthony Marcketta 2009\n",
      "\n",
      "Parameters as interpreted:\n",
      "\t--gzvcf /data/gpfs/assoc/denovo/tfaske/sagebrush/SNPcall/AV2/filtering/good_snps.recode.vcf.gz\n",
      "\t--remove /data/gpfs/assoc/denovo/tfaske/sagebrush/SNPcall/AV2/filtering/miss60_indv.txt\n",
      "\t--recode-INFO-all\n",
      "\t--out /data/gpfs/assoc/denovo/tfaske/sagebrush/SNPcall/AV2/filtering/final_snps\n",
      "\t--recode\n",
      "\t--remove-filtered-all\n",
      "\n",
      "Using zlib version: 1.2.11\n",
      "Warning: Expected at least 2 parts in INFO entry: ID=PV4,Number=4,Type=Float,Description=\"P-values for strand bias, baseQ bias, mapQ bias and tail distance bias\">\n",
      "Warning: Expected at least 2 parts in INFO entry: ID=PV4,Number=4,Type=Float,Description=\"P-values for strand bias, baseQ bias, mapQ bias and tail distance bias\">\n",
      "Warning: Expected at least 2 parts in INFO entry: ID=DP4,Number=4,Type=Integer,Description=\"Number of high-quality ref-forward , ref-reverse, alt-forward and alt-reverse bases\">\n",
      "Warning: Expected at least 2 parts in INFO entry: ID=DP4,Number=4,Type=Integer,Description=\"Number of high-quality ref-forward , ref-reverse, alt-forward and alt-reverse bases\">\n",
      "Excluding individuals in 'exclude' list\n",
      "After filtering, kept 169 out of 171 Individuals\n",
      "Outputting VCF file...\n",
      "After filtering, kept 9973 out of a possible 9973 Sites\n",
      "Run Time = 5.00 seconds\n"
     ]
    }
   ],
   "source": [
    "!$vcftools --gzvcf $snps_gz \\\n",
    "--remove-filtered-all \\\n",
    "--recode \\\n",
    "--recode-INFO-all \\\n",
    "--remove {os.path.join(analysis_dir, \"miss60_indv.txt\")} \\\n",
    "--out {os.path.join(analysis_dir, \"final_snps\")}"
   ]
  },
  {
   "cell_type": "code",
   "execution_count": 78,
   "metadata": {},
   "outputs": [],
   "source": [
    "final_snps = os.path.join(analysis_dir, \"final_snps.recode.vcf\")\n",
    "final_snps_gz = final_snps + \".gz\"\n",
    "!$bgzip -c {final_snps} > {final_snps_gz}\n",
    "!$tabix {final_snps_gz}"
   ]
  },
  {
   "cell_type": "markdown",
   "metadata": {},
   "source": [
    "# Make 012"
   ]
  },
  {
   "cell_type": "code",
   "execution_count": 79,
   "metadata": {},
   "outputs": [
    {
     "name": "stdout",
     "output_type": "stream",
     "text": [
      "\n",
      "VCFtools - 0.1.16\n",
      "(C) Adam Auton and Anthony Marcketta 2009\n",
      "\n",
      "Parameters as interpreted:\n",
      "\t--gzvcf /data/gpfs/assoc/denovo/tfaske/sagebrush/SNPcall/AV2/filtering/final_snps.recode.vcf\n",
      "\t--012\n",
      "\t--out /data/gpfs/assoc/denovo/tfaske/sagebrush/SNPcall/AV2/filtering/final_snps.recode.vcf\n",
      "\n",
      "Using zlib version: 1.2.11\n",
      "Warning: Expected at least 2 parts in INFO entry: ID=PV4,Number=4,Type=Float,Description=\"P-values for strand bias, baseQ bias, mapQ bias and tail distance bias\">\n",
      "Warning: Expected at least 2 parts in INFO entry: ID=PV4,Number=4,Type=Float,Description=\"P-values for strand bias, baseQ bias, mapQ bias and tail distance bias\">\n",
      "Warning: Expected at least 2 parts in INFO entry: ID=DP4,Number=4,Type=Integer,Description=\"Number of high-quality ref-forward , ref-reverse, alt-forward and alt-reverse bases\">\n",
      "Warning: Expected at least 2 parts in INFO entry: ID=DP4,Number=4,Type=Integer,Description=\"Number of high-quality ref-forward , ref-reverse, alt-forward and alt-reverse bases\">\n",
      "After filtering, kept 169 out of 169 Individuals\n",
      "Writing 012 matrix files ... Done.\n",
      "After filtering, kept 9973 out of a possible 9973 Sites\n",
      "Run Time = 1.00 seconds\n"
     ]
    }
   ],
   "source": [
    "f = os.path.join(analysis_dir, \"final_snps.recode.vcf\")\n",
    "!$vcftools --gzvcf {f} \\\n",
    "--out {f} \\\n",
    "--012"
   ]
  },
  {
   "cell_type": "markdown",
   "metadata": {},
   "source": [
    "# Get coverage per individual"
   ]
  },
  {
   "cell_type": "code",
   "execution_count": 80,
   "metadata": {
    "scrolled": true
   },
   "outputs": [
    {
     "name": "stdout",
     "output_type": "stream",
     "text": [
      "\n",
      "VCFtools - 0.1.16\n",
      "(C) Adam Auton and Anthony Marcketta 2009\n",
      "\n",
      "Parameters as interpreted:\n",
      "\t--gzvcf /data/gpfs/assoc/denovo/tfaske/sagebrush/SNPcall/AV2/filtering/final_snps.recode.vcf\n",
      "\t--depth\n",
      "\t--out /data/gpfs/assoc/denovo/tfaske/sagebrush/SNPcall/AV2/filtering/final_snps.recode.vcf\n",
      "\n",
      "Using zlib version: 1.2.11\n",
      "Warning: Expected at least 2 parts in INFO entry: ID=PV4,Number=4,Type=Float,Description=\"P-values for strand bias, baseQ bias, mapQ bias and tail distance bias\">\n",
      "Warning: Expected at least 2 parts in INFO entry: ID=PV4,Number=4,Type=Float,Description=\"P-values for strand bias, baseQ bias, mapQ bias and tail distance bias\">\n",
      "Warning: Expected at least 2 parts in INFO entry: ID=DP4,Number=4,Type=Integer,Description=\"Number of high-quality ref-forward , ref-reverse, alt-forward and alt-reverse bases\">\n",
      "Warning: Expected at least 2 parts in INFO entry: ID=DP4,Number=4,Type=Integer,Description=\"Number of high-quality ref-forward , ref-reverse, alt-forward and alt-reverse bases\">\n",
      "After filtering, kept 169 out of 169 Individuals\n",
      "Outputting Mean Depth by Individual\n",
      "After filtering, kept 9973 out of a possible 9973 Sites\n",
      "Run Time = 0.00 seconds\n"
     ]
    }
   ],
   "source": [
    "f = os.path.join(analysis_dir, \"final_snps.recode.vcf\")\n",
    "!$vcftools --gzvcf {f} \\\n",
    "--out {f} \\\n",
    "--depth"
   ]
  },
  {
   "cell_type": "code",
   "execution_count": 81,
   "metadata": {},
   "outputs": [
    {
     "data": {
      "text/html": [
       "<div>\n",
       "<style scoped>\n",
       "    .dataframe tbody tr th:only-of-type {\n",
       "        vertical-align: middle;\n",
       "    }\n",
       "\n",
       "    .dataframe tbody tr th {\n",
       "        vertical-align: top;\n",
       "    }\n",
       "\n",
       "    .dataframe thead th {\n",
       "        text-align: right;\n",
       "    }\n",
       "</style>\n",
       "<table border=\"1\" class=\"dataframe\">\n",
       "  <thead>\n",
       "    <tr style=\"text-align: right;\">\n",
       "      <th></th>\n",
       "      <th>INDV</th>\n",
       "      <th>N_SITES</th>\n",
       "      <th>MEAN_DEPTH</th>\n",
       "    </tr>\n",
       "  </thead>\n",
       "  <tbody>\n",
       "    <tr>\n",
       "      <th>0</th>\n",
       "      <td>AV2_AN_1</td>\n",
       "      <td>9973</td>\n",
       "      <td>3.60072</td>\n",
       "    </tr>\n",
       "    <tr>\n",
       "      <th>1</th>\n",
       "      <td>AV2_AN_2</td>\n",
       "      <td>9973</td>\n",
       "      <td>2.95197</td>\n",
       "    </tr>\n",
       "    <tr>\n",
       "      <th>2</th>\n",
       "      <td>AV2_AN_3</td>\n",
       "      <td>9973</td>\n",
       "      <td>2.45002</td>\n",
       "    </tr>\n",
       "    <tr>\n",
       "      <th>3</th>\n",
       "      <td>AV2_AN_4</td>\n",
       "      <td>9973</td>\n",
       "      <td>2.70480</td>\n",
       "    </tr>\n",
       "    <tr>\n",
       "      <th>4</th>\n",
       "      <td>AV2_AN_5</td>\n",
       "      <td>9973</td>\n",
       "      <td>2.24827</td>\n",
       "    </tr>\n",
       "  </tbody>\n",
       "</table>\n",
       "</div>"
      ],
      "text/plain": [
       "       INDV  N_SITES  MEAN_DEPTH\n",
       "0  AV2_AN_1     9973     3.60072\n",
       "1  AV2_AN_2     9973     2.95197\n",
       "2  AV2_AN_3     9973     2.45002\n",
       "3  AV2_AN_4     9973     2.70480\n",
       "4  AV2_AN_5     9973     2.24827"
      ]
     },
     "execution_count": 81,
     "metadata": {},
     "output_type": "execute_result"
    }
   ],
   "source": [
    "depth_file = os.path.join(analysis_dir, \"final_snps.recode.vcf.idepth\")\n",
    "depth_df = pd.read_csv(depth_file, sep=\"\\t\")\n",
    "depth_df.head()"
   ]
  },
  {
   "cell_type": "code",
   "execution_count": 82,
   "metadata": {},
   "outputs": [
    {
     "data": {
      "text/plain": [
       "count    169.000000\n",
       "mean       3.221873\n",
       "std        0.937762\n",
       "min        1.465460\n",
       "25%        2.505260\n",
       "50%        3.060960\n",
       "75%        3.600720\n",
       "max        6.261310\n",
       "Name: MEAN_DEPTH, dtype: float64"
      ]
     },
     "execution_count": 82,
     "metadata": {},
     "output_type": "execute_result"
    }
   ],
   "source": [
    "depth_df.MEAN_DEPTH.describe()"
   ]
  },
  {
   "cell_type": "markdown",
   "metadata": {},
   "source": [
    "# Remove unnecessary files"
   ]
  },
  {
   "cell_type": "code",
   "execution_count": 83,
   "metadata": {},
   "outputs": [
    {
     "name": "stdout",
     "output_type": "stream",
     "text": [
      "rm: cannot remove ‘snps*’: No such file or directory\r\n"
     ]
    }
   ],
   "source": [
    "!rm snps*"
   ]
  },
  {
   "cell_type": "code",
   "execution_count": 84,
   "metadata": {},
   "outputs": [],
   "source": [
    "!rm *vcf"
   ]
  },
  {
   "cell_type": "code",
   "execution_count": null,
   "metadata": {},
   "outputs": [],
   "source": []
  },
  {
   "cell_type": "code",
   "execution_count": null,
   "metadata": {},
   "outputs": [],
   "source": []
  }
 ],
 "metadata": {
  "kernelspec": {
   "display_name": "Python 3",
   "language": "python",
   "name": "python3"
  },
  "language_info": {
   "codemirror_mode": {
    "name": "ipython",
    "version": 3
   },
   "file_extension": ".py",
   "mimetype": "text/x-python",
   "name": "python",
   "nbconvert_exporter": "python",
   "pygments_lexer": "ipython3",
   "version": "3.6.7"
  }
 },
 "nbformat": 4,
 "nbformat_minor": 1
}
